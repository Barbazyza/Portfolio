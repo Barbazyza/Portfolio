{
 "cells": [
  {
   "cell_type": "markdown",
   "metadata": {},
   "source": [
    "1. [Приоритизация гипотез](#start)\n",
    "    * [Просмотр датасета](#Viewing_data)\n",
    "    * [Приоритизация гипотез фреймворком ICE](#ICE)\n",
    "    * [Приоритизация гипотез фреймворком RICE](#RICE)\n",
    "    \n",
    "    \n",
    "    \n",
    "2. [Анализ A/B-теста](#A/B)\n",
    "    * [Кумулятивная выручка по группам](#a)\n",
    "    * [Кумулятивный средний чек по группам](#b)\n",
    "    * [Кумулятивный средний чек группы B к группе A](#c)\n",
    "    * [Кумулятивное среднее количество заказов по группам](#d)\n",
    "    * [Кумулятивное среднее количество заказовов группы B к группе A](#e)\n",
    "    * [График количества заказов по пользователям](#f)\n",
    "    * [95-й и 99-й перцентили количества заказов на пользователя. Выбор границы для определения аномальных пользователей](#g)\n",
    "    * [Cтоимость заказов](#h)\n",
    "    * [95-й и 99-й перцентили стоимости заказов. Выбор границы для определения аномальных заказов](#i)\n",
    "    * [Статистическая значимость различий в среднем количестве заказов между группами по «сырым» данным](#j)\n",
    "    * [Статистическая значимость различий в среднем чеке заказа между группами по «сырым» данным](#k)\n",
    "    * [Статистическая значимость различий в среднем количестве заказов между группами по «очищенным» данным](#l)\n",
    "    * [Статистическая значимость различий в среднем чеке заказа между группами по «очищенным» данным](#m)\n",
    "    * [Решение по результатам теста](#n)\n",
    "    \n",
    "\n",
    "3. [Общий вывод](#aa)   "
   ]
  },
  {
   "cell_type": "markdown",
   "metadata": {},
   "source": [
    "## Приоритизация гипотез\n",
    "<a id=\"start\"></a> "
   ]
  },
  {
   "cell_type": "code",
   "execution_count": 1,
   "metadata": {},
   "outputs": [],
   "source": [
    "import pandas as pd #импортирование библиотек\n",
    "import datetime as dt\n",
    "import numpy as np\n",
    "import matplotlib.pyplot as plt\n",
    "import scipy.stats as stats"
   ]
  },
  {
   "cell_type": "markdown",
   "metadata": {},
   "source": [
    "### Просмотр датасета \n",
    "<a id=\"Viewing_data\"></a> "
   ]
  },
  {
   "cell_type": "code",
   "execution_count": 2,
   "metadata": {},
   "outputs": [],
   "source": [
    "hypothesis = pd.read_csv('...') #чтение датасета"
   ]
  },
  {
   "cell_type": "code",
   "execution_count": 3,
   "metadata": {
    "scrolled": true
   },
   "outputs": [
    {
     "data": {
      "text/html": [
       "<div>\n",
       "<style scoped>\n",
       "    .dataframe tbody tr th:only-of-type {\n",
       "        vertical-align: middle;\n",
       "    }\n",
       "\n",
       "    .dataframe tbody tr th {\n",
       "        vertical-align: top;\n",
       "    }\n",
       "\n",
       "    .dataframe thead th {\n",
       "        text-align: right;\n",
       "    }\n",
       "</style>\n",
       "<table border=\"1\" class=\"dataframe\">\n",
       "  <thead>\n",
       "    <tr style=\"text-align: right;\">\n",
       "      <th></th>\n",
       "      <th>Hypothesis</th>\n",
       "      <th>Reach</th>\n",
       "      <th>Impact</th>\n",
       "      <th>Confidence</th>\n",
       "      <th>Efforts</th>\n",
       "    </tr>\n",
       "  </thead>\n",
       "  <tbody>\n",
       "    <tr>\n",
       "      <th>0</th>\n",
       "      <td>Добавить два новых канала привлечения трафика, что позволит привлекать на 30% больше пользователей</td>\n",
       "      <td>3</td>\n",
       "      <td>10</td>\n",
       "      <td>8</td>\n",
       "      <td>6</td>\n",
       "    </tr>\n",
       "    <tr>\n",
       "      <th>1</th>\n",
       "      <td>Запустить собственную службу доставки, что сократит срок доставки заказов</td>\n",
       "      <td>2</td>\n",
       "      <td>5</td>\n",
       "      <td>4</td>\n",
       "      <td>10</td>\n",
       "    </tr>\n",
       "    <tr>\n",
       "      <th>2</th>\n",
       "      <td>Добавить блоки рекомендаций товаров на сайт интернет магазина, чтобы повысить конверсию и средни...</td>\n",
       "      <td>8</td>\n",
       "      <td>3</td>\n",
       "      <td>7</td>\n",
       "      <td>3</td>\n",
       "    </tr>\n",
       "    <tr>\n",
       "      <th>3</th>\n",
       "      <td>Изменить структура категорий, что увеличит конверсию, т.к. пользователи быстрее найдут нужный товар</td>\n",
       "      <td>8</td>\n",
       "      <td>3</td>\n",
       "      <td>3</td>\n",
       "      <td>8</td>\n",
       "    </tr>\n",
       "    <tr>\n",
       "      <th>4</th>\n",
       "      <td>Изменить цвет фона главной страницы, чтобы увеличить вовлеченность пользователей</td>\n",
       "      <td>3</td>\n",
       "      <td>1</td>\n",
       "      <td>1</td>\n",
       "      <td>1</td>\n",
       "    </tr>\n",
       "  </tbody>\n",
       "</table>\n",
       "</div>"
      ],
      "text/plain": [
       "                                                                                            Hypothesis  \\\n",
       "0   Добавить два новых канала привлечения трафика, что позволит привлекать на 30% больше пользователей   \n",
       "1                            Запустить собственную службу доставки, что сократит срок доставки заказов   \n",
       "2  Добавить блоки рекомендаций товаров на сайт интернет магазина, чтобы повысить конверсию и средни...   \n",
       "3  Изменить структура категорий, что увеличит конверсию, т.к. пользователи быстрее найдут нужный товар   \n",
       "4                     Изменить цвет фона главной страницы, чтобы увеличить вовлеченность пользователей   \n",
       "\n",
       "   Reach  Impact  Confidence  Efforts  \n",
       "0      3      10           8        6  \n",
       "1      2       5           4       10  \n",
       "2      8       3           7        3  \n",
       "3      8       3           3        8  \n",
       "4      3       1           1        1  "
      ]
     },
     "execution_count": 3,
     "metadata": {},
     "output_type": "execute_result"
    }
   ],
   "source": [
    "pd.options.display.max_colwidth = 100 #просмотр датасета\n",
    "hypothesis.head(5)"
   ]
  },
  {
   "cell_type": "code",
   "execution_count": 4,
   "metadata": {},
   "outputs": [
    {
     "name": "stdout",
     "output_type": "stream",
     "text": [
      "<class 'pandas.core.frame.DataFrame'>\n",
      "RangeIndex: 9 entries, 0 to 8\n",
      "Data columns (total 5 columns):\n",
      " #   Column      Non-Null Count  Dtype \n",
      "---  ------      --------------  ----- \n",
      " 0   Hypothesis  9 non-null      object\n",
      " 1   Reach       9 non-null      int64 \n",
      " 2   Impact      9 non-null      int64 \n",
      " 3   Confidence  9 non-null      int64 \n",
      " 4   Efforts     9 non-null      int64 \n",
      "dtypes: int64(4), object(1)\n",
      "memory usage: 488.0+ bytes\n"
     ]
    }
   ],
   "source": [
    "hypothesis.info() #просмотр информации"
   ]
  },
  {
   "cell_type": "markdown",
   "metadata": {},
   "source": [
    "`Hypothesis` — краткое описание гипотезы;\n",
    "\n",
    "`Reach` — охват пользователей по 10-балльной шкале;\n",
    "\n",
    "`Impact` — влияние на пользователей по 10-балльной шкале;\n",
    "\n",
    "`Confidence` — уверенность в гипотезе по 10-балльной шкале;\n",
    "\n",
    "`Efforts` — затраты ресурсов на проверку гипотезы по 10-балльной шкале. Чем больше значение Efforts, тем дороже проверка гипотезы."
   ]
  },
  {
   "cell_type": "markdown",
   "metadata": {},
   "source": [
    "**Вывод**: "
   ]
  },
  {
   "cell_type": "markdown",
   "metadata": {},
   "source": [
    "В представленном датасете нет пропусков в столбца. Все типы данных правильные. "
   ]
  },
  {
   "cell_type": "markdown",
   "metadata": {},
   "source": [
    "### Приоритизация гипотез фреймворком ICE\n",
    "<a id=\"ICE\"></a> "
   ]
  },
  {
   "cell_type": "code",
   "execution_count": 5,
   "metadata": {},
   "outputs": [],
   "source": [
    "hypothesis['Ice']  = (hypothesis['Impact']*hypothesis['Confidence'])/hypothesis['Efforts'] #вычисление ICE\n",
    "hypothesis['Ice'] = hypothesis['Ice'].round(2) #округление ICE до 2х знаков"
   ]
  },
  {
   "cell_type": "code",
   "execution_count": 6,
   "metadata": {},
   "outputs": [
    {
     "data": {
      "text/html": [
       "<div>\n",
       "<style scoped>\n",
       "    .dataframe tbody tr th:only-of-type {\n",
       "        vertical-align: middle;\n",
       "    }\n",
       "\n",
       "    .dataframe tbody tr th {\n",
       "        vertical-align: top;\n",
       "    }\n",
       "\n",
       "    .dataframe thead th {\n",
       "        text-align: right;\n",
       "    }\n",
       "</style>\n",
       "<table border=\"1\" class=\"dataframe\">\n",
       "  <thead>\n",
       "    <tr style=\"text-align: right;\">\n",
       "      <th></th>\n",
       "      <th>Hypothesis</th>\n",
       "      <th>Reach</th>\n",
       "      <th>Impact</th>\n",
       "      <th>Confidence</th>\n",
       "      <th>Efforts</th>\n",
       "      <th>Ice</th>\n",
       "    </tr>\n",
       "  </thead>\n",
       "  <tbody>\n",
       "    <tr>\n",
       "      <th>0</th>\n",
       "      <td>Добавить два новых канала привлечения трафика, что позволит привлекать на 30% больше пользователей</td>\n",
       "      <td>3</td>\n",
       "      <td>10</td>\n",
       "      <td>8</td>\n",
       "      <td>6</td>\n",
       "      <td>13.33</td>\n",
       "    </tr>\n",
       "    <tr>\n",
       "      <th>1</th>\n",
       "      <td>Запустить собственную службу доставки, что сократит срок доставки заказов</td>\n",
       "      <td>2</td>\n",
       "      <td>5</td>\n",
       "      <td>4</td>\n",
       "      <td>10</td>\n",
       "      <td>2.00</td>\n",
       "    </tr>\n",
       "    <tr>\n",
       "      <th>2</th>\n",
       "      <td>Добавить блоки рекомендаций товаров на сайт интернет магазина, чтобы повысить конверсию и средни...</td>\n",
       "      <td>8</td>\n",
       "      <td>3</td>\n",
       "      <td>7</td>\n",
       "      <td>3</td>\n",
       "      <td>7.00</td>\n",
       "    </tr>\n",
       "    <tr>\n",
       "      <th>3</th>\n",
       "      <td>Изменить структура категорий, что увеличит конверсию, т.к. пользователи быстрее найдут нужный товар</td>\n",
       "      <td>8</td>\n",
       "      <td>3</td>\n",
       "      <td>3</td>\n",
       "      <td>8</td>\n",
       "      <td>1.12</td>\n",
       "    </tr>\n",
       "    <tr>\n",
       "      <th>4</th>\n",
       "      <td>Изменить цвет фона главной страницы, чтобы увеличить вовлеченность пользователей</td>\n",
       "      <td>3</td>\n",
       "      <td>1</td>\n",
       "      <td>1</td>\n",
       "      <td>1</td>\n",
       "      <td>1.00</td>\n",
       "    </tr>\n",
       "  </tbody>\n",
       "</table>\n",
       "</div>"
      ],
      "text/plain": [
       "                                                                                            Hypothesis  \\\n",
       "0   Добавить два новых канала привлечения трафика, что позволит привлекать на 30% больше пользователей   \n",
       "1                            Запустить собственную службу доставки, что сократит срок доставки заказов   \n",
       "2  Добавить блоки рекомендаций товаров на сайт интернет магазина, чтобы повысить конверсию и средни...   \n",
       "3  Изменить структура категорий, что увеличит конверсию, т.к. пользователи быстрее найдут нужный товар   \n",
       "4                     Изменить цвет фона главной страницы, чтобы увеличить вовлеченность пользователей   \n",
       "\n",
       "   Reach  Impact  Confidence  Efforts    Ice  \n",
       "0      3      10           8        6  13.33  \n",
       "1      2       5           4       10   2.00  \n",
       "2      8       3           7        3   7.00  \n",
       "3      8       3           3        8   1.12  \n",
       "4      3       1           1        1   1.00  "
      ]
     },
     "execution_count": 6,
     "metadata": {},
     "output_type": "execute_result"
    }
   ],
   "source": [
    "hypothesis.head(5) #просмотр получившейся таблицы"
   ]
  },
  {
   "cell_type": "code",
   "execution_count": 7,
   "metadata": {},
   "outputs": [
    {
     "data": {
      "text/html": [
       "<div>\n",
       "<style scoped>\n",
       "    .dataframe tbody tr th:only-of-type {\n",
       "        vertical-align: middle;\n",
       "    }\n",
       "\n",
       "    .dataframe tbody tr th {\n",
       "        vertical-align: top;\n",
       "    }\n",
       "\n",
       "    .dataframe thead th {\n",
       "        text-align: right;\n",
       "    }\n",
       "</style>\n",
       "<table border=\"1\" class=\"dataframe\">\n",
       "  <thead>\n",
       "    <tr style=\"text-align: right;\">\n",
       "      <th></th>\n",
       "      <th>Hypothesis</th>\n",
       "      <th>Ice</th>\n",
       "    </tr>\n",
       "  </thead>\n",
       "  <tbody>\n",
       "    <tr>\n",
       "      <th>8</th>\n",
       "      <td>Запустить акцию, дающую скидку на товар в день рождения</td>\n",
       "      <td>16.20</td>\n",
       "    </tr>\n",
       "    <tr>\n",
       "      <th>0</th>\n",
       "      <td>Добавить два новых канала привлечения трафика, что позволит привлекать на 30% больше пользователей</td>\n",
       "      <td>13.33</td>\n",
       "    </tr>\n",
       "    <tr>\n",
       "      <th>7</th>\n",
       "      <td>Добавить форму подписки на все основные страницы, чтобы собрать базу клиентов для email-рассылок</td>\n",
       "      <td>11.20</td>\n",
       "    </tr>\n",
       "    <tr>\n",
       "      <th>6</th>\n",
       "      <td>Показать на главной странице баннеры с актуальными акциями и распродажами, чтобы увеличить конве...</td>\n",
       "      <td>8.00</td>\n",
       "    </tr>\n",
       "    <tr>\n",
       "      <th>2</th>\n",
       "      <td>Добавить блоки рекомендаций товаров на сайт интернет магазина, чтобы повысить конверсию и средни...</td>\n",
       "      <td>7.00</td>\n",
       "    </tr>\n",
       "  </tbody>\n",
       "</table>\n",
       "</div>"
      ],
      "text/plain": [
       "                                                                                            Hypothesis  \\\n",
       "8                                              Запустить акцию, дающую скидку на товар в день рождения   \n",
       "0   Добавить два новых канала привлечения трафика, что позволит привлекать на 30% больше пользователей   \n",
       "7     Добавить форму подписки на все основные страницы, чтобы собрать базу клиентов для email-рассылок   \n",
       "6  Показать на главной странице баннеры с актуальными акциями и распродажами, чтобы увеличить конве...   \n",
       "2  Добавить блоки рекомендаций товаров на сайт интернет магазина, чтобы повысить конверсию и средни...   \n",
       "\n",
       "     Ice  \n",
       "8  16.20  \n",
       "0  13.33  \n",
       "7  11.20  \n",
       "6   8.00  \n",
       "2   7.00  "
      ]
     },
     "execution_count": 7,
     "metadata": {},
     "output_type": "execute_result"
    }
   ],
   "source": [
    "hypothesis[['Hypothesis','Ice']].sort_values('Ice',ascending = False).head(5) #сортировка по параметру ICE"
   ]
  },
  {
   "cell_type": "markdown",
   "metadata": {},
   "source": [
    "### Приоритизация гипотез фреймворком RICE\n",
    "<a id=\"RICE\"></a> "
   ]
  },
  {
   "cell_type": "code",
   "execution_count": 8,
   "metadata": {},
   "outputs": [],
   "source": [
    "hypothesis['Rice'] = (hypothesis['Reach'] * hypothesis['Impact']*hypothesis['Confidence'])/hypothesis['Efforts'] \n",
    "#вычисление RICE"
   ]
  },
  {
   "cell_type": "code",
   "execution_count": 9,
   "metadata": {},
   "outputs": [
    {
     "data": {
      "text/html": [
       "<style  type=\"text/css\" >\n",
       "#T_a1204_row0_col5{\n",
       "            width:  10em;\n",
       "             height:  80%;\n",
       "            background:  linear-gradient(90deg,#d65f5f 81.1%, transparent 81.1%);\n",
       "        }#T_a1204_row0_col6,#T_a1204_row6_col6{\n",
       "            width:  10em;\n",
       "             height:  80%;\n",
       "            background:  linear-gradient(90deg,#d65f5f 33.9%, transparent 33.9%);\n",
       "        }#T_a1204_row1_col5{\n",
       "            width:  10em;\n",
       "             height:  80%;\n",
       "            background:  linear-gradient(90deg,#d65f5f 6.6%, transparent 6.6%);\n",
       "        }#T_a1204_row1_col6,#T_a1204_row5_col6{\n",
       "            width:  10em;\n",
       "             height:  80%;\n",
       "            background:  linear-gradient(90deg,#d65f5f 0.9%, transparent 0.9%);\n",
       "        }#T_a1204_row2_col5{\n",
       "            width:  10em;\n",
       "             height:  80%;\n",
       "            background:  linear-gradient(90deg,#d65f5f 39.5%, transparent 39.5%);\n",
       "        }#T_a1204_row2_col6{\n",
       "            width:  10em;\n",
       "             height:  80%;\n",
       "            background:  linear-gradient(90deg,#d65f5f 48.6%, transparent 48.6%);\n",
       "        }#T_a1204_row3_col5{\n",
       "            width:  10em;\n",
       "             height:  80%;\n",
       "            background:  linear-gradient(90deg,#d65f5f 0.8%, transparent 0.8%);\n",
       "        }#T_a1204_row3_col6{\n",
       "            width:  10em;\n",
       "             height:  80%;\n",
       "            background:  linear-gradient(90deg,#d65f5f 5.5%, transparent 5.5%);\n",
       "        }#T_a1204_row4_col5,#T_a1204_row4_col6{\n",
       "            width:  10em;\n",
       "             height:  80%;\n",
       "        }#T_a1204_row5_col5{\n",
       "            width:  10em;\n",
       "             height:  80%;\n",
       "            background:  linear-gradient(90deg,#d65f5f 2.2%, transparent 2.2%);\n",
       "        }#T_a1204_row6_col5{\n",
       "            width:  10em;\n",
       "             height:  80%;\n",
       "            background:  linear-gradient(90deg,#d65f5f 46.1%, transparent 46.1%);\n",
       "        }#T_a1204_row7_col5{\n",
       "            width:  10em;\n",
       "             height:  80%;\n",
       "            background:  linear-gradient(90deg,#d65f5f 67.1%, transparent 67.1%);\n",
       "        }#T_a1204_row7_col6,#T_a1204_row8_col5{\n",
       "            width:  10em;\n",
       "             height:  80%;\n",
       "            background:  linear-gradient(90deg,#d65f5f 100.0%, transparent 100.0%);\n",
       "        }#T_a1204_row8_col6{\n",
       "            width:  10em;\n",
       "             height:  80%;\n",
       "            background:  linear-gradient(90deg,#d65f5f 12.1%, transparent 12.1%);\n",
       "        }</style><table id=\"T_a1204_\" ><thead>    <tr>        <th class=\"blank level0\" ></th>        <th class=\"col_heading level0 col0\" >Hypothesis</th>        <th class=\"col_heading level0 col1\" >Reach</th>        <th class=\"col_heading level0 col2\" >Impact</th>        <th class=\"col_heading level0 col3\" >Confidence</th>        <th class=\"col_heading level0 col4\" >Efforts</th>        <th class=\"col_heading level0 col5\" >Ice</th>        <th class=\"col_heading level0 col6\" >Rice</th>    </tr></thead><tbody>\n",
       "                <tr>\n",
       "                        <th id=\"T_a1204_level0_row0\" class=\"row_heading level0 row0\" >0</th>\n",
       "                        <td id=\"T_a1204_row0_col0\" class=\"data row0 col0\" >Добавить два новых канала привлечения трафика, что позволит привлекать на 30% больше пользователей</td>\n",
       "                        <td id=\"T_a1204_row0_col1\" class=\"data row0 col1\" >3</td>\n",
       "                        <td id=\"T_a1204_row0_col2\" class=\"data row0 col2\" >10</td>\n",
       "                        <td id=\"T_a1204_row0_col3\" class=\"data row0 col3\" >8</td>\n",
       "                        <td id=\"T_a1204_row0_col4\" class=\"data row0 col4\" >6</td>\n",
       "                        <td id=\"T_a1204_row0_col5\" class=\"data row0 col5\" >13.330000</td>\n",
       "                        <td id=\"T_a1204_row0_col6\" class=\"data row0 col6\" >40.000000</td>\n",
       "            </tr>\n",
       "            <tr>\n",
       "                        <th id=\"T_a1204_level0_row1\" class=\"row_heading level0 row1\" >1</th>\n",
       "                        <td id=\"T_a1204_row1_col0\" class=\"data row1 col0\" >Запустить собственную службу доставки, что сократит срок доставки заказов</td>\n",
       "                        <td id=\"T_a1204_row1_col1\" class=\"data row1 col1\" >2</td>\n",
       "                        <td id=\"T_a1204_row1_col2\" class=\"data row1 col2\" >5</td>\n",
       "                        <td id=\"T_a1204_row1_col3\" class=\"data row1 col3\" >4</td>\n",
       "                        <td id=\"T_a1204_row1_col4\" class=\"data row1 col4\" >10</td>\n",
       "                        <td id=\"T_a1204_row1_col5\" class=\"data row1 col5\" >2.000000</td>\n",
       "                        <td id=\"T_a1204_row1_col6\" class=\"data row1 col6\" >4.000000</td>\n",
       "            </tr>\n",
       "            <tr>\n",
       "                        <th id=\"T_a1204_level0_row2\" class=\"row_heading level0 row2\" >2</th>\n",
       "                        <td id=\"T_a1204_row2_col0\" class=\"data row2 col0\" >Добавить блоки рекомендаций товаров на сайт интернет магазина, чтобы повысить конверсию и средний чек заказа</td>\n",
       "                        <td id=\"T_a1204_row2_col1\" class=\"data row2 col1\" >8</td>\n",
       "                        <td id=\"T_a1204_row2_col2\" class=\"data row2 col2\" >3</td>\n",
       "                        <td id=\"T_a1204_row2_col3\" class=\"data row2 col3\" >7</td>\n",
       "                        <td id=\"T_a1204_row2_col4\" class=\"data row2 col4\" >3</td>\n",
       "                        <td id=\"T_a1204_row2_col5\" class=\"data row2 col5\" >7.000000</td>\n",
       "                        <td id=\"T_a1204_row2_col6\" class=\"data row2 col6\" >56.000000</td>\n",
       "            </tr>\n",
       "            <tr>\n",
       "                        <th id=\"T_a1204_level0_row3\" class=\"row_heading level0 row3\" >3</th>\n",
       "                        <td id=\"T_a1204_row3_col0\" class=\"data row3 col0\" >Изменить структура категорий, что увеличит конверсию, т.к. пользователи быстрее найдут нужный товар</td>\n",
       "                        <td id=\"T_a1204_row3_col1\" class=\"data row3 col1\" >8</td>\n",
       "                        <td id=\"T_a1204_row3_col2\" class=\"data row3 col2\" >3</td>\n",
       "                        <td id=\"T_a1204_row3_col3\" class=\"data row3 col3\" >3</td>\n",
       "                        <td id=\"T_a1204_row3_col4\" class=\"data row3 col4\" >8</td>\n",
       "                        <td id=\"T_a1204_row3_col5\" class=\"data row3 col5\" >1.120000</td>\n",
       "                        <td id=\"T_a1204_row3_col6\" class=\"data row3 col6\" >9.000000</td>\n",
       "            </tr>\n",
       "            <tr>\n",
       "                        <th id=\"T_a1204_level0_row4\" class=\"row_heading level0 row4\" >4</th>\n",
       "                        <td id=\"T_a1204_row4_col0\" class=\"data row4 col0\" >Изменить цвет фона главной страницы, чтобы увеличить вовлеченность пользователей</td>\n",
       "                        <td id=\"T_a1204_row4_col1\" class=\"data row4 col1\" >3</td>\n",
       "                        <td id=\"T_a1204_row4_col2\" class=\"data row4 col2\" >1</td>\n",
       "                        <td id=\"T_a1204_row4_col3\" class=\"data row4 col3\" >1</td>\n",
       "                        <td id=\"T_a1204_row4_col4\" class=\"data row4 col4\" >1</td>\n",
       "                        <td id=\"T_a1204_row4_col5\" class=\"data row4 col5\" >1.000000</td>\n",
       "                        <td id=\"T_a1204_row4_col6\" class=\"data row4 col6\" >3.000000</td>\n",
       "            </tr>\n",
       "            <tr>\n",
       "                        <th id=\"T_a1204_level0_row5\" class=\"row_heading level0 row5\" >5</th>\n",
       "                        <td id=\"T_a1204_row5_col0\" class=\"data row5 col0\" >Добавить страницу отзывов клиентов о магазине, что позволит увеличить количество заказов</td>\n",
       "                        <td id=\"T_a1204_row5_col1\" class=\"data row5 col1\" >3</td>\n",
       "                        <td id=\"T_a1204_row5_col2\" class=\"data row5 col2\" >2</td>\n",
       "                        <td id=\"T_a1204_row5_col3\" class=\"data row5 col3\" >2</td>\n",
       "                        <td id=\"T_a1204_row5_col4\" class=\"data row5 col4\" >3</td>\n",
       "                        <td id=\"T_a1204_row5_col5\" class=\"data row5 col5\" >1.330000</td>\n",
       "                        <td id=\"T_a1204_row5_col6\" class=\"data row5 col6\" >4.000000</td>\n",
       "            </tr>\n",
       "            <tr>\n",
       "                        <th id=\"T_a1204_level0_row6\" class=\"row_heading level0 row6\" >6</th>\n",
       "                        <td id=\"T_a1204_row6_col0\" class=\"data row6 col0\" >Показать на главной странице баннеры с актуальными акциями и распродажами, чтобы увеличить конверсию</td>\n",
       "                        <td id=\"T_a1204_row6_col1\" class=\"data row6 col1\" >5</td>\n",
       "                        <td id=\"T_a1204_row6_col2\" class=\"data row6 col2\" >3</td>\n",
       "                        <td id=\"T_a1204_row6_col3\" class=\"data row6 col3\" >8</td>\n",
       "                        <td id=\"T_a1204_row6_col4\" class=\"data row6 col4\" >3</td>\n",
       "                        <td id=\"T_a1204_row6_col5\" class=\"data row6 col5\" >8.000000</td>\n",
       "                        <td id=\"T_a1204_row6_col6\" class=\"data row6 col6\" >40.000000</td>\n",
       "            </tr>\n",
       "            <tr>\n",
       "                        <th id=\"T_a1204_level0_row7\" class=\"row_heading level0 row7\" >7</th>\n",
       "                        <td id=\"T_a1204_row7_col0\" class=\"data row7 col0\" >Добавить форму подписки на все основные страницы, чтобы собрать базу клиентов для email-рассылок</td>\n",
       "                        <td id=\"T_a1204_row7_col1\" class=\"data row7 col1\" >10</td>\n",
       "                        <td id=\"T_a1204_row7_col2\" class=\"data row7 col2\" >7</td>\n",
       "                        <td id=\"T_a1204_row7_col3\" class=\"data row7 col3\" >8</td>\n",
       "                        <td id=\"T_a1204_row7_col4\" class=\"data row7 col4\" >5</td>\n",
       "                        <td id=\"T_a1204_row7_col5\" class=\"data row7 col5\" >11.200000</td>\n",
       "                        <td id=\"T_a1204_row7_col6\" class=\"data row7 col6\" >112.000000</td>\n",
       "            </tr>\n",
       "            <tr>\n",
       "                        <th id=\"T_a1204_level0_row8\" class=\"row_heading level0 row8\" >8</th>\n",
       "                        <td id=\"T_a1204_row8_col0\" class=\"data row8 col0\" >Запустить акцию, дающую скидку на товар в день рождения</td>\n",
       "                        <td id=\"T_a1204_row8_col1\" class=\"data row8 col1\" >1</td>\n",
       "                        <td id=\"T_a1204_row8_col2\" class=\"data row8 col2\" >9</td>\n",
       "                        <td id=\"T_a1204_row8_col3\" class=\"data row8 col3\" >9</td>\n",
       "                        <td id=\"T_a1204_row8_col4\" class=\"data row8 col4\" >5</td>\n",
       "                        <td id=\"T_a1204_row8_col5\" class=\"data row8 col5\" >16.200000</td>\n",
       "                        <td id=\"T_a1204_row8_col6\" class=\"data row8 col6\" >16.200000</td>\n",
       "            </tr>\n",
       "    </tbody></table>"
      ],
      "text/plain": [
       "<pandas.io.formats.style.Styler at 0x7fc52bd42280>"
      ]
     },
     "execution_count": 9,
     "metadata": {},
     "output_type": "execute_result"
    }
   ],
   "source": [
    "hypothesis.style.bar(subset=['Ice', 'Rice'], color='#d65f5f') #просмотр получившейся таблицы"
   ]
  },
  {
   "cell_type": "code",
   "execution_count": 10,
   "metadata": {},
   "outputs": [
    {
     "data": {
      "text/html": [
       "<div>\n",
       "<style scoped>\n",
       "    .dataframe tbody tr th:only-of-type {\n",
       "        vertical-align: middle;\n",
       "    }\n",
       "\n",
       "    .dataframe tbody tr th {\n",
       "        vertical-align: top;\n",
       "    }\n",
       "\n",
       "    .dataframe thead th {\n",
       "        text-align: right;\n",
       "    }\n",
       "</style>\n",
       "<table border=\"1\" class=\"dataframe\">\n",
       "  <thead>\n",
       "    <tr style=\"text-align: right;\">\n",
       "      <th></th>\n",
       "      <th>Hypothesis</th>\n",
       "      <th>Rice</th>\n",
       "    </tr>\n",
       "  </thead>\n",
       "  <tbody>\n",
       "    <tr>\n",
       "      <th>7</th>\n",
       "      <td>Добавить форму подписки на все основные страницы, чтобы собрать базу клиентов для email-рассылок</td>\n",
       "      <td>112.0</td>\n",
       "    </tr>\n",
       "    <tr>\n",
       "      <th>2</th>\n",
       "      <td>Добавить блоки рекомендаций товаров на сайт интернет магазина, чтобы повысить конверсию и средни...</td>\n",
       "      <td>56.0</td>\n",
       "    </tr>\n",
       "    <tr>\n",
       "      <th>0</th>\n",
       "      <td>Добавить два новых канала привлечения трафика, что позволит привлекать на 30% больше пользователей</td>\n",
       "      <td>40.0</td>\n",
       "    </tr>\n",
       "    <tr>\n",
       "      <th>6</th>\n",
       "      <td>Показать на главной странице баннеры с актуальными акциями и распродажами, чтобы увеличить конве...</td>\n",
       "      <td>40.0</td>\n",
       "    </tr>\n",
       "    <tr>\n",
       "      <th>8</th>\n",
       "      <td>Запустить акцию, дающую скидку на товар в день рождения</td>\n",
       "      <td>16.2</td>\n",
       "    </tr>\n",
       "  </tbody>\n",
       "</table>\n",
       "</div>"
      ],
      "text/plain": [
       "                                                                                            Hypothesis  \\\n",
       "7     Добавить форму подписки на все основные страницы, чтобы собрать базу клиентов для email-рассылок   \n",
       "2  Добавить блоки рекомендаций товаров на сайт интернет магазина, чтобы повысить конверсию и средни...   \n",
       "0   Добавить два новых канала привлечения трафика, что позволит привлекать на 30% больше пользователей   \n",
       "6  Показать на главной странице баннеры с актуальными акциями и распродажами, чтобы увеличить конве...   \n",
       "8                                              Запустить акцию, дающую скидку на товар в день рождения   \n",
       "\n",
       "    Rice  \n",
       "7  112.0  \n",
       "2   56.0  \n",
       "0   40.0  \n",
       "6   40.0  \n",
       "8   16.2  "
      ]
     },
     "execution_count": 10,
     "metadata": {},
     "output_type": "execute_result"
    }
   ],
   "source": [
    "hypothesis[['Hypothesis','Rice']].sort_values('Rice',ascending = False).head(5) #сортировка по параметру RICE"
   ]
  },
  {
   "cell_type": "markdown",
   "metadata": {},
   "source": [
    "**Вывод:**"
   ]
  },
  {
   "cell_type": "markdown",
   "metadata": {},
   "source": [
    "При применении фреймворка `ICE` в приоритете оказались гипотезы: **8,0,7,6,2**. Но при подсчете `RICE` гипотезы остались теже, но последовательность изменилась на: **7,2,0,6,8**. Это произошло из-за того, что в `RICE` стало учитыватся скольких пользователей затронет изменение,которое хотят внести."
   ]
  },
  {
   "cell_type": "markdown",
   "metadata": {},
   "source": [
    "## Анализ A/B-теста\n",
    "<a id=\"A/B\"></a> "
   ]
  },
  {
   "cell_type": "code",
   "execution_count": 11,
   "metadata": {},
   "outputs": [],
   "source": [
    "orders = pd.read_csv('...') #чтение датасета"
   ]
  },
  {
   "cell_type": "code",
   "execution_count": 12,
   "metadata": {},
   "outputs": [],
   "source": [
    "visitors = pd.read_csv('...') #чтение датасета"
   ]
  },
  {
   "cell_type": "code",
   "execution_count": 13,
   "metadata": {},
   "outputs": [
    {
     "data": {
      "text/html": [
       "<div>\n",
       "<style scoped>\n",
       "    .dataframe tbody tr th:only-of-type {\n",
       "        vertical-align: middle;\n",
       "    }\n",
       "\n",
       "    .dataframe tbody tr th {\n",
       "        vertical-align: top;\n",
       "    }\n",
       "\n",
       "    .dataframe thead th {\n",
       "        text-align: right;\n",
       "    }\n",
       "</style>\n",
       "<table border=\"1\" class=\"dataframe\">\n",
       "  <thead>\n",
       "    <tr style=\"text-align: right;\">\n",
       "      <th></th>\n",
       "      <th>transactionId</th>\n",
       "      <th>visitorId</th>\n",
       "      <th>date</th>\n",
       "      <th>revenue</th>\n",
       "      <th>group</th>\n",
       "    </tr>\n",
       "  </thead>\n",
       "  <tbody>\n",
       "    <tr>\n",
       "      <th>0</th>\n",
       "      <td>3667963787</td>\n",
       "      <td>3312258926</td>\n",
       "      <td>2019-08-15</td>\n",
       "      <td>1650</td>\n",
       "      <td>B</td>\n",
       "    </tr>\n",
       "    <tr>\n",
       "      <th>1</th>\n",
       "      <td>2804400009</td>\n",
       "      <td>3642806036</td>\n",
       "      <td>2019-08-15</td>\n",
       "      <td>730</td>\n",
       "      <td>B</td>\n",
       "    </tr>\n",
       "    <tr>\n",
       "      <th>2</th>\n",
       "      <td>2961555356</td>\n",
       "      <td>4069496402</td>\n",
       "      <td>2019-08-15</td>\n",
       "      <td>400</td>\n",
       "      <td>A</td>\n",
       "    </tr>\n",
       "    <tr>\n",
       "      <th>3</th>\n",
       "      <td>3797467345</td>\n",
       "      <td>1196621759</td>\n",
       "      <td>2019-08-15</td>\n",
       "      <td>9759</td>\n",
       "      <td>B</td>\n",
       "    </tr>\n",
       "    <tr>\n",
       "      <th>4</th>\n",
       "      <td>2282983706</td>\n",
       "      <td>2322279887</td>\n",
       "      <td>2019-08-15</td>\n",
       "      <td>2308</td>\n",
       "      <td>B</td>\n",
       "    </tr>\n",
       "  </tbody>\n",
       "</table>\n",
       "</div>"
      ],
      "text/plain": [
       "   transactionId   visitorId        date  revenue group\n",
       "0     3667963787  3312258926  2019-08-15     1650     B\n",
       "1     2804400009  3642806036  2019-08-15      730     B\n",
       "2     2961555356  4069496402  2019-08-15      400     A\n",
       "3     3797467345  1196621759  2019-08-15     9759     B\n",
       "4     2282983706  2322279887  2019-08-15     2308     B"
      ]
     },
     "execution_count": 13,
     "metadata": {},
     "output_type": "execute_result"
    }
   ],
   "source": [
    "orders.head(5) #просмотр датасета"
   ]
  },
  {
   "cell_type": "code",
   "execution_count": 14,
   "metadata": {},
   "outputs": [
    {
     "name": "stdout",
     "output_type": "stream",
     "text": [
      "<class 'pandas.core.frame.DataFrame'>\n",
      "RangeIndex: 1197 entries, 0 to 1196\n",
      "Data columns (total 5 columns):\n",
      " #   Column         Non-Null Count  Dtype \n",
      "---  ------         --------------  ----- \n",
      " 0   transactionId  1197 non-null   int64 \n",
      " 1   visitorId      1197 non-null   int64 \n",
      " 2   date           1197 non-null   object\n",
      " 3   revenue        1197 non-null   int64 \n",
      " 4   group          1197 non-null   object\n",
      "dtypes: int64(3), object(2)\n",
      "memory usage: 46.9+ KB\n"
     ]
    }
   ],
   "source": [
    "orders.info() #просмотр информации"
   ]
  },
  {
   "cell_type": "code",
   "execution_count": 15,
   "metadata": {},
   "outputs": [],
   "source": [
    "orders['date'] = pd.to_datetime(orders['date']) #изменения типа данных"
   ]
  },
  {
   "cell_type": "code",
   "execution_count": 16,
   "metadata": {
    "scrolled": true
   },
   "outputs": [
    {
     "name": "stdout",
     "output_type": "stream",
     "text": [
      "Минимальное значение transactionId: 1062393\n",
      "Максимальное значение transactionId: 4293855558\n",
      "Минимальное значение visitorId: 5114589\n",
      "Максимальное значение visitorId: 4283872382\n",
      "Минимальное значение date: 2019-08-01 00:00:00\n",
      "Максимальное значение date: 2019-08-31 00:00:00\n",
      "Минимальное значение revenue: 50\n",
      "Максимальное значение revenue: 1294500\n",
      "Уникальное значение group: ['B' 'A']\n",
      "Дубликатов в датафрейме orders: 0\n",
      "Колличество участников в группе B: 640\n",
      "Колличество участников в группе A: 557\n"
     ]
    }
   ],
   "source": [
    "print('Минимальное значение transactionId:', orders['transactionId'].min()) #просмотр корректности данных датасета orders\n",
    "print('Максимальное значение transactionId:', orders['transactionId'].max())\n",
    "print('Минимальное значение visitorId:', orders['visitorId'].min())\n",
    "print('Максимальное значение visitorId:',orders['visitorId'].max())\n",
    "print('Минимальное значение date:', orders['date'].min())\n",
    "print('Максимальное значение date:',orders['date'].max())\n",
    "print('Минимальное значение revenue:', orders['revenue'].min()) \n",
    "print('Максимальное значение revenue:', orders['revenue'].max()) \n",
    "print('Уникальное значение group:', orders['group'].unique())\n",
    "print('Дубликатов в датафрейме orders:', orders.duplicated().sum())\n",
    "print('Колличество участников в группе B:', orders['group'].loc[orders['group']=='B'].count())\n",
    "print('Колличество участников в группе A:', orders['group'].loc[orders['group']=='A'].count())"
   ]
  },
  {
   "cell_type": "code",
   "execution_count": 17,
   "metadata": {},
   "outputs": [],
   "source": [
    "groups_duplic = orders.groupby('visitorId')['group'].nunique().reset_index() #создание вспомогательной таблицы"
   ]
  },
  {
   "cell_type": "code",
   "execution_count": 18,
   "metadata": {
    "scrolled": true
   },
   "outputs": [
    {
     "data": {
      "text/plain": [
       "visitorId    58\n",
       "group        58\n",
       "dtype: int64"
      ]
     },
     "execution_count": 18,
     "metadata": {},
     "output_type": "execute_result"
    }
   ],
   "source": [
    "groups_duplic.loc[groups_duplic['group']==2].count() #подсчет, сколько человек состояли в обеих группах"
   ]
  },
  {
   "cell_type": "code",
   "execution_count": 19,
   "metadata": {},
   "outputs": [
    {
     "name": "stdout",
     "output_type": "stream",
     "text": [
      "<class 'pandas.core.frame.DataFrame'>\n",
      "RangeIndex: 1197 entries, 0 to 1196\n",
      "Data columns (total 5 columns):\n",
      " #   Column         Non-Null Count  Dtype         \n",
      "---  ------         --------------  -----         \n",
      " 0   transactionId  1197 non-null   int64         \n",
      " 1   visitorId      1197 non-null   int64         \n",
      " 2   date           1197 non-null   datetime64[ns]\n",
      " 3   revenue        1197 non-null   int64         \n",
      " 4   group          1197 non-null   object        \n",
      "dtypes: datetime64[ns](1), int64(3), object(1)\n",
      "memory usage: 46.9+ KB\n"
     ]
    }
   ],
   "source": [
    "orders.info() #просмотр измнений"
   ]
  },
  {
   "cell_type": "markdown",
   "metadata": {},
   "source": [
    "`transactionId` — идентификатор заказа;\n",
    "\n",
    "`visitorId` — идентификатор пользователя, совершившего заказ;\n",
    "\n",
    "`date` — дата, когда был совершён заказ;\n",
    "\n",
    "`revenue` — выручка заказа;\n",
    "\n",
    "`group` — группа A/B-теста, в которую попал заказ."
   ]
  },
  {
   "cell_type": "code",
   "execution_count": 20,
   "metadata": {},
   "outputs": [
    {
     "data": {
      "text/html": [
       "<div>\n",
       "<style scoped>\n",
       "    .dataframe tbody tr th:only-of-type {\n",
       "        vertical-align: middle;\n",
       "    }\n",
       "\n",
       "    .dataframe tbody tr th {\n",
       "        vertical-align: top;\n",
       "    }\n",
       "\n",
       "    .dataframe thead th {\n",
       "        text-align: right;\n",
       "    }\n",
       "</style>\n",
       "<table border=\"1\" class=\"dataframe\">\n",
       "  <thead>\n",
       "    <tr style=\"text-align: right;\">\n",
       "      <th></th>\n",
       "      <th>date</th>\n",
       "      <th>group</th>\n",
       "      <th>visitors</th>\n",
       "    </tr>\n",
       "  </thead>\n",
       "  <tbody>\n",
       "    <tr>\n",
       "      <th>0</th>\n",
       "      <td>2019-08-01</td>\n",
       "      <td>A</td>\n",
       "      <td>719</td>\n",
       "    </tr>\n",
       "    <tr>\n",
       "      <th>1</th>\n",
       "      <td>2019-08-02</td>\n",
       "      <td>A</td>\n",
       "      <td>619</td>\n",
       "    </tr>\n",
       "    <tr>\n",
       "      <th>2</th>\n",
       "      <td>2019-08-03</td>\n",
       "      <td>A</td>\n",
       "      <td>507</td>\n",
       "    </tr>\n",
       "    <tr>\n",
       "      <th>3</th>\n",
       "      <td>2019-08-04</td>\n",
       "      <td>A</td>\n",
       "      <td>717</td>\n",
       "    </tr>\n",
       "    <tr>\n",
       "      <th>4</th>\n",
       "      <td>2019-08-05</td>\n",
       "      <td>A</td>\n",
       "      <td>756</td>\n",
       "    </tr>\n",
       "  </tbody>\n",
       "</table>\n",
       "</div>"
      ],
      "text/plain": [
       "         date group  visitors\n",
       "0  2019-08-01     A       719\n",
       "1  2019-08-02     A       619\n",
       "2  2019-08-03     A       507\n",
       "3  2019-08-04     A       717\n",
       "4  2019-08-05     A       756"
      ]
     },
     "execution_count": 20,
     "metadata": {},
     "output_type": "execute_result"
    }
   ],
   "source": [
    "visitors.head(5) #просмотр датасета"
   ]
  },
  {
   "cell_type": "code",
   "execution_count": 21,
   "metadata": {},
   "outputs": [
    {
     "name": "stdout",
     "output_type": "stream",
     "text": [
      "<class 'pandas.core.frame.DataFrame'>\n",
      "RangeIndex: 62 entries, 0 to 61\n",
      "Data columns (total 3 columns):\n",
      " #   Column    Non-Null Count  Dtype \n",
      "---  ------    --------------  ----- \n",
      " 0   date      62 non-null     object\n",
      " 1   group     62 non-null     object\n",
      " 2   visitors  62 non-null     int64 \n",
      "dtypes: int64(1), object(2)\n",
      "memory usage: 1.6+ KB\n"
     ]
    }
   ],
   "source": [
    "visitors.info() #просмотр информации"
   ]
  },
  {
   "cell_type": "code",
   "execution_count": 22,
   "metadata": {},
   "outputs": [],
   "source": [
    "visitors['date'] = pd.to_datetime(visitors['date']) #изменения типа данных"
   ]
  },
  {
   "cell_type": "code",
   "execution_count": 23,
   "metadata": {},
   "outputs": [
    {
     "name": "stdout",
     "output_type": "stream",
     "text": [
      "Минимальное значение date: 2019-08-01 00:00:00\n",
      "Максимальное значение date: 2019-08-31 00:00:00\n",
      "Минимальное значение visitors: 361\n",
      "Максимальное значение visitors: 770\n",
      "Уникальное значение group: ['A' 'B']\n",
      "Дубликатов в датафрейме visitors: 0\n"
     ]
    }
   ],
   "source": [
    "print('Минимальное значение date:', visitors['date'].min()) #просмотр корректности данных датасета orders\n",
    "print('Максимальное значение date:',visitors['date'].max())\n",
    "print('Минимальное значение visitors:', visitors['visitors'].min()) \n",
    "print('Максимальное значение visitors:', visitors['visitors'].max()) \n",
    "print('Уникальное значение group:', visitors['group'].unique())\n",
    "print('Дубликатов в датафрейме visitors:', visitors.duplicated().sum())"
   ]
  },
  {
   "cell_type": "code",
   "execution_count": 24,
   "metadata": {},
   "outputs": [
    {
     "name": "stdout",
     "output_type": "stream",
     "text": [
      "<class 'pandas.core.frame.DataFrame'>\n",
      "RangeIndex: 62 entries, 0 to 61\n",
      "Data columns (total 3 columns):\n",
      " #   Column    Non-Null Count  Dtype         \n",
      "---  ------    --------------  -----         \n",
      " 0   date      62 non-null     datetime64[ns]\n",
      " 1   group     62 non-null     object        \n",
      " 2   visitors  62 non-null     int64         \n",
      "dtypes: datetime64[ns](1), int64(1), object(1)\n",
      "memory usage: 1.6+ KB\n"
     ]
    }
   ],
   "source": [
    "visitors.info() #просмотр измнений"
   ]
  },
  {
   "cell_type": "markdown",
   "metadata": {},
   "source": [
    "`date` — дата;\n",
    "\n",
    "`group` — группа A/B-теста;\n",
    "\n",
    "`visitors` — количество пользователей в указанную дату в указанной группе A/B-теста"
   ]
  },
  {
   "cell_type": "markdown",
   "metadata": {},
   "source": [
    "**Вывод:**"
   ]
  },
  {
   "cell_type": "markdown",
   "metadata": {},
   "source": [
    "В датасетах *orders* и *visitors*, не было замечено пропусков. Был изменен тип данных столбцов *date*. Так же в обоих датасетак не было выявлено неявных дубликатов. Так же не было выявленно подозрительных значений в столбцах, кроме максимального значения *revenue* в датасете **orders**(но данное значение можно будет проверить дальше в работе, если это понадобится).\n",
    "\n",
    "Для проведения А/В теста, были выявленны такие данные:\n",
    "- В А/В тесте 2 группы \"А\" и \"В\";\n",
    "- Дата начала теста \"2019-08-01\", дата окончания теста \"2019-08-31\";\n",
    "- Колличество участников в группе B: 640;\n",
    "- Колличество участников в группе A: 557;\n",
    "- Колличество участников в группе A и B одновременно: 58.\n"
   ]
  },
  {
   "cell_type": "markdown",
   "metadata": {},
   "source": [
    "### Кумулятивная выручка по группам\n",
    "<a id=\"a\"></a> "
   ]
  },
  {
   "cell_type": "code",
   "execution_count": 25,
   "metadata": {},
   "outputs": [],
   "source": [
    "datesGroups = orders[['date','group']].drop_duplicates() #создание таблицы"
   ]
  },
  {
   "cell_type": "code",
   "execution_count": 26,
   "metadata": {},
   "outputs": [
    {
     "data": {
      "text/html": [
       "<div>\n",
       "<style scoped>\n",
       "    .dataframe tbody tr th:only-of-type {\n",
       "        vertical-align: middle;\n",
       "    }\n",
       "\n",
       "    .dataframe tbody tr th {\n",
       "        vertical-align: top;\n",
       "    }\n",
       "\n",
       "    .dataframe thead th {\n",
       "        text-align: right;\n",
       "    }\n",
       "</style>\n",
       "<table border=\"1\" class=\"dataframe\">\n",
       "  <thead>\n",
       "    <tr style=\"text-align: right;\">\n",
       "      <th></th>\n",
       "      <th>date</th>\n",
       "      <th>group</th>\n",
       "    </tr>\n",
       "  </thead>\n",
       "  <tbody>\n",
       "    <tr>\n",
       "      <th>0</th>\n",
       "      <td>2019-08-15</td>\n",
       "      <td>B</td>\n",
       "    </tr>\n",
       "    <tr>\n",
       "      <th>2</th>\n",
       "      <td>2019-08-15</td>\n",
       "      <td>A</td>\n",
       "    </tr>\n",
       "    <tr>\n",
       "      <th>45</th>\n",
       "      <td>2019-08-16</td>\n",
       "      <td>A</td>\n",
       "    </tr>\n",
       "    <tr>\n",
       "      <th>47</th>\n",
       "      <td>2019-08-16</td>\n",
       "      <td>B</td>\n",
       "    </tr>\n",
       "    <tr>\n",
       "      <th>55</th>\n",
       "      <td>2019-08-01</td>\n",
       "      <td>A</td>\n",
       "    </tr>\n",
       "  </tbody>\n",
       "</table>\n",
       "</div>"
      ],
      "text/plain": [
       "         date group\n",
       "0  2019-08-15     B\n",
       "2  2019-08-15     A\n",
       "45 2019-08-16     A\n",
       "47 2019-08-16     B\n",
       "55 2019-08-01     A"
      ]
     },
     "execution_count": 26,
     "metadata": {},
     "output_type": "execute_result"
    }
   ],
   "source": [
    "datesGroups.head(5) #просмотр таблицы"
   ]
  },
  {
   "cell_type": "code",
   "execution_count": 27,
   "metadata": {},
   "outputs": [],
   "source": [
    "ordersAggregated = datesGroups.apply(lambda x: orders[np.logical_and(orders['date'] <= x['date'], orders['group'] == x['group'])]\\\n",
    ".agg({'date' : 'max', 'group' : 'max', 'transactionId' : 'nunique', 'visitorId' : 'nunique', 'revenue' : 'sum'}), axis=1).sort_values(by=['date','group'])\n",
    "#агрегация значений."
   ]
  },
  {
   "cell_type": "code",
   "execution_count": 28,
   "metadata": {},
   "outputs": [],
   "source": [
    "visitorsAggregated = datesGroups.apply(lambda x: visitors[np.logical_and(visitors['date'] <= x['date'], visitors['group'] == x['group'])].agg({'date' : 'max', 'group' : 'max', 'visitors' : 'sum'}), axis=1).sort_values(by=['date','group'])\n",
    "#получение агрегированных кумулятивных данных"
   ]
  },
  {
   "cell_type": "code",
   "execution_count": 29,
   "metadata": {},
   "outputs": [],
   "source": [
    "cumulativeData = ordersAggregated.merge(visitorsAggregated, left_on=['date', 'group'], right_on=['date', 'group'])\n",
    "cumulativeData.columns = ['date', 'group', 'orders', 'buyers', 'revenue', 'visitors']\n",
    "#объединенеие кумулятивных данных в одной таблице и присваивание ее столбцам понятных названий"
   ]
  },
  {
   "cell_type": "code",
   "execution_count": 30,
   "metadata": {},
   "outputs": [
    {
     "data": {
      "text/html": [
       "<div>\n",
       "<style scoped>\n",
       "    .dataframe tbody tr th:only-of-type {\n",
       "        vertical-align: middle;\n",
       "    }\n",
       "\n",
       "    .dataframe tbody tr th {\n",
       "        vertical-align: top;\n",
       "    }\n",
       "\n",
       "    .dataframe thead th {\n",
       "        text-align: right;\n",
       "    }\n",
       "</style>\n",
       "<table border=\"1\" class=\"dataframe\">\n",
       "  <thead>\n",
       "    <tr style=\"text-align: right;\">\n",
       "      <th></th>\n",
       "      <th>date</th>\n",
       "      <th>group</th>\n",
       "      <th>orders</th>\n",
       "      <th>buyers</th>\n",
       "      <th>revenue</th>\n",
       "      <th>visitors</th>\n",
       "    </tr>\n",
       "  </thead>\n",
       "  <tbody>\n",
       "    <tr>\n",
       "      <th>0</th>\n",
       "      <td>2019-08-01</td>\n",
       "      <td>A</td>\n",
       "      <td>24</td>\n",
       "      <td>20</td>\n",
       "      <td>148579</td>\n",
       "      <td>719</td>\n",
       "    </tr>\n",
       "    <tr>\n",
       "      <th>1</th>\n",
       "      <td>2019-08-01</td>\n",
       "      <td>B</td>\n",
       "      <td>21</td>\n",
       "      <td>20</td>\n",
       "      <td>101217</td>\n",
       "      <td>713</td>\n",
       "    </tr>\n",
       "    <tr>\n",
       "      <th>2</th>\n",
       "      <td>2019-08-02</td>\n",
       "      <td>A</td>\n",
       "      <td>44</td>\n",
       "      <td>38</td>\n",
       "      <td>242401</td>\n",
       "      <td>1338</td>\n",
       "    </tr>\n",
       "    <tr>\n",
       "      <th>3</th>\n",
       "      <td>2019-08-02</td>\n",
       "      <td>B</td>\n",
       "      <td>45</td>\n",
       "      <td>43</td>\n",
       "      <td>266748</td>\n",
       "      <td>1294</td>\n",
       "    </tr>\n",
       "    <tr>\n",
       "      <th>4</th>\n",
       "      <td>2019-08-03</td>\n",
       "      <td>A</td>\n",
       "      <td>68</td>\n",
       "      <td>62</td>\n",
       "      <td>354874</td>\n",
       "      <td>1845</td>\n",
       "    </tr>\n",
       "  </tbody>\n",
       "</table>\n",
       "</div>"
      ],
      "text/plain": [
       "        date group  orders  buyers  revenue  visitors\n",
       "0 2019-08-01     A      24      20   148579       719\n",
       "1 2019-08-01     B      21      20   101217       713\n",
       "2 2019-08-02     A      44      38   242401      1338\n",
       "3 2019-08-02     B      45      43   266748      1294\n",
       "4 2019-08-03     A      68      62   354874      1845"
      ]
     },
     "execution_count": 30,
     "metadata": {},
     "output_type": "execute_result"
    }
   ],
   "source": [
    "cumulativeData.head(5)  #просмотр таблицы"
   ]
  },
  {
   "cell_type": "code",
   "execution_count": 31,
   "metadata": {},
   "outputs": [],
   "source": [
    "cumulativeRevenueA = cumulativeData[cumulativeData['group']=='A'][['date','revenue', 'orders']]\n",
    "#датафрейм с кумулятивным количеством заказов и кумулятивной выручкой по дням в группе А"
   ]
  },
  {
   "cell_type": "code",
   "execution_count": 32,
   "metadata": {},
   "outputs": [],
   "source": [
    "cumulativeRevenueB = cumulativeData[cumulativeData['group']=='B'][['date','revenue', 'orders']]\n",
    "#датафрейм с кумулятивным количеством заказов и кумулятивной выручкой по дням в группе B"
   ]
  },
  {
   "cell_type": "code",
   "execution_count": 33,
   "metadata": {},
   "outputs": [
    {
     "data": {
      "image/png": "[encoded data removed]",
      "text/plain": [
       "<Figure size 720x432 with 1 Axes>"
      ]
     },
     "metadata": {
      "needs_background": "light"
     },
     "output_type": "display_data"
    }
   ],
   "source": [
    "#строим график группы А\n",
    "plt.figure(figsize=(10,6))\n",
    "plt.plot(cumulativeRevenueA['date'], cumulativeRevenueA['revenue'], label='A')\n",
    "#строим график группы B\n",
    "plt.plot(cumulativeRevenueB['date'], cumulativeRevenueB['revenue'], label='B')\n",
    "plt.title('Кумулятивная выручка по группам')\n",
    "plt.legend()\n",
    "plt.show()"
   ]
  },
  {
   "cell_type": "code",
   "execution_count": 34,
   "metadata": {},
   "outputs": [
    {
     "data": {
      "text/html": [
       "<div>\n",
       "<style scoped>\n",
       "    .dataframe tbody tr th:only-of-type {\n",
       "        vertical-align: middle;\n",
       "    }\n",
       "\n",
       "    .dataframe tbody tr th {\n",
       "        vertical-align: top;\n",
       "    }\n",
       "\n",
       "    .dataframe thead th {\n",
       "        text-align: right;\n",
       "    }\n",
       "</style>\n",
       "<table border=\"1\" class=\"dataframe\">\n",
       "  <thead>\n",
       "    <tr style=\"text-align: right;\">\n",
       "      <th></th>\n",
       "      <th>transactionId</th>\n",
       "      <th>visitorId</th>\n",
       "      <th>date</th>\n",
       "      <th>revenue</th>\n",
       "      <th>group</th>\n",
       "    </tr>\n",
       "  </thead>\n",
       "  <tbody>\n",
       "    <tr>\n",
       "      <th>425</th>\n",
       "      <td>590470918</td>\n",
       "      <td>1920142716</td>\n",
       "      <td>2019-08-19</td>\n",
       "      <td>1294500</td>\n",
       "      <td>B</td>\n",
       "    </tr>\n",
       "    <tr>\n",
       "      <th>527</th>\n",
       "      <td>1570513684</td>\n",
       "      <td>2837914161</td>\n",
       "      <td>2019-08-19</td>\n",
       "      <td>33405</td>\n",
       "      <td>B</td>\n",
       "    </tr>\n",
       "    <tr>\n",
       "      <th>461</th>\n",
       "      <td>2683113224</td>\n",
       "      <td>154576532</td>\n",
       "      <td>2019-08-19</td>\n",
       "      <td>26550</td>\n",
       "      <td>B</td>\n",
       "    </tr>\n",
       "    <tr>\n",
       "      <th>368</th>\n",
       "      <td>3268879337</td>\n",
       "      <td>2536252163</td>\n",
       "      <td>2019-08-19</td>\n",
       "      <td>20026</td>\n",
       "      <td>B</td>\n",
       "    </tr>\n",
       "    <tr>\n",
       "      <th>267</th>\n",
       "      <td>131747281</td>\n",
       "      <td>2579882178</td>\n",
       "      <td>2019-08-18</td>\n",
       "      <td>19538</td>\n",
       "      <td>B</td>\n",
       "    </tr>\n",
       "  </tbody>\n",
       "</table>\n",
       "</div>"
      ],
      "text/plain": [
       "     transactionId   visitorId       date  revenue group\n",
       "425      590470918  1920142716 2019-08-19  1294500     B\n",
       "527     1570513684  2837914161 2019-08-19    33405     B\n",
       "461     2683113224   154576532 2019-08-19    26550     B\n",
       "368     3268879337  2536252163 2019-08-19    20026     B\n",
       "267      131747281  2579882178 2019-08-18    19538     B"
      ]
     },
     "execution_count": 34,
     "metadata": {},
     "output_type": "execute_result"
    }
   ],
   "source": [
    "orders.loc[(orders['date']>='2019-08-18')&(orders['date']<='2019-08-19')&(orders['group']=='B')].sort_values(by='revenue', ascending=False).head()\n",
    "#поиск причины скачка на графике"
   ]
  },
  {
   "cell_type": "markdown",
   "metadata": {},
   "source": [
    "**Вывод:**"
   ]
  },
  {
   "cell_type": "markdown",
   "metadata": {},
   "source": [
    "Выручка до 18 августа шла примерно одинаково, но потом в группе **В** был зафиксирован резкий скачек вверх. Это скорее всего произошло 19 августа из-за большой цены заказа. Но так же нельзя отвергать теории, что на рост могло повлиять большое число заказов или технические неполадки."
   ]
  },
  {
   "cell_type": "markdown",
   "metadata": {},
   "source": [
    "### Кумулятивный средний чек по группам\n",
    "<a id=\"b\"></a> "
   ]
  },
  {
   "cell_type": "code",
   "execution_count": 35,
   "metadata": {},
   "outputs": [],
   "source": [
    "mergedCumulativeRevenue = cumulativeRevenueA.merge(cumulativeRevenueB, left_on='date', right_on='date', how='left', suffixes=['A', 'B'])\n",
    "#соединение таблиц"
   ]
  },
  {
   "cell_type": "code",
   "execution_count": 36,
   "metadata": {},
   "outputs": [
    {
     "data": {
      "image/png": "[encoded data removed]",
      "text/plain": [
       "<Figure size 720x432 with 1 Axes>"
      ]
     },
     "metadata": {
      "needs_background": "light"
     },
     "output_type": "display_data"
    }
   ],
   "source": [
    "#строим график группы А\n",
    "plt.figure(figsize=(10,6))\n",
    "plt.plot(cumulativeRevenueA['date'], cumulativeRevenueA['revenue']/cumulativeRevenueA['orders'], label='A')\n",
    "#строим график группы В\n",
    "plt.plot(cumulativeRevenueB['date'], cumulativeRevenueB['revenue']/cumulativeRevenueB['orders'], label='B')\n",
    "plt.title('Кумулятивный средний чек по группам')\n",
    "plt.legend()\n",
    "plt.show()"
   ]
  },
  {
   "cell_type": "markdown",
   "metadata": {},
   "source": [
    "**Вывод:**"
   ]
  },
  {
   "cell_type": "markdown",
   "metadata": {},
   "source": [
    "На данном графике ситуация схожа с куммулятивной выручкой. Но видны явные различия группы **А** от грууппы **В**. Так же видно, что идет резкий скачек 19 августа. Это может подтвердить теорию о скачке, в этот же день, на графике **'Кумулятивная выручка по группам'** из-за большой цены заказа."
   ]
  },
  {
   "cell_type": "markdown",
   "metadata": {},
   "source": [
    "### Кумулятивный средний чек группы B к группе A\n",
    "<a id=\"c\"></a> "
   ]
  },
  {
   "cell_type": "code",
   "execution_count": 37,
   "metadata": {},
   "outputs": [
    {
     "data": {
      "image/png": "[encoded data removed]",
      "text/plain": [
       "<Figure size 720x432 with 1 Axes>"
      ]
     },
     "metadata": {
      "needs_background": "light"
     },
     "output_type": "display_data"
    }
   ],
   "source": [
    "#постройка отношение средних чеков\n",
    "plt.figure(figsize=(10,6))\n",
    "plt.plot(mergedCumulativeRevenue['date'], (mergedCumulativeRevenue['revenueB']/mergedCumulativeRevenue['ordersB'])/(mergedCumulativeRevenue['revenueA']/mergedCumulativeRevenue['ordersA'])-1)\n",
    "#добавляем ось X\n",
    "plt.axhline(y=0, color='black', linestyle='--')\n",
    "plt.title('Кумулятивный средний чек группы B к группе A')\n",
    "plt.show()"
   ]
  },
  {
   "cell_type": "markdown",
   "metadata": {},
   "source": [
    "**Вывод:**"
   ]
  },
  {
   "cell_type": "markdown",
   "metadata": {},
   "source": [
    "В целом, даный график отражает ту же ситуацию, что и график кумулятивного среднего чека по группам. С 1 по 6 августа наблюдается рост среднего чека в группе **B**, пока в группе **А** он уменьшался(пиковое значение разницы, примерно 35%), потом до 13 августа средний чек разных групп приближался друг к другу, в какойто момент чек группы **А** превылил группу **В** на примерно 15%. 18 августа идет резкий прыжок, из-за дорогого заказа в группе **В**(разница оказывается в районе 50%). Потом до 1 сентября идет небольшой спад, и разница к концу месяца составляет в районе 25%."
   ]
  },
  {
   "cell_type": "markdown",
   "metadata": {},
   "source": [
    "### Кумулятивное среднее количество заказов по группам\n",
    "<a id=\"d\"></a> "
   ]
  },
  {
   "cell_type": "code",
   "execution_count": 38,
   "metadata": {},
   "outputs": [
    {
     "data": {
      "image/png": "[encoded data removed]",
      "text/plain": [
       "<Figure size 720x432 with 1 Axes>"
      ]
     },
     "metadata": {
      "needs_background": "light"
     },
     "output_type": "display_data"
    }
   ],
   "source": [
    "cumulativeData['conversion'] = cumulativeData['orders']/cumulativeData['visitors'] #подсчет среднего колличества заказов\n",
    "\n",
    "cumulativeDataA = cumulativeData[cumulativeData['group']=='A'] #отделяем данные по группе A\n",
    "\n",
    "cumulativeDataB = cumulativeData[cumulativeData['group']=='B'] #отделяем данные по группе B\n",
    "\n",
    "plt.figure(figsize=(10,6)) #построение графика\n",
    "plt.plot(cumulativeDataA['date'], cumulativeDataA['conversion'], label='A')\n",
    "plt.plot(cumulativeDataB['date'], cumulativeDataB['conversion'], label='B')\n",
    "plt.title('Кумулятивное среднее количество заказов по группам')\n",
    "plt.legend()\n",
    "plt.show()"
   ]
  },
  {
   "cell_type": "markdown",
   "metadata": {},
   "source": [
    "**Вывод:**"
   ]
  },
  {
   "cell_type": "markdown",
   "metadata": {},
   "source": [
    "До 5 августа В обоих группах кумулятивное среднее количество заказов скачет. После чего до конца августа у группы **А** количество заказов пошло в низ и остается на стабильном низком уровне до конца месяца(от 0,029 до 0,031). Тем временем в группе **В** обратная ситуация, к 10 авгесту среднее взлетает до отметки 0.036, дальше идет постепенный спад, но все равно эта группа находиться на стабильно высоком уровне(0,033 до 0,034)."
   ]
  },
  {
   "cell_type": "markdown",
   "metadata": {},
   "source": [
    "### Кумулятивное среднее количество заказовов группы B к группе A\n",
    "<a id=\"e\"></a> "
   ]
  },
  {
   "cell_type": "code",
   "execution_count": 39,
   "metadata": {},
   "outputs": [
    {
     "data": {
      "image/png": "[encoded data removed]",
      "text/plain": [
       "<Figure size 720x432 with 1 Axes>"
      ]
     },
     "metadata": {
      "needs_background": "light"
     },
     "output_type": "display_data"
    }
   ],
   "source": [
    "#нахождение кумулятивного среднего кол-ва заказов\n",
    "mergedCumulativeConversions = cumulativeDataA[['date','conversion']].merge(cumulativeDataB[['date','conversion']], left_on='date', right_on='date', how='left', suffixes=['A', 'B'])\n",
    "#построение графика\n",
    "plt.figure(figsize=(10,6))\n",
    "plt.plot(mergedCumulativeConversions['date'], mergedCumulativeConversions['conversionB']/mergedCumulativeConversions['conversionA']-1)\n",
    "plt.title('Кумулятивное среднее количество заказовов группы B к группе A')\n",
    "plt.axhline(y=0, color='black', linestyle='--')\n",
    "plt.show()"
   ]
  },
  {
   "cell_type": "markdown",
   "metadata": {},
   "source": [
    "**Вывод:**"
   ]
  },
  {
   "cell_type": "markdown",
   "metadata": {},
   "source": [
    "На графике видно, что изначально среднее количество заказов преобладало в группе **А**(примерно на 15%). До 5 августа ситуация была не стабильна.И затем среднее колличество заказов в группе **В** превысило группу **А** на примерно 17%. И дальше разница продолжала оставаться на стабильно превышающем уровне(от 9 до 20 %)"
   ]
  },
  {
   "cell_type": "markdown",
   "metadata": {},
   "source": [
    "### График количества заказов по пользователям\n",
    "<a id=\"f\"></a> "
   ]
  },
  {
   "cell_type": "code",
   "execution_count": 40,
   "metadata": {},
   "outputs": [
    {
     "data": {
      "text/html": [
       "<div>\n",
       "<style scoped>\n",
       "    .dataframe tbody tr th:only-of-type {\n",
       "        vertical-align: middle;\n",
       "    }\n",
       "\n",
       "    .dataframe tbody tr th {\n",
       "        vertical-align: top;\n",
       "    }\n",
       "\n",
       "    .dataframe thead th {\n",
       "        text-align: right;\n",
       "    }\n",
       "</style>\n",
       "<table border=\"1\" class=\"dataframe\">\n",
       "  <thead>\n",
       "    <tr style=\"text-align: right;\">\n",
       "      <th></th>\n",
       "      <th>transactionId</th>\n",
       "      <th>visitorId</th>\n",
       "      <th>date</th>\n",
       "      <th>revenue</th>\n",
       "      <th>group</th>\n",
       "    </tr>\n",
       "  </thead>\n",
       "  <tbody>\n",
       "    <tr>\n",
       "      <th>0</th>\n",
       "      <td>3667963787</td>\n",
       "      <td>3312258926</td>\n",
       "      <td>2019-08-15</td>\n",
       "      <td>1650</td>\n",
       "      <td>B</td>\n",
       "    </tr>\n",
       "    <tr>\n",
       "      <th>1</th>\n",
       "      <td>2804400009</td>\n",
       "      <td>3642806036</td>\n",
       "      <td>2019-08-15</td>\n",
       "      <td>730</td>\n",
       "      <td>B</td>\n",
       "    </tr>\n",
       "    <tr>\n",
       "      <th>2</th>\n",
       "      <td>2961555356</td>\n",
       "      <td>4069496402</td>\n",
       "      <td>2019-08-15</td>\n",
       "      <td>400</td>\n",
       "      <td>A</td>\n",
       "    </tr>\n",
       "    <tr>\n",
       "      <th>3</th>\n",
       "      <td>3797467345</td>\n",
       "      <td>1196621759</td>\n",
       "      <td>2019-08-15</td>\n",
       "      <td>9759</td>\n",
       "      <td>B</td>\n",
       "    </tr>\n",
       "    <tr>\n",
       "      <th>4</th>\n",
       "      <td>2282983706</td>\n",
       "      <td>2322279887</td>\n",
       "      <td>2019-08-15</td>\n",
       "      <td>2308</td>\n",
       "      <td>B</td>\n",
       "    </tr>\n",
       "  </tbody>\n",
       "</table>\n",
       "</div>"
      ],
      "text/plain": [
       "   transactionId   visitorId       date  revenue group\n",
       "0     3667963787  3312258926 2019-08-15     1650     B\n",
       "1     2804400009  3642806036 2019-08-15      730     B\n",
       "2     2961555356  4069496402 2019-08-15      400     A\n",
       "3     3797467345  1196621759 2019-08-15     9759     B\n",
       "4     2282983706  2322279887 2019-08-15     2308     B"
      ]
     },
     "execution_count": 40,
     "metadata": {},
     "output_type": "execute_result"
    }
   ],
   "source": [
    "orders.head(5) #просмотр таблицы"
   ]
  },
  {
   "cell_type": "code",
   "execution_count": 41,
   "metadata": {},
   "outputs": [],
   "source": [
    "Users = (orders.drop(['group', 'revenue', 'date'], axis=1) #формирование таблицы\n",
    "         .groupby('visitorId', as_index=False)\n",
    "         .agg({'transactionId' : 'nunique'}))"
   ]
  },
  {
   "cell_type": "code",
   "execution_count": 42,
   "metadata": {},
   "outputs": [],
   "source": [
    "Users.columns = ['userId', 'orders'] #переименование столбцов"
   ]
  },
  {
   "cell_type": "code",
   "execution_count": 43,
   "metadata": {},
   "outputs": [
    {
     "data": {
      "text/html": [
       "<div>\n",
       "<style scoped>\n",
       "    .dataframe tbody tr th:only-of-type {\n",
       "        vertical-align: middle;\n",
       "    }\n",
       "\n",
       "    .dataframe tbody tr th {\n",
       "        vertical-align: top;\n",
       "    }\n",
       "\n",
       "    .dataframe thead th {\n",
       "        text-align: right;\n",
       "    }\n",
       "</style>\n",
       "<table border=\"1\" class=\"dataframe\">\n",
       "  <thead>\n",
       "    <tr style=\"text-align: right;\">\n",
       "      <th></th>\n",
       "      <th>userId</th>\n",
       "      <th>orders</th>\n",
       "    </tr>\n",
       "  </thead>\n",
       "  <tbody>\n",
       "    <tr>\n",
       "      <th>1023</th>\n",
       "      <td>4256040402</td>\n",
       "      <td>11</td>\n",
       "    </tr>\n",
       "    <tr>\n",
       "      <th>591</th>\n",
       "      <td>2458001652</td>\n",
       "      <td>11</td>\n",
       "    </tr>\n",
       "    <tr>\n",
       "      <th>569</th>\n",
       "      <td>2378935119</td>\n",
       "      <td>9</td>\n",
       "    </tr>\n",
       "    <tr>\n",
       "      <th>487</th>\n",
       "      <td>2038680547</td>\n",
       "      <td>8</td>\n",
       "    </tr>\n",
       "    <tr>\n",
       "      <th>44</th>\n",
       "      <td>199603092</td>\n",
       "      <td>5</td>\n",
       "    </tr>\n",
       "    <tr>\n",
       "      <th>744</th>\n",
       "      <td>3062433592</td>\n",
       "      <td>5</td>\n",
       "    </tr>\n",
       "    <tr>\n",
       "      <th>55</th>\n",
       "      <td>237748145</td>\n",
       "      <td>5</td>\n",
       "    </tr>\n",
       "    <tr>\n",
       "      <th>917</th>\n",
       "      <td>3803269165</td>\n",
       "      <td>5</td>\n",
       "    </tr>\n",
       "    <tr>\n",
       "      <th>299</th>\n",
       "      <td>1230306981</td>\n",
       "      <td>5</td>\n",
       "    </tr>\n",
       "    <tr>\n",
       "      <th>897</th>\n",
       "      <td>3717692402</td>\n",
       "      <td>5</td>\n",
       "    </tr>\n",
       "  </tbody>\n",
       "</table>\n",
       "</div>"
      ],
      "text/plain": [
       "          userId  orders\n",
       "1023  4256040402      11\n",
       "591   2458001652      11\n",
       "569   2378935119       9\n",
       "487   2038680547       8\n",
       "44     199603092       5\n",
       "744   3062433592       5\n",
       "55     237748145       5\n",
       "917   3803269165       5\n",
       "299   1230306981       5\n",
       "897   3717692402       5"
      ]
     },
     "execution_count": 43,
     "metadata": {},
     "output_type": "execute_result"
    }
   ],
   "source": [
    "Users.sort_values(by='orders',ascending=False).head(10) #сортировка по столбцу orders"
   ]
  },
  {
   "cell_type": "code",
   "execution_count": 44,
   "metadata": {},
   "outputs": [
    {
     "data": {
      "image/png": "[encoded data removed]",
      "text/plain": [
       "<Figure size 720x432 with 1 Axes>"
      ]
     },
     "metadata": {
      "needs_background": "light"
     },
     "output_type": "display_data"
    }
   ],
   "source": [
    "x_values = pd.Series(range(0,len(Users)))\n",
    "#создание графика\n",
    "plt.figure(figsize=(10,6)) \n",
    "plt.title('График количества заказов по пользователям')\n",
    "plt.scatter(x_values, Users['orders']) \n",
    "plt.show()"
   ]
  },
  {
   "cell_type": "markdown",
   "metadata": {},
   "source": [
    "**Вывод:**"
   ]
  },
  {
   "cell_type": "markdown",
   "metadata": {},
   "source": [
    "Чаще всего пользователи не делали больше 2х заказов. "
   ]
  },
  {
   "cell_type": "markdown",
   "metadata": {},
   "source": [
    "### 95-й и 99-й перцентили количества заказов на пользователя. Выбор границы для определения аномальных пользователей\n",
    "<a id=\"g\"></a> "
   ]
  },
  {
   "cell_type": "code",
   "execution_count": 45,
   "metadata": {},
   "outputs": [
    {
     "data": {
      "text/plain": [
       "array([2., 4.])"
      ]
     },
     "execution_count": 45,
     "metadata": {},
     "output_type": "execute_result"
    }
   ],
   "source": [
    "np.percentile(Users['orders'], [95, 99]) #подсчет выборочных перцентилей количества"
   ]
  },
  {
   "cell_type": "code",
   "execution_count": 46,
   "metadata": {},
   "outputs": [
    {
     "data": {
      "text/plain": [
       "array([2., 2., 2., 2., 2., 3., 4.])"
      ]
     },
     "execution_count": 46,
     "metadata": {},
     "output_type": "execute_result"
    }
   ],
   "source": [
    "np.percentile(Users['orders'], [93,94,95,96,97,98,99]) #поиск границы для определения аномального количества заказов"
   ]
  },
  {
   "cell_type": "markdown",
   "metadata": {},
   "source": [
    "**Вывод:**"
   ]
  },
  {
   "cell_type": "markdown",
   "metadata": {},
   "source": [
    "По данным видно, что не более 2% пользователей делают более 2х заказов. Так что, если пользователь делает больше 2х заказов, это можно считать аномалией."
   ]
  },
  {
   "cell_type": "markdown",
   "metadata": {},
   "source": [
    "### Cтоимость заказов\n",
    "<a id=\"h\"></a> "
   ]
  },
  {
   "cell_type": "code",
   "execution_count": 47,
   "metadata": {},
   "outputs": [
    {
     "data": {
      "text/html": [
       "<div>\n",
       "<style scoped>\n",
       "    .dataframe tbody tr th:only-of-type {\n",
       "        vertical-align: middle;\n",
       "    }\n",
       "\n",
       "    .dataframe tbody tr th {\n",
       "        vertical-align: top;\n",
       "    }\n",
       "\n",
       "    .dataframe thead th {\n",
       "        text-align: right;\n",
       "    }\n",
       "</style>\n",
       "<table border=\"1\" class=\"dataframe\">\n",
       "  <thead>\n",
       "    <tr style=\"text-align: right;\">\n",
       "      <th></th>\n",
       "      <th>transactionId</th>\n",
       "      <th>visitorId</th>\n",
       "      <th>date</th>\n",
       "      <th>revenue</th>\n",
       "      <th>group</th>\n",
       "    </tr>\n",
       "  </thead>\n",
       "  <tbody>\n",
       "    <tr>\n",
       "      <th>0</th>\n",
       "      <td>3667963787</td>\n",
       "      <td>3312258926</td>\n",
       "      <td>2019-08-15</td>\n",
       "      <td>1650</td>\n",
       "      <td>B</td>\n",
       "    </tr>\n",
       "    <tr>\n",
       "      <th>1</th>\n",
       "      <td>2804400009</td>\n",
       "      <td>3642806036</td>\n",
       "      <td>2019-08-15</td>\n",
       "      <td>730</td>\n",
       "      <td>B</td>\n",
       "    </tr>\n",
       "    <tr>\n",
       "      <th>2</th>\n",
       "      <td>2961555356</td>\n",
       "      <td>4069496402</td>\n",
       "      <td>2019-08-15</td>\n",
       "      <td>400</td>\n",
       "      <td>A</td>\n",
       "    </tr>\n",
       "    <tr>\n",
       "      <th>3</th>\n",
       "      <td>3797467345</td>\n",
       "      <td>1196621759</td>\n",
       "      <td>2019-08-15</td>\n",
       "      <td>9759</td>\n",
       "      <td>B</td>\n",
       "    </tr>\n",
       "    <tr>\n",
       "      <th>4</th>\n",
       "      <td>2282983706</td>\n",
       "      <td>2322279887</td>\n",
       "      <td>2019-08-15</td>\n",
       "      <td>2308</td>\n",
       "      <td>B</td>\n",
       "    </tr>\n",
       "  </tbody>\n",
       "</table>\n",
       "</div>"
      ],
      "text/plain": [
       "   transactionId   visitorId       date  revenue group\n",
       "0     3667963787  3312258926 2019-08-15     1650     B\n",
       "1     2804400009  3642806036 2019-08-15      730     B\n",
       "2     2961555356  4069496402 2019-08-15      400     A\n",
       "3     3797467345  1196621759 2019-08-15     9759     B\n",
       "4     2282983706  2322279887 2019-08-15     2308     B"
      ]
     },
     "execution_count": 47,
     "metadata": {},
     "output_type": "execute_result"
    }
   ],
   "source": [
    "orders.head(5) #просмотр таблицы"
   ]
  },
  {
   "cell_type": "code",
   "execution_count": 48,
   "metadata": {},
   "outputs": [],
   "source": [
    "transaction = (orders.drop(['group', 'visitorId', 'date'], axis=1)) #изменение таблицы"
   ]
  },
  {
   "cell_type": "code",
   "execution_count": 49,
   "metadata": {},
   "outputs": [
    {
     "data": {
      "text/html": [
       "<div>\n",
       "<style scoped>\n",
       "    .dataframe tbody tr th:only-of-type {\n",
       "        vertical-align: middle;\n",
       "    }\n",
       "\n",
       "    .dataframe tbody tr th {\n",
       "        vertical-align: top;\n",
       "    }\n",
       "\n",
       "    .dataframe thead th {\n",
       "        text-align: right;\n",
       "    }\n",
       "</style>\n",
       "<table border=\"1\" class=\"dataframe\">\n",
       "  <thead>\n",
       "    <tr style=\"text-align: right;\">\n",
       "      <th></th>\n",
       "      <th>transactionId</th>\n",
       "      <th>revenue</th>\n",
       "    </tr>\n",
       "  </thead>\n",
       "  <tbody>\n",
       "    <tr>\n",
       "      <th>0</th>\n",
       "      <td>3667963787</td>\n",
       "      <td>1650</td>\n",
       "    </tr>\n",
       "    <tr>\n",
       "      <th>1</th>\n",
       "      <td>2804400009</td>\n",
       "      <td>730</td>\n",
       "    </tr>\n",
       "    <tr>\n",
       "      <th>2</th>\n",
       "      <td>2961555356</td>\n",
       "      <td>400</td>\n",
       "    </tr>\n",
       "    <tr>\n",
       "      <th>3</th>\n",
       "      <td>3797467345</td>\n",
       "      <td>9759</td>\n",
       "    </tr>\n",
       "    <tr>\n",
       "      <th>4</th>\n",
       "      <td>2282983706</td>\n",
       "      <td>2308</td>\n",
       "    </tr>\n",
       "    <tr>\n",
       "      <th>...</th>\n",
       "      <td>...</td>\n",
       "      <td>...</td>\n",
       "    </tr>\n",
       "    <tr>\n",
       "      <th>1192</th>\n",
       "      <td>2662137336</td>\n",
       "      <td>6490</td>\n",
       "    </tr>\n",
       "    <tr>\n",
       "      <th>1193</th>\n",
       "      <td>2203539145</td>\n",
       "      <td>3190</td>\n",
       "    </tr>\n",
       "    <tr>\n",
       "      <th>1194</th>\n",
       "      <td>1807773912</td>\n",
       "      <td>10550</td>\n",
       "    </tr>\n",
       "    <tr>\n",
       "      <th>1195</th>\n",
       "      <td>1947021204</td>\n",
       "      <td>100</td>\n",
       "    </tr>\n",
       "    <tr>\n",
       "      <th>1196</th>\n",
       "      <td>3936777065</td>\n",
       "      <td>202740</td>\n",
       "    </tr>\n",
       "  </tbody>\n",
       "</table>\n",
       "<p>1197 rows × 2 columns</p>\n",
       "</div>"
      ],
      "text/plain": [
       "      transactionId  revenue\n",
       "0        3667963787     1650\n",
       "1        2804400009      730\n",
       "2        2961555356      400\n",
       "3        3797467345     9759\n",
       "4        2282983706     2308\n",
       "...             ...      ...\n",
       "1192     2662137336     6490\n",
       "1193     2203539145     3190\n",
       "1194     1807773912    10550\n",
       "1195     1947021204      100\n",
       "1196     3936777065   202740\n",
       "\n",
       "[1197 rows x 2 columns]"
      ]
     },
     "execution_count": 49,
     "metadata": {},
     "output_type": "execute_result"
    }
   ],
   "source": [
    "transaction #просмотр таблицы"
   ]
  },
  {
   "cell_type": "code",
   "execution_count": 50,
   "metadata": {
    "scrolled": false
   },
   "outputs": [
    {
     "data": {
      "image/png": "[encoded data removed]",
      "text/plain": [
       "<Figure size 720x432 with 1 Axes>"
      ]
     },
     "metadata": {
      "needs_background": "light"
     },
     "output_type": "display_data"
    }
   ],
   "source": [
    "x_values = pd.Series(range(0,len(transaction)))\n",
    "#постройка графика\n",
    "plt.figure(figsize=(10,6))\n",
    "plt.title('График стоимости заказов')\n",
    "plt.scatter(x_values, transaction['revenue']) \n",
    "plt.show()"
   ]
  },
  {
   "cell_type": "code",
   "execution_count": 51,
   "metadata": {},
   "outputs": [
    {
     "data": {
      "image/png": "[encoded data removed]",
      "text/plain": [
       "<Figure size 720x432 with 1 Axes>"
      ]
     },
     "metadata": {
      "needs_background": "light"
     },
     "output_type": "display_data"
    }
   ],
   "source": [
    "#удаление большого разброса\n",
    "transaction = transaction.loc[transaction['revenue']<200000]\n",
    "\n",
    "x_values = pd.Series(range(0,len(transaction)))\n",
    "#постройка графика\n",
    "plt.figure(figsize=(10,6))\n",
    "plt.title('График стоимости заказов')\n",
    "plt.scatter(x_values, transaction['revenue'])\n",
    "plt.show()"
   ]
  },
  {
   "cell_type": "markdown",
   "metadata": {},
   "source": [
    "**Вывод:**"
   ]
  },
  {
   "cell_type": "markdown",
   "metadata": {},
   "source": [
    "По графику видно, что чаще всего заказы не привышают 20000."
   ]
  },
  {
   "cell_type": "markdown",
   "metadata": {},
   "source": [
    "### 95-й и 99-й перцентили стоимости заказов. Выбор границы для определения аномальных заказов\n",
    "<a id=\"i\"></a> "
   ]
  },
  {
   "cell_type": "code",
   "execution_count": 52,
   "metadata": {},
   "outputs": [
    {
     "data": {
      "text/plain": [
       "array([27565. , 56744.2])"
      ]
     },
     "execution_count": 52,
     "metadata": {},
     "output_type": "execute_result"
    }
   ],
   "source": [
    "np.percentile(transaction['revenue'], [95, 99]) #посчет выборочных перцентилей количества"
   ]
  },
  {
   "cell_type": "code",
   "execution_count": 53,
   "metadata": {},
   "outputs": [
    {
     "data": {
      "text/plain": [
       "array([20990.  , 24906.8 , 27565.  , 30730.84, 34629.2 , 42854.  ,\n",
       "       56744.2 ])"
      ]
     },
     "execution_count": 53,
     "metadata": {},
     "output_type": "execute_result"
    }
   ],
   "source": [
    "np.percentile(transaction['revenue'], [93,94,95,96,97,98,99]) #поиск границы для определения аномальной суммы заказов"
   ]
  },
  {
   "cell_type": "markdown",
   "metadata": {},
   "source": [
    "**Вывод:**"
   ]
  },
  {
   "cell_type": "markdown",
   "metadata": {},
   "source": [
    "При поиске границы для определения аномальной суммы заказов, резко сумма начала расти после показателя 34629.2. Это значит, что не более 3% пользователей тратят больше этой суммы заказа. Данное значение можно установить как границу аномальной."
   ]
  },
  {
   "cell_type": "markdown",
   "metadata": {},
   "source": [
    "### Статистическая значимость различий в среднем количестве заказов между группами по «сырым» данным\n",
    "<a id=\"j\"></a> "
   ]
  },
  {
   "cell_type": "markdown",
   "metadata": {},
   "source": [
    "Для обоснования своего выбора будет применятся критерий **Манна-Уитни**, так как он дает работать с данными где есть выбросы, сильно сдвигающие параметрические результаты."
   ]
  },
  {
   "cell_type": "markdown",
   "metadata": {},
   "source": [
    "**Уровень значимости**(alpha) применяем как 0,05."
   ]
  },
  {
   "cell_type": "markdown",
   "metadata": {},
   "source": [
    "**Сформулируем нулевую гипотизу**:  Статистически значимых различий в среднем количестве заказов между группами нет\n",
    "\n",
    "**Сформулируем альтернативную гипотизу**: Статистически значимые различия в среднем количестве заказов между группами есть "
   ]
  },
  {
   "cell_type": "code",
   "execution_count": 54,
   "metadata": {},
   "outputs": [
    {
     "data": {
      "text/html": [
       "<div>\n",
       "<style scoped>\n",
       "    .dataframe tbody tr th:only-of-type {\n",
       "        vertical-align: middle;\n",
       "    }\n",
       "\n",
       "    .dataframe tbody tr th {\n",
       "        vertical-align: top;\n",
       "    }\n",
       "\n",
       "    .dataframe thead th {\n",
       "        text-align: right;\n",
       "    }\n",
       "</style>\n",
       "<table border=\"1\" class=\"dataframe\">\n",
       "  <thead>\n",
       "    <tr style=\"text-align: right;\">\n",
       "      <th></th>\n",
       "      <th>date</th>\n",
       "      <th>group</th>\n",
       "      <th>visitors</th>\n",
       "    </tr>\n",
       "  </thead>\n",
       "  <tbody>\n",
       "    <tr>\n",
       "      <th>0</th>\n",
       "      <td>2019-08-01</td>\n",
       "      <td>A</td>\n",
       "      <td>719</td>\n",
       "    </tr>\n",
       "    <tr>\n",
       "      <th>1</th>\n",
       "      <td>2019-08-02</td>\n",
       "      <td>A</td>\n",
       "      <td>619</td>\n",
       "    </tr>\n",
       "    <tr>\n",
       "      <th>2</th>\n",
       "      <td>2019-08-03</td>\n",
       "      <td>A</td>\n",
       "      <td>507</td>\n",
       "    </tr>\n",
       "    <tr>\n",
       "      <th>3</th>\n",
       "      <td>2019-08-04</td>\n",
       "      <td>A</td>\n",
       "      <td>717</td>\n",
       "    </tr>\n",
       "    <tr>\n",
       "      <th>4</th>\n",
       "      <td>2019-08-05</td>\n",
       "      <td>A</td>\n",
       "      <td>756</td>\n",
       "    </tr>\n",
       "  </tbody>\n",
       "</table>\n",
       "</div>"
      ],
      "text/plain": [
       "        date group  visitors\n",
       "0 2019-08-01     A       719\n",
       "1 2019-08-02     A       619\n",
       "2 2019-08-03     A       507\n",
       "3 2019-08-04     A       717\n",
       "4 2019-08-05     A       756"
      ]
     },
     "execution_count": 54,
     "metadata": {},
     "output_type": "execute_result"
    }
   ],
   "source": [
    "visitors.head() #просмотр таблицы"
   ]
  },
  {
   "cell_type": "code",
   "execution_count": 55,
   "metadata": {},
   "outputs": [
    {
     "data": {
      "text/html": [
       "<div>\n",
       "<style scoped>\n",
       "    .dataframe tbody tr th:only-of-type {\n",
       "        vertical-align: middle;\n",
       "    }\n",
       "\n",
       "    .dataframe tbody tr th {\n",
       "        vertical-align: top;\n",
       "    }\n",
       "\n",
       "    .dataframe thead th {\n",
       "        text-align: right;\n",
       "    }\n",
       "</style>\n",
       "<table border=\"1\" class=\"dataframe\">\n",
       "  <thead>\n",
       "    <tr style=\"text-align: right;\">\n",
       "      <th></th>\n",
       "      <th>transactionId</th>\n",
       "      <th>visitorId</th>\n",
       "      <th>date</th>\n",
       "      <th>revenue</th>\n",
       "      <th>group</th>\n",
       "    </tr>\n",
       "  </thead>\n",
       "  <tbody>\n",
       "    <tr>\n",
       "      <th>0</th>\n",
       "      <td>3667963787</td>\n",
       "      <td>3312258926</td>\n",
       "      <td>2019-08-15</td>\n",
       "      <td>1650</td>\n",
       "      <td>B</td>\n",
       "    </tr>\n",
       "    <tr>\n",
       "      <th>1</th>\n",
       "      <td>2804400009</td>\n",
       "      <td>3642806036</td>\n",
       "      <td>2019-08-15</td>\n",
       "      <td>730</td>\n",
       "      <td>B</td>\n",
       "    </tr>\n",
       "    <tr>\n",
       "      <th>2</th>\n",
       "      <td>2961555356</td>\n",
       "      <td>4069496402</td>\n",
       "      <td>2019-08-15</td>\n",
       "      <td>400</td>\n",
       "      <td>A</td>\n",
       "    </tr>\n",
       "    <tr>\n",
       "      <th>3</th>\n",
       "      <td>3797467345</td>\n",
       "      <td>1196621759</td>\n",
       "      <td>2019-08-15</td>\n",
       "      <td>9759</td>\n",
       "      <td>B</td>\n",
       "    </tr>\n",
       "    <tr>\n",
       "      <th>4</th>\n",
       "      <td>2282983706</td>\n",
       "      <td>2322279887</td>\n",
       "      <td>2019-08-15</td>\n",
       "      <td>2308</td>\n",
       "      <td>B</td>\n",
       "    </tr>\n",
       "  </tbody>\n",
       "</table>\n",
       "</div>"
      ],
      "text/plain": [
       "   transactionId   visitorId       date  revenue group\n",
       "0     3667963787  3312258926 2019-08-15     1650     B\n",
       "1     2804400009  3642806036 2019-08-15      730     B\n",
       "2     2961555356  4069496402 2019-08-15      400     A\n",
       "3     3797467345  1196621759 2019-08-15     9759     B\n",
       "4     2282983706  2322279887 2019-08-15     2308     B"
      ]
     },
     "execution_count": 55,
     "metadata": {},
     "output_type": "execute_result"
    }
   ],
   "source": [
    "orders.head() #просмотр таблицы"
   ]
  },
  {
   "cell_type": "code",
   "execution_count": 56,
   "metadata": {},
   "outputs": [],
   "source": [
    "visitorsADaily = visitors[visitors['group']=='A'][['date', 'visitors']] #подготовка данных\n",
    "visitorsADaily.columns = ['date', 'visitorsPerDateA']\n",
    "\n",
    "visitorsACummulative = visitorsADaily.apply(lambda x: visitorsADaily[visitorsADaily['date'] <= x['date']]\n",
    "                                            .agg({'date': 'max', 'visitorsPerDateA': 'sum'}),axis=1)\n",
    "visitorsACummulative.columns = ['date', 'visitorsCummulativeA']\n",
    "\n",
    "visitorsBDaily = visitors[visitors['group'] == 'B'][['date', 'visitors']]\n",
    "visitorsBDaily.columns = ['date', 'visitorsPerDateB']\n",
    "\n",
    "visitorsBCummulative = visitorsBDaily.apply(lambda x: visitorsBDaily[visitorsBDaily['date'] <= x['date']]\n",
    "                                            .agg({'date': 'max', 'visitorsPerDateB': 'sum'}),axis=1)\n",
    "visitorsBCummulative.columns = ['date', 'visitorsCummulativeB']\n",
    "\n",
    "\n",
    "ordersADaily =(orders[orders['group'] == 'A'][['date', 'transactionId', 'visitorId', 'revenue']]\n",
    "               .groupby('date', as_index=False)\n",
    "               .agg({'transactionId': pd.Series.nunique, 'revenue': 'sum'}))\n",
    "ordersADaily.columns = ['date', 'ordersPerDateA', 'revenuePerDateA']\n",
    "\n",
    "ordersACummulative = ordersADaily.apply(lambda x: ordersADaily[ordersADaily['date'] <= x['date']]\n",
    "                                        .agg({'date': 'max', 'ordersPerDateA': 'sum',\n",
    "                                              'revenuePerDateA': 'sum'}),axis=1).sort_values(by=['date'])\n",
    "ordersACummulative.columns = ['date','ordersCummulativeA','revenueCummulativeA']\n",
    "\n",
    "ordersBDaily =(orders[orders['group'] == 'B'][['date', 'transactionId', 'visitorId', 'revenue']]\n",
    "               .groupby('date', as_index=False)\n",
    "               .agg({'transactionId': pd.Series.nunique, 'revenue': 'sum'}))\n",
    "ordersBDaily.columns = ['date', 'ordersPerDateB', 'revenuePerDateB']\n",
    "\n",
    "ordersBCummulative = ordersBDaily.apply(lambda x: ordersBDaily[ordersBDaily['date'] <= x['date']]\n",
    "                                        .agg({'date': 'max', 'ordersPerDateB': 'sum',\n",
    "                                              'revenuePerDateB': 'sum'}),axis=1).sort_values(by=['date'])\n",
    "ordersBCummulative.columns = ['date','ordersCummulativeB','revenueCummulativeB']"
   ]
  },
  {
   "cell_type": "markdown",
   "metadata": {},
   "source": [
    "Далее:\n",
    "1) **Применим критерий и отформатируем p-value**, округлив его до трёх знаков после запятой. В sampleA сохраним выборку, где каждый элемент — число заказов определённого пользователя, в том числе ноль. Значит, число элементов sampleA — это количество пользователей, сумма всех элементов — количество заказов. Чтобы получить среднее число заказов на пользователя, поделим сумму заказов на число пользователей — найдём среднее в выборке sampleA методом mean(). Аналогично найдём среднее группы B: SampleB.mean().\n",
    "\n",
    "2) **Выведем относительный прирост среднего числа заказов группы B:** среднее число заказов группы B / среднее число заказов группы A - 1."
   ]
  },
  {
   "cell_type": "code",
   "execution_count": 57,
   "metadata": {},
   "outputs": [
    {
     "name": "stdout",
     "output_type": "stream",
     "text": [
      "alpha = 0.05\n",
      "p-value = 0.017\n",
      "Относительный показатель 'B' и 'A' = 0.138\n"
     ]
    }
   ],
   "source": [
    "#подсчет статистической значимости различия в среднем количестве заказов между группами\n",
    "ordersByUsersA = (orders[orders['group'] == 'A'] \n",
    "                  .groupby('visitorId', as_index=False)\n",
    "                  .agg({'transactionId': pd.Series.nunique}))\n",
    "ordersByUsersA.columns = ['userId', 'orders']\n",
    "\n",
    "ordersByUsersB = (orders[orders['group'] == 'B']\n",
    "                  .groupby('visitorId', as_index=False)\n",
    "                  .agg({'transactionId': pd.Series.nunique}))\n",
    "ordersByUsersB.columns = ['userId', 'orders']\n",
    "\n",
    "sampleA = pd.concat([ordersByUsersA['orders'],pd.Series(0, index=np.arange(visitorsADaily['visitorsPerDateA'].sum() - len(ordersByUsersA['orders'])), name='orders')],axis=0)\n",
    "\n",
    "sampleB = pd.concat([ordersByUsersB['orders'],pd.Series(0, index=np.arange(visitorsBDaily['visitorsPerDateB'].sum() - len(ordersByUsersB['orders'])), name='orders')],axis=0) \n",
    "\n",
    "print(\"alpha =\",0.05)\n",
    "print(\"p-value = {0:.3f}\".format(stats.mannwhitneyu(sampleA, sampleB, alternative = 'two-sided')[1]))\n",
    "print(\"Относительный показатель 'B' и 'A' = {0:.3f}\".format(sampleB.mean()/sampleA.mean()-1)) "
   ]
  },
  {
   "cell_type": "markdown",
   "metadata": {},
   "source": [
    "**Вывод:**"
   ]
  },
  {
   "cell_type": "markdown",
   "metadata": {},
   "source": [
    "По «сырым» данным различия в среднем числе заказов групп A и B есть.\n",
    "\n",
    "p-value = 0.017, что меньше 0.05. Значит, нулевая гипотеза о том, что статистически значимых различий в среднем числе заказов между группами скорее всего не верна, в данном случае **отвергаем** её. Относительный выигрыш группы B равен 13.8%."
   ]
  },
  {
   "cell_type": "markdown",
   "metadata": {},
   "source": [
    "### Статистическая значимость различий в среднем чеке заказа между группами по «сырым» данным\n",
    "<a id=\"k\"></a> "
   ]
  },
  {
   "cell_type": "markdown",
   "metadata": {},
   "source": [
    "**Сформулируем нулевую гипотизу**:  Статистически значимых различий в среднем чеке между группами нет\n",
    "\n",
    "**Сформулируем альтернативную гипотизу**: Статистически значимые различия в среднем чеке между группами есть "
   ]
  },
  {
   "cell_type": "code",
   "execution_count": 58,
   "metadata": {},
   "outputs": [
    {
     "name": "stdout",
     "output_type": "stream",
     "text": [
      "alpha = 0.05\n",
      "p-value = 0.729\n",
      "Относительный показатель 'B' и 'A' = 0.259\n"
     ]
    }
   ],
   "source": [
    "#подсчет и вывод статистической значимости различия в среднем чеке между группами\n",
    "print(\"alpha =\",0.05)\n",
    "print('p-value = {0:.3f}'.format(stats.mannwhitneyu(orders[orders['group']=='A']['revenue'], orders[orders['group']=='B']['revenue'])[1]))\n",
    "print(\"Относительный показатель 'B' и 'A' = {0:.3f}\".format(orders[orders['group']=='B']['revenue'].mean()/orders[orders['group']=='A']['revenue'].mean()-1))  "
   ]
  },
  {
   "cell_type": "markdown",
   "metadata": {},
   "source": [
    "**Вывод**"
   ]
  },
  {
   "cell_type": "markdown",
   "metadata": {},
   "source": [
    "По «сырым» данным различий в среднем чеке групп A и B нет.\n",
    "\n",
    "p-value = 0.729, что больше 0.05. Значит, нулевая гипотеза о том, что статистически значимых различий в среднем чеке между группами верна, **не отвергаем** её. Относительный выигрыш группы B равен 25.9%."
   ]
  },
  {
   "cell_type": "markdown",
   "metadata": {},
   "source": [
    "### Статистическая значимость различий в среднем количестве заказов между группами по «очищенным» данным\n",
    "<a id=\"l\"></a> "
   ]
  },
  {
   "cell_type": "markdown",
   "metadata": {},
   "source": [
    "**Сформулируем нулевую гипотизу**:  Статистически значимых различий в среднем количестве заказов между группами нет\n",
    "\n",
    "**Сформулируем альтернативную гипотизу**: Статистически значимые различия в среднем количестве заказов между группами есть "
   ]
  },
  {
   "cell_type": "code",
   "execution_count": 59,
   "metadata": {},
   "outputs": [
    {
     "name": "stdout",
     "output_type": "stream",
     "text": [
      "1099    148427295\n",
      "18      199603092\n",
      "23      237748145\n",
      "37      249864742\n",
      "684     358944393\n",
      "dtype: int64\n",
      "Аномальных пользователей: 54\n"
     ]
    }
   ],
   "source": [
    "usersWithManyOrders = pd.concat([ordersByUsersA[ordersByUsersA['orders'] > 2]['userId'], ordersByUsersB[ordersByUsersB['orders'] > 2]['userId']], axis = 0)\n",
    "usersWithExpensiveOrders = orders[orders['revenue'] > 34629.2]['visitorId']\n",
    "abnormalUsers = pd.concat([usersWithManyOrders, usersWithExpensiveOrders], axis = 0).drop_duplicates().sort_values()\n",
    "\n",
    "print(abnormalUsers.head(5))\n",
    "print('Аномальных пользователей:', abnormalUsers.shape[0]) "
   ]
  },
  {
   "cell_type": "code",
   "execution_count": 60,
   "metadata": {},
   "outputs": [
    {
     "name": "stdout",
     "output_type": "stream",
     "text": [
      "alpha = 0.05\n",
      "p-value = 0.009\n",
      "Относительный показатель 'B' и 'A' = 0.181\n"
     ]
    }
   ],
   "source": [
    "sampleAFiltered = pd.concat([ordersByUsersA[np.logical_not(ordersByUsersA['userId'].isin(abnormalUsers))]['orders'],\n",
    "                             pd.Series(0,index=np.arange(visitorsADaily['visitorsPerDateA'].sum() - len(ordersByUsersA['orders'])),\n",
    "                                    name='orders')],axis=0)\n",
    "\n",
    "sampleBFiltered = pd.concat([ordersByUsersB[np.logical_not(ordersByUsersB['userId'].isin(abnormalUsers))]['orders'],\n",
    "                             pd.Series(0,index=np.arange(visitorsBDaily['visitorsPerDateB'].sum() - len(ordersByUsersB['orders'])),\n",
    "                                       name='orders')],axis=0) \n",
    "\n",
    "print(\"alpha =\",0.05)\n",
    "print(\"p-value = {0:.3f}\".format(stats.mannwhitneyu(sampleAFiltered, sampleBFiltered, alternative = 'two-sided')[1]))\n",
    "print(\"Относительный показатель 'B' и 'A' = {0:.3f}\".format(sampleBFiltered.mean()/sampleAFiltered.mean()-1)) "
   ]
  },
  {
   "cell_type": "markdown",
   "metadata": {},
   "source": [
    "**Вывод:**"
   ]
  },
  {
   "cell_type": "markdown",
   "metadata": {},
   "source": [
    "По «очищенным» данным различия в среднем числе заказов групп A и B есть.\n",
    "\n",
    "p-value = 0.009, что меньше 0.05. Значит, нулевая гипотеза о том, что статистически значимых различий в среднем числе заказов между группами не верна, **отвергаем** её. Относительный выигрыш группы B равен 18.1%."
   ]
  },
  {
   "cell_type": "markdown",
   "metadata": {},
   "source": [
    "### Статистическая значимость различий в среднем чеке заказа между группами по «очищенным» данным\n",
    "<a id=\"m\"></a> "
   ]
  },
  {
   "cell_type": "markdown",
   "metadata": {},
   "source": [
    "**Сформулируем нулевую гипотизу**:  Статистически значимых различий в среднем чеке между группами нет\n",
    "\n",
    "**Сформулируем альтернативную гипотизу**: Статистически значимые различия в среднем чеке между группами есть "
   ]
  },
  {
   "cell_type": "code",
   "execution_count": 61,
   "metadata": {},
   "outputs": [
    {
     "name": "stdout",
     "output_type": "stream",
     "text": [
      "alpha = 0.05\n",
      "p-value = 0.931\n",
      "Относительный показатель 'B' и 'A' = 0.033\n"
     ]
    }
   ],
   "source": [
    "print(\"alpha =\",0.05)\n",
    "print('p-value = {0:.3f}'.format(stats.mannwhitneyu\n",
    "                       (orders[np.logical_and(orders['group'] == 'A',\n",
    "                                              np.logical_not(orders['visitorId'].isin(abnormalUsers)))]['revenue'],\n",
    "                        orders[np.logical_and(orders['group'] == 'B',\n",
    "                                              np.logical_not(orders['visitorId'].isin(abnormalUsers)))]['revenue'])[1]))\n",
    "\n",
    "print(\"Относительный показатель 'B' и 'A' = {0:.3f}\".format(\n",
    "    orders[np.logical_and(orders['group']=='B',np.logical_not(orders['visitorId'].isin(abnormalUsers)))]['revenue'].mean()/\n",
    "    orders[np.logical_and(\n",
    "        orders['group']=='A',\n",
    "        np.logical_not(orders['visitorId'].isin(abnormalUsers)))]['revenue'].mean() - 1)) \n",
    "\n"
   ]
  },
  {
   "cell_type": "markdown",
   "metadata": {},
   "source": [
    "**Вывод:**"
   ]
  },
  {
   "cell_type": "markdown",
   "metadata": {},
   "source": [
    "По «очищенным» данным различий в среднем чеке групп A и B нет.\n",
    "\n",
    "p-value = 0.931, что больше 0.05. Значит, нулевая гипотеза о том, что статистически значимых различий в среднем чеке между группами верна, **не отвергаем** её. Относительный выигрыш группы B равен 3.3%."
   ]
  },
  {
   "cell_type": "markdown",
   "metadata": {},
   "source": [
    "### Решение по результатам теста\n",
    "<a id=\"n\"></a> "
   ]
  },
  {
   "cell_type": "markdown",
   "metadata": {},
   "source": [
    "Можно остановить тест, сделав выывод что:\n",
    "\n",
    "* Статистически значимые различия в среднем количестве заказов между группами есть. Группа **B** выигрывает по заказам на 18.1%.\n",
    "* Статистически значимых различий в среднем чеке между группами нет. Относительный выигрыш группы **B** равен 3.3%."
   ]
  },
  {
   "cell_type": "markdown",
   "metadata": {},
   "source": [
    "## Общий вывод\n",
    "<a id=\"aa\"></a> "
   ]
  },
  {
   "cell_type": "markdown",
   "metadata": {},
   "source": [
    "**При подготовке к  А/В тесту, было выясненно, что:**\n",
    "\n",
    "В датасетах *orders* и *visitors*, не было замечено пропусков. Был изменен тип данных столбцов *date*. Так же в обоих датасетак не было выявлено неявных дубликатов. Так же не было выявленно подозрительных значений в столбцах, кроме максимального значения *revenue* в датасете **orders**(но данное значение можно будет проверить дальше в работе, если это понадобится).\n",
    "\n",
    "Для проведения А/В теста, были выявленны такие данные:\n",
    "- В А/В тесте 2 группы \"А\" и \"В\";\n",
    "- Дата начала теста \"2019-08-01\", дата окончания теста \"2019-08-31\";\n",
    "- Колличество участников в группе B: 640;\n",
    "- Колличество участников в группе A: 557;\n",
    "- Колличество участников в группе A и B одновременно: 58."
   ]
  },
  {
   "cell_type": "markdown",
   "metadata": {},
   "source": [
    "**При анализе A/B теста было выявлено, что:**\n",
    "\n",
    "* Выручка до 18 августа шла примерно одинаково, но потом в группе **В** был зафиксирован резкий скачек вверх. Это скорее всего произошло 19 августа из-за большой цены заказа. Но так же нельзя отвергать теории, что на рост могло повлиять большое число заказов или технические неполадки.\n",
    "\n",
    "\n",
    "* На  графике 'Кумулятивный средний чек по группам' ситуация схожа с куммулятивной выручкой. Но видны явные различия группы **А** от грууппы **В**. Так же видно, что идет резкий скачек 19 августа. Это может подтвердить теорию о скачке, в этот же день, на графике **'Кумулятивная выручка по группам'** из-за большой цены заказа.\n",
    "\n",
    "\n",
    "* В целом, график 'Кумулятивный средний чек группы B к группе A' отражает ту же ситуацию, что и график 'Кумулятивный средний чек по группам'. С 1 по 6 августа наблюдается рост среднего чека в группе **B**, пока в группе **А** он уменьшался(пиковое значение разницы, примерно 35%), потом до 13 августа средний чек разных групп приближался друг к другу, в какойто момент чек группы **А** превылил группу **В** на примерно 15%. 18 августа идет резкий прыжок, из-за дорогого заказа в группе **В**(разница оказывается в районе 50%). Потом до 1 сентября идет небольшой спад, и разница к концу месяца составляет в районе 25%.\n",
    "\n",
    "\n",
    "* До 5 августа В обоих группах кумулятивное среднее количество заказов скачет. После чего до конца августа у группы **А** количество заказов пошло в низ и остается на стабильном низком уровне до конца месяца(от 0,029 до 0,031). Тем временем в группе **В** обратная ситуация, к 10 авгесту среднее взлетает до отметки 0.036, дальше идет постепенный спад, но все равно эта группа находиться на стабильно высоком уровне(0,033 до 0,034).\n",
    "\n",
    "\n",
    "* На графике 'Кумулятивное среднее количество заказовов группы B к группе A' видно, что изначально среднее количество заказов преобладало в группе **А**(примерно на 15%). До 5 августа ситуация была не стабильна.И затем среднее колличество заказов в группе **В** превысило группу **А** на примерно 17%. И дальше разница продолжала оставаться на стабильно превышающем уровне(от 9 до 20 %)\n",
    "\n",
    "\n",
    "* Не более 2% пользователей делают более 2х заказов. Так что, если пользователь делает больше 2х заказов, это можно считать аномалией.\n",
    "\n",
    "\n",
    "* По графику 'График стоимости заказов' видно, что чаще всего заказы не привышают 20000.\n",
    "\n",
    "\n",
    "* При поиске границы для определения аномальной суммы заказов, резко сумма начала расти после показателя 34629.2. Это значит, что не более 3% пользователей тратят больше этой суммы заказа. Данное значение можно установить как границу аномальной.\n",
    "\n",
    "\n",
    "* По «сырым» данным различия в среднем числе заказов групп A и B есть.\n",
    "p-value = 0.017, что меньше 0.05. Значит, нулевая гипотеза о том, что статистически значимых различий в среднем числе заказов между группами скорее всего не верна, в данном случае **отвергаем** её. Относительный выигрыш группы B равен 13.8%.\n",
    "\n",
    "\n",
    "* По «сырым» данным различий в среднем чеке групп A и B нет.\n",
    "p-value = 0.729, что больше 0.05. Значит, нулевая гипотеза о том, что статистически значимых различий в среднем чеке между группами верна, **не отвергаем** её. Относительный выигрыш группы B равен 25.9%.\n",
    "\n",
    "\n",
    "* По «очищенным» данным различия в среднем числе заказов групп A и B есть.\n",
    "p-value = 0.009, что меньше 0.05. Значит, нулевая гипотеза о том, что статистически значимых различий в среднем числе заказов между группами не верна, **отвергаем** её. Относительный выигрыш группы B равен 18.1%.\n",
    "\n",
    "\n",
    "* По «очищенным» данным различий в среднем чеке групп A и B нет.\n",
    "p-value = 0.931, что больше 0.05. Значит, нулевая гипотеза о том, что статистически значимых различий в среднем чеке между группами верна, **не отвергаем** её. Относительный выигрыш группы B равен 3.3%."
   ]
  },
  {
   "cell_type": "markdown",
   "metadata": {},
   "source": [
    "**Решением по результату теста стали:**\n",
    "\n",
    "* Можно остановить тест;\n",
    "* Статистически значимые различия в среднем количестве заказов между группами есть. Группа **B** выигрывает по заказам на 18.1%;\n",
    "* Статистически значимых различий в среднем чеке между группами нет. Относительный выигрыш группы **B** равен 3.3%."
   ]
  }
 ],
 "metadata": {
  "ExecuteTimeLog": [
   {
    "duration": 358,
    "start_time": "2022-11-21T18:00:34.665Z"
   },
   {
    "duration": 68,
    "start_time": "2022-11-21T18:00:35.563Z"
   },
   {
    "duration": 14,
    "start_time": "2022-11-21T18:01:05.681Z"
   },
   {
    "duration": 416,
    "start_time": "2022-11-23T17:34:37.758Z"
   },
   {
    "duration": 63,
    "start_time": "2022-11-23T17:34:38.176Z"
   },
   {
    "duration": 18,
    "start_time": "2022-11-23T17:34:38.240Z"
   },
   {
    "duration": 12,
    "start_time": "2022-11-23T17:34:52.210Z"
   },
   {
    "duration": 6,
    "start_time": "2022-11-23T17:39:07.035Z"
   },
   {
    "duration": 9,
    "start_time": "2022-11-23T17:39:07.628Z"
   },
   {
    "duration": 9,
    "start_time": "2022-11-23T17:40:40.585Z"
   },
   {
    "duration": 418,
    "start_time": "2022-11-23T17:41:11.952Z"
   },
   {
    "duration": 28,
    "start_time": "2022-11-23T17:41:12.372Z"
   },
   {
    "duration": 14,
    "start_time": "2022-11-23T17:41:12.402Z"
   },
   {
    "duration": 11,
    "start_time": "2022-11-23T17:41:12.419Z"
   },
   {
    "duration": 5,
    "start_time": "2022-11-23T17:41:12.432Z"
   },
   {
    "duration": 9,
    "start_time": "2022-11-23T17:41:12.439Z"
   },
   {
    "duration": 16,
    "start_time": "2022-11-23T17:41:12.449Z"
   },
   {
    "duration": 4,
    "start_time": "2022-11-23T17:43:07.614Z"
   },
   {
    "duration": 9,
    "start_time": "2022-11-23T17:43:08.289Z"
   },
   {
    "duration": 9,
    "start_time": "2022-11-23T17:43:11.231Z"
   },
   {
    "duration": 74,
    "start_time": "2022-11-23T17:43:19.311Z"
   },
   {
    "duration": 9,
    "start_time": "2022-11-23T17:43:31.358Z"
   },
   {
    "duration": 393,
    "start_time": "2022-11-23T17:44:24.673Z"
   },
   {
    "duration": 28,
    "start_time": "2022-11-23T17:44:25.069Z"
   },
   {
    "duration": 14,
    "start_time": "2022-11-23T17:44:25.099Z"
   },
   {
    "duration": 10,
    "start_time": "2022-11-23T17:44:25.115Z"
   },
   {
    "duration": 8,
    "start_time": "2022-11-23T17:44:25.126Z"
   },
   {
    "duration": 10,
    "start_time": "2022-11-23T17:44:25.135Z"
   },
   {
    "duration": 14,
    "start_time": "2022-11-23T17:44:25.146Z"
   },
   {
    "duration": 5,
    "start_time": "2022-11-23T17:44:25.162Z"
   },
   {
    "duration": 11,
    "start_time": "2022-11-23T17:44:25.169Z"
   },
   {
    "duration": 10,
    "start_time": "2022-11-23T17:44:25.182Z"
   },
   {
    "duration": 95,
    "start_time": "2022-11-23T17:54:07.370Z"
   },
   {
    "duration": 55,
    "start_time": "2022-11-23T17:54:08.087Z"
   },
   {
    "duration": 12,
    "start_time": "2022-11-23T17:54:08.698Z"
   },
   {
    "duration": 10,
    "start_time": "2022-11-23T17:54:11.161Z"
   },
   {
    "duration": 9,
    "start_time": "2022-11-23T17:54:23.266Z"
   },
   {
    "duration": 7,
    "start_time": "2022-11-23T17:54:23.604Z"
   },
   {
    "duration": 2,
    "start_time": "2022-11-23T17:55:09.455Z"
   },
   {
    "duration": 400,
    "start_time": "2022-11-23T18:36:30.677Z"
   },
   {
    "duration": 28,
    "start_time": "2022-11-23T18:36:31.080Z"
   },
   {
    "duration": 16,
    "start_time": "2022-11-23T18:36:31.110Z"
   },
   {
    "duration": 24,
    "start_time": "2022-11-23T18:36:31.128Z"
   },
   {
    "duration": 35,
    "start_time": "2022-11-23T18:36:31.154Z"
   },
   {
    "duration": 18,
    "start_time": "2022-11-23T18:36:31.190Z"
   },
   {
    "duration": 17,
    "start_time": "2022-11-23T18:36:31.210Z"
   },
   {
    "duration": 7,
    "start_time": "2022-11-23T18:36:31.229Z"
   },
   {
    "duration": 18,
    "start_time": "2022-11-23T18:36:31.238Z"
   },
   {
    "duration": 16,
    "start_time": "2022-11-23T18:36:31.259Z"
   },
   {
    "duration": 58,
    "start_time": "2022-11-23T18:36:31.277Z"
   },
   {
    "duration": 16,
    "start_time": "2022-11-23T18:36:31.336Z"
   },
   {
    "duration": 8,
    "start_time": "2022-11-23T18:36:31.354Z"
   },
   {
    "duration": 24,
    "start_time": "2022-11-23T18:36:31.364Z"
   },
   {
    "duration": 6,
    "start_time": "2022-11-23T18:37:03.567Z"
   },
   {
    "duration": 9,
    "start_time": "2022-11-23T18:37:09.992Z"
   },
   {
    "duration": 7,
    "start_time": "2022-11-23T18:37:45.615Z"
   },
   {
    "duration": 82,
    "start_time": "2022-11-23T18:39:26.982Z"
   },
   {
    "duration": 156,
    "start_time": "2022-11-23T18:40:54.378Z"
   },
   {
    "duration": 112,
    "start_time": "2022-11-23T18:40:58.733Z"
   },
   {
    "duration": 10,
    "start_time": "2022-11-23T18:41:03.847Z"
   },
   {
    "duration": 816,
    "start_time": "2022-11-23T18:41:36.822Z"
   },
   {
    "duration": 29,
    "start_time": "2022-11-23T18:41:37.640Z"
   },
   {
    "duration": 11,
    "start_time": "2022-11-23T18:41:37.671Z"
   },
   {
    "duration": 11,
    "start_time": "2022-11-23T18:41:37.684Z"
   },
   {
    "duration": 6,
    "start_time": "2022-11-23T18:41:37.697Z"
   },
   {
    "duration": 19,
    "start_time": "2022-11-23T18:41:37.704Z"
   },
   {
    "duration": 12,
    "start_time": "2022-11-23T18:41:37.724Z"
   },
   {
    "duration": 17,
    "start_time": "2022-11-23T18:41:37.738Z"
   },
   {
    "duration": 25,
    "start_time": "2022-11-23T18:41:37.757Z"
   },
   {
    "duration": 21,
    "start_time": "2022-11-23T18:41:37.783Z"
   },
   {
    "duration": 52,
    "start_time": "2022-11-23T18:41:37.806Z"
   },
   {
    "duration": 16,
    "start_time": "2022-11-23T18:41:37.860Z"
   },
   {
    "duration": 16,
    "start_time": "2022-11-23T18:41:37.878Z"
   },
   {
    "duration": 41,
    "start_time": "2022-11-23T18:41:37.898Z"
   },
   {
    "duration": 20,
    "start_time": "2022-11-23T18:41:37.941Z"
   },
   {
    "duration": 35,
    "start_time": "2022-11-23T18:41:37.962Z"
   },
   {
    "duration": 170,
    "start_time": "2022-11-23T18:41:37.999Z"
   },
   {
    "duration": 121,
    "start_time": "2022-11-23T18:41:38.170Z"
   },
   {
    "duration": 9,
    "start_time": "2022-11-23T18:41:38.293Z"
   },
   {
    "duration": 5,
    "start_time": "2022-11-23T18:44:05.317Z"
   },
   {
    "duration": 5,
    "start_time": "2022-11-23T18:44:06.675Z"
   },
   {
    "duration": 285,
    "start_time": "2022-11-23T18:44:07.420Z"
   },
   {
    "duration": 7,
    "start_time": "2022-11-23T18:46:02.109Z"
   },
   {
    "duration": 409,
    "start_time": "2022-11-23T18:46:02.739Z"
   },
   {
    "duration": 261,
    "start_time": "2022-11-23T18:47:45.587Z"
   },
   {
    "duration": 807,
    "start_time": "2022-11-26T16:31:54.904Z"
   },
   {
    "duration": 77,
    "start_time": "2022-11-26T16:31:55.714Z"
   },
   {
    "duration": 13,
    "start_time": "2022-11-26T16:31:55.793Z"
   },
   {
    "duration": 14,
    "start_time": "2022-11-26T16:31:55.808Z"
   },
   {
    "duration": 8,
    "start_time": "2022-11-26T16:31:55.824Z"
   },
   {
    "duration": 10,
    "start_time": "2022-11-26T16:31:55.834Z"
   },
   {
    "duration": 11,
    "start_time": "2022-11-26T16:31:55.846Z"
   },
   {
    "duration": 27,
    "start_time": "2022-11-26T16:31:55.859Z"
   },
   {
    "duration": 20,
    "start_time": "2022-11-26T16:31:55.888Z"
   },
   {
    "duration": 13,
    "start_time": "2022-11-26T16:31:55.910Z"
   },
   {
    "duration": 83,
    "start_time": "2022-11-26T16:31:55.924Z"
   },
   {
    "duration": 57,
    "start_time": "2022-11-26T16:31:56.009Z"
   },
   {
    "duration": 7,
    "start_time": "2022-11-26T16:31:56.068Z"
   },
   {
    "duration": 21,
    "start_time": "2022-11-26T16:31:56.078Z"
   },
   {
    "duration": 7,
    "start_time": "2022-11-26T16:31:56.101Z"
   },
   {
    "duration": 8,
    "start_time": "2022-11-26T16:31:56.109Z"
   },
   {
    "duration": 150,
    "start_time": "2022-11-26T16:31:56.119Z"
   },
   {
    "duration": 115,
    "start_time": "2022-11-26T16:31:56.271Z"
   },
   {
    "duration": 11,
    "start_time": "2022-11-26T16:31:56.388Z"
   },
   {
    "duration": 10,
    "start_time": "2022-11-26T16:31:56.400Z"
   },
   {
    "duration": 22,
    "start_time": "2022-11-26T16:31:56.411Z"
   },
   {
    "duration": 284,
    "start_time": "2022-11-26T16:31:56.435Z"
   },
   {
    "duration": 6,
    "start_time": "2022-11-26T16:31:56.720Z"
   },
   {
    "duration": 14,
    "start_time": "2022-11-26T16:31:56.728Z"
   },
   {
    "duration": 10,
    "start_time": "2022-11-26T16:31:56.744Z"
   },
   {
    "duration": 28,
    "start_time": "2022-11-26T16:31:56.756Z"
   },
   {
    "duration": 367,
    "start_time": "2022-11-26T16:31:56.786Z"
   },
   {
    "duration": 256,
    "start_time": "2022-11-26T16:31:57.155Z"
   },
   {
    "duration": 3,
    "start_time": "2022-11-26T16:40:20.940Z"
   },
   {
    "duration": 83,
    "start_time": "2022-11-26T16:41:13.964Z"
   },
   {
    "duration": 7,
    "start_time": "2022-11-26T16:41:19.008Z"
   },
   {
    "duration": 8,
    "start_time": "2022-11-26T16:41:26.338Z"
   },
   {
    "duration": 8,
    "start_time": "2022-11-26T16:46:28.713Z"
   },
   {
    "duration": 11,
    "start_time": "2022-11-26T16:46:29.267Z"
   },
   {
    "duration": 8,
    "start_time": "2022-11-26T16:47:10.407Z"
   },
   {
    "duration": 646,
    "start_time": "2022-11-26T16:48:01.337Z"
   },
   {
    "duration": 29,
    "start_time": "2022-11-26T16:48:01.985Z"
   },
   {
    "duration": 13,
    "start_time": "2022-11-26T16:48:02.016Z"
   },
   {
    "duration": 13,
    "start_time": "2022-11-26T16:48:02.031Z"
   },
   {
    "duration": 15,
    "start_time": "2022-11-26T16:48:02.046Z"
   },
   {
    "duration": 23,
    "start_time": "2022-11-26T16:48:02.063Z"
   },
   {
    "duration": 24,
    "start_time": "2022-11-26T16:48:02.087Z"
   },
   {
    "duration": 21,
    "start_time": "2022-11-26T16:48:02.112Z"
   },
   {
    "duration": 19,
    "start_time": "2022-11-26T16:48:02.135Z"
   },
   {
    "duration": 15,
    "start_time": "2022-11-26T16:48:02.155Z"
   },
   {
    "duration": 43,
    "start_time": "2022-11-26T16:48:02.172Z"
   },
   {
    "duration": 18,
    "start_time": "2022-11-26T16:48:02.217Z"
   },
   {
    "duration": 11,
    "start_time": "2022-11-26T16:48:02.237Z"
   },
   {
    "duration": 15,
    "start_time": "2022-11-26T16:48:02.252Z"
   },
   {
    "duration": 12,
    "start_time": "2022-11-26T16:48:02.268Z"
   },
   {
    "duration": 15,
    "start_time": "2022-11-26T16:48:02.282Z"
   },
   {
    "duration": 176,
    "start_time": "2022-11-26T16:48:02.299Z"
   },
   {
    "duration": 137,
    "start_time": "2022-11-26T16:48:02.477Z"
   },
   {
    "duration": 10,
    "start_time": "2022-11-26T16:48:02.615Z"
   },
   {
    "duration": 16,
    "start_time": "2022-11-26T16:48:02.627Z"
   },
   {
    "duration": 7,
    "start_time": "2022-11-26T16:48:02.645Z"
   },
   {
    "duration": 312,
    "start_time": "2022-11-26T16:48:02.654Z"
   },
   {
    "duration": 10,
    "start_time": "2022-11-26T16:48:02.968Z"
   },
   {
    "duration": 355,
    "start_time": "2022-11-26T16:48:02.980Z"
   },
   {
    "duration": 243,
    "start_time": "2022-11-26T16:48:03.337Z"
   },
   {
    "duration": 350,
    "start_time": "2022-11-26T16:48:03.582Z"
   },
   {
    "duration": 10,
    "start_time": "2022-11-26T16:48:03.934Z"
   },
   {
    "duration": 16,
    "start_time": "2022-11-26T16:48:03.946Z"
   },
   {
    "duration": 14,
    "start_time": "2022-11-26T16:48:03.964Z"
   },
   {
    "duration": 20,
    "start_time": "2022-11-26T16:48:03.980Z"
   },
   {
    "duration": 19,
    "start_time": "2022-11-26T16:48:04.002Z"
   },
   {
    "duration": 163,
    "start_time": "2022-11-26T16:49:11.132Z"
   },
   {
    "duration": 159,
    "start_time": "2022-11-26T16:49:21.838Z"
   },
   {
    "duration": 153,
    "start_time": "2022-11-26T16:49:26.151Z"
   },
   {
    "duration": 130,
    "start_time": "2022-11-26T16:49:36.287Z"
   },
   {
    "duration": 653,
    "start_time": "2022-11-26T16:50:04.950Z"
   },
   {
    "duration": 28,
    "start_time": "2022-11-26T16:50:05.605Z"
   },
   {
    "duration": 11,
    "start_time": "2022-11-26T16:50:05.634Z"
   },
   {
    "duration": 36,
    "start_time": "2022-11-26T16:50:05.647Z"
   },
   {
    "duration": 44,
    "start_time": "2022-11-26T16:50:05.685Z"
   },
   {
    "duration": 47,
    "start_time": "2022-11-26T16:50:05.731Z"
   },
   {
    "duration": 35,
    "start_time": "2022-11-26T16:50:05.780Z"
   },
   {
    "duration": 42,
    "start_time": "2022-11-26T16:50:05.817Z"
   },
   {
    "duration": 42,
    "start_time": "2022-11-26T16:50:05.861Z"
   },
   {
    "duration": 20,
    "start_time": "2022-11-26T16:50:05.905Z"
   },
   {
    "duration": 72,
    "start_time": "2022-11-26T16:50:05.927Z"
   },
   {
    "duration": 15,
    "start_time": "2022-11-26T16:50:06.000Z"
   },
   {
    "duration": 29,
    "start_time": "2022-11-26T16:50:06.017Z"
   },
   {
    "duration": 32,
    "start_time": "2022-11-26T16:50:06.049Z"
   },
   {
    "duration": 28,
    "start_time": "2022-11-26T16:50:06.083Z"
   },
   {
    "duration": 44,
    "start_time": "2022-11-26T16:50:06.112Z"
   },
   {
    "duration": 198,
    "start_time": "2022-11-26T16:50:06.157Z"
   },
   {
    "duration": 109,
    "start_time": "2022-11-26T16:50:06.356Z"
   },
   {
    "duration": 19,
    "start_time": "2022-11-26T16:50:06.466Z"
   },
   {
    "duration": 15,
    "start_time": "2022-11-26T16:50:06.487Z"
   },
   {
    "duration": 14,
    "start_time": "2022-11-26T16:50:06.504Z"
   },
   {
    "duration": 301,
    "start_time": "2022-11-26T16:50:06.520Z"
   },
   {
    "duration": 8,
    "start_time": "2022-11-26T16:50:06.823Z"
   },
   {
    "duration": 375,
    "start_time": "2022-11-26T16:50:06.833Z"
   },
   {
    "duration": 344,
    "start_time": "2022-11-26T16:50:07.209Z"
   },
   {
    "duration": 387,
    "start_time": "2022-11-26T16:50:07.554Z"
   },
   {
    "duration": 9,
    "start_time": "2022-11-26T16:50:07.942Z"
   },
   {
    "duration": 9,
    "start_time": "2022-11-26T16:50:07.953Z"
   },
   {
    "duration": 14,
    "start_time": "2022-11-26T16:50:07.964Z"
   },
   {
    "duration": 10,
    "start_time": "2022-11-26T16:50:07.980Z"
   },
   {
    "duration": 137,
    "start_time": "2022-11-26T16:50:07.991Z"
   },
   {
    "duration": 650,
    "start_time": "2022-11-26T16:50:47.973Z"
   },
   {
    "duration": 27,
    "start_time": "2022-11-26T16:50:48.625Z"
   },
   {
    "duration": 11,
    "start_time": "2022-11-26T16:50:48.654Z"
   },
   {
    "duration": 17,
    "start_time": "2022-11-26T16:50:48.666Z"
   },
   {
    "duration": 11,
    "start_time": "2022-11-26T16:50:48.685Z"
   },
   {
    "duration": 34,
    "start_time": "2022-11-26T16:50:48.697Z"
   },
   {
    "duration": 11,
    "start_time": "2022-11-26T16:50:48.732Z"
   },
   {
    "duration": 20,
    "start_time": "2022-11-26T16:50:48.745Z"
   },
   {
    "duration": 22,
    "start_time": "2022-11-26T16:50:48.767Z"
   },
   {
    "duration": 13,
    "start_time": "2022-11-26T16:50:48.790Z"
   },
   {
    "duration": 52,
    "start_time": "2022-11-26T16:50:48.804Z"
   },
   {
    "duration": 16,
    "start_time": "2022-11-26T16:50:48.857Z"
   },
   {
    "duration": 9,
    "start_time": "2022-11-26T16:50:48.874Z"
   },
   {
    "duration": 19,
    "start_time": "2022-11-26T16:50:48.885Z"
   },
   {
    "duration": 14,
    "start_time": "2022-11-26T16:50:48.906Z"
   },
   {
    "duration": 17,
    "start_time": "2022-11-26T16:50:48.922Z"
   },
   {
    "duration": 178,
    "start_time": "2022-11-26T16:50:48.941Z"
   },
   {
    "duration": 120,
    "start_time": "2022-11-26T16:50:49.121Z"
   },
   {
    "duration": 11,
    "start_time": "2022-11-26T16:50:49.243Z"
   },
   {
    "duration": 26,
    "start_time": "2022-11-26T16:50:49.255Z"
   },
   {
    "duration": 31,
    "start_time": "2022-11-26T16:50:49.283Z"
   },
   {
    "duration": 272,
    "start_time": "2022-11-26T16:50:49.316Z"
   },
   {
    "duration": 6,
    "start_time": "2022-11-26T16:50:49.589Z"
   },
   {
    "duration": 336,
    "start_time": "2022-11-26T16:50:49.597Z"
   },
   {
    "duration": 261,
    "start_time": "2022-11-26T16:50:49.935Z"
   },
   {
    "duration": 349,
    "start_time": "2022-11-26T16:50:50.198Z"
   },
   {
    "duration": 8,
    "start_time": "2022-11-26T16:50:50.549Z"
   },
   {
    "duration": 19,
    "start_time": "2022-11-26T16:50:50.559Z"
   },
   {
    "duration": 3,
    "start_time": "2022-11-26T16:50:50.579Z"
   },
   {
    "duration": 17,
    "start_time": "2022-11-26T16:50:50.583Z"
   },
   {
    "duration": 168,
    "start_time": "2022-11-26T16:50:50.601Z"
   },
   {
    "duration": 137,
    "start_time": "2022-11-26T16:52:01.205Z"
   },
   {
    "duration": 5,
    "start_time": "2022-11-26T16:55:02.540Z"
   },
   {
    "duration": 5,
    "start_time": "2022-11-26T16:55:14.895Z"
   },
   {
    "duration": 5,
    "start_time": "2022-11-26T16:57:56.865Z"
   },
   {
    "duration": 6,
    "start_time": "2022-11-26T16:58:53.315Z"
   },
   {
    "duration": 257,
    "start_time": "2022-11-26T17:09:17.111Z"
   },
   {
    "duration": 262,
    "start_time": "2022-11-26T17:09:31.479Z"
   },
   {
    "duration": 318,
    "start_time": "2022-11-26T17:10:01.570Z"
   },
   {
    "duration": 287,
    "start_time": "2022-11-26T17:10:07.729Z"
   },
   {
    "duration": 284,
    "start_time": "2022-11-26T17:10:13.026Z"
   },
   {
    "duration": 282,
    "start_time": "2022-11-26T17:10:18.278Z"
   },
   {
    "duration": 267,
    "start_time": "2022-11-26T17:11:13.381Z"
   },
   {
    "duration": 353,
    "start_time": "2022-11-26T17:12:30.711Z"
   },
   {
    "duration": 285,
    "start_time": "2022-11-26T17:12:37.553Z"
   },
   {
    "duration": 462,
    "start_time": "2022-11-26T17:12:45.093Z"
   },
   {
    "duration": 412,
    "start_time": "2022-11-26T17:12:58.370Z"
   },
   {
    "duration": 368,
    "start_time": "2022-11-26T17:13:10.607Z"
   },
   {
    "duration": 344,
    "start_time": "2022-11-26T17:16:24.558Z"
   },
   {
    "duration": 557,
    "start_time": "2022-11-26T17:16:31.734Z"
   },
   {
    "duration": 30,
    "start_time": "2022-11-26T17:16:32.293Z"
   },
   {
    "duration": 11,
    "start_time": "2022-11-26T17:16:32.324Z"
   },
   {
    "duration": 12,
    "start_time": "2022-11-26T17:16:32.337Z"
   },
   {
    "duration": 6,
    "start_time": "2022-11-26T17:16:32.351Z"
   },
   {
    "duration": 14,
    "start_time": "2022-11-26T17:16:32.358Z"
   },
   {
    "duration": 14,
    "start_time": "2022-11-26T17:16:32.374Z"
   },
   {
    "duration": 6,
    "start_time": "2022-11-26T17:16:32.390Z"
   },
   {
    "duration": 15,
    "start_time": "2022-11-26T17:16:32.397Z"
   },
   {
    "duration": 8,
    "start_time": "2022-11-26T17:16:32.414Z"
   },
   {
    "duration": 41,
    "start_time": "2022-11-26T17:16:32.423Z"
   },
   {
    "duration": 15,
    "start_time": "2022-11-26T17:16:32.466Z"
   },
   {
    "duration": 8,
    "start_time": "2022-11-26T17:16:32.483Z"
   },
   {
    "duration": 10,
    "start_time": "2022-11-26T17:16:32.492Z"
   },
   {
    "duration": 9,
    "start_time": "2022-11-26T17:16:32.503Z"
   },
   {
    "duration": 10,
    "start_time": "2022-11-26T17:16:32.513Z"
   },
   {
    "duration": 175,
    "start_time": "2022-11-26T17:16:32.525Z"
   },
   {
    "duration": 112,
    "start_time": "2022-11-26T17:16:32.702Z"
   },
   {
    "duration": 9,
    "start_time": "2022-11-26T17:16:32.815Z"
   },
   {
    "duration": 9,
    "start_time": "2022-11-26T17:16:32.825Z"
   },
   {
    "duration": 6,
    "start_time": "2022-11-26T17:16:32.836Z"
   },
   {
    "duration": 271,
    "start_time": "2022-11-26T17:16:32.844Z"
   },
   {
    "duration": 5,
    "start_time": "2022-11-26T17:16:33.117Z"
   },
   {
    "duration": 338,
    "start_time": "2022-11-26T17:16:33.123Z"
   },
   {
    "duration": 300,
    "start_time": "2022-11-26T17:16:33.462Z"
   },
   {
    "duration": 315,
    "start_time": "2022-11-26T17:16:33.764Z"
   },
   {
    "duration": 404,
    "start_time": "2022-11-26T17:16:34.081Z"
   },
   {
    "duration": 8,
    "start_time": "2022-11-26T17:16:34.489Z"
   },
   {
    "duration": 13,
    "start_time": "2022-11-26T17:16:34.498Z"
   },
   {
    "duration": 4,
    "start_time": "2022-11-26T17:16:34.513Z"
   },
   {
    "duration": 11,
    "start_time": "2022-11-26T17:16:34.519Z"
   },
   {
    "duration": 149,
    "start_time": "2022-11-26T17:16:34.532Z"
   },
   {
    "duration": 5,
    "start_time": "2022-11-26T17:16:34.682Z"
   },
   {
    "duration": 11,
    "start_time": "2022-11-26T17:16:34.688Z"
   },
   {
    "duration": 367,
    "start_time": "2022-11-26T17:16:41.075Z"
   },
   {
    "duration": 407,
    "start_time": "2022-11-26T17:17:09.138Z"
   },
   {
    "duration": 335,
    "start_time": "2022-11-26T17:17:18.031Z"
   },
   {
    "duration": 382,
    "start_time": "2022-11-26T17:17:23.109Z"
   },
   {
    "duration": 438,
    "start_time": "2022-11-26T17:17:29.374Z"
   },
   {
    "duration": 332,
    "start_time": "2022-11-26T17:17:34.821Z"
   },
   {
    "duration": 371,
    "start_time": "2022-11-26T17:17:41.074Z"
   },
   {
    "duration": 11,
    "start_time": "2022-11-26T17:19:33.909Z"
   },
   {
    "duration": 6,
    "start_time": "2022-11-26T17:19:34.945Z"
   },
   {
    "duration": 13,
    "start_time": "2022-11-26T17:21:06.948Z"
   },
   {
    "duration": 13,
    "start_time": "2022-11-26T17:21:37.886Z"
   },
   {
    "duration": 4,
    "start_time": "2022-11-26T17:22:02.684Z"
   },
   {
    "duration": 660,
    "start_time": "2022-11-26T17:22:20.997Z"
   },
   {
    "duration": 28,
    "start_time": "2022-11-26T17:22:21.659Z"
   },
   {
    "duration": 13,
    "start_time": "2022-11-26T17:22:21.689Z"
   },
   {
    "duration": 12,
    "start_time": "2022-11-26T17:22:21.703Z"
   },
   {
    "duration": 20,
    "start_time": "2022-11-26T17:22:21.718Z"
   },
   {
    "duration": 13,
    "start_time": "2022-11-26T17:22:21.740Z"
   },
   {
    "duration": 10,
    "start_time": "2022-11-26T17:22:21.756Z"
   },
   {
    "duration": 9,
    "start_time": "2022-11-26T17:22:21.778Z"
   },
   {
    "duration": 22,
    "start_time": "2022-11-26T17:22:21.789Z"
   },
   {
    "duration": 14,
    "start_time": "2022-11-26T17:22:21.813Z"
   },
   {
    "duration": 42,
    "start_time": "2022-11-26T17:22:21.829Z"
   },
   {
    "duration": 16,
    "start_time": "2022-11-26T17:22:21.873Z"
   },
   {
    "duration": 7,
    "start_time": "2022-11-26T17:22:21.891Z"
   },
   {
    "duration": 9,
    "start_time": "2022-11-26T17:22:21.901Z"
   },
   {
    "duration": 8,
    "start_time": "2022-11-26T17:22:21.911Z"
   },
   {
    "duration": 10,
    "start_time": "2022-11-26T17:22:21.921Z"
   },
   {
    "duration": 174,
    "start_time": "2022-11-26T17:22:21.932Z"
   },
   {
    "duration": 123,
    "start_time": "2022-11-26T17:22:22.107Z"
   },
   {
    "duration": 9,
    "start_time": "2022-11-26T17:22:22.232Z"
   },
   {
    "duration": 8,
    "start_time": "2022-11-26T17:22:22.242Z"
   },
   {
    "duration": 9,
    "start_time": "2022-11-26T17:22:22.252Z"
   },
   {
    "duration": 265,
    "start_time": "2022-11-26T17:22:22.263Z"
   },
   {
    "duration": 5,
    "start_time": "2022-11-26T17:22:22.530Z"
   },
   {
    "duration": 380,
    "start_time": "2022-11-26T17:22:22.537Z"
   },
   {
    "duration": 252,
    "start_time": "2022-11-26T17:22:22.919Z"
   },
   {
    "duration": 282,
    "start_time": "2022-11-26T17:22:23.173Z"
   },
   {
    "duration": 423,
    "start_time": "2022-11-26T17:22:23.456Z"
   },
   {
    "duration": 10,
    "start_time": "2022-11-26T17:22:23.881Z"
   },
   {
    "duration": 18,
    "start_time": "2022-11-26T17:22:23.892Z"
   },
   {
    "duration": 7,
    "start_time": "2022-11-26T17:22:23.912Z"
   },
   {
    "duration": 13,
    "start_time": "2022-11-26T17:22:23.921Z"
   },
   {
    "duration": 174,
    "start_time": "2022-11-26T17:22:23.936Z"
   },
   {
    "duration": 5,
    "start_time": "2022-11-26T17:22:24.112Z"
   },
   {
    "duration": 7,
    "start_time": "2022-11-26T17:22:24.118Z"
   },
   {
    "duration": 13,
    "start_time": "2022-11-26T17:22:24.126Z"
   },
   {
    "duration": 6,
    "start_time": "2022-11-26T17:22:24.141Z"
   },
   {
    "duration": 14,
    "start_time": "2022-11-26T17:22:24.148Z"
   },
   {
    "duration": 4,
    "start_time": "2022-11-26T17:22:49.932Z"
   },
   {
    "duration": 3,
    "start_time": "2022-11-26T17:22:50.607Z"
   },
   {
    "duration": 4,
    "start_time": "2022-11-26T17:23:07.061Z"
   },
   {
    "duration": 650,
    "start_time": "2022-11-26T17:23:10.161Z"
   },
   {
    "duration": 27,
    "start_time": "2022-11-26T17:23:10.813Z"
   },
   {
    "duration": 10,
    "start_time": "2022-11-26T17:23:10.842Z"
   },
   {
    "duration": 11,
    "start_time": "2022-11-26T17:23:10.854Z"
   },
   {
    "duration": 10,
    "start_time": "2022-11-26T17:23:10.866Z"
   },
   {
    "duration": 9,
    "start_time": "2022-11-26T17:23:10.877Z"
   },
   {
    "duration": 11,
    "start_time": "2022-11-26T17:23:10.888Z"
   },
   {
    "duration": 9,
    "start_time": "2022-11-26T17:23:10.900Z"
   },
   {
    "duration": 11,
    "start_time": "2022-11-26T17:23:10.911Z"
   },
   {
    "duration": 15,
    "start_time": "2022-11-26T17:23:10.925Z"
   },
   {
    "duration": 43,
    "start_time": "2022-11-26T17:23:10.941Z"
   },
   {
    "duration": 16,
    "start_time": "2022-11-26T17:23:10.986Z"
   },
   {
    "duration": 8,
    "start_time": "2022-11-26T17:23:11.003Z"
   },
   {
    "duration": 12,
    "start_time": "2022-11-26T17:23:11.012Z"
   },
   {
    "duration": 9,
    "start_time": "2022-11-26T17:23:11.026Z"
   },
   {
    "duration": 11,
    "start_time": "2022-11-26T17:23:11.038Z"
   },
   {
    "duration": 172,
    "start_time": "2022-11-26T17:23:11.051Z"
   },
   {
    "duration": 113,
    "start_time": "2022-11-26T17:23:11.224Z"
   },
   {
    "duration": 9,
    "start_time": "2022-11-26T17:23:11.339Z"
   },
   {
    "duration": 11,
    "start_time": "2022-11-26T17:23:11.349Z"
   },
   {
    "duration": 6,
    "start_time": "2022-11-26T17:23:11.362Z"
   },
   {
    "duration": 267,
    "start_time": "2022-11-26T17:23:11.369Z"
   },
   {
    "duration": 5,
    "start_time": "2022-11-26T17:23:11.638Z"
   },
   {
    "duration": 374,
    "start_time": "2022-11-26T17:23:11.645Z"
   },
   {
    "duration": 257,
    "start_time": "2022-11-26T17:23:12.021Z"
   },
   {
    "duration": 265,
    "start_time": "2022-11-26T17:23:12.280Z"
   },
   {
    "duration": 410,
    "start_time": "2022-11-26T17:23:12.546Z"
   },
   {
    "duration": 8,
    "start_time": "2022-11-26T17:23:12.959Z"
   },
   {
    "duration": 12,
    "start_time": "2022-11-26T17:23:12.969Z"
   },
   {
    "duration": 3,
    "start_time": "2022-11-26T17:23:12.983Z"
   },
   {
    "duration": 9,
    "start_time": "2022-11-26T17:23:12.988Z"
   },
   {
    "duration": 142,
    "start_time": "2022-11-26T17:23:12.998Z"
   },
   {
    "duration": 5,
    "start_time": "2022-11-26T17:23:13.141Z"
   },
   {
    "duration": 10,
    "start_time": "2022-11-26T17:23:13.147Z"
   },
   {
    "duration": 19,
    "start_time": "2022-11-26T17:23:13.159Z"
   },
   {
    "duration": 7,
    "start_time": "2022-11-26T17:23:13.180Z"
   },
   {
    "duration": 7,
    "start_time": "2022-11-26T17:23:13.189Z"
   },
   {
    "duration": 4,
    "start_time": "2022-11-26T17:23:33.476Z"
   },
   {
    "duration": 10,
    "start_time": "2022-11-26T17:23:34.048Z"
   },
   {
    "duration": 3,
    "start_time": "2022-11-26T17:23:52.249Z"
   },
   {
    "duration": 8,
    "start_time": "2022-11-26T17:23:52.691Z"
   },
   {
    "duration": 178,
    "start_time": "2022-11-26T17:24:51.150Z"
   },
   {
    "duration": 137,
    "start_time": "2022-11-26T17:25:11.643Z"
   },
   {
    "duration": 144,
    "start_time": "2022-11-26T17:25:32.828Z"
   },
   {
    "duration": 139,
    "start_time": "2022-11-26T17:25:38.436Z"
   },
   {
    "duration": 150,
    "start_time": "2022-11-26T17:25:53.321Z"
   },
   {
    "duration": 142,
    "start_time": "2022-11-26T17:25:57.939Z"
   },
   {
    "duration": 169,
    "start_time": "2022-11-26T17:27:00.550Z"
   },
   {
    "duration": 11,
    "start_time": "2022-11-26T17:30:28.271Z"
   },
   {
    "duration": 10,
    "start_time": "2022-11-26T17:30:35.083Z"
   },
   {
    "duration": 1170,
    "start_time": "2022-11-26T17:31:03.937Z"
   },
   {
    "duration": 140,
    "start_time": "2022-11-26T17:31:26.623Z"
   },
   {
    "duration": 8,
    "start_time": "2022-11-26T17:33:26.701Z"
   },
   {
    "duration": 5,
    "start_time": "2022-11-26T17:33:37.943Z"
   },
   {
    "duration": 6,
    "start_time": "2022-11-26T17:33:58.329Z"
   },
   {
    "duration": 5,
    "start_time": "2022-11-26T17:34:05.918Z"
   },
   {
    "duration": 2,
    "start_time": "2022-11-26T17:35:34.418Z"
   },
   {
    "duration": 684,
    "start_time": "2022-11-26T17:58:33.558Z"
   },
   {
    "duration": 27,
    "start_time": "2022-11-26T17:58:34.244Z"
   },
   {
    "duration": 11,
    "start_time": "2022-11-26T17:58:34.273Z"
   },
   {
    "duration": 11,
    "start_time": "2022-11-26T17:58:34.286Z"
   },
   {
    "duration": 13,
    "start_time": "2022-11-26T17:58:34.299Z"
   },
   {
    "duration": 16,
    "start_time": "2022-11-26T17:58:34.314Z"
   },
   {
    "duration": 12,
    "start_time": "2022-11-26T17:58:34.332Z"
   },
   {
    "duration": 8,
    "start_time": "2022-11-26T17:58:34.346Z"
   },
   {
    "duration": 12,
    "start_time": "2022-11-26T17:58:34.355Z"
   },
   {
    "duration": 10,
    "start_time": "2022-11-26T17:58:34.379Z"
   },
   {
    "duration": 41,
    "start_time": "2022-11-26T17:58:34.391Z"
   },
   {
    "duration": 15,
    "start_time": "2022-11-26T17:58:34.434Z"
   },
   {
    "duration": 8,
    "start_time": "2022-11-26T17:58:34.450Z"
   },
   {
    "duration": 10,
    "start_time": "2022-11-26T17:58:34.459Z"
   },
   {
    "duration": 8,
    "start_time": "2022-11-26T17:58:34.470Z"
   },
   {
    "duration": 10,
    "start_time": "2022-11-26T17:58:34.480Z"
   },
   {
    "duration": 154,
    "start_time": "2022-11-26T17:58:34.491Z"
   },
   {
    "duration": 118,
    "start_time": "2022-11-26T17:58:34.646Z"
   },
   {
    "duration": 13,
    "start_time": "2022-11-26T17:58:34.766Z"
   },
   {
    "duration": 8,
    "start_time": "2022-11-26T17:58:34.781Z"
   },
   {
    "duration": 10,
    "start_time": "2022-11-26T17:58:34.790Z"
   },
   {
    "duration": 286,
    "start_time": "2022-11-26T17:58:34.802Z"
   },
   {
    "duration": 6,
    "start_time": "2022-11-26T17:58:35.090Z"
   },
   {
    "duration": 350,
    "start_time": "2022-11-26T17:58:35.098Z"
   },
   {
    "duration": 263,
    "start_time": "2022-11-26T17:58:35.450Z"
   },
   {
    "duration": 279,
    "start_time": "2022-11-26T17:58:35.717Z"
   },
   {
    "duration": 471,
    "start_time": "2022-11-26T17:58:35.998Z"
   },
   {
    "duration": 7,
    "start_time": "2022-11-26T17:58:36.472Z"
   },
   {
    "duration": 11,
    "start_time": "2022-11-26T17:58:36.481Z"
   },
   {
    "duration": 5,
    "start_time": "2022-11-26T17:58:36.494Z"
   },
   {
    "duration": 10,
    "start_time": "2022-11-26T17:58:36.500Z"
   },
   {
    "duration": 150,
    "start_time": "2022-11-26T17:58:36.512Z"
   },
   {
    "duration": 5,
    "start_time": "2022-11-26T17:58:36.664Z"
   },
   {
    "duration": 13,
    "start_time": "2022-11-26T17:58:36.670Z"
   },
   {
    "duration": 11,
    "start_time": "2022-11-26T17:58:36.684Z"
   },
   {
    "duration": 6,
    "start_time": "2022-11-26T17:58:36.697Z"
   },
   {
    "duration": 12,
    "start_time": "2022-11-26T17:58:36.705Z"
   },
   {
    "duration": 152,
    "start_time": "2022-11-26T17:58:36.718Z"
   },
   {
    "duration": 147,
    "start_time": "2022-11-26T17:58:36.872Z"
   },
   {
    "duration": 5,
    "start_time": "2022-11-26T17:58:37.021Z"
   },
   {
    "duration": 8,
    "start_time": "2022-11-26T17:58:37.027Z"
   },
   {
    "duration": 263,
    "start_time": "2022-11-26T17:58:37.037Z"
   },
   {
    "duration": 11,
    "start_time": "2022-11-26T17:58:37.302Z"
   },
   {
    "duration": 11,
    "start_time": "2022-11-26T17:59:02.986Z"
   },
   {
    "duration": 37,
    "start_time": "2022-11-26T18:00:03.831Z"
   },
   {
    "duration": 6,
    "start_time": "2022-11-26T18:00:52.623Z"
   },
   {
    "duration": 6,
    "start_time": "2022-11-26T18:01:56.831Z"
   },
   {
    "duration": 108,
    "start_time": "2022-11-26T18:02:33.136Z"
   },
   {
    "duration": 1085,
    "start_time": "2022-11-26T18:03:47.647Z"
   },
   {
    "duration": 27,
    "start_time": "2022-11-26T18:03:48.734Z"
   },
   {
    "duration": 16,
    "start_time": "2022-11-26T18:03:48.763Z"
   },
   {
    "duration": 43,
    "start_time": "2022-11-26T18:03:48.781Z"
   },
   {
    "duration": 33,
    "start_time": "2022-11-26T18:03:48.825Z"
   },
   {
    "duration": 45,
    "start_time": "2022-11-26T18:03:48.859Z"
   },
   {
    "duration": 24,
    "start_time": "2022-11-26T18:03:48.905Z"
   },
   {
    "duration": 21,
    "start_time": "2022-11-26T18:03:48.931Z"
   },
   {
    "duration": 39,
    "start_time": "2022-11-26T18:03:48.954Z"
   },
   {
    "duration": 28,
    "start_time": "2022-11-26T18:03:48.995Z"
   },
   {
    "duration": 58,
    "start_time": "2022-11-26T18:03:49.024Z"
   },
   {
    "duration": 16,
    "start_time": "2022-11-26T18:03:49.084Z"
   },
   {
    "duration": 9,
    "start_time": "2022-11-26T18:03:49.102Z"
   },
   {
    "duration": 27,
    "start_time": "2022-11-26T18:03:49.113Z"
   },
   {
    "duration": 45,
    "start_time": "2022-11-26T18:03:49.142Z"
   },
   {
    "duration": 52,
    "start_time": "2022-11-26T18:03:49.188Z"
   },
   {
    "duration": 192,
    "start_time": "2022-11-26T18:03:49.242Z"
   },
   {
    "duration": 114,
    "start_time": "2022-11-26T18:03:49.436Z"
   },
   {
    "duration": 9,
    "start_time": "2022-11-26T18:03:49.552Z"
   },
   {
    "duration": 6,
    "start_time": "2022-11-26T18:03:49.578Z"
   },
   {
    "duration": 31,
    "start_time": "2022-11-26T18:03:49.586Z"
   },
   {
    "duration": 304,
    "start_time": "2022-11-26T18:03:49.619Z"
   },
   {
    "duration": 6,
    "start_time": "2022-11-26T18:03:49.924Z"
   },
   {
    "duration": 359,
    "start_time": "2022-11-26T18:03:49.932Z"
   },
   {
    "duration": 277,
    "start_time": "2022-11-26T18:03:50.293Z"
   },
   {
    "duration": 286,
    "start_time": "2022-11-26T18:03:50.572Z"
   },
   {
    "duration": 405,
    "start_time": "2022-11-26T18:03:50.860Z"
   },
   {
    "duration": 12,
    "start_time": "2022-11-26T18:03:51.269Z"
   },
   {
    "duration": 27,
    "start_time": "2022-11-26T18:03:51.283Z"
   },
   {
    "duration": 37,
    "start_time": "2022-11-26T18:03:51.312Z"
   },
   {
    "duration": 25,
    "start_time": "2022-11-26T18:03:51.351Z"
   },
   {
    "duration": 154,
    "start_time": "2022-11-26T18:03:51.377Z"
   },
   {
    "duration": 5,
    "start_time": "2022-11-26T18:03:51.533Z"
   },
   {
    "duration": 26,
    "start_time": "2022-11-26T18:03:51.539Z"
   },
   {
    "duration": 48,
    "start_time": "2022-11-26T18:03:51.566Z"
   },
   {
    "duration": 10,
    "start_time": "2022-11-26T18:03:51.616Z"
   },
   {
    "duration": 33,
    "start_time": "2022-11-26T18:03:51.627Z"
   },
   {
    "duration": 153,
    "start_time": "2022-11-26T18:03:51.661Z"
   },
   {
    "duration": 142,
    "start_time": "2022-11-26T18:03:51.816Z"
   },
   {
    "duration": 4,
    "start_time": "2022-11-26T18:03:51.960Z"
   },
   {
    "duration": 30,
    "start_time": "2022-11-26T18:03:51.966Z"
   },
   {
    "duration": 209,
    "start_time": "2022-11-26T18:03:51.998Z"
   },
   {
    "duration": 9,
    "start_time": "2022-11-26T18:03:52.209Z"
   },
   {
    "duration": 43,
    "start_time": "2022-11-26T18:03:52.219Z"
   },
   {
    "duration": 44,
    "start_time": "2022-11-26T18:03:52.263Z"
   },
   {
    "duration": 59,
    "start_time": "2022-11-26T18:03:52.309Z"
   },
   {
    "duration": 63,
    "start_time": "2022-11-26T18:06:40.951Z"
   },
   {
    "duration": 97,
    "start_time": "2022-11-26T18:07:09.439Z"
   },
   {
    "duration": 54,
    "start_time": "2022-11-26T18:07:35.601Z"
   },
   {
    "duration": 1048,
    "start_time": "2022-11-26T18:09:17.182Z"
   },
   {
    "duration": 28,
    "start_time": "2022-11-26T18:09:18.232Z"
   },
   {
    "duration": 13,
    "start_time": "2022-11-26T18:09:18.262Z"
   },
   {
    "duration": 19,
    "start_time": "2022-11-26T18:09:18.276Z"
   },
   {
    "duration": 11,
    "start_time": "2022-11-26T18:09:18.297Z"
   },
   {
    "duration": 13,
    "start_time": "2022-11-26T18:09:18.310Z"
   },
   {
    "duration": 12,
    "start_time": "2022-11-26T18:09:18.324Z"
   },
   {
    "duration": 7,
    "start_time": "2022-11-26T18:09:18.338Z"
   },
   {
    "duration": 17,
    "start_time": "2022-11-26T18:09:18.346Z"
   },
   {
    "duration": 15,
    "start_time": "2022-11-26T18:09:18.364Z"
   },
   {
    "duration": 43,
    "start_time": "2022-11-26T18:09:18.381Z"
   },
   {
    "duration": 15,
    "start_time": "2022-11-26T18:09:18.426Z"
   },
   {
    "duration": 7,
    "start_time": "2022-11-26T18:09:18.443Z"
   },
   {
    "duration": 7,
    "start_time": "2022-11-26T18:09:18.454Z"
   },
   {
    "duration": 6,
    "start_time": "2022-11-26T18:09:18.463Z"
   },
   {
    "duration": 12,
    "start_time": "2022-11-26T18:09:18.471Z"
   },
   {
    "duration": 148,
    "start_time": "2022-11-26T18:09:18.485Z"
   },
   {
    "duration": 112,
    "start_time": "2022-11-26T18:09:18.635Z"
   },
   {
    "duration": 10,
    "start_time": "2022-11-26T18:09:18.749Z"
   },
   {
    "duration": 17,
    "start_time": "2022-11-26T18:09:18.761Z"
   },
   {
    "duration": 7,
    "start_time": "2022-11-26T18:09:18.780Z"
   },
   {
    "duration": 300,
    "start_time": "2022-11-26T18:09:18.789Z"
   },
   {
    "duration": 11,
    "start_time": "2022-11-26T18:09:19.091Z"
   },
   {
    "duration": 377,
    "start_time": "2022-11-26T18:09:19.104Z"
   },
   {
    "duration": 295,
    "start_time": "2022-11-26T18:09:19.483Z"
   },
   {
    "duration": 312,
    "start_time": "2022-11-26T18:09:19.779Z"
   },
   {
    "duration": 408,
    "start_time": "2022-11-26T18:09:20.092Z"
   },
   {
    "duration": 11,
    "start_time": "2022-11-26T18:09:20.501Z"
   },
   {
    "duration": 13,
    "start_time": "2022-11-26T18:09:20.514Z"
   },
   {
    "duration": 11,
    "start_time": "2022-11-26T18:09:20.529Z"
   },
   {
    "duration": 14,
    "start_time": "2022-11-26T18:09:20.541Z"
   },
   {
    "duration": 158,
    "start_time": "2022-11-26T18:09:20.557Z"
   },
   {
    "duration": 6,
    "start_time": "2022-11-26T18:09:20.716Z"
   },
   {
    "duration": 8,
    "start_time": "2022-11-26T18:09:20.724Z"
   },
   {
    "duration": 13,
    "start_time": "2022-11-26T18:09:20.734Z"
   },
   {
    "duration": 29,
    "start_time": "2022-11-26T18:09:20.749Z"
   },
   {
    "duration": 15,
    "start_time": "2022-11-26T18:09:20.780Z"
   },
   {
    "duration": 165,
    "start_time": "2022-11-26T18:09:20.798Z"
   },
   {
    "duration": 174,
    "start_time": "2022-11-26T18:09:20.965Z"
   },
   {
    "duration": 7,
    "start_time": "2022-11-26T18:09:21.141Z"
   },
   {
    "duration": 11,
    "start_time": "2022-11-26T18:09:21.152Z"
   },
   {
    "duration": 235,
    "start_time": "2022-11-26T18:09:21.179Z"
   },
   {
    "duration": 10,
    "start_time": "2022-11-26T18:09:21.416Z"
   },
   {
    "duration": 175,
    "start_time": "2022-11-26T18:09:21.428Z"
   },
   {
    "duration": 10,
    "start_time": "2022-11-26T18:13:45.272Z"
   },
   {
    "duration": 1079,
    "start_time": "2022-11-26T18:13:49.941Z"
   },
   {
    "duration": 28,
    "start_time": "2022-11-26T18:13:51.022Z"
   },
   {
    "duration": 13,
    "start_time": "2022-11-26T18:13:51.051Z"
   },
   {
    "duration": 14,
    "start_time": "2022-11-26T18:13:51.066Z"
   },
   {
    "duration": 10,
    "start_time": "2022-11-26T18:13:51.082Z"
   },
   {
    "duration": 11,
    "start_time": "2022-11-26T18:13:51.094Z"
   },
   {
    "duration": 11,
    "start_time": "2022-11-26T18:13:51.107Z"
   },
   {
    "duration": 6,
    "start_time": "2022-11-26T18:13:51.120Z"
   },
   {
    "duration": 17,
    "start_time": "2022-11-26T18:13:51.128Z"
   },
   {
    "duration": 14,
    "start_time": "2022-11-26T18:13:51.147Z"
   },
   {
    "duration": 53,
    "start_time": "2022-11-26T18:13:51.162Z"
   },
   {
    "duration": 17,
    "start_time": "2022-11-26T18:13:51.216Z"
   },
   {
    "duration": 7,
    "start_time": "2022-11-26T18:13:51.235Z"
   },
   {
    "duration": 13,
    "start_time": "2022-11-26T18:13:51.243Z"
   },
   {
    "duration": 11,
    "start_time": "2022-11-26T18:13:51.258Z"
   },
   {
    "duration": 15,
    "start_time": "2022-11-26T18:13:51.270Z"
   },
   {
    "duration": 156,
    "start_time": "2022-11-26T18:13:51.287Z"
   },
   {
    "duration": 114,
    "start_time": "2022-11-26T18:13:51.445Z"
   },
   {
    "duration": 22,
    "start_time": "2022-11-26T18:13:51.561Z"
   },
   {
    "duration": 5,
    "start_time": "2022-11-26T18:13:51.585Z"
   },
   {
    "duration": 9,
    "start_time": "2022-11-26T18:13:51.592Z"
   },
   {
    "duration": 301,
    "start_time": "2022-11-26T18:13:51.603Z"
   },
   {
    "duration": 5,
    "start_time": "2022-11-26T18:13:51.907Z"
   },
   {
    "duration": 335,
    "start_time": "2022-11-26T18:13:51.914Z"
   },
   {
    "duration": 272,
    "start_time": "2022-11-26T18:13:52.251Z"
   },
   {
    "duration": 281,
    "start_time": "2022-11-26T18:13:52.525Z"
   },
   {
    "duration": 350,
    "start_time": "2022-11-26T18:13:52.808Z"
   },
   {
    "duration": 8,
    "start_time": "2022-11-26T18:13:53.161Z"
   },
   {
    "duration": 18,
    "start_time": "2022-11-26T18:13:53.177Z"
   },
   {
    "duration": 7,
    "start_time": "2022-11-26T18:13:53.196Z"
   },
   {
    "duration": 14,
    "start_time": "2022-11-26T18:13:53.205Z"
   },
   {
    "duration": 131,
    "start_time": "2022-11-26T18:13:53.221Z"
   },
   {
    "duration": 5,
    "start_time": "2022-11-26T18:13:53.354Z"
   },
   {
    "duration": 9,
    "start_time": "2022-11-26T18:13:53.360Z"
   },
   {
    "duration": 8,
    "start_time": "2022-11-26T18:13:53.378Z"
   },
   {
    "duration": 8,
    "start_time": "2022-11-26T18:13:53.387Z"
   },
   {
    "duration": 12,
    "start_time": "2022-11-26T18:13:53.396Z"
   },
   {
    "duration": 163,
    "start_time": "2022-11-26T18:13:53.410Z"
   },
   {
    "duration": 152,
    "start_time": "2022-11-26T18:13:53.577Z"
   },
   {
    "duration": 5,
    "start_time": "2022-11-26T18:13:53.731Z"
   },
   {
    "duration": 13,
    "start_time": "2022-11-26T18:13:53.738Z"
   },
   {
    "duration": 40,
    "start_time": "2022-11-26T18:13:53.752Z"
   },
   {
    "duration": 25,
    "start_time": "2022-11-26T18:13:53.793Z"
   },
   {
    "duration": 275,
    "start_time": "2022-11-26T18:13:53.819Z"
   },
   {
    "duration": 14,
    "start_time": "2022-11-26T18:13:54.096Z"
   },
   {
    "duration": 186,
    "start_time": "2022-11-26T18:13:54.112Z"
   },
   {
    "duration": 9,
    "start_time": "2022-11-26T18:14:03.928Z"
   },
   {
    "duration": 8,
    "start_time": "2022-11-26T18:14:04.460Z"
   },
   {
    "duration": 244,
    "start_time": "2022-11-26T18:14:05.557Z"
   },
   {
    "duration": 1073,
    "start_time": "2022-11-26T18:14:08.854Z"
   },
   {
    "duration": 37,
    "start_time": "2022-11-26T18:14:09.929Z"
   },
   {
    "duration": 13,
    "start_time": "2022-11-26T18:14:09.968Z"
   },
   {
    "duration": 14,
    "start_time": "2022-11-26T18:14:09.983Z"
   },
   {
    "duration": 13,
    "start_time": "2022-11-26T18:14:09.999Z"
   },
   {
    "duration": 9,
    "start_time": "2022-11-26T18:14:10.014Z"
   },
   {
    "duration": 11,
    "start_time": "2022-11-26T18:14:10.025Z"
   },
   {
    "duration": 10,
    "start_time": "2022-11-26T18:14:10.037Z"
   },
   {
    "duration": 30,
    "start_time": "2022-11-26T18:14:10.048Z"
   },
   {
    "duration": 10,
    "start_time": "2022-11-26T18:14:10.080Z"
   },
   {
    "duration": 40,
    "start_time": "2022-11-26T18:14:10.092Z"
   },
   {
    "duration": 16,
    "start_time": "2022-11-26T18:14:10.134Z"
   },
   {
    "duration": 8,
    "start_time": "2022-11-26T18:14:10.152Z"
   },
   {
    "duration": 11,
    "start_time": "2022-11-26T18:14:10.161Z"
   },
   {
    "duration": 9,
    "start_time": "2022-11-26T18:14:10.173Z"
   },
   {
    "duration": 8,
    "start_time": "2022-11-26T18:14:10.184Z"
   },
   {
    "duration": 157,
    "start_time": "2022-11-26T18:14:10.194Z"
   },
   {
    "duration": 112,
    "start_time": "2022-11-26T18:14:10.352Z"
   },
   {
    "duration": 17,
    "start_time": "2022-11-26T18:14:10.466Z"
   },
   {
    "duration": 7,
    "start_time": "2022-11-26T18:14:10.484Z"
   },
   {
    "duration": 7,
    "start_time": "2022-11-26T18:14:10.492Z"
   },
   {
    "duration": 282,
    "start_time": "2022-11-26T18:14:10.500Z"
   },
   {
    "duration": 6,
    "start_time": "2022-11-26T18:14:10.783Z"
   },
   {
    "duration": 365,
    "start_time": "2022-11-26T18:14:10.791Z"
   },
   {
    "duration": 261,
    "start_time": "2022-11-26T18:14:11.158Z"
   },
   {
    "duration": 286,
    "start_time": "2022-11-26T18:14:11.420Z"
   },
   {
    "duration": 354,
    "start_time": "2022-11-26T18:14:11.708Z"
   },
   {
    "duration": 13,
    "start_time": "2022-11-26T18:14:12.065Z"
   },
   {
    "duration": 9,
    "start_time": "2022-11-26T18:14:12.079Z"
   },
   {
    "duration": 6,
    "start_time": "2022-11-26T18:14:12.090Z"
   },
   {
    "duration": 12,
    "start_time": "2022-11-26T18:14:12.097Z"
   },
   {
    "duration": 142,
    "start_time": "2022-11-26T18:14:12.110Z"
   },
   {
    "duration": 4,
    "start_time": "2022-11-26T18:14:12.254Z"
   },
   {
    "duration": 10,
    "start_time": "2022-11-26T18:14:12.260Z"
   },
   {
    "duration": 14,
    "start_time": "2022-11-26T18:14:12.271Z"
   },
   {
    "duration": 8,
    "start_time": "2022-11-26T18:14:12.286Z"
   },
   {
    "duration": 10,
    "start_time": "2022-11-26T18:14:12.296Z"
   },
   {
    "duration": 155,
    "start_time": "2022-11-26T18:14:12.307Z"
   },
   {
    "duration": 146,
    "start_time": "2022-11-26T18:14:12.463Z"
   },
   {
    "duration": 5,
    "start_time": "2022-11-26T18:14:12.611Z"
   },
   {
    "duration": 8,
    "start_time": "2022-11-26T18:14:12.618Z"
   },
   {
    "duration": 11,
    "start_time": "2022-11-26T18:14:12.628Z"
   },
   {
    "duration": 11,
    "start_time": "2022-11-26T18:14:12.641Z"
   },
   {
    "duration": 230,
    "start_time": "2022-11-26T18:14:12.653Z"
   },
   {
    "duration": 9,
    "start_time": "2022-11-26T18:14:12.885Z"
   },
   {
    "duration": 173,
    "start_time": "2022-11-26T18:14:12.896Z"
   },
   {
    "duration": 241,
    "start_time": "2022-11-26T18:16:03.684Z"
   },
   {
    "duration": 994,
    "start_time": "2022-11-26T18:24:08.036Z"
   },
   {
    "duration": 27,
    "start_time": "2022-11-26T18:24:09.032Z"
   },
   {
    "duration": 11,
    "start_time": "2022-11-26T18:24:09.061Z"
   },
   {
    "duration": 11,
    "start_time": "2022-11-26T18:24:09.074Z"
   },
   {
    "duration": 8,
    "start_time": "2022-11-26T18:24:09.087Z"
   },
   {
    "duration": 10,
    "start_time": "2022-11-26T18:24:09.096Z"
   },
   {
    "duration": 31,
    "start_time": "2022-11-26T18:24:09.108Z"
   },
   {
    "duration": 6,
    "start_time": "2022-11-26T18:24:09.141Z"
   },
   {
    "duration": 12,
    "start_time": "2022-11-26T18:24:09.149Z"
   },
   {
    "duration": 12,
    "start_time": "2022-11-26T18:24:09.162Z"
   },
   {
    "duration": 40,
    "start_time": "2022-11-26T18:24:09.176Z"
   },
   {
    "duration": 15,
    "start_time": "2022-11-26T18:24:09.218Z"
   },
   {
    "duration": 7,
    "start_time": "2022-11-26T18:24:09.235Z"
   },
   {
    "duration": 7,
    "start_time": "2022-11-26T18:24:09.245Z"
   },
   {
    "duration": 7,
    "start_time": "2022-11-26T18:24:09.253Z"
   },
   {
    "duration": 9,
    "start_time": "2022-11-26T18:24:09.261Z"
   },
   {
    "duration": 148,
    "start_time": "2022-11-26T18:24:09.272Z"
   },
   {
    "duration": 119,
    "start_time": "2022-11-26T18:24:09.422Z"
   },
   {
    "duration": 10,
    "start_time": "2022-11-26T18:24:09.544Z"
   },
   {
    "duration": 14,
    "start_time": "2022-11-26T18:24:09.556Z"
   },
   {
    "duration": 5,
    "start_time": "2022-11-26T18:24:09.577Z"
   },
   {
    "duration": 287,
    "start_time": "2022-11-26T18:24:09.584Z"
   },
   {
    "duration": 6,
    "start_time": "2022-11-26T18:24:09.877Z"
   },
   {
    "duration": 345,
    "start_time": "2022-11-26T18:24:09.885Z"
   },
   {
    "duration": 267,
    "start_time": "2022-11-26T18:24:10.232Z"
   },
   {
    "duration": 275,
    "start_time": "2022-11-26T18:24:10.500Z"
   },
   {
    "duration": 376,
    "start_time": "2022-11-26T18:24:10.778Z"
   },
   {
    "duration": 8,
    "start_time": "2022-11-26T18:24:11.155Z"
   },
   {
    "duration": 16,
    "start_time": "2022-11-26T18:24:11.164Z"
   },
   {
    "duration": 4,
    "start_time": "2022-11-26T18:24:11.182Z"
   },
   {
    "duration": 10,
    "start_time": "2022-11-26T18:24:11.188Z"
   },
   {
    "duration": 131,
    "start_time": "2022-11-26T18:24:11.199Z"
   },
   {
    "duration": 5,
    "start_time": "2022-11-26T18:24:11.332Z"
   },
   {
    "duration": 7,
    "start_time": "2022-11-26T18:24:11.338Z"
   },
   {
    "duration": 11,
    "start_time": "2022-11-26T18:24:11.346Z"
   },
   {
    "duration": 22,
    "start_time": "2022-11-26T18:24:11.358Z"
   },
   {
    "duration": 10,
    "start_time": "2022-11-26T18:24:11.381Z"
   },
   {
    "duration": 150,
    "start_time": "2022-11-26T18:24:11.392Z"
   },
   {
    "duration": 143,
    "start_time": "2022-11-26T18:24:11.543Z"
   },
   {
    "duration": 5,
    "start_time": "2022-11-26T18:24:11.687Z"
   },
   {
    "duration": 6,
    "start_time": "2022-11-26T18:24:11.695Z"
   },
   {
    "duration": 9,
    "start_time": "2022-11-26T18:24:11.702Z"
   },
   {
    "duration": 10,
    "start_time": "2022-11-26T18:24:11.712Z"
   },
   {
    "duration": 92,
    "start_time": "2022-11-26T18:24:11.723Z"
   },
   {
    "duration": 0,
    "start_time": "2022-11-26T18:24:11.817Z"
   },
   {
    "duration": 0,
    "start_time": "2022-11-26T18:24:11.818Z"
   },
   {
    "duration": 1053,
    "start_time": "2022-11-26T18:25:14.923Z"
   },
   {
    "duration": 28,
    "start_time": "2022-11-26T18:25:15.978Z"
   },
   {
    "duration": 12,
    "start_time": "2022-11-26T18:25:16.008Z"
   },
   {
    "duration": 31,
    "start_time": "2022-11-26T18:25:16.022Z"
   },
   {
    "duration": 20,
    "start_time": "2022-11-26T18:25:16.056Z"
   },
   {
    "duration": 23,
    "start_time": "2022-11-26T18:25:16.077Z"
   },
   {
    "duration": 29,
    "start_time": "2022-11-26T18:25:16.102Z"
   },
   {
    "duration": 27,
    "start_time": "2022-11-26T18:25:16.133Z"
   },
   {
    "duration": 31,
    "start_time": "2022-11-26T18:25:16.162Z"
   },
   {
    "duration": 37,
    "start_time": "2022-11-26T18:25:16.194Z"
   },
   {
    "duration": 67,
    "start_time": "2022-11-26T18:25:16.233Z"
   },
   {
    "duration": 16,
    "start_time": "2022-11-26T18:25:16.302Z"
   },
   {
    "duration": 30,
    "start_time": "2022-11-26T18:25:16.319Z"
   },
   {
    "duration": 26,
    "start_time": "2022-11-26T18:25:16.351Z"
   },
   {
    "duration": 27,
    "start_time": "2022-11-26T18:25:16.379Z"
   },
   {
    "duration": 27,
    "start_time": "2022-11-26T18:25:16.408Z"
   },
   {
    "duration": 171,
    "start_time": "2022-11-26T18:25:16.436Z"
   },
   {
    "duration": 114,
    "start_time": "2022-11-26T18:25:16.608Z"
   },
   {
    "duration": 19,
    "start_time": "2022-11-26T18:25:16.724Z"
   },
   {
    "duration": 38,
    "start_time": "2022-11-26T18:25:16.745Z"
   },
   {
    "duration": 17,
    "start_time": "2022-11-26T18:25:16.785Z"
   },
   {
    "duration": 325,
    "start_time": "2022-11-26T18:25:16.804Z"
   },
   {
    "duration": 7,
    "start_time": "2022-11-26T18:25:17.131Z"
   },
   {
    "duration": 386,
    "start_time": "2022-11-26T18:25:17.139Z"
   },
   {
    "duration": 254,
    "start_time": "2022-11-26T18:25:17.527Z"
   },
   {
    "duration": 297,
    "start_time": "2022-11-26T18:25:17.783Z"
   },
   {
    "duration": 380,
    "start_time": "2022-11-26T18:25:18.082Z"
   },
   {
    "duration": 16,
    "start_time": "2022-11-26T18:25:18.463Z"
   },
   {
    "duration": 49,
    "start_time": "2022-11-26T18:25:18.480Z"
   },
   {
    "duration": 12,
    "start_time": "2022-11-26T18:25:18.531Z"
   },
   {
    "duration": 16,
    "start_time": "2022-11-26T18:25:18.545Z"
   },
   {
    "duration": 159,
    "start_time": "2022-11-26T18:25:18.563Z"
   },
   {
    "duration": 6,
    "start_time": "2022-11-26T18:25:18.724Z"
   },
   {
    "duration": 14,
    "start_time": "2022-11-26T18:25:18.732Z"
   },
   {
    "duration": 21,
    "start_time": "2022-11-26T18:25:18.747Z"
   },
   {
    "duration": 18,
    "start_time": "2022-11-26T18:25:18.769Z"
   },
   {
    "duration": 26,
    "start_time": "2022-11-26T18:25:18.789Z"
   },
   {
    "duration": 151,
    "start_time": "2022-11-26T18:25:18.816Z"
   },
   {
    "duration": 155,
    "start_time": "2022-11-26T18:25:18.968Z"
   },
   {
    "duration": 5,
    "start_time": "2022-11-26T18:25:19.125Z"
   },
   {
    "duration": 14,
    "start_time": "2022-11-26T18:25:19.134Z"
   },
   {
    "duration": 17,
    "start_time": "2022-11-26T18:25:19.150Z"
   },
   {
    "duration": 30,
    "start_time": "2022-11-26T18:25:19.169Z"
   },
   {
    "duration": 156,
    "start_time": "2022-11-26T18:25:19.201Z"
   },
   {
    "duration": 0,
    "start_time": "2022-11-26T18:25:19.359Z"
   },
   {
    "duration": 0,
    "start_time": "2022-11-26T18:25:19.360Z"
   },
   {
    "duration": 1120,
    "start_time": "2022-11-26T18:26:10.806Z"
   },
   {
    "duration": 28,
    "start_time": "2022-11-26T18:26:11.928Z"
   },
   {
    "duration": 12,
    "start_time": "2022-11-26T18:26:11.957Z"
   },
   {
    "duration": 15,
    "start_time": "2022-11-26T18:26:11.971Z"
   },
   {
    "duration": 10,
    "start_time": "2022-11-26T18:26:11.988Z"
   },
   {
    "duration": 11,
    "start_time": "2022-11-26T18:26:11.999Z"
   },
   {
    "duration": 12,
    "start_time": "2022-11-26T18:26:12.011Z"
   },
   {
    "duration": 8,
    "start_time": "2022-11-26T18:26:12.025Z"
   },
   {
    "duration": 16,
    "start_time": "2022-11-26T18:26:12.034Z"
   },
   {
    "duration": 26,
    "start_time": "2022-11-26T18:26:12.053Z"
   },
   {
    "duration": 44,
    "start_time": "2022-11-26T18:26:12.080Z"
   },
   {
    "duration": 16,
    "start_time": "2022-11-26T18:26:12.126Z"
   },
   {
    "duration": 9,
    "start_time": "2022-11-26T18:26:12.143Z"
   },
   {
    "duration": 13,
    "start_time": "2022-11-26T18:26:12.153Z"
   },
   {
    "duration": 13,
    "start_time": "2022-11-26T18:26:12.167Z"
   },
   {
    "duration": 15,
    "start_time": "2022-11-26T18:26:12.182Z"
   },
   {
    "duration": 164,
    "start_time": "2022-11-26T18:26:12.199Z"
   },
   {
    "duration": 151,
    "start_time": "2022-11-26T18:26:12.365Z"
   },
   {
    "duration": 11,
    "start_time": "2022-11-26T18:26:12.517Z"
   },
   {
    "duration": 9,
    "start_time": "2022-11-26T18:26:12.529Z"
   },
   {
    "duration": 7,
    "start_time": "2022-11-26T18:26:12.539Z"
   },
   {
    "duration": 289,
    "start_time": "2022-11-26T18:26:12.547Z"
   },
   {
    "duration": 6,
    "start_time": "2022-11-26T18:26:12.837Z"
   },
   {
    "duration": 381,
    "start_time": "2022-11-26T18:26:12.845Z"
   },
   {
    "duration": 276,
    "start_time": "2022-11-26T18:26:13.227Z"
   },
   {
    "duration": 316,
    "start_time": "2022-11-26T18:26:13.504Z"
   },
   {
    "duration": 408,
    "start_time": "2022-11-26T18:26:13.822Z"
   },
   {
    "duration": 9,
    "start_time": "2022-11-26T18:26:14.234Z"
   },
   {
    "duration": 14,
    "start_time": "2022-11-26T18:26:14.244Z"
   },
   {
    "duration": 12,
    "start_time": "2022-11-26T18:26:14.260Z"
   },
   {
    "duration": 19,
    "start_time": "2022-11-26T18:26:14.273Z"
   },
   {
    "duration": 135,
    "start_time": "2022-11-26T18:26:14.294Z"
   },
   {
    "duration": 4,
    "start_time": "2022-11-26T18:26:14.431Z"
   },
   {
    "duration": 11,
    "start_time": "2022-11-26T18:26:14.437Z"
   },
   {
    "duration": 15,
    "start_time": "2022-11-26T18:26:14.450Z"
   },
   {
    "duration": 12,
    "start_time": "2022-11-26T18:26:14.466Z"
   },
   {
    "duration": 15,
    "start_time": "2022-11-26T18:26:14.480Z"
   },
   {
    "duration": 191,
    "start_time": "2022-11-26T18:26:14.496Z"
   },
   {
    "duration": 161,
    "start_time": "2022-11-26T18:26:14.689Z"
   },
   {
    "duration": 4,
    "start_time": "2022-11-26T18:26:14.852Z"
   },
   {
    "duration": 21,
    "start_time": "2022-11-26T18:26:14.858Z"
   },
   {
    "duration": 9,
    "start_time": "2022-11-26T18:26:14.880Z"
   },
   {
    "duration": 11,
    "start_time": "2022-11-26T18:26:14.891Z"
   },
   {
    "duration": 77,
    "start_time": "2022-11-26T18:26:14.904Z"
   },
   {
    "duration": 0,
    "start_time": "2022-11-26T18:26:14.982Z"
   },
   {
    "duration": 0,
    "start_time": "2022-11-26T18:26:14.984Z"
   },
   {
    "duration": 1185,
    "start_time": "2022-11-26T18:26:45.164Z"
   },
   {
    "duration": 28,
    "start_time": "2022-11-26T18:26:46.351Z"
   },
   {
    "duration": 13,
    "start_time": "2022-11-26T18:26:46.381Z"
   },
   {
    "duration": 79,
    "start_time": "2022-11-26T18:26:46.396Z"
   },
   {
    "duration": 11,
    "start_time": "2022-11-26T18:26:46.477Z"
   },
   {
    "duration": 13,
    "start_time": "2022-11-26T18:26:46.489Z"
   },
   {
    "duration": 15,
    "start_time": "2022-11-26T18:26:46.503Z"
   },
   {
    "duration": 8,
    "start_time": "2022-11-26T18:26:46.520Z"
   },
   {
    "duration": 15,
    "start_time": "2022-11-26T18:26:46.530Z"
   },
   {
    "duration": 14,
    "start_time": "2022-11-26T18:26:46.547Z"
   },
   {
    "duration": 37,
    "start_time": "2022-11-26T18:26:46.578Z"
   },
   {
    "duration": 15,
    "start_time": "2022-11-26T18:26:46.616Z"
   },
   {
    "duration": 8,
    "start_time": "2022-11-26T18:26:46.633Z"
   },
   {
    "duration": 8,
    "start_time": "2022-11-26T18:26:46.643Z"
   },
   {
    "duration": 8,
    "start_time": "2022-11-26T18:26:46.652Z"
   },
   {
    "duration": 9,
    "start_time": "2022-11-26T18:26:46.661Z"
   },
   {
    "duration": 147,
    "start_time": "2022-11-26T18:26:46.672Z"
   },
   {
    "duration": 119,
    "start_time": "2022-11-26T18:26:46.820Z"
   },
   {
    "duration": 11,
    "start_time": "2022-11-26T18:26:46.941Z"
   },
   {
    "duration": 25,
    "start_time": "2022-11-26T18:26:46.953Z"
   },
   {
    "duration": 8,
    "start_time": "2022-11-26T18:26:46.980Z"
   },
   {
    "duration": 285,
    "start_time": "2022-11-26T18:26:46.990Z"
   },
   {
    "duration": 5,
    "start_time": "2022-11-26T18:26:47.278Z"
   },
   {
    "duration": 356,
    "start_time": "2022-11-26T18:26:47.284Z"
   },
   {
    "duration": 264,
    "start_time": "2022-11-26T18:26:47.642Z"
   },
   {
    "duration": 309,
    "start_time": "2022-11-26T18:26:47.907Z"
   },
   {
    "duration": 364,
    "start_time": "2022-11-26T18:26:48.218Z"
   },
   {
    "duration": 8,
    "start_time": "2022-11-26T18:26:48.584Z"
   },
   {
    "duration": 20,
    "start_time": "2022-11-26T18:26:48.593Z"
   },
   {
    "duration": 19,
    "start_time": "2022-11-26T18:26:48.615Z"
   },
   {
    "duration": 34,
    "start_time": "2022-11-26T18:26:48.636Z"
   },
   {
    "duration": 133,
    "start_time": "2022-11-26T18:26:48.672Z"
   },
   {
    "duration": 5,
    "start_time": "2022-11-26T18:26:48.806Z"
   },
   {
    "duration": 7,
    "start_time": "2022-11-26T18:26:48.813Z"
   },
   {
    "duration": 10,
    "start_time": "2022-11-26T18:26:48.822Z"
   },
   {
    "duration": 5,
    "start_time": "2022-11-26T18:26:48.833Z"
   },
   {
    "duration": 11,
    "start_time": "2022-11-26T18:26:48.840Z"
   },
   {
    "duration": 169,
    "start_time": "2022-11-26T18:26:48.853Z"
   },
   {
    "duration": 160,
    "start_time": "2022-11-26T18:26:49.023Z"
   },
   {
    "duration": 7,
    "start_time": "2022-11-26T18:26:49.185Z"
   },
   {
    "duration": 7,
    "start_time": "2022-11-26T18:26:49.196Z"
   },
   {
    "duration": 18,
    "start_time": "2022-11-26T18:26:49.205Z"
   },
   {
    "duration": 15,
    "start_time": "2022-11-26T18:26:49.225Z"
   },
   {
    "duration": 218,
    "start_time": "2022-11-26T18:26:49.242Z"
   },
   {
    "duration": 18,
    "start_time": "2022-11-26T18:26:49.461Z"
   },
   {
    "duration": 187,
    "start_time": "2022-11-26T18:26:49.480Z"
   },
   {
    "duration": 172,
    "start_time": "2022-11-26T18:30:01.476Z"
   },
   {
    "duration": 139,
    "start_time": "2022-11-26T18:30:09.609Z"
   },
   {
    "duration": 1125,
    "start_time": "2022-11-26T18:31:03.201Z"
   },
   {
    "duration": 27,
    "start_time": "2022-11-26T18:31:04.328Z"
   },
   {
    "duration": 13,
    "start_time": "2022-11-26T18:31:04.357Z"
   },
   {
    "duration": 12,
    "start_time": "2022-11-26T18:31:04.373Z"
   },
   {
    "duration": 8,
    "start_time": "2022-11-26T18:31:04.387Z"
   },
   {
    "duration": 17,
    "start_time": "2022-11-26T18:31:04.396Z"
   },
   {
    "duration": 16,
    "start_time": "2022-11-26T18:31:04.415Z"
   },
   {
    "duration": 10,
    "start_time": "2022-11-26T18:31:04.432Z"
   },
   {
    "duration": 14,
    "start_time": "2022-11-26T18:31:04.444Z"
   },
   {
    "duration": 10,
    "start_time": "2022-11-26T18:31:04.461Z"
   },
   {
    "duration": 38,
    "start_time": "2022-11-26T18:31:04.478Z"
   },
   {
    "duration": 15,
    "start_time": "2022-11-26T18:31:04.518Z"
   },
   {
    "duration": 9,
    "start_time": "2022-11-26T18:31:04.535Z"
   },
   {
    "duration": 11,
    "start_time": "2022-11-26T18:31:04.545Z"
   },
   {
    "duration": 12,
    "start_time": "2022-11-26T18:31:04.558Z"
   },
   {
    "duration": 15,
    "start_time": "2022-11-26T18:31:04.572Z"
   },
   {
    "duration": 154,
    "start_time": "2022-11-26T18:31:04.589Z"
   },
   {
    "duration": 109,
    "start_time": "2022-11-26T18:31:04.745Z"
   },
   {
    "duration": 8,
    "start_time": "2022-11-26T18:31:04.855Z"
   },
   {
    "duration": 5,
    "start_time": "2022-11-26T18:31:04.877Z"
   },
   {
    "duration": 8,
    "start_time": "2022-11-26T18:31:04.884Z"
   },
   {
    "duration": 296,
    "start_time": "2022-11-26T18:31:04.893Z"
   },
   {
    "duration": 5,
    "start_time": "2022-11-26T18:31:05.191Z"
   },
   {
    "duration": 342,
    "start_time": "2022-11-26T18:31:05.198Z"
   },
   {
    "duration": 287,
    "start_time": "2022-11-26T18:31:05.542Z"
   },
   {
    "duration": 292,
    "start_time": "2022-11-26T18:31:05.831Z"
   },
   {
    "duration": 367,
    "start_time": "2022-11-26T18:31:06.124Z"
   },
   {
    "duration": 9,
    "start_time": "2022-11-26T18:31:06.494Z"
   },
   {
    "duration": 11,
    "start_time": "2022-11-26T18:31:06.505Z"
   },
   {
    "duration": 3,
    "start_time": "2022-11-26T18:31:06.517Z"
   },
   {
    "duration": 10,
    "start_time": "2022-11-26T18:31:06.522Z"
   },
   {
    "duration": 146,
    "start_time": "2022-11-26T18:31:06.534Z"
   },
   {
    "duration": 6,
    "start_time": "2022-11-26T18:31:06.682Z"
   },
   {
    "duration": 7,
    "start_time": "2022-11-26T18:31:06.689Z"
   },
   {
    "duration": 14,
    "start_time": "2022-11-26T18:31:06.697Z"
   },
   {
    "duration": 9,
    "start_time": "2022-11-26T18:31:06.713Z"
   },
   {
    "duration": 23,
    "start_time": "2022-11-26T18:31:06.724Z"
   },
   {
    "duration": 153,
    "start_time": "2022-11-26T18:31:06.749Z"
   },
   {
    "duration": 152,
    "start_time": "2022-11-26T18:31:06.904Z"
   },
   {
    "duration": 5,
    "start_time": "2022-11-26T18:31:07.058Z"
   },
   {
    "duration": 15,
    "start_time": "2022-11-26T18:31:07.064Z"
   },
   {
    "duration": 11,
    "start_time": "2022-11-26T18:31:07.081Z"
   },
   {
    "duration": 11,
    "start_time": "2022-11-26T18:31:07.093Z"
   },
   {
    "duration": 207,
    "start_time": "2022-11-26T18:31:07.106Z"
   },
   {
    "duration": 9,
    "start_time": "2022-11-26T18:31:07.315Z"
   },
   {
    "duration": 152,
    "start_time": "2022-11-26T18:31:07.326Z"
   },
   {
    "duration": 1332,
    "start_time": "2022-11-26T18:37:16.536Z"
   },
   {
    "duration": 9,
    "start_time": "2022-11-26T18:38:37.743Z"
   },
   {
    "duration": 94,
    "start_time": "2022-11-26T18:39:06.156Z"
   },
   {
    "duration": 10,
    "start_time": "2022-11-26T18:39:40.411Z"
   },
   {
    "duration": 11,
    "start_time": "2022-11-26T18:39:48.345Z"
   },
   {
    "duration": 10,
    "start_time": "2022-11-26T18:41:41.618Z"
   },
   {
    "duration": 7,
    "start_time": "2022-11-26T18:42:08.689Z"
   },
   {
    "duration": 13,
    "start_time": "2022-11-26T18:42:39.157Z"
   },
   {
    "duration": 998,
    "start_time": "2022-11-26T18:42:57.221Z"
   },
   {
    "duration": 30,
    "start_time": "2022-11-26T18:42:58.221Z"
   },
   {
    "duration": 12,
    "start_time": "2022-11-26T18:42:58.252Z"
   },
   {
    "duration": 10,
    "start_time": "2022-11-26T18:42:58.266Z"
   },
   {
    "duration": 5,
    "start_time": "2022-11-26T18:42:58.278Z"
   },
   {
    "duration": 12,
    "start_time": "2022-11-26T18:42:58.285Z"
   },
   {
    "duration": 9,
    "start_time": "2022-11-26T18:42:58.299Z"
   },
   {
    "duration": 5,
    "start_time": "2022-11-26T18:42:58.310Z"
   },
   {
    "duration": 10,
    "start_time": "2022-11-26T18:42:58.316Z"
   },
   {
    "duration": 10,
    "start_time": "2022-11-26T18:42:58.328Z"
   },
   {
    "duration": 41,
    "start_time": "2022-11-26T18:42:58.340Z"
   },
   {
    "duration": 16,
    "start_time": "2022-11-26T18:42:58.383Z"
   },
   {
    "duration": 8,
    "start_time": "2022-11-26T18:42:58.400Z"
   },
   {
    "duration": 10,
    "start_time": "2022-11-26T18:42:58.410Z"
   },
   {
    "duration": 7,
    "start_time": "2022-11-26T18:42:58.421Z"
   },
   {
    "duration": 9,
    "start_time": "2022-11-26T18:42:58.429Z"
   },
   {
    "duration": 162,
    "start_time": "2022-11-26T18:42:58.439Z"
   },
   {
    "duration": 117,
    "start_time": "2022-11-26T18:42:58.603Z"
   },
   {
    "duration": 10,
    "start_time": "2022-11-26T18:42:58.721Z"
   },
   {
    "duration": 10,
    "start_time": "2022-11-26T18:42:58.732Z"
   },
   {
    "duration": 7,
    "start_time": "2022-11-26T18:42:58.743Z"
   },
   {
    "duration": 313,
    "start_time": "2022-11-26T18:42:58.751Z"
   },
   {
    "duration": 12,
    "start_time": "2022-11-26T18:42:59.066Z"
   },
   {
    "duration": 372,
    "start_time": "2022-11-26T18:42:59.080Z"
   },
   {
    "duration": 290,
    "start_time": "2022-11-26T18:42:59.454Z"
   },
   {
    "duration": 314,
    "start_time": "2022-11-26T18:42:59.745Z"
   },
   {
    "duration": 409,
    "start_time": "2022-11-26T18:43:00.061Z"
   },
   {
    "duration": 13,
    "start_time": "2022-11-26T18:43:00.471Z"
   },
   {
    "duration": 23,
    "start_time": "2022-11-26T18:43:00.486Z"
   },
   {
    "duration": 28,
    "start_time": "2022-11-26T18:43:00.511Z"
   },
   {
    "duration": 26,
    "start_time": "2022-11-26T18:43:00.542Z"
   },
   {
    "duration": 143,
    "start_time": "2022-11-26T18:43:00.570Z"
   },
   {
    "duration": 6,
    "start_time": "2022-11-26T18:43:00.715Z"
   },
   {
    "duration": 18,
    "start_time": "2022-11-26T18:43:00.723Z"
   },
   {
    "duration": 16,
    "start_time": "2022-11-26T18:43:00.743Z"
   },
   {
    "duration": 32,
    "start_time": "2022-11-26T18:43:00.761Z"
   },
   {
    "duration": 33,
    "start_time": "2022-11-26T18:43:00.795Z"
   },
   {
    "duration": 163,
    "start_time": "2022-11-26T18:43:00.831Z"
   },
   {
    "duration": 167,
    "start_time": "2022-11-26T18:43:00.996Z"
   },
   {
    "duration": 13,
    "start_time": "2022-11-26T18:43:01.165Z"
   },
   {
    "duration": 5,
    "start_time": "2022-11-26T18:43:01.183Z"
   },
   {
    "duration": 10,
    "start_time": "2022-11-26T18:43:01.190Z"
   },
   {
    "duration": 15,
    "start_time": "2022-11-26T18:43:01.202Z"
   },
   {
    "duration": 228,
    "start_time": "2022-11-26T18:43:01.220Z"
   },
   {
    "duration": 10,
    "start_time": "2022-11-26T18:43:01.450Z"
   },
   {
    "duration": 176,
    "start_time": "2022-11-26T18:43:01.462Z"
   },
   {
    "duration": 13,
    "start_time": "2022-11-26T18:43:01.640Z"
   },
   {
    "duration": 125,
    "start_time": "2022-11-26T18:43:01.655Z"
   },
   {
    "duration": 10,
    "start_time": "2022-11-26T18:44:35.750Z"
   },
   {
    "duration": 75,
    "start_time": "2022-11-26T18:45:12.908Z"
   },
   {
    "duration": 67,
    "start_time": "2022-11-26T18:45:17.770Z"
   },
   {
    "duration": 9,
    "start_time": "2022-11-26T18:45:24.113Z"
   },
   {
    "duration": 8,
    "start_time": "2022-11-26T19:14:35.516Z"
   },
   {
    "duration": 25,
    "start_time": "2022-11-26T19:14:55.863Z"
   },
   {
    "duration": 1185,
    "start_time": "2022-11-26T19:22:29.378Z"
   },
   {
    "duration": 14,
    "start_time": "2022-11-26T19:23:14.760Z"
   },
   {
    "duration": 13,
    "start_time": "2022-11-26T19:23:38.442Z"
   },
   {
    "duration": 16,
    "start_time": "2022-11-26T19:24:04.119Z"
   },
   {
    "duration": 87,
    "start_time": "2022-11-26T19:36:36.445Z"
   },
   {
    "duration": 89,
    "start_time": "2022-11-26T19:37:59.007Z"
   },
   {
    "duration": 76,
    "start_time": "2022-11-26T19:38:09.871Z"
   },
   {
    "duration": 71,
    "start_time": "2022-11-26T19:38:35.889Z"
   },
   {
    "duration": 77,
    "start_time": "2022-11-26T19:38:46.365Z"
   },
   {
    "duration": 66,
    "start_time": "2022-11-26T20:04:49.603Z"
   },
   {
    "duration": 1055,
    "start_time": "2022-11-26T20:04:58.109Z"
   },
   {
    "duration": 29,
    "start_time": "2022-11-26T20:04:59.167Z"
   },
   {
    "duration": 13,
    "start_time": "2022-11-26T20:04:59.198Z"
   },
   {
    "duration": 12,
    "start_time": "2022-11-26T20:04:59.213Z"
   },
   {
    "duration": 12,
    "start_time": "2022-11-26T20:04:59.227Z"
   },
   {
    "duration": 12,
    "start_time": "2022-11-26T20:04:59.241Z"
   },
   {
    "duration": 28,
    "start_time": "2022-11-26T20:04:59.255Z"
   },
   {
    "duration": 8,
    "start_time": "2022-11-26T20:04:59.284Z"
   },
   {
    "duration": 21,
    "start_time": "2022-11-26T20:04:59.294Z"
   },
   {
    "duration": 12,
    "start_time": "2022-11-26T20:04:59.317Z"
   },
   {
    "duration": 45,
    "start_time": "2022-11-26T20:04:59.331Z"
   },
   {
    "duration": 16,
    "start_time": "2022-11-26T20:04:59.378Z"
   },
   {
    "duration": 9,
    "start_time": "2022-11-26T20:04:59.396Z"
   },
   {
    "duration": 18,
    "start_time": "2022-11-26T20:04:59.408Z"
   },
   {
    "duration": 7,
    "start_time": "2022-11-26T20:04:59.427Z"
   },
   {
    "duration": 14,
    "start_time": "2022-11-26T20:04:59.436Z"
   },
   {
    "duration": 186,
    "start_time": "2022-11-26T20:04:59.452Z"
   },
   {
    "duration": 121,
    "start_time": "2022-11-26T20:04:59.639Z"
   },
   {
    "duration": 16,
    "start_time": "2022-11-26T20:04:59.762Z"
   },
   {
    "duration": 7,
    "start_time": "2022-11-26T20:04:59.780Z"
   },
   {
    "duration": 9,
    "start_time": "2022-11-26T20:04:59.788Z"
   },
   {
    "duration": 315,
    "start_time": "2022-11-26T20:04:59.798Z"
   },
   {
    "duration": 6,
    "start_time": "2022-11-26T20:05:00.114Z"
   },
   {
    "duration": 375,
    "start_time": "2022-11-26T20:05:00.122Z"
   },
   {
    "duration": 281,
    "start_time": "2022-11-26T20:05:00.499Z"
   },
   {
    "duration": 332,
    "start_time": "2022-11-26T20:05:00.782Z"
   },
   {
    "duration": 387,
    "start_time": "2022-11-26T20:05:01.116Z"
   },
   {
    "duration": 10,
    "start_time": "2022-11-26T20:05:01.504Z"
   },
   {
    "duration": 18,
    "start_time": "2022-11-26T20:05:01.516Z"
   },
   {
    "duration": 21,
    "start_time": "2022-11-26T20:05:01.536Z"
   },
   {
    "duration": 27,
    "start_time": "2022-11-26T20:05:01.559Z"
   },
   {
    "duration": 154,
    "start_time": "2022-11-26T20:05:01.589Z"
   },
   {
    "duration": 6,
    "start_time": "2022-11-26T20:05:01.744Z"
   },
   {
    "duration": 32,
    "start_time": "2022-11-26T20:05:01.752Z"
   },
   {
    "duration": 18,
    "start_time": "2022-11-26T20:05:01.785Z"
   },
   {
    "duration": 12,
    "start_time": "2022-11-26T20:05:01.805Z"
   },
   {
    "duration": 14,
    "start_time": "2022-11-26T20:05:01.819Z"
   },
   {
    "duration": 168,
    "start_time": "2022-11-26T20:05:01.835Z"
   },
   {
    "duration": 180,
    "start_time": "2022-11-26T20:05:02.006Z"
   },
   {
    "duration": 7,
    "start_time": "2022-11-26T20:05:02.188Z"
   },
   {
    "duration": 8,
    "start_time": "2022-11-26T20:05:02.202Z"
   },
   {
    "duration": 10,
    "start_time": "2022-11-26T20:05:02.212Z"
   },
   {
    "duration": 12,
    "start_time": "2022-11-26T20:05:02.224Z"
   },
   {
    "duration": 269,
    "start_time": "2022-11-26T20:05:02.238Z"
   },
   {
    "duration": 12,
    "start_time": "2022-11-26T20:05:02.508Z"
   },
   {
    "duration": 186,
    "start_time": "2022-11-26T20:05:02.523Z"
   },
   {
    "duration": 18,
    "start_time": "2022-11-26T20:05:02.711Z"
   },
   {
    "duration": 17,
    "start_time": "2022-11-26T20:05:02.731Z"
   },
   {
    "duration": 48,
    "start_time": "2022-11-26T20:05:02.750Z"
   },
   {
    "duration": 16,
    "start_time": "2022-11-26T20:05:02.800Z"
   },
   {
    "duration": 12,
    "start_time": "2022-11-26T20:05:50.367Z"
   },
   {
    "duration": 67,
    "start_time": "2022-11-26T20:07:06.373Z"
   },
   {
    "duration": 70,
    "start_time": "2022-11-26T20:08:03.637Z"
   },
   {
    "duration": 5,
    "start_time": "2022-11-26T20:08:50.012Z"
   },
   {
    "duration": 1010,
    "start_time": "2022-11-26T20:08:55.727Z"
   },
   {
    "duration": 27,
    "start_time": "2022-11-26T20:08:56.739Z"
   },
   {
    "duration": 12,
    "start_time": "2022-11-26T20:08:56.768Z"
   },
   {
    "duration": 10,
    "start_time": "2022-11-26T20:08:56.782Z"
   },
   {
    "duration": 7,
    "start_time": "2022-11-26T20:08:56.794Z"
   },
   {
    "duration": 10,
    "start_time": "2022-11-26T20:08:56.802Z"
   },
   {
    "duration": 15,
    "start_time": "2022-11-26T20:08:56.814Z"
   },
   {
    "duration": 8,
    "start_time": "2022-11-26T20:08:56.831Z"
   },
   {
    "duration": 14,
    "start_time": "2022-11-26T20:08:56.841Z"
   },
   {
    "duration": 28,
    "start_time": "2022-11-26T20:08:56.857Z"
   },
   {
    "duration": 42,
    "start_time": "2022-11-26T20:08:56.887Z"
   },
   {
    "duration": 16,
    "start_time": "2022-11-26T20:08:56.930Z"
   },
   {
    "duration": 7,
    "start_time": "2022-11-26T20:08:56.948Z"
   },
   {
    "duration": 11,
    "start_time": "2022-11-26T20:08:56.957Z"
   },
   {
    "duration": 8,
    "start_time": "2022-11-26T20:08:56.969Z"
   },
   {
    "duration": 9,
    "start_time": "2022-11-26T20:08:56.978Z"
   },
   {
    "duration": 147,
    "start_time": "2022-11-26T20:08:56.989Z"
   },
   {
    "duration": 107,
    "start_time": "2022-11-26T20:08:57.137Z"
   },
   {
    "duration": 9,
    "start_time": "2022-11-26T20:08:57.246Z"
   },
   {
    "duration": 21,
    "start_time": "2022-11-26T20:08:57.257Z"
   },
   {
    "duration": 5,
    "start_time": "2022-11-26T20:08:57.279Z"
   },
   {
    "duration": 269,
    "start_time": "2022-11-26T20:08:57.286Z"
   },
   {
    "duration": 6,
    "start_time": "2022-11-26T20:08:57.556Z"
   },
   {
    "duration": 374,
    "start_time": "2022-11-26T20:08:57.563Z"
   },
   {
    "duration": 271,
    "start_time": "2022-11-26T20:08:57.939Z"
   },
   {
    "duration": 293,
    "start_time": "2022-11-26T20:08:58.212Z"
   },
   {
    "duration": 387,
    "start_time": "2022-11-26T20:08:58.507Z"
   },
   {
    "duration": 8,
    "start_time": "2022-11-26T20:08:58.898Z"
   },
   {
    "duration": 10,
    "start_time": "2022-11-26T20:08:58.908Z"
   },
   {
    "duration": 5,
    "start_time": "2022-11-26T20:08:58.920Z"
   },
   {
    "duration": 9,
    "start_time": "2022-11-26T20:08:58.927Z"
   },
   {
    "duration": 167,
    "start_time": "2022-11-26T20:08:58.938Z"
   },
   {
    "duration": 7,
    "start_time": "2022-11-26T20:08:59.107Z"
   },
   {
    "duration": 9,
    "start_time": "2022-11-26T20:08:59.115Z"
   },
   {
    "duration": 11,
    "start_time": "2022-11-26T20:08:59.125Z"
   },
   {
    "duration": 7,
    "start_time": "2022-11-26T20:08:59.137Z"
   },
   {
    "duration": 39,
    "start_time": "2022-11-26T20:08:59.146Z"
   },
   {
    "duration": 174,
    "start_time": "2022-11-26T20:08:59.187Z"
   },
   {
    "duration": 166,
    "start_time": "2022-11-26T20:08:59.362Z"
   },
   {
    "duration": 4,
    "start_time": "2022-11-26T20:08:59.530Z"
   },
   {
    "duration": 7,
    "start_time": "2022-11-26T20:08:59.536Z"
   },
   {
    "duration": 9,
    "start_time": "2022-11-26T20:08:59.545Z"
   },
   {
    "duration": 24,
    "start_time": "2022-11-26T20:08:59.556Z"
   },
   {
    "duration": 219,
    "start_time": "2022-11-26T20:08:59.582Z"
   },
   {
    "duration": 11,
    "start_time": "2022-11-26T20:08:59.802Z"
   },
   {
    "duration": 170,
    "start_time": "2022-11-26T20:08:59.815Z"
   },
   {
    "duration": 11,
    "start_time": "2022-11-26T20:08:59.987Z"
   },
   {
    "duration": 10,
    "start_time": "2022-11-26T20:09:00.000Z"
   },
   {
    "duration": 38,
    "start_time": "2022-11-26T20:09:00.011Z"
   },
   {
    "duration": 32,
    "start_time": "2022-11-26T20:09:00.051Z"
   },
   {
    "duration": 1104,
    "start_time": "2022-11-26T20:12:57.170Z"
   },
   {
    "duration": 28,
    "start_time": "2022-11-26T20:12:58.277Z"
   },
   {
    "duration": 12,
    "start_time": "2022-11-26T20:12:58.306Z"
   },
   {
    "duration": 11,
    "start_time": "2022-11-26T20:12:58.320Z"
   },
   {
    "duration": 16,
    "start_time": "2022-11-26T20:12:58.333Z"
   },
   {
    "duration": 9,
    "start_time": "2022-11-26T20:12:58.351Z"
   },
   {
    "duration": 103,
    "start_time": "2022-11-26T20:12:58.362Z"
   },
   {
    "duration": 0,
    "start_time": "2022-11-26T20:12:58.467Z"
   },
   {
    "duration": 1,
    "start_time": "2022-11-26T20:12:58.468Z"
   },
   {
    "duration": 0,
    "start_time": "2022-11-26T20:12:58.470Z"
   },
   {
    "duration": 0,
    "start_time": "2022-11-26T20:12:58.477Z"
   },
   {
    "duration": 0,
    "start_time": "2022-11-26T20:12:58.478Z"
   },
   {
    "duration": 0,
    "start_time": "2022-11-26T20:12:58.480Z"
   },
   {
    "duration": 0,
    "start_time": "2022-11-26T20:12:58.481Z"
   },
   {
    "duration": 0,
    "start_time": "2022-11-26T20:12:58.482Z"
   },
   {
    "duration": 0,
    "start_time": "2022-11-26T20:12:58.483Z"
   },
   {
    "duration": 0,
    "start_time": "2022-11-26T20:12:58.484Z"
   },
   {
    "duration": 0,
    "start_time": "2022-11-26T20:12:58.485Z"
   },
   {
    "duration": 0,
    "start_time": "2022-11-26T20:12:58.486Z"
   },
   {
    "duration": 0,
    "start_time": "2022-11-26T20:12:58.487Z"
   },
   {
    "duration": 0,
    "start_time": "2022-11-26T20:12:58.488Z"
   },
   {
    "duration": 0,
    "start_time": "2022-11-26T20:12:58.490Z"
   },
   {
    "duration": 0,
    "start_time": "2022-11-26T20:12:58.491Z"
   },
   {
    "duration": 0,
    "start_time": "2022-11-26T20:12:58.493Z"
   },
   {
    "duration": 0,
    "start_time": "2022-11-26T20:12:58.494Z"
   },
   {
    "duration": 1,
    "start_time": "2022-11-26T20:12:58.495Z"
   },
   {
    "duration": 0,
    "start_time": "2022-11-26T20:12:58.497Z"
   },
   {
    "duration": 0,
    "start_time": "2022-11-26T20:12:58.499Z"
   },
   {
    "duration": 0,
    "start_time": "2022-11-26T20:12:58.500Z"
   },
   {
    "duration": 0,
    "start_time": "2022-11-26T20:12:58.501Z"
   },
   {
    "duration": 0,
    "start_time": "2022-11-26T20:12:58.502Z"
   },
   {
    "duration": 0,
    "start_time": "2022-11-26T20:12:58.503Z"
   },
   {
    "duration": 0,
    "start_time": "2022-11-26T20:12:58.504Z"
   },
   {
    "duration": 0,
    "start_time": "2022-11-26T20:12:58.505Z"
   },
   {
    "duration": 0,
    "start_time": "2022-11-26T20:12:58.506Z"
   },
   {
    "duration": 0,
    "start_time": "2022-11-26T20:12:58.507Z"
   },
   {
    "duration": 0,
    "start_time": "2022-11-26T20:12:58.508Z"
   },
   {
    "duration": 0,
    "start_time": "2022-11-26T20:12:58.509Z"
   },
   {
    "duration": 0,
    "start_time": "2022-11-26T20:12:58.510Z"
   },
   {
    "duration": 0,
    "start_time": "2022-11-26T20:12:58.511Z"
   },
   {
    "duration": 0,
    "start_time": "2022-11-26T20:12:58.512Z"
   },
   {
    "duration": 0,
    "start_time": "2022-11-26T20:12:58.513Z"
   },
   {
    "duration": 0,
    "start_time": "2022-11-26T20:12:58.515Z"
   },
   {
    "duration": 0,
    "start_time": "2022-11-26T20:12:58.516Z"
   },
   {
    "duration": 0,
    "start_time": "2022-11-26T20:12:58.517Z"
   },
   {
    "duration": 0,
    "start_time": "2022-11-26T20:12:58.581Z"
   },
   {
    "duration": 0,
    "start_time": "2022-11-26T20:12:58.582Z"
   },
   {
    "duration": 0,
    "start_time": "2022-11-26T20:12:58.583Z"
   },
   {
    "duration": 0,
    "start_time": "2022-11-26T20:12:58.584Z"
   },
   {
    "duration": 0,
    "start_time": "2022-11-26T20:12:58.585Z"
   },
   {
    "duration": 0,
    "start_time": "2022-11-26T20:12:58.586Z"
   },
   {
    "duration": 0,
    "start_time": "2022-11-26T20:12:58.588Z"
   },
   {
    "duration": 1024,
    "start_time": "2022-11-26T20:13:08.789Z"
   },
   {
    "duration": 27,
    "start_time": "2022-11-26T20:13:09.815Z"
   },
   {
    "duration": 12,
    "start_time": "2022-11-26T20:13:09.844Z"
   },
   {
    "duration": 11,
    "start_time": "2022-11-26T20:13:09.858Z"
   },
   {
    "duration": 11,
    "start_time": "2022-11-26T20:13:09.870Z"
   },
   {
    "duration": 17,
    "start_time": "2022-11-26T20:13:09.882Z"
   },
   {
    "duration": 15,
    "start_time": "2022-11-26T20:13:09.901Z"
   },
   {
    "duration": 9,
    "start_time": "2022-11-26T20:13:09.918Z"
   },
   {
    "duration": 11,
    "start_time": "2022-11-26T20:13:09.929Z"
   },
   {
    "duration": 9,
    "start_time": "2022-11-26T20:13:09.942Z"
   },
   {
    "duration": 40,
    "start_time": "2022-11-26T20:13:09.953Z"
   },
   {
    "duration": 15,
    "start_time": "2022-11-26T20:13:09.994Z"
   },
   {
    "duration": 7,
    "start_time": "2022-11-26T20:13:10.011Z"
   },
   {
    "duration": 13,
    "start_time": "2022-11-26T20:13:10.020Z"
   },
   {
    "duration": 11,
    "start_time": "2022-11-26T20:13:10.035Z"
   },
   {
    "duration": 13,
    "start_time": "2022-11-26T20:13:10.048Z"
   },
   {
    "duration": 8,
    "start_time": "2022-11-26T20:13:10.062Z"
   },
   {
    "duration": 8,
    "start_time": "2022-11-26T20:13:10.071Z"
   },
   {
    "duration": 152,
    "start_time": "2022-11-26T20:13:10.080Z"
   },
   {
    "duration": 115,
    "start_time": "2022-11-26T20:13:10.234Z"
   },
   {
    "duration": 9,
    "start_time": "2022-11-26T20:13:10.351Z"
   },
   {
    "duration": 20,
    "start_time": "2022-11-26T20:13:10.361Z"
   },
   {
    "duration": 8,
    "start_time": "2022-11-26T20:13:10.382Z"
   },
   {
    "duration": 260,
    "start_time": "2022-11-26T20:13:10.392Z"
   },
   {
    "duration": 5,
    "start_time": "2022-11-26T20:13:10.654Z"
   },
   {
    "duration": 378,
    "start_time": "2022-11-26T20:13:10.661Z"
   },
   {
    "duration": 274,
    "start_time": "2022-11-26T20:13:11.041Z"
   },
   {
    "duration": 289,
    "start_time": "2022-11-26T20:13:11.318Z"
   },
   {
    "duration": 357,
    "start_time": "2022-11-26T20:13:11.608Z"
   },
   {
    "duration": 15,
    "start_time": "2022-11-26T20:13:11.967Z"
   },
   {
    "duration": 11,
    "start_time": "2022-11-26T20:13:11.983Z"
   },
   {
    "duration": 3,
    "start_time": "2022-11-26T20:13:11.995Z"
   },
   {
    "duration": 9,
    "start_time": "2022-11-26T20:13:11.999Z"
   },
   {
    "duration": 140,
    "start_time": "2022-11-26T20:13:12.010Z"
   },
   {
    "duration": 4,
    "start_time": "2022-11-26T20:13:12.152Z"
   },
   {
    "duration": 6,
    "start_time": "2022-11-26T20:13:12.158Z"
   },
   {
    "duration": 7,
    "start_time": "2022-11-26T20:13:12.178Z"
   },
   {
    "duration": 7,
    "start_time": "2022-11-26T20:13:12.186Z"
   },
   {
    "duration": 10,
    "start_time": "2022-11-26T20:13:12.194Z"
   },
   {
    "duration": 149,
    "start_time": "2022-11-26T20:13:12.206Z"
   },
   {
    "duration": 142,
    "start_time": "2022-11-26T20:13:12.356Z"
   },
   {
    "duration": 4,
    "start_time": "2022-11-26T20:13:12.500Z"
   },
   {
    "duration": 6,
    "start_time": "2022-11-26T20:13:12.506Z"
   },
   {
    "duration": 10,
    "start_time": "2022-11-26T20:13:12.513Z"
   },
   {
    "duration": 13,
    "start_time": "2022-11-26T20:13:12.524Z"
   },
   {
    "duration": 203,
    "start_time": "2022-11-26T20:13:12.539Z"
   },
   {
    "duration": 9,
    "start_time": "2022-11-26T20:13:12.744Z"
   },
   {
    "duration": 152,
    "start_time": "2022-11-26T20:13:12.755Z"
   },
   {
    "duration": 8,
    "start_time": "2022-11-26T20:13:12.909Z"
   },
   {
    "duration": 9,
    "start_time": "2022-11-26T20:13:12.919Z"
   },
   {
    "duration": 50,
    "start_time": "2022-11-26T20:13:12.930Z"
   },
   {
    "duration": 12,
    "start_time": "2022-11-26T20:13:12.982Z"
   },
   {
    "duration": 1075,
    "start_time": "2022-11-26T20:14:37.337Z"
   },
   {
    "duration": 27,
    "start_time": "2022-11-26T20:14:38.415Z"
   },
   {
    "duration": 13,
    "start_time": "2022-11-26T20:14:38.444Z"
   },
   {
    "duration": 17,
    "start_time": "2022-11-26T20:14:38.459Z"
   },
   {
    "duration": 13,
    "start_time": "2022-11-26T20:14:38.478Z"
   },
   {
    "duration": 9,
    "start_time": "2022-11-26T20:14:38.493Z"
   },
   {
    "duration": 16,
    "start_time": "2022-11-26T20:14:38.504Z"
   },
   {
    "duration": 9,
    "start_time": "2022-11-26T20:14:38.522Z"
   },
   {
    "duration": 15,
    "start_time": "2022-11-26T20:14:38.532Z"
   },
   {
    "duration": 12,
    "start_time": "2022-11-26T20:14:38.549Z"
   },
   {
    "duration": 45,
    "start_time": "2022-11-26T20:14:38.563Z"
   },
   {
    "duration": 15,
    "start_time": "2022-11-26T20:14:38.609Z"
   },
   {
    "duration": 8,
    "start_time": "2022-11-26T20:14:38.626Z"
   },
   {
    "duration": 20,
    "start_time": "2022-11-26T20:14:38.635Z"
   },
   {
    "duration": 11,
    "start_time": "2022-11-26T20:14:38.656Z"
   },
   {
    "duration": 17,
    "start_time": "2022-11-26T20:14:38.669Z"
   },
   {
    "duration": 17,
    "start_time": "2022-11-26T20:14:38.688Z"
   },
   {
    "duration": 8,
    "start_time": "2022-11-26T20:14:38.706Z"
   },
   {
    "duration": 9,
    "start_time": "2022-11-26T20:14:38.716Z"
   },
   {
    "duration": 9,
    "start_time": "2022-11-26T20:14:38.727Z"
   },
   {
    "duration": 168,
    "start_time": "2022-11-26T20:14:38.738Z"
   },
   {
    "duration": 135,
    "start_time": "2022-11-26T20:14:38.907Z"
   },
   {
    "duration": 10,
    "start_time": "2022-11-26T20:14:39.044Z"
   },
   {
    "duration": 24,
    "start_time": "2022-11-26T20:14:39.056Z"
   },
   {
    "duration": 10,
    "start_time": "2022-11-26T20:14:39.082Z"
   },
   {
    "duration": 281,
    "start_time": "2022-11-26T20:14:39.094Z"
   },
   {
    "duration": 7,
    "start_time": "2022-11-26T20:14:39.377Z"
   },
   {
    "duration": 281,
    "start_time": "2022-11-26T20:14:39.388Z"
   },
   {
    "duration": 188,
    "start_time": "2022-11-26T20:14:39.677Z"
   },
   {
    "duration": 243,
    "start_time": "2022-11-26T20:14:39.867Z"
   },
   {
    "duration": 319,
    "start_time": "2022-11-26T20:14:40.112Z"
   },
   {
    "duration": 9,
    "start_time": "2022-11-26T20:14:40.432Z"
   },
   {
    "duration": 11,
    "start_time": "2022-11-26T20:14:40.443Z"
   },
   {
    "duration": 15,
    "start_time": "2022-11-26T20:14:40.456Z"
   },
   {
    "duration": 25,
    "start_time": "2022-11-26T20:14:40.472Z"
   },
   {
    "duration": 152,
    "start_time": "2022-11-26T20:14:40.499Z"
   },
   {
    "duration": 5,
    "start_time": "2022-11-26T20:14:40.653Z"
   },
   {
    "duration": 6,
    "start_time": "2022-11-26T20:14:40.659Z"
   },
   {
    "duration": 17,
    "start_time": "2022-11-26T20:14:40.667Z"
   },
   {
    "duration": 5,
    "start_time": "2022-11-26T20:14:40.686Z"
   },
   {
    "duration": 11,
    "start_time": "2022-11-26T20:14:40.692Z"
   },
   {
    "duration": 160,
    "start_time": "2022-11-26T20:14:40.704Z"
   },
   {
    "duration": 158,
    "start_time": "2022-11-26T20:14:40.866Z"
   },
   {
    "duration": 6,
    "start_time": "2022-11-26T20:14:41.025Z"
   },
   {
    "duration": 8,
    "start_time": "2022-11-26T20:14:41.032Z"
   },
   {
    "duration": 8,
    "start_time": "2022-11-26T20:14:41.042Z"
   },
   {
    "duration": 29,
    "start_time": "2022-11-26T20:14:41.052Z"
   },
   {
    "duration": 295,
    "start_time": "2022-11-26T20:14:41.083Z"
   },
   {
    "duration": 10,
    "start_time": "2022-11-26T20:14:41.379Z"
   },
   {
    "duration": 194,
    "start_time": "2022-11-26T20:14:41.390Z"
   },
   {
    "duration": 11,
    "start_time": "2022-11-26T20:14:41.586Z"
   },
   {
    "duration": 10,
    "start_time": "2022-11-26T20:14:41.599Z"
   },
   {
    "duration": 26,
    "start_time": "2022-11-26T20:14:41.611Z"
   },
   {
    "duration": 13,
    "start_time": "2022-11-26T20:14:41.639Z"
   },
   {
    "duration": 1246,
    "start_time": "2022-11-26T20:16:19.470Z"
   },
   {
    "duration": 28,
    "start_time": "2022-11-26T20:16:20.718Z"
   },
   {
    "duration": 14,
    "start_time": "2022-11-26T20:16:20.748Z"
   },
   {
    "duration": 24,
    "start_time": "2022-11-26T20:16:20.763Z"
   },
   {
    "duration": 24,
    "start_time": "2022-11-26T20:16:20.789Z"
   },
   {
    "duration": 25,
    "start_time": "2022-11-26T20:16:20.814Z"
   },
   {
    "duration": 27,
    "start_time": "2022-11-26T20:16:20.841Z"
   },
   {
    "duration": 13,
    "start_time": "2022-11-26T20:16:20.870Z"
   },
   {
    "duration": 26,
    "start_time": "2022-11-26T20:16:20.885Z"
   },
   {
    "duration": 21,
    "start_time": "2022-11-26T20:16:20.914Z"
   },
   {
    "duration": 47,
    "start_time": "2022-11-26T20:16:20.937Z"
   },
   {
    "duration": 16,
    "start_time": "2022-11-26T20:16:20.986Z"
   },
   {
    "duration": 8,
    "start_time": "2022-11-26T20:16:21.004Z"
   },
   {
    "duration": 23,
    "start_time": "2022-11-26T20:16:21.014Z"
   },
   {
    "duration": 17,
    "start_time": "2022-11-26T20:16:21.039Z"
   },
   {
    "duration": 21,
    "start_time": "2022-11-26T20:16:21.057Z"
   },
   {
    "duration": 15,
    "start_time": "2022-11-26T20:16:21.079Z"
   },
   {
    "duration": 19,
    "start_time": "2022-11-26T20:16:21.096Z"
   },
   {
    "duration": 16,
    "start_time": "2022-11-26T20:16:21.117Z"
   },
   {
    "duration": 22,
    "start_time": "2022-11-26T20:16:21.135Z"
   },
   {
    "duration": 10,
    "start_time": "2022-11-26T20:16:21.158Z"
   },
   {
    "duration": 23,
    "start_time": "2022-11-26T20:16:21.169Z"
   },
   {
    "duration": 182,
    "start_time": "2022-11-26T20:16:21.193Z"
   },
   {
    "duration": 136,
    "start_time": "2022-11-26T20:16:21.378Z"
   },
   {
    "duration": 9,
    "start_time": "2022-11-26T20:16:21.516Z"
   },
   {
    "duration": 20,
    "start_time": "2022-11-26T20:16:21.527Z"
   },
   {
    "duration": 15,
    "start_time": "2022-11-26T20:16:21.549Z"
   },
   {
    "duration": 282,
    "start_time": "2022-11-26T20:16:21.567Z"
   },
   {
    "duration": 6,
    "start_time": "2022-11-26T20:16:21.851Z"
   },
   {
    "duration": 309,
    "start_time": "2022-11-26T20:16:21.859Z"
   },
   {
    "duration": 200,
    "start_time": "2022-11-26T20:16:22.170Z"
   },
   {
    "duration": 202,
    "start_time": "2022-11-26T20:16:22.371Z"
   },
   {
    "duration": 303,
    "start_time": "2022-11-26T20:16:22.577Z"
   },
   {
    "duration": 8,
    "start_time": "2022-11-26T20:16:22.881Z"
   },
   {
    "duration": 8,
    "start_time": "2022-11-26T20:16:22.890Z"
   },
   {
    "duration": 2,
    "start_time": "2022-11-26T20:16:22.899Z"
   },
   {
    "duration": 9,
    "start_time": "2022-11-26T20:16:22.903Z"
   },
   {
    "duration": 140,
    "start_time": "2022-11-26T20:16:22.914Z"
   },
   {
    "duration": 4,
    "start_time": "2022-11-26T20:16:23.056Z"
   },
   {
    "duration": 20,
    "start_time": "2022-11-26T20:16:23.062Z"
   },
   {
    "duration": 17,
    "start_time": "2022-11-26T20:16:23.083Z"
   },
   {
    "duration": 13,
    "start_time": "2022-11-26T20:16:23.102Z"
   },
   {
    "duration": 18,
    "start_time": "2022-11-26T20:16:23.116Z"
   },
   {
    "duration": 135,
    "start_time": "2022-11-26T20:16:23.136Z"
   },
   {
    "duration": 130,
    "start_time": "2022-11-26T20:16:23.272Z"
   },
   {
    "duration": 4,
    "start_time": "2022-11-26T20:16:23.403Z"
   },
   {
    "duration": 22,
    "start_time": "2022-11-26T20:16:23.408Z"
   },
   {
    "duration": 18,
    "start_time": "2022-11-26T20:16:23.431Z"
   },
   {
    "duration": 28,
    "start_time": "2022-11-26T20:16:23.450Z"
   },
   {
    "duration": 273,
    "start_time": "2022-11-26T20:16:23.479Z"
   },
   {
    "duration": 10,
    "start_time": "2022-11-26T20:16:23.754Z"
   },
   {
    "duration": 171,
    "start_time": "2022-11-26T20:16:23.765Z"
   },
   {
    "duration": 13,
    "start_time": "2022-11-26T20:16:23.938Z"
   },
   {
    "duration": 25,
    "start_time": "2022-11-26T20:16:23.953Z"
   },
   {
    "duration": 35,
    "start_time": "2022-11-26T20:16:23.980Z"
   },
   {
    "duration": 17,
    "start_time": "2022-11-26T20:16:24.017Z"
   },
   {
    "duration": 1089,
    "start_time": "2022-11-26T20:22:41.035Z"
   },
   {
    "duration": 28,
    "start_time": "2022-11-26T20:22:42.126Z"
   },
   {
    "duration": 13,
    "start_time": "2022-11-26T20:22:42.156Z"
   },
   {
    "duration": 15,
    "start_time": "2022-11-26T20:22:42.171Z"
   },
   {
    "duration": 13,
    "start_time": "2022-11-26T20:22:42.188Z"
   },
   {
    "duration": 10,
    "start_time": "2022-11-26T20:22:42.202Z"
   },
   {
    "duration": 10,
    "start_time": "2022-11-26T20:22:42.213Z"
   },
   {
    "duration": 11,
    "start_time": "2022-11-26T20:22:42.225Z"
   },
   {
    "duration": 13,
    "start_time": "2022-11-26T20:22:42.238Z"
   },
   {
    "duration": 25,
    "start_time": "2022-11-26T20:22:42.254Z"
   },
   {
    "duration": 38,
    "start_time": "2022-11-26T20:22:42.280Z"
   },
   {
    "duration": 15,
    "start_time": "2022-11-26T20:22:42.320Z"
   },
   {
    "duration": 8,
    "start_time": "2022-11-26T20:22:42.336Z"
   },
   {
    "duration": 13,
    "start_time": "2022-11-26T20:22:42.345Z"
   },
   {
    "duration": 7,
    "start_time": "2022-11-26T20:22:42.359Z"
   },
   {
    "duration": 12,
    "start_time": "2022-11-26T20:22:42.368Z"
   },
   {
    "duration": 8,
    "start_time": "2022-11-26T20:22:42.382Z"
   },
   {
    "duration": 16,
    "start_time": "2022-11-26T20:22:42.391Z"
   },
   {
    "duration": 6,
    "start_time": "2022-11-26T20:22:42.408Z"
   },
   {
    "duration": 12,
    "start_time": "2022-11-26T20:22:42.416Z"
   },
   {
    "duration": 10,
    "start_time": "2022-11-26T20:22:42.430Z"
   },
   {
    "duration": 9,
    "start_time": "2022-11-26T20:22:42.441Z"
   },
   {
    "duration": 171,
    "start_time": "2022-11-26T20:22:42.451Z"
   },
   {
    "duration": 120,
    "start_time": "2022-11-26T20:22:42.624Z"
   },
   {
    "duration": 6,
    "start_time": "2022-11-26T20:22:42.746Z"
   },
   {
    "duration": 26,
    "start_time": "2022-11-26T20:22:42.753Z"
   },
   {
    "duration": 4,
    "start_time": "2022-11-26T20:22:42.781Z"
   },
   {
    "duration": 6,
    "start_time": "2022-11-26T20:22:42.789Z"
   },
   {
    "duration": 267,
    "start_time": "2022-11-26T20:22:42.796Z"
   },
   {
    "duration": 6,
    "start_time": "2022-11-26T20:22:43.064Z"
   },
   {
    "duration": 308,
    "start_time": "2022-11-26T20:22:43.071Z"
   },
   {
    "duration": 180,
    "start_time": "2022-11-26T20:22:43.381Z"
   },
   {
    "duration": 205,
    "start_time": "2022-11-26T20:22:43.562Z"
   },
   {
    "duration": 339,
    "start_time": "2022-11-26T20:22:43.768Z"
   },
   {
    "duration": 7,
    "start_time": "2022-11-26T20:22:44.109Z"
   },
   {
    "duration": 8,
    "start_time": "2022-11-26T20:22:44.118Z"
   },
   {
    "duration": 7,
    "start_time": "2022-11-26T20:22:44.128Z"
   },
   {
    "duration": 8,
    "start_time": "2022-11-26T20:22:44.137Z"
   },
   {
    "duration": 138,
    "start_time": "2022-11-26T20:22:44.147Z"
   },
   {
    "duration": 4,
    "start_time": "2022-11-26T20:22:44.287Z"
   },
   {
    "duration": 12,
    "start_time": "2022-11-26T20:22:44.292Z"
   },
   {
    "duration": 12,
    "start_time": "2022-11-26T20:22:44.305Z"
   },
   {
    "duration": 8,
    "start_time": "2022-11-26T20:22:44.318Z"
   },
   {
    "duration": 11,
    "start_time": "2022-11-26T20:22:44.328Z"
   },
   {
    "duration": 152,
    "start_time": "2022-11-26T20:22:44.340Z"
   },
   {
    "duration": 153,
    "start_time": "2022-11-26T20:22:44.494Z"
   },
   {
    "duration": 6,
    "start_time": "2022-11-26T20:22:44.649Z"
   },
   {
    "duration": 6,
    "start_time": "2022-11-26T20:22:44.657Z"
   },
   {
    "duration": 18,
    "start_time": "2022-11-26T20:22:44.665Z"
   },
   {
    "duration": 12,
    "start_time": "2022-11-26T20:22:44.685Z"
   },
   {
    "duration": 311,
    "start_time": "2022-11-26T20:22:44.698Z"
   },
   {
    "duration": 10,
    "start_time": "2022-11-26T20:22:45.011Z"
   },
   {
    "duration": 150,
    "start_time": "2022-11-26T20:22:45.022Z"
   },
   {
    "duration": 10,
    "start_time": "2022-11-26T20:22:45.178Z"
   },
   {
    "duration": 9,
    "start_time": "2022-11-26T20:22:45.190Z"
   },
   {
    "duration": 28,
    "start_time": "2022-11-26T20:22:45.201Z"
   },
   {
    "duration": 14,
    "start_time": "2022-11-26T20:22:45.230Z"
   },
   {
    "duration": 73,
    "start_time": "2022-11-26T20:23:43.512Z"
   },
   {
    "duration": 163,
    "start_time": "2022-11-26T20:30:58.479Z"
   },
   {
    "duration": 171,
    "start_time": "2022-11-26T20:31:12.952Z"
   },
   {
    "duration": 281,
    "start_time": "2022-11-26T20:32:17.380Z"
   },
   {
    "duration": 994,
    "start_time": "2022-11-26T20:34:11.436Z"
   },
   {
    "duration": 28,
    "start_time": "2022-11-26T20:34:12.432Z"
   },
   {
    "duration": 13,
    "start_time": "2022-11-26T20:34:12.463Z"
   },
   {
    "duration": 13,
    "start_time": "2022-11-26T20:34:12.478Z"
   },
   {
    "duration": 41,
    "start_time": "2022-11-26T20:34:12.493Z"
   },
   {
    "duration": 45,
    "start_time": "2022-11-26T20:34:12.536Z"
   },
   {
    "duration": 31,
    "start_time": "2022-11-26T20:34:12.583Z"
   },
   {
    "duration": 25,
    "start_time": "2022-11-26T20:34:12.615Z"
   },
   {
    "duration": 12,
    "start_time": "2022-11-26T20:34:12.642Z"
   },
   {
    "duration": 23,
    "start_time": "2022-11-26T20:34:12.656Z"
   },
   {
    "duration": 43,
    "start_time": "2022-11-26T20:34:12.681Z"
   },
   {
    "duration": 15,
    "start_time": "2022-11-26T20:34:12.726Z"
   },
   {
    "duration": 7,
    "start_time": "2022-11-26T20:34:12.744Z"
   },
   {
    "duration": 12,
    "start_time": "2022-11-26T20:34:12.753Z"
   },
   {
    "duration": 7,
    "start_time": "2022-11-26T20:34:12.767Z"
   },
   {
    "duration": 17,
    "start_time": "2022-11-26T20:34:12.775Z"
   },
   {
    "duration": 11,
    "start_time": "2022-11-26T20:34:12.793Z"
   },
   {
    "duration": 11,
    "start_time": "2022-11-26T20:34:12.806Z"
   },
   {
    "duration": 5,
    "start_time": "2022-11-26T20:34:12.819Z"
   },
   {
    "duration": 11,
    "start_time": "2022-11-26T20:34:12.826Z"
   },
   {
    "duration": 8,
    "start_time": "2022-11-26T20:34:12.839Z"
   },
   {
    "duration": 12,
    "start_time": "2022-11-26T20:34:12.848Z"
   },
   {
    "duration": 169,
    "start_time": "2022-11-26T20:34:12.861Z"
   },
   {
    "duration": 118,
    "start_time": "2022-11-26T20:34:13.032Z"
   },
   {
    "duration": 6,
    "start_time": "2022-11-26T20:34:13.152Z"
   },
   {
    "duration": 23,
    "start_time": "2022-11-26T20:34:13.160Z"
   },
   {
    "duration": 12,
    "start_time": "2022-11-26T20:34:13.185Z"
   },
   {
    "duration": 10,
    "start_time": "2022-11-26T20:34:13.199Z"
   },
   {
    "duration": 261,
    "start_time": "2022-11-26T20:34:13.211Z"
   },
   {
    "duration": 9,
    "start_time": "2022-11-26T20:34:13.473Z"
   },
   {
    "duration": 216,
    "start_time": "2022-11-26T20:34:13.484Z"
   },
   {
    "duration": 291,
    "start_time": "2022-11-26T20:34:13.702Z"
   },
   {
    "duration": 219,
    "start_time": "2022-11-26T20:34:13.995Z"
   },
   {
    "duration": 290,
    "start_time": "2022-11-26T20:34:14.215Z"
   },
   {
    "duration": 7,
    "start_time": "2022-11-26T20:34:14.507Z"
   },
   {
    "duration": 8,
    "start_time": "2022-11-26T20:34:14.516Z"
   },
   {
    "duration": 6,
    "start_time": "2022-11-26T20:34:14.526Z"
   },
   {
    "duration": 10,
    "start_time": "2022-11-26T20:34:14.533Z"
   },
   {
    "duration": 149,
    "start_time": "2022-11-26T20:34:14.545Z"
   },
   {
    "duration": 5,
    "start_time": "2022-11-26T20:34:14.699Z"
   },
   {
    "duration": 9,
    "start_time": "2022-11-26T20:34:14.705Z"
   },
   {
    "duration": 14,
    "start_time": "2022-11-26T20:34:14.715Z"
   },
   {
    "duration": 4,
    "start_time": "2022-11-26T20:34:14.731Z"
   },
   {
    "duration": 12,
    "start_time": "2022-11-26T20:34:14.736Z"
   },
   {
    "duration": 170,
    "start_time": "2022-11-26T20:34:14.749Z"
   },
   {
    "duration": 152,
    "start_time": "2022-11-26T20:34:14.921Z"
   },
   {
    "duration": 5,
    "start_time": "2022-11-26T20:34:15.078Z"
   },
   {
    "duration": 10,
    "start_time": "2022-11-26T20:34:15.084Z"
   },
   {
    "duration": 11,
    "start_time": "2022-11-26T20:34:15.095Z"
   },
   {
    "duration": 13,
    "start_time": "2022-11-26T20:34:15.107Z"
   },
   {
    "duration": 305,
    "start_time": "2022-11-26T20:34:15.122Z"
   },
   {
    "duration": 11,
    "start_time": "2022-11-26T20:34:15.429Z"
   },
   {
    "duration": 171,
    "start_time": "2022-11-26T20:34:15.442Z"
   },
   {
    "duration": 10,
    "start_time": "2022-11-26T20:34:15.615Z"
   },
   {
    "duration": 9,
    "start_time": "2022-11-26T20:34:15.627Z"
   },
   {
    "duration": 47,
    "start_time": "2022-11-26T20:34:15.637Z"
   },
   {
    "duration": 13,
    "start_time": "2022-11-26T20:34:15.686Z"
   },
   {
    "duration": 90,
    "start_time": "2022-11-26T20:36:07.726Z"
   },
   {
    "duration": 8,
    "start_time": "2022-11-26T20:36:23.649Z"
   },
   {
    "duration": 12,
    "start_time": "2022-11-26T20:36:50.617Z"
   },
   {
    "duration": 9,
    "start_time": "2022-11-26T20:37:16.576Z"
   },
   {
    "duration": 13,
    "start_time": "2022-11-26T20:37:20.109Z"
   },
   {
    "duration": 9,
    "start_time": "2022-11-26T20:38:01.525Z"
   },
   {
    "duration": 8,
    "start_time": "2022-11-26T20:38:07.632Z"
   },
   {
    "duration": 3,
    "start_time": "2022-11-26T20:38:13.435Z"
   },
   {
    "duration": 10,
    "start_time": "2022-11-26T20:38:23.026Z"
   },
   {
    "duration": 1014,
    "start_time": "2022-11-26T20:40:14.308Z"
   },
   {
    "duration": 28,
    "start_time": "2022-11-26T20:40:15.324Z"
   },
   {
    "duration": 13,
    "start_time": "2022-11-26T20:40:15.354Z"
   },
   {
    "duration": 11,
    "start_time": "2022-11-26T20:40:15.369Z"
   },
   {
    "duration": 8,
    "start_time": "2022-11-26T20:40:15.382Z"
   },
   {
    "duration": 9,
    "start_time": "2022-11-26T20:40:15.391Z"
   },
   {
    "duration": 11,
    "start_time": "2022-11-26T20:40:15.401Z"
   },
   {
    "duration": 4,
    "start_time": "2022-11-26T20:40:15.413Z"
   },
   {
    "duration": 11,
    "start_time": "2022-11-26T20:40:15.419Z"
   },
   {
    "duration": 13,
    "start_time": "2022-11-26T20:40:15.431Z"
   },
   {
    "duration": 41,
    "start_time": "2022-11-26T20:40:15.445Z"
   },
   {
    "duration": 15,
    "start_time": "2022-11-26T20:40:15.488Z"
   },
   {
    "duration": 8,
    "start_time": "2022-11-26T20:40:15.505Z"
   },
   {
    "duration": 11,
    "start_time": "2022-11-26T20:40:15.516Z"
   },
   {
    "duration": 9,
    "start_time": "2022-11-26T20:40:15.528Z"
   },
   {
    "duration": 15,
    "start_time": "2022-11-26T20:40:15.539Z"
   },
   {
    "duration": 18,
    "start_time": "2022-11-26T20:40:15.555Z"
   },
   {
    "duration": 13,
    "start_time": "2022-11-26T20:40:15.574Z"
   },
   {
    "duration": 9,
    "start_time": "2022-11-26T20:40:15.589Z"
   },
   {
    "duration": 13,
    "start_time": "2022-11-26T20:40:15.599Z"
   },
   {
    "duration": 14,
    "start_time": "2022-11-26T20:40:15.613Z"
   },
   {
    "duration": 15,
    "start_time": "2022-11-26T20:40:15.629Z"
   },
   {
    "duration": 177,
    "start_time": "2022-11-26T20:40:15.645Z"
   },
   {
    "duration": 120,
    "start_time": "2022-11-26T20:40:15.823Z"
   },
   {
    "duration": 7,
    "start_time": "2022-11-26T20:40:15.944Z"
   },
   {
    "duration": 11,
    "start_time": "2022-11-26T20:40:15.953Z"
   },
   {
    "duration": 16,
    "start_time": "2022-11-26T20:40:15.966Z"
   },
   {
    "duration": 9,
    "start_time": "2022-11-26T20:40:15.983Z"
   },
   {
    "duration": 252,
    "start_time": "2022-11-26T20:40:15.994Z"
   },
   {
    "duration": 10,
    "start_time": "2022-11-26T20:40:16.248Z"
   },
   {
    "duration": 19,
    "start_time": "2022-11-26T20:40:16.259Z"
   },
   {
    "duration": 181,
    "start_time": "2022-11-26T20:40:16.279Z"
   },
   {
    "duration": 304,
    "start_time": "2022-11-26T20:40:16.462Z"
   },
   {
    "duration": 197,
    "start_time": "2022-11-26T20:40:16.777Z"
   },
   {
    "duration": 306,
    "start_time": "2022-11-26T20:40:16.977Z"
   },
   {
    "duration": 8,
    "start_time": "2022-11-26T20:40:17.285Z"
   },
   {
    "duration": 10,
    "start_time": "2022-11-26T20:40:17.294Z"
   },
   {
    "duration": 3,
    "start_time": "2022-11-26T20:40:17.305Z"
   },
   {
    "duration": 9,
    "start_time": "2022-11-26T20:40:17.309Z"
   },
   {
    "duration": 142,
    "start_time": "2022-11-26T20:40:17.320Z"
   },
   {
    "duration": 5,
    "start_time": "2022-11-26T20:40:17.466Z"
   },
   {
    "duration": 5,
    "start_time": "2022-11-26T20:40:17.478Z"
   },
   {
    "duration": 12,
    "start_time": "2022-11-26T20:40:17.485Z"
   },
   {
    "duration": 21,
    "start_time": "2022-11-26T20:40:17.499Z"
   },
   {
    "duration": 11,
    "start_time": "2022-11-26T20:40:17.521Z"
   },
   {
    "duration": 137,
    "start_time": "2022-11-26T20:40:17.534Z"
   },
   {
    "duration": 144,
    "start_time": "2022-11-26T20:40:17.677Z"
   },
   {
    "duration": 5,
    "start_time": "2022-11-26T20:40:17.822Z"
   },
   {
    "duration": 6,
    "start_time": "2022-11-26T20:40:17.829Z"
   },
   {
    "duration": 9,
    "start_time": "2022-11-26T20:40:17.836Z"
   },
   {
    "duration": 10,
    "start_time": "2022-11-26T20:40:17.847Z"
   },
   {
    "duration": 289,
    "start_time": "2022-11-26T20:40:17.859Z"
   },
   {
    "duration": 11,
    "start_time": "2022-11-26T20:40:18.149Z"
   },
   {
    "duration": 166,
    "start_time": "2022-11-26T20:40:18.161Z"
   },
   {
    "duration": 10,
    "start_time": "2022-11-26T20:40:18.329Z"
   },
   {
    "duration": 9,
    "start_time": "2022-11-26T20:40:18.340Z"
   },
   {
    "duration": 44,
    "start_time": "2022-11-26T20:40:18.351Z"
   },
   {
    "duration": 13,
    "start_time": "2022-11-26T20:40:18.396Z"
   },
   {
    "duration": 11,
    "start_time": "2022-11-26T20:40:25.432Z"
   },
   {
    "duration": 14,
    "start_time": "2022-11-26T20:41:16.251Z"
   },
   {
    "duration": 12,
    "start_time": "2022-11-26T20:41:27.380Z"
   },
   {
    "duration": 11,
    "start_time": "2022-11-26T20:42:05.088Z"
   },
   {
    "duration": 195,
    "start_time": "2022-11-26T20:45:03.083Z"
   },
   {
    "duration": 174,
    "start_time": "2022-11-26T20:46:01.217Z"
   },
   {
    "duration": 65,
    "start_time": "2022-11-26T20:50:28.544Z"
   },
   {
    "duration": 1266,
    "start_time": "2022-11-27T13:35:01.495Z"
   },
   {
    "duration": 61,
    "start_time": "2022-11-27T13:35:02.763Z"
   },
   {
    "duration": 13,
    "start_time": "2022-11-27T13:35:02.826Z"
   },
   {
    "duration": 11,
    "start_time": "2022-11-27T13:35:02.842Z"
   },
   {
    "duration": 8,
    "start_time": "2022-11-27T13:35:02.854Z"
   },
   {
    "duration": 10,
    "start_time": "2022-11-27T13:35:02.864Z"
   },
   {
    "duration": 10,
    "start_time": "2022-11-27T13:35:02.876Z"
   },
   {
    "duration": 8,
    "start_time": "2022-11-27T13:35:02.888Z"
   },
   {
    "duration": 11,
    "start_time": "2022-11-27T13:35:02.898Z"
   },
   {
    "duration": 21,
    "start_time": "2022-11-27T13:35:02.912Z"
   },
   {
    "duration": 82,
    "start_time": "2022-11-27T13:35:02.935Z"
   },
   {
    "duration": 51,
    "start_time": "2022-11-27T13:35:03.019Z"
   },
   {
    "duration": 8,
    "start_time": "2022-11-27T13:35:03.072Z"
   },
   {
    "duration": 12,
    "start_time": "2022-11-27T13:35:03.082Z"
   },
   {
    "duration": 6,
    "start_time": "2022-11-27T13:35:03.095Z"
   },
   {
    "duration": 12,
    "start_time": "2022-11-27T13:35:03.103Z"
   },
   {
    "duration": 12,
    "start_time": "2022-11-27T13:35:03.117Z"
   },
   {
    "duration": 14,
    "start_time": "2022-11-27T13:35:03.131Z"
   },
   {
    "duration": 10,
    "start_time": "2022-11-27T13:35:03.147Z"
   },
   {
    "duration": 13,
    "start_time": "2022-11-27T13:35:03.158Z"
   },
   {
    "duration": 24,
    "start_time": "2022-11-27T13:35:03.173Z"
   },
   {
    "duration": 10,
    "start_time": "2022-11-27T13:35:03.199Z"
   },
   {
    "duration": 190,
    "start_time": "2022-11-27T13:35:03.211Z"
   },
   {
    "duration": 133,
    "start_time": "2022-11-27T13:35:03.403Z"
   },
   {
    "duration": 8,
    "start_time": "2022-11-27T13:35:03.538Z"
   },
   {
    "duration": 14,
    "start_time": "2022-11-27T13:35:03.548Z"
   },
   {
    "duration": 7,
    "start_time": "2022-11-27T13:35:03.564Z"
   },
   {
    "duration": 22,
    "start_time": "2022-11-27T13:35:03.575Z"
   },
   {
    "duration": 280,
    "start_time": "2022-11-27T13:35:03.599Z"
   },
   {
    "duration": 21,
    "start_time": "2022-11-27T13:35:03.881Z"
   },
   {
    "duration": 6,
    "start_time": "2022-11-27T13:35:03.903Z"
   },
   {
    "duration": 204,
    "start_time": "2022-11-27T13:35:03.912Z"
   },
   {
    "duration": 339,
    "start_time": "2022-11-27T13:35:04.118Z"
   },
   {
    "duration": 217,
    "start_time": "2022-11-27T13:35:04.458Z"
   },
   {
    "duration": 363,
    "start_time": "2022-11-27T13:35:04.677Z"
   },
   {
    "duration": 9,
    "start_time": "2022-11-27T13:35:05.042Z"
   },
   {
    "duration": 15,
    "start_time": "2022-11-27T13:35:05.053Z"
   },
   {
    "duration": 9,
    "start_time": "2022-11-27T13:35:05.070Z"
   },
   {
    "duration": 16,
    "start_time": "2022-11-27T13:35:05.081Z"
   },
   {
    "duration": 158,
    "start_time": "2022-11-27T13:35:05.099Z"
   },
   {
    "duration": 5,
    "start_time": "2022-11-27T13:35:05.259Z"
   },
   {
    "duration": 11,
    "start_time": "2022-11-27T13:35:05.265Z"
   },
   {
    "duration": 25,
    "start_time": "2022-11-27T13:35:05.278Z"
   },
   {
    "duration": 11,
    "start_time": "2022-11-27T13:35:05.305Z"
   },
   {
    "duration": 10,
    "start_time": "2022-11-27T13:35:05.318Z"
   },
   {
    "duration": 154,
    "start_time": "2022-11-27T13:35:05.330Z"
   },
   {
    "duration": 152,
    "start_time": "2022-11-27T13:35:05.486Z"
   },
   {
    "duration": 5,
    "start_time": "2022-11-27T13:35:05.640Z"
   },
   {
    "duration": 17,
    "start_time": "2022-11-27T13:35:05.647Z"
   },
   {
    "duration": 22,
    "start_time": "2022-11-27T13:35:05.666Z"
   },
   {
    "duration": 24,
    "start_time": "2022-11-27T13:35:05.690Z"
   },
   {
    "duration": 306,
    "start_time": "2022-11-27T13:35:05.716Z"
   },
   {
    "duration": 15,
    "start_time": "2022-11-27T13:35:06.024Z"
   },
   {
    "duration": 220,
    "start_time": "2022-11-27T13:35:06.041Z"
   },
   {
    "duration": 10,
    "start_time": "2022-11-27T13:35:06.263Z"
   },
   {
    "duration": 29,
    "start_time": "2022-11-27T13:35:06.275Z"
   },
   {
    "duration": 46,
    "start_time": "2022-11-27T13:35:06.306Z"
   },
   {
    "duration": 13,
    "start_time": "2022-11-27T13:35:06.354Z"
   },
   {
    "duration": 269,
    "start_time": "2022-11-27T13:43:42.327Z"
   },
   {
    "duration": 1084,
    "start_time": "2022-11-27T13:43:46.760Z"
   },
   {
    "duration": 28,
    "start_time": "2022-11-27T13:43:47.846Z"
   },
   {
    "duration": 12,
    "start_time": "2022-11-27T13:43:47.875Z"
   },
   {
    "duration": 11,
    "start_time": "2022-11-27T13:43:47.889Z"
   },
   {
    "duration": 10,
    "start_time": "2022-11-27T13:43:47.902Z"
   },
   {
    "duration": 11,
    "start_time": "2022-11-27T13:43:47.914Z"
   },
   {
    "duration": 10,
    "start_time": "2022-11-27T13:43:47.926Z"
   },
   {
    "duration": 7,
    "start_time": "2022-11-27T13:43:47.937Z"
   },
   {
    "duration": 15,
    "start_time": "2022-11-27T13:43:47.945Z"
   },
   {
    "duration": 34,
    "start_time": "2022-11-27T13:43:47.963Z"
   },
   {
    "duration": 36,
    "start_time": "2022-11-27T13:43:47.999Z"
   },
   {
    "duration": 14,
    "start_time": "2022-11-27T13:43:48.037Z"
   },
   {
    "duration": 7,
    "start_time": "2022-11-27T13:43:48.053Z"
   },
   {
    "duration": 10,
    "start_time": "2022-11-27T13:43:48.062Z"
   },
   {
    "duration": 4,
    "start_time": "2022-11-27T13:43:48.073Z"
   },
   {
    "duration": 14,
    "start_time": "2022-11-27T13:43:48.079Z"
   },
   {
    "duration": 7,
    "start_time": "2022-11-27T13:43:48.095Z"
   },
   {
    "duration": 14,
    "start_time": "2022-11-27T13:43:48.103Z"
   },
   {
    "duration": 4,
    "start_time": "2022-11-27T13:43:48.118Z"
   },
   {
    "duration": 14,
    "start_time": "2022-11-27T13:43:48.124Z"
   },
   {
    "duration": 5,
    "start_time": "2022-11-27T13:43:48.140Z"
   },
   {
    "duration": 8,
    "start_time": "2022-11-27T13:43:48.146Z"
   },
   {
    "duration": 174,
    "start_time": "2022-11-27T13:43:48.156Z"
   },
   {
    "duration": 118,
    "start_time": "2022-11-27T13:43:48.332Z"
   },
   {
    "duration": 6,
    "start_time": "2022-11-27T13:43:48.452Z"
   },
   {
    "duration": 18,
    "start_time": "2022-11-27T13:43:48.459Z"
   },
   {
    "duration": 8,
    "start_time": "2022-11-27T13:43:48.479Z"
   },
   {
    "duration": 4,
    "start_time": "2022-11-27T13:43:48.498Z"
   },
   {
    "duration": 276,
    "start_time": "2022-11-27T13:43:48.503Z"
   },
   {
    "duration": 16,
    "start_time": "2022-11-27T13:43:48.781Z"
   },
   {
    "duration": 9,
    "start_time": "2022-11-27T13:43:48.799Z"
   },
   {
    "duration": 200,
    "start_time": "2022-11-27T13:43:48.809Z"
   },
   {
    "duration": 304,
    "start_time": "2022-11-27T13:43:49.010Z"
   },
   {
    "duration": 212,
    "start_time": "2022-11-27T13:43:49.315Z"
   },
   {
    "duration": 286,
    "start_time": "2022-11-27T13:43:49.528Z"
   },
   {
    "duration": 8,
    "start_time": "2022-11-27T13:43:49.816Z"
   },
   {
    "duration": 12,
    "start_time": "2022-11-27T13:43:49.825Z"
   },
   {
    "duration": 5,
    "start_time": "2022-11-27T13:43:49.838Z"
   },
   {
    "duration": 10,
    "start_time": "2022-11-27T13:43:49.844Z"
   },
   {
    "duration": 163,
    "start_time": "2022-11-27T13:43:49.856Z"
   },
   {
    "duration": 4,
    "start_time": "2022-11-27T13:43:50.021Z"
   },
   {
    "duration": 18,
    "start_time": "2022-11-27T13:43:50.027Z"
   },
   {
    "duration": 20,
    "start_time": "2022-11-27T13:43:50.046Z"
   },
   {
    "duration": 14,
    "start_time": "2022-11-27T13:43:50.068Z"
   },
   {
    "duration": 29,
    "start_time": "2022-11-27T13:43:50.084Z"
   },
   {
    "duration": 159,
    "start_time": "2022-11-27T13:43:50.114Z"
   },
   {
    "duration": 164,
    "start_time": "2022-11-27T13:43:50.274Z"
   },
   {
    "duration": 4,
    "start_time": "2022-11-27T13:43:50.440Z"
   },
   {
    "duration": 30,
    "start_time": "2022-11-27T13:43:50.446Z"
   },
   {
    "duration": 45,
    "start_time": "2022-11-27T13:43:50.478Z"
   },
   {
    "duration": 38,
    "start_time": "2022-11-27T13:43:50.525Z"
   },
   {
    "duration": 280,
    "start_time": "2022-11-27T13:43:50.564Z"
   },
   {
    "duration": 10,
    "start_time": "2022-11-27T13:43:50.846Z"
   },
   {
    "duration": 205,
    "start_time": "2022-11-27T13:43:50.858Z"
   },
   {
    "duration": 11,
    "start_time": "2022-11-27T13:43:51.065Z"
   },
   {
    "duration": 22,
    "start_time": "2022-11-27T13:43:51.078Z"
   },
   {
    "duration": 38,
    "start_time": "2022-11-27T13:43:51.102Z"
   },
   {
    "duration": 16,
    "start_time": "2022-11-27T13:43:51.142Z"
   },
   {
    "duration": 1052,
    "start_time": "2022-11-27T14:01:41.540Z"
   },
   {
    "duration": 28,
    "start_time": "2022-11-27T14:01:42.593Z"
   },
   {
    "duration": 13,
    "start_time": "2022-11-27T14:01:42.622Z"
   },
   {
    "duration": 11,
    "start_time": "2022-11-27T14:01:42.636Z"
   },
   {
    "duration": 8,
    "start_time": "2022-11-27T14:01:42.650Z"
   },
   {
    "duration": 9,
    "start_time": "2022-11-27T14:01:42.660Z"
   },
   {
    "duration": 26,
    "start_time": "2022-11-27T14:01:42.671Z"
   },
   {
    "duration": 5,
    "start_time": "2022-11-27T14:01:42.699Z"
   },
   {
    "duration": 16,
    "start_time": "2022-11-27T14:01:42.705Z"
   },
   {
    "duration": 12,
    "start_time": "2022-11-27T14:01:42.723Z"
   },
   {
    "duration": 39,
    "start_time": "2022-11-27T14:01:42.737Z"
   },
   {
    "duration": 15,
    "start_time": "2022-11-27T14:01:42.778Z"
   },
   {
    "duration": 9,
    "start_time": "2022-11-27T14:01:42.795Z"
   },
   {
    "duration": 36,
    "start_time": "2022-11-27T14:01:42.809Z"
   },
   {
    "duration": 18,
    "start_time": "2022-11-27T14:01:42.847Z"
   },
   {
    "duration": 28,
    "start_time": "2022-11-27T14:01:42.867Z"
   },
   {
    "duration": 17,
    "start_time": "2022-11-27T14:01:42.897Z"
   },
   {
    "duration": 28,
    "start_time": "2022-11-27T14:01:42.916Z"
   },
   {
    "duration": 8,
    "start_time": "2022-11-27T14:01:42.946Z"
   },
   {
    "duration": 19,
    "start_time": "2022-11-27T14:01:42.955Z"
   },
   {
    "duration": 14,
    "start_time": "2022-11-27T14:01:42.976Z"
   },
   {
    "duration": 16,
    "start_time": "2022-11-27T14:01:42.991Z"
   },
   {
    "duration": 178,
    "start_time": "2022-11-27T14:01:43.008Z"
   },
   {
    "duration": 128,
    "start_time": "2022-11-27T14:01:43.188Z"
   },
   {
    "duration": 24,
    "start_time": "2022-11-27T14:01:43.318Z"
   },
   {
    "duration": 22,
    "start_time": "2022-11-27T14:01:43.344Z"
   },
   {
    "duration": 8,
    "start_time": "2022-11-27T14:01:43.368Z"
   },
   {
    "duration": 13,
    "start_time": "2022-11-27T14:01:43.377Z"
   },
   {
    "duration": 282,
    "start_time": "2022-11-27T14:01:43.392Z"
   },
   {
    "duration": 21,
    "start_time": "2022-11-27T14:01:43.675Z"
   },
   {
    "duration": 29,
    "start_time": "2022-11-27T14:01:43.699Z"
   },
   {
    "duration": 217,
    "start_time": "2022-11-27T14:01:43.730Z"
   },
   {
    "duration": 289,
    "start_time": "2022-11-27T14:01:43.948Z"
   },
   {
    "duration": 220,
    "start_time": "2022-11-27T14:01:44.238Z"
   },
   {
    "duration": 294,
    "start_time": "2022-11-27T14:01:44.459Z"
   },
   {
    "duration": 8,
    "start_time": "2022-11-27T14:01:44.755Z"
   },
   {
    "duration": 22,
    "start_time": "2022-11-27T14:01:44.765Z"
   },
   {
    "duration": 20,
    "start_time": "2022-11-27T14:01:44.789Z"
   },
   {
    "duration": 11,
    "start_time": "2022-11-27T14:01:44.811Z"
   },
   {
    "duration": 166,
    "start_time": "2022-11-27T14:01:44.824Z"
   },
   {
    "duration": 5,
    "start_time": "2022-11-27T14:01:44.994Z"
   },
   {
    "duration": 29,
    "start_time": "2022-11-27T14:01:45.001Z"
   },
   {
    "duration": 22,
    "start_time": "2022-11-27T14:01:45.032Z"
   },
   {
    "duration": 20,
    "start_time": "2022-11-27T14:01:45.056Z"
   },
   {
    "duration": 32,
    "start_time": "2022-11-27T14:01:45.079Z"
   },
   {
    "duration": 190,
    "start_time": "2022-11-27T14:01:45.113Z"
   },
   {
    "duration": 172,
    "start_time": "2022-11-27T14:01:45.305Z"
   },
   {
    "duration": 5,
    "start_time": "2022-11-27T14:01:45.479Z"
   },
   {
    "duration": 6,
    "start_time": "2022-11-27T14:01:45.497Z"
   },
   {
    "duration": 28,
    "start_time": "2022-11-27T14:01:45.504Z"
   },
   {
    "duration": 24,
    "start_time": "2022-11-27T14:01:45.534Z"
   },
   {
    "duration": 290,
    "start_time": "2022-11-27T14:01:45.560Z"
   },
   {
    "duration": 12,
    "start_time": "2022-11-27T14:01:45.852Z"
   },
   {
    "duration": 201,
    "start_time": "2022-11-27T14:01:45.866Z"
   },
   {
    "duration": 11,
    "start_time": "2022-11-27T14:01:46.070Z"
   },
   {
    "duration": 34,
    "start_time": "2022-11-27T14:01:46.082Z"
   },
   {
    "duration": 56,
    "start_time": "2022-11-27T14:01:46.118Z"
   },
   {
    "duration": 19,
    "start_time": "2022-11-27T14:01:46.176Z"
   },
   {
    "duration": 1080,
    "start_time": "2022-11-27T14:33:27.472Z"
   },
   {
    "duration": 27,
    "start_time": "2022-11-27T14:33:28.554Z"
   },
   {
    "duration": 12,
    "start_time": "2022-11-27T14:33:28.585Z"
   },
   {
    "duration": 22,
    "start_time": "2022-11-27T14:33:28.600Z"
   },
   {
    "duration": 23,
    "start_time": "2022-11-27T14:33:28.623Z"
   },
   {
    "duration": 28,
    "start_time": "2022-11-27T14:33:28.648Z"
   },
   {
    "duration": 22,
    "start_time": "2022-11-27T14:33:28.677Z"
   },
   {
    "duration": 35,
    "start_time": "2022-11-27T14:33:28.701Z"
   },
   {
    "duration": 15,
    "start_time": "2022-11-27T14:33:28.738Z"
   },
   {
    "duration": 10,
    "start_time": "2022-11-27T14:33:28.755Z"
   },
   {
    "duration": 40,
    "start_time": "2022-11-27T14:33:28.766Z"
   },
   {
    "duration": 16,
    "start_time": "2022-11-27T14:33:28.807Z"
   },
   {
    "duration": 8,
    "start_time": "2022-11-27T14:33:28.825Z"
   },
   {
    "duration": 13,
    "start_time": "2022-11-27T14:33:28.835Z"
   },
   {
    "duration": 17,
    "start_time": "2022-11-27T14:33:28.849Z"
   },
   {
    "duration": 13,
    "start_time": "2022-11-27T14:33:28.868Z"
   },
   {
    "duration": 8,
    "start_time": "2022-11-27T14:33:28.883Z"
   },
   {
    "duration": 12,
    "start_time": "2022-11-27T14:33:28.892Z"
   },
   {
    "duration": 12,
    "start_time": "2022-11-27T14:33:28.906Z"
   },
   {
    "duration": 12,
    "start_time": "2022-11-27T14:33:28.920Z"
   },
   {
    "duration": 7,
    "start_time": "2022-11-27T14:33:28.934Z"
   },
   {
    "duration": 9,
    "start_time": "2022-11-27T14:33:28.942Z"
   },
   {
    "duration": 179,
    "start_time": "2022-11-27T14:33:28.952Z"
   },
   {
    "duration": 139,
    "start_time": "2022-11-27T14:33:29.133Z"
   },
   {
    "duration": 7,
    "start_time": "2022-11-27T14:33:29.273Z"
   },
   {
    "duration": 21,
    "start_time": "2022-11-27T14:33:29.281Z"
   },
   {
    "duration": 4,
    "start_time": "2022-11-27T14:33:29.304Z"
   },
   {
    "duration": 8,
    "start_time": "2022-11-27T14:33:29.310Z"
   },
   {
    "duration": 287,
    "start_time": "2022-11-27T14:33:29.320Z"
   },
   {
    "duration": 13,
    "start_time": "2022-11-27T14:33:29.609Z"
   },
   {
    "duration": 11,
    "start_time": "2022-11-27T14:33:29.623Z"
   },
   {
    "duration": 211,
    "start_time": "2022-11-27T14:33:29.636Z"
   },
   {
    "duration": 286,
    "start_time": "2022-11-27T14:33:29.849Z"
   },
   {
    "duration": 238,
    "start_time": "2022-11-27T14:33:30.137Z"
   },
   {
    "duration": 312,
    "start_time": "2022-11-27T14:33:30.377Z"
   },
   {
    "duration": 14,
    "start_time": "2022-11-27T14:33:30.690Z"
   },
   {
    "duration": 22,
    "start_time": "2022-11-27T14:33:30.706Z"
   },
   {
    "duration": 9,
    "start_time": "2022-11-27T14:33:30.730Z"
   },
   {
    "duration": 21,
    "start_time": "2022-11-27T14:33:30.740Z"
   },
   {
    "duration": 183,
    "start_time": "2022-11-27T14:33:30.765Z"
   },
   {
    "duration": 5,
    "start_time": "2022-11-27T14:33:30.950Z"
   },
   {
    "duration": 17,
    "start_time": "2022-11-27T14:33:30.957Z"
   },
   {
    "duration": 31,
    "start_time": "2022-11-27T14:33:30.975Z"
   },
   {
    "duration": 13,
    "start_time": "2022-11-27T14:33:31.008Z"
   },
   {
    "duration": 21,
    "start_time": "2022-11-27T14:33:31.023Z"
   },
   {
    "duration": 167,
    "start_time": "2022-11-27T14:33:31.045Z"
   },
   {
    "duration": 161,
    "start_time": "2022-11-27T14:33:31.215Z"
   },
   {
    "duration": 5,
    "start_time": "2022-11-27T14:33:31.378Z"
   },
   {
    "duration": 27,
    "start_time": "2022-11-27T14:33:31.384Z"
   },
   {
    "duration": 31,
    "start_time": "2022-11-27T14:33:31.412Z"
   },
   {
    "duration": 26,
    "start_time": "2022-11-27T14:33:31.445Z"
   },
   {
    "duration": 287,
    "start_time": "2022-11-27T14:33:31.472Z"
   },
   {
    "duration": 10,
    "start_time": "2022-11-27T14:33:31.761Z"
   },
   {
    "duration": 167,
    "start_time": "2022-11-27T14:33:31.772Z"
   },
   {
    "duration": 11,
    "start_time": "2022-11-27T14:33:31.940Z"
   },
   {
    "duration": 10,
    "start_time": "2022-11-27T14:33:31.953Z"
   },
   {
    "duration": 47,
    "start_time": "2022-11-27T14:33:31.964Z"
   },
   {
    "duration": 15,
    "start_time": "2022-11-27T14:33:32.012Z"
   },
   {
    "duration": 259,
    "start_time": "2022-11-27T14:58:11.247Z"
   },
   {
    "duration": 1114,
    "start_time": "2022-11-27T14:59:16.448Z"
   },
   {
    "duration": 27,
    "start_time": "2022-11-27T14:59:17.564Z"
   },
   {
    "duration": 14,
    "start_time": "2022-11-27T14:59:17.593Z"
   },
   {
    "duration": 12,
    "start_time": "2022-11-27T14:59:17.610Z"
   },
   {
    "duration": 11,
    "start_time": "2022-11-27T14:59:17.623Z"
   },
   {
    "duration": 13,
    "start_time": "2022-11-27T14:59:17.636Z"
   },
   {
    "duration": 13,
    "start_time": "2022-11-27T14:59:17.651Z"
   },
   {
    "duration": 13,
    "start_time": "2022-11-27T14:59:17.666Z"
   },
   {
    "duration": 23,
    "start_time": "2022-11-27T14:59:17.681Z"
   },
   {
    "duration": 14,
    "start_time": "2022-11-27T14:59:17.707Z"
   },
   {
    "duration": 42,
    "start_time": "2022-11-27T14:59:17.723Z"
   },
   {
    "duration": 16,
    "start_time": "2022-11-27T14:59:17.768Z"
   },
   {
    "duration": 9,
    "start_time": "2022-11-27T14:59:17.786Z"
   },
   {
    "duration": 14,
    "start_time": "2022-11-27T14:59:17.797Z"
   },
   {
    "duration": 8,
    "start_time": "2022-11-27T14:59:17.813Z"
   },
   {
    "duration": 25,
    "start_time": "2022-11-27T14:59:17.822Z"
   },
   {
    "duration": 12,
    "start_time": "2022-11-27T14:59:17.849Z"
   },
   {
    "duration": 19,
    "start_time": "2022-11-27T14:59:17.863Z"
   },
   {
    "duration": 13,
    "start_time": "2022-11-27T14:59:17.884Z"
   },
   {
    "duration": 19,
    "start_time": "2022-11-27T14:59:17.900Z"
   },
   {
    "duration": 9,
    "start_time": "2022-11-27T14:59:17.921Z"
   },
   {
    "duration": 14,
    "start_time": "2022-11-27T14:59:17.931Z"
   },
   {
    "duration": 179,
    "start_time": "2022-11-27T14:59:17.947Z"
   },
   {
    "duration": 128,
    "start_time": "2022-11-27T14:59:18.128Z"
   },
   {
    "duration": 8,
    "start_time": "2022-11-27T14:59:18.257Z"
   },
   {
    "duration": 15,
    "start_time": "2022-11-27T14:59:18.266Z"
   },
   {
    "duration": 15,
    "start_time": "2022-11-27T14:59:18.282Z"
   },
   {
    "duration": 6,
    "start_time": "2022-11-27T14:59:18.302Z"
   },
   {
    "duration": 293,
    "start_time": "2022-11-27T14:59:18.309Z"
   },
   {
    "duration": 11,
    "start_time": "2022-11-27T14:59:18.604Z"
   },
   {
    "duration": 7,
    "start_time": "2022-11-27T14:59:18.616Z"
   },
   {
    "duration": 205,
    "start_time": "2022-11-27T14:59:18.625Z"
   },
   {
    "duration": 298,
    "start_time": "2022-11-27T14:59:18.831Z"
   },
   {
    "duration": 228,
    "start_time": "2022-11-27T14:59:19.132Z"
   },
   {
    "duration": 334,
    "start_time": "2022-11-27T14:59:19.362Z"
   },
   {
    "duration": 8,
    "start_time": "2022-11-27T14:59:19.698Z"
   },
   {
    "duration": 8,
    "start_time": "2022-11-27T14:59:19.709Z"
   },
   {
    "duration": 3,
    "start_time": "2022-11-27T14:59:19.719Z"
   },
   {
    "duration": 10,
    "start_time": "2022-11-27T14:59:19.724Z"
   },
   {
    "duration": 163,
    "start_time": "2022-11-27T14:59:19.735Z"
   },
   {
    "duration": 5,
    "start_time": "2022-11-27T14:59:19.900Z"
   },
   {
    "duration": 11,
    "start_time": "2022-11-27T14:59:19.906Z"
   },
   {
    "duration": 10,
    "start_time": "2022-11-27T14:59:19.919Z"
   },
   {
    "duration": 4,
    "start_time": "2022-11-27T14:59:19.932Z"
   },
   {
    "duration": 10,
    "start_time": "2022-11-27T14:59:19.938Z"
   },
   {
    "duration": 181,
    "start_time": "2022-11-27T14:59:19.950Z"
   },
   {
    "duration": 163,
    "start_time": "2022-11-27T14:59:20.133Z"
   },
   {
    "duration": 6,
    "start_time": "2022-11-27T14:59:20.298Z"
   },
   {
    "duration": 6,
    "start_time": "2022-11-27T14:59:20.305Z"
   },
   {
    "duration": 10,
    "start_time": "2022-11-27T14:59:20.313Z"
   },
   {
    "duration": 10,
    "start_time": "2022-11-27T14:59:20.325Z"
   },
   {
    "duration": 337,
    "start_time": "2022-11-27T14:59:20.337Z"
   },
   {
    "duration": 10,
    "start_time": "2022-11-27T14:59:20.676Z"
   },
   {
    "duration": 173,
    "start_time": "2022-11-27T14:59:20.687Z"
   },
   {
    "duration": 10,
    "start_time": "2022-11-27T14:59:20.862Z"
   },
   {
    "duration": 25,
    "start_time": "2022-11-27T14:59:20.873Z"
   },
   {
    "duration": 27,
    "start_time": "2022-11-27T14:59:20.900Z"
   },
   {
    "duration": 14,
    "start_time": "2022-11-27T14:59:20.929Z"
   },
   {
    "duration": 1105,
    "start_time": "2022-11-27T15:01:23.361Z"
   },
   {
    "duration": 28,
    "start_time": "2022-11-27T15:01:24.467Z"
   },
   {
    "duration": 14,
    "start_time": "2022-11-27T15:01:24.497Z"
   },
   {
    "duration": 10,
    "start_time": "2022-11-27T15:01:24.515Z"
   },
   {
    "duration": 8,
    "start_time": "2022-11-27T15:01:24.527Z"
   },
   {
    "duration": 10,
    "start_time": "2022-11-27T15:01:24.536Z"
   },
   {
    "duration": 12,
    "start_time": "2022-11-27T15:01:24.548Z"
   },
   {
    "duration": 5,
    "start_time": "2022-11-27T15:01:24.562Z"
   },
   {
    "duration": 12,
    "start_time": "2022-11-27T15:01:24.595Z"
   },
   {
    "duration": 10,
    "start_time": "2022-11-27T15:01:24.610Z"
   },
   {
    "duration": 38,
    "start_time": "2022-11-27T15:01:24.622Z"
   },
   {
    "duration": 15,
    "start_time": "2022-11-27T15:01:24.662Z"
   },
   {
    "duration": 7,
    "start_time": "2022-11-27T15:01:24.679Z"
   },
   {
    "duration": 16,
    "start_time": "2022-11-27T15:01:24.688Z"
   },
   {
    "duration": 6,
    "start_time": "2022-11-27T15:01:24.706Z"
   },
   {
    "duration": 13,
    "start_time": "2022-11-27T15:01:24.714Z"
   },
   {
    "duration": 10,
    "start_time": "2022-11-27T15:01:24.729Z"
   },
   {
    "duration": 11,
    "start_time": "2022-11-27T15:01:24.741Z"
   },
   {
    "duration": 24,
    "start_time": "2022-11-27T15:01:24.754Z"
   },
   {
    "duration": 21,
    "start_time": "2022-11-27T15:01:24.780Z"
   },
   {
    "duration": 9,
    "start_time": "2022-11-27T15:01:24.802Z"
   },
   {
    "duration": 8,
    "start_time": "2022-11-27T15:01:24.813Z"
   },
   {
    "duration": 194,
    "start_time": "2022-11-27T15:01:24.823Z"
   },
   {
    "duration": 147,
    "start_time": "2022-11-27T15:01:25.019Z"
   },
   {
    "duration": 7,
    "start_time": "2022-11-27T15:01:25.168Z"
   },
   {
    "duration": 22,
    "start_time": "2022-11-27T15:01:25.177Z"
   },
   {
    "duration": 7,
    "start_time": "2022-11-27T15:01:25.201Z"
   },
   {
    "duration": 10,
    "start_time": "2022-11-27T15:01:25.213Z"
   },
   {
    "duration": 298,
    "start_time": "2022-11-27T15:01:25.225Z"
   },
   {
    "duration": 12,
    "start_time": "2022-11-27T15:01:25.525Z"
   },
   {
    "duration": 6,
    "start_time": "2022-11-27T15:01:25.539Z"
   },
   {
    "duration": 240,
    "start_time": "2022-11-27T15:01:25.547Z"
   },
   {
    "duration": 354,
    "start_time": "2022-11-27T15:01:25.789Z"
   },
   {
    "duration": 273,
    "start_time": "2022-11-27T15:01:26.145Z"
   },
   {
    "duration": 306,
    "start_time": "2022-11-27T15:01:26.420Z"
   },
   {
    "duration": 9,
    "start_time": "2022-11-27T15:01:26.728Z"
   },
   {
    "duration": 10,
    "start_time": "2022-11-27T15:01:26.739Z"
   },
   {
    "duration": 9,
    "start_time": "2022-11-27T15:01:26.751Z"
   },
   {
    "duration": 13,
    "start_time": "2022-11-27T15:01:26.762Z"
   },
   {
    "duration": 150,
    "start_time": "2022-11-27T15:01:26.798Z"
   },
   {
    "duration": 5,
    "start_time": "2022-11-27T15:01:26.950Z"
   },
   {
    "duration": 8,
    "start_time": "2022-11-27T15:01:26.957Z"
   },
   {
    "duration": 31,
    "start_time": "2022-11-27T15:01:26.966Z"
   },
   {
    "duration": 4,
    "start_time": "2022-11-27T15:01:26.999Z"
   },
   {
    "duration": 10,
    "start_time": "2022-11-27T15:01:27.005Z"
   },
   {
    "duration": 164,
    "start_time": "2022-11-27T15:01:27.017Z"
   },
   {
    "duration": 169,
    "start_time": "2022-11-27T15:01:27.183Z"
   },
   {
    "duration": 6,
    "start_time": "2022-11-27T15:01:27.354Z"
   },
   {
    "duration": 9,
    "start_time": "2022-11-27T15:01:27.362Z"
   },
   {
    "duration": 24,
    "start_time": "2022-11-27T15:01:27.373Z"
   },
   {
    "duration": 10,
    "start_time": "2022-11-27T15:01:27.399Z"
   },
   {
    "duration": 323,
    "start_time": "2022-11-27T15:01:27.412Z"
   },
   {
    "duration": 10,
    "start_time": "2022-11-27T15:01:27.737Z"
   },
   {
    "duration": 200,
    "start_time": "2022-11-27T15:01:27.749Z"
   },
   {
    "duration": 11,
    "start_time": "2022-11-27T15:01:27.951Z"
   },
   {
    "duration": 34,
    "start_time": "2022-11-27T15:01:27.964Z"
   },
   {
    "duration": 28,
    "start_time": "2022-11-27T15:01:27.999Z"
   },
   {
    "duration": 15,
    "start_time": "2022-11-27T15:01:28.029Z"
   },
   {
    "duration": 49,
    "start_time": "2022-11-28T11:59:39.045Z"
   },
   {
    "duration": 1449,
    "start_time": "2022-11-28T11:59:47.316Z"
   },
   {
    "duration": 70,
    "start_time": "2022-11-28T11:59:48.768Z"
   },
   {
    "duration": 4,
    "start_time": "2022-11-28T11:59:48.840Z"
   },
   {
    "duration": 172,
    "start_time": "2022-11-28T11:59:48.847Z"
   },
   {
    "duration": 0,
    "start_time": "2022-11-28T11:59:49.023Z"
   },
   {
    "duration": 0,
    "start_time": "2022-11-28T11:59:49.025Z"
   },
   {
    "duration": 0,
    "start_time": "2022-11-28T11:59:49.026Z"
   },
   {
    "duration": 0,
    "start_time": "2022-11-28T11:59:49.028Z"
   },
   {
    "duration": 0,
    "start_time": "2022-11-28T11:59:49.043Z"
   },
   {
    "duration": 0,
    "start_time": "2022-11-28T11:59:49.045Z"
   },
   {
    "duration": 0,
    "start_time": "2022-11-28T11:59:49.047Z"
   },
   {
    "duration": 0,
    "start_time": "2022-11-28T11:59:49.049Z"
   },
   {
    "duration": 0,
    "start_time": "2022-11-28T11:59:49.051Z"
   },
   {
    "duration": 0,
    "start_time": "2022-11-28T11:59:49.053Z"
   },
   {
    "duration": 0,
    "start_time": "2022-11-28T11:59:49.054Z"
   },
   {
    "duration": 0,
    "start_time": "2022-11-28T11:59:49.056Z"
   },
   {
    "duration": 0,
    "start_time": "2022-11-28T11:59:49.058Z"
   },
   {
    "duration": 0,
    "start_time": "2022-11-28T11:59:49.060Z"
   },
   {
    "duration": 0,
    "start_time": "2022-11-28T11:59:49.061Z"
   },
   {
    "duration": 0,
    "start_time": "2022-11-28T11:59:49.063Z"
   },
   {
    "duration": 0,
    "start_time": "2022-11-28T11:59:49.067Z"
   },
   {
    "duration": 0,
    "start_time": "2022-11-28T11:59:49.068Z"
   },
   {
    "duration": 0,
    "start_time": "2022-11-28T11:59:49.070Z"
   },
   {
    "duration": 0,
    "start_time": "2022-11-28T11:59:49.072Z"
   },
   {
    "duration": 0,
    "start_time": "2022-11-28T11:59:49.074Z"
   },
   {
    "duration": 0,
    "start_time": "2022-11-28T11:59:49.076Z"
   },
   {
    "duration": 0,
    "start_time": "2022-11-28T11:59:49.077Z"
   },
   {
    "duration": 0,
    "start_time": "2022-11-28T11:59:49.123Z"
   },
   {
    "duration": 0,
    "start_time": "2022-11-28T11:59:49.124Z"
   },
   {
    "duration": 0,
    "start_time": "2022-11-28T11:59:49.126Z"
   },
   {
    "duration": 0,
    "start_time": "2022-11-28T11:59:49.127Z"
   },
   {
    "duration": 0,
    "start_time": "2022-11-28T11:59:49.129Z"
   },
   {
    "duration": 0,
    "start_time": "2022-11-28T11:59:49.132Z"
   },
   {
    "duration": 0,
    "start_time": "2022-11-28T11:59:49.135Z"
   },
   {
    "duration": 0,
    "start_time": "2022-11-28T11:59:49.137Z"
   },
   {
    "duration": 0,
    "start_time": "2022-11-28T11:59:49.138Z"
   },
   {
    "duration": 0,
    "start_time": "2022-11-28T11:59:49.140Z"
   },
   {
    "duration": 0,
    "start_time": "2022-11-28T11:59:49.142Z"
   },
   {
    "duration": 0,
    "start_time": "2022-11-28T11:59:49.144Z"
   },
   {
    "duration": 0,
    "start_time": "2022-11-28T11:59:49.145Z"
   },
   {
    "duration": 0,
    "start_time": "2022-11-28T11:59:49.147Z"
   },
   {
    "duration": 0,
    "start_time": "2022-11-28T11:59:49.148Z"
   },
   {
    "duration": 0,
    "start_time": "2022-11-28T11:59:49.149Z"
   },
   {
    "duration": 0,
    "start_time": "2022-11-28T11:59:49.150Z"
   },
   {
    "duration": 0,
    "start_time": "2022-11-28T11:59:49.151Z"
   },
   {
    "duration": 0,
    "start_time": "2022-11-28T11:59:49.152Z"
   },
   {
    "duration": 0,
    "start_time": "2022-11-28T11:59:49.153Z"
   },
   {
    "duration": 0,
    "start_time": "2022-11-28T11:59:49.154Z"
   },
   {
    "duration": 0,
    "start_time": "2022-11-28T11:59:49.156Z"
   },
   {
    "duration": 0,
    "start_time": "2022-11-28T11:59:49.157Z"
   },
   {
    "duration": 0,
    "start_time": "2022-11-28T11:59:49.159Z"
   },
   {
    "duration": 0,
    "start_time": "2022-11-28T11:59:49.160Z"
   },
   {
    "duration": 0,
    "start_time": "2022-11-28T11:59:49.161Z"
   },
   {
    "duration": 0,
    "start_time": "2022-11-28T11:59:49.162Z"
   },
   {
    "duration": 0,
    "start_time": "2022-11-28T11:59:49.164Z"
   },
   {
    "duration": 0,
    "start_time": "2022-11-28T11:59:49.164Z"
   },
   {
    "duration": 0,
    "start_time": "2022-11-28T11:59:49.165Z"
   },
   {
    "duration": 0,
    "start_time": "2022-11-28T11:59:49.224Z"
   },
   {
    "duration": 9,
    "start_time": "2022-11-28T12:00:46.760Z"
   },
   {
    "duration": 1196,
    "start_time": "2022-11-28T12:00:50.901Z"
   },
   {
    "duration": 52,
    "start_time": "2022-11-28T12:00:52.099Z"
   },
   {
    "duration": 3,
    "start_time": "2022-11-28T12:00:52.153Z"
   },
   {
    "duration": 19,
    "start_time": "2022-11-28T12:00:52.158Z"
   },
   {
    "duration": 8,
    "start_time": "2022-11-28T12:00:52.179Z"
   },
   {
    "duration": 15,
    "start_time": "2022-11-28T12:00:52.188Z"
   },
   {
    "duration": 9,
    "start_time": "2022-11-28T12:00:52.205Z"
   },
   {
    "duration": 26,
    "start_time": "2022-11-28T12:00:52.216Z"
   },
   {
    "duration": 12,
    "start_time": "2022-11-28T12:00:52.244Z"
   },
   {
    "duration": 13,
    "start_time": "2022-11-28T12:00:52.257Z"
   },
   {
    "duration": 73,
    "start_time": "2022-11-28T12:00:52.272Z"
   },
   {
    "duration": 54,
    "start_time": "2022-11-28T12:00:52.347Z"
   },
   {
    "duration": 8,
    "start_time": "2022-11-28T12:00:52.403Z"
   },
   {
    "duration": 14,
    "start_time": "2022-11-28T12:00:52.414Z"
   },
   {
    "duration": 22,
    "start_time": "2022-11-28T12:00:52.430Z"
   },
   {
    "duration": 13,
    "start_time": "2022-11-28T12:00:52.454Z"
   },
   {
    "duration": 13,
    "start_time": "2022-11-28T12:00:52.469Z"
   },
   {
    "duration": 15,
    "start_time": "2022-11-28T12:00:52.484Z"
   },
   {
    "duration": 7,
    "start_time": "2022-11-28T12:00:52.501Z"
   },
   {
    "duration": 25,
    "start_time": "2022-11-28T12:00:52.510Z"
   },
   {
    "duration": 19,
    "start_time": "2022-11-28T12:00:52.537Z"
   },
   {
    "duration": 14,
    "start_time": "2022-11-28T12:00:52.557Z"
   },
   {
    "duration": 190,
    "start_time": "2022-11-28T12:00:52.573Z"
   },
   {
    "duration": 132,
    "start_time": "2022-11-28T12:00:52.765Z"
   },
   {
    "duration": 6,
    "start_time": "2022-11-28T12:00:52.899Z"
   },
   {
    "duration": 21,
    "start_time": "2022-11-28T12:00:52.907Z"
   },
   {
    "duration": 14,
    "start_time": "2022-11-28T12:00:52.930Z"
   },
   {
    "duration": 8,
    "start_time": "2022-11-28T12:00:52.945Z"
   },
   {
    "duration": 303,
    "start_time": "2022-11-28T12:00:52.954Z"
   },
   {
    "duration": 12,
    "start_time": "2022-11-28T12:00:53.259Z"
   },
   {
    "duration": 9,
    "start_time": "2022-11-28T12:00:53.272Z"
   },
   {
    "duration": 227,
    "start_time": "2022-11-28T12:00:53.282Z"
   },
   {
    "duration": 320,
    "start_time": "2022-11-28T12:00:53.511Z"
   },
   {
    "duration": 246,
    "start_time": "2022-11-28T12:00:53.836Z"
   },
   {
    "duration": 368,
    "start_time": "2022-11-28T12:00:54.084Z"
   },
   {
    "duration": 10,
    "start_time": "2022-11-28T12:00:54.456Z"
   },
   {
    "duration": 19,
    "start_time": "2022-11-28T12:00:54.468Z"
   },
   {
    "duration": 10,
    "start_time": "2022-11-28T12:00:54.489Z"
   },
   {
    "duration": 22,
    "start_time": "2022-11-28T12:00:54.501Z"
   },
   {
    "duration": 149,
    "start_time": "2022-11-28T12:00:54.525Z"
   },
   {
    "duration": 6,
    "start_time": "2022-11-28T12:00:54.677Z"
   },
   {
    "duration": 19,
    "start_time": "2022-11-28T12:00:54.685Z"
   },
   {
    "duration": 32,
    "start_time": "2022-11-28T12:00:54.706Z"
   },
   {
    "duration": 8,
    "start_time": "2022-11-28T12:00:54.740Z"
   },
   {
    "duration": 11,
    "start_time": "2022-11-28T12:00:54.749Z"
   },
   {
    "duration": 156,
    "start_time": "2022-11-28T12:00:54.762Z"
   },
   {
    "duration": 165,
    "start_time": "2022-11-28T12:00:54.919Z"
   },
   {
    "duration": 7,
    "start_time": "2022-11-28T12:00:55.086Z"
   },
   {
    "duration": 8,
    "start_time": "2022-11-28T12:00:55.095Z"
   },
   {
    "duration": 10,
    "start_time": "2022-11-28T12:00:55.123Z"
   },
   {
    "duration": 14,
    "start_time": "2022-11-28T12:00:55.135Z"
   },
   {
    "duration": 317,
    "start_time": "2022-11-28T12:00:55.152Z"
   },
   {
    "duration": 11,
    "start_time": "2022-11-28T12:00:55.471Z"
   },
   {
    "duration": 263,
    "start_time": "2022-11-28T12:00:55.485Z"
   },
   {
    "duration": 15,
    "start_time": "2022-11-28T12:00:55.750Z"
   },
   {
    "duration": 12,
    "start_time": "2022-11-28T12:00:55.767Z"
   },
   {
    "duration": 65,
    "start_time": "2022-11-28T12:00:55.781Z"
   },
   {
    "duration": 20,
    "start_time": "2022-11-28T12:00:55.848Z"
   },
   {
    "duration": 13,
    "start_time": "2022-11-28T12:01:20.340Z"
   },
   {
    "duration": 1183,
    "start_time": "2022-11-28T12:02:41.011Z"
   },
   {
    "duration": 35,
    "start_time": "2022-11-28T12:02:42.198Z"
   },
   {
    "duration": 15,
    "start_time": "2022-11-28T12:02:42.237Z"
   },
   {
    "duration": 17,
    "start_time": "2022-11-28T12:02:42.254Z"
   },
   {
    "duration": 11,
    "start_time": "2022-11-28T12:02:42.273Z"
   },
   {
    "duration": 10,
    "start_time": "2022-11-28T12:02:42.286Z"
   },
   {
    "duration": 13,
    "start_time": "2022-11-28T12:02:42.298Z"
   },
   {
    "duration": 22,
    "start_time": "2022-11-28T12:02:42.321Z"
   },
   {
    "duration": 24,
    "start_time": "2022-11-28T12:02:42.345Z"
   },
   {
    "duration": 13,
    "start_time": "2022-11-28T12:02:42.372Z"
   },
   {
    "duration": 44,
    "start_time": "2022-11-28T12:02:42.387Z"
   },
   {
    "duration": 18,
    "start_time": "2022-11-28T12:02:42.433Z"
   },
   {
    "duration": 11,
    "start_time": "2022-11-28T12:02:42.453Z"
   },
   {
    "duration": 18,
    "start_time": "2022-11-28T12:02:42.466Z"
   },
   {
    "duration": 11,
    "start_time": "2022-11-28T12:02:42.486Z"
   },
   {
    "duration": 16,
    "start_time": "2022-11-28T12:02:42.498Z"
   },
   {
    "duration": 16,
    "start_time": "2022-11-28T12:02:42.516Z"
   },
   {
    "duration": 18,
    "start_time": "2022-11-28T12:02:42.534Z"
   },
   {
    "duration": 8,
    "start_time": "2022-11-28T12:02:42.553Z"
   },
   {
    "duration": 13,
    "start_time": "2022-11-28T12:02:42.563Z"
   },
   {
    "duration": 8,
    "start_time": "2022-11-28T12:02:42.578Z"
   },
   {
    "duration": 13,
    "start_time": "2022-11-28T12:02:42.587Z"
   },
   {
    "duration": 187,
    "start_time": "2022-11-28T12:02:42.602Z"
   },
   {
    "duration": 125,
    "start_time": "2022-11-28T12:02:42.790Z"
   },
   {
    "duration": 9,
    "start_time": "2022-11-28T12:02:42.921Z"
   },
   {
    "duration": 31,
    "start_time": "2022-11-28T12:02:42.931Z"
   },
   {
    "duration": 9,
    "start_time": "2022-11-28T12:02:42.963Z"
   },
   {
    "duration": 6,
    "start_time": "2022-11-28T12:02:42.976Z"
   },
   {
    "duration": 291,
    "start_time": "2022-11-28T12:02:42.983Z"
   },
   {
    "duration": 12,
    "start_time": "2022-11-28T12:02:43.275Z"
   },
   {
    "duration": 9,
    "start_time": "2022-11-28T12:02:43.288Z"
   },
   {
    "duration": 216,
    "start_time": "2022-11-28T12:02:43.299Z"
   },
   {
    "duration": 324,
    "start_time": "2022-11-28T12:02:43.517Z"
   },
   {
    "duration": 242,
    "start_time": "2022-11-28T12:02:43.844Z"
   },
   {
    "duration": 378,
    "start_time": "2022-11-28T12:02:44.088Z"
   },
   {
    "duration": 9,
    "start_time": "2022-11-28T12:02:44.467Z"
   },
   {
    "duration": 12,
    "start_time": "2022-11-28T12:02:44.477Z"
   },
   {
    "duration": 59,
    "start_time": "2022-11-28T12:02:44.491Z"
   },
   {
    "duration": 12,
    "start_time": "2022-11-28T12:02:44.551Z"
   },
   {
    "duration": 139,
    "start_time": "2022-11-28T12:02:44.565Z"
   },
   {
    "duration": 5,
    "start_time": "2022-11-28T12:02:44.705Z"
   },
   {
    "duration": 9,
    "start_time": "2022-11-28T12:02:44.723Z"
   },
   {
    "duration": 22,
    "start_time": "2022-11-28T12:02:44.734Z"
   },
   {
    "duration": 6,
    "start_time": "2022-11-28T12:02:44.758Z"
   },
   {
    "duration": 10,
    "start_time": "2022-11-28T12:02:44.765Z"
   },
   {
    "duration": 164,
    "start_time": "2022-11-28T12:02:44.777Z"
   },
   {
    "duration": 161,
    "start_time": "2022-11-28T12:02:44.947Z"
   },
   {
    "duration": 5,
    "start_time": "2022-11-28T12:02:45.110Z"
   },
   {
    "duration": 14,
    "start_time": "2022-11-28T12:02:45.121Z"
   },
   {
    "duration": 27,
    "start_time": "2022-11-28T12:02:45.137Z"
   },
   {
    "duration": 10,
    "start_time": "2022-11-28T12:02:45.165Z"
   },
   {
    "duration": 301,
    "start_time": "2022-11-28T12:02:45.177Z"
   },
   {
    "duration": 11,
    "start_time": "2022-11-28T12:02:45.479Z"
   },
   {
    "duration": 184,
    "start_time": "2022-11-28T12:02:45.492Z"
   },
   {
    "duration": 11,
    "start_time": "2022-11-28T12:02:45.678Z"
   },
   {
    "duration": 10,
    "start_time": "2022-11-28T12:02:45.690Z"
   },
   {
    "duration": 58,
    "start_time": "2022-11-28T12:02:45.702Z"
   },
   {
    "duration": 15,
    "start_time": "2022-11-28T12:02:45.761Z"
   },
   {
    "duration": 1156,
    "start_time": "2022-11-28T12:03:03.184Z"
   },
   {
    "duration": 31,
    "start_time": "2022-11-28T12:03:04.343Z"
   },
   {
    "duration": 15,
    "start_time": "2022-11-28T12:03:04.376Z"
   },
   {
    "duration": 27,
    "start_time": "2022-11-28T12:03:04.393Z"
   },
   {
    "duration": 19,
    "start_time": "2022-11-28T12:03:04.423Z"
   },
   {
    "duration": 21,
    "start_time": "2022-11-28T12:03:04.444Z"
   },
   {
    "duration": 21,
    "start_time": "2022-11-28T12:03:04.467Z"
   },
   {
    "duration": 27,
    "start_time": "2022-11-28T12:03:04.490Z"
   },
   {
    "duration": 35,
    "start_time": "2022-11-28T12:03:04.519Z"
   },
   {
    "duration": 26,
    "start_time": "2022-11-28T12:03:04.556Z"
   },
   {
    "duration": 67,
    "start_time": "2022-11-28T12:03:04.584Z"
   },
   {
    "duration": 15,
    "start_time": "2022-11-28T12:03:04.653Z"
   },
   {
    "duration": 21,
    "start_time": "2022-11-28T12:03:04.669Z"
   },
   {
    "duration": 38,
    "start_time": "2022-11-28T12:03:04.691Z"
   },
   {
    "duration": 37,
    "start_time": "2022-11-28T12:03:04.731Z"
   },
   {
    "duration": 30,
    "start_time": "2022-11-28T12:03:04.770Z"
   },
   {
    "duration": 19,
    "start_time": "2022-11-28T12:03:04.802Z"
   },
   {
    "duration": 36,
    "start_time": "2022-11-28T12:03:04.823Z"
   },
   {
    "duration": 14,
    "start_time": "2022-11-28T12:03:04.861Z"
   },
   {
    "duration": 26,
    "start_time": "2022-11-28T12:03:04.877Z"
   },
   {
    "duration": 23,
    "start_time": "2022-11-28T12:03:04.905Z"
   },
   {
    "duration": 46,
    "start_time": "2022-11-28T12:03:04.932Z"
   },
   {
    "duration": 185,
    "start_time": "2022-11-28T12:03:04.979Z"
   },
   {
    "duration": 141,
    "start_time": "2022-11-28T12:03:05.166Z"
   },
   {
    "duration": 19,
    "start_time": "2022-11-28T12:03:05.309Z"
   },
   {
    "duration": 34,
    "start_time": "2022-11-28T12:03:05.330Z"
   },
   {
    "duration": 22,
    "start_time": "2022-11-28T12:03:05.367Z"
   },
   {
    "duration": 17,
    "start_time": "2022-11-28T12:03:05.394Z"
   },
   {
    "duration": 303,
    "start_time": "2022-11-28T12:03:05.413Z"
   },
   {
    "duration": 14,
    "start_time": "2022-11-28T12:03:05.722Z"
   },
   {
    "duration": 37,
    "start_time": "2022-11-28T12:03:05.738Z"
   },
   {
    "duration": 228,
    "start_time": "2022-11-28T12:03:05.776Z"
   },
   {
    "duration": 320,
    "start_time": "2022-11-28T12:03:06.006Z"
   },
   {
    "duration": 236,
    "start_time": "2022-11-28T12:03:06.328Z"
   },
   {
    "duration": 283,
    "start_time": "2022-11-28T12:03:06.566Z"
   },
   {
    "duration": 8,
    "start_time": "2022-11-28T12:03:06.850Z"
   },
   {
    "duration": 16,
    "start_time": "2022-11-28T12:03:06.860Z"
   },
   {
    "duration": 23,
    "start_time": "2022-11-28T12:03:06.877Z"
   },
   {
    "duration": 32,
    "start_time": "2022-11-28T12:03:06.901Z"
   },
   {
    "duration": 135,
    "start_time": "2022-11-28T12:03:06.935Z"
   },
   {
    "duration": 6,
    "start_time": "2022-11-28T12:03:07.071Z"
   },
   {
    "duration": 19,
    "start_time": "2022-11-28T12:03:07.079Z"
   },
   {
    "duration": 38,
    "start_time": "2022-11-28T12:03:07.099Z"
   },
   {
    "duration": 23,
    "start_time": "2022-11-28T12:03:07.139Z"
   },
   {
    "duration": 29,
    "start_time": "2022-11-28T12:03:07.164Z"
   },
   {
    "duration": 175,
    "start_time": "2022-11-28T12:03:07.195Z"
   },
   {
    "duration": 156,
    "start_time": "2022-11-28T12:03:07.372Z"
   },
   {
    "duration": 6,
    "start_time": "2022-11-28T12:03:07.529Z"
   },
   {
    "duration": 28,
    "start_time": "2022-11-28T12:03:07.537Z"
   },
   {
    "duration": 22,
    "start_time": "2022-11-28T12:03:07.567Z"
   },
   {
    "duration": 25,
    "start_time": "2022-11-28T12:03:07.591Z"
   },
   {
    "duration": 297,
    "start_time": "2022-11-28T12:03:07.618Z"
   },
   {
    "duration": 16,
    "start_time": "2022-11-28T12:03:07.917Z"
   },
   {
    "duration": 194,
    "start_time": "2022-11-28T12:03:07.935Z"
   },
   {
    "duration": 14,
    "start_time": "2022-11-28T12:03:08.131Z"
   },
   {
    "duration": 13,
    "start_time": "2022-11-28T12:03:08.147Z"
   },
   {
    "duration": 63,
    "start_time": "2022-11-28T12:03:08.161Z"
   },
   {
    "duration": 18,
    "start_time": "2022-11-28T12:03:08.226Z"
   },
   {
    "duration": 1100,
    "start_time": "2022-11-28T12:04:34.487Z"
   },
   {
    "duration": 27,
    "start_time": "2022-11-28T12:04:35.589Z"
   },
   {
    "duration": 13,
    "start_time": "2022-11-28T12:04:35.618Z"
   },
   {
    "duration": 11,
    "start_time": "2022-11-28T12:04:35.633Z"
   },
   {
    "duration": 10,
    "start_time": "2022-11-28T12:04:35.646Z"
   },
   {
    "duration": 9,
    "start_time": "2022-11-28T12:04:35.658Z"
   },
   {
    "duration": 26,
    "start_time": "2022-11-28T12:04:35.669Z"
   },
   {
    "duration": 13,
    "start_time": "2022-11-28T12:04:35.697Z"
   },
   {
    "duration": 108,
    "start_time": "2022-11-28T12:04:35.712Z"
   },
   {
    "duration": 0,
    "start_time": "2022-11-28T12:04:35.824Z"
   },
   {
    "duration": 0,
    "start_time": "2022-11-28T12:04:35.826Z"
   },
   {
    "duration": 0,
    "start_time": "2022-11-28T12:04:35.827Z"
   },
   {
    "duration": 0,
    "start_time": "2022-11-28T12:04:35.829Z"
   },
   {
    "duration": 0,
    "start_time": "2022-11-28T12:04:35.831Z"
   },
   {
    "duration": 0,
    "start_time": "2022-11-28T12:04:35.832Z"
   },
   {
    "duration": 0,
    "start_time": "2022-11-28T12:04:35.833Z"
   },
   {
    "duration": 0,
    "start_time": "2022-11-28T12:04:35.835Z"
   },
   {
    "duration": 0,
    "start_time": "2022-11-28T12:04:35.836Z"
   },
   {
    "duration": 0,
    "start_time": "2022-11-28T12:04:35.838Z"
   },
   {
    "duration": 0,
    "start_time": "2022-11-28T12:04:35.839Z"
   },
   {
    "duration": 0,
    "start_time": "2022-11-28T12:04:35.841Z"
   },
   {
    "duration": 0,
    "start_time": "2022-11-28T12:04:35.842Z"
   },
   {
    "duration": 0,
    "start_time": "2022-11-28T12:04:35.844Z"
   },
   {
    "duration": 0,
    "start_time": "2022-11-28T12:04:35.845Z"
   },
   {
    "duration": 0,
    "start_time": "2022-11-28T12:04:35.847Z"
   },
   {
    "duration": 0,
    "start_time": "2022-11-28T12:04:35.849Z"
   },
   {
    "duration": 0,
    "start_time": "2022-11-28T12:04:35.850Z"
   },
   {
    "duration": 0,
    "start_time": "2022-11-28T12:04:35.852Z"
   },
   {
    "duration": 0,
    "start_time": "2022-11-28T12:04:35.853Z"
   },
   {
    "duration": 0,
    "start_time": "2022-11-28T12:04:35.855Z"
   },
   {
    "duration": 0,
    "start_time": "2022-11-28T12:04:35.857Z"
   },
   {
    "duration": 0,
    "start_time": "2022-11-28T12:04:35.860Z"
   },
   {
    "duration": 0,
    "start_time": "2022-11-28T12:04:35.862Z"
   },
   {
    "duration": 0,
    "start_time": "2022-11-28T12:04:35.863Z"
   },
   {
    "duration": 0,
    "start_time": "2022-11-28T12:04:35.865Z"
   },
   {
    "duration": 0,
    "start_time": "2022-11-28T12:04:35.922Z"
   },
   {
    "duration": 0,
    "start_time": "2022-11-28T12:04:35.924Z"
   },
   {
    "duration": 0,
    "start_time": "2022-11-28T12:04:35.925Z"
   },
   {
    "duration": 1,
    "start_time": "2022-11-28T12:04:35.926Z"
   },
   {
    "duration": 0,
    "start_time": "2022-11-28T12:04:35.927Z"
   },
   {
    "duration": 0,
    "start_time": "2022-11-28T12:04:35.929Z"
   },
   {
    "duration": 0,
    "start_time": "2022-11-28T12:04:35.930Z"
   },
   {
    "duration": 0,
    "start_time": "2022-11-28T12:04:35.931Z"
   },
   {
    "duration": 0,
    "start_time": "2022-11-28T12:04:35.932Z"
   },
   {
    "duration": 0,
    "start_time": "2022-11-28T12:04:35.933Z"
   },
   {
    "duration": 0,
    "start_time": "2022-11-28T12:04:35.934Z"
   },
   {
    "duration": 0,
    "start_time": "2022-11-28T12:04:35.935Z"
   },
   {
    "duration": 0,
    "start_time": "2022-11-28T12:04:35.937Z"
   },
   {
    "duration": 0,
    "start_time": "2022-11-28T12:04:35.937Z"
   },
   {
    "duration": 0,
    "start_time": "2022-11-28T12:04:35.939Z"
   },
   {
    "duration": 0,
    "start_time": "2022-11-28T12:04:35.940Z"
   },
   {
    "duration": 0,
    "start_time": "2022-11-28T12:04:35.941Z"
   },
   {
    "duration": 0,
    "start_time": "2022-11-28T12:04:35.942Z"
   },
   {
    "duration": 0,
    "start_time": "2022-11-28T12:04:35.943Z"
   },
   {
    "duration": 0,
    "start_time": "2022-11-28T12:04:35.944Z"
   },
   {
    "duration": 0,
    "start_time": "2022-11-28T12:04:35.945Z"
   },
   {
    "duration": 0,
    "start_time": "2022-11-28T12:04:35.946Z"
   },
   {
    "duration": 0,
    "start_time": "2022-11-28T12:04:35.947Z"
   },
   {
    "duration": 15,
    "start_time": "2022-11-28T12:04:59.499Z"
   },
   {
    "duration": 47,
    "start_time": "2022-11-28T12:06:10.304Z"
   },
   {
    "duration": 1107,
    "start_time": "2022-11-28T12:06:15.981Z"
   },
   {
    "duration": 28,
    "start_time": "2022-11-28T12:06:17.090Z"
   },
   {
    "duration": 16,
    "start_time": "2022-11-28T12:06:17.120Z"
   },
   {
    "duration": 16,
    "start_time": "2022-11-28T12:06:17.139Z"
   },
   {
    "duration": 34,
    "start_time": "2022-11-28T12:06:17.157Z"
   },
   {
    "duration": 27,
    "start_time": "2022-11-28T12:06:17.193Z"
   },
   {
    "duration": 20,
    "start_time": "2022-11-28T12:06:17.221Z"
   },
   {
    "duration": 32,
    "start_time": "2022-11-28T12:06:17.242Z"
   },
   {
    "duration": 58,
    "start_time": "2022-11-28T12:06:17.276Z"
   },
   {
    "duration": 10,
    "start_time": "2022-11-28T12:06:17.337Z"
   },
   {
    "duration": 83,
    "start_time": "2022-11-28T12:06:17.348Z"
   },
   {
    "duration": 18,
    "start_time": "2022-11-28T12:06:17.433Z"
   },
   {
    "duration": 7,
    "start_time": "2022-11-28T12:06:17.453Z"
   },
   {
    "duration": 36,
    "start_time": "2022-11-28T12:06:17.461Z"
   },
   {
    "duration": 16,
    "start_time": "2022-11-28T12:06:17.498Z"
   },
   {
    "duration": 30,
    "start_time": "2022-11-28T12:06:17.516Z"
   },
   {
    "duration": 27,
    "start_time": "2022-11-28T12:06:17.548Z"
   },
   {
    "duration": 34,
    "start_time": "2022-11-28T12:06:17.576Z"
   },
   {
    "duration": 26,
    "start_time": "2022-11-28T12:06:17.612Z"
   },
   {
    "duration": 31,
    "start_time": "2022-11-28T12:06:17.639Z"
   },
   {
    "duration": 9,
    "start_time": "2022-11-28T12:06:17.672Z"
   },
   {
    "duration": 21,
    "start_time": "2022-11-28T12:06:17.682Z"
   },
   {
    "duration": 181,
    "start_time": "2022-11-28T12:06:17.704Z"
   },
   {
    "duration": 121,
    "start_time": "2022-11-28T12:06:17.887Z"
   },
   {
    "duration": 16,
    "start_time": "2022-11-28T12:06:18.010Z"
   },
   {
    "duration": 16,
    "start_time": "2022-11-28T12:06:18.028Z"
   },
   {
    "duration": 29,
    "start_time": "2022-11-28T12:06:18.046Z"
   },
   {
    "duration": 18,
    "start_time": "2022-11-28T12:06:18.079Z"
   },
   {
    "duration": 291,
    "start_time": "2022-11-28T12:06:18.099Z"
   },
   {
    "duration": 12,
    "start_time": "2022-11-28T12:06:18.392Z"
   },
   {
    "duration": 23,
    "start_time": "2022-11-28T12:06:18.405Z"
   },
   {
    "duration": 197,
    "start_time": "2022-11-28T12:06:18.430Z"
   },
   {
    "duration": 299,
    "start_time": "2022-11-28T12:06:18.629Z"
   },
   {
    "duration": 250,
    "start_time": "2022-11-28T12:06:18.930Z"
   },
   {
    "duration": 298,
    "start_time": "2022-11-28T12:06:19.181Z"
   },
   {
    "duration": 9,
    "start_time": "2022-11-28T12:06:19.480Z"
   },
   {
    "duration": 13,
    "start_time": "2022-11-28T12:06:19.491Z"
   },
   {
    "duration": 16,
    "start_time": "2022-11-28T12:06:19.506Z"
   },
   {
    "duration": 9,
    "start_time": "2022-11-28T12:06:19.524Z"
   },
   {
    "duration": 143,
    "start_time": "2022-11-28T12:06:19.535Z"
   },
   {
    "duration": 6,
    "start_time": "2022-11-28T12:06:19.680Z"
   },
   {
    "duration": 6,
    "start_time": "2022-11-28T12:06:19.688Z"
   },
   {
    "duration": 28,
    "start_time": "2022-11-28T12:06:19.696Z"
   },
   {
    "duration": 5,
    "start_time": "2022-11-28T12:06:19.726Z"
   },
   {
    "duration": 15,
    "start_time": "2022-11-28T12:06:19.732Z"
   },
   {
    "duration": 162,
    "start_time": "2022-11-28T12:06:19.749Z"
   },
   {
    "duration": 239,
    "start_time": "2022-11-28T12:06:19.912Z"
   },
   {
    "duration": 4,
    "start_time": "2022-11-28T12:06:20.153Z"
   },
   {
    "duration": 11,
    "start_time": "2022-11-28T12:06:20.159Z"
   },
   {
    "duration": 10,
    "start_time": "2022-11-28T12:06:20.172Z"
   },
   {
    "duration": 12,
    "start_time": "2022-11-28T12:06:20.184Z"
   },
   {
    "duration": 242,
    "start_time": "2022-11-28T12:06:20.198Z"
   },
   {
    "duration": 11,
    "start_time": "2022-11-28T12:06:20.441Z"
   },
   {
    "duration": 203,
    "start_time": "2022-11-28T12:06:20.454Z"
   },
   {
    "duration": 12,
    "start_time": "2022-11-28T12:06:20.659Z"
   },
   {
    "duration": 12,
    "start_time": "2022-11-28T12:06:20.673Z"
   },
   {
    "duration": 47,
    "start_time": "2022-11-28T12:06:20.687Z"
   },
   {
    "duration": 14,
    "start_time": "2022-11-28T12:06:20.736Z"
   },
   {
    "duration": 10,
    "start_time": "2022-11-28T12:07:31.956Z"
   },
   {
    "duration": 1101,
    "start_time": "2022-11-28T12:07:38.513Z"
   },
   {
    "duration": 27,
    "start_time": "2022-11-28T12:07:39.617Z"
   },
   {
    "duration": 14,
    "start_time": "2022-11-28T12:07:39.646Z"
   },
   {
    "duration": 12,
    "start_time": "2022-11-28T12:07:39.663Z"
   },
   {
    "duration": 11,
    "start_time": "2022-11-28T12:07:39.677Z"
   },
   {
    "duration": 9,
    "start_time": "2022-11-28T12:07:39.690Z"
   },
   {
    "duration": 25,
    "start_time": "2022-11-28T12:07:39.702Z"
   },
   {
    "duration": 8,
    "start_time": "2022-11-28T12:07:39.729Z"
   },
   {
    "duration": 54,
    "start_time": "2022-11-28T12:07:39.739Z"
   },
   {
    "duration": 10,
    "start_time": "2022-11-28T12:07:39.796Z"
   },
   {
    "duration": 36,
    "start_time": "2022-11-28T12:07:39.822Z"
   },
   {
    "duration": 17,
    "start_time": "2022-11-28T12:07:39.860Z"
   },
   {
    "duration": 11,
    "start_time": "2022-11-28T12:07:39.879Z"
   },
   {
    "duration": 20,
    "start_time": "2022-11-28T12:07:39.892Z"
   },
   {
    "duration": 12,
    "start_time": "2022-11-28T12:07:39.913Z"
   },
   {
    "duration": 18,
    "start_time": "2022-11-28T12:07:39.927Z"
   },
   {
    "duration": 10,
    "start_time": "2022-11-28T12:07:39.947Z"
   },
   {
    "duration": 15,
    "start_time": "2022-11-28T12:07:39.959Z"
   },
   {
    "duration": 8,
    "start_time": "2022-11-28T12:07:39.976Z"
   },
   {
    "duration": 13,
    "start_time": "2022-11-28T12:07:39.985Z"
   },
   {
    "duration": 23,
    "start_time": "2022-11-28T12:07:39.999Z"
   },
   {
    "duration": 11,
    "start_time": "2022-11-28T12:07:40.024Z"
   },
   {
    "duration": 177,
    "start_time": "2022-11-28T12:07:40.037Z"
   },
   {
    "duration": 125,
    "start_time": "2022-11-28T12:07:40.216Z"
   },
   {
    "duration": 7,
    "start_time": "2022-11-28T12:07:40.342Z"
   },
   {
    "duration": 18,
    "start_time": "2022-11-28T12:07:40.350Z"
   },
   {
    "duration": 11,
    "start_time": "2022-11-28T12:07:40.369Z"
   },
   {
    "duration": 8,
    "start_time": "2022-11-28T12:07:40.384Z"
   },
   {
    "duration": 293,
    "start_time": "2022-11-28T12:07:40.394Z"
   },
   {
    "duration": 12,
    "start_time": "2022-11-28T12:07:40.689Z"
   },
   {
    "duration": 19,
    "start_time": "2022-11-28T12:07:40.703Z"
   },
   {
    "duration": 205,
    "start_time": "2022-11-28T12:07:40.724Z"
   },
   {
    "duration": 302,
    "start_time": "2022-11-28T12:07:40.931Z"
   },
   {
    "duration": 214,
    "start_time": "2022-11-28T12:07:41.235Z"
   },
   {
    "duration": 289,
    "start_time": "2022-11-28T12:07:41.450Z"
   },
   {
    "duration": 9,
    "start_time": "2022-11-28T12:07:41.740Z"
   },
   {
    "duration": 11,
    "start_time": "2022-11-28T12:07:41.750Z"
   },
   {
    "duration": 5,
    "start_time": "2022-11-28T12:07:41.762Z"
   },
   {
    "duration": 12,
    "start_time": "2022-11-28T12:07:41.769Z"
   },
   {
    "duration": 153,
    "start_time": "2022-11-28T12:07:41.782Z"
   },
   {
    "duration": 6,
    "start_time": "2022-11-28T12:07:41.936Z"
   },
   {
    "duration": 8,
    "start_time": "2022-11-28T12:07:41.943Z"
   },
   {
    "duration": 15,
    "start_time": "2022-11-28T12:07:41.952Z"
   },
   {
    "duration": 8,
    "start_time": "2022-11-28T12:07:41.969Z"
   },
   {
    "duration": 22,
    "start_time": "2022-11-28T12:07:41.979Z"
   },
   {
    "duration": 149,
    "start_time": "2022-11-28T12:07:42.003Z"
   },
   {
    "duration": 228,
    "start_time": "2022-11-28T12:07:42.154Z"
   },
   {
    "duration": 5,
    "start_time": "2022-11-28T12:07:42.383Z"
   },
   {
    "duration": 10,
    "start_time": "2022-11-28T12:07:42.389Z"
   },
   {
    "duration": 25,
    "start_time": "2022-11-28T12:07:42.401Z"
   },
   {
    "duration": 11,
    "start_time": "2022-11-28T12:07:42.427Z"
   },
   {
    "duration": 223,
    "start_time": "2022-11-28T12:07:42.441Z"
   },
   {
    "duration": 11,
    "start_time": "2022-11-28T12:07:42.666Z"
   },
   {
    "duration": 169,
    "start_time": "2022-11-28T12:07:42.679Z"
   },
   {
    "duration": 11,
    "start_time": "2022-11-28T12:07:42.850Z"
   },
   {
    "duration": 10,
    "start_time": "2022-11-28T12:07:42.863Z"
   },
   {
    "duration": 29,
    "start_time": "2022-11-28T12:07:42.875Z"
   },
   {
    "duration": 25,
    "start_time": "2022-11-28T12:07:42.906Z"
   },
   {
    "duration": 11,
    "start_time": "2022-11-28T12:08:37.761Z"
   },
   {
    "duration": 10,
    "start_time": "2022-11-28T12:08:56.563Z"
   },
   {
    "duration": 10,
    "start_time": "2022-11-28T12:10:31.165Z"
   },
   {
    "duration": 11,
    "start_time": "2022-11-28T12:11:41.380Z"
   },
   {
    "duration": 105,
    "start_time": "2022-11-28T12:11:48.909Z"
   },
   {
    "duration": 10,
    "start_time": "2022-11-28T12:11:53.364Z"
   },
   {
    "duration": 12,
    "start_time": "2022-11-28T12:12:53.469Z"
   },
   {
    "duration": 10,
    "start_time": "2022-11-28T12:12:59.997Z"
   },
   {
    "duration": 9,
    "start_time": "2022-11-28T12:13:08.630Z"
   },
   {
    "duration": 8,
    "start_time": "2022-11-28T12:13:23.293Z"
   },
   {
    "duration": 9,
    "start_time": "2022-11-28T12:13:35.617Z"
   },
   {
    "duration": 1155,
    "start_time": "2022-11-28T12:13:42.928Z"
   },
   {
    "duration": 29,
    "start_time": "2022-11-28T12:13:44.085Z"
   },
   {
    "duration": 14,
    "start_time": "2022-11-28T12:13:44.117Z"
   },
   {
    "duration": 14,
    "start_time": "2022-11-28T12:13:44.132Z"
   },
   {
    "duration": 11,
    "start_time": "2022-11-28T12:13:44.149Z"
   },
   {
    "duration": 15,
    "start_time": "2022-11-28T12:13:44.163Z"
   },
   {
    "duration": 21,
    "start_time": "2022-11-28T12:13:44.181Z"
   },
   {
    "duration": 19,
    "start_time": "2022-11-28T12:13:44.204Z"
   },
   {
    "duration": 87,
    "start_time": "2022-11-28T12:13:44.226Z"
   },
   {
    "duration": 9,
    "start_time": "2022-11-28T12:13:44.315Z"
   },
   {
    "duration": 13,
    "start_time": "2022-11-28T12:13:44.325Z"
   },
   {
    "duration": 39,
    "start_time": "2022-11-28T12:13:44.339Z"
   },
   {
    "duration": 15,
    "start_time": "2022-11-28T12:13:44.380Z"
   },
   {
    "duration": 7,
    "start_time": "2022-11-28T12:13:44.398Z"
   },
   {
    "duration": 13,
    "start_time": "2022-11-28T12:13:44.407Z"
   },
   {
    "duration": 7,
    "start_time": "2022-11-28T12:13:44.422Z"
   },
   {
    "duration": 16,
    "start_time": "2022-11-28T12:13:44.430Z"
   },
   {
    "duration": 11,
    "start_time": "2022-11-28T12:13:44.448Z"
   },
   {
    "duration": 12,
    "start_time": "2022-11-28T12:13:44.460Z"
   },
   {
    "duration": 8,
    "start_time": "2022-11-28T12:13:44.474Z"
   },
   {
    "duration": 17,
    "start_time": "2022-11-28T12:13:44.483Z"
   },
   {
    "duration": 22,
    "start_time": "2022-11-28T12:13:44.502Z"
   },
   {
    "duration": 12,
    "start_time": "2022-11-28T12:13:44.525Z"
   },
   {
    "duration": 167,
    "start_time": "2022-11-28T12:13:44.539Z"
   },
   {
    "duration": 128,
    "start_time": "2022-11-28T12:13:44.707Z"
   },
   {
    "duration": 7,
    "start_time": "2022-11-28T12:13:44.836Z"
   },
   {
    "duration": 18,
    "start_time": "2022-11-28T12:13:44.845Z"
   },
   {
    "duration": 7,
    "start_time": "2022-11-28T12:13:44.865Z"
   },
   {
    "duration": 6,
    "start_time": "2022-11-28T12:13:44.874Z"
   },
   {
    "duration": 281,
    "start_time": "2022-11-28T12:13:44.882Z"
   },
   {
    "duration": 12,
    "start_time": "2022-11-28T12:13:45.164Z"
   },
   {
    "duration": 8,
    "start_time": "2022-11-28T12:13:45.177Z"
   },
   {
    "duration": 215,
    "start_time": "2022-11-28T12:13:45.186Z"
   },
   {
    "duration": 311,
    "start_time": "2022-11-28T12:13:45.402Z"
   },
   {
    "duration": 231,
    "start_time": "2022-11-28T12:13:45.722Z"
   },
   {
    "duration": 285,
    "start_time": "2022-11-28T12:13:45.955Z"
   },
   {
    "duration": 9,
    "start_time": "2022-11-28T12:13:46.242Z"
   },
   {
    "duration": 7,
    "start_time": "2022-11-28T12:13:46.253Z"
   },
   {
    "duration": 4,
    "start_time": "2022-11-28T12:13:46.262Z"
   },
   {
    "duration": 10,
    "start_time": "2022-11-28T12:13:46.267Z"
   },
   {
    "duration": 157,
    "start_time": "2022-11-28T12:13:46.281Z"
   },
   {
    "duration": 5,
    "start_time": "2022-11-28T12:13:46.439Z"
   },
   {
    "duration": 6,
    "start_time": "2022-11-28T12:13:46.446Z"
   },
   {
    "duration": 9,
    "start_time": "2022-11-28T12:13:46.454Z"
   },
   {
    "duration": 9,
    "start_time": "2022-11-28T12:13:46.464Z"
   },
   {
    "duration": 12,
    "start_time": "2022-11-28T12:13:46.474Z"
   },
   {
    "duration": 162,
    "start_time": "2022-11-28T12:13:46.489Z"
   },
   {
    "duration": 211,
    "start_time": "2022-11-28T12:13:46.653Z"
   },
   {
    "duration": 4,
    "start_time": "2022-11-28T12:13:46.866Z"
   },
   {
    "duration": 7,
    "start_time": "2022-11-28T12:13:46.872Z"
   },
   {
    "duration": 9,
    "start_time": "2022-11-28T12:13:46.880Z"
   },
   {
    "duration": 16,
    "start_time": "2022-11-28T12:13:46.891Z"
   },
   {
    "duration": 216,
    "start_time": "2022-11-28T12:13:46.923Z"
   },
   {
    "duration": 10,
    "start_time": "2022-11-28T12:13:47.141Z"
   },
   {
    "duration": 176,
    "start_time": "2022-11-28T12:13:47.152Z"
   },
   {
    "duration": 11,
    "start_time": "2022-11-28T12:13:47.330Z"
   },
   {
    "duration": 10,
    "start_time": "2022-11-28T12:13:47.343Z"
   },
   {
    "duration": 31,
    "start_time": "2022-11-28T12:13:47.355Z"
   },
   {
    "duration": 38,
    "start_time": "2022-11-28T12:13:47.388Z"
   },
   {
    "duration": 95,
    "start_time": "2022-11-28T12:14:14.530Z"
   },
   {
    "duration": 1077,
    "start_time": "2022-11-28T12:14:20.497Z"
   },
   {
    "duration": 27,
    "start_time": "2022-11-28T12:14:21.576Z"
   },
   {
    "duration": 18,
    "start_time": "2022-11-28T12:14:21.605Z"
   },
   {
    "duration": 23,
    "start_time": "2022-11-28T12:14:21.625Z"
   },
   {
    "duration": 19,
    "start_time": "2022-11-28T12:14:21.650Z"
   },
   {
    "duration": 18,
    "start_time": "2022-11-28T12:14:21.671Z"
   },
   {
    "duration": 20,
    "start_time": "2022-11-28T12:14:21.690Z"
   },
   {
    "duration": 6,
    "start_time": "2022-11-28T12:14:21.711Z"
   },
   {
    "duration": 133,
    "start_time": "2022-11-28T12:14:21.718Z"
   },
   {
    "duration": 0,
    "start_time": "2022-11-28T12:14:21.854Z"
   },
   {
    "duration": 0,
    "start_time": "2022-11-28T12:14:21.855Z"
   },
   {
    "duration": 0,
    "start_time": "2022-11-28T12:14:21.856Z"
   },
   {
    "duration": 0,
    "start_time": "2022-11-28T12:14:21.857Z"
   },
   {
    "duration": 0,
    "start_time": "2022-11-28T12:14:21.858Z"
   },
   {
    "duration": 0,
    "start_time": "2022-11-28T12:14:21.859Z"
   },
   {
    "duration": 0,
    "start_time": "2022-11-28T12:14:21.860Z"
   },
   {
    "duration": 0,
    "start_time": "2022-11-28T12:14:21.862Z"
   },
   {
    "duration": 0,
    "start_time": "2022-11-28T12:14:21.863Z"
   },
   {
    "duration": 0,
    "start_time": "2022-11-28T12:14:21.864Z"
   },
   {
    "duration": 0,
    "start_time": "2022-11-28T12:14:21.865Z"
   },
   {
    "duration": 0,
    "start_time": "2022-11-28T12:14:21.866Z"
   },
   {
    "duration": 0,
    "start_time": "2022-11-28T12:14:21.867Z"
   },
   {
    "duration": 0,
    "start_time": "2022-11-28T12:14:21.868Z"
   },
   {
    "duration": 0,
    "start_time": "2022-11-28T12:14:21.869Z"
   },
   {
    "duration": 0,
    "start_time": "2022-11-28T12:14:21.871Z"
   },
   {
    "duration": 0,
    "start_time": "2022-11-28T12:14:21.872Z"
   },
   {
    "duration": 0,
    "start_time": "2022-11-28T12:14:21.874Z"
   },
   {
    "duration": 0,
    "start_time": "2022-11-28T12:14:21.875Z"
   },
   {
    "duration": 0,
    "start_time": "2022-11-28T12:14:21.876Z"
   },
   {
    "duration": 0,
    "start_time": "2022-11-28T12:14:21.877Z"
   },
   {
    "duration": 0,
    "start_time": "2022-11-28T12:14:21.879Z"
   },
   {
    "duration": 0,
    "start_time": "2022-11-28T12:14:21.923Z"
   },
   {
    "duration": 0,
    "start_time": "2022-11-28T12:14:21.924Z"
   },
   {
    "duration": 0,
    "start_time": "2022-11-28T12:14:21.925Z"
   },
   {
    "duration": 0,
    "start_time": "2022-11-28T12:14:21.926Z"
   },
   {
    "duration": 0,
    "start_time": "2022-11-28T12:14:21.927Z"
   },
   {
    "duration": 0,
    "start_time": "2022-11-28T12:14:21.927Z"
   },
   {
    "duration": 0,
    "start_time": "2022-11-28T12:14:21.928Z"
   },
   {
    "duration": 0,
    "start_time": "2022-11-28T12:14:21.929Z"
   },
   {
    "duration": 0,
    "start_time": "2022-11-28T12:14:21.930Z"
   },
   {
    "duration": 0,
    "start_time": "2022-11-28T12:14:21.931Z"
   },
   {
    "duration": 0,
    "start_time": "2022-11-28T12:14:21.932Z"
   },
   {
    "duration": 0,
    "start_time": "2022-11-28T12:14:21.933Z"
   },
   {
    "duration": 0,
    "start_time": "2022-11-28T12:14:21.934Z"
   },
   {
    "duration": 0,
    "start_time": "2022-11-28T12:14:21.935Z"
   },
   {
    "duration": 0,
    "start_time": "2022-11-28T12:14:21.935Z"
   },
   {
    "duration": 0,
    "start_time": "2022-11-28T12:14:21.936Z"
   },
   {
    "duration": 0,
    "start_time": "2022-11-28T12:14:21.937Z"
   },
   {
    "duration": 0,
    "start_time": "2022-11-28T12:14:21.938Z"
   },
   {
    "duration": 0,
    "start_time": "2022-11-28T12:14:21.939Z"
   },
   {
    "duration": 0,
    "start_time": "2022-11-28T12:14:21.940Z"
   },
   {
    "duration": 0,
    "start_time": "2022-11-28T12:14:21.941Z"
   },
   {
    "duration": 0,
    "start_time": "2022-11-28T12:14:21.942Z"
   },
   {
    "duration": 0,
    "start_time": "2022-11-28T12:14:21.942Z"
   },
   {
    "duration": 0,
    "start_time": "2022-11-28T12:14:21.943Z"
   },
   {
    "duration": 1,
    "start_time": "2022-11-28T12:14:21.944Z"
   },
   {
    "duration": 0,
    "start_time": "2022-11-28T12:14:21.946Z"
   },
   {
    "duration": 0,
    "start_time": "2022-11-28T12:14:21.947Z"
   },
   {
    "duration": 14,
    "start_time": "2022-11-28T12:14:32.050Z"
   },
   {
    "duration": 1088,
    "start_time": "2022-11-28T12:15:10.384Z"
   },
   {
    "duration": 29,
    "start_time": "2022-11-28T12:15:11.474Z"
   },
   {
    "duration": 12,
    "start_time": "2022-11-28T12:15:11.505Z"
   },
   {
    "duration": 32,
    "start_time": "2022-11-28T12:15:11.519Z"
   },
   {
    "duration": 20,
    "start_time": "2022-11-28T12:15:11.553Z"
   },
   {
    "duration": 29,
    "start_time": "2022-11-28T12:15:11.574Z"
   },
   {
    "duration": 31,
    "start_time": "2022-11-28T12:15:11.604Z"
   },
   {
    "duration": 13,
    "start_time": "2022-11-28T12:15:11.637Z"
   },
   {
    "duration": 75,
    "start_time": "2022-11-28T12:15:11.651Z"
   },
   {
    "duration": 10,
    "start_time": "2022-11-28T12:15:11.728Z"
   },
   {
    "duration": 71,
    "start_time": "2022-11-28T12:15:11.739Z"
   },
   {
    "duration": 15,
    "start_time": "2022-11-28T12:15:11.812Z"
   },
   {
    "duration": 33,
    "start_time": "2022-11-28T12:15:11.829Z"
   },
   {
    "duration": 43,
    "start_time": "2022-11-28T12:15:11.864Z"
   },
   {
    "duration": 24,
    "start_time": "2022-11-28T12:15:11.909Z"
   },
   {
    "duration": 43,
    "start_time": "2022-11-28T12:15:11.935Z"
   },
   {
    "duration": 29,
    "start_time": "2022-11-28T12:15:11.980Z"
   },
   {
    "duration": 26,
    "start_time": "2022-11-28T12:15:12.011Z"
   },
   {
    "duration": 24,
    "start_time": "2022-11-28T12:15:12.039Z"
   },
   {
    "duration": 22,
    "start_time": "2022-11-28T12:15:12.065Z"
   },
   {
    "duration": 19,
    "start_time": "2022-11-28T12:15:12.089Z"
   },
   {
    "duration": 36,
    "start_time": "2022-11-28T12:15:12.110Z"
   },
   {
    "duration": 174,
    "start_time": "2022-11-28T12:15:12.148Z"
   },
   {
    "duration": 128,
    "start_time": "2022-11-28T12:15:12.324Z"
   },
   {
    "duration": 7,
    "start_time": "2022-11-28T12:15:12.453Z"
   },
   {
    "duration": 11,
    "start_time": "2022-11-28T12:15:12.461Z"
   },
   {
    "duration": 13,
    "start_time": "2022-11-28T12:15:12.474Z"
   },
   {
    "duration": 13,
    "start_time": "2022-11-28T12:15:12.491Z"
   },
   {
    "duration": 275,
    "start_time": "2022-11-28T12:15:12.505Z"
   },
   {
    "duration": 12,
    "start_time": "2022-11-28T12:15:12.781Z"
   },
   {
    "duration": 27,
    "start_time": "2022-11-28T12:15:12.795Z"
   },
   {
    "duration": 206,
    "start_time": "2022-11-28T12:15:12.824Z"
   },
   {
    "duration": 297,
    "start_time": "2022-11-28T12:15:13.031Z"
   },
   {
    "duration": 216,
    "start_time": "2022-11-28T12:15:13.329Z"
   },
   {
    "duration": 287,
    "start_time": "2022-11-28T12:15:13.547Z"
   },
   {
    "duration": 9,
    "start_time": "2022-11-28T12:15:13.836Z"
   },
   {
    "duration": 10,
    "start_time": "2022-11-28T12:15:13.847Z"
   },
   {
    "duration": 8,
    "start_time": "2022-11-28T12:15:13.858Z"
   },
   {
    "duration": 12,
    "start_time": "2022-11-28T12:15:13.867Z"
   },
   {
    "duration": 146,
    "start_time": "2022-11-28T12:15:13.881Z"
   },
   {
    "duration": 6,
    "start_time": "2022-11-28T12:15:14.029Z"
   },
   {
    "duration": 14,
    "start_time": "2022-11-28T12:15:14.037Z"
   },
   {
    "duration": 16,
    "start_time": "2022-11-28T12:15:14.053Z"
   },
   {
    "duration": 19,
    "start_time": "2022-11-28T12:15:14.071Z"
   },
   {
    "duration": 12,
    "start_time": "2022-11-28T12:15:14.092Z"
   },
   {
    "duration": 205,
    "start_time": "2022-11-28T12:15:14.106Z"
   },
   {
    "duration": 237,
    "start_time": "2022-11-28T12:15:14.314Z"
   },
   {
    "duration": 5,
    "start_time": "2022-11-28T12:15:14.554Z"
   },
   {
    "duration": 7,
    "start_time": "2022-11-28T12:15:14.561Z"
   },
   {
    "duration": 11,
    "start_time": "2022-11-28T12:15:14.569Z"
   },
   {
    "duration": 10,
    "start_time": "2022-11-28T12:15:14.582Z"
   },
   {
    "duration": 230,
    "start_time": "2022-11-28T12:15:14.594Z"
   },
   {
    "duration": 10,
    "start_time": "2022-11-28T12:15:14.826Z"
   },
   {
    "duration": 189,
    "start_time": "2022-11-28T12:15:14.838Z"
   },
   {
    "duration": 13,
    "start_time": "2022-11-28T12:15:15.029Z"
   },
   {
    "duration": 10,
    "start_time": "2022-11-28T12:15:15.044Z"
   },
   {
    "duration": 29,
    "start_time": "2022-11-28T12:15:15.056Z"
   },
   {
    "duration": 43,
    "start_time": "2022-11-28T12:15:15.086Z"
   },
   {
    "duration": 1212,
    "start_time": "2022-11-28T14:10:56.557Z"
   },
   {
    "duration": 63,
    "start_time": "2022-11-28T14:10:57.771Z"
   },
   {
    "duration": 13,
    "start_time": "2022-11-28T14:10:57.836Z"
   },
   {
    "duration": 12,
    "start_time": "2022-11-28T14:10:57.851Z"
   },
   {
    "duration": 10,
    "start_time": "2022-11-28T14:10:57.864Z"
   },
   {
    "duration": 10,
    "start_time": "2022-11-28T14:10:57.876Z"
   },
   {
    "duration": 12,
    "start_time": "2022-11-28T14:10:57.887Z"
   },
   {
    "duration": 7,
    "start_time": "2022-11-28T14:10:57.900Z"
   },
   {
    "duration": 57,
    "start_time": "2022-11-28T14:10:57.909Z"
   },
   {
    "duration": 10,
    "start_time": "2022-11-28T14:10:57.969Z"
   },
   {
    "duration": 98,
    "start_time": "2022-11-28T14:10:57.980Z"
   },
   {
    "duration": 55,
    "start_time": "2022-11-28T14:10:58.080Z"
   },
   {
    "duration": 9,
    "start_time": "2022-11-28T14:10:58.137Z"
   },
   {
    "duration": 13,
    "start_time": "2022-11-28T14:10:58.147Z"
   },
   {
    "duration": 8,
    "start_time": "2022-11-28T14:10:58.162Z"
   },
   {
    "duration": 11,
    "start_time": "2022-11-28T14:10:58.172Z"
   },
   {
    "duration": 8,
    "start_time": "2022-11-28T14:10:58.185Z"
   },
   {
    "duration": 14,
    "start_time": "2022-11-28T14:10:58.195Z"
   },
   {
    "duration": 6,
    "start_time": "2022-11-28T14:10:58.211Z"
   },
   {
    "duration": 14,
    "start_time": "2022-11-28T14:10:58.218Z"
   },
   {
    "duration": 8,
    "start_time": "2022-11-28T14:10:58.234Z"
   },
   {
    "duration": 11,
    "start_time": "2022-11-28T14:10:58.244Z"
   },
   {
    "duration": 173,
    "start_time": "2022-11-28T14:10:58.257Z"
   },
   {
    "duration": 139,
    "start_time": "2022-11-28T14:10:58.432Z"
   },
   {
    "duration": 8,
    "start_time": "2022-11-28T14:10:58.573Z"
   },
   {
    "duration": 9,
    "start_time": "2022-11-28T14:10:58.596Z"
   },
   {
    "duration": 12,
    "start_time": "2022-11-28T14:10:58.607Z"
   },
   {
    "duration": 13,
    "start_time": "2022-11-28T14:10:58.623Z"
   },
   {
    "duration": 281,
    "start_time": "2022-11-28T14:10:58.638Z"
   },
   {
    "duration": 11,
    "start_time": "2022-11-28T14:10:58.921Z"
   },
   {
    "duration": 10,
    "start_time": "2022-11-28T14:10:58.934Z"
   },
   {
    "duration": 212,
    "start_time": "2022-11-28T14:10:58.945Z"
   },
   {
    "duration": 365,
    "start_time": "2022-11-28T14:10:59.158Z"
   },
   {
    "duration": 219,
    "start_time": "2022-11-28T14:10:59.524Z"
   },
   {
    "duration": 294,
    "start_time": "2022-11-28T14:10:59.744Z"
   },
   {
    "duration": 8,
    "start_time": "2022-11-28T14:11:00.040Z"
   },
   {
    "duration": 21,
    "start_time": "2022-11-28T14:11:00.050Z"
   },
   {
    "duration": 5,
    "start_time": "2022-11-28T14:11:00.072Z"
   },
   {
    "duration": 19,
    "start_time": "2022-11-28T14:11:00.079Z"
   },
   {
    "duration": 140,
    "start_time": "2022-11-28T14:11:00.099Z"
   },
   {
    "duration": 5,
    "start_time": "2022-11-28T14:11:00.241Z"
   },
   {
    "duration": 15,
    "start_time": "2022-11-28T14:11:00.247Z"
   },
   {
    "duration": 38,
    "start_time": "2022-11-28T14:11:00.263Z"
   },
   {
    "duration": 9,
    "start_time": "2022-11-28T14:11:00.303Z"
   },
   {
    "duration": 26,
    "start_time": "2022-11-28T14:11:00.313Z"
   },
   {
    "duration": 160,
    "start_time": "2022-11-28T14:11:00.342Z"
   },
   {
    "duration": 214,
    "start_time": "2022-11-28T14:11:00.504Z"
   },
   {
    "duration": 5,
    "start_time": "2022-11-28T14:11:00.720Z"
   },
   {
    "duration": 20,
    "start_time": "2022-11-28T14:11:00.727Z"
   },
   {
    "duration": 27,
    "start_time": "2022-11-28T14:11:00.749Z"
   },
   {
    "duration": 35,
    "start_time": "2022-11-28T14:11:00.777Z"
   },
   {
    "duration": 239,
    "start_time": "2022-11-28T14:11:00.814Z"
   },
   {
    "duration": 10,
    "start_time": "2022-11-28T14:11:01.054Z"
   },
   {
    "duration": 169,
    "start_time": "2022-11-28T14:11:01.066Z"
   },
   {
    "duration": 10,
    "start_time": "2022-11-28T14:11:01.237Z"
   },
   {
    "duration": 37,
    "start_time": "2022-11-28T14:11:01.249Z"
   },
   {
    "duration": 56,
    "start_time": "2022-11-28T14:11:01.287Z"
   },
   {
    "duration": 18,
    "start_time": "2022-11-28T14:11:01.345Z"
   },
   {
    "duration": 1118,
    "start_time": "2022-11-28T14:16:22.582Z"
   },
   {
    "duration": 29,
    "start_time": "2022-11-28T14:16:23.702Z"
   },
   {
    "duration": 15,
    "start_time": "2022-11-28T14:16:23.733Z"
   },
   {
    "duration": 11,
    "start_time": "2022-11-28T14:16:23.750Z"
   },
   {
    "duration": 10,
    "start_time": "2022-11-28T14:16:23.764Z"
   },
   {
    "duration": 10,
    "start_time": "2022-11-28T14:16:23.775Z"
   },
   {
    "duration": 18,
    "start_time": "2022-11-28T14:16:23.787Z"
   },
   {
    "duration": 5,
    "start_time": "2022-11-28T14:16:23.808Z"
   },
   {
    "duration": 53,
    "start_time": "2022-11-28T14:16:23.815Z"
   },
   {
    "duration": 31,
    "start_time": "2022-11-28T14:16:23.870Z"
   },
   {
    "duration": 45,
    "start_time": "2022-11-28T14:16:23.903Z"
   },
   {
    "duration": 17,
    "start_time": "2022-11-28T14:16:23.950Z"
   },
   {
    "duration": 10,
    "start_time": "2022-11-28T14:16:23.969Z"
   },
   {
    "duration": 17,
    "start_time": "2022-11-28T14:16:23.983Z"
   },
   {
    "duration": 10,
    "start_time": "2022-11-28T14:16:24.002Z"
   },
   {
    "duration": 209,
    "start_time": "2022-11-28T14:16:24.014Z"
   },
   {
    "duration": 0,
    "start_time": "2022-11-28T14:16:24.226Z"
   },
   {
    "duration": 0,
    "start_time": "2022-11-28T14:16:24.227Z"
   },
   {
    "duration": 0,
    "start_time": "2022-11-28T14:16:24.229Z"
   },
   {
    "duration": 0,
    "start_time": "2022-11-28T14:16:24.230Z"
   },
   {
    "duration": 0,
    "start_time": "2022-11-28T14:16:24.231Z"
   },
   {
    "duration": 0,
    "start_time": "2022-11-28T14:16:24.232Z"
   },
   {
    "duration": 0,
    "start_time": "2022-11-28T14:16:24.233Z"
   },
   {
    "duration": 0,
    "start_time": "2022-11-28T14:16:24.234Z"
   },
   {
    "duration": 0,
    "start_time": "2022-11-28T14:16:24.235Z"
   },
   {
    "duration": 0,
    "start_time": "2022-11-28T14:16:24.236Z"
   },
   {
    "duration": 0,
    "start_time": "2022-11-28T14:16:24.238Z"
   },
   {
    "duration": 0,
    "start_time": "2022-11-28T14:16:24.238Z"
   },
   {
    "duration": 0,
    "start_time": "2022-11-28T14:16:24.240Z"
   },
   {
    "duration": 0,
    "start_time": "2022-11-28T14:16:24.241Z"
   },
   {
    "duration": 0,
    "start_time": "2022-11-28T14:16:24.242Z"
   },
   {
    "duration": 0,
    "start_time": "2022-11-28T14:16:24.243Z"
   },
   {
    "duration": 0,
    "start_time": "2022-11-28T14:16:24.245Z"
   },
   {
    "duration": 0,
    "start_time": "2022-11-28T14:16:24.246Z"
   },
   {
    "duration": 0,
    "start_time": "2022-11-28T14:16:24.247Z"
   },
   {
    "duration": 0,
    "start_time": "2022-11-28T14:16:24.249Z"
   },
   {
    "duration": 0,
    "start_time": "2022-11-28T14:16:24.250Z"
   },
   {
    "duration": 0,
    "start_time": "2022-11-28T14:16:24.252Z"
   },
   {
    "duration": 0,
    "start_time": "2022-11-28T14:16:24.253Z"
   },
   {
    "duration": 0,
    "start_time": "2022-11-28T14:16:24.254Z"
   },
   {
    "duration": 0,
    "start_time": "2022-11-28T14:16:24.255Z"
   },
   {
    "duration": 0,
    "start_time": "2022-11-28T14:16:24.256Z"
   },
   {
    "duration": 0,
    "start_time": "2022-11-28T14:16:24.257Z"
   },
   {
    "duration": 0,
    "start_time": "2022-11-28T14:16:24.258Z"
   },
   {
    "duration": 0,
    "start_time": "2022-11-28T14:16:24.259Z"
   },
   {
    "duration": 1,
    "start_time": "2022-11-28T14:16:24.260Z"
   },
   {
    "duration": 0,
    "start_time": "2022-11-28T14:16:24.261Z"
   },
   {
    "duration": 0,
    "start_time": "2022-11-28T14:16:24.297Z"
   },
   {
    "duration": 0,
    "start_time": "2022-11-28T14:16:24.298Z"
   },
   {
    "duration": 0,
    "start_time": "2022-11-28T14:16:24.299Z"
   },
   {
    "duration": 0,
    "start_time": "2022-11-28T14:16:24.300Z"
   },
   {
    "duration": 0,
    "start_time": "2022-11-28T14:16:24.302Z"
   },
   {
    "duration": 0,
    "start_time": "2022-11-28T14:16:24.303Z"
   },
   {
    "duration": 0,
    "start_time": "2022-11-28T14:16:24.304Z"
   },
   {
    "duration": 0,
    "start_time": "2022-11-28T14:16:24.305Z"
   },
   {
    "duration": 0,
    "start_time": "2022-11-28T14:16:24.306Z"
   },
   {
    "duration": 1,
    "start_time": "2022-11-28T14:16:24.307Z"
   },
   {
    "duration": 0,
    "start_time": "2022-11-28T14:16:24.309Z"
   },
   {
    "duration": 0,
    "start_time": "2022-11-28T14:16:24.310Z"
   },
   {
    "duration": 0,
    "start_time": "2022-11-28T14:16:24.311Z"
   },
   {
    "duration": 11,
    "start_time": "2022-11-28T14:16:54.804Z"
   },
   {
    "duration": 1043,
    "start_time": "2022-11-28T14:17:42.396Z"
   },
   {
    "duration": 29,
    "start_time": "2022-11-28T14:17:43.441Z"
   },
   {
    "duration": 13,
    "start_time": "2022-11-28T14:17:43.474Z"
   },
   {
    "duration": 25,
    "start_time": "2022-11-28T14:17:43.489Z"
   },
   {
    "duration": 18,
    "start_time": "2022-11-28T14:17:43.516Z"
   },
   {
    "duration": 35,
    "start_time": "2022-11-28T14:17:43.536Z"
   },
   {
    "duration": 16,
    "start_time": "2022-11-28T14:17:43.573Z"
   },
   {
    "duration": 21,
    "start_time": "2022-11-28T14:17:43.590Z"
   },
   {
    "duration": 57,
    "start_time": "2022-11-28T14:17:43.613Z"
   },
   {
    "duration": 10,
    "start_time": "2022-11-28T14:17:43.672Z"
   },
   {
    "duration": 56,
    "start_time": "2022-11-28T14:17:43.683Z"
   },
   {
    "duration": 16,
    "start_time": "2022-11-28T14:17:43.741Z"
   },
   {
    "duration": 9,
    "start_time": "2022-11-28T14:17:43.760Z"
   },
   {
    "duration": 38,
    "start_time": "2022-11-28T14:17:43.771Z"
   },
   {
    "duration": 12,
    "start_time": "2022-11-28T14:17:43.811Z"
   },
   {
    "duration": 31,
    "start_time": "2022-11-28T14:17:43.824Z"
   },
   {
    "duration": 14,
    "start_time": "2022-11-28T14:17:43.857Z"
   },
   {
    "duration": 28,
    "start_time": "2022-11-28T14:17:43.872Z"
   },
   {
    "duration": 41,
    "start_time": "2022-11-28T14:17:43.902Z"
   },
   {
    "duration": 30,
    "start_time": "2022-11-28T14:17:43.945Z"
   },
   {
    "duration": 49,
    "start_time": "2022-11-28T14:17:43.976Z"
   },
   {
    "duration": 0,
    "start_time": "2022-11-28T14:17:44.027Z"
   },
   {
    "duration": 0,
    "start_time": "2022-11-28T14:17:44.028Z"
   },
   {
    "duration": 0,
    "start_time": "2022-11-28T14:17:44.029Z"
   },
   {
    "duration": 0,
    "start_time": "2022-11-28T14:17:44.030Z"
   },
   {
    "duration": 0,
    "start_time": "2022-11-28T14:17:44.031Z"
   },
   {
    "duration": 0,
    "start_time": "2022-11-28T14:17:44.032Z"
   },
   {
    "duration": 0,
    "start_time": "2022-11-28T14:17:44.034Z"
   },
   {
    "duration": 0,
    "start_time": "2022-11-28T14:17:44.035Z"
   },
   {
    "duration": 0,
    "start_time": "2022-11-28T14:17:44.035Z"
   },
   {
    "duration": 0,
    "start_time": "2022-11-28T14:17:44.037Z"
   },
   {
    "duration": 0,
    "start_time": "2022-11-28T14:17:44.038Z"
   },
   {
    "duration": 0,
    "start_time": "2022-11-28T14:17:44.039Z"
   },
   {
    "duration": 0,
    "start_time": "2022-11-28T14:17:44.040Z"
   },
   {
    "duration": 0,
    "start_time": "2022-11-28T14:17:44.041Z"
   },
   {
    "duration": 0,
    "start_time": "2022-11-28T14:17:44.042Z"
   },
   {
    "duration": 0,
    "start_time": "2022-11-28T14:17:44.042Z"
   },
   {
    "duration": 0,
    "start_time": "2022-11-28T14:17:44.043Z"
   },
   {
    "duration": 0,
    "start_time": "2022-11-28T14:17:44.044Z"
   },
   {
    "duration": 0,
    "start_time": "2022-11-28T14:17:44.045Z"
   },
   {
    "duration": 0,
    "start_time": "2022-11-28T14:17:44.046Z"
   },
   {
    "duration": 0,
    "start_time": "2022-11-28T14:17:44.047Z"
   },
   {
    "duration": 0,
    "start_time": "2022-11-28T14:17:44.048Z"
   },
   {
    "duration": 0,
    "start_time": "2022-11-28T14:17:44.049Z"
   },
   {
    "duration": 0,
    "start_time": "2022-11-28T14:17:44.050Z"
   },
   {
    "duration": 0,
    "start_time": "2022-11-28T14:17:44.051Z"
   },
   {
    "duration": 0,
    "start_time": "2022-11-28T14:17:44.052Z"
   },
   {
    "duration": 0,
    "start_time": "2022-11-28T14:17:44.053Z"
   },
   {
    "duration": 0,
    "start_time": "2022-11-28T14:17:44.055Z"
   },
   {
    "duration": 0,
    "start_time": "2022-11-28T14:17:44.056Z"
   },
   {
    "duration": 0,
    "start_time": "2022-11-28T14:17:44.057Z"
   },
   {
    "duration": 0,
    "start_time": "2022-11-28T14:17:44.058Z"
   },
   {
    "duration": 0,
    "start_time": "2022-11-28T14:17:44.059Z"
   },
   {
    "duration": 0,
    "start_time": "2022-11-28T14:17:44.060Z"
   },
   {
    "duration": 0,
    "start_time": "2022-11-28T14:17:44.061Z"
   },
   {
    "duration": 0,
    "start_time": "2022-11-28T14:17:44.062Z"
   },
   {
    "duration": 0,
    "start_time": "2022-11-28T14:17:44.064Z"
   },
   {
    "duration": 0,
    "start_time": "2022-11-28T14:17:44.097Z"
   },
   {
    "duration": 0,
    "start_time": "2022-11-28T14:17:44.098Z"
   },
   {
    "duration": 0,
    "start_time": "2022-11-28T14:17:44.099Z"
   },
   {
    "duration": 1098,
    "start_time": "2022-11-28T14:17:54.170Z"
   },
   {
    "duration": 28,
    "start_time": "2022-11-28T14:17:55.270Z"
   },
   {
    "duration": 12,
    "start_time": "2022-11-28T14:17:55.300Z"
   },
   {
    "duration": 10,
    "start_time": "2022-11-28T14:17:55.314Z"
   },
   {
    "duration": 7,
    "start_time": "2022-11-28T14:17:55.326Z"
   },
   {
    "duration": 12,
    "start_time": "2022-11-28T14:17:55.334Z"
   },
   {
    "duration": 11,
    "start_time": "2022-11-28T14:17:55.348Z"
   },
   {
    "duration": 15,
    "start_time": "2022-11-28T14:17:55.361Z"
   },
   {
    "duration": 61,
    "start_time": "2022-11-28T14:17:55.378Z"
   },
   {
    "duration": 8,
    "start_time": "2022-11-28T14:17:55.442Z"
   },
   {
    "duration": 45,
    "start_time": "2022-11-28T14:17:55.451Z"
   },
   {
    "duration": 17,
    "start_time": "2022-11-28T14:17:55.497Z"
   },
   {
    "duration": 8,
    "start_time": "2022-11-28T14:17:55.515Z"
   },
   {
    "duration": 15,
    "start_time": "2022-11-28T14:17:55.524Z"
   },
   {
    "duration": 7,
    "start_time": "2022-11-28T14:17:55.540Z"
   },
   {
    "duration": 12,
    "start_time": "2022-11-28T14:17:55.548Z"
   },
   {
    "duration": 10,
    "start_time": "2022-11-28T14:17:55.561Z"
   },
   {
    "duration": 7,
    "start_time": "2022-11-28T14:17:55.596Z"
   },
   {
    "duration": 16,
    "start_time": "2022-11-28T14:17:55.605Z"
   },
   {
    "duration": 10,
    "start_time": "2022-11-28T14:17:55.623Z"
   },
   {
    "duration": 14,
    "start_time": "2022-11-28T14:17:55.634Z"
   },
   {
    "duration": 12,
    "start_time": "2022-11-28T14:17:55.649Z"
   },
   {
    "duration": 12,
    "start_time": "2022-11-28T14:17:55.662Z"
   },
   {
    "duration": 20,
    "start_time": "2022-11-28T14:17:55.676Z"
   },
   {
    "duration": 168,
    "start_time": "2022-11-28T14:17:55.697Z"
   },
   {
    "duration": 152,
    "start_time": "2022-11-28T14:17:55.867Z"
   },
   {
    "duration": 9,
    "start_time": "2022-11-28T14:17:56.021Z"
   },
   {
    "duration": 28,
    "start_time": "2022-11-28T14:17:56.035Z"
   },
   {
    "duration": 21,
    "start_time": "2022-11-28T14:17:56.065Z"
   },
   {
    "duration": 17,
    "start_time": "2022-11-28T14:17:56.088Z"
   },
   {
    "duration": 310,
    "start_time": "2022-11-28T14:17:56.107Z"
   },
   {
    "duration": 12,
    "start_time": "2022-11-28T14:17:56.418Z"
   },
   {
    "duration": 6,
    "start_time": "2022-11-28T14:17:56.432Z"
   },
   {
    "duration": 220,
    "start_time": "2022-11-28T14:17:56.440Z"
   },
   {
    "duration": 300,
    "start_time": "2022-11-28T14:17:56.662Z"
   },
   {
    "duration": 216,
    "start_time": "2022-11-28T14:17:56.963Z"
   },
   {
    "duration": 299,
    "start_time": "2022-11-28T14:17:57.181Z"
   },
   {
    "duration": 8,
    "start_time": "2022-11-28T14:17:57.482Z"
   },
   {
    "duration": 9,
    "start_time": "2022-11-28T14:17:57.497Z"
   },
   {
    "duration": 3,
    "start_time": "2022-11-28T14:17:57.508Z"
   },
   {
    "duration": 9,
    "start_time": "2022-11-28T14:17:57.513Z"
   },
   {
    "duration": 172,
    "start_time": "2022-11-28T14:17:57.524Z"
   },
   {
    "duration": 5,
    "start_time": "2022-11-28T14:17:57.698Z"
   },
   {
    "duration": 7,
    "start_time": "2022-11-28T14:17:57.705Z"
   },
   {
    "duration": 11,
    "start_time": "2022-11-28T14:17:57.714Z"
   },
   {
    "duration": 8,
    "start_time": "2022-11-28T14:17:57.726Z"
   },
   {
    "duration": 22,
    "start_time": "2022-11-28T14:17:57.735Z"
   },
   {
    "duration": 174,
    "start_time": "2022-11-28T14:17:57.759Z"
   },
   {
    "duration": 216,
    "start_time": "2022-11-28T14:17:57.935Z"
   },
   {
    "duration": 5,
    "start_time": "2022-11-28T14:17:58.153Z"
   },
   {
    "duration": 7,
    "start_time": "2022-11-28T14:17:58.160Z"
   },
   {
    "duration": 29,
    "start_time": "2022-11-28T14:17:58.169Z"
   },
   {
    "duration": 18,
    "start_time": "2022-11-28T14:17:58.200Z"
   },
   {
    "duration": 218,
    "start_time": "2022-11-28T14:17:58.220Z"
   },
   {
    "duration": 10,
    "start_time": "2022-11-28T14:17:58.440Z"
   },
   {
    "duration": 176,
    "start_time": "2022-11-28T14:17:58.452Z"
   },
   {
    "duration": 11,
    "start_time": "2022-11-28T14:17:58.631Z"
   },
   {
    "duration": 10,
    "start_time": "2022-11-28T14:17:58.644Z"
   },
   {
    "duration": 45,
    "start_time": "2022-11-28T14:17:58.656Z"
   },
   {
    "duration": 18,
    "start_time": "2022-11-28T14:17:58.703Z"
   },
   {
    "duration": 18,
    "start_time": "2022-11-28T14:32:05.247Z"
   },
   {
    "duration": 19,
    "start_time": "2022-11-28T14:32:24.629Z"
   },
   {
    "duration": 13,
    "start_time": "2022-11-28T14:32:44.160Z"
   },
   {
    "duration": 14,
    "start_time": "2022-11-28T14:34:19.195Z"
   },
   {
    "duration": 89,
    "start_time": "2022-11-28T14:34:45.182Z"
   },
   {
    "duration": 7,
    "start_time": "2022-11-28T14:34:50.751Z"
   },
   {
    "duration": 6,
    "start_time": "2022-11-28T14:35:53.713Z"
   },
   {
    "duration": 13,
    "start_time": "2022-11-28T14:35:59.479Z"
   },
   {
    "duration": 8,
    "start_time": "2022-11-28T14:36:05.384Z"
   },
   {
    "duration": 6,
    "start_time": "2022-11-28T14:36:22.472Z"
   },
   {
    "duration": 15,
    "start_time": "2022-11-28T14:36:29.987Z"
   },
   {
    "duration": 67,
    "start_time": "2022-11-28T14:45:40.442Z"
   },
   {
    "duration": 1127,
    "start_time": "2022-11-28T15:09:31.851Z"
   },
   {
    "duration": 29,
    "start_time": "2022-11-28T15:09:32.980Z"
   },
   {
    "duration": 14,
    "start_time": "2022-11-28T15:09:33.011Z"
   },
   {
    "duration": 32,
    "start_time": "2022-11-28T15:09:33.027Z"
   },
   {
    "duration": 18,
    "start_time": "2022-11-28T15:09:33.061Z"
   },
   {
    "duration": 17,
    "start_time": "2022-11-28T15:09:33.081Z"
   },
   {
    "duration": 11,
    "start_time": "2022-11-28T15:09:33.100Z"
   },
   {
    "duration": 8,
    "start_time": "2022-11-28T15:09:33.113Z"
   },
   {
    "duration": 75,
    "start_time": "2022-11-28T15:09:33.123Z"
   },
   {
    "duration": 10,
    "start_time": "2022-11-28T15:09:33.200Z"
   },
   {
    "duration": 44,
    "start_time": "2022-11-28T15:09:33.211Z"
   },
   {
    "duration": 16,
    "start_time": "2022-11-28T15:09:33.257Z"
   },
   {
    "duration": 8,
    "start_time": "2022-11-28T15:09:33.274Z"
   },
   {
    "duration": 19,
    "start_time": "2022-11-28T15:09:33.287Z"
   },
   {
    "duration": 9,
    "start_time": "2022-11-28T15:09:33.307Z"
   },
   {
    "duration": 15,
    "start_time": "2022-11-28T15:09:33.317Z"
   },
   {
    "duration": 111,
    "start_time": "2022-11-28T15:09:33.334Z"
   },
   {
    "duration": 12,
    "start_time": "2022-11-28T15:09:33.447Z"
   },
   {
    "duration": 16,
    "start_time": "2022-11-28T15:09:33.461Z"
   },
   {
    "duration": 6,
    "start_time": "2022-11-28T15:09:33.478Z"
   },
   {
    "duration": 14,
    "start_time": "2022-11-28T15:09:33.486Z"
   },
   {
    "duration": 18,
    "start_time": "2022-11-28T15:09:33.502Z"
   },
   {
    "duration": 14,
    "start_time": "2022-11-28T15:09:33.522Z"
   },
   {
    "duration": 17,
    "start_time": "2022-11-28T15:09:33.538Z"
   },
   {
    "duration": 170,
    "start_time": "2022-11-28T15:09:33.557Z"
   },
   {
    "duration": 148,
    "start_time": "2022-11-28T15:09:33.729Z"
   },
   {
    "duration": 7,
    "start_time": "2022-11-28T15:09:33.879Z"
   },
   {
    "duration": 11,
    "start_time": "2022-11-28T15:09:33.898Z"
   },
   {
    "duration": 23,
    "start_time": "2022-11-28T15:09:33.911Z"
   },
   {
    "duration": 21,
    "start_time": "2022-11-28T15:09:33.936Z"
   },
   {
    "duration": 310,
    "start_time": "2022-11-28T15:09:33.959Z"
   },
   {
    "duration": 12,
    "start_time": "2022-11-28T15:09:34.271Z"
   },
   {
    "duration": 19,
    "start_time": "2022-11-28T15:09:34.285Z"
   },
   {
    "duration": 210,
    "start_time": "2022-11-28T15:09:34.306Z"
   },
   {
    "duration": 314,
    "start_time": "2022-11-28T15:09:34.518Z"
   },
   {
    "duration": 246,
    "start_time": "2022-11-28T15:09:34.835Z"
   },
   {
    "duration": 339,
    "start_time": "2022-11-28T15:09:35.083Z"
   },
   {
    "duration": 9,
    "start_time": "2022-11-28T15:09:35.424Z"
   },
   {
    "duration": 22,
    "start_time": "2022-11-28T15:09:35.434Z"
   },
   {
    "duration": 18,
    "start_time": "2022-11-28T15:09:35.458Z"
   },
   {
    "duration": 31,
    "start_time": "2022-11-28T15:09:35.480Z"
   },
   {
    "duration": 137,
    "start_time": "2022-11-28T15:09:35.513Z"
   },
   {
    "duration": 5,
    "start_time": "2022-11-28T15:09:35.651Z"
   },
   {
    "duration": 7,
    "start_time": "2022-11-28T15:09:35.658Z"
   },
   {
    "duration": 9,
    "start_time": "2022-11-28T15:09:35.667Z"
   },
   {
    "duration": 5,
    "start_time": "2022-11-28T15:09:35.677Z"
   },
   {
    "duration": 19,
    "start_time": "2022-11-28T15:09:35.684Z"
   },
   {
    "duration": 295,
    "start_time": "2022-11-28T15:09:35.705Z"
   },
   {
    "duration": 274,
    "start_time": "2022-11-28T15:09:36.002Z"
   },
   {
    "duration": 8,
    "start_time": "2022-11-28T15:09:36.278Z"
   },
   {
    "duration": 28,
    "start_time": "2022-11-28T15:09:36.297Z"
   },
   {
    "duration": 15,
    "start_time": "2022-11-28T15:09:36.328Z"
   },
   {
    "duration": 19,
    "start_time": "2022-11-28T15:09:36.345Z"
   },
   {
    "duration": 223,
    "start_time": "2022-11-28T15:09:36.365Z"
   },
   {
    "duration": 14,
    "start_time": "2022-11-28T15:09:36.590Z"
   },
   {
    "duration": 13,
    "start_time": "2022-11-28T15:09:36.606Z"
   },
   {
    "duration": 10,
    "start_time": "2022-11-28T15:09:36.620Z"
   },
   {
    "duration": 9,
    "start_time": "2022-11-28T15:09:36.633Z"
   },
   {
    "duration": 16,
    "start_time": "2022-11-28T15:09:36.644Z"
   },
   {
    "duration": 37,
    "start_time": "2022-11-28T15:09:36.661Z"
   },
   {
    "duration": 12,
    "start_time": "2022-11-28T15:09:36.699Z"
   },
   {
    "duration": 34,
    "start_time": "2022-11-28T15:09:36.713Z"
   },
   {
    "duration": 19,
    "start_time": "2022-11-28T15:09:36.749Z"
   },
   {
    "duration": 178,
    "start_time": "2022-11-28T15:09:36.770Z"
   },
   {
    "duration": 12,
    "start_time": "2022-11-28T15:09:36.950Z"
   },
   {
    "duration": 20,
    "start_time": "2022-11-28T15:09:36.963Z"
   },
   {
    "duration": 49,
    "start_time": "2022-11-28T15:09:36.984Z"
   },
   {
    "duration": 14,
    "start_time": "2022-11-28T15:09:37.035Z"
   },
   {
    "duration": 8,
    "start_time": "2022-11-28T15:10:52.194Z"
   },
   {
    "duration": 1151,
    "start_time": "2022-11-28T15:14:07.109Z"
   },
   {
    "duration": 28,
    "start_time": "2022-11-28T15:14:08.262Z"
   },
   {
    "duration": 17,
    "start_time": "2022-11-28T15:14:08.291Z"
   },
   {
    "duration": 16,
    "start_time": "2022-11-28T15:14:08.310Z"
   },
   {
    "duration": 11,
    "start_time": "2022-11-28T15:14:08.327Z"
   },
   {
    "duration": 16,
    "start_time": "2022-11-28T15:14:08.339Z"
   },
   {
    "duration": 12,
    "start_time": "2022-11-28T15:14:08.356Z"
   },
   {
    "duration": 6,
    "start_time": "2022-11-28T15:14:08.370Z"
   },
   {
    "duration": 69,
    "start_time": "2022-11-28T15:14:08.377Z"
   },
   {
    "duration": 9,
    "start_time": "2022-11-28T15:14:08.449Z"
   },
   {
    "duration": 52,
    "start_time": "2022-11-28T15:14:08.459Z"
   },
   {
    "duration": 16,
    "start_time": "2022-11-28T15:14:08.513Z"
   },
   {
    "duration": 7,
    "start_time": "2022-11-28T15:14:08.531Z"
   },
   {
    "duration": 16,
    "start_time": "2022-11-28T15:14:08.540Z"
   },
   {
    "duration": 28,
    "start_time": "2022-11-28T15:14:08.558Z"
   },
   {
    "duration": 35,
    "start_time": "2022-11-28T15:14:08.587Z"
   },
   {
    "duration": 17,
    "start_time": "2022-11-28T15:14:08.623Z"
   },
   {
    "duration": 42,
    "start_time": "2022-11-28T15:14:08.642Z"
   },
   {
    "duration": 23,
    "start_time": "2022-11-28T15:14:08.686Z"
   },
   {
    "duration": 28,
    "start_time": "2022-11-28T15:14:08.712Z"
   },
   {
    "duration": 38,
    "start_time": "2022-11-28T15:14:08.741Z"
   },
   {
    "duration": 35,
    "start_time": "2022-11-28T15:14:08.781Z"
   },
   {
    "duration": 31,
    "start_time": "2022-11-28T15:14:08.818Z"
   },
   {
    "duration": 21,
    "start_time": "2022-11-28T15:14:08.850Z"
   },
   {
    "duration": 199,
    "start_time": "2022-11-28T15:14:08.873Z"
   },
   {
    "duration": 142,
    "start_time": "2022-11-28T15:14:09.073Z"
   },
   {
    "duration": 6,
    "start_time": "2022-11-28T15:14:09.217Z"
   },
   {
    "duration": 31,
    "start_time": "2022-11-28T15:14:09.226Z"
   },
   {
    "duration": 37,
    "start_time": "2022-11-28T15:14:09.259Z"
   },
   {
    "duration": 18,
    "start_time": "2022-11-28T15:14:09.299Z"
   },
   {
    "duration": 313,
    "start_time": "2022-11-28T15:14:09.319Z"
   },
   {
    "duration": 11,
    "start_time": "2022-11-28T15:14:09.634Z"
   },
   {
    "duration": 41,
    "start_time": "2022-11-28T15:14:09.647Z"
   },
   {
    "duration": 256,
    "start_time": "2022-11-28T15:14:09.689Z"
   },
   {
    "duration": 291,
    "start_time": "2022-11-28T15:14:09.947Z"
   },
   {
    "duration": 250,
    "start_time": "2022-11-28T15:14:10.239Z"
   },
   {
    "duration": 328,
    "start_time": "2022-11-28T15:14:10.492Z"
   },
   {
    "duration": 9,
    "start_time": "2022-11-28T15:14:10.821Z"
   },
   {
    "duration": 32,
    "start_time": "2022-11-28T15:14:10.831Z"
   },
   {
    "duration": 61,
    "start_time": "2022-11-28T15:14:10.865Z"
   },
   {
    "duration": 34,
    "start_time": "2022-11-28T15:14:10.928Z"
   },
   {
    "duration": 168,
    "start_time": "2022-11-28T15:14:10.963Z"
   },
   {
    "duration": 5,
    "start_time": "2022-11-28T15:14:11.133Z"
   },
   {
    "duration": 39,
    "start_time": "2022-11-28T15:14:11.140Z"
   },
   {
    "duration": 35,
    "start_time": "2022-11-28T15:14:11.181Z"
   },
   {
    "duration": 30,
    "start_time": "2022-11-28T15:14:11.217Z"
   },
   {
    "duration": 25,
    "start_time": "2022-11-28T15:14:11.249Z"
   },
   {
    "duration": 178,
    "start_time": "2022-11-28T15:14:11.276Z"
   },
   {
    "duration": 232,
    "start_time": "2022-11-28T15:14:11.456Z"
   },
   {
    "duration": 9,
    "start_time": "2022-11-28T15:14:11.690Z"
   },
   {
    "duration": 45,
    "start_time": "2022-11-28T15:14:11.701Z"
   },
   {
    "duration": 37,
    "start_time": "2022-11-28T15:14:11.748Z"
   },
   {
    "duration": 29,
    "start_time": "2022-11-28T15:14:11.787Z"
   },
   {
    "duration": 248,
    "start_time": "2022-11-28T15:14:11.817Z"
   },
   {
    "duration": 18,
    "start_time": "2022-11-28T15:14:12.067Z"
   },
   {
    "duration": 34,
    "start_time": "2022-11-28T15:14:12.087Z"
   },
   {
    "duration": 200,
    "start_time": "2022-11-28T15:14:12.123Z"
   },
   {
    "duration": 11,
    "start_time": "2022-11-28T15:14:12.325Z"
   },
   {
    "duration": 25,
    "start_time": "2022-11-28T15:14:12.338Z"
   },
   {
    "duration": 44,
    "start_time": "2022-11-28T15:14:12.365Z"
   },
   {
    "duration": 13,
    "start_time": "2022-11-28T15:14:12.412Z"
   },
   {
    "duration": 3,
    "start_time": "2022-11-28T15:31:14.289Z"
   },
   {
    "duration": 57,
    "start_time": "2022-11-28T15:34:01.196Z"
   },
   {
    "duration": 1149,
    "start_time": "2022-11-28T21:51:08.381Z"
   },
   {
    "duration": 30,
    "start_time": "2022-11-28T21:51:09.532Z"
   },
   {
    "duration": 15,
    "start_time": "2022-11-28T21:51:09.564Z"
   },
   {
    "duration": 30,
    "start_time": "2022-11-28T21:51:09.582Z"
   },
   {
    "duration": 32,
    "start_time": "2022-11-28T21:51:09.615Z"
   },
   {
    "duration": 20,
    "start_time": "2022-11-28T21:51:09.648Z"
   },
   {
    "duration": 25,
    "start_time": "2022-11-28T21:51:09.670Z"
   },
   {
    "duration": 22,
    "start_time": "2022-11-28T21:51:09.698Z"
   },
   {
    "duration": 74,
    "start_time": "2022-11-28T21:51:09.722Z"
   },
   {
    "duration": 11,
    "start_time": "2022-11-28T21:51:09.799Z"
   },
   {
    "duration": 50,
    "start_time": "2022-11-28T21:51:09.812Z"
   },
   {
    "duration": 17,
    "start_time": "2022-11-28T21:51:09.864Z"
   },
   {
    "duration": 9,
    "start_time": "2022-11-28T21:51:09.882Z"
   },
   {
    "duration": 13,
    "start_time": "2022-11-28T21:51:09.893Z"
   },
   {
    "duration": 24,
    "start_time": "2022-11-28T21:51:09.908Z"
   },
   {
    "duration": 29,
    "start_time": "2022-11-28T21:51:09.934Z"
   },
   {
    "duration": 11,
    "start_time": "2022-11-28T21:51:09.965Z"
   },
   {
    "duration": 25,
    "start_time": "2022-11-28T21:51:09.977Z"
   },
   {
    "duration": 28,
    "start_time": "2022-11-28T21:51:10.004Z"
   },
   {
    "duration": 14,
    "start_time": "2022-11-28T21:51:10.034Z"
   },
   {
    "duration": 26,
    "start_time": "2022-11-28T21:51:10.050Z"
   },
   {
    "duration": 39,
    "start_time": "2022-11-28T21:51:10.078Z"
   },
   {
    "duration": 24,
    "start_time": "2022-11-28T21:51:10.119Z"
   },
   {
    "duration": 22,
    "start_time": "2022-11-28T21:51:10.144Z"
   },
   {
    "duration": 188,
    "start_time": "2022-11-28T21:51:10.168Z"
   },
   {
    "duration": 141,
    "start_time": "2022-11-28T21:51:10.358Z"
   },
   {
    "duration": 15,
    "start_time": "2022-11-28T21:51:10.501Z"
   },
   {
    "duration": 18,
    "start_time": "2022-11-28T21:51:10.520Z"
   },
   {
    "duration": 37,
    "start_time": "2022-11-28T21:51:10.540Z"
   },
   {
    "duration": 24,
    "start_time": "2022-11-28T21:51:10.579Z"
   },
   {
    "duration": 307,
    "start_time": "2022-11-28T21:51:10.605Z"
   },
   {
    "duration": 12,
    "start_time": "2022-11-28T21:51:10.915Z"
   },
   {
    "duration": 28,
    "start_time": "2022-11-28T21:51:10.929Z"
   },
   {
    "duration": 210,
    "start_time": "2022-11-28T21:51:10.960Z"
   },
   {
    "duration": 302,
    "start_time": "2022-11-28T21:51:11.172Z"
   },
   {
    "duration": 231,
    "start_time": "2022-11-28T21:51:11.475Z"
   },
   {
    "duration": 322,
    "start_time": "2022-11-28T21:51:11.712Z"
   },
   {
    "duration": 9,
    "start_time": "2022-11-28T21:51:12.036Z"
   },
   {
    "duration": 15,
    "start_time": "2022-11-28T21:51:12.047Z"
   },
   {
    "duration": 12,
    "start_time": "2022-11-28T21:51:12.063Z"
   },
   {
    "duration": 11,
    "start_time": "2022-11-28T21:51:12.077Z"
   },
   {
    "duration": 159,
    "start_time": "2022-11-28T21:51:12.089Z"
   },
   {
    "duration": 5,
    "start_time": "2022-11-28T21:51:12.250Z"
   },
   {
    "duration": 19,
    "start_time": "2022-11-28T21:51:12.257Z"
   },
   {
    "duration": 48,
    "start_time": "2022-11-28T21:51:12.278Z"
   },
   {
    "duration": 28,
    "start_time": "2022-11-28T21:51:12.328Z"
   },
   {
    "duration": 30,
    "start_time": "2022-11-28T21:51:12.358Z"
   },
   {
    "duration": 164,
    "start_time": "2022-11-28T21:51:12.390Z"
   },
   {
    "duration": 233,
    "start_time": "2022-11-28T21:51:12.556Z"
   },
   {
    "duration": 5,
    "start_time": "2022-11-28T21:51:12.791Z"
   },
   {
    "duration": 18,
    "start_time": "2022-11-28T21:51:12.798Z"
   },
   {
    "duration": 16,
    "start_time": "2022-11-28T21:51:12.817Z"
   },
   {
    "duration": 12,
    "start_time": "2022-11-28T21:51:12.835Z"
   },
   {
    "duration": 215,
    "start_time": "2022-11-28T21:51:12.849Z"
   },
   {
    "duration": 169,
    "start_time": "2022-11-28T21:51:13.066Z"
   },
   {
    "duration": 11,
    "start_time": "2022-11-28T21:51:13.237Z"
   },
   {
    "duration": 17,
    "start_time": "2022-11-28T21:51:13.249Z"
   },
   {
    "duration": 44,
    "start_time": "2022-11-28T21:51:13.269Z"
   },
   {
    "duration": 15,
    "start_time": "2022-11-28T21:51:13.314Z"
   },
   {
    "duration": 14,
    "start_time": "2022-11-28T22:00:05.252Z"
   },
   {
    "duration": 99,
    "start_time": "2022-11-28T22:00:20.452Z"
   },
   {
    "duration": 7,
    "start_time": "2022-11-28T22:00:45.063Z"
   },
   {
    "duration": 57,
    "start_time": "2022-11-29T12:59:52.641Z"
   },
   {
    "duration": 1331,
    "start_time": "2022-11-29T12:59:57.301Z"
   },
   {
    "duration": 75,
    "start_time": "2022-11-29T12:59:58.634Z"
   },
   {
    "duration": 12,
    "start_time": "2022-11-29T12:59:58.711Z"
   },
   {
    "duration": 18,
    "start_time": "2022-11-29T12:59:58.725Z"
   },
   {
    "duration": 15,
    "start_time": "2022-11-29T12:59:58.744Z"
   },
   {
    "duration": 16,
    "start_time": "2022-11-29T12:59:58.760Z"
   },
   {
    "duration": 17,
    "start_time": "2022-11-29T12:59:58.777Z"
   },
   {
    "duration": 9,
    "start_time": "2022-11-29T12:59:58.795Z"
   },
   {
    "duration": 46,
    "start_time": "2022-11-29T12:59:58.806Z"
   },
   {
    "duration": 25,
    "start_time": "2022-11-29T12:59:58.854Z"
   },
   {
    "duration": 114,
    "start_time": "2022-11-29T12:59:58.881Z"
   },
   {
    "duration": 58,
    "start_time": "2022-11-29T12:59:58.997Z"
   },
   {
    "duration": 8,
    "start_time": "2022-11-29T12:59:59.057Z"
   },
   {
    "duration": 15,
    "start_time": "2022-11-29T12:59:59.066Z"
   },
   {
    "duration": 10,
    "start_time": "2022-11-29T12:59:59.083Z"
   },
   {
    "duration": 24,
    "start_time": "2022-11-29T12:59:59.095Z"
   },
   {
    "duration": 5,
    "start_time": "2022-11-29T12:59:59.121Z"
   },
   {
    "duration": 14,
    "start_time": "2022-11-29T12:59:59.128Z"
   },
   {
    "duration": 34,
    "start_time": "2022-11-29T12:59:59.144Z"
   },
   {
    "duration": 10,
    "start_time": "2022-11-29T12:59:59.180Z"
   },
   {
    "duration": 22,
    "start_time": "2022-11-29T12:59:59.192Z"
   },
   {
    "duration": 7,
    "start_time": "2022-11-29T12:59:59.216Z"
   },
   {
    "duration": 13,
    "start_time": "2022-11-29T12:59:59.224Z"
   },
   {
    "duration": 15,
    "start_time": "2022-11-29T12:59:59.238Z"
   },
   {
    "duration": 31,
    "start_time": "2022-11-29T12:59:59.254Z"
   },
   {
    "duration": 7,
    "start_time": "2022-11-29T12:59:59.287Z"
   },
   {
    "duration": 173,
    "start_time": "2022-11-29T12:59:59.295Z"
   },
   {
    "duration": 146,
    "start_time": "2022-11-29T12:59:59.471Z"
   },
   {
    "duration": 8,
    "start_time": "2022-11-29T12:59:59.619Z"
   },
   {
    "duration": 10,
    "start_time": "2022-11-29T12:59:59.629Z"
   },
   {
    "duration": 7,
    "start_time": "2022-11-29T12:59:59.641Z"
   },
   {
    "duration": 10,
    "start_time": "2022-11-29T12:59:59.649Z"
   },
   {
    "duration": 269,
    "start_time": "2022-11-29T12:59:59.661Z"
   },
   {
    "duration": 11,
    "start_time": "2022-11-29T12:59:59.932Z"
   },
   {
    "duration": 8,
    "start_time": "2022-11-29T12:59:59.944Z"
   },
   {
    "duration": 200,
    "start_time": "2022-11-29T12:59:59.953Z"
   },
   {
    "duration": 384,
    "start_time": "2022-11-29T13:00:00.155Z"
   },
   {
    "duration": 209,
    "start_time": "2022-11-29T13:00:00.540Z"
   },
   {
    "duration": 338,
    "start_time": "2022-11-29T13:00:00.751Z"
   },
   {
    "duration": 9,
    "start_time": "2022-11-29T13:00:01.090Z"
   },
   {
    "duration": 18,
    "start_time": "2022-11-29T13:00:01.101Z"
   },
   {
    "duration": 14,
    "start_time": "2022-11-29T13:00:01.121Z"
   },
   {
    "duration": 16,
    "start_time": "2022-11-29T13:00:01.137Z"
   },
   {
    "duration": 174,
    "start_time": "2022-11-29T13:00:01.154Z"
   },
   {
    "duration": 6,
    "start_time": "2022-11-29T13:00:01.329Z"
   },
   {
    "duration": 33,
    "start_time": "2022-11-29T13:00:01.336Z"
   },
   {
    "duration": 34,
    "start_time": "2022-11-29T13:00:01.370Z"
   },
   {
    "duration": 28,
    "start_time": "2022-11-29T13:00:01.406Z"
   },
   {
    "duration": 28,
    "start_time": "2022-11-29T13:00:01.436Z"
   },
   {
    "duration": 190,
    "start_time": "2022-11-29T13:00:01.466Z"
   },
   {
    "duration": 205,
    "start_time": "2022-11-29T13:00:01.657Z"
   },
   {
    "duration": 5,
    "start_time": "2022-11-29T13:00:01.863Z"
   },
   {
    "duration": 17,
    "start_time": "2022-11-29T13:00:01.878Z"
   },
   {
    "duration": 16,
    "start_time": "2022-11-29T13:00:01.897Z"
   },
   {
    "duration": 15,
    "start_time": "2022-11-29T13:00:01.915Z"
   },
   {
    "duration": 211,
    "start_time": "2022-11-29T13:00:01.932Z"
   },
   {
    "duration": 149,
    "start_time": "2022-11-29T13:00:02.144Z"
   },
   {
    "duration": 10,
    "start_time": "2022-11-29T13:00:02.295Z"
   },
   {
    "duration": 30,
    "start_time": "2022-11-29T13:00:02.307Z"
   },
   {
    "duration": 49,
    "start_time": "2022-11-29T13:00:02.338Z"
   },
   {
    "duration": 13,
    "start_time": "2022-11-29T13:00:02.389Z"
   },
   {
    "duration": 24,
    "start_time": "2022-11-29T13:00:57.478Z"
   },
   {
    "duration": 15,
    "start_time": "2022-11-29T13:01:15.885Z"
   },
   {
    "duration": 88,
    "start_time": "2022-11-29T13:01:25.453Z"
   },
   {
    "duration": 11,
    "start_time": "2022-11-29T13:01:31.426Z"
   },
   {
    "duration": 14,
    "start_time": "2022-11-29T13:02:01.726Z"
   },
   {
    "duration": 9,
    "start_time": "2022-11-29T13:03:17.417Z"
   },
   {
    "duration": 9,
    "start_time": "2022-11-29T13:03:19.848Z"
   },
   {
    "duration": 5,
    "start_time": "2022-11-29T13:03:24.888Z"
   },
   {
    "duration": 13,
    "start_time": "2022-11-29T13:03:25.605Z"
   },
   {
    "duration": 12,
    "start_time": "2022-11-29T13:03:49.250Z"
   },
   {
    "duration": 10,
    "start_time": "2022-11-29T13:06:25.423Z"
   },
   {
    "duration": 14,
    "start_time": "2022-11-29T13:06:50.815Z"
   },
   {
    "duration": 16,
    "start_time": "2022-11-29T13:07:09.063Z"
   },
   {
    "duration": 13,
    "start_time": "2022-11-29T13:07:20.158Z"
   },
   {
    "duration": 8,
    "start_time": "2022-11-29T13:13:00.932Z"
   },
   {
    "duration": 92,
    "start_time": "2022-11-29T13:13:09.759Z"
   },
   {
    "duration": 5,
    "start_time": "2022-11-29T13:13:17.731Z"
   },
   {
    "duration": 9,
    "start_time": "2022-11-29T13:13:18.537Z"
   },
   {
    "duration": 13,
    "start_time": "2022-11-29T13:13:24.083Z"
   },
   {
    "duration": 4,
    "start_time": "2022-11-29T13:14:17.130Z"
   },
   {
    "duration": 3,
    "start_time": "2022-11-29T13:14:51.710Z"
   },
   {
    "duration": 4,
    "start_time": "2022-11-29T13:15:00.207Z"
   },
   {
    "duration": 25,
    "start_time": "2022-11-29T13:15:42.394Z"
   },
   {
    "duration": 6,
    "start_time": "2022-11-29T13:15:42.899Z"
   },
   {
    "duration": 11,
    "start_time": "2022-11-29T13:16:42.190Z"
   },
   {
    "duration": 28,
    "start_time": "2022-11-29T13:16:45.354Z"
   },
   {
    "duration": 3,
    "start_time": "2022-11-29T13:16:56.509Z"
   },
   {
    "duration": 8,
    "start_time": "2022-11-29T13:16:56.979Z"
   },
   {
    "duration": 26,
    "start_time": "2022-11-29T13:16:59.794Z"
   },
   {
    "duration": 6,
    "start_time": "2022-11-29T13:17:00.084Z"
   },
   {
    "duration": 891,
    "start_time": "2022-11-29T13:18:32.062Z"
   },
   {
    "duration": 6,
    "start_time": "2022-11-29T13:18:45.515Z"
   },
   {
    "duration": 24,
    "start_time": "2022-11-29T13:18:48.411Z"
   },
   {
    "duration": 10,
    "start_time": "2022-11-29T13:18:48.911Z"
   },
   {
    "duration": 12,
    "start_time": "2022-11-29T13:18:52.245Z"
   },
   {
    "duration": 23,
    "start_time": "2022-11-29T13:19:22.866Z"
   },
   {
    "duration": 1155,
    "start_time": "2022-11-29T13:19:30.462Z"
   },
   {
    "duration": 28,
    "start_time": "2022-11-29T13:19:31.619Z"
   },
   {
    "duration": 11,
    "start_time": "2022-11-29T13:19:31.648Z"
   },
   {
    "duration": 10,
    "start_time": "2022-11-29T13:19:31.661Z"
   },
   {
    "duration": 5,
    "start_time": "2022-11-29T13:19:31.673Z"
   },
   {
    "duration": 16,
    "start_time": "2022-11-29T13:19:31.680Z"
   },
   {
    "duration": 12,
    "start_time": "2022-11-29T13:19:31.699Z"
   },
   {
    "duration": 14,
    "start_time": "2022-11-29T13:19:31.712Z"
   },
   {
    "duration": 55,
    "start_time": "2022-11-29T13:19:31.727Z"
   },
   {
    "duration": 12,
    "start_time": "2022-11-29T13:19:31.785Z"
   },
   {
    "duration": 45,
    "start_time": "2022-11-29T13:19:31.801Z"
   },
   {
    "duration": 18,
    "start_time": "2022-11-29T13:19:31.848Z"
   },
   {
    "duration": 9,
    "start_time": "2022-11-29T13:19:31.867Z"
   },
   {
    "duration": 19,
    "start_time": "2022-11-29T13:19:31.877Z"
   },
   {
    "duration": 17,
    "start_time": "2022-11-29T13:19:31.898Z"
   },
   {
    "duration": 20,
    "start_time": "2022-11-29T13:19:31.917Z"
   },
   {
    "duration": 3,
    "start_time": "2022-11-29T13:19:31.940Z"
   },
   {
    "duration": 27,
    "start_time": "2022-11-29T13:19:31.944Z"
   },
   {
    "duration": 19,
    "start_time": "2022-11-29T13:19:31.973Z"
   },
   {
    "duration": 113,
    "start_time": "2022-11-29T13:19:31.994Z"
   },
   {
    "duration": 0,
    "start_time": "2022-11-29T13:19:32.109Z"
   },
   {
    "duration": 1,
    "start_time": "2022-11-29T13:19:32.110Z"
   },
   {
    "duration": 0,
    "start_time": "2022-11-29T13:19:32.111Z"
   },
   {
    "duration": 0,
    "start_time": "2022-11-29T13:19:32.112Z"
   },
   {
    "duration": 0,
    "start_time": "2022-11-29T13:19:32.113Z"
   },
   {
    "duration": 0,
    "start_time": "2022-11-29T13:19:32.115Z"
   },
   {
    "duration": 0,
    "start_time": "2022-11-29T13:19:32.115Z"
   },
   {
    "duration": 0,
    "start_time": "2022-11-29T13:19:32.116Z"
   },
   {
    "duration": 0,
    "start_time": "2022-11-29T13:19:32.117Z"
   },
   {
    "duration": 0,
    "start_time": "2022-11-29T13:19:32.118Z"
   },
   {
    "duration": 0,
    "start_time": "2022-11-29T13:19:32.119Z"
   },
   {
    "duration": 0,
    "start_time": "2022-11-29T13:19:32.119Z"
   },
   {
    "duration": 0,
    "start_time": "2022-11-29T13:19:32.120Z"
   },
   {
    "duration": 0,
    "start_time": "2022-11-29T13:19:32.121Z"
   },
   {
    "duration": 0,
    "start_time": "2022-11-29T13:19:32.122Z"
   },
   {
    "duration": 0,
    "start_time": "2022-11-29T13:19:32.123Z"
   },
   {
    "duration": 0,
    "start_time": "2022-11-29T13:19:32.124Z"
   },
   {
    "duration": 0,
    "start_time": "2022-11-29T13:19:32.125Z"
   },
   {
    "duration": 0,
    "start_time": "2022-11-29T13:19:32.126Z"
   },
   {
    "duration": 0,
    "start_time": "2022-11-29T13:19:32.127Z"
   },
   {
    "duration": 0,
    "start_time": "2022-11-29T13:19:32.127Z"
   },
   {
    "duration": 0,
    "start_time": "2022-11-29T13:19:32.128Z"
   },
   {
    "duration": 0,
    "start_time": "2022-11-29T13:19:32.129Z"
   },
   {
    "duration": 0,
    "start_time": "2022-11-29T13:19:32.130Z"
   },
   {
    "duration": 0,
    "start_time": "2022-11-29T13:19:32.131Z"
   },
   {
    "duration": 0,
    "start_time": "2022-11-29T13:19:32.132Z"
   },
   {
    "duration": 0,
    "start_time": "2022-11-29T13:19:32.133Z"
   },
   {
    "duration": 0,
    "start_time": "2022-11-29T13:19:32.133Z"
   },
   {
    "duration": 0,
    "start_time": "2022-11-29T13:19:32.134Z"
   },
   {
    "duration": 0,
    "start_time": "2022-11-29T13:19:32.135Z"
   },
   {
    "duration": 0,
    "start_time": "2022-11-29T13:19:32.177Z"
   },
   {
    "duration": 0,
    "start_time": "2022-11-29T13:19:32.179Z"
   },
   {
    "duration": 0,
    "start_time": "2022-11-29T13:19:32.180Z"
   },
   {
    "duration": 0,
    "start_time": "2022-11-29T13:19:32.181Z"
   },
   {
    "duration": 0,
    "start_time": "2022-11-29T13:19:32.182Z"
   },
   {
    "duration": 0,
    "start_time": "2022-11-29T13:19:32.183Z"
   },
   {
    "duration": 0,
    "start_time": "2022-11-29T13:19:32.185Z"
   },
   {
    "duration": 0,
    "start_time": "2022-11-29T13:19:32.186Z"
   },
   {
    "duration": 0,
    "start_time": "2022-11-29T13:19:32.187Z"
   },
   {
    "duration": 0,
    "start_time": "2022-11-29T13:19:32.188Z"
   },
   {
    "duration": 0,
    "start_time": "2022-11-29T13:19:32.188Z"
   },
   {
    "duration": 0,
    "start_time": "2022-11-29T13:19:32.189Z"
   },
   {
    "duration": 0,
    "start_time": "2022-11-29T13:19:32.190Z"
   },
   {
    "duration": 0,
    "start_time": "2022-11-29T13:19:32.191Z"
   },
   {
    "duration": 78,
    "start_time": "2022-11-29T13:20:15.539Z"
   },
   {
    "duration": 84,
    "start_time": "2022-11-29T13:20:20.226Z"
   },
   {
    "duration": 77,
    "start_time": "2022-11-29T13:20:34.379Z"
   },
   {
    "duration": 6,
    "start_time": "2022-11-29T13:20:38.233Z"
   },
   {
    "duration": 13,
    "start_time": "2022-11-29T13:20:51.414Z"
   },
   {
    "duration": 11,
    "start_time": "2022-11-29T13:21:09.666Z"
   },
   {
    "duration": 1040,
    "start_time": "2022-11-29T13:21:14.828Z"
   },
   {
    "duration": 30,
    "start_time": "2022-11-29T13:21:15.870Z"
   },
   {
    "duration": 21,
    "start_time": "2022-11-29T13:21:15.901Z"
   },
   {
    "duration": 12,
    "start_time": "2022-11-29T13:21:15.924Z"
   },
   {
    "duration": 9,
    "start_time": "2022-11-29T13:21:15.937Z"
   },
   {
    "duration": 12,
    "start_time": "2022-11-29T13:21:15.947Z"
   },
   {
    "duration": 10,
    "start_time": "2022-11-29T13:21:15.960Z"
   },
   {
    "duration": 7,
    "start_time": "2022-11-29T13:21:15.971Z"
   },
   {
    "duration": 56,
    "start_time": "2022-11-29T13:21:15.981Z"
   },
   {
    "duration": 9,
    "start_time": "2022-11-29T13:21:16.039Z"
   },
   {
    "duration": 59,
    "start_time": "2022-11-29T13:21:16.050Z"
   },
   {
    "duration": 16,
    "start_time": "2022-11-29T13:21:16.110Z"
   },
   {
    "duration": 7,
    "start_time": "2022-11-29T13:21:16.127Z"
   },
   {
    "duration": 14,
    "start_time": "2022-11-29T13:21:16.136Z"
   },
   {
    "duration": 7,
    "start_time": "2022-11-29T13:21:16.151Z"
   },
   {
    "duration": 14,
    "start_time": "2022-11-29T13:21:16.160Z"
   },
   {
    "duration": 13,
    "start_time": "2022-11-29T13:21:16.175Z"
   },
   {
    "duration": 38,
    "start_time": "2022-11-29T13:21:16.190Z"
   },
   {
    "duration": 12,
    "start_time": "2022-11-29T13:21:16.230Z"
   },
   {
    "duration": 100,
    "start_time": "2022-11-29T13:21:16.244Z"
   },
   {
    "duration": 0,
    "start_time": "2022-11-29T13:21:16.346Z"
   },
   {
    "duration": 0,
    "start_time": "2022-11-29T13:21:16.348Z"
   },
   {
    "duration": 0,
    "start_time": "2022-11-29T13:21:16.349Z"
   },
   {
    "duration": 0,
    "start_time": "2022-11-29T13:21:16.350Z"
   },
   {
    "duration": 0,
    "start_time": "2022-11-29T13:21:16.350Z"
   },
   {
    "duration": 0,
    "start_time": "2022-11-29T13:21:16.351Z"
   },
   {
    "duration": 0,
    "start_time": "2022-11-29T13:21:16.353Z"
   },
   {
    "duration": 0,
    "start_time": "2022-11-29T13:21:16.353Z"
   },
   {
    "duration": 0,
    "start_time": "2022-11-29T13:21:16.354Z"
   },
   {
    "duration": 0,
    "start_time": "2022-11-29T13:21:16.355Z"
   },
   {
    "duration": 0,
    "start_time": "2022-11-29T13:21:16.356Z"
   },
   {
    "duration": 0,
    "start_time": "2022-11-29T13:21:16.377Z"
   },
   {
    "duration": 0,
    "start_time": "2022-11-29T13:21:16.379Z"
   },
   {
    "duration": 0,
    "start_time": "2022-11-29T13:21:16.380Z"
   },
   {
    "duration": 0,
    "start_time": "2022-11-29T13:21:16.382Z"
   },
   {
    "duration": 0,
    "start_time": "2022-11-29T13:21:16.384Z"
   },
   {
    "duration": 0,
    "start_time": "2022-11-29T13:21:16.385Z"
   },
   {
    "duration": 0,
    "start_time": "2022-11-29T13:21:16.386Z"
   },
   {
    "duration": 0,
    "start_time": "2022-11-29T13:21:16.387Z"
   },
   {
    "duration": 0,
    "start_time": "2022-11-29T13:21:16.388Z"
   },
   {
    "duration": 0,
    "start_time": "2022-11-29T13:21:16.389Z"
   },
   {
    "duration": 0,
    "start_time": "2022-11-29T13:21:16.390Z"
   },
   {
    "duration": 0,
    "start_time": "2022-11-29T13:21:16.392Z"
   },
   {
    "duration": 0,
    "start_time": "2022-11-29T13:21:16.393Z"
   },
   {
    "duration": 0,
    "start_time": "2022-11-29T13:21:16.393Z"
   },
   {
    "duration": 0,
    "start_time": "2022-11-29T13:21:16.395Z"
   },
   {
    "duration": 0,
    "start_time": "2022-11-29T13:21:16.396Z"
   },
   {
    "duration": 0,
    "start_time": "2022-11-29T13:21:16.397Z"
   },
   {
    "duration": 0,
    "start_time": "2022-11-29T13:21:16.398Z"
   },
   {
    "duration": 0,
    "start_time": "2022-11-29T13:21:16.399Z"
   },
   {
    "duration": 0,
    "start_time": "2022-11-29T13:21:16.400Z"
   },
   {
    "duration": 0,
    "start_time": "2022-11-29T13:21:16.401Z"
   },
   {
    "duration": 0,
    "start_time": "2022-11-29T13:21:16.402Z"
   },
   {
    "duration": 0,
    "start_time": "2022-11-29T13:21:16.403Z"
   },
   {
    "duration": 0,
    "start_time": "2022-11-29T13:21:16.404Z"
   },
   {
    "duration": 0,
    "start_time": "2022-11-29T13:21:16.405Z"
   },
   {
    "duration": 0,
    "start_time": "2022-11-29T13:21:16.407Z"
   },
   {
    "duration": 0,
    "start_time": "2022-11-29T13:21:16.408Z"
   },
   {
    "duration": 0,
    "start_time": "2022-11-29T13:21:16.409Z"
   },
   {
    "duration": 0,
    "start_time": "2022-11-29T13:21:16.410Z"
   },
   {
    "duration": 0,
    "start_time": "2022-11-29T13:21:16.411Z"
   },
   {
    "duration": 0,
    "start_time": "2022-11-29T13:21:16.412Z"
   },
   {
    "duration": 0,
    "start_time": "2022-11-29T13:21:16.413Z"
   },
   {
    "duration": 0,
    "start_time": "2022-11-29T13:21:16.414Z"
   },
   {
    "duration": 17,
    "start_time": "2022-11-29T13:21:49.639Z"
   },
   {
    "duration": 7,
    "start_time": "2022-11-29T13:22:06.108Z"
   },
   {
    "duration": 12,
    "start_time": "2022-11-29T13:22:11.921Z"
   },
   {
    "duration": 7,
    "start_time": "2022-11-29T13:22:32.275Z"
   },
   {
    "duration": 8,
    "start_time": "2022-11-29T13:22:43.380Z"
   },
   {
    "duration": 7,
    "start_time": "2022-11-29T13:22:50.223Z"
   },
   {
    "duration": 7,
    "start_time": "2022-11-29T13:22:57.155Z"
   },
   {
    "duration": 9,
    "start_time": "2022-11-29T13:23:06.746Z"
   },
   {
    "duration": 29,
    "start_time": "2022-11-29T13:23:12.696Z"
   },
   {
    "duration": 15,
    "start_time": "2022-11-29T13:23:16.690Z"
   },
   {
    "duration": 10,
    "start_time": "2022-11-29T13:25:19.029Z"
   },
   {
    "duration": 79,
    "start_time": "2022-11-29T13:26:20.531Z"
   },
   {
    "duration": 121,
    "start_time": "2022-11-29T13:26:24.697Z"
   },
   {
    "duration": 79,
    "start_time": "2022-11-29T13:26:28.004Z"
   },
   {
    "duration": 331,
    "start_time": "2022-11-29T13:26:35.985Z"
   },
   {
    "duration": 11,
    "start_time": "2022-11-29T13:26:44.895Z"
   },
   {
    "duration": 1183,
    "start_time": "2022-11-29T13:26:54.980Z"
   },
   {
    "duration": 29,
    "start_time": "2022-11-29T13:26:56.165Z"
   },
   {
    "duration": 14,
    "start_time": "2022-11-29T13:26:56.196Z"
   },
   {
    "duration": 10,
    "start_time": "2022-11-29T13:26:56.211Z"
   },
   {
    "duration": 7,
    "start_time": "2022-11-29T13:26:56.223Z"
   },
   {
    "duration": 8,
    "start_time": "2022-11-29T13:26:56.231Z"
   },
   {
    "duration": 9,
    "start_time": "2022-11-29T13:26:56.240Z"
   },
   {
    "duration": 9,
    "start_time": "2022-11-29T13:26:56.251Z"
   },
   {
    "duration": 55,
    "start_time": "2022-11-29T13:26:56.261Z"
   },
   {
    "duration": 8,
    "start_time": "2022-11-29T13:26:56.318Z"
   },
   {
    "duration": 41,
    "start_time": "2022-11-29T13:26:56.327Z"
   },
   {
    "duration": 17,
    "start_time": "2022-11-29T13:26:56.369Z"
   },
   {
    "duration": 9,
    "start_time": "2022-11-29T13:26:56.387Z"
   },
   {
    "duration": 18,
    "start_time": "2022-11-29T13:26:56.397Z"
   },
   {
    "duration": 6,
    "start_time": "2022-11-29T13:26:56.417Z"
   },
   {
    "duration": 14,
    "start_time": "2022-11-29T13:26:56.424Z"
   },
   {
    "duration": 3,
    "start_time": "2022-11-29T13:26:56.440Z"
   },
   {
    "duration": 10,
    "start_time": "2022-11-29T13:26:56.444Z"
   },
   {
    "duration": 107,
    "start_time": "2022-11-29T13:26:56.455Z"
   },
   {
    "duration": 0,
    "start_time": "2022-11-29T13:26:56.564Z"
   },
   {
    "duration": 0,
    "start_time": "2022-11-29T13:26:56.565Z"
   },
   {
    "duration": 0,
    "start_time": "2022-11-29T13:26:56.566Z"
   },
   {
    "duration": 0,
    "start_time": "2022-11-29T13:26:56.567Z"
   },
   {
    "duration": 0,
    "start_time": "2022-11-29T13:26:56.568Z"
   },
   {
    "duration": 0,
    "start_time": "2022-11-29T13:26:56.577Z"
   },
   {
    "duration": 0,
    "start_time": "2022-11-29T13:26:56.579Z"
   },
   {
    "duration": 0,
    "start_time": "2022-11-29T13:26:56.580Z"
   },
   {
    "duration": 0,
    "start_time": "2022-11-29T13:26:56.581Z"
   },
   {
    "duration": 0,
    "start_time": "2022-11-29T13:26:56.582Z"
   },
   {
    "duration": 0,
    "start_time": "2022-11-29T13:26:56.583Z"
   },
   {
    "duration": 0,
    "start_time": "2022-11-29T13:26:56.584Z"
   },
   {
    "duration": 0,
    "start_time": "2022-11-29T13:26:56.585Z"
   },
   {
    "duration": 0,
    "start_time": "2022-11-29T13:26:56.586Z"
   },
   {
    "duration": 0,
    "start_time": "2022-11-29T13:26:56.587Z"
   },
   {
    "duration": 0,
    "start_time": "2022-11-29T13:26:56.590Z"
   },
   {
    "duration": 0,
    "start_time": "2022-11-29T13:26:56.591Z"
   },
   {
    "duration": 0,
    "start_time": "2022-11-29T13:26:56.593Z"
   },
   {
    "duration": 0,
    "start_time": "2022-11-29T13:26:56.595Z"
   },
   {
    "duration": 0,
    "start_time": "2022-11-29T13:26:56.596Z"
   },
   {
    "duration": 0,
    "start_time": "2022-11-29T13:26:56.597Z"
   },
   {
    "duration": 0,
    "start_time": "2022-11-29T13:26:56.598Z"
   },
   {
    "duration": 0,
    "start_time": "2022-11-29T13:26:56.599Z"
   },
   {
    "duration": 0,
    "start_time": "2022-11-29T13:26:56.601Z"
   },
   {
    "duration": 0,
    "start_time": "2022-11-29T13:26:56.602Z"
   },
   {
    "duration": 0,
    "start_time": "2022-11-29T13:26:56.603Z"
   },
   {
    "duration": 0,
    "start_time": "2022-11-29T13:26:56.604Z"
   },
   {
    "duration": 0,
    "start_time": "2022-11-29T13:26:56.606Z"
   },
   {
    "duration": 0,
    "start_time": "2022-11-29T13:26:56.607Z"
   },
   {
    "duration": 0,
    "start_time": "2022-11-29T13:26:56.608Z"
   },
   {
    "duration": 0,
    "start_time": "2022-11-29T13:26:56.609Z"
   },
   {
    "duration": 0,
    "start_time": "2022-11-29T13:26:56.610Z"
   },
   {
    "duration": 0,
    "start_time": "2022-11-29T13:26:56.611Z"
   },
   {
    "duration": 0,
    "start_time": "2022-11-29T13:26:56.612Z"
   },
   {
    "duration": 0,
    "start_time": "2022-11-29T13:26:56.613Z"
   },
   {
    "duration": 0,
    "start_time": "2022-11-29T13:26:56.615Z"
   },
   {
    "duration": 0,
    "start_time": "2022-11-29T13:26:56.616Z"
   },
   {
    "duration": 0,
    "start_time": "2022-11-29T13:26:56.678Z"
   },
   {
    "duration": 0,
    "start_time": "2022-11-29T13:26:56.679Z"
   },
   {
    "duration": 0,
    "start_time": "2022-11-29T13:26:56.681Z"
   },
   {
    "duration": 0,
    "start_time": "2022-11-29T13:26:56.682Z"
   },
   {
    "duration": 0,
    "start_time": "2022-11-29T13:26:56.683Z"
   },
   {
    "duration": 0,
    "start_time": "2022-11-29T13:26:56.684Z"
   },
   {
    "duration": 0,
    "start_time": "2022-11-29T13:26:56.685Z"
   },
   {
    "duration": 0,
    "start_time": "2022-11-29T13:26:56.686Z"
   },
   {
    "duration": 8,
    "start_time": "2022-11-29T13:27:07.961Z"
   },
   {
    "duration": 68,
    "start_time": "2022-11-29T13:30:32.543Z"
   },
   {
    "duration": 8,
    "start_time": "2022-11-29T13:31:23.836Z"
   },
   {
    "duration": 8,
    "start_time": "2022-11-29T13:31:36.572Z"
   },
   {
    "duration": 8,
    "start_time": "2022-11-29T13:31:50.722Z"
   },
   {
    "duration": 1128,
    "start_time": "2022-11-29T13:32:56.571Z"
   },
   {
    "duration": 28,
    "start_time": "2022-11-29T13:32:57.701Z"
   },
   {
    "duration": 12,
    "start_time": "2022-11-29T13:32:57.732Z"
   },
   {
    "duration": 15,
    "start_time": "2022-11-29T13:32:57.746Z"
   },
   {
    "duration": 7,
    "start_time": "2022-11-29T13:32:57.763Z"
   },
   {
    "duration": 9,
    "start_time": "2022-11-29T13:32:57.772Z"
   },
   {
    "duration": 17,
    "start_time": "2022-11-29T13:32:57.782Z"
   },
   {
    "duration": 7,
    "start_time": "2022-11-29T13:32:57.801Z"
   },
   {
    "duration": 58,
    "start_time": "2022-11-29T13:32:57.810Z"
   },
   {
    "duration": 8,
    "start_time": "2022-11-29T13:32:57.870Z"
   },
   {
    "duration": 46,
    "start_time": "2022-11-29T13:32:57.881Z"
   },
   {
    "duration": 15,
    "start_time": "2022-11-29T13:32:57.928Z"
   },
   {
    "duration": 7,
    "start_time": "2022-11-29T13:32:57.946Z"
   },
   {
    "duration": 11,
    "start_time": "2022-11-29T13:32:57.955Z"
   },
   {
    "duration": 7,
    "start_time": "2022-11-29T13:32:57.968Z"
   },
   {
    "duration": 23,
    "start_time": "2022-11-29T13:32:57.977Z"
   },
   {
    "duration": 60,
    "start_time": "2022-11-29T13:32:58.001Z"
   },
   {
    "duration": 373,
    "start_time": "2022-11-29T13:32:58.063Z"
   },
   {
    "duration": 0,
    "start_time": "2022-11-29T13:32:58.438Z"
   },
   {
    "duration": 0,
    "start_time": "2022-11-29T13:32:58.439Z"
   },
   {
    "duration": 0,
    "start_time": "2022-11-29T13:32:58.440Z"
   },
   {
    "duration": 0,
    "start_time": "2022-11-29T13:32:58.441Z"
   },
   {
    "duration": 0,
    "start_time": "2022-11-29T13:32:58.442Z"
   },
   {
    "duration": 0,
    "start_time": "2022-11-29T13:32:58.443Z"
   },
   {
    "duration": 0,
    "start_time": "2022-11-29T13:32:58.444Z"
   },
   {
    "duration": 0,
    "start_time": "2022-11-29T13:32:58.445Z"
   },
   {
    "duration": 0,
    "start_time": "2022-11-29T13:32:58.446Z"
   },
   {
    "duration": 0,
    "start_time": "2022-11-29T13:32:58.447Z"
   },
   {
    "duration": 0,
    "start_time": "2022-11-29T13:32:58.448Z"
   },
   {
    "duration": 0,
    "start_time": "2022-11-29T13:32:58.448Z"
   },
   {
    "duration": 0,
    "start_time": "2022-11-29T13:32:58.450Z"
   },
   {
    "duration": 0,
    "start_time": "2022-11-29T13:32:58.450Z"
   },
   {
    "duration": 0,
    "start_time": "2022-11-29T13:32:58.451Z"
   },
   {
    "duration": 0,
    "start_time": "2022-11-29T13:32:58.452Z"
   },
   {
    "duration": 0,
    "start_time": "2022-11-29T13:32:58.454Z"
   },
   {
    "duration": 0,
    "start_time": "2022-11-29T13:32:58.454Z"
   },
   {
    "duration": 0,
    "start_time": "2022-11-29T13:32:58.455Z"
   },
   {
    "duration": 0,
    "start_time": "2022-11-29T13:32:58.456Z"
   },
   {
    "duration": 0,
    "start_time": "2022-11-29T13:32:58.457Z"
   },
   {
    "duration": 0,
    "start_time": "2022-11-29T13:32:58.458Z"
   },
   {
    "duration": 0,
    "start_time": "2022-11-29T13:32:58.459Z"
   },
   {
    "duration": 0,
    "start_time": "2022-11-29T13:32:58.460Z"
   },
   {
    "duration": 0,
    "start_time": "2022-11-29T13:32:58.461Z"
   },
   {
    "duration": 0,
    "start_time": "2022-11-29T13:32:58.462Z"
   },
   {
    "duration": 0,
    "start_time": "2022-11-29T13:32:58.463Z"
   },
   {
    "duration": 0,
    "start_time": "2022-11-29T13:32:58.464Z"
   },
   {
    "duration": 0,
    "start_time": "2022-11-29T13:32:58.465Z"
   },
   {
    "duration": 0,
    "start_time": "2022-11-29T13:32:58.466Z"
   },
   {
    "duration": 0,
    "start_time": "2022-11-29T13:32:58.467Z"
   },
   {
    "duration": 0,
    "start_time": "2022-11-29T13:32:58.468Z"
   },
   {
    "duration": 0,
    "start_time": "2022-11-29T13:32:58.469Z"
   },
   {
    "duration": 0,
    "start_time": "2022-11-29T13:32:58.470Z"
   },
   {
    "duration": 0,
    "start_time": "2022-11-29T13:32:58.471Z"
   },
   {
    "duration": 0,
    "start_time": "2022-11-29T13:32:58.472Z"
   },
   {
    "duration": 0,
    "start_time": "2022-11-29T13:32:58.473Z"
   },
   {
    "duration": 0,
    "start_time": "2022-11-29T13:32:58.474Z"
   },
   {
    "duration": 0,
    "start_time": "2022-11-29T13:32:58.475Z"
   },
   {
    "duration": 0,
    "start_time": "2022-11-29T13:32:58.477Z"
   },
   {
    "duration": 0,
    "start_time": "2022-11-29T13:32:58.478Z"
   },
   {
    "duration": 0,
    "start_time": "2022-11-29T13:32:58.479Z"
   },
   {
    "duration": 0,
    "start_time": "2022-11-29T13:32:58.480Z"
   },
   {
    "duration": 0,
    "start_time": "2022-11-29T13:32:58.485Z"
   },
   {
    "duration": 0,
    "start_time": "2022-11-29T13:32:58.486Z"
   },
   {
    "duration": 1167,
    "start_time": "2022-11-29T13:33:26.965Z"
   },
   {
    "duration": 33,
    "start_time": "2022-11-29T13:33:28.134Z"
   },
   {
    "duration": 15,
    "start_time": "2022-11-29T13:33:28.169Z"
   },
   {
    "duration": 13,
    "start_time": "2022-11-29T13:33:28.188Z"
   },
   {
    "duration": 17,
    "start_time": "2022-11-29T13:33:28.203Z"
   },
   {
    "duration": 32,
    "start_time": "2022-11-29T13:33:28.221Z"
   },
   {
    "duration": 16,
    "start_time": "2022-11-29T13:33:28.254Z"
   },
   {
    "duration": 30,
    "start_time": "2022-11-29T13:33:28.272Z"
   },
   {
    "duration": 58,
    "start_time": "2022-11-29T13:33:28.304Z"
   },
   {
    "duration": 9,
    "start_time": "2022-11-29T13:33:28.365Z"
   },
   {
    "duration": 76,
    "start_time": "2022-11-29T13:33:28.375Z"
   },
   {
    "duration": 16,
    "start_time": "2022-11-29T13:33:28.453Z"
   },
   {
    "duration": 50,
    "start_time": "2022-11-29T13:33:28.471Z"
   },
   {
    "duration": 42,
    "start_time": "2022-11-29T13:33:28.522Z"
   },
   {
    "duration": 32,
    "start_time": "2022-11-29T13:33:28.565Z"
   },
   {
    "duration": 76,
    "start_time": "2022-11-29T13:33:28.600Z"
   },
   {
    "duration": 47,
    "start_time": "2022-11-29T13:33:28.678Z"
   },
   {
    "duration": 107,
    "start_time": "2022-11-29T13:33:28.726Z"
   },
   {
    "duration": 388,
    "start_time": "2022-11-29T13:33:28.834Z"
   },
   {
    "duration": 0,
    "start_time": "2022-11-29T13:33:29.225Z"
   },
   {
    "duration": 0,
    "start_time": "2022-11-29T13:33:29.227Z"
   },
   {
    "duration": 0,
    "start_time": "2022-11-29T13:33:29.229Z"
   },
   {
    "duration": 0,
    "start_time": "2022-11-29T13:33:29.230Z"
   },
   {
    "duration": 0,
    "start_time": "2022-11-29T13:33:29.231Z"
   },
   {
    "duration": 0,
    "start_time": "2022-11-29T13:33:29.233Z"
   },
   {
    "duration": 0,
    "start_time": "2022-11-29T13:33:29.234Z"
   },
   {
    "duration": 0,
    "start_time": "2022-11-29T13:33:29.235Z"
   },
   {
    "duration": 0,
    "start_time": "2022-11-29T13:33:29.237Z"
   },
   {
    "duration": 0,
    "start_time": "2022-11-29T13:33:29.238Z"
   },
   {
    "duration": 0,
    "start_time": "2022-11-29T13:33:29.240Z"
   },
   {
    "duration": 0,
    "start_time": "2022-11-29T13:33:29.241Z"
   },
   {
    "duration": 0,
    "start_time": "2022-11-29T13:33:29.242Z"
   },
   {
    "duration": 0,
    "start_time": "2022-11-29T13:33:29.243Z"
   },
   {
    "duration": 0,
    "start_time": "2022-11-29T13:33:29.245Z"
   },
   {
    "duration": 0,
    "start_time": "2022-11-29T13:33:29.246Z"
   },
   {
    "duration": 0,
    "start_time": "2022-11-29T13:33:29.247Z"
   },
   {
    "duration": 0,
    "start_time": "2022-11-29T13:33:29.249Z"
   },
   {
    "duration": 0,
    "start_time": "2022-11-29T13:33:29.250Z"
   },
   {
    "duration": 0,
    "start_time": "2022-11-29T13:33:29.251Z"
   },
   {
    "duration": 0,
    "start_time": "2022-11-29T13:33:29.253Z"
   },
   {
    "duration": 0,
    "start_time": "2022-11-29T13:33:29.254Z"
   },
   {
    "duration": 0,
    "start_time": "2022-11-29T13:33:29.256Z"
   },
   {
    "duration": 0,
    "start_time": "2022-11-29T13:33:29.257Z"
   },
   {
    "duration": 0,
    "start_time": "2022-11-29T13:33:29.258Z"
   },
   {
    "duration": 0,
    "start_time": "2022-11-29T13:33:29.260Z"
   },
   {
    "duration": 0,
    "start_time": "2022-11-29T13:33:29.261Z"
   },
   {
    "duration": 0,
    "start_time": "2022-11-29T13:33:29.278Z"
   },
   {
    "duration": 0,
    "start_time": "2022-11-29T13:33:29.280Z"
   },
   {
    "duration": 0,
    "start_time": "2022-11-29T13:33:29.282Z"
   },
   {
    "duration": 0,
    "start_time": "2022-11-29T13:33:29.283Z"
   },
   {
    "duration": 0,
    "start_time": "2022-11-29T13:33:29.285Z"
   },
   {
    "duration": 0,
    "start_time": "2022-11-29T13:33:29.286Z"
   },
   {
    "duration": 0,
    "start_time": "2022-11-29T13:33:29.287Z"
   },
   {
    "duration": 0,
    "start_time": "2022-11-29T13:33:29.288Z"
   },
   {
    "duration": 0,
    "start_time": "2022-11-29T13:33:29.289Z"
   },
   {
    "duration": 0,
    "start_time": "2022-11-29T13:33:29.290Z"
   },
   {
    "duration": 1,
    "start_time": "2022-11-29T13:33:29.293Z"
   },
   {
    "duration": 0,
    "start_time": "2022-11-29T13:33:29.295Z"
   },
   {
    "duration": 0,
    "start_time": "2022-11-29T13:33:29.296Z"
   },
   {
    "duration": 0,
    "start_time": "2022-11-29T13:33:29.297Z"
   },
   {
    "duration": 0,
    "start_time": "2022-11-29T13:33:29.298Z"
   },
   {
    "duration": 0,
    "start_time": "2022-11-29T13:33:29.299Z"
   },
   {
    "duration": 0,
    "start_time": "2022-11-29T13:33:29.300Z"
   },
   {
    "duration": 0,
    "start_time": "2022-11-29T13:33:29.301Z"
   },
   {
    "duration": 9,
    "start_time": "2022-11-29T13:33:43.734Z"
   },
   {
    "duration": 3,
    "start_time": "2022-11-29T13:34:32.054Z"
   },
   {
    "duration": 6,
    "start_time": "2022-11-29T13:34:33.409Z"
   },
   {
    "duration": 10,
    "start_time": "2022-11-29T13:34:54.890Z"
   },
   {
    "duration": 7,
    "start_time": "2022-11-29T13:35:01.364Z"
   },
   {
    "duration": 8,
    "start_time": "2022-11-29T13:35:27.905Z"
   },
   {
    "duration": 1204,
    "start_time": "2022-11-29T13:35:47.942Z"
   },
   {
    "duration": 29,
    "start_time": "2022-11-29T13:35:49.149Z"
   },
   {
    "duration": 15,
    "start_time": "2022-11-29T13:35:49.180Z"
   },
   {
    "duration": 32,
    "start_time": "2022-11-29T13:35:49.198Z"
   },
   {
    "duration": 19,
    "start_time": "2022-11-29T13:35:49.232Z"
   },
   {
    "duration": 13,
    "start_time": "2022-11-29T13:35:49.252Z"
   },
   {
    "duration": 22,
    "start_time": "2022-11-29T13:35:49.267Z"
   },
   {
    "duration": 18,
    "start_time": "2022-11-29T13:35:49.290Z"
   },
   {
    "duration": 52,
    "start_time": "2022-11-29T13:35:49.309Z"
   },
   {
    "duration": 9,
    "start_time": "2022-11-29T13:35:49.364Z"
   },
   {
    "duration": 43,
    "start_time": "2022-11-29T13:35:49.375Z"
   },
   {
    "duration": 14,
    "start_time": "2022-11-29T13:35:49.420Z"
   },
   {
    "duration": 7,
    "start_time": "2022-11-29T13:35:49.436Z"
   },
   {
    "duration": 12,
    "start_time": "2022-11-29T13:35:49.444Z"
   },
   {
    "duration": 8,
    "start_time": "2022-11-29T13:35:49.457Z"
   },
   {
    "duration": 14,
    "start_time": "2022-11-29T13:35:49.467Z"
   },
   {
    "duration": 8,
    "start_time": "2022-11-29T13:35:49.483Z"
   },
   {
    "duration": 26,
    "start_time": "2022-11-29T13:35:49.493Z"
   },
   {
    "duration": 103,
    "start_time": "2022-11-29T13:35:49.521Z"
   },
   {
    "duration": 0,
    "start_time": "2022-11-29T13:35:49.626Z"
   },
   {
    "duration": 0,
    "start_time": "2022-11-29T13:35:49.627Z"
   },
   {
    "duration": 0,
    "start_time": "2022-11-29T13:35:49.628Z"
   },
   {
    "duration": 0,
    "start_time": "2022-11-29T13:35:49.629Z"
   },
   {
    "duration": 0,
    "start_time": "2022-11-29T13:35:49.631Z"
   },
   {
    "duration": 0,
    "start_time": "2022-11-29T13:35:49.632Z"
   },
   {
    "duration": 0,
    "start_time": "2022-11-29T13:35:49.633Z"
   },
   {
    "duration": 0,
    "start_time": "2022-11-29T13:35:49.634Z"
   },
   {
    "duration": 0,
    "start_time": "2022-11-29T13:35:49.635Z"
   },
   {
    "duration": 0,
    "start_time": "2022-11-29T13:35:49.636Z"
   },
   {
    "duration": 0,
    "start_time": "2022-11-29T13:35:49.637Z"
   },
   {
    "duration": 0,
    "start_time": "2022-11-29T13:35:49.638Z"
   },
   {
    "duration": 0,
    "start_time": "2022-11-29T13:35:49.639Z"
   },
   {
    "duration": 0,
    "start_time": "2022-11-29T13:35:49.640Z"
   },
   {
    "duration": 0,
    "start_time": "2022-11-29T13:35:49.641Z"
   },
   {
    "duration": 0,
    "start_time": "2022-11-29T13:35:49.642Z"
   },
   {
    "duration": 0,
    "start_time": "2022-11-29T13:35:49.643Z"
   },
   {
    "duration": 0,
    "start_time": "2022-11-29T13:35:49.644Z"
   },
   {
    "duration": 0,
    "start_time": "2022-11-29T13:35:49.645Z"
   },
   {
    "duration": 0,
    "start_time": "2022-11-29T13:35:49.646Z"
   },
   {
    "duration": 0,
    "start_time": "2022-11-29T13:35:49.647Z"
   },
   {
    "duration": 0,
    "start_time": "2022-11-29T13:35:49.648Z"
   },
   {
    "duration": 0,
    "start_time": "2022-11-29T13:35:49.649Z"
   },
   {
    "duration": 0,
    "start_time": "2022-11-29T13:35:49.678Z"
   },
   {
    "duration": 0,
    "start_time": "2022-11-29T13:35:49.680Z"
   },
   {
    "duration": 0,
    "start_time": "2022-11-29T13:35:49.681Z"
   },
   {
    "duration": 0,
    "start_time": "2022-11-29T13:35:49.683Z"
   },
   {
    "duration": 0,
    "start_time": "2022-11-29T13:35:49.684Z"
   },
   {
    "duration": 0,
    "start_time": "2022-11-29T13:35:49.685Z"
   },
   {
    "duration": 0,
    "start_time": "2022-11-29T13:35:49.686Z"
   },
   {
    "duration": 0,
    "start_time": "2022-11-29T13:35:49.687Z"
   },
   {
    "duration": 0,
    "start_time": "2022-11-29T13:35:49.688Z"
   },
   {
    "duration": 0,
    "start_time": "2022-11-29T13:35:49.690Z"
   },
   {
    "duration": 0,
    "start_time": "2022-11-29T13:35:49.692Z"
   },
   {
    "duration": 0,
    "start_time": "2022-11-29T13:35:49.693Z"
   },
   {
    "duration": 0,
    "start_time": "2022-11-29T13:35:49.695Z"
   },
   {
    "duration": 0,
    "start_time": "2022-11-29T13:35:49.695Z"
   },
   {
    "duration": 0,
    "start_time": "2022-11-29T13:35:49.697Z"
   },
   {
    "duration": 1,
    "start_time": "2022-11-29T13:35:49.698Z"
   },
   {
    "duration": 0,
    "start_time": "2022-11-29T13:35:49.700Z"
   },
   {
    "duration": 0,
    "start_time": "2022-11-29T13:35:49.702Z"
   },
   {
    "duration": 0,
    "start_time": "2022-11-29T13:35:49.703Z"
   },
   {
    "duration": 0,
    "start_time": "2022-11-29T13:35:49.704Z"
   },
   {
    "duration": 0,
    "start_time": "2022-11-29T13:35:49.705Z"
   },
   {
    "duration": 0,
    "start_time": "2022-11-29T13:35:49.706Z"
   },
   {
    "duration": 0,
    "start_time": "2022-11-29T13:35:49.707Z"
   },
   {
    "duration": 61,
    "start_time": "2022-11-29T13:36:22.935Z"
   },
   {
    "duration": 67,
    "start_time": "2022-11-29T13:36:37.435Z"
   },
   {
    "duration": 62,
    "start_time": "2022-11-29T13:36:53.197Z"
   },
   {
    "duration": 11,
    "start_time": "2022-11-29T13:37:30.799Z"
   },
   {
    "duration": 76,
    "start_time": "2022-11-29T13:37:52.858Z"
   },
   {
    "duration": 68,
    "start_time": "2022-11-29T13:41:26.554Z"
   },
   {
    "duration": 12,
    "start_time": "2022-11-29T13:41:42.683Z"
   },
   {
    "duration": 330,
    "start_time": "2022-11-29T13:41:56.193Z"
   },
   {
    "duration": 10,
    "start_time": "2022-11-29T13:42:14.802Z"
   },
   {
    "duration": 5,
    "start_time": "2022-11-29T13:42:38.243Z"
   },
   {
    "duration": 12,
    "start_time": "2022-11-29T13:42:40.394Z"
   },
   {
    "duration": 6,
    "start_time": "2022-11-29T13:42:46.100Z"
   },
   {
    "duration": 12,
    "start_time": "2022-11-29T13:42:46.474Z"
   },
   {
    "duration": 1152,
    "start_time": "2022-11-29T13:42:54.811Z"
   },
   {
    "duration": 32,
    "start_time": "2022-11-29T13:42:55.965Z"
   },
   {
    "duration": 13,
    "start_time": "2022-11-29T13:42:55.998Z"
   },
   {
    "duration": 13,
    "start_time": "2022-11-29T13:42:56.014Z"
   },
   {
    "duration": 6,
    "start_time": "2022-11-29T13:42:56.029Z"
   },
   {
    "duration": 10,
    "start_time": "2022-11-29T13:42:56.036Z"
   },
   {
    "duration": 10,
    "start_time": "2022-11-29T13:42:56.048Z"
   },
   {
    "duration": 23,
    "start_time": "2022-11-29T13:42:56.060Z"
   },
   {
    "duration": 51,
    "start_time": "2022-11-29T13:42:56.085Z"
   },
   {
    "duration": 9,
    "start_time": "2022-11-29T13:42:56.138Z"
   },
   {
    "duration": 46,
    "start_time": "2022-11-29T13:42:56.148Z"
   },
   {
    "duration": 17,
    "start_time": "2022-11-29T13:42:56.196Z"
   },
   {
    "duration": 10,
    "start_time": "2022-11-29T13:42:56.214Z"
   },
   {
    "duration": 12,
    "start_time": "2022-11-29T13:42:56.225Z"
   },
   {
    "duration": 5,
    "start_time": "2022-11-29T13:42:56.239Z"
   },
   {
    "duration": 14,
    "start_time": "2022-11-29T13:42:56.246Z"
   },
   {
    "duration": 3,
    "start_time": "2022-11-29T13:42:56.262Z"
   },
   {
    "duration": 26,
    "start_time": "2022-11-29T13:42:56.266Z"
   },
   {
    "duration": 10,
    "start_time": "2022-11-29T13:42:56.294Z"
   },
   {
    "duration": 12,
    "start_time": "2022-11-29T13:42:56.305Z"
   },
   {
    "duration": 111,
    "start_time": "2022-11-29T13:42:56.319Z"
   },
   {
    "duration": 0,
    "start_time": "2022-11-29T13:42:56.433Z"
   },
   {
    "duration": 0,
    "start_time": "2022-11-29T13:42:56.434Z"
   },
   {
    "duration": 0,
    "start_time": "2022-11-29T13:42:56.436Z"
   },
   {
    "duration": 0,
    "start_time": "2022-11-29T13:42:56.437Z"
   },
   {
    "duration": 0,
    "start_time": "2022-11-29T13:42:56.438Z"
   },
   {
    "duration": 0,
    "start_time": "2022-11-29T13:42:56.439Z"
   },
   {
    "duration": 0,
    "start_time": "2022-11-29T13:42:56.441Z"
   },
   {
    "duration": 0,
    "start_time": "2022-11-29T13:42:56.442Z"
   },
   {
    "duration": 0,
    "start_time": "2022-11-29T13:42:56.443Z"
   },
   {
    "duration": 1,
    "start_time": "2022-11-29T13:42:56.444Z"
   },
   {
    "duration": 0,
    "start_time": "2022-11-29T13:42:56.446Z"
   },
   {
    "duration": 0,
    "start_time": "2022-11-29T13:42:56.447Z"
   },
   {
    "duration": 0,
    "start_time": "2022-11-29T13:42:56.448Z"
   },
   {
    "duration": 0,
    "start_time": "2022-11-29T13:42:56.450Z"
   },
   {
    "duration": 0,
    "start_time": "2022-11-29T13:42:56.451Z"
   },
   {
    "duration": 0,
    "start_time": "2022-11-29T13:42:56.452Z"
   },
   {
    "duration": 0,
    "start_time": "2022-11-29T13:42:56.479Z"
   },
   {
    "duration": 0,
    "start_time": "2022-11-29T13:42:56.480Z"
   },
   {
    "duration": 0,
    "start_time": "2022-11-29T13:42:56.482Z"
   },
   {
    "duration": 0,
    "start_time": "2022-11-29T13:42:56.483Z"
   },
   {
    "duration": 0,
    "start_time": "2022-11-29T13:42:56.484Z"
   },
   {
    "duration": 0,
    "start_time": "2022-11-29T13:42:56.485Z"
   },
   {
    "duration": 0,
    "start_time": "2022-11-29T13:42:56.486Z"
   },
   {
    "duration": 0,
    "start_time": "2022-11-29T13:42:56.488Z"
   },
   {
    "duration": 0,
    "start_time": "2022-11-29T13:42:56.489Z"
   },
   {
    "duration": 0,
    "start_time": "2022-11-29T13:42:56.491Z"
   },
   {
    "duration": 0,
    "start_time": "2022-11-29T13:42:56.492Z"
   },
   {
    "duration": 0,
    "start_time": "2022-11-29T13:42:56.493Z"
   },
   {
    "duration": 0,
    "start_time": "2022-11-29T13:42:56.494Z"
   },
   {
    "duration": 0,
    "start_time": "2022-11-29T13:42:56.496Z"
   },
   {
    "duration": 0,
    "start_time": "2022-11-29T13:42:56.497Z"
   },
   {
    "duration": 0,
    "start_time": "2022-11-29T13:42:56.498Z"
   },
   {
    "duration": 0,
    "start_time": "2022-11-29T13:42:56.499Z"
   },
   {
    "duration": 0,
    "start_time": "2022-11-29T13:42:56.501Z"
   },
   {
    "duration": 1,
    "start_time": "2022-11-29T13:42:56.502Z"
   },
   {
    "duration": 0,
    "start_time": "2022-11-29T13:42:56.503Z"
   },
   {
    "duration": 0,
    "start_time": "2022-11-29T13:42:56.504Z"
   },
   {
    "duration": 0,
    "start_time": "2022-11-29T13:42:56.505Z"
   },
   {
    "duration": 0,
    "start_time": "2022-11-29T13:42:56.507Z"
   },
   {
    "duration": 0,
    "start_time": "2022-11-29T13:42:56.508Z"
   },
   {
    "duration": 0,
    "start_time": "2022-11-29T13:42:56.510Z"
   },
   {
    "duration": 0,
    "start_time": "2022-11-29T13:42:56.511Z"
   },
   {
    "duration": 0,
    "start_time": "2022-11-29T13:42:56.512Z"
   },
   {
    "duration": 0,
    "start_time": "2022-11-29T13:42:56.512Z"
   },
   {
    "duration": 0,
    "start_time": "2022-11-29T13:42:56.514Z"
   },
   {
    "duration": 8,
    "start_time": "2022-11-29T13:43:07.133Z"
   },
   {
    "duration": 8,
    "start_time": "2022-11-29T13:44:50.349Z"
   },
   {
    "duration": 12,
    "start_time": "2022-11-29T13:45:35.877Z"
   },
   {
    "duration": 8,
    "start_time": "2022-11-29T13:45:44.638Z"
   },
   {
    "duration": 9,
    "start_time": "2022-11-29T13:45:59.999Z"
   },
   {
    "duration": 7,
    "start_time": "2022-11-29T13:46:09.815Z"
   },
   {
    "duration": 9,
    "start_time": "2022-11-29T13:46:10.630Z"
   },
   {
    "duration": 6,
    "start_time": "2022-11-29T13:46:34.323Z"
   },
   {
    "duration": 4,
    "start_time": "2022-11-29T13:46:48.129Z"
   },
   {
    "duration": 5,
    "start_time": "2022-11-29T13:46:48.874Z"
   },
   {
    "duration": 1068,
    "start_time": "2022-11-29T13:46:55.884Z"
   },
   {
    "duration": 28,
    "start_time": "2022-11-29T13:46:56.953Z"
   },
   {
    "duration": 13,
    "start_time": "2022-11-29T13:46:56.983Z"
   },
   {
    "duration": 11,
    "start_time": "2022-11-29T13:46:56.998Z"
   },
   {
    "duration": 7,
    "start_time": "2022-11-29T13:46:57.011Z"
   },
   {
    "duration": 13,
    "start_time": "2022-11-29T13:46:57.020Z"
   },
   {
    "duration": 11,
    "start_time": "2022-11-29T13:46:57.035Z"
   },
   {
    "duration": 8,
    "start_time": "2022-11-29T13:46:57.048Z"
   },
   {
    "duration": 62,
    "start_time": "2022-11-29T13:46:57.058Z"
   },
   {
    "duration": 9,
    "start_time": "2022-11-29T13:46:57.122Z"
   },
   {
    "duration": 43,
    "start_time": "2022-11-29T13:46:57.132Z"
   },
   {
    "duration": 16,
    "start_time": "2022-11-29T13:46:57.176Z"
   },
   {
    "duration": 8,
    "start_time": "2022-11-29T13:46:57.193Z"
   },
   {
    "duration": 13,
    "start_time": "2022-11-29T13:46:57.203Z"
   },
   {
    "duration": 7,
    "start_time": "2022-11-29T13:46:57.218Z"
   },
   {
    "duration": 19,
    "start_time": "2022-11-29T13:46:57.226Z"
   },
   {
    "duration": 4,
    "start_time": "2022-11-29T13:46:57.247Z"
   },
   {
    "duration": 26,
    "start_time": "2022-11-29T13:46:57.253Z"
   },
   {
    "duration": 7,
    "start_time": "2022-11-29T13:46:57.280Z"
   },
   {
    "duration": 6,
    "start_time": "2022-11-29T13:46:57.289Z"
   },
   {
    "duration": 979,
    "start_time": "2022-11-29T13:46:57.297Z"
   },
   {
    "duration": 0,
    "start_time": "2022-11-29T13:46:58.279Z"
   },
   {
    "duration": 0,
    "start_time": "2022-11-29T13:46:58.281Z"
   },
   {
    "duration": 0,
    "start_time": "2022-11-29T13:46:58.282Z"
   },
   {
    "duration": 0,
    "start_time": "2022-11-29T13:46:58.284Z"
   },
   {
    "duration": 0,
    "start_time": "2022-11-29T13:46:58.285Z"
   },
   {
    "duration": 0,
    "start_time": "2022-11-29T13:46:58.287Z"
   },
   {
    "duration": 0,
    "start_time": "2022-11-29T13:46:58.288Z"
   },
   {
    "duration": 0,
    "start_time": "2022-11-29T13:46:58.290Z"
   },
   {
    "duration": 0,
    "start_time": "2022-11-29T13:46:58.291Z"
   },
   {
    "duration": 0,
    "start_time": "2022-11-29T13:46:58.293Z"
   },
   {
    "duration": 0,
    "start_time": "2022-11-29T13:46:58.294Z"
   },
   {
    "duration": 0,
    "start_time": "2022-11-29T13:46:58.295Z"
   },
   {
    "duration": 0,
    "start_time": "2022-11-29T13:46:58.297Z"
   },
   {
    "duration": 0,
    "start_time": "2022-11-29T13:46:58.298Z"
   },
   {
    "duration": 0,
    "start_time": "2022-11-29T13:46:58.300Z"
   },
   {
    "duration": 0,
    "start_time": "2022-11-29T13:46:58.301Z"
   },
   {
    "duration": 0,
    "start_time": "2022-11-29T13:46:58.303Z"
   },
   {
    "duration": 0,
    "start_time": "2022-11-29T13:46:58.304Z"
   },
   {
    "duration": 0,
    "start_time": "2022-11-29T13:46:58.306Z"
   },
   {
    "duration": 0,
    "start_time": "2022-11-29T13:46:58.307Z"
   },
   {
    "duration": 0,
    "start_time": "2022-11-29T13:46:58.308Z"
   },
   {
    "duration": 0,
    "start_time": "2022-11-29T13:46:58.309Z"
   },
   {
    "duration": 0,
    "start_time": "2022-11-29T13:46:58.311Z"
   },
   {
    "duration": 0,
    "start_time": "2022-11-29T13:46:58.312Z"
   },
   {
    "duration": 0,
    "start_time": "2022-11-29T13:46:58.313Z"
   },
   {
    "duration": 0,
    "start_time": "2022-11-29T13:46:58.314Z"
   },
   {
    "duration": 0,
    "start_time": "2022-11-29T13:46:58.315Z"
   },
   {
    "duration": 0,
    "start_time": "2022-11-29T13:46:58.316Z"
   },
   {
    "duration": 0,
    "start_time": "2022-11-29T13:46:58.317Z"
   },
   {
    "duration": 0,
    "start_time": "2022-11-29T13:46:58.318Z"
   },
   {
    "duration": 0,
    "start_time": "2022-11-29T13:46:58.319Z"
   },
   {
    "duration": 0,
    "start_time": "2022-11-29T13:46:58.377Z"
   },
   {
    "duration": 0,
    "start_time": "2022-11-29T13:46:58.378Z"
   },
   {
    "duration": 0,
    "start_time": "2022-11-29T13:46:58.380Z"
   },
   {
    "duration": 0,
    "start_time": "2022-11-29T13:46:58.381Z"
   },
   {
    "duration": 0,
    "start_time": "2022-11-29T13:46:58.383Z"
   },
   {
    "duration": 0,
    "start_time": "2022-11-29T13:46:58.384Z"
   },
   {
    "duration": 0,
    "start_time": "2022-11-29T13:46:58.385Z"
   },
   {
    "duration": 0,
    "start_time": "2022-11-29T13:46:58.387Z"
   },
   {
    "duration": 0,
    "start_time": "2022-11-29T13:46:58.389Z"
   },
   {
    "duration": 0,
    "start_time": "2022-11-29T13:46:58.390Z"
   },
   {
    "duration": 0,
    "start_time": "2022-11-29T13:46:58.392Z"
   },
   {
    "duration": 0,
    "start_time": "2022-11-29T13:46:58.393Z"
   },
   {
    "duration": 0,
    "start_time": "2022-11-29T13:46:58.395Z"
   },
   {
    "duration": 0,
    "start_time": "2022-11-29T13:46:58.396Z"
   },
   {
    "duration": 8,
    "start_time": "2022-11-29T13:48:46.237Z"
   },
   {
    "duration": 10,
    "start_time": "2022-11-29T13:48:52.733Z"
   },
   {
    "duration": 18,
    "start_time": "2022-11-29T13:49:04.264Z"
   },
   {
    "duration": 21,
    "start_time": "2022-11-29T13:49:17.736Z"
   },
   {
    "duration": 1148,
    "start_time": "2022-11-29T13:49:22.217Z"
   },
   {
    "duration": 30,
    "start_time": "2022-11-29T13:49:23.367Z"
   },
   {
    "duration": 13,
    "start_time": "2022-11-29T13:49:23.399Z"
   },
   {
    "duration": 20,
    "start_time": "2022-11-29T13:49:23.413Z"
   },
   {
    "duration": 9,
    "start_time": "2022-11-29T13:49:23.436Z"
   },
   {
    "duration": 10,
    "start_time": "2022-11-29T13:49:23.447Z"
   },
   {
    "duration": 12,
    "start_time": "2022-11-29T13:49:23.459Z"
   },
   {
    "duration": 10,
    "start_time": "2022-11-29T13:49:23.472Z"
   },
   {
    "duration": 62,
    "start_time": "2022-11-29T13:49:23.484Z"
   },
   {
    "duration": 9,
    "start_time": "2022-11-29T13:49:23.547Z"
   },
   {
    "duration": 53,
    "start_time": "2022-11-29T13:49:23.557Z"
   },
   {
    "duration": 15,
    "start_time": "2022-11-29T13:49:23.612Z"
   },
   {
    "duration": 8,
    "start_time": "2022-11-29T13:49:23.629Z"
   },
   {
    "duration": 18,
    "start_time": "2022-11-29T13:49:23.641Z"
   },
   {
    "duration": 11,
    "start_time": "2022-11-29T13:49:23.661Z"
   },
   {
    "duration": 26,
    "start_time": "2022-11-29T13:49:23.674Z"
   },
   {
    "duration": 9,
    "start_time": "2022-11-29T13:49:23.701Z"
   },
   {
    "duration": 25,
    "start_time": "2022-11-29T13:49:23.711Z"
   },
   {
    "duration": 12,
    "start_time": "2022-11-29T13:49:23.738Z"
   },
   {
    "duration": 15,
    "start_time": "2022-11-29T13:49:23.752Z"
   },
   {
    "duration": 524,
    "start_time": "2022-11-29T13:49:23.768Z"
   },
   {
    "duration": 0,
    "start_time": "2022-11-29T13:49:24.295Z"
   },
   {
    "duration": 0,
    "start_time": "2022-11-29T13:49:24.296Z"
   },
   {
    "duration": 0,
    "start_time": "2022-11-29T13:49:24.297Z"
   },
   {
    "duration": 0,
    "start_time": "2022-11-29T13:49:24.299Z"
   },
   {
    "duration": 0,
    "start_time": "2022-11-29T13:49:24.299Z"
   },
   {
    "duration": 0,
    "start_time": "2022-11-29T13:49:24.300Z"
   },
   {
    "duration": 0,
    "start_time": "2022-11-29T13:49:24.301Z"
   },
   {
    "duration": 0,
    "start_time": "2022-11-29T13:49:24.302Z"
   },
   {
    "duration": 0,
    "start_time": "2022-11-29T13:49:24.304Z"
   },
   {
    "duration": 0,
    "start_time": "2022-11-29T13:49:24.305Z"
   },
   {
    "duration": 0,
    "start_time": "2022-11-29T13:49:24.306Z"
   },
   {
    "duration": 0,
    "start_time": "2022-11-29T13:49:24.307Z"
   },
   {
    "duration": 0,
    "start_time": "2022-11-29T13:49:24.308Z"
   },
   {
    "duration": 0,
    "start_time": "2022-11-29T13:49:24.309Z"
   },
   {
    "duration": 0,
    "start_time": "2022-11-29T13:49:24.310Z"
   },
   {
    "duration": 0,
    "start_time": "2022-11-29T13:49:24.311Z"
   },
   {
    "duration": 0,
    "start_time": "2022-11-29T13:49:24.312Z"
   },
   {
    "duration": 0,
    "start_time": "2022-11-29T13:49:24.314Z"
   },
   {
    "duration": 0,
    "start_time": "2022-11-29T13:49:24.315Z"
   },
   {
    "duration": 0,
    "start_time": "2022-11-29T13:49:24.316Z"
   },
   {
    "duration": 0,
    "start_time": "2022-11-29T13:49:24.318Z"
   },
   {
    "duration": 0,
    "start_time": "2022-11-29T13:49:24.319Z"
   },
   {
    "duration": 0,
    "start_time": "2022-11-29T13:49:24.321Z"
   },
   {
    "duration": 0,
    "start_time": "2022-11-29T13:49:24.322Z"
   },
   {
    "duration": 0,
    "start_time": "2022-11-29T13:49:24.323Z"
   },
   {
    "duration": 0,
    "start_time": "2022-11-29T13:49:24.325Z"
   },
   {
    "duration": 0,
    "start_time": "2022-11-29T13:49:24.326Z"
   },
   {
    "duration": 1,
    "start_time": "2022-11-29T13:49:24.327Z"
   },
   {
    "duration": 0,
    "start_time": "2022-11-29T13:49:24.329Z"
   },
   {
    "duration": 0,
    "start_time": "2022-11-29T13:49:24.330Z"
   },
   {
    "duration": 0,
    "start_time": "2022-11-29T13:49:24.330Z"
   },
   {
    "duration": 0,
    "start_time": "2022-11-29T13:49:24.332Z"
   },
   {
    "duration": 0,
    "start_time": "2022-11-29T13:49:24.332Z"
   },
   {
    "duration": 0,
    "start_time": "2022-11-29T13:49:24.379Z"
   },
   {
    "duration": 0,
    "start_time": "2022-11-29T13:49:24.381Z"
   },
   {
    "duration": 0,
    "start_time": "2022-11-29T13:49:24.385Z"
   },
   {
    "duration": 0,
    "start_time": "2022-11-29T13:49:24.386Z"
   },
   {
    "duration": 0,
    "start_time": "2022-11-29T13:49:24.387Z"
   },
   {
    "duration": 0,
    "start_time": "2022-11-29T13:49:24.389Z"
   },
   {
    "duration": 0,
    "start_time": "2022-11-29T13:49:24.391Z"
   },
   {
    "duration": 0,
    "start_time": "2022-11-29T13:49:24.393Z"
   },
   {
    "duration": 0,
    "start_time": "2022-11-29T13:49:24.394Z"
   },
   {
    "duration": 0,
    "start_time": "2022-11-29T13:49:24.395Z"
   },
   {
    "duration": 0,
    "start_time": "2022-11-29T13:49:24.398Z"
   },
   {
    "duration": 0,
    "start_time": "2022-11-29T13:49:24.400Z"
   },
   {
    "duration": 5,
    "start_time": "2022-11-29T13:49:48.663Z"
   },
   {
    "duration": 9,
    "start_time": "2022-11-29T13:49:49.134Z"
   },
   {
    "duration": 6,
    "start_time": "2022-11-29T13:50:37.609Z"
   },
   {
    "duration": 7,
    "start_time": "2022-11-29T13:50:38.151Z"
   },
   {
    "duration": 8,
    "start_time": "2022-11-29T13:50:40.700Z"
   },
   {
    "duration": 4,
    "start_time": "2022-11-29T13:51:17.797Z"
   },
   {
    "duration": 5,
    "start_time": "2022-11-29T13:51:18.446Z"
   },
   {
    "duration": 1074,
    "start_time": "2022-11-29T13:51:19.928Z"
   },
   {
    "duration": 1072,
    "start_time": "2022-11-29T13:51:28.756Z"
   },
   {
    "duration": 28,
    "start_time": "2022-11-29T13:51:29.830Z"
   },
   {
    "duration": 19,
    "start_time": "2022-11-29T13:51:29.860Z"
   },
   {
    "duration": 19,
    "start_time": "2022-11-29T13:51:29.881Z"
   },
   {
    "duration": 15,
    "start_time": "2022-11-29T13:51:29.902Z"
   },
   {
    "duration": 11,
    "start_time": "2022-11-29T13:51:29.918Z"
   },
   {
    "duration": 21,
    "start_time": "2022-11-29T13:51:29.930Z"
   },
   {
    "duration": 25,
    "start_time": "2022-11-29T13:51:29.953Z"
   },
   {
    "duration": 63,
    "start_time": "2022-11-29T13:51:29.980Z"
   },
   {
    "duration": 9,
    "start_time": "2022-11-29T13:51:30.045Z"
   },
   {
    "duration": 50,
    "start_time": "2022-11-29T13:51:30.056Z"
   },
   {
    "duration": 17,
    "start_time": "2022-11-29T13:51:30.108Z"
   },
   {
    "duration": 8,
    "start_time": "2022-11-29T13:51:30.126Z"
   },
   {
    "duration": 29,
    "start_time": "2022-11-29T13:51:30.138Z"
   },
   {
    "duration": 23,
    "start_time": "2022-11-29T13:51:30.169Z"
   },
   {
    "duration": 36,
    "start_time": "2022-11-29T13:51:30.194Z"
   },
   {
    "duration": 28,
    "start_time": "2022-11-29T13:51:30.232Z"
   },
   {
    "duration": 25,
    "start_time": "2022-11-29T13:51:30.262Z"
   },
   {
    "duration": 24,
    "start_time": "2022-11-29T13:51:30.289Z"
   },
   {
    "duration": 33,
    "start_time": "2022-11-29T13:51:30.314Z"
   },
   {
    "duration": 1191,
    "start_time": "2022-11-29T13:51:30.348Z"
   },
   {
    "duration": 0,
    "start_time": "2022-11-29T13:51:31.541Z"
   },
   {
    "duration": 0,
    "start_time": "2022-11-29T13:51:31.542Z"
   },
   {
    "duration": 0,
    "start_time": "2022-11-29T13:51:31.544Z"
   },
   {
    "duration": 0,
    "start_time": "2022-11-29T13:51:31.545Z"
   },
   {
    "duration": 0,
    "start_time": "2022-11-29T13:51:31.546Z"
   },
   {
    "duration": 0,
    "start_time": "2022-11-29T13:51:31.547Z"
   },
   {
    "duration": 0,
    "start_time": "2022-11-29T13:51:31.548Z"
   },
   {
    "duration": 0,
    "start_time": "2022-11-29T13:51:31.550Z"
   },
   {
    "duration": 0,
    "start_time": "2022-11-29T13:51:31.551Z"
   },
   {
    "duration": 0,
    "start_time": "2022-11-29T13:51:31.552Z"
   },
   {
    "duration": 0,
    "start_time": "2022-11-29T13:51:31.553Z"
   },
   {
    "duration": 0,
    "start_time": "2022-11-29T13:51:31.555Z"
   },
   {
    "duration": 0,
    "start_time": "2022-11-29T13:51:31.556Z"
   },
   {
    "duration": 0,
    "start_time": "2022-11-29T13:51:31.557Z"
   },
   {
    "duration": 0,
    "start_time": "2022-11-29T13:51:31.558Z"
   },
   {
    "duration": 0,
    "start_time": "2022-11-29T13:51:31.559Z"
   },
   {
    "duration": 0,
    "start_time": "2022-11-29T13:51:31.560Z"
   },
   {
    "duration": 0,
    "start_time": "2022-11-29T13:51:31.562Z"
   },
   {
    "duration": 0,
    "start_time": "2022-11-29T13:51:31.563Z"
   },
   {
    "duration": 0,
    "start_time": "2022-11-29T13:51:31.564Z"
   },
   {
    "duration": 0,
    "start_time": "2022-11-29T13:51:31.566Z"
   },
   {
    "duration": 0,
    "start_time": "2022-11-29T13:51:31.567Z"
   },
   {
    "duration": 0,
    "start_time": "2022-11-29T13:51:31.568Z"
   },
   {
    "duration": 0,
    "start_time": "2022-11-29T13:51:31.569Z"
   },
   {
    "duration": 0,
    "start_time": "2022-11-29T13:51:31.570Z"
   },
   {
    "duration": 0,
    "start_time": "2022-11-29T13:51:31.572Z"
   },
   {
    "duration": 0,
    "start_time": "2022-11-29T13:51:31.573Z"
   },
   {
    "duration": 0,
    "start_time": "2022-11-29T13:51:31.573Z"
   },
   {
    "duration": 0,
    "start_time": "2022-11-29T13:51:31.574Z"
   },
   {
    "duration": 0,
    "start_time": "2022-11-29T13:51:31.575Z"
   },
   {
    "duration": 0,
    "start_time": "2022-11-29T13:51:31.576Z"
   },
   {
    "duration": 0,
    "start_time": "2022-11-29T13:51:31.577Z"
   },
   {
    "duration": 0,
    "start_time": "2022-11-29T13:51:31.578Z"
   },
   {
    "duration": 0,
    "start_time": "2022-11-29T13:51:31.579Z"
   },
   {
    "duration": 0,
    "start_time": "2022-11-29T13:51:31.580Z"
   },
   {
    "duration": 0,
    "start_time": "2022-11-29T13:51:31.581Z"
   },
   {
    "duration": 0,
    "start_time": "2022-11-29T13:51:31.582Z"
   },
   {
    "duration": 0,
    "start_time": "2022-11-29T13:51:31.583Z"
   },
   {
    "duration": 0,
    "start_time": "2022-11-29T13:51:31.584Z"
   },
   {
    "duration": 0,
    "start_time": "2022-11-29T13:51:31.585Z"
   },
   {
    "duration": 0,
    "start_time": "2022-11-29T13:51:31.586Z"
   },
   {
    "duration": 0,
    "start_time": "2022-11-29T13:51:31.587Z"
   },
   {
    "duration": 0,
    "start_time": "2022-11-29T13:51:31.588Z"
   },
   {
    "duration": 0,
    "start_time": "2022-11-29T13:51:31.589Z"
   },
   {
    "duration": 0,
    "start_time": "2022-11-29T13:51:31.590Z"
   },
   {
    "duration": 10,
    "start_time": "2022-11-29T13:51:43.750Z"
   },
   {
    "duration": 5,
    "start_time": "2022-11-29T13:51:44.845Z"
   },
   {
    "duration": 1059,
    "start_time": "2022-11-29T13:51:48.091Z"
   },
   {
    "duration": 29,
    "start_time": "2022-11-29T13:51:49.153Z"
   },
   {
    "duration": 13,
    "start_time": "2022-11-29T13:51:49.184Z"
   },
   {
    "duration": 12,
    "start_time": "2022-11-29T13:51:49.199Z"
   },
   {
    "duration": 11,
    "start_time": "2022-11-29T13:51:49.212Z"
   },
   {
    "duration": 13,
    "start_time": "2022-11-29T13:51:49.224Z"
   },
   {
    "duration": 12,
    "start_time": "2022-11-29T13:51:49.238Z"
   },
   {
    "duration": 27,
    "start_time": "2022-11-29T13:51:49.251Z"
   },
   {
    "duration": 49,
    "start_time": "2022-11-29T13:51:49.279Z"
   },
   {
    "duration": 8,
    "start_time": "2022-11-29T13:51:49.332Z"
   },
   {
    "duration": 41,
    "start_time": "2022-11-29T13:51:49.342Z"
   },
   {
    "duration": 15,
    "start_time": "2022-11-29T13:51:49.384Z"
   },
   {
    "duration": 7,
    "start_time": "2022-11-29T13:51:49.401Z"
   },
   {
    "duration": 14,
    "start_time": "2022-11-29T13:51:49.409Z"
   },
   {
    "duration": 6,
    "start_time": "2022-11-29T13:51:49.425Z"
   },
   {
    "duration": 17,
    "start_time": "2022-11-29T13:51:49.433Z"
   },
   {
    "duration": 3,
    "start_time": "2022-11-29T13:51:49.452Z"
   },
   {
    "duration": 24,
    "start_time": "2022-11-29T13:51:49.457Z"
   },
   {
    "duration": 10,
    "start_time": "2022-11-29T13:51:49.483Z"
   },
   {
    "duration": 6,
    "start_time": "2022-11-29T13:51:49.495Z"
   },
   {
    "duration": 1038,
    "start_time": "2022-11-29T13:51:49.502Z"
   },
   {
    "duration": 0,
    "start_time": "2022-11-29T13:51:50.543Z"
   },
   {
    "duration": 0,
    "start_time": "2022-11-29T13:51:50.545Z"
   },
   {
    "duration": 0,
    "start_time": "2022-11-29T13:51:50.546Z"
   },
   {
    "duration": 0,
    "start_time": "2022-11-29T13:51:50.547Z"
   },
   {
    "duration": 0,
    "start_time": "2022-11-29T13:51:50.548Z"
   },
   {
    "duration": 0,
    "start_time": "2022-11-29T13:51:50.549Z"
   },
   {
    "duration": 0,
    "start_time": "2022-11-29T13:51:50.549Z"
   },
   {
    "duration": 0,
    "start_time": "2022-11-29T13:51:50.551Z"
   },
   {
    "duration": 0,
    "start_time": "2022-11-29T13:51:50.552Z"
   },
   {
    "duration": 0,
    "start_time": "2022-11-29T13:51:50.553Z"
   },
   {
    "duration": 0,
    "start_time": "2022-11-29T13:51:50.553Z"
   },
   {
    "duration": 0,
    "start_time": "2022-11-29T13:51:50.554Z"
   },
   {
    "duration": 0,
    "start_time": "2022-11-29T13:51:50.555Z"
   },
   {
    "duration": 0,
    "start_time": "2022-11-29T13:51:50.556Z"
   },
   {
    "duration": 0,
    "start_time": "2022-11-29T13:51:50.557Z"
   },
   {
    "duration": 0,
    "start_time": "2022-11-29T13:51:50.557Z"
   },
   {
    "duration": 0,
    "start_time": "2022-11-29T13:51:50.558Z"
   },
   {
    "duration": 0,
    "start_time": "2022-11-29T13:51:50.559Z"
   },
   {
    "duration": 0,
    "start_time": "2022-11-29T13:51:50.560Z"
   },
   {
    "duration": 0,
    "start_time": "2022-11-29T13:51:50.561Z"
   },
   {
    "duration": 0,
    "start_time": "2022-11-29T13:51:50.562Z"
   },
   {
    "duration": 0,
    "start_time": "2022-11-29T13:51:50.562Z"
   },
   {
    "duration": 0,
    "start_time": "2022-11-29T13:51:50.564Z"
   },
   {
    "duration": 0,
    "start_time": "2022-11-29T13:51:50.564Z"
   },
   {
    "duration": 0,
    "start_time": "2022-11-29T13:51:50.565Z"
   },
   {
    "duration": 0,
    "start_time": "2022-11-29T13:51:50.566Z"
   },
   {
    "duration": 0,
    "start_time": "2022-11-29T13:51:50.566Z"
   },
   {
    "duration": 0,
    "start_time": "2022-11-29T13:51:50.567Z"
   },
   {
    "duration": 0,
    "start_time": "2022-11-29T13:51:50.568Z"
   },
   {
    "duration": 0,
    "start_time": "2022-11-29T13:51:50.569Z"
   },
   {
    "duration": 0,
    "start_time": "2022-11-29T13:51:50.570Z"
   },
   {
    "duration": 0,
    "start_time": "2022-11-29T13:51:50.571Z"
   },
   {
    "duration": 0,
    "start_time": "2022-11-29T13:51:50.572Z"
   },
   {
    "duration": 0,
    "start_time": "2022-11-29T13:51:50.573Z"
   },
   {
    "duration": 0,
    "start_time": "2022-11-29T13:51:50.574Z"
   },
   {
    "duration": 0,
    "start_time": "2022-11-29T13:51:50.575Z"
   },
   {
    "duration": 0,
    "start_time": "2022-11-29T13:51:50.575Z"
   },
   {
    "duration": 0,
    "start_time": "2022-11-29T13:51:50.576Z"
   },
   {
    "duration": 1,
    "start_time": "2022-11-29T13:51:50.577Z"
   },
   {
    "duration": 0,
    "start_time": "2022-11-29T13:51:50.578Z"
   },
   {
    "duration": 0,
    "start_time": "2022-11-29T13:51:50.579Z"
   },
   {
    "duration": 0,
    "start_time": "2022-11-29T13:51:50.580Z"
   },
   {
    "duration": 0,
    "start_time": "2022-11-29T13:51:50.581Z"
   },
   {
    "duration": 0,
    "start_time": "2022-11-29T13:51:50.582Z"
   },
   {
    "duration": 0,
    "start_time": "2022-11-29T13:51:50.583Z"
   },
   {
    "duration": 12,
    "start_time": "2022-11-29T13:52:24.104Z"
   },
   {
    "duration": 1050,
    "start_time": "2022-11-29T13:52:27.888Z"
   },
   {
    "duration": 29,
    "start_time": "2022-11-29T13:52:28.940Z"
   },
   {
    "duration": 13,
    "start_time": "2022-11-29T13:52:28.970Z"
   },
   {
    "duration": 11,
    "start_time": "2022-11-29T13:52:28.984Z"
   },
   {
    "duration": 5,
    "start_time": "2022-11-29T13:52:28.997Z"
   },
   {
    "duration": 10,
    "start_time": "2022-11-29T13:52:29.004Z"
   },
   {
    "duration": 10,
    "start_time": "2022-11-29T13:52:29.015Z"
   },
   {
    "duration": 5,
    "start_time": "2022-11-29T13:52:29.026Z"
   },
   {
    "duration": 76,
    "start_time": "2022-11-29T13:52:29.033Z"
   },
   {
    "duration": 8,
    "start_time": "2022-11-29T13:52:29.111Z"
   },
   {
    "duration": 41,
    "start_time": "2022-11-29T13:52:29.121Z"
   },
   {
    "duration": 15,
    "start_time": "2022-11-29T13:52:29.164Z"
   },
   {
    "duration": 8,
    "start_time": "2022-11-29T13:52:29.180Z"
   },
   {
    "duration": 16,
    "start_time": "2022-11-29T13:52:29.191Z"
   },
   {
    "duration": 16,
    "start_time": "2022-11-29T13:52:29.209Z"
   },
   {
    "duration": 19,
    "start_time": "2022-11-29T13:52:29.226Z"
   },
   {
    "duration": 16,
    "start_time": "2022-11-29T13:52:29.246Z"
   },
   {
    "duration": 28,
    "start_time": "2022-11-29T13:52:29.263Z"
   },
   {
    "duration": 113,
    "start_time": "2022-11-29T13:52:29.294Z"
   },
   {
    "duration": 0,
    "start_time": "2022-11-29T13:52:29.410Z"
   },
   {
    "duration": 0,
    "start_time": "2022-11-29T13:52:29.411Z"
   },
   {
    "duration": 0,
    "start_time": "2022-11-29T13:52:29.411Z"
   },
   {
    "duration": 0,
    "start_time": "2022-11-29T13:52:29.412Z"
   },
   {
    "duration": 0,
    "start_time": "2022-11-29T13:52:29.413Z"
   },
   {
    "duration": 0,
    "start_time": "2022-11-29T13:52:29.414Z"
   },
   {
    "duration": 0,
    "start_time": "2022-11-29T13:52:29.415Z"
   },
   {
    "duration": 0,
    "start_time": "2022-11-29T13:52:29.416Z"
   },
   {
    "duration": 0,
    "start_time": "2022-11-29T13:52:29.417Z"
   },
   {
    "duration": 0,
    "start_time": "2022-11-29T13:52:29.417Z"
   },
   {
    "duration": 0,
    "start_time": "2022-11-29T13:52:29.418Z"
   },
   {
    "duration": 0,
    "start_time": "2022-11-29T13:52:29.419Z"
   },
   {
    "duration": 0,
    "start_time": "2022-11-29T13:52:29.420Z"
   },
   {
    "duration": 0,
    "start_time": "2022-11-29T13:52:29.421Z"
   },
   {
    "duration": 0,
    "start_time": "2022-11-29T13:52:29.422Z"
   },
   {
    "duration": 0,
    "start_time": "2022-11-29T13:52:29.423Z"
   },
   {
    "duration": 0,
    "start_time": "2022-11-29T13:52:29.424Z"
   },
   {
    "duration": 0,
    "start_time": "2022-11-29T13:52:29.425Z"
   },
   {
    "duration": 0,
    "start_time": "2022-11-29T13:52:29.425Z"
   },
   {
    "duration": 0,
    "start_time": "2022-11-29T13:52:29.426Z"
   },
   {
    "duration": 0,
    "start_time": "2022-11-29T13:52:29.427Z"
   },
   {
    "duration": 0,
    "start_time": "2022-11-29T13:52:29.428Z"
   },
   {
    "duration": 0,
    "start_time": "2022-11-29T13:52:29.429Z"
   },
   {
    "duration": 0,
    "start_time": "2022-11-29T13:52:29.430Z"
   },
   {
    "duration": 0,
    "start_time": "2022-11-29T13:52:29.430Z"
   },
   {
    "duration": 0,
    "start_time": "2022-11-29T13:52:29.431Z"
   },
   {
    "duration": 0,
    "start_time": "2022-11-29T13:52:29.432Z"
   },
   {
    "duration": 0,
    "start_time": "2022-11-29T13:52:29.434Z"
   },
   {
    "duration": 0,
    "start_time": "2022-11-29T13:52:29.434Z"
   },
   {
    "duration": 0,
    "start_time": "2022-11-29T13:52:29.436Z"
   },
   {
    "duration": 0,
    "start_time": "2022-11-29T13:52:29.436Z"
   },
   {
    "duration": 0,
    "start_time": "2022-11-29T13:52:29.438Z"
   },
   {
    "duration": 0,
    "start_time": "2022-11-29T13:52:29.438Z"
   },
   {
    "duration": 0,
    "start_time": "2022-11-29T13:52:29.439Z"
   },
   {
    "duration": 0,
    "start_time": "2022-11-29T13:52:29.478Z"
   },
   {
    "duration": 0,
    "start_time": "2022-11-29T13:52:29.479Z"
   },
   {
    "duration": 0,
    "start_time": "2022-11-29T13:52:29.480Z"
   },
   {
    "duration": 0,
    "start_time": "2022-11-29T13:52:29.481Z"
   },
   {
    "duration": 0,
    "start_time": "2022-11-29T13:52:29.482Z"
   },
   {
    "duration": 0,
    "start_time": "2022-11-29T13:52:29.483Z"
   },
   {
    "duration": 0,
    "start_time": "2022-11-29T13:52:29.483Z"
   },
   {
    "duration": 0,
    "start_time": "2022-11-29T13:52:29.484Z"
   },
   {
    "duration": 0,
    "start_time": "2022-11-29T13:52:29.485Z"
   },
   {
    "duration": 0,
    "start_time": "2022-11-29T13:52:29.486Z"
   },
   {
    "duration": 0,
    "start_time": "2022-11-29T13:52:29.487Z"
   },
   {
    "duration": 0,
    "start_time": "2022-11-29T13:52:29.488Z"
   },
   {
    "duration": 0,
    "start_time": "2022-11-29T13:52:29.489Z"
   },
   {
    "duration": 4,
    "start_time": "2022-11-29T13:52:58.749Z"
   },
   {
    "duration": 5,
    "start_time": "2022-11-29T13:52:59.470Z"
   },
   {
    "duration": 9,
    "start_time": "2022-11-29T13:53:16.339Z"
   },
   {
    "duration": 1061,
    "start_time": "2022-11-29T13:53:22.710Z"
   },
   {
    "duration": 28,
    "start_time": "2022-11-29T13:53:23.773Z"
   },
   {
    "duration": 11,
    "start_time": "2022-11-29T13:53:23.803Z"
   },
   {
    "duration": 11,
    "start_time": "2022-11-29T13:53:23.815Z"
   },
   {
    "duration": 10,
    "start_time": "2022-11-29T13:53:23.827Z"
   },
   {
    "duration": 8,
    "start_time": "2022-11-29T13:53:23.839Z"
   },
   {
    "duration": 10,
    "start_time": "2022-11-29T13:53:23.849Z"
   },
   {
    "duration": 5,
    "start_time": "2022-11-29T13:53:23.861Z"
   },
   {
    "duration": 56,
    "start_time": "2022-11-29T13:53:23.867Z"
   },
   {
    "duration": 9,
    "start_time": "2022-11-29T13:53:23.925Z"
   },
   {
    "duration": 46,
    "start_time": "2022-11-29T13:53:23.936Z"
   },
   {
    "duration": 17,
    "start_time": "2022-11-29T13:53:23.984Z"
   },
   {
    "duration": 10,
    "start_time": "2022-11-29T13:53:24.002Z"
   },
   {
    "duration": 13,
    "start_time": "2022-11-29T13:53:24.014Z"
   },
   {
    "duration": 10,
    "start_time": "2022-11-29T13:53:24.029Z"
   },
   {
    "duration": 19,
    "start_time": "2022-11-29T13:53:24.041Z"
   },
   {
    "duration": 4,
    "start_time": "2022-11-29T13:53:24.078Z"
   },
   {
    "duration": 23,
    "start_time": "2022-11-29T13:53:24.084Z"
   },
   {
    "duration": 11,
    "start_time": "2022-11-29T13:53:24.109Z"
   },
   {
    "duration": 11,
    "start_time": "2022-11-29T13:53:24.123Z"
   },
   {
    "duration": 15,
    "start_time": "2022-11-29T13:53:24.136Z"
   },
   {
    "duration": 105,
    "start_time": "2022-11-29T13:53:24.153Z"
   },
   {
    "duration": 0,
    "start_time": "2022-11-29T13:53:24.260Z"
   },
   {
    "duration": 1,
    "start_time": "2022-11-29T13:53:24.261Z"
   },
   {
    "duration": 0,
    "start_time": "2022-11-29T13:53:24.262Z"
   },
   {
    "duration": 0,
    "start_time": "2022-11-29T13:53:24.263Z"
   },
   {
    "duration": 0,
    "start_time": "2022-11-29T13:53:24.277Z"
   },
   {
    "duration": 0,
    "start_time": "2022-11-29T13:53:24.279Z"
   },
   {
    "duration": 0,
    "start_time": "2022-11-29T13:53:24.280Z"
   },
   {
    "duration": 0,
    "start_time": "2022-11-29T13:53:24.281Z"
   },
   {
    "duration": 0,
    "start_time": "2022-11-29T13:53:24.282Z"
   },
   {
    "duration": 0,
    "start_time": "2022-11-29T13:53:24.283Z"
   },
   {
    "duration": 0,
    "start_time": "2022-11-29T13:53:24.284Z"
   },
   {
    "duration": 0,
    "start_time": "2022-11-29T13:53:24.286Z"
   },
   {
    "duration": 0,
    "start_time": "2022-11-29T13:53:24.287Z"
   },
   {
    "duration": 0,
    "start_time": "2022-11-29T13:53:24.288Z"
   },
   {
    "duration": 0,
    "start_time": "2022-11-29T13:53:24.289Z"
   },
   {
    "duration": 0,
    "start_time": "2022-11-29T13:53:24.290Z"
   },
   {
    "duration": 0,
    "start_time": "2022-11-29T13:53:24.292Z"
   },
   {
    "duration": 0,
    "start_time": "2022-11-29T13:53:24.293Z"
   },
   {
    "duration": 0,
    "start_time": "2022-11-29T13:53:24.294Z"
   },
   {
    "duration": 0,
    "start_time": "2022-11-29T13:53:24.295Z"
   },
   {
    "duration": 0,
    "start_time": "2022-11-29T13:53:24.296Z"
   },
   {
    "duration": 0,
    "start_time": "2022-11-29T13:53:24.297Z"
   },
   {
    "duration": 0,
    "start_time": "2022-11-29T13:53:24.298Z"
   },
   {
    "duration": 0,
    "start_time": "2022-11-29T13:53:24.299Z"
   },
   {
    "duration": 0,
    "start_time": "2022-11-29T13:53:24.300Z"
   },
   {
    "duration": 0,
    "start_time": "2022-11-29T13:53:24.301Z"
   },
   {
    "duration": 0,
    "start_time": "2022-11-29T13:53:24.302Z"
   },
   {
    "duration": 0,
    "start_time": "2022-11-29T13:53:24.303Z"
   },
   {
    "duration": 0,
    "start_time": "2022-11-29T13:53:24.304Z"
   },
   {
    "duration": 0,
    "start_time": "2022-11-29T13:53:24.304Z"
   },
   {
    "duration": 0,
    "start_time": "2022-11-29T13:53:24.305Z"
   },
   {
    "duration": 0,
    "start_time": "2022-11-29T13:53:24.306Z"
   },
   {
    "duration": 0,
    "start_time": "2022-11-29T13:53:24.307Z"
   },
   {
    "duration": 0,
    "start_time": "2022-11-29T13:53:24.308Z"
   },
   {
    "duration": 0,
    "start_time": "2022-11-29T13:53:24.309Z"
   },
   {
    "duration": 0,
    "start_time": "2022-11-29T13:53:24.310Z"
   },
   {
    "duration": 0,
    "start_time": "2022-11-29T13:53:24.311Z"
   },
   {
    "duration": 0,
    "start_time": "2022-11-29T13:53:24.312Z"
   },
   {
    "duration": 0,
    "start_time": "2022-11-29T13:53:24.313Z"
   },
   {
    "duration": 0,
    "start_time": "2022-11-29T13:53:24.314Z"
   },
   {
    "duration": 0,
    "start_time": "2022-11-29T13:53:24.314Z"
   },
   {
    "duration": 0,
    "start_time": "2022-11-29T13:53:24.315Z"
   },
   {
    "duration": 0,
    "start_time": "2022-11-29T13:53:24.316Z"
   },
   {
    "duration": 0,
    "start_time": "2022-11-29T13:53:24.378Z"
   },
   {
    "duration": 1087,
    "start_time": "2022-11-29T13:54:31.154Z"
   },
   {
    "duration": 32,
    "start_time": "2022-11-29T13:54:32.243Z"
   },
   {
    "duration": 11,
    "start_time": "2022-11-29T13:54:32.277Z"
   },
   {
    "duration": 15,
    "start_time": "2022-11-29T13:54:32.290Z"
   },
   {
    "duration": 10,
    "start_time": "2022-11-29T13:54:32.306Z"
   },
   {
    "duration": 13,
    "start_time": "2022-11-29T13:54:32.317Z"
   },
   {
    "duration": 13,
    "start_time": "2022-11-29T13:54:32.331Z"
   },
   {
    "duration": 6,
    "start_time": "2022-11-29T13:54:32.345Z"
   },
   {
    "duration": 69,
    "start_time": "2022-11-29T13:54:32.353Z"
   },
   {
    "duration": 9,
    "start_time": "2022-11-29T13:54:32.426Z"
   },
   {
    "duration": 41,
    "start_time": "2022-11-29T13:54:32.437Z"
   },
   {
    "duration": 17,
    "start_time": "2022-11-29T13:54:32.480Z"
   },
   {
    "duration": 7,
    "start_time": "2022-11-29T13:54:32.498Z"
   },
   {
    "duration": 13,
    "start_time": "2022-11-29T13:54:32.506Z"
   },
   {
    "duration": 9,
    "start_time": "2022-11-29T13:54:32.521Z"
   },
   {
    "duration": 14,
    "start_time": "2022-11-29T13:54:32.531Z"
   },
   {
    "duration": 3,
    "start_time": "2022-11-29T13:54:32.546Z"
   },
   {
    "duration": 5,
    "start_time": "2022-11-29T13:54:32.550Z"
   },
   {
    "duration": 102,
    "start_time": "2022-11-29T13:54:32.557Z"
   },
   {
    "duration": 0,
    "start_time": "2022-11-29T13:54:32.662Z"
   },
   {
    "duration": 0,
    "start_time": "2022-11-29T13:54:32.663Z"
   },
   {
    "duration": 0,
    "start_time": "2022-11-29T13:54:32.664Z"
   },
   {
    "duration": 0,
    "start_time": "2022-11-29T13:54:32.665Z"
   },
   {
    "duration": 0,
    "start_time": "2022-11-29T13:54:32.666Z"
   },
   {
    "duration": 0,
    "start_time": "2022-11-29T13:54:32.678Z"
   },
   {
    "duration": 0,
    "start_time": "2022-11-29T13:54:32.679Z"
   },
   {
    "duration": 0,
    "start_time": "2022-11-29T13:54:32.680Z"
   },
   {
    "duration": 0,
    "start_time": "2022-11-29T13:54:32.681Z"
   },
   {
    "duration": 0,
    "start_time": "2022-11-29T13:54:32.682Z"
   },
   {
    "duration": 0,
    "start_time": "2022-11-29T13:54:32.683Z"
   },
   {
    "duration": 0,
    "start_time": "2022-11-29T13:54:32.684Z"
   },
   {
    "duration": 0,
    "start_time": "2022-11-29T13:54:32.685Z"
   },
   {
    "duration": 0,
    "start_time": "2022-11-29T13:54:32.686Z"
   },
   {
    "duration": 0,
    "start_time": "2022-11-29T13:54:32.688Z"
   },
   {
    "duration": 0,
    "start_time": "2022-11-29T13:54:32.689Z"
   },
   {
    "duration": 0,
    "start_time": "2022-11-29T13:54:32.690Z"
   },
   {
    "duration": 0,
    "start_time": "2022-11-29T13:54:32.691Z"
   },
   {
    "duration": 0,
    "start_time": "2022-11-29T13:54:32.692Z"
   },
   {
    "duration": 0,
    "start_time": "2022-11-29T13:54:32.693Z"
   },
   {
    "duration": 0,
    "start_time": "2022-11-29T13:54:32.694Z"
   },
   {
    "duration": 0,
    "start_time": "2022-11-29T13:54:32.695Z"
   },
   {
    "duration": 0,
    "start_time": "2022-11-29T13:54:32.696Z"
   },
   {
    "duration": 0,
    "start_time": "2022-11-29T13:54:32.697Z"
   },
   {
    "duration": 0,
    "start_time": "2022-11-29T13:54:32.699Z"
   },
   {
    "duration": 0,
    "start_time": "2022-11-29T13:54:32.700Z"
   },
   {
    "duration": 1,
    "start_time": "2022-11-29T13:54:32.700Z"
   },
   {
    "duration": 1,
    "start_time": "2022-11-29T13:54:32.701Z"
   },
   {
    "duration": 0,
    "start_time": "2022-11-29T13:54:32.702Z"
   },
   {
    "duration": 0,
    "start_time": "2022-11-29T13:54:32.703Z"
   },
   {
    "duration": 0,
    "start_time": "2022-11-29T13:54:32.704Z"
   },
   {
    "duration": 0,
    "start_time": "2022-11-29T13:54:32.705Z"
   },
   {
    "duration": 0,
    "start_time": "2022-11-29T13:54:32.706Z"
   },
   {
    "duration": 0,
    "start_time": "2022-11-29T13:54:32.707Z"
   },
   {
    "duration": 0,
    "start_time": "2022-11-29T13:54:32.708Z"
   },
   {
    "duration": 0,
    "start_time": "2022-11-29T13:54:32.709Z"
   },
   {
    "duration": 0,
    "start_time": "2022-11-29T13:54:32.710Z"
   },
   {
    "duration": 0,
    "start_time": "2022-11-29T13:54:32.711Z"
   },
   {
    "duration": 0,
    "start_time": "2022-11-29T13:54:32.712Z"
   },
   {
    "duration": 0,
    "start_time": "2022-11-29T13:54:32.713Z"
   },
   {
    "duration": 0,
    "start_time": "2022-11-29T13:54:32.714Z"
   },
   {
    "duration": 0,
    "start_time": "2022-11-29T13:54:32.715Z"
   },
   {
    "duration": 0,
    "start_time": "2022-11-29T13:54:32.716Z"
   },
   {
    "duration": 0,
    "start_time": "2022-11-29T13:54:32.778Z"
   },
   {
    "duration": 0,
    "start_time": "2022-11-29T13:54:32.780Z"
   },
   {
    "duration": 0,
    "start_time": "2022-11-29T13:54:32.781Z"
   },
   {
    "duration": 0,
    "start_time": "2022-11-29T13:54:32.782Z"
   },
   {
    "duration": 6,
    "start_time": "2022-11-29T13:54:50.014Z"
   },
   {
    "duration": 8,
    "start_time": "2022-11-29T13:54:52.432Z"
   },
   {
    "duration": 10,
    "start_time": "2022-11-29T13:54:57.893Z"
   },
   {
    "duration": 7,
    "start_time": "2022-11-29T13:55:07.626Z"
   },
   {
    "duration": 7,
    "start_time": "2022-11-29T13:55:20.903Z"
   },
   {
    "duration": 1011,
    "start_time": "2022-11-29T13:56:09.912Z"
   },
   {
    "duration": 28,
    "start_time": "2022-11-29T13:56:10.925Z"
   },
   {
    "duration": 12,
    "start_time": "2022-11-29T13:56:10.955Z"
   },
   {
    "duration": 15,
    "start_time": "2022-11-29T13:56:10.970Z"
   },
   {
    "duration": 8,
    "start_time": "2022-11-29T13:56:10.987Z"
   },
   {
    "duration": 12,
    "start_time": "2022-11-29T13:56:10.997Z"
   },
   {
    "duration": 15,
    "start_time": "2022-11-29T13:56:11.010Z"
   },
   {
    "duration": 11,
    "start_time": "2022-11-29T13:56:11.027Z"
   },
   {
    "duration": 78,
    "start_time": "2022-11-29T13:56:11.040Z"
   },
   {
    "duration": 9,
    "start_time": "2022-11-29T13:56:11.121Z"
   },
   {
    "duration": 51,
    "start_time": "2022-11-29T13:56:11.132Z"
   },
   {
    "duration": 19,
    "start_time": "2022-11-29T13:56:11.185Z"
   },
   {
    "duration": 9,
    "start_time": "2022-11-29T13:56:11.206Z"
   },
   {
    "duration": 12,
    "start_time": "2022-11-29T13:56:11.217Z"
   },
   {
    "duration": 6,
    "start_time": "2022-11-29T13:56:11.231Z"
   },
   {
    "duration": 14,
    "start_time": "2022-11-29T13:56:11.238Z"
   },
   {
    "duration": 5,
    "start_time": "2022-11-29T13:56:11.253Z"
   },
   {
    "duration": 22,
    "start_time": "2022-11-29T13:56:11.259Z"
   },
   {
    "duration": 98,
    "start_time": "2022-11-29T13:56:11.282Z"
   },
   {
    "duration": 0,
    "start_time": "2022-11-29T13:56:11.383Z"
   },
   {
    "duration": 0,
    "start_time": "2022-11-29T13:56:11.384Z"
   },
   {
    "duration": 0,
    "start_time": "2022-11-29T13:56:11.385Z"
   },
   {
    "duration": 0,
    "start_time": "2022-11-29T13:56:11.386Z"
   },
   {
    "duration": 0,
    "start_time": "2022-11-29T13:56:11.387Z"
   },
   {
    "duration": 0,
    "start_time": "2022-11-29T13:56:11.387Z"
   },
   {
    "duration": 0,
    "start_time": "2022-11-29T13:56:11.389Z"
   },
   {
    "duration": 0,
    "start_time": "2022-11-29T13:56:11.390Z"
   },
   {
    "duration": 0,
    "start_time": "2022-11-29T13:56:11.391Z"
   },
   {
    "duration": 0,
    "start_time": "2022-11-29T13:56:11.391Z"
   },
   {
    "duration": 0,
    "start_time": "2022-11-29T13:56:11.393Z"
   },
   {
    "duration": 0,
    "start_time": "2022-11-29T13:56:11.395Z"
   },
   {
    "duration": 0,
    "start_time": "2022-11-29T13:56:11.396Z"
   },
   {
    "duration": 0,
    "start_time": "2022-11-29T13:56:11.397Z"
   },
   {
    "duration": 0,
    "start_time": "2022-11-29T13:56:11.399Z"
   },
   {
    "duration": 0,
    "start_time": "2022-11-29T13:56:11.400Z"
   },
   {
    "duration": 0,
    "start_time": "2022-11-29T13:56:11.401Z"
   },
   {
    "duration": 0,
    "start_time": "2022-11-29T13:56:11.402Z"
   },
   {
    "duration": 0,
    "start_time": "2022-11-29T13:56:11.404Z"
   },
   {
    "duration": 0,
    "start_time": "2022-11-29T13:56:11.405Z"
   },
   {
    "duration": 0,
    "start_time": "2022-11-29T13:56:11.407Z"
   },
   {
    "duration": 0,
    "start_time": "2022-11-29T13:56:11.408Z"
   },
   {
    "duration": 0,
    "start_time": "2022-11-29T13:56:11.410Z"
   },
   {
    "duration": 0,
    "start_time": "2022-11-29T13:56:11.411Z"
   },
   {
    "duration": 0,
    "start_time": "2022-11-29T13:56:11.412Z"
   },
   {
    "duration": 0,
    "start_time": "2022-11-29T13:56:11.413Z"
   },
   {
    "duration": 0,
    "start_time": "2022-11-29T13:56:11.414Z"
   },
   {
    "duration": 0,
    "start_time": "2022-11-29T13:56:11.415Z"
   },
   {
    "duration": 0,
    "start_time": "2022-11-29T13:56:11.416Z"
   },
   {
    "duration": 0,
    "start_time": "2022-11-29T13:56:11.417Z"
   },
   {
    "duration": 0,
    "start_time": "2022-11-29T13:56:11.478Z"
   },
   {
    "duration": 0,
    "start_time": "2022-11-29T13:56:11.479Z"
   },
   {
    "duration": 0,
    "start_time": "2022-11-29T13:56:11.480Z"
   },
   {
    "duration": 0,
    "start_time": "2022-11-29T13:56:11.481Z"
   },
   {
    "duration": 0,
    "start_time": "2022-11-29T13:56:11.482Z"
   },
   {
    "duration": 0,
    "start_time": "2022-11-29T13:56:11.483Z"
   },
   {
    "duration": 0,
    "start_time": "2022-11-29T13:56:11.484Z"
   },
   {
    "duration": 0,
    "start_time": "2022-11-29T13:56:11.485Z"
   },
   {
    "duration": 0,
    "start_time": "2022-11-29T13:56:11.486Z"
   },
   {
    "duration": 0,
    "start_time": "2022-11-29T13:56:11.487Z"
   },
   {
    "duration": 0,
    "start_time": "2022-11-29T13:56:11.488Z"
   },
   {
    "duration": 0,
    "start_time": "2022-11-29T13:56:11.489Z"
   },
   {
    "duration": 0,
    "start_time": "2022-11-29T13:56:11.490Z"
   },
   {
    "duration": 0,
    "start_time": "2022-11-29T13:56:11.491Z"
   },
   {
    "duration": 7,
    "start_time": "2022-11-29T13:56:19.621Z"
   },
   {
    "duration": 9,
    "start_time": "2022-11-29T13:56:34.775Z"
   },
   {
    "duration": 1186,
    "start_time": "2022-11-29T13:58:14.258Z"
   },
   {
    "duration": 27,
    "start_time": "2022-11-29T13:58:15.446Z"
   },
   {
    "duration": 12,
    "start_time": "2022-11-29T13:58:15.474Z"
   },
   {
    "duration": 10,
    "start_time": "2022-11-29T13:58:15.488Z"
   },
   {
    "duration": 8,
    "start_time": "2022-11-29T13:58:15.500Z"
   },
   {
    "duration": 15,
    "start_time": "2022-11-29T13:58:15.510Z"
   },
   {
    "duration": 13,
    "start_time": "2022-11-29T13:58:15.527Z"
   },
   {
    "duration": 5,
    "start_time": "2022-11-29T13:58:15.541Z"
   },
   {
    "duration": 53,
    "start_time": "2022-11-29T13:58:15.548Z"
   },
   {
    "duration": 9,
    "start_time": "2022-11-29T13:58:15.603Z"
   },
   {
    "duration": 43,
    "start_time": "2022-11-29T13:58:15.613Z"
   },
   {
    "duration": 16,
    "start_time": "2022-11-29T13:58:15.658Z"
   },
   {
    "duration": 7,
    "start_time": "2022-11-29T13:58:15.675Z"
   },
   {
    "duration": 11,
    "start_time": "2022-11-29T13:58:15.683Z"
   },
   {
    "duration": 6,
    "start_time": "2022-11-29T13:58:15.695Z"
   },
   {
    "duration": 13,
    "start_time": "2022-11-29T13:58:15.703Z"
   },
   {
    "duration": 6,
    "start_time": "2022-11-29T13:58:15.717Z"
   },
   {
    "duration": 7,
    "start_time": "2022-11-29T13:58:15.724Z"
   },
   {
    "duration": 11,
    "start_time": "2022-11-29T13:58:15.733Z"
   },
   {
    "duration": 35,
    "start_time": "2022-11-29T13:58:15.746Z"
   },
   {
    "duration": 12,
    "start_time": "2022-11-29T13:58:15.783Z"
   },
   {
    "duration": 5,
    "start_time": "2022-11-29T13:58:15.797Z"
   },
   {
    "duration": 8,
    "start_time": "2022-11-29T13:58:15.804Z"
   },
   {
    "duration": 13,
    "start_time": "2022-11-29T13:58:15.814Z"
   },
   {
    "duration": 6,
    "start_time": "2022-11-29T13:58:15.829Z"
   },
   {
    "duration": 8,
    "start_time": "2022-11-29T13:58:15.837Z"
   },
   {
    "duration": 182,
    "start_time": "2022-11-29T13:58:15.847Z"
   },
   {
    "duration": 126,
    "start_time": "2022-11-29T13:58:16.034Z"
   },
   {
    "duration": 6,
    "start_time": "2022-11-29T13:58:16.162Z"
   },
   {
    "duration": 8,
    "start_time": "2022-11-29T13:58:16.178Z"
   },
   {
    "duration": 9,
    "start_time": "2022-11-29T13:58:16.188Z"
   },
   {
    "duration": 15,
    "start_time": "2022-11-29T13:58:16.199Z"
   },
   {
    "duration": 248,
    "start_time": "2022-11-29T13:58:16.216Z"
   },
   {
    "duration": 12,
    "start_time": "2022-11-29T13:58:16.466Z"
   },
   {
    "duration": 8,
    "start_time": "2022-11-29T13:58:16.480Z"
   },
   {
    "duration": 175,
    "start_time": "2022-11-29T13:58:16.489Z"
   },
   {
    "duration": 286,
    "start_time": "2022-11-29T13:58:16.665Z"
   },
   {
    "duration": 212,
    "start_time": "2022-11-29T13:58:16.952Z"
   },
   {
    "duration": 300,
    "start_time": "2022-11-29T13:58:17.166Z"
   },
   {
    "duration": 14,
    "start_time": "2022-11-29T13:58:17.468Z"
   },
   {
    "duration": 8,
    "start_time": "2022-11-29T13:58:17.483Z"
   },
   {
    "duration": 101,
    "start_time": "2022-11-29T13:58:17.492Z"
   },
   {
    "duration": 9,
    "start_time": "2022-11-29T13:58:17.595Z"
   },
   {
    "duration": 114,
    "start_time": "2022-11-29T13:58:17.605Z"
   },
   {
    "duration": 5,
    "start_time": "2022-11-29T13:58:17.720Z"
   },
   {
    "duration": 7,
    "start_time": "2022-11-29T13:58:17.726Z"
   },
   {
    "duration": 10,
    "start_time": "2022-11-29T13:58:17.735Z"
   },
   {
    "duration": 6,
    "start_time": "2022-11-29T13:58:17.746Z"
   },
   {
    "duration": 26,
    "start_time": "2022-11-29T13:58:17.753Z"
   },
   {
    "duration": 131,
    "start_time": "2022-11-29T13:58:17.780Z"
   },
   {
    "duration": 194,
    "start_time": "2022-11-29T13:58:17.912Z"
   },
   {
    "duration": 5,
    "start_time": "2022-11-29T13:58:18.107Z"
   },
   {
    "duration": 24,
    "start_time": "2022-11-29T13:58:18.113Z"
   },
   {
    "duration": 11,
    "start_time": "2022-11-29T13:58:18.138Z"
   },
   {
    "duration": 17,
    "start_time": "2022-11-29T13:58:18.150Z"
   },
   {
    "duration": 180,
    "start_time": "2022-11-29T13:58:18.168Z"
   },
   {
    "duration": 175,
    "start_time": "2022-11-29T13:58:18.349Z"
   },
   {
    "duration": 10,
    "start_time": "2022-11-29T13:58:18.526Z"
   },
   {
    "duration": 22,
    "start_time": "2022-11-29T13:58:18.538Z"
   },
   {
    "duration": 34,
    "start_time": "2022-11-29T13:58:18.562Z"
   },
   {
    "duration": 14,
    "start_time": "2022-11-29T13:58:18.597Z"
   },
   {
    "duration": 1128,
    "start_time": "2022-11-29T13:59:30.166Z"
   },
   {
    "duration": 28,
    "start_time": "2022-11-29T13:59:31.296Z"
   },
   {
    "duration": 12,
    "start_time": "2022-11-29T13:59:31.325Z"
   },
   {
    "duration": 12,
    "start_time": "2022-11-29T13:59:31.339Z"
   },
   {
    "duration": 8,
    "start_time": "2022-11-29T13:59:31.353Z"
   },
   {
    "duration": 10,
    "start_time": "2022-11-29T13:59:31.362Z"
   },
   {
    "duration": 11,
    "start_time": "2022-11-29T13:59:31.374Z"
   },
   {
    "duration": 7,
    "start_time": "2022-11-29T13:59:31.386Z"
   },
   {
    "duration": 45,
    "start_time": "2022-11-29T13:59:31.395Z"
   },
   {
    "duration": 8,
    "start_time": "2022-11-29T13:59:31.442Z"
   },
   {
    "duration": 45,
    "start_time": "2022-11-29T13:59:31.452Z"
   },
   {
    "duration": 15,
    "start_time": "2022-11-29T13:59:31.498Z"
   },
   {
    "duration": 7,
    "start_time": "2022-11-29T13:59:31.516Z"
   },
   {
    "duration": 13,
    "start_time": "2022-11-29T13:59:31.526Z"
   },
   {
    "duration": 7,
    "start_time": "2022-11-29T13:59:31.540Z"
   },
   {
    "duration": 16,
    "start_time": "2022-11-29T13:59:31.549Z"
   },
   {
    "duration": 4,
    "start_time": "2022-11-29T13:59:31.567Z"
   },
   {
    "duration": 6,
    "start_time": "2022-11-29T13:59:31.573Z"
   },
   {
    "duration": 11,
    "start_time": "2022-11-29T13:59:31.580Z"
   },
   {
    "duration": 8,
    "start_time": "2022-11-29T13:59:31.592Z"
   },
   {
    "duration": 13,
    "start_time": "2022-11-29T13:59:31.602Z"
   },
   {
    "duration": 6,
    "start_time": "2022-11-29T13:59:31.616Z"
   },
   {
    "duration": 10,
    "start_time": "2022-11-29T13:59:31.624Z"
   },
   {
    "duration": 10,
    "start_time": "2022-11-29T13:59:31.636Z"
   },
   {
    "duration": 30,
    "start_time": "2022-11-29T13:59:31.648Z"
   },
   {
    "duration": 8,
    "start_time": "2022-11-29T13:59:31.680Z"
   },
   {
    "duration": 162,
    "start_time": "2022-11-29T13:59:31.689Z"
   },
   {
    "duration": 111,
    "start_time": "2022-11-29T13:59:31.852Z"
   },
   {
    "duration": 13,
    "start_time": "2022-11-29T13:59:31.965Z"
   },
   {
    "duration": 13,
    "start_time": "2022-11-29T13:59:31.980Z"
   },
   {
    "duration": 9,
    "start_time": "2022-11-29T13:59:31.995Z"
   },
   {
    "duration": 9,
    "start_time": "2022-11-29T13:59:32.005Z"
   },
   {
    "duration": 253,
    "start_time": "2022-11-29T13:59:32.016Z"
   },
   {
    "duration": 15,
    "start_time": "2022-11-29T13:59:32.271Z"
   },
   {
    "duration": 11,
    "start_time": "2022-11-29T13:59:32.287Z"
   },
   {
    "duration": 187,
    "start_time": "2022-11-29T13:59:32.300Z"
   },
   {
    "duration": 276,
    "start_time": "2022-11-29T13:59:32.489Z"
   },
   {
    "duration": 218,
    "start_time": "2022-11-29T13:59:32.767Z"
   },
   {
    "duration": 278,
    "start_time": "2022-11-29T13:59:32.987Z"
   },
   {
    "duration": 12,
    "start_time": "2022-11-29T13:59:33.267Z"
   },
   {
    "duration": 7,
    "start_time": "2022-11-29T13:59:33.283Z"
   },
   {
    "duration": 4,
    "start_time": "2022-11-29T13:59:33.291Z"
   },
   {
    "duration": 10,
    "start_time": "2022-11-29T13:59:33.296Z"
   },
   {
    "duration": 128,
    "start_time": "2022-11-29T13:59:33.308Z"
   },
   {
    "duration": 4,
    "start_time": "2022-11-29T13:59:33.438Z"
   },
   {
    "duration": 6,
    "start_time": "2022-11-29T13:59:33.444Z"
   },
   {
    "duration": 10,
    "start_time": "2022-11-29T13:59:33.451Z"
   },
   {
    "duration": 3,
    "start_time": "2022-11-29T13:59:33.478Z"
   },
   {
    "duration": 9,
    "start_time": "2022-11-29T13:59:33.482Z"
   },
   {
    "duration": 149,
    "start_time": "2022-11-29T13:59:33.493Z"
   },
   {
    "duration": 206,
    "start_time": "2022-11-29T13:59:33.644Z"
   },
   {
    "duration": 5,
    "start_time": "2022-11-29T13:59:33.852Z"
   },
   {
    "duration": 19,
    "start_time": "2022-11-29T13:59:33.859Z"
   },
   {
    "duration": 8,
    "start_time": "2022-11-29T13:59:33.879Z"
   },
   {
    "duration": 10,
    "start_time": "2022-11-29T13:59:33.888Z"
   },
   {
    "duration": 244,
    "start_time": "2022-11-29T13:59:33.899Z"
   },
   {
    "duration": 154,
    "start_time": "2022-11-29T13:59:34.146Z"
   },
   {
    "duration": 10,
    "start_time": "2022-11-29T13:59:34.302Z"
   },
   {
    "duration": 12,
    "start_time": "2022-11-29T13:59:34.314Z"
   },
   {
    "duration": 30,
    "start_time": "2022-11-29T13:59:34.327Z"
   },
   {
    "duration": 28,
    "start_time": "2022-11-29T13:59:34.359Z"
   }
  ],
  "kernelspec": {
   "display_name": "Python 3 (ipykernel)",
   "language": "python",
   "name": "python3"
  },
  "language_info": {
   "codemirror_mode": {
    "name": "ipython",
    "version": 3
   },
   "file_extension": ".py",
   "mimetype": "text/x-python",
   "name": "python",
   "nbconvert_exporter": "python",
   "pygments_lexer": "ipython3",
   "version": "3.9.5"
  },
  "toc": {
   "base_numbering": 1,
   "nav_menu": {},
   "number_sections": true,
   "sideBar": true,
   "skip_h1_title": true,
   "title_cell": "Table of Contents",
   "title_sidebar": "Contents",
   "toc_cell": false,
   "toc_position": {},
   "toc_section_display": true,
   "toc_window_display": false
  }
 },
 "nbformat": 4,
 "nbformat_minor": 2
}
