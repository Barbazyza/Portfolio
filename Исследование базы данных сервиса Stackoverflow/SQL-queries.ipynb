{
 "cells": [
  {
   "cell_type": "code",
   "execution_count": 1,
   "metadata": {
    "id": "nlZBlglMDWKe"
   },
   "outputs": [],
   "source": [
    "import pandas as pd\n",
    "import matplotlib.pyplot as plt\n",
    "from sqlalchemy import create_engine \n",
    "import seaborn as sns"
   ]
  },
  {
   "cell_type": "markdown",
   "metadata": {
    "id": "XnOE3n28DWKg"
   },
   "source": [
    "### Конфигурация для подключения к базе данных `data-analyst-advanced-sql`"
   ]
  },
  {
   "cell_type": "code",
   "execution_count": 2,
   "metadata": {
    "id": "6p-yGp7qDWKg"
   },
   "outputs": [],
   "source": [
    "db_config = {\n",
    "    'user': 'praktikum_student', # имя пользователя\n",
    "    'pwd': 'Sdf4$2;d-d30pp', # пароль\n",
    "    'host': 'rc1b-wcoijxj3yxfsf3fs.mdb.yandexcloud.net',\n",
    "    'port': 6432, # порт подключения\n",
    "    'db': 'data-analyst-advanced-sql' # название базы данных\n",
    "}  \n",
    "\n",
    "connection_string = 'postgresql://{}:{}@{}:{}/{}'.format(\n",
    "    db_config['user'],\n",
    "    db_config['pwd'],\n",
    "    db_config['host'],\n",
    "    db_config['port'],\n",
    "    db_config['db'],\n",
    ")"
   ]
  },
  {
   "cell_type": "markdown",
   "metadata": {
    "id": "2Rg8ZpS0DWKh"
   },
   "source": [
    "Создание подключения"
   ]
  },
  {
   "cell_type": "code",
   "execution_count": 3,
   "metadata": {
    "id": "DamCUTR6DWKi"
   },
   "outputs": [],
   "source": [
    "engine = create_engine(connection_string) "
   ]
  },
  {
   "cell_type": "markdown",
   "metadata": {
    "id": "bel8XeSlDWKj"
   },
   "source": [
    "Пример запроса к базе данных\n",
    "\n",
    "`sample_df` является pandas-датафреймом."
   ]
  },
  {
   "cell_type": "code",
   "execution_count": 4,
   "metadata": {
    "id": "6Z_fw0yLDWKk"
   },
   "outputs": [],
   "source": [
    "query = '''\n",
    "SELECT *\n",
    "FROM stackoverflow.users\n",
    "LIMIT 10;\n",
    "'''\n",
    "\n",
    "sample_df = pd.read_sql_query(query, con=engine) "
   ]
  },
  {
   "cell_type": "code",
   "execution_count": 5,
   "metadata": {
    "id": "ZpuZ290oDWKk",
    "outputId": "22785a0a-e2bc-4559-ec3c-4879c4b377eb"
   },
   "outputs": [
    {
     "data": {
      "text/html": [
       "<div>\n",
       "<style scoped>\n",
       "    .dataframe tbody tr th:only-of-type {\n",
       "        vertical-align: middle;\n",
       "    }\n",
       "\n",
       "    .dataframe tbody tr th {\n",
       "        vertical-align: top;\n",
       "    }\n",
       "\n",
       "    .dataframe thead th {\n",
       "        text-align: right;\n",
       "    }\n",
       "</style>\n",
       "<table border=\"1\" class=\"dataframe\">\n",
       "  <thead>\n",
       "    <tr style=\"text-align: right;\">\n",
       "      <th></th>\n",
       "      <th>id</th>\n",
       "      <th>creation_date</th>\n",
       "      <th>display_name</th>\n",
       "      <th>last_access_date</th>\n",
       "      <th>location</th>\n",
       "      <th>reputation</th>\n",
       "      <th>views</th>\n",
       "    </tr>\n",
       "  </thead>\n",
       "  <tbody>\n",
       "    <tr>\n",
       "      <th>0</th>\n",
       "      <td>1</td>\n",
       "      <td>2008-07-31 14:22:31</td>\n",
       "      <td>Jeff Atwood</td>\n",
       "      <td>2018-08-29 02:34:23</td>\n",
       "      <td>El Cerrito, CA</td>\n",
       "      <td>44300</td>\n",
       "      <td>408587</td>\n",
       "    </tr>\n",
       "    <tr>\n",
       "      <th>1</th>\n",
       "      <td>2</td>\n",
       "      <td>2008-07-31 14:22:31</td>\n",
       "      <td>Geoff Dalgas</td>\n",
       "      <td>2018-08-23 17:31:56</td>\n",
       "      <td>Corvallis, OR</td>\n",
       "      <td>3491</td>\n",
       "      <td>23966</td>\n",
       "    </tr>\n",
       "    <tr>\n",
       "      <th>2</th>\n",
       "      <td>3</td>\n",
       "      <td>2008-07-31 14:22:31</td>\n",
       "      <td>Jarrod Dixon</td>\n",
       "      <td>2018-08-30 20:56:24</td>\n",
       "      <td>Raleigh, NC, United States</td>\n",
       "      <td>13418</td>\n",
       "      <td>24396</td>\n",
       "    </tr>\n",
       "    <tr>\n",
       "      <th>3</th>\n",
       "      <td>4</td>\n",
       "      <td>2008-07-31 14:22:31</td>\n",
       "      <td>Joel Spolsky</td>\n",
       "      <td>2018-08-14 22:18:15</td>\n",
       "      <td>New York, NY</td>\n",
       "      <td>28768</td>\n",
       "      <td>73755</td>\n",
       "    </tr>\n",
       "    <tr>\n",
       "      <th>4</th>\n",
       "      <td>5</td>\n",
       "      <td>2008-07-31 14:22:31</td>\n",
       "      <td>Jon Galloway</td>\n",
       "      <td>2018-08-29 16:48:36</td>\n",
       "      <td>San Diego, CA</td>\n",
       "      <td>39172</td>\n",
       "      <td>11700</td>\n",
       "    </tr>\n",
       "    <tr>\n",
       "      <th>5</th>\n",
       "      <td>8</td>\n",
       "      <td>2008-07-31 21:33:24</td>\n",
       "      <td>Eggs McLaren</td>\n",
       "      <td>2018-04-09 02:04:56</td>\n",
       "      <td>None</td>\n",
       "      <td>942</td>\n",
       "      <td>6372</td>\n",
       "    </tr>\n",
       "    <tr>\n",
       "      <th>6</th>\n",
       "      <td>9</td>\n",
       "      <td>2008-07-31 21:35:27</td>\n",
       "      <td>Kevin Dente</td>\n",
       "      <td>2018-08-30 18:18:03</td>\n",
       "      <td>Oakland, CA</td>\n",
       "      <td>14337</td>\n",
       "      <td>4949</td>\n",
       "    </tr>\n",
       "    <tr>\n",
       "      <th>7</th>\n",
       "      <td>11</td>\n",
       "      <td>2008-08-01 00:59:11</td>\n",
       "      <td>Anonymous User</td>\n",
       "      <td>2008-08-01 00:59:11</td>\n",
       "      <td>None</td>\n",
       "      <td>1890</td>\n",
       "      <td>2123</td>\n",
       "    </tr>\n",
       "    <tr>\n",
       "      <th>8</th>\n",
       "      <td>13</td>\n",
       "      <td>2008-08-01 04:18:05</td>\n",
       "      <td>Chris Jester-Young</td>\n",
       "      <td>2018-08-30 02:47:23</td>\n",
       "      <td>Raleigh, NC, United States</td>\n",
       "      <td>177138</td>\n",
       "      <td>35414</td>\n",
       "    </tr>\n",
       "    <tr>\n",
       "      <th>9</th>\n",
       "      <td>17</td>\n",
       "      <td>2008-08-01 12:02:22</td>\n",
       "      <td>Nick Berardi</td>\n",
       "      <td>2018-01-22 01:35:38</td>\n",
       "      <td>Issaquah, WA</td>\n",
       "      <td>44443</td>\n",
       "      <td>4786</td>\n",
       "    </tr>\n",
       "  </tbody>\n",
       "</table>\n",
       "</div>"
      ],
      "text/plain": [
       "   id       creation_date        display_name    last_access_date  \\\n",
       "0   1 2008-07-31 14:22:31         Jeff Atwood 2018-08-29 02:34:23   \n",
       "1   2 2008-07-31 14:22:31        Geoff Dalgas 2018-08-23 17:31:56   \n",
       "2   3 2008-07-31 14:22:31        Jarrod Dixon 2018-08-30 20:56:24   \n",
       "3   4 2008-07-31 14:22:31        Joel Spolsky 2018-08-14 22:18:15   \n",
       "4   5 2008-07-31 14:22:31        Jon Galloway 2018-08-29 16:48:36   \n",
       "5   8 2008-07-31 21:33:24        Eggs McLaren 2018-04-09 02:04:56   \n",
       "6   9 2008-07-31 21:35:27         Kevin Dente 2018-08-30 18:18:03   \n",
       "7  11 2008-08-01 00:59:11      Anonymous User 2008-08-01 00:59:11   \n",
       "8  13 2008-08-01 04:18:05  Chris Jester-Young 2018-08-30 02:47:23   \n",
       "9  17 2008-08-01 12:02:22        Nick Berardi 2018-01-22 01:35:38   \n",
       "\n",
       "                     location  reputation   views  \n",
       "0              El Cerrito, CA       44300  408587  \n",
       "1               Corvallis, OR        3491   23966  \n",
       "2  Raleigh, NC, United States       13418   24396  \n",
       "3                New York, NY       28768   73755  \n",
       "4               San Diego, CA       39172   11700  \n",
       "5                        None         942    6372  \n",
       "6                 Oakland, CA       14337    4949  \n",
       "7                        None        1890    2123  \n",
       "8  Raleigh, NC, United States      177138   35414  \n",
       "9                Issaquah, WA       44443    4786  "
      ]
     },
     "execution_count": 5,
     "metadata": {},
     "output_type": "execute_result"
    }
   ],
   "source": [
    "sample_df"
   ]
  },
  {
   "cell_type": "markdown",
   "metadata": {
    "id": "gnBMXkDBDWKm"
   },
   "source": [
    "# Задание 1"
   ]
  },
  {
   "cell_type": "markdown",
   "metadata": {
    "id": "vHsfOrrNDWKn"
   },
   "source": [
    "Выведите общую сумму просмотров постов за каждый месяц 2008 года. Если данных за какой-либо месяц в базе нет, такой месяц можно пропустить. Результат отсортируйте по убыванию общего количества просмотров."
   ]
  },
  {
   "cell_type": "markdown",
   "metadata": {
    "id": "N5rTgGNmDWKn"
   },
   "source": [
    "| month_date  | total_views |\n",
    "| ------------- | ------------- |\n",
    "| 2008-09-01  | 452928568  |\n",
    "| 2008-10-01  | 365400138  |\n",
    "| ...         | ... |"
   ]
  },
  {
   "cell_type": "code",
   "execution_count": 6,
   "metadata": {
    "id": "eWvykcXTDWKo"
   },
   "outputs": [],
   "source": [
    "# напишите запрос\n",
    "query = '''\n",
    "SELECT distinct(date_trunc('month', creation_date)::date) as month_date,\n",
    "sum(views_count) over (PARTITION BY date_trunc('month', creation_date)::date) as total_views\n",
    "FROM stackoverflow.posts\n",
    "WHERE date_trunc('year', creation_date) = '2008-01-01'\n",
    "ORDER BY total_views desc\n",
    ";\n",
    "'''\n",
    "sample_df = pd.read_sql_query(query, con=engine) \n",
    "# выполните запрос"
   ]
  },
  {
   "cell_type": "code",
   "execution_count": 7,
   "metadata": {},
   "outputs": [
    {
     "data": {
      "text/html": [
       "<div>\n",
       "<style scoped>\n",
       "    .dataframe tbody tr th:only-of-type {\n",
       "        vertical-align: middle;\n",
       "    }\n",
       "\n",
       "    .dataframe tbody tr th {\n",
       "        vertical-align: top;\n",
       "    }\n",
       "\n",
       "    .dataframe thead th {\n",
       "        text-align: right;\n",
       "    }\n",
       "</style>\n",
       "<table border=\"1\" class=\"dataframe\">\n",
       "  <thead>\n",
       "    <tr style=\"text-align: right;\">\n",
       "      <th></th>\n",
       "      <th>month_date</th>\n",
       "      <th>total_views</th>\n",
       "    </tr>\n",
       "  </thead>\n",
       "  <tbody>\n",
       "    <tr>\n",
       "      <th>0</th>\n",
       "      <td>2008-09-01</td>\n",
       "      <td>452928568</td>\n",
       "    </tr>\n",
       "    <tr>\n",
       "      <th>1</th>\n",
       "      <td>2008-10-01</td>\n",
       "      <td>365400138</td>\n",
       "    </tr>\n",
       "    <tr>\n",
       "      <th>2</th>\n",
       "      <td>2008-11-01</td>\n",
       "      <td>221759651</td>\n",
       "    </tr>\n",
       "    <tr>\n",
       "      <th>3</th>\n",
       "      <td>2008-12-01</td>\n",
       "      <td>197792841</td>\n",
       "    </tr>\n",
       "    <tr>\n",
       "      <th>4</th>\n",
       "      <td>2008-08-01</td>\n",
       "      <td>131367083</td>\n",
       "    </tr>\n",
       "    <tr>\n",
       "      <th>5</th>\n",
       "      <td>2008-07-01</td>\n",
       "      <td>669895</td>\n",
       "    </tr>\n",
       "  </tbody>\n",
       "</table>\n",
       "</div>"
      ],
      "text/plain": [
       "   month_date  total_views\n",
       "0  2008-09-01    452928568\n",
       "1  2008-10-01    365400138\n",
       "2  2008-11-01    221759651\n",
       "3  2008-12-01    197792841\n",
       "4  2008-08-01    131367083\n",
       "5  2008-07-01       669895"
      ]
     },
     "execution_count": 7,
     "metadata": {},
     "output_type": "execute_result"
    }
   ],
   "source": [
    "sample_df"
   ]
  },
  {
   "cell_type": "markdown",
   "metadata": {
    "id": "XMr_UeU6DWKo"
   },
   "source": [
    "<details>\n",
    "\n",
    "<summary>Подсказка</summary>\n",
    "Используйте функцию для усечения даты, а затем сгруппируйте и отсортируйте данные.\n",
    "</details>"
   ]
  },
  {
   "cell_type": "markdown",
   "metadata": {
    "id": "I_ZvhOxkDWKp"
   },
   "source": [
    "Проанализируйте итоговую таблицу. Отличаются ли данные за разные месяцы? С чем могут быть связаны отличия?"
   ]
  },
  {
   "cell_type": "markdown",
   "metadata": {
    "id": "luxSj17oDWKq"
   },
   "source": [
    "Данные отличаются. Особеено это заметно разницой между 7, 8 и 9-м месяцем. Такие резкие изменения могут быть связаны с тем, что c июле 2008 года, только начали создавать данную базу. После сентября начался постепенный спад. Но к сожалению нельзя понять почему он именно произошел, так как мы не знаем полной картины(возможно дальше опять идет прирост). Можно предположить, что в сентябре произашла сезонная активность, а к декаблю она немного упала."
   ]
  },
  {
   "cell_type": "markdown",
   "metadata": {
    "id": "FziIXkn5DWKr"
   },
   "source": [
    "# Задание 2"
   ]
  },
  {
   "cell_type": "markdown",
   "metadata": {
    "id": "fTGESZvYDWKr"
   },
   "source": [
    "Выведите имена самых активных пользователей, которые в первый месяц после регистрации (включая день регистрации) дали больше 100 ответов. Вопросы, которые задавали пользователи, не учитывайте. Для каждого имени пользователя выведите количество уникальных значений `user_id`. Отсортируйте результат по полю с именами в лексикографическом порядке."
   ]
  },
  {
   "cell_type": "markdown",
   "metadata": {
    "id": "W5-tv6Y3DWKs"
   },
   "source": [
    "| display_name | count |\n",
    "| ------------ | ----- |\n",
    "| 1800 INFORMATION | 1 |\n",
    "| Adam Bellaire | 1 |\n",
    "| Adam Davis | 1 |\n",
    "| ... | ... |"
   ]
  },
  {
   "cell_type": "code",
   "execution_count": 8,
   "metadata": {
    "id": "fIO-y-YjDWKt"
   },
   "outputs": [],
   "source": [
    "# напишите запрос\n",
    "query = '''\n",
    "With post_answer as\n",
    "(SELECT *\n",
    "from stackoverflow.posts\n",
    "WHERE post_type_id = (\n",
    "SELECT id\n",
    "FROM stackoverflow.post_types\n",
    "Where type = 'Answer')),\n",
    "\n",
    "user_info as\n",
    "(select id,\n",
    " display_name,\n",
    " creation_date,\n",
    " creation_date + interval'1 month' as month_end\n",
    "from stackoverflow.users)\n",
    "\n",
    "select distinct(ui.display_name),\n",
    "count(distinct(pa.user_id))\n",
    "from user_info as ui\n",
    "join post_answer as pa on ui.id = pa.user_id and pa.creation_date >=ui.creation_date and pa.creation_date <=ui.month_end\n",
    "group by ui.display_name \n",
    "having count(distinct(pa.id))>100\n",
    "order by 1\n",
    "'''\n",
    "sample_df = pd.read_sql_query(query, con=engine)\n",
    "# выполните запрос"
   ]
  },
  {
   "cell_type": "code",
   "execution_count": 9,
   "metadata": {},
   "outputs": [
    {
     "data": {
      "text/html": [
       "<div>\n",
       "<style scoped>\n",
       "    .dataframe tbody tr th:only-of-type {\n",
       "        vertical-align: middle;\n",
       "    }\n",
       "\n",
       "    .dataframe tbody tr th {\n",
       "        vertical-align: top;\n",
       "    }\n",
       "\n",
       "    .dataframe thead th {\n",
       "        text-align: right;\n",
       "    }\n",
       "</style>\n",
       "<table border=\"1\" class=\"dataframe\">\n",
       "  <thead>\n",
       "    <tr style=\"text-align: right;\">\n",
       "      <th></th>\n",
       "      <th>display_name</th>\n",
       "      <th>count</th>\n",
       "    </tr>\n",
       "  </thead>\n",
       "  <tbody>\n",
       "    <tr>\n",
       "      <th>0</th>\n",
       "      <td>1800 INFORMATION</td>\n",
       "      <td>1</td>\n",
       "    </tr>\n",
       "    <tr>\n",
       "      <th>1</th>\n",
       "      <td>Adam Bellaire</td>\n",
       "      <td>1</td>\n",
       "    </tr>\n",
       "    <tr>\n",
       "      <th>2</th>\n",
       "      <td>Adam Davis</td>\n",
       "      <td>1</td>\n",
       "    </tr>\n",
       "    <tr>\n",
       "      <th>3</th>\n",
       "      <td>Adam Liss</td>\n",
       "      <td>1</td>\n",
       "    </tr>\n",
       "    <tr>\n",
       "      <th>4</th>\n",
       "      <td>Alan</td>\n",
       "      <td>8</td>\n",
       "    </tr>\n",
       "    <tr>\n",
       "      <th>...</th>\n",
       "      <td>...</td>\n",
       "      <td>...</td>\n",
       "    </tr>\n",
       "    <tr>\n",
       "      <th>71</th>\n",
       "      <td>leppie</td>\n",
       "      <td>1</td>\n",
       "    </tr>\n",
       "    <tr>\n",
       "      <th>72</th>\n",
       "      <td>lomaxx</td>\n",
       "      <td>1</td>\n",
       "    </tr>\n",
       "    <tr>\n",
       "      <th>73</th>\n",
       "      <td>mattlant</td>\n",
       "      <td>1</td>\n",
       "    </tr>\n",
       "    <tr>\n",
       "      <th>74</th>\n",
       "      <td>paxdiablo</td>\n",
       "      <td>1</td>\n",
       "    </tr>\n",
       "    <tr>\n",
       "      <th>75</th>\n",
       "      <td>tzot</td>\n",
       "      <td>1</td>\n",
       "    </tr>\n",
       "  </tbody>\n",
       "</table>\n",
       "<p>76 rows × 2 columns</p>\n",
       "</div>"
      ],
      "text/plain": [
       "        display_name  count\n",
       "0   1800 INFORMATION      1\n",
       "1      Adam Bellaire      1\n",
       "2         Adam Davis      1\n",
       "3          Adam Liss      1\n",
       "4               Alan      8\n",
       "..               ...    ...\n",
       "71            leppie      1\n",
       "72            lomaxx      1\n",
       "73          mattlant      1\n",
       "74         paxdiablo      1\n",
       "75              tzot      1\n",
       "\n",
       "[76 rows x 2 columns]"
      ]
     },
     "execution_count": 9,
     "metadata": {},
     "output_type": "execute_result"
    }
   ],
   "source": [
    "sample_df "
   ]
  },
  {
   "cell_type": "markdown",
   "metadata": {
    "id": "YIqqc-7HDWKt"
   },
   "source": [
    "<details>\n",
    "\n",
    "<summary>Подсказка</summary>\n",
    "Вам нужно присоединить несколько таблиц — изучите внимательнее описание базы. Чтобы добавить промежуток времени к дате, используйте ключевое слово INTERVAL, например, так: <дата> + INTERVAL '1 year 2 months 3 days'\n",
    ".</details>"
   ]
  },
  {
   "cell_type": "markdown",
   "metadata": {
    "id": "I3Wr82TplKpI"
   },
   "source": [
    "Какие аномалии наблюдаются в данных? О чём они говорят?"
   ]
  },
  {
   "cell_type": "markdown",
   "metadata": {
    "id": "CEIGGQ6ODWKy"
   },
   "source": [
    "Видно,что некоторые имена имеют несколько уникальных индетификационных нормера. Это значит что существует возможность регистрирования с одинаковыми именами. Это не совсем коррескто, так как в будущем будет сложнее работать с базами данных содержащими одинаковые имена."
   ]
  },
  {
   "cell_type": "markdown",
   "metadata": {
    "id": "JhM2xXj5DWKu"
   },
   "source": [
    "# Задание 3"
   ]
  },
  {
   "cell_type": "markdown",
   "metadata": {
    "id": "IS6xPqyyDWKu"
   },
   "source": [
    "Выведите количество постов за 2008 год по месяцам. Отберите посты от пользователей, которые зарегистрировались в сентябре 2008 года и сделали хотя бы один пост в декабре того же года. Отсортируйте таблицу по значению месяца по убыванию."
   ]
  },
  {
   "cell_type": "markdown",
   "metadata": {
    "id": "WmjhjV2xDWKv"
   },
   "source": [
    "| month | count |\n",
    "| ------|------ |\n",
    "| 2008-12-01 | 17641 |\n",
    "| 2008-11-01 | 18294 |\n",
    "| ... | ... |"
   ]
  },
  {
   "cell_type": "code",
   "execution_count": 10,
   "metadata": {
    "id": "kVu0FB8WDWKv"
   },
   "outputs": [],
   "source": [
    "# напишите запрос\n",
    "query = '''\n",
    "with users_month as\n",
    "(SELECT id\n",
    "FROM stackoverflow.users\n",
    "WHERE date_trunc('month',creation_date)::date = '2008-09-01'),\n",
    "posts_month as\n",
    "(SELECT sp.user_id\n",
    "FROM stackoverflow.posts as sp\n",
    "JOIN users_month as um on sp.user_id = um.id\n",
    "WHERE date_trunc('month',sp.creation_date)::date = '2008-12-01')\n",
    "\n",
    "SELECT date_trunc('month',sp.creation_date)::date as month,\n",
    "COUNT(distinct(sp.id)) as count\n",
    "FROM stackoverflow.posts as sp\n",
    "JOIN posts_month as pm on sp.user_id = pm.user_id\n",
    "WHERE date_trunc('year',sp.creation_date)::date = '2008-01-01'\n",
    "group by date_trunc('month',sp.creation_date)::date\n",
    "order by month desc\n",
    "'''\n",
    "sample_df = pd.read_sql_query(query, con=engine) \n",
    "# выполните запрос"
   ]
  },
  {
   "cell_type": "code",
   "execution_count": 11,
   "metadata": {},
   "outputs": [
    {
     "data": {
      "text/html": [
       "<div>\n",
       "<style scoped>\n",
       "    .dataframe tbody tr th:only-of-type {\n",
       "        vertical-align: middle;\n",
       "    }\n",
       "\n",
       "    .dataframe tbody tr th {\n",
       "        vertical-align: top;\n",
       "    }\n",
       "\n",
       "    .dataframe thead th {\n",
       "        text-align: right;\n",
       "    }\n",
       "</style>\n",
       "<table border=\"1\" class=\"dataframe\">\n",
       "  <thead>\n",
       "    <tr style=\"text-align: right;\">\n",
       "      <th></th>\n",
       "      <th>month</th>\n",
       "      <th>count</th>\n",
       "    </tr>\n",
       "  </thead>\n",
       "  <tbody>\n",
       "    <tr>\n",
       "      <th>0</th>\n",
       "      <td>2008-12-01</td>\n",
       "      <td>17641</td>\n",
       "    </tr>\n",
       "    <tr>\n",
       "      <th>1</th>\n",
       "      <td>2008-11-01</td>\n",
       "      <td>18294</td>\n",
       "    </tr>\n",
       "    <tr>\n",
       "      <th>2</th>\n",
       "      <td>2008-10-01</td>\n",
       "      <td>27171</td>\n",
       "    </tr>\n",
       "    <tr>\n",
       "      <th>3</th>\n",
       "      <td>2008-09-01</td>\n",
       "      <td>24870</td>\n",
       "    </tr>\n",
       "    <tr>\n",
       "      <th>4</th>\n",
       "      <td>2008-08-01</td>\n",
       "      <td>32</td>\n",
       "    </tr>\n",
       "  </tbody>\n",
       "</table>\n",
       "</div>"
      ],
      "text/plain": [
       "        month  count\n",
       "0  2008-12-01  17641\n",
       "1  2008-11-01  18294\n",
       "2  2008-10-01  27171\n",
       "3  2008-09-01  24870\n",
       "4  2008-08-01     32"
      ]
     },
     "execution_count": 11,
     "metadata": {},
     "output_type": "execute_result"
    }
   ],
   "source": [
    "sample_df"
   ]
  },
  {
   "cell_type": "markdown",
   "metadata": {
    "id": "nWf0JsTMDWKx"
   },
   "source": [
    "<details>\n",
    "\n",
    "<summary>Подсказка</summary>\n",
    "Сначала найдите идентификаторы пользователей, которые зарегистрировались в сентябре 2008 года и оставили хотя бы один пост в декабре. Затем используйте результат для среза и посчитайте посты по месяцам.</details>"
   ]
  },
  {
   "cell_type": "markdown",
   "metadata": {
    "id": "Vnxn9DVHDWKx"
   },
   "source": [
    "Изучите данные: есть ли в них аномалии? Предположите, почему могли появиться аномальные значения."
   ]
  },
  {
   "cell_type": "markdown",
   "metadata": {
    "id": "MMVIz4yMlKpN"
   },
   "source": [
    "В августе самое маленькое колличество постов. Это пожет быть связано с какой-то ошибкой на сайте, из-за которой люди не могли писать посты."
   ]
  },
  {
   "cell_type": "markdown",
   "metadata": {
    "id": "5Pcizm0DDWKz"
   },
   "source": [
    "# Задание 4"
   ]
  },
  {
   "cell_type": "markdown",
   "metadata": {
    "id": "KUZPF6vHDWKz"
   },
   "source": [
    "Используя данные о постах, выведите несколько полей:\n",
    "\n",
    "- идентификатор пользователя, который написал пост;\n",
    "- дата создания поста;\n",
    "- количество просмотров у текущего поста;\n",
    "- сумму просмотров постов автора с накоплением.\n",
    "\n",
    "Данные в таблице должны быть отсортированы по возрастанию идентификаторов пользователей, а данные об одном и том же пользователе — по возрастанию даты создания поста."
   ]
  },
  {
   "cell_type": "markdown",
   "metadata": {
    "id": "ZpsTUVDYDWK0"
   },
   "source": [
    "| user_id | creation_date | views_count | cumulative_count |\n",
    "| ------ | -------------- | ----------- | ---------------- |\n",
    "| 1 | 2008-07-31 23:41:00  | 480476   | 480476  |\n",
    "| 1 | 2008-07-31 23:55:38  | 136033 | 616509  | \n",
    "| 1 | 2008-07-31 23:56:41  | 0 |  616509  |\n",
    "| ... | ... | ... | ... |\n",
    "| 2 | 2008-07-31 23:56:41 | 79087  | 79087 |\n",
    "| 2 | 2008-08-01 05:09:56 | 65443 | 144530 |\n",
    "| ... | ...  | ...  | ...  |"
   ]
  },
  {
   "cell_type": "code",
   "execution_count": 12,
   "metadata": {
    "id": "hDoJhMzfDWK0"
   },
   "outputs": [],
   "source": [
    "# напишите запрос\n",
    "query = '''\n",
    "SELECT user_id,\n",
    "creation_date,\n",
    "views_count,\n",
    "sum(views_count) over (order by user_id,creation_date) as cumulative_count\n",
    "FROM stackoverflow.posts\n",
    "'''\n",
    "sample_df = pd.read_sql_query(query, con=engine) \n",
    "# выполните запрос"
   ]
  },
  {
   "cell_type": "code",
   "execution_count": 13,
   "metadata": {},
   "outputs": [
    {
     "data": {
      "text/html": [
       "<div>\n",
       "<style scoped>\n",
       "    .dataframe tbody tr th:only-of-type {\n",
       "        vertical-align: middle;\n",
       "    }\n",
       "\n",
       "    .dataframe tbody tr th {\n",
       "        vertical-align: top;\n",
       "    }\n",
       "\n",
       "    .dataframe thead th {\n",
       "        text-align: right;\n",
       "    }\n",
       "</style>\n",
       "<table border=\"1\" class=\"dataframe\">\n",
       "  <thead>\n",
       "    <tr style=\"text-align: right;\">\n",
       "      <th></th>\n",
       "      <th>user_id</th>\n",
       "      <th>creation_date</th>\n",
       "      <th>views_count</th>\n",
       "      <th>cumulative_count</th>\n",
       "    </tr>\n",
       "  </thead>\n",
       "  <tbody>\n",
       "    <tr>\n",
       "      <th>0</th>\n",
       "      <td>1</td>\n",
       "      <td>2008-07-31 23:41:00</td>\n",
       "      <td>480476</td>\n",
       "      <td>480476</td>\n",
       "    </tr>\n",
       "    <tr>\n",
       "      <th>1</th>\n",
       "      <td>1</td>\n",
       "      <td>2008-07-31 23:55:38</td>\n",
       "      <td>136033</td>\n",
       "      <td>616509</td>\n",
       "    </tr>\n",
       "    <tr>\n",
       "      <th>2</th>\n",
       "      <td>1</td>\n",
       "      <td>2008-07-31 23:56:41</td>\n",
       "      <td>0</td>\n",
       "      <td>616509</td>\n",
       "    </tr>\n",
       "    <tr>\n",
       "      <th>3</th>\n",
       "      <td>1</td>\n",
       "      <td>2008-08-04 02:45:08</td>\n",
       "      <td>0</td>\n",
       "      <td>616509</td>\n",
       "    </tr>\n",
       "    <tr>\n",
       "      <th>4</th>\n",
       "      <td>1</td>\n",
       "      <td>2008-08-04 04:31:03</td>\n",
       "      <td>0</td>\n",
       "      <td>616509</td>\n",
       "    </tr>\n",
       "    <tr>\n",
       "      <th>...</th>\n",
       "      <td>...</td>\n",
       "      <td>...</td>\n",
       "      <td>...</td>\n",
       "      <td>...</td>\n",
       "    </tr>\n",
       "    <tr>\n",
       "      <th>243791</th>\n",
       "      <td>5696608</td>\n",
       "      <td>2008-12-23 16:00:37</td>\n",
       "      <td>0</td>\n",
       "      <td>1369918176</td>\n",
       "    </tr>\n",
       "    <tr>\n",
       "      <th>243792</th>\n",
       "      <td>5696608</td>\n",
       "      <td>2008-12-23 17:35:09</td>\n",
       "      <td>0</td>\n",
       "      <td>1369918176</td>\n",
       "    </tr>\n",
       "    <tr>\n",
       "      <th>243793</th>\n",
       "      <td>5696608</td>\n",
       "      <td>2008-12-24 01:02:48</td>\n",
       "      <td>0</td>\n",
       "      <td>1369918176</td>\n",
       "    </tr>\n",
       "    <tr>\n",
       "      <th>243794</th>\n",
       "      <td>5696608</td>\n",
       "      <td>2008-12-30 14:34:45</td>\n",
       "      <td>0</td>\n",
       "      <td>1369918176</td>\n",
       "    </tr>\n",
       "    <tr>\n",
       "      <th>243795</th>\n",
       "      <td>5696608</td>\n",
       "      <td>2008-12-30 16:32:12</td>\n",
       "      <td>0</td>\n",
       "      <td>1369918176</td>\n",
       "    </tr>\n",
       "  </tbody>\n",
       "</table>\n",
       "<p>243796 rows × 4 columns</p>\n",
       "</div>"
      ],
      "text/plain": [
       "        user_id       creation_date  views_count  cumulative_count\n",
       "0             1 2008-07-31 23:41:00       480476            480476\n",
       "1             1 2008-07-31 23:55:38       136033            616509\n",
       "2             1 2008-07-31 23:56:41            0            616509\n",
       "3             1 2008-08-04 02:45:08            0            616509\n",
       "4             1 2008-08-04 04:31:03            0            616509\n",
       "...         ...                 ...          ...               ...\n",
       "243791  5696608 2008-12-23 16:00:37            0        1369918176\n",
       "243792  5696608 2008-12-23 17:35:09            0        1369918176\n",
       "243793  5696608 2008-12-24 01:02:48            0        1369918176\n",
       "243794  5696608 2008-12-30 14:34:45            0        1369918176\n",
       "243795  5696608 2008-12-30 16:32:12            0        1369918176\n",
       "\n",
       "[243796 rows x 4 columns]"
      ]
     },
     "execution_count": 13,
     "metadata": {},
     "output_type": "execute_result"
    }
   ],
   "source": [
    "sample_df"
   ]
  },
  {
   "cell_type": "markdown",
   "metadata": {
    "id": "toidOivXDWK1"
   },
   "source": [
    "<details>\n",
    "\n",
    "<summary>Подсказка</summary>\n",
    "Для подсчёта суммы с накоплением используйте оконную функцию.\n",
    "</details>"
   ]
  },
  {
   "cell_type": "markdown",
   "metadata": {
    "id": "N0kHRHvIDWK2"
   },
   "source": [
    "# Задание 5"
   ]
  },
  {
   "cell_type": "markdown",
   "metadata": {
    "id": "gBgvmPtODWK2"
   },
   "source": [
    "Найдите среднее количество постов пользователей в день за август 2008 года. Отберите данные о пользователях, которые опубликовали больше 120 постов за август. Дни без публикаций не учитывайте. \n",
    "\n",
    "Отсортируйте результат по возрастанию среднего количества постов. Значения можно не округлять."
   ]
  },
  {
   "cell_type": "markdown",
   "metadata": {
    "id": "nfzR08BODWK3"
   },
   "source": [
    "| user_id | avg_daily |\n",
    "| ------- | --------- |\n",
    "| 116     | 4.777778  |\n",
    "| 234     | 5.208333  |\n",
    "| ...     | ... |"
   ]
  },
  {
   "cell_type": "code",
   "execution_count": 14,
   "metadata": {
    "id": "YFyPNz5GDWK3"
   },
   "outputs": [],
   "source": [
    "# напишите запрос\n",
    "query = '''\n",
    "with count_posts as\n",
    "(SELECT user_id\n",
    "FROM stackoverflow.posts\n",
    "WHERE date_trunc('month',creation_date)::date = '2008-08-01'\n",
    "group by user_id\n",
    "HAVING count(id)>120),\n",
    "\n",
    "day_count as\n",
    "(SELECT sp.user_id,\n",
    "count(sp.id) as count_u,\n",
    "sp.creation_date::date\n",
    "FROM stackoverflow.posts as sp\n",
    "JOIN count_posts as cp on sp.user_id=cp.user_id\n",
    "WHERE date_trunc('month',sp.creation_date)::date = '2008-08-01'\n",
    "GROUP BY sp.user_id,sp.creation_date::date)\n",
    "    \n",
    "SELECT user_id,\n",
    "AVG(count_u) as avg_daily \n",
    "FROM day_count\n",
    "GROUP BY user_id\n",
    "ORDER BY avg_daily\n",
    "'''\n",
    "sample_df = pd.read_sql_query(query, con=engine) \n",
    "# выполните запрос"
   ]
  },
  {
   "cell_type": "code",
   "execution_count": 15,
   "metadata": {},
   "outputs": [
    {
     "data": {
      "text/html": [
       "<div>\n",
       "<style scoped>\n",
       "    .dataframe tbody tr th:only-of-type {\n",
       "        vertical-align: middle;\n",
       "    }\n",
       "\n",
       "    .dataframe tbody tr th {\n",
       "        vertical-align: top;\n",
       "    }\n",
       "\n",
       "    .dataframe thead th {\n",
       "        text-align: right;\n",
       "    }\n",
       "</style>\n",
       "<table border=\"1\" class=\"dataframe\">\n",
       "  <thead>\n",
       "    <tr style=\"text-align: right;\">\n",
       "      <th></th>\n",
       "      <th>user_id</th>\n",
       "      <th>avg_daily</th>\n",
       "    </tr>\n",
       "  </thead>\n",
       "  <tbody>\n",
       "    <tr>\n",
       "      <th>0</th>\n",
       "      <td>116</td>\n",
       "      <td>4.777778</td>\n",
       "    </tr>\n",
       "    <tr>\n",
       "      <th>1</th>\n",
       "      <td>234</td>\n",
       "      <td>5.208333</td>\n",
       "    </tr>\n",
       "    <tr>\n",
       "      <th>2</th>\n",
       "      <td>91</td>\n",
       "      <td>5.681818</td>\n",
       "    </tr>\n",
       "    <tr>\n",
       "      <th>3</th>\n",
       "      <td>905</td>\n",
       "      <td>7.000000</td>\n",
       "    </tr>\n",
       "    <tr>\n",
       "      <th>4</th>\n",
       "      <td>383</td>\n",
       "      <td>7.277778</td>\n",
       "    </tr>\n",
       "  </tbody>\n",
       "</table>\n",
       "</div>"
      ],
      "text/plain": [
       "   user_id  avg_daily\n",
       "0      116   4.777778\n",
       "1      234   5.208333\n",
       "2       91   5.681818\n",
       "3      905   7.000000\n",
       "4      383   7.277778"
      ]
     },
     "execution_count": 15,
     "metadata": {},
     "output_type": "execute_result"
    }
   ],
   "source": [
    "sample_df"
   ]
  },
  {
   "cell_type": "markdown",
   "metadata": {
    "id": "5Gs8kiJvDWK4"
   },
   "source": [
    "<details>\n",
    "\n",
    "<summary>Подсказка</summary>\n",
    "Сначала найдите идентификаторы пользователей, которые написали более 120 постов за август. Используя этот запрос в качестве подзапроса для среза, найдите и сохраните во временную таблицу идентификаторы нужных пользователей, дни августа и количество постов в день. В основном запросе сгруппируйте данные по пользователям и найдите для каждого из них среднее количество постов.\n",
    "</details>"
   ]
  },
  {
   "cell_type": "markdown",
   "metadata": {
    "id": "EQ0dcFH4DWK5"
   },
   "source": [
    "# Задание 6"
   ]
  },
  {
   "cell_type": "markdown",
   "metadata": {
    "id": "c7flfg_hDWK5"
   },
   "source": [
    "Сколько в среднем дней в период с 1 по 7 декабря 2008 года пользователи взаимодействовали с платформой? Для каждого пользователя отберите дни, в которые он или она опубликовали хотя бы один пост. Нужно получить одно целое число — не забудьте округлить результат. "
   ]
  },
  {
   "cell_type": "markdown",
   "metadata": {
    "id": "RC1Ibzm9DWK6"
   },
   "source": [
    "| result |\n",
    "| -----  |\n",
    "| <целое число> |"
   ]
  },
  {
   "cell_type": "code",
   "execution_count": 16,
   "metadata": {
    "id": "kZ7LXTr6DWK6"
   },
   "outputs": [],
   "source": [
    "# напишите запрос\n",
    "query = '''\n",
    "SELECT ROUND(AVG (count_date)) as result\n",
    "FROM (SELECT user_id,\n",
    "count(distinct(creation_date::date)) as count_date\n",
    "FROM stackoverflow.posts\n",
    "where creation_date::date >= '2008-12-01' and creation_date::date <= '2008-12-07'\n",
    "group by user_id) as count_date\n",
    "'''\n",
    "sample_df = pd.read_sql_query(query, con=engine) \n",
    "# выполните запрос"
   ]
  },
  {
   "cell_type": "code",
   "execution_count": 17,
   "metadata": {},
   "outputs": [
    {
     "data": {
      "text/html": [
       "<div>\n",
       "<style scoped>\n",
       "    .dataframe tbody tr th:only-of-type {\n",
       "        vertical-align: middle;\n",
       "    }\n",
       "\n",
       "    .dataframe tbody tr th {\n",
       "        vertical-align: top;\n",
       "    }\n",
       "\n",
       "    .dataframe thead th {\n",
       "        text-align: right;\n",
       "    }\n",
       "</style>\n",
       "<table border=\"1\" class=\"dataframe\">\n",
       "  <thead>\n",
       "    <tr style=\"text-align: right;\">\n",
       "      <th></th>\n",
       "      <th>result</th>\n",
       "    </tr>\n",
       "  </thead>\n",
       "  <tbody>\n",
       "    <tr>\n",
       "      <th>0</th>\n",
       "      <td>2.0</td>\n",
       "    </tr>\n",
       "  </tbody>\n",
       "</table>\n",
       "</div>"
      ],
      "text/plain": [
       "   result\n",
       "0     2.0"
      ]
     },
     "execution_count": 17,
     "metadata": {},
     "output_type": "execute_result"
    }
   ],
   "source": [
    "sample_df"
   ]
  },
  {
   "cell_type": "markdown",
   "metadata": {
    "id": "2K5G3xuBDWK7"
   },
   "source": [
    "<details>\n",
    "\n",
    "<summary>Подсказка</summary>\n",
    "Посчитайте, сколько активных дней было у каждого пользователя. Добавьте данные во временную таблицу и используйте в основном запросе.\n",
    "</details>"
   ]
  },
  {
   "cell_type": "markdown",
   "metadata": {
    "id": "UJFtNNggDWK7"
   },
   "source": [
    "Проанализируйте итоговую таблицу — какие выводы можно сделать?"
   ]
  },
  {
   "cell_type": "markdown",
   "metadata": {
    "id": "LfUuYz-1DWK8"
   },
   "source": [
    "В среднем, пользователи взаимодействовали с платформой 2 дня. Это ниже среденего значения."
   ]
  },
  {
   "cell_type": "markdown",
   "metadata": {
    "id": "wfOmqmfLDWK8"
   },
   "source": [
    "# Задание 7"
   ]
  },
  {
   "cell_type": "markdown",
   "metadata": {
    "id": "X4ARQimADWK9"
   },
   "source": [
    "Выведите историю активности каждого пользователя в таком виде: идентификатор пользователя, дата публикации поста. Отсортируйте вывод по возрастанию идентификаторов пользователей, а для каждого пользователя — по возрастанию даты публикации.\n",
    "\n",
    "Добавьте в таблицу новое поле: для каждого поста в нём будет указано название месяца предпоследней публикации пользователя относительно текущей. Если такой публикации нет, укажите `NULL`.  Python автоматически поменяет `NULL` на `None`, но дополнительно преобразовывать значения `None` вам не нужно.\n",
    "\n",
    "Посмотрите внимательно на образец таблицы: для первых двух постов предпоследней публикации нет, но, начиная с третьего поста, в новое поле входит нужный месяц. Для следующего пользователя в первые две записи поля `second_last_month` тоже войдёт `NULL`."
   ]
  },
  {
   "cell_type": "markdown",
   "metadata": {
    "id": "IGPjRP01DWK9"
   },
   "source": [
    "| user_id | creation_date | second_last_month |\n",
    "| ------- | ------------- | ----------------- |\n",
    "| 1       | 2008-07-31 23:41:00 | None |\n",
    "| 1       | 2008-07-31 23:55:38 | None |\n",
    "| 1       | 2008-07-31 23:56:41 | July |\n",
    "| 1       | 2008-08-04 02:45:08 | July |\n",
    "| 1       | 2008-08-04 04:31:03 | July |\n",
    "| 1       | 2008-08-04 08:04:42 | August |\n",
    "| ... | ... | ... |"
   ]
  },
  {
   "cell_type": "code",
   "execution_count": 18,
   "metadata": {
    "id": "HzI1vhaMDWK-"
   },
   "outputs": [],
   "source": [
    "# напишите запрос\n",
    "query = '''\n",
    "with user_date_lag as\n",
    "(SELECT *,\n",
    "LAG(creation_date, 2, NULL) OVER (PARTITION BY user_id ORDER BY creation_date) as lag_date\n",
    "FROM (SELECT user_id,\n",
    "creation_date\n",
    "FROM stackoverflow.posts as sp\n",
    "order by 1,2) as post_date)\n",
    "\n",
    "SELECT user_id,\n",
    "creation_date,\n",
    "CASE WHEN lag_date IS NOT NULL THEN TO_CHAR(lag_date, 'Month') ELSE 'None' END\n",
    "FROM user_date_lag\n",
    "'''\n",
    "sample_df = pd.read_sql_query(query, con=engine) \n",
    "# выполните запрос"
   ]
  },
  {
   "cell_type": "code",
   "execution_count": 19,
   "metadata": {},
   "outputs": [
    {
     "data": {
      "text/html": [
       "<div>\n",
       "<style scoped>\n",
       "    .dataframe tbody tr th:only-of-type {\n",
       "        vertical-align: middle;\n",
       "    }\n",
       "\n",
       "    .dataframe tbody tr th {\n",
       "        vertical-align: top;\n",
       "    }\n",
       "\n",
       "    .dataframe thead th {\n",
       "        text-align: right;\n",
       "    }\n",
       "</style>\n",
       "<table border=\"1\" class=\"dataframe\">\n",
       "  <thead>\n",
       "    <tr style=\"text-align: right;\">\n",
       "      <th></th>\n",
       "      <th>user_id</th>\n",
       "      <th>creation_date</th>\n",
       "      <th>case</th>\n",
       "    </tr>\n",
       "  </thead>\n",
       "  <tbody>\n",
       "    <tr>\n",
       "      <th>0</th>\n",
       "      <td>1</td>\n",
       "      <td>2008-07-31 23:41:00</td>\n",
       "      <td>None</td>\n",
       "    </tr>\n",
       "    <tr>\n",
       "      <th>1</th>\n",
       "      <td>1</td>\n",
       "      <td>2008-07-31 23:55:38</td>\n",
       "      <td>None</td>\n",
       "    </tr>\n",
       "    <tr>\n",
       "      <th>2</th>\n",
       "      <td>1</td>\n",
       "      <td>2008-07-31 23:56:41</td>\n",
       "      <td>July</td>\n",
       "    </tr>\n",
       "    <tr>\n",
       "      <th>3</th>\n",
       "      <td>1</td>\n",
       "      <td>2008-08-04 02:45:08</td>\n",
       "      <td>July</td>\n",
       "    </tr>\n",
       "    <tr>\n",
       "      <th>4</th>\n",
       "      <td>1</td>\n",
       "      <td>2008-08-04 04:31:03</td>\n",
       "      <td>July</td>\n",
       "    </tr>\n",
       "    <tr>\n",
       "      <th>...</th>\n",
       "      <td>...</td>\n",
       "      <td>...</td>\n",
       "      <td>...</td>\n",
       "    </tr>\n",
       "    <tr>\n",
       "      <th>243791</th>\n",
       "      <td>5696608</td>\n",
       "      <td>2008-12-23 16:00:37</td>\n",
       "      <td>December</td>\n",
       "    </tr>\n",
       "    <tr>\n",
       "      <th>243792</th>\n",
       "      <td>5696608</td>\n",
       "      <td>2008-12-23 17:35:09</td>\n",
       "      <td>December</td>\n",
       "    </tr>\n",
       "    <tr>\n",
       "      <th>243793</th>\n",
       "      <td>5696608</td>\n",
       "      <td>2008-12-24 01:02:48</td>\n",
       "      <td>December</td>\n",
       "    </tr>\n",
       "    <tr>\n",
       "      <th>243794</th>\n",
       "      <td>5696608</td>\n",
       "      <td>2008-12-30 14:34:45</td>\n",
       "      <td>December</td>\n",
       "    </tr>\n",
       "    <tr>\n",
       "      <th>243795</th>\n",
       "      <td>5696608</td>\n",
       "      <td>2008-12-30 16:32:12</td>\n",
       "      <td>December</td>\n",
       "    </tr>\n",
       "  </tbody>\n",
       "</table>\n",
       "<p>243796 rows × 3 columns</p>\n",
       "</div>"
      ],
      "text/plain": [
       "        user_id       creation_date       case\n",
       "0             1 2008-07-31 23:41:00       None\n",
       "1             1 2008-07-31 23:55:38       None\n",
       "2             1 2008-07-31 23:56:41  July     \n",
       "3             1 2008-08-04 02:45:08  July     \n",
       "4             1 2008-08-04 04:31:03  July     \n",
       "...         ...                 ...        ...\n",
       "243791  5696608 2008-12-23 16:00:37  December \n",
       "243792  5696608 2008-12-23 17:35:09  December \n",
       "243793  5696608 2008-12-24 01:02:48  December \n",
       "243794  5696608 2008-12-30 14:34:45  December \n",
       "243795  5696608 2008-12-30 16:32:12  December \n",
       "\n",
       "[243796 rows x 3 columns]"
      ]
     },
     "execution_count": 19,
     "metadata": {},
     "output_type": "execute_result"
    }
   ],
   "source": [
    "sample_df"
   ]
  },
  {
   "cell_type": "markdown",
   "metadata": {
    "id": "7dqoKkncDWK_"
   },
   "source": [
    "<details>\n",
    "\n",
    "<summary>Подсказка</summary>\n",
    "Преобразовать результат оконной функции в нужное значение вам поможет аналог условного оператора в SQL: CASE <поле> WHEN <старое значение> THEN <новое значение> END.\n",
    "</details>"
   ]
  },
  {
   "cell_type": "markdown",
   "metadata": {
    "id": "tf9qq2yzDWK_"
   },
   "source": [
    "# Задание 8"
   ]
  },
  {
   "cell_type": "markdown",
   "metadata": {
    "id": "gfwLVXBYDWLA"
   },
   "source": [
    "Рассчитайте аналог Retention Rate по месяцам для пользователей StackOverflow. Объедините пользователей в когорты по месяцу их первого поста. Возвращение определяйте по наличию поста в текущем месяце. "
   ]
  },
  {
   "cell_type": "markdown",
   "metadata": {
    "id": "kN2ic39WlKpl"
   },
   "source": [
    "| cohort_dt | session_date | users_cnt | cohort_users_cnt | retention_rate |\n",
    "| --- | --- | --- | --- | --- |\n",
    "| 2008-07-01 00:00:00 | 2008-07-01 00:00:00 | 3 | 3 | 100 |\n",
    "| 2008-07-01 00:00:00 | 2008-08-01 00:00:00 | 2 | 3 | 66,67 |\n",
    "| 2008-07-01 00:00:00 | 2008-09-01 00:00:00 | 1 | 3 | 33,33 |\n",
    "| 2008-07-01 00:00:00 | 2008-10-01 00:00:00 | 2 | 3 | 66,67 |\n",
    "| 2008-07-01 00:00:00 | 2008-11-01 00:00:00 | 1 | 3 | 33,33 |\n",
    "| 2008-07-01 00:00:00 | 2008-12-01 00:00:00 | 2 | 3 | 66,67 |\n",
    "| 2008-08-01 00:00:00 | 2008-08-01 00:00:00 | 2151 | 2151 | 100 |\n",
    "| ... | ... | ... | ... | ... |"
   ]
  },
  {
   "cell_type": "code",
   "execution_count": 20,
   "metadata": {
    "id": "LUgFmwmTDWLB"
   },
   "outputs": [],
   "source": [
    "query = '''\n",
    "WITH profile AS\n",
    "(SELECT user_id,\n",
    "       min_date,\n",
    "       COUNT(*) OVER (PARTITION BY min_date) AS cohort_users_cnt\n",
    "       FROM(\n",
    "SELECT user_id,\n",
    "       date_trunc('Month',MIN(creation_date)) as min_date\n",
    "FROM   stackoverflow.posts\n",
    "GROUP BY user_id\n",
    "           ) as t), \n",
    "sessions AS\n",
    "(SELECT user_id,\n",
    "date_trunc('month',creation_date) AS session_date\n",
    "FROM stackoverflow.posts\n",
    "GROUP BY 1,\n",
    "2)\n",
    "\n",
    "SELECT p.min_date,\n",
    "s.session_date,\n",
    "COUNT(s.user_id) as users_cnt,\n",
    "p.cohort_users_cnt,\n",
    "ROUND(COUNT(s.user_id) * 100.0 / p.cohort_users_cnt, 2) as retention_rate\n",
    "FROM profile p\n",
    "JOIN sessions s ON p.user_id = s.user_id\n",
    "GROUP BY 1,\n",
    "2,\n",
    "4\n",
    "ORDER BY 1, 2;\n",
    "\n",
    "'''\n",
    "sample_df = pd.read_sql_query(query, con=engine) \n",
    "# выполните запрос"
   ]
  },
  {
   "cell_type": "code",
   "execution_count": 21,
   "metadata": {},
   "outputs": [
    {
     "data": {
      "text/html": [
       "<div>\n",
       "<style scoped>\n",
       "    .dataframe tbody tr th:only-of-type {\n",
       "        vertical-align: middle;\n",
       "    }\n",
       "\n",
       "    .dataframe tbody tr th {\n",
       "        vertical-align: top;\n",
       "    }\n",
       "\n",
       "    .dataframe thead th {\n",
       "        text-align: right;\n",
       "    }\n",
       "</style>\n",
       "<table border=\"1\" class=\"dataframe\">\n",
       "  <thead>\n",
       "    <tr style=\"text-align: right;\">\n",
       "      <th></th>\n",
       "      <th>min_date</th>\n",
       "      <th>session_date</th>\n",
       "      <th>users_cnt</th>\n",
       "      <th>cohort_users_cnt</th>\n",
       "      <th>retention_rate</th>\n",
       "    </tr>\n",
       "  </thead>\n",
       "  <tbody>\n",
       "    <tr>\n",
       "      <th>0</th>\n",
       "      <td>2008-07-01</td>\n",
       "      <td>2008-07-01</td>\n",
       "      <td>3</td>\n",
       "      <td>3</td>\n",
       "      <td>100.00</td>\n",
       "    </tr>\n",
       "    <tr>\n",
       "      <th>1</th>\n",
       "      <td>2008-07-01</td>\n",
       "      <td>2008-08-01</td>\n",
       "      <td>2</td>\n",
       "      <td>3</td>\n",
       "      <td>66.67</td>\n",
       "    </tr>\n",
       "    <tr>\n",
       "      <th>2</th>\n",
       "      <td>2008-07-01</td>\n",
       "      <td>2008-09-01</td>\n",
       "      <td>1</td>\n",
       "      <td>3</td>\n",
       "      <td>33.33</td>\n",
       "    </tr>\n",
       "    <tr>\n",
       "      <th>3</th>\n",
       "      <td>2008-07-01</td>\n",
       "      <td>2008-10-01</td>\n",
       "      <td>2</td>\n",
       "      <td>3</td>\n",
       "      <td>66.67</td>\n",
       "    </tr>\n",
       "    <tr>\n",
       "      <th>4</th>\n",
       "      <td>2008-07-01</td>\n",
       "      <td>2008-11-01</td>\n",
       "      <td>1</td>\n",
       "      <td>3</td>\n",
       "      <td>33.33</td>\n",
       "    </tr>\n",
       "    <tr>\n",
       "      <th>5</th>\n",
       "      <td>2008-07-01</td>\n",
       "      <td>2008-12-01</td>\n",
       "      <td>2</td>\n",
       "      <td>3</td>\n",
       "      <td>66.67</td>\n",
       "    </tr>\n",
       "    <tr>\n",
       "      <th>6</th>\n",
       "      <td>2008-08-01</td>\n",
       "      <td>2008-08-01</td>\n",
       "      <td>2151</td>\n",
       "      <td>2151</td>\n",
       "      <td>100.00</td>\n",
       "    </tr>\n",
       "    <tr>\n",
       "      <th>7</th>\n",
       "      <td>2008-08-01</td>\n",
       "      <td>2008-09-01</td>\n",
       "      <td>1571</td>\n",
       "      <td>2151</td>\n",
       "      <td>73.04</td>\n",
       "    </tr>\n",
       "    <tr>\n",
       "      <th>8</th>\n",
       "      <td>2008-08-01</td>\n",
       "      <td>2008-10-01</td>\n",
       "      <td>1275</td>\n",
       "      <td>2151</td>\n",
       "      <td>59.27</td>\n",
       "    </tr>\n",
       "    <tr>\n",
       "      <th>9</th>\n",
       "      <td>2008-08-01</td>\n",
       "      <td>2008-11-01</td>\n",
       "      <td>1050</td>\n",
       "      <td>2151</td>\n",
       "      <td>48.81</td>\n",
       "    </tr>\n",
       "    <tr>\n",
       "      <th>10</th>\n",
       "      <td>2008-08-01</td>\n",
       "      <td>2008-12-01</td>\n",
       "      <td>894</td>\n",
       "      <td>2151</td>\n",
       "      <td>41.56</td>\n",
       "    </tr>\n",
       "    <tr>\n",
       "      <th>11</th>\n",
       "      <td>2008-09-01</td>\n",
       "      <td>2008-09-01</td>\n",
       "      <td>7678</td>\n",
       "      <td>7678</td>\n",
       "      <td>100.00</td>\n",
       "    </tr>\n",
       "    <tr>\n",
       "      <th>12</th>\n",
       "      <td>2008-09-01</td>\n",
       "      <td>2008-10-01</td>\n",
       "      <td>4132</td>\n",
       "      <td>7678</td>\n",
       "      <td>53.82</td>\n",
       "    </tr>\n",
       "    <tr>\n",
       "      <th>13</th>\n",
       "      <td>2008-09-01</td>\n",
       "      <td>2008-11-01</td>\n",
       "      <td>2966</td>\n",
       "      <td>7678</td>\n",
       "      <td>38.63</td>\n",
       "    </tr>\n",
       "    <tr>\n",
       "      <th>14</th>\n",
       "      <td>2008-09-01</td>\n",
       "      <td>2008-12-01</td>\n",
       "      <td>2500</td>\n",
       "      <td>7678</td>\n",
       "      <td>32.56</td>\n",
       "    </tr>\n",
       "    <tr>\n",
       "      <th>15</th>\n",
       "      <td>2008-10-01</td>\n",
       "      <td>2008-10-01</td>\n",
       "      <td>3629</td>\n",
       "      <td>3629</td>\n",
       "      <td>100.00</td>\n",
       "    </tr>\n",
       "    <tr>\n",
       "      <th>16</th>\n",
       "      <td>2008-10-01</td>\n",
       "      <td>2008-11-01</td>\n",
       "      <td>1640</td>\n",
       "      <td>3629</td>\n",
       "      <td>45.19</td>\n",
       "    </tr>\n",
       "    <tr>\n",
       "      <th>17</th>\n",
       "      <td>2008-10-01</td>\n",
       "      <td>2008-12-01</td>\n",
       "      <td>1221</td>\n",
       "      <td>3629</td>\n",
       "      <td>33.65</td>\n",
       "    </tr>\n",
       "    <tr>\n",
       "      <th>18</th>\n",
       "      <td>2008-11-01</td>\n",
       "      <td>2008-11-01</td>\n",
       "      <td>2852</td>\n",
       "      <td>2852</td>\n",
       "      <td>100.00</td>\n",
       "    </tr>\n",
       "    <tr>\n",
       "      <th>19</th>\n",
       "      <td>2008-11-01</td>\n",
       "      <td>2008-12-01</td>\n",
       "      <td>1151</td>\n",
       "      <td>2852</td>\n",
       "      <td>40.36</td>\n",
       "    </tr>\n",
       "    <tr>\n",
       "      <th>20</th>\n",
       "      <td>2008-12-01</td>\n",
       "      <td>2008-12-01</td>\n",
       "      <td>2536</td>\n",
       "      <td>2536</td>\n",
       "      <td>100.00</td>\n",
       "    </tr>\n",
       "  </tbody>\n",
       "</table>\n",
       "</div>"
      ],
      "text/plain": [
       "     min_date session_date  users_cnt  cohort_users_cnt  retention_rate\n",
       "0  2008-07-01   2008-07-01          3                 3          100.00\n",
       "1  2008-07-01   2008-08-01          2                 3           66.67\n",
       "2  2008-07-01   2008-09-01          1                 3           33.33\n",
       "3  2008-07-01   2008-10-01          2                 3           66.67\n",
       "4  2008-07-01   2008-11-01          1                 3           33.33\n",
       "5  2008-07-01   2008-12-01          2                 3           66.67\n",
       "6  2008-08-01   2008-08-01       2151              2151          100.00\n",
       "7  2008-08-01   2008-09-01       1571              2151           73.04\n",
       "8  2008-08-01   2008-10-01       1275              2151           59.27\n",
       "9  2008-08-01   2008-11-01       1050              2151           48.81\n",
       "10 2008-08-01   2008-12-01        894              2151           41.56\n",
       "11 2008-09-01   2008-09-01       7678              7678          100.00\n",
       "12 2008-09-01   2008-10-01       4132              7678           53.82\n",
       "13 2008-09-01   2008-11-01       2966              7678           38.63\n",
       "14 2008-09-01   2008-12-01       2500              7678           32.56\n",
       "15 2008-10-01   2008-10-01       3629              3629          100.00\n",
       "16 2008-10-01   2008-11-01       1640              3629           45.19\n",
       "17 2008-10-01   2008-12-01       1221              3629           33.65\n",
       "18 2008-11-01   2008-11-01       2852              2852          100.00\n",
       "19 2008-11-01   2008-12-01       1151              2852           40.36\n",
       "20 2008-12-01   2008-12-01       2536              2536          100.00"
      ]
     },
     "execution_count": 21,
     "metadata": {},
     "output_type": "execute_result"
    }
   ],
   "source": [
    "sample_df"
   ]
  },
  {
   "cell_type": "markdown",
   "metadata": {
    "id": "Yavb5o9JDWLB"
   },
   "source": [
    "<details>\n",
    "\n",
    "<summary>Подсказка</summary>\n",
    "Вспомните, как выглядел запрос для расчёта Retention Rate в теории. Создайте две временные таблицы: `profile` и `sessions` (в ней будет информация о публикациях), а затем используйте их в основном запросе.\n",
    "\n",
    "Во временной таблице `profile` вам понадобятся три поля:\n",
    "\n",
    "- идентификатор пользователя;\n",
    "- дата первого поста пользователя, усечённая до месяца (признак начала когорты);\n",
    "- количество пользователей этой когорты.\n",
    "</details>"
   ]
  },
  {
   "cell_type": "markdown",
   "metadata": {
    "id": "_msBtnb2DWLC"
   },
   "source": [
    "Постройте тепловую карту Retention Rate. Какие аномалии или другие необычные явления удалось выявить? Сформулируйте гипотезы о возможных причинах."
   ]
  },
  {
   "cell_type": "code",
   "execution_count": 22,
   "metadata": {
    "id": "qAEJc8H1DWLC"
   },
   "outputs": [],
   "source": [
    "# постройте тепловую карту Retention Rate\n",
    "# создаём сводную таблицу с результатами\n",
    "retention = sample_df.pivot('min_date', 'session_date', 'retention_rate')\n",
    "retention.index = [str(x)[0:10] for x in retention.index]\n",
    "retention.columns = [str(x)[0:10] for x in retention.columns]"
   ]
  },
  {
   "cell_type": "code",
   "execution_count": 23,
   "metadata": {},
   "outputs": [
    {
     "data": {
      "image/png": "[encoded data removed]",
      "text/plain": [
       "<Figure size 1152x1152 with 2 Axes>"
      ]
     },
     "metadata": {
      "needs_background": "light"
     },
     "output_type": "display_data"
    }
   ],
   "source": [
    "# строим хитмэп\n",
    "plt.figure(figsize=(16, 16)) # задаём размер графика\n",
    "sns.heatmap(retention, # датафрейм с данными\n",
    "            annot=True, # добавляем подписи\n",
    "            fmt='') # задаём исходный формат\n",
    "plt.title('Тепловая карта') # название графика\n",
    "plt.show() "
   ]
  },
  {
   "cell_type": "markdown",
   "metadata": {
    "id": "EgOfIsI4DWLC"
   },
   "source": [
    "В когорте от 2008-07-01, Retention Rate имеет скочкообразный вид, что выглядит странно. Возможно ппользователи этой когорты через какое-то время возвращались и писали посты. Хотя четкость цыфр тоже настораживает. Так же заметно, что чем позже начало когорты, тем меньше процент удержания."
   ]
  },
  {
   "cell_type": "markdown",
   "metadata": {
    "id": "1k7oPWt5DWLK"
   },
   "source": [
    "# Задание 9\n"
   ]
  },
  {
   "cell_type": "markdown",
   "metadata": {
    "id": "ALsYVSyRDWLM"
   },
   "source": [
    "На сколько процентов менялось количество постов ежемесячно с 1 сентября по 31 декабря 2008 года? Отобразите таблицу со следующими полями:\n",
    "\n",
    "- номер месяца;\n",
    "- количество постов за месяц;\n",
    "- процент, который показывает, насколько изменилось количество постов в текущем месяце по сравнению с предыдущим.\n",
    "\n",
    "Если постов стало меньше, значение процента должно быть отрицательным, если больше — положительным. Округлите значение процента до двух знаков после запятой.\n",
    "\n",
    "Напомним, что при делении одного целого числа на другое в PostgreSQL в результате получится целое число, округлённое до ближайшего целого вниз. Чтобы этого избежать, переведите делимое в тип `numeric`."
   ]
  },
  {
   "cell_type": "markdown",
   "metadata": {
    "id": "u4E2zF8DDWLM"
   },
   "source": [
    "| creation_month | posts_count | percentage |\n",
    "| -------------- | ----------- | ---------- |\n",
    "| 9 | 70731 | Nan |\n",
    "| 10 | 63102 | -10.33 |\n",
    "| ... | ... | ... |"
   ]
  },
  {
   "cell_type": "code",
   "execution_count": 24,
   "metadata": {
    "id": "Mb5pShStDWLN"
   },
   "outputs": [],
   "source": [
    "# напишите запрос\n",
    "query = '''\n",
    "With posts_lag_count as\n",
    "(SELECT EXTRACT(MONTH FROM creation_date::date) as creation_month,\n",
    "count(id) as posts_count,\n",
    "ROUND ((count(id)::numeric/LAG(count(id),1,count(id)) over (order by EXTRACT(MONTH FROM creation_date::date))*100), 2) as lag_posts_count\n",
    "FROM (SELECT *\n",
    "FROM stackoverflow.posts\n",
    "where date_trunc('day',creation_date)::date >='2008-09-01' and date_trunc('day',creation_date)::date <='2008-12-31') as day_date\n",
    "group by creation_month\n",
    "order by 1)\n",
    "\n",
    "SELECT creation_month,\n",
    "posts_count,\n",
    "lag_posts_count::numeric - LAG(lag_posts_count,1,NULL) over (ORDER by creation_month) as percentage\n",
    "FROM posts_lag_count\n",
    "'''\n",
    "sample_df = pd.read_sql_query(query, con=engine) \n",
    "# выполните запрос"
   ]
  },
  {
   "cell_type": "code",
   "execution_count": 25,
   "metadata": {},
   "outputs": [
    {
     "data": {
      "text/html": [
       "<div>\n",
       "<style scoped>\n",
       "    .dataframe tbody tr th:only-of-type {\n",
       "        vertical-align: middle;\n",
       "    }\n",
       "\n",
       "    .dataframe tbody tr th {\n",
       "        vertical-align: top;\n",
       "    }\n",
       "\n",
       "    .dataframe thead th {\n",
       "        text-align: right;\n",
       "    }\n",
       "</style>\n",
       "<table border=\"1\" class=\"dataframe\">\n",
       "  <thead>\n",
       "    <tr style=\"text-align: right;\">\n",
       "      <th></th>\n",
       "      <th>creation_month</th>\n",
       "      <th>posts_count</th>\n",
       "      <th>percentage</th>\n",
       "    </tr>\n",
       "  </thead>\n",
       "  <tbody>\n",
       "    <tr>\n",
       "      <th>0</th>\n",
       "      <td>9.0</td>\n",
       "      <td>70371</td>\n",
       "      <td>NaN</td>\n",
       "    </tr>\n",
       "    <tr>\n",
       "      <th>1</th>\n",
       "      <td>10.0</td>\n",
       "      <td>63102</td>\n",
       "      <td>-10.33</td>\n",
       "    </tr>\n",
       "    <tr>\n",
       "      <th>2</th>\n",
       "      <td>11.0</td>\n",
       "      <td>46975</td>\n",
       "      <td>-15.23</td>\n",
       "    </tr>\n",
       "    <tr>\n",
       "      <th>3</th>\n",
       "      <td>12.0</td>\n",
       "      <td>44592</td>\n",
       "      <td>20.49</td>\n",
       "    </tr>\n",
       "  </tbody>\n",
       "</table>\n",
       "</div>"
      ],
      "text/plain": [
       "   creation_month  posts_count  percentage\n",
       "0             9.0        70371         NaN\n",
       "1            10.0        63102      -10.33\n",
       "2            11.0        46975      -15.23\n",
       "3            12.0        44592       20.49"
      ]
     },
     "execution_count": 25,
     "metadata": {},
     "output_type": "execute_result"
    }
   ],
   "source": [
    "sample_df"
   ]
  },
  {
   "cell_type": "markdown",
   "metadata": {
    "id": "G0VSDL4HDWLO"
   },
   "source": [
    "<details>\n",
    "\n",
    "<summary>Подсказка</summary>\n",
    "Эту задачу стоит декомпозировать. Сформируйте запрос, который отобразит номер месяца и количество постов. Затем можно использовать оконную функцию, которая вернёт значение за предыдущий месяц, и посчитать процент.\n",
    "</details>"
   ]
  },
  {
   "cell_type": "markdown",
   "metadata": {
    "id": "9NQE2y_MDWLP"
   },
   "source": [
    "Постройте круговую диаграмму с количеством постов по месяцам."
   ]
  },
  {
   "cell_type": "code",
   "execution_count": 26,
   "metadata": {
    "id": "377ABjiVDWLP"
   },
   "outputs": [
    {
     "data": {
      "text/plain": [
       "<AxesSubplot:ylabel='posts_count'>"
      ]
     },
     "execution_count": 26,
     "metadata": {},
     "output_type": "execute_result"
    },
    {
     "data": {
      "image/png": "[encoded data removed]",
      "text/plain": [
       "<Figure size 432x432 with 1 Axes>"
      ]
     },
     "metadata": {},
     "output_type": "display_data"
    }
   ],
   "source": [
    "sample_df.set_index('creation_month', inplace=True)\n",
    "sample_df['posts_count'].plot(kind='pie', figsize=(6,6))# постройте круговую диаграмму с количеством постов по месяцам"
   ]
  },
  {
   "cell_type": "markdown",
   "metadata": {
    "id": "uw7qMtafDWLP"
   },
   "source": [
    "# Задание 10"
   ]
  },
  {
   "cell_type": "markdown",
   "metadata": {
    "id": "oRBpWKx3DWLQ"
   },
   "source": [
    "Выгрузите данные активности пользователя, который опубликовал больше всего постов за всё время. Выведите данные за октябрь 2008 года в таком виде:\n",
    "\n",
    "- номер недели;\n",
    "- дата и время последнего поста, опубликованного на этой неделе."
   ]
  },
  {
   "cell_type": "markdown",
   "metadata": {
    "id": "XjAWSn_3DWLQ"
   },
   "source": [
    "| week_creation | creation_date |\n",
    "| ------------- | ------------- |\n",
    "| 40 | 2008-10-05 09:00:58 |\n",
    "| 41 | 2008-10-12 21:22:23 |\n",
    "| ... | ... |"
   ]
  },
  {
   "cell_type": "code",
   "execution_count": 27,
   "metadata": {
    "id": "r5F5fSkwDWLQ"
   },
   "outputs": [],
   "source": [
    "# напишите запрос\n",
    "query = '''\n",
    "with user_post as\n",
    "(SELECT user_id,\n",
    "count(id) as count_post\n",
    "FROM stackoverflow.posts\n",
    "group by user_id\n",
    "order by count_post desc limit 1)\n",
    "\n",
    "SELECT extract(week from date_trunc('week',sp.creation_date)::date) as week_date,\n",
    "max(sp.creation_date) \n",
    "FROM stackoverflow.posts as sp\n",
    "join user_post as up on sp.user_id = up.user_id\n",
    "where date_trunc('month',creation_date)::date = '2008-10-01'\n",
    "group by week_date\n",
    "'''\n",
    "sample_df = pd.read_sql_query(query, con=engine) \n",
    "# выполните запрос"
   ]
  },
  {
   "cell_type": "code",
   "execution_count": 28,
   "metadata": {},
   "outputs": [
    {
     "data": {
      "text/html": [
       "<div>\n",
       "<style scoped>\n",
       "    .dataframe tbody tr th:only-of-type {\n",
       "        vertical-align: middle;\n",
       "    }\n",
       "\n",
       "    .dataframe tbody tr th {\n",
       "        vertical-align: top;\n",
       "    }\n",
       "\n",
       "    .dataframe thead th {\n",
       "        text-align: right;\n",
       "    }\n",
       "</style>\n",
       "<table border=\"1\" class=\"dataframe\">\n",
       "  <thead>\n",
       "    <tr style=\"text-align: right;\">\n",
       "      <th></th>\n",
       "      <th>week_date</th>\n",
       "      <th>max</th>\n",
       "    </tr>\n",
       "  </thead>\n",
       "  <tbody>\n",
       "    <tr>\n",
       "      <th>0</th>\n",
       "      <td>40.0</td>\n",
       "      <td>2008-10-05 09:00:58</td>\n",
       "    </tr>\n",
       "    <tr>\n",
       "      <th>1</th>\n",
       "      <td>41.0</td>\n",
       "      <td>2008-10-12 21:22:23</td>\n",
       "    </tr>\n",
       "    <tr>\n",
       "      <th>2</th>\n",
       "      <td>42.0</td>\n",
       "      <td>2008-10-19 06:49:30</td>\n",
       "    </tr>\n",
       "    <tr>\n",
       "      <th>3</th>\n",
       "      <td>43.0</td>\n",
       "      <td>2008-10-26 21:44:36</td>\n",
       "    </tr>\n",
       "    <tr>\n",
       "      <th>4</th>\n",
       "      <td>44.0</td>\n",
       "      <td>2008-10-31 22:16:01</td>\n",
       "    </tr>\n",
       "  </tbody>\n",
       "</table>\n",
       "</div>"
      ],
      "text/plain": [
       "   week_date                 max\n",
       "0       40.0 2008-10-05 09:00:58\n",
       "1       41.0 2008-10-12 21:22:23\n",
       "2       42.0 2008-10-19 06:49:30\n",
       "3       43.0 2008-10-26 21:44:36\n",
       "4       44.0 2008-10-31 22:16:01"
      ]
     },
     "execution_count": 28,
     "metadata": {},
     "output_type": "execute_result"
    }
   ],
   "source": [
    "sample_df"
   ]
  },
  {
   "cell_type": "markdown",
   "metadata": {
    "id": "KAcmxvLgDWLR"
   },
   "source": [
    "<details>\n",
    "\n",
    "<summary>Подсказка</summary>\n",
    "Декомпозируйте задачу:\n",
    "1) Найдите пользователя, который опубликовал больше всего постов. 2) Найдите дату и время создания каждого поста этого пользователя и номер недели. \n",
    "3) Отобразите данные только о последних постах пользователя. Для этого можно использовать оконную функцию.\n",
    "</details>"
   ]
  },
  {
   "cell_type": "markdown",
   "metadata": {},
   "source": [
    "# Выводы"
   ]
  },
  {
   "cell_type": "markdown",
   "metadata": {},
   "source": [
    "1) Общая сумма просмотров постов за каждый месяц 2008 года отличаются. Особеено это заметно разницой между 7, 8 и 9-м месяцем. Такие резкие изменения могут быть связаны с тем, что c июле 2008 года, только начали создавать данную базу. После сентября начался постепенный спад. Но к сожалению нельзя понять почему он именно произошел, так как мы не знаем полной картины(возможно дальше опять идет прирост). Можно предположить, что в сентябре произашла сезонная активность, а к декаблю она немного упала."
   ]
  },
  {
   "cell_type": "markdown",
   "metadata": {},
   "source": [
    "2) Имена самых активных пользователей имеют несколько уникальных индетификационных нормера. Это значит что существует возможность регистрирования с одинаковыми именами. Это не совсем коррескто, так как в будущем будет сложнее работать с базами данных содержащими одинаковые имена."
   ]
  },
  {
   "cell_type": "markdown",
   "metadata": {},
   "source": [
    "3) В августе 2008 самое маленькое колличество постов за весь 2008 год. Это пожет быть связано с какой-то ошибкой на сайте, из-за которой люди не могли писать посты."
   ]
  },
  {
   "cell_type": "markdown",
   "metadata": {},
   "source": [
    "4) В среднем, в период с 1 по 7 декабря 2008 года, пользователи взаимодействовали с платформой 2 дня. Это ниже среденего значения."
   ]
  },
  {
   "cell_type": "markdown",
   "metadata": {},
   "source": [
    "5) В когорте от 2008-07-01, Retention Rate имеет скочкообразный вид, что выглядит странно. Возможно ппользователи этой когорты через какое-то время возвращались и писали посты. Хотя четкость цыфр тоже настораживает. Так же заметно, что чем позже начало когорты, тем меньше процент удержания."
   ]
  }
 ],
 "metadata": {
  "ExecuteTimeLog": [
   {
    "duration": 979,
    "start_time": "2022-09-20T18:12:08.568Z"
   },
   {
    "duration": 4,
    "start_time": "2022-09-20T18:12:12.263Z"
   },
   {
    "duration": 9323,
    "start_time": "2022-09-20T18:12:54.982Z"
   },
   {
    "duration": 480,
    "start_time": "2022-09-20T18:17:02.483Z"
   },
   {
    "duration": 147,
    "start_time": "2022-09-20T18:18:03.779Z"
   },
   {
    "duration": 151,
    "start_time": "2022-09-20T18:19:18.224Z"
   },
   {
    "duration": 124,
    "start_time": "2022-09-20T18:19:46.087Z"
   },
   {
    "duration": 191,
    "start_time": "2022-09-20T18:20:43.483Z"
   },
   {
    "duration": 1027,
    "start_time": "2022-09-20T18:20:55.981Z"
   },
   {
    "duration": 12,
    "start_time": "2022-09-20T18:21:04.062Z"
   },
   {
    "duration": 113,
    "start_time": "2022-09-20T18:21:20.030Z"
   },
   {
    "duration": 311,
    "start_time": "2022-09-20T18:21:43.244Z"
   },
   {
    "duration": 9,
    "start_time": "2022-09-20T18:21:44.013Z"
   },
   {
    "duration": 375,
    "start_time": "2022-09-20T18:22:23.592Z"
   },
   {
    "duration": 22,
    "start_time": "2022-09-20T18:22:24.231Z"
   },
   {
    "duration": 313,
    "start_time": "2022-09-20T18:22:32.160Z"
   },
   {
    "duration": 9,
    "start_time": "2022-09-20T18:22:33.708Z"
   },
   {
    "duration": 4876,
    "start_time": "2022-09-20T18:23:04.398Z"
   },
   {
    "duration": 10,
    "start_time": "2022-09-20T18:23:09.276Z"
   },
   {
    "duration": 290,
    "start_time": "2022-09-20T18:23:48.088Z"
   },
   {
    "duration": 115,
    "start_time": "2022-09-20T18:24:02.410Z"
   },
   {
    "duration": 141,
    "start_time": "2022-09-20T18:24:12.981Z"
   },
   {
    "duration": 270,
    "start_time": "2022-09-20T18:24:29.156Z"
   },
   {
    "duration": 326,
    "start_time": "2022-09-20T18:25:02.491Z"
   },
   {
    "duration": 10,
    "start_time": "2022-09-20T18:25:02.990Z"
   },
   {
    "duration": 345,
    "start_time": "2022-09-20T18:25:07.028Z"
   },
   {
    "duration": 10,
    "start_time": "2022-09-20T18:25:10.711Z"
   },
   {
    "duration": 248,
    "start_time": "2022-09-20T18:25:31.861Z"
   },
   {
    "duration": 7,
    "start_time": "2022-09-20T18:25:32.666Z"
   },
   {
    "duration": 699,
    "start_time": "2022-09-20T18:25:44.564Z"
   },
   {
    "duration": 3,
    "start_time": "2022-09-20T18:25:45.266Z"
   },
   {
    "duration": 11220,
    "start_time": "2022-09-20T18:25:45.271Z"
   },
   {
    "duration": 226,
    "start_time": "2022-09-20T18:25:56.494Z"
   },
   {
    "duration": 22,
    "start_time": "2022-09-20T18:25:56.723Z"
   },
   {
    "duration": 247,
    "start_time": "2022-09-20T18:25:56.746Z"
   },
   {
    "duration": 6,
    "start_time": "2022-09-20T18:25:56.994Z"
   },
   {
    "duration": 5,
    "start_time": "2022-09-20T18:25:57.002Z"
   },
   {
    "duration": 5,
    "start_time": "2022-09-20T18:25:57.009Z"
   },
   {
    "duration": 10,
    "start_time": "2022-09-20T18:25:57.015Z"
   },
   {
    "duration": 5,
    "start_time": "2022-09-20T18:25:57.027Z"
   },
   {
    "duration": 36,
    "start_time": "2022-09-20T18:25:57.033Z"
   },
   {
    "duration": 9,
    "start_time": "2022-09-20T18:25:57.070Z"
   },
   {
    "duration": 4,
    "start_time": "2022-09-20T18:25:57.081Z"
   },
   {
    "duration": 7,
    "start_time": "2022-09-20T18:25:57.087Z"
   },
   {
    "duration": 7,
    "start_time": "2022-09-20T18:25:57.096Z"
   },
   {
    "duration": 4,
    "start_time": "2022-09-20T18:25:57.105Z"
   },
   {
    "duration": 7,
    "start_time": "2022-09-20T18:25:57.111Z"
   },
   {
    "duration": 6,
    "start_time": "2022-09-20T18:25:57.120Z"
   },
   {
    "duration": 14,
    "start_time": "2022-09-20T18:25:57.127Z"
   },
   {
    "duration": 25,
    "start_time": "2022-09-20T18:25:57.143Z"
   },
   {
    "duration": 4,
    "start_time": "2022-09-20T18:25:57.170Z"
   },
   {
    "duration": 4,
    "start_time": "2022-09-20T18:25:57.176Z"
   },
   {
    "duration": 151,
    "start_time": "2022-09-20T18:35:33.257Z"
   },
   {
    "duration": 81,
    "start_time": "2022-09-20T18:36:04.075Z"
   },
   {
    "duration": 310,
    "start_time": "2022-09-20T18:36:09.474Z"
   },
   {
    "duration": 7,
    "start_time": "2022-09-22T17:16:58.344Z"
   },
   {
    "duration": 877,
    "start_time": "2022-09-22T17:17:02.531Z"
   },
   {
    "duration": 3,
    "start_time": "2022-09-22T17:17:03.411Z"
   },
   {
    "duration": 8335,
    "start_time": "2022-09-22T17:17:03.415Z"
   },
   {
    "duration": 212,
    "start_time": "2022-09-22T17:17:11.752Z"
   },
   {
    "duration": 13,
    "start_time": "2022-09-22T17:17:11.966Z"
   },
   {
    "duration": 243,
    "start_time": "2022-09-22T17:17:11.981Z"
   },
   {
    "duration": 6,
    "start_time": "2022-09-22T17:17:12.225Z"
   },
   {
    "duration": 296,
    "start_time": "2022-09-22T17:17:12.233Z"
   },
   {
    "duration": 6,
    "start_time": "2022-09-22T17:17:12.530Z"
   },
   {
    "duration": 8,
    "start_time": "2022-09-22T17:17:12.541Z"
   },
   {
    "duration": 7,
    "start_time": "2022-09-22T17:17:12.551Z"
   },
   {
    "duration": 7,
    "start_time": "2022-09-22T17:17:12.559Z"
   },
   {
    "duration": 5,
    "start_time": "2022-09-22T17:17:12.567Z"
   },
   {
    "duration": 6,
    "start_time": "2022-09-22T17:17:12.574Z"
   },
   {
    "duration": 6,
    "start_time": "2022-09-22T17:17:12.581Z"
   },
   {
    "duration": 7,
    "start_time": "2022-09-22T17:17:12.588Z"
   },
   {
    "duration": 6,
    "start_time": "2022-09-22T17:17:12.596Z"
   },
   {
    "duration": 6,
    "start_time": "2022-09-22T17:17:12.603Z"
   },
   {
    "duration": 12,
    "start_time": "2022-09-22T17:17:12.610Z"
   },
   {
    "duration": 6,
    "start_time": "2022-09-22T17:17:12.623Z"
   },
   {
    "duration": 13,
    "start_time": "2022-09-22T17:17:12.630Z"
   },
   {
    "duration": 9,
    "start_time": "2022-09-22T17:17:12.644Z"
   },
   {
    "duration": 6,
    "start_time": "2022-09-22T17:17:12.654Z"
   },
   {
    "duration": 688,
    "start_time": "2022-09-22T17:59:24.030Z"
   },
   {
    "duration": 3,
    "start_time": "2022-09-22T17:59:24.719Z"
   },
   {
    "duration": 6773,
    "start_time": "2022-09-22T17:59:24.723Z"
   },
   {
    "duration": 205,
    "start_time": "2022-09-22T17:59:31.498Z"
   },
   {
    "duration": 14,
    "start_time": "2022-09-22T17:59:31.705Z"
   },
   {
    "duration": 245,
    "start_time": "2022-09-22T17:59:31.720Z"
   },
   {
    "duration": 6,
    "start_time": "2022-09-22T17:59:31.967Z"
   },
   {
    "duration": 309,
    "start_time": "2022-09-22T17:59:31.974Z"
   },
   {
    "duration": 2,
    "start_time": "2022-09-22T17:59:32.285Z"
   },
   {
    "duration": 6,
    "start_time": "2022-09-22T17:59:32.290Z"
   },
   {
    "duration": 6,
    "start_time": "2022-09-22T17:59:32.297Z"
   },
   {
    "duration": 5,
    "start_time": "2022-09-22T17:59:32.304Z"
   },
   {
    "duration": 4,
    "start_time": "2022-09-22T17:59:32.311Z"
   },
   {
    "duration": 4,
    "start_time": "2022-09-22T17:59:32.317Z"
   },
   {
    "duration": 12,
    "start_time": "2022-09-22T17:59:32.335Z"
   },
   {
    "duration": 6,
    "start_time": "2022-09-22T17:59:32.348Z"
   },
   {
    "duration": 8,
    "start_time": "2022-09-22T17:59:32.355Z"
   },
   {
    "duration": 7,
    "start_time": "2022-09-22T17:59:32.364Z"
   },
   {
    "duration": 5,
    "start_time": "2022-09-22T17:59:32.372Z"
   },
   {
    "duration": 4,
    "start_time": "2022-09-22T17:59:32.378Z"
   },
   {
    "duration": 5,
    "start_time": "2022-09-22T17:59:32.383Z"
   },
   {
    "duration": 6,
    "start_time": "2022-09-22T17:59:32.389Z"
   },
   {
    "duration": 10,
    "start_time": "2022-09-22T17:59:32.396Z"
   },
   {
    "duration": 145,
    "start_time": "2022-09-22T17:59:42.675Z"
   },
   {
    "duration": 7,
    "start_time": "2022-09-22T18:00:09.303Z"
   },
   {
    "duration": 140,
    "start_time": "2022-09-22T18:01:34.006Z"
   },
   {
    "duration": 7,
    "start_time": "2022-09-22T18:01:34.650Z"
   },
   {
    "duration": 125,
    "start_time": "2022-09-22T18:10:13.888Z"
   },
   {
    "duration": 6,
    "start_time": "2022-09-22T18:10:25.855Z"
   },
   {
    "duration": 698,
    "start_time": "2022-09-22T18:10:30.763Z"
   },
   {
    "duration": 3,
    "start_time": "2022-09-22T18:10:31.463Z"
   },
   {
    "duration": 6744,
    "start_time": "2022-09-22T18:10:31.467Z"
   },
   {
    "duration": 197,
    "start_time": "2022-09-22T18:10:38.213Z"
   },
   {
    "duration": 13,
    "start_time": "2022-09-22T18:10:38.412Z"
   },
   {
    "duration": 262,
    "start_time": "2022-09-22T18:10:38.427Z"
   },
   {
    "duration": 6,
    "start_time": "2022-09-22T18:10:38.691Z"
   },
   {
    "duration": 302,
    "start_time": "2022-09-22T18:10:38.699Z"
   },
   {
    "duration": 2,
    "start_time": "2022-09-22T18:10:39.003Z"
   },
   {
    "duration": 8,
    "start_time": "2022-09-22T18:10:39.008Z"
   },
   {
    "duration": 161,
    "start_time": "2022-09-22T18:10:39.017Z"
   },
   {
    "duration": 6,
    "start_time": "2022-09-22T18:10:39.179Z"
   },
   {
    "duration": 5,
    "start_time": "2022-09-22T18:10:39.187Z"
   },
   {
    "duration": 1217,
    "start_time": "2022-09-22T18:10:39.194Z"
   },
   {
    "duration": 10,
    "start_time": "2022-09-22T18:10:40.413Z"
   },
   {
    "duration": 17,
    "start_time": "2022-09-22T18:10:40.433Z"
   },
   {
    "duration": 5,
    "start_time": "2022-09-22T18:10:40.452Z"
   },
   {
    "duration": 5,
    "start_time": "2022-09-22T18:10:40.458Z"
   },
   {
    "duration": 6,
    "start_time": "2022-09-22T18:10:40.464Z"
   },
   {
    "duration": 7,
    "start_time": "2022-09-22T18:10:40.471Z"
   },
   {
    "duration": 14,
    "start_time": "2022-09-22T18:10:40.479Z"
   },
   {
    "duration": 5,
    "start_time": "2022-09-22T18:10:40.495Z"
   },
   {
    "duration": 8,
    "start_time": "2022-09-22T18:10:40.501Z"
   },
   {
    "duration": 5,
    "start_time": "2022-09-22T18:10:40.511Z"
   },
   {
    "duration": 7,
    "start_time": "2022-09-22T18:10:40.517Z"
   },
   {
    "duration": 13,
    "start_time": "2022-09-22T19:13:49.288Z"
   },
   {
    "duration": 680,
    "start_time": "2022-09-22T19:13:54.203Z"
   },
   {
    "duration": 3,
    "start_time": "2022-09-22T19:13:54.885Z"
   },
   {
    "duration": 5828,
    "start_time": "2022-09-22T19:13:54.889Z"
   },
   {
    "duration": 241,
    "start_time": "2022-09-22T19:14:00.719Z"
   },
   {
    "duration": 18,
    "start_time": "2022-09-22T19:14:00.962Z"
   },
   {
    "duration": 286,
    "start_time": "2022-09-22T19:14:00.982Z"
   },
   {
    "duration": 7,
    "start_time": "2022-09-22T19:14:01.270Z"
   },
   {
    "duration": 334,
    "start_time": "2022-09-22T19:14:01.279Z"
   },
   {
    "duration": 3,
    "start_time": "2022-09-22T19:14:01.615Z"
   },
   {
    "duration": 23,
    "start_time": "2022-09-22T19:14:01.621Z"
   },
   {
    "duration": 167,
    "start_time": "2022-09-22T19:14:01.646Z"
   },
   {
    "duration": 6,
    "start_time": "2022-09-22T19:14:01.815Z"
   },
   {
    "duration": 6,
    "start_time": "2022-09-22T19:14:01.823Z"
   },
   {
    "duration": 1164,
    "start_time": "2022-09-22T19:14:01.830Z"
   },
   {
    "duration": 11,
    "start_time": "2022-09-22T19:14:02.995Z"
   },
   {
    "duration": 138,
    "start_time": "2022-09-22T19:14:03.008Z"
   },
   {
    "duration": 6,
    "start_time": "2022-09-22T19:14:03.148Z"
   },
   {
    "duration": 9,
    "start_time": "2022-09-22T19:14:03.156Z"
   },
   {
    "duration": 10,
    "start_time": "2022-09-22T19:14:03.166Z"
   },
   {
    "duration": 8,
    "start_time": "2022-09-22T19:14:03.178Z"
   },
   {
    "duration": 9,
    "start_time": "2022-09-22T19:14:03.188Z"
   },
   {
    "duration": 16,
    "start_time": "2022-09-22T19:14:03.198Z"
   },
   {
    "duration": 17,
    "start_time": "2022-09-22T19:14:03.215Z"
   },
   {
    "duration": 22,
    "start_time": "2022-09-22T19:14:03.233Z"
   },
   {
    "duration": 8,
    "start_time": "2022-09-22T19:14:03.256Z"
   },
   {
    "duration": 7,
    "start_time": "2022-09-22T19:14:03.265Z"
   },
   {
    "duration": 649,
    "start_time": "2022-09-22T19:15:43.084Z"
   },
   {
    "duration": 4,
    "start_time": "2022-09-22T19:15:43.745Z"
   },
   {
    "duration": 5892,
    "start_time": "2022-09-22T19:15:43.750Z"
   },
   {
    "duration": 236,
    "start_time": "2022-09-22T19:15:49.645Z"
   },
   {
    "duration": 14,
    "start_time": "2022-09-22T19:15:49.882Z"
   },
   {
    "duration": 249,
    "start_time": "2022-09-22T19:15:49.897Z"
   },
   {
    "duration": 7,
    "start_time": "2022-09-22T19:15:50.148Z"
   },
   {
    "duration": 307,
    "start_time": "2022-09-22T19:15:50.156Z"
   },
   {
    "duration": 2,
    "start_time": "2022-09-22T19:15:50.465Z"
   },
   {
    "duration": 17,
    "start_time": "2022-09-22T19:15:50.470Z"
   },
   {
    "duration": 159,
    "start_time": "2022-09-22T19:15:50.488Z"
   },
   {
    "duration": 6,
    "start_time": "2022-09-22T19:15:50.649Z"
   },
   {
    "duration": 6,
    "start_time": "2022-09-22T19:15:50.657Z"
   },
   {
    "duration": 1150,
    "start_time": "2022-09-22T19:15:50.664Z"
   },
   {
    "duration": 29,
    "start_time": "2022-09-22T19:15:51.816Z"
   },
   {
    "duration": 94,
    "start_time": "2022-09-22T19:15:51.846Z"
   },
   {
    "duration": 7,
    "start_time": "2022-09-22T19:15:51.945Z"
   },
   {
    "duration": 8,
    "start_time": "2022-09-22T19:15:51.953Z"
   },
   {
    "duration": 6,
    "start_time": "2022-09-22T19:15:51.963Z"
   },
   {
    "duration": 6,
    "start_time": "2022-09-22T19:15:51.971Z"
   },
   {
    "duration": 5,
    "start_time": "2022-09-22T19:15:51.978Z"
   },
   {
    "duration": 7,
    "start_time": "2022-09-22T19:15:51.984Z"
   },
   {
    "duration": 12,
    "start_time": "2022-09-22T19:15:51.992Z"
   },
   {
    "duration": 7,
    "start_time": "2022-09-22T19:15:52.006Z"
   },
   {
    "duration": 35,
    "start_time": "2022-09-22T19:15:52.014Z"
   },
   {
    "duration": 8,
    "start_time": "2022-09-22T19:15:52.051Z"
   },
   {
    "duration": 704,
    "start_time": "2022-09-22T19:41:56.676Z"
   },
   {
    "duration": 4,
    "start_time": "2022-09-22T19:41:57.382Z"
   },
   {
    "duration": 5744,
    "start_time": "2022-09-22T19:41:57.388Z"
   },
   {
    "duration": 214,
    "start_time": "2022-09-22T19:42:03.134Z"
   },
   {
    "duration": 15,
    "start_time": "2022-09-22T19:42:03.349Z"
   },
   {
    "duration": 249,
    "start_time": "2022-09-22T19:42:03.365Z"
   },
   {
    "duration": 7,
    "start_time": "2022-09-22T19:42:03.615Z"
   },
   {
    "duration": 325,
    "start_time": "2022-09-22T19:42:03.624Z"
   },
   {
    "duration": 2,
    "start_time": "2022-09-22T19:42:03.954Z"
   },
   {
    "duration": 22,
    "start_time": "2022-09-22T19:42:03.959Z"
   },
   {
    "duration": 150,
    "start_time": "2022-09-22T19:42:03.982Z"
   },
   {
    "duration": 7,
    "start_time": "2022-09-22T19:42:04.135Z"
   },
   {
    "duration": 23,
    "start_time": "2022-09-22T19:42:04.144Z"
   },
   {
    "duration": 1257,
    "start_time": "2022-09-22T19:42:04.169Z"
   },
   {
    "duration": 20,
    "start_time": "2022-09-22T19:42:05.428Z"
   },
   {
    "duration": 115,
    "start_time": "2022-09-22T19:42:05.449Z"
   },
   {
    "duration": 9,
    "start_time": "2022-09-22T19:42:05.566Z"
   },
   {
    "duration": 64,
    "start_time": "2022-09-22T19:42:05.576Z"
   },
   {
    "duration": 8,
    "start_time": "2022-09-22T19:42:05.641Z"
   },
   {
    "duration": 6,
    "start_time": "2022-09-22T19:42:05.651Z"
   },
   {
    "duration": 6,
    "start_time": "2022-09-22T19:42:05.658Z"
   },
   {
    "duration": 6,
    "start_time": "2022-09-22T19:42:05.666Z"
   },
   {
    "duration": 11,
    "start_time": "2022-09-22T19:42:05.674Z"
   },
   {
    "duration": 8,
    "start_time": "2022-09-22T19:42:05.687Z"
   },
   {
    "duration": 9,
    "start_time": "2022-09-22T19:42:05.696Z"
   },
   {
    "duration": 6,
    "start_time": "2022-09-22T19:42:05.707Z"
   },
   {
    "duration": 14,
    "start_time": "2022-09-22T19:42:05.714Z"
   },
   {
    "duration": 57,
    "start_time": "2022-09-22T19:42:48.451Z"
   },
   {
    "duration": 6,
    "start_time": "2022-09-22T19:42:49.391Z"
   },
   {
    "duration": 740,
    "start_time": "2022-09-22T19:42:54.217Z"
   },
   {
    "duration": 3,
    "start_time": "2022-09-22T19:42:54.959Z"
   },
   {
    "duration": 5592,
    "start_time": "2022-09-22T19:42:54.964Z"
   },
   {
    "duration": 212,
    "start_time": "2022-09-22T19:43:00.558Z"
   },
   {
    "duration": 15,
    "start_time": "2022-09-22T19:43:00.773Z"
   },
   {
    "duration": 268,
    "start_time": "2022-09-22T19:43:00.790Z"
   },
   {
    "duration": 7,
    "start_time": "2022-09-22T19:43:01.059Z"
   },
   {
    "duration": 300,
    "start_time": "2022-09-22T19:43:01.067Z"
   },
   {
    "duration": 2,
    "start_time": "2022-09-22T19:43:01.369Z"
   },
   {
    "duration": 20,
    "start_time": "2022-09-22T19:43:01.374Z"
   },
   {
    "duration": 160,
    "start_time": "2022-09-22T19:43:01.396Z"
   },
   {
    "duration": 6,
    "start_time": "2022-09-22T19:43:01.558Z"
   },
   {
    "duration": 17,
    "start_time": "2022-09-22T19:43:01.565Z"
   },
   {
    "duration": 1183,
    "start_time": "2022-09-22T19:43:01.583Z"
   },
   {
    "duration": 11,
    "start_time": "2022-09-22T19:43:02.768Z"
   },
   {
    "duration": 105,
    "start_time": "2022-09-22T19:43:02.780Z"
   },
   {
    "duration": 7,
    "start_time": "2022-09-22T19:43:02.886Z"
   },
   {
    "duration": 70,
    "start_time": "2022-09-22T19:43:02.894Z"
   },
   {
    "duration": 5,
    "start_time": "2022-09-22T19:43:02.966Z"
   },
   {
    "duration": 6,
    "start_time": "2022-09-22T19:43:02.973Z"
   },
   {
    "duration": 6,
    "start_time": "2022-09-22T19:43:02.980Z"
   },
   {
    "duration": 7,
    "start_time": "2022-09-22T19:43:02.987Z"
   },
   {
    "duration": 6,
    "start_time": "2022-09-22T19:43:02.996Z"
   },
   {
    "duration": 5,
    "start_time": "2022-09-22T19:43:03.003Z"
   },
   {
    "duration": 5,
    "start_time": "2022-09-22T19:43:03.009Z"
   },
   {
    "duration": 4,
    "start_time": "2022-09-22T19:43:03.016Z"
   },
   {
    "duration": 5,
    "start_time": "2022-09-22T19:43:03.022Z"
   },
   {
    "duration": 1073,
    "start_time": "2022-09-25T15:06:46.440Z"
   },
   {
    "duration": 4,
    "start_time": "2022-09-25T15:06:47.516Z"
   },
   {
    "duration": 9029,
    "start_time": "2022-09-25T15:06:47.522Z"
   },
   {
    "duration": 58,
    "start_time": "2022-09-25T15:06:56.554Z"
   },
   {
    "duration": 16,
    "start_time": "2022-09-25T15:06:56.613Z"
   },
   {
    "duration": 210,
    "start_time": "2022-09-25T15:06:56.631Z"
   },
   {
    "duration": 7,
    "start_time": "2022-09-25T15:06:56.843Z"
   },
   {
    "duration": 320,
    "start_time": "2022-09-25T15:06:56.852Z"
   },
   {
    "duration": 4,
    "start_time": "2022-09-25T15:06:57.173Z"
   },
   {
    "duration": 11,
    "start_time": "2022-09-25T15:06:57.179Z"
   },
   {
    "duration": 103,
    "start_time": "2022-09-25T15:06:57.192Z"
   },
   {
    "duration": 7,
    "start_time": "2022-09-25T15:06:57.297Z"
   },
   {
    "duration": 15,
    "start_time": "2022-09-25T15:06:57.306Z"
   },
   {
    "duration": 1234,
    "start_time": "2022-09-25T15:06:57.323Z"
   },
   {
    "duration": 16,
    "start_time": "2022-09-25T15:06:58.559Z"
   },
   {
    "duration": 70,
    "start_time": "2022-09-25T15:06:58.577Z"
   },
   {
    "duration": 7,
    "start_time": "2022-09-25T15:06:58.649Z"
   },
   {
    "duration": 40,
    "start_time": "2022-09-25T15:06:58.658Z"
   },
   {
    "duration": 8,
    "start_time": "2022-09-25T15:06:58.700Z"
   },
   {
    "duration": 12,
    "start_time": "2022-09-25T15:06:58.710Z"
   },
   {
    "duration": 8,
    "start_time": "2022-09-25T15:06:58.725Z"
   },
   {
    "duration": 12,
    "start_time": "2022-09-25T15:06:58.735Z"
   },
   {
    "duration": 9,
    "start_time": "2022-09-25T15:06:58.749Z"
   },
   {
    "duration": 9,
    "start_time": "2022-09-25T15:06:58.760Z"
   },
   {
    "duration": 6,
    "start_time": "2022-09-25T15:06:58.770Z"
   },
   {
    "duration": 6,
    "start_time": "2022-09-25T15:06:58.777Z"
   },
   {
    "duration": 12,
    "start_time": "2022-09-25T15:06:58.784Z"
   },
   {
    "duration": 909,
    "start_time": "2022-09-25T15:22:11.314Z"
   },
   {
    "duration": 4,
    "start_time": "2022-09-25T15:22:12.225Z"
   },
   {
    "duration": 8376,
    "start_time": "2022-09-25T15:22:12.230Z"
   },
   {
    "duration": 70,
    "start_time": "2022-09-25T15:22:20.608Z"
   },
   {
    "duration": 15,
    "start_time": "2022-09-25T15:22:20.680Z"
   },
   {
    "duration": 225,
    "start_time": "2022-09-25T15:22:20.696Z"
   },
   {
    "duration": 7,
    "start_time": "2022-09-25T15:22:20.923Z"
   },
   {
    "duration": 337,
    "start_time": "2022-09-25T15:22:20.931Z"
   },
   {
    "duration": 3,
    "start_time": "2022-09-25T15:22:21.269Z"
   },
   {
    "duration": 15,
    "start_time": "2022-09-25T15:22:21.274Z"
   },
   {
    "duration": 1335,
    "start_time": "2022-09-25T15:22:21.291Z"
   },
   {
    "duration": 7,
    "start_time": "2022-09-25T15:22:22.628Z"
   },
   {
    "duration": 6,
    "start_time": "2022-09-25T15:22:22.636Z"
   },
   {
    "duration": 1224,
    "start_time": "2022-09-25T15:22:22.644Z"
   },
   {
    "duration": 10,
    "start_time": "2022-09-25T15:22:23.870Z"
   },
   {
    "duration": 84,
    "start_time": "2022-09-25T15:22:23.882Z"
   },
   {
    "duration": 10,
    "start_time": "2022-09-25T15:22:23.968Z"
   },
   {
    "duration": 57,
    "start_time": "2022-09-25T15:22:23.980Z"
   },
   {
    "duration": 34,
    "start_time": "2022-09-25T15:22:24.039Z"
   },
   {
    "duration": 36,
    "start_time": "2022-09-25T15:22:24.074Z"
   },
   {
    "duration": 28,
    "start_time": "2022-09-25T15:22:24.112Z"
   },
   {
    "duration": 49,
    "start_time": "2022-09-25T15:22:24.142Z"
   },
   {
    "duration": 25,
    "start_time": "2022-09-25T15:22:24.193Z"
   },
   {
    "duration": 43,
    "start_time": "2022-09-25T15:22:24.220Z"
   },
   {
    "duration": 33,
    "start_time": "2022-09-25T15:22:24.265Z"
   },
   {
    "duration": 33,
    "start_time": "2022-09-25T15:22:24.300Z"
   },
   {
    "duration": 25,
    "start_time": "2022-09-25T15:22:24.335Z"
   },
   {
    "duration": 696,
    "start_time": "2022-09-25T16:13:13.835Z"
   },
   {
    "duration": 3,
    "start_time": "2022-09-25T16:13:14.533Z"
   },
   {
    "duration": 8346,
    "start_time": "2022-09-25T16:13:14.538Z"
   },
   {
    "duration": 62,
    "start_time": "2022-09-25T16:13:22.886Z"
   },
   {
    "duration": 14,
    "start_time": "2022-09-25T16:13:22.950Z"
   },
   {
    "duration": 217,
    "start_time": "2022-09-25T16:13:22.966Z"
   },
   {
    "duration": 7,
    "start_time": "2022-09-25T16:13:23.184Z"
   },
   {
    "duration": 320,
    "start_time": "2022-09-25T16:13:23.192Z"
   },
   {
    "duration": 3,
    "start_time": "2022-09-25T16:13:23.513Z"
   },
   {
    "duration": 58,
    "start_time": "2022-09-25T16:13:23.518Z"
   },
   {
    "duration": 1377,
    "start_time": "2022-09-25T16:13:23.577Z"
   },
   {
    "duration": 7,
    "start_time": "2022-09-25T16:13:24.956Z"
   },
   {
    "duration": 14,
    "start_time": "2022-09-25T16:13:24.965Z"
   },
   {
    "duration": 1447,
    "start_time": "2022-09-25T16:13:24.981Z"
   },
   {
    "duration": 12,
    "start_time": "2022-09-25T16:13:26.429Z"
   },
   {
    "duration": 91,
    "start_time": "2022-09-25T16:13:26.442Z"
   },
   {
    "duration": 9,
    "start_time": "2022-09-25T16:13:26.534Z"
   },
   {
    "duration": 63,
    "start_time": "2022-09-25T16:13:26.545Z"
   },
   {
    "duration": 46,
    "start_time": "2022-09-25T16:13:26.610Z"
   },
   {
    "duration": 36,
    "start_time": "2022-09-25T16:13:26.658Z"
   },
   {
    "duration": 21,
    "start_time": "2022-09-25T16:13:26.696Z"
   },
   {
    "duration": 40,
    "start_time": "2022-09-25T16:13:26.719Z"
   },
   {
    "duration": 32,
    "start_time": "2022-09-25T16:13:26.761Z"
   },
   {
    "duration": 23,
    "start_time": "2022-09-25T16:13:26.794Z"
   },
   {
    "duration": 30,
    "start_time": "2022-09-25T16:13:26.819Z"
   },
   {
    "duration": 30,
    "start_time": "2022-09-25T16:13:26.851Z"
   },
   {
    "duration": 29,
    "start_time": "2022-09-25T16:13:26.883Z"
   },
   {
    "duration": 6,
    "start_time": "2022-09-25T16:49:33.840Z"
   },
   {
    "duration": 782,
    "start_time": "2022-09-25T16:49:39.142Z"
   },
   {
    "duration": 4,
    "start_time": "2022-09-25T16:49:39.926Z"
   },
   {
    "duration": 8423,
    "start_time": "2022-09-25T16:49:39.932Z"
   },
   {
    "duration": 65,
    "start_time": "2022-09-25T16:49:48.358Z"
   },
   {
    "duration": 19,
    "start_time": "2022-09-25T16:49:48.425Z"
   },
   {
    "duration": 244,
    "start_time": "2022-09-25T16:49:48.446Z"
   },
   {
    "duration": 7,
    "start_time": "2022-09-25T16:49:48.696Z"
   },
   {
    "duration": 365,
    "start_time": "2022-09-25T16:49:48.706Z"
   },
   {
    "duration": 3,
    "start_time": "2022-09-25T16:49:49.074Z"
   },
   {
    "duration": 11,
    "start_time": "2022-09-25T16:49:49.080Z"
   },
   {
    "duration": 1592,
    "start_time": "2022-09-25T16:49:49.092Z"
   },
   {
    "duration": 9,
    "start_time": "2022-09-25T16:49:50.686Z"
   },
   {
    "duration": 28,
    "start_time": "2022-09-25T16:49:50.697Z"
   },
   {
    "duration": 1505,
    "start_time": "2022-09-25T16:49:50.727Z"
   },
   {
    "duration": 19,
    "start_time": "2022-09-25T16:49:52.234Z"
   },
   {
    "duration": 70,
    "start_time": "2022-09-25T16:49:52.255Z"
   },
   {
    "duration": 8,
    "start_time": "2022-09-25T16:49:52.327Z"
   },
   {
    "duration": 46,
    "start_time": "2022-09-25T16:49:52.337Z"
   },
   {
    "duration": 12,
    "start_time": "2022-09-25T16:49:52.385Z"
   },
   {
    "duration": 14,
    "start_time": "2022-09-25T16:49:52.398Z"
   },
   {
    "duration": 1394,
    "start_time": "2022-09-25T16:49:52.414Z"
   },
   {
    "duration": 12,
    "start_time": "2022-09-25T16:49:53.810Z"
   },
   {
    "duration": 8,
    "start_time": "2022-09-25T16:49:53.824Z"
   },
   {
    "duration": 15,
    "start_time": "2022-09-25T16:49:53.834Z"
   },
   {
    "duration": 6,
    "start_time": "2022-09-25T16:49:53.851Z"
   },
   {
    "duration": 20,
    "start_time": "2022-09-25T16:49:53.859Z"
   },
   {
    "duration": 23,
    "start_time": "2022-09-25T16:49:53.881Z"
   },
   {
    "duration": 7,
    "start_time": "2022-09-25T16:49:53.908Z"
   },
   {
    "duration": 12,
    "start_time": "2022-09-25T17:30:15.159Z"
   },
   {
    "duration": 811,
    "start_time": "2022-09-25T17:30:19.859Z"
   },
   {
    "duration": 4,
    "start_time": "2022-09-25T17:30:20.672Z"
   },
   {
    "duration": 7748,
    "start_time": "2022-09-25T17:30:20.678Z"
   },
   {
    "duration": 72,
    "start_time": "2022-09-25T17:30:28.429Z"
   },
   {
    "duration": 14,
    "start_time": "2022-09-25T17:30:28.503Z"
   },
   {
    "duration": 214,
    "start_time": "2022-09-25T17:30:28.519Z"
   },
   {
    "duration": 7,
    "start_time": "2022-09-25T17:30:28.734Z"
   },
   {
    "duration": 318,
    "start_time": "2022-09-25T17:30:28.743Z"
   },
   {
    "duration": 3,
    "start_time": "2022-09-25T17:30:29.063Z"
   },
   {
    "duration": 9,
    "start_time": "2022-09-25T17:30:29.070Z"
   },
   {
    "duration": 2581,
    "start_time": "2022-09-25T17:30:29.081Z"
   },
   {
    "duration": 6,
    "start_time": "2022-09-25T17:30:31.664Z"
   },
   {
    "duration": 14,
    "start_time": "2022-09-25T17:30:31.672Z"
   },
   {
    "duration": 1175,
    "start_time": "2022-09-25T17:30:31.687Z"
   },
   {
    "duration": 12,
    "start_time": "2022-09-25T17:30:32.863Z"
   },
   {
    "duration": 77,
    "start_time": "2022-09-25T17:30:32.877Z"
   },
   {
    "duration": 8,
    "start_time": "2022-09-25T17:30:32.956Z"
   },
   {
    "duration": 46,
    "start_time": "2022-09-25T17:30:32.965Z"
   },
   {
    "duration": 7,
    "start_time": "2022-09-25T17:30:33.013Z"
   },
   {
    "duration": 11,
    "start_time": "2022-09-25T17:30:33.021Z"
   },
   {
    "duration": 1224,
    "start_time": "2022-09-25T17:30:33.034Z"
   },
   {
    "duration": 11,
    "start_time": "2022-09-25T17:30:34.259Z"
   },
   {
    "duration": 557,
    "start_time": "2022-09-25T17:30:34.272Z"
   },
   {
    "duration": 12,
    "start_time": "2022-09-25T17:30:34.831Z"
   },
   {
    "duration": 2,
    "start_time": "2022-09-25T17:30:34.845Z"
   },
   {
    "duration": 6,
    "start_time": "2022-09-25T17:30:34.849Z"
   },
   {
    "duration": 7,
    "start_time": "2022-09-25T17:30:34.856Z"
   },
   {
    "duration": 3,
    "start_time": "2022-09-25T17:30:34.867Z"
   },
   {
    "duration": 5,
    "start_time": "2022-09-25T17:30:34.871Z"
   },
   {
    "duration": 767,
    "start_time": "2022-09-25T17:40:52.255Z"
   },
   {
    "duration": 3,
    "start_time": "2022-09-25T17:40:53.024Z"
   },
   {
    "duration": 9189,
    "start_time": "2022-09-25T17:40:53.029Z"
   },
   {
    "duration": 46,
    "start_time": "2022-09-25T17:41:02.220Z"
   },
   {
    "duration": 14,
    "start_time": "2022-09-25T17:41:02.268Z"
   },
   {
    "duration": 204,
    "start_time": "2022-09-25T17:41:02.284Z"
   },
   {
    "duration": 6,
    "start_time": "2022-09-25T17:41:02.490Z"
   },
   {
    "duration": 312,
    "start_time": "2022-09-25T17:41:02.498Z"
   },
   {
    "duration": 3,
    "start_time": "2022-09-25T17:41:02.811Z"
   },
   {
    "duration": 22,
    "start_time": "2022-09-25T17:41:02.817Z"
   },
   {
    "duration": 1334,
    "start_time": "2022-09-25T17:41:02.841Z"
   },
   {
    "duration": 7,
    "start_time": "2022-09-25T17:41:04.177Z"
   },
   {
    "duration": 30,
    "start_time": "2022-09-25T17:41:04.185Z"
   },
   {
    "duration": 1262,
    "start_time": "2022-09-25T17:41:04.217Z"
   },
   {
    "duration": 14,
    "start_time": "2022-09-25T17:41:05.480Z"
   },
   {
    "duration": 61,
    "start_time": "2022-09-25T17:41:05.496Z"
   },
   {
    "duration": 8,
    "start_time": "2022-09-25T17:41:05.559Z"
   },
   {
    "duration": 30,
    "start_time": "2022-09-25T17:41:05.569Z"
   },
   {
    "duration": 7,
    "start_time": "2022-09-25T17:41:05.601Z"
   },
   {
    "duration": 20,
    "start_time": "2022-09-25T17:41:05.610Z"
   },
   {
    "duration": 1225,
    "start_time": "2022-09-25T17:41:05.633Z"
   },
   {
    "duration": 13,
    "start_time": "2022-09-25T17:41:06.860Z"
   },
   {
    "duration": 582,
    "start_time": "2022-09-25T17:41:06.874Z"
   },
   {
    "duration": 13,
    "start_time": "2022-09-25T17:41:07.458Z"
   },
   {
    "duration": 89,
    "start_time": "2022-09-25T17:41:07.473Z"
   },
   {
    "duration": 0,
    "start_time": "2022-09-25T17:41:07.564Z"
   },
   {
    "duration": 0,
    "start_time": "2022-09-25T17:41:07.565Z"
   },
   {
    "duration": 0,
    "start_time": "2022-09-25T17:41:07.566Z"
   },
   {
    "duration": 0,
    "start_time": "2022-09-25T17:41:07.567Z"
   },
   {
    "duration": 37,
    "start_time": "2022-09-25T17:41:42.131Z"
   },
   {
    "duration": 74,
    "start_time": "2022-09-25T18:20:07.173Z"
   },
   {
    "duration": 8,
    "start_time": "2022-09-25T18:20:07.909Z"
   },
   {
    "duration": 104,
    "start_time": "2022-09-25T18:50:24.525Z"
   },
   {
    "duration": 8,
    "start_time": "2022-09-25T18:50:25.181Z"
   },
   {
    "duration": 106,
    "start_time": "2022-09-25T18:50:50.248Z"
   },
   {
    "duration": 10,
    "start_time": "2022-09-25T18:50:51.844Z"
   },
   {
    "duration": 781,
    "start_time": "2022-09-25T19:14:59.979Z"
   },
   {
    "duration": 3,
    "start_time": "2022-09-25T19:15:00.763Z"
   },
   {
    "duration": 9082,
    "start_time": "2022-09-25T19:15:00.768Z"
   },
   {
    "duration": 56,
    "start_time": "2022-09-25T19:15:09.852Z"
   },
   {
    "duration": 16,
    "start_time": "2022-09-25T19:15:09.910Z"
   },
   {
    "duration": 263,
    "start_time": "2022-09-25T19:15:09.929Z"
   },
   {
    "duration": 7,
    "start_time": "2022-09-25T19:15:10.194Z"
   },
   {
    "duration": 326,
    "start_time": "2022-09-25T19:15:10.202Z"
   },
   {
    "duration": 285,
    "start_time": "2022-09-25T19:15:10.531Z"
   },
   {
    "duration": 10,
    "start_time": "2022-09-25T19:15:10.819Z"
   },
   {
    "duration": 44,
    "start_time": "2022-09-25T19:15:10.832Z"
   },
   {
    "duration": 1436,
    "start_time": "2022-09-25T19:15:10.878Z"
   },
   {
    "duration": 7,
    "start_time": "2022-09-25T19:15:12.316Z"
   },
   {
    "duration": 9,
    "start_time": "2022-09-25T19:15:12.324Z"
   },
   {
    "duration": 1233,
    "start_time": "2022-09-25T19:15:12.335Z"
   },
   {
    "duration": 11,
    "start_time": "2022-09-25T19:15:13.570Z"
   },
   {
    "duration": 62,
    "start_time": "2022-09-25T19:15:13.590Z"
   },
   {
    "duration": 8,
    "start_time": "2022-09-25T19:15:13.653Z"
   },
   {
    "duration": 54,
    "start_time": "2022-09-25T19:15:13.662Z"
   },
   {
    "duration": 7,
    "start_time": "2022-09-25T19:15:13.717Z"
   },
   {
    "duration": 11,
    "start_time": "2022-09-25T19:15:13.725Z"
   },
   {
    "duration": 1222,
    "start_time": "2022-09-25T19:15:13.738Z"
   },
   {
    "duration": 12,
    "start_time": "2022-09-25T19:15:14.962Z"
   },
   {
    "duration": 666,
    "start_time": "2022-09-25T19:15:14.976Z"
   },
   {
    "duration": 11,
    "start_time": "2022-09-25T19:15:15.644Z"
   },
   {
    "duration": 123,
    "start_time": "2022-09-25T19:15:15.657Z"
   },
   {
    "duration": 0,
    "start_time": "2022-09-25T19:15:15.783Z"
   },
   {
    "duration": 0,
    "start_time": "2022-09-25T19:15:15.785Z"
   },
   {
    "duration": 0,
    "start_time": "2022-09-25T19:15:15.789Z"
   },
   {
    "duration": 0,
    "start_time": "2022-09-25T19:15:15.790Z"
   },
   {
    "duration": 0,
    "start_time": "2022-09-25T19:15:15.791Z"
   },
   {
    "duration": 0,
    "start_time": "2022-09-25T19:15:15.792Z"
   },
   {
    "duration": 63,
    "start_time": "2022-09-26T16:55:07.727Z"
   },
   {
    "duration": 883,
    "start_time": "2022-09-26T16:55:11.687Z"
   },
   {
    "duration": 4,
    "start_time": "2022-09-26T16:55:12.572Z"
   },
   {
    "duration": 6454,
    "start_time": "2022-09-26T16:55:12.577Z"
   },
   {
    "duration": 221,
    "start_time": "2022-09-26T16:55:19.034Z"
   },
   {
    "duration": 17,
    "start_time": "2022-09-26T16:55:19.257Z"
   },
   {
    "duration": 810,
    "start_time": "2022-09-26T16:55:19.276Z"
   },
   {
    "duration": 9,
    "start_time": "2022-09-26T16:55:20.087Z"
   },
   {
    "duration": 132,
    "start_time": "2022-09-26T16:55:20.097Z"
   },
   {
    "duration": 328,
    "start_time": "2022-09-26T16:55:20.230Z"
   },
   {
    "duration": 11,
    "start_time": "2022-09-26T16:55:20.561Z"
   },
   {
    "duration": 10,
    "start_time": "2022-09-26T16:55:20.573Z"
   },
   {
    "duration": 1523,
    "start_time": "2022-09-26T16:55:20.585Z"
   },
   {
    "duration": 7,
    "start_time": "2022-09-26T16:55:22.110Z"
   },
   {
    "duration": 7,
    "start_time": "2022-09-26T16:55:22.119Z"
   },
   {
    "duration": 1253,
    "start_time": "2022-09-26T16:55:22.128Z"
   },
   {
    "duration": 11,
    "start_time": "2022-09-26T16:55:23.383Z"
   },
   {
    "duration": 120,
    "start_time": "2022-09-26T16:55:23.396Z"
   },
   {
    "duration": 9,
    "start_time": "2022-09-26T16:55:23.517Z"
   },
   {
    "duration": 61,
    "start_time": "2022-09-26T16:55:23.527Z"
   },
   {
    "duration": 6,
    "start_time": "2022-09-26T16:55:23.590Z"
   },
   {
    "duration": 5,
    "start_time": "2022-09-26T16:55:23.598Z"
   },
   {
    "duration": 1297,
    "start_time": "2022-09-26T16:55:23.604Z"
   },
   {
    "duration": 11,
    "start_time": "2022-09-26T16:55:24.903Z"
   },
   {
    "duration": 604,
    "start_time": "2022-09-26T16:55:24.915Z"
   },
   {
    "duration": 15,
    "start_time": "2022-09-26T16:55:25.521Z"
   },
   {
    "duration": 100,
    "start_time": "2022-09-26T16:55:25.538Z"
   },
   {
    "duration": 0,
    "start_time": "2022-09-26T16:55:25.640Z"
   },
   {
    "duration": 0,
    "start_time": "2022-09-26T16:55:25.642Z"
   },
   {
    "duration": 1,
    "start_time": "2022-09-26T16:55:25.643Z"
   },
   {
    "duration": 0,
    "start_time": "2022-09-26T16:55:25.645Z"
   },
   {
    "duration": 0,
    "start_time": "2022-09-26T16:55:25.654Z"
   },
   {
    "duration": 0,
    "start_time": "2022-09-26T16:55:25.655Z"
   },
   {
    "duration": 9,
    "start_time": "2022-09-26T16:57:22.290Z"
   },
   {
    "duration": 740,
    "start_time": "2022-09-26T16:57:27.138Z"
   },
   {
    "duration": 4,
    "start_time": "2022-09-26T16:57:27.880Z"
   },
   {
    "duration": 7543,
    "start_time": "2022-09-26T16:57:27.885Z"
   },
   {
    "duration": 216,
    "start_time": "2022-09-26T16:57:35.430Z"
   },
   {
    "duration": 14,
    "start_time": "2022-09-26T16:57:35.648Z"
   },
   {
    "duration": 235,
    "start_time": "2022-09-26T16:57:35.665Z"
   },
   {
    "duration": 8,
    "start_time": "2022-09-26T16:57:35.902Z"
   },
   {
    "duration": 87,
    "start_time": "2022-09-26T16:57:35.912Z"
   },
   {
    "duration": 0,
    "start_time": "2022-09-26T16:57:36.001Z"
   },
   {
    "duration": 0,
    "start_time": "2022-09-26T16:57:36.002Z"
   },
   {
    "duration": 0,
    "start_time": "2022-09-26T16:57:36.003Z"
   },
   {
    "duration": 0,
    "start_time": "2022-09-26T16:57:36.004Z"
   },
   {
    "duration": 0,
    "start_time": "2022-09-26T16:57:36.005Z"
   },
   {
    "duration": 0,
    "start_time": "2022-09-26T16:57:36.006Z"
   },
   {
    "duration": 0,
    "start_time": "2022-09-26T16:57:36.007Z"
   },
   {
    "duration": 0,
    "start_time": "2022-09-26T16:57:36.008Z"
   },
   {
    "duration": 0,
    "start_time": "2022-09-26T16:57:36.010Z"
   },
   {
    "duration": 0,
    "start_time": "2022-09-26T16:57:36.012Z"
   },
   {
    "duration": 0,
    "start_time": "2022-09-26T16:57:36.013Z"
   },
   {
    "duration": 0,
    "start_time": "2022-09-26T16:57:36.014Z"
   },
   {
    "duration": 0,
    "start_time": "2022-09-26T16:57:36.015Z"
   },
   {
    "duration": 0,
    "start_time": "2022-09-26T16:57:36.016Z"
   },
   {
    "duration": 0,
    "start_time": "2022-09-26T16:57:36.017Z"
   },
   {
    "duration": 0,
    "start_time": "2022-09-26T16:57:36.018Z"
   },
   {
    "duration": 0,
    "start_time": "2022-09-26T16:57:36.019Z"
   },
   {
    "duration": 0,
    "start_time": "2022-09-26T16:57:36.020Z"
   },
   {
    "duration": 0,
    "start_time": "2022-09-26T16:57:36.021Z"
   },
   {
    "duration": 0,
    "start_time": "2022-09-26T16:57:36.054Z"
   },
   {
    "duration": 0,
    "start_time": "2022-09-26T16:57:36.055Z"
   },
   {
    "duration": 0,
    "start_time": "2022-09-26T16:57:36.056Z"
   },
   {
    "duration": 0,
    "start_time": "2022-09-26T16:57:36.057Z"
   },
   {
    "duration": 0,
    "start_time": "2022-09-26T16:57:36.058Z"
   },
   {
    "duration": 145,
    "start_time": "2022-09-26T16:57:41.584Z"
   },
   {
    "duration": 722,
    "start_time": "2022-09-26T16:58:35.270Z"
   },
   {
    "duration": 3,
    "start_time": "2022-09-26T16:58:35.994Z"
   },
   {
    "duration": 5911,
    "start_time": "2022-09-26T16:58:35.999Z"
   },
   {
    "duration": 199,
    "start_time": "2022-09-26T16:58:41.912Z"
   },
   {
    "duration": 15,
    "start_time": "2022-09-26T16:58:42.112Z"
   },
   {
    "duration": 301,
    "start_time": "2022-09-26T16:58:42.129Z"
   },
   {
    "duration": 7,
    "start_time": "2022-09-26T16:58:42.431Z"
   },
   {
    "duration": 293,
    "start_time": "2022-09-26T16:58:42.440Z"
   },
   {
    "duration": 10,
    "start_time": "2022-09-26T16:58:42.734Z"
   },
   {
    "duration": 8,
    "start_time": "2022-09-26T16:58:42.746Z"
   },
   {
    "duration": 2604,
    "start_time": "2022-09-26T16:58:42.755Z"
   },
   {
    "duration": 8,
    "start_time": "2022-09-26T16:58:45.361Z"
   },
   {
    "duration": 5,
    "start_time": "2022-09-26T16:58:45.371Z"
   },
   {
    "duration": 1310,
    "start_time": "2022-09-26T16:58:45.378Z"
   },
   {
    "duration": 13,
    "start_time": "2022-09-26T16:58:46.689Z"
   },
   {
    "duration": 101,
    "start_time": "2022-09-26T16:58:46.704Z"
   },
   {
    "duration": 8,
    "start_time": "2022-09-26T16:58:46.807Z"
   },
   {
    "duration": 70,
    "start_time": "2022-09-26T16:58:46.816Z"
   },
   {
    "duration": 7,
    "start_time": "2022-09-26T16:58:46.888Z"
   },
   {
    "duration": 13,
    "start_time": "2022-09-26T16:58:46.897Z"
   },
   {
    "duration": 1380,
    "start_time": "2022-09-26T16:58:46.912Z"
   },
   {
    "duration": 11,
    "start_time": "2022-09-26T16:58:48.294Z"
   },
   {
    "duration": 575,
    "start_time": "2022-09-26T16:58:48.306Z"
   },
   {
    "duration": 13,
    "start_time": "2022-09-26T16:58:48.883Z"
   },
   {
    "duration": 89,
    "start_time": "2022-09-26T16:58:48.898Z"
   },
   {
    "duration": 0,
    "start_time": "2022-09-26T16:58:48.989Z"
   },
   {
    "duration": 0,
    "start_time": "2022-09-26T16:58:48.990Z"
   },
   {
    "duration": 0,
    "start_time": "2022-09-26T16:58:48.991Z"
   },
   {
    "duration": 0,
    "start_time": "2022-09-26T16:58:48.993Z"
   },
   {
    "duration": 0,
    "start_time": "2022-09-26T16:58:48.995Z"
   },
   {
    "duration": 0,
    "start_time": "2022-09-26T16:58:48.996Z"
   },
   {
    "duration": 103,
    "start_time": "2022-09-26T17:15:32.063Z"
   },
   {
    "duration": 8,
    "start_time": "2022-09-26T17:15:33.350Z"
   },
   {
    "duration": 8,
    "start_time": "2022-09-26T17:17:25.033Z"
   },
   {
    "duration": 9,
    "start_time": "2022-09-26T17:17:43.432Z"
   },
   {
    "duration": 10,
    "start_time": "2022-09-26T17:17:51.312Z"
   },
   {
    "duration": 100,
    "start_time": "2022-09-26T17:18:29.075Z"
   },
   {
    "duration": 90,
    "start_time": "2022-09-26T17:19:51.988Z"
   },
   {
    "duration": 760,
    "start_time": "2022-09-26T17:22:53.853Z"
   },
   {
    "duration": 744,
    "start_time": "2022-09-26T17:23:02.146Z"
   },
   {
    "duration": 4,
    "start_time": "2022-09-26T17:23:02.892Z"
   },
   {
    "duration": 6217,
    "start_time": "2022-09-26T17:23:02.897Z"
   },
   {
    "duration": 193,
    "start_time": "2022-09-26T17:23:09.116Z"
   },
   {
    "duration": 16,
    "start_time": "2022-09-26T17:23:09.311Z"
   },
   {
    "duration": 235,
    "start_time": "2022-09-26T17:23:09.329Z"
   },
   {
    "duration": 8,
    "start_time": "2022-09-26T17:23:09.566Z"
   },
   {
    "duration": 279,
    "start_time": "2022-09-26T17:23:09.576Z"
   },
   {
    "duration": 10,
    "start_time": "2022-09-26T17:23:09.857Z"
   },
   {
    "duration": 1305,
    "start_time": "2022-09-26T17:23:09.870Z"
   },
   {
    "duration": 8,
    "start_time": "2022-09-26T17:23:11.177Z"
   },
   {
    "duration": 1361,
    "start_time": "2022-09-26T17:23:11.187Z"
   },
   {
    "duration": 13,
    "start_time": "2022-09-26T17:23:12.550Z"
   },
   {
    "duration": 96,
    "start_time": "2022-09-26T17:23:12.565Z"
   },
   {
    "duration": 8,
    "start_time": "2022-09-26T17:23:12.663Z"
   },
   {
    "duration": 67,
    "start_time": "2022-09-26T17:23:12.673Z"
   },
   {
    "duration": 6,
    "start_time": "2022-09-26T17:23:12.742Z"
   },
   {
    "duration": 1284,
    "start_time": "2022-09-26T17:23:12.750Z"
   },
   {
    "duration": 11,
    "start_time": "2022-09-26T17:23:14.036Z"
   },
   {
    "duration": 569,
    "start_time": "2022-09-26T17:23:14.055Z"
   },
   {
    "duration": 19,
    "start_time": "2022-09-26T17:23:14.627Z"
   },
   {
    "duration": 122,
    "start_time": "2022-09-26T17:23:14.649Z"
   },
   {
    "duration": 0,
    "start_time": "2022-09-26T17:23:14.773Z"
   },
   {
    "duration": 0,
    "start_time": "2022-09-26T17:23:14.775Z"
   },
   {
    "duration": 0,
    "start_time": "2022-09-26T17:23:14.776Z"
   },
   {
    "duration": 0,
    "start_time": "2022-09-26T17:23:14.778Z"
   },
   {
    "duration": 0,
    "start_time": "2022-09-26T17:23:14.779Z"
   },
   {
    "duration": 0,
    "start_time": "2022-09-26T17:23:14.781Z"
   },
   {
    "duration": 604,
    "start_time": "2022-09-26T17:29:22.953Z"
   },
   {
    "duration": 12,
    "start_time": "2022-09-26T17:29:26.832Z"
   },
   {
    "duration": 52,
    "start_time": "2022-09-27T17:08:39.836Z"
   },
   {
    "duration": 829,
    "start_time": "2022-09-27T17:08:56.967Z"
   },
   {
    "duration": 7,
    "start_time": "2022-09-27T17:08:57.798Z"
   },
   {
    "duration": 8704,
    "start_time": "2022-09-27T17:08:57.807Z"
   },
   {
    "duration": 52,
    "start_time": "2022-09-27T17:09:06.514Z"
   },
   {
    "duration": 13,
    "start_time": "2022-09-27T17:09:06.567Z"
   },
   {
    "duration": 318,
    "start_time": "2022-09-27T17:09:06.581Z"
   },
   {
    "duration": 7,
    "start_time": "2022-09-27T17:09:06.901Z"
   },
   {
    "duration": 340,
    "start_time": "2022-09-27T17:09:06.909Z"
   },
   {
    "duration": 9,
    "start_time": "2022-09-27T17:09:07.250Z"
   },
   {
    "duration": 9983,
    "start_time": "2022-09-27T17:09:07.261Z"
   },
   {
    "duration": 6,
    "start_time": "2022-09-27T17:09:17.245Z"
   },
   {
    "duration": 1202,
    "start_time": "2022-09-27T17:09:17.252Z"
   },
   {
    "duration": 10,
    "start_time": "2022-09-27T17:09:18.456Z"
   },
   {
    "duration": 89,
    "start_time": "2022-09-27T17:09:18.467Z"
   },
   {
    "duration": 6,
    "start_time": "2022-09-27T17:09:18.557Z"
   },
   {
    "duration": 33,
    "start_time": "2022-09-27T17:09:18.565Z"
   },
   {
    "duration": 10,
    "start_time": "2022-09-27T17:09:18.600Z"
   },
   {
    "duration": 1189,
    "start_time": "2022-09-27T17:09:18.616Z"
   },
   {
    "duration": 13,
    "start_time": "2022-09-27T17:09:19.807Z"
   },
   {
    "duration": 706,
    "start_time": "2022-09-27T17:09:19.821Z"
   },
   {
    "duration": 9,
    "start_time": "2022-09-27T17:09:20.528Z"
   },
   {
    "duration": 1438,
    "start_time": "2022-09-27T17:09:20.538Z"
   },
   {
    "duration": 0,
    "start_time": "2022-09-27T17:09:21.978Z"
   },
   {
    "duration": 0,
    "start_time": "2022-09-27T17:09:21.979Z"
   },
   {
    "duration": 0,
    "start_time": "2022-09-27T17:09:21.980Z"
   },
   {
    "duration": 0,
    "start_time": "2022-09-27T17:09:21.981Z"
   },
   {
    "duration": 0,
    "start_time": "2022-09-27T17:09:21.982Z"
   },
   {
    "duration": 0,
    "start_time": "2022-09-27T17:09:21.983Z"
   },
   {
    "duration": 548,
    "start_time": "2022-09-27T17:09:46.595Z"
   },
   {
    "duration": 10,
    "start_time": "2022-09-27T17:09:48.122Z"
   },
   {
    "duration": 667,
    "start_time": "2022-09-27T17:09:57.323Z"
   },
   {
    "duration": 13,
    "start_time": "2022-09-27T17:09:57.992Z"
   },
   {
    "duration": 558,
    "start_time": "2022-09-27T17:10:08.217Z"
   },
   {
    "duration": 12,
    "start_time": "2022-09-27T17:10:08.917Z"
   },
   {
    "duration": 1410,
    "start_time": "2022-09-27T17:10:14.597Z"
   },
   {
    "duration": 648,
    "start_time": "2022-09-27T17:10:36.926Z"
   },
   {
    "duration": 14,
    "start_time": "2022-09-27T17:10:37.585Z"
   },
   {
    "duration": 519,
    "start_time": "2022-09-27T17:10:49.801Z"
   },
   {
    "duration": 10,
    "start_time": "2022-09-27T17:10:51.357Z"
   },
   {
    "duration": 475,
    "start_time": "2022-09-27T17:19:24.612Z"
   },
   {
    "duration": 688,
    "start_time": "2022-09-27T17:19:42.709Z"
   },
   {
    "duration": 9,
    "start_time": "2022-09-27T17:19:43.399Z"
   },
   {
    "duration": 599,
    "start_time": "2022-09-27T17:19:51.431Z"
   },
   {
    "duration": 11,
    "start_time": "2022-09-27T17:19:52.065Z"
   },
   {
    "duration": 1061,
    "start_time": "2022-09-27T19:01:04.266Z"
   },
   {
    "duration": 5,
    "start_time": "2022-09-27T19:01:05.329Z"
   },
   {
    "duration": 11956,
    "start_time": "2022-09-27T19:01:05.336Z"
   },
   {
    "duration": 213,
    "start_time": "2022-09-27T19:01:17.294Z"
   },
   {
    "duration": 12,
    "start_time": "2022-09-27T19:01:17.509Z"
   },
   {
    "duration": 299,
    "start_time": "2022-09-27T19:01:17.523Z"
   },
   {
    "duration": 7,
    "start_time": "2022-09-27T19:01:17.824Z"
   },
   {
    "duration": 353,
    "start_time": "2022-09-27T19:01:17.833Z"
   },
   {
    "duration": 10,
    "start_time": "2022-09-27T19:01:18.188Z"
   },
   {
    "duration": 2809,
    "start_time": "2022-09-27T19:01:18.200Z"
   },
   {
    "duration": 5,
    "start_time": "2022-09-27T19:01:21.011Z"
   },
   {
    "duration": 1313,
    "start_time": "2022-09-27T19:01:21.018Z"
   },
   {
    "duration": 15,
    "start_time": "2022-09-27T19:01:22.333Z"
   },
   {
    "duration": 119,
    "start_time": "2022-09-27T19:01:22.350Z"
   },
   {
    "duration": 6,
    "start_time": "2022-09-27T19:01:22.471Z"
   },
   {
    "duration": 70,
    "start_time": "2022-09-27T19:01:22.479Z"
   },
   {
    "duration": 6,
    "start_time": "2022-09-27T19:01:22.551Z"
   },
   {
    "duration": 1262,
    "start_time": "2022-09-27T19:01:22.559Z"
   },
   {
    "duration": 17,
    "start_time": "2022-09-27T19:01:23.823Z"
   },
   {
    "duration": 300,
    "start_time": "2022-09-27T19:01:23.842Z"
   },
   {
    "duration": 12,
    "start_time": "2022-09-27T19:01:24.143Z"
   },
   {
    "duration": 19,
    "start_time": "2022-09-27T19:01:24.157Z"
   },
   {
    "duration": 9,
    "start_time": "2022-09-27T19:01:24.178Z"
   },
   {
    "duration": 123,
    "start_time": "2022-09-27T19:01:24.189Z"
   },
   {
    "duration": 8,
    "start_time": "2022-09-27T19:01:24.314Z"
   },
   {
    "duration": 102,
    "start_time": "2022-09-27T19:01:24.324Z"
   },
   {
    "duration": 167,
    "start_time": "2022-09-27T19:01:24.427Z"
   },
   {
    "duration": 8,
    "start_time": "2022-09-27T19:01:24.596Z"
   },
   {
    "duration": 698,
    "start_time": "2022-09-27T19:15:46.355Z"
   },
   {
    "duration": 3,
    "start_time": "2022-09-27T19:15:47.054Z"
   },
   {
    "duration": 6801,
    "start_time": "2022-09-27T19:15:47.059Z"
   },
   {
    "duration": 201,
    "start_time": "2022-09-27T19:15:53.862Z"
   },
   {
    "duration": 14,
    "start_time": "2022-09-27T19:15:54.064Z"
   },
   {
    "duration": 238,
    "start_time": "2022-09-27T19:15:54.079Z"
   },
   {
    "duration": 6,
    "start_time": "2022-09-27T19:15:54.319Z"
   },
   {
    "duration": 286,
    "start_time": "2022-09-27T19:15:54.326Z"
   },
   {
    "duration": 8,
    "start_time": "2022-09-27T19:15:54.614Z"
   },
   {
    "duration": 1348,
    "start_time": "2022-09-27T19:15:54.624Z"
   },
   {
    "duration": 6,
    "start_time": "2022-09-27T19:15:55.974Z"
   },
   {
    "duration": 1220,
    "start_time": "2022-09-27T19:15:55.981Z"
   },
   {
    "duration": 10,
    "start_time": "2022-09-27T19:15:57.203Z"
   },
   {
    "duration": 90,
    "start_time": "2022-09-27T19:15:57.214Z"
   },
   {
    "duration": 7,
    "start_time": "2022-09-27T19:15:57.305Z"
   },
   {
    "duration": 59,
    "start_time": "2022-09-27T19:15:57.314Z"
   },
   {
    "duration": 7,
    "start_time": "2022-09-27T19:15:57.375Z"
   },
   {
    "duration": 1172,
    "start_time": "2022-09-27T19:15:57.384Z"
   },
   {
    "duration": 10,
    "start_time": "2022-09-27T19:15:58.558Z"
   },
   {
    "duration": 274,
    "start_time": "2022-09-27T19:15:58.570Z"
   },
   {
    "duration": 11,
    "start_time": "2022-09-27T19:15:58.845Z"
   },
   {
    "duration": 10,
    "start_time": "2022-09-27T19:15:58.858Z"
   },
   {
    "duration": 76,
    "start_time": "2022-09-27T19:15:58.869Z"
   },
   {
    "duration": 0,
    "start_time": "2022-09-27T19:15:58.946Z"
   },
   {
    "duration": 0,
    "start_time": "2022-09-27T19:15:58.947Z"
   },
   {
    "duration": 0,
    "start_time": "2022-09-27T19:15:58.948Z"
   },
   {
    "duration": 0,
    "start_time": "2022-09-27T19:15:58.949Z"
   },
   {
    "duration": 0,
    "start_time": "2022-09-27T19:15:58.950Z"
   },
   {
    "duration": 0,
    "start_time": "2022-09-27T19:15:58.951Z"
   },
   {
    "duration": 1209,
    "start_time": "2022-09-27T19:18:54.522Z"
   },
   {
    "duration": 3,
    "start_time": "2022-09-27T19:18:55.733Z"
   },
   {
    "duration": 6904,
    "start_time": "2022-09-27T19:18:55.738Z"
   },
   {
    "duration": 207,
    "start_time": "2022-09-27T19:19:02.644Z"
   },
   {
    "duration": 15,
    "start_time": "2022-09-27T19:19:02.852Z"
   },
   {
    "duration": 276,
    "start_time": "2022-09-27T19:19:02.868Z"
   },
   {
    "duration": 7,
    "start_time": "2022-09-27T19:19:03.145Z"
   },
   {
    "duration": 336,
    "start_time": "2022-09-27T19:19:03.153Z"
   },
   {
    "duration": 9,
    "start_time": "2022-09-27T19:19:03.491Z"
   },
   {
    "duration": 1498,
    "start_time": "2022-09-27T19:19:03.502Z"
   },
   {
    "duration": 7,
    "start_time": "2022-09-27T19:19:05.002Z"
   },
   {
    "duration": 1146,
    "start_time": "2022-09-27T19:19:05.011Z"
   },
   {
    "duration": 18,
    "start_time": "2022-09-27T19:19:06.159Z"
   },
   {
    "duration": 87,
    "start_time": "2022-09-27T19:19:06.178Z"
   },
   {
    "duration": 8,
    "start_time": "2022-09-27T19:19:06.267Z"
   },
   {
    "duration": 69,
    "start_time": "2022-09-27T19:19:06.277Z"
   },
   {
    "duration": 8,
    "start_time": "2022-09-27T19:19:06.348Z"
   },
   {
    "duration": 1131,
    "start_time": "2022-09-27T19:19:06.358Z"
   },
   {
    "duration": 10,
    "start_time": "2022-09-27T19:19:07.491Z"
   },
   {
    "duration": 275,
    "start_time": "2022-09-27T19:19:07.502Z"
   },
   {
    "duration": 10,
    "start_time": "2022-09-27T19:19:07.778Z"
   },
   {
    "duration": 11,
    "start_time": "2022-09-27T19:19:07.789Z"
   },
   {
    "duration": 469,
    "start_time": "2022-09-27T19:19:07.801Z"
   },
   {
    "duration": 2,
    "start_time": "2022-09-27T19:19:08.271Z"
   },
   {
    "duration": 133,
    "start_time": "2022-09-27T19:19:08.275Z"
   },
   {
    "duration": 7,
    "start_time": "2022-09-27T19:19:08.410Z"
   },
   {
    "duration": 84,
    "start_time": "2022-09-27T19:19:08.419Z"
   },
   {
    "duration": 146,
    "start_time": "2022-09-27T19:19:08.507Z"
   },
   {
    "duration": 8,
    "start_time": "2022-09-27T19:19:08.655Z"
   },
   {
    "duration": 251,
    "start_time": "2022-09-27T19:33:53.338Z"
   },
   {
    "duration": 12,
    "start_time": "2022-09-27T19:33:54.354Z"
   },
   {
    "duration": 7,
    "start_time": "2022-09-27T19:33:58.731Z"
   },
   {
    "duration": 431,
    "start_time": "2022-09-27T19:33:59.302Z"
   },
   {
    "duration": 997,
    "start_time": "2022-09-27T19:34:58.049Z"
   },
   {
    "duration": 14,
    "start_time": "2022-09-27T19:34:59.098Z"
   },
   {
    "duration": 111,
    "start_time": "2022-09-27T19:35:04.966Z"
   },
   {
    "duration": 1176,
    "start_time": "2022-09-27T19:59:23.340Z"
   },
   {
    "duration": 3,
    "start_time": "2022-09-27T19:59:24.518Z"
   },
   {
    "duration": 6521,
    "start_time": "2022-09-27T19:59:24.522Z"
   },
   {
    "duration": 202,
    "start_time": "2022-09-27T19:59:31.046Z"
   },
   {
    "duration": 14,
    "start_time": "2022-09-27T19:59:31.250Z"
   },
   {
    "duration": 269,
    "start_time": "2022-09-27T19:59:31.265Z"
   },
   {
    "duration": 7,
    "start_time": "2022-09-27T19:59:31.535Z"
   },
   {
    "duration": 316,
    "start_time": "2022-09-27T19:59:31.543Z"
   },
   {
    "duration": 9,
    "start_time": "2022-09-27T19:59:31.860Z"
   },
   {
    "duration": 4379,
    "start_time": "2022-09-27T19:59:31.871Z"
   },
   {
    "duration": 7,
    "start_time": "2022-09-27T19:59:36.253Z"
   },
   {
    "duration": 1146,
    "start_time": "2022-09-27T19:59:36.262Z"
   },
   {
    "duration": 11,
    "start_time": "2022-09-27T19:59:37.409Z"
   },
   {
    "duration": 96,
    "start_time": "2022-09-27T19:59:37.421Z"
   },
   {
    "duration": 6,
    "start_time": "2022-09-27T19:59:37.519Z"
   },
   {
    "duration": 67,
    "start_time": "2022-09-27T19:59:37.527Z"
   },
   {
    "duration": 6,
    "start_time": "2022-09-27T19:59:37.595Z"
   },
   {
    "duration": 1249,
    "start_time": "2022-09-27T19:59:37.602Z"
   },
   {
    "duration": 9,
    "start_time": "2022-09-27T19:59:38.853Z"
   },
   {
    "duration": 300,
    "start_time": "2022-09-27T19:59:38.863Z"
   },
   {
    "duration": 10,
    "start_time": "2022-09-27T19:59:39.165Z"
   },
   {
    "duration": 909,
    "start_time": "2022-09-27T19:59:39.176Z"
   },
   {
    "duration": 0,
    "start_time": "2022-09-27T19:59:40.086Z"
   },
   {
    "duration": 0,
    "start_time": "2022-09-27T19:59:40.087Z"
   },
   {
    "duration": 1,
    "start_time": "2022-09-27T19:59:40.087Z"
   },
   {
    "duration": 0,
    "start_time": "2022-09-27T19:59:40.089Z"
   },
   {
    "duration": 0,
    "start_time": "2022-09-27T19:59:40.089Z"
   },
   {
    "duration": 0,
    "start_time": "2022-09-27T19:59:40.090Z"
   },
   {
    "duration": 8,
    "start_time": "2022-09-27T20:00:01.156Z"
   },
   {
    "duration": 1237,
    "start_time": "2022-09-27T20:00:07.043Z"
   },
   {
    "duration": 4,
    "start_time": "2022-09-27T20:00:08.281Z"
   },
   {
    "duration": 6462,
    "start_time": "2022-09-27T20:00:08.286Z"
   },
   {
    "duration": 219,
    "start_time": "2022-09-27T20:00:14.750Z"
   },
   {
    "duration": 14,
    "start_time": "2022-09-27T20:00:14.971Z"
   },
   {
    "duration": 292,
    "start_time": "2022-09-27T20:00:14.986Z"
   },
   {
    "duration": 6,
    "start_time": "2022-09-27T20:00:15.279Z"
   },
   {
    "duration": 347,
    "start_time": "2022-09-27T20:00:15.286Z"
   },
   {
    "duration": 9,
    "start_time": "2022-09-27T20:00:15.634Z"
   },
   {
    "duration": 4105,
    "start_time": "2022-09-27T20:00:15.644Z"
   },
   {
    "duration": 7,
    "start_time": "2022-09-27T20:00:19.751Z"
   },
   {
    "duration": 1211,
    "start_time": "2022-09-27T20:00:19.760Z"
   },
   {
    "duration": 11,
    "start_time": "2022-09-27T20:00:20.972Z"
   },
   {
    "duration": 108,
    "start_time": "2022-09-27T20:00:20.986Z"
   },
   {
    "duration": 6,
    "start_time": "2022-09-27T20:00:21.096Z"
   },
   {
    "duration": 73,
    "start_time": "2022-09-27T20:00:21.104Z"
   },
   {
    "duration": 6,
    "start_time": "2022-09-27T20:00:21.179Z"
   },
   {
    "duration": 1234,
    "start_time": "2022-09-27T20:00:21.186Z"
   },
   {
    "duration": 15,
    "start_time": "2022-09-27T20:00:22.421Z"
   },
   {
    "duration": 340,
    "start_time": "2022-09-27T20:00:22.438Z"
   },
   {
    "duration": 10,
    "start_time": "2022-09-27T20:00:22.779Z"
   },
   {
    "duration": 12,
    "start_time": "2022-09-27T20:00:22.791Z"
   },
   {
    "duration": 434,
    "start_time": "2022-09-27T20:00:22.804Z"
   },
   {
    "duration": 110,
    "start_time": "2022-09-27T20:00:23.240Z"
   },
   {
    "duration": 7,
    "start_time": "2022-09-27T20:00:23.352Z"
   },
   {
    "duration": 82,
    "start_time": "2022-09-27T20:00:23.361Z"
   },
   {
    "duration": 172,
    "start_time": "2022-09-27T20:00:23.445Z"
   },
   {
    "duration": 8,
    "start_time": "2022-09-27T20:00:23.619Z"
   },
   {
    "duration": 1350,
    "start_time": "2022-09-27T20:32:54.292Z"
   },
   {
    "duration": 3,
    "start_time": "2022-09-27T20:32:55.644Z"
   },
   {
    "duration": 8867,
    "start_time": "2022-09-27T20:32:55.649Z"
   },
   {
    "duration": 54,
    "start_time": "2022-09-27T20:33:04.518Z"
   },
   {
    "duration": 14,
    "start_time": "2022-09-27T20:33:04.573Z"
   },
   {
    "duration": 251,
    "start_time": "2022-09-27T20:33:04.589Z"
   },
   {
    "duration": 6,
    "start_time": "2022-09-27T20:33:46.953Z"
   },
   {
    "duration": 266,
    "start_time": "2022-09-27T20:33:48.782Z"
   },
   {
    "duration": 9,
    "start_time": "2022-09-27T20:33:49.050Z"
   },
   {
    "duration": 1300,
    "start_time": "2022-09-27T20:33:50.495Z"
   },
   {
    "duration": 7,
    "start_time": "2022-09-27T20:33:51.797Z"
   },
   {
    "duration": 1178,
    "start_time": "2022-09-27T20:33:52.242Z"
   },
   {
    "duration": 21,
    "start_time": "2022-09-27T20:33:53.421Z"
   },
   {
    "duration": 57,
    "start_time": "2022-09-27T20:33:53.638Z"
   },
   {
    "duration": 6,
    "start_time": "2022-09-27T20:33:54.687Z"
   },
   {
    "duration": 26,
    "start_time": "2022-09-27T20:34:07.962Z"
   },
   {
    "duration": 6,
    "start_time": "2022-09-27T20:34:08.337Z"
   },
   {
    "duration": 35,
    "start_time": "2022-09-27T20:34:49.552Z"
   },
   {
    "duration": 6,
    "start_time": "2022-09-27T20:34:49.710Z"
   },
   {
    "duration": 1391,
    "start_time": "2022-09-28T17:52:45.241Z"
   },
   {
    "duration": 3,
    "start_time": "2022-09-28T17:52:46.634Z"
   },
   {
    "duration": 8510,
    "start_time": "2022-09-28T17:52:46.639Z"
   },
   {
    "duration": 59,
    "start_time": "2022-09-28T17:52:55.153Z"
   },
   {
    "duration": 23,
    "start_time": "2022-09-28T17:52:55.214Z"
   },
   {
    "duration": 213,
    "start_time": "2022-09-28T17:52:55.239Z"
   },
   {
    "duration": 8,
    "start_time": "2022-09-28T17:52:55.454Z"
   },
   {
    "duration": 267,
    "start_time": "2022-09-28T17:52:55.464Z"
   },
   {
    "duration": 12,
    "start_time": "2022-09-28T17:52:55.733Z"
   },
   {
    "duration": 1330,
    "start_time": "2022-09-28T17:52:55.748Z"
   },
   {
    "duration": 6,
    "start_time": "2022-09-28T17:52:57.080Z"
   },
   {
    "duration": 1095,
    "start_time": "2022-09-28T17:52:57.088Z"
   },
   {
    "duration": 11,
    "start_time": "2022-09-28T17:52:58.185Z"
   },
   {
    "duration": 60,
    "start_time": "2022-09-28T17:52:58.198Z"
   },
   {
    "duration": 8,
    "start_time": "2022-09-28T17:52:58.260Z"
   },
   {
    "duration": 33,
    "start_time": "2022-09-28T17:52:58.270Z"
   },
   {
    "duration": 6,
    "start_time": "2022-09-28T17:52:58.305Z"
   },
   {
    "duration": 1161,
    "start_time": "2022-09-28T17:52:58.313Z"
   },
   {
    "duration": 10,
    "start_time": "2022-09-28T17:52:59.476Z"
   },
   {
    "duration": 326,
    "start_time": "2022-09-28T17:52:59.487Z"
   },
   {
    "duration": 10,
    "start_time": "2022-09-28T17:52:59.814Z"
   },
   {
    "duration": 9,
    "start_time": "2022-09-28T17:52:59.825Z"
   },
   {
    "duration": 438,
    "start_time": "2022-09-28T17:52:59.835Z"
   },
   {
    "duration": 100,
    "start_time": "2022-09-28T17:53:00.274Z"
   },
   {
    "duration": 7,
    "start_time": "2022-09-28T17:53:00.376Z"
   },
   {
    "duration": 107,
    "start_time": "2022-09-28T17:53:00.385Z"
   },
   {
    "duration": 140,
    "start_time": "2022-09-28T17:53:00.494Z"
   },
   {
    "duration": 8,
    "start_time": "2022-09-28T17:53:00.637Z"
   },
   {
    "duration": 1355,
    "start_time": "2022-09-28T17:53:37.983Z"
   },
   {
    "duration": 3,
    "start_time": "2022-09-28T17:53:39.340Z"
   },
   {
    "duration": 8067,
    "start_time": "2022-09-28T17:53:39.345Z"
   },
   {
    "duration": 52,
    "start_time": "2022-09-28T17:53:47.414Z"
   },
   {
    "duration": 15,
    "start_time": "2022-09-28T17:53:47.468Z"
   },
   {
    "duration": 1571,
    "start_time": "2022-09-28T17:53:47.485Z"
   },
   {
    "duration": 7,
    "start_time": "2022-09-28T17:53:49.057Z"
   },
   {
    "duration": 265,
    "start_time": "2022-09-28T17:53:49.065Z"
   },
   {
    "duration": 10,
    "start_time": "2022-09-28T17:53:49.331Z"
   },
   {
    "duration": 6506,
    "start_time": "2022-09-28T17:53:49.344Z"
   },
   {
    "duration": 8,
    "start_time": "2022-09-28T17:53:55.853Z"
   },
   {
    "duration": 1613,
    "start_time": "2022-09-28T17:53:55.863Z"
   },
   {
    "duration": 11,
    "start_time": "2022-09-28T17:53:57.477Z"
   },
   {
    "duration": 79,
    "start_time": "2022-09-28T17:53:57.489Z"
   },
   {
    "duration": 7,
    "start_time": "2022-09-28T17:53:57.570Z"
   },
   {
    "duration": 32,
    "start_time": "2022-09-28T17:53:57.579Z"
   },
   {
    "duration": 6,
    "start_time": "2022-09-28T17:53:57.613Z"
   },
   {
    "duration": 1812,
    "start_time": "2022-09-28T17:53:57.621Z"
   },
   {
    "duration": 10,
    "start_time": "2022-09-28T17:53:59.435Z"
   },
   {
    "duration": 4129,
    "start_time": "2022-09-28T17:53:59.447Z"
   },
   {
    "duration": 11,
    "start_time": "2022-09-28T17:54:03.578Z"
   },
   {
    "duration": 14,
    "start_time": "2022-09-28T17:54:03.591Z"
   },
   {
    "duration": 410,
    "start_time": "2022-09-28T17:54:03.607Z"
   },
   {
    "duration": 1835,
    "start_time": "2022-09-28T17:54:04.022Z"
   },
   {
    "duration": 7,
    "start_time": "2022-09-28T17:54:05.859Z"
   },
   {
    "duration": 85,
    "start_time": "2022-09-28T17:54:05.868Z"
   },
   {
    "duration": 139,
    "start_time": "2022-09-28T17:54:05.955Z"
   },
   {
    "duration": 9,
    "start_time": "2022-09-28T17:54:06.098Z"
   }
  ],
  "colab": {
   "name": "AdvansedSQLProjectTemplate.ipynb",
   "provenance": []
  },
  "kernelspec": {
   "display_name": "Python 3 (ipykernel)",
   "language": "python",
   "name": "python3"
  },
  "language_info": {
   "codemirror_mode": {
    "name": "ipython",
    "version": 3
   },
   "file_extension": ".py",
   "mimetype": "text/x-python",
   "name": "python",
   "nbconvert_exporter": "python",
   "pygments_lexer": "ipython3",
   "version": "3.9.5"
  },
  "toc": {
   "base_numbering": 1,
   "nav_menu": {},
   "number_sections": true,
   "sideBar": true,
   "skip_h1_title": true,
   "title_cell": "Table of Contents",
   "title_sidebar": "Contents",
   "toc_cell": false,
   "toc_position": {},
   "toc_section_display": true,
   "toc_window_display": false
  }
 },
 "nbformat": 4,
 "nbformat_minor": 1
}
