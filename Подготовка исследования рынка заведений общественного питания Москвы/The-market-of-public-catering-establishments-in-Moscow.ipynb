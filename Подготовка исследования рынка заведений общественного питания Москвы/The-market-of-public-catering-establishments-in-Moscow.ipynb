{
 "cells": [
  {
   "cell_type": "markdown",
   "metadata": {},
   "source": [
    "1. [Подготовка данных к анализу](#start)\n",
    "    * [Просмотр данных ](#Viewing_data)\n",
    "    *[Проверка на дубликаты](#duplicates) \n",
    "2. [Анализ данных](#analysis)\n",
    "    * [Исследование соотношения видов объектов общественного питания по количеству](#a)\n",
    "    * [Исследование соотношения сетевых и несетевых заведений по количеству](#b)\n",
    "    * [Для какого вида объекта общественного питания характерно сетевое распространение](#c)\n",
    "    * [Что характерно для сетевых заведений: много заведений с небольшим числом посадочных мест в каждом или мало заведений с большим количеством посадочных мест](#d)\n",
    "    * [Для каждого вида объекта общественного питания описать среднее количество посадочных мест. Какой вид предоставляет в среднем самое большое количество посадочных мест](#e)\n",
    "    * [Выделить в отдельный столбец информацию об улице](#f)\n",
    "    * [Построить график топ-10 улиц по количеству объектов общественного питания. Определить в каких районах Москвы находятся эти улицы](#g)\n",
    "    * [Найти число улиц с одним объектом общественного питания. Определить в каких районах Москвы находятся эти улицы](#h)\n",
    "3. [Общий вывод](#end)   "
   ]
  },
  {
   "cell_type": "markdown",
   "metadata": {},
   "source": [
    "###  Подготовка данных к анализу\n",
    "<a id=\"start\"></a> "
   ]
  },
  {
   "cell_type": "markdown",
   "metadata": {},
   "source": [
    "#### Просмотр данных\n",
    "<a id='Viewing_data'></a> "
   ]
  },
  {
   "cell_type": "code",
   "execution_count": 1,
   "metadata": {},
   "outputs": [],
   "source": [
    "import pandas as pd #импортирование библиотеки pandas"
   ]
  },
  {
   "cell_type": "code",
   "execution_count": 2,
   "metadata": {},
   "outputs": [],
   "source": [
    "import matplotlib.pyplot as plt #импортирование библиотеки seaborn"
   ]
  },
  {
   "cell_type": "code",
   "execution_count": 3,
   "metadata": {},
   "outputs": [],
   "source": [
    "import seaborn as sns #импортирование библиотеки seaborn"
   ]
  },
  {
   "cell_type": "code",
   "execution_count": 4,
   "metadata": {},
   "outputs": [],
   "source": [
    "import os #импортирование модуля os"
   ]
  },
  {
   "cell_type": "code",
   "execution_count": 6,
   "metadata": {},
   "outputs": [
    {
     "name": "stdout",
     "output_type": "stream",
     "text": [
      "<class 'pandas.core.frame.DataFrame'>\n",
      "RangeIndex: 15366 entries, 0 to 15365\n",
      "Data columns (total 6 columns):\n",
      " #   Column       Non-Null Count  Dtype \n",
      "---  ------       --------------  ----- \n",
      " 0   id           15366 non-null  int64 \n",
      " 1   object_name  15366 non-null  object\n",
      " 2   chain        15366 non-null  object\n",
      " 3   object_type  15366 non-null  object\n",
      " 4   address      15366 non-null  object\n",
      " 5   number       15366 non-null  int64 \n",
      "dtypes: int64(2), object(4)\n",
      "memory usage: 720.4+ KB\n"
     ]
    }
   ],
   "source": [
    "data.info() #просмотр информации"
   ]
  },
  {
   "cell_type": "markdown",
   "metadata": {},
   "source": [
    "`id` — идентификатор объекта;\n",
    "\n",
    "`object_name` — название объекта общественного питания;\n",
    "\n",
    "`chain` — сетевой ресторан;\n",
    "\n",
    "`object_type` — тип объекта общественного питания;\n",
    "\n",
    "`address` — адрес;\n",
    "\n",
    "`number` — количество посадочных мест."
   ]
  },
  {
   "cell_type": "code",
   "execution_count": 7,
   "metadata": {},
   "outputs": [
    {
     "data": {
      "text/html": [
       "<div>\n",
       "<style scoped>\n",
       "    .dataframe tbody tr th:only-of-type {\n",
       "        vertical-align: middle;\n",
       "    }\n",
       "\n",
       "    .dataframe tbody tr th {\n",
       "        vertical-align: top;\n",
       "    }\n",
       "\n",
       "    .dataframe thead th {\n",
       "        text-align: right;\n",
       "    }\n",
       "</style>\n",
       "<table border=\"1\" class=\"dataframe\">\n",
       "  <thead>\n",
       "    <tr style=\"text-align: right;\">\n",
       "      <th></th>\n",
       "      <th>id</th>\n",
       "      <th>object_name</th>\n",
       "      <th>chain</th>\n",
       "      <th>object_type</th>\n",
       "      <th>address</th>\n",
       "      <th>number</th>\n",
       "    </tr>\n",
       "  </thead>\n",
       "  <tbody>\n",
       "    <tr>\n",
       "      <th>0</th>\n",
       "      <td>151635</td>\n",
       "      <td>СМЕТАНА</td>\n",
       "      <td>нет</td>\n",
       "      <td>кафе</td>\n",
       "      <td>город Москва, улица Егора Абакумова, дом 9</td>\n",
       "      <td>48</td>\n",
       "    </tr>\n",
       "    <tr>\n",
       "      <th>1</th>\n",
       "      <td>77874</td>\n",
       "      <td>Родник</td>\n",
       "      <td>нет</td>\n",
       "      <td>кафе</td>\n",
       "      <td>город Москва, улица Талалихина, дом 2/1, корпус 1</td>\n",
       "      <td>35</td>\n",
       "    </tr>\n",
       "    <tr>\n",
       "      <th>2</th>\n",
       "      <td>24309</td>\n",
       "      <td>Кафе «Академия»</td>\n",
       "      <td>нет</td>\n",
       "      <td>кафе</td>\n",
       "      <td>город Москва, Абельмановская улица, дом 6</td>\n",
       "      <td>95</td>\n",
       "    </tr>\n",
       "    <tr>\n",
       "      <th>3</th>\n",
       "      <td>21894</td>\n",
       "      <td>ПИЦЦЕТОРИЯ</td>\n",
       "      <td>да</td>\n",
       "      <td>кафе</td>\n",
       "      <td>город Москва, Абрамцевская улица, дом 1</td>\n",
       "      <td>40</td>\n",
       "    </tr>\n",
       "    <tr>\n",
       "      <th>4</th>\n",
       "      <td>119365</td>\n",
       "      <td>Кафе «Вишневая метель»</td>\n",
       "      <td>нет</td>\n",
       "      <td>кафе</td>\n",
       "      <td>город Москва, Абрамцевская улица, дом 9, корпус 1</td>\n",
       "      <td>50</td>\n",
       "    </tr>\n",
       "  </tbody>\n",
       "</table>\n",
       "</div>"
      ],
      "text/plain": [
       "       id             object_name chain object_type  \\\n",
       "0  151635                 СМЕТАНА   нет        кафе   \n",
       "1   77874                  Родник   нет        кафе   \n",
       "2   24309         Кафе «Академия»   нет        кафе   \n",
       "3   21894              ПИЦЦЕТОРИЯ    да        кафе   \n",
       "4  119365  Кафе «Вишневая метель»   нет        кафе   \n",
       "\n",
       "                                             address  number  \n",
       "0         город Москва, улица Егора Абакумова, дом 9      48  \n",
       "1  город Москва, улица Талалихина, дом 2/1, корпус 1      35  \n",
       "2          город Москва, Абельмановская улица, дом 6      95  \n",
       "3            город Москва, Абрамцевская улица, дом 1      40  \n",
       "4  город Москва, Абрамцевская улица, дом 9, корпус 1      50  "
      ]
     },
     "execution_count": 7,
     "metadata": {},
     "output_type": "execute_result"
    }
   ],
   "source": [
    "data.head() #просмотр таблицы"
   ]
  },
  {
   "cell_type": "markdown",
   "metadata": {},
   "source": [
    "**Вывод:**"
   ]
  },
  {
   "cell_type": "markdown",
   "metadata": {},
   "source": [
    "В данных не было обнаружено пропусков. Типы данных соответствуют информации содержащийся в столбцах."
   ]
  },
  {
   "cell_type": "markdown",
   "metadata": {},
   "source": [
    "#### Проверка на дубликаты\n",
    "<a id=\"duplicates\"></a> "
   ]
  },
  {
   "cell_type": "code",
   "execution_count": 8,
   "metadata": {},
   "outputs": [
    {
     "data": {
      "text/plain": [
       "0"
      ]
     },
     "execution_count": 8,
     "metadata": {},
     "output_type": "execute_result"
    }
   ],
   "source": [
    "data.duplicated().sum() #поиск явных дубликатов"
   ]
  },
  {
   "cell_type": "code",
   "execution_count": 9,
   "metadata": {},
   "outputs": [
    {
     "data": {
      "text/plain": [
       "0"
      ]
     },
     "execution_count": 9,
     "metadata": {},
     "output_type": "execute_result"
    }
   ],
   "source": [
    "data.duplicated(subset=['id']).sum() #проверка на дубликаты идентификатор объекта"
   ]
  },
  {
   "cell_type": "code",
   "execution_count": 10,
   "metadata": {},
   "outputs": [],
   "source": [
    "data['object_name'] = data['object_name'].str.lower() #приведение к одному регистру"
   ]
  },
  {
   "cell_type": "code",
   "execution_count": 11,
   "metadata": {},
   "outputs": [
    {
     "data": {
      "text/plain": [
       "array(['1-й мок', '1-ый московский кадетский корпус',\n",
       "       '100 личная столовая', ..., 'яуза', 'ёбидоёби', 'ёрш'],\n",
       "      dtype=object)"
      ]
     },
     "execution_count": 11,
     "metadata": {},
     "output_type": "execute_result"
    }
   ],
   "source": [
    "data['object_name'].sort_values().unique() #просмотр уникальных значений"
   ]
  },
  {
   "cell_type": "code",
   "execution_count": 12,
   "metadata": {},
   "outputs": [
    {
     "data": {
      "text/plain": [
       "нет    12398\n",
       "да      2968\n",
       "Name: chain, dtype: int64"
      ]
     },
     "execution_count": 12,
     "metadata": {},
     "output_type": "execute_result"
    }
   ],
   "source": [
    "data['chain'].value_counts() #просмотр уникальных значений"
   ]
  },
  {
   "cell_type": "code",
   "execution_count": 13,
   "metadata": {},
   "outputs": [
    {
     "data": {
      "text/plain": [
       "кафе                                 6099\n",
       "столовая                             2587\n",
       "ресторан                             2285\n",
       "предприятие быстрого обслуживания    1923\n",
       "бар                                   856\n",
       "буфет                                 585\n",
       "кафетерий                             398\n",
       "закусочная                            360\n",
       "магазин (отдел кулинарии)             273\n",
       "Name: object_type, dtype: int64"
      ]
     },
     "execution_count": 13,
     "metadata": {},
     "output_type": "execute_result"
    }
   ],
   "source": [
    "data['object_type'].value_counts() #просмотр уникальных значений"
   ]
  },
  {
   "cell_type": "code",
   "execution_count": 14,
   "metadata": {
    "scrolled": true
   },
   "outputs": [
    {
     "data": {
      "text/plain": [
       "город Москва, Ходынский бульвар, дом 4                  95\n",
       "город Москва, Пресненская набережная, дом 2             63\n",
       "город Москва, проспект Мира, дом 211, корпус 2          60\n",
       "город Москва, Кировоградская улица, дом 13А             53\n",
       "город Москва, площадь Киевского Вокзала, дом 2          48\n",
       "                                                        ..\n",
       "город Москва, Бибиревская улица, дом 8, корпус 1         1\n",
       "город Москва, улица Перерва, дом 19, строение 1          1\n",
       "город Москва, Студёный проезд, дом 7Г                    1\n",
       "город Москва, улица Соловьиная Роща, дом 16              1\n",
       "город Москва, Фестивальная улица, дом 4А, строение 1     1\n",
       "Name: address, Length: 9108, dtype: int64"
      ]
     },
     "execution_count": 14,
     "metadata": {},
     "output_type": "execute_result"
    }
   ],
   "source": [
    "data['address'].value_counts() #просмотр уникальных значений"
   ]
  },
  {
   "cell_type": "code",
   "execution_count": 15,
   "metadata": {},
   "outputs": [
    {
     "data": {
      "text/plain": [
       "0"
      ]
     },
     "execution_count": 15,
     "metadata": {},
     "output_type": "execute_result"
    }
   ],
   "source": [
    "data.duplicated(subset=['id']).sum()"
   ]
  },
  {
   "cell_type": "code",
   "execution_count": 16,
   "metadata": {},
   "outputs": [
    {
     "data": {
      "text/plain": [
       "85"
      ]
     },
     "execution_count": 16,
     "metadata": {},
     "output_type": "execute_result"
    }
   ],
   "source": [
    "data.duplicated(subset=['object_name','chain','object_type','address','number']).sum()"
   ]
  },
  {
   "cell_type": "markdown",
   "metadata": {},
   "source": [
    "**Вывод:**"
   ]
  },
  {
   "cell_type": "markdown",
   "metadata": {},
   "source": [
    "При проверке датасета явные и не были обнаружены. Из всех столбцов не должно быть дубликатов в столбце идентификатор объекта, в других столбцах выявлено 85 неявных дубликатов. Но у них индивидуальный идентификационный номер, без дополнительной информации невозможно понять почему так произошло. "
   ]
  },
  {
   "cell_type": "markdown",
   "metadata": {},
   "source": [
    "### Анализ данных\n",
    "<a id='analysis'></a>  "
   ]
  },
  {
   "cell_type": "markdown",
   "metadata": {},
   "source": [
    "#### Исследование соотношения видов объектов общественного питания по количеству\n",
    "<a id=\"a\"></a>  "
   ]
  },
  {
   "cell_type": "code",
   "execution_count": 17,
   "metadata": {},
   "outputs": [
    {
     "data": {
      "text/plain": [
       "кафе                                 6099\n",
       "столовая                             2587\n",
       "ресторан                             2285\n",
       "предприятие быстрого обслуживания    1923\n",
       "бар                                   856\n",
       "буфет                                 585\n",
       "кафетерий                             398\n",
       "закусочная                            360\n",
       "магазин (отдел кулинарии)             273\n",
       "Name: object_type, dtype: int64"
      ]
     },
     "execution_count": 17,
     "metadata": {},
     "output_type": "execute_result"
    }
   ],
   "source": [
    "data['object_type'].value_counts() #просмотр уникальных значений"
   ]
  },
  {
   "cell_type": "code",
   "execution_count": 18,
   "metadata": {},
   "outputs": [],
   "source": [
    "object_pivot= data.pivot_table(index='object_type', values='id',aggfunc='count').sort_values(by='id', ascending=False) \n",
    "#построение сводной таблицы"
   ]
  },
  {
   "cell_type": "code",
   "execution_count": 19,
   "metadata": {},
   "outputs": [],
   "source": [
    "object_pivot = object_pivot.reset_index(level=['object_type']) #изменение столбца индекса"
   ]
  },
  {
   "cell_type": "code",
   "execution_count": 20,
   "metadata": {
    "scrolled": true
   },
   "outputs": [
    {
     "data": {
      "text/html": [
       "<div>\n",
       "<style scoped>\n",
       "    .dataframe tbody tr th:only-of-type {\n",
       "        vertical-align: middle;\n",
       "    }\n",
       "\n",
       "    .dataframe tbody tr th {\n",
       "        vertical-align: top;\n",
       "    }\n",
       "\n",
       "    .dataframe thead th {\n",
       "        text-align: right;\n",
       "    }\n",
       "</style>\n",
       "<table border=\"1\" class=\"dataframe\">\n",
       "  <thead>\n",
       "    <tr style=\"text-align: right;\">\n",
       "      <th></th>\n",
       "      <th>object_type</th>\n",
       "      <th>id</th>\n",
       "    </tr>\n",
       "  </thead>\n",
       "  <tbody>\n",
       "    <tr>\n",
       "      <th>0</th>\n",
       "      <td>кафе</td>\n",
       "      <td>6099</td>\n",
       "    </tr>\n",
       "    <tr>\n",
       "      <th>1</th>\n",
       "      <td>столовая</td>\n",
       "      <td>2587</td>\n",
       "    </tr>\n",
       "    <tr>\n",
       "      <th>2</th>\n",
       "      <td>ресторан</td>\n",
       "      <td>2285</td>\n",
       "    </tr>\n",
       "    <tr>\n",
       "      <th>3</th>\n",
       "      <td>предприятие быстрого обслуживания</td>\n",
       "      <td>1923</td>\n",
       "    </tr>\n",
       "    <tr>\n",
       "      <th>4</th>\n",
       "      <td>бар</td>\n",
       "      <td>856</td>\n",
       "    </tr>\n",
       "    <tr>\n",
       "      <th>5</th>\n",
       "      <td>буфет</td>\n",
       "      <td>585</td>\n",
       "    </tr>\n",
       "    <tr>\n",
       "      <th>6</th>\n",
       "      <td>кафетерий</td>\n",
       "      <td>398</td>\n",
       "    </tr>\n",
       "    <tr>\n",
       "      <th>7</th>\n",
       "      <td>закусочная</td>\n",
       "      <td>360</td>\n",
       "    </tr>\n",
       "    <tr>\n",
       "      <th>8</th>\n",
       "      <td>магазин (отдел кулинарии)</td>\n",
       "      <td>273</td>\n",
       "    </tr>\n",
       "  </tbody>\n",
       "</table>\n",
       "</div>"
      ],
      "text/plain": [
       "                         object_type    id\n",
       "0                               кафе  6099\n",
       "1                           столовая  2587\n",
       "2                           ресторан  2285\n",
       "3  предприятие быстрого обслуживания  1923\n",
       "4                                бар   856\n",
       "5                              буфет   585\n",
       "6                          кафетерий   398\n",
       "7                         закусочная   360\n",
       "8          магазин (отдел кулинарии)   273"
      ]
     },
     "execution_count": 20,
     "metadata": {},
     "output_type": "execute_result"
    }
   ],
   "source": [
    "object_pivot #просмотр получившшейся таблицы"
   ]
  },
  {
   "cell_type": "code",
   "execution_count": 21,
   "metadata": {},
   "outputs": [
    {
     "data": {
      "image/png": "[encoded data removed]",
      "text/plain": [
       "<Figure size 720x504 with 1 Axes>"
      ]
     },
     "metadata": {
      "needs_background": "light"
     },
     "output_type": "display_data"
    }
   ],
   "source": [
    "object_pivot.plot.barh(x='object_type', y='id', color = ['r','pink','y','olive','g','b','c','gray','black'],figsize=(10, 7)) \n",
    "plt.title('Cоотношения видов объектов общественного питания по количеству', fontsize=15)\n",
    "plt.ylabel(\"Вид объектов\")\n",
    "plt.xlabel(\"Количество\")\n",
    "plt.show()\n",
    "#построение столбчатой диаграммы"
   ]
  },
  {
   "cell_type": "markdown",
   "metadata": {},
   "source": [
    "**Вывод:**"
   ]
  },
  {
   "cell_type": "markdown",
   "metadata": {},
   "source": [
    "Больше всего объектов типов \"кафе\", меньше всего \"магазин (отдел кулинарии)\""
   ]
  },
  {
   "cell_type": "markdown",
   "metadata": {},
   "source": [
    "#### Исследование соотношения сетевых и несетевых заведений по количеству\n",
    "<a id=\"b\"></a>  "
   ]
  },
  {
   "cell_type": "code",
   "execution_count": 22,
   "metadata": {},
   "outputs": [
    {
     "data": {
      "text/plain": [
       "нет    12398\n",
       "да      2968\n",
       "Name: chain, dtype: int64"
      ]
     },
     "execution_count": 22,
     "metadata": {},
     "output_type": "execute_result"
    }
   ],
   "source": [
    "data['chain'].value_counts() #просмотр уникальных значений"
   ]
  },
  {
   "cell_type": "code",
   "execution_count": 23,
   "metadata": {},
   "outputs": [
    {
     "data": {
      "image/png": "[encoded data removed]",
      "text/plain": [
       "<Figure size 720x504 with 1 Axes>"
      ]
     },
     "metadata": {},
     "output_type": "display_data"
    }
   ],
   "source": [
    "chain_pivot = data.pivot_table(index='chain', values='id',aggfunc='count').plot(kind='pie', y='id',autopct='%1.0f%%',figsize=(10, 7))\n",
    "plt.title('Cоотношения сетевых и несетевых заведений по количеству', fontsize=15)\n",
    "plt.ylabel(\"Соотношение\")\n",
    "plt.show()\n",
    " #построение сводной таблицы и круговой диаграммы"
   ]
  },
  {
   "cell_type": "markdown",
   "metadata": {},
   "source": [
    "**Вывод:**"
   ]
  },
  {
   "cell_type": "markdown",
   "metadata": {},
   "source": [
    "Больше всего не сетевых мест(81%)."
   ]
  },
  {
   "cell_type": "markdown",
   "metadata": {},
   "source": [
    "#### Для какого вида объекта общественного питания характерно сетевое распространение\n",
    "<a id=\"c\"></a>  "
   ]
  },
  {
   "cell_type": "code",
   "execution_count": 24,
   "metadata": {},
   "outputs": [],
   "source": [
    "network_location_1 = data.pivot_table(index='object_type', values='id',aggfunc='count').sort_values(by='id', ascending=False)\n",
    "#построение сводной таблицы"
   ]
  },
  {
   "cell_type": "code",
   "execution_count": 25,
   "metadata": {},
   "outputs": [],
   "source": [
    "network_location_1 = network_location_1.reset_index(level=['object_type']) #изменение столбца индекса"
   ]
  },
  {
   "cell_type": "code",
   "execution_count": 26,
   "metadata": {},
   "outputs": [
    {
     "data": {
      "text/html": [
       "<div>\n",
       "<style scoped>\n",
       "    .dataframe tbody tr th:only-of-type {\n",
       "        vertical-align: middle;\n",
       "    }\n",
       "\n",
       "    .dataframe tbody tr th {\n",
       "        vertical-align: top;\n",
       "    }\n",
       "\n",
       "    .dataframe thead th {\n",
       "        text-align: right;\n",
       "    }\n",
       "</style>\n",
       "<table border=\"1\" class=\"dataframe\">\n",
       "  <thead>\n",
       "    <tr style=\"text-align: right;\">\n",
       "      <th></th>\n",
       "      <th>object_type</th>\n",
       "      <th>id</th>\n",
       "    </tr>\n",
       "  </thead>\n",
       "  <tbody>\n",
       "    <tr>\n",
       "      <th>0</th>\n",
       "      <td>кафе</td>\n",
       "      <td>6099</td>\n",
       "    </tr>\n",
       "    <tr>\n",
       "      <th>1</th>\n",
       "      <td>столовая</td>\n",
       "      <td>2587</td>\n",
       "    </tr>\n",
       "    <tr>\n",
       "      <th>2</th>\n",
       "      <td>ресторан</td>\n",
       "      <td>2285</td>\n",
       "    </tr>\n",
       "    <tr>\n",
       "      <th>3</th>\n",
       "      <td>предприятие быстрого обслуживания</td>\n",
       "      <td>1923</td>\n",
       "    </tr>\n",
       "    <tr>\n",
       "      <th>4</th>\n",
       "      <td>бар</td>\n",
       "      <td>856</td>\n",
       "    </tr>\n",
       "    <tr>\n",
       "      <th>5</th>\n",
       "      <td>буфет</td>\n",
       "      <td>585</td>\n",
       "    </tr>\n",
       "    <tr>\n",
       "      <th>6</th>\n",
       "      <td>кафетерий</td>\n",
       "      <td>398</td>\n",
       "    </tr>\n",
       "    <tr>\n",
       "      <th>7</th>\n",
       "      <td>закусочная</td>\n",
       "      <td>360</td>\n",
       "    </tr>\n",
       "    <tr>\n",
       "      <th>8</th>\n",
       "      <td>магазин (отдел кулинарии)</td>\n",
       "      <td>273</td>\n",
       "    </tr>\n",
       "  </tbody>\n",
       "</table>\n",
       "</div>"
      ],
      "text/plain": [
       "                         object_type    id\n",
       "0                               кафе  6099\n",
       "1                           столовая  2587\n",
       "2                           ресторан  2285\n",
       "3  предприятие быстрого обслуживания  1923\n",
       "4                                бар   856\n",
       "5                              буфет   585\n",
       "6                          кафетерий   398\n",
       "7                         закусочная   360\n",
       "8          магазин (отдел кулинарии)   273"
      ]
     },
     "execution_count": 26,
     "metadata": {},
     "output_type": "execute_result"
    }
   ],
   "source": [
    "network_location_1 #просмотр таблицы"
   ]
  },
  {
   "cell_type": "code",
   "execution_count": 27,
   "metadata": {},
   "outputs": [],
   "source": [
    "network_location_2 = data.query('chain == \"да\"').pivot_table(index='object_type', values='id',aggfunc='count').sort_values(by='id', ascending=False)\n",
    " #построение сводной таблицы"
   ]
  },
  {
   "cell_type": "code",
   "execution_count": 28,
   "metadata": {},
   "outputs": [],
   "source": [
    "network_location_2 = network_location_2.rename (columns= {'id': 'id_2'})  #переименование столбцов"
   ]
  },
  {
   "cell_type": "code",
   "execution_count": 29,
   "metadata": {},
   "outputs": [],
   "source": [
    "network_location_2 = network_location_2.reset_index(level=['object_type']) #изменение столбца индекса"
   ]
  },
  {
   "cell_type": "code",
   "execution_count": 30,
   "metadata": {},
   "outputs": [
    {
     "data": {
      "text/html": [
       "<div>\n",
       "<style scoped>\n",
       "    .dataframe tbody tr th:only-of-type {\n",
       "        vertical-align: middle;\n",
       "    }\n",
       "\n",
       "    .dataframe tbody tr th {\n",
       "        vertical-align: top;\n",
       "    }\n",
       "\n",
       "    .dataframe thead th {\n",
       "        text-align: right;\n",
       "    }\n",
       "</style>\n",
       "<table border=\"1\" class=\"dataframe\">\n",
       "  <thead>\n",
       "    <tr style=\"text-align: right;\">\n",
       "      <th></th>\n",
       "      <th>object_type</th>\n",
       "      <th>id_2</th>\n",
       "    </tr>\n",
       "  </thead>\n",
       "  <tbody>\n",
       "    <tr>\n",
       "      <th>0</th>\n",
       "      <td>кафе</td>\n",
       "      <td>1396</td>\n",
       "    </tr>\n",
       "    <tr>\n",
       "      <th>1</th>\n",
       "      <td>предприятие быстрого обслуживания</td>\n",
       "      <td>791</td>\n",
       "    </tr>\n",
       "    <tr>\n",
       "      <th>2</th>\n",
       "      <td>ресторан</td>\n",
       "      <td>544</td>\n",
       "    </tr>\n",
       "    <tr>\n",
       "      <th>3</th>\n",
       "      <td>магазин (отдел кулинарии)</td>\n",
       "      <td>78</td>\n",
       "    </tr>\n",
       "    <tr>\n",
       "      <th>4</th>\n",
       "      <td>закусочная</td>\n",
       "      <td>56</td>\n",
       "    </tr>\n",
       "    <tr>\n",
       "      <th>5</th>\n",
       "      <td>кафетерий</td>\n",
       "      <td>52</td>\n",
       "    </tr>\n",
       "    <tr>\n",
       "      <th>6</th>\n",
       "      <td>бар</td>\n",
       "      <td>37</td>\n",
       "    </tr>\n",
       "    <tr>\n",
       "      <th>7</th>\n",
       "      <td>буфет</td>\n",
       "      <td>11</td>\n",
       "    </tr>\n",
       "    <tr>\n",
       "      <th>8</th>\n",
       "      <td>столовая</td>\n",
       "      <td>3</td>\n",
       "    </tr>\n",
       "  </tbody>\n",
       "</table>\n",
       "</div>"
      ],
      "text/plain": [
       "                         object_type  id_2\n",
       "0                               кафе  1396\n",
       "1  предприятие быстрого обслуживания   791\n",
       "2                           ресторан   544\n",
       "3          магазин (отдел кулинарии)    78\n",
       "4                         закусочная    56\n",
       "5                          кафетерий    52\n",
       "6                                бар    37\n",
       "7                              буфет    11\n",
       "8                           столовая     3"
      ]
     },
     "execution_count": 30,
     "metadata": {},
     "output_type": "execute_result"
    }
   ],
   "source": [
    "network_location_2 #просмотр получившейся таблицы"
   ]
  },
  {
   "cell_type": "code",
   "execution_count": 31,
   "metadata": {},
   "outputs": [],
   "source": [
    "network_location = pd.merge(network_location_1,network_location_2) #слияние таблиц"
   ]
  },
  {
   "cell_type": "code",
   "execution_count": 32,
   "metadata": {},
   "outputs": [],
   "source": [
    "network_location.set_index('object_type', inplace=True) #удаление индекса"
   ]
  },
  {
   "cell_type": "code",
   "execution_count": 33,
   "metadata": {},
   "outputs": [
    {
     "data": {
      "text/html": [
       "<div>\n",
       "<style scoped>\n",
       "    .dataframe tbody tr th:only-of-type {\n",
       "        vertical-align: middle;\n",
       "    }\n",
       "\n",
       "    .dataframe tbody tr th {\n",
       "        vertical-align: top;\n",
       "    }\n",
       "\n",
       "    .dataframe thead th {\n",
       "        text-align: right;\n",
       "    }\n",
       "</style>\n",
       "<table border=\"1\" class=\"dataframe\">\n",
       "  <thead>\n",
       "    <tr style=\"text-align: right;\">\n",
       "      <th></th>\n",
       "      <th>id</th>\n",
       "      <th>id_2</th>\n",
       "    </tr>\n",
       "    <tr>\n",
       "      <th>object_type</th>\n",
       "      <th></th>\n",
       "      <th></th>\n",
       "    </tr>\n",
       "  </thead>\n",
       "  <tbody>\n",
       "    <tr>\n",
       "      <th>кафе</th>\n",
       "      <td>6099</td>\n",
       "      <td>1396</td>\n",
       "    </tr>\n",
       "    <tr>\n",
       "      <th>столовая</th>\n",
       "      <td>2587</td>\n",
       "      <td>3</td>\n",
       "    </tr>\n",
       "    <tr>\n",
       "      <th>ресторан</th>\n",
       "      <td>2285</td>\n",
       "      <td>544</td>\n",
       "    </tr>\n",
       "    <tr>\n",
       "      <th>предприятие быстрого обслуживания</th>\n",
       "      <td>1923</td>\n",
       "      <td>791</td>\n",
       "    </tr>\n",
       "    <tr>\n",
       "      <th>бар</th>\n",
       "      <td>856</td>\n",
       "      <td>37</td>\n",
       "    </tr>\n",
       "    <tr>\n",
       "      <th>буфет</th>\n",
       "      <td>585</td>\n",
       "      <td>11</td>\n",
       "    </tr>\n",
       "    <tr>\n",
       "      <th>кафетерий</th>\n",
       "      <td>398</td>\n",
       "      <td>52</td>\n",
       "    </tr>\n",
       "    <tr>\n",
       "      <th>закусочная</th>\n",
       "      <td>360</td>\n",
       "      <td>56</td>\n",
       "    </tr>\n",
       "    <tr>\n",
       "      <th>магазин (отдел кулинарии)</th>\n",
       "      <td>273</td>\n",
       "      <td>78</td>\n",
       "    </tr>\n",
       "  </tbody>\n",
       "</table>\n",
       "</div>"
      ],
      "text/plain": [
       "                                     id  id_2\n",
       "object_type                                  \n",
       "кафе                               6099  1396\n",
       "столовая                           2587     3\n",
       "ресторан                           2285   544\n",
       "предприятие быстрого обслуживания  1923   791\n",
       "бар                                 856    37\n",
       "буфет                               585    11\n",
       "кафетерий                           398    52\n",
       "закусочная                          360    56\n",
       "магазин (отдел кулинарии)           273    78"
      ]
     },
     "execution_count": 33,
     "metadata": {},
     "output_type": "execute_result"
    }
   ],
   "source": [
    "network_location"
   ]
  },
  {
   "cell_type": "code",
   "execution_count": 34,
   "metadata": {},
   "outputs": [],
   "source": [
    "network_location['percent'] = network_location['id_2']*100/network_location['id'] #добавление нового столбца"
   ]
  },
  {
   "cell_type": "code",
   "execution_count": 35,
   "metadata": {},
   "outputs": [],
   "source": [
    "network_location = network_location.sort_values(by='percent') #сортировка по столбцу"
   ]
  },
  {
   "cell_type": "code",
   "execution_count": 36,
   "metadata": {},
   "outputs": [
    {
     "data": {
      "text/html": [
       "<div>\n",
       "<style scoped>\n",
       "    .dataframe tbody tr th:only-of-type {\n",
       "        vertical-align: middle;\n",
       "    }\n",
       "\n",
       "    .dataframe tbody tr th {\n",
       "        vertical-align: top;\n",
       "    }\n",
       "\n",
       "    .dataframe thead th {\n",
       "        text-align: right;\n",
       "    }\n",
       "</style>\n",
       "<table border=\"1\" class=\"dataframe\">\n",
       "  <thead>\n",
       "    <tr style=\"text-align: right;\">\n",
       "      <th></th>\n",
       "      <th>id</th>\n",
       "      <th>id_2</th>\n",
       "      <th>percent</th>\n",
       "    </tr>\n",
       "    <tr>\n",
       "      <th>object_type</th>\n",
       "      <th></th>\n",
       "      <th></th>\n",
       "      <th></th>\n",
       "    </tr>\n",
       "  </thead>\n",
       "  <tbody>\n",
       "    <tr>\n",
       "      <th>столовая</th>\n",
       "      <td>2587</td>\n",
       "      <td>3</td>\n",
       "      <td>0.115964</td>\n",
       "    </tr>\n",
       "    <tr>\n",
       "      <th>буфет</th>\n",
       "      <td>585</td>\n",
       "      <td>11</td>\n",
       "      <td>1.880342</td>\n",
       "    </tr>\n",
       "    <tr>\n",
       "      <th>бар</th>\n",
       "      <td>856</td>\n",
       "      <td>37</td>\n",
       "      <td>4.322430</td>\n",
       "    </tr>\n",
       "    <tr>\n",
       "      <th>кафетерий</th>\n",
       "      <td>398</td>\n",
       "      <td>52</td>\n",
       "      <td>13.065327</td>\n",
       "    </tr>\n",
       "    <tr>\n",
       "      <th>закусочная</th>\n",
       "      <td>360</td>\n",
       "      <td>56</td>\n",
       "      <td>15.555556</td>\n",
       "    </tr>\n",
       "    <tr>\n",
       "      <th>кафе</th>\n",
       "      <td>6099</td>\n",
       "      <td>1396</td>\n",
       "      <td>22.888998</td>\n",
       "    </tr>\n",
       "    <tr>\n",
       "      <th>ресторан</th>\n",
       "      <td>2285</td>\n",
       "      <td>544</td>\n",
       "      <td>23.807440</td>\n",
       "    </tr>\n",
       "    <tr>\n",
       "      <th>магазин (отдел кулинарии)</th>\n",
       "      <td>273</td>\n",
       "      <td>78</td>\n",
       "      <td>28.571429</td>\n",
       "    </tr>\n",
       "    <tr>\n",
       "      <th>предприятие быстрого обслуживания</th>\n",
       "      <td>1923</td>\n",
       "      <td>791</td>\n",
       "      <td>41.133645</td>\n",
       "    </tr>\n",
       "  </tbody>\n",
       "</table>\n",
       "</div>"
      ],
      "text/plain": [
       "                                     id  id_2    percent\n",
       "object_type                                             \n",
       "столовая                           2587     3   0.115964\n",
       "буфет                               585    11   1.880342\n",
       "бар                                 856    37   4.322430\n",
       "кафетерий                           398    52  13.065327\n",
       "закусочная                          360    56  15.555556\n",
       "кафе                               6099  1396  22.888998\n",
       "ресторан                           2285   544  23.807440\n",
       "магазин (отдел кулинарии)           273    78  28.571429\n",
       "предприятие быстрого обслуживания  1923   791  41.133645"
      ]
     },
     "execution_count": 36,
     "metadata": {},
     "output_type": "execute_result"
    }
   ],
   "source": [
    "network_location #просмотр столбца"
   ]
  },
  {
   "cell_type": "code",
   "execution_count": 37,
   "metadata": {},
   "outputs": [
    {
     "data": {
      "image/png": "[encoded data removed]",
      "text/plain": [
       "<Figure size 720x504 with 1 Axes>"
      ]
     },
     "metadata": {
      "needs_background": "light"
     },
     "output_type": "display_data"
    }
   ],
   "source": [
    "network_location.plot.barh(y = ['percent'], title = \"Dishes\", grid = True, figsize=(10, 7), legend = True) \n",
    "plt.title('Процентное соотношения видов объектов общественного питания по количеству', fontsize=15)\n",
    "plt.ylabel(\"Вид объектов\")\n",
    "plt.xlabel(\"Количество\")\n",
    "plt.show()\n",
    "#построение столбчатой диаграммы"
   ]
  },
  {
   "cell_type": "markdown",
   "metadata": {},
   "source": [
    "**Вывод:**"
   ]
  },
  {
   "cell_type": "markdown",
   "metadata": {},
   "source": [
    "Сетевое распространение характерно для заведений типа \"кафе\", не характерно для типа \"столовая\"."
   ]
  },
  {
   "cell_type": "markdown",
   "metadata": {},
   "source": [
    "#### Что характерно для сетевых заведений: много заведений с небольшим числом посадочных мест в каждом или мало заведений с большим количеством посадочных мест\n",
    "<a id=\"d\"></a>  "
   ]
  },
  {
   "cell_type": "code",
   "execution_count": 38,
   "metadata": {},
   "outputs": [],
   "source": [
    "data2 = data.query('chain == \"да\"') #созание новой таблицы по условию "
   ]
  },
  {
   "cell_type": "code",
   "execution_count": 39,
   "metadata": {},
   "outputs": [],
   "source": [
    "object_number = data2.groupby('object_name').agg({'object_type': ['count'],\n",
    "        'number' : ['median']}) #создание сводной таблицы(групировка данных)"
   ]
  },
  {
   "cell_type": "code",
   "execution_count": 40,
   "metadata": {},
   "outputs": [],
   "source": [
    "object_number.columns = ['objects_count', 'median_number'] #изменение названия столбцов"
   ]
  },
  {
   "cell_type": "code",
   "execution_count": 41,
   "metadata": {},
   "outputs": [
    {
     "data": {
      "text/html": [
       "<div>\n",
       "<style scoped>\n",
       "    .dataframe tbody tr th:only-of-type {\n",
       "        vertical-align: middle;\n",
       "    }\n",
       "\n",
       "    .dataframe tbody tr th {\n",
       "        vertical-align: top;\n",
       "    }\n",
       "\n",
       "    .dataframe thead th {\n",
       "        text-align: right;\n",
       "    }\n",
       "</style>\n",
       "<table border=\"1\" class=\"dataframe\">\n",
       "  <thead>\n",
       "    <tr style=\"text-align: right;\">\n",
       "      <th></th>\n",
       "      <th>objects_count</th>\n",
       "      <th>median_number</th>\n",
       "    </tr>\n",
       "    <tr>\n",
       "      <th>object_name</th>\n",
       "      <th></th>\n",
       "      <th></th>\n",
       "    </tr>\n",
       "  </thead>\n",
       "  <tbody>\n",
       "    <tr>\n",
       "      <th>beverly hills diner</th>\n",
       "      <td>1</td>\n",
       "      <td>88.0</td>\n",
       "    </tr>\n",
       "    <tr>\n",
       "      <th>bierloga</th>\n",
       "      <td>1</td>\n",
       "      <td>75.0</td>\n",
       "    </tr>\n",
       "    <tr>\n",
       "      <th>black &amp; white</th>\n",
       "      <td>1</td>\n",
       "      <td>40.0</td>\n",
       "    </tr>\n",
       "    <tr>\n",
       "      <th>bocconcino</th>\n",
       "      <td>3</td>\n",
       "      <td>68.0</td>\n",
       "    </tr>\n",
       "    <tr>\n",
       "      <th>boobo</th>\n",
       "      <td>1</td>\n",
       "      <td>46.0</td>\n",
       "    </tr>\n",
       "    <tr>\n",
       "      <th>...</th>\n",
       "      <td>...</td>\n",
       "      <td>...</td>\n",
       "    </tr>\n",
       "    <tr>\n",
       "      <th>ямми микс</th>\n",
       "      <td>1</td>\n",
       "      <td>2.0</td>\n",
       "    </tr>\n",
       "    <tr>\n",
       "      <th>ян примус</th>\n",
       "      <td>1</td>\n",
       "      <td>300.0</td>\n",
       "    </tr>\n",
       "    <tr>\n",
       "      <th>японский ресторан «ваби-саби»</th>\n",
       "      <td>1</td>\n",
       "      <td>155.0</td>\n",
       "    </tr>\n",
       "    <tr>\n",
       "      <th>япоша</th>\n",
       "      <td>2</td>\n",
       "      <td>105.0</td>\n",
       "    </tr>\n",
       "    <tr>\n",
       "      <th>ёрш</th>\n",
       "      <td>4</td>\n",
       "      <td>104.0</td>\n",
       "    </tr>\n",
       "  </tbody>\n",
       "</table>\n",
       "<p>577 rows × 2 columns</p>\n",
       "</div>"
      ],
      "text/plain": [
       "                               objects_count  median_number\n",
       "object_name                                                \n",
       "beverly hills diner                        1           88.0\n",
       "bierloga                                   1           75.0\n",
       "black & white                              1           40.0\n",
       "bocconcino                                 3           68.0\n",
       "boobo                                      1           46.0\n",
       "...                                      ...            ...\n",
       "ямми микс                                  1            2.0\n",
       "ян примус                                  1          300.0\n",
       "японский ресторан «ваби-саби»              1          155.0\n",
       "япоша                                      2          105.0\n",
       "ёрш                                        4          104.0\n",
       "\n",
       "[577 rows x 2 columns]"
      ]
     },
     "execution_count": 41,
     "metadata": {},
     "output_type": "execute_result"
    }
   ],
   "source": [
    "object_number #просмотр получившийся таблицы"
   ]
  },
  {
   "cell_type": "code",
   "execution_count": 42,
   "metadata": {},
   "outputs": [
    {
     "data": {
      "text/html": [
       "<div>\n",
       "<style scoped>\n",
       "    .dataframe tbody tr th:only-of-type {\n",
       "        vertical-align: middle;\n",
       "    }\n",
       "\n",
       "    .dataframe tbody tr th {\n",
       "        vertical-align: top;\n",
       "    }\n",
       "\n",
       "    .dataframe thead th {\n",
       "        text-align: right;\n",
       "    }\n",
       "</style>\n",
       "<table border=\"1\" class=\"dataframe\">\n",
       "  <thead>\n",
       "    <tr style=\"text-align: right;\">\n",
       "      <th></th>\n",
       "      <th>objects_count</th>\n",
       "      <th>median_number</th>\n",
       "    </tr>\n",
       "  </thead>\n",
       "  <tbody>\n",
       "    <tr>\n",
       "      <th>count</th>\n",
       "      <td>577.000000</td>\n",
       "      <td>577.000000</td>\n",
       "    </tr>\n",
       "    <tr>\n",
       "      <th>mean</th>\n",
       "      <td>5.143847</td>\n",
       "      <td>58.047660</td>\n",
       "    </tr>\n",
       "    <tr>\n",
       "      <th>std</th>\n",
       "      <td>15.554623</td>\n",
       "      <td>53.689322</td>\n",
       "    </tr>\n",
       "    <tr>\n",
       "      <th>min</th>\n",
       "      <td>1.000000</td>\n",
       "      <td>0.000000</td>\n",
       "    </tr>\n",
       "    <tr>\n",
       "      <th>25%</th>\n",
       "      <td>1.000000</td>\n",
       "      <td>20.000000</td>\n",
       "    </tr>\n",
       "    <tr>\n",
       "      <th>50%</th>\n",
       "      <td>1.000000</td>\n",
       "      <td>43.500000</td>\n",
       "    </tr>\n",
       "    <tr>\n",
       "      <th>75%</th>\n",
       "      <td>3.000000</td>\n",
       "      <td>83.500000</td>\n",
       "    </tr>\n",
       "    <tr>\n",
       "      <th>max</th>\n",
       "      <td>157.000000</td>\n",
       "      <td>306.000000</td>\n",
       "    </tr>\n",
       "  </tbody>\n",
       "</table>\n",
       "</div>"
      ],
      "text/plain": [
       "       objects_count  median_number\n",
       "count     577.000000     577.000000\n",
       "mean        5.143847      58.047660\n",
       "std        15.554623      53.689322\n",
       "min         1.000000       0.000000\n",
       "25%         1.000000      20.000000\n",
       "50%         1.000000      43.500000\n",
       "75%         3.000000      83.500000\n",
       "max       157.000000     306.000000"
      ]
     },
     "execution_count": 42,
     "metadata": {},
     "output_type": "execute_result"
    }
   ],
   "source": [
    " object_number.describe() #Просмотр информации по таблице"
   ]
  },
  {
   "cell_type": "code",
   "execution_count": 43,
   "metadata": {},
   "outputs": [],
   "source": [
    "def objects_category(row): #создание функции котигоризирующей доход\n",
    "    objects = row['objects_count']\n",
    "    number = row['median_number']\n",
    "    \n",
    "    if objects <= 3:\n",
    "        if number <= 58:\n",
    "            return 'Мало заведений и мало посадочных мест'\n",
    "    if objects <= 3: \n",
    "        if number > 58:\n",
    "            return 'Мало заведений и много посадочных мест'\n",
    "    if objects > 3: \n",
    "        if number <= 58:\n",
    "            return 'Много заведений и мало посадочных мест'\n",
    "    if objects > 3: \n",
    "        if number > 58:\n",
    "            return 'Много заведений и много посадочных мест'"
   ]
  },
  {
   "cell_type": "code",
   "execution_count": 44,
   "metadata": {},
   "outputs": [],
   "source": [
    "object_number['objects_category'] = object_number.apply(objects_category, axis=1) \n",
    "#запись получившихся котигорий в новый столбец"
   ]
  },
  {
   "cell_type": "code",
   "execution_count": 45,
   "metadata": {},
   "outputs": [
    {
     "data": {
      "text/html": [
       "<div>\n",
       "<style scoped>\n",
       "    .dataframe tbody tr th:only-of-type {\n",
       "        vertical-align: middle;\n",
       "    }\n",
       "\n",
       "    .dataframe tbody tr th {\n",
       "        vertical-align: top;\n",
       "    }\n",
       "\n",
       "    .dataframe thead th {\n",
       "        text-align: right;\n",
       "    }\n",
       "</style>\n",
       "<table border=\"1\" class=\"dataframe\">\n",
       "  <thead>\n",
       "    <tr style=\"text-align: right;\">\n",
       "      <th></th>\n",
       "      <th>objects_count</th>\n",
       "      <th>median_number</th>\n",
       "      <th>objects_category</th>\n",
       "    </tr>\n",
       "    <tr>\n",
       "      <th>object_name</th>\n",
       "      <th></th>\n",
       "      <th></th>\n",
       "      <th></th>\n",
       "    </tr>\n",
       "  </thead>\n",
       "  <tbody>\n",
       "    <tr>\n",
       "      <th>beverly hills diner</th>\n",
       "      <td>1</td>\n",
       "      <td>88.0</td>\n",
       "      <td>Мало заведений и много посадочных мест</td>\n",
       "    </tr>\n",
       "    <tr>\n",
       "      <th>bierloga</th>\n",
       "      <td>1</td>\n",
       "      <td>75.0</td>\n",
       "      <td>Мало заведений и много посадочных мест</td>\n",
       "    </tr>\n",
       "    <tr>\n",
       "      <th>black &amp; white</th>\n",
       "      <td>1</td>\n",
       "      <td>40.0</td>\n",
       "      <td>Мало заведений и мало посадочных мест</td>\n",
       "    </tr>\n",
       "    <tr>\n",
       "      <th>bocconcino</th>\n",
       "      <td>3</td>\n",
       "      <td>68.0</td>\n",
       "      <td>Мало заведений и много посадочных мест</td>\n",
       "    </tr>\n",
       "    <tr>\n",
       "      <th>boobo</th>\n",
       "      <td>1</td>\n",
       "      <td>46.0</td>\n",
       "      <td>Мало заведений и мало посадочных мест</td>\n",
       "    </tr>\n",
       "    <tr>\n",
       "      <th>...</th>\n",
       "      <td>...</td>\n",
       "      <td>...</td>\n",
       "      <td>...</td>\n",
       "    </tr>\n",
       "    <tr>\n",
       "      <th>ямми микс</th>\n",
       "      <td>1</td>\n",
       "      <td>2.0</td>\n",
       "      <td>Мало заведений и мало посадочных мест</td>\n",
       "    </tr>\n",
       "    <tr>\n",
       "      <th>ян примус</th>\n",
       "      <td>1</td>\n",
       "      <td>300.0</td>\n",
       "      <td>Мало заведений и много посадочных мест</td>\n",
       "    </tr>\n",
       "    <tr>\n",
       "      <th>японский ресторан «ваби-саби»</th>\n",
       "      <td>1</td>\n",
       "      <td>155.0</td>\n",
       "      <td>Мало заведений и много посадочных мест</td>\n",
       "    </tr>\n",
       "    <tr>\n",
       "      <th>япоша</th>\n",
       "      <td>2</td>\n",
       "      <td>105.0</td>\n",
       "      <td>Мало заведений и много посадочных мест</td>\n",
       "    </tr>\n",
       "    <tr>\n",
       "      <th>ёрш</th>\n",
       "      <td>4</td>\n",
       "      <td>104.0</td>\n",
       "      <td>Много заведений и много посадочных мест</td>\n",
       "    </tr>\n",
       "  </tbody>\n",
       "</table>\n",
       "<p>577 rows × 3 columns</p>\n",
       "</div>"
      ],
      "text/plain": [
       "                               objects_count  median_number  \\\n",
       "object_name                                                   \n",
       "beverly hills diner                        1           88.0   \n",
       "bierloga                                   1           75.0   \n",
       "black & white                              1           40.0   \n",
       "bocconcino                                 3           68.0   \n",
       "boobo                                      1           46.0   \n",
       "...                                      ...            ...   \n",
       "ямми микс                                  1            2.0   \n",
       "ян примус                                  1          300.0   \n",
       "японский ресторан «ваби-саби»              1          155.0   \n",
       "япоша                                      2          105.0   \n",
       "ёрш                                        4          104.0   \n",
       "\n",
       "                                                      objects_category  \n",
       "object_name                                                             \n",
       "beverly hills diner             Мало заведений и много посадочных мест  \n",
       "bierloga                        Мало заведений и много посадочных мест  \n",
       "black & white                    Мало заведений и мало посадочных мест  \n",
       "bocconcino                      Мало заведений и много посадочных мест  \n",
       "boobo                            Мало заведений и мало посадочных мест  \n",
       "...                                                                ...  \n",
       "ямми микс                        Мало заведений и мало посадочных мест  \n",
       "ян примус                       Мало заведений и много посадочных мест  \n",
       "японский ресторан «ваби-саби»   Мало заведений и много посадочных мест  \n",
       "япоша                           Мало заведений и много посадочных мест  \n",
       "ёрш                            Много заведений и много посадочных мест  \n",
       "\n",
       "[577 rows x 3 columns]"
      ]
     },
     "execution_count": 45,
     "metadata": {},
     "output_type": "execute_result"
    }
   ],
   "source": [
    "object_number #просмотр получившийся таблицы"
   ]
  },
  {
   "cell_type": "code",
   "execution_count": 46,
   "metadata": {},
   "outputs": [],
   "source": [
    "object_number = object_number.pivot_table(index='objects_category',values='objects_count', aggfunc='count') \n",
    "#построение сводной таблицы"
   ]
  },
  {
   "cell_type": "code",
   "execution_count": 47,
   "metadata": {},
   "outputs": [
    {
     "data": {
      "text/html": [
       "<div>\n",
       "<style scoped>\n",
       "    .dataframe tbody tr th:only-of-type {\n",
       "        vertical-align: middle;\n",
       "    }\n",
       "\n",
       "    .dataframe tbody tr th {\n",
       "        vertical-align: top;\n",
       "    }\n",
       "\n",
       "    .dataframe thead th {\n",
       "        text-align: right;\n",
       "    }\n",
       "</style>\n",
       "<table border=\"1\" class=\"dataframe\">\n",
       "  <thead>\n",
       "    <tr style=\"text-align: right;\">\n",
       "      <th></th>\n",
       "      <th>objects_count</th>\n",
       "    </tr>\n",
       "    <tr>\n",
       "      <th>objects_category</th>\n",
       "      <th></th>\n",
       "    </tr>\n",
       "  </thead>\n",
       "  <tbody>\n",
       "    <tr>\n",
       "      <th>Мало заведений и мало посадочных мест</th>\n",
       "      <td>274</td>\n",
       "    </tr>\n",
       "    <tr>\n",
       "      <th>Мало заведений и много посадочных мест</th>\n",
       "      <td>179</td>\n",
       "    </tr>\n",
       "    <tr>\n",
       "      <th>Много заведений и мало посадочных мест</th>\n",
       "      <td>81</td>\n",
       "    </tr>\n",
       "    <tr>\n",
       "      <th>Много заведений и много посадочных мест</th>\n",
       "      <td>43</td>\n",
       "    </tr>\n",
       "  </tbody>\n",
       "</table>\n",
       "</div>"
      ],
      "text/plain": [
       "                                         objects_count\n",
       "objects_category                                      \n",
       "Мало заведений и мало посадочных мест              274\n",
       "Мало заведений и много посадочных мест             179\n",
       "Много заведений и мало посадочных мест              81\n",
       "Много заведений и много посадочных мест             43"
      ]
     },
     "execution_count": 47,
     "metadata": {},
     "output_type": "execute_result"
    }
   ],
   "source": [
    "object_number #просмотр таблицы"
   ]
  },
  {
   "cell_type": "code",
   "execution_count": 48,
   "metadata": {},
   "outputs": [
    {
     "data": {
      "image/png": "[encoded data removed]",
      "text/plain": [
       "<Figure size 720x504 with 1 Axes>"
      ]
     },
     "metadata": {
      "needs_background": "light"
     },
     "output_type": "display_data"
    }
   ],
   "source": [
    "object_number.plot.barh(y = ['objects_count'], grid = True, figsize=(10, 7), legend = True) \n",
    "plt.title('Что характерно для заведений', fontsize=15)\n",
    "plt.ylabel(\"Вид объектов\")\n",
    "plt.xlabel(\"Количество\")\n",
    "plt.show()\n",
    "#построение диаграммы"
   ]
  },
  {
   "cell_type": "markdown",
   "metadata": {},
   "source": [
    "**Вывод:**"
   ]
  },
  {
   "cell_type": "markdown",
   "metadata": {},
   "source": [
    "На диаграмме видно, что у сетевых заведений больше распространено мало посадочных мест(до 58)."
   ]
  },
  {
   "cell_type": "markdown",
   "metadata": {},
   "source": [
    "#### Для каждого вида объекта общественного питания описать среднее количество посадочных мест. Какой вид предоставляет в среднем самое большое количество посадочных мест\n",
    "<a id=\"e\"></a>  "
   ]
  },
  {
   "cell_type": "code",
   "execution_count": 49,
   "metadata": {},
   "outputs": [],
   "source": [
    "object_number_mean = data.pivot_table(index='object_type', values='number', aggfunc='mean').sort_values('number',ascending = False)\n",
    "#создание сводной таблицы"
   ]
  },
  {
   "cell_type": "code",
   "execution_count": 50,
   "metadata": {},
   "outputs": [],
   "source": [
    "object_number_mean_2 = data.pivot_table(index='object_type', values='number', aggfunc='median').sort_values('number',ascending = False)\n",
    "#создание сводной таблицы"
   ]
  },
  {
   "cell_type": "code",
   "execution_count": 51,
   "metadata": {},
   "outputs": [],
   "source": [
    "object_number_mean = object_number_mean.reset_index(level=['object_type']) #изменение столбца индексов в таблице"
   ]
  },
  {
   "cell_type": "code",
   "execution_count": 52,
   "metadata": {},
   "outputs": [],
   "source": [
    "object_number_mean_2 = object_number_mean_2.reset_index(level=['object_type']) #изменение столбца индексов в таблице"
   ]
  },
  {
   "cell_type": "code",
   "execution_count": 53,
   "metadata": {},
   "outputs": [
    {
     "data": {
      "text/html": [
       "<div>\n",
       "<style scoped>\n",
       "    .dataframe tbody tr th:only-of-type {\n",
       "        vertical-align: middle;\n",
       "    }\n",
       "\n",
       "    .dataframe tbody tr th {\n",
       "        vertical-align: top;\n",
       "    }\n",
       "\n",
       "    .dataframe thead th {\n",
       "        text-align: right;\n",
       "    }\n",
       "</style>\n",
       "<table border=\"1\" class=\"dataframe\">\n",
       "  <thead>\n",
       "    <tr style=\"text-align: right;\">\n",
       "      <th></th>\n",
       "      <th>object_type</th>\n",
       "      <th>number</th>\n",
       "    </tr>\n",
       "  </thead>\n",
       "  <tbody>\n",
       "    <tr>\n",
       "      <th>0</th>\n",
       "      <td>столовая</td>\n",
       "      <td>130.246618</td>\n",
       "    </tr>\n",
       "    <tr>\n",
       "      <th>1</th>\n",
       "      <td>ресторан</td>\n",
       "      <td>96.834136</td>\n",
       "    </tr>\n",
       "    <tr>\n",
       "      <th>2</th>\n",
       "      <td>буфет</td>\n",
       "      <td>51.129915</td>\n",
       "    </tr>\n",
       "    <tr>\n",
       "      <th>3</th>\n",
       "      <td>бар</td>\n",
       "      <td>43.494159</td>\n",
       "    </tr>\n",
       "    <tr>\n",
       "      <th>4</th>\n",
       "      <td>кафе</td>\n",
       "      <td>39.716019</td>\n",
       "    </tr>\n",
       "    <tr>\n",
       "      <th>5</th>\n",
       "      <td>предприятие быстрого обслуживания</td>\n",
       "      <td>20.552262</td>\n",
       "    </tr>\n",
       "    <tr>\n",
       "      <th>6</th>\n",
       "      <td>кафетерий</td>\n",
       "      <td>9.123116</td>\n",
       "    </tr>\n",
       "    <tr>\n",
       "      <th>7</th>\n",
       "      <td>закусочная</td>\n",
       "      <td>7.608333</td>\n",
       "    </tr>\n",
       "    <tr>\n",
       "      <th>8</th>\n",
       "      <td>магазин (отдел кулинарии)</td>\n",
       "      <td>5.589744</td>\n",
       "    </tr>\n",
       "  </tbody>\n",
       "</table>\n",
       "</div>"
      ],
      "text/plain": [
       "                         object_type      number\n",
       "0                           столовая  130.246618\n",
       "1                           ресторан   96.834136\n",
       "2                              буфет   51.129915\n",
       "3                                бар   43.494159\n",
       "4                               кафе   39.716019\n",
       "5  предприятие быстрого обслуживания   20.552262\n",
       "6                          кафетерий    9.123116\n",
       "7                         закусочная    7.608333\n",
       "8          магазин (отдел кулинарии)    5.589744"
      ]
     },
     "execution_count": 53,
     "metadata": {},
     "output_type": "execute_result"
    }
   ],
   "source": [
    "object_number_mean #просмотр получившийся таблицы"
   ]
  },
  {
   "cell_type": "code",
   "execution_count": 54,
   "metadata": {},
   "outputs": [
    {
     "data": {
      "text/html": [
       "<div>\n",
       "<style scoped>\n",
       "    .dataframe tbody tr th:only-of-type {\n",
       "        vertical-align: middle;\n",
       "    }\n",
       "\n",
       "    .dataframe tbody tr th {\n",
       "        vertical-align: top;\n",
       "    }\n",
       "\n",
       "    .dataframe thead th {\n",
       "        text-align: right;\n",
       "    }\n",
       "</style>\n",
       "<table border=\"1\" class=\"dataframe\">\n",
       "  <thead>\n",
       "    <tr style=\"text-align: right;\">\n",
       "      <th></th>\n",
       "      <th>object_type</th>\n",
       "      <th>number</th>\n",
       "    </tr>\n",
       "  </thead>\n",
       "  <tbody>\n",
       "    <tr>\n",
       "      <th>0</th>\n",
       "      <td>столовая</td>\n",
       "      <td>103</td>\n",
       "    </tr>\n",
       "    <tr>\n",
       "      <th>1</th>\n",
       "      <td>ресторан</td>\n",
       "      <td>80</td>\n",
       "    </tr>\n",
       "    <tr>\n",
       "      <th>2</th>\n",
       "      <td>бар</td>\n",
       "      <td>35</td>\n",
       "    </tr>\n",
       "    <tr>\n",
       "      <th>3</th>\n",
       "      <td>буфет</td>\n",
       "      <td>32</td>\n",
       "    </tr>\n",
       "    <tr>\n",
       "      <th>4</th>\n",
       "      <td>кафе</td>\n",
       "      <td>30</td>\n",
       "    </tr>\n",
       "    <tr>\n",
       "      <th>5</th>\n",
       "      <td>кафетерий</td>\n",
       "      <td>6</td>\n",
       "    </tr>\n",
       "    <tr>\n",
       "      <th>6</th>\n",
       "      <td>предприятие быстрого обслуживания</td>\n",
       "      <td>5</td>\n",
       "    </tr>\n",
       "    <tr>\n",
       "      <th>7</th>\n",
       "      <td>закусочная</td>\n",
       "      <td>0</td>\n",
       "    </tr>\n",
       "    <tr>\n",
       "      <th>8</th>\n",
       "      <td>магазин (отдел кулинарии)</td>\n",
       "      <td>0</td>\n",
       "    </tr>\n",
       "  </tbody>\n",
       "</table>\n",
       "</div>"
      ],
      "text/plain": [
       "                         object_type  number\n",
       "0                           столовая     103\n",
       "1                           ресторан      80\n",
       "2                                бар      35\n",
       "3                              буфет      32\n",
       "4                               кафе      30\n",
       "5                          кафетерий       6\n",
       "6  предприятие быстрого обслуживания       5\n",
       "7                         закусочная       0\n",
       "8          магазин (отдел кулинарии)       0"
      ]
     },
     "execution_count": 54,
     "metadata": {},
     "output_type": "execute_result"
    }
   ],
   "source": [
    "object_number_mean_2 #просмотр второй тиблицы"
   ]
  },
  {
   "cell_type": "code",
   "execution_count": 55,
   "metadata": {},
   "outputs": [
    {
     "data": {
      "image/png": "[encoded data removed]",
      "text/plain": [
       "<Figure size 720x504 with 1 Axes>"
      ]
     },
     "metadata": {
      "needs_background": "light"
     },
     "output_type": "display_data"
    }
   ],
   "source": [
    "object_number_mean.plot.barh(x='object_type', y='number', color = ['r','pink','y','olive','g','b','c','gray','black'],figsize=(10, 7)) \n",
    "plt.title('Cреднее количество посадочных мест', fontsize=15)\n",
    "plt.ylabel(\"Вид объектов\")\n",
    "plt.xlabel(\"Процент\")\n",
    "plt.show()\n",
    "#построение диаграммы"
   ]
  },
  {
   "cell_type": "code",
   "execution_count": 56,
   "metadata": {},
   "outputs": [
    {
     "data": {
      "image/png": "[encoded data removed]",
      "text/plain": [
       "<Figure size 720x504 with 1 Axes>"
      ]
     },
     "metadata": {
      "needs_background": "light"
     },
     "output_type": "display_data"
    }
   ],
   "source": [
    "object_number_mean_2.plot.barh(x='object_type', y='number', color = ['r','pink','y','olive','g','b','c','gray','black'],figsize=(10, 7)) \n",
    "plt.title('Медианное количество посадочных мест', fontsize=15)\n",
    "plt.ylabel(\"Вид объектов\")\n",
    "plt.xlabel(\"Процент\")\n",
    "plt.show()\n",
    "#построение диаграммы"
   ]
  },
  {
   "cell_type": "markdown",
   "metadata": {},
   "source": [
    "**Вывод:**"
   ]
  },
  {
   "cell_type": "markdown",
   "metadata": {},
   "source": [
    "По среднему показателю, самое большое среднее количество посадочных мест в типе \"Столовая\", а самое маленькое в \"магазин (отдел кулинарии)\". По медианному показателю данные немного отличаются, но самое большое значение так же у \"Столовая\", а самое маленькое разделяют \"Закусочная\" и \"магазин (отдел кулинарии)\"."
   ]
  },
  {
   "cell_type": "markdown",
   "metadata": {},
   "source": [
    "#### Выделить в отдельный столбец информацию об улице\n",
    "<a id=\"f\"></a>  "
   ]
  },
  {
   "cell_type": "code",
   "execution_count": 57,
   "metadata": {},
   "outputs": [],
   "source": [
    "data['street'] = data['address'].apply(lambda x: x.split(', ')[1]) #выделение из столбца нужных данных"
   ]
  },
  {
   "cell_type": "code",
   "execution_count": 58,
   "metadata": {},
   "outputs": [
    {
     "data": {
      "text/html": [
       "<div>\n",
       "<style scoped>\n",
       "    .dataframe tbody tr th:only-of-type {\n",
       "        vertical-align: middle;\n",
       "    }\n",
       "\n",
       "    .dataframe tbody tr th {\n",
       "        vertical-align: top;\n",
       "    }\n",
       "\n",
       "    .dataframe thead th {\n",
       "        text-align: right;\n",
       "    }\n",
       "</style>\n",
       "<table border=\"1\" class=\"dataframe\">\n",
       "  <thead>\n",
       "    <tr style=\"text-align: right;\">\n",
       "      <th></th>\n",
       "      <th>id</th>\n",
       "      <th>object_name</th>\n",
       "      <th>chain</th>\n",
       "      <th>object_type</th>\n",
       "      <th>address</th>\n",
       "      <th>number</th>\n",
       "      <th>street</th>\n",
       "    </tr>\n",
       "  </thead>\n",
       "  <tbody>\n",
       "    <tr>\n",
       "      <th>0</th>\n",
       "      <td>151635</td>\n",
       "      <td>сметана</td>\n",
       "      <td>нет</td>\n",
       "      <td>кафе</td>\n",
       "      <td>город Москва, улица Егора Абакумова, дом 9</td>\n",
       "      <td>48</td>\n",
       "      <td>улица Егора Абакумова</td>\n",
       "    </tr>\n",
       "    <tr>\n",
       "      <th>1</th>\n",
       "      <td>77874</td>\n",
       "      <td>родник</td>\n",
       "      <td>нет</td>\n",
       "      <td>кафе</td>\n",
       "      <td>город Москва, улица Талалихина, дом 2/1, корпус 1</td>\n",
       "      <td>35</td>\n",
       "      <td>улица Талалихина</td>\n",
       "    </tr>\n",
       "    <tr>\n",
       "      <th>2</th>\n",
       "      <td>24309</td>\n",
       "      <td>кафе «академия»</td>\n",
       "      <td>нет</td>\n",
       "      <td>кафе</td>\n",
       "      <td>город Москва, Абельмановская улица, дом 6</td>\n",
       "      <td>95</td>\n",
       "      <td>Абельмановская улица</td>\n",
       "    </tr>\n",
       "    <tr>\n",
       "      <th>3</th>\n",
       "      <td>21894</td>\n",
       "      <td>пиццетория</td>\n",
       "      <td>да</td>\n",
       "      <td>кафе</td>\n",
       "      <td>город Москва, Абрамцевская улица, дом 1</td>\n",
       "      <td>40</td>\n",
       "      <td>Абрамцевская улица</td>\n",
       "    </tr>\n",
       "    <tr>\n",
       "      <th>4</th>\n",
       "      <td>119365</td>\n",
       "      <td>кафе «вишневая метель»</td>\n",
       "      <td>нет</td>\n",
       "      <td>кафе</td>\n",
       "      <td>город Москва, Абрамцевская улица, дом 9, корпус 1</td>\n",
       "      <td>50</td>\n",
       "      <td>Абрамцевская улица</td>\n",
       "    </tr>\n",
       "  </tbody>\n",
       "</table>\n",
       "</div>"
      ],
      "text/plain": [
       "       id             object_name chain object_type  \\\n",
       "0  151635                 сметана   нет        кафе   \n",
       "1   77874                  родник   нет        кафе   \n",
       "2   24309         кафе «академия»   нет        кафе   \n",
       "3   21894              пиццетория    да        кафе   \n",
       "4  119365  кафе «вишневая метель»   нет        кафе   \n",
       "\n",
       "                                             address  number  \\\n",
       "0         город Москва, улица Егора Абакумова, дом 9      48   \n",
       "1  город Москва, улица Талалихина, дом 2/1, корпус 1      35   \n",
       "2          город Москва, Абельмановская улица, дом 6      95   \n",
       "3            город Москва, Абрамцевская улица, дом 1      40   \n",
       "4  город Москва, Абрамцевская улица, дом 9, корпус 1      50   \n",
       "\n",
       "                  street  \n",
       "0  улица Егора Абакумова  \n",
       "1       улица Талалихина  \n",
       "2   Абельмановская улица  \n",
       "3     Абрамцевская улица  \n",
       "4     Абрамцевская улица  "
      ]
     },
     "execution_count": 58,
     "metadata": {},
     "output_type": "execute_result"
    }
   ],
   "source": [
    "data.head() #просмотр получившийся таблицы"
   ]
  },
  {
   "cell_type": "markdown",
   "metadata": {},
   "source": [
    "#### Построить график топ-10 улиц по количеству объектов общественного питания. Определить в каких районах Москвы находятся эти улицы\n",
    "<a id=\"g\"></a>  "
   ]
  },
  {
   "cell_type": "code",
   "execution_count": 59,
   "metadata": {},
   "outputs": [],
   "source": [
    "from io import BytesIO #импорт BytesIO"
   ]
  },
  {
   "cell_type": "code",
   "execution_count": 60,
   "metadata": {},
   "outputs": [],
   "source": [
    "import requests #импорт requests"
   ]
  },
  {
   "cell_type": "code",
   "execution_count": 61,
   "metadata": {},
   "outputs": [
    {
     "data": {
      "text/html": [
       "<div>\n",
       "<style scoped>\n",
       "    .dataframe tbody tr th:only-of-type {\n",
       "        vertical-align: middle;\n",
       "    }\n",
       "\n",
       "    .dataframe tbody tr th {\n",
       "        vertical-align: top;\n",
       "    }\n",
       "\n",
       "    .dataframe thead th {\n",
       "        text-align: right;\n",
       "    }\n",
       "</style>\n",
       "<table border=\"1\" class=\"dataframe\">\n",
       "  <thead>\n",
       "    <tr style=\"text-align: right;\">\n",
       "      <th></th>\n",
       "      <th>streetname</th>\n",
       "      <th>areaid</th>\n",
       "      <th>okrug</th>\n",
       "      <th>area</th>\n",
       "    </tr>\n",
       "  </thead>\n",
       "  <tbody>\n",
       "    <tr>\n",
       "      <th>0</th>\n",
       "      <td>Выставочный переулок</td>\n",
       "      <td>17</td>\n",
       "      <td>ЦАО</td>\n",
       "      <td>Пресненский район</td>\n",
       "    </tr>\n",
       "    <tr>\n",
       "      <th>1</th>\n",
       "      <td>улица Гашека</td>\n",
       "      <td>17</td>\n",
       "      <td>ЦАО</td>\n",
       "      <td>Пресненский район</td>\n",
       "    </tr>\n",
       "    <tr>\n",
       "      <th>2</th>\n",
       "      <td>Большая Никитская улица</td>\n",
       "      <td>17</td>\n",
       "      <td>ЦАО</td>\n",
       "      <td>Пресненский район</td>\n",
       "    </tr>\n",
       "    <tr>\n",
       "      <th>3</th>\n",
       "      <td>Глубокий переулок</td>\n",
       "      <td>17</td>\n",
       "      <td>ЦАО</td>\n",
       "      <td>Пресненский район</td>\n",
       "    </tr>\n",
       "    <tr>\n",
       "      <th>4</th>\n",
       "      <td>Большой Гнездниковский переулок</td>\n",
       "      <td>17</td>\n",
       "      <td>ЦАО</td>\n",
       "      <td>Пресненский район</td>\n",
       "    </tr>\n",
       "    <tr>\n",
       "      <th>...</th>\n",
       "      <td>...</td>\n",
       "      <td>...</td>\n",
       "      <td>...</td>\n",
       "      <td>...</td>\n",
       "    </tr>\n",
       "    <tr>\n",
       "      <th>4393</th>\n",
       "      <td>Вознесенский проезд</td>\n",
       "      <td>17</td>\n",
       "      <td>ЦАО</td>\n",
       "      <td>Пресненский район</td>\n",
       "    </tr>\n",
       "    <tr>\n",
       "      <th>4394</th>\n",
       "      <td>Волков переулок</td>\n",
       "      <td>17</td>\n",
       "      <td>ЦАО</td>\n",
       "      <td>Пресненский район</td>\n",
       "    </tr>\n",
       "    <tr>\n",
       "      <th>4395</th>\n",
       "      <td>Поварская улица</td>\n",
       "      <td>17</td>\n",
       "      <td>ЦАО</td>\n",
       "      <td>Пресненский район</td>\n",
       "    </tr>\n",
       "    <tr>\n",
       "      <th>4396</th>\n",
       "      <td>Кудринская площадь</td>\n",
       "      <td>17</td>\n",
       "      <td>ЦАО</td>\n",
       "      <td>Пресненский район</td>\n",
       "    </tr>\n",
       "    <tr>\n",
       "      <th>4397</th>\n",
       "      <td>Вспольный переулок</td>\n",
       "      <td>17</td>\n",
       "      <td>ЦАО</td>\n",
       "      <td>Пресненский район</td>\n",
       "    </tr>\n",
       "  </tbody>\n",
       "</table>\n",
       "<p>4398 rows × 4 columns</p>\n",
       "</div>"
      ],
      "text/plain": [
       "                           streetname  areaid okrug               area\n",
       "0                Выставочный переулок      17   ЦАО  Пресненский район\n",
       "1                        улица Гашека      17   ЦАО  Пресненский район\n",
       "2             Большая Никитская улица      17   ЦАО  Пресненский район\n",
       "3                   Глубокий переулок      17   ЦАО  Пресненский район\n",
       "4     Большой Гнездниковский переулок      17   ЦАО  Пресненский район\n",
       "...                               ...     ...   ...                ...\n",
       "4393              Вознесенский проезд      17   ЦАО  Пресненский район\n",
       "4394                  Волков переулок      17   ЦАО  Пресненский район\n",
       "4395                  Поварская улица      17   ЦАО  Пресненский район\n",
       "4396               Кудринская площадь      17   ЦАО  Пресненский район\n",
       "4397               Вспольный переулок      17   ЦАО  Пресненский район\n",
       "\n",
       "[4398 rows x 4 columns]"
      ]
     },
     "execution_count": 61,
     "metadata": {},
     "output_type": "execute_result"
    }
   ],
   "source": [
    "spreadsheet_id = '1gq1a5htKmigLBpskiMMC6OCnW6dDXRyJd3eiIILdPko'\n",
    "file_name = 'https://docs.google.com/spreadsheets/d/{}/export?format=csv'.format(spreadsheet_id)\n",
    "r = requests.get(file_name)\n",
    "data_streat = pd.read_csv(BytesIO(r.content)) \n",
    "data_streat\n",
    "#добавление стороннего файла"
   ]
  },
  {
   "cell_type": "code",
   "execution_count": 62,
   "metadata": {},
   "outputs": [
    {
     "name": "stdout",
     "output_type": "stream",
     "text": [
      "<class 'pandas.core.frame.DataFrame'>\n",
      "RangeIndex: 4398 entries, 0 to 4397\n",
      "Data columns (total 4 columns):\n",
      " #   Column      Non-Null Count  Dtype \n",
      "---  ------      --------------  ----- \n",
      " 0   streetname  4398 non-null   object\n",
      " 1   areaid      4398 non-null   int64 \n",
      " 2   okrug       4398 non-null   object\n",
      " 3   area        4398 non-null   object\n",
      "dtypes: int64(1), object(3)\n",
      "memory usage: 137.6+ KB\n"
     ]
    }
   ],
   "source": [
    "data_streat.info() #просмотр информации внещнего датасета"
   ]
  },
  {
   "cell_type": "code",
   "execution_count": 63,
   "metadata": {},
   "outputs": [],
   "source": [
    "data_streat = data_streat.rename(columns= {'streetname': 'street'}) #переименование столбца для соединения"
   ]
  },
  {
   "cell_type": "code",
   "execution_count": 64,
   "metadata": {},
   "outputs": [
    {
     "data": {
      "text/html": [
       "<div>\n",
       "<style scoped>\n",
       "    .dataframe tbody tr th:only-of-type {\n",
       "        vertical-align: middle;\n",
       "    }\n",
       "\n",
       "    .dataframe tbody tr th {\n",
       "        vertical-align: top;\n",
       "    }\n",
       "\n",
       "    .dataframe thead th {\n",
       "        text-align: right;\n",
       "    }\n",
       "</style>\n",
       "<table border=\"1\" class=\"dataframe\">\n",
       "  <thead>\n",
       "    <tr style=\"text-align: right;\">\n",
       "      <th></th>\n",
       "      <th>street</th>\n",
       "      <th>areaid</th>\n",
       "      <th>okrug</th>\n",
       "      <th>area</th>\n",
       "    </tr>\n",
       "  </thead>\n",
       "  <tbody>\n",
       "    <tr>\n",
       "      <th>0</th>\n",
       "      <td>Выставочный переулок</td>\n",
       "      <td>17</td>\n",
       "      <td>ЦАО</td>\n",
       "      <td>Пресненский район</td>\n",
       "    </tr>\n",
       "    <tr>\n",
       "      <th>1</th>\n",
       "      <td>улица Гашека</td>\n",
       "      <td>17</td>\n",
       "      <td>ЦАО</td>\n",
       "      <td>Пресненский район</td>\n",
       "    </tr>\n",
       "    <tr>\n",
       "      <th>2</th>\n",
       "      <td>Большая Никитская улица</td>\n",
       "      <td>17</td>\n",
       "      <td>ЦАО</td>\n",
       "      <td>Пресненский район</td>\n",
       "    </tr>\n",
       "    <tr>\n",
       "      <th>3</th>\n",
       "      <td>Глубокий переулок</td>\n",
       "      <td>17</td>\n",
       "      <td>ЦАО</td>\n",
       "      <td>Пресненский район</td>\n",
       "    </tr>\n",
       "    <tr>\n",
       "      <th>4</th>\n",
       "      <td>Большой Гнездниковский переулок</td>\n",
       "      <td>17</td>\n",
       "      <td>ЦАО</td>\n",
       "      <td>Пресненский район</td>\n",
       "    </tr>\n",
       "    <tr>\n",
       "      <th>...</th>\n",
       "      <td>...</td>\n",
       "      <td>...</td>\n",
       "      <td>...</td>\n",
       "      <td>...</td>\n",
       "    </tr>\n",
       "    <tr>\n",
       "      <th>4393</th>\n",
       "      <td>Вознесенский проезд</td>\n",
       "      <td>17</td>\n",
       "      <td>ЦАО</td>\n",
       "      <td>Пресненский район</td>\n",
       "    </tr>\n",
       "    <tr>\n",
       "      <th>4394</th>\n",
       "      <td>Волков переулок</td>\n",
       "      <td>17</td>\n",
       "      <td>ЦАО</td>\n",
       "      <td>Пресненский район</td>\n",
       "    </tr>\n",
       "    <tr>\n",
       "      <th>4395</th>\n",
       "      <td>Поварская улица</td>\n",
       "      <td>17</td>\n",
       "      <td>ЦАО</td>\n",
       "      <td>Пресненский район</td>\n",
       "    </tr>\n",
       "    <tr>\n",
       "      <th>4396</th>\n",
       "      <td>Кудринская площадь</td>\n",
       "      <td>17</td>\n",
       "      <td>ЦАО</td>\n",
       "      <td>Пресненский район</td>\n",
       "    </tr>\n",
       "    <tr>\n",
       "      <th>4397</th>\n",
       "      <td>Вспольный переулок</td>\n",
       "      <td>17</td>\n",
       "      <td>ЦАО</td>\n",
       "      <td>Пресненский район</td>\n",
       "    </tr>\n",
       "  </tbody>\n",
       "</table>\n",
       "<p>4398 rows × 4 columns</p>\n",
       "</div>"
      ],
      "text/plain": [
       "                               street  areaid okrug               area\n",
       "0                Выставочный переулок      17   ЦАО  Пресненский район\n",
       "1                        улица Гашека      17   ЦАО  Пресненский район\n",
       "2             Большая Никитская улица      17   ЦАО  Пресненский район\n",
       "3                   Глубокий переулок      17   ЦАО  Пресненский район\n",
       "4     Большой Гнездниковский переулок      17   ЦАО  Пресненский район\n",
       "...                               ...     ...   ...                ...\n",
       "4393              Вознесенский проезд      17   ЦАО  Пресненский район\n",
       "4394                  Волков переулок      17   ЦАО  Пресненский район\n",
       "4395                  Поварская улица      17   ЦАО  Пресненский район\n",
       "4396               Кудринская площадь      17   ЦАО  Пресненский район\n",
       "4397               Вспольный переулок      17   ЦАО  Пресненский район\n",
       "\n",
       "[4398 rows x 4 columns]"
      ]
     },
     "execution_count": 64,
     "metadata": {},
     "output_type": "execute_result"
    }
   ],
   "source": [
    " data_streat #просмотр получившийся таблицы"
   ]
  },
  {
   "cell_type": "code",
   "execution_count": 65,
   "metadata": {},
   "outputs": [],
   "source": [
    "data = data[data['street'].apply(lambda x: \"город\" not in x and \"поселение\" not in x and \"микрорайон\"not in x and \"дом\"not in x and \"квартал\" not in x and \"деревня\" not in x and \"посёлок\" not in x and \"километр\" not in x and \"территория\" not in x and \"владение\" not in x and \"просек\" not in x)]\n",
    "#удаление неподходящих значений"
   ]
  },
  {
   "cell_type": "code",
   "execution_count": 66,
   "metadata": {},
   "outputs": [],
   "source": [
    "street_top = data.pivot_table(index='street', values='id', aggfunc='count').sort_values('id',ascending = False).head(10)\n",
    "#создание сводной таблицы"
   ]
  },
  {
   "cell_type": "code",
   "execution_count": 67,
   "metadata": {},
   "outputs": [
    {
     "data": {
      "text/html": [
       "<div>\n",
       "<style scoped>\n",
       "    .dataframe tbody tr th:only-of-type {\n",
       "        vertical-align: middle;\n",
       "    }\n",
       "\n",
       "    .dataframe tbody tr th {\n",
       "        vertical-align: top;\n",
       "    }\n",
       "\n",
       "    .dataframe thead th {\n",
       "        text-align: right;\n",
       "    }\n",
       "</style>\n",
       "<table border=\"1\" class=\"dataframe\">\n",
       "  <thead>\n",
       "    <tr style=\"text-align: right;\">\n",
       "      <th></th>\n",
       "      <th>id</th>\n",
       "    </tr>\n",
       "    <tr>\n",
       "      <th>street</th>\n",
       "      <th></th>\n",
       "    </tr>\n",
       "  </thead>\n",
       "  <tbody>\n",
       "    <tr>\n",
       "      <th>проспект Мира</th>\n",
       "      <td>204</td>\n",
       "    </tr>\n",
       "    <tr>\n",
       "      <th>Профсоюзная улица</th>\n",
       "      <td>182</td>\n",
       "    </tr>\n",
       "    <tr>\n",
       "      <th>Ленинградский проспект</th>\n",
       "      <td>171</td>\n",
       "    </tr>\n",
       "    <tr>\n",
       "      <th>Пресненская набережная</th>\n",
       "      <td>167</td>\n",
       "    </tr>\n",
       "    <tr>\n",
       "      <th>Варшавское шоссе</th>\n",
       "      <td>161</td>\n",
       "    </tr>\n",
       "    <tr>\n",
       "      <th>Ленинский проспект</th>\n",
       "      <td>147</td>\n",
       "    </tr>\n",
       "    <tr>\n",
       "      <th>проспект Вернадского</th>\n",
       "      <td>132</td>\n",
       "    </tr>\n",
       "    <tr>\n",
       "      <th>Кутузовский проспект</th>\n",
       "      <td>114</td>\n",
       "    </tr>\n",
       "    <tr>\n",
       "      <th>Каширское шоссе</th>\n",
       "      <td>112</td>\n",
       "    </tr>\n",
       "    <tr>\n",
       "      <th>Кировоградская улица</th>\n",
       "      <td>110</td>\n",
       "    </tr>\n",
       "  </tbody>\n",
       "</table>\n",
       "</div>"
      ],
      "text/plain": [
       "                         id\n",
       "street                     \n",
       "проспект Мира           204\n",
       "Профсоюзная улица       182\n",
       "Ленинградский проспект  171\n",
       "Пресненская набережная  167\n",
       "Варшавское шоссе        161\n",
       "Ленинский проспект      147\n",
       "проспект Вернадского    132\n",
       "Кутузовский проспект    114\n",
       "Каширское шоссе         112\n",
       "Кировоградская улица    110"
      ]
     },
     "execution_count": 67,
     "metadata": {},
     "output_type": "execute_result"
    }
   ],
   "source": [
    "street_top #просмотр топ 10"
   ]
  },
  {
   "cell_type": "code",
   "execution_count": 68,
   "metadata": {},
   "outputs": [
    {
     "data": {
      "image/png": "[encoded data removed]",
      "text/plain": [
       "<Figure size 720x504 with 1 Axes>"
      ]
     },
     "metadata": {
      "needs_background": "light"
     },
     "output_type": "display_data"
    }
   ],
   "source": [
    "street_top.plot.barh(figsize=(10, 7))\n",
    "plt.title('Топ-10 улиц по количеству объектов общественного питания', fontsize=15)\n",
    "plt.ylabel(\"Название улиц\")\n",
    "plt.xlabel(\"Кол-во объектов\")\n",
    "plt.show()\n",
    "#построение диаграммы"
   ]
  },
  {
   "cell_type": "code",
   "execution_count": 69,
   "metadata": {},
   "outputs": [],
   "source": [
    "street_top = street_top.reset_index(level=['street']) #изменение столбца индексов в таблице"
   ]
  },
  {
   "cell_type": "code",
   "execution_count": 70,
   "metadata": {},
   "outputs": [],
   "source": [
    "top_streat_external = pd.merge(street_top, data_streat, how='left') #объединение двух датасетов"
   ]
  },
  {
   "cell_type": "code",
   "execution_count": 71,
   "metadata": {},
   "outputs": [
    {
     "data": {
      "text/html": [
       "<div>\n",
       "<style scoped>\n",
       "    .dataframe tbody tr th:only-of-type {\n",
       "        vertical-align: middle;\n",
       "    }\n",
       "\n",
       "    .dataframe tbody tr th {\n",
       "        vertical-align: top;\n",
       "    }\n",
       "\n",
       "    .dataframe thead th {\n",
       "        text-align: right;\n",
       "    }\n",
       "</style>\n",
       "<table border=\"1\" class=\"dataframe\">\n",
       "  <thead>\n",
       "    <tr style=\"text-align: right;\">\n",
       "      <th></th>\n",
       "      <th>street</th>\n",
       "      <th>id</th>\n",
       "      <th>areaid</th>\n",
       "      <th>okrug</th>\n",
       "      <th>area</th>\n",
       "    </tr>\n",
       "  </thead>\n",
       "  <tbody>\n",
       "    <tr>\n",
       "      <th>0</th>\n",
       "      <td>проспект Мира</td>\n",
       "      <td>204</td>\n",
       "      <td>70</td>\n",
       "      <td>СВАО</td>\n",
       "      <td>Алексеевский район</td>\n",
       "    </tr>\n",
       "    <tr>\n",
       "      <th>1</th>\n",
       "      <td>проспект Мира</td>\n",
       "      <td>204</td>\n",
       "      <td>86</td>\n",
       "      <td>СВАО</td>\n",
       "      <td>Ярославский Район</td>\n",
       "    </tr>\n",
       "    <tr>\n",
       "      <th>2</th>\n",
       "      <td>проспект Мира</td>\n",
       "      <td>204</td>\n",
       "      <td>78</td>\n",
       "      <td>СВАО</td>\n",
       "      <td>Район Марьина роща</td>\n",
       "    </tr>\n",
       "    <tr>\n",
       "      <th>3</th>\n",
       "      <td>проспект Мира</td>\n",
       "      <td>204</td>\n",
       "      <td>79</td>\n",
       "      <td>СВАО</td>\n",
       "      <td>Останкинский район</td>\n",
       "    </tr>\n",
       "    <tr>\n",
       "      <th>4</th>\n",
       "      <td>проспект Мира</td>\n",
       "      <td>204</td>\n",
       "      <td>81</td>\n",
       "      <td>СВАО</td>\n",
       "      <td>Район Ростокино</td>\n",
       "    </tr>\n",
       "    <tr>\n",
       "      <th>5</th>\n",
       "      <td>проспект Мира</td>\n",
       "      <td>204</td>\n",
       "      <td>82</td>\n",
       "      <td>СВАО</td>\n",
       "      <td>Район Свиблово</td>\n",
       "    </tr>\n",
       "    <tr>\n",
       "      <th>6</th>\n",
       "      <td>проспект Мира</td>\n",
       "      <td>204</td>\n",
       "      <td>16</td>\n",
       "      <td>ЦАО</td>\n",
       "      <td>Мещанский район</td>\n",
       "    </tr>\n",
       "    <tr>\n",
       "      <th>7</th>\n",
       "      <td>Профсоюзная улица</td>\n",
       "      <td>182</td>\n",
       "      <td>123</td>\n",
       "      <td>ЮЗАО</td>\n",
       "      <td>Академический район</td>\n",
       "    </tr>\n",
       "    <tr>\n",
       "      <th>8</th>\n",
       "      <td>Профсоюзная улица</td>\n",
       "      <td>182</td>\n",
       "      <td>132</td>\n",
       "      <td>ЮЗАО</td>\n",
       "      <td>Район Черемушки</td>\n",
       "    </tr>\n",
       "    <tr>\n",
       "      <th>9</th>\n",
       "      <td>Профсоюзная улица</td>\n",
       "      <td>182</td>\n",
       "      <td>134</td>\n",
       "      <td>ЮЗАО</td>\n",
       "      <td>Район Ясенево</td>\n",
       "    </tr>\n",
       "    <tr>\n",
       "      <th>10</th>\n",
       "      <td>Профсоюзная улица</td>\n",
       "      <td>182</td>\n",
       "      <td>126</td>\n",
       "      <td>ЮЗАО</td>\n",
       "      <td>Район Коньково</td>\n",
       "    </tr>\n",
       "    <tr>\n",
       "      <th>11</th>\n",
       "      <td>Профсоюзная улица</td>\n",
       "      <td>182</td>\n",
       "      <td>129</td>\n",
       "      <td>ЮЗАО</td>\n",
       "      <td>Обручевский район</td>\n",
       "    </tr>\n",
       "    <tr>\n",
       "      <th>12</th>\n",
       "      <td>Профсоюзная улица</td>\n",
       "      <td>182</td>\n",
       "      <td>131</td>\n",
       "      <td>ЮЗАО</td>\n",
       "      <td>Район Теплый Стан</td>\n",
       "    </tr>\n",
       "    <tr>\n",
       "      <th>13</th>\n",
       "      <td>Ленинградский проспект</td>\n",
       "      <td>171</td>\n",
       "      <td>54</td>\n",
       "      <td>САО</td>\n",
       "      <td>Район Аэропорт</td>\n",
       "    </tr>\n",
       "    <tr>\n",
       "      <th>14</th>\n",
       "      <td>Ленинградский проспект</td>\n",
       "      <td>171</td>\n",
       "      <td>55</td>\n",
       "      <td>САО</td>\n",
       "      <td>Район Беговой</td>\n",
       "    </tr>\n",
       "    <tr>\n",
       "      <th>15</th>\n",
       "      <td>Ленинградский проспект</td>\n",
       "      <td>171</td>\n",
       "      <td>69</td>\n",
       "      <td>САО</td>\n",
       "      <td>Хорошевский район</td>\n",
       "    </tr>\n",
       "    <tr>\n",
       "      <th>16</th>\n",
       "      <td>Ленинградский проспект</td>\n",
       "      <td>171</td>\n",
       "      <td>66</td>\n",
       "      <td>САО</td>\n",
       "      <td>Район Сокол</td>\n",
       "    </tr>\n",
       "    <tr>\n",
       "      <th>17</th>\n",
       "      <td>Пресненская набережная</td>\n",
       "      <td>167</td>\n",
       "      <td>17</td>\n",
       "      <td>ЦАО</td>\n",
       "      <td>Пресненский район</td>\n",
       "    </tr>\n",
       "    <tr>\n",
       "      <th>18</th>\n",
       "      <td>Варшавское шоссе</td>\n",
       "      <td>161</td>\n",
       "      <td>109</td>\n",
       "      <td>ЮАО</td>\n",
       "      <td>Район Чертаново Центральное</td>\n",
       "    </tr>\n",
       "    <tr>\n",
       "      <th>19</th>\n",
       "      <td>Варшавское шоссе</td>\n",
       "      <td>161</td>\n",
       "      <td>108</td>\n",
       "      <td>ЮАО</td>\n",
       "      <td>Район Чертаново Северное</td>\n",
       "    </tr>\n",
       "    <tr>\n",
       "      <th>20</th>\n",
       "      <td>Варшавское шоссе</td>\n",
       "      <td>161</td>\n",
       "      <td>110</td>\n",
       "      <td>ЮАО</td>\n",
       "      <td>Район Чертаново Южное</td>\n",
       "    </tr>\n",
       "    <tr>\n",
       "      <th>21</th>\n",
       "      <td>Варшавское шоссе</td>\n",
       "      <td>161</td>\n",
       "      <td>99</td>\n",
       "      <td>ЮАО</td>\n",
       "      <td>Донской район</td>\n",
       "    </tr>\n",
       "    <tr>\n",
       "      <th>22</th>\n",
       "      <td>Варшавское шоссе</td>\n",
       "      <td>161</td>\n",
       "      <td>102</td>\n",
       "      <td>ЮАО</td>\n",
       "      <td>Район Нагатино-Садовники</td>\n",
       "    </tr>\n",
       "    <tr>\n",
       "      <th>23</th>\n",
       "      <td>Варшавское шоссе</td>\n",
       "      <td>161</td>\n",
       "      <td>104</td>\n",
       "      <td>ЮАО</td>\n",
       "      <td>Нагорный район</td>\n",
       "    </tr>\n",
       "    <tr>\n",
       "      <th>24</th>\n",
       "      <td>Варшавское шоссе</td>\n",
       "      <td>161</td>\n",
       "      <td>130</td>\n",
       "      <td>ЮЗАО</td>\n",
       "      <td>Район Северное Бутово</td>\n",
       "    </tr>\n",
       "    <tr>\n",
       "      <th>25</th>\n",
       "      <td>Варшавское шоссе</td>\n",
       "      <td>161</td>\n",
       "      <td>133</td>\n",
       "      <td>ЮЗАО</td>\n",
       "      <td>Район Южное Бутово</td>\n",
       "    </tr>\n",
       "    <tr>\n",
       "      <th>26</th>\n",
       "      <td>Ленинский проспект</td>\n",
       "      <td>147</td>\n",
       "      <td>44</td>\n",
       "      <td>ЗАО</td>\n",
       "      <td>Район Проспект Вернадского</td>\n",
       "    </tr>\n",
       "    <tr>\n",
       "      <th>27</th>\n",
       "      <td>Ленинский проспект</td>\n",
       "      <td>147</td>\n",
       "      <td>47</td>\n",
       "      <td>ЗАО</td>\n",
       "      <td>Район Тропарево-Никулино</td>\n",
       "    </tr>\n",
       "    <tr>\n",
       "      <th>28</th>\n",
       "      <td>Ленинский проспект</td>\n",
       "      <td>147</td>\n",
       "      <td>99</td>\n",
       "      <td>ЮАО</td>\n",
       "      <td>Донской район</td>\n",
       "    </tr>\n",
       "    <tr>\n",
       "      <th>29</th>\n",
       "      <td>Ленинский проспект</td>\n",
       "      <td>147</td>\n",
       "      <td>124</td>\n",
       "      <td>ЮЗАО</td>\n",
       "      <td>Район Гагаринский</td>\n",
       "    </tr>\n",
       "    <tr>\n",
       "      <th>30</th>\n",
       "      <td>Ленинский проспект</td>\n",
       "      <td>147</td>\n",
       "      <td>128</td>\n",
       "      <td>ЮЗАО</td>\n",
       "      <td>Ломоносовский район</td>\n",
       "    </tr>\n",
       "    <tr>\n",
       "      <th>31</th>\n",
       "      <td>Ленинский проспект</td>\n",
       "      <td>147</td>\n",
       "      <td>129</td>\n",
       "      <td>ЮЗАО</td>\n",
       "      <td>Обручевский район</td>\n",
       "    </tr>\n",
       "    <tr>\n",
       "      <th>32</th>\n",
       "      <td>Ленинский проспект</td>\n",
       "      <td>147</td>\n",
       "      <td>131</td>\n",
       "      <td>ЮЗАО</td>\n",
       "      <td>Район Теплый Стан</td>\n",
       "    </tr>\n",
       "    <tr>\n",
       "      <th>33</th>\n",
       "      <td>Ленинский проспект</td>\n",
       "      <td>147</td>\n",
       "      <td>21</td>\n",
       "      <td>ЦАО</td>\n",
       "      <td>Район Якиманка</td>\n",
       "    </tr>\n",
       "    <tr>\n",
       "      <th>34</th>\n",
       "      <td>проспект Вернадского</td>\n",
       "      <td>132</td>\n",
       "      <td>44</td>\n",
       "      <td>ЗАО</td>\n",
       "      <td>Район Проспект Вернадского</td>\n",
       "    </tr>\n",
       "    <tr>\n",
       "      <th>35</th>\n",
       "      <td>проспект Вернадского</td>\n",
       "      <td>132</td>\n",
       "      <td>45</td>\n",
       "      <td>ЗАО</td>\n",
       "      <td>Район Раменки</td>\n",
       "    </tr>\n",
       "    <tr>\n",
       "      <th>36</th>\n",
       "      <td>проспект Вернадского</td>\n",
       "      <td>132</td>\n",
       "      <td>47</td>\n",
       "      <td>ЗАО</td>\n",
       "      <td>Район Тропарево-Никулино</td>\n",
       "    </tr>\n",
       "    <tr>\n",
       "      <th>37</th>\n",
       "      <td>проспект Вернадского</td>\n",
       "      <td>132</td>\n",
       "      <td>124</td>\n",
       "      <td>ЮЗАО</td>\n",
       "      <td>Район Гагаринский</td>\n",
       "    </tr>\n",
       "    <tr>\n",
       "      <th>38</th>\n",
       "      <td>проспект Вернадского</td>\n",
       "      <td>132</td>\n",
       "      <td>128</td>\n",
       "      <td>ЮЗАО</td>\n",
       "      <td>Ломоносовский район</td>\n",
       "    </tr>\n",
       "    <tr>\n",
       "      <th>39</th>\n",
       "      <td>Кутузовский проспект</td>\n",
       "      <td>114</td>\n",
       "      <td>38</td>\n",
       "      <td>ЗАО</td>\n",
       "      <td>Район Дорогомилово</td>\n",
       "    </tr>\n",
       "    <tr>\n",
       "      <th>40</th>\n",
       "      <td>Кутузовский проспект</td>\n",
       "      <td>114</td>\n",
       "      <td>49</td>\n",
       "      <td>ЗАО</td>\n",
       "      <td>Район Фили-Давыдково</td>\n",
       "    </tr>\n",
       "    <tr>\n",
       "      <th>41</th>\n",
       "      <td>Каширское шоссе</td>\n",
       "      <td>112</td>\n",
       "      <td>101</td>\n",
       "      <td>ЮАО</td>\n",
       "      <td>Район Москворечье-Сабурово</td>\n",
       "    </tr>\n",
       "    <tr>\n",
       "      <th>42</th>\n",
       "      <td>Каширское шоссе</td>\n",
       "      <td>112</td>\n",
       "      <td>102</td>\n",
       "      <td>ЮАО</td>\n",
       "      <td>Район Нагатино-Садовники</td>\n",
       "    </tr>\n",
       "    <tr>\n",
       "      <th>43</th>\n",
       "      <td>Каширское шоссе</td>\n",
       "      <td>112</td>\n",
       "      <td>106</td>\n",
       "      <td>ЮАО</td>\n",
       "      <td>Район Орехово-Борисово Южное</td>\n",
       "    </tr>\n",
       "    <tr>\n",
       "      <th>44</th>\n",
       "      <td>Каширское шоссе</td>\n",
       "      <td>112</td>\n",
       "      <td>105</td>\n",
       "      <td>ЮАО</td>\n",
       "      <td>Район Орехово-Борисово Северное</td>\n",
       "    </tr>\n",
       "    <tr>\n",
       "      <th>45</th>\n",
       "      <td>Кировоградская улица</td>\n",
       "      <td>110</td>\n",
       "      <td>109</td>\n",
       "      <td>ЮАО</td>\n",
       "      <td>Район Чертаново Центральное</td>\n",
       "    </tr>\n",
       "    <tr>\n",
       "      <th>46</th>\n",
       "      <td>Кировоградская улица</td>\n",
       "      <td>110</td>\n",
       "      <td>108</td>\n",
       "      <td>ЮАО</td>\n",
       "      <td>Район Чертаново Северное</td>\n",
       "    </tr>\n",
       "    <tr>\n",
       "      <th>47</th>\n",
       "      <td>Кировоградская улица</td>\n",
       "      <td>110</td>\n",
       "      <td>110</td>\n",
       "      <td>ЮАО</td>\n",
       "      <td>Район Чертаново Южное</td>\n",
       "    </tr>\n",
       "  </tbody>\n",
       "</table>\n",
       "</div>"
      ],
      "text/plain": [
       "                    street   id  areaid okrug                             area\n",
       "0            проспект Мира  204      70  СВАО               Алексеевский район\n",
       "1            проспект Мира  204      86  СВАО                Ярославский Район\n",
       "2            проспект Мира  204      78  СВАО               Район Марьина роща\n",
       "3            проспект Мира  204      79  СВАО               Останкинский район\n",
       "4            проспект Мира  204      81  СВАО                  Район Ростокино\n",
       "5            проспект Мира  204      82  СВАО                   Район Свиблово\n",
       "6            проспект Мира  204      16   ЦАО                  Мещанский район\n",
       "7        Профсоюзная улица  182     123  ЮЗАО              Академический район\n",
       "8        Профсоюзная улица  182     132  ЮЗАО                  Район Черемушки\n",
       "9        Профсоюзная улица  182     134  ЮЗАО                    Район Ясенево\n",
       "10       Профсоюзная улица  182     126  ЮЗАО                   Район Коньково\n",
       "11       Профсоюзная улица  182     129  ЮЗАО                Обручевский район\n",
       "12       Профсоюзная улица  182     131  ЮЗАО                Район Теплый Стан\n",
       "13  Ленинградский проспект  171      54   САО                   Район Аэропорт\n",
       "14  Ленинградский проспект  171      55   САО                    Район Беговой\n",
       "15  Ленинградский проспект  171      69   САО                Хорошевский район\n",
       "16  Ленинградский проспект  171      66   САО                      Район Сокол\n",
       "17  Пресненская набережная  167      17   ЦАО                Пресненский район\n",
       "18        Варшавское шоссе  161     109   ЮАО      Район Чертаново Центральное\n",
       "19        Варшавское шоссе  161     108   ЮАО         Район Чертаново Северное\n",
       "20        Варшавское шоссе  161     110   ЮАО            Район Чертаново Южное\n",
       "21        Варшавское шоссе  161      99   ЮАО                    Донской район\n",
       "22        Варшавское шоссе  161     102   ЮАО         Район Нагатино-Садовники\n",
       "23        Варшавское шоссе  161     104   ЮАО                   Нагорный район\n",
       "24        Варшавское шоссе  161     130  ЮЗАО            Район Северное Бутово\n",
       "25        Варшавское шоссе  161     133  ЮЗАО               Район Южное Бутово\n",
       "26      Ленинский проспект  147      44   ЗАО       Район Проспект Вернадского\n",
       "27      Ленинский проспект  147      47   ЗАО         Район Тропарево-Никулино\n",
       "28      Ленинский проспект  147      99   ЮАО                    Донской район\n",
       "29      Ленинский проспект  147     124  ЮЗАО                Район Гагаринский\n",
       "30      Ленинский проспект  147     128  ЮЗАО              Ломоносовский район\n",
       "31      Ленинский проспект  147     129  ЮЗАО                Обручевский район\n",
       "32      Ленинский проспект  147     131  ЮЗАО                Район Теплый Стан\n",
       "33      Ленинский проспект  147      21   ЦАО                   Район Якиманка\n",
       "34    проспект Вернадского  132      44   ЗАО       Район Проспект Вернадского\n",
       "35    проспект Вернадского  132      45   ЗАО                    Район Раменки\n",
       "36    проспект Вернадского  132      47   ЗАО         Район Тропарево-Никулино\n",
       "37    проспект Вернадского  132     124  ЮЗАО                Район Гагаринский\n",
       "38    проспект Вернадского  132     128  ЮЗАО              Ломоносовский район\n",
       "39    Кутузовский проспект  114      38   ЗАО               Район Дорогомилово\n",
       "40    Кутузовский проспект  114      49   ЗАО             Район Фили-Давыдково\n",
       "41         Каширское шоссе  112     101   ЮАО       Район Москворечье-Сабурово\n",
       "42         Каширское шоссе  112     102   ЮАО         Район Нагатино-Садовники\n",
       "43         Каширское шоссе  112     106   ЮАО     Район Орехово-Борисово Южное\n",
       "44         Каширское шоссе  112     105   ЮАО  Район Орехово-Борисово Северное\n",
       "45    Кировоградская улица  110     109   ЮАО      Район Чертаново Центральное\n",
       "46    Кировоградская улица  110     108   ЮАО         Район Чертаново Северное\n",
       "47    Кировоградская улица  110     110   ЮАО            Район Чертаново Южное"
      ]
     },
     "execution_count": 71,
     "metadata": {},
     "output_type": "execute_result"
    }
   ],
   "source": [
    "top_streat_external  #просмотр таблицы"
   ]
  },
  {
   "cell_type": "code",
   "execution_count": 72,
   "metadata": {},
   "outputs": [
    {
     "data": {
      "text/plain": [
       "array(['Академический район', 'Алексеевский район', 'Донской район',\n",
       "       'Ломоносовский район', 'Мещанский район', 'Нагорный район',\n",
       "       'Обручевский район', 'Останкинский район', 'Пресненский район',\n",
       "       'Район Аэропорт', 'Район Беговой', 'Район Гагаринский',\n",
       "       'Район Дорогомилово', 'Район Коньково', 'Район Марьина роща',\n",
       "       'Район Москворечье-Сабурово', 'Район Нагатино-Садовники',\n",
       "       'Район Орехово-Борисово Северное', 'Район Орехово-Борисово Южное',\n",
       "       'Район Проспект Вернадского', 'Район Раменки', 'Район Ростокино',\n",
       "       'Район Свиблово', 'Район Северное Бутово', 'Район Сокол',\n",
       "       'Район Теплый Стан', 'Район Тропарево-Никулино',\n",
       "       'Район Фили-Давыдково', 'Район Черемушки',\n",
       "       'Район Чертаново Северное', 'Район Чертаново Центральное',\n",
       "       'Район Чертаново Южное', 'Район Южное Бутово', 'Район Якиманка',\n",
       "       'Район Ясенево', 'Хорошевский район', 'Ярославский Район'],\n",
       "      dtype=object)"
      ]
     },
     "execution_count": 72,
     "metadata": {},
     "output_type": "execute_result"
    }
   ],
   "source": [
    "top_streat_external['area'].sort_values().unique() #просмотр уникальных значений"
   ]
  },
  {
   "cell_type": "markdown",
   "metadata": {},
   "source": [
    "**Вывод:**"
   ]
  },
  {
   "cell_type": "markdown",
   "metadata": {},
   "source": [
    "В топ 10 улиц по кол-ву объектов общественного питания входят: проспект Мира, Профсоюзная улица, Ленинградский проспект, Пресненская набережная, Варшавское шоссе, Ленинский проспект, проспект Вернадского, Кутузовский проспект, Каширское шоссе, Кировоградская улица. Данные улицы проходят через 37 районов."
   ]
  },
  {
   "cell_type": "markdown",
   "metadata": {},
   "source": [
    "#### Найти число улиц с одним объектом общественного питания. Определить в каких районах Москвы находятся эти улицы\n",
    "<a id=\"h\"></a>  "
   ]
  },
  {
   "cell_type": "code",
   "execution_count": 73,
   "metadata": {},
   "outputs": [],
   "source": [
    "street_object = data.pivot_table(index='street', values='object_name', aggfunc='count').sort_values('object_name',ascending = False)\n",
    "#создание сводной таблицы"
   ]
  },
  {
   "cell_type": "code",
   "execution_count": 74,
   "metadata": {},
   "outputs": [],
   "source": [
    "street_object = street_object.reset_index(level=['street']) #изменение столбца индексов в таблице"
   ]
  },
  {
   "cell_type": "code",
   "execution_count": 75,
   "metadata": {},
   "outputs": [],
   "source": [
    "street_object = street_object.loc[street_object['object_name'] == 1].reset_index(drop=True) \n",
    "#применение к таблице определенного условия"
   ]
  },
  {
   "cell_type": "code",
   "execution_count": 76,
   "metadata": {},
   "outputs": [
    {
     "data": {
      "text/html": [
       "<div>\n",
       "<style scoped>\n",
       "    .dataframe tbody tr th:only-of-type {\n",
       "        vertical-align: middle;\n",
       "    }\n",
       "\n",
       "    .dataframe tbody tr th {\n",
       "        vertical-align: top;\n",
       "    }\n",
       "\n",
       "    .dataframe thead th {\n",
       "        text-align: right;\n",
       "    }\n",
       "</style>\n",
       "<table border=\"1\" class=\"dataframe\">\n",
       "  <thead>\n",
       "    <tr style=\"text-align: right;\">\n",
       "      <th></th>\n",
       "      <th>street</th>\n",
       "      <th>object_name</th>\n",
       "    </tr>\n",
       "  </thead>\n",
       "  <tbody>\n",
       "    <tr>\n",
       "      <th>0</th>\n",
       "      <td>2-я Ямская улица</td>\n",
       "      <td>1</td>\n",
       "    </tr>\n",
       "    <tr>\n",
       "      <th>1</th>\n",
       "      <td>улица Зенитчиков</td>\n",
       "      <td>1</td>\n",
       "    </tr>\n",
       "    <tr>\n",
       "      <th>2</th>\n",
       "      <td>улица Фонвизина</td>\n",
       "      <td>1</td>\n",
       "    </tr>\n",
       "    <tr>\n",
       "      <th>3</th>\n",
       "      <td>1-й Магистральный тупик</td>\n",
       "      <td>1</td>\n",
       "    </tr>\n",
       "    <tr>\n",
       "      <th>4</th>\n",
       "      <td>улица Фадеева</td>\n",
       "      <td>1</td>\n",
       "    </tr>\n",
       "    <tr>\n",
       "      <th>...</th>\n",
       "      <td>...</td>\n",
       "      <td>...</td>\n",
       "    </tr>\n",
       "    <tr>\n",
       "      <th>517</th>\n",
       "      <td>Электрический переулок</td>\n",
       "      <td>1</td>\n",
       "    </tr>\n",
       "    <tr>\n",
       "      <th>518</th>\n",
       "      <td>Зарайская улица</td>\n",
       "      <td>1</td>\n",
       "    </tr>\n",
       "    <tr>\n",
       "      <th>519</th>\n",
       "      <td>Заводской проезд</td>\n",
       "      <td>1</td>\n",
       "    </tr>\n",
       "    <tr>\n",
       "      <th>520</th>\n",
       "      <td>Жуков проезд</td>\n",
       "      <td>1</td>\n",
       "    </tr>\n",
       "    <tr>\n",
       "      <th>521</th>\n",
       "      <td>Гаражная улица</td>\n",
       "      <td>1</td>\n",
       "    </tr>\n",
       "  </tbody>\n",
       "</table>\n",
       "<p>522 rows × 2 columns</p>\n",
       "</div>"
      ],
      "text/plain": [
       "                      street  object_name\n",
       "0           2-я Ямская улица            1\n",
       "1           улица Зенитчиков            1\n",
       "2            улица Фонвизина            1\n",
       "3    1-й Магистральный тупик            1\n",
       "4              улица Фадеева            1\n",
       "..                       ...          ...\n",
       "517   Электрический переулок            1\n",
       "518          Зарайская улица            1\n",
       "519         Заводской проезд            1\n",
       "520             Жуков проезд            1\n",
       "521           Гаражная улица            1\n",
       "\n",
       "[522 rows x 2 columns]"
      ]
     },
     "execution_count": 76,
     "metadata": {},
     "output_type": "execute_result"
    }
   ],
   "source": [
    "street_object #просмотр таблицы"
   ]
  },
  {
   "cell_type": "code",
   "execution_count": 77,
   "metadata": {
    "scrolled": true
   },
   "outputs": [
    {
     "data": {
      "text/plain": [
       "Интернациональная улица        1\n",
       "Молодёжная улица               1\n",
       "4-й Вятский переулок           1\n",
       "Пестовский переулок            1\n",
       "Малая Андроньевская улица      1\n",
       "                              ..\n",
       "переулок Красина               1\n",
       "Петровско-Разумовская аллея    1\n",
       "Уржумская улица                1\n",
       "4-я Кабельная улица            1\n",
       "Рижский проезд                 1\n",
       "Name: street, Length: 522, dtype: int64"
      ]
     },
     "execution_count": 77,
     "metadata": {},
     "output_type": "execute_result"
    }
   ],
   "source": [
    "street_object['street'].value_counts() #нахождение уникальных значений"
   ]
  },
  {
   "cell_type": "code",
   "execution_count": 78,
   "metadata": {},
   "outputs": [],
   "source": [
    "data_streat_external = pd.merge(street_object, data_streat, how='left') #объединение двух датасетов"
   ]
  },
  {
   "cell_type": "code",
   "execution_count": 79,
   "metadata": {},
   "outputs": [
    {
     "data": {
      "text/plain": [
       "array(['Алексеевский район', 'Алтуфьевский район', 'Бабушкинский район',\n",
       "       'Басманный район', 'Бескудниковский Район', 'Бутырский район',\n",
       "       'Войковский Район', 'Головинский район', 'Даниловский район',\n",
       "       'Дмитровский район', 'Донской район', 'Красносельский район',\n",
       "       'Лосиноостровский район', 'Мещанский район', 'Можайский Район',\n",
       "       'Молжаниновский район', 'Нагорный район', 'Нижегородский район',\n",
       "       'Обручевский район', 'Останкинский район', 'Пресненский район',\n",
       "       'Район Арбат', 'Район Аэропорт', 'Район Беговой',\n",
       "       'Район Бирюлево Восточное', 'Район Богородское', 'Район Внуково',\n",
       "       'Район Восточное Измайлово', 'Район Восточный',\n",
       "       'Район Выхино-Жулебино', 'Район Гагаринский', 'Район Гольяново',\n",
       "       'Район Дорогомилово', 'Район Замоскворечье',\n",
       "       'Район Западное Дегунино', 'Район Зюзино', 'Район Ивановское',\n",
       "       'Район Измайлово', 'Район Коньково', 'Район Коптево',\n",
       "       'Район Косино-Ухтомский', 'Район Котловка', 'Район Кузьминки',\n",
       "       'Район Кунцево', 'Район Куркино', 'Район Левобережный',\n",
       "       'Район Лефортово', 'Район Люблино', 'Район Марфино',\n",
       "       'Район Марьина роща', 'Район Марьино', 'Район Матушкино-Савелки',\n",
       "       'Район Метрогородок', 'Район Митино', 'Район Москворечье-Сабурово',\n",
       "       'Район Нагатино-Садовники', 'Район Ново-Переделкино',\n",
       "       'Район Новогиреево', 'Район Отрадное', 'Район Очаково-Матвеевское',\n",
       "       'Район Перово', 'Район Печатники', 'Район Покровское-Стрешнево',\n",
       "       'Район Преображенское', 'Район Раменки', 'Район Ростокино',\n",
       "       'Район Свиблово', 'Район Северное Бутово',\n",
       "       'Район Северное Измайлово', 'Район Северное Медведково',\n",
       "       'Район Северный', 'Район Сокол', 'Район Соколиная Гора',\n",
       "       'Район Сокольники', 'Район Солнцево', 'Район Строгино',\n",
       "       'Район Текстильщики', 'Район Филевский Парк',\n",
       "       'Район Фили-Давыдково', 'Район Хамовники',\n",
       "       'Район Хорошево-Мневники', 'Район Царицыно', 'Район Черемушки',\n",
       "       'Район Чертаново Северное', 'Район Чертаново Южное',\n",
       "       'Район Щукино', 'Район Южное Бутово', 'Район Южное Медведково',\n",
       "       'Район Южное Тушино', 'Район Якиманка', 'Район Ясенево',\n",
       "       'Рязанский район', 'Савеловский район', 'Таганский район',\n",
       "       'Тверской район', 'Тимирязевский Район', 'Хорошевский район',\n",
       "       'Южнопортовый Район', 'Ярославский Район', nan], dtype=object)"
      ]
     },
     "execution_count": 79,
     "metadata": {},
     "output_type": "execute_result"
    }
   ],
   "source": [
    "data_streat_external['area'].sort_values().unique() #просмотр уникальных значений"
   ]
  },
  {
   "cell_type": "markdown",
   "metadata": {},
   "source": [
    "**Вывод:**"
   ]
  },
  {
   "cell_type": "markdown",
   "metadata": {},
   "source": [
    "На 522 улицах(в 99 районах), присутствуют один объект общественного питания."
   ]
  },
  {
   "cell_type": "markdown",
   "metadata": {},
   "source": [
    "### Общий вывод:\n",
    "<a id=\"end\"></a> "
   ]
  },
  {
   "cell_type": "markdown",
   "metadata": {},
   "source": [
    "При проверке датасета явные и не были обнаружены. Из всех столбцов не должно быть дубликатов в столбце идентификатор объекта, в других столбцах выявлено 85 неявных дубликатов. Но у них индивидуальный идентификационный номер, без дополнительной информации невозможно понять почему так произошло. Типы данных соответствуют информации содержащийся в столбцах. Так же явные и неявные дубликаты не были обнаружены.\n",
    "\n",
    "При анализе данных было выяснено, что: \n",
    "1. Больше всего объектов типов \"кафе\", меньше всего \"магазин (отдел кулинарии)\";\n",
    "2. Больше всего не сетевых мест(81%);\n",
    "3. Сетевое распространение характерно для заведений типа \"кафе\", не характерно для типа \"столовая\";\n",
    "4. На диаграмме видно, что у сетевых заведений больше распространено мало посадочных мест(до 58).\n",
    "5. По среднему показателю, самое большое среднее количество посадочных мест в типе \"Столовая\", а самое маленькое в \"магазин (отдел кулинарии)\". По медианному показателю данные немного отличаются, но самое большое значение так же у \"Столовая\", а самое маленькое разделяют \"Закусочная\" и \"магазин (отдел кулинарии)\".;\n",
    "6. В топ 10 улиц по кол-ву объектов общественного питания входят: проспект Мира, Профсоюзная улица, Ленинградский проспект, Пресненская набережная, Варшавское шоссе, Ленинский проспект, проспект Вернадского, Кутузовский проспект, Каширское шоссе, Кировоградская улица. Данные улицы проходят через 37 районов.\n",
    "7. На 522 улицах(в 99 районах), присутствуют один объект общественного питания."
   ]
  },
  {
   "cell_type": "markdown",
   "metadata": {},
   "source": [
    "**Рекомендации:** "
   ]
  },
  {
   "cell_type": "markdown",
   "metadata": {},
   "source": [
    "Самый популярный тип объекта общественного питания это \"Кафе\", тем самым можно предположить что на этот тип идет больших спрос. Так же более распространены несетевые места с малым количеством  мест(до 58), тем самым количество мест до 58 является оптимальным. На объектах типа \"Кафе\" среднее значение посадочных мест 40, а медианное значение 30. \n",
    "\n",
    "С улицами немного сложнее, нужно учитывать больше параметров чем имеется. Тем самым  лучше располагать Кафе на улице с меньшим количеством  объектов общественного питания, тем самым избегая для нового объекта большой конкуренции. Но так же надо учитывать расположение и проходимость улиц(в нашем случае этих данных нет), так как чем больше проходимость, тем больше вероятность большего притока новых клиентов. Так же многое зависит от рекламной компании проекта, чем лучше кампания тем больше вероятность, что Кафе будет конкурентно способным(так как о нем будет знать больше людей), даже на улицах с большим кол-вом других мест общественного  питания."
   ]
  },
  {
   "cell_type": "markdown",
   "metadata": {},
   "source": [
    "**Презентация:**"
   ]
  },
  {
   "cell_type": "markdown",
   "metadata": {},
   "source": [
    "https://drive.google.com/file/d/1jsLG-OECXi6--c_uFBCrkAIV8MBDFvlf/view?usp=sharing"
   ]
  }
 ],
 "metadata": {
  "ExecuteTimeLog": [
   {
    "duration": 43,
    "start_time": "2022-06-14T15:13:58.904Z"
   },
   {
    "duration": 419,
    "start_time": "2022-06-14T15:14:03.576Z"
   },
   {
    "duration": 110,
    "start_time": "2022-06-14T15:14:04.035Z"
   },
   {
    "duration": 16,
    "start_time": "2022-06-14T15:14:04.813Z"
   },
   {
    "duration": 12,
    "start_time": "2022-06-14T15:14:33.465Z"
   },
   {
    "duration": 8,
    "start_time": "2022-06-14T15:26:25.943Z"
   },
   {
    "duration": 30,
    "start_time": "2022-06-14T15:28:59.397Z"
   },
   {
    "duration": 26,
    "start_time": "2022-06-14T15:31:19.810Z"
   },
   {
    "duration": 25,
    "start_time": "2022-06-14T15:31:37.239Z"
   },
   {
    "duration": 14,
    "start_time": "2022-06-14T15:31:54.696Z"
   },
   {
    "duration": 14,
    "start_time": "2022-06-14T15:32:06.139Z"
   },
   {
    "duration": 16,
    "start_time": "2022-06-14T15:32:35.530Z"
   },
   {
    "duration": 6,
    "start_time": "2022-06-14T15:33:20.209Z"
   },
   {
    "duration": 11,
    "start_time": "2022-06-14T15:34:21.574Z"
   },
   {
    "duration": 6,
    "start_time": "2022-06-14T15:35:26.807Z"
   },
   {
    "duration": 15,
    "start_time": "2022-06-14T15:35:44.090Z"
   },
   {
    "duration": 6,
    "start_time": "2022-06-14T15:36:53.088Z"
   },
   {
    "duration": 6,
    "start_time": "2022-06-14T15:37:14.104Z"
   },
   {
    "duration": 19,
    "start_time": "2022-06-14T15:37:37.871Z"
   },
   {
    "duration": 11,
    "start_time": "2022-06-14T15:40:33.721Z"
   },
   {
    "duration": 19,
    "start_time": "2022-06-14T15:40:34.220Z"
   },
   {
    "duration": 6,
    "start_time": "2022-06-14T15:40:39.722Z"
   },
   {
    "duration": 10,
    "start_time": "2022-06-14T15:40:40.422Z"
   },
   {
    "duration": 15,
    "start_time": "2022-06-14T15:41:08.403Z"
   },
   {
    "duration": 16,
    "start_time": "2022-06-14T15:41:26.695Z"
   },
   {
    "duration": 16,
    "start_time": "2022-06-14T15:41:32.113Z"
   },
   {
    "duration": 15,
    "start_time": "2022-06-14T15:41:52.433Z"
   },
   {
    "duration": 11,
    "start_time": "2022-06-14T15:42:31.365Z"
   },
   {
    "duration": 6,
    "start_time": "2022-06-14T15:48:33.528Z"
   },
   {
    "duration": 6,
    "start_time": "2022-06-14T15:48:51.545Z"
   },
   {
    "duration": 332,
    "start_time": "2022-06-14T15:49:14.837Z"
   },
   {
    "duration": 62,
    "start_time": "2022-06-14T15:49:15.170Z"
   },
   {
    "duration": 12,
    "start_time": "2022-06-14T15:49:15.234Z"
   },
   {
    "duration": 17,
    "start_time": "2022-06-14T15:49:15.248Z"
   },
   {
    "duration": 24,
    "start_time": "2022-06-14T15:49:15.266Z"
   },
   {
    "duration": 9,
    "start_time": "2022-06-14T15:49:15.292Z"
   },
   {
    "duration": 32,
    "start_time": "2022-06-14T15:49:15.303Z"
   },
   {
    "duration": 11,
    "start_time": "2022-06-14T15:49:15.337Z"
   },
   {
    "duration": 17,
    "start_time": "2022-06-14T15:49:15.350Z"
   },
   {
    "duration": 31,
    "start_time": "2022-06-14T15:49:15.370Z"
   },
   {
    "duration": 7,
    "start_time": "2022-06-14T15:49:15.403Z"
   },
   {
    "duration": 373,
    "start_time": "2022-06-14T15:52:41.506Z"
   },
   {
    "duration": 934,
    "start_time": "2022-06-14T15:52:41.881Z"
   },
   {
    "duration": 62,
    "start_time": "2022-06-14T15:52:42.816Z"
   },
   {
    "duration": 13,
    "start_time": "2022-06-14T15:52:42.880Z"
   },
   {
    "duration": 14,
    "start_time": "2022-06-14T15:52:42.894Z"
   },
   {
    "duration": 18,
    "start_time": "2022-06-14T15:52:42.910Z"
   },
   {
    "duration": 9,
    "start_time": "2022-06-14T15:52:42.929Z"
   },
   {
    "duration": 19,
    "start_time": "2022-06-14T15:52:42.940Z"
   },
   {
    "duration": 6,
    "start_time": "2022-06-14T15:52:42.978Z"
   },
   {
    "duration": 8,
    "start_time": "2022-06-14T15:52:42.986Z"
   },
   {
    "duration": 13,
    "start_time": "2022-06-14T15:52:42.995Z"
   },
   {
    "duration": 7,
    "start_time": "2022-06-14T15:52:43.010Z"
   },
   {
    "duration": 93,
    "start_time": "2022-06-14T15:54:22.864Z"
   },
   {
    "duration": 9,
    "start_time": "2022-06-14T15:54:34.750Z"
   },
   {
    "duration": 392,
    "start_time": "2022-06-14T16:05:07.513Z"
   },
   {
    "duration": 198,
    "start_time": "2022-06-14T16:05:07.909Z"
   },
   {
    "duration": 445,
    "start_time": "2022-06-14T16:05:08.108Z"
   },
   {
    "duration": 63,
    "start_time": "2022-06-14T16:05:08.555Z"
   },
   {
    "duration": 13,
    "start_time": "2022-06-14T16:05:08.619Z"
   },
   {
    "duration": 13,
    "start_time": "2022-06-14T16:05:08.633Z"
   },
   {
    "duration": 17,
    "start_time": "2022-06-14T16:05:08.648Z"
   },
   {
    "duration": 19,
    "start_time": "2022-06-14T16:05:08.666Z"
   },
   {
    "duration": 21,
    "start_time": "2022-06-14T16:05:08.687Z"
   },
   {
    "duration": 6,
    "start_time": "2022-06-14T16:05:08.710Z"
   },
   {
    "duration": 8,
    "start_time": "2022-06-14T16:05:08.717Z"
   },
   {
    "duration": 13,
    "start_time": "2022-06-14T16:05:08.726Z"
   },
   {
    "duration": 7,
    "start_time": "2022-06-14T16:05:08.741Z"
   },
   {
    "duration": 28,
    "start_time": "2022-06-14T16:05:08.750Z"
   },
   {
    "duration": 5,
    "start_time": "2022-06-14T16:05:08.780Z"
   },
   {
    "duration": 93,
    "start_time": "2022-06-14T16:05:08.786Z"
   },
   {
    "duration": 141,
    "start_time": "2022-06-14T16:05:53.720Z"
   },
   {
    "duration": 113,
    "start_time": "2022-06-14T16:11:38.592Z"
   },
   {
    "duration": 115,
    "start_time": "2022-06-14T16:11:42.392Z"
   },
   {
    "duration": 112,
    "start_time": "2022-06-14T16:11:50.208Z"
   },
   {
    "duration": 141,
    "start_time": "2022-06-14T16:15:24.514Z"
   },
   {
    "duration": 121,
    "start_time": "2022-06-14T16:15:30.089Z"
   },
   {
    "duration": 96,
    "start_time": "2022-06-14T16:19:30.925Z"
   },
   {
    "duration": 82,
    "start_time": "2022-06-14T16:19:44.031Z"
   },
   {
    "duration": 171,
    "start_time": "2022-06-14T16:20:36.382Z"
   },
   {
    "duration": 116,
    "start_time": "2022-06-14T16:20:51.130Z"
   },
   {
    "duration": 127,
    "start_time": "2022-06-14T16:55:34.039Z"
   },
   {
    "duration": 52,
    "start_time": "2022-06-15T16:30:40.542Z"
   },
   {
    "duration": 426,
    "start_time": "2022-06-15T16:30:46.323Z"
   },
   {
    "duration": 349,
    "start_time": "2022-06-15T16:30:46.752Z"
   },
   {
    "duration": 561,
    "start_time": "2022-06-15T16:30:47.102Z"
   },
   {
    "duration": 247,
    "start_time": "2022-06-15T16:30:47.665Z"
   },
   {
    "duration": 18,
    "start_time": "2022-06-15T16:30:47.914Z"
   },
   {
    "duration": 12,
    "start_time": "2022-06-15T16:30:47.933Z"
   },
   {
    "duration": 18,
    "start_time": "2022-06-15T16:30:47.948Z"
   },
   {
    "duration": 10,
    "start_time": "2022-06-15T16:30:47.967Z"
   },
   {
    "duration": 24,
    "start_time": "2022-06-15T16:30:47.979Z"
   },
   {
    "duration": 6,
    "start_time": "2022-06-15T16:30:48.005Z"
   },
   {
    "duration": 13,
    "start_time": "2022-06-15T16:30:48.013Z"
   },
   {
    "duration": 39,
    "start_time": "2022-06-15T16:30:48.028Z"
   },
   {
    "duration": 7,
    "start_time": "2022-06-15T16:30:48.069Z"
   },
   {
    "duration": 115,
    "start_time": "2022-06-15T16:30:48.077Z"
   },
   {
    "duration": 0,
    "start_time": "2022-06-15T16:30:48.194Z"
   },
   {
    "duration": 0,
    "start_time": "2022-06-15T16:30:48.195Z"
   },
   {
    "duration": 0,
    "start_time": "2022-06-15T16:30:48.196Z"
   },
   {
    "duration": 14,
    "start_time": "2022-06-15T16:31:02.196Z"
   },
   {
    "duration": 9,
    "start_time": "2022-06-15T16:31:13.599Z"
   },
   {
    "duration": 10,
    "start_time": "2022-06-15T16:31:45.666Z"
   },
   {
    "duration": 9,
    "start_time": "2022-06-15T16:31:47.331Z"
   },
   {
    "duration": 11,
    "start_time": "2022-06-15T16:37:43.189Z"
   },
   {
    "duration": 10,
    "start_time": "2022-06-15T16:40:28.727Z"
   },
   {
    "duration": 12,
    "start_time": "2022-06-15T16:40:42.202Z"
   },
   {
    "duration": 9,
    "start_time": "2022-06-15T16:42:25.645Z"
   },
   {
    "duration": 8,
    "start_time": "2022-06-15T16:47:32.093Z"
   },
   {
    "duration": 10,
    "start_time": "2022-06-15T16:47:33.017Z"
   },
   {
    "duration": 8,
    "start_time": "2022-06-15T16:47:42.705Z"
   },
   {
    "duration": 6,
    "start_time": "2022-06-15T16:47:52.271Z"
   },
   {
    "duration": 364,
    "start_time": "2022-06-15T16:47:57.696Z"
   },
   {
    "duration": 191,
    "start_time": "2022-06-15T16:47:58.062Z"
   },
   {
    "duration": 495,
    "start_time": "2022-06-15T16:47:58.255Z"
   },
   {
    "duration": 84,
    "start_time": "2022-06-15T16:47:58.752Z"
   },
   {
    "duration": 12,
    "start_time": "2022-06-15T16:47:58.838Z"
   },
   {
    "duration": 13,
    "start_time": "2022-06-15T16:47:58.852Z"
   },
   {
    "duration": 24,
    "start_time": "2022-06-15T16:47:58.866Z"
   },
   {
    "duration": 10,
    "start_time": "2022-06-15T16:47:58.891Z"
   },
   {
    "duration": 22,
    "start_time": "2022-06-15T16:47:58.903Z"
   },
   {
    "duration": 7,
    "start_time": "2022-06-15T16:47:58.927Z"
   },
   {
    "duration": 11,
    "start_time": "2022-06-15T16:47:58.935Z"
   },
   {
    "duration": 24,
    "start_time": "2022-06-15T16:47:58.947Z"
   },
   {
    "duration": 6,
    "start_time": "2022-06-15T16:47:58.973Z"
   },
   {
    "duration": 12,
    "start_time": "2022-06-15T16:47:58.980Z"
   },
   {
    "duration": 5,
    "start_time": "2022-06-15T16:47:58.994Z"
   },
   {
    "duration": 11,
    "start_time": "2022-06-15T16:47:59.001Z"
   },
   {
    "duration": 13,
    "start_time": "2022-06-15T16:47:59.013Z"
   },
   {
    "duration": 31,
    "start_time": "2022-06-15T16:47:59.028Z"
   },
   {
    "duration": 14,
    "start_time": "2022-06-15T16:51:59.493Z"
   },
   {
    "duration": 92,
    "start_time": "2022-06-15T16:53:55.765Z"
   },
   {
    "duration": 11,
    "start_time": "2022-06-15T16:54:00.519Z"
   },
   {
    "duration": 7,
    "start_time": "2022-06-15T16:54:00.866Z"
   },
   {
    "duration": 7,
    "start_time": "2022-06-15T16:57:18.461Z"
   },
   {
    "duration": 424,
    "start_time": "2022-06-15T16:57:26.748Z"
   },
   {
    "duration": 249,
    "start_time": "2022-06-15T16:57:27.174Z"
   },
   {
    "duration": 517,
    "start_time": "2022-06-15T16:57:27.425Z"
   },
   {
    "duration": 66,
    "start_time": "2022-06-15T16:57:27.944Z"
   },
   {
    "duration": 16,
    "start_time": "2022-06-15T16:57:28.013Z"
   },
   {
    "duration": 25,
    "start_time": "2022-06-15T16:57:28.031Z"
   },
   {
    "duration": 31,
    "start_time": "2022-06-15T16:57:28.058Z"
   },
   {
    "duration": 27,
    "start_time": "2022-06-15T16:57:28.091Z"
   },
   {
    "duration": 49,
    "start_time": "2022-06-15T16:57:28.120Z"
   },
   {
    "duration": 22,
    "start_time": "2022-06-15T16:57:28.171Z"
   },
   {
    "duration": 59,
    "start_time": "2022-06-15T16:57:28.195Z"
   },
   {
    "duration": 24,
    "start_time": "2022-06-15T16:57:28.258Z"
   },
   {
    "duration": 20,
    "start_time": "2022-06-15T16:57:28.285Z"
   },
   {
    "duration": 35,
    "start_time": "2022-06-15T16:57:28.309Z"
   },
   {
    "duration": 40,
    "start_time": "2022-06-15T16:57:28.346Z"
   },
   {
    "duration": 26,
    "start_time": "2022-06-15T16:57:28.388Z"
   },
   {
    "duration": 25,
    "start_time": "2022-06-15T16:57:28.416Z"
   },
   {
    "duration": 20,
    "start_time": "2022-06-15T16:57:28.443Z"
   },
   {
    "duration": 23,
    "start_time": "2022-06-15T16:57:28.465Z"
   },
   {
    "duration": 27,
    "start_time": "2022-06-15T16:57:28.490Z"
   },
   {
    "duration": 35,
    "start_time": "2022-06-15T16:57:28.519Z"
   },
   {
    "duration": 0,
    "start_time": "2022-06-15T16:57:28.556Z"
   },
   {
    "duration": 6,
    "start_time": "2022-06-15T16:57:34.518Z"
   },
   {
    "duration": 14,
    "start_time": "2022-06-15T16:57:35.100Z"
   },
   {
    "duration": 18,
    "start_time": "2022-06-15T16:58:33.702Z"
   },
   {
    "duration": 94,
    "start_time": "2022-06-15T16:59:32.505Z"
   },
   {
    "duration": 9,
    "start_time": "2022-06-15T16:59:37.545Z"
   },
   {
    "duration": 15,
    "start_time": "2022-06-15T16:59:49.860Z"
   },
   {
    "duration": 9,
    "start_time": "2022-06-15T17:01:39.441Z"
   },
   {
    "duration": 9,
    "start_time": "2022-06-15T17:01:54.978Z"
   },
   {
    "duration": 14,
    "start_time": "2022-06-15T17:03:09.316Z"
   },
   {
    "duration": 10,
    "start_time": "2022-06-15T17:03:39.128Z"
   },
   {
    "duration": 12,
    "start_time": "2022-06-15T17:05:12.773Z"
   },
   {
    "duration": 465,
    "start_time": "2022-06-15T17:05:16.157Z"
   },
   {
    "duration": 236,
    "start_time": "2022-06-15T17:05:16.624Z"
   },
   {
    "duration": 493,
    "start_time": "2022-06-15T17:05:16.862Z"
   },
   {
    "duration": 66,
    "start_time": "2022-06-15T17:05:17.356Z"
   },
   {
    "duration": 13,
    "start_time": "2022-06-15T17:05:17.424Z"
   },
   {
    "duration": 15,
    "start_time": "2022-06-15T17:05:17.439Z"
   },
   {
    "duration": 35,
    "start_time": "2022-06-15T17:05:17.463Z"
   },
   {
    "duration": 14,
    "start_time": "2022-06-15T17:05:17.500Z"
   },
   {
    "duration": 32,
    "start_time": "2022-06-15T17:05:17.516Z"
   },
   {
    "duration": 13,
    "start_time": "2022-06-15T17:05:17.550Z"
   },
   {
    "duration": 20,
    "start_time": "2022-06-15T17:05:17.565Z"
   },
   {
    "duration": 23,
    "start_time": "2022-06-15T17:05:17.588Z"
   },
   {
    "duration": 10,
    "start_time": "2022-06-15T17:05:17.613Z"
   },
   {
    "duration": 20,
    "start_time": "2022-06-15T17:05:17.625Z"
   },
   {
    "duration": 16,
    "start_time": "2022-06-15T17:05:17.647Z"
   },
   {
    "duration": 18,
    "start_time": "2022-06-15T17:05:17.664Z"
   },
   {
    "duration": 16,
    "start_time": "2022-06-15T17:05:17.684Z"
   },
   {
    "duration": 9,
    "start_time": "2022-06-15T17:05:17.702Z"
   },
   {
    "duration": 24,
    "start_time": "2022-06-15T17:05:17.713Z"
   },
   {
    "duration": 7,
    "start_time": "2022-06-15T17:05:17.740Z"
   },
   {
    "duration": 10,
    "start_time": "2022-06-15T17:05:17.759Z"
   },
   {
    "duration": 25,
    "start_time": "2022-06-15T17:05:17.771Z"
   },
   {
    "duration": 117,
    "start_time": "2022-06-15T17:05:17.798Z"
   },
   {
    "duration": 19,
    "start_time": "2022-06-15T17:05:31.864Z"
   },
   {
    "duration": 12,
    "start_time": "2022-06-15T17:06:38.710Z"
   },
   {
    "duration": 6,
    "start_time": "2022-06-15T17:06:43.027Z"
   },
   {
    "duration": 14,
    "start_time": "2022-06-15T17:06:43.538Z"
   },
   {
    "duration": 10,
    "start_time": "2022-06-15T17:06:46.087Z"
   },
   {
    "duration": 10,
    "start_time": "2022-06-15T17:06:57.432Z"
   },
   {
    "duration": 10,
    "start_time": "2022-06-15T17:06:57.837Z"
   },
   {
    "duration": 12,
    "start_time": "2022-06-15T17:14:26.502Z"
   },
   {
    "duration": 9,
    "start_time": "2022-06-15T17:14:26.942Z"
   },
   {
    "duration": 12,
    "start_time": "2022-06-15T17:15:01.582Z"
   },
   {
    "duration": 6,
    "start_time": "2022-06-15T17:15:07.808Z"
   },
   {
    "duration": 30,
    "start_time": "2022-06-15T17:15:34.684Z"
   },
   {
    "duration": 17,
    "start_time": "2022-06-15T17:15:41.873Z"
   },
   {
    "duration": 14,
    "start_time": "2022-06-15T17:15:46.154Z"
   },
   {
    "duration": 6,
    "start_time": "2022-06-15T17:15:46.794Z"
   },
   {
    "duration": 382,
    "start_time": "2022-06-15T17:15:58.189Z"
   },
   {
    "duration": 227,
    "start_time": "2022-06-15T17:15:58.573Z"
   },
   {
    "duration": 522,
    "start_time": "2022-06-15T17:15:58.802Z"
   },
   {
    "duration": 72,
    "start_time": "2022-06-15T17:15:59.326Z"
   },
   {
    "duration": 17,
    "start_time": "2022-06-15T17:15:59.400Z"
   },
   {
    "duration": 16,
    "start_time": "2022-06-15T17:15:59.418Z"
   },
   {
    "duration": 42,
    "start_time": "2022-06-15T17:15:59.436Z"
   },
   {
    "duration": 14,
    "start_time": "2022-06-15T17:15:59.480Z"
   },
   {
    "duration": 44,
    "start_time": "2022-06-15T17:15:59.495Z"
   },
   {
    "duration": 7,
    "start_time": "2022-06-15T17:15:59.542Z"
   },
   {
    "duration": 26,
    "start_time": "2022-06-15T17:15:59.550Z"
   },
   {
    "duration": 23,
    "start_time": "2022-06-15T17:15:59.579Z"
   },
   {
    "duration": 19,
    "start_time": "2022-06-15T17:15:59.604Z"
   },
   {
    "duration": 14,
    "start_time": "2022-06-15T17:15:59.625Z"
   },
   {
    "duration": 29,
    "start_time": "2022-06-15T17:15:59.641Z"
   },
   {
    "duration": 23,
    "start_time": "2022-06-15T17:15:59.672Z"
   },
   {
    "duration": 32,
    "start_time": "2022-06-15T17:15:59.697Z"
   },
   {
    "duration": 46,
    "start_time": "2022-06-15T17:15:59.731Z"
   },
   {
    "duration": 20,
    "start_time": "2022-06-15T17:15:59.779Z"
   },
   {
    "duration": 22,
    "start_time": "2022-06-15T17:15:59.801Z"
   },
   {
    "duration": 21,
    "start_time": "2022-06-15T17:15:59.825Z"
   },
   {
    "duration": 45,
    "start_time": "2022-06-15T17:15:59.848Z"
   },
   {
    "duration": 14,
    "start_time": "2022-06-15T17:15:59.895Z"
   },
   {
    "duration": 25,
    "start_time": "2022-06-15T17:15:59.911Z"
   },
   {
    "duration": 38,
    "start_time": "2022-06-15T17:15:59.937Z"
   },
   {
    "duration": 22,
    "start_time": "2022-06-15T18:14:19.270Z"
   },
   {
    "duration": 22,
    "start_time": "2022-06-15T18:14:21.215Z"
   },
   {
    "duration": 107,
    "start_time": "2022-06-15T18:23:25.589Z"
   },
   {
    "duration": 11,
    "start_time": "2022-06-15T18:23:44.656Z"
   },
   {
    "duration": 13,
    "start_time": "2022-06-15T18:23:55.329Z"
   },
   {
    "duration": 15,
    "start_time": "2022-06-15T18:23:56.017Z"
   },
   {
    "duration": 413,
    "start_time": "2022-06-15T18:23:59.256Z"
   },
   {
    "duration": 216,
    "start_time": "2022-06-15T18:23:59.671Z"
   },
   {
    "duration": 470,
    "start_time": "2022-06-15T18:23:59.889Z"
   },
   {
    "duration": 67,
    "start_time": "2022-06-15T18:24:00.361Z"
   },
   {
    "duration": 14,
    "start_time": "2022-06-15T18:24:00.429Z"
   },
   {
    "duration": 23,
    "start_time": "2022-06-15T18:24:00.445Z"
   },
   {
    "duration": 63,
    "start_time": "2022-06-15T18:24:00.470Z"
   },
   {
    "duration": 22,
    "start_time": "2022-06-15T18:24:00.535Z"
   },
   {
    "duration": 35,
    "start_time": "2022-06-15T18:24:00.559Z"
   },
   {
    "duration": 11,
    "start_time": "2022-06-15T18:24:00.596Z"
   },
   {
    "duration": 23,
    "start_time": "2022-06-15T18:24:00.609Z"
   },
   {
    "duration": 23,
    "start_time": "2022-06-15T18:24:00.634Z"
   },
   {
    "duration": 19,
    "start_time": "2022-06-15T18:24:00.659Z"
   },
   {
    "duration": 33,
    "start_time": "2022-06-15T18:24:00.680Z"
   },
   {
    "duration": 15,
    "start_time": "2022-06-15T18:24:00.715Z"
   },
   {
    "duration": 11,
    "start_time": "2022-06-15T18:24:00.732Z"
   },
   {
    "duration": 15,
    "start_time": "2022-06-15T18:24:00.744Z"
   },
   {
    "duration": 16,
    "start_time": "2022-06-15T18:24:00.760Z"
   },
   {
    "duration": 18,
    "start_time": "2022-06-15T18:24:00.777Z"
   },
   {
    "duration": 6,
    "start_time": "2022-06-15T18:24:00.797Z"
   },
   {
    "duration": 10,
    "start_time": "2022-06-15T18:24:00.805Z"
   },
   {
    "duration": 24,
    "start_time": "2022-06-15T18:24:00.817Z"
   },
   {
    "duration": 25,
    "start_time": "2022-06-15T18:24:00.843Z"
   },
   {
    "duration": 27,
    "start_time": "2022-06-15T18:24:00.870Z"
   },
   {
    "duration": 7,
    "start_time": "2022-06-15T18:24:00.899Z"
   },
   {
    "duration": 19,
    "start_time": "2022-06-15T18:24:00.908Z"
   },
   {
    "duration": 24,
    "start_time": "2022-06-15T18:24:00.929Z"
   },
   {
    "duration": 22,
    "start_time": "2022-06-15T18:31:05.176Z"
   },
   {
    "duration": 8,
    "start_time": "2022-06-15T18:31:05.848Z"
   },
   {
    "duration": 16,
    "start_time": "2022-06-15T18:31:39.284Z"
   },
   {
    "duration": 8,
    "start_time": "2022-06-15T18:31:40.014Z"
   },
   {
    "duration": 395,
    "start_time": "2022-06-15T18:38:17.490Z"
   },
   {
    "duration": 209,
    "start_time": "2022-06-15T18:38:17.888Z"
   },
   {
    "duration": 499,
    "start_time": "2022-06-15T18:38:18.099Z"
   },
   {
    "duration": 66,
    "start_time": "2022-06-15T18:38:18.600Z"
   },
   {
    "duration": 14,
    "start_time": "2022-06-15T18:38:18.668Z"
   },
   {
    "duration": 23,
    "start_time": "2022-06-15T18:38:18.684Z"
   },
   {
    "duration": 21,
    "start_time": "2022-06-15T18:38:18.709Z"
   },
   {
    "duration": 39,
    "start_time": "2022-06-15T18:38:18.732Z"
   },
   {
    "duration": 30,
    "start_time": "2022-06-15T18:38:18.773Z"
   },
   {
    "duration": 6,
    "start_time": "2022-06-15T18:38:18.805Z"
   },
   {
    "duration": 10,
    "start_time": "2022-06-15T18:38:18.813Z"
   },
   {
    "duration": 19,
    "start_time": "2022-06-15T18:38:18.825Z"
   },
   {
    "duration": 7,
    "start_time": "2022-06-15T18:38:18.859Z"
   },
   {
    "duration": 16,
    "start_time": "2022-06-15T18:38:18.868Z"
   },
   {
    "duration": 7,
    "start_time": "2022-06-15T18:38:18.886Z"
   },
   {
    "duration": 9,
    "start_time": "2022-06-15T18:38:18.895Z"
   },
   {
    "duration": 17,
    "start_time": "2022-06-15T18:38:18.905Z"
   },
   {
    "duration": 20,
    "start_time": "2022-06-15T18:38:18.923Z"
   },
   {
    "duration": 16,
    "start_time": "2022-06-15T18:38:18.959Z"
   },
   {
    "duration": 27,
    "start_time": "2022-06-15T18:38:18.976Z"
   },
   {
    "duration": 24,
    "start_time": "2022-06-15T18:38:19.005Z"
   },
   {
    "duration": 27,
    "start_time": "2022-06-15T18:38:19.031Z"
   },
   {
    "duration": 48,
    "start_time": "2022-06-15T18:38:19.059Z"
   },
   {
    "duration": 23,
    "start_time": "2022-06-15T18:38:19.109Z"
   },
   {
    "duration": 12,
    "start_time": "2022-06-15T18:38:19.133Z"
   },
   {
    "duration": 21,
    "start_time": "2022-06-15T18:38:19.148Z"
   },
   {
    "duration": 26,
    "start_time": "2022-06-15T18:38:19.170Z"
   },
   {
    "duration": 40,
    "start_time": "2022-06-15T18:38:19.199Z"
   },
   {
    "duration": 9,
    "start_time": "2022-06-15T18:38:19.240Z"
   },
   {
    "duration": 421,
    "start_time": "2022-06-15T18:40:15.044Z"
   },
   {
    "duration": 209,
    "start_time": "2022-06-15T18:40:15.467Z"
   },
   {
    "duration": 611,
    "start_time": "2022-06-15T18:40:15.678Z"
   },
   {
    "duration": 71,
    "start_time": "2022-06-15T18:40:16.292Z"
   },
   {
    "duration": 15,
    "start_time": "2022-06-15T18:40:16.365Z"
   },
   {
    "duration": 13,
    "start_time": "2022-06-15T18:40:16.382Z"
   },
   {
    "duration": 26,
    "start_time": "2022-06-15T18:40:16.397Z"
   },
   {
    "duration": 41,
    "start_time": "2022-06-15T18:40:16.425Z"
   },
   {
    "duration": 23,
    "start_time": "2022-06-15T18:40:16.468Z"
   },
   {
    "duration": 8,
    "start_time": "2022-06-15T18:40:16.495Z"
   },
   {
    "duration": 23,
    "start_time": "2022-06-15T18:40:16.505Z"
   },
   {
    "duration": 18,
    "start_time": "2022-06-15T18:40:16.530Z"
   },
   {
    "duration": 7,
    "start_time": "2022-06-15T18:40:16.559Z"
   },
   {
    "duration": 14,
    "start_time": "2022-06-15T18:40:16.567Z"
   },
   {
    "duration": 9,
    "start_time": "2022-06-15T18:40:16.583Z"
   },
   {
    "duration": 15,
    "start_time": "2022-06-15T18:40:16.594Z"
   },
   {
    "duration": 16,
    "start_time": "2022-06-15T18:40:16.610Z"
   },
   {
    "duration": 9,
    "start_time": "2022-06-15T18:40:16.628Z"
   },
   {
    "duration": 34,
    "start_time": "2022-06-15T18:40:16.638Z"
   },
   {
    "duration": 7,
    "start_time": "2022-06-15T18:40:16.674Z"
   },
   {
    "duration": 7,
    "start_time": "2022-06-15T18:40:16.683Z"
   },
   {
    "duration": 9,
    "start_time": "2022-06-15T18:40:16.692Z"
   },
   {
    "duration": 12,
    "start_time": "2022-06-15T18:40:16.702Z"
   },
   {
    "duration": 49,
    "start_time": "2022-06-15T18:40:16.715Z"
   },
   {
    "duration": 8,
    "start_time": "2022-06-15T18:40:16.766Z"
   },
   {
    "duration": 28,
    "start_time": "2022-06-15T18:40:16.776Z"
   },
   {
    "duration": 18,
    "start_time": "2022-06-15T18:40:16.805Z"
   },
   {
    "duration": 18,
    "start_time": "2022-06-15T18:40:16.826Z"
   },
   {
    "duration": 6,
    "start_time": "2022-06-15T18:40:16.846Z"
   },
   {
    "duration": 578,
    "start_time": "2022-06-15T18:41:30.225Z"
   },
   {
    "duration": 386,
    "start_time": "2022-06-15T18:41:39.804Z"
   },
   {
    "duration": 204,
    "start_time": "2022-06-15T18:41:40.192Z"
   },
   {
    "duration": 549,
    "start_time": "2022-06-15T18:41:40.398Z"
   },
   {
    "duration": 68,
    "start_time": "2022-06-15T18:41:40.948Z"
   },
   {
    "duration": 16,
    "start_time": "2022-06-15T18:41:41.018Z"
   },
   {
    "duration": 14,
    "start_time": "2022-06-15T18:41:41.037Z"
   },
   {
    "duration": 24,
    "start_time": "2022-06-15T18:41:41.053Z"
   },
   {
    "duration": 12,
    "start_time": "2022-06-15T18:41:41.081Z"
   },
   {
    "duration": 26,
    "start_time": "2022-06-15T18:41:41.095Z"
   },
   {
    "duration": 9,
    "start_time": "2022-06-15T18:41:41.123Z"
   },
   {
    "duration": 28,
    "start_time": "2022-06-15T18:41:41.133Z"
   },
   {
    "duration": 27,
    "start_time": "2022-06-15T18:41:41.167Z"
   },
   {
    "duration": 7,
    "start_time": "2022-06-15T18:41:41.196Z"
   },
   {
    "duration": 13,
    "start_time": "2022-06-15T18:41:41.206Z"
   },
   {
    "duration": 7,
    "start_time": "2022-06-15T18:41:41.221Z"
   },
   {
    "duration": 30,
    "start_time": "2022-06-15T18:41:41.230Z"
   },
   {
    "duration": 13,
    "start_time": "2022-06-15T18:41:41.262Z"
   },
   {
    "duration": 10,
    "start_time": "2022-06-15T18:41:41.277Z"
   },
   {
    "duration": 21,
    "start_time": "2022-06-15T18:41:41.289Z"
   },
   {
    "duration": 7,
    "start_time": "2022-06-15T18:41:41.312Z"
   },
   {
    "duration": 14,
    "start_time": "2022-06-15T18:41:41.321Z"
   },
   {
    "duration": 26,
    "start_time": "2022-06-15T18:41:41.337Z"
   },
   {
    "duration": 17,
    "start_time": "2022-06-15T18:41:41.365Z"
   },
   {
    "duration": 15,
    "start_time": "2022-06-15T18:41:41.385Z"
   },
   {
    "duration": 12,
    "start_time": "2022-06-15T18:41:41.401Z"
   },
   {
    "duration": 19,
    "start_time": "2022-06-15T18:41:41.415Z"
   },
   {
    "duration": 41,
    "start_time": "2022-06-15T18:41:41.436Z"
   },
   {
    "duration": 28,
    "start_time": "2022-06-15T18:41:41.479Z"
   },
   {
    "duration": 8,
    "start_time": "2022-06-15T18:41:41.510Z"
   },
   {
    "duration": 15,
    "start_time": "2022-06-15T18:41:56.431Z"
   },
   {
    "duration": 12,
    "start_time": "2022-06-15T18:43:26.635Z"
   },
   {
    "duration": 3,
    "start_time": "2022-06-15T18:43:27.515Z"
   },
   {
    "duration": 13,
    "start_time": "2022-06-15T18:43:35.598Z"
   },
   {
    "duration": 390,
    "start_time": "2022-06-15T18:49:21.969Z"
   },
   {
    "duration": 205,
    "start_time": "2022-06-15T18:49:22.361Z"
   },
   {
    "duration": 575,
    "start_time": "2022-06-15T18:49:22.568Z"
   },
   {
    "duration": 76,
    "start_time": "2022-06-15T18:49:23.145Z"
   },
   {
    "duration": 15,
    "start_time": "2022-06-15T18:49:23.222Z"
   },
   {
    "duration": 15,
    "start_time": "2022-06-15T18:49:23.238Z"
   },
   {
    "duration": 19,
    "start_time": "2022-06-15T18:49:23.259Z"
   },
   {
    "duration": 12,
    "start_time": "2022-06-15T18:49:23.280Z"
   },
   {
    "duration": 21,
    "start_time": "2022-06-15T18:49:23.293Z"
   },
   {
    "duration": 13,
    "start_time": "2022-06-15T18:49:23.318Z"
   },
   {
    "duration": 31,
    "start_time": "2022-06-15T18:49:23.333Z"
   },
   {
    "duration": 15,
    "start_time": "2022-06-15T18:49:23.365Z"
   },
   {
    "duration": 9,
    "start_time": "2022-06-15T18:49:23.381Z"
   },
   {
    "duration": 12,
    "start_time": "2022-06-15T18:49:23.392Z"
   },
   {
    "duration": 10,
    "start_time": "2022-06-15T18:49:23.406Z"
   },
   {
    "duration": 8,
    "start_time": "2022-06-15T18:49:23.418Z"
   },
   {
    "duration": 34,
    "start_time": "2022-06-15T18:49:23.428Z"
   },
   {
    "duration": 5,
    "start_time": "2022-06-15T18:49:23.464Z"
   },
   {
    "duration": 13,
    "start_time": "2022-06-15T18:49:23.470Z"
   },
   {
    "duration": 6,
    "start_time": "2022-06-15T18:49:23.484Z"
   },
   {
    "duration": 8,
    "start_time": "2022-06-15T18:49:23.492Z"
   },
   {
    "duration": 12,
    "start_time": "2022-06-15T18:49:23.501Z"
   },
   {
    "duration": 121,
    "start_time": "2022-06-15T18:49:23.515Z"
   },
   {
    "duration": 0,
    "start_time": "2022-06-15T18:49:23.637Z"
   },
   {
    "duration": 0,
    "start_time": "2022-06-15T18:49:23.639Z"
   },
   {
    "duration": 0,
    "start_time": "2022-06-15T18:49:23.640Z"
   },
   {
    "duration": 0,
    "start_time": "2022-06-15T18:49:23.641Z"
   },
   {
    "duration": 0,
    "start_time": "2022-06-15T18:49:23.643Z"
   },
   {
    "duration": 0,
    "start_time": "2022-06-15T18:49:23.658Z"
   },
   {
    "duration": 0,
    "start_time": "2022-06-15T18:49:23.660Z"
   },
   {
    "duration": 12,
    "start_time": "2022-06-15T18:52:04.907Z"
   },
   {
    "duration": 12,
    "start_time": "2022-06-15T18:52:17.606Z"
   },
   {
    "duration": 403,
    "start_time": "2022-06-15T18:52:22.727Z"
   },
   {
    "duration": 195,
    "start_time": "2022-06-15T18:52:23.132Z"
   },
   {
    "duration": 515,
    "start_time": "2022-06-15T18:52:23.329Z"
   },
   {
    "duration": 68,
    "start_time": "2022-06-15T18:52:23.846Z"
   },
   {
    "duration": 14,
    "start_time": "2022-06-15T18:52:23.916Z"
   },
   {
    "duration": 12,
    "start_time": "2022-06-15T18:52:23.931Z"
   },
   {
    "duration": 25,
    "start_time": "2022-06-15T18:52:23.944Z"
   },
   {
    "duration": 11,
    "start_time": "2022-06-15T18:52:23.970Z"
   },
   {
    "duration": 22,
    "start_time": "2022-06-15T18:52:23.982Z"
   },
   {
    "duration": 6,
    "start_time": "2022-06-15T18:52:24.006Z"
   },
   {
    "duration": 19,
    "start_time": "2022-06-15T18:52:24.014Z"
   },
   {
    "duration": 26,
    "start_time": "2022-06-15T18:52:24.035Z"
   },
   {
    "duration": 8,
    "start_time": "2022-06-15T18:52:24.063Z"
   },
   {
    "duration": 13,
    "start_time": "2022-06-15T18:52:24.073Z"
   },
   {
    "duration": 6,
    "start_time": "2022-06-15T18:52:24.087Z"
   },
   {
    "duration": 34,
    "start_time": "2022-06-15T18:52:24.094Z"
   },
   {
    "duration": 10,
    "start_time": "2022-06-15T18:52:24.129Z"
   },
   {
    "duration": 6,
    "start_time": "2022-06-15T18:52:24.140Z"
   },
   {
    "duration": 17,
    "start_time": "2022-06-15T18:52:24.147Z"
   },
   {
    "duration": 6,
    "start_time": "2022-06-15T18:52:24.166Z"
   },
   {
    "duration": 10,
    "start_time": "2022-06-15T18:52:24.173Z"
   },
   {
    "duration": 13,
    "start_time": "2022-06-15T18:52:24.185Z"
   },
   {
    "duration": 14,
    "start_time": "2022-06-15T18:52:24.200Z"
   },
   {
    "duration": 127,
    "start_time": "2022-06-15T18:52:24.216Z"
   },
   {
    "duration": 0,
    "start_time": "2022-06-15T18:52:24.345Z"
   },
   {
    "duration": 0,
    "start_time": "2022-06-15T18:52:24.346Z"
   },
   {
    "duration": 0,
    "start_time": "2022-06-15T18:52:24.348Z"
   },
   {
    "duration": 0,
    "start_time": "2022-06-15T18:52:24.359Z"
   },
   {
    "duration": 0,
    "start_time": "2022-06-15T18:52:24.360Z"
   },
   {
    "duration": 0,
    "start_time": "2022-06-15T18:52:24.361Z"
   },
   {
    "duration": 0,
    "start_time": "2022-06-15T18:52:24.363Z"
   },
   {
    "duration": 12,
    "start_time": "2022-06-15T18:52:45.208Z"
   },
   {
    "duration": 3,
    "start_time": "2022-06-15T18:53:09.757Z"
   },
   {
    "duration": 10,
    "start_time": "2022-06-15T18:53:11.362Z"
   },
   {
    "duration": 12,
    "start_time": "2022-06-15T18:53:42.594Z"
   },
   {
    "duration": 59,
    "start_time": "2022-06-18T17:58:34.899Z"
   },
   {
    "duration": 449,
    "start_time": "2022-06-18T17:58:45.643Z"
   },
   {
    "duration": 440,
    "start_time": "2022-06-18T17:58:46.095Z"
   },
   {
    "duration": 539,
    "start_time": "2022-06-18T17:58:46.537Z"
   },
   {
    "duration": 304,
    "start_time": "2022-06-18T17:58:47.078Z"
   },
   {
    "duration": 15,
    "start_time": "2022-06-18T17:58:47.384Z"
   },
   {
    "duration": 12,
    "start_time": "2022-06-18T17:58:47.400Z"
   },
   {
    "duration": 35,
    "start_time": "2022-06-18T17:58:47.413Z"
   },
   {
    "duration": 13,
    "start_time": "2022-06-18T17:58:47.450Z"
   },
   {
    "duration": 26,
    "start_time": "2022-06-18T17:58:47.465Z"
   },
   {
    "duration": 7,
    "start_time": "2022-06-18T17:58:47.492Z"
   },
   {
    "duration": 8,
    "start_time": "2022-06-18T17:58:47.500Z"
   },
   {
    "duration": 23,
    "start_time": "2022-06-18T17:58:47.509Z"
   },
   {
    "duration": 37,
    "start_time": "2022-06-18T17:58:47.534Z"
   },
   {
    "duration": 11,
    "start_time": "2022-06-18T17:58:47.575Z"
   },
   {
    "duration": 6,
    "start_time": "2022-06-18T17:58:47.588Z"
   },
   {
    "duration": 125,
    "start_time": "2022-06-18T17:58:47.595Z"
   },
   {
    "duration": 0,
    "start_time": "2022-06-18T17:58:47.722Z"
   },
   {
    "duration": 0,
    "start_time": "2022-06-18T17:58:47.724Z"
   },
   {
    "duration": 0,
    "start_time": "2022-06-18T17:58:47.725Z"
   },
   {
    "duration": 0,
    "start_time": "2022-06-18T17:58:47.726Z"
   },
   {
    "duration": 0,
    "start_time": "2022-06-18T17:58:47.726Z"
   },
   {
    "duration": 0,
    "start_time": "2022-06-18T17:58:47.727Z"
   },
   {
    "duration": 0,
    "start_time": "2022-06-18T17:58:47.727Z"
   },
   {
    "duration": 0,
    "start_time": "2022-06-18T17:58:47.731Z"
   },
   {
    "duration": 0,
    "start_time": "2022-06-18T17:58:47.733Z"
   },
   {
    "duration": 0,
    "start_time": "2022-06-18T17:58:47.737Z"
   },
   {
    "duration": 0,
    "start_time": "2022-06-18T17:58:47.738Z"
   },
   {
    "duration": 0,
    "start_time": "2022-06-18T17:58:47.739Z"
   },
   {
    "duration": 0,
    "start_time": "2022-06-18T17:58:47.740Z"
   },
   {
    "duration": 0,
    "start_time": "2022-06-18T17:58:47.741Z"
   },
   {
    "duration": 0,
    "start_time": "2022-06-18T17:58:47.742Z"
   },
   {
    "duration": 0,
    "start_time": "2022-06-18T17:58:47.743Z"
   },
   {
    "duration": 428,
    "start_time": "2022-06-18T18:01:15.631Z"
   },
   {
    "duration": 244,
    "start_time": "2022-06-18T18:01:16.061Z"
   },
   {
    "duration": 517,
    "start_time": "2022-06-18T18:01:16.307Z"
   },
   {
    "duration": 72,
    "start_time": "2022-06-18T18:01:16.829Z"
   },
   {
    "duration": 16,
    "start_time": "2022-06-18T18:01:16.904Z"
   },
   {
    "duration": 29,
    "start_time": "2022-06-18T18:01:16.921Z"
   },
   {
    "duration": 23,
    "start_time": "2022-06-18T18:01:16.951Z"
   },
   {
    "duration": 11,
    "start_time": "2022-06-18T18:01:16.977Z"
   },
   {
    "duration": 24,
    "start_time": "2022-06-18T18:01:16.990Z"
   },
   {
    "duration": 10,
    "start_time": "2022-06-18T18:01:17.028Z"
   },
   {
    "duration": 10,
    "start_time": "2022-06-18T18:01:17.041Z"
   },
   {
    "duration": 13,
    "start_time": "2022-06-18T18:01:17.052Z"
   },
   {
    "duration": 6,
    "start_time": "2022-06-18T18:01:17.067Z"
   },
   {
    "duration": 11,
    "start_time": "2022-06-18T18:01:17.076Z"
   },
   {
    "duration": 150,
    "start_time": "2022-06-18T18:01:17.089Z"
   },
   {
    "duration": 0,
    "start_time": "2022-06-18T18:01:17.241Z"
   },
   {
    "duration": 0,
    "start_time": "2022-06-18T18:01:17.242Z"
   },
   {
    "duration": 0,
    "start_time": "2022-06-18T18:01:17.244Z"
   },
   {
    "duration": 0,
    "start_time": "2022-06-18T18:01:17.245Z"
   },
   {
    "duration": 0,
    "start_time": "2022-06-18T18:01:17.247Z"
   },
   {
    "duration": 0,
    "start_time": "2022-06-18T18:01:17.248Z"
   },
   {
    "duration": 0,
    "start_time": "2022-06-18T18:01:17.250Z"
   },
   {
    "duration": 0,
    "start_time": "2022-06-18T18:01:17.251Z"
   },
   {
    "duration": 0,
    "start_time": "2022-06-18T18:01:17.253Z"
   },
   {
    "duration": 0,
    "start_time": "2022-06-18T18:01:17.254Z"
   },
   {
    "duration": 0,
    "start_time": "2022-06-18T18:01:17.255Z"
   },
   {
    "duration": 0,
    "start_time": "2022-06-18T18:01:17.257Z"
   },
   {
    "duration": 0,
    "start_time": "2022-06-18T18:01:17.258Z"
   },
   {
    "duration": 0,
    "start_time": "2022-06-18T18:01:17.259Z"
   },
   {
    "duration": 0,
    "start_time": "2022-06-18T18:01:17.261Z"
   },
   {
    "duration": 0,
    "start_time": "2022-06-18T18:01:17.263Z"
   },
   {
    "duration": 0,
    "start_time": "2022-06-18T18:01:17.264Z"
   },
   {
    "duration": 0,
    "start_time": "2022-06-18T18:01:17.265Z"
   },
   {
    "duration": 430,
    "start_time": "2022-06-18T18:02:11.904Z"
   },
   {
    "duration": 236,
    "start_time": "2022-06-18T18:02:12.336Z"
   },
   {
    "duration": 544,
    "start_time": "2022-06-18T18:02:12.575Z"
   },
   {
    "duration": 76,
    "start_time": "2022-06-18T18:02:13.123Z"
   },
   {
    "duration": 15,
    "start_time": "2022-06-18T18:02:13.202Z"
   },
   {
    "duration": 24,
    "start_time": "2022-06-18T18:02:13.219Z"
   },
   {
    "duration": 25,
    "start_time": "2022-06-18T18:02:13.245Z"
   },
   {
    "duration": 11,
    "start_time": "2022-06-18T18:02:13.272Z"
   },
   {
    "duration": 24,
    "start_time": "2022-06-18T18:02:13.285Z"
   },
   {
    "duration": 26,
    "start_time": "2022-06-18T18:02:13.311Z"
   },
   {
    "duration": 7,
    "start_time": "2022-06-18T18:02:13.341Z"
   },
   {
    "duration": 15,
    "start_time": "2022-06-18T18:02:13.350Z"
   },
   {
    "duration": 9,
    "start_time": "2022-06-18T18:02:13.367Z"
   },
   {
    "duration": 11,
    "start_time": "2022-06-18T18:02:13.379Z"
   },
   {
    "duration": 4,
    "start_time": "2022-06-18T18:02:13.392Z"
   },
   {
    "duration": 27,
    "start_time": "2022-06-18T18:02:13.397Z"
   },
   {
    "duration": 173,
    "start_time": "2022-06-18T18:02:13.426Z"
   },
   {
    "duration": 8,
    "start_time": "2022-06-18T18:02:13.601Z"
   },
   {
    "duration": 16,
    "start_time": "2022-06-18T18:02:13.626Z"
   },
   {
    "duration": 8,
    "start_time": "2022-06-18T18:02:13.645Z"
   },
   {
    "duration": 17,
    "start_time": "2022-06-18T18:02:13.655Z"
   },
   {
    "duration": 6,
    "start_time": "2022-06-18T18:02:13.674Z"
   },
   {
    "duration": 9,
    "start_time": "2022-06-18T18:02:13.682Z"
   },
   {
    "duration": 11,
    "start_time": "2022-06-18T18:02:13.693Z"
   },
   {
    "duration": 28,
    "start_time": "2022-06-18T18:02:13.706Z"
   },
   {
    "duration": 11,
    "start_time": "2022-06-18T18:02:13.736Z"
   },
   {
    "duration": 13,
    "start_time": "2022-06-18T18:02:13.748Z"
   },
   {
    "duration": 14,
    "start_time": "2022-06-18T18:02:13.762Z"
   },
   {
    "duration": 8,
    "start_time": "2022-06-18T18:02:13.778Z"
   },
   {
    "duration": 15,
    "start_time": "2022-06-18T18:02:13.788Z"
   },
   {
    "duration": 39,
    "start_time": "2022-06-18T18:02:13.805Z"
   },
   {
    "duration": 18,
    "start_time": "2022-06-18T18:02:13.846Z"
   },
   {
    "duration": 7,
    "start_time": "2022-06-18T18:02:13.865Z"
   },
   {
    "duration": 170,
    "start_time": "2022-06-18T18:11:29.382Z"
   },
   {
    "duration": 201,
    "start_time": "2022-06-18T18:11:39.272Z"
   },
   {
    "duration": 195,
    "start_time": "2022-06-18T18:12:28.370Z"
   },
   {
    "duration": 156,
    "start_time": "2022-06-18T18:13:30.177Z"
   },
   {
    "duration": 231,
    "start_time": "2022-06-18T18:15:56.454Z"
   },
   {
    "duration": 180,
    "start_time": "2022-06-18T18:16:20.475Z"
   },
   {
    "duration": 191,
    "start_time": "2022-06-18T18:16:42.380Z"
   },
   {
    "duration": 244,
    "start_time": "2022-06-18T18:17:09.461Z"
   },
   {
    "duration": 169,
    "start_time": "2022-06-18T18:25:06.676Z"
   },
   {
    "duration": 174,
    "start_time": "2022-06-18T18:26:04.134Z"
   },
   {
    "duration": 172,
    "start_time": "2022-06-18T18:26:24.312Z"
   },
   {
    "duration": 195,
    "start_time": "2022-06-18T18:27:39.177Z"
   },
   {
    "duration": 176,
    "start_time": "2022-06-18T18:27:45.615Z"
   },
   {
    "duration": 232,
    "start_time": "2022-06-18T18:27:52.511Z"
   },
   {
    "duration": 11,
    "start_time": "2022-06-18T18:31:23.093Z"
   },
   {
    "duration": 4,
    "start_time": "2022-06-18T18:31:23.881Z"
   },
   {
    "duration": 7,
    "start_time": "2022-06-18T18:31:24.452Z"
   },
   {
    "duration": 400,
    "start_time": "2022-06-18T18:31:29.919Z"
   },
   {
    "duration": 240,
    "start_time": "2022-06-18T18:31:30.327Z"
   },
   {
    "duration": 523,
    "start_time": "2022-06-18T18:31:30.568Z"
   },
   {
    "duration": 80,
    "start_time": "2022-06-18T18:31:31.093Z"
   },
   {
    "duration": 15,
    "start_time": "2022-06-18T18:31:31.175Z"
   },
   {
    "duration": 15,
    "start_time": "2022-06-18T18:31:31.192Z"
   },
   {
    "duration": 36,
    "start_time": "2022-06-18T18:31:31.209Z"
   },
   {
    "duration": 20,
    "start_time": "2022-06-18T18:31:31.247Z"
   },
   {
    "duration": 28,
    "start_time": "2022-06-18T18:31:31.268Z"
   },
   {
    "duration": 6,
    "start_time": "2022-06-18T18:31:31.298Z"
   },
   {
    "duration": 10,
    "start_time": "2022-06-18T18:31:31.305Z"
   },
   {
    "duration": 48,
    "start_time": "2022-06-18T18:31:31.316Z"
   },
   {
    "duration": 8,
    "start_time": "2022-06-18T18:31:31.365Z"
   },
   {
    "duration": 10,
    "start_time": "2022-06-18T18:31:31.376Z"
   },
   {
    "duration": 3,
    "start_time": "2022-06-18T18:31:31.388Z"
   },
   {
    "duration": 15,
    "start_time": "2022-06-18T18:31:31.392Z"
   },
   {
    "duration": 179,
    "start_time": "2022-06-18T18:31:31.408Z"
   },
   {
    "duration": 7,
    "start_time": "2022-06-18T18:31:31.588Z"
   },
   {
    "duration": 14,
    "start_time": "2022-06-18T18:31:31.596Z"
   },
   {
    "duration": 25,
    "start_time": "2022-06-18T18:31:31.612Z"
   },
   {
    "duration": 19,
    "start_time": "2022-06-18T18:31:31.644Z"
   },
   {
    "duration": 15,
    "start_time": "2022-06-18T18:31:31.665Z"
   },
   {
    "duration": 9,
    "start_time": "2022-06-18T18:31:31.681Z"
   },
   {
    "duration": 9,
    "start_time": "2022-06-18T18:31:31.691Z"
   },
   {
    "duration": 17,
    "start_time": "2022-06-18T18:31:31.702Z"
   },
   {
    "duration": 33,
    "start_time": "2022-06-18T18:31:31.721Z"
   },
   {
    "duration": 15,
    "start_time": "2022-06-18T18:31:31.756Z"
   },
   {
    "duration": 19,
    "start_time": "2022-06-18T18:31:31.772Z"
   },
   {
    "duration": 14,
    "start_time": "2022-06-18T18:31:31.793Z"
   },
   {
    "duration": 19,
    "start_time": "2022-06-18T18:31:31.809Z"
   },
   {
    "duration": 47,
    "start_time": "2022-06-18T18:31:31.830Z"
   },
   {
    "duration": 20,
    "start_time": "2022-06-18T18:31:31.878Z"
   },
   {
    "duration": 15,
    "start_time": "2022-06-18T18:31:31.899Z"
   },
   {
    "duration": 183,
    "start_time": "2022-06-18T18:31:44.520Z"
   },
   {
    "duration": 183,
    "start_time": "2022-06-18T18:34:00.621Z"
   },
   {
    "duration": 197,
    "start_time": "2022-06-18T18:37:27.241Z"
   },
   {
    "duration": 271,
    "start_time": "2022-06-18T18:39:01.113Z"
   },
   {
    "duration": 172,
    "start_time": "2022-06-18T18:39:40.113Z"
   },
   {
    "duration": 188,
    "start_time": "2022-06-18T18:40:52.147Z"
   },
   {
    "duration": 265,
    "start_time": "2022-06-18T18:42:16.390Z"
   },
   {
    "duration": 19,
    "start_time": "2022-06-18T18:44:45.855Z"
   },
   {
    "duration": 45,
    "start_time": "2022-06-18T18:45:22.262Z"
   },
   {
    "duration": 16,
    "start_time": "2022-06-18T18:45:30.416Z"
   },
   {
    "duration": 151,
    "start_time": "2022-06-18T18:48:00.461Z"
   },
   {
    "duration": 122,
    "start_time": "2022-06-18T18:48:15.143Z"
   },
   {
    "duration": 145,
    "start_time": "2022-06-18T18:48:49.475Z"
   },
   {
    "duration": 32,
    "start_time": "2022-06-18T18:49:29.914Z"
   },
   {
    "duration": 140,
    "start_time": "2022-06-18T18:49:44.685Z"
   },
   {
    "duration": 19,
    "start_time": "2022-06-18T18:49:53.249Z"
   },
   {
    "duration": 204,
    "start_time": "2022-06-18T18:51:31.374Z"
   },
   {
    "duration": 209,
    "start_time": "2022-06-18T18:51:36.779Z"
   },
   {
    "duration": 48,
    "start_time": "2022-06-18T18:52:04.583Z"
   },
   {
    "duration": 247,
    "start_time": "2022-06-18T18:52:13.268Z"
   },
   {
    "duration": 225,
    "start_time": "2022-06-18T18:52:20.517Z"
   },
   {
    "duration": 20,
    "start_time": "2022-06-18T18:52:31.171Z"
   },
   {
    "duration": 194,
    "start_time": "2022-06-18T18:52:36.674Z"
   },
   {
    "duration": 236,
    "start_time": "2022-06-18T18:55:09.402Z"
   },
   {
    "duration": 321,
    "start_time": "2022-06-18T18:57:18.140Z"
   },
   {
    "duration": 14,
    "start_time": "2022-06-18T18:57:23.222Z"
   },
   {
    "duration": 10,
    "start_time": "2022-06-18T18:57:33.494Z"
   },
   {
    "duration": 9,
    "start_time": "2022-06-18T18:57:45.294Z"
   },
   {
    "duration": 24,
    "start_time": "2022-06-18T18:58:14.912Z"
   },
   {
    "duration": 12,
    "start_time": "2022-06-18T18:58:15.458Z"
   },
   {
    "duration": 492,
    "start_time": "2022-06-18T18:58:18.947Z"
   },
   {
    "duration": 309,
    "start_time": "2022-06-18T18:58:19.441Z"
   },
   {
    "duration": 633,
    "start_time": "2022-06-18T18:58:19.759Z"
   },
   {
    "duration": 95,
    "start_time": "2022-06-18T18:58:20.393Z"
   },
   {
    "duration": 16,
    "start_time": "2022-06-18T18:58:20.492Z"
   },
   {
    "duration": 39,
    "start_time": "2022-06-18T18:58:20.510Z"
   },
   {
    "duration": 47,
    "start_time": "2022-06-18T18:58:20.550Z"
   },
   {
    "duration": 11,
    "start_time": "2022-06-18T18:58:20.598Z"
   },
   {
    "duration": 48,
    "start_time": "2022-06-18T18:58:20.611Z"
   },
   {
    "duration": 23,
    "start_time": "2022-06-18T18:58:20.665Z"
   },
   {
    "duration": 10,
    "start_time": "2022-06-18T18:58:20.689Z"
   },
   {
    "duration": 16,
    "start_time": "2022-06-18T18:58:20.700Z"
   },
   {
    "duration": 14,
    "start_time": "2022-06-18T18:58:20.718Z"
   },
   {
    "duration": 49,
    "start_time": "2022-06-18T18:58:20.740Z"
   },
   {
    "duration": 4,
    "start_time": "2022-06-18T18:58:20.790Z"
   },
   {
    "duration": 12,
    "start_time": "2022-06-18T18:58:20.796Z"
   },
   {
    "duration": 239,
    "start_time": "2022-06-18T18:58:20.810Z"
   },
   {
    "duration": 10,
    "start_time": "2022-06-18T18:58:21.050Z"
   },
   {
    "duration": 33,
    "start_time": "2022-06-18T18:58:21.061Z"
   },
   {
    "duration": 121,
    "start_time": "2022-06-18T18:58:21.095Z"
   },
   {
    "duration": 0,
    "start_time": "2022-06-18T18:58:21.218Z"
   },
   {
    "duration": 0,
    "start_time": "2022-06-18T18:58:21.220Z"
   },
   {
    "duration": 0,
    "start_time": "2022-06-18T18:58:21.222Z"
   },
   {
    "duration": 0,
    "start_time": "2022-06-18T18:58:21.222Z"
   },
   {
    "duration": 0,
    "start_time": "2022-06-18T18:58:21.223Z"
   },
   {
    "duration": 0,
    "start_time": "2022-06-18T18:58:21.224Z"
   },
   {
    "duration": 0,
    "start_time": "2022-06-18T18:58:21.224Z"
   },
   {
    "duration": 0,
    "start_time": "2022-06-18T18:58:21.225Z"
   },
   {
    "duration": 0,
    "start_time": "2022-06-18T18:58:21.225Z"
   },
   {
    "duration": 0,
    "start_time": "2022-06-18T18:58:21.226Z"
   },
   {
    "duration": 0,
    "start_time": "2022-06-18T18:58:21.227Z"
   },
   {
    "duration": 0,
    "start_time": "2022-06-18T18:58:21.230Z"
   },
   {
    "duration": 0,
    "start_time": "2022-06-18T18:58:21.231Z"
   },
   {
    "duration": 0,
    "start_time": "2022-06-18T18:58:21.232Z"
   },
   {
    "duration": 0,
    "start_time": "2022-06-18T18:58:21.233Z"
   },
   {
    "duration": 5,
    "start_time": "2022-06-18T18:58:35.657Z"
   },
   {
    "duration": 8,
    "start_time": "2022-06-18T18:58:36.750Z"
   },
   {
    "duration": 22,
    "start_time": "2022-06-18T18:58:37.864Z"
   },
   {
    "duration": 12,
    "start_time": "2022-06-18T18:59:14.915Z"
   },
   {
    "duration": 127,
    "start_time": "2022-06-18T18:59:25.264Z"
   },
   {
    "duration": 172,
    "start_time": "2022-06-18T19:01:59.518Z"
   },
   {
    "duration": 134,
    "start_time": "2022-06-18T19:02:17.443Z"
   },
   {
    "duration": 142,
    "start_time": "2022-06-18T19:02:25.065Z"
   },
   {
    "duration": 455,
    "start_time": "2022-06-18T19:02:29.831Z"
   },
   {
    "duration": 262,
    "start_time": "2022-06-18T19:02:30.289Z"
   },
   {
    "duration": 537,
    "start_time": "2022-06-18T19:02:30.553Z"
   },
   {
    "duration": 91,
    "start_time": "2022-06-18T19:02:31.092Z"
   },
   {
    "duration": 17,
    "start_time": "2022-06-18T19:02:31.186Z"
   },
   {
    "duration": 30,
    "start_time": "2022-06-18T19:02:31.205Z"
   },
   {
    "duration": 35,
    "start_time": "2022-06-18T19:02:31.245Z"
   },
   {
    "duration": 24,
    "start_time": "2022-06-18T19:02:31.285Z"
   },
   {
    "duration": 42,
    "start_time": "2022-06-18T19:02:31.311Z"
   },
   {
    "duration": 36,
    "start_time": "2022-06-18T19:02:31.359Z"
   },
   {
    "duration": 16,
    "start_time": "2022-06-18T19:02:31.397Z"
   },
   {
    "duration": 21,
    "start_time": "2022-06-18T19:02:31.414Z"
   },
   {
    "duration": 39,
    "start_time": "2022-06-18T19:02:31.456Z"
   },
   {
    "duration": 20,
    "start_time": "2022-06-18T19:02:31.496Z"
   },
   {
    "duration": 3,
    "start_time": "2022-06-18T19:02:31.518Z"
   },
   {
    "duration": 63,
    "start_time": "2022-06-18T19:02:31.522Z"
   },
   {
    "duration": 208,
    "start_time": "2022-06-18T19:02:31.587Z"
   },
   {
    "duration": 10,
    "start_time": "2022-06-18T19:02:31.799Z"
   },
   {
    "duration": 23,
    "start_time": "2022-06-18T19:02:31.811Z"
   },
   {
    "duration": 52,
    "start_time": "2022-06-18T19:02:31.836Z"
   },
   {
    "duration": 23,
    "start_time": "2022-06-18T19:02:31.892Z"
   },
   {
    "duration": 318,
    "start_time": "2022-06-18T19:02:31.917Z"
   },
   {
    "duration": 0,
    "start_time": "2022-06-18T19:02:32.237Z"
   },
   {
    "duration": 0,
    "start_time": "2022-06-18T19:02:32.238Z"
   },
   {
    "duration": 0,
    "start_time": "2022-06-18T19:02:32.239Z"
   },
   {
    "duration": 0,
    "start_time": "2022-06-18T19:02:32.242Z"
   },
   {
    "duration": 0,
    "start_time": "2022-06-18T19:02:32.243Z"
   },
   {
    "duration": 0,
    "start_time": "2022-06-18T19:02:32.243Z"
   },
   {
    "duration": 0,
    "start_time": "2022-06-18T19:02:32.245Z"
   },
   {
    "duration": 0,
    "start_time": "2022-06-18T19:02:32.250Z"
   },
   {
    "duration": 0,
    "start_time": "2022-06-18T19:02:32.251Z"
   },
   {
    "duration": 0,
    "start_time": "2022-06-18T19:02:32.252Z"
   },
   {
    "duration": 1,
    "start_time": "2022-06-18T19:02:32.253Z"
   },
   {
    "duration": 0,
    "start_time": "2022-06-18T19:02:32.254Z"
   },
   {
    "duration": 0,
    "start_time": "2022-06-18T19:02:32.255Z"
   },
   {
    "duration": 130,
    "start_time": "2022-06-18T19:05:47.677Z"
   },
   {
    "duration": 147,
    "start_time": "2022-06-18T19:05:55.290Z"
   },
   {
    "duration": 125,
    "start_time": "2022-06-18T19:09:14.717Z"
   },
   {
    "duration": 11,
    "start_time": "2022-06-18T19:09:25.801Z"
   },
   {
    "duration": 128,
    "start_time": "2022-06-18T19:10:53.439Z"
   },
   {
    "duration": 22,
    "start_time": "2022-06-18T19:11:20.041Z"
   },
   {
    "duration": 140,
    "start_time": "2022-06-18T19:11:59.346Z"
   },
   {
    "duration": 132,
    "start_time": "2022-06-18T19:12:16.112Z"
   },
   {
    "duration": 209,
    "start_time": "2022-06-18T19:13:36.994Z"
   },
   {
    "duration": 141,
    "start_time": "2022-06-18T19:14:15.001Z"
   },
   {
    "duration": 130,
    "start_time": "2022-06-18T19:14:29.120Z"
   },
   {
    "duration": 149,
    "start_time": "2022-06-18T19:16:56.603Z"
   },
   {
    "duration": 170,
    "start_time": "2022-06-18T19:17:37.943Z"
   },
   {
    "duration": 158,
    "start_time": "2022-06-18T19:17:44.250Z"
   },
   {
    "duration": 160,
    "start_time": "2022-06-18T19:18:10.561Z"
   },
   {
    "duration": 167,
    "start_time": "2022-06-18T19:19:40.005Z"
   },
   {
    "duration": 10,
    "start_time": "2022-06-18T19:20:05.899Z"
   },
   {
    "duration": 445,
    "start_time": "2022-06-18T19:20:15.538Z"
   },
   {
    "duration": 271,
    "start_time": "2022-06-18T19:20:15.985Z"
   },
   {
    "duration": 529,
    "start_time": "2022-06-18T19:20:16.259Z"
   },
   {
    "duration": 83,
    "start_time": "2022-06-18T19:20:16.790Z"
   },
   {
    "duration": 16,
    "start_time": "2022-06-18T19:20:16.875Z"
   },
   {
    "duration": 15,
    "start_time": "2022-06-18T19:20:16.893Z"
   },
   {
    "duration": 52,
    "start_time": "2022-06-18T19:20:16.910Z"
   },
   {
    "duration": 14,
    "start_time": "2022-06-18T19:20:16.966Z"
   },
   {
    "duration": 22,
    "start_time": "2022-06-18T19:20:16.982Z"
   },
   {
    "duration": 7,
    "start_time": "2022-06-18T19:20:17.006Z"
   },
   {
    "duration": 42,
    "start_time": "2022-06-18T19:20:17.023Z"
   },
   {
    "duration": 16,
    "start_time": "2022-06-18T19:20:17.067Z"
   },
   {
    "duration": 7,
    "start_time": "2022-06-18T19:20:17.085Z"
   },
   {
    "duration": 11,
    "start_time": "2022-06-18T19:20:17.097Z"
   },
   {
    "duration": 4,
    "start_time": "2022-06-18T19:20:17.110Z"
   },
   {
    "duration": 47,
    "start_time": "2022-06-18T19:20:17.115Z"
   },
   {
    "duration": 203,
    "start_time": "2022-06-18T19:20:17.164Z"
   },
   {
    "duration": 9,
    "start_time": "2022-06-18T19:20:17.371Z"
   },
   {
    "duration": 13,
    "start_time": "2022-06-18T19:20:17.382Z"
   },
   {
    "duration": 6,
    "start_time": "2022-06-18T19:20:17.396Z"
   },
   {
    "duration": 27,
    "start_time": "2022-06-18T19:20:17.403Z"
   },
   {
    "duration": 38,
    "start_time": "2022-06-18T19:20:17.431Z"
   },
   {
    "duration": 17,
    "start_time": "2022-06-18T19:20:17.471Z"
   },
   {
    "duration": 6,
    "start_time": "2022-06-18T19:20:17.490Z"
   },
   {
    "duration": 15,
    "start_time": "2022-06-18T19:20:17.498Z"
   },
   {
    "duration": 11,
    "start_time": "2022-06-18T19:20:17.515Z"
   },
   {
    "duration": 45,
    "start_time": "2022-06-18T19:20:17.527Z"
   },
   {
    "duration": 6,
    "start_time": "2022-06-18T19:20:17.574Z"
   },
   {
    "duration": 13,
    "start_time": "2022-06-18T19:20:17.582Z"
   },
   {
    "duration": 18,
    "start_time": "2022-06-18T19:20:17.596Z"
   },
   {
    "duration": 13,
    "start_time": "2022-06-18T19:20:17.616Z"
   },
   {
    "duration": 47,
    "start_time": "2022-06-18T19:20:17.630Z"
   },
   {
    "duration": 17,
    "start_time": "2022-06-18T19:20:17.679Z"
   },
   {
    "duration": 22,
    "start_time": "2022-06-18T19:20:17.698Z"
   },
   {
    "duration": 17,
    "start_time": "2022-06-18T19:20:17.722Z"
   },
   {
    "duration": 148,
    "start_time": "2022-06-18T19:20:27.557Z"
   },
   {
    "duration": 431,
    "start_time": "2022-06-18T19:20:31.863Z"
   },
   {
    "duration": 285,
    "start_time": "2022-06-18T19:20:32.297Z"
   },
   {
    "duration": 661,
    "start_time": "2022-06-18T19:20:32.585Z"
   },
   {
    "duration": 86,
    "start_time": "2022-06-18T19:20:33.248Z"
   },
   {
    "duration": 25,
    "start_time": "2022-06-18T19:20:33.340Z"
   },
   {
    "duration": 19,
    "start_time": "2022-06-18T19:20:33.366Z"
   },
   {
    "duration": 25,
    "start_time": "2022-06-18T19:20:33.387Z"
   },
   {
    "duration": 33,
    "start_time": "2022-06-18T19:20:33.414Z"
   },
   {
    "duration": 34,
    "start_time": "2022-06-18T19:20:33.449Z"
   },
   {
    "duration": 9,
    "start_time": "2022-06-18T19:20:33.485Z"
   },
   {
    "duration": 9,
    "start_time": "2022-06-18T19:20:33.496Z"
   },
   {
    "duration": 18,
    "start_time": "2022-06-18T19:20:33.507Z"
   },
   {
    "duration": 8,
    "start_time": "2022-06-18T19:20:33.528Z"
   },
   {
    "duration": 38,
    "start_time": "2022-06-18T19:20:33.539Z"
   },
   {
    "duration": 6,
    "start_time": "2022-06-18T19:20:33.578Z"
   },
   {
    "duration": 17,
    "start_time": "2022-06-18T19:20:33.585Z"
   },
   {
    "duration": 209,
    "start_time": "2022-06-18T19:20:33.603Z"
   },
   {
    "duration": 17,
    "start_time": "2022-06-18T19:20:33.814Z"
   },
   {
    "duration": 31,
    "start_time": "2022-06-18T19:20:33.835Z"
   },
   {
    "duration": 8,
    "start_time": "2022-06-18T19:20:33.869Z"
   },
   {
    "duration": 20,
    "start_time": "2022-06-18T19:20:33.879Z"
   },
   {
    "duration": 237,
    "start_time": "2022-06-18T19:20:33.901Z"
   },
   {
    "duration": 17,
    "start_time": "2022-06-18T19:20:34.139Z"
   },
   {
    "duration": 24,
    "start_time": "2022-06-18T19:20:34.158Z"
   },
   {
    "duration": 8,
    "start_time": "2022-06-18T19:20:34.186Z"
   },
   {
    "duration": 13,
    "start_time": "2022-06-18T19:20:34.195Z"
   },
   {
    "duration": 42,
    "start_time": "2022-06-18T19:20:34.210Z"
   },
   {
    "duration": 11,
    "start_time": "2022-06-18T19:20:34.256Z"
   },
   {
    "duration": 14,
    "start_time": "2022-06-18T19:20:34.269Z"
   },
   {
    "duration": 13,
    "start_time": "2022-06-18T19:20:34.284Z"
   },
   {
    "duration": 7,
    "start_time": "2022-06-18T19:20:34.298Z"
   },
   {
    "duration": 16,
    "start_time": "2022-06-18T19:20:34.306Z"
   },
   {
    "duration": 44,
    "start_time": "2022-06-18T19:20:34.335Z"
   },
   {
    "duration": 28,
    "start_time": "2022-06-18T19:20:34.381Z"
   },
   {
    "duration": 7,
    "start_time": "2022-06-18T19:20:34.411Z"
   },
   {
    "duration": 116,
    "start_time": "2022-06-18T19:21:29.807Z"
   },
   {
    "duration": 14,
    "start_time": "2022-06-18T19:21:40.370Z"
   },
   {
    "duration": 430,
    "start_time": "2022-06-18T19:21:47.450Z"
   },
   {
    "duration": 277,
    "start_time": "2022-06-18T19:21:47.883Z"
   },
   {
    "duration": 615,
    "start_time": "2022-06-18T19:21:48.164Z"
   },
   {
    "duration": 84,
    "start_time": "2022-06-18T19:21:48.781Z"
   },
   {
    "duration": 14,
    "start_time": "2022-06-18T19:21:48.867Z"
   },
   {
    "duration": 22,
    "start_time": "2022-06-18T19:21:48.883Z"
   },
   {
    "duration": 47,
    "start_time": "2022-06-18T19:21:48.908Z"
   },
   {
    "duration": 26,
    "start_time": "2022-06-18T19:21:48.957Z"
   },
   {
    "duration": 31,
    "start_time": "2022-06-18T19:21:48.986Z"
   },
   {
    "duration": 16,
    "start_time": "2022-06-18T19:21:49.028Z"
   },
   {
    "duration": 33,
    "start_time": "2022-06-18T19:21:49.046Z"
   },
   {
    "duration": 23,
    "start_time": "2022-06-18T19:21:49.081Z"
   },
   {
    "duration": 7,
    "start_time": "2022-06-18T19:21:49.106Z"
   },
   {
    "duration": 21,
    "start_time": "2022-06-18T19:21:49.115Z"
   },
   {
    "duration": 30,
    "start_time": "2022-06-18T19:21:49.138Z"
   },
   {
    "duration": 10,
    "start_time": "2022-06-18T19:21:49.170Z"
   },
   {
    "duration": 215,
    "start_time": "2022-06-18T19:21:49.182Z"
   },
   {
    "duration": 6,
    "start_time": "2022-06-18T19:21:49.400Z"
   },
   {
    "duration": 32,
    "start_time": "2022-06-18T19:21:49.408Z"
   },
   {
    "duration": 131,
    "start_time": "2022-06-18T19:21:49.446Z"
   },
   {
    "duration": 0,
    "start_time": "2022-06-18T19:21:49.580Z"
   },
   {
    "duration": 0,
    "start_time": "2022-06-18T19:21:49.581Z"
   },
   {
    "duration": 0,
    "start_time": "2022-06-18T19:21:49.582Z"
   },
   {
    "duration": 0,
    "start_time": "2022-06-18T19:21:49.583Z"
   },
   {
    "duration": 0,
    "start_time": "2022-06-18T19:21:49.584Z"
   },
   {
    "duration": 0,
    "start_time": "2022-06-18T19:21:49.585Z"
   },
   {
    "duration": 0,
    "start_time": "2022-06-18T19:21:49.586Z"
   },
   {
    "duration": 0,
    "start_time": "2022-06-18T19:21:49.587Z"
   },
   {
    "duration": 0,
    "start_time": "2022-06-18T19:21:49.589Z"
   },
   {
    "duration": 0,
    "start_time": "2022-06-18T19:21:49.590Z"
   },
   {
    "duration": 0,
    "start_time": "2022-06-18T19:21:49.591Z"
   },
   {
    "duration": 0,
    "start_time": "2022-06-18T19:21:49.594Z"
   },
   {
    "duration": 0,
    "start_time": "2022-06-18T19:21:49.595Z"
   },
   {
    "duration": 0,
    "start_time": "2022-06-18T19:21:49.607Z"
   },
   {
    "duration": 0,
    "start_time": "2022-06-18T19:21:49.608Z"
   },
   {
    "duration": 419,
    "start_time": "2022-06-18T19:22:31.336Z"
   },
   {
    "duration": 290,
    "start_time": "2022-06-18T19:22:31.760Z"
   },
   {
    "duration": 646,
    "start_time": "2022-06-18T19:22:32.054Z"
   },
   {
    "duration": 111,
    "start_time": "2022-06-18T19:22:32.703Z"
   },
   {
    "duration": 22,
    "start_time": "2022-06-18T19:22:32.818Z"
   },
   {
    "duration": 51,
    "start_time": "2022-06-18T19:22:32.842Z"
   },
   {
    "duration": 51,
    "start_time": "2022-06-18T19:22:32.895Z"
   },
   {
    "duration": 21,
    "start_time": "2022-06-18T19:22:32.951Z"
   },
   {
    "duration": 25,
    "start_time": "2022-06-18T19:22:32.975Z"
   },
   {
    "duration": 9,
    "start_time": "2022-06-18T19:22:33.003Z"
   },
   {
    "duration": 15,
    "start_time": "2022-06-18T19:22:33.014Z"
   },
   {
    "duration": 15,
    "start_time": "2022-06-18T19:22:33.032Z"
   },
   {
    "duration": 27,
    "start_time": "2022-06-18T19:22:33.049Z"
   },
   {
    "duration": 17,
    "start_time": "2022-06-18T19:22:33.080Z"
   },
   {
    "duration": 4,
    "start_time": "2022-06-18T19:22:33.099Z"
   },
   {
    "duration": 26,
    "start_time": "2022-06-18T19:22:33.105Z"
   },
   {
    "duration": 255,
    "start_time": "2022-06-18T19:22:33.136Z"
   },
   {
    "duration": 7,
    "start_time": "2022-06-18T19:22:33.393Z"
   },
   {
    "duration": 32,
    "start_time": "2022-06-18T19:22:33.402Z"
   },
   {
    "duration": 7,
    "start_time": "2022-06-18T19:22:33.445Z"
   },
   {
    "duration": 12,
    "start_time": "2022-06-18T19:22:33.454Z"
   },
   {
    "duration": 116,
    "start_time": "2022-06-18T19:22:33.468Z"
   },
   {
    "duration": 0,
    "start_time": "2022-06-18T19:22:33.586Z"
   },
   {
    "duration": 0,
    "start_time": "2022-06-18T19:22:33.588Z"
   },
   {
    "duration": 0,
    "start_time": "2022-06-18T19:22:33.588Z"
   },
   {
    "duration": 0,
    "start_time": "2022-06-18T19:22:33.590Z"
   },
   {
    "duration": 0,
    "start_time": "2022-06-18T19:22:33.591Z"
   },
   {
    "duration": 0,
    "start_time": "2022-06-18T19:22:33.592Z"
   },
   {
    "duration": 0,
    "start_time": "2022-06-18T19:22:33.592Z"
   },
   {
    "duration": 1,
    "start_time": "2022-06-18T19:22:33.593Z"
   },
   {
    "duration": 0,
    "start_time": "2022-06-18T19:22:33.594Z"
   },
   {
    "duration": 0,
    "start_time": "2022-06-18T19:22:33.595Z"
   },
   {
    "duration": 0,
    "start_time": "2022-06-18T19:22:33.597Z"
   },
   {
    "duration": 0,
    "start_time": "2022-06-18T19:22:33.597Z"
   },
   {
    "duration": 0,
    "start_time": "2022-06-18T19:22:33.598Z"
   },
   {
    "duration": 6,
    "start_time": "2022-06-18T19:22:44.339Z"
   },
   {
    "duration": 14,
    "start_time": "2022-06-18T19:23:50.775Z"
   },
   {
    "duration": 9,
    "start_time": "2022-06-18T19:23:58.595Z"
   },
   {
    "duration": 476,
    "start_time": "2022-06-18T19:24:02.413Z"
   },
   {
    "duration": 254,
    "start_time": "2022-06-18T19:24:02.893Z"
   },
   {
    "duration": 523,
    "start_time": "2022-06-18T19:24:03.154Z"
   },
   {
    "duration": 81,
    "start_time": "2022-06-18T19:24:03.678Z"
   },
   {
    "duration": 15,
    "start_time": "2022-06-18T19:24:03.762Z"
   },
   {
    "duration": 13,
    "start_time": "2022-06-18T19:24:03.779Z"
   },
   {
    "duration": 37,
    "start_time": "2022-06-18T19:24:03.794Z"
   },
   {
    "duration": 21,
    "start_time": "2022-06-18T19:24:03.834Z"
   },
   {
    "duration": 40,
    "start_time": "2022-06-18T19:24:03.857Z"
   },
   {
    "duration": 16,
    "start_time": "2022-06-18T19:24:03.899Z"
   },
   {
    "duration": 65,
    "start_time": "2022-06-18T19:24:03.917Z"
   },
   {
    "duration": 61,
    "start_time": "2022-06-18T19:24:03.984Z"
   },
   {
    "duration": 30,
    "start_time": "2022-06-18T19:24:04.047Z"
   },
   {
    "duration": 15,
    "start_time": "2022-06-18T19:24:04.084Z"
   },
   {
    "duration": 4,
    "start_time": "2022-06-18T19:24:04.101Z"
   },
   {
    "duration": 26,
    "start_time": "2022-06-18T19:24:04.107Z"
   },
   {
    "duration": 240,
    "start_time": "2022-06-18T19:24:04.135Z"
   },
   {
    "duration": 7,
    "start_time": "2022-06-18T19:24:04.377Z"
   },
   {
    "duration": 11,
    "start_time": "2022-06-18T19:24:04.386Z"
   },
   {
    "duration": 4,
    "start_time": "2022-06-18T19:24:04.399Z"
   },
   {
    "duration": 40,
    "start_time": "2022-06-18T19:24:04.404Z"
   },
   {
    "duration": 155,
    "start_time": "2022-06-18T19:24:04.448Z"
   },
   {
    "duration": 12,
    "start_time": "2022-06-18T19:24:04.605Z"
   },
   {
    "duration": 12,
    "start_time": "2022-06-18T19:24:04.618Z"
   },
   {
    "duration": 40,
    "start_time": "2022-06-18T19:24:04.632Z"
   },
   {
    "duration": 18,
    "start_time": "2022-06-18T19:24:04.674Z"
   },
   {
    "duration": 15,
    "start_time": "2022-06-18T19:24:04.694Z"
   },
   {
    "duration": 17,
    "start_time": "2022-06-18T19:24:04.711Z"
   },
   {
    "duration": 44,
    "start_time": "2022-06-18T19:24:04.732Z"
   },
   {
    "duration": 20,
    "start_time": "2022-06-18T19:24:04.778Z"
   },
   {
    "duration": 17,
    "start_time": "2022-06-18T19:24:04.800Z"
   },
   {
    "duration": 52,
    "start_time": "2022-06-18T19:24:04.819Z"
   },
   {
    "duration": 30,
    "start_time": "2022-06-18T19:24:04.873Z"
   },
   {
    "duration": 18,
    "start_time": "2022-06-18T19:24:04.905Z"
   },
   {
    "duration": 6,
    "start_time": "2022-06-18T19:24:04.924Z"
   },
   {
    "duration": 116,
    "start_time": "2022-06-18T19:24:46.958Z"
   },
   {
    "duration": 398,
    "start_time": "2022-06-18T19:24:50.763Z"
   },
   {
    "duration": 221,
    "start_time": "2022-06-18T19:24:51.163Z"
   },
   {
    "duration": 528,
    "start_time": "2022-06-18T19:24:51.386Z"
   },
   {
    "duration": 97,
    "start_time": "2022-06-18T19:24:51.916Z"
   },
   {
    "duration": 16,
    "start_time": "2022-06-18T19:24:52.015Z"
   },
   {
    "duration": 40,
    "start_time": "2022-06-18T19:24:52.032Z"
   },
   {
    "duration": 23,
    "start_time": "2022-06-18T19:24:52.074Z"
   },
   {
    "duration": 11,
    "start_time": "2022-06-18T19:24:52.099Z"
   },
   {
    "duration": 45,
    "start_time": "2022-06-18T19:24:52.111Z"
   },
   {
    "duration": 7,
    "start_time": "2022-06-18T19:24:52.158Z"
   },
   {
    "duration": 11,
    "start_time": "2022-06-18T19:24:52.166Z"
   },
   {
    "duration": 22,
    "start_time": "2022-06-18T19:24:52.179Z"
   },
   {
    "duration": 6,
    "start_time": "2022-06-18T19:24:52.203Z"
   },
   {
    "duration": 25,
    "start_time": "2022-06-18T19:24:52.212Z"
   },
   {
    "duration": 17,
    "start_time": "2022-06-18T19:24:52.243Z"
   },
   {
    "duration": 9,
    "start_time": "2022-06-18T19:24:52.262Z"
   },
   {
    "duration": 189,
    "start_time": "2022-06-18T19:24:52.273Z"
   },
   {
    "duration": 7,
    "start_time": "2022-06-18T19:24:52.463Z"
   },
   {
    "duration": 135,
    "start_time": "2022-06-18T19:24:52.472Z"
   },
   {
    "duration": 0,
    "start_time": "2022-06-18T19:24:52.609Z"
   },
   {
    "duration": 0,
    "start_time": "2022-06-18T19:24:52.611Z"
   },
   {
    "duration": 0,
    "start_time": "2022-06-18T19:24:52.612Z"
   },
   {
    "duration": 0,
    "start_time": "2022-06-18T19:24:52.623Z"
   },
   {
    "duration": 0,
    "start_time": "2022-06-18T19:24:52.624Z"
   },
   {
    "duration": 0,
    "start_time": "2022-06-18T19:24:52.625Z"
   },
   {
    "duration": 0,
    "start_time": "2022-06-18T19:24:52.630Z"
   },
   {
    "duration": 0,
    "start_time": "2022-06-18T19:24:52.631Z"
   },
   {
    "duration": 0,
    "start_time": "2022-06-18T19:24:52.632Z"
   },
   {
    "duration": 0,
    "start_time": "2022-06-18T19:24:52.633Z"
   },
   {
    "duration": 0,
    "start_time": "2022-06-18T19:24:52.634Z"
   },
   {
    "duration": 0,
    "start_time": "2022-06-18T19:24:52.635Z"
   },
   {
    "duration": 0,
    "start_time": "2022-06-18T19:24:52.635Z"
   },
   {
    "duration": 0,
    "start_time": "2022-06-18T19:24:52.636Z"
   },
   {
    "duration": 0,
    "start_time": "2022-06-18T19:24:52.639Z"
   },
   {
    "duration": 408,
    "start_time": "2022-06-18T19:25:09.655Z"
   },
   {
    "duration": 238,
    "start_time": "2022-06-18T19:25:10.065Z"
   },
   {
    "duration": 544,
    "start_time": "2022-06-18T19:25:10.304Z"
   },
   {
    "duration": 71,
    "start_time": "2022-06-18T19:25:10.849Z"
   },
   {
    "duration": 27,
    "start_time": "2022-06-18T19:25:10.922Z"
   },
   {
    "duration": 19,
    "start_time": "2022-06-18T19:25:10.955Z"
   },
   {
    "duration": 18,
    "start_time": "2022-06-18T19:25:10.975Z"
   },
   {
    "duration": 11,
    "start_time": "2022-06-18T19:25:10.995Z"
   },
   {
    "duration": 41,
    "start_time": "2022-06-18T19:25:11.008Z"
   },
   {
    "duration": 10,
    "start_time": "2022-06-18T19:25:11.052Z"
   },
   {
    "duration": 9,
    "start_time": "2022-06-18T19:25:11.063Z"
   },
   {
    "duration": 13,
    "start_time": "2022-06-18T19:25:11.074Z"
   },
   {
    "duration": 6,
    "start_time": "2022-06-18T19:25:11.089Z"
   },
   {
    "duration": 13,
    "start_time": "2022-06-18T19:25:11.098Z"
   },
   {
    "duration": 15,
    "start_time": "2022-06-18T19:25:11.113Z"
   },
   {
    "duration": 31,
    "start_time": "2022-06-18T19:25:11.130Z"
   },
   {
    "duration": 187,
    "start_time": "2022-06-18T19:25:11.163Z"
   },
   {
    "duration": 8,
    "start_time": "2022-06-18T19:25:11.351Z"
   },
   {
    "duration": 158,
    "start_time": "2022-06-18T19:25:11.361Z"
   },
   {
    "duration": 109,
    "start_time": "2022-06-18T19:25:11.526Z"
   },
   {
    "duration": 0,
    "start_time": "2022-06-18T19:25:11.637Z"
   },
   {
    "duration": 0,
    "start_time": "2022-06-18T19:25:11.638Z"
   },
   {
    "duration": 0,
    "start_time": "2022-06-18T19:25:11.639Z"
   },
   {
    "duration": 0,
    "start_time": "2022-06-18T19:25:11.640Z"
   },
   {
    "duration": 0,
    "start_time": "2022-06-18T19:25:11.641Z"
   },
   {
    "duration": 0,
    "start_time": "2022-06-18T19:25:11.642Z"
   },
   {
    "duration": 0,
    "start_time": "2022-06-18T19:25:11.643Z"
   },
   {
    "duration": 0,
    "start_time": "2022-06-18T19:25:11.644Z"
   },
   {
    "duration": 0,
    "start_time": "2022-06-18T19:25:11.645Z"
   },
   {
    "duration": 0,
    "start_time": "2022-06-18T19:25:11.648Z"
   },
   {
    "duration": 0,
    "start_time": "2022-06-18T19:25:11.649Z"
   },
   {
    "duration": 0,
    "start_time": "2022-06-18T19:25:11.650Z"
   },
   {
    "duration": 0,
    "start_time": "2022-06-18T19:25:11.650Z"
   },
   {
    "duration": 0,
    "start_time": "2022-06-18T19:25:11.651Z"
   },
   {
    "duration": 155,
    "start_time": "2022-06-18T19:26:06.040Z"
   },
   {
    "duration": 159,
    "start_time": "2022-06-18T19:26:33.016Z"
   },
   {
    "duration": 388,
    "start_time": "2022-06-18T19:27:30.779Z"
   },
   {
    "duration": 230,
    "start_time": "2022-06-18T19:27:31.169Z"
   },
   {
    "duration": 566,
    "start_time": "2022-06-18T19:27:31.401Z"
   },
   {
    "duration": 80,
    "start_time": "2022-06-18T19:27:31.970Z"
   },
   {
    "duration": 19,
    "start_time": "2022-06-18T19:27:32.057Z"
   },
   {
    "duration": 15,
    "start_time": "2022-06-18T19:27:32.078Z"
   },
   {
    "duration": 28,
    "start_time": "2022-06-18T19:27:32.095Z"
   },
   {
    "duration": 32,
    "start_time": "2022-06-18T19:27:32.125Z"
   },
   {
    "duration": 34,
    "start_time": "2022-06-18T19:27:32.160Z"
   },
   {
    "duration": 7,
    "start_time": "2022-06-18T19:27:32.195Z"
   },
   {
    "duration": 9,
    "start_time": "2022-06-18T19:27:32.204Z"
   },
   {
    "duration": 24,
    "start_time": "2022-06-18T19:27:32.215Z"
   },
   {
    "duration": 21,
    "start_time": "2022-06-18T19:27:32.247Z"
   },
   {
    "duration": 15,
    "start_time": "2022-06-18T19:27:32.272Z"
   },
   {
    "duration": 3,
    "start_time": "2022-06-18T19:27:32.289Z"
   },
   {
    "duration": 9,
    "start_time": "2022-06-18T19:27:32.294Z"
   },
   {
    "duration": 191,
    "start_time": "2022-06-18T19:27:32.304Z"
   },
   {
    "duration": 7,
    "start_time": "2022-06-18T19:27:32.496Z"
   },
   {
    "duration": 191,
    "start_time": "2022-06-18T19:27:32.504Z"
   },
   {
    "duration": 13,
    "start_time": "2022-06-18T19:27:32.697Z"
   },
   {
    "duration": 52,
    "start_time": "2022-06-18T19:27:32.726Z"
   },
   {
    "duration": 10,
    "start_time": "2022-06-18T19:27:32.780Z"
   },
   {
    "duration": 21,
    "start_time": "2022-06-18T19:27:32.792Z"
   },
   {
    "duration": 19,
    "start_time": "2022-06-18T19:27:32.815Z"
   },
   {
    "duration": 26,
    "start_time": "2022-06-18T19:27:32.837Z"
   },
   {
    "duration": 23,
    "start_time": "2022-06-18T19:27:32.865Z"
   },
   {
    "duration": 18,
    "start_time": "2022-06-18T19:27:32.890Z"
   },
   {
    "duration": 18,
    "start_time": "2022-06-18T19:27:32.910Z"
   },
   {
    "duration": 38,
    "start_time": "2022-06-18T19:27:32.934Z"
   },
   {
    "duration": 20,
    "start_time": "2022-06-18T19:27:32.974Z"
   },
   {
    "duration": 23,
    "start_time": "2022-06-18T19:27:32.996Z"
   },
   {
    "duration": 19,
    "start_time": "2022-06-18T19:27:33.021Z"
   },
   {
    "duration": 137,
    "start_time": "2022-06-18T19:28:27.169Z"
   },
   {
    "duration": 442,
    "start_time": "2022-06-18T19:28:31.007Z"
   },
   {
    "duration": 223,
    "start_time": "2022-06-18T19:28:31.451Z"
   },
   {
    "duration": 588,
    "start_time": "2022-06-18T19:28:31.676Z"
   },
   {
    "duration": 84,
    "start_time": "2022-06-18T19:28:32.265Z"
   },
   {
    "duration": 15,
    "start_time": "2022-06-18T19:28:32.355Z"
   },
   {
    "duration": 12,
    "start_time": "2022-06-18T19:28:32.372Z"
   },
   {
    "duration": 51,
    "start_time": "2022-06-18T19:28:32.386Z"
   },
   {
    "duration": 21,
    "start_time": "2022-06-18T19:28:32.438Z"
   },
   {
    "duration": 80,
    "start_time": "2022-06-18T19:28:32.460Z"
   },
   {
    "duration": 9,
    "start_time": "2022-06-18T19:28:32.542Z"
   },
   {
    "duration": 76,
    "start_time": "2022-06-18T19:28:32.553Z"
   },
   {
    "duration": 94,
    "start_time": "2022-06-18T19:28:32.633Z"
   },
   {
    "duration": 42,
    "start_time": "2022-06-18T19:28:32.729Z"
   },
   {
    "duration": 64,
    "start_time": "2022-06-18T19:28:32.775Z"
   },
   {
    "duration": 58,
    "start_time": "2022-06-18T19:28:32.841Z"
   },
   {
    "duration": 71,
    "start_time": "2022-06-18T19:28:32.922Z"
   },
   {
    "duration": 530,
    "start_time": "2022-06-18T19:28:32.995Z"
   },
   {
    "duration": 22,
    "start_time": "2022-06-18T19:28:33.532Z"
   },
   {
    "duration": 409,
    "start_time": "2022-06-18T19:28:33.557Z"
   },
   {
    "duration": 61,
    "start_time": "2022-06-18T19:28:33.969Z"
   },
   {
    "duration": 299,
    "start_time": "2022-06-18T19:28:34.032Z"
   },
   {
    "duration": 0,
    "start_time": "2022-06-18T19:28:34.334Z"
   },
   {
    "duration": 0,
    "start_time": "2022-06-18T19:28:34.335Z"
   },
   {
    "duration": 0,
    "start_time": "2022-06-18T19:28:34.335Z"
   },
   {
    "duration": 0,
    "start_time": "2022-06-18T19:28:34.336Z"
   },
   {
    "duration": 0,
    "start_time": "2022-06-18T19:28:34.337Z"
   },
   {
    "duration": 0,
    "start_time": "2022-06-18T19:28:34.338Z"
   },
   {
    "duration": 0,
    "start_time": "2022-06-18T19:28:34.339Z"
   },
   {
    "duration": 0,
    "start_time": "2022-06-18T19:28:34.340Z"
   },
   {
    "duration": 0,
    "start_time": "2022-06-18T19:28:34.341Z"
   },
   {
    "duration": 0,
    "start_time": "2022-06-18T19:28:34.343Z"
   },
   {
    "duration": 0,
    "start_time": "2022-06-18T19:28:34.344Z"
   },
   {
    "duration": 0,
    "start_time": "2022-06-18T19:28:34.345Z"
   },
   {
    "duration": 0,
    "start_time": "2022-06-18T19:28:34.346Z"
   },
   {
    "duration": 384,
    "start_time": "2022-06-18T19:28:41.782Z"
   },
   {
    "duration": 220,
    "start_time": "2022-06-18T19:28:42.168Z"
   },
   {
    "duration": 651,
    "start_time": "2022-06-18T19:28:42.390Z"
   },
   {
    "duration": 95,
    "start_time": "2022-06-18T19:28:43.051Z"
   },
   {
    "duration": 28,
    "start_time": "2022-06-18T19:28:43.147Z"
   },
   {
    "duration": 24,
    "start_time": "2022-06-18T19:28:43.180Z"
   },
   {
    "duration": 34,
    "start_time": "2022-06-18T19:28:43.206Z"
   },
   {
    "duration": 35,
    "start_time": "2022-06-18T19:28:43.250Z"
   },
   {
    "duration": 43,
    "start_time": "2022-06-18T19:28:43.288Z"
   },
   {
    "duration": 34,
    "start_time": "2022-06-18T19:28:43.336Z"
   },
   {
    "duration": 9,
    "start_time": "2022-06-18T19:28:43.373Z"
   },
   {
    "duration": 25,
    "start_time": "2022-06-18T19:28:43.384Z"
   },
   {
    "duration": 8,
    "start_time": "2022-06-18T19:28:43.411Z"
   },
   {
    "duration": 50,
    "start_time": "2022-06-18T19:28:43.421Z"
   },
   {
    "duration": 8,
    "start_time": "2022-06-18T19:28:43.473Z"
   },
   {
    "duration": 12,
    "start_time": "2022-06-18T19:28:43.483Z"
   },
   {
    "duration": 255,
    "start_time": "2022-06-18T19:28:43.497Z"
   },
   {
    "duration": 12,
    "start_time": "2022-06-18T19:28:43.760Z"
   },
   {
    "duration": 183,
    "start_time": "2022-06-18T19:28:43.774Z"
   },
   {
    "duration": 20,
    "start_time": "2022-06-18T19:28:43.965Z"
   },
   {
    "duration": 6,
    "start_time": "2022-06-18T19:28:43.987Z"
   },
   {
    "duration": 18,
    "start_time": "2022-06-18T19:28:43.994Z"
   },
   {
    "duration": 207,
    "start_time": "2022-06-18T19:28:44.015Z"
   },
   {
    "duration": 0,
    "start_time": "2022-06-18T19:28:44.224Z"
   },
   {
    "duration": 0,
    "start_time": "2022-06-18T19:28:44.226Z"
   },
   {
    "duration": 0,
    "start_time": "2022-06-18T19:28:44.227Z"
   },
   {
    "duration": 0,
    "start_time": "2022-06-18T19:28:44.228Z"
   },
   {
    "duration": 0,
    "start_time": "2022-06-18T19:28:44.229Z"
   },
   {
    "duration": 0,
    "start_time": "2022-06-18T19:28:44.230Z"
   },
   {
    "duration": 0,
    "start_time": "2022-06-18T19:28:44.230Z"
   },
   {
    "duration": 0,
    "start_time": "2022-06-18T19:28:44.231Z"
   },
   {
    "duration": 0,
    "start_time": "2022-06-18T19:28:44.232Z"
   },
   {
    "duration": 0,
    "start_time": "2022-06-18T19:28:44.233Z"
   },
   {
    "duration": 0,
    "start_time": "2022-06-18T19:28:44.234Z"
   },
   {
    "duration": 418,
    "start_time": "2022-06-18T19:29:19.779Z"
   },
   {
    "duration": 257,
    "start_time": "2022-06-18T19:29:20.200Z"
   },
   {
    "duration": 516,
    "start_time": "2022-06-18T19:29:20.459Z"
   },
   {
    "duration": 81,
    "start_time": "2022-06-18T19:29:20.976Z"
   },
   {
    "duration": 14,
    "start_time": "2022-06-18T19:29:21.060Z"
   },
   {
    "duration": 15,
    "start_time": "2022-06-18T19:29:21.076Z"
   },
   {
    "duration": 34,
    "start_time": "2022-06-18T19:29:21.092Z"
   },
   {
    "duration": 20,
    "start_time": "2022-06-18T19:29:21.132Z"
   },
   {
    "duration": 20,
    "start_time": "2022-06-18T19:29:21.155Z"
   },
   {
    "duration": 6,
    "start_time": "2022-06-18T19:29:21.177Z"
   },
   {
    "duration": 8,
    "start_time": "2022-06-18T19:29:21.184Z"
   },
   {
    "duration": 35,
    "start_time": "2022-06-18T19:29:21.193Z"
   },
   {
    "duration": 31,
    "start_time": "2022-06-18T19:29:21.233Z"
   },
   {
    "duration": 14,
    "start_time": "2022-06-18T19:29:21.267Z"
   },
   {
    "duration": 8,
    "start_time": "2022-06-18T19:29:21.283Z"
   },
   {
    "duration": 9,
    "start_time": "2022-06-18T19:29:21.292Z"
   },
   {
    "duration": 191,
    "start_time": "2022-06-18T19:29:21.303Z"
   },
   {
    "duration": 7,
    "start_time": "2022-06-18T19:29:21.495Z"
   },
   {
    "duration": 173,
    "start_time": "2022-06-18T19:29:21.504Z"
   },
   {
    "duration": 12,
    "start_time": "2022-06-18T19:29:21.679Z"
   },
   {
    "duration": 9,
    "start_time": "2022-06-18T19:29:21.693Z"
   },
   {
    "duration": 29,
    "start_time": "2022-06-18T19:29:21.704Z"
   },
   {
    "duration": 143,
    "start_time": "2022-06-18T19:29:21.734Z"
   },
   {
    "duration": 0,
    "start_time": "2022-06-18T19:29:21.879Z"
   },
   {
    "duration": 0,
    "start_time": "2022-06-18T19:29:21.880Z"
   },
   {
    "duration": 0,
    "start_time": "2022-06-18T19:29:21.882Z"
   },
   {
    "duration": 1,
    "start_time": "2022-06-18T19:29:21.883Z"
   },
   {
    "duration": 0,
    "start_time": "2022-06-18T19:29:21.885Z"
   },
   {
    "duration": 0,
    "start_time": "2022-06-18T19:29:21.887Z"
   },
   {
    "duration": 0,
    "start_time": "2022-06-18T19:29:21.889Z"
   },
   {
    "duration": 0,
    "start_time": "2022-06-18T19:29:21.890Z"
   },
   {
    "duration": 0,
    "start_time": "2022-06-18T19:29:21.891Z"
   },
   {
    "duration": 0,
    "start_time": "2022-06-18T19:29:21.893Z"
   },
   {
    "duration": 0,
    "start_time": "2022-06-18T19:29:21.894Z"
   },
   {
    "duration": 407,
    "start_time": "2022-06-18T19:29:41.862Z"
   },
   {
    "duration": 221,
    "start_time": "2022-06-18T19:29:42.271Z"
   },
   {
    "duration": 568,
    "start_time": "2022-06-18T19:29:42.494Z"
   },
   {
    "duration": 80,
    "start_time": "2022-06-18T19:29:43.064Z"
   },
   {
    "duration": 16,
    "start_time": "2022-06-18T19:29:43.150Z"
   },
   {
    "duration": 13,
    "start_time": "2022-06-18T19:29:43.167Z"
   },
   {
    "duration": 18,
    "start_time": "2022-06-18T19:29:43.182Z"
   },
   {
    "duration": 11,
    "start_time": "2022-06-18T19:29:43.201Z"
   },
   {
    "duration": 60,
    "start_time": "2022-06-18T19:29:43.213Z"
   },
   {
    "duration": 7,
    "start_time": "2022-06-18T19:29:43.275Z"
   },
   {
    "duration": 14,
    "start_time": "2022-06-18T19:29:43.283Z"
   },
   {
    "duration": 15,
    "start_time": "2022-06-18T19:29:43.299Z"
   },
   {
    "duration": 13,
    "start_time": "2022-06-18T19:29:43.315Z"
   },
   {
    "duration": 41,
    "start_time": "2022-06-18T19:29:43.331Z"
   },
   {
    "duration": 6,
    "start_time": "2022-06-18T19:29:43.374Z"
   },
   {
    "duration": 11,
    "start_time": "2022-06-18T19:29:43.382Z"
   },
   {
    "duration": 188,
    "start_time": "2022-06-18T19:29:43.394Z"
   },
   {
    "duration": 7,
    "start_time": "2022-06-18T19:29:43.584Z"
   },
   {
    "duration": 175,
    "start_time": "2022-06-18T19:29:43.592Z"
   },
   {
    "duration": 11,
    "start_time": "2022-06-18T19:29:43.768Z"
   },
   {
    "duration": 4,
    "start_time": "2022-06-18T19:29:43.780Z"
   },
   {
    "duration": 12,
    "start_time": "2022-06-18T19:29:43.785Z"
   },
   {
    "duration": 294,
    "start_time": "2022-06-18T19:29:43.799Z"
   },
   {
    "duration": 0,
    "start_time": "2022-06-18T19:29:44.095Z"
   },
   {
    "duration": 0,
    "start_time": "2022-06-18T19:29:44.096Z"
   },
   {
    "duration": 0,
    "start_time": "2022-06-18T19:29:44.097Z"
   },
   {
    "duration": 0,
    "start_time": "2022-06-18T19:29:44.098Z"
   },
   {
    "duration": 0,
    "start_time": "2022-06-18T19:29:44.099Z"
   },
   {
    "duration": 0,
    "start_time": "2022-06-18T19:29:44.100Z"
   },
   {
    "duration": 0,
    "start_time": "2022-06-18T19:29:44.101Z"
   },
   {
    "duration": 0,
    "start_time": "2022-06-18T19:29:44.102Z"
   },
   {
    "duration": 0,
    "start_time": "2022-06-18T19:29:44.103Z"
   },
   {
    "duration": 0,
    "start_time": "2022-06-18T19:29:44.104Z"
   },
   {
    "duration": 0,
    "start_time": "2022-06-18T19:29:44.105Z"
   },
   {
    "duration": 426,
    "start_time": "2022-06-18T19:30:08.109Z"
   },
   {
    "duration": 240,
    "start_time": "2022-06-18T19:30:08.537Z"
   },
   {
    "duration": 571,
    "start_time": "2022-06-18T19:30:08.779Z"
   },
   {
    "duration": 83,
    "start_time": "2022-06-18T19:30:09.359Z"
   },
   {
    "duration": 19,
    "start_time": "2022-06-18T19:30:09.443Z"
   },
   {
    "duration": 17,
    "start_time": "2022-06-18T19:30:09.464Z"
   },
   {
    "duration": 29,
    "start_time": "2022-06-18T19:30:09.484Z"
   },
   {
    "duration": 37,
    "start_time": "2022-06-18T19:30:09.515Z"
   },
   {
    "duration": 28,
    "start_time": "2022-06-18T19:30:09.554Z"
   },
   {
    "duration": 7,
    "start_time": "2022-06-18T19:30:09.585Z"
   },
   {
    "duration": 10,
    "start_time": "2022-06-18T19:30:09.594Z"
   },
   {
    "duration": 21,
    "start_time": "2022-06-18T19:30:09.605Z"
   },
   {
    "duration": 28,
    "start_time": "2022-06-18T19:30:09.627Z"
   },
   {
    "duration": 18,
    "start_time": "2022-06-18T19:30:09.657Z"
   },
   {
    "duration": 4,
    "start_time": "2022-06-18T19:30:09.676Z"
   },
   {
    "duration": 11,
    "start_time": "2022-06-18T19:30:09.681Z"
   },
   {
    "duration": 199,
    "start_time": "2022-06-18T19:30:09.693Z"
   },
   {
    "duration": 10,
    "start_time": "2022-06-18T19:30:09.895Z"
   },
   {
    "duration": 224,
    "start_time": "2022-06-18T19:30:09.906Z"
   },
   {
    "duration": 20,
    "start_time": "2022-06-18T19:30:10.134Z"
   },
   {
    "duration": 5,
    "start_time": "2022-06-18T19:30:10.155Z"
   },
   {
    "duration": 11,
    "start_time": "2022-06-18T19:30:10.161Z"
   },
   {
    "duration": 202,
    "start_time": "2022-06-18T19:30:10.174Z"
   },
   {
    "duration": 7,
    "start_time": "2022-06-18T19:30:10.378Z"
   },
   {
    "duration": 14,
    "start_time": "2022-06-18T19:30:10.387Z"
   },
   {
    "duration": 31,
    "start_time": "2022-06-18T19:30:10.403Z"
   },
   {
    "duration": 44,
    "start_time": "2022-06-18T19:30:10.435Z"
   },
   {
    "duration": 15,
    "start_time": "2022-06-18T19:30:10.483Z"
   },
   {
    "duration": 16,
    "start_time": "2022-06-18T19:30:10.500Z"
   },
   {
    "duration": 14,
    "start_time": "2022-06-18T19:30:10.518Z"
   },
   {
    "duration": 45,
    "start_time": "2022-06-18T19:30:10.535Z"
   },
   {
    "duration": 24,
    "start_time": "2022-06-18T19:30:10.582Z"
   },
   {
    "duration": 28,
    "start_time": "2022-06-18T19:30:10.607Z"
   },
   {
    "duration": 21,
    "start_time": "2022-06-18T19:30:10.642Z"
   },
   {
    "duration": 450,
    "start_time": "2022-06-18T19:32:47.913Z"
   },
   {
    "duration": 232,
    "start_time": "2022-06-18T19:32:48.365Z"
   },
   {
    "duration": 572,
    "start_time": "2022-06-18T19:32:48.598Z"
   },
   {
    "duration": 88,
    "start_time": "2022-06-18T19:32:49.172Z"
   },
   {
    "duration": 18,
    "start_time": "2022-06-18T19:32:49.265Z"
   },
   {
    "duration": 16,
    "start_time": "2022-06-18T19:32:49.285Z"
   },
   {
    "duration": 48,
    "start_time": "2022-06-18T19:32:49.303Z"
   },
   {
    "duration": 19,
    "start_time": "2022-06-18T19:32:49.353Z"
   },
   {
    "duration": 30,
    "start_time": "2022-06-18T19:32:49.374Z"
   },
   {
    "duration": 6,
    "start_time": "2022-06-18T19:32:49.407Z"
   },
   {
    "duration": 19,
    "start_time": "2022-06-18T19:32:49.414Z"
   },
   {
    "duration": 39,
    "start_time": "2022-06-18T19:32:49.435Z"
   },
   {
    "duration": 6,
    "start_time": "2022-06-18T19:32:49.476Z"
   },
   {
    "duration": 15,
    "start_time": "2022-06-18T19:32:49.483Z"
   },
   {
    "duration": 4,
    "start_time": "2022-06-18T19:32:49.499Z"
   },
   {
    "duration": 8,
    "start_time": "2022-06-18T19:32:49.505Z"
   },
   {
    "duration": 201,
    "start_time": "2022-06-18T19:32:49.515Z"
   },
   {
    "duration": 10,
    "start_time": "2022-06-18T19:32:49.723Z"
   },
   {
    "duration": 211,
    "start_time": "2022-06-18T19:32:49.737Z"
   },
   {
    "duration": 15,
    "start_time": "2022-06-18T19:32:49.950Z"
   },
   {
    "duration": 13,
    "start_time": "2022-06-18T19:32:49.967Z"
   },
   {
    "duration": 13,
    "start_time": "2022-06-18T19:32:49.981Z"
   },
   {
    "duration": 204,
    "start_time": "2022-06-18T19:32:49.996Z"
   },
   {
    "duration": 8,
    "start_time": "2022-06-18T19:32:50.202Z"
   },
   {
    "duration": 31,
    "start_time": "2022-06-18T19:32:50.213Z"
   },
   {
    "duration": 14,
    "start_time": "2022-06-18T19:32:50.251Z"
   },
   {
    "duration": 20,
    "start_time": "2022-06-18T19:32:50.267Z"
   },
   {
    "duration": 14,
    "start_time": "2022-06-18T19:32:50.290Z"
   },
   {
    "duration": 114,
    "start_time": "2022-06-18T19:32:50.306Z"
   },
   {
    "duration": 0,
    "start_time": "2022-06-18T19:32:50.422Z"
   },
   {
    "duration": 0,
    "start_time": "2022-06-18T19:32:50.424Z"
   },
   {
    "duration": 0,
    "start_time": "2022-06-18T19:32:50.425Z"
   },
   {
    "duration": 0,
    "start_time": "2022-06-18T19:32:50.428Z"
   },
   {
    "duration": 1,
    "start_time": "2022-06-18T19:32:50.429Z"
   },
   {
    "duration": 0,
    "start_time": "2022-06-18T19:32:50.431Z"
   },
   {
    "duration": 8,
    "start_time": "2022-06-18T19:33:06.863Z"
   },
   {
    "duration": 18,
    "start_time": "2022-06-18T19:33:09.843Z"
   },
   {
    "duration": 15,
    "start_time": "2022-06-18T19:33:38.451Z"
   },
   {
    "duration": 472,
    "start_time": "2022-06-18T19:33:48.554Z"
   },
   {
    "duration": 272,
    "start_time": "2022-06-18T19:33:49.028Z"
   },
   {
    "duration": 532,
    "start_time": "2022-06-18T19:33:49.302Z"
   },
   {
    "duration": 81,
    "start_time": "2022-06-18T19:33:49.836Z"
   },
   {
    "duration": 33,
    "start_time": "2022-06-18T19:33:49.919Z"
   },
   {
    "duration": 52,
    "start_time": "2022-06-18T19:33:49.954Z"
   },
   {
    "duration": 29,
    "start_time": "2022-06-18T19:33:50.008Z"
   },
   {
    "duration": 32,
    "start_time": "2022-06-18T19:33:50.041Z"
   },
   {
    "duration": 23,
    "start_time": "2022-06-18T19:33:50.075Z"
   },
   {
    "duration": 7,
    "start_time": "2022-06-18T19:33:50.101Z"
   },
   {
    "duration": 11,
    "start_time": "2022-06-18T19:33:50.110Z"
   },
   {
    "duration": 41,
    "start_time": "2022-06-18T19:33:50.123Z"
   },
   {
    "duration": 11,
    "start_time": "2022-06-18T19:33:50.165Z"
   },
   {
    "duration": 14,
    "start_time": "2022-06-18T19:33:50.178Z"
   },
   {
    "duration": 4,
    "start_time": "2022-06-18T19:33:50.193Z"
   },
   {
    "duration": 11,
    "start_time": "2022-06-18T19:33:50.199Z"
   },
   {
    "duration": 187,
    "start_time": "2022-06-18T19:33:50.212Z"
   },
   {
    "duration": 6,
    "start_time": "2022-06-18T19:33:50.401Z"
   },
   {
    "duration": 169,
    "start_time": "2022-06-18T19:33:50.408Z"
   },
   {
    "duration": 12,
    "start_time": "2022-06-18T19:33:50.580Z"
   },
   {
    "duration": 4,
    "start_time": "2022-06-18T19:33:50.593Z"
   },
   {
    "duration": 16,
    "start_time": "2022-06-18T19:33:50.598Z"
   },
   {
    "duration": 217,
    "start_time": "2022-06-18T19:33:50.622Z"
   },
   {
    "duration": 9,
    "start_time": "2022-06-18T19:33:50.841Z"
   },
   {
    "duration": 28,
    "start_time": "2022-06-18T19:33:50.852Z"
   },
   {
    "duration": 3,
    "start_time": "2022-06-18T19:33:50.881Z"
   },
   {
    "duration": 16,
    "start_time": "2022-06-18T19:33:50.886Z"
   },
   {
    "duration": 14,
    "start_time": "2022-06-18T19:33:50.905Z"
   },
   {
    "duration": 8,
    "start_time": "2022-06-18T19:33:50.921Z"
   },
   {
    "duration": 36,
    "start_time": "2022-06-18T19:33:50.930Z"
   },
   {
    "duration": 116,
    "start_time": "2022-06-18T19:33:50.968Z"
   },
   {
    "duration": 0,
    "start_time": "2022-06-18T19:33:51.085Z"
   },
   {
    "duration": 0,
    "start_time": "2022-06-18T19:33:51.087Z"
   },
   {
    "duration": 0,
    "start_time": "2022-06-18T19:33:51.088Z"
   },
   {
    "duration": 0,
    "start_time": "2022-06-18T19:33:51.089Z"
   },
   {
    "duration": 426,
    "start_time": "2022-06-18T19:34:19.202Z"
   },
   {
    "duration": 222,
    "start_time": "2022-06-18T19:34:19.630Z"
   },
   {
    "duration": 535,
    "start_time": "2022-06-18T19:34:19.854Z"
   },
   {
    "duration": 97,
    "start_time": "2022-06-18T19:34:20.391Z"
   },
   {
    "duration": 16,
    "start_time": "2022-06-18T19:34:20.490Z"
   },
   {
    "duration": 35,
    "start_time": "2022-06-18T19:34:20.508Z"
   },
   {
    "duration": 31,
    "start_time": "2022-06-18T19:34:20.546Z"
   },
   {
    "duration": 12,
    "start_time": "2022-06-18T19:34:20.578Z"
   },
   {
    "duration": 24,
    "start_time": "2022-06-18T19:34:20.591Z"
   },
   {
    "duration": 17,
    "start_time": "2022-06-18T19:34:20.618Z"
   },
   {
    "duration": 26,
    "start_time": "2022-06-18T19:34:20.637Z"
   },
   {
    "duration": 31,
    "start_time": "2022-06-18T19:34:20.665Z"
   },
   {
    "duration": 10,
    "start_time": "2022-06-18T19:34:20.698Z"
   },
   {
    "duration": 18,
    "start_time": "2022-06-18T19:34:20.710Z"
   },
   {
    "duration": 29,
    "start_time": "2022-06-18T19:34:20.730Z"
   },
   {
    "duration": 14,
    "start_time": "2022-06-18T19:34:20.761Z"
   },
   {
    "duration": 213,
    "start_time": "2022-06-18T19:34:20.777Z"
   },
   {
    "duration": 8,
    "start_time": "2022-06-18T19:34:20.991Z"
   },
   {
    "duration": 197,
    "start_time": "2022-06-18T19:34:21.001Z"
   },
   {
    "duration": 31,
    "start_time": "2022-06-18T19:34:21.199Z"
   },
   {
    "duration": 6,
    "start_time": "2022-06-18T19:34:21.235Z"
   },
   {
    "duration": 32,
    "start_time": "2022-06-18T19:34:21.243Z"
   },
   {
    "duration": 220,
    "start_time": "2022-06-18T19:34:21.277Z"
   },
   {
    "duration": 6,
    "start_time": "2022-06-18T19:34:21.499Z"
   },
   {
    "duration": 29,
    "start_time": "2022-06-18T19:34:21.507Z"
   },
   {
    "duration": 18,
    "start_time": "2022-06-18T19:34:21.540Z"
   },
   {
    "duration": 22,
    "start_time": "2022-06-18T19:34:21.560Z"
   },
   {
    "duration": 24,
    "start_time": "2022-06-18T19:34:21.585Z"
   },
   {
    "duration": 4,
    "start_time": "2022-06-18T19:34:21.611Z"
   },
   {
    "duration": 40,
    "start_time": "2022-06-18T19:34:21.617Z"
   },
   {
    "duration": 201,
    "start_time": "2022-06-18T19:34:21.659Z"
   },
   {
    "duration": 18,
    "start_time": "2022-06-18T19:34:21.862Z"
   },
   {
    "duration": 21,
    "start_time": "2022-06-18T19:34:21.882Z"
   },
   {
    "duration": 54,
    "start_time": "2022-06-18T19:34:21.906Z"
   },
   {
    "duration": 12,
    "start_time": "2022-06-18T19:34:21.962Z"
   },
   {
    "duration": 439,
    "start_time": "2022-06-21T17:35:26.605Z"
   },
   {
    "duration": 394,
    "start_time": "2022-06-21T17:35:27.045Z"
   },
   {
    "duration": 483,
    "start_time": "2022-06-21T17:35:27.441Z"
   },
   {
    "duration": 623,
    "start_time": "2022-06-21T17:35:27.926Z"
   },
   {
    "duration": 14,
    "start_time": "2022-06-21T17:35:28.551Z"
   },
   {
    "duration": 12,
    "start_time": "2022-06-21T17:35:28.566Z"
   },
   {
    "duration": 17,
    "start_time": "2022-06-21T17:35:28.579Z"
   },
   {
    "duration": 10,
    "start_time": "2022-06-21T17:35:28.597Z"
   },
   {
    "duration": 39,
    "start_time": "2022-06-21T17:35:28.609Z"
   },
   {
    "duration": 6,
    "start_time": "2022-06-21T17:35:28.651Z"
   },
   {
    "duration": 13,
    "start_time": "2022-06-21T17:35:28.659Z"
   },
   {
    "duration": 38,
    "start_time": "2022-06-21T17:35:28.674Z"
   },
   {
    "duration": 8,
    "start_time": "2022-06-21T17:35:28.713Z"
   },
   {
    "duration": 27,
    "start_time": "2022-06-21T17:35:28.722Z"
   },
   {
    "duration": 3,
    "start_time": "2022-06-21T17:35:28.751Z"
   },
   {
    "duration": 15,
    "start_time": "2022-06-21T17:35:28.756Z"
   },
   {
    "duration": 200,
    "start_time": "2022-06-21T17:35:28.773Z"
   },
   {
    "duration": 6,
    "start_time": "2022-06-21T17:35:28.975Z"
   },
   {
    "duration": 178,
    "start_time": "2022-06-21T17:35:28.983Z"
   },
   {
    "duration": 12,
    "start_time": "2022-06-21T17:35:29.163Z"
   },
   {
    "duration": 4,
    "start_time": "2022-06-21T17:35:29.177Z"
   },
   {
    "duration": 9,
    "start_time": "2022-06-21T17:35:29.183Z"
   },
   {
    "duration": 193,
    "start_time": "2022-06-21T17:35:29.193Z"
   },
   {
    "duration": 7,
    "start_time": "2022-06-21T17:35:29.388Z"
   },
   {
    "duration": 18,
    "start_time": "2022-06-21T17:35:29.396Z"
   },
   {
    "duration": 22,
    "start_time": "2022-06-21T17:35:29.416Z"
   },
   {
    "duration": 15,
    "start_time": "2022-06-21T17:35:29.440Z"
   },
   {
    "duration": 151,
    "start_time": "2022-06-21T17:35:29.458Z"
   },
   {
    "duration": 23,
    "start_time": "2022-06-21T17:35:29.611Z"
   },
   {
    "duration": 4,
    "start_time": "2022-06-21T17:35:29.639Z"
   },
   {
    "duration": 12,
    "start_time": "2022-06-21T17:35:29.645Z"
   },
   {
    "duration": 181,
    "start_time": "2022-06-21T17:35:29.659Z"
   },
   {
    "duration": 11,
    "start_time": "2022-06-21T17:35:29.842Z"
   },
   {
    "duration": 17,
    "start_time": "2022-06-21T17:35:29.854Z"
   },
   {
    "duration": 20,
    "start_time": "2022-06-21T17:35:29.872Z"
   },
   {
    "duration": 18,
    "start_time": "2022-06-21T17:35:29.893Z"
   },
   {
    "duration": 7,
    "start_time": "2022-06-21T17:35:29.912Z"
   },
   {
    "duration": 40,
    "start_time": "2022-06-21T17:35:29.920Z"
   },
   {
    "duration": 22,
    "start_time": "2022-06-21T17:35:29.961Z"
   },
   {
    "duration": 4,
    "start_time": "2022-06-21T17:35:29.984Z"
   },
   {
    "duration": 6,
    "start_time": "2022-06-21T17:35:29.990Z"
   },
   {
    "duration": 24,
    "start_time": "2022-06-21T17:35:29.997Z"
   },
   {
    "duration": 3,
    "start_time": "2022-06-21T17:35:57.375Z"
   },
   {
    "duration": 453,
    "start_time": "2022-06-21T17:36:09.207Z"
   },
   {
    "duration": 240,
    "start_time": "2022-06-21T17:36:09.663Z"
   },
   {
    "duration": 545,
    "start_time": "2022-06-21T17:36:09.905Z"
   },
   {
    "duration": 70,
    "start_time": "2022-06-21T17:36:10.454Z"
   },
   {
    "duration": 17,
    "start_time": "2022-06-21T17:36:10.533Z"
   },
   {
    "duration": 33,
    "start_time": "2022-06-21T17:36:10.552Z"
   },
   {
    "duration": 53,
    "start_time": "2022-06-21T17:36:10.586Z"
   },
   {
    "duration": 22,
    "start_time": "2022-06-21T17:36:10.640Z"
   },
   {
    "duration": 40,
    "start_time": "2022-06-21T17:36:10.664Z"
   },
   {
    "duration": 11,
    "start_time": "2022-06-21T17:36:10.706Z"
   },
   {
    "duration": 35,
    "start_time": "2022-06-21T17:36:10.718Z"
   },
   {
    "duration": 25,
    "start_time": "2022-06-21T17:36:10.755Z"
   },
   {
    "duration": 35,
    "start_time": "2022-06-21T17:36:10.782Z"
   },
   {
    "duration": 34,
    "start_time": "2022-06-21T17:36:10.818Z"
   },
   {
    "duration": 12,
    "start_time": "2022-06-21T17:36:10.854Z"
   },
   {
    "duration": 31,
    "start_time": "2022-06-21T17:36:10.867Z"
   },
   {
    "duration": 201,
    "start_time": "2022-06-21T17:36:10.900Z"
   },
   {
    "duration": 7,
    "start_time": "2022-06-21T17:36:11.102Z"
   },
   {
    "duration": 196,
    "start_time": "2022-06-21T17:36:11.111Z"
   },
   {
    "duration": 11,
    "start_time": "2022-06-21T17:36:11.309Z"
   },
   {
    "duration": 33,
    "start_time": "2022-06-21T17:36:11.322Z"
   },
   {
    "duration": 23,
    "start_time": "2022-06-21T17:36:11.357Z"
   },
   {
    "duration": 233,
    "start_time": "2022-06-21T17:36:11.381Z"
   },
   {
    "duration": 6,
    "start_time": "2022-06-21T17:36:11.617Z"
   },
   {
    "duration": 43,
    "start_time": "2022-06-21T17:36:11.625Z"
   },
   {
    "duration": 20,
    "start_time": "2022-06-21T17:36:11.670Z"
   },
   {
    "duration": 54,
    "start_time": "2022-06-21T17:36:11.692Z"
   },
   {
    "duration": 159,
    "start_time": "2022-06-21T17:36:11.749Z"
   },
   {
    "duration": 10,
    "start_time": "2022-06-21T17:36:11.910Z"
   },
   {
    "duration": 17,
    "start_time": "2022-06-21T17:36:11.922Z"
   },
   {
    "duration": 11,
    "start_time": "2022-06-21T17:36:11.940Z"
   },
   {
    "duration": 290,
    "start_time": "2022-06-21T17:36:11.952Z"
   },
   {
    "duration": 12,
    "start_time": "2022-06-21T17:36:12.244Z"
   },
   {
    "duration": 13,
    "start_time": "2022-06-21T17:36:12.257Z"
   },
   {
    "duration": 71,
    "start_time": "2022-06-21T17:36:12.272Z"
   },
   {
    "duration": 16,
    "start_time": "2022-06-21T17:36:12.345Z"
   },
   {
    "duration": 4,
    "start_time": "2022-06-21T17:36:12.362Z"
   },
   {
    "duration": 9,
    "start_time": "2022-06-21T17:36:12.368Z"
   },
   {
    "duration": 63,
    "start_time": "2022-06-21T17:36:12.379Z"
   },
   {
    "duration": 6,
    "start_time": "2022-06-21T17:36:12.444Z"
   },
   {
    "duration": 6,
    "start_time": "2022-06-21T17:36:12.452Z"
   },
   {
    "duration": 8,
    "start_time": "2022-06-21T17:36:12.460Z"
   },
   {
    "duration": 438,
    "start_time": "2022-06-21T17:36:30.107Z"
   },
   {
    "duration": 228,
    "start_time": "2022-06-21T17:36:30.547Z"
   },
   {
    "duration": 509,
    "start_time": "2022-06-21T17:36:30.777Z"
   },
   {
    "duration": 82,
    "start_time": "2022-06-21T17:36:31.288Z"
   },
   {
    "duration": 15,
    "start_time": "2022-06-21T17:36:31.371Z"
   },
   {
    "duration": 67,
    "start_time": "2022-06-21T17:36:31.388Z"
   },
   {
    "duration": 38,
    "start_time": "2022-06-21T17:36:31.456Z"
   },
   {
    "duration": 30,
    "start_time": "2022-06-21T17:36:31.497Z"
   },
   {
    "duration": 51,
    "start_time": "2022-06-21T17:36:31.529Z"
   },
   {
    "duration": 6,
    "start_time": "2022-06-21T17:36:31.584Z"
   },
   {
    "duration": 11,
    "start_time": "2022-06-21T17:36:31.592Z"
   },
   {
    "duration": 23,
    "start_time": "2022-06-21T17:36:31.605Z"
   },
   {
    "duration": 11,
    "start_time": "2022-06-21T17:36:31.637Z"
   },
   {
    "duration": 18,
    "start_time": "2022-06-21T17:36:31.649Z"
   },
   {
    "duration": 3,
    "start_time": "2022-06-21T17:36:31.668Z"
   },
   {
    "duration": 9,
    "start_time": "2022-06-21T17:36:31.673Z"
   },
   {
    "duration": 181,
    "start_time": "2022-06-21T17:36:31.683Z"
   },
   {
    "duration": 6,
    "start_time": "2022-06-21T17:36:31.865Z"
   },
   {
    "duration": 167,
    "start_time": "2022-06-21T17:36:31.873Z"
   },
   {
    "duration": 11,
    "start_time": "2022-06-21T17:36:32.042Z"
   },
   {
    "duration": 4,
    "start_time": "2022-06-21T17:36:32.054Z"
   },
   {
    "duration": 17,
    "start_time": "2022-06-21T17:36:32.059Z"
   },
   {
    "duration": 179,
    "start_time": "2022-06-21T17:36:32.078Z"
   },
   {
    "duration": 7,
    "start_time": "2022-06-21T17:36:32.258Z"
   },
   {
    "duration": 65,
    "start_time": "2022-06-21T17:36:32.266Z"
   },
   {
    "duration": 9,
    "start_time": "2022-06-21T17:36:32.333Z"
   },
   {
    "duration": 24,
    "start_time": "2022-06-21T17:36:32.345Z"
   },
   {
    "duration": 366,
    "start_time": "2022-06-21T17:36:32.372Z"
   },
   {
    "duration": 16,
    "start_time": "2022-06-21T17:36:32.742Z"
   },
   {
    "duration": 13,
    "start_time": "2022-06-21T17:36:32.760Z"
   },
   {
    "duration": 78,
    "start_time": "2022-06-21T17:36:32.775Z"
   },
   {
    "duration": 401,
    "start_time": "2022-06-21T17:36:32.855Z"
   },
   {
    "duration": 12,
    "start_time": "2022-06-21T17:36:33.258Z"
   },
   {
    "duration": 75,
    "start_time": "2022-06-21T17:36:33.272Z"
   },
   {
    "duration": 15,
    "start_time": "2022-06-21T17:36:33.349Z"
   },
   {
    "duration": 74,
    "start_time": "2022-06-21T17:36:33.366Z"
   },
   {
    "duration": 3,
    "start_time": "2022-06-21T17:36:33.444Z"
   },
   {
    "duration": 11,
    "start_time": "2022-06-21T17:36:33.448Z"
   },
   {
    "duration": 16,
    "start_time": "2022-06-21T17:36:33.461Z"
   },
   {
    "duration": 4,
    "start_time": "2022-06-21T17:36:33.478Z"
   },
   {
    "duration": 7,
    "start_time": "2022-06-21T17:36:33.539Z"
   },
   {
    "duration": 8,
    "start_time": "2022-06-21T17:36:33.548Z"
   },
   {
    "duration": 56,
    "start_time": "2022-06-21T17:37:21.783Z"
   },
   {
    "duration": 14,
    "start_time": "2022-06-21T17:51:22.170Z"
   },
   {
    "duration": 142,
    "start_time": "2022-06-21T18:44:25.813Z"
   },
   {
    "duration": 127,
    "start_time": "2022-06-21T18:44:32.599Z"
   },
   {
    "duration": 144,
    "start_time": "2022-06-21T18:44:46.877Z"
   },
   {
    "duration": 402,
    "start_time": "2022-06-21T18:45:00.490Z"
   },
   {
    "duration": 244,
    "start_time": "2022-06-21T18:45:00.894Z"
   },
   {
    "duration": 513,
    "start_time": "2022-06-21T18:45:01.140Z"
   },
   {
    "duration": 74,
    "start_time": "2022-06-21T18:45:01.656Z"
   },
   {
    "duration": 15,
    "start_time": "2022-06-21T18:45:01.732Z"
   },
   {
    "duration": 30,
    "start_time": "2022-06-21T18:45:01.749Z"
   },
   {
    "duration": 31,
    "start_time": "2022-06-21T18:45:01.781Z"
   },
   {
    "duration": 12,
    "start_time": "2022-06-21T18:45:01.813Z"
   },
   {
    "duration": 54,
    "start_time": "2022-06-21T18:45:01.827Z"
   },
   {
    "duration": 38,
    "start_time": "2022-06-21T18:45:01.884Z"
   },
   {
    "duration": 45,
    "start_time": "2022-06-21T18:45:01.923Z"
   },
   {
    "duration": 65,
    "start_time": "2022-06-21T18:45:01.970Z"
   },
   {
    "duration": 39,
    "start_time": "2022-06-21T18:45:02.036Z"
   },
   {
    "duration": 34,
    "start_time": "2022-06-21T18:45:02.077Z"
   },
   {
    "duration": 18,
    "start_time": "2022-06-21T18:45:02.113Z"
   },
   {
    "duration": 34,
    "start_time": "2022-06-21T18:45:02.133Z"
   },
   {
    "duration": 193,
    "start_time": "2022-06-21T18:45:02.168Z"
   },
   {
    "duration": 7,
    "start_time": "2022-06-21T18:45:02.363Z"
   },
   {
    "duration": 161,
    "start_time": "2022-06-21T18:45:02.371Z"
   },
   {
    "duration": 12,
    "start_time": "2022-06-21T18:45:02.533Z"
   },
   {
    "duration": 27,
    "start_time": "2022-06-21T18:45:02.547Z"
   },
   {
    "duration": 14,
    "start_time": "2022-06-21T18:45:02.576Z"
   },
   {
    "duration": 195,
    "start_time": "2022-06-21T18:45:02.592Z"
   },
   {
    "duration": 6,
    "start_time": "2022-06-21T18:45:02.788Z"
   },
   {
    "duration": 16,
    "start_time": "2022-06-21T18:45:02.795Z"
   },
   {
    "duration": 4,
    "start_time": "2022-06-21T18:45:02.813Z"
   },
   {
    "duration": 10,
    "start_time": "2022-06-21T18:45:02.826Z"
   },
   {
    "duration": 159,
    "start_time": "2022-06-21T18:45:02.839Z"
   },
   {
    "duration": 11,
    "start_time": "2022-06-21T18:45:03.000Z"
   },
   {
    "duration": 16,
    "start_time": "2022-06-21T18:45:03.012Z"
   },
   {
    "duration": 13,
    "start_time": "2022-06-21T18:45:03.029Z"
   },
   {
    "duration": 183,
    "start_time": "2022-06-21T18:45:03.043Z"
   },
   {
    "duration": 12,
    "start_time": "2022-06-21T18:45:03.228Z"
   },
   {
    "duration": 23,
    "start_time": "2022-06-21T18:45:03.242Z"
   },
   {
    "duration": 17,
    "start_time": "2022-06-21T18:45:03.266Z"
   },
   {
    "duration": 16,
    "start_time": "2022-06-21T18:45:03.285Z"
   },
   {
    "duration": 7,
    "start_time": "2022-06-21T18:45:03.302Z"
   },
   {
    "duration": 176,
    "start_time": "2022-06-21T18:45:03.310Z"
   },
   {
    "duration": 14,
    "start_time": "2022-06-21T18:45:03.487Z"
   },
   {
    "duration": 12,
    "start_time": "2022-06-21T18:45:03.503Z"
   },
   {
    "duration": 18,
    "start_time": "2022-06-21T18:45:03.516Z"
   },
   {
    "duration": 15,
    "start_time": "2022-06-21T18:45:03.535Z"
   },
   {
    "duration": 203,
    "start_time": "2022-06-21T18:45:57.783Z"
   },
   {
    "duration": 171,
    "start_time": "2022-06-21T18:46:31.730Z"
   },
   {
    "duration": 280,
    "start_time": "2022-06-21T18:47:01.042Z"
   },
   {
    "duration": 180,
    "start_time": "2022-06-21T18:47:40.702Z"
   },
   {
    "duration": 434,
    "start_time": "2022-06-21T18:47:51.198Z"
   },
   {
    "duration": 218,
    "start_time": "2022-06-21T18:47:51.633Z"
   },
   {
    "duration": 477,
    "start_time": "2022-06-21T18:47:51.853Z"
   },
   {
    "duration": 85,
    "start_time": "2022-06-21T18:47:52.331Z"
   },
   {
    "duration": 14,
    "start_time": "2022-06-21T18:47:52.419Z"
   },
   {
    "duration": 11,
    "start_time": "2022-06-21T18:47:52.435Z"
   },
   {
    "duration": 23,
    "start_time": "2022-06-21T18:47:52.447Z"
   },
   {
    "duration": 12,
    "start_time": "2022-06-21T18:47:52.472Z"
   },
   {
    "duration": 22,
    "start_time": "2022-06-21T18:47:52.485Z"
   },
   {
    "duration": 8,
    "start_time": "2022-06-21T18:47:52.526Z"
   },
   {
    "duration": 10,
    "start_time": "2022-06-21T18:47:52.536Z"
   },
   {
    "duration": 13,
    "start_time": "2022-06-21T18:47:52.548Z"
   },
   {
    "duration": 12,
    "start_time": "2022-06-21T18:47:52.563Z"
   },
   {
    "duration": 24,
    "start_time": "2022-06-21T18:47:52.578Z"
   },
   {
    "duration": 4,
    "start_time": "2022-06-21T18:47:52.604Z"
   },
   {
    "duration": 22,
    "start_time": "2022-06-21T18:47:52.610Z"
   },
   {
    "duration": 184,
    "start_time": "2022-06-21T18:47:52.634Z"
   },
   {
    "duration": 9,
    "start_time": "2022-06-21T18:47:52.820Z"
   },
   {
    "duration": 156,
    "start_time": "2022-06-21T18:47:52.831Z"
   },
   {
    "duration": 12,
    "start_time": "2022-06-21T18:47:52.989Z"
   },
   {
    "duration": 8,
    "start_time": "2022-06-21T18:47:53.002Z"
   },
   {
    "duration": 17,
    "start_time": "2022-06-21T18:47:53.011Z"
   },
   {
    "duration": 190,
    "start_time": "2022-06-21T18:47:53.029Z"
   },
   {
    "duration": 7,
    "start_time": "2022-06-21T18:47:53.227Z"
   },
   {
    "duration": 18,
    "start_time": "2022-06-21T18:47:53.235Z"
   },
   {
    "duration": 5,
    "start_time": "2022-06-21T18:47:53.256Z"
   },
   {
    "duration": 17,
    "start_time": "2022-06-21T18:47:53.263Z"
   },
   {
    "duration": 148,
    "start_time": "2022-06-21T18:47:53.281Z"
   },
   {
    "duration": 11,
    "start_time": "2022-06-21T18:47:53.430Z"
   },
   {
    "duration": 3,
    "start_time": "2022-06-21T18:47:53.442Z"
   },
   {
    "duration": 12,
    "start_time": "2022-06-21T18:47:53.446Z"
   },
   {
    "duration": 182,
    "start_time": "2022-06-21T18:47:53.459Z"
   },
   {
    "duration": 12,
    "start_time": "2022-06-21T18:47:53.643Z"
   },
   {
    "duration": 17,
    "start_time": "2022-06-21T18:47:53.656Z"
   },
   {
    "duration": 12,
    "start_time": "2022-06-21T18:47:53.674Z"
   },
   {
    "duration": 13,
    "start_time": "2022-06-21T18:47:53.688Z"
   },
   {
    "duration": 25,
    "start_time": "2022-06-21T18:47:53.702Z"
   },
   {
    "duration": 326,
    "start_time": "2022-06-21T18:47:53.728Z"
   },
   {
    "duration": 14,
    "start_time": "2022-06-21T18:47:54.055Z"
   },
   {
    "duration": 4,
    "start_time": "2022-06-21T18:47:54.126Z"
   },
   {
    "duration": 7,
    "start_time": "2022-06-21T18:47:54.133Z"
   },
   {
    "duration": 8,
    "start_time": "2022-06-21T18:47:54.142Z"
   },
   {
    "duration": 20,
    "start_time": "2022-06-21T19:13:48.750Z"
   },
   {
    "duration": 58,
    "start_time": "2022-06-21T19:14:16.636Z"
   },
   {
    "duration": 13,
    "start_time": "2022-06-21T19:14:22.790Z"
   },
   {
    "duration": 25,
    "start_time": "2022-06-21T19:14:29.094Z"
   },
   {
    "duration": 24,
    "start_time": "2022-06-21T19:15:05.832Z"
   },
   {
    "duration": 25,
    "start_time": "2022-06-21T19:15:34.291Z"
   },
   {
    "duration": 26,
    "start_time": "2022-06-21T19:15:58.063Z"
   },
   {
    "duration": 29,
    "start_time": "2022-06-21T19:16:34.385Z"
   },
   {
    "duration": 23,
    "start_time": "2022-06-21T19:17:58.196Z"
   },
   {
    "duration": 20,
    "start_time": "2022-06-21T19:24:23.043Z"
   },
   {
    "duration": 99,
    "start_time": "2022-06-21T19:25:00.307Z"
   },
   {
    "duration": 8,
    "start_time": "2022-06-21T19:28:20.942Z"
   },
   {
    "duration": 362,
    "start_time": "2022-06-21T19:28:35.065Z"
   },
   {
    "duration": 216,
    "start_time": "2022-06-21T19:28:35.429Z"
   },
   {
    "duration": 506,
    "start_time": "2022-06-21T19:28:35.646Z"
   },
   {
    "duration": 72,
    "start_time": "2022-06-21T19:28:36.154Z"
   },
   {
    "duration": 14,
    "start_time": "2022-06-21T19:28:36.228Z"
   },
   {
    "duration": 22,
    "start_time": "2022-06-21T19:28:36.244Z"
   },
   {
    "duration": 25,
    "start_time": "2022-06-21T19:28:36.268Z"
   },
   {
    "duration": 11,
    "start_time": "2022-06-21T19:28:36.295Z"
   },
   {
    "duration": 36,
    "start_time": "2022-06-21T19:28:36.307Z"
   },
   {
    "duration": 7,
    "start_time": "2022-06-21T19:28:36.345Z"
   },
   {
    "duration": 31,
    "start_time": "2022-06-21T19:28:36.353Z"
   },
   {
    "duration": 13,
    "start_time": "2022-06-21T19:28:36.386Z"
   },
   {
    "duration": 8,
    "start_time": "2022-06-21T19:28:36.400Z"
   },
   {
    "duration": 24,
    "start_time": "2022-06-21T19:28:36.410Z"
   },
   {
    "duration": 4,
    "start_time": "2022-06-21T19:28:36.436Z"
   },
   {
    "duration": 12,
    "start_time": "2022-06-21T19:28:36.441Z"
   },
   {
    "duration": 192,
    "start_time": "2022-06-21T19:28:36.455Z"
   },
   {
    "duration": 7,
    "start_time": "2022-06-21T19:28:36.649Z"
   },
   {
    "duration": 170,
    "start_time": "2022-06-21T19:28:36.658Z"
   },
   {
    "duration": 12,
    "start_time": "2022-06-21T19:28:36.830Z"
   },
   {
    "duration": 13,
    "start_time": "2022-06-21T19:28:36.844Z"
   },
   {
    "duration": 15,
    "start_time": "2022-06-21T19:28:36.859Z"
   },
   {
    "duration": 179,
    "start_time": "2022-06-21T19:28:36.876Z"
   },
   {
    "duration": 6,
    "start_time": "2022-06-21T19:28:37.057Z"
   },
   {
    "duration": 51,
    "start_time": "2022-06-21T19:28:37.066Z"
   },
   {
    "duration": 23,
    "start_time": "2022-06-21T19:28:37.120Z"
   },
   {
    "duration": 15,
    "start_time": "2022-06-21T19:28:37.146Z"
   },
   {
    "duration": 156,
    "start_time": "2022-06-21T19:28:37.165Z"
   },
   {
    "duration": 14,
    "start_time": "2022-06-21T19:28:37.323Z"
   },
   {
    "duration": 8,
    "start_time": "2022-06-21T19:28:37.339Z"
   },
   {
    "duration": 17,
    "start_time": "2022-06-21T19:28:37.349Z"
   },
   {
    "duration": 213,
    "start_time": "2022-06-21T19:28:37.368Z"
   },
   {
    "duration": 13,
    "start_time": "2022-06-21T19:28:37.583Z"
   },
   {
    "duration": 16,
    "start_time": "2022-06-21T19:28:37.597Z"
   },
   {
    "duration": 22,
    "start_time": "2022-06-21T19:28:37.615Z"
   },
   {
    "duration": 21,
    "start_time": "2022-06-21T19:28:37.639Z"
   },
   {
    "duration": 17,
    "start_time": "2022-06-21T19:28:37.662Z"
   },
   {
    "duration": 205,
    "start_time": "2022-06-21T19:28:37.680Z"
   },
   {
    "duration": 14,
    "start_time": "2022-06-21T19:28:37.887Z"
   },
   {
    "duration": 4,
    "start_time": "2022-06-21T19:28:37.903Z"
   },
   {
    "duration": 21,
    "start_time": "2022-06-21T19:28:37.908Z"
   },
   {
    "duration": 11,
    "start_time": "2022-06-21T19:28:37.930Z"
   },
   {
    "duration": 8,
    "start_time": "2022-06-21T19:33:23.514Z"
   },
   {
    "duration": 13,
    "start_time": "2022-06-21T19:33:24.816Z"
   },
   {
    "duration": 8,
    "start_time": "2022-06-21T19:33:25.355Z"
   },
   {
    "duration": 426,
    "start_time": "2022-06-21T19:33:31.695Z"
   },
   {
    "duration": 238,
    "start_time": "2022-06-21T19:33:32.123Z"
   },
   {
    "duration": 459,
    "start_time": "2022-06-21T19:33:32.362Z"
   },
   {
    "duration": 71,
    "start_time": "2022-06-21T19:33:32.823Z"
   },
   {
    "duration": 15,
    "start_time": "2022-06-21T19:33:32.896Z"
   },
   {
    "duration": 18,
    "start_time": "2022-06-21T19:33:32.912Z"
   },
   {
    "duration": 18,
    "start_time": "2022-06-21T19:33:32.932Z"
   },
   {
    "duration": 11,
    "start_time": "2022-06-21T19:33:32.951Z"
   },
   {
    "duration": 29,
    "start_time": "2022-06-21T19:33:32.963Z"
   },
   {
    "duration": 6,
    "start_time": "2022-06-21T19:33:32.994Z"
   },
   {
    "duration": 12,
    "start_time": "2022-06-21T19:33:33.001Z"
   },
   {
    "duration": 29,
    "start_time": "2022-06-21T19:33:33.014Z"
   },
   {
    "duration": 13,
    "start_time": "2022-06-21T19:33:33.044Z"
   },
   {
    "duration": 13,
    "start_time": "2022-06-21T19:33:33.060Z"
   },
   {
    "duration": 3,
    "start_time": "2022-06-21T19:33:33.074Z"
   },
   {
    "duration": 9,
    "start_time": "2022-06-21T19:33:33.079Z"
   },
   {
    "duration": 189,
    "start_time": "2022-06-21T19:33:33.090Z"
   },
   {
    "duration": 8,
    "start_time": "2022-06-21T19:33:33.281Z"
   },
   {
    "duration": 165,
    "start_time": "2022-06-21T19:33:33.291Z"
   },
   {
    "duration": 12,
    "start_time": "2022-06-21T19:33:33.458Z"
   },
   {
    "duration": 5,
    "start_time": "2022-06-21T19:33:33.472Z"
   },
   {
    "duration": 13,
    "start_time": "2022-06-21T19:33:33.478Z"
   },
   {
    "duration": 189,
    "start_time": "2022-06-21T19:33:33.493Z"
   },
   {
    "duration": 6,
    "start_time": "2022-06-21T19:33:33.685Z"
   },
   {
    "duration": 22,
    "start_time": "2022-06-21T19:33:33.693Z"
   },
   {
    "duration": 12,
    "start_time": "2022-06-21T19:33:33.716Z"
   },
   {
    "duration": 22,
    "start_time": "2022-06-21T19:33:33.729Z"
   },
   {
    "duration": 156,
    "start_time": "2022-06-21T19:33:33.752Z"
   },
   {
    "duration": 11,
    "start_time": "2022-06-21T19:33:33.910Z"
   },
   {
    "duration": 7,
    "start_time": "2022-06-21T19:33:33.923Z"
   },
   {
    "duration": 10,
    "start_time": "2022-06-21T19:33:33.932Z"
   },
   {
    "duration": 177,
    "start_time": "2022-06-21T19:33:33.944Z"
   },
   {
    "duration": 12,
    "start_time": "2022-06-21T19:33:34.123Z"
   },
   {
    "duration": 15,
    "start_time": "2022-06-21T19:33:34.136Z"
   },
   {
    "duration": 21,
    "start_time": "2022-06-21T19:33:34.153Z"
   },
   {
    "duration": 17,
    "start_time": "2022-06-21T19:33:34.175Z"
   },
   {
    "duration": 9,
    "start_time": "2022-06-21T19:33:34.193Z"
   },
   {
    "duration": 209,
    "start_time": "2022-06-21T19:33:34.203Z"
   },
   {
    "duration": 19,
    "start_time": "2022-06-21T19:33:34.420Z"
   },
   {
    "duration": 10,
    "start_time": "2022-06-21T19:33:34.442Z"
   },
   {
    "duration": 21,
    "start_time": "2022-06-21T19:33:34.456Z"
   },
   {
    "duration": 16,
    "start_time": "2022-06-21T19:33:34.479Z"
   },
   {
    "duration": 10,
    "start_time": "2022-06-21T19:34:31.623Z"
   },
   {
    "duration": 12,
    "start_time": "2022-06-21T19:34:32.326Z"
   },
   {
    "duration": 7,
    "start_time": "2022-06-21T19:34:32.917Z"
   },
   {
    "duration": 10,
    "start_time": "2022-06-21T19:34:42.703Z"
   },
   {
    "duration": 12,
    "start_time": "2022-06-21T19:34:43.294Z"
   },
   {
    "duration": 7,
    "start_time": "2022-06-21T19:34:43.742Z"
   },
   {
    "duration": 47,
    "start_time": "2022-06-21T19:38:12.800Z"
   },
   {
    "duration": 9,
    "start_time": "2022-06-21T19:38:37.168Z"
   },
   {
    "duration": 19,
    "start_time": "2022-06-21T19:38:38.426Z"
   },
   {
    "duration": 8,
    "start_time": "2022-06-21T19:38:38.904Z"
   },
   {
    "duration": 420,
    "start_time": "2022-06-21T19:38:57.239Z"
   },
   {
    "duration": 237,
    "start_time": "2022-06-21T19:38:57.662Z"
   },
   {
    "duration": 534,
    "start_time": "2022-06-21T19:38:57.901Z"
   },
   {
    "duration": 69,
    "start_time": "2022-06-21T19:38:58.437Z"
   },
   {
    "duration": 17,
    "start_time": "2022-06-21T19:38:58.508Z"
   },
   {
    "duration": 14,
    "start_time": "2022-06-21T19:38:58.527Z"
   },
   {
    "duration": 22,
    "start_time": "2022-06-21T19:38:58.542Z"
   },
   {
    "duration": 12,
    "start_time": "2022-06-21T19:38:58.566Z"
   },
   {
    "duration": 48,
    "start_time": "2022-06-21T19:38:58.579Z"
   },
   {
    "duration": 10,
    "start_time": "2022-06-21T19:38:58.632Z"
   },
   {
    "duration": 14,
    "start_time": "2022-06-21T19:38:58.643Z"
   },
   {
    "duration": 15,
    "start_time": "2022-06-21T19:38:58.659Z"
   },
   {
    "duration": 9,
    "start_time": "2022-06-21T19:38:58.676Z"
   },
   {
    "duration": 39,
    "start_time": "2022-06-21T19:38:58.687Z"
   },
   {
    "duration": 4,
    "start_time": "2022-06-21T19:38:58.728Z"
   },
   {
    "duration": 13,
    "start_time": "2022-06-21T19:38:58.734Z"
   },
   {
    "duration": 221,
    "start_time": "2022-06-21T19:38:58.750Z"
   },
   {
    "duration": 7,
    "start_time": "2022-06-21T19:38:58.973Z"
   },
   {
    "duration": 151,
    "start_time": "2022-06-21T19:38:58.982Z"
   },
   {
    "duration": 11,
    "start_time": "2022-06-21T19:38:59.135Z"
   },
   {
    "duration": 4,
    "start_time": "2022-06-21T19:38:59.148Z"
   },
   {
    "duration": 22,
    "start_time": "2022-06-21T19:38:59.153Z"
   },
   {
    "duration": 183,
    "start_time": "2022-06-21T19:38:59.177Z"
   },
   {
    "duration": 6,
    "start_time": "2022-06-21T19:38:59.362Z"
   },
   {
    "duration": 15,
    "start_time": "2022-06-21T19:38:59.369Z"
   },
   {
    "duration": 3,
    "start_time": "2022-06-21T19:38:59.385Z"
   },
   {
    "duration": 15,
    "start_time": "2022-06-21T19:38:59.390Z"
   },
   {
    "duration": 148,
    "start_time": "2022-06-21T19:38:59.426Z"
   },
   {
    "duration": 12,
    "start_time": "2022-06-21T19:38:59.575Z"
   },
   {
    "duration": 4,
    "start_time": "2022-06-21T19:38:59.589Z"
   },
   {
    "duration": 14,
    "start_time": "2022-06-21T19:38:59.595Z"
   },
   {
    "duration": 225,
    "start_time": "2022-06-21T19:38:59.626Z"
   },
   {
    "duration": 12,
    "start_time": "2022-06-21T19:38:59.853Z"
   },
   {
    "duration": 15,
    "start_time": "2022-06-21T19:38:59.867Z"
   },
   {
    "duration": 11,
    "start_time": "2022-06-21T19:38:59.884Z"
   },
   {
    "duration": 30,
    "start_time": "2022-06-21T19:38:59.897Z"
   },
   {
    "duration": 6,
    "start_time": "2022-06-21T19:38:59.929Z"
   },
   {
    "duration": 208,
    "start_time": "2022-06-21T19:38:59.937Z"
   },
   {
    "duration": 14,
    "start_time": "2022-06-21T19:39:00.147Z"
   },
   {
    "duration": 7,
    "start_time": "2022-06-21T19:39:00.162Z"
   },
   {
    "duration": 15,
    "start_time": "2022-06-21T19:39:00.170Z"
   },
   {
    "duration": 12,
    "start_time": "2022-06-21T19:39:00.186Z"
   },
   {
    "duration": 420,
    "start_time": "2022-06-21T19:39:31.238Z"
   },
   {
    "duration": 240,
    "start_time": "2022-06-21T19:39:31.660Z"
   },
   {
    "duration": 528,
    "start_time": "2022-06-21T19:39:31.902Z"
   },
   {
    "duration": 71,
    "start_time": "2022-06-21T19:39:32.433Z"
   },
   {
    "duration": 16,
    "start_time": "2022-06-21T19:39:32.506Z"
   },
   {
    "duration": 20,
    "start_time": "2022-06-21T19:39:32.524Z"
   },
   {
    "duration": 22,
    "start_time": "2022-06-21T19:39:32.547Z"
   },
   {
    "duration": 22,
    "start_time": "2022-06-21T19:39:32.571Z"
   },
   {
    "duration": 41,
    "start_time": "2022-06-21T19:39:32.595Z"
   },
   {
    "duration": 10,
    "start_time": "2022-06-21T19:39:32.641Z"
   },
   {
    "duration": 15,
    "start_time": "2022-06-21T19:39:32.652Z"
   },
   {
    "duration": 23,
    "start_time": "2022-06-21T19:39:32.668Z"
   },
   {
    "duration": 33,
    "start_time": "2022-06-21T19:39:32.693Z"
   },
   {
    "duration": 15,
    "start_time": "2022-06-21T19:39:32.729Z"
   },
   {
    "duration": 15,
    "start_time": "2022-06-21T19:39:32.746Z"
   },
   {
    "duration": 12,
    "start_time": "2022-06-21T19:39:32.763Z"
   },
   {
    "duration": 212,
    "start_time": "2022-06-21T19:39:32.777Z"
   },
   {
    "duration": 6,
    "start_time": "2022-06-21T19:39:32.991Z"
   },
   {
    "duration": 171,
    "start_time": "2022-06-21T19:39:32.999Z"
   },
   {
    "duration": 12,
    "start_time": "2022-06-21T19:39:33.172Z"
   },
   {
    "duration": 4,
    "start_time": "2022-06-21T19:39:33.186Z"
   },
   {
    "duration": 16,
    "start_time": "2022-06-21T19:39:33.192Z"
   },
   {
    "duration": 216,
    "start_time": "2022-06-21T19:39:33.210Z"
   },
   {
    "duration": 6,
    "start_time": "2022-06-21T19:39:33.428Z"
   },
   {
    "duration": 18,
    "start_time": "2022-06-21T19:39:33.436Z"
   },
   {
    "duration": 5,
    "start_time": "2022-06-21T19:39:33.456Z"
   },
   {
    "duration": 13,
    "start_time": "2022-06-21T19:39:33.462Z"
   },
   {
    "duration": 175,
    "start_time": "2022-06-21T19:39:33.480Z"
   },
   {
    "duration": 11,
    "start_time": "2022-06-21T19:39:33.657Z"
   },
   {
    "duration": 6,
    "start_time": "2022-06-21T19:39:33.670Z"
   },
   {
    "duration": 10,
    "start_time": "2022-06-21T19:39:33.678Z"
   },
   {
    "duration": 211,
    "start_time": "2022-06-21T19:39:33.691Z"
   },
   {
    "duration": 13,
    "start_time": "2022-06-21T19:39:33.904Z"
   },
   {
    "duration": 12,
    "start_time": "2022-06-21T19:39:33.926Z"
   },
   {
    "duration": 23,
    "start_time": "2022-06-21T19:39:33.940Z"
   },
   {
    "duration": 47,
    "start_time": "2022-06-21T19:39:33.965Z"
   },
   {
    "duration": 15,
    "start_time": "2022-06-21T19:39:34.015Z"
   },
   {
    "duration": 254,
    "start_time": "2022-06-21T19:39:34.033Z"
   },
   {
    "duration": 16,
    "start_time": "2022-06-21T19:39:34.290Z"
   },
   {
    "duration": 21,
    "start_time": "2022-06-21T19:39:34.308Z"
   },
   {
    "duration": 10,
    "start_time": "2022-06-21T19:39:34.331Z"
   },
   {
    "duration": 10,
    "start_time": "2022-06-21T19:39:34.343Z"
   },
   {
    "duration": 366,
    "start_time": "2022-06-21T19:43:03.582Z"
   },
   {
    "duration": 231,
    "start_time": "2022-06-21T19:43:03.950Z"
   },
   {
    "duration": 587,
    "start_time": "2022-06-21T19:43:04.183Z"
   },
   {
    "duration": 92,
    "start_time": "2022-06-21T19:43:04.772Z"
   },
   {
    "duration": 14,
    "start_time": "2022-06-21T19:43:04.867Z"
   },
   {
    "duration": 12,
    "start_time": "2022-06-21T19:43:04.882Z"
   },
   {
    "duration": 33,
    "start_time": "2022-06-21T19:43:04.896Z"
   },
   {
    "duration": 11,
    "start_time": "2022-06-21T19:43:04.930Z"
   },
   {
    "duration": 22,
    "start_time": "2022-06-21T19:43:04.943Z"
   },
   {
    "duration": 7,
    "start_time": "2022-06-21T19:43:04.967Z"
   },
   {
    "duration": 9,
    "start_time": "2022-06-21T19:43:04.975Z"
   },
   {
    "duration": 14,
    "start_time": "2022-06-21T19:43:04.985Z"
   },
   {
    "duration": 7,
    "start_time": "2022-06-21T19:43:05.026Z"
   },
   {
    "duration": 16,
    "start_time": "2022-06-21T19:43:05.037Z"
   },
   {
    "duration": 4,
    "start_time": "2022-06-21T19:43:05.055Z"
   },
   {
    "duration": 12,
    "start_time": "2022-06-21T19:43:05.060Z"
   },
   {
    "duration": 240,
    "start_time": "2022-06-21T19:43:05.073Z"
   },
   {
    "duration": 13,
    "start_time": "2022-06-21T19:43:05.315Z"
   },
   {
    "duration": 172,
    "start_time": "2022-06-21T19:43:05.330Z"
   },
   {
    "duration": 11,
    "start_time": "2022-06-21T19:43:05.504Z"
   },
   {
    "duration": 4,
    "start_time": "2022-06-21T19:43:05.526Z"
   },
   {
    "duration": 11,
    "start_time": "2022-06-21T19:43:05.531Z"
   },
   {
    "duration": 179,
    "start_time": "2022-06-21T19:43:05.544Z"
   },
   {
    "duration": 5,
    "start_time": "2022-06-21T19:43:05.725Z"
   },
   {
    "duration": 15,
    "start_time": "2022-06-21T19:43:05.732Z"
   },
   {
    "duration": 4,
    "start_time": "2022-06-21T19:43:05.748Z"
   },
   {
    "duration": 11,
    "start_time": "2022-06-21T19:43:05.753Z"
   },
   {
    "duration": 190,
    "start_time": "2022-06-21T19:43:05.766Z"
   },
   {
    "duration": 13,
    "start_time": "2022-06-21T19:43:05.958Z"
   },
   {
    "duration": 4,
    "start_time": "2022-06-21T19:43:05.974Z"
   },
   {
    "duration": 15,
    "start_time": "2022-06-21T19:43:05.980Z"
   },
   {
    "duration": 223,
    "start_time": "2022-06-21T19:43:05.997Z"
   },
   {
    "duration": 13,
    "start_time": "2022-06-21T19:43:06.226Z"
   },
   {
    "duration": 16,
    "start_time": "2022-06-21T19:43:06.240Z"
   },
   {
    "duration": 19,
    "start_time": "2022-06-21T19:43:06.258Z"
   },
   {
    "duration": 22,
    "start_time": "2022-06-21T19:43:06.279Z"
   },
   {
    "duration": 7,
    "start_time": "2022-06-21T19:43:06.303Z"
   },
   {
    "duration": 209,
    "start_time": "2022-06-21T19:43:06.325Z"
   },
   {
    "duration": 14,
    "start_time": "2022-06-21T19:43:06.535Z"
   },
   {
    "duration": 7,
    "start_time": "2022-06-21T19:43:06.551Z"
   },
   {
    "duration": 7,
    "start_time": "2022-06-21T19:43:06.562Z"
   },
   {
    "duration": 11,
    "start_time": "2022-06-21T19:43:06.570Z"
   },
   {
    "duration": 434,
    "start_time": "2022-06-21T19:43:36.931Z"
   },
   {
    "duration": 259,
    "start_time": "2022-06-21T19:43:37.368Z"
   },
   {
    "duration": 529,
    "start_time": "2022-06-21T19:43:37.631Z"
   },
   {
    "duration": 72,
    "start_time": "2022-06-21T19:43:38.162Z"
   },
   {
    "duration": 16,
    "start_time": "2022-06-21T19:43:38.236Z"
   },
   {
    "duration": 12,
    "start_time": "2022-06-21T19:43:38.254Z"
   },
   {
    "duration": 29,
    "start_time": "2022-06-21T19:43:38.267Z"
   },
   {
    "duration": 36,
    "start_time": "2022-06-21T19:43:38.298Z"
   },
   {
    "duration": 30,
    "start_time": "2022-06-21T19:43:38.337Z"
   },
   {
    "duration": 21,
    "start_time": "2022-06-21T19:43:38.370Z"
   },
   {
    "duration": 13,
    "start_time": "2022-06-21T19:43:38.393Z"
   },
   {
    "duration": 15,
    "start_time": "2022-06-21T19:43:38.408Z"
   },
   {
    "duration": 7,
    "start_time": "2022-06-21T19:43:38.426Z"
   },
   {
    "duration": 13,
    "start_time": "2022-06-21T19:43:38.435Z"
   },
   {
    "duration": 5,
    "start_time": "2022-06-21T19:43:38.450Z"
   },
   {
    "duration": 12,
    "start_time": "2022-06-21T19:43:38.457Z"
   },
   {
    "duration": 204,
    "start_time": "2022-06-21T19:43:38.471Z"
   },
   {
    "duration": 8,
    "start_time": "2022-06-21T19:43:38.678Z"
   },
   {
    "duration": 182,
    "start_time": "2022-06-21T19:43:38.688Z"
   },
   {
    "duration": 12,
    "start_time": "2022-06-21T19:43:38.872Z"
   },
   {
    "duration": 6,
    "start_time": "2022-06-21T19:43:38.886Z"
   },
   {
    "duration": 11,
    "start_time": "2022-06-21T19:43:38.894Z"
   },
   {
    "duration": 228,
    "start_time": "2022-06-21T19:43:38.907Z"
   },
   {
    "duration": 7,
    "start_time": "2022-06-21T19:43:39.137Z"
   },
   {
    "duration": 24,
    "start_time": "2022-06-21T19:43:39.146Z"
   },
   {
    "duration": 4,
    "start_time": "2022-06-21T19:43:39.172Z"
   },
   {
    "duration": 16,
    "start_time": "2022-06-21T19:43:39.177Z"
   },
   {
    "duration": 183,
    "start_time": "2022-06-21T19:43:39.194Z"
   },
   {
    "duration": 13,
    "start_time": "2022-06-21T19:43:39.379Z"
   },
   {
    "duration": 5,
    "start_time": "2022-06-21T19:43:39.393Z"
   },
   {
    "duration": 28,
    "start_time": "2022-06-21T19:43:39.399Z"
   },
   {
    "duration": 192,
    "start_time": "2022-06-21T19:43:39.430Z"
   },
   {
    "duration": 15,
    "start_time": "2022-06-21T19:43:39.625Z"
   },
   {
    "duration": 14,
    "start_time": "2022-06-21T19:43:39.642Z"
   },
   {
    "duration": 357,
    "start_time": "2022-06-21T19:43:39.658Z"
   },
   {
    "duration": 0,
    "start_time": "2022-06-21T19:43:40.018Z"
   },
   {
    "duration": 0,
    "start_time": "2022-06-21T19:43:40.020Z"
   },
   {
    "duration": 0,
    "start_time": "2022-06-21T19:43:40.021Z"
   },
   {
    "duration": 0,
    "start_time": "2022-06-21T19:43:40.024Z"
   },
   {
    "duration": 0,
    "start_time": "2022-06-21T19:43:40.026Z"
   },
   {
    "duration": 0,
    "start_time": "2022-06-21T19:43:40.027Z"
   },
   {
    "duration": 0,
    "start_time": "2022-06-21T19:43:40.028Z"
   },
   {
    "duration": 10,
    "start_time": "2022-06-21T19:44:53.094Z"
   },
   {
    "duration": 10,
    "start_time": "2022-06-21T19:45:02.805Z"
   },
   {
    "duration": 9,
    "start_time": "2022-06-21T19:46:13.781Z"
   },
   {
    "duration": 17,
    "start_time": "2022-06-21T19:46:14.533Z"
   },
   {
    "duration": 6,
    "start_time": "2022-06-21T19:46:15.092Z"
   },
   {
    "duration": 424,
    "start_time": "2022-06-21T19:46:23.915Z"
   },
   {
    "duration": 294,
    "start_time": "2022-06-21T19:46:24.341Z"
   },
   {
    "duration": 504,
    "start_time": "2022-06-21T19:46:24.637Z"
   },
   {
    "duration": 70,
    "start_time": "2022-06-21T19:46:25.144Z"
   },
   {
    "duration": 13,
    "start_time": "2022-06-21T19:46:25.216Z"
   },
   {
    "duration": 24,
    "start_time": "2022-06-21T19:46:25.231Z"
   },
   {
    "duration": 25,
    "start_time": "2022-06-21T19:46:25.256Z"
   },
   {
    "duration": 12,
    "start_time": "2022-06-21T19:46:25.282Z"
   },
   {
    "duration": 25,
    "start_time": "2022-06-21T19:46:25.296Z"
   },
   {
    "duration": 14,
    "start_time": "2022-06-21T19:46:25.324Z"
   },
   {
    "duration": 31,
    "start_time": "2022-06-21T19:46:25.340Z"
   },
   {
    "duration": 15,
    "start_time": "2022-06-21T19:46:25.373Z"
   },
   {
    "duration": 6,
    "start_time": "2022-06-21T19:46:25.390Z"
   },
   {
    "duration": 12,
    "start_time": "2022-06-21T19:46:25.398Z"
   },
   {
    "duration": 5,
    "start_time": "2022-06-21T19:46:25.412Z"
   },
   {
    "duration": 12,
    "start_time": "2022-06-21T19:46:25.418Z"
   },
   {
    "duration": 188,
    "start_time": "2022-06-21T19:46:25.432Z"
   },
   {
    "duration": 8,
    "start_time": "2022-06-21T19:46:25.621Z"
   },
   {
    "duration": 160,
    "start_time": "2022-06-21T19:46:25.630Z"
   },
   {
    "duration": 13,
    "start_time": "2022-06-21T19:46:25.792Z"
   },
   {
    "duration": 9,
    "start_time": "2022-06-21T19:46:25.807Z"
   },
   {
    "duration": 10,
    "start_time": "2022-06-21T19:46:25.826Z"
   },
   {
    "duration": 181,
    "start_time": "2022-06-21T19:46:25.838Z"
   },
   {
    "duration": 8,
    "start_time": "2022-06-21T19:46:26.021Z"
   },
   {
    "duration": 24,
    "start_time": "2022-06-21T19:46:26.031Z"
   },
   {
    "duration": 10,
    "start_time": "2022-06-21T19:46:26.057Z"
   },
   {
    "duration": 17,
    "start_time": "2022-06-21T19:46:26.069Z"
   },
   {
    "duration": 139,
    "start_time": "2022-06-21T19:46:26.089Z"
   },
   {
    "duration": 12,
    "start_time": "2022-06-21T19:46:26.229Z"
   },
   {
    "duration": 4,
    "start_time": "2022-06-21T19:46:26.242Z"
   },
   {
    "duration": 16,
    "start_time": "2022-06-21T19:46:26.247Z"
   },
   {
    "duration": 187,
    "start_time": "2022-06-21T19:46:26.264Z"
   },
   {
    "duration": 12,
    "start_time": "2022-06-21T19:46:26.452Z"
   },
   {
    "duration": 14,
    "start_time": "2022-06-21T19:46:26.466Z"
   },
   {
    "duration": 12,
    "start_time": "2022-06-21T19:46:26.482Z"
   },
   {
    "duration": 31,
    "start_time": "2022-06-21T19:46:26.495Z"
   },
   {
    "duration": 8,
    "start_time": "2022-06-21T19:46:26.527Z"
   },
   {
    "duration": 232,
    "start_time": "2022-06-21T19:46:26.536Z"
   },
   {
    "duration": 14,
    "start_time": "2022-06-21T19:46:26.769Z"
   },
   {
    "duration": 3,
    "start_time": "2022-06-21T19:46:26.785Z"
   },
   {
    "duration": 8,
    "start_time": "2022-06-21T19:46:26.790Z"
   },
   {
    "duration": 26,
    "start_time": "2022-06-21T19:46:26.800Z"
   },
   {
    "duration": 390,
    "start_time": "2022-06-21T19:47:05.146Z"
   },
   {
    "duration": 229,
    "start_time": "2022-06-21T19:47:05.538Z"
   },
   {
    "duration": 569,
    "start_time": "2022-06-21T19:47:05.769Z"
   },
   {
    "duration": 73,
    "start_time": "2022-06-21T19:47:06.340Z"
   },
   {
    "duration": 17,
    "start_time": "2022-06-21T19:47:06.415Z"
   },
   {
    "duration": 12,
    "start_time": "2022-06-21T19:47:06.433Z"
   },
   {
    "duration": 21,
    "start_time": "2022-06-21T19:47:06.446Z"
   },
   {
    "duration": 11,
    "start_time": "2022-06-21T19:47:06.469Z"
   },
   {
    "duration": 24,
    "start_time": "2022-06-21T19:47:06.482Z"
   },
   {
    "duration": 7,
    "start_time": "2022-06-21T19:47:06.525Z"
   },
   {
    "duration": 21,
    "start_time": "2022-06-21T19:47:06.534Z"
   },
   {
    "duration": 21,
    "start_time": "2022-06-21T19:47:06.556Z"
   },
   {
    "duration": 7,
    "start_time": "2022-06-21T19:47:06.578Z"
   },
   {
    "duration": 21,
    "start_time": "2022-06-21T19:47:06.588Z"
   },
   {
    "duration": 15,
    "start_time": "2022-06-21T19:47:06.611Z"
   },
   {
    "duration": 17,
    "start_time": "2022-06-21T19:47:06.627Z"
   },
   {
    "duration": 196,
    "start_time": "2022-06-21T19:47:06.646Z"
   },
   {
    "duration": 7,
    "start_time": "2022-06-21T19:47:06.844Z"
   },
   {
    "duration": 176,
    "start_time": "2022-06-21T19:47:06.852Z"
   },
   {
    "duration": 13,
    "start_time": "2022-06-21T19:47:07.030Z"
   },
   {
    "duration": 4,
    "start_time": "2022-06-21T19:47:07.045Z"
   },
   {
    "duration": 18,
    "start_time": "2022-06-21T19:47:07.050Z"
   },
   {
    "duration": 214,
    "start_time": "2022-06-21T19:47:07.070Z"
   },
   {
    "duration": 6,
    "start_time": "2022-06-21T19:47:07.286Z"
   },
   {
    "duration": 16,
    "start_time": "2022-06-21T19:47:07.295Z"
   },
   {
    "duration": 13,
    "start_time": "2022-06-21T19:47:07.313Z"
   },
   {
    "duration": 17,
    "start_time": "2022-06-21T19:47:07.328Z"
   },
   {
    "duration": 182,
    "start_time": "2022-06-21T19:47:07.347Z"
   },
   {
    "duration": 11,
    "start_time": "2022-06-21T19:47:07.531Z"
   },
   {
    "duration": 5,
    "start_time": "2022-06-21T19:47:07.544Z"
   },
   {
    "duration": 15,
    "start_time": "2022-06-21T19:47:07.550Z"
   },
   {
    "duration": 193,
    "start_time": "2022-06-21T19:47:07.566Z"
   },
   {
    "duration": 13,
    "start_time": "2022-06-21T19:47:07.761Z"
   },
   {
    "duration": 14,
    "start_time": "2022-06-21T19:47:07.776Z"
   },
   {
    "duration": 21,
    "start_time": "2022-06-21T19:47:07.792Z"
   },
   {
    "duration": 23,
    "start_time": "2022-06-21T19:47:07.815Z"
   },
   {
    "duration": 7,
    "start_time": "2022-06-21T19:47:07.839Z"
   },
   {
    "duration": 216,
    "start_time": "2022-06-21T19:47:07.848Z"
   },
   {
    "duration": 14,
    "start_time": "2022-06-21T19:47:08.066Z"
   },
   {
    "duration": 7,
    "start_time": "2022-06-21T19:47:08.082Z"
   },
   {
    "duration": 6,
    "start_time": "2022-06-21T19:47:08.092Z"
   },
   {
    "duration": 28,
    "start_time": "2022-06-21T19:47:08.100Z"
   },
   {
    "duration": 5,
    "start_time": "2022-06-21T19:49:45.189Z"
   },
   {
    "duration": 5,
    "start_time": "2022-06-21T19:49:58.586Z"
   },
   {
    "duration": 5,
    "start_time": "2022-06-21T19:50:10.795Z"
   },
   {
    "duration": 4,
    "start_time": "2022-06-21T19:50:14.602Z"
   },
   {
    "duration": 3,
    "start_time": "2022-06-21T19:50:25.132Z"
   },
   {
    "duration": 3,
    "start_time": "2022-06-21T19:50:36.880Z"
   },
   {
    "duration": 401,
    "start_time": "2022-06-21T19:50:41.739Z"
   },
   {
    "duration": 244,
    "start_time": "2022-06-21T19:50:42.142Z"
   },
   {
    "duration": 524,
    "start_time": "2022-06-21T19:50:42.388Z"
   },
   {
    "duration": 70,
    "start_time": "2022-06-21T19:50:42.914Z"
   },
   {
    "duration": 17,
    "start_time": "2022-06-21T19:50:42.986Z"
   },
   {
    "duration": 13,
    "start_time": "2022-06-21T19:50:43.005Z"
   },
   {
    "duration": 29,
    "start_time": "2022-06-21T19:50:43.019Z"
   },
   {
    "duration": 15,
    "start_time": "2022-06-21T19:50:43.050Z"
   },
   {
    "duration": 25,
    "start_time": "2022-06-21T19:50:43.066Z"
   },
   {
    "duration": 7,
    "start_time": "2022-06-21T19:50:43.094Z"
   },
   {
    "duration": 24,
    "start_time": "2022-06-21T19:50:43.103Z"
   },
   {
    "duration": 16,
    "start_time": "2022-06-21T19:50:43.128Z"
   },
   {
    "duration": 7,
    "start_time": "2022-06-21T19:50:43.146Z"
   },
   {
    "duration": 12,
    "start_time": "2022-06-21T19:50:43.154Z"
   },
   {
    "duration": 3,
    "start_time": "2022-06-21T19:50:43.168Z"
   },
   {
    "duration": 9,
    "start_time": "2022-06-21T19:50:43.173Z"
   },
   {
    "duration": 217,
    "start_time": "2022-06-21T19:50:43.183Z"
   },
   {
    "duration": 7,
    "start_time": "2022-06-21T19:50:43.402Z"
   },
   {
    "duration": 160,
    "start_time": "2022-06-21T19:50:43.410Z"
   },
   {
    "duration": 16,
    "start_time": "2022-06-21T19:50:43.572Z"
   },
   {
    "duration": 4,
    "start_time": "2022-06-21T19:50:43.590Z"
   },
   {
    "duration": 17,
    "start_time": "2022-06-21T19:50:43.596Z"
   },
   {
    "duration": 174,
    "start_time": "2022-06-21T19:50:43.627Z"
   },
   {
    "duration": 6,
    "start_time": "2022-06-21T19:50:43.803Z"
   },
   {
    "duration": 23,
    "start_time": "2022-06-21T19:50:43.810Z"
   },
   {
    "duration": 3,
    "start_time": "2022-06-21T19:50:43.834Z"
   },
   {
    "duration": 13,
    "start_time": "2022-06-21T19:50:43.838Z"
   },
   {
    "duration": 156,
    "start_time": "2022-06-21T19:50:43.854Z"
   },
   {
    "duration": 17,
    "start_time": "2022-06-21T19:50:44.011Z"
   },
   {
    "duration": 4,
    "start_time": "2022-06-21T19:50:44.029Z"
   },
   {
    "duration": 13,
    "start_time": "2022-06-21T19:50:44.035Z"
   },
   {
    "duration": 171,
    "start_time": "2022-06-21T19:50:44.050Z"
   },
   {
    "duration": 15,
    "start_time": "2022-06-21T19:50:44.222Z"
   },
   {
    "duration": 16,
    "start_time": "2022-06-21T19:50:44.238Z"
   },
   {
    "duration": 15,
    "start_time": "2022-06-21T19:50:44.256Z"
   },
   {
    "duration": 4,
    "start_time": "2022-06-21T19:50:44.273Z"
   },
   {
    "duration": 27,
    "start_time": "2022-06-21T19:50:44.279Z"
   },
   {
    "duration": 25,
    "start_time": "2022-06-21T19:50:44.308Z"
   },
   {
    "duration": 236,
    "start_time": "2022-06-21T19:50:44.335Z"
   },
   {
    "duration": 19,
    "start_time": "2022-06-21T19:50:44.573Z"
   },
   {
    "duration": 10,
    "start_time": "2022-06-21T19:50:44.594Z"
   },
   {
    "duration": 26,
    "start_time": "2022-06-21T19:50:44.607Z"
   },
   {
    "duration": 19,
    "start_time": "2022-06-21T19:50:44.635Z"
   },
   {
    "duration": 16,
    "start_time": "2022-06-21T19:51:07.648Z"
   },
   {
    "duration": 405,
    "start_time": "2022-06-21T19:51:32.680Z"
   },
   {
    "duration": 226,
    "start_time": "2022-06-21T19:51:33.087Z"
   },
   {
    "duration": 508,
    "start_time": "2022-06-21T19:51:33.314Z"
   },
   {
    "duration": 74,
    "start_time": "2022-06-21T19:51:33.824Z"
   },
   {
    "duration": 20,
    "start_time": "2022-06-21T19:51:33.901Z"
   },
   {
    "duration": 16,
    "start_time": "2022-06-21T19:51:33.923Z"
   },
   {
    "duration": 18,
    "start_time": "2022-06-21T19:51:33.941Z"
   },
   {
    "duration": 10,
    "start_time": "2022-06-21T19:51:33.961Z"
   },
   {
    "duration": 20,
    "start_time": "2022-06-21T19:51:33.973Z"
   },
   {
    "duration": 6,
    "start_time": "2022-06-21T19:51:33.994Z"
   },
   {
    "duration": 25,
    "start_time": "2022-06-21T19:51:34.002Z"
   },
   {
    "duration": 11,
    "start_time": "2022-06-21T19:51:34.028Z"
   },
   {
    "duration": 8,
    "start_time": "2022-06-21T19:51:34.040Z"
   },
   {
    "duration": 14,
    "start_time": "2022-06-21T19:51:34.050Z"
   },
   {
    "duration": 8,
    "start_time": "2022-06-21T19:51:34.066Z"
   },
   {
    "duration": 16,
    "start_time": "2022-06-21T19:51:34.076Z"
   },
   {
    "duration": 201,
    "start_time": "2022-06-21T19:51:34.094Z"
   },
   {
    "duration": 8,
    "start_time": "2022-06-21T19:51:34.296Z"
   },
   {
    "duration": 178,
    "start_time": "2022-06-21T19:51:34.306Z"
   },
   {
    "duration": 15,
    "start_time": "2022-06-21T19:51:34.486Z"
   },
   {
    "duration": 17,
    "start_time": "2022-06-21T19:51:34.504Z"
   },
   {
    "duration": 16,
    "start_time": "2022-06-21T19:51:34.523Z"
   },
   {
    "duration": 199,
    "start_time": "2022-06-21T19:51:34.541Z"
   },
   {
    "duration": 5,
    "start_time": "2022-06-21T19:51:34.742Z"
   },
   {
    "duration": 14,
    "start_time": "2022-06-21T19:51:34.748Z"
   },
   {
    "duration": 3,
    "start_time": "2022-06-21T19:51:34.765Z"
   },
   {
    "duration": 15,
    "start_time": "2022-06-21T19:51:34.769Z"
   },
   {
    "duration": 197,
    "start_time": "2022-06-21T19:51:34.786Z"
   },
   {
    "duration": 12,
    "start_time": "2022-06-21T19:51:34.984Z"
   },
   {
    "duration": 3,
    "start_time": "2022-06-21T19:51:34.998Z"
   },
   {
    "duration": 29,
    "start_time": "2022-06-21T19:51:35.003Z"
   },
   {
    "duration": 181,
    "start_time": "2022-06-21T19:51:35.034Z"
   },
   {
    "duration": 18,
    "start_time": "2022-06-21T19:51:35.217Z"
   },
   {
    "duration": 16,
    "start_time": "2022-06-21T19:51:35.237Z"
   },
   {
    "duration": 16,
    "start_time": "2022-06-21T19:51:35.255Z"
   },
   {
    "duration": 15,
    "start_time": "2022-06-21T19:51:35.273Z"
   },
   {
    "duration": 18,
    "start_time": "2022-06-21T19:51:35.290Z"
   },
   {
    "duration": 19,
    "start_time": "2022-06-21T19:51:35.310Z"
   },
   {
    "duration": 187,
    "start_time": "2022-06-21T19:51:35.331Z"
   },
   {
    "duration": 15,
    "start_time": "2022-06-21T19:51:35.529Z"
   },
   {
    "duration": 4,
    "start_time": "2022-06-21T19:51:35.548Z"
   },
   {
    "duration": 8,
    "start_time": "2022-06-21T19:51:35.553Z"
   },
   {
    "duration": 10,
    "start_time": "2022-06-21T19:51:35.563Z"
   },
   {
    "duration": 22,
    "start_time": "2022-06-21T19:52:10.902Z"
   },
   {
    "duration": 23,
    "start_time": "2022-06-21T19:52:45.251Z"
   },
   {
    "duration": 21,
    "start_time": "2022-06-21T19:53:15.606Z"
   },
   {
    "duration": 22,
    "start_time": "2022-06-21T19:53:35.510Z"
   },
   {
    "duration": 22,
    "start_time": "2022-06-21T19:53:43.502Z"
   },
   {
    "duration": 29,
    "start_time": "2022-06-21T19:53:52.410Z"
   },
   {
    "duration": 13,
    "start_time": "2022-06-21T19:54:54.727Z"
   },
   {
    "duration": 21,
    "start_time": "2022-06-21T19:54:55.454Z"
   },
   {
    "duration": 374,
    "start_time": "2022-06-21T19:54:59.380Z"
   },
   {
    "duration": 245,
    "start_time": "2022-06-21T19:54:59.757Z"
   },
   {
    "duration": 584,
    "start_time": "2022-06-21T19:55:00.004Z"
   },
   {
    "duration": 71,
    "start_time": "2022-06-21T19:55:00.590Z"
   },
   {
    "duration": 14,
    "start_time": "2022-06-21T19:55:00.664Z"
   },
   {
    "duration": 81,
    "start_time": "2022-06-21T19:55:00.680Z"
   },
   {
    "duration": 37,
    "start_time": "2022-06-21T19:55:00.763Z"
   },
   {
    "duration": 12,
    "start_time": "2022-06-21T19:55:00.802Z"
   },
   {
    "duration": 33,
    "start_time": "2022-06-21T19:55:00.816Z"
   },
   {
    "duration": 21,
    "start_time": "2022-06-21T19:55:00.853Z"
   },
   {
    "duration": 30,
    "start_time": "2022-06-21T19:55:00.876Z"
   },
   {
    "duration": 29,
    "start_time": "2022-06-21T19:55:00.908Z"
   },
   {
    "duration": 24,
    "start_time": "2022-06-21T19:55:00.938Z"
   },
   {
    "duration": 18,
    "start_time": "2022-06-21T19:55:00.965Z"
   },
   {
    "duration": 4,
    "start_time": "2022-06-21T19:55:00.985Z"
   },
   {
    "duration": 13,
    "start_time": "2022-06-21T19:55:00.990Z"
   },
   {
    "duration": 206,
    "start_time": "2022-06-21T19:55:01.006Z"
   },
   {
    "duration": 14,
    "start_time": "2022-06-21T19:55:01.214Z"
   },
   {
    "duration": 226,
    "start_time": "2022-06-21T19:55:01.230Z"
   },
   {
    "duration": 11,
    "start_time": "2022-06-21T19:55:01.460Z"
   },
   {
    "duration": 26,
    "start_time": "2022-06-21T19:55:01.473Z"
   },
   {
    "duration": 40,
    "start_time": "2022-06-21T19:55:01.501Z"
   },
   {
    "duration": 244,
    "start_time": "2022-06-21T19:55:01.543Z"
   },
   {
    "duration": 6,
    "start_time": "2022-06-21T19:55:01.789Z"
   },
   {
    "duration": 52,
    "start_time": "2022-06-21T19:55:01.796Z"
   },
   {
    "duration": 15,
    "start_time": "2022-06-21T19:55:01.850Z"
   },
   {
    "duration": 34,
    "start_time": "2022-06-21T19:55:01.867Z"
   },
   {
    "duration": 202,
    "start_time": "2022-06-21T19:55:01.902Z"
   },
   {
    "duration": 22,
    "start_time": "2022-06-21T19:55:02.106Z"
   },
   {
    "duration": 4,
    "start_time": "2022-06-21T19:55:02.130Z"
   },
   {
    "duration": 52,
    "start_time": "2022-06-21T19:55:02.136Z"
   },
   {
    "duration": 232,
    "start_time": "2022-06-21T19:55:02.190Z"
   },
   {
    "duration": 14,
    "start_time": "2022-06-21T19:55:02.424Z"
   },
   {
    "duration": 23,
    "start_time": "2022-06-21T19:55:02.440Z"
   },
   {
    "duration": 57,
    "start_time": "2022-06-21T19:55:02.464Z"
   },
   {
    "duration": 54,
    "start_time": "2022-06-21T19:55:02.523Z"
   },
   {
    "duration": 15,
    "start_time": "2022-06-21T19:55:02.579Z"
   },
   {
    "duration": 7,
    "start_time": "2022-06-21T19:55:02.596Z"
   },
   {
    "duration": 221,
    "start_time": "2022-06-21T19:55:02.605Z"
   },
   {
    "duration": 17,
    "start_time": "2022-06-21T19:55:02.828Z"
   },
   {
    "duration": 5,
    "start_time": "2022-06-21T19:55:02.849Z"
   },
   {
    "duration": 22,
    "start_time": "2022-06-21T19:55:02.856Z"
   },
   {
    "duration": 37,
    "start_time": "2022-06-21T19:55:02.880Z"
   },
   {
    "duration": 394,
    "start_time": "2022-06-21T19:56:12.432Z"
   },
   {
    "duration": 231,
    "start_time": "2022-06-21T19:56:12.827Z"
   },
   {
    "duration": 527,
    "start_time": "2022-06-21T19:56:13.060Z"
   },
   {
    "duration": 71,
    "start_time": "2022-06-21T19:56:13.590Z"
   },
   {
    "duration": 13,
    "start_time": "2022-06-21T19:56:13.663Z"
   },
   {
    "duration": 16,
    "start_time": "2022-06-21T19:56:13.678Z"
   },
   {
    "duration": 34,
    "start_time": "2022-06-21T19:56:13.696Z"
   },
   {
    "duration": 11,
    "start_time": "2022-06-21T19:56:13.732Z"
   },
   {
    "duration": 21,
    "start_time": "2022-06-21T19:56:13.744Z"
   },
   {
    "duration": 6,
    "start_time": "2022-06-21T19:56:13.768Z"
   },
   {
    "duration": 8,
    "start_time": "2022-06-21T19:56:13.775Z"
   },
   {
    "duration": 13,
    "start_time": "2022-06-21T19:56:13.785Z"
   },
   {
    "duration": 6,
    "start_time": "2022-06-21T19:56:13.826Z"
   },
   {
    "duration": 14,
    "start_time": "2022-06-21T19:56:13.834Z"
   },
   {
    "duration": 3,
    "start_time": "2022-06-21T19:56:13.849Z"
   },
   {
    "duration": 9,
    "start_time": "2022-06-21T19:56:13.854Z"
   },
   {
    "duration": 191,
    "start_time": "2022-06-21T19:56:13.865Z"
   },
   {
    "duration": 8,
    "start_time": "2022-06-21T19:56:14.058Z"
   },
   {
    "duration": 159,
    "start_time": "2022-06-21T19:56:14.068Z"
   },
   {
    "duration": 12,
    "start_time": "2022-06-21T19:56:14.230Z"
   },
   {
    "duration": 5,
    "start_time": "2022-06-21T19:56:14.244Z"
   },
   {
    "duration": 9,
    "start_time": "2022-06-21T19:56:14.251Z"
   },
   {
    "duration": 225,
    "start_time": "2022-06-21T19:56:14.261Z"
   },
   {
    "duration": 9,
    "start_time": "2022-06-21T19:56:14.488Z"
   },
   {
    "duration": 31,
    "start_time": "2022-06-21T19:56:14.499Z"
   },
   {
    "duration": 14,
    "start_time": "2022-06-21T19:56:14.532Z"
   },
   {
    "duration": 18,
    "start_time": "2022-06-21T19:56:14.549Z"
   },
   {
    "duration": 173,
    "start_time": "2022-06-21T19:56:14.571Z"
   },
   {
    "duration": 12,
    "start_time": "2022-06-21T19:56:14.745Z"
   },
   {
    "duration": 6,
    "start_time": "2022-06-21T19:56:14.759Z"
   },
   {
    "duration": 19,
    "start_time": "2022-06-21T19:56:14.766Z"
   },
   {
    "duration": 175,
    "start_time": "2022-06-21T19:56:14.787Z"
   },
   {
    "duration": 19,
    "start_time": "2022-06-21T19:56:14.964Z"
   },
   {
    "duration": 21,
    "start_time": "2022-06-21T19:56:14.985Z"
   },
   {
    "duration": 33,
    "start_time": "2022-06-21T19:56:15.008Z"
   },
   {
    "duration": 19,
    "start_time": "2022-06-21T19:56:15.043Z"
   },
   {
    "duration": 13,
    "start_time": "2022-06-21T19:56:15.063Z"
   },
   {
    "duration": 6,
    "start_time": "2022-06-21T19:56:15.078Z"
   },
   {
    "duration": 211,
    "start_time": "2022-06-21T19:56:15.086Z"
   },
   {
    "duration": 13,
    "start_time": "2022-06-21T19:56:15.299Z"
   },
   {
    "duration": 16,
    "start_time": "2022-06-21T19:56:15.313Z"
   },
   {
    "duration": 10,
    "start_time": "2022-06-21T19:56:15.330Z"
   },
   {
    "duration": 10,
    "start_time": "2022-06-21T19:56:15.341Z"
   },
   {
    "duration": 405,
    "start_time": "2022-06-21T19:57:32.824Z"
   },
   {
    "duration": 209,
    "start_time": "2022-06-21T19:57:33.231Z"
   },
   {
    "duration": 468,
    "start_time": "2022-06-21T19:57:33.441Z"
   },
   {
    "duration": 68,
    "start_time": "2022-06-21T19:57:33.910Z"
   },
   {
    "duration": 14,
    "start_time": "2022-06-21T19:57:33.980Z"
   },
   {
    "duration": 13,
    "start_time": "2022-06-21T19:57:33.996Z"
   },
   {
    "duration": 24,
    "start_time": "2022-06-21T19:57:34.011Z"
   },
   {
    "duration": 12,
    "start_time": "2022-06-21T19:57:34.036Z"
   },
   {
    "duration": 18,
    "start_time": "2022-06-21T19:57:34.050Z"
   },
   {
    "duration": 6,
    "start_time": "2022-06-21T19:57:34.070Z"
   },
   {
    "duration": 8,
    "start_time": "2022-06-21T19:57:34.078Z"
   },
   {
    "duration": 39,
    "start_time": "2022-06-21T19:57:34.087Z"
   },
   {
    "duration": 7,
    "start_time": "2022-06-21T19:57:34.127Z"
   },
   {
    "duration": 12,
    "start_time": "2022-06-21T19:57:34.136Z"
   },
   {
    "duration": 3,
    "start_time": "2022-06-21T19:57:34.150Z"
   },
   {
    "duration": 15,
    "start_time": "2022-06-21T19:57:34.154Z"
   },
   {
    "duration": 190,
    "start_time": "2022-06-21T19:57:34.170Z"
   },
   {
    "duration": 6,
    "start_time": "2022-06-21T19:57:34.362Z"
   },
   {
    "duration": 211,
    "start_time": "2022-06-21T19:57:34.369Z"
   },
   {
    "duration": 14,
    "start_time": "2022-06-21T19:57:34.582Z"
   },
   {
    "duration": 8,
    "start_time": "2022-06-21T19:57:34.598Z"
   },
   {
    "duration": 19,
    "start_time": "2022-06-21T19:57:34.608Z"
   },
   {
    "duration": 191,
    "start_time": "2022-06-21T19:57:34.630Z"
   },
   {
    "duration": 6,
    "start_time": "2022-06-21T19:57:34.825Z"
   },
   {
    "duration": 12,
    "start_time": "2022-06-21T19:57:34.832Z"
   },
   {
    "duration": 5,
    "start_time": "2022-06-21T19:57:34.846Z"
   },
   {
    "duration": 15,
    "start_time": "2022-06-21T19:57:34.852Z"
   },
   {
    "duration": 153,
    "start_time": "2022-06-21T19:57:34.869Z"
   },
   {
    "duration": 11,
    "start_time": "2022-06-21T19:57:35.026Z"
   },
   {
    "duration": 4,
    "start_time": "2022-06-21T19:57:35.038Z"
   },
   {
    "duration": 13,
    "start_time": "2022-06-21T19:57:35.044Z"
   },
   {
    "duration": 179,
    "start_time": "2022-06-21T19:57:35.058Z"
   },
   {
    "duration": 12,
    "start_time": "2022-06-21T19:57:35.239Z"
   },
   {
    "duration": 15,
    "start_time": "2022-06-21T19:57:35.252Z"
   },
   {
    "duration": 17,
    "start_time": "2022-06-21T19:57:35.269Z"
   },
   {
    "duration": 14,
    "start_time": "2022-06-21T19:57:35.287Z"
   },
   {
    "duration": 25,
    "start_time": "2022-06-21T19:57:35.302Z"
   },
   {
    "duration": 189,
    "start_time": "2022-06-21T19:57:35.328Z"
   },
   {
    "duration": 16,
    "start_time": "2022-06-21T19:57:35.518Z"
   },
   {
    "duration": 5,
    "start_time": "2022-06-21T19:57:35.536Z"
   },
   {
    "duration": 10,
    "start_time": "2022-06-21T19:57:35.544Z"
   },
   {
    "duration": 8,
    "start_time": "2022-06-21T19:57:35.556Z"
   },
   {
    "duration": 428,
    "start_time": "2022-06-21T20:09:05.017Z"
   },
   {
    "duration": 222,
    "start_time": "2022-06-21T20:09:05.447Z"
   },
   {
    "duration": 534,
    "start_time": "2022-06-21T20:09:05.671Z"
   },
   {
    "duration": 71,
    "start_time": "2022-06-21T20:09:06.207Z"
   },
   {
    "duration": 17,
    "start_time": "2022-06-21T20:09:06.280Z"
   },
   {
    "duration": 14,
    "start_time": "2022-06-21T20:09:06.300Z"
   },
   {
    "duration": 25,
    "start_time": "2022-06-21T20:09:06.315Z"
   },
   {
    "duration": 11,
    "start_time": "2022-06-21T20:09:06.342Z"
   },
   {
    "duration": 34,
    "start_time": "2022-06-21T20:09:06.354Z"
   },
   {
    "duration": 14,
    "start_time": "2022-06-21T20:09:06.392Z"
   },
   {
    "duration": 18,
    "start_time": "2022-06-21T20:09:06.408Z"
   },
   {
    "duration": 23,
    "start_time": "2022-06-21T20:09:06.427Z"
   },
   {
    "duration": 18,
    "start_time": "2022-06-21T20:09:06.453Z"
   },
   {
    "duration": 25,
    "start_time": "2022-06-21T20:09:06.473Z"
   },
   {
    "duration": 11,
    "start_time": "2022-06-21T20:09:06.500Z"
   },
   {
    "duration": 32,
    "start_time": "2022-06-21T20:09:06.513Z"
   },
   {
    "duration": 188,
    "start_time": "2022-06-21T20:09:06.546Z"
   },
   {
    "duration": 6,
    "start_time": "2022-06-21T20:09:06.736Z"
   },
   {
    "duration": 166,
    "start_time": "2022-06-21T20:09:06.744Z"
   },
   {
    "duration": 20,
    "start_time": "2022-06-21T20:09:06.912Z"
   },
   {
    "duration": 35,
    "start_time": "2022-06-21T20:09:06.934Z"
   },
   {
    "duration": 15,
    "start_time": "2022-06-21T20:09:06.971Z"
   },
   {
    "duration": 184,
    "start_time": "2022-06-21T20:09:06.988Z"
   },
   {
    "duration": 7,
    "start_time": "2022-06-21T20:09:07.174Z"
   },
   {
    "duration": 32,
    "start_time": "2022-06-21T20:09:07.183Z"
   },
   {
    "duration": 8,
    "start_time": "2022-06-21T20:09:07.216Z"
   },
   {
    "duration": 35,
    "start_time": "2022-06-21T20:09:07.226Z"
   },
   {
    "duration": 165,
    "start_time": "2022-06-21T20:09:07.265Z"
   },
   {
    "duration": 12,
    "start_time": "2022-06-21T20:09:07.432Z"
   },
   {
    "duration": 22,
    "start_time": "2022-06-21T20:09:07.446Z"
   },
   {
    "duration": 22,
    "start_time": "2022-06-21T20:09:07.470Z"
   },
   {
    "duration": 208,
    "start_time": "2022-06-21T20:09:07.494Z"
   },
   {
    "duration": 24,
    "start_time": "2022-06-21T20:09:07.704Z"
   },
   {
    "duration": 24,
    "start_time": "2022-06-21T20:09:07.730Z"
   },
   {
    "duration": 24,
    "start_time": "2022-06-21T20:09:07.755Z"
   },
   {
    "duration": 19,
    "start_time": "2022-06-21T20:09:07.781Z"
   },
   {
    "duration": 21,
    "start_time": "2022-06-21T20:09:07.803Z"
   },
   {
    "duration": 203,
    "start_time": "2022-06-21T20:09:07.826Z"
   },
   {
    "duration": 14,
    "start_time": "2022-06-21T20:09:08.031Z"
   },
   {
    "duration": 6,
    "start_time": "2022-06-21T20:09:08.047Z"
   },
   {
    "duration": 12,
    "start_time": "2022-06-21T20:09:08.055Z"
   },
   {
    "duration": 21,
    "start_time": "2022-06-21T20:09:08.069Z"
   },
   {
    "duration": 66,
    "start_time": "2022-06-21T20:16:57.514Z"
   },
   {
    "duration": 54,
    "start_time": "2022-06-21T20:19:02.126Z"
   },
   {
    "duration": 50,
    "start_time": "2022-06-21T20:19:05.590Z"
   },
   {
    "duration": 94,
    "start_time": "2022-06-21T20:19:13.130Z"
   },
   {
    "duration": 80,
    "start_time": "2022-06-21T20:19:20.617Z"
   },
   {
    "duration": 36,
    "start_time": "2022-06-21T20:19:49.234Z"
   },
   {
    "duration": 35,
    "start_time": "2022-06-21T20:19:52.905Z"
   },
   {
    "duration": 52,
    "start_time": "2022-06-21T20:20:22.050Z"
   },
   {
    "duration": 46,
    "start_time": "2022-06-21T20:20:45.836Z"
   },
   {
    "duration": 55,
    "start_time": "2022-06-21T20:21:44.982Z"
   },
   {
    "duration": 45,
    "start_time": "2022-06-21T20:22:41.594Z"
   },
   {
    "duration": 55,
    "start_time": "2022-06-21T20:24:14.646Z"
   },
   {
    "duration": 10,
    "start_time": "2022-06-21T20:24:19.034Z"
   },
   {
    "duration": 378,
    "start_time": "2022-06-22T16:58:18.322Z"
   },
   {
    "duration": 383,
    "start_time": "2022-06-22T16:58:18.702Z"
   },
   {
    "duration": 503,
    "start_time": "2022-06-22T16:58:19.087Z"
   },
   {
    "duration": 108,
    "start_time": "2022-06-22T16:58:19.591Z"
   },
   {
    "duration": 12,
    "start_time": "2022-06-22T16:58:19.701Z"
   },
   {
    "duration": 11,
    "start_time": "2022-06-22T16:58:19.714Z"
   },
   {
    "duration": 40,
    "start_time": "2022-06-22T16:58:19.726Z"
   },
   {
    "duration": 11,
    "start_time": "2022-06-22T16:58:19.768Z"
   },
   {
    "duration": 43,
    "start_time": "2022-06-22T16:58:19.780Z"
   },
   {
    "duration": 8,
    "start_time": "2022-06-22T16:58:19.826Z"
   },
   {
    "duration": 32,
    "start_time": "2022-06-22T16:58:19.835Z"
   },
   {
    "duration": 23,
    "start_time": "2022-06-22T16:58:19.869Z"
   },
   {
    "duration": 29,
    "start_time": "2022-06-22T16:58:19.894Z"
   },
   {
    "duration": 26,
    "start_time": "2022-06-22T16:58:19.926Z"
   },
   {
    "duration": 9,
    "start_time": "2022-06-22T16:58:19.953Z"
   },
   {
    "duration": 24,
    "start_time": "2022-06-22T16:58:19.964Z"
   },
   {
    "duration": 172,
    "start_time": "2022-06-22T16:58:19.990Z"
   },
   {
    "duration": 6,
    "start_time": "2022-06-22T16:58:20.164Z"
   },
   {
    "duration": 146,
    "start_time": "2022-06-22T16:58:20.171Z"
   },
   {
    "duration": 16,
    "start_time": "2022-06-22T16:58:20.318Z"
   },
   {
    "duration": 3,
    "start_time": "2022-06-22T16:58:20.336Z"
   },
   {
    "duration": 8,
    "start_time": "2022-06-22T16:58:20.341Z"
   },
   {
    "duration": 171,
    "start_time": "2022-06-22T16:58:20.350Z"
   },
   {
    "duration": 4,
    "start_time": "2022-06-22T16:58:20.525Z"
   },
   {
    "duration": 12,
    "start_time": "2022-06-22T16:58:20.531Z"
   },
   {
    "duration": 3,
    "start_time": "2022-06-22T16:58:20.544Z"
   },
   {
    "duration": 13,
    "start_time": "2022-06-22T16:58:20.548Z"
   },
   {
    "duration": 155,
    "start_time": "2022-06-22T16:58:20.562Z"
   },
   {
    "duration": 14,
    "start_time": "2022-06-22T16:58:20.718Z"
   },
   {
    "duration": 3,
    "start_time": "2022-06-22T16:58:20.734Z"
   },
   {
    "duration": 10,
    "start_time": "2022-06-22T16:58:20.739Z"
   },
   {
    "duration": 174,
    "start_time": "2022-06-22T16:58:20.751Z"
   },
   {
    "duration": 12,
    "start_time": "2022-06-22T16:58:20.927Z"
   },
   {
    "duration": 12,
    "start_time": "2022-06-22T16:58:20.941Z"
   },
   {
    "duration": 15,
    "start_time": "2022-06-22T16:58:20.954Z"
   },
   {
    "duration": 13,
    "start_time": "2022-06-22T16:58:20.971Z"
   },
   {
    "duration": 6,
    "start_time": "2022-06-22T16:58:20.986Z"
   },
   {
    "duration": 195,
    "start_time": "2022-06-22T16:58:20.993Z"
   },
   {
    "duration": 13,
    "start_time": "2022-06-22T16:58:21.189Z"
   },
   {
    "duration": 4,
    "start_time": "2022-06-22T16:58:21.203Z"
   },
   {
    "duration": 4,
    "start_time": "2022-06-22T16:58:21.226Z"
   },
   {
    "duration": 8,
    "start_time": "2022-06-22T16:58:21.231Z"
   },
   {
    "duration": 175,
    "start_time": "2022-06-22T16:58:21.240Z"
   },
   {
    "duration": 11,
    "start_time": "2022-06-22T16:58:21.416Z"
   },
   {
    "duration": 8,
    "start_time": "2022-06-22T16:58:21.428Z"
   },
   {
    "duration": 12,
    "start_time": "2022-06-22T16:58:21.437Z"
   },
   {
    "duration": 91,
    "start_time": "2022-06-22T16:58:21.450Z"
   },
   {
    "duration": 17,
    "start_time": "2022-06-22T16:59:47.931Z"
   },
   {
    "duration": 387,
    "start_time": "2022-06-22T17:00:14.689Z"
   },
   {
    "duration": 225,
    "start_time": "2022-06-22T17:00:15.078Z"
   },
   {
    "duration": 487,
    "start_time": "2022-06-22T17:00:15.305Z"
   },
   {
    "duration": 60,
    "start_time": "2022-06-22T17:00:15.794Z"
   },
   {
    "duration": 12,
    "start_time": "2022-06-22T17:00:15.856Z"
   },
   {
    "duration": 33,
    "start_time": "2022-06-22T17:00:15.869Z"
   },
   {
    "duration": 35,
    "start_time": "2022-06-22T17:00:15.904Z"
   },
   {
    "duration": 38,
    "start_time": "2022-06-22T17:00:15.940Z"
   },
   {
    "duration": 36,
    "start_time": "2022-06-22T17:00:15.979Z"
   },
   {
    "duration": 16,
    "start_time": "2022-06-22T17:00:16.017Z"
   },
   {
    "duration": 34,
    "start_time": "2022-06-22T17:00:16.034Z"
   },
   {
    "duration": 35,
    "start_time": "2022-06-22T17:00:16.070Z"
   },
   {
    "duration": 37,
    "start_time": "2022-06-22T17:00:16.107Z"
   },
   {
    "duration": 21,
    "start_time": "2022-06-22T17:00:16.146Z"
   },
   {
    "duration": 31,
    "start_time": "2022-06-22T17:00:16.169Z"
   },
   {
    "duration": 16,
    "start_time": "2022-06-22T17:00:16.201Z"
   },
   {
    "duration": 176,
    "start_time": "2022-06-22T17:00:16.218Z"
   },
   {
    "duration": 6,
    "start_time": "2022-06-22T17:00:16.396Z"
   },
   {
    "duration": 196,
    "start_time": "2022-06-22T17:00:16.404Z"
   },
   {
    "duration": 24,
    "start_time": "2022-06-22T17:00:16.602Z"
   },
   {
    "duration": 35,
    "start_time": "2022-06-22T17:00:16.628Z"
   },
   {
    "duration": 31,
    "start_time": "2022-06-22T17:00:16.665Z"
   },
   {
    "duration": 189,
    "start_time": "2022-06-22T17:00:16.697Z"
   },
   {
    "duration": 5,
    "start_time": "2022-06-22T17:00:16.887Z"
   },
   {
    "duration": 28,
    "start_time": "2022-06-22T17:00:16.893Z"
   },
   {
    "duration": 18,
    "start_time": "2022-06-22T17:00:16.922Z"
   },
   {
    "duration": 24,
    "start_time": "2022-06-22T17:00:16.942Z"
   },
   {
    "duration": 145,
    "start_time": "2022-06-22T17:00:16.970Z"
   },
   {
    "duration": 14,
    "start_time": "2022-06-22T17:00:17.116Z"
   },
   {
    "duration": 20,
    "start_time": "2022-06-22T17:00:17.132Z"
   },
   {
    "duration": 22,
    "start_time": "2022-06-22T17:00:17.154Z"
   },
   {
    "duration": 172,
    "start_time": "2022-06-22T17:00:17.178Z"
   },
   {
    "duration": 11,
    "start_time": "2022-06-22T17:00:17.352Z"
   },
   {
    "duration": 47,
    "start_time": "2022-06-22T17:00:17.364Z"
   },
   {
    "duration": 40,
    "start_time": "2022-06-22T17:00:17.413Z"
   },
   {
    "duration": 18,
    "start_time": "2022-06-22T17:00:17.454Z"
   },
   {
    "duration": 22,
    "start_time": "2022-06-22T17:00:17.474Z"
   },
   {
    "duration": 204,
    "start_time": "2022-06-22T17:00:17.498Z"
   },
   {
    "duration": 21,
    "start_time": "2022-06-22T17:00:17.704Z"
   },
   {
    "duration": 16,
    "start_time": "2022-06-22T17:00:17.727Z"
   },
   {
    "duration": 34,
    "start_time": "2022-06-22T17:00:17.744Z"
   },
   {
    "duration": 24,
    "start_time": "2022-06-22T17:00:17.780Z"
   },
   {
    "duration": 27,
    "start_time": "2022-06-22T17:00:17.806Z"
   },
   {
    "duration": 92,
    "start_time": "2022-06-22T17:00:17.834Z"
   },
   {
    "duration": 11,
    "start_time": "2022-06-22T17:00:17.928Z"
   },
   {
    "duration": 35,
    "start_time": "2022-06-22T17:00:17.940Z"
   },
   {
    "duration": 28,
    "start_time": "2022-06-22T17:00:17.977Z"
   },
   {
    "duration": 116,
    "start_time": "2022-06-22T17:00:18.006Z"
   },
   {
    "duration": 398,
    "start_time": "2022-06-22T17:01:11.792Z"
   },
   {
    "duration": 245,
    "start_time": "2022-06-22T17:01:12.192Z"
   },
   {
    "duration": 489,
    "start_time": "2022-06-22T17:01:12.439Z"
   },
   {
    "duration": 63,
    "start_time": "2022-06-22T17:01:12.929Z"
   },
   {
    "duration": 14,
    "start_time": "2022-06-22T17:01:12.994Z"
   },
   {
    "duration": 13,
    "start_time": "2022-06-22T17:01:13.011Z"
   },
   {
    "duration": 18,
    "start_time": "2022-06-22T17:01:13.026Z"
   },
   {
    "duration": 11,
    "start_time": "2022-06-22T17:01:13.046Z"
   },
   {
    "duration": 20,
    "start_time": "2022-06-22T17:01:13.059Z"
   },
   {
    "duration": 6,
    "start_time": "2022-06-22T17:01:13.081Z"
   },
   {
    "duration": 9,
    "start_time": "2022-06-22T17:01:13.089Z"
   },
   {
    "duration": 14,
    "start_time": "2022-06-22T17:01:13.126Z"
   },
   {
    "duration": 8,
    "start_time": "2022-06-22T17:01:13.142Z"
   },
   {
    "duration": 13,
    "start_time": "2022-06-22T17:01:13.153Z"
   },
   {
    "duration": 4,
    "start_time": "2022-06-22T17:01:13.167Z"
   },
   {
    "duration": 13,
    "start_time": "2022-06-22T17:01:13.173Z"
   },
   {
    "duration": 203,
    "start_time": "2022-06-22T17:01:13.188Z"
   },
   {
    "duration": 6,
    "start_time": "2022-06-22T17:01:13.393Z"
   },
   {
    "duration": 157,
    "start_time": "2022-06-22T17:01:13.401Z"
   },
   {
    "duration": 11,
    "start_time": "2022-06-22T17:01:13.560Z"
   },
   {
    "duration": 5,
    "start_time": "2022-06-22T17:01:13.573Z"
   },
   {
    "duration": 9,
    "start_time": "2022-06-22T17:01:13.579Z"
   },
   {
    "duration": 194,
    "start_time": "2022-06-22T17:01:13.589Z"
   },
   {
    "duration": 6,
    "start_time": "2022-06-22T17:01:13.784Z"
   },
   {
    "duration": 11,
    "start_time": "2022-06-22T17:01:13.792Z"
   },
   {
    "duration": 2,
    "start_time": "2022-06-22T17:01:13.805Z"
   },
   {
    "duration": 24,
    "start_time": "2022-06-22T17:01:13.809Z"
   },
   {
    "duration": 155,
    "start_time": "2022-06-22T17:01:13.835Z"
   },
   {
    "duration": 14,
    "start_time": "2022-06-22T17:01:13.992Z"
   },
   {
    "duration": 16,
    "start_time": "2022-06-22T17:01:14.009Z"
   },
   {
    "duration": 7,
    "start_time": "2022-06-22T17:01:14.028Z"
   },
   {
    "duration": 206,
    "start_time": "2022-06-22T17:01:14.036Z"
   },
   {
    "duration": 12,
    "start_time": "2022-06-22T17:01:14.243Z"
   },
   {
    "duration": 14,
    "start_time": "2022-06-22T17:01:14.256Z"
   },
   {
    "duration": 21,
    "start_time": "2022-06-22T17:01:14.271Z"
   },
   {
    "duration": 13,
    "start_time": "2022-06-22T17:01:14.294Z"
   },
   {
    "duration": 19,
    "start_time": "2022-06-22T17:01:14.308Z"
   },
   {
    "duration": 188,
    "start_time": "2022-06-22T17:01:14.328Z"
   },
   {
    "duration": 17,
    "start_time": "2022-06-22T17:01:14.517Z"
   },
   {
    "duration": 8,
    "start_time": "2022-06-22T17:01:14.536Z"
   },
   {
    "duration": 23,
    "start_time": "2022-06-22T17:01:14.547Z"
   },
   {
    "duration": 25,
    "start_time": "2022-06-22T17:01:14.572Z"
   },
   {
    "duration": 17,
    "start_time": "2022-06-22T17:01:14.599Z"
   },
   {
    "duration": 84,
    "start_time": "2022-06-22T17:01:14.618Z"
   },
   {
    "duration": 12,
    "start_time": "2022-06-22T17:01:14.704Z"
   },
   {
    "duration": 19,
    "start_time": "2022-06-22T17:01:14.718Z"
   },
   {
    "duration": 27,
    "start_time": "2022-06-22T17:01:14.739Z"
   },
   {
    "duration": 24,
    "start_time": "2022-06-22T17:01:14.768Z"
   },
   {
    "duration": 12,
    "start_time": "2022-06-22T17:01:22.410Z"
   },
   {
    "duration": 96,
    "start_time": "2022-06-22T17:02:09.894Z"
   },
   {
    "duration": 6,
    "start_time": "2022-06-22T17:02:17.494Z"
   },
   {
    "duration": 181,
    "start_time": "2022-06-22T17:04:45.567Z"
   },
   {
    "duration": 5,
    "start_time": "2022-06-22T17:04:49.630Z"
   },
   {
    "duration": 8,
    "start_time": "2022-06-22T17:08:43.590Z"
   },
   {
    "duration": 6,
    "start_time": "2022-06-22T17:08:50.607Z"
   },
   {
    "duration": 75,
    "start_time": "2022-06-22T17:19:53.474Z"
   },
   {
    "duration": 11,
    "start_time": "2022-06-22T18:01:19.791Z"
   },
   {
    "duration": 375,
    "start_time": "2022-06-22T18:01:25.138Z"
   },
   {
    "duration": 224,
    "start_time": "2022-06-22T18:01:25.514Z"
   },
   {
    "duration": 447,
    "start_time": "2022-06-22T18:01:25.740Z"
   },
   {
    "duration": 61,
    "start_time": "2022-06-22T18:01:26.189Z"
   },
   {
    "duration": 12,
    "start_time": "2022-06-22T18:01:26.251Z"
   },
   {
    "duration": 14,
    "start_time": "2022-06-22T18:01:26.264Z"
   },
   {
    "duration": 15,
    "start_time": "2022-06-22T18:01:26.279Z"
   },
   {
    "duration": 9,
    "start_time": "2022-06-22T18:01:26.296Z"
   },
   {
    "duration": 33,
    "start_time": "2022-06-22T18:01:26.306Z"
   },
   {
    "duration": 5,
    "start_time": "2022-06-22T18:01:26.342Z"
   },
   {
    "duration": 9,
    "start_time": "2022-06-22T18:01:26.348Z"
   },
   {
    "duration": 11,
    "start_time": "2022-06-22T18:01:26.358Z"
   },
   {
    "duration": 6,
    "start_time": "2022-06-22T18:01:26.370Z"
   },
   {
    "duration": 12,
    "start_time": "2022-06-22T18:01:26.377Z"
   },
   {
    "duration": 2,
    "start_time": "2022-06-22T18:01:26.390Z"
   },
   {
    "duration": 9,
    "start_time": "2022-06-22T18:01:26.394Z"
   },
   {
    "duration": 221,
    "start_time": "2022-06-22T18:01:26.404Z"
   },
   {
    "duration": 9,
    "start_time": "2022-06-22T18:01:26.629Z"
   },
   {
    "duration": 157,
    "start_time": "2022-06-22T18:01:26.640Z"
   },
   {
    "duration": 10,
    "start_time": "2022-06-22T18:01:26.798Z"
   },
   {
    "duration": 3,
    "start_time": "2022-06-22T18:01:26.809Z"
   },
   {
    "duration": 6,
    "start_time": "2022-06-22T18:01:26.825Z"
   },
   {
    "duration": 172,
    "start_time": "2022-06-22T18:01:26.833Z"
   },
   {
    "duration": 6,
    "start_time": "2022-06-22T18:01:27.007Z"
   },
   {
    "duration": 10,
    "start_time": "2022-06-22T18:01:27.024Z"
   },
   {
    "duration": 2,
    "start_time": "2022-06-22T18:01:27.035Z"
   },
   {
    "duration": 12,
    "start_time": "2022-06-22T18:01:27.039Z"
   },
   {
    "duration": 142,
    "start_time": "2022-06-22T18:01:27.054Z"
   },
   {
    "duration": 10,
    "start_time": "2022-06-22T18:01:27.198Z"
   },
   {
    "duration": 15,
    "start_time": "2022-06-22T18:01:27.210Z"
   },
   {
    "duration": 10,
    "start_time": "2022-06-22T18:01:27.227Z"
   },
   {
    "duration": 162,
    "start_time": "2022-06-22T18:01:27.238Z"
   },
   {
    "duration": 12,
    "start_time": "2022-06-22T18:01:27.401Z"
   },
   {
    "duration": 16,
    "start_time": "2022-06-22T18:01:27.414Z"
   },
   {
    "duration": 14,
    "start_time": "2022-06-22T18:01:27.431Z"
   },
   {
    "duration": 11,
    "start_time": "2022-06-22T18:01:27.447Z"
   },
   {
    "duration": 5,
    "start_time": "2022-06-22T18:01:27.459Z"
   },
   {
    "duration": 186,
    "start_time": "2022-06-22T18:01:27.466Z"
   },
   {
    "duration": 12,
    "start_time": "2022-06-22T18:01:27.653Z"
   },
   {
    "duration": 3,
    "start_time": "2022-06-22T18:01:27.666Z"
   },
   {
    "duration": 9,
    "start_time": "2022-06-22T18:01:27.671Z"
   },
   {
    "duration": 12,
    "start_time": "2022-06-22T18:01:27.681Z"
   },
   {
    "duration": 7,
    "start_time": "2022-06-22T18:01:27.694Z"
   },
   {
    "duration": 86,
    "start_time": "2022-06-22T18:01:27.702Z"
   },
   {
    "duration": 10,
    "start_time": "2022-06-22T18:01:27.790Z"
   },
   {
    "duration": 7,
    "start_time": "2022-06-22T18:01:27.802Z"
   },
   {
    "duration": 14,
    "start_time": "2022-06-22T18:01:27.810Z"
   },
   {
    "duration": 12,
    "start_time": "2022-06-22T18:01:27.826Z"
   },
   {
    "duration": 4,
    "start_time": "2022-06-22T18:01:27.840Z"
   },
   {
    "duration": 384,
    "start_time": "2022-06-23T06:31:53.082Z"
   },
   {
    "duration": 288,
    "start_time": "2022-06-23T06:31:53.469Z"
   },
   {
    "duration": 604,
    "start_time": "2022-06-23T06:31:53.759Z"
   },
   {
    "duration": 69,
    "start_time": "2022-06-23T06:31:54.365Z"
   },
   {
    "duration": 14,
    "start_time": "2022-06-23T06:31:54.436Z"
   },
   {
    "duration": 22,
    "start_time": "2022-06-23T06:31:54.452Z"
   },
   {
    "duration": 27,
    "start_time": "2022-06-23T06:31:54.476Z"
   },
   {
    "duration": 13,
    "start_time": "2022-06-23T06:31:54.504Z"
   },
   {
    "duration": 26,
    "start_time": "2022-06-23T06:31:54.519Z"
   },
   {
    "duration": 7,
    "start_time": "2022-06-23T06:31:54.548Z"
   },
   {
    "duration": 17,
    "start_time": "2022-06-23T06:31:54.557Z"
   },
   {
    "duration": 16,
    "start_time": "2022-06-23T06:31:54.576Z"
   },
   {
    "duration": 8,
    "start_time": "2022-06-23T06:31:54.594Z"
   },
   {
    "duration": 12,
    "start_time": "2022-06-23T06:31:54.626Z"
   },
   {
    "duration": 5,
    "start_time": "2022-06-23T06:31:54.639Z"
   },
   {
    "duration": 11,
    "start_time": "2022-06-23T06:31:54.645Z"
   },
   {
    "duration": 215,
    "start_time": "2022-06-23T06:31:54.657Z"
   },
   {
    "duration": 7,
    "start_time": "2022-06-23T06:31:54.874Z"
   },
   {
    "duration": 207,
    "start_time": "2022-06-23T06:31:54.884Z"
   },
   {
    "duration": 16,
    "start_time": "2022-06-23T06:31:55.093Z"
   },
   {
    "duration": 21,
    "start_time": "2022-06-23T06:31:55.111Z"
   },
   {
    "duration": 15,
    "start_time": "2022-06-23T06:31:55.134Z"
   },
   {
    "duration": 261,
    "start_time": "2022-06-23T06:31:55.151Z"
   },
   {
    "duration": 13,
    "start_time": "2022-06-23T06:31:55.414Z"
   },
   {
    "duration": 18,
    "start_time": "2022-06-23T06:31:55.430Z"
   },
   {
    "duration": 4,
    "start_time": "2022-06-23T06:31:55.450Z"
   },
   {
    "duration": 25,
    "start_time": "2022-06-23T06:31:55.456Z"
   },
   {
    "duration": 222,
    "start_time": "2022-06-23T06:31:55.486Z"
   },
   {
    "duration": 28,
    "start_time": "2022-06-23T06:31:55.710Z"
   },
   {
    "duration": 7,
    "start_time": "2022-06-23T06:31:55.741Z"
   },
   {
    "duration": 19,
    "start_time": "2022-06-23T06:31:55.751Z"
   },
   {
    "duration": 249,
    "start_time": "2022-06-23T06:31:55.772Z"
   },
   {
    "duration": 14,
    "start_time": "2022-06-23T06:31:56.028Z"
   },
   {
    "duration": 16,
    "start_time": "2022-06-23T06:31:56.044Z"
   },
   {
    "duration": 25,
    "start_time": "2022-06-23T06:31:56.063Z"
   },
   {
    "duration": 42,
    "start_time": "2022-06-23T06:31:56.091Z"
   },
   {
    "duration": 10,
    "start_time": "2022-06-23T06:31:56.139Z"
   },
   {
    "duration": 231,
    "start_time": "2022-06-23T06:31:56.151Z"
   },
   {
    "duration": 18,
    "start_time": "2022-06-23T06:31:56.384Z"
   },
   {
    "duration": 22,
    "start_time": "2022-06-23T06:31:56.404Z"
   },
   {
    "duration": 5,
    "start_time": "2022-06-23T06:31:56.428Z"
   },
   {
    "duration": 16,
    "start_time": "2022-06-23T06:31:56.434Z"
   },
   {
    "duration": 11,
    "start_time": "2022-06-23T06:31:56.452Z"
   },
   {
    "duration": 202,
    "start_time": "2022-06-23T06:31:56.465Z"
   },
   {
    "duration": 0,
    "start_time": "2022-06-23T06:31:56.670Z"
   },
   {
    "duration": 0,
    "start_time": "2022-06-23T06:31:56.672Z"
   },
   {
    "duration": 0,
    "start_time": "2022-06-23T06:31:56.673Z"
   },
   {
    "duration": 0,
    "start_time": "2022-06-23T06:31:56.675Z"
   },
   {
    "duration": 0,
    "start_time": "2022-06-23T06:31:56.677Z"
   },
   {
    "duration": 81,
    "start_time": "2022-06-23T06:41:57.841Z"
   },
   {
    "duration": 10,
    "start_time": "2022-06-23T06:50:18.595Z"
   },
   {
    "duration": 10,
    "start_time": "2022-06-23T06:50:19.285Z"
   },
   {
    "duration": 13,
    "start_time": "2022-06-23T06:50:19.888Z"
   },
   {
    "duration": 10,
    "start_time": "2022-06-23T06:50:20.459Z"
   },
   {
    "duration": 9,
    "start_time": "2022-06-23T06:50:21.261Z"
   },
   {
    "duration": 47,
    "start_time": "2022-06-24T11:11:58.824Z"
   },
   {
    "duration": 371,
    "start_time": "2022-06-24T11:12:02.222Z"
   },
   {
    "duration": 406,
    "start_time": "2022-06-24T11:12:02.595Z"
   },
   {
    "duration": 467,
    "start_time": "2022-06-24T11:12:03.003Z"
   },
   {
    "duration": 240,
    "start_time": "2022-06-24T11:12:03.471Z"
   },
   {
    "duration": 14,
    "start_time": "2022-06-24T11:12:03.713Z"
   },
   {
    "duration": 16,
    "start_time": "2022-06-24T11:12:03.729Z"
   },
   {
    "duration": 18,
    "start_time": "2022-06-24T11:12:03.747Z"
   },
   {
    "duration": 11,
    "start_time": "2022-06-24T11:12:03.767Z"
   },
   {
    "duration": 28,
    "start_time": "2022-06-24T11:12:03.779Z"
   },
   {
    "duration": 8,
    "start_time": "2022-06-24T11:12:03.809Z"
   },
   {
    "duration": 7,
    "start_time": "2022-06-24T11:12:03.819Z"
   },
   {
    "duration": 10,
    "start_time": "2022-06-24T11:12:03.827Z"
   },
   {
    "duration": 42,
    "start_time": "2022-06-24T11:12:03.839Z"
   },
   {
    "duration": 6,
    "start_time": "2022-06-24T11:12:03.884Z"
   },
   {
    "duration": 15,
    "start_time": "2022-06-24T11:12:03.892Z"
   },
   {
    "duration": 4,
    "start_time": "2022-06-24T11:12:03.908Z"
   },
   {
    "duration": 13,
    "start_time": "2022-06-24T11:12:03.914Z"
   },
   {
    "duration": 214,
    "start_time": "2022-06-24T11:12:03.929Z"
   },
   {
    "duration": 6,
    "start_time": "2022-06-24T11:12:04.145Z"
   },
   {
    "duration": 170,
    "start_time": "2022-06-24T11:12:04.167Z"
   },
   {
    "duration": 13,
    "start_time": "2022-06-24T11:12:04.339Z"
   },
   {
    "duration": 15,
    "start_time": "2022-06-24T11:12:04.354Z"
   },
   {
    "duration": 11,
    "start_time": "2022-06-24T11:12:04.371Z"
   },
   {
    "duration": 198,
    "start_time": "2022-06-24T11:12:04.384Z"
   },
   {
    "duration": 6,
    "start_time": "2022-06-24T11:12:04.584Z"
   },
   {
    "duration": 13,
    "start_time": "2022-06-24T11:12:04.591Z"
   },
   {
    "duration": 4,
    "start_time": "2022-06-24T11:12:04.606Z"
   },
   {
    "duration": 15,
    "start_time": "2022-06-24T11:12:04.612Z"
   },
   {
    "duration": 194,
    "start_time": "2022-06-24T11:12:04.629Z"
   },
   {
    "duration": 11,
    "start_time": "2022-06-24T11:12:04.825Z"
   },
   {
    "duration": 8,
    "start_time": "2022-06-24T11:12:04.838Z"
   },
   {
    "duration": 20,
    "start_time": "2022-06-24T11:12:04.848Z"
   },
   {
    "duration": 197,
    "start_time": "2022-06-24T11:12:04.870Z"
   },
   {
    "duration": 13,
    "start_time": "2022-06-24T11:12:05.069Z"
   },
   {
    "duration": 14,
    "start_time": "2022-06-24T11:12:05.084Z"
   },
   {
    "duration": 19,
    "start_time": "2022-06-24T11:12:05.100Z"
   },
   {
    "duration": 15,
    "start_time": "2022-06-24T11:12:05.121Z"
   },
   {
    "duration": 7,
    "start_time": "2022-06-24T11:12:05.137Z"
   },
   {
    "duration": 209,
    "start_time": "2022-06-24T11:12:05.166Z"
   },
   {
    "duration": 14,
    "start_time": "2022-06-24T11:12:05.376Z"
   },
   {
    "duration": 4,
    "start_time": "2022-06-24T11:12:05.394Z"
   },
   {
    "duration": 8,
    "start_time": "2022-06-24T11:12:05.399Z"
   },
   {
    "duration": 11,
    "start_time": "2022-06-24T11:12:05.409Z"
   },
   {
    "duration": 8,
    "start_time": "2022-06-24T11:12:05.421Z"
   },
   {
    "duration": 90,
    "start_time": "2022-06-24T11:12:05.430Z"
   },
   {
    "duration": 11,
    "start_time": "2022-06-24T11:12:05.522Z"
   },
   {
    "duration": 8,
    "start_time": "2022-06-24T11:12:05.535Z"
   },
   {
    "duration": 17,
    "start_time": "2022-06-24T11:12:05.544Z"
   },
   {
    "duration": 15,
    "start_time": "2022-06-24T11:12:05.562Z"
   },
   {
    "duration": 12,
    "start_time": "2022-06-24T11:12:05.579Z"
   },
   {
    "duration": 7,
    "start_time": "2022-06-24T11:12:51.173Z"
   },
   {
    "duration": 385,
    "start_time": "2022-06-24T11:13:15.027Z"
   },
   {
    "duration": 228,
    "start_time": "2022-06-24T11:13:15.414Z"
   },
   {
    "duration": 544,
    "start_time": "2022-06-24T11:13:15.644Z"
   },
   {
    "duration": 66,
    "start_time": "2022-06-24T11:13:16.190Z"
   },
   {
    "duration": 15,
    "start_time": "2022-06-24T11:13:16.257Z"
   },
   {
    "duration": 12,
    "start_time": "2022-06-24T11:13:16.274Z"
   },
   {
    "duration": 20,
    "start_time": "2022-06-24T11:13:16.287Z"
   },
   {
    "duration": 6,
    "start_time": "2022-06-24T11:13:16.308Z"
   },
   {
    "duration": 11,
    "start_time": "2022-06-24T11:13:16.316Z"
   },
   {
    "duration": 52,
    "start_time": "2022-06-24T11:13:16.331Z"
   },
   {
    "duration": 7,
    "start_time": "2022-06-24T11:13:16.384Z"
   },
   {
    "duration": 10,
    "start_time": "2022-06-24T11:13:16.392Z"
   },
   {
    "duration": 12,
    "start_time": "2022-06-24T11:13:16.404Z"
   },
   {
    "duration": 7,
    "start_time": "2022-06-24T11:13:16.418Z"
   },
   {
    "duration": 12,
    "start_time": "2022-06-24T11:13:16.427Z"
   },
   {
    "duration": 4,
    "start_time": "2022-06-24T11:13:16.467Z"
   },
   {
    "duration": 11,
    "start_time": "2022-06-24T11:13:16.473Z"
   },
   {
    "duration": 184,
    "start_time": "2022-06-24T11:13:16.485Z"
   },
   {
    "duration": 6,
    "start_time": "2022-06-24T11:13:16.671Z"
   },
   {
    "duration": 160,
    "start_time": "2022-06-24T11:13:16.679Z"
   },
   {
    "duration": 11,
    "start_time": "2022-06-24T11:13:16.840Z"
   },
   {
    "duration": 16,
    "start_time": "2022-06-24T11:13:16.853Z"
   },
   {
    "duration": 11,
    "start_time": "2022-06-24T11:13:16.871Z"
   },
   {
    "duration": 191,
    "start_time": "2022-06-24T11:13:16.884Z"
   },
   {
    "duration": 6,
    "start_time": "2022-06-24T11:13:17.076Z"
   },
   {
    "duration": 12,
    "start_time": "2022-06-24T11:13:17.084Z"
   },
   {
    "duration": 21,
    "start_time": "2022-06-24T11:13:17.098Z"
   },
   {
    "duration": 13,
    "start_time": "2022-06-24T11:13:17.123Z"
   },
   {
    "duration": 165,
    "start_time": "2022-06-24T11:13:17.137Z"
   },
   {
    "duration": 12,
    "start_time": "2022-06-24T11:13:17.303Z"
   },
   {
    "duration": 4,
    "start_time": "2022-06-24T11:13:17.317Z"
   },
   {
    "duration": 12,
    "start_time": "2022-06-24T11:13:17.322Z"
   },
   {
    "duration": 195,
    "start_time": "2022-06-24T11:13:17.336Z"
   },
   {
    "duration": 13,
    "start_time": "2022-06-24T11:13:17.532Z"
   },
   {
    "duration": 26,
    "start_time": "2022-06-24T11:13:17.547Z"
   },
   {
    "duration": 22,
    "start_time": "2022-06-24T11:13:17.575Z"
   },
   {
    "duration": 15,
    "start_time": "2022-06-24T11:13:17.599Z"
   },
   {
    "duration": 6,
    "start_time": "2022-06-24T11:13:17.616Z"
   },
   {
    "duration": 222,
    "start_time": "2022-06-24T11:13:17.624Z"
   },
   {
    "duration": 25,
    "start_time": "2022-06-24T11:13:17.848Z"
   },
   {
    "duration": 3,
    "start_time": "2022-06-24T11:13:17.875Z"
   },
   {
    "duration": 12,
    "start_time": "2022-06-24T11:13:17.880Z"
   },
   {
    "duration": 15,
    "start_time": "2022-06-24T11:13:17.894Z"
   },
   {
    "duration": 12,
    "start_time": "2022-06-24T11:13:17.911Z"
   },
   {
    "duration": 31,
    "start_time": "2022-06-24T11:13:17.925Z"
   },
   {
    "duration": 11,
    "start_time": "2022-06-24T11:13:17.958Z"
   },
   {
    "duration": 7,
    "start_time": "2022-06-24T11:13:17.971Z"
   },
   {
    "duration": 17,
    "start_time": "2022-06-24T11:13:17.979Z"
   },
   {
    "duration": 10,
    "start_time": "2022-06-24T11:13:17.998Z"
   },
   {
    "duration": 6,
    "start_time": "2022-06-24T11:13:18.010Z"
   },
   {
    "duration": 99,
    "start_time": "2022-06-24T11:27:25.283Z"
   },
   {
    "duration": 115,
    "start_time": "2022-06-24T11:27:59.893Z"
   },
   {
    "duration": 118,
    "start_time": "2022-06-24T11:28:51.072Z"
   },
   {
    "duration": 218,
    "start_time": "2022-06-24T11:29:02.656Z"
   },
   {
    "duration": 138,
    "start_time": "2022-06-24T11:29:09.778Z"
   },
   {
    "duration": 68,
    "start_time": "2022-06-24T16:07:21.335Z"
   },
   {
    "duration": 428,
    "start_time": "2022-06-24T16:07:28.799Z"
   },
   {
    "duration": 490,
    "start_time": "2022-06-24T16:07:29.229Z"
   },
   {
    "duration": 575,
    "start_time": "2022-06-24T16:07:29.721Z"
   },
   {
    "duration": 325,
    "start_time": "2022-06-24T16:07:30.299Z"
   },
   {
    "duration": 16,
    "start_time": "2022-06-24T16:07:30.626Z"
   },
   {
    "duration": 20,
    "start_time": "2022-06-24T16:07:30.643Z"
   },
   {
    "duration": 74,
    "start_time": "2022-06-24T16:07:30.665Z"
   },
   {
    "duration": 8,
    "start_time": "2022-06-24T16:07:30.741Z"
   },
   {
    "duration": 67,
    "start_time": "2022-06-24T16:07:30.751Z"
   },
   {
    "duration": 26,
    "start_time": "2022-06-24T16:07:30.822Z"
   },
   {
    "duration": 9,
    "start_time": "2022-06-24T16:07:30.850Z"
   },
   {
    "duration": 54,
    "start_time": "2022-06-24T16:07:30.860Z"
   },
   {
    "duration": 21,
    "start_time": "2022-06-24T16:07:30.916Z"
   },
   {
    "duration": 52,
    "start_time": "2022-06-24T16:07:30.939Z"
   },
   {
    "duration": 28,
    "start_time": "2022-06-24T16:07:30.992Z"
   },
   {
    "duration": 9,
    "start_time": "2022-06-24T16:07:31.022Z"
   },
   {
    "duration": 14,
    "start_time": "2022-06-24T16:07:31.032Z"
   },
   {
    "duration": 149,
    "start_time": "2022-06-24T16:07:31.047Z"
   },
   {
    "duration": 0,
    "start_time": "2022-06-24T16:07:31.200Z"
   },
   {
    "duration": 0,
    "start_time": "2022-06-24T16:07:31.201Z"
   },
   {
    "duration": 0,
    "start_time": "2022-06-24T16:07:31.202Z"
   },
   {
    "duration": 0,
    "start_time": "2022-06-24T16:07:31.203Z"
   },
   {
    "duration": 0,
    "start_time": "2022-06-24T16:07:31.204Z"
   },
   {
    "duration": 0,
    "start_time": "2022-06-24T16:07:31.205Z"
   },
   {
    "duration": 0,
    "start_time": "2022-06-24T16:07:31.206Z"
   },
   {
    "duration": 0,
    "start_time": "2022-06-24T16:07:31.207Z"
   },
   {
    "duration": 0,
    "start_time": "2022-06-24T16:07:31.208Z"
   },
   {
    "duration": 0,
    "start_time": "2022-06-24T16:07:31.211Z"
   },
   {
    "duration": 0,
    "start_time": "2022-06-24T16:07:31.213Z"
   },
   {
    "duration": 0,
    "start_time": "2022-06-24T16:07:31.214Z"
   },
   {
    "duration": 0,
    "start_time": "2022-06-24T16:07:31.215Z"
   },
   {
    "duration": 0,
    "start_time": "2022-06-24T16:07:31.216Z"
   },
   {
    "duration": 0,
    "start_time": "2022-06-24T16:07:31.218Z"
   },
   {
    "duration": 0,
    "start_time": "2022-06-24T16:07:31.219Z"
   },
   {
    "duration": 0,
    "start_time": "2022-06-24T16:07:31.220Z"
   },
   {
    "duration": 0,
    "start_time": "2022-06-24T16:07:31.222Z"
   },
   {
    "duration": 0,
    "start_time": "2022-06-24T16:07:31.223Z"
   },
   {
    "duration": 0,
    "start_time": "2022-06-24T16:07:31.225Z"
   },
   {
    "duration": 0,
    "start_time": "2022-06-24T16:07:31.226Z"
   },
   {
    "duration": 0,
    "start_time": "2022-06-24T16:07:31.227Z"
   },
   {
    "duration": 0,
    "start_time": "2022-06-24T16:07:31.228Z"
   },
   {
    "duration": 0,
    "start_time": "2022-06-24T16:07:31.230Z"
   },
   {
    "duration": 0,
    "start_time": "2022-06-24T16:07:31.231Z"
   },
   {
    "duration": 0,
    "start_time": "2022-06-24T16:07:31.232Z"
   },
   {
    "duration": 0,
    "start_time": "2022-06-24T16:07:31.233Z"
   },
   {
    "duration": 0,
    "start_time": "2022-06-24T16:07:31.235Z"
   },
   {
    "duration": 0,
    "start_time": "2022-06-24T16:07:31.236Z"
   },
   {
    "duration": 0,
    "start_time": "2022-06-24T16:07:31.238Z"
   },
   {
    "duration": 0,
    "start_time": "2022-06-24T16:07:31.258Z"
   },
   {
    "duration": 0,
    "start_time": "2022-06-24T16:07:31.260Z"
   },
   {
    "duration": 28,
    "start_time": "2022-06-24T16:16:43.697Z"
   },
   {
    "duration": 469,
    "start_time": "2022-06-24T16:17:11.247Z"
   },
   {
    "duration": 256,
    "start_time": "2022-06-24T16:17:11.717Z"
   },
   {
    "duration": 511,
    "start_time": "2022-06-24T16:17:11.974Z"
   },
   {
    "duration": 67,
    "start_time": "2022-06-24T16:17:12.489Z"
   },
   {
    "duration": 21,
    "start_time": "2022-06-24T16:17:12.560Z"
   },
   {
    "duration": 29,
    "start_time": "2022-06-24T16:17:12.592Z"
   },
   {
    "duration": 41,
    "start_time": "2022-06-24T16:17:12.623Z"
   },
   {
    "duration": 9,
    "start_time": "2022-06-24T16:17:12.670Z"
   },
   {
    "duration": 45,
    "start_time": "2022-06-24T16:17:12.681Z"
   },
   {
    "duration": 37,
    "start_time": "2022-06-24T16:17:12.730Z"
   },
   {
    "duration": 47,
    "start_time": "2022-06-24T16:17:12.768Z"
   },
   {
    "duration": 16,
    "start_time": "2022-06-24T16:17:12.817Z"
   },
   {
    "duration": 34,
    "start_time": "2022-06-24T16:17:12.835Z"
   },
   {
    "duration": 36,
    "start_time": "2022-06-24T16:17:12.878Z"
   },
   {
    "duration": 23,
    "start_time": "2022-06-24T16:17:12.916Z"
   },
   {
    "duration": 80,
    "start_time": "2022-06-24T16:17:12.941Z"
   },
   {
    "duration": 47,
    "start_time": "2022-06-24T16:17:13.023Z"
   },
   {
    "duration": 168,
    "start_time": "2022-06-24T16:17:13.072Z"
   },
   {
    "duration": 0,
    "start_time": "2022-06-24T16:17:13.243Z"
   },
   {
    "duration": 0,
    "start_time": "2022-06-24T16:17:13.244Z"
   },
   {
    "duration": 0,
    "start_time": "2022-06-24T16:17:13.245Z"
   },
   {
    "duration": 0,
    "start_time": "2022-06-24T16:17:13.246Z"
   },
   {
    "duration": 0,
    "start_time": "2022-06-24T16:17:13.269Z"
   },
   {
    "duration": 0,
    "start_time": "2022-06-24T16:17:13.270Z"
   },
   {
    "duration": 0,
    "start_time": "2022-06-24T16:17:13.271Z"
   },
   {
    "duration": 0,
    "start_time": "2022-06-24T16:17:13.272Z"
   },
   {
    "duration": 0,
    "start_time": "2022-06-24T16:17:13.276Z"
   },
   {
    "duration": 0,
    "start_time": "2022-06-24T16:17:13.277Z"
   },
   {
    "duration": 0,
    "start_time": "2022-06-24T16:17:13.277Z"
   },
   {
    "duration": 0,
    "start_time": "2022-06-24T16:17:13.278Z"
   },
   {
    "duration": 0,
    "start_time": "2022-06-24T16:17:13.279Z"
   },
   {
    "duration": 0,
    "start_time": "2022-06-24T16:17:13.284Z"
   },
   {
    "duration": 0,
    "start_time": "2022-06-24T16:17:13.284Z"
   },
   {
    "duration": 0,
    "start_time": "2022-06-24T16:17:13.285Z"
   },
   {
    "duration": 0,
    "start_time": "2022-06-24T16:17:13.285Z"
   },
   {
    "duration": 0,
    "start_time": "2022-06-24T16:17:13.286Z"
   },
   {
    "duration": 0,
    "start_time": "2022-06-24T16:17:13.286Z"
   },
   {
    "duration": 0,
    "start_time": "2022-06-24T16:17:13.287Z"
   },
   {
    "duration": 0,
    "start_time": "2022-06-24T16:17:13.288Z"
   },
   {
    "duration": 0,
    "start_time": "2022-06-24T16:17:13.288Z"
   },
   {
    "duration": 0,
    "start_time": "2022-06-24T16:17:13.289Z"
   },
   {
    "duration": 0,
    "start_time": "2022-06-24T16:17:13.289Z"
   },
   {
    "duration": 0,
    "start_time": "2022-06-24T16:17:13.290Z"
   },
   {
    "duration": 0,
    "start_time": "2022-06-24T16:17:13.291Z"
   },
   {
    "duration": 0,
    "start_time": "2022-06-24T16:17:13.292Z"
   },
   {
    "duration": 0,
    "start_time": "2022-06-24T16:17:13.292Z"
   },
   {
    "duration": 0,
    "start_time": "2022-06-24T16:17:13.293Z"
   },
   {
    "duration": 0,
    "start_time": "2022-06-24T16:17:13.295Z"
   },
   {
    "duration": 0,
    "start_time": "2022-06-24T16:17:13.296Z"
   },
   {
    "duration": 0,
    "start_time": "2022-06-24T16:17:13.302Z"
   },
   {
    "duration": 224,
    "start_time": "2022-06-24T16:18:04.685Z"
   },
   {
    "duration": 181,
    "start_time": "2022-06-24T16:18:16.095Z"
   },
   {
    "duration": 407,
    "start_time": "2022-06-24T16:18:38.595Z"
   },
   {
    "duration": 222,
    "start_time": "2022-06-24T16:18:39.004Z"
   },
   {
    "duration": 499,
    "start_time": "2022-06-24T16:18:39.227Z"
   },
   {
    "duration": 81,
    "start_time": "2022-06-24T16:18:39.728Z"
   },
   {
    "duration": 14,
    "start_time": "2022-06-24T16:18:39.811Z"
   },
   {
    "duration": 10,
    "start_time": "2022-06-24T16:18:39.827Z"
   },
   {
    "duration": 35,
    "start_time": "2022-06-24T16:18:39.839Z"
   },
   {
    "duration": 11,
    "start_time": "2022-06-24T16:18:39.875Z"
   },
   {
    "duration": 24,
    "start_time": "2022-06-24T16:18:39.888Z"
   },
   {
    "duration": 19,
    "start_time": "2022-06-24T16:18:39.915Z"
   },
   {
    "duration": 7,
    "start_time": "2022-06-24T16:18:39.936Z"
   },
   {
    "duration": 19,
    "start_time": "2022-06-24T16:18:39.945Z"
   },
   {
    "duration": 48,
    "start_time": "2022-06-24T16:18:39.965Z"
   },
   {
    "duration": 8,
    "start_time": "2022-06-24T16:18:40.016Z"
   },
   {
    "duration": 16,
    "start_time": "2022-06-24T16:18:40.025Z"
   },
   {
    "duration": 5,
    "start_time": "2022-06-24T16:18:40.042Z"
   },
   {
    "duration": 20,
    "start_time": "2022-06-24T16:18:40.048Z"
   },
   {
    "duration": 225,
    "start_time": "2022-06-24T16:18:40.075Z"
   },
   {
    "duration": 7,
    "start_time": "2022-06-24T16:18:40.301Z"
   },
   {
    "duration": 147,
    "start_time": "2022-06-24T16:18:40.309Z"
   },
   {
    "duration": 17,
    "start_time": "2022-06-24T16:18:40.460Z"
   },
   {
    "duration": 23,
    "start_time": "2022-06-24T16:18:40.482Z"
   },
   {
    "duration": 10,
    "start_time": "2022-06-24T16:18:40.506Z"
   },
   {
    "duration": 188,
    "start_time": "2022-06-24T16:18:40.517Z"
   },
   {
    "duration": 6,
    "start_time": "2022-06-24T16:18:40.706Z"
   },
   {
    "duration": 26,
    "start_time": "2022-06-24T16:18:40.713Z"
   },
   {
    "duration": 3,
    "start_time": "2022-06-24T16:18:40.741Z"
   },
   {
    "duration": 62,
    "start_time": "2022-06-24T16:18:40.747Z"
   },
   {
    "duration": 159,
    "start_time": "2022-06-24T16:18:40.811Z"
   },
   {
    "duration": 16,
    "start_time": "2022-06-24T16:18:40.972Z"
   },
   {
    "duration": 13,
    "start_time": "2022-06-24T16:18:40.995Z"
   },
   {
    "duration": 15,
    "start_time": "2022-06-24T16:18:41.010Z"
   },
   {
    "duration": 199,
    "start_time": "2022-06-24T16:18:41.026Z"
   },
   {
    "duration": 11,
    "start_time": "2022-06-24T16:18:41.227Z"
   },
   {
    "duration": 19,
    "start_time": "2022-06-24T16:18:41.239Z"
   },
   {
    "duration": 61,
    "start_time": "2022-06-24T16:18:41.259Z"
   },
   {
    "duration": 17,
    "start_time": "2022-06-24T16:18:41.322Z"
   },
   {
    "duration": 33,
    "start_time": "2022-06-24T16:18:41.341Z"
   },
   {
    "duration": 227,
    "start_time": "2022-06-24T16:18:41.375Z"
   },
   {
    "duration": 12,
    "start_time": "2022-06-24T16:18:41.604Z"
   },
   {
    "duration": 15,
    "start_time": "2022-06-24T16:18:41.617Z"
   },
   {
    "duration": 12,
    "start_time": "2022-06-24T16:18:41.633Z"
   },
   {
    "duration": 57,
    "start_time": "2022-06-24T16:18:41.647Z"
   },
   {
    "duration": 16,
    "start_time": "2022-06-24T16:18:41.706Z"
   },
   {
    "duration": 183,
    "start_time": "2022-06-24T16:18:41.724Z"
   },
   {
    "duration": 11,
    "start_time": "2022-06-24T16:18:41.908Z"
   },
   {
    "duration": 8,
    "start_time": "2022-06-24T16:18:41.921Z"
   },
   {
    "duration": 13,
    "start_time": "2022-06-24T16:18:41.930Z"
   },
   {
    "duration": 9,
    "start_time": "2022-06-24T16:18:41.945Z"
   },
   {
    "duration": 10,
    "start_time": "2022-06-24T16:18:41.955Z"
   },
   {
    "duration": 239,
    "start_time": "2022-06-24T16:19:01.257Z"
   },
   {
    "duration": 122,
    "start_time": "2022-06-24T16:25:05.212Z"
   },
   {
    "duration": 287,
    "start_time": "2022-06-24T16:27:12.043Z"
   },
   {
    "duration": 9,
    "start_time": "2022-06-24T16:28:02.095Z"
   },
   {
    "duration": 135,
    "start_time": "2022-06-24T16:32:32.432Z"
   },
   {
    "duration": 182,
    "start_time": "2022-06-24T16:34:28.840Z"
   },
   {
    "duration": 225,
    "start_time": "2022-06-24T16:36:01.583Z"
   },
   {
    "duration": 214,
    "start_time": "2022-06-24T16:37:06.043Z"
   },
   {
    "duration": 194,
    "start_time": "2022-06-24T16:38:35.946Z"
   },
   {
    "duration": 219,
    "start_time": "2022-06-24T16:39:12.884Z"
   },
   {
    "duration": 77,
    "start_time": "2022-06-24T16:40:36.767Z"
   },
   {
    "duration": 46,
    "start_time": "2022-06-24T16:40:53.786Z"
   },
   {
    "duration": 297,
    "start_time": "2022-06-24T16:40:58.998Z"
   },
   {
    "duration": 184,
    "start_time": "2022-06-24T16:41:44.387Z"
   },
   {
    "duration": 191,
    "start_time": "2022-06-24T16:53:45.625Z"
   },
   {
    "duration": 204,
    "start_time": "2022-06-24T16:53:55.340Z"
   },
   {
    "duration": 302,
    "start_time": "2022-06-24T16:54:00.215Z"
   },
   {
    "duration": 23,
    "start_time": "2022-06-24T16:59:18.478Z"
   },
   {
    "duration": 10,
    "start_time": "2022-06-24T17:04:47.036Z"
   },
   {
    "duration": 232,
    "start_time": "2022-06-24T17:04:58.789Z"
   },
   {
    "duration": 204,
    "start_time": "2022-06-24T17:18:35.691Z"
   },
   {
    "duration": 231,
    "start_time": "2022-06-24T17:18:47.109Z"
   },
   {
    "duration": 210,
    "start_time": "2022-06-24T17:18:55.883Z"
   },
   {
    "duration": 207,
    "start_time": "2022-06-24T17:19:03.587Z"
   },
   {
    "duration": 214,
    "start_time": "2022-06-24T17:19:09.481Z"
   },
   {
    "duration": 199,
    "start_time": "2022-06-24T17:19:17.681Z"
   },
   {
    "duration": 206,
    "start_time": "2022-06-24T17:19:57.477Z"
   },
   {
    "duration": 208,
    "start_time": "2022-06-24T17:20:05.187Z"
   },
   {
    "duration": 162,
    "start_time": "2022-06-24T17:59:08.529Z"
   },
   {
    "duration": 140,
    "start_time": "2022-06-24T17:59:33.289Z"
   },
   {
    "duration": 14,
    "start_time": "2022-06-24T18:03:23.394Z"
   },
   {
    "duration": 384,
    "start_time": "2022-06-24T18:05:25.996Z"
   },
   {
    "duration": 240,
    "start_time": "2022-06-24T18:05:26.385Z"
   },
   {
    "duration": 571,
    "start_time": "2022-06-24T18:05:26.627Z"
   },
   {
    "duration": 79,
    "start_time": "2022-06-24T18:05:27.200Z"
   },
   {
    "duration": 22,
    "start_time": "2022-06-24T18:05:27.283Z"
   },
   {
    "duration": 26,
    "start_time": "2022-06-24T18:05:27.307Z"
   },
   {
    "duration": 33,
    "start_time": "2022-06-24T18:05:27.335Z"
   },
   {
    "duration": 14,
    "start_time": "2022-06-24T18:05:27.372Z"
   },
   {
    "duration": 17,
    "start_time": "2022-06-24T18:05:27.392Z"
   },
   {
    "duration": 41,
    "start_time": "2022-06-24T18:05:27.411Z"
   },
   {
    "duration": 13,
    "start_time": "2022-06-24T18:05:27.453Z"
   },
   {
    "duration": 50,
    "start_time": "2022-06-24T18:05:27.469Z"
   },
   {
    "duration": 22,
    "start_time": "2022-06-24T18:05:27.521Z"
   },
   {
    "duration": 19,
    "start_time": "2022-06-24T18:05:27.547Z"
   },
   {
    "duration": 48,
    "start_time": "2022-06-24T18:05:27.568Z"
   },
   {
    "duration": 32,
    "start_time": "2022-06-24T18:05:27.618Z"
   },
   {
    "duration": 45,
    "start_time": "2022-06-24T18:05:27.652Z"
   },
   {
    "duration": 245,
    "start_time": "2022-06-24T18:05:27.699Z"
   },
   {
    "duration": 6,
    "start_time": "2022-06-24T18:05:27.946Z"
   },
   {
    "duration": 185,
    "start_time": "2022-06-24T18:05:27.953Z"
   },
   {
    "duration": 12,
    "start_time": "2022-06-24T18:05:28.139Z"
   },
   {
    "duration": 6,
    "start_time": "2022-06-24T18:05:28.165Z"
   },
   {
    "duration": 27,
    "start_time": "2022-06-24T18:05:28.179Z"
   },
   {
    "duration": 186,
    "start_time": "2022-06-24T18:05:28.207Z"
   },
   {
    "duration": 6,
    "start_time": "2022-06-24T18:05:28.394Z"
   },
   {
    "duration": 37,
    "start_time": "2022-06-24T18:05:28.401Z"
   },
   {
    "duration": 4,
    "start_time": "2022-06-24T18:05:28.439Z"
   },
   {
    "duration": 52,
    "start_time": "2022-06-24T18:05:28.444Z"
   },
   {
    "duration": 23,
    "start_time": "2022-06-24T18:05:28.497Z"
   },
   {
    "duration": 167,
    "start_time": "2022-06-24T18:05:28.522Z"
   },
   {
    "duration": 12,
    "start_time": "2022-06-24T18:05:28.691Z"
   },
   {
    "duration": 8,
    "start_time": "2022-06-24T18:05:28.704Z"
   },
   {
    "duration": 37,
    "start_time": "2022-06-24T18:05:28.713Z"
   },
   {
    "duration": 210,
    "start_time": "2022-06-24T18:05:28.751Z"
   },
   {
    "duration": 20,
    "start_time": "2022-06-24T18:05:28.962Z"
   },
   {
    "duration": 35,
    "start_time": "2022-06-24T18:05:28.984Z"
   },
   {
    "duration": 21,
    "start_time": "2022-06-24T18:05:29.021Z"
   },
   {
    "duration": 56,
    "start_time": "2022-06-24T18:05:29.044Z"
   },
   {
    "duration": 9,
    "start_time": "2022-06-24T18:05:29.101Z"
   },
   {
    "duration": 213,
    "start_time": "2022-06-24T18:05:29.112Z"
   },
   {
    "duration": 12,
    "start_time": "2022-06-24T18:05:29.329Z"
   },
   {
    "duration": 20,
    "start_time": "2022-06-24T18:05:29.342Z"
   },
   {
    "duration": 38,
    "start_time": "2022-06-24T18:05:29.363Z"
   },
   {
    "duration": 27,
    "start_time": "2022-06-24T18:05:29.403Z"
   },
   {
    "duration": 19,
    "start_time": "2022-06-24T18:05:29.432Z"
   },
   {
    "duration": 148,
    "start_time": "2022-06-24T18:05:29.453Z"
   },
   {
    "duration": 10,
    "start_time": "2022-06-24T18:05:29.603Z"
   },
   {
    "duration": 16,
    "start_time": "2022-06-24T18:05:29.615Z"
   },
   {
    "duration": 32,
    "start_time": "2022-06-24T18:05:29.632Z"
   },
   {
    "duration": 43,
    "start_time": "2022-06-24T18:05:29.672Z"
   },
   {
    "duration": 22,
    "start_time": "2022-06-24T18:05:29.716Z"
   },
   {
    "duration": 391,
    "start_time": "2022-06-24T18:16:00.096Z"
   },
   {
    "duration": 300,
    "start_time": "2022-06-24T18:16:00.489Z"
   },
   {
    "duration": 473,
    "start_time": "2022-06-24T18:16:00.791Z"
   },
   {
    "duration": 73,
    "start_time": "2022-06-24T18:16:01.277Z"
   },
   {
    "duration": 17,
    "start_time": "2022-06-24T18:16:01.351Z"
   },
   {
    "duration": 30,
    "start_time": "2022-06-24T18:16:01.371Z"
   },
   {
    "duration": 27,
    "start_time": "2022-06-24T18:16:01.402Z"
   },
   {
    "duration": 6,
    "start_time": "2022-06-24T18:16:01.432Z"
   },
   {
    "duration": 14,
    "start_time": "2022-06-24T18:16:01.440Z"
   },
   {
    "duration": 47,
    "start_time": "2022-06-24T18:16:01.457Z"
   },
   {
    "duration": 7,
    "start_time": "2022-06-24T18:16:01.505Z"
   },
   {
    "duration": 14,
    "start_time": "2022-06-24T18:16:01.514Z"
   },
   {
    "duration": 17,
    "start_time": "2022-06-24T18:16:01.529Z"
   },
   {
    "duration": 28,
    "start_time": "2022-06-24T18:16:01.548Z"
   },
   {
    "duration": 31,
    "start_time": "2022-06-24T18:16:01.578Z"
   },
   {
    "duration": 3,
    "start_time": "2022-06-24T18:16:01.611Z"
   },
   {
    "duration": 11,
    "start_time": "2022-06-24T18:16:01.616Z"
   },
   {
    "duration": 211,
    "start_time": "2022-06-24T18:16:01.629Z"
   },
   {
    "duration": 6,
    "start_time": "2022-06-24T18:16:01.842Z"
   },
   {
    "duration": 171,
    "start_time": "2022-06-24T18:16:01.850Z"
   },
   {
    "duration": 9,
    "start_time": "2022-06-24T18:16:02.023Z"
   },
   {
    "duration": 29,
    "start_time": "2022-06-24T18:16:02.034Z"
   },
   {
    "duration": 34,
    "start_time": "2022-06-24T18:16:02.064Z"
   },
   {
    "duration": 106,
    "start_time": "2022-06-24T18:16:02.099Z"
   },
   {
    "duration": 0,
    "start_time": "2022-06-24T18:16:02.207Z"
   },
   {
    "duration": 0,
    "start_time": "2022-06-24T18:16:02.209Z"
   },
   {
    "duration": 0,
    "start_time": "2022-06-24T18:16:02.210Z"
   },
   {
    "duration": 0,
    "start_time": "2022-06-24T18:16:02.211Z"
   },
   {
    "duration": 0,
    "start_time": "2022-06-24T18:16:02.212Z"
   },
   {
    "duration": 0,
    "start_time": "2022-06-24T18:16:02.212Z"
   },
   {
    "duration": 0,
    "start_time": "2022-06-24T18:16:02.213Z"
   },
   {
    "duration": 0,
    "start_time": "2022-06-24T18:16:02.215Z"
   },
   {
    "duration": 1,
    "start_time": "2022-06-24T18:16:02.215Z"
   },
   {
    "duration": 0,
    "start_time": "2022-06-24T18:16:02.216Z"
   },
   {
    "duration": 0,
    "start_time": "2022-06-24T18:16:02.217Z"
   },
   {
    "duration": 0,
    "start_time": "2022-06-24T18:16:02.218Z"
   },
   {
    "duration": 0,
    "start_time": "2022-06-24T18:16:02.219Z"
   },
   {
    "duration": 0,
    "start_time": "2022-06-24T18:16:02.220Z"
   },
   {
    "duration": 0,
    "start_time": "2022-06-24T18:16:02.221Z"
   },
   {
    "duration": 0,
    "start_time": "2022-06-24T18:16:02.222Z"
   },
   {
    "duration": 0,
    "start_time": "2022-06-24T18:16:02.223Z"
   },
   {
    "duration": 0,
    "start_time": "2022-06-24T18:16:02.224Z"
   },
   {
    "duration": 0,
    "start_time": "2022-06-24T18:16:02.225Z"
   },
   {
    "duration": 0,
    "start_time": "2022-06-24T18:16:02.226Z"
   },
   {
    "duration": 0,
    "start_time": "2022-06-24T18:16:02.263Z"
   },
   {
    "duration": 0,
    "start_time": "2022-06-24T18:16:02.272Z"
   },
   {
    "duration": 0,
    "start_time": "2022-06-24T18:16:02.272Z"
   },
   {
    "duration": 0,
    "start_time": "2022-06-24T18:16:02.273Z"
   },
   {
    "duration": 0,
    "start_time": "2022-06-24T18:16:02.274Z"
   },
   {
    "duration": 0,
    "start_time": "2022-06-24T18:16:02.274Z"
   },
   {
    "duration": 0,
    "start_time": "2022-06-24T18:16:02.275Z"
   },
   {
    "duration": 0,
    "start_time": "2022-06-24T18:16:02.275Z"
   },
   {
    "duration": 0,
    "start_time": "2022-06-24T18:16:02.276Z"
   },
   {
    "duration": 406,
    "start_time": "2022-06-24T18:16:24.950Z"
   },
   {
    "duration": 274,
    "start_time": "2022-06-24T18:16:25.358Z"
   },
   {
    "duration": 540,
    "start_time": "2022-06-24T18:16:25.634Z"
   },
   {
    "duration": 76,
    "start_time": "2022-06-24T18:16:26.176Z"
   },
   {
    "duration": 27,
    "start_time": "2022-06-24T18:16:26.255Z"
   },
   {
    "duration": 29,
    "start_time": "2022-06-24T18:16:26.288Z"
   },
   {
    "duration": 17,
    "start_time": "2022-06-24T18:16:26.318Z"
   },
   {
    "duration": 6,
    "start_time": "2022-06-24T18:16:26.336Z"
   },
   {
    "duration": 12,
    "start_time": "2022-06-24T18:16:26.343Z"
   },
   {
    "duration": 62,
    "start_time": "2022-06-24T18:16:26.356Z"
   },
   {
    "duration": 7,
    "start_time": "2022-06-24T18:16:26.420Z"
   },
   {
    "duration": 16,
    "start_time": "2022-06-24T18:16:26.429Z"
   },
   {
    "duration": 18,
    "start_time": "2022-06-24T18:16:26.446Z"
   },
   {
    "duration": 46,
    "start_time": "2022-06-24T18:16:26.467Z"
   },
   {
    "duration": 18,
    "start_time": "2022-06-24T18:16:26.514Z"
   },
   {
    "duration": 4,
    "start_time": "2022-06-24T18:16:26.534Z"
   },
   {
    "duration": 10,
    "start_time": "2022-06-24T18:16:26.539Z"
   },
   {
    "duration": 254,
    "start_time": "2022-06-24T18:16:26.551Z"
   },
   {
    "duration": 7,
    "start_time": "2022-06-24T18:16:26.807Z"
   },
   {
    "duration": 190,
    "start_time": "2022-06-24T18:16:26.815Z"
   },
   {
    "duration": 10,
    "start_time": "2022-06-24T18:16:27.008Z"
   },
   {
    "duration": 5,
    "start_time": "2022-06-24T18:16:27.020Z"
   },
   {
    "duration": 12,
    "start_time": "2022-06-24T18:16:27.027Z"
   },
   {
    "duration": 120,
    "start_time": "2022-06-24T18:16:27.041Z"
   },
   {
    "duration": 0,
    "start_time": "2022-06-24T18:16:27.166Z"
   },
   {
    "duration": 0,
    "start_time": "2022-06-24T18:16:27.167Z"
   },
   {
    "duration": 0,
    "start_time": "2022-06-24T18:16:27.167Z"
   },
   {
    "duration": 0,
    "start_time": "2022-06-24T18:16:27.168Z"
   },
   {
    "duration": 0,
    "start_time": "2022-06-24T18:16:27.168Z"
   },
   {
    "duration": 0,
    "start_time": "2022-06-24T18:16:27.169Z"
   },
   {
    "duration": 0,
    "start_time": "2022-06-24T18:16:27.169Z"
   },
   {
    "duration": 0,
    "start_time": "2022-06-24T18:16:27.170Z"
   },
   {
    "duration": 0,
    "start_time": "2022-06-24T18:16:27.171Z"
   },
   {
    "duration": 0,
    "start_time": "2022-06-24T18:16:27.171Z"
   },
   {
    "duration": 0,
    "start_time": "2022-06-24T18:16:27.172Z"
   },
   {
    "duration": 0,
    "start_time": "2022-06-24T18:16:27.172Z"
   },
   {
    "duration": 0,
    "start_time": "2022-06-24T18:16:27.173Z"
   },
   {
    "duration": 0,
    "start_time": "2022-06-24T18:16:27.173Z"
   },
   {
    "duration": 0,
    "start_time": "2022-06-24T18:16:27.174Z"
   },
   {
    "duration": 0,
    "start_time": "2022-06-24T18:16:27.175Z"
   },
   {
    "duration": 0,
    "start_time": "2022-06-24T18:16:27.175Z"
   },
   {
    "duration": 0,
    "start_time": "2022-06-24T18:16:27.176Z"
   },
   {
    "duration": 0,
    "start_time": "2022-06-24T18:16:27.176Z"
   },
   {
    "duration": 0,
    "start_time": "2022-06-24T18:16:27.177Z"
   },
   {
    "duration": 0,
    "start_time": "2022-06-24T18:16:27.177Z"
   },
   {
    "duration": 0,
    "start_time": "2022-06-24T18:16:27.186Z"
   },
   {
    "duration": 0,
    "start_time": "2022-06-24T18:16:27.187Z"
   },
   {
    "duration": 0,
    "start_time": "2022-06-24T18:16:27.188Z"
   },
   {
    "duration": 0,
    "start_time": "2022-06-24T18:16:27.189Z"
   },
   {
    "duration": 0,
    "start_time": "2022-06-24T18:16:27.190Z"
   },
   {
    "duration": 0,
    "start_time": "2022-06-24T18:16:27.193Z"
   },
   {
    "duration": 0,
    "start_time": "2022-06-24T18:16:27.193Z"
   },
   {
    "duration": 0,
    "start_time": "2022-06-24T18:16:27.194Z"
   },
   {
    "duration": 378,
    "start_time": "2022-06-24T18:16:54.809Z"
   },
   {
    "duration": 321,
    "start_time": "2022-06-24T18:16:55.189Z"
   },
   {
    "duration": 476,
    "start_time": "2022-06-24T18:16:55.512Z"
   },
   {
    "duration": 79,
    "start_time": "2022-06-24T18:16:55.990Z"
   },
   {
    "duration": 23,
    "start_time": "2022-06-24T18:16:56.071Z"
   },
   {
    "duration": 19,
    "start_time": "2022-06-24T18:16:56.096Z"
   },
   {
    "duration": 16,
    "start_time": "2022-06-24T18:16:56.117Z"
   },
   {
    "duration": 6,
    "start_time": "2022-06-24T18:16:56.135Z"
   },
   {
    "duration": 28,
    "start_time": "2022-06-24T18:16:56.142Z"
   },
   {
    "duration": 49,
    "start_time": "2022-06-24T18:16:56.172Z"
   },
   {
    "duration": 9,
    "start_time": "2022-06-24T18:16:56.223Z"
   },
   {
    "duration": 9,
    "start_time": "2022-06-24T18:16:56.234Z"
   },
   {
    "duration": 23,
    "start_time": "2022-06-24T18:16:56.244Z"
   },
   {
    "duration": 35,
    "start_time": "2022-06-24T18:16:56.270Z"
   },
   {
    "duration": 12,
    "start_time": "2022-06-24T18:16:56.307Z"
   },
   {
    "duration": 8,
    "start_time": "2022-06-24T18:16:56.320Z"
   },
   {
    "duration": 8,
    "start_time": "2022-06-24T18:16:56.330Z"
   },
   {
    "duration": 216,
    "start_time": "2022-06-24T18:16:56.339Z"
   },
   {
    "duration": 19,
    "start_time": "2022-06-24T18:16:56.557Z"
   },
   {
    "duration": 189,
    "start_time": "2022-06-24T18:16:56.578Z"
   },
   {
    "duration": 14,
    "start_time": "2022-06-24T18:16:56.769Z"
   },
   {
    "duration": 31,
    "start_time": "2022-06-24T18:16:56.785Z"
   },
   {
    "duration": 15,
    "start_time": "2022-06-24T18:16:56.817Z"
   },
   {
    "duration": 3,
    "start_time": "2022-06-24T18:16:56.833Z"
   },
   {
    "duration": 9,
    "start_time": "2022-06-24T18:16:56.838Z"
   },
   {
    "duration": 182,
    "start_time": "2022-06-24T18:16:56.848Z"
   },
   {
    "duration": 5,
    "start_time": "2022-06-24T18:16:57.032Z"
   },
   {
    "duration": 22,
    "start_time": "2022-06-24T18:16:57.038Z"
   },
   {
    "duration": 8,
    "start_time": "2022-06-24T18:16:57.067Z"
   },
   {
    "duration": 26,
    "start_time": "2022-06-24T18:16:57.079Z"
   },
   {
    "duration": 15,
    "start_time": "2022-06-24T18:16:57.107Z"
   },
   {
    "duration": 166,
    "start_time": "2022-06-24T18:16:57.124Z"
   },
   {
    "duration": 16,
    "start_time": "2022-06-24T18:16:57.293Z"
   },
   {
    "duration": 7,
    "start_time": "2022-06-24T18:16:57.312Z"
   },
   {
    "duration": 11,
    "start_time": "2022-06-24T18:16:57.321Z"
   },
   {
    "duration": 207,
    "start_time": "2022-06-24T18:16:57.334Z"
   },
   {
    "duration": 30,
    "start_time": "2022-06-24T18:16:57.542Z"
   },
   {
    "duration": 33,
    "start_time": "2022-06-24T18:16:57.582Z"
   },
   {
    "duration": 23,
    "start_time": "2022-06-24T18:16:57.618Z"
   },
   {
    "duration": 24,
    "start_time": "2022-06-24T18:16:57.643Z"
   },
   {
    "duration": 41,
    "start_time": "2022-06-24T18:16:57.672Z"
   },
   {
    "duration": 223,
    "start_time": "2022-06-24T18:16:57.714Z"
   },
   {
    "duration": 33,
    "start_time": "2022-06-24T18:16:57.939Z"
   },
   {
    "duration": 7,
    "start_time": "2022-06-24T18:16:57.980Z"
   },
   {
    "duration": 23,
    "start_time": "2022-06-24T18:16:57.990Z"
   },
   {
    "duration": 12,
    "start_time": "2022-06-24T18:16:58.014Z"
   },
   {
    "duration": 7,
    "start_time": "2022-06-24T18:16:58.028Z"
   },
   {
    "duration": 71,
    "start_time": "2022-06-24T18:16:58.036Z"
   },
   {
    "duration": 10,
    "start_time": "2022-06-24T18:16:58.109Z"
   },
   {
    "duration": 3,
    "start_time": "2022-06-24T18:16:58.121Z"
   },
   {
    "duration": 13,
    "start_time": "2022-06-24T18:16:58.125Z"
   },
   {
    "duration": 9,
    "start_time": "2022-06-24T18:16:58.140Z"
   },
   {
    "duration": 5,
    "start_time": "2022-06-24T18:16:58.151Z"
   },
   {
    "duration": 437,
    "start_time": "2022-06-24T18:17:31.481Z"
   },
   {
    "duration": 271,
    "start_time": "2022-06-24T18:17:31.921Z"
   },
   {
    "duration": 484,
    "start_time": "2022-06-24T18:17:32.204Z"
   },
   {
    "duration": 77,
    "start_time": "2022-06-24T18:17:32.695Z"
   },
   {
    "duration": 18,
    "start_time": "2022-06-24T18:17:32.774Z"
   },
   {
    "duration": 24,
    "start_time": "2022-06-24T18:17:32.794Z"
   },
   {
    "duration": 22,
    "start_time": "2022-06-24T18:17:32.820Z"
   },
   {
    "duration": 7,
    "start_time": "2022-06-24T18:17:32.843Z"
   },
   {
    "duration": 42,
    "start_time": "2022-06-24T18:17:32.851Z"
   },
   {
    "duration": 22,
    "start_time": "2022-06-24T18:17:32.898Z"
   },
   {
    "duration": 9,
    "start_time": "2022-06-24T18:17:32.921Z"
   },
   {
    "duration": 16,
    "start_time": "2022-06-24T18:17:32.932Z"
   },
   {
    "duration": 16,
    "start_time": "2022-06-24T18:17:32.951Z"
   },
   {
    "duration": 45,
    "start_time": "2022-06-24T18:17:32.972Z"
   },
   {
    "duration": 26,
    "start_time": "2022-06-24T18:17:33.020Z"
   },
   {
    "duration": 8,
    "start_time": "2022-06-24T18:17:33.048Z"
   },
   {
    "duration": 48,
    "start_time": "2022-06-24T18:17:33.057Z"
   },
   {
    "duration": 231,
    "start_time": "2022-06-24T18:17:33.107Z"
   },
   {
    "duration": 6,
    "start_time": "2022-06-24T18:17:33.340Z"
   },
   {
    "duration": 189,
    "start_time": "2022-06-24T18:17:33.363Z"
   },
   {
    "duration": 15,
    "start_time": "2022-06-24T18:17:33.554Z"
   },
   {
    "duration": 33,
    "start_time": "2022-06-24T18:17:33.571Z"
   },
   {
    "duration": 10,
    "start_time": "2022-06-24T18:17:33.606Z"
   },
   {
    "duration": 14,
    "start_time": "2022-06-24T18:17:33.618Z"
   },
   {
    "duration": 4,
    "start_time": "2022-06-24T18:17:33.634Z"
   },
   {
    "duration": 9,
    "start_time": "2022-06-24T18:17:33.639Z"
   },
   {
    "duration": 201,
    "start_time": "2022-06-24T18:17:33.649Z"
   },
   {
    "duration": 12,
    "start_time": "2022-06-24T18:17:33.852Z"
   },
   {
    "duration": 32,
    "start_time": "2022-06-24T18:17:33.868Z"
   },
   {
    "duration": 6,
    "start_time": "2022-06-24T18:17:33.901Z"
   },
   {
    "duration": 14,
    "start_time": "2022-06-24T18:17:33.908Z"
   },
   {
    "duration": 17,
    "start_time": "2022-06-24T18:17:33.923Z"
   },
   {
    "duration": 152,
    "start_time": "2022-06-24T18:17:33.942Z"
   },
   {
    "duration": 11,
    "start_time": "2022-06-24T18:17:34.096Z"
   },
   {
    "duration": 3,
    "start_time": "2022-06-24T18:17:34.109Z"
   },
   {
    "duration": 17,
    "start_time": "2022-06-24T18:17:34.114Z"
   },
   {
    "duration": 200,
    "start_time": "2022-06-24T18:17:34.132Z"
   },
   {
    "duration": 12,
    "start_time": "2022-06-24T18:17:34.334Z"
   },
   {
    "duration": 21,
    "start_time": "2022-06-24T18:17:34.358Z"
   },
   {
    "duration": 33,
    "start_time": "2022-06-24T18:17:34.384Z"
   },
   {
    "duration": 15,
    "start_time": "2022-06-24T18:17:34.419Z"
   },
   {
    "duration": 7,
    "start_time": "2022-06-24T18:17:34.435Z"
   },
   {
    "duration": 198,
    "start_time": "2022-06-24T18:17:34.443Z"
   },
   {
    "duration": 19,
    "start_time": "2022-06-24T18:17:34.643Z"
   },
   {
    "duration": 4,
    "start_time": "2022-06-24T18:17:34.663Z"
   },
   {
    "duration": 31,
    "start_time": "2022-06-24T18:17:34.674Z"
   },
   {
    "duration": 11,
    "start_time": "2022-06-24T18:17:34.706Z"
   },
   {
    "duration": 8,
    "start_time": "2022-06-24T18:17:34.718Z"
   },
   {
    "duration": 53,
    "start_time": "2022-06-24T18:17:34.727Z"
   },
   {
    "duration": 16,
    "start_time": "2022-06-24T18:17:34.785Z"
   },
   {
    "duration": 7,
    "start_time": "2022-06-24T18:17:34.802Z"
   },
   {
    "duration": 15,
    "start_time": "2022-06-24T18:17:34.810Z"
   },
   {
    "duration": 10,
    "start_time": "2022-06-24T18:17:34.826Z"
   },
   {
    "duration": 28,
    "start_time": "2022-06-24T18:17:34.837Z"
   },
   {
    "duration": 5,
    "start_time": "2022-06-24T18:25:58.019Z"
   },
   {
    "duration": 7,
    "start_time": "2022-06-24T18:26:06.600Z"
   },
   {
    "duration": 402,
    "start_time": "2022-06-24T18:26:12.067Z"
   },
   {
    "duration": 261,
    "start_time": "2022-06-24T18:26:12.471Z"
   },
   {
    "duration": 498,
    "start_time": "2022-06-24T18:26:12.734Z"
   },
   {
    "duration": 85,
    "start_time": "2022-06-24T18:26:13.234Z"
   },
   {
    "duration": 13,
    "start_time": "2022-06-24T18:26:13.320Z"
   },
   {
    "duration": 13,
    "start_time": "2022-06-24T18:26:13.335Z"
   },
   {
    "duration": 51,
    "start_time": "2022-06-24T18:26:13.349Z"
   },
   {
    "duration": 15,
    "start_time": "2022-06-24T18:26:13.401Z"
   },
   {
    "duration": 16,
    "start_time": "2022-06-24T18:26:13.418Z"
   },
   {
    "duration": 28,
    "start_time": "2022-06-24T18:26:13.437Z"
   },
   {
    "duration": 8,
    "start_time": "2022-06-24T18:26:13.468Z"
   },
   {
    "duration": 45,
    "start_time": "2022-06-24T18:26:13.478Z"
   },
   {
    "duration": 16,
    "start_time": "2022-06-24T18:26:13.525Z"
   },
   {
    "duration": 8,
    "start_time": "2022-06-24T18:26:13.543Z"
   },
   {
    "duration": 23,
    "start_time": "2022-06-24T18:26:13.553Z"
   },
   {
    "duration": 38,
    "start_time": "2022-06-24T18:26:13.583Z"
   },
   {
    "duration": 10,
    "start_time": "2022-06-24T18:26:13.622Z"
   },
   {
    "duration": 241,
    "start_time": "2022-06-24T18:26:13.633Z"
   },
   {
    "duration": 11,
    "start_time": "2022-06-24T18:26:13.877Z"
   },
   {
    "duration": 186,
    "start_time": "2022-06-24T18:26:13.892Z"
   },
   {
    "duration": 26,
    "start_time": "2022-06-24T18:26:14.080Z"
   },
   {
    "duration": 6,
    "start_time": "2022-06-24T18:26:14.107Z"
   },
   {
    "duration": 8,
    "start_time": "2022-06-24T18:26:14.115Z"
   },
   {
    "duration": 12,
    "start_time": "2022-06-24T18:26:14.125Z"
   },
   {
    "duration": 3,
    "start_time": "2022-06-24T18:26:14.138Z"
   },
   {
    "duration": 9,
    "start_time": "2022-06-24T18:26:14.143Z"
   },
   {
    "duration": 11,
    "start_time": "2022-06-24T18:26:14.153Z"
   },
   {
    "duration": 33,
    "start_time": "2022-06-24T18:26:14.169Z"
   },
   {
    "duration": 187,
    "start_time": "2022-06-24T18:26:14.205Z"
   },
   {
    "duration": 11,
    "start_time": "2022-06-24T18:26:14.399Z"
   },
   {
    "duration": 12,
    "start_time": "2022-06-24T18:26:14.413Z"
   },
   {
    "duration": 4,
    "start_time": "2022-06-24T18:26:14.427Z"
   },
   {
    "duration": 11,
    "start_time": "2022-06-24T18:26:14.433Z"
   },
   {
    "duration": 28,
    "start_time": "2022-06-24T18:26:14.446Z"
   },
   {
    "duration": 166,
    "start_time": "2022-06-24T18:26:14.486Z"
   },
   {
    "duration": 21,
    "start_time": "2022-06-24T18:26:14.653Z"
   },
   {
    "duration": 34,
    "start_time": "2022-06-24T18:26:14.676Z"
   },
   {
    "duration": 9,
    "start_time": "2022-06-24T18:26:14.712Z"
   },
   {
    "duration": 187,
    "start_time": "2022-06-24T18:26:14.723Z"
   },
   {
    "duration": 14,
    "start_time": "2022-06-24T18:26:14.912Z"
   },
   {
    "duration": 18,
    "start_time": "2022-06-24T18:26:14.928Z"
   },
   {
    "duration": 26,
    "start_time": "2022-06-24T18:26:14.961Z"
   },
   {
    "duration": 53,
    "start_time": "2022-06-24T18:26:14.988Z"
   },
   {
    "duration": 6,
    "start_time": "2022-06-24T18:26:15.043Z"
   },
   {
    "duration": 193,
    "start_time": "2022-06-24T18:26:15.050Z"
   },
   {
    "duration": 28,
    "start_time": "2022-06-24T18:26:15.245Z"
   },
   {
    "duration": 12,
    "start_time": "2022-06-24T18:26:15.277Z"
   },
   {
    "duration": 23,
    "start_time": "2022-06-24T18:26:15.290Z"
   },
   {
    "duration": 15,
    "start_time": "2022-06-24T18:26:15.315Z"
   },
   {
    "duration": 12,
    "start_time": "2022-06-24T18:26:15.332Z"
   },
   {
    "duration": 83,
    "start_time": "2022-06-24T18:26:15.346Z"
   },
   {
    "duration": 10,
    "start_time": "2022-06-24T18:26:15.431Z"
   },
   {
    "duration": 5,
    "start_time": "2022-06-24T18:26:15.443Z"
   },
   {
    "duration": 27,
    "start_time": "2022-06-24T18:26:15.450Z"
   },
   {
    "duration": 33,
    "start_time": "2022-06-24T18:26:15.479Z"
   },
   {
    "duration": 11,
    "start_time": "2022-06-24T18:26:15.514Z"
   },
   {
    "duration": 6,
    "start_time": "2022-06-24T18:28:43.983Z"
   },
   {
    "duration": 7,
    "start_time": "2022-06-24T18:28:44.629Z"
   },
   {
    "duration": 386,
    "start_time": "2022-06-24T18:28:50.620Z"
   },
   {
    "duration": 274,
    "start_time": "2022-06-24T18:28:51.008Z"
   },
   {
    "duration": 500,
    "start_time": "2022-06-24T18:28:51.287Z"
   },
   {
    "duration": 66,
    "start_time": "2022-06-24T18:28:51.789Z"
   },
   {
    "duration": 18,
    "start_time": "2022-06-24T18:28:51.857Z"
   },
   {
    "duration": 30,
    "start_time": "2022-06-24T18:28:51.877Z"
   },
   {
    "duration": 17,
    "start_time": "2022-06-24T18:28:51.909Z"
   },
   {
    "duration": 6,
    "start_time": "2022-06-24T18:28:51.928Z"
   },
   {
    "duration": 37,
    "start_time": "2022-06-24T18:28:51.935Z"
   },
   {
    "duration": 31,
    "start_time": "2022-06-24T18:28:51.976Z"
   },
   {
    "duration": 6,
    "start_time": "2022-06-24T18:28:52.009Z"
   },
   {
    "duration": 13,
    "start_time": "2022-06-24T18:28:52.017Z"
   },
   {
    "duration": 13,
    "start_time": "2022-06-24T18:28:52.032Z"
   },
   {
    "duration": 6,
    "start_time": "2022-06-24T18:28:52.046Z"
   },
   {
    "duration": 26,
    "start_time": "2022-06-24T18:28:52.071Z"
   },
   {
    "duration": 4,
    "start_time": "2022-06-24T18:28:52.099Z"
   },
   {
    "duration": 11,
    "start_time": "2022-06-24T18:28:52.104Z"
   },
   {
    "duration": 212,
    "start_time": "2022-06-24T18:28:52.117Z"
   },
   {
    "duration": 7,
    "start_time": "2022-06-24T18:28:52.331Z"
   },
   {
    "duration": 186,
    "start_time": "2022-06-24T18:28:52.340Z"
   },
   {
    "duration": 9,
    "start_time": "2022-06-24T18:28:52.528Z"
   },
   {
    "duration": 4,
    "start_time": "2022-06-24T18:28:52.538Z"
   },
   {
    "duration": 10,
    "start_time": "2022-06-24T18:28:52.563Z"
   },
   {
    "duration": 20,
    "start_time": "2022-06-24T18:28:52.579Z"
   },
   {
    "duration": 4,
    "start_time": "2022-06-24T18:28:52.600Z"
   },
   {
    "duration": 10,
    "start_time": "2022-06-24T18:28:52.606Z"
   },
   {
    "duration": 7,
    "start_time": "2022-06-24T18:28:52.617Z"
   },
   {
    "duration": 6,
    "start_time": "2022-06-24T18:28:52.628Z"
   },
   {
    "duration": 204,
    "start_time": "2022-06-24T18:28:52.636Z"
   },
   {
    "duration": 6,
    "start_time": "2022-06-24T18:28:52.841Z"
   },
   {
    "duration": 21,
    "start_time": "2022-06-24T18:28:52.848Z"
   },
   {
    "duration": 21,
    "start_time": "2022-06-24T18:28:52.873Z"
   },
   {
    "duration": 13,
    "start_time": "2022-06-24T18:28:52.897Z"
   },
   {
    "duration": 16,
    "start_time": "2022-06-24T18:28:52.912Z"
   },
   {
    "duration": 164,
    "start_time": "2022-06-24T18:28:52.931Z"
   },
   {
    "duration": 11,
    "start_time": "2022-06-24T18:28:53.097Z"
   },
   {
    "duration": 5,
    "start_time": "2022-06-24T18:28:53.111Z"
   },
   {
    "duration": 14,
    "start_time": "2022-06-24T18:28:53.118Z"
   },
   {
    "duration": 203,
    "start_time": "2022-06-24T18:28:53.133Z"
   },
   {
    "duration": 13,
    "start_time": "2022-06-24T18:28:53.338Z"
   },
   {
    "duration": 18,
    "start_time": "2022-06-24T18:28:53.359Z"
   },
   {
    "duration": 28,
    "start_time": "2022-06-24T18:28:53.378Z"
   },
   {
    "duration": 24,
    "start_time": "2022-06-24T18:28:53.408Z"
   },
   {
    "duration": 7,
    "start_time": "2022-06-24T18:28:53.434Z"
   },
   {
    "duration": 233,
    "start_time": "2022-06-24T18:28:53.443Z"
   },
   {
    "duration": 20,
    "start_time": "2022-06-24T18:28:53.678Z"
   },
   {
    "duration": 4,
    "start_time": "2022-06-24T18:28:53.700Z"
   },
   {
    "duration": 11,
    "start_time": "2022-06-24T18:28:53.706Z"
   },
   {
    "duration": 16,
    "start_time": "2022-06-24T18:28:53.719Z"
   },
   {
    "duration": 11,
    "start_time": "2022-06-24T18:28:53.736Z"
   },
   {
    "duration": 63,
    "start_time": "2022-06-24T18:28:53.749Z"
   },
   {
    "duration": 11,
    "start_time": "2022-06-24T18:28:53.814Z"
   },
   {
    "duration": 7,
    "start_time": "2022-06-24T18:28:53.827Z"
   },
   {
    "duration": 15,
    "start_time": "2022-06-24T18:28:53.835Z"
   },
   {
    "duration": 24,
    "start_time": "2022-06-24T18:28:53.851Z"
   },
   {
    "duration": 30,
    "start_time": "2022-06-24T18:28:53.876Z"
   },
   {
    "duration": 13,
    "start_time": "2022-06-24T18:30:33.755Z"
   },
   {
    "duration": 6,
    "start_time": "2022-06-24T18:30:34.294Z"
   },
   {
    "duration": 473,
    "start_time": "2022-06-24T18:32:50.049Z"
   },
   {
    "duration": 286,
    "start_time": "2022-06-24T18:32:50.524Z"
   },
   {
    "duration": 492,
    "start_time": "2022-06-24T18:32:50.811Z"
   },
   {
    "duration": 82,
    "start_time": "2022-06-24T18:32:51.305Z"
   },
   {
    "duration": 20,
    "start_time": "2022-06-24T18:32:51.390Z"
   },
   {
    "duration": 12,
    "start_time": "2022-06-24T18:32:51.411Z"
   },
   {
    "duration": 19,
    "start_time": "2022-06-24T18:32:51.425Z"
   },
   {
    "duration": 24,
    "start_time": "2022-06-24T18:32:51.446Z"
   },
   {
    "duration": 32,
    "start_time": "2022-06-24T18:32:51.472Z"
   },
   {
    "duration": 20,
    "start_time": "2022-06-24T18:32:51.505Z"
   },
   {
    "duration": 7,
    "start_time": "2022-06-24T18:32:51.527Z"
   },
   {
    "duration": 14,
    "start_time": "2022-06-24T18:32:51.535Z"
   },
   {
    "duration": 18,
    "start_time": "2022-06-24T18:32:51.550Z"
   },
   {
    "duration": 18,
    "start_time": "2022-06-24T18:32:51.581Z"
   },
   {
    "duration": 12,
    "start_time": "2022-06-24T18:32:51.601Z"
   },
   {
    "duration": 4,
    "start_time": "2022-06-24T18:32:51.615Z"
   },
   {
    "duration": 11,
    "start_time": "2022-06-24T18:32:51.620Z"
   },
   {
    "duration": 216,
    "start_time": "2022-06-24T18:32:51.632Z"
   },
   {
    "duration": 15,
    "start_time": "2022-06-24T18:32:51.850Z"
   },
   {
    "duration": 181,
    "start_time": "2022-06-24T18:32:51.872Z"
   },
   {
    "duration": 14,
    "start_time": "2022-06-24T18:32:52.058Z"
   },
   {
    "duration": 17,
    "start_time": "2022-06-24T18:32:52.077Z"
   },
   {
    "duration": 12,
    "start_time": "2022-06-24T18:32:52.096Z"
   },
   {
    "duration": 13,
    "start_time": "2022-06-24T18:32:52.109Z"
   },
   {
    "duration": 4,
    "start_time": "2022-06-24T18:32:52.123Z"
   },
   {
    "duration": 5,
    "start_time": "2022-06-24T18:32:52.128Z"
   },
   {
    "duration": 10,
    "start_time": "2022-06-24T18:32:52.135Z"
   },
   {
    "duration": 18,
    "start_time": "2022-06-24T18:32:52.147Z"
   },
   {
    "duration": 27,
    "start_time": "2022-06-24T18:32:52.172Z"
   },
   {
    "duration": 116,
    "start_time": "2022-06-24T18:32:52.201Z"
   },
   {
    "duration": 0,
    "start_time": "2022-06-24T18:32:52.319Z"
   },
   {
    "duration": 0,
    "start_time": "2022-06-24T18:32:52.321Z"
   },
   {
    "duration": 0,
    "start_time": "2022-06-24T18:32:52.322Z"
   },
   {
    "duration": 0,
    "start_time": "2022-06-24T18:32:52.323Z"
   },
   {
    "duration": 0,
    "start_time": "2022-06-24T18:32:52.324Z"
   },
   {
    "duration": 0,
    "start_time": "2022-06-24T18:32:52.325Z"
   },
   {
    "duration": 0,
    "start_time": "2022-06-24T18:32:52.326Z"
   },
   {
    "duration": 0,
    "start_time": "2022-06-24T18:32:52.327Z"
   },
   {
    "duration": 1,
    "start_time": "2022-06-24T18:32:52.328Z"
   },
   {
    "duration": 0,
    "start_time": "2022-06-24T18:32:52.330Z"
   },
   {
    "duration": 0,
    "start_time": "2022-06-24T18:32:52.331Z"
   },
   {
    "duration": 0,
    "start_time": "2022-06-24T18:32:52.332Z"
   },
   {
    "duration": 0,
    "start_time": "2022-06-24T18:32:52.363Z"
   },
   {
    "duration": 0,
    "start_time": "2022-06-24T18:32:52.364Z"
   },
   {
    "duration": 0,
    "start_time": "2022-06-24T18:32:52.365Z"
   },
   {
    "duration": 0,
    "start_time": "2022-06-24T18:32:52.371Z"
   },
   {
    "duration": 0,
    "start_time": "2022-06-24T18:32:52.372Z"
   },
   {
    "duration": 0,
    "start_time": "2022-06-24T18:32:52.374Z"
   },
   {
    "duration": 0,
    "start_time": "2022-06-24T18:32:52.375Z"
   },
   {
    "duration": 0,
    "start_time": "2022-06-24T18:32:52.376Z"
   },
   {
    "duration": 0,
    "start_time": "2022-06-24T18:32:52.377Z"
   },
   {
    "duration": 0,
    "start_time": "2022-06-24T18:32:52.378Z"
   },
   {
    "duration": 0,
    "start_time": "2022-06-24T18:32:52.379Z"
   },
   {
    "duration": 0,
    "start_time": "2022-06-24T18:32:52.380Z"
   },
   {
    "duration": 0,
    "start_time": "2022-06-24T18:32:52.381Z"
   },
   {
    "duration": 0,
    "start_time": "2022-06-24T18:32:52.382Z"
   },
   {
    "duration": 0,
    "start_time": "2022-06-24T18:32:52.383Z"
   },
   {
    "duration": 9,
    "start_time": "2022-06-24T18:36:01.484Z"
   },
   {
    "duration": 392,
    "start_time": "2022-06-24T18:36:32.884Z"
   },
   {
    "duration": 244,
    "start_time": "2022-06-24T18:36:33.281Z"
   },
   {
    "duration": 527,
    "start_time": "2022-06-24T18:36:33.528Z"
   },
   {
    "duration": 83,
    "start_time": "2022-06-24T18:36:34.056Z"
   },
   {
    "duration": 13,
    "start_time": "2022-06-24T18:36:34.141Z"
   },
   {
    "duration": 19,
    "start_time": "2022-06-24T18:36:34.156Z"
   },
   {
    "duration": 29,
    "start_time": "2022-06-24T18:36:34.179Z"
   },
   {
    "duration": 5,
    "start_time": "2022-06-24T18:36:34.210Z"
   },
   {
    "duration": 12,
    "start_time": "2022-06-24T18:36:34.216Z"
   },
   {
    "duration": 20,
    "start_time": "2022-06-24T18:36:34.229Z"
   },
   {
    "duration": 28,
    "start_time": "2022-06-24T18:36:34.251Z"
   },
   {
    "duration": 14,
    "start_time": "2022-06-24T18:36:34.281Z"
   },
   {
    "duration": 15,
    "start_time": "2022-06-24T18:36:34.297Z"
   },
   {
    "duration": 6,
    "start_time": "2022-06-24T18:36:34.314Z"
   },
   {
    "duration": 11,
    "start_time": "2022-06-24T18:36:34.321Z"
   },
   {
    "duration": 3,
    "start_time": "2022-06-24T18:36:34.334Z"
   },
   {
    "duration": 11,
    "start_time": "2022-06-24T18:36:34.338Z"
   },
   {
    "duration": 230,
    "start_time": "2022-06-24T18:36:34.350Z"
   },
   {
    "duration": 7,
    "start_time": "2022-06-24T18:36:34.583Z"
   },
   {
    "duration": 150,
    "start_time": "2022-06-24T18:36:34.592Z"
   },
   {
    "duration": 27,
    "start_time": "2022-06-24T18:36:34.744Z"
   },
   {
    "duration": 9,
    "start_time": "2022-06-24T18:36:34.783Z"
   },
   {
    "duration": 17,
    "start_time": "2022-06-24T18:36:34.795Z"
   },
   {
    "duration": 12,
    "start_time": "2022-06-24T18:36:34.814Z"
   },
   {
    "duration": 3,
    "start_time": "2022-06-24T18:36:34.828Z"
   },
   {
    "duration": 6,
    "start_time": "2022-06-24T18:36:34.832Z"
   },
   {
    "duration": 9,
    "start_time": "2022-06-24T18:36:34.840Z"
   },
   {
    "duration": 8,
    "start_time": "2022-06-24T18:36:34.850Z"
   },
   {
    "duration": 36,
    "start_time": "2022-06-24T18:36:34.859Z"
   },
   {
    "duration": 387,
    "start_time": "2022-06-24T18:36:47.420Z"
   },
   {
    "duration": 224,
    "start_time": "2022-06-24T18:36:47.809Z"
   },
   {
    "duration": 507,
    "start_time": "2022-06-24T18:36:48.035Z"
   },
   {
    "duration": 85,
    "start_time": "2022-06-24T18:36:48.544Z"
   },
   {
    "duration": 14,
    "start_time": "2022-06-24T18:36:48.630Z"
   },
   {
    "duration": 12,
    "start_time": "2022-06-24T18:36:48.645Z"
   },
   {
    "duration": 23,
    "start_time": "2022-06-24T18:36:48.659Z"
   },
   {
    "duration": 14,
    "start_time": "2022-06-24T18:36:48.685Z"
   },
   {
    "duration": 11,
    "start_time": "2022-06-24T18:36:48.701Z"
   },
   {
    "duration": 20,
    "start_time": "2022-06-24T18:36:48.714Z"
   },
   {
    "duration": 24,
    "start_time": "2022-06-24T18:36:48.736Z"
   },
   {
    "duration": 42,
    "start_time": "2022-06-24T18:36:48.761Z"
   },
   {
    "duration": 15,
    "start_time": "2022-06-24T18:36:48.805Z"
   },
   {
    "duration": 8,
    "start_time": "2022-06-24T18:36:48.822Z"
   },
   {
    "duration": 15,
    "start_time": "2022-06-24T18:36:48.832Z"
   },
   {
    "duration": 3,
    "start_time": "2022-06-24T18:36:48.849Z"
   },
   {
    "duration": 40,
    "start_time": "2022-06-24T18:36:48.854Z"
   },
   {
    "duration": 231,
    "start_time": "2022-06-24T18:36:48.896Z"
   },
   {
    "duration": 6,
    "start_time": "2022-06-24T18:36:49.129Z"
   },
   {
    "duration": 183,
    "start_time": "2022-06-24T18:36:49.136Z"
   },
   {
    "duration": 9,
    "start_time": "2022-06-24T18:36:49.320Z"
   },
   {
    "duration": 4,
    "start_time": "2022-06-24T18:36:49.331Z"
   },
   {
    "duration": 11,
    "start_time": "2022-06-24T18:36:49.336Z"
   },
   {
    "duration": 24,
    "start_time": "2022-06-24T18:36:49.359Z"
   },
   {
    "duration": 18,
    "start_time": "2022-06-24T18:36:49.384Z"
   },
   {
    "duration": 6,
    "start_time": "2022-06-24T18:36:49.404Z"
   },
   {
    "duration": 9,
    "start_time": "2022-06-24T18:36:49.411Z"
   },
   {
    "duration": 9,
    "start_time": "2022-06-24T18:36:49.424Z"
   },
   {
    "duration": 9,
    "start_time": "2022-06-24T18:36:49.435Z"
   },
   {
    "duration": 183,
    "start_time": "2022-06-24T18:36:49.445Z"
   },
   {
    "duration": 6,
    "start_time": "2022-06-24T18:36:49.630Z"
   },
   {
    "duration": 25,
    "start_time": "2022-06-24T18:36:49.637Z"
   },
   {
    "duration": 7,
    "start_time": "2022-06-24T18:36:49.663Z"
   },
   {
    "duration": 22,
    "start_time": "2022-06-24T18:36:49.677Z"
   },
   {
    "duration": 17,
    "start_time": "2022-06-24T18:36:49.700Z"
   },
   {
    "duration": 171,
    "start_time": "2022-06-24T18:36:49.718Z"
   },
   {
    "duration": 11,
    "start_time": "2022-06-24T18:36:49.891Z"
   },
   {
    "duration": 15,
    "start_time": "2022-06-24T18:36:49.903Z"
   },
   {
    "duration": 19,
    "start_time": "2022-06-24T18:36:49.920Z"
   },
   {
    "duration": 202,
    "start_time": "2022-06-24T18:36:49.941Z"
   },
   {
    "duration": 21,
    "start_time": "2022-06-24T18:36:50.144Z"
   },
   {
    "duration": 39,
    "start_time": "2022-06-24T18:36:50.173Z"
   },
   {
    "duration": 40,
    "start_time": "2022-06-24T18:36:50.214Z"
   },
   {
    "duration": 45,
    "start_time": "2022-06-24T18:36:50.256Z"
   },
   {
    "duration": 21,
    "start_time": "2022-06-24T18:36:50.303Z"
   },
   {
    "duration": 205,
    "start_time": "2022-06-24T18:36:50.325Z"
   },
   {
    "duration": 13,
    "start_time": "2022-06-24T18:36:50.532Z"
   },
   {
    "duration": 42,
    "start_time": "2022-06-24T18:36:50.547Z"
   },
   {
    "duration": 23,
    "start_time": "2022-06-24T18:36:50.591Z"
   },
   {
    "duration": 33,
    "start_time": "2022-06-24T18:36:50.616Z"
   },
   {
    "duration": 42,
    "start_time": "2022-06-24T18:36:50.651Z"
   },
   {
    "duration": 103,
    "start_time": "2022-06-24T18:36:50.694Z"
   },
   {
    "duration": 12,
    "start_time": "2022-06-24T18:36:50.799Z"
   },
   {
    "duration": 8,
    "start_time": "2022-06-24T18:36:50.813Z"
   },
   {
    "duration": 14,
    "start_time": "2022-06-24T18:36:50.823Z"
   },
   {
    "duration": 13,
    "start_time": "2022-06-24T18:36:50.840Z"
   },
   {
    "duration": 24,
    "start_time": "2022-06-24T18:36:50.855Z"
   },
   {
    "duration": 421,
    "start_time": "2022-06-24T18:37:26.880Z"
   },
   {
    "duration": 270,
    "start_time": "2022-06-24T18:37:27.304Z"
   },
   {
    "duration": 509,
    "start_time": "2022-06-24T18:37:27.578Z"
   },
   {
    "duration": 100,
    "start_time": "2022-06-24T18:37:28.091Z"
   },
   {
    "duration": 15,
    "start_time": "2022-06-24T18:37:28.195Z"
   },
   {
    "duration": 23,
    "start_time": "2022-06-24T18:37:28.212Z"
   },
   {
    "duration": 36,
    "start_time": "2022-06-24T18:37:28.237Z"
   },
   {
    "duration": 10,
    "start_time": "2022-06-24T18:37:28.276Z"
   },
   {
    "duration": 17,
    "start_time": "2022-06-24T18:37:28.288Z"
   },
   {
    "duration": 22,
    "start_time": "2022-06-24T18:37:28.307Z"
   },
   {
    "duration": 6,
    "start_time": "2022-06-24T18:37:28.331Z"
   },
   {
    "duration": 9,
    "start_time": "2022-06-24T18:37:28.339Z"
   },
   {
    "duration": 27,
    "start_time": "2022-06-24T18:37:28.350Z"
   },
   {
    "duration": 11,
    "start_time": "2022-06-24T18:37:28.381Z"
   },
   {
    "duration": 12,
    "start_time": "2022-06-24T18:37:28.394Z"
   },
   {
    "duration": 4,
    "start_time": "2022-06-24T18:37:28.407Z"
   },
   {
    "duration": 11,
    "start_time": "2022-06-24T18:37:28.412Z"
   },
   {
    "duration": 224,
    "start_time": "2022-06-24T18:37:28.425Z"
   },
   {
    "duration": 9,
    "start_time": "2022-06-24T18:37:28.664Z"
   },
   {
    "duration": 193,
    "start_time": "2022-06-24T18:37:28.675Z"
   },
   {
    "duration": 18,
    "start_time": "2022-06-24T18:37:28.872Z"
   },
   {
    "duration": 13,
    "start_time": "2022-06-24T18:37:28.891Z"
   },
   {
    "duration": 14,
    "start_time": "2022-06-24T18:37:28.905Z"
   },
   {
    "duration": 3,
    "start_time": "2022-06-24T18:37:28.921Z"
   },
   {
    "duration": 9,
    "start_time": "2022-06-24T18:37:28.925Z"
   },
   {
    "duration": 106,
    "start_time": "2022-06-24T18:37:28.936Z"
   },
   {
    "duration": 0,
    "start_time": "2022-06-24T18:37:29.044Z"
   },
   {
    "duration": 0,
    "start_time": "2022-06-24T18:37:29.045Z"
   },
   {
    "duration": 0,
    "start_time": "2022-06-24T18:37:29.047Z"
   },
   {
    "duration": 0,
    "start_time": "2022-06-24T18:37:29.066Z"
   },
   {
    "duration": 0,
    "start_time": "2022-06-24T18:37:29.067Z"
   },
   {
    "duration": 0,
    "start_time": "2022-06-24T18:37:29.068Z"
   },
   {
    "duration": 0,
    "start_time": "2022-06-24T18:37:29.069Z"
   },
   {
    "duration": 0,
    "start_time": "2022-06-24T18:37:29.069Z"
   },
   {
    "duration": 0,
    "start_time": "2022-06-24T18:37:29.070Z"
   },
   {
    "duration": 0,
    "start_time": "2022-06-24T18:37:29.071Z"
   },
   {
    "duration": 0,
    "start_time": "2022-06-24T18:37:29.072Z"
   },
   {
    "duration": 0,
    "start_time": "2022-06-24T18:37:29.073Z"
   },
   {
    "duration": 0,
    "start_time": "2022-06-24T18:37:29.073Z"
   },
   {
    "duration": 0,
    "start_time": "2022-06-24T18:37:29.074Z"
   },
   {
    "duration": 0,
    "start_time": "2022-06-24T18:37:29.075Z"
   },
   {
    "duration": 0,
    "start_time": "2022-06-24T18:37:29.076Z"
   },
   {
    "duration": 0,
    "start_time": "2022-06-24T18:37:29.077Z"
   },
   {
    "duration": 0,
    "start_time": "2022-06-24T18:37:29.077Z"
   },
   {
    "duration": 0,
    "start_time": "2022-06-24T18:37:29.082Z"
   },
   {
    "duration": 0,
    "start_time": "2022-06-24T18:37:29.083Z"
   },
   {
    "duration": 0,
    "start_time": "2022-06-24T18:37:29.084Z"
   },
   {
    "duration": 0,
    "start_time": "2022-06-24T18:37:29.085Z"
   },
   {
    "duration": 0,
    "start_time": "2022-06-24T18:37:29.087Z"
   },
   {
    "duration": 0,
    "start_time": "2022-06-24T18:37:29.087Z"
   },
   {
    "duration": 0,
    "start_time": "2022-06-24T18:37:29.089Z"
   },
   {
    "duration": 0,
    "start_time": "2022-06-24T18:37:29.089Z"
   },
   {
    "duration": 0,
    "start_time": "2022-06-24T18:37:29.090Z"
   },
   {
    "duration": 0,
    "start_time": "2022-06-24T18:37:29.092Z"
   },
   {
    "duration": 0,
    "start_time": "2022-06-24T18:37:29.093Z"
   },
   {
    "duration": 425,
    "start_time": "2022-06-24T18:38:34.560Z"
   },
   {
    "duration": 228,
    "start_time": "2022-06-24T18:38:34.988Z"
   },
   {
    "duration": 498,
    "start_time": "2022-06-24T18:38:35.218Z"
   },
   {
    "duration": 87,
    "start_time": "2022-06-24T18:38:35.718Z"
   },
   {
    "duration": 15,
    "start_time": "2022-06-24T18:38:35.808Z"
   },
   {
    "duration": 14,
    "start_time": "2022-06-24T18:38:35.825Z"
   },
   {
    "duration": 44,
    "start_time": "2022-06-24T18:38:35.841Z"
   },
   {
    "duration": 21,
    "start_time": "2022-06-24T18:38:35.889Z"
   },
   {
    "duration": 13,
    "start_time": "2022-06-24T18:38:35.912Z"
   },
   {
    "duration": 24,
    "start_time": "2022-06-24T18:38:35.926Z"
   },
   {
    "duration": 18,
    "start_time": "2022-06-24T18:38:35.952Z"
   },
   {
    "duration": 23,
    "start_time": "2022-06-24T18:38:35.976Z"
   },
   {
    "duration": 19,
    "start_time": "2022-06-24T18:38:36.001Z"
   },
   {
    "duration": 7,
    "start_time": "2022-06-24T18:38:36.024Z"
   },
   {
    "duration": 14,
    "start_time": "2022-06-24T18:38:36.033Z"
   },
   {
    "duration": 3,
    "start_time": "2022-06-24T18:38:36.049Z"
   },
   {
    "duration": 15,
    "start_time": "2022-06-24T18:38:36.054Z"
   },
   {
    "duration": 240,
    "start_time": "2022-06-24T18:38:36.071Z"
   },
   {
    "duration": 7,
    "start_time": "2022-06-24T18:38:36.313Z"
   },
   {
    "duration": 177,
    "start_time": "2022-06-24T18:38:36.322Z"
   },
   {
    "duration": 9,
    "start_time": "2022-06-24T18:38:36.501Z"
   },
   {
    "duration": 4,
    "start_time": "2022-06-24T18:38:36.512Z"
   },
   {
    "duration": 12,
    "start_time": "2022-06-24T18:38:36.517Z"
   },
   {
    "duration": 37,
    "start_time": "2022-06-24T18:38:36.531Z"
   },
   {
    "duration": 14,
    "start_time": "2022-06-24T18:38:36.570Z"
   },
   {
    "duration": 6,
    "start_time": "2022-06-24T18:38:36.587Z"
   },
   {
    "duration": 9,
    "start_time": "2022-06-24T18:38:36.594Z"
   },
   {
    "duration": 7,
    "start_time": "2022-06-24T18:38:36.604Z"
   },
   {
    "duration": 9,
    "start_time": "2022-06-24T18:38:36.613Z"
   },
   {
    "duration": 184,
    "start_time": "2022-06-24T18:38:36.623Z"
   },
   {
    "duration": 7,
    "start_time": "2022-06-24T18:38:36.809Z"
   },
   {
    "duration": 13,
    "start_time": "2022-06-24T18:38:36.817Z"
   },
   {
    "duration": 3,
    "start_time": "2022-06-24T18:38:36.832Z"
   },
   {
    "duration": 40,
    "start_time": "2022-06-24T18:38:36.836Z"
   },
   {
    "duration": 18,
    "start_time": "2022-06-24T18:38:36.881Z"
   },
   {
    "duration": 145,
    "start_time": "2022-06-24T18:38:36.900Z"
   },
   {
    "duration": 34,
    "start_time": "2022-06-24T18:38:37.046Z"
   },
   {
    "duration": 22,
    "start_time": "2022-06-24T18:38:37.084Z"
   },
   {
    "duration": 37,
    "start_time": "2022-06-24T18:38:37.108Z"
   },
   {
    "duration": 242,
    "start_time": "2022-06-24T18:38:37.147Z"
   },
   {
    "duration": 17,
    "start_time": "2022-06-24T18:38:37.394Z"
   },
   {
    "duration": 23,
    "start_time": "2022-06-24T18:38:37.413Z"
   },
   {
    "duration": 44,
    "start_time": "2022-06-24T18:38:37.438Z"
   },
   {
    "duration": 48,
    "start_time": "2022-06-24T18:38:37.485Z"
   },
   {
    "duration": 7,
    "start_time": "2022-06-24T18:38:37.535Z"
   },
   {
    "duration": 251,
    "start_time": "2022-06-24T18:38:37.543Z"
   },
   {
    "duration": 13,
    "start_time": "2022-06-24T18:38:37.796Z"
   },
   {
    "duration": 3,
    "start_time": "2022-06-24T18:38:37.811Z"
   },
   {
    "duration": 8,
    "start_time": "2022-06-24T18:38:37.816Z"
   },
   {
    "duration": 14,
    "start_time": "2022-06-24T18:38:37.826Z"
   },
   {
    "duration": 17,
    "start_time": "2022-06-24T18:38:37.860Z"
   },
   {
    "duration": 112,
    "start_time": "2022-06-24T18:38:37.879Z"
   },
   {
    "duration": 10,
    "start_time": "2022-06-24T18:38:37.993Z"
   },
   {
    "duration": 6,
    "start_time": "2022-06-24T18:38:38.004Z"
   },
   {
    "duration": 14,
    "start_time": "2022-06-24T18:38:38.012Z"
   },
   {
    "duration": 9,
    "start_time": "2022-06-24T18:38:38.028Z"
   },
   {
    "duration": 10,
    "start_time": "2022-06-24T18:38:38.039Z"
   },
   {
    "duration": 122,
    "start_time": "2022-06-24T18:41:26.685Z"
   },
   {
    "duration": 6,
    "start_time": "2022-06-24T18:42:13.310Z"
   },
   {
    "duration": 3,
    "start_time": "2022-06-24T18:42:14.314Z"
   },
   {
    "duration": 407,
    "start_time": "2022-06-24T18:42:20.134Z"
   },
   {
    "duration": 248,
    "start_time": "2022-06-24T18:42:20.543Z"
   },
   {
    "duration": 500,
    "start_time": "2022-06-24T18:42:20.793Z"
   },
   {
    "duration": 77,
    "start_time": "2022-06-24T18:42:21.295Z"
   },
   {
    "duration": 13,
    "start_time": "2022-06-24T18:42:21.374Z"
   },
   {
    "duration": 11,
    "start_time": "2022-06-24T18:42:21.388Z"
   },
   {
    "duration": 22,
    "start_time": "2022-06-24T18:42:21.400Z"
   },
   {
    "duration": 6,
    "start_time": "2022-06-24T18:42:21.424Z"
   },
   {
    "duration": 29,
    "start_time": "2022-06-24T18:42:21.431Z"
   },
   {
    "duration": 25,
    "start_time": "2022-06-24T18:42:21.465Z"
   },
   {
    "duration": 6,
    "start_time": "2022-06-24T18:42:21.492Z"
   },
   {
    "duration": 10,
    "start_time": "2022-06-24T18:42:21.500Z"
   },
   {
    "duration": 17,
    "start_time": "2022-06-24T18:42:21.511Z"
   },
   {
    "duration": 7,
    "start_time": "2022-06-24T18:42:21.530Z"
   },
   {
    "duration": 33,
    "start_time": "2022-06-24T18:42:21.538Z"
   },
   {
    "duration": 3,
    "start_time": "2022-06-24T18:42:21.573Z"
   },
   {
    "duration": 13,
    "start_time": "2022-06-24T18:42:21.577Z"
   },
   {
    "duration": 209,
    "start_time": "2022-06-24T18:42:21.592Z"
   },
   {
    "duration": 7,
    "start_time": "2022-06-24T18:42:21.803Z"
   },
   {
    "duration": 166,
    "start_time": "2022-06-24T18:42:21.812Z"
   },
   {
    "duration": 10,
    "start_time": "2022-06-24T18:42:21.980Z"
   },
   {
    "duration": 18,
    "start_time": "2022-06-24T18:42:21.992Z"
   },
   {
    "duration": 19,
    "start_time": "2022-06-24T18:42:22.012Z"
   },
   {
    "duration": 28,
    "start_time": "2022-06-24T18:42:22.033Z"
   },
   {
    "duration": 15,
    "start_time": "2022-06-24T18:42:22.062Z"
   },
   {
    "duration": 19,
    "start_time": "2022-06-24T18:42:22.079Z"
   },
   {
    "duration": 15,
    "start_time": "2022-06-24T18:42:22.099Z"
   },
   {
    "duration": 17,
    "start_time": "2022-06-24T18:42:22.118Z"
   },
   {
    "duration": 10,
    "start_time": "2022-06-24T18:42:22.137Z"
   },
   {
    "duration": 107,
    "start_time": "2022-06-24T18:42:22.149Z"
   },
   {
    "duration": 0,
    "start_time": "2022-06-24T18:42:22.258Z"
   },
   {
    "duration": 0,
    "start_time": "2022-06-24T18:42:22.259Z"
   },
   {
    "duration": 0,
    "start_time": "2022-06-24T18:42:22.260Z"
   },
   {
    "duration": 0,
    "start_time": "2022-06-24T18:42:22.261Z"
   },
   {
    "duration": 0,
    "start_time": "2022-06-24T18:42:22.262Z"
   },
   {
    "duration": 0,
    "start_time": "2022-06-24T18:42:22.262Z"
   },
   {
    "duration": 0,
    "start_time": "2022-06-24T18:42:22.263Z"
   },
   {
    "duration": 0,
    "start_time": "2022-06-24T18:42:22.264Z"
   },
   {
    "duration": 0,
    "start_time": "2022-06-24T18:42:22.271Z"
   },
   {
    "duration": 0,
    "start_time": "2022-06-24T18:42:22.271Z"
   },
   {
    "duration": 0,
    "start_time": "2022-06-24T18:42:22.272Z"
   },
   {
    "duration": 0,
    "start_time": "2022-06-24T18:42:22.275Z"
   },
   {
    "duration": 0,
    "start_time": "2022-06-24T18:42:22.276Z"
   },
   {
    "duration": 0,
    "start_time": "2022-06-24T18:42:22.278Z"
   },
   {
    "duration": 0,
    "start_time": "2022-06-24T18:42:22.280Z"
   },
   {
    "duration": 0,
    "start_time": "2022-06-24T18:42:22.281Z"
   },
   {
    "duration": 1,
    "start_time": "2022-06-24T18:42:22.282Z"
   },
   {
    "duration": 0,
    "start_time": "2022-06-24T18:42:22.284Z"
   },
   {
    "duration": 0,
    "start_time": "2022-06-24T18:42:22.285Z"
   },
   {
    "duration": 0,
    "start_time": "2022-06-24T18:42:22.287Z"
   },
   {
    "duration": 0,
    "start_time": "2022-06-24T18:42:22.288Z"
   },
   {
    "duration": 0,
    "start_time": "2022-06-24T18:42:22.289Z"
   },
   {
    "duration": 0,
    "start_time": "2022-06-24T18:42:22.290Z"
   },
   {
    "duration": 0,
    "start_time": "2022-06-24T18:42:22.291Z"
   },
   {
    "duration": 0,
    "start_time": "2022-06-24T18:42:22.292Z"
   },
   {
    "duration": 0,
    "start_time": "2022-06-24T18:42:22.293Z"
   },
   {
    "duration": 0,
    "start_time": "2022-06-24T18:42:22.294Z"
   },
   {
    "duration": 6,
    "start_time": "2022-06-24T18:42:51.334Z"
   },
   {
    "duration": 8,
    "start_time": "2022-06-24T18:42:52.335Z"
   },
   {
    "duration": 167,
    "start_time": "2022-06-24T18:44:41.704Z"
   },
   {
    "duration": 188,
    "start_time": "2022-06-24T18:44:54.396Z"
   },
   {
    "duration": 169,
    "start_time": "2022-06-24T18:45:01.820Z"
   },
   {
    "duration": 129,
    "start_time": "2022-06-24T18:45:23.538Z"
   },
   {
    "duration": 10,
    "start_time": "2022-06-24T18:47:34.143Z"
   },
   {
    "duration": 185,
    "start_time": "2022-06-24T18:47:41.908Z"
   },
   {
    "duration": 12,
    "start_time": "2022-06-24T18:48:02.187Z"
   },
   {
    "duration": 182,
    "start_time": "2022-06-24T18:48:22.116Z"
   },
   {
    "duration": 274,
    "start_time": "2022-06-24T18:48:53.680Z"
   },
   {
    "duration": 196,
    "start_time": "2022-06-24T18:49:00.324Z"
   },
   {
    "duration": 192,
    "start_time": "2022-06-24T18:49:19.981Z"
   },
   {
    "duration": 392,
    "start_time": "2022-06-24T18:49:24.085Z"
   },
   {
    "duration": 252,
    "start_time": "2022-06-24T18:49:24.479Z"
   },
   {
    "duration": 523,
    "start_time": "2022-06-24T18:49:24.732Z"
   },
   {
    "duration": 68,
    "start_time": "2022-06-24T18:49:25.259Z"
   },
   {
    "duration": 13,
    "start_time": "2022-06-24T18:49:25.329Z"
   },
   {
    "duration": 12,
    "start_time": "2022-06-24T18:49:25.344Z"
   },
   {
    "duration": 24,
    "start_time": "2022-06-24T18:49:25.358Z"
   },
   {
    "duration": 7,
    "start_time": "2022-06-24T18:49:25.383Z"
   },
   {
    "duration": 11,
    "start_time": "2022-06-24T18:49:25.391Z"
   },
   {
    "duration": 19,
    "start_time": "2022-06-24T18:49:25.403Z"
   },
   {
    "duration": 6,
    "start_time": "2022-06-24T18:49:25.424Z"
   },
   {
    "duration": 41,
    "start_time": "2022-06-24T18:49:25.431Z"
   },
   {
    "duration": 12,
    "start_time": "2022-06-24T18:49:25.474Z"
   },
   {
    "duration": 6,
    "start_time": "2022-06-24T18:49:25.489Z"
   },
   {
    "duration": 13,
    "start_time": "2022-06-24T18:49:25.496Z"
   },
   {
    "duration": 3,
    "start_time": "2022-06-24T18:49:25.511Z"
   },
   {
    "duration": 10,
    "start_time": "2022-06-24T18:49:25.515Z"
   },
   {
    "duration": 247,
    "start_time": "2022-06-24T18:49:25.526Z"
   },
   {
    "duration": 6,
    "start_time": "2022-06-24T18:49:25.775Z"
   },
   {
    "duration": 152,
    "start_time": "2022-06-24T18:49:25.783Z"
   },
   {
    "duration": 9,
    "start_time": "2022-06-24T18:49:25.937Z"
   },
   {
    "duration": 24,
    "start_time": "2022-06-24T18:49:25.947Z"
   },
   {
    "duration": 9,
    "start_time": "2022-06-24T18:49:25.973Z"
   },
   {
    "duration": 14,
    "start_time": "2022-06-24T18:49:25.983Z"
   },
   {
    "duration": 3,
    "start_time": "2022-06-24T18:49:26.000Z"
   },
   {
    "duration": 13,
    "start_time": "2022-06-24T18:49:26.004Z"
   },
   {
    "duration": 11,
    "start_time": "2022-06-24T18:49:26.018Z"
   },
   {
    "duration": 9,
    "start_time": "2022-06-24T18:49:26.030Z"
   },
   {
    "duration": 12,
    "start_time": "2022-06-24T18:49:26.040Z"
   },
   {
    "duration": 199,
    "start_time": "2022-06-24T18:49:26.053Z"
   },
   {
    "duration": 22,
    "start_time": "2022-06-24T18:49:26.253Z"
   },
   {
    "duration": 11,
    "start_time": "2022-06-24T18:49:26.276Z"
   },
   {
    "duration": 3,
    "start_time": "2022-06-24T18:49:26.289Z"
   },
   {
    "duration": 12,
    "start_time": "2022-06-24T18:49:26.294Z"
   },
   {
    "duration": 16,
    "start_time": "2022-06-24T18:49:26.308Z"
   },
   {
    "duration": 163,
    "start_time": "2022-06-24T18:49:26.326Z"
   },
   {
    "duration": 11,
    "start_time": "2022-06-24T18:49:26.490Z"
   },
   {
    "duration": 4,
    "start_time": "2022-06-24T18:49:26.503Z"
   },
   {
    "duration": 11,
    "start_time": "2022-06-24T18:49:26.508Z"
   },
   {
    "duration": 188,
    "start_time": "2022-06-24T18:49:26.520Z"
   },
   {
    "duration": 11,
    "start_time": "2022-06-24T18:49:26.712Z"
   },
   {
    "duration": 16,
    "start_time": "2022-06-24T18:49:26.725Z"
   },
   {
    "duration": 51,
    "start_time": "2022-06-24T18:49:26.742Z"
   },
   {
    "duration": 15,
    "start_time": "2022-06-24T18:49:26.794Z"
   },
   {
    "duration": 6,
    "start_time": "2022-06-24T18:49:26.811Z"
   },
   {
    "duration": 182,
    "start_time": "2022-06-24T18:49:26.819Z"
   },
   {
    "duration": 13,
    "start_time": "2022-06-24T18:49:27.003Z"
   },
   {
    "duration": 4,
    "start_time": "2022-06-24T18:49:27.017Z"
   },
   {
    "duration": 6,
    "start_time": "2022-06-24T18:49:27.022Z"
   },
   {
    "duration": 11,
    "start_time": "2022-06-24T18:49:27.029Z"
   },
   {
    "duration": 29,
    "start_time": "2022-06-24T18:49:27.042Z"
   },
   {
    "duration": 46,
    "start_time": "2022-06-24T18:49:27.073Z"
   },
   {
    "duration": 13,
    "start_time": "2022-06-24T18:49:27.122Z"
   },
   {
    "duration": 14,
    "start_time": "2022-06-24T18:49:27.136Z"
   },
   {
    "duration": 37,
    "start_time": "2022-06-24T18:49:27.151Z"
   },
   {
    "duration": 17,
    "start_time": "2022-06-24T18:49:27.190Z"
   },
   {
    "duration": 25,
    "start_time": "2022-06-24T18:49:27.209Z"
   },
   {
    "duration": 192,
    "start_time": "2022-06-24T18:49:42.697Z"
   },
   {
    "duration": 104,
    "start_time": "2022-06-24T18:50:10.045Z"
   },
   {
    "duration": 194,
    "start_time": "2022-06-24T18:50:32.905Z"
   },
   {
    "duration": 402,
    "start_time": "2022-06-24T18:52:10.732Z"
   },
   {
    "duration": 237,
    "start_time": "2022-06-24T18:52:11.136Z"
   },
   {
    "duration": 478,
    "start_time": "2022-06-24T18:52:11.375Z"
   },
   {
    "duration": 71,
    "start_time": "2022-06-24T18:52:11.855Z"
   },
   {
    "duration": 15,
    "start_time": "2022-06-24T18:52:11.928Z"
   },
   {
    "duration": 12,
    "start_time": "2022-06-24T18:52:11.945Z"
   },
   {
    "duration": 29,
    "start_time": "2022-06-24T18:52:11.959Z"
   },
   {
    "duration": 5,
    "start_time": "2022-06-24T18:52:11.990Z"
   },
   {
    "duration": 10,
    "start_time": "2022-06-24T18:52:11.996Z"
   },
   {
    "duration": 24,
    "start_time": "2022-06-24T18:52:12.009Z"
   },
   {
    "duration": 7,
    "start_time": "2022-06-24T18:52:12.034Z"
   },
   {
    "duration": 26,
    "start_time": "2022-06-24T18:52:12.042Z"
   },
   {
    "duration": 22,
    "start_time": "2022-06-24T18:52:12.070Z"
   },
   {
    "duration": 7,
    "start_time": "2022-06-24T18:52:12.094Z"
   },
   {
    "duration": 12,
    "start_time": "2022-06-24T18:52:12.102Z"
   },
   {
    "duration": 3,
    "start_time": "2022-06-24T18:52:12.115Z"
   },
   {
    "duration": 9,
    "start_time": "2022-06-24T18:52:12.120Z"
   },
   {
    "duration": 215,
    "start_time": "2022-06-24T18:52:12.130Z"
   },
   {
    "duration": 7,
    "start_time": "2022-06-24T18:52:12.346Z"
   },
   {
    "duration": 161,
    "start_time": "2022-06-24T18:52:12.359Z"
   },
   {
    "duration": 10,
    "start_time": "2022-06-24T18:52:12.522Z"
   },
   {
    "duration": 4,
    "start_time": "2022-06-24T18:52:12.534Z"
   },
   {
    "duration": 31,
    "start_time": "2022-06-24T18:52:12.540Z"
   },
   {
    "duration": 18,
    "start_time": "2022-06-24T18:52:12.573Z"
   },
   {
    "duration": 3,
    "start_time": "2022-06-24T18:52:12.593Z"
   },
   {
    "duration": 11,
    "start_time": "2022-06-24T18:52:12.598Z"
   },
   {
    "duration": 10,
    "start_time": "2022-06-24T18:52:12.611Z"
   },
   {
    "duration": 6,
    "start_time": "2022-06-24T18:52:12.626Z"
   },
   {
    "duration": 6,
    "start_time": "2022-06-24T18:52:12.634Z"
   },
   {
    "duration": 10,
    "start_time": "2022-06-24T18:52:12.641Z"
   },
   {
    "duration": 210,
    "start_time": "2022-06-24T18:52:12.660Z"
   },
   {
    "duration": 6,
    "start_time": "2022-06-24T18:52:12.873Z"
   },
   {
    "duration": 14,
    "start_time": "2022-06-24T18:52:12.880Z"
   },
   {
    "duration": 3,
    "start_time": "2022-06-24T18:52:12.896Z"
   },
   {
    "duration": 14,
    "start_time": "2022-06-24T18:52:12.901Z"
   },
   {
    "duration": 18,
    "start_time": "2022-06-24T18:52:12.917Z"
   },
   {
    "duration": 178,
    "start_time": "2022-06-24T18:52:12.937Z"
   },
   {
    "duration": 11,
    "start_time": "2022-06-24T18:52:13.116Z"
   },
   {
    "duration": 11,
    "start_time": "2022-06-24T18:52:13.128Z"
   },
   {
    "duration": 19,
    "start_time": "2022-06-24T18:52:13.141Z"
   },
   {
    "duration": 176,
    "start_time": "2022-06-24T18:52:13.162Z"
   },
   {
    "duration": 35,
    "start_time": "2022-06-24T18:52:13.340Z"
   },
   {
    "duration": 13,
    "start_time": "2022-06-24T18:52:13.377Z"
   },
   {
    "duration": 19,
    "start_time": "2022-06-24T18:52:13.391Z"
   },
   {
    "duration": 13,
    "start_time": "2022-06-24T18:52:13.412Z"
   },
   {
    "duration": 6,
    "start_time": "2022-06-24T18:52:13.426Z"
   },
   {
    "duration": 188,
    "start_time": "2022-06-24T18:52:13.433Z"
   },
   {
    "duration": 14,
    "start_time": "2022-06-24T18:52:13.622Z"
   },
   {
    "duration": 4,
    "start_time": "2022-06-24T18:52:13.638Z"
   },
   {
    "duration": 8,
    "start_time": "2022-06-24T18:52:13.658Z"
   },
   {
    "duration": 23,
    "start_time": "2022-06-24T18:52:13.667Z"
   },
   {
    "duration": 10,
    "start_time": "2022-06-24T18:52:13.692Z"
   },
   {
    "duration": 44,
    "start_time": "2022-06-24T18:52:13.704Z"
   },
   {
    "duration": 13,
    "start_time": "2022-06-24T18:52:13.749Z"
   },
   {
    "duration": 5,
    "start_time": "2022-06-24T18:52:13.774Z"
   },
   {
    "duration": 13,
    "start_time": "2022-06-24T18:52:13.781Z"
   },
   {
    "duration": 14,
    "start_time": "2022-06-24T18:52:13.795Z"
   },
   {
    "duration": 11,
    "start_time": "2022-06-24T18:52:13.810Z"
   },
   {
    "duration": 184,
    "start_time": "2022-06-24T18:52:45.409Z"
   },
   {
    "duration": 189,
    "start_time": "2022-06-24T18:52:49.521Z"
   },
   {
    "duration": 288,
    "start_time": "2022-06-24T18:55:49.304Z"
   },
   {
    "duration": 211,
    "start_time": "2022-06-24T18:56:11.339Z"
   },
   {
    "duration": 239,
    "start_time": "2022-06-24T18:56:52.338Z"
   },
   {
    "duration": 367,
    "start_time": "2022-06-24T18:59:09.399Z"
   },
   {
    "duration": 222,
    "start_time": "2022-06-24T18:59:09.770Z"
   },
   {
    "duration": 513,
    "start_time": "2022-06-24T18:59:09.993Z"
   },
   {
    "duration": 71,
    "start_time": "2022-06-24T18:59:10.508Z"
   },
   {
    "duration": 13,
    "start_time": "2022-06-24T18:59:10.581Z"
   },
   {
    "duration": 12,
    "start_time": "2022-06-24T18:59:10.596Z"
   },
   {
    "duration": 20,
    "start_time": "2022-06-24T18:59:10.609Z"
   },
   {
    "duration": 40,
    "start_time": "2022-06-24T18:59:10.631Z"
   },
   {
    "duration": 14,
    "start_time": "2022-06-24T18:59:10.673Z"
   },
   {
    "duration": 20,
    "start_time": "2022-06-24T18:59:10.689Z"
   },
   {
    "duration": 5,
    "start_time": "2022-06-24T18:59:10.711Z"
   },
   {
    "duration": 9,
    "start_time": "2022-06-24T18:59:10.718Z"
   },
   {
    "duration": 14,
    "start_time": "2022-06-24T18:59:10.728Z"
   },
   {
    "duration": 20,
    "start_time": "2022-06-24T18:59:10.743Z"
   },
   {
    "duration": 17,
    "start_time": "2022-06-24T18:59:10.765Z"
   },
   {
    "duration": 9,
    "start_time": "2022-06-24T18:59:10.783Z"
   },
   {
    "duration": 9,
    "start_time": "2022-06-24T18:59:10.794Z"
   },
   {
    "duration": 209,
    "start_time": "2022-06-24T18:59:10.805Z"
   },
   {
    "duration": 6,
    "start_time": "2022-06-24T18:59:11.016Z"
   },
   {
    "duration": 160,
    "start_time": "2022-06-24T18:59:11.024Z"
   },
   {
    "duration": 8,
    "start_time": "2022-06-24T18:59:11.186Z"
   },
   {
    "duration": 6,
    "start_time": "2022-06-24T18:59:11.196Z"
   },
   {
    "duration": 11,
    "start_time": "2022-06-24T18:59:11.204Z"
   },
   {
    "duration": 12,
    "start_time": "2022-06-24T18:59:11.216Z"
   },
   {
    "duration": 3,
    "start_time": "2022-06-24T18:59:11.229Z"
   },
   {
    "duration": 25,
    "start_time": "2022-06-24T18:59:11.234Z"
   },
   {
    "duration": 21,
    "start_time": "2022-06-24T18:59:11.260Z"
   },
   {
    "duration": 7,
    "start_time": "2022-06-24T18:59:11.284Z"
   },
   {
    "duration": 6,
    "start_time": "2022-06-24T18:59:11.292Z"
   },
   {
    "duration": 95,
    "start_time": "2022-06-24T18:59:11.299Z"
   },
   {
    "duration": 0,
    "start_time": "2022-06-24T18:59:11.396Z"
   },
   {
    "duration": 0,
    "start_time": "2022-06-24T18:59:11.397Z"
   },
   {
    "duration": 0,
    "start_time": "2022-06-24T18:59:11.399Z"
   },
   {
    "duration": 0,
    "start_time": "2022-06-24T18:59:11.400Z"
   },
   {
    "duration": 0,
    "start_time": "2022-06-24T18:59:11.401Z"
   },
   {
    "duration": 0,
    "start_time": "2022-06-24T18:59:11.403Z"
   },
   {
    "duration": 0,
    "start_time": "2022-06-24T18:59:11.404Z"
   },
   {
    "duration": 0,
    "start_time": "2022-06-24T18:59:11.405Z"
   },
   {
    "duration": 0,
    "start_time": "2022-06-24T18:59:11.407Z"
   },
   {
    "duration": 0,
    "start_time": "2022-06-24T18:59:11.409Z"
   },
   {
    "duration": 0,
    "start_time": "2022-06-24T18:59:11.410Z"
   },
   {
    "duration": 0,
    "start_time": "2022-06-24T18:59:11.412Z"
   },
   {
    "duration": 0,
    "start_time": "2022-06-24T18:59:11.413Z"
   },
   {
    "duration": 0,
    "start_time": "2022-06-24T18:59:11.415Z"
   },
   {
    "duration": 0,
    "start_time": "2022-06-24T18:59:11.416Z"
   },
   {
    "duration": 0,
    "start_time": "2022-06-24T18:59:11.417Z"
   },
   {
    "duration": 0,
    "start_time": "2022-06-24T18:59:11.418Z"
   },
   {
    "duration": 0,
    "start_time": "2022-06-24T18:59:11.420Z"
   },
   {
    "duration": 0,
    "start_time": "2022-06-24T18:59:11.463Z"
   },
   {
    "duration": 0,
    "start_time": "2022-06-24T18:59:11.468Z"
   },
   {
    "duration": 0,
    "start_time": "2022-06-24T18:59:11.468Z"
   },
   {
    "duration": 0,
    "start_time": "2022-06-24T18:59:11.469Z"
   },
   {
    "duration": 1,
    "start_time": "2022-06-24T18:59:11.469Z"
   },
   {
    "duration": 0,
    "start_time": "2022-06-24T18:59:11.471Z"
   },
   {
    "duration": 0,
    "start_time": "2022-06-24T18:59:11.473Z"
   },
   {
    "duration": 0,
    "start_time": "2022-06-24T18:59:11.474Z"
   },
   {
    "duration": 0,
    "start_time": "2022-06-24T18:59:11.475Z"
   },
   {
    "duration": 0,
    "start_time": "2022-06-24T18:59:11.477Z"
   },
   {
    "duration": 0,
    "start_time": "2022-06-24T18:59:11.478Z"
   },
   {
    "duration": 359,
    "start_time": "2022-06-24T18:59:38.624Z"
   },
   {
    "duration": 211,
    "start_time": "2022-06-24T18:59:38.984Z"
   },
   {
    "duration": 484,
    "start_time": "2022-06-24T18:59:39.199Z"
   },
   {
    "duration": 65,
    "start_time": "2022-06-24T18:59:39.685Z"
   },
   {
    "duration": 16,
    "start_time": "2022-06-24T18:59:39.752Z"
   },
   {
    "duration": 18,
    "start_time": "2022-06-24T18:59:39.771Z"
   },
   {
    "duration": 18,
    "start_time": "2022-06-24T18:59:39.791Z"
   },
   {
    "duration": 5,
    "start_time": "2022-06-24T18:59:39.811Z"
   },
   {
    "duration": 9,
    "start_time": "2022-06-24T18:59:39.819Z"
   },
   {
    "duration": 43,
    "start_time": "2022-06-24T18:59:39.830Z"
   },
   {
    "duration": 6,
    "start_time": "2022-06-24T18:59:39.875Z"
   },
   {
    "duration": 8,
    "start_time": "2022-06-24T18:59:39.882Z"
   },
   {
    "duration": 13,
    "start_time": "2022-06-24T18:59:39.891Z"
   },
   {
    "duration": 6,
    "start_time": "2022-06-24T18:59:39.906Z"
   },
   {
    "duration": 11,
    "start_time": "2022-06-24T18:59:39.913Z"
   },
   {
    "duration": 4,
    "start_time": "2022-06-24T18:59:39.925Z"
   },
   {
    "duration": 34,
    "start_time": "2022-06-24T18:59:39.930Z"
   },
   {
    "duration": 212,
    "start_time": "2022-06-24T18:59:39.965Z"
   },
   {
    "duration": 7,
    "start_time": "2022-06-24T18:59:40.179Z"
   },
   {
    "duration": 160,
    "start_time": "2022-06-24T18:59:40.187Z"
   },
   {
    "duration": 11,
    "start_time": "2022-06-24T18:59:40.349Z"
   },
   {
    "duration": 5,
    "start_time": "2022-06-24T18:59:40.372Z"
   },
   {
    "duration": 9,
    "start_time": "2022-06-24T18:59:40.379Z"
   },
   {
    "duration": 17,
    "start_time": "2022-06-24T18:59:40.389Z"
   },
   {
    "duration": 2,
    "start_time": "2022-06-24T18:59:40.408Z"
   },
   {
    "duration": 7,
    "start_time": "2022-06-24T18:59:40.412Z"
   },
   {
    "duration": 13,
    "start_time": "2022-06-24T18:59:40.423Z"
   },
   {
    "duration": 20,
    "start_time": "2022-06-24T18:59:40.437Z"
   },
   {
    "duration": 33,
    "start_time": "2022-06-24T18:59:40.459Z"
   },
   {
    "duration": 116,
    "start_time": "2022-06-24T18:59:40.494Z"
   },
   {
    "duration": 0,
    "start_time": "2022-06-24T18:59:40.611Z"
   },
   {
    "duration": 0,
    "start_time": "2022-06-24T18:59:40.613Z"
   },
   {
    "duration": 0,
    "start_time": "2022-06-24T18:59:40.614Z"
   },
   {
    "duration": 0,
    "start_time": "2022-06-24T18:59:40.615Z"
   },
   {
    "duration": 0,
    "start_time": "2022-06-24T18:59:40.616Z"
   },
   {
    "duration": 0,
    "start_time": "2022-06-24T18:59:40.617Z"
   },
   {
    "duration": 0,
    "start_time": "2022-06-24T18:59:40.618Z"
   },
   {
    "duration": 0,
    "start_time": "2022-06-24T18:59:40.619Z"
   },
   {
    "duration": 0,
    "start_time": "2022-06-24T18:59:40.620Z"
   },
   {
    "duration": 0,
    "start_time": "2022-06-24T18:59:40.622Z"
   },
   {
    "duration": 0,
    "start_time": "2022-06-24T18:59:40.623Z"
   },
   {
    "duration": 0,
    "start_time": "2022-06-24T18:59:40.623Z"
   },
   {
    "duration": 0,
    "start_time": "2022-06-24T18:59:40.624Z"
   },
   {
    "duration": 0,
    "start_time": "2022-06-24T18:59:40.625Z"
   },
   {
    "duration": 1,
    "start_time": "2022-06-24T18:59:40.626Z"
   },
   {
    "duration": 0,
    "start_time": "2022-06-24T18:59:40.660Z"
   },
   {
    "duration": 0,
    "start_time": "2022-06-24T18:59:40.661Z"
   },
   {
    "duration": 0,
    "start_time": "2022-06-24T18:59:40.662Z"
   },
   {
    "duration": 0,
    "start_time": "2022-06-24T18:59:40.663Z"
   },
   {
    "duration": 1,
    "start_time": "2022-06-24T18:59:40.663Z"
   },
   {
    "duration": 0,
    "start_time": "2022-06-24T18:59:40.664Z"
   },
   {
    "duration": 0,
    "start_time": "2022-06-24T18:59:40.665Z"
   },
   {
    "duration": 0,
    "start_time": "2022-06-24T18:59:40.666Z"
   },
   {
    "duration": 0,
    "start_time": "2022-06-24T18:59:40.667Z"
   },
   {
    "duration": 0,
    "start_time": "2022-06-24T18:59:40.668Z"
   },
   {
    "duration": 0,
    "start_time": "2022-06-24T18:59:40.669Z"
   },
   {
    "duration": 0,
    "start_time": "2022-06-24T18:59:40.670Z"
   },
   {
    "duration": 0,
    "start_time": "2022-06-24T18:59:40.671Z"
   },
   {
    "duration": 0,
    "start_time": "2022-06-24T18:59:40.671Z"
   },
   {
    "duration": 9,
    "start_time": "2022-06-24T19:01:47.777Z"
   },
   {
    "duration": 411,
    "start_time": "2022-06-24T19:03:46.674Z"
   },
   {
    "duration": 260,
    "start_time": "2022-06-24T19:03:47.087Z"
   },
   {
    "duration": 505,
    "start_time": "2022-06-24T19:03:47.349Z"
   },
   {
    "duration": 74,
    "start_time": "2022-06-24T19:03:47.856Z"
   },
   {
    "duration": 15,
    "start_time": "2022-06-24T19:03:47.932Z"
   },
   {
    "duration": 15,
    "start_time": "2022-06-24T19:03:47.949Z"
   },
   {
    "duration": 28,
    "start_time": "2022-06-24T19:03:47.970Z"
   },
   {
    "duration": 7,
    "start_time": "2022-06-24T19:03:47.999Z"
   },
   {
    "duration": 14,
    "start_time": "2022-06-24T19:03:48.007Z"
   },
   {
    "duration": 24,
    "start_time": "2022-06-24T19:03:48.023Z"
   },
   {
    "duration": 16,
    "start_time": "2022-06-24T19:03:48.049Z"
   },
   {
    "duration": 11,
    "start_time": "2022-06-24T19:03:48.066Z"
   },
   {
    "duration": 18,
    "start_time": "2022-06-24T19:03:48.079Z"
   },
   {
    "duration": 6,
    "start_time": "2022-06-24T19:03:48.103Z"
   },
   {
    "duration": 19,
    "start_time": "2022-06-24T19:03:48.111Z"
   },
   {
    "duration": 10,
    "start_time": "2022-06-24T19:03:48.131Z"
   },
   {
    "duration": 30,
    "start_time": "2022-06-24T19:03:48.143Z"
   },
   {
    "duration": 218,
    "start_time": "2022-06-24T19:03:48.175Z"
   },
   {
    "duration": 7,
    "start_time": "2022-06-24T19:03:48.394Z"
   },
   {
    "duration": 175,
    "start_time": "2022-06-24T19:03:48.403Z"
   },
   {
    "duration": 12,
    "start_time": "2022-06-24T19:03:48.579Z"
   },
   {
    "duration": 6,
    "start_time": "2022-06-24T19:03:48.592Z"
   },
   {
    "duration": 11,
    "start_time": "2022-06-24T19:03:48.599Z"
   },
   {
    "duration": 16,
    "start_time": "2022-06-24T19:03:48.611Z"
   },
   {
    "duration": 3,
    "start_time": "2022-06-24T19:03:48.629Z"
   },
   {
    "duration": 25,
    "start_time": "2022-06-24T19:03:48.634Z"
   },
   {
    "duration": 14,
    "start_time": "2022-06-24T19:03:48.661Z"
   },
   {
    "duration": 12,
    "start_time": "2022-06-24T19:03:48.679Z"
   },
   {
    "duration": 13,
    "start_time": "2022-06-24T19:03:48.692Z"
   },
   {
    "duration": 23,
    "start_time": "2022-06-24T19:03:48.709Z"
   },
   {
    "duration": 139,
    "start_time": "2022-06-24T19:03:48.734Z"
   },
   {
    "duration": 0,
    "start_time": "2022-06-24T19:03:48.875Z"
   },
   {
    "duration": 0,
    "start_time": "2022-06-24T19:03:48.877Z"
   },
   {
    "duration": 0,
    "start_time": "2022-06-24T19:03:48.878Z"
   },
   {
    "duration": 0,
    "start_time": "2022-06-24T19:03:48.879Z"
   },
   {
    "duration": 0,
    "start_time": "2022-06-24T19:03:48.880Z"
   },
   {
    "duration": 0,
    "start_time": "2022-06-24T19:03:48.881Z"
   },
   {
    "duration": 0,
    "start_time": "2022-06-24T19:03:48.882Z"
   },
   {
    "duration": 0,
    "start_time": "2022-06-24T19:03:48.884Z"
   },
   {
    "duration": 0,
    "start_time": "2022-06-24T19:03:48.885Z"
   },
   {
    "duration": 0,
    "start_time": "2022-06-24T19:03:48.887Z"
   },
   {
    "duration": 0,
    "start_time": "2022-06-24T19:03:48.889Z"
   },
   {
    "duration": 0,
    "start_time": "2022-06-24T19:03:48.890Z"
   },
   {
    "duration": 0,
    "start_time": "2022-06-24T19:03:48.891Z"
   },
   {
    "duration": 0,
    "start_time": "2022-06-24T19:03:48.892Z"
   },
   {
    "duration": 0,
    "start_time": "2022-06-24T19:03:48.893Z"
   },
   {
    "duration": 0,
    "start_time": "2022-06-24T19:03:48.894Z"
   },
   {
    "duration": 0,
    "start_time": "2022-06-24T19:03:48.895Z"
   },
   {
    "duration": 0,
    "start_time": "2022-06-24T19:03:48.896Z"
   },
   {
    "duration": 0,
    "start_time": "2022-06-24T19:03:48.897Z"
   },
   {
    "duration": 0,
    "start_time": "2022-06-24T19:03:48.898Z"
   },
   {
    "duration": 0,
    "start_time": "2022-06-24T19:03:48.899Z"
   },
   {
    "duration": 1,
    "start_time": "2022-06-24T19:03:48.900Z"
   },
   {
    "duration": 0,
    "start_time": "2022-06-24T19:03:48.901Z"
   },
   {
    "duration": 0,
    "start_time": "2022-06-24T19:03:48.902Z"
   },
   {
    "duration": 0,
    "start_time": "2022-06-24T19:03:48.904Z"
   },
   {
    "duration": 0,
    "start_time": "2022-06-24T19:03:48.905Z"
   },
   {
    "duration": 0,
    "start_time": "2022-06-24T19:03:48.906Z"
   },
   {
    "duration": 0,
    "start_time": "2022-06-24T19:03:48.907Z"
   },
   {
    "duration": 0,
    "start_time": "2022-06-24T19:03:48.908Z"
   },
   {
    "duration": 8,
    "start_time": "2022-06-24T19:04:06.861Z"
   },
   {
    "duration": 4,
    "start_time": "2022-06-24T19:04:56.449Z"
   },
   {
    "duration": 8,
    "start_time": "2022-06-24T19:04:57.513Z"
   },
   {
    "duration": 235,
    "start_time": "2022-06-24T19:05:01.408Z"
   },
   {
    "duration": 220,
    "start_time": "2022-06-24T19:07:19.951Z"
   },
   {
    "duration": 210,
    "start_time": "2022-06-24T19:17:19.431Z"
   },
   {
    "duration": 8,
    "start_time": "2022-06-24T19:20:56.125Z"
   },
   {
    "duration": 413,
    "start_time": "2022-06-24T19:21:01.530Z"
   },
   {
    "duration": 385,
    "start_time": "2022-06-24T19:21:01.964Z"
   },
   {
    "duration": 524,
    "start_time": "2022-06-24T19:21:02.351Z"
   },
   {
    "duration": 72,
    "start_time": "2022-06-24T19:21:02.877Z"
   },
   {
    "duration": 17,
    "start_time": "2022-06-24T19:21:02.951Z"
   },
   {
    "duration": 23,
    "start_time": "2022-06-24T19:21:02.974Z"
   },
   {
    "duration": 31,
    "start_time": "2022-06-24T19:21:02.999Z"
   },
   {
    "duration": 6,
    "start_time": "2022-06-24T19:21:03.032Z"
   },
   {
    "duration": 26,
    "start_time": "2022-06-24T19:21:03.039Z"
   },
   {
    "duration": 35,
    "start_time": "2022-06-24T19:21:03.069Z"
   },
   {
    "duration": 6,
    "start_time": "2022-06-24T19:21:03.106Z"
   },
   {
    "duration": 9,
    "start_time": "2022-06-24T19:21:03.114Z"
   },
   {
    "duration": 16,
    "start_time": "2022-06-24T19:21:03.125Z"
   },
   {
    "duration": 6,
    "start_time": "2022-06-24T19:21:03.143Z"
   },
   {
    "duration": 16,
    "start_time": "2022-06-24T19:21:03.151Z"
   },
   {
    "duration": 9,
    "start_time": "2022-06-24T19:21:03.169Z"
   },
   {
    "duration": 13,
    "start_time": "2022-06-24T19:21:03.179Z"
   },
   {
    "duration": 207,
    "start_time": "2022-06-24T19:21:03.193Z"
   },
   {
    "duration": 7,
    "start_time": "2022-06-24T19:21:03.402Z"
   },
   {
    "duration": 175,
    "start_time": "2022-06-24T19:21:03.410Z"
   },
   {
    "duration": 9,
    "start_time": "2022-06-24T19:21:03.587Z"
   },
   {
    "duration": 15,
    "start_time": "2022-06-24T19:21:03.597Z"
   },
   {
    "duration": 14,
    "start_time": "2022-06-24T19:21:03.613Z"
   },
   {
    "duration": 14,
    "start_time": "2022-06-24T19:21:03.628Z"
   },
   {
    "duration": 3,
    "start_time": "2022-06-24T19:21:03.643Z"
   },
   {
    "duration": 13,
    "start_time": "2022-06-24T19:21:03.647Z"
   },
   {
    "duration": 24,
    "start_time": "2022-06-24T19:21:03.662Z"
   },
   {
    "duration": 9,
    "start_time": "2022-06-24T19:21:03.689Z"
   },
   {
    "duration": 6,
    "start_time": "2022-06-24T19:21:03.700Z"
   },
   {
    "duration": 14,
    "start_time": "2022-06-24T19:21:03.707Z"
   },
   {
    "duration": 11,
    "start_time": "2022-06-24T19:21:03.723Z"
   },
   {
    "duration": 8,
    "start_time": "2022-06-24T19:21:03.736Z"
   },
   {
    "duration": 23,
    "start_time": "2022-06-24T19:21:03.745Z"
   },
   {
    "duration": 211,
    "start_time": "2022-06-24T19:21:03.770Z"
   },
   {
    "duration": 5,
    "start_time": "2022-06-24T19:21:03.983Z"
   },
   {
    "duration": 14,
    "start_time": "2022-06-24T19:21:03.989Z"
   },
   {
    "duration": 2,
    "start_time": "2022-06-24T19:21:04.005Z"
   },
   {
    "duration": 14,
    "start_time": "2022-06-24T19:21:04.009Z"
   },
   {
    "duration": 18,
    "start_time": "2022-06-24T19:21:04.024Z"
   },
   {
    "duration": 155,
    "start_time": "2022-06-24T19:21:04.044Z"
   },
   {
    "duration": 11,
    "start_time": "2022-06-24T19:21:04.200Z"
   },
   {
    "duration": 12,
    "start_time": "2022-06-24T19:21:04.212Z"
   },
   {
    "duration": 14,
    "start_time": "2022-06-24T19:21:04.225Z"
   },
   {
    "duration": 174,
    "start_time": "2022-06-24T19:21:04.240Z"
   },
   {
    "duration": 12,
    "start_time": "2022-06-24T19:21:04.415Z"
   },
   {
    "duration": 11,
    "start_time": "2022-06-24T19:21:04.429Z"
   },
   {
    "duration": 39,
    "start_time": "2022-06-24T19:21:04.442Z"
   },
   {
    "duration": 12,
    "start_time": "2022-06-24T19:21:04.483Z"
   },
   {
    "duration": 6,
    "start_time": "2022-06-24T19:21:04.497Z"
   },
   {
    "duration": 206,
    "start_time": "2022-06-24T19:21:04.504Z"
   },
   {
    "duration": 13,
    "start_time": "2022-06-24T19:21:04.712Z"
   },
   {
    "duration": 3,
    "start_time": "2022-06-24T19:21:04.727Z"
   },
   {
    "duration": 7,
    "start_time": "2022-06-24T19:21:04.732Z"
   },
   {
    "duration": 30,
    "start_time": "2022-06-24T19:21:04.740Z"
   },
   {
    "duration": 10,
    "start_time": "2022-06-24T19:21:04.774Z"
   },
   {
    "duration": 108,
    "start_time": "2022-06-24T19:21:04.785Z"
   },
   {
    "duration": 10,
    "start_time": "2022-06-24T19:21:04.895Z"
   },
   {
    "duration": 6,
    "start_time": "2022-06-24T19:21:04.907Z"
   },
   {
    "duration": 15,
    "start_time": "2022-06-24T19:21:04.915Z"
   },
   {
    "duration": 11,
    "start_time": "2022-06-24T19:21:04.932Z"
   },
   {
    "duration": 5,
    "start_time": "2022-06-24T19:21:04.945Z"
   },
   {
    "duration": 398,
    "start_time": "2022-06-24T19:21:35.125Z"
   },
   {
    "duration": 237,
    "start_time": "2022-06-24T19:21:35.525Z"
   },
   {
    "duration": 491,
    "start_time": "2022-06-24T19:21:35.764Z"
   },
   {
    "duration": 72,
    "start_time": "2022-06-24T19:21:36.263Z"
   },
   {
    "duration": 13,
    "start_time": "2022-06-24T19:21:36.337Z"
   },
   {
    "duration": 29,
    "start_time": "2022-06-24T19:21:36.352Z"
   },
   {
    "duration": 17,
    "start_time": "2022-06-24T19:21:36.383Z"
   },
   {
    "duration": 6,
    "start_time": "2022-06-24T19:21:36.401Z"
   },
   {
    "duration": 12,
    "start_time": "2022-06-24T19:21:36.409Z"
   },
   {
    "duration": 17,
    "start_time": "2022-06-24T19:21:36.424Z"
   },
   {
    "duration": 24,
    "start_time": "2022-06-24T19:21:36.443Z"
   },
   {
    "duration": 15,
    "start_time": "2022-06-24T19:21:36.471Z"
   },
   {
    "duration": 29,
    "start_time": "2022-06-24T19:21:36.487Z"
   },
   {
    "duration": 12,
    "start_time": "2022-06-24T19:21:36.518Z"
   },
   {
    "duration": 18,
    "start_time": "2022-06-24T19:21:36.531Z"
   },
   {
    "duration": 5,
    "start_time": "2022-06-24T19:21:36.551Z"
   },
   {
    "duration": 34,
    "start_time": "2022-06-24T19:21:36.557Z"
   },
   {
    "duration": 226,
    "start_time": "2022-06-24T19:21:36.592Z"
   },
   {
    "duration": 7,
    "start_time": "2022-06-24T19:21:36.820Z"
   },
   {
    "duration": 164,
    "start_time": "2022-06-24T19:21:36.828Z"
   },
   {
    "duration": 9,
    "start_time": "2022-06-24T19:21:36.993Z"
   },
   {
    "duration": 18,
    "start_time": "2022-06-24T19:21:37.004Z"
   },
   {
    "duration": 18,
    "start_time": "2022-06-24T19:21:37.024Z"
   },
   {
    "duration": 19,
    "start_time": "2022-06-24T19:21:37.043Z"
   },
   {
    "duration": 17,
    "start_time": "2022-06-24T19:21:37.073Z"
   },
   {
    "duration": 13,
    "start_time": "2022-06-24T19:21:37.092Z"
   },
   {
    "duration": 19,
    "start_time": "2022-06-24T19:21:37.106Z"
   },
   {
    "duration": 9,
    "start_time": "2022-06-24T19:21:37.130Z"
   },
   {
    "duration": 14,
    "start_time": "2022-06-24T19:21:37.140Z"
   },
   {
    "duration": 37,
    "start_time": "2022-06-24T19:21:37.155Z"
   },
   {
    "duration": 19,
    "start_time": "2022-06-24T19:21:37.194Z"
   },
   {
    "duration": 24,
    "start_time": "2022-06-24T19:21:37.215Z"
   },
   {
    "duration": 35,
    "start_time": "2022-06-24T19:21:37.241Z"
   },
   {
    "duration": 276,
    "start_time": "2022-06-24T19:21:37.277Z"
   },
   {
    "duration": 20,
    "start_time": "2022-06-24T19:21:37.555Z"
   },
   {
    "duration": 20,
    "start_time": "2022-06-24T19:21:37.577Z"
   },
   {
    "duration": 8,
    "start_time": "2022-06-24T19:21:37.599Z"
   },
   {
    "duration": 13,
    "start_time": "2022-06-24T19:21:37.609Z"
   },
   {
    "duration": 27,
    "start_time": "2022-06-24T19:21:37.624Z"
   },
   {
    "duration": 158,
    "start_time": "2022-06-24T19:21:37.653Z"
   },
   {
    "duration": 12,
    "start_time": "2022-06-24T19:21:37.812Z"
   },
   {
    "duration": 18,
    "start_time": "2022-06-24T19:21:37.825Z"
   },
   {
    "duration": 28,
    "start_time": "2022-06-24T19:21:37.844Z"
   },
   {
    "duration": 163,
    "start_time": "2022-06-24T19:21:37.874Z"
   },
   {
    "duration": 11,
    "start_time": "2022-06-24T19:21:38.039Z"
   },
   {
    "duration": 27,
    "start_time": "2022-06-24T19:21:38.052Z"
   },
   {
    "duration": 38,
    "start_time": "2022-06-24T19:21:38.080Z"
   },
   {
    "duration": 14,
    "start_time": "2022-06-24T19:21:38.120Z"
   },
   {
    "duration": 6,
    "start_time": "2022-06-24T19:21:38.135Z"
   },
   {
    "duration": 207,
    "start_time": "2022-06-24T19:21:38.142Z"
   },
   {
    "duration": 20,
    "start_time": "2022-06-24T19:21:38.351Z"
   },
   {
    "duration": 7,
    "start_time": "2022-06-24T19:21:38.373Z"
   },
   {
    "duration": 15,
    "start_time": "2022-06-24T19:21:38.381Z"
   },
   {
    "duration": 20,
    "start_time": "2022-06-24T19:21:38.397Z"
   },
   {
    "duration": 17,
    "start_time": "2022-06-24T19:21:38.419Z"
   },
   {
    "duration": 64,
    "start_time": "2022-06-24T19:21:38.437Z"
   },
   {
    "duration": 11,
    "start_time": "2022-06-24T19:21:38.503Z"
   },
   {
    "duration": 13,
    "start_time": "2022-06-24T19:21:38.516Z"
   },
   {
    "duration": 52,
    "start_time": "2022-06-24T19:21:38.530Z"
   },
   {
    "duration": 12,
    "start_time": "2022-06-24T19:21:38.583Z"
   },
   {
    "duration": 24,
    "start_time": "2022-06-24T19:21:38.596Z"
   },
   {
    "duration": 8,
    "start_time": "2022-06-24T19:22:15.877Z"
   },
   {
    "duration": 399,
    "start_time": "2022-06-24T19:22:21.705Z"
   },
   {
    "duration": 242,
    "start_time": "2022-06-24T19:22:22.106Z"
   },
   {
    "duration": 501,
    "start_time": "2022-06-24T19:22:22.350Z"
   },
   {
    "duration": 72,
    "start_time": "2022-06-24T19:22:22.852Z"
   },
   {
    "duration": 15,
    "start_time": "2022-06-24T19:22:22.926Z"
   },
   {
    "duration": 13,
    "start_time": "2022-06-24T19:22:22.942Z"
   },
   {
    "duration": 24,
    "start_time": "2022-06-24T19:22:22.957Z"
   },
   {
    "duration": 7,
    "start_time": "2022-06-24T19:22:22.982Z"
   },
   {
    "duration": 13,
    "start_time": "2022-06-24T19:22:22.990Z"
   },
   {
    "duration": 29,
    "start_time": "2022-06-24T19:22:23.007Z"
   },
   {
    "duration": 32,
    "start_time": "2022-06-24T19:22:23.038Z"
   },
   {
    "duration": 16,
    "start_time": "2022-06-24T19:22:23.073Z"
   },
   {
    "duration": 14,
    "start_time": "2022-06-24T19:22:23.092Z"
   },
   {
    "duration": 6,
    "start_time": "2022-06-24T19:22:23.109Z"
   },
   {
    "duration": 14,
    "start_time": "2022-06-24T19:22:23.117Z"
   },
   {
    "duration": 4,
    "start_time": "2022-06-24T19:22:23.132Z"
   },
   {
    "duration": 33,
    "start_time": "2022-06-24T19:22:23.137Z"
   },
   {
    "duration": 213,
    "start_time": "2022-06-24T19:22:23.172Z"
   },
   {
    "duration": 7,
    "start_time": "2022-06-24T19:22:23.386Z"
   },
   {
    "duration": 171,
    "start_time": "2022-06-24T19:22:23.395Z"
   },
   {
    "duration": 11,
    "start_time": "2022-06-24T19:22:23.568Z"
   },
   {
    "duration": 9,
    "start_time": "2022-06-24T19:22:23.580Z"
   },
   {
    "duration": 10,
    "start_time": "2022-06-24T19:22:23.590Z"
   },
   {
    "duration": 12,
    "start_time": "2022-06-24T19:22:23.602Z"
   },
   {
    "duration": 2,
    "start_time": "2022-06-24T19:22:23.616Z"
   },
   {
    "duration": 8,
    "start_time": "2022-06-24T19:22:23.620Z"
   },
   {
    "duration": 14,
    "start_time": "2022-06-24T19:22:23.629Z"
   },
   {
    "duration": 24,
    "start_time": "2022-06-24T19:22:23.647Z"
   },
   {
    "duration": 8,
    "start_time": "2022-06-24T19:22:23.674Z"
   },
   {
    "duration": 18,
    "start_time": "2022-06-24T19:22:23.684Z"
   },
   {
    "duration": 9,
    "start_time": "2022-06-24T19:22:23.704Z"
   },
   {
    "duration": 20,
    "start_time": "2022-06-24T19:22:23.714Z"
   },
   {
    "duration": 6,
    "start_time": "2022-06-24T19:22:23.736Z"
   },
   {
    "duration": 28,
    "start_time": "2022-06-24T19:22:23.744Z"
   },
   {
    "duration": 214,
    "start_time": "2022-06-24T19:22:23.774Z"
   },
   {
    "duration": 6,
    "start_time": "2022-06-24T19:22:23.990Z"
   },
   {
    "duration": 12,
    "start_time": "2022-06-24T19:22:23.998Z"
   },
   {
    "duration": 4,
    "start_time": "2022-06-24T19:22:24.011Z"
   },
   {
    "duration": 12,
    "start_time": "2022-06-24T19:22:24.017Z"
   },
   {
    "duration": 44,
    "start_time": "2022-06-24T19:22:24.030Z"
   },
   {
    "duration": 149,
    "start_time": "2022-06-24T19:22:24.077Z"
   },
   {
    "duration": 12,
    "start_time": "2022-06-24T19:22:24.228Z"
   },
   {
    "duration": 4,
    "start_time": "2022-06-24T19:22:24.242Z"
   },
   {
    "duration": 18,
    "start_time": "2022-06-24T19:22:24.263Z"
   },
   {
    "duration": 190,
    "start_time": "2022-06-24T19:22:24.283Z"
   },
   {
    "duration": 13,
    "start_time": "2022-06-24T19:22:24.475Z"
   },
   {
    "duration": 11,
    "start_time": "2022-06-24T19:22:24.489Z"
   },
   {
    "duration": 17,
    "start_time": "2022-06-24T19:22:24.501Z"
   },
   {
    "duration": 12,
    "start_time": "2022-06-24T19:22:24.520Z"
   },
   {
    "duration": 30,
    "start_time": "2022-06-24T19:22:24.534Z"
   },
   {
    "duration": 197,
    "start_time": "2022-06-24T19:22:24.566Z"
   },
   {
    "duration": 20,
    "start_time": "2022-06-24T19:22:24.768Z"
   },
   {
    "duration": 4,
    "start_time": "2022-06-24T19:22:24.789Z"
   },
   {
    "duration": 6,
    "start_time": "2022-06-24T19:22:24.795Z"
   },
   {
    "duration": 11,
    "start_time": "2022-06-24T19:22:24.803Z"
   },
   {
    "duration": 8,
    "start_time": "2022-06-24T19:22:24.816Z"
   },
   {
    "duration": 57,
    "start_time": "2022-06-24T19:22:24.826Z"
   },
   {
    "duration": 12,
    "start_time": "2022-06-24T19:22:24.885Z"
   },
   {
    "duration": 5,
    "start_time": "2022-06-24T19:22:24.899Z"
   },
   {
    "duration": 14,
    "start_time": "2022-06-24T19:22:24.905Z"
   },
   {
    "duration": 9,
    "start_time": "2022-06-24T19:22:24.921Z"
   },
   {
    "duration": 6,
    "start_time": "2022-06-24T19:22:24.932Z"
   },
   {
    "duration": 241,
    "start_time": "2022-06-24T19:39:26.516Z"
   },
   {
    "duration": 427,
    "start_time": "2022-06-24T19:39:35.685Z"
   },
   {
    "duration": 282,
    "start_time": "2022-06-24T19:39:36.114Z"
   },
   {
    "duration": 483,
    "start_time": "2022-06-24T19:39:36.398Z"
   },
   {
    "duration": 68,
    "start_time": "2022-06-24T19:39:36.885Z"
   },
   {
    "duration": 18,
    "start_time": "2022-06-24T19:39:36.955Z"
   },
   {
    "duration": 31,
    "start_time": "2022-06-24T19:39:36.975Z"
   },
   {
    "duration": 24,
    "start_time": "2022-06-24T19:39:37.007Z"
   },
   {
    "duration": 6,
    "start_time": "2022-06-24T19:39:37.032Z"
   },
   {
    "duration": 27,
    "start_time": "2022-06-24T19:39:37.039Z"
   },
   {
    "duration": 44,
    "start_time": "2022-06-24T19:39:37.070Z"
   },
   {
    "duration": 10,
    "start_time": "2022-06-24T19:39:37.116Z"
   },
   {
    "duration": 18,
    "start_time": "2022-06-24T19:39:37.128Z"
   },
   {
    "duration": 66,
    "start_time": "2022-06-24T19:39:37.148Z"
   },
   {
    "duration": 10,
    "start_time": "2022-06-24T19:39:37.218Z"
   },
   {
    "duration": 37,
    "start_time": "2022-06-24T19:39:37.229Z"
   },
   {
    "duration": 41,
    "start_time": "2022-06-24T19:39:37.271Z"
   },
   {
    "duration": 39,
    "start_time": "2022-06-24T19:39:37.314Z"
   },
   {
    "duration": 352,
    "start_time": "2022-06-24T19:39:37.355Z"
   },
   {
    "duration": 7,
    "start_time": "2022-06-24T19:39:37.710Z"
   },
   {
    "duration": 213,
    "start_time": "2022-06-24T19:39:37.719Z"
   },
   {
    "duration": 9,
    "start_time": "2022-06-24T19:39:37.934Z"
   },
   {
    "duration": 15,
    "start_time": "2022-06-24T19:39:37.945Z"
   },
   {
    "duration": 33,
    "start_time": "2022-06-24T19:39:37.965Z"
   },
   {
    "duration": 14,
    "start_time": "2022-06-24T19:39:38.001Z"
   },
   {
    "duration": 3,
    "start_time": "2022-06-24T19:39:38.017Z"
   },
   {
    "duration": 6,
    "start_time": "2022-06-24T19:39:38.022Z"
   },
   {
    "duration": 8,
    "start_time": "2022-06-24T19:39:38.031Z"
   },
   {
    "duration": 9,
    "start_time": "2022-06-24T19:39:38.040Z"
   },
   {
    "duration": 18,
    "start_time": "2022-06-24T19:39:38.050Z"
   },
   {
    "duration": 24,
    "start_time": "2022-06-24T19:39:38.077Z"
   },
   {
    "duration": 12,
    "start_time": "2022-06-24T19:39:38.103Z"
   },
   {
    "duration": 7,
    "start_time": "2022-06-24T19:39:38.117Z"
   },
   {
    "duration": 9,
    "start_time": "2022-06-24T19:39:38.126Z"
   },
   {
    "duration": 12,
    "start_time": "2022-06-24T19:39:38.136Z"
   },
   {
    "duration": 244,
    "start_time": "2022-06-24T19:39:38.150Z"
   },
   {
    "duration": 5,
    "start_time": "2022-06-24T19:39:38.396Z"
   },
   {
    "duration": 15,
    "start_time": "2022-06-24T19:39:38.402Z"
   },
   {
    "duration": 2,
    "start_time": "2022-06-24T19:39:38.419Z"
   },
   {
    "duration": 15,
    "start_time": "2022-06-24T19:39:38.422Z"
   },
   {
    "duration": 31,
    "start_time": "2022-06-24T19:39:38.438Z"
   },
   {
    "duration": 162,
    "start_time": "2022-06-24T19:39:38.474Z"
   },
   {
    "duration": 11,
    "start_time": "2022-06-24T19:39:38.637Z"
   },
   {
    "duration": 17,
    "start_time": "2022-06-24T19:39:38.649Z"
   },
   {
    "duration": 27,
    "start_time": "2022-06-24T19:39:38.667Z"
   },
   {
    "duration": 176,
    "start_time": "2022-06-24T19:39:38.695Z"
   },
   {
    "duration": 12,
    "start_time": "2022-06-24T19:39:38.872Z"
   },
   {
    "duration": 13,
    "start_time": "2022-06-24T19:39:38.885Z"
   },
   {
    "duration": 17,
    "start_time": "2022-06-24T19:39:38.899Z"
   },
   {
    "duration": 12,
    "start_time": "2022-06-24T19:39:38.918Z"
   },
   {
    "duration": 5,
    "start_time": "2022-06-24T19:39:38.932Z"
   },
   {
    "duration": 198,
    "start_time": "2022-06-24T19:39:38.939Z"
   },
   {
    "duration": 23,
    "start_time": "2022-06-24T19:39:39.138Z"
   },
   {
    "duration": 5,
    "start_time": "2022-06-24T19:39:39.171Z"
   },
   {
    "duration": 7,
    "start_time": "2022-06-24T19:39:39.177Z"
   },
   {
    "duration": 10,
    "start_time": "2022-06-24T19:39:39.186Z"
   },
   {
    "duration": 8,
    "start_time": "2022-06-24T19:39:39.197Z"
   },
   {
    "duration": 33,
    "start_time": "2022-06-24T19:39:39.207Z"
   },
   {
    "duration": 10,
    "start_time": "2022-06-24T19:39:39.241Z"
   },
   {
    "duration": 14,
    "start_time": "2022-06-24T19:39:39.252Z"
   },
   {
    "duration": 20,
    "start_time": "2022-06-24T19:39:39.268Z"
   },
   {
    "duration": 9,
    "start_time": "2022-06-24T19:39:39.289Z"
   },
   {
    "duration": 5,
    "start_time": "2022-06-24T19:39:39.300Z"
   },
   {
    "duration": 212,
    "start_time": "2022-06-24T19:40:01.888Z"
   },
   {
    "duration": 493,
    "start_time": "2022-06-24T19:40:06.940Z"
   },
   {
    "duration": 265,
    "start_time": "2022-06-24T19:40:07.436Z"
   },
   {
    "duration": 519,
    "start_time": "2022-06-24T19:40:07.703Z"
   },
   {
    "duration": 74,
    "start_time": "2022-06-24T19:40:08.224Z"
   },
   {
    "duration": 13,
    "start_time": "2022-06-24T19:40:08.300Z"
   },
   {
    "duration": 11,
    "start_time": "2022-06-24T19:40:08.315Z"
   },
   {
    "duration": 43,
    "start_time": "2022-06-24T19:40:08.328Z"
   },
   {
    "duration": 7,
    "start_time": "2022-06-24T19:40:08.372Z"
   },
   {
    "duration": 13,
    "start_time": "2022-06-24T19:40:08.380Z"
   },
   {
    "duration": 20,
    "start_time": "2022-06-24T19:40:08.396Z"
   },
   {
    "duration": 7,
    "start_time": "2022-06-24T19:40:08.418Z"
   },
   {
    "duration": 13,
    "start_time": "2022-06-24T19:40:08.427Z"
   },
   {
    "duration": 16,
    "start_time": "2022-06-24T19:40:08.463Z"
   },
   {
    "duration": 12,
    "start_time": "2022-06-24T19:40:08.481Z"
   },
   {
    "duration": 19,
    "start_time": "2022-06-24T19:40:08.495Z"
   },
   {
    "duration": 7,
    "start_time": "2022-06-24T19:40:08.516Z"
   },
   {
    "duration": 11,
    "start_time": "2022-06-24T19:40:08.524Z"
   },
   {
    "duration": 213,
    "start_time": "2022-06-24T19:40:08.536Z"
   },
   {
    "duration": 17,
    "start_time": "2022-06-24T19:40:08.751Z"
   },
   {
    "duration": 174,
    "start_time": "2022-06-24T19:40:08.769Z"
   },
   {
    "duration": 9,
    "start_time": "2022-06-24T19:40:08.944Z"
   },
   {
    "duration": 15,
    "start_time": "2022-06-24T19:40:08.954Z"
   },
   {
    "duration": 11,
    "start_time": "2022-06-24T19:40:08.975Z"
   },
   {
    "duration": 15,
    "start_time": "2022-06-24T19:40:08.988Z"
   },
   {
    "duration": 4,
    "start_time": "2022-06-24T19:40:09.004Z"
   },
   {
    "duration": 12,
    "start_time": "2022-06-24T19:40:09.009Z"
   },
   {
    "duration": 10,
    "start_time": "2022-06-24T19:40:09.023Z"
   },
   {
    "duration": 8,
    "start_time": "2022-06-24T19:40:09.037Z"
   },
   {
    "duration": 8,
    "start_time": "2022-06-24T19:40:09.047Z"
   },
   {
    "duration": 31,
    "start_time": "2022-06-24T19:40:09.057Z"
   },
   {
    "duration": 10,
    "start_time": "2022-06-24T19:40:09.090Z"
   },
   {
    "duration": 6,
    "start_time": "2022-06-24T19:40:09.102Z"
   },
   {
    "duration": 8,
    "start_time": "2022-06-24T19:40:09.109Z"
   },
   {
    "duration": 11,
    "start_time": "2022-06-24T19:40:09.118Z"
   },
   {
    "duration": 218,
    "start_time": "2022-06-24T19:40:09.131Z"
   },
   {
    "duration": 7,
    "start_time": "2022-06-24T19:40:09.367Z"
   },
   {
    "duration": 12,
    "start_time": "2022-06-24T19:40:09.376Z"
   },
   {
    "duration": 3,
    "start_time": "2022-06-24T19:40:09.390Z"
   },
   {
    "duration": 14,
    "start_time": "2022-06-24T19:40:09.395Z"
   },
   {
    "duration": 22,
    "start_time": "2022-06-24T19:40:09.411Z"
   },
   {
    "duration": 153,
    "start_time": "2022-06-24T19:40:09.435Z"
   },
   {
    "duration": 11,
    "start_time": "2022-06-24T19:40:09.589Z"
   },
   {
    "duration": 4,
    "start_time": "2022-06-24T19:40:09.601Z"
   },
   {
    "duration": 9,
    "start_time": "2022-06-24T19:40:09.607Z"
   },
   {
    "duration": 190,
    "start_time": "2022-06-24T19:40:09.618Z"
   },
   {
    "duration": 12,
    "start_time": "2022-06-24T19:40:09.810Z"
   },
   {
    "duration": 13,
    "start_time": "2022-06-24T19:40:09.823Z"
   },
   {
    "duration": 37,
    "start_time": "2022-06-24T19:40:09.838Z"
   },
   {
    "duration": 13,
    "start_time": "2022-06-24T19:40:09.877Z"
   },
   {
    "duration": 10,
    "start_time": "2022-06-24T19:40:09.891Z"
   },
   {
    "duration": 208,
    "start_time": "2022-06-24T19:40:09.903Z"
   },
   {
    "duration": 14,
    "start_time": "2022-06-24T19:40:10.113Z"
   },
   {
    "duration": 4,
    "start_time": "2022-06-24T19:40:10.128Z"
   },
   {
    "duration": 9,
    "start_time": "2022-06-24T19:40:10.133Z"
   },
   {
    "duration": 11,
    "start_time": "2022-06-24T19:40:10.159Z"
   },
   {
    "duration": 13,
    "start_time": "2022-06-24T19:40:10.173Z"
   },
   {
    "duration": 55,
    "start_time": "2022-06-24T19:40:10.188Z"
   },
   {
    "duration": 11,
    "start_time": "2022-06-24T19:40:10.245Z"
   },
   {
    "duration": 22,
    "start_time": "2022-06-24T19:40:10.258Z"
   },
   {
    "duration": 19,
    "start_time": "2022-06-24T19:40:10.282Z"
   },
   {
    "duration": 10,
    "start_time": "2022-06-24T19:40:10.303Z"
   },
   {
    "duration": 5,
    "start_time": "2022-06-24T19:40:10.314Z"
   },
   {
    "duration": 193,
    "start_time": "2022-06-24T19:42:15.847Z"
   },
   {
    "duration": 210,
    "start_time": "2022-06-24T19:42:55.337Z"
   },
   {
    "duration": 278,
    "start_time": "2022-06-24T19:43:48.407Z"
   },
   {
    "duration": 421,
    "start_time": "2022-06-24T19:44:58.629Z"
   },
   {
    "duration": 237,
    "start_time": "2022-06-24T19:44:59.052Z"
   },
   {
    "duration": 476,
    "start_time": "2022-06-24T19:44:59.291Z"
   },
   {
    "duration": 67,
    "start_time": "2022-06-24T19:44:59.769Z"
   },
   {
    "duration": 13,
    "start_time": "2022-06-24T19:44:59.838Z"
   },
   {
    "duration": 17,
    "start_time": "2022-06-24T19:44:59.853Z"
   },
   {
    "duration": 17,
    "start_time": "2022-06-24T19:44:59.872Z"
   },
   {
    "duration": 6,
    "start_time": "2022-06-24T19:44:59.891Z"
   },
   {
    "duration": 11,
    "start_time": "2022-06-24T19:44:59.898Z"
   },
   {
    "duration": 25,
    "start_time": "2022-06-24T19:44:59.911Z"
   },
   {
    "duration": 26,
    "start_time": "2022-06-24T19:44:59.937Z"
   },
   {
    "duration": 40,
    "start_time": "2022-06-24T19:44:59.968Z"
   },
   {
    "duration": 23,
    "start_time": "2022-06-24T19:45:00.009Z"
   },
   {
    "duration": 9,
    "start_time": "2022-06-24T19:45:00.033Z"
   },
   {
    "duration": 27,
    "start_time": "2022-06-24T19:45:00.044Z"
   },
   {
    "duration": 6,
    "start_time": "2022-06-24T19:45:00.073Z"
   },
   {
    "duration": 16,
    "start_time": "2022-06-24T19:45:00.081Z"
   },
   {
    "duration": 205,
    "start_time": "2022-06-24T19:45:00.099Z"
   },
   {
    "duration": 7,
    "start_time": "2022-06-24T19:45:00.306Z"
   },
   {
    "duration": 171,
    "start_time": "2022-06-24T19:45:00.315Z"
   },
   {
    "duration": 9,
    "start_time": "2022-06-24T19:45:00.489Z"
   },
   {
    "duration": 17,
    "start_time": "2022-06-24T19:45:00.500Z"
   },
   {
    "duration": 26,
    "start_time": "2022-06-24T19:45:00.518Z"
   },
   {
    "duration": 50,
    "start_time": "2022-06-24T19:45:00.546Z"
   },
   {
    "duration": 7,
    "start_time": "2022-06-24T19:45:00.598Z"
   },
   {
    "duration": 30,
    "start_time": "2022-06-24T19:45:00.606Z"
   },
   {
    "duration": 54,
    "start_time": "2022-06-24T19:45:00.638Z"
   },
   {
    "duration": 10,
    "start_time": "2022-06-24T19:45:00.696Z"
   },
   {
    "duration": 15,
    "start_time": "2022-06-24T19:45:00.708Z"
   },
   {
    "duration": 32,
    "start_time": "2022-06-24T19:45:00.725Z"
   },
   {
    "duration": 24,
    "start_time": "2022-06-24T19:45:00.759Z"
   },
   {
    "duration": 15,
    "start_time": "2022-06-24T19:45:00.785Z"
   },
   {
    "duration": 11,
    "start_time": "2022-06-24T19:45:00.802Z"
   },
   {
    "duration": 47,
    "start_time": "2022-06-24T19:45:00.815Z"
   },
   {
    "duration": 237,
    "start_time": "2022-06-24T19:45:00.864Z"
   },
   {
    "duration": 6,
    "start_time": "2022-06-24T19:45:01.102Z"
   },
   {
    "duration": 35,
    "start_time": "2022-06-24T19:45:01.109Z"
   },
   {
    "duration": 25,
    "start_time": "2022-06-24T19:45:01.146Z"
   },
   {
    "duration": 18,
    "start_time": "2022-06-24T19:45:01.173Z"
   },
   {
    "duration": 42,
    "start_time": "2022-06-24T19:45:01.193Z"
   },
   {
    "duration": 252,
    "start_time": "2022-06-24T19:45:01.237Z"
   },
   {
    "duration": 11,
    "start_time": "2022-06-24T19:45:01.491Z"
   },
   {
    "duration": 75,
    "start_time": "2022-06-24T19:45:01.503Z"
   },
   {
    "duration": 63,
    "start_time": "2022-06-24T19:45:01.580Z"
   },
   {
    "duration": 100,
    "start_time": "2022-06-24T19:45:01.645Z"
   },
   {
    "duration": 131,
    "start_time": "2022-06-24T19:45:01.746Z"
   },
   {
    "duration": 136,
    "start_time": "2022-06-24T19:45:01.879Z"
   },
   {
    "duration": 318,
    "start_time": "2022-06-24T19:45:02.016Z"
   },
   {
    "duration": 200,
    "start_time": "2022-06-24T19:45:02.335Z"
   },
   {
    "duration": 12,
    "start_time": "2022-06-24T19:45:02.536Z"
   },
   {
    "duration": 32,
    "start_time": "2022-06-24T19:45:02.550Z"
   },
   {
    "duration": 31,
    "start_time": "2022-06-24T19:45:02.584Z"
   },
   {
    "duration": 21,
    "start_time": "2022-06-24T19:45:02.617Z"
   },
   {
    "duration": 11,
    "start_time": "2022-06-24T19:45:02.640Z"
   },
   {
    "duration": 197,
    "start_time": "2022-06-24T19:45:02.652Z"
   },
   {
    "duration": 30,
    "start_time": "2022-06-24T19:45:02.851Z"
   },
   {
    "duration": 14,
    "start_time": "2022-06-24T19:45:02.882Z"
   },
   {
    "duration": 11,
    "start_time": "2022-06-24T19:45:02.897Z"
   },
   {
    "duration": 13,
    "start_time": "2022-06-24T19:45:02.909Z"
   },
   {
    "duration": 13,
    "start_time": "2022-06-24T19:45:02.924Z"
   },
   {
    "duration": 194,
    "start_time": "2022-06-24T19:45:02.939Z"
   },
   {
    "duration": 11,
    "start_time": "2022-06-24T19:45:03.135Z"
   },
   {
    "duration": 6,
    "start_time": "2022-06-24T19:45:03.148Z"
   },
   {
    "duration": 26,
    "start_time": "2022-06-24T19:45:03.156Z"
   },
   {
    "duration": 8,
    "start_time": "2022-06-24T19:45:03.184Z"
   },
   {
    "duration": 6,
    "start_time": "2022-06-24T19:45:03.194Z"
   },
   {
    "duration": 202,
    "start_time": "2022-06-24T19:51:36.282Z"
   },
   {
    "duration": 300,
    "start_time": "2022-06-24T19:51:47.375Z"
   },
   {
    "duration": 1226,
    "start_time": "2022-06-24T19:52:20.208Z"
   },
   {
    "duration": 217,
    "start_time": "2022-06-24T19:52:37.496Z"
   },
   {
    "duration": 200,
    "start_time": "2022-06-24T19:52:45.429Z"
   },
   {
    "duration": 244,
    "start_time": "2022-06-24T19:53:33.645Z"
   },
   {
    "duration": 234,
    "start_time": "2022-06-24T19:53:47.567Z"
   },
   {
    "duration": 407,
    "start_time": "2022-06-24T20:08:26.111Z"
   },
   {
    "duration": 268,
    "start_time": "2022-06-24T20:08:26.520Z"
   },
   {
    "duration": 551,
    "start_time": "2022-06-24T20:08:26.790Z"
   },
   {
    "duration": 96,
    "start_time": "2022-06-24T20:08:27.343Z"
   },
   {
    "duration": 21,
    "start_time": "2022-06-24T20:08:27.441Z"
   },
   {
    "duration": 55,
    "start_time": "2022-06-24T20:08:27.463Z"
   },
   {
    "duration": 66,
    "start_time": "2022-06-24T20:08:27.520Z"
   },
   {
    "duration": 25,
    "start_time": "2022-06-24T20:08:27.587Z"
   },
   {
    "duration": 30,
    "start_time": "2022-06-24T20:08:27.614Z"
   },
   {
    "duration": 46,
    "start_time": "2022-06-24T20:08:27.648Z"
   },
   {
    "duration": 24,
    "start_time": "2022-06-24T20:08:27.697Z"
   },
   {
    "duration": 32,
    "start_time": "2022-06-24T20:08:27.723Z"
   },
   {
    "duration": 45,
    "start_time": "2022-06-24T20:08:27.757Z"
   },
   {
    "duration": 8,
    "start_time": "2022-06-24T20:08:27.804Z"
   },
   {
    "duration": 12,
    "start_time": "2022-06-24T20:08:27.814Z"
   },
   {
    "duration": 4,
    "start_time": "2022-06-24T20:08:27.827Z"
   },
   {
    "duration": 10,
    "start_time": "2022-06-24T20:08:27.832Z"
   },
   {
    "duration": 232,
    "start_time": "2022-06-24T20:08:27.844Z"
   },
   {
    "duration": 7,
    "start_time": "2022-06-24T20:08:28.077Z"
   },
   {
    "duration": 163,
    "start_time": "2022-06-24T20:08:28.086Z"
   },
   {
    "duration": 13,
    "start_time": "2022-06-24T20:08:28.250Z"
   },
   {
    "duration": 5,
    "start_time": "2022-06-24T20:08:28.268Z"
   },
   {
    "duration": 16,
    "start_time": "2022-06-24T20:08:28.275Z"
   },
   {
    "duration": 12,
    "start_time": "2022-06-24T20:08:28.292Z"
   },
   {
    "duration": 3,
    "start_time": "2022-06-24T20:08:28.306Z"
   },
   {
    "duration": 7,
    "start_time": "2022-06-24T20:08:28.310Z"
   },
   {
    "duration": 12,
    "start_time": "2022-06-24T20:08:28.318Z"
   },
   {
    "duration": 8,
    "start_time": "2022-06-24T20:08:28.335Z"
   },
   {
    "duration": 34,
    "start_time": "2022-06-24T20:08:28.344Z"
   },
   {
    "duration": 19,
    "start_time": "2022-06-24T20:08:28.380Z"
   },
   {
    "duration": 9,
    "start_time": "2022-06-24T20:08:28.401Z"
   },
   {
    "duration": 6,
    "start_time": "2022-06-24T20:08:28.412Z"
   },
   {
    "duration": 6,
    "start_time": "2022-06-24T20:08:28.420Z"
   },
   {
    "duration": 11,
    "start_time": "2022-06-24T20:08:28.428Z"
   },
   {
    "duration": 213,
    "start_time": "2022-06-24T20:08:28.442Z"
   },
   {
    "duration": 20,
    "start_time": "2022-06-24T20:08:28.659Z"
   },
   {
    "duration": 12,
    "start_time": "2022-06-24T20:08:28.680Z"
   },
   {
    "duration": 3,
    "start_time": "2022-06-24T20:08:28.694Z"
   },
   {
    "duration": 13,
    "start_time": "2022-06-24T20:08:28.698Z"
   },
   {
    "duration": 18,
    "start_time": "2022-06-24T20:08:28.713Z"
   },
   {
    "duration": 163,
    "start_time": "2022-06-24T20:08:28.733Z"
   },
   {
    "duration": 10,
    "start_time": "2022-06-24T20:08:28.898Z"
   },
   {
    "duration": 9,
    "start_time": "2022-06-24T20:08:28.910Z"
   },
   {
    "duration": 3,
    "start_time": "2022-06-24T20:08:28.921Z"
   },
   {
    "duration": 9,
    "start_time": "2022-06-24T20:08:28.926Z"
   },
   {
    "duration": 15,
    "start_time": "2022-06-24T20:08:28.960Z"
   },
   {
    "duration": 20,
    "start_time": "2022-06-24T20:08:28.976Z"
   },
   {
    "duration": 196,
    "start_time": "2022-06-24T20:08:28.997Z"
   },
   {
    "duration": 209,
    "start_time": "2022-06-24T20:08:29.195Z"
   },
   {
    "duration": 12,
    "start_time": "2022-06-24T20:08:29.406Z"
   },
   {
    "duration": 13,
    "start_time": "2022-06-24T20:08:29.419Z"
   },
   {
    "duration": 43,
    "start_time": "2022-06-24T20:08:29.434Z"
   },
   {
    "duration": 22,
    "start_time": "2022-06-24T20:08:29.479Z"
   },
   {
    "duration": 6,
    "start_time": "2022-06-24T20:08:29.503Z"
   },
   {
    "duration": 230,
    "start_time": "2022-06-24T20:08:29.510Z"
   },
   {
    "duration": 22,
    "start_time": "2022-06-24T20:08:29.741Z"
   },
   {
    "duration": 7,
    "start_time": "2022-06-24T20:08:29.772Z"
   },
   {
    "duration": 10,
    "start_time": "2022-06-24T20:08:29.781Z"
   },
   {
    "duration": 12,
    "start_time": "2022-06-24T20:08:29.793Z"
   },
   {
    "duration": 13,
    "start_time": "2022-06-24T20:08:29.806Z"
   },
   {
    "duration": 5,
    "start_time": "2022-06-24T20:08:29.821Z"
   },
   {
    "duration": 114,
    "start_time": "2022-06-24T20:08:29.828Z"
   },
   {
    "duration": 0,
    "start_time": "2022-06-24T20:08:29.944Z"
   },
   {
    "duration": 0,
    "start_time": "2022-06-24T20:08:29.945Z"
   },
   {
    "duration": 0,
    "start_time": "2022-06-24T20:08:29.947Z"
   },
   {
    "duration": 0,
    "start_time": "2022-06-24T20:08:29.948Z"
   },
   {
    "duration": 0,
    "start_time": "2022-06-24T20:08:29.949Z"
   },
   {
    "duration": 0,
    "start_time": "2022-06-24T20:08:29.950Z"
   },
   {
    "duration": 434,
    "start_time": "2022-06-24T20:08:47.940Z"
   },
   {
    "duration": 242,
    "start_time": "2022-06-24T20:08:48.377Z"
   },
   {
    "duration": 535,
    "start_time": "2022-06-24T20:08:48.620Z"
   },
   {
    "duration": 76,
    "start_time": "2022-06-24T20:08:49.157Z"
   },
   {
    "duration": 15,
    "start_time": "2022-06-24T20:08:49.234Z"
   },
   {
    "duration": 17,
    "start_time": "2022-06-24T20:08:49.251Z"
   },
   {
    "duration": 34,
    "start_time": "2022-06-24T20:08:49.270Z"
   },
   {
    "duration": 5,
    "start_time": "2022-06-24T20:08:49.306Z"
   },
   {
    "duration": 14,
    "start_time": "2022-06-24T20:08:49.313Z"
   },
   {
    "duration": 18,
    "start_time": "2022-06-24T20:08:49.330Z"
   },
   {
    "duration": 15,
    "start_time": "2022-06-24T20:08:49.350Z"
   },
   {
    "duration": 30,
    "start_time": "2022-06-24T20:08:49.367Z"
   },
   {
    "duration": 14,
    "start_time": "2022-06-24T20:08:49.399Z"
   },
   {
    "duration": 7,
    "start_time": "2022-06-24T20:08:49.415Z"
   },
   {
    "duration": 11,
    "start_time": "2022-06-24T20:08:49.424Z"
   },
   {
    "duration": 4,
    "start_time": "2022-06-24T20:08:49.436Z"
   },
   {
    "duration": 12,
    "start_time": "2022-06-24T20:08:49.441Z"
   },
   {
    "duration": 234,
    "start_time": "2022-06-24T20:08:49.454Z"
   },
   {
    "duration": 7,
    "start_time": "2022-06-24T20:08:49.691Z"
   },
   {
    "duration": 192,
    "start_time": "2022-06-24T20:08:49.699Z"
   },
   {
    "duration": 9,
    "start_time": "2022-06-24T20:08:49.893Z"
   },
   {
    "duration": 4,
    "start_time": "2022-06-24T20:08:49.903Z"
   },
   {
    "duration": 10,
    "start_time": "2022-06-24T20:08:49.908Z"
   },
   {
    "duration": 13,
    "start_time": "2022-06-24T20:08:49.919Z"
   },
   {
    "duration": 3,
    "start_time": "2022-06-24T20:08:49.934Z"
   },
   {
    "duration": 28,
    "start_time": "2022-06-24T20:08:49.939Z"
   },
   {
    "duration": 13,
    "start_time": "2022-06-24T20:08:49.972Z"
   },
   {
    "duration": 7,
    "start_time": "2022-06-24T20:08:49.989Z"
   },
   {
    "duration": 19,
    "start_time": "2022-06-24T20:08:49.997Z"
   },
   {
    "duration": 16,
    "start_time": "2022-06-24T20:08:50.017Z"
   },
   {
    "duration": 17,
    "start_time": "2022-06-24T20:08:50.035Z"
   },
   {
    "duration": 30,
    "start_time": "2022-06-24T20:08:50.054Z"
   },
   {
    "duration": 8,
    "start_time": "2022-06-24T20:08:50.085Z"
   },
   {
    "duration": 11,
    "start_time": "2022-06-24T20:08:50.094Z"
   },
   {
    "duration": 226,
    "start_time": "2022-06-24T20:08:50.106Z"
   },
   {
    "duration": 6,
    "start_time": "2022-06-24T20:08:50.334Z"
   },
   {
    "duration": 29,
    "start_time": "2022-06-24T20:08:50.341Z"
   },
   {
    "duration": 22,
    "start_time": "2022-06-24T20:08:50.371Z"
   },
   {
    "duration": 17,
    "start_time": "2022-06-24T20:08:50.394Z"
   },
   {
    "duration": 19,
    "start_time": "2022-06-24T20:08:50.412Z"
   },
   {
    "duration": 166,
    "start_time": "2022-06-24T20:08:50.433Z"
   },
   {
    "duration": 10,
    "start_time": "2022-06-24T20:08:50.601Z"
   },
   {
    "duration": 12,
    "start_time": "2022-06-24T20:08:50.613Z"
   },
   {
    "duration": 4,
    "start_time": "2022-06-24T20:08:50.626Z"
   },
   {
    "duration": 11,
    "start_time": "2022-06-24T20:08:50.631Z"
   },
   {
    "duration": 24,
    "start_time": "2022-06-24T20:08:50.643Z"
   },
   {
    "duration": 26,
    "start_time": "2022-06-24T20:08:50.669Z"
   },
   {
    "duration": 209,
    "start_time": "2022-06-24T20:08:50.696Z"
   },
   {
    "duration": 217,
    "start_time": "2022-06-24T20:08:50.907Z"
   },
   {
    "duration": 12,
    "start_time": "2022-06-24T20:08:51.126Z"
   },
   {
    "duration": 38,
    "start_time": "2022-06-24T20:08:51.141Z"
   },
   {
    "duration": 19,
    "start_time": "2022-06-24T20:08:51.182Z"
   },
   {
    "duration": 18,
    "start_time": "2022-06-24T20:08:51.203Z"
   },
   {
    "duration": 7,
    "start_time": "2022-06-24T20:08:51.223Z"
   },
   {
    "duration": 256,
    "start_time": "2022-06-24T20:08:51.232Z"
   },
   {
    "duration": 16,
    "start_time": "2022-06-24T20:08:51.490Z"
   },
   {
    "duration": 4,
    "start_time": "2022-06-24T20:08:51.508Z"
   },
   {
    "duration": 5,
    "start_time": "2022-06-24T20:08:51.514Z"
   },
   {
    "duration": 10,
    "start_time": "2022-06-24T20:08:51.521Z"
   },
   {
    "duration": 37,
    "start_time": "2022-06-24T20:08:51.532Z"
   },
   {
    "duration": 17,
    "start_time": "2022-06-24T20:08:51.571Z"
   },
   {
    "duration": 115,
    "start_time": "2022-06-24T20:08:51.590Z"
   },
   {
    "duration": 0,
    "start_time": "2022-06-24T20:08:51.707Z"
   },
   {
    "duration": 0,
    "start_time": "2022-06-24T20:08:51.708Z"
   },
   {
    "duration": 0,
    "start_time": "2022-06-24T20:08:51.709Z"
   },
   {
    "duration": 0,
    "start_time": "2022-06-24T20:08:51.710Z"
   },
   {
    "duration": 0,
    "start_time": "2022-06-24T20:08:51.711Z"
   },
   {
    "duration": 0,
    "start_time": "2022-06-24T20:08:51.712Z"
   },
   {
    "duration": 382,
    "start_time": "2022-06-24T20:10:55.518Z"
   },
   {
    "duration": 241,
    "start_time": "2022-06-24T20:10:55.902Z"
   },
   {
    "duration": 522,
    "start_time": "2022-06-24T20:10:56.145Z"
   },
   {
    "duration": 72,
    "start_time": "2022-06-24T20:10:56.672Z"
   },
   {
    "duration": 19,
    "start_time": "2022-06-24T20:10:56.745Z"
   },
   {
    "duration": 16,
    "start_time": "2022-06-24T20:10:56.766Z"
   },
   {
    "duration": 21,
    "start_time": "2022-06-24T20:10:56.783Z"
   },
   {
    "duration": 5,
    "start_time": "2022-06-24T20:10:56.805Z"
   },
   {
    "duration": 12,
    "start_time": "2022-06-24T20:10:56.812Z"
   },
   {
    "duration": 40,
    "start_time": "2022-06-24T20:10:56.826Z"
   },
   {
    "duration": 7,
    "start_time": "2022-06-24T20:10:56.869Z"
   },
   {
    "duration": 10,
    "start_time": "2022-06-24T20:10:56.878Z"
   },
   {
    "duration": 12,
    "start_time": "2022-06-24T20:10:56.889Z"
   },
   {
    "duration": 7,
    "start_time": "2022-06-24T20:10:56.903Z"
   },
   {
    "duration": 12,
    "start_time": "2022-06-24T20:10:56.911Z"
   },
   {
    "duration": 3,
    "start_time": "2022-06-24T20:10:56.925Z"
   },
   {
    "duration": 33,
    "start_time": "2022-06-24T20:10:56.929Z"
   },
   {
    "duration": 242,
    "start_time": "2022-06-24T20:10:56.963Z"
   },
   {
    "duration": 9,
    "start_time": "2022-06-24T20:10:57.208Z"
   },
   {
    "duration": 204,
    "start_time": "2022-06-24T20:10:57.219Z"
   },
   {
    "duration": 14,
    "start_time": "2022-06-24T20:10:57.425Z"
   },
   {
    "duration": 54,
    "start_time": "2022-06-24T20:10:57.441Z"
   },
   {
    "duration": 12,
    "start_time": "2022-06-24T20:10:57.498Z"
   },
   {
    "duration": 22,
    "start_time": "2022-06-24T20:10:57.511Z"
   },
   {
    "duration": 4,
    "start_time": "2022-06-24T20:10:57.534Z"
   },
   {
    "duration": 13,
    "start_time": "2022-06-24T20:10:57.540Z"
   },
   {
    "duration": 27,
    "start_time": "2022-06-24T20:10:57.554Z"
   },
   {
    "duration": 11,
    "start_time": "2022-06-24T20:10:57.585Z"
   },
   {
    "duration": 7,
    "start_time": "2022-06-24T20:10:57.597Z"
   },
   {
    "duration": 17,
    "start_time": "2022-06-24T20:10:57.606Z"
   },
   {
    "duration": 9,
    "start_time": "2022-06-24T20:10:57.625Z"
   },
   {
    "duration": 7,
    "start_time": "2022-06-24T20:10:57.635Z"
   },
   {
    "duration": 10,
    "start_time": "2022-06-24T20:10:57.644Z"
   },
   {
    "duration": 25,
    "start_time": "2022-06-24T20:10:57.656Z"
   },
   {
    "duration": 210,
    "start_time": "2022-06-24T20:10:57.683Z"
   },
   {
    "duration": 6,
    "start_time": "2022-06-24T20:10:57.895Z"
   },
   {
    "duration": 14,
    "start_time": "2022-06-24T20:10:57.902Z"
   },
   {
    "duration": 3,
    "start_time": "2022-06-24T20:10:57.917Z"
   },
   {
    "duration": 16,
    "start_time": "2022-06-24T20:10:57.922Z"
   },
   {
    "duration": 35,
    "start_time": "2022-06-24T20:10:57.940Z"
   },
   {
    "duration": 150,
    "start_time": "2022-06-24T20:10:57.977Z"
   },
   {
    "duration": 11,
    "start_time": "2022-06-24T20:10:58.129Z"
   },
   {
    "duration": 29,
    "start_time": "2022-06-24T20:10:58.142Z"
   },
   {
    "duration": 7,
    "start_time": "2022-06-24T20:10:58.174Z"
   },
   {
    "duration": 6,
    "start_time": "2022-06-24T20:10:58.182Z"
   },
   {
    "duration": 10,
    "start_time": "2022-06-24T20:10:58.189Z"
   },
   {
    "duration": 11,
    "start_time": "2022-06-24T20:10:58.201Z"
   },
   {
    "duration": 196,
    "start_time": "2022-06-24T20:10:58.214Z"
   },
   {
    "duration": 200,
    "start_time": "2022-06-24T20:10:58.411Z"
   },
   {
    "duration": 13,
    "start_time": "2022-06-24T20:10:58.613Z"
   },
   {
    "duration": 12,
    "start_time": "2022-06-24T20:10:58.627Z"
   },
   {
    "duration": 39,
    "start_time": "2022-06-24T20:10:58.641Z"
   },
   {
    "duration": 14,
    "start_time": "2022-06-24T20:10:58.681Z"
   },
   {
    "duration": 7,
    "start_time": "2022-06-24T20:10:58.697Z"
   },
   {
    "duration": 264,
    "start_time": "2022-06-24T20:10:58.706Z"
   },
   {
    "duration": 15,
    "start_time": "2022-06-24T20:10:58.979Z"
   },
   {
    "duration": 12,
    "start_time": "2022-06-24T20:10:58.996Z"
   },
   {
    "duration": 10,
    "start_time": "2022-06-24T20:10:59.010Z"
   },
   {
    "duration": 13,
    "start_time": "2022-06-24T20:10:59.022Z"
   },
   {
    "duration": 14,
    "start_time": "2022-06-24T20:10:59.037Z"
   },
   {
    "duration": 15,
    "start_time": "2022-06-24T20:10:59.053Z"
   },
   {
    "duration": 111,
    "start_time": "2022-06-24T20:10:59.075Z"
   },
   {
    "duration": 0,
    "start_time": "2022-06-24T20:10:59.188Z"
   },
   {
    "duration": 0,
    "start_time": "2022-06-24T20:10:59.190Z"
   },
   {
    "duration": 0,
    "start_time": "2022-06-24T20:10:59.192Z"
   },
   {
    "duration": 0,
    "start_time": "2022-06-24T20:10:59.193Z"
   },
   {
    "duration": 0,
    "start_time": "2022-06-24T20:10:59.195Z"
   },
   {
    "duration": 1,
    "start_time": "2022-06-24T20:10:59.195Z"
   },
   {
    "duration": 409,
    "start_time": "2022-06-24T20:11:59.898Z"
   },
   {
    "duration": 260,
    "start_time": "2022-06-24T20:12:00.308Z"
   },
   {
    "duration": 527,
    "start_time": "2022-06-24T20:12:00.570Z"
   },
   {
    "duration": 74,
    "start_time": "2022-06-24T20:12:01.099Z"
   },
   {
    "duration": 16,
    "start_time": "2022-06-24T20:12:01.176Z"
   },
   {
    "duration": 15,
    "start_time": "2022-06-24T20:12:01.194Z"
   },
   {
    "duration": 26,
    "start_time": "2022-06-24T20:12:01.211Z"
   },
   {
    "duration": 22,
    "start_time": "2022-06-24T20:12:01.239Z"
   },
   {
    "duration": 33,
    "start_time": "2022-06-24T20:12:01.266Z"
   },
   {
    "duration": 27,
    "start_time": "2022-06-24T20:12:01.302Z"
   },
   {
    "duration": 6,
    "start_time": "2022-06-24T20:12:01.330Z"
   },
   {
    "duration": 66,
    "start_time": "2022-06-24T20:12:01.338Z"
   },
   {
    "duration": 42,
    "start_time": "2022-06-24T20:12:01.405Z"
   },
   {
    "duration": 41,
    "start_time": "2022-06-24T20:12:01.449Z"
   },
   {
    "duration": 15,
    "start_time": "2022-06-24T20:12:01.492Z"
   },
   {
    "duration": 10,
    "start_time": "2022-06-24T20:12:01.509Z"
   },
   {
    "duration": 15,
    "start_time": "2022-06-24T20:12:01.521Z"
   },
   {
    "duration": 216,
    "start_time": "2022-06-24T20:12:01.538Z"
   },
   {
    "duration": 13,
    "start_time": "2022-06-24T20:12:01.758Z"
   },
   {
    "duration": 183,
    "start_time": "2022-06-24T20:12:01.773Z"
   },
   {
    "duration": 13,
    "start_time": "2022-06-24T20:12:01.960Z"
   },
   {
    "duration": 25,
    "start_time": "2022-06-24T20:12:01.975Z"
   },
   {
    "duration": 13,
    "start_time": "2022-06-24T20:12:02.002Z"
   },
   {
    "duration": 21,
    "start_time": "2022-06-24T20:12:02.017Z"
   },
   {
    "duration": 9,
    "start_time": "2022-06-24T20:12:02.039Z"
   },
   {
    "duration": 8,
    "start_time": "2022-06-24T20:12:02.049Z"
   },
   {
    "duration": 35,
    "start_time": "2022-06-24T20:12:02.059Z"
   },
   {
    "duration": 12,
    "start_time": "2022-06-24T20:12:02.098Z"
   },
   {
    "duration": 9,
    "start_time": "2022-06-24T20:12:02.112Z"
   },
   {
    "duration": 14,
    "start_time": "2022-06-24T20:12:02.123Z"
   },
   {
    "duration": 11,
    "start_time": "2022-06-24T20:12:02.138Z"
   },
   {
    "duration": 6,
    "start_time": "2022-06-24T20:12:02.151Z"
   },
   {
    "duration": 22,
    "start_time": "2022-06-24T20:12:02.163Z"
   },
   {
    "duration": 12,
    "start_time": "2022-06-24T20:12:02.187Z"
   },
   {
    "duration": 223,
    "start_time": "2022-06-24T20:12:02.200Z"
   },
   {
    "duration": 6,
    "start_time": "2022-06-24T20:12:02.425Z"
   },
   {
    "duration": 30,
    "start_time": "2022-06-24T20:12:02.432Z"
   },
   {
    "duration": 5,
    "start_time": "2022-06-24T20:12:02.464Z"
   },
   {
    "duration": 47,
    "start_time": "2022-06-24T20:12:02.471Z"
   },
   {
    "duration": 21,
    "start_time": "2022-06-24T20:12:02.519Z"
   },
   {
    "duration": 161,
    "start_time": "2022-06-24T20:12:02.542Z"
   },
   {
    "duration": 10,
    "start_time": "2022-06-24T20:12:02.705Z"
   },
   {
    "duration": 10,
    "start_time": "2022-06-24T20:12:02.717Z"
   },
   {
    "duration": 10,
    "start_time": "2022-06-24T20:12:02.728Z"
   },
   {
    "duration": 21,
    "start_time": "2022-06-24T20:12:02.740Z"
   },
   {
    "duration": 28,
    "start_time": "2022-06-24T20:12:02.769Z"
   },
   {
    "duration": 24,
    "start_time": "2022-06-24T20:12:02.799Z"
   },
   {
    "duration": 221,
    "start_time": "2022-06-24T20:12:02.824Z"
   },
   {
    "duration": 209,
    "start_time": "2022-06-24T20:12:03.047Z"
   },
   {
    "duration": 26,
    "start_time": "2022-06-24T20:12:03.257Z"
   },
   {
    "duration": 21,
    "start_time": "2022-06-24T20:12:03.286Z"
   },
   {
    "duration": 20,
    "start_time": "2022-06-24T20:12:03.308Z"
   },
   {
    "duration": 13,
    "start_time": "2022-06-24T20:12:03.329Z"
   },
   {
    "duration": 11,
    "start_time": "2022-06-24T20:12:03.344Z"
   },
   {
    "duration": 254,
    "start_time": "2022-06-24T20:12:03.356Z"
   },
   {
    "duration": 13,
    "start_time": "2022-06-24T20:12:03.612Z"
   },
   {
    "duration": 3,
    "start_time": "2022-06-24T20:12:03.627Z"
   },
   {
    "duration": 8,
    "start_time": "2022-06-24T20:12:03.632Z"
   },
   {
    "duration": 36,
    "start_time": "2022-06-24T20:12:03.641Z"
   },
   {
    "duration": 20,
    "start_time": "2022-06-24T20:12:03.679Z"
   },
   {
    "duration": 5,
    "start_time": "2022-06-24T20:12:03.701Z"
   },
   {
    "duration": 123,
    "start_time": "2022-06-24T20:12:03.707Z"
   },
   {
    "duration": 0,
    "start_time": "2022-06-24T20:12:03.832Z"
   },
   {
    "duration": 0,
    "start_time": "2022-06-24T20:12:03.834Z"
   },
   {
    "duration": 0,
    "start_time": "2022-06-24T20:12:03.835Z"
   },
   {
    "duration": 0,
    "start_time": "2022-06-24T20:12:03.836Z"
   },
   {
    "duration": 0,
    "start_time": "2022-06-24T20:12:03.838Z"
   },
   {
    "duration": 0,
    "start_time": "2022-06-24T20:12:03.839Z"
   },
   {
    "duration": 38,
    "start_time": "2022-06-24T20:27:34.355Z"
   },
   {
    "duration": 396,
    "start_time": "2022-06-24T20:27:49.225Z"
   },
   {
    "duration": 272,
    "start_time": "2022-06-24T20:27:49.623Z"
   },
   {
    "duration": 515,
    "start_time": "2022-06-24T20:27:49.897Z"
   },
   {
    "duration": 73,
    "start_time": "2022-06-24T20:27:50.414Z"
   },
   {
    "duration": 16,
    "start_time": "2022-06-24T20:27:50.489Z"
   },
   {
    "duration": 13,
    "start_time": "2022-06-24T20:27:50.508Z"
   },
   {
    "duration": 39,
    "start_time": "2022-06-24T20:27:50.523Z"
   },
   {
    "duration": 8,
    "start_time": "2022-06-24T20:27:50.563Z"
   },
   {
    "duration": 27,
    "start_time": "2022-06-24T20:27:50.572Z"
   },
   {
    "duration": 20,
    "start_time": "2022-06-24T20:27:50.602Z"
   },
   {
    "duration": 7,
    "start_time": "2022-06-24T20:27:50.623Z"
   },
   {
    "duration": 9,
    "start_time": "2022-06-24T20:27:50.631Z"
   },
   {
    "duration": 32,
    "start_time": "2022-06-24T20:27:50.641Z"
   },
   {
    "duration": 21,
    "start_time": "2022-06-24T20:27:50.675Z"
   },
   {
    "duration": 17,
    "start_time": "2022-06-24T20:27:50.698Z"
   },
   {
    "duration": 5,
    "start_time": "2022-06-24T20:27:50.717Z"
   },
   {
    "duration": 15,
    "start_time": "2022-06-24T20:27:50.724Z"
   },
   {
    "duration": 265,
    "start_time": "2022-06-24T20:27:50.741Z"
   },
   {
    "duration": 8,
    "start_time": "2022-06-24T20:27:51.008Z"
   },
   {
    "duration": 176,
    "start_time": "2022-06-24T20:27:51.017Z"
   },
   {
    "duration": 10,
    "start_time": "2022-06-24T20:27:51.195Z"
   },
   {
    "duration": 4,
    "start_time": "2022-06-24T20:27:51.207Z"
   },
   {
    "duration": 17,
    "start_time": "2022-06-24T20:27:51.213Z"
   },
   {
    "duration": 35,
    "start_time": "2022-06-24T20:27:51.231Z"
   },
   {
    "duration": 7,
    "start_time": "2022-06-24T20:27:51.267Z"
   },
   {
    "duration": 8,
    "start_time": "2022-06-24T20:27:51.277Z"
   },
   {
    "duration": 16,
    "start_time": "2022-06-24T20:27:51.287Z"
   },
   {
    "duration": 8,
    "start_time": "2022-06-24T20:27:51.308Z"
   },
   {
    "duration": 7,
    "start_time": "2022-06-24T20:27:51.318Z"
   },
   {
    "duration": 14,
    "start_time": "2022-06-24T20:27:51.326Z"
   },
   {
    "duration": 17,
    "start_time": "2022-06-24T20:27:51.363Z"
   },
   {
    "duration": 5,
    "start_time": "2022-06-24T20:27:51.382Z"
   },
   {
    "duration": 7,
    "start_time": "2022-06-24T20:27:51.389Z"
   },
   {
    "duration": 11,
    "start_time": "2022-06-24T20:27:51.398Z"
   },
   {
    "duration": 263,
    "start_time": "2022-06-24T20:27:51.411Z"
   },
   {
    "duration": 6,
    "start_time": "2022-06-24T20:27:51.676Z"
   },
   {
    "duration": 21,
    "start_time": "2022-06-24T20:27:51.683Z"
   },
   {
    "duration": 4,
    "start_time": "2022-06-24T20:27:51.705Z"
   },
   {
    "duration": 23,
    "start_time": "2022-06-24T20:27:51.712Z"
   },
   {
    "duration": 45,
    "start_time": "2022-06-24T20:27:51.738Z"
   },
   {
    "duration": 160,
    "start_time": "2022-06-24T20:27:51.786Z"
   },
   {
    "duration": 18,
    "start_time": "2022-06-24T20:27:51.947Z"
   },
   {
    "duration": 34,
    "start_time": "2022-06-24T20:27:51.966Z"
   },
   {
    "duration": 4,
    "start_time": "2022-06-24T20:27:52.001Z"
   },
   {
    "duration": 8,
    "start_time": "2022-06-24T20:27:52.006Z"
   },
   {
    "duration": 11,
    "start_time": "2022-06-24T20:27:52.016Z"
   },
   {
    "duration": 12,
    "start_time": "2022-06-24T20:27:52.029Z"
   },
   {
    "duration": 212,
    "start_time": "2022-06-24T20:27:52.042Z"
   },
   {
    "duration": 241,
    "start_time": "2022-06-24T20:27:52.255Z"
   },
   {
    "duration": 12,
    "start_time": "2022-06-24T20:27:52.498Z"
   },
   {
    "duration": 13,
    "start_time": "2022-06-24T20:27:52.511Z"
   },
   {
    "duration": 18,
    "start_time": "2022-06-24T20:27:52.526Z"
   },
   {
    "duration": 24,
    "start_time": "2022-06-24T20:27:52.559Z"
   },
   {
    "duration": 9,
    "start_time": "2022-06-24T20:27:52.587Z"
   },
   {
    "duration": 243,
    "start_time": "2022-06-24T20:27:52.598Z"
   },
   {
    "duration": 26,
    "start_time": "2022-06-24T20:27:52.842Z"
   },
   {
    "duration": 8,
    "start_time": "2022-06-24T20:27:52.875Z"
   },
   {
    "duration": 8,
    "start_time": "2022-06-24T20:27:52.885Z"
   },
   {
    "duration": 10,
    "start_time": "2022-06-24T20:27:52.895Z"
   },
   {
    "duration": 8,
    "start_time": "2022-06-24T20:27:52.907Z"
   },
   {
    "duration": 6,
    "start_time": "2022-06-24T20:27:52.917Z"
   },
   {
    "duration": 10,
    "start_time": "2022-06-24T20:27:52.925Z"
   },
   {
    "duration": 152,
    "start_time": "2022-06-24T20:27:52.937Z"
   },
   {
    "duration": 0,
    "start_time": "2022-06-24T20:27:53.091Z"
   },
   {
    "duration": 0,
    "start_time": "2022-06-24T20:27:53.092Z"
   },
   {
    "duration": 0,
    "start_time": "2022-06-24T20:27:53.093Z"
   },
   {
    "duration": 0,
    "start_time": "2022-06-24T20:27:53.094Z"
   },
   {
    "duration": 406,
    "start_time": "2022-06-24T20:29:24.210Z"
   },
   {
    "duration": 288,
    "start_time": "2022-06-24T20:29:24.618Z"
   },
   {
    "duration": 547,
    "start_time": "2022-06-24T20:29:24.908Z"
   },
   {
    "duration": 81,
    "start_time": "2022-06-24T20:29:25.457Z"
   },
   {
    "duration": 13,
    "start_time": "2022-06-24T20:29:25.540Z"
   },
   {
    "duration": 47,
    "start_time": "2022-06-24T20:29:25.554Z"
   },
   {
    "duration": 20,
    "start_time": "2022-06-24T20:29:25.603Z"
   },
   {
    "duration": 6,
    "start_time": "2022-06-24T20:29:25.624Z"
   },
   {
    "duration": 12,
    "start_time": "2022-06-24T20:29:25.631Z"
   },
   {
    "duration": 26,
    "start_time": "2022-06-24T20:29:25.645Z"
   },
   {
    "duration": 23,
    "start_time": "2022-06-24T20:29:25.673Z"
   },
   {
    "duration": 9,
    "start_time": "2022-06-24T20:29:25.698Z"
   },
   {
    "duration": 15,
    "start_time": "2022-06-24T20:29:25.708Z"
   },
   {
    "duration": 8,
    "start_time": "2022-06-24T20:29:25.725Z"
   },
   {
    "duration": 14,
    "start_time": "2022-06-24T20:29:25.734Z"
   },
   {
    "duration": 16,
    "start_time": "2022-06-24T20:29:25.749Z"
   },
   {
    "duration": 20,
    "start_time": "2022-06-24T20:29:25.767Z"
   },
   {
    "duration": 230,
    "start_time": "2022-06-24T20:29:25.788Z"
   },
   {
    "duration": 6,
    "start_time": "2022-06-24T20:29:26.020Z"
   },
   {
    "duration": 184,
    "start_time": "2022-06-24T20:29:26.028Z"
   },
   {
    "duration": 10,
    "start_time": "2022-06-24T20:29:26.214Z"
   },
   {
    "duration": 5,
    "start_time": "2022-06-24T20:29:26.226Z"
   },
   {
    "duration": 10,
    "start_time": "2022-06-24T20:29:26.232Z"
   },
   {
    "duration": 22,
    "start_time": "2022-06-24T20:29:26.260Z"
   },
   {
    "duration": 8,
    "start_time": "2022-06-24T20:29:26.285Z"
   },
   {
    "duration": 10,
    "start_time": "2022-06-24T20:29:26.296Z"
   },
   {
    "duration": 12,
    "start_time": "2022-06-24T20:29:26.307Z"
   },
   {
    "duration": 8,
    "start_time": "2022-06-24T20:29:26.323Z"
   },
   {
    "duration": 12,
    "start_time": "2022-06-24T20:29:26.332Z"
   },
   {
    "duration": 20,
    "start_time": "2022-06-24T20:29:26.346Z"
   },
   {
    "duration": 16,
    "start_time": "2022-06-24T20:29:26.371Z"
   },
   {
    "duration": 8,
    "start_time": "2022-06-24T20:29:26.390Z"
   },
   {
    "duration": 9,
    "start_time": "2022-06-24T20:29:26.400Z"
   },
   {
    "duration": 14,
    "start_time": "2022-06-24T20:29:26.411Z"
   },
   {
    "duration": 253,
    "start_time": "2022-06-24T20:29:26.427Z"
   },
   {
    "duration": 5,
    "start_time": "2022-06-24T20:29:26.682Z"
   },
   {
    "duration": 15,
    "start_time": "2022-06-24T20:29:26.689Z"
   },
   {
    "duration": 11,
    "start_time": "2022-06-24T20:29:26.706Z"
   },
   {
    "duration": 17,
    "start_time": "2022-06-24T20:29:26.719Z"
   },
   {
    "duration": 40,
    "start_time": "2022-06-24T20:29:26.738Z"
   },
   {
    "duration": 159,
    "start_time": "2022-06-24T20:29:26.780Z"
   },
   {
    "duration": 23,
    "start_time": "2022-06-24T20:29:26.941Z"
   },
   {
    "duration": 17,
    "start_time": "2022-06-24T20:29:26.966Z"
   },
   {
    "duration": 4,
    "start_time": "2022-06-24T20:29:26.985Z"
   },
   {
    "duration": 8,
    "start_time": "2022-06-24T20:29:26.991Z"
   },
   {
    "duration": 12,
    "start_time": "2022-06-24T20:29:27.001Z"
   },
   {
    "duration": 10,
    "start_time": "2022-06-24T20:29:27.015Z"
   },
   {
    "duration": 249,
    "start_time": "2022-06-24T20:29:27.027Z"
   },
   {
    "duration": 338,
    "start_time": "2022-06-24T20:29:27.279Z"
   },
   {
    "duration": 12,
    "start_time": "2022-06-24T20:29:27.619Z"
   },
   {
    "duration": 35,
    "start_time": "2022-06-24T20:29:27.632Z"
   },
   {
    "duration": 33,
    "start_time": "2022-06-24T20:29:27.672Z"
   },
   {
    "duration": 13,
    "start_time": "2022-06-24T20:29:27.706Z"
   },
   {
    "duration": 6,
    "start_time": "2022-06-24T20:29:27.720Z"
   },
   {
    "duration": 225,
    "start_time": "2022-06-24T20:29:27.727Z"
   },
   {
    "duration": 27,
    "start_time": "2022-06-24T20:29:27.953Z"
   },
   {
    "duration": 14,
    "start_time": "2022-06-24T20:29:27.984Z"
   },
   {
    "duration": 9,
    "start_time": "2022-06-24T20:29:27.999Z"
   },
   {
    "duration": 12,
    "start_time": "2022-06-24T20:29:28.009Z"
   },
   {
    "duration": 14,
    "start_time": "2022-06-24T20:29:28.022Z"
   },
   {
    "duration": 95,
    "start_time": "2022-06-24T20:29:28.038Z"
   },
   {
    "duration": 4,
    "start_time": "2022-06-24T20:29:28.134Z"
   },
   {
    "duration": 12,
    "start_time": "2022-06-24T20:29:28.139Z"
   },
   {
    "duration": 3,
    "start_time": "2022-06-24T20:29:28.153Z"
   },
   {
    "duration": 44,
    "start_time": "2022-06-24T20:29:28.157Z"
   },
   {
    "duration": 13,
    "start_time": "2022-06-24T20:29:28.203Z"
   },
   {
    "duration": 8,
    "start_time": "2022-06-24T20:29:28.218Z"
   },
   {
    "duration": 614,
    "start_time": "2022-06-24T20:30:56.212Z"
   },
   {
    "duration": 415,
    "start_time": "2022-06-24T20:34:22.919Z"
   },
   {
    "duration": 281,
    "start_time": "2022-06-24T20:34:23.336Z"
   },
   {
    "duration": 527,
    "start_time": "2022-06-24T20:34:23.619Z"
   },
   {
    "duration": 2,
    "start_time": "2022-06-24T20:34:24.148Z"
   },
   {
    "duration": 102,
    "start_time": "2022-06-24T20:34:24.152Z"
   },
   {
    "duration": 19,
    "start_time": "2022-06-24T20:34:24.256Z"
   },
   {
    "duration": 52,
    "start_time": "2022-06-24T20:34:24.278Z"
   },
   {
    "duration": 17,
    "start_time": "2022-06-24T20:34:24.332Z"
   },
   {
    "duration": 6,
    "start_time": "2022-06-24T20:34:24.351Z"
   },
   {
    "duration": 47,
    "start_time": "2022-06-24T20:34:24.364Z"
   },
   {
    "duration": 19,
    "start_time": "2022-06-24T20:34:24.413Z"
   },
   {
    "duration": 7,
    "start_time": "2022-06-24T20:34:24.434Z"
   },
   {
    "duration": 8,
    "start_time": "2022-06-24T20:34:24.443Z"
   },
   {
    "duration": 23,
    "start_time": "2022-06-24T20:34:24.453Z"
   },
   {
    "duration": 38,
    "start_time": "2022-06-24T20:34:24.484Z"
   },
   {
    "duration": 13,
    "start_time": "2022-06-24T20:34:24.524Z"
   },
   {
    "duration": 6,
    "start_time": "2022-06-24T20:34:24.539Z"
   },
   {
    "duration": 21,
    "start_time": "2022-06-24T20:34:24.547Z"
   },
   {
    "duration": 260,
    "start_time": "2022-06-24T20:34:24.570Z"
   },
   {
    "duration": 6,
    "start_time": "2022-06-24T20:34:24.832Z"
   },
   {
    "duration": 182,
    "start_time": "2022-06-24T20:34:24.840Z"
   },
   {
    "duration": 11,
    "start_time": "2022-06-24T20:34:25.024Z"
   },
   {
    "duration": 4,
    "start_time": "2022-06-24T20:34:25.036Z"
   },
   {
    "duration": 22,
    "start_time": "2022-06-24T20:34:25.042Z"
   },
   {
    "duration": 20,
    "start_time": "2022-06-24T20:34:25.066Z"
   },
   {
    "duration": 28,
    "start_time": "2022-06-24T20:34:25.091Z"
   },
   {
    "duration": 8,
    "start_time": "2022-06-24T20:34:25.121Z"
   },
   {
    "duration": 11,
    "start_time": "2022-06-24T20:34:25.133Z"
   },
   {
    "duration": 8,
    "start_time": "2022-06-24T20:34:25.145Z"
   },
   {
    "duration": 12,
    "start_time": "2022-06-24T20:34:25.155Z"
   },
   {
    "duration": 40,
    "start_time": "2022-06-24T20:34:25.171Z"
   },
   {
    "duration": 9,
    "start_time": "2022-06-24T20:34:25.213Z"
   },
   {
    "duration": 6,
    "start_time": "2022-06-24T20:34:25.224Z"
   },
   {
    "duration": 6,
    "start_time": "2022-06-24T20:34:25.232Z"
   },
   {
    "duration": 12,
    "start_time": "2022-06-24T20:34:25.239Z"
   },
   {
    "duration": 256,
    "start_time": "2022-06-24T20:34:25.252Z"
   },
   {
    "duration": 5,
    "start_time": "2022-06-24T20:34:25.510Z"
   },
   {
    "duration": 13,
    "start_time": "2022-06-24T20:34:25.517Z"
   },
   {
    "duration": 3,
    "start_time": "2022-06-24T20:34:25.532Z"
   },
   {
    "duration": 32,
    "start_time": "2022-06-24T20:34:25.536Z"
   },
   {
    "duration": 17,
    "start_time": "2022-06-24T20:34:25.569Z"
   },
   {
    "duration": 176,
    "start_time": "2022-06-24T20:34:25.588Z"
   },
   {
    "duration": 20,
    "start_time": "2022-06-24T20:34:25.771Z"
   },
   {
    "duration": 19,
    "start_time": "2022-06-24T20:34:25.798Z"
   },
   {
    "duration": 3,
    "start_time": "2022-06-24T20:34:25.819Z"
   },
   {
    "duration": 5,
    "start_time": "2022-06-24T20:34:25.824Z"
   },
   {
    "duration": 11,
    "start_time": "2022-06-24T20:34:25.830Z"
   },
   {
    "duration": 8,
    "start_time": "2022-06-24T20:34:25.843Z"
   },
   {
    "duration": 247,
    "start_time": "2022-06-24T20:34:25.853Z"
   },
   {
    "duration": 200,
    "start_time": "2022-06-24T20:34:26.102Z"
   },
   {
    "duration": 12,
    "start_time": "2022-06-24T20:34:26.304Z"
   },
   {
    "duration": 13,
    "start_time": "2022-06-24T20:34:26.318Z"
   },
   {
    "duration": 37,
    "start_time": "2022-06-24T20:34:26.332Z"
   },
   {
    "duration": 33,
    "start_time": "2022-06-24T20:34:26.371Z"
   },
   {
    "duration": 15,
    "start_time": "2022-06-24T20:34:26.406Z"
   },
   {
    "duration": 272,
    "start_time": "2022-06-24T20:34:26.422Z"
   },
   {
    "duration": 14,
    "start_time": "2022-06-24T20:34:26.700Z"
   },
   {
    "duration": 4,
    "start_time": "2022-06-24T20:34:26.716Z"
   },
   {
    "duration": 8,
    "start_time": "2022-06-24T20:34:26.721Z"
   },
   {
    "duration": 13,
    "start_time": "2022-06-24T20:34:26.730Z"
   },
   {
    "duration": 13,
    "start_time": "2022-06-24T20:34:26.744Z"
   },
   {
    "duration": 84,
    "start_time": "2022-06-24T20:34:26.762Z"
   },
   {
    "duration": 24,
    "start_time": "2022-06-24T20:34:26.848Z"
   },
   {
    "duration": 34,
    "start_time": "2022-06-24T20:34:26.875Z"
   },
   {
    "duration": 16,
    "start_time": "2022-06-24T20:34:26.911Z"
   },
   {
    "duration": 13,
    "start_time": "2022-06-24T20:34:26.929Z"
   },
   {
    "duration": 7,
    "start_time": "2022-06-24T20:34:26.943Z"
   },
   {
    "duration": 405,
    "start_time": "2022-06-24T20:36:13.889Z"
   },
   {
    "duration": 266,
    "start_time": "2022-06-24T20:36:14.298Z"
   },
   {
    "duration": 509,
    "start_time": "2022-06-24T20:36:14.569Z"
   },
   {
    "duration": 5,
    "start_time": "2022-06-24T20:36:15.080Z"
   },
   {
    "duration": 83,
    "start_time": "2022-06-24T20:36:15.087Z"
   },
   {
    "duration": 26,
    "start_time": "2022-06-24T20:36:15.175Z"
   },
   {
    "duration": 11,
    "start_time": "2022-06-24T20:36:15.203Z"
   },
   {
    "duration": 19,
    "start_time": "2022-06-24T20:36:15.215Z"
   },
   {
    "duration": 6,
    "start_time": "2022-06-24T20:36:15.236Z"
   },
   {
    "duration": 10,
    "start_time": "2022-06-24T20:36:15.246Z"
   },
   {
    "duration": 54,
    "start_time": "2022-06-24T20:36:15.262Z"
   },
   {
    "duration": 6,
    "start_time": "2022-06-24T20:36:15.318Z"
   },
   {
    "duration": 9,
    "start_time": "2022-06-24T20:36:15.325Z"
   },
   {
    "duration": 12,
    "start_time": "2022-06-24T20:36:15.335Z"
   },
   {
    "duration": 6,
    "start_time": "2022-06-24T20:36:15.348Z"
   },
   {
    "duration": 24,
    "start_time": "2022-06-24T20:36:15.355Z"
   },
   {
    "duration": 20,
    "start_time": "2022-06-24T20:36:15.385Z"
   },
   {
    "duration": 10,
    "start_time": "2022-06-24T20:36:15.406Z"
   },
   {
    "duration": 216,
    "start_time": "2022-06-24T20:36:15.417Z"
   },
   {
    "duration": 6,
    "start_time": "2022-06-24T20:36:15.634Z"
   },
   {
    "duration": 174,
    "start_time": "2022-06-24T20:36:15.642Z"
   },
   {
    "duration": 9,
    "start_time": "2022-06-24T20:36:15.818Z"
   },
   {
    "duration": 4,
    "start_time": "2022-06-24T20:36:15.828Z"
   },
   {
    "duration": 9,
    "start_time": "2022-06-24T20:36:15.834Z"
   },
   {
    "duration": 26,
    "start_time": "2022-06-24T20:36:15.845Z"
   },
   {
    "duration": 35,
    "start_time": "2022-06-24T20:36:15.872Z"
   },
   {
    "duration": 6,
    "start_time": "2022-06-24T20:36:15.909Z"
   },
   {
    "duration": 7,
    "start_time": "2022-06-24T20:36:15.919Z"
   },
   {
    "duration": 8,
    "start_time": "2022-06-24T20:36:15.928Z"
   },
   {
    "duration": 6,
    "start_time": "2022-06-24T20:36:15.938Z"
   },
   {
    "duration": 20,
    "start_time": "2022-06-24T20:36:15.945Z"
   },
   {
    "duration": 33,
    "start_time": "2022-06-24T20:36:15.972Z"
   },
   {
    "duration": 7,
    "start_time": "2022-06-24T20:36:16.006Z"
   },
   {
    "duration": 14,
    "start_time": "2022-06-24T20:36:16.015Z"
   },
   {
    "duration": 11,
    "start_time": "2022-06-24T20:36:16.031Z"
   },
   {
    "duration": 218,
    "start_time": "2022-06-24T20:36:16.043Z"
   },
   {
    "duration": 11,
    "start_time": "2022-06-24T20:36:16.267Z"
   },
   {
    "duration": 19,
    "start_time": "2022-06-24T20:36:16.279Z"
   },
   {
    "duration": 7,
    "start_time": "2022-06-24T20:36:16.302Z"
   },
   {
    "duration": 12,
    "start_time": "2022-06-24T20:36:16.311Z"
   },
   {
    "duration": 15,
    "start_time": "2022-06-24T20:36:16.324Z"
   },
   {
    "duration": 164,
    "start_time": "2022-06-24T20:36:16.340Z"
   },
   {
    "duration": 10,
    "start_time": "2022-06-24T20:36:16.505Z"
   },
   {
    "duration": 14,
    "start_time": "2022-06-24T20:36:16.517Z"
   },
   {
    "duration": 4,
    "start_time": "2022-06-24T20:36:16.532Z"
   },
   {
    "duration": 6,
    "start_time": "2022-06-24T20:36:16.537Z"
   },
   {
    "duration": 29,
    "start_time": "2022-06-24T20:36:16.544Z"
   },
   {
    "duration": 10,
    "start_time": "2022-06-24T20:36:16.574Z"
   },
   {
    "duration": 225,
    "start_time": "2022-06-24T20:36:16.585Z"
   },
   {
    "duration": 210,
    "start_time": "2022-06-24T20:36:16.812Z"
   },
   {
    "duration": 11,
    "start_time": "2022-06-24T20:36:17.023Z"
   },
   {
    "duration": 14,
    "start_time": "2022-06-24T20:36:17.036Z"
   },
   {
    "duration": 35,
    "start_time": "2022-06-24T20:36:17.052Z"
   },
   {
    "duration": 21,
    "start_time": "2022-06-24T20:36:17.092Z"
   },
   {
    "duration": 9,
    "start_time": "2022-06-24T20:36:17.114Z"
   },
   {
    "duration": 285,
    "start_time": "2022-06-24T20:36:17.125Z"
   },
   {
    "duration": 15,
    "start_time": "2022-06-24T20:36:17.412Z"
   },
   {
    "duration": 4,
    "start_time": "2022-06-24T20:36:17.429Z"
   },
   {
    "duration": 14,
    "start_time": "2022-06-24T20:36:17.434Z"
   },
   {
    "duration": 27,
    "start_time": "2022-06-24T20:36:17.450Z"
   },
   {
    "duration": 41,
    "start_time": "2022-06-24T20:36:17.479Z"
   },
   {
    "duration": 168,
    "start_time": "2022-06-24T20:36:17.522Z"
   },
   {
    "duration": 0,
    "start_time": "2022-06-24T20:36:17.692Z"
   },
   {
    "duration": 0,
    "start_time": "2022-06-24T20:36:17.694Z"
   },
   {
    "duration": 0,
    "start_time": "2022-06-24T20:36:17.695Z"
   },
   {
    "duration": 0,
    "start_time": "2022-06-24T20:36:17.696Z"
   },
   {
    "duration": 0,
    "start_time": "2022-06-24T20:36:17.696Z"
   },
   {
    "duration": 0,
    "start_time": "2022-06-24T20:36:17.703Z"
   },
   {
    "duration": 1,
    "start_time": "2022-06-24T20:36:17.703Z"
   },
   {
    "duration": 172,
    "start_time": "2022-06-24T20:40:40.197Z"
   },
   {
    "duration": 442,
    "start_time": "2022-06-24T20:41:06.276Z"
   },
   {
    "duration": 249,
    "start_time": "2022-06-24T20:41:06.719Z"
   },
   {
    "duration": 529,
    "start_time": "2022-06-24T20:41:06.972Z"
   },
   {
    "duration": 3,
    "start_time": "2022-06-24T20:41:07.504Z"
   },
   {
    "duration": 6,
    "start_time": "2022-06-24T20:41:07.509Z"
   },
   {
    "duration": 95,
    "start_time": "2022-06-24T20:41:07.517Z"
   },
   {
    "duration": 17,
    "start_time": "2022-06-24T20:41:07.615Z"
   },
   {
    "duration": 37,
    "start_time": "2022-06-24T20:41:07.635Z"
   },
   {
    "duration": 31,
    "start_time": "2022-06-24T20:41:07.678Z"
   },
   {
    "duration": 8,
    "start_time": "2022-06-24T20:41:07.713Z"
   },
   {
    "duration": 21,
    "start_time": "2022-06-24T20:41:07.723Z"
   },
   {
    "duration": 54,
    "start_time": "2022-06-24T20:41:07.747Z"
   },
   {
    "duration": 8,
    "start_time": "2022-06-24T20:41:07.805Z"
   },
   {
    "duration": 13,
    "start_time": "2022-06-24T20:41:07.815Z"
   },
   {
    "duration": 12,
    "start_time": "2022-06-24T20:41:07.830Z"
   },
   {
    "duration": 6,
    "start_time": "2022-06-24T20:41:07.843Z"
   },
   {
    "duration": 32,
    "start_time": "2022-06-24T20:41:07.851Z"
   },
   {
    "duration": 7,
    "start_time": "2022-06-24T20:41:07.884Z"
   },
   {
    "duration": 9,
    "start_time": "2022-06-24T20:41:07.893Z"
   },
   {
    "duration": 214,
    "start_time": "2022-06-24T20:41:07.903Z"
   },
   {
    "duration": 7,
    "start_time": "2022-06-24T20:41:08.118Z"
   },
   {
    "duration": 168,
    "start_time": "2022-06-24T20:41:08.126Z"
   },
   {
    "duration": 8,
    "start_time": "2022-06-24T20:41:08.296Z"
   },
   {
    "duration": 8,
    "start_time": "2022-06-24T20:41:08.306Z"
   },
   {
    "duration": 12,
    "start_time": "2022-06-24T20:41:08.315Z"
   },
   {
    "duration": 13,
    "start_time": "2022-06-24T20:41:08.328Z"
   },
   {
    "duration": 2,
    "start_time": "2022-06-24T20:41:08.343Z"
   },
   {
    "duration": 9,
    "start_time": "2022-06-24T20:41:08.366Z"
   },
   {
    "duration": 19,
    "start_time": "2022-06-24T20:41:08.382Z"
   },
   {
    "duration": 9,
    "start_time": "2022-06-24T20:41:08.403Z"
   },
   {
    "duration": 7,
    "start_time": "2022-06-24T20:41:08.414Z"
   },
   {
    "duration": 26,
    "start_time": "2022-06-24T20:41:08.422Z"
   },
   {
    "duration": 17,
    "start_time": "2022-06-24T20:41:08.449Z"
   },
   {
    "duration": 24,
    "start_time": "2022-06-24T20:41:08.467Z"
   },
   {
    "duration": 6,
    "start_time": "2022-06-24T20:41:08.493Z"
   },
   {
    "duration": 10,
    "start_time": "2022-06-24T20:41:08.500Z"
   },
   {
    "duration": 289,
    "start_time": "2022-06-24T20:41:08.511Z"
   },
   {
    "duration": 7,
    "start_time": "2022-06-24T20:41:08.801Z"
   },
   {
    "duration": 15,
    "start_time": "2022-06-24T20:41:08.810Z"
   },
   {
    "duration": 3,
    "start_time": "2022-06-24T20:41:08.826Z"
   },
   {
    "duration": 38,
    "start_time": "2022-06-24T20:41:08.830Z"
   },
   {
    "duration": 21,
    "start_time": "2022-06-24T20:41:08.872Z"
   },
   {
    "duration": 240,
    "start_time": "2022-06-24T20:41:08.894Z"
   },
   {
    "duration": 11,
    "start_time": "2022-06-24T20:41:09.136Z"
   },
   {
    "duration": 15,
    "start_time": "2022-06-24T20:41:09.159Z"
   },
   {
    "duration": 20,
    "start_time": "2022-06-24T20:41:09.178Z"
   },
   {
    "duration": 8,
    "start_time": "2022-06-24T20:41:09.200Z"
   },
   {
    "duration": 10,
    "start_time": "2022-06-24T20:41:09.209Z"
   },
   {
    "duration": 14,
    "start_time": "2022-06-24T20:41:09.221Z"
   },
   {
    "duration": 204,
    "start_time": "2022-06-24T20:41:09.236Z"
   },
   {
    "duration": 192,
    "start_time": "2022-06-24T20:41:09.442Z"
   },
   {
    "duration": 12,
    "start_time": "2022-06-24T20:41:09.636Z"
   },
   {
    "duration": 14,
    "start_time": "2022-06-24T20:41:09.659Z"
   },
   {
    "duration": 32,
    "start_time": "2022-06-24T20:41:09.682Z"
   },
   {
    "duration": 14,
    "start_time": "2022-06-24T20:41:09.716Z"
   },
   {
    "duration": 6,
    "start_time": "2022-06-24T20:41:09.732Z"
   },
   {
    "duration": 233,
    "start_time": "2022-06-24T20:41:09.739Z"
   },
   {
    "duration": 19,
    "start_time": "2022-06-24T20:41:09.979Z"
   },
   {
    "duration": 4,
    "start_time": "2022-06-24T20:41:10.001Z"
   },
   {
    "duration": 13,
    "start_time": "2022-06-24T20:41:10.007Z"
   },
   {
    "duration": 16,
    "start_time": "2022-06-24T20:41:10.023Z"
   },
   {
    "duration": 29,
    "start_time": "2022-06-24T20:41:10.042Z"
   },
   {
    "duration": 150,
    "start_time": "2022-06-24T20:41:10.076Z"
   },
   {
    "duration": 0,
    "start_time": "2022-06-24T20:41:10.228Z"
   },
   {
    "duration": 0,
    "start_time": "2022-06-24T20:41:10.229Z"
   },
   {
    "duration": 0,
    "start_time": "2022-06-24T20:41:10.230Z"
   },
   {
    "duration": 0,
    "start_time": "2022-06-24T20:41:10.232Z"
   },
   {
    "duration": 0,
    "start_time": "2022-06-24T20:41:10.233Z"
   },
   {
    "duration": 0,
    "start_time": "2022-06-24T20:41:10.235Z"
   },
   {
    "duration": 0,
    "start_time": "2022-06-24T20:41:10.236Z"
   },
   {
    "duration": 440,
    "start_time": "2022-06-24T20:42:48.894Z"
   },
   {
    "duration": 292,
    "start_time": "2022-06-24T20:42:49.336Z"
   },
   {
    "duration": 591,
    "start_time": "2022-06-24T20:42:49.630Z"
   },
   {
    "duration": 2,
    "start_time": "2022-06-24T20:42:50.223Z"
   },
   {
    "duration": 105,
    "start_time": "2022-06-24T20:42:50.227Z"
   },
   {
    "duration": 15,
    "start_time": "2022-06-24T20:42:50.334Z"
   },
   {
    "duration": 33,
    "start_time": "2022-06-24T20:42:50.351Z"
   },
   {
    "duration": 47,
    "start_time": "2022-06-24T20:42:50.386Z"
   },
   {
    "duration": 7,
    "start_time": "2022-06-24T20:42:50.435Z"
   },
   {
    "duration": 46,
    "start_time": "2022-06-24T20:42:50.444Z"
   },
   {
    "duration": 46,
    "start_time": "2022-06-24T20:42:50.492Z"
   },
   {
    "duration": 6,
    "start_time": "2022-06-24T20:42:50.539Z"
   },
   {
    "duration": 67,
    "start_time": "2022-06-24T20:42:50.547Z"
   },
   {
    "duration": 17,
    "start_time": "2022-06-24T20:42:50.616Z"
   },
   {
    "duration": 7,
    "start_time": "2022-06-24T20:42:50.635Z"
   },
   {
    "duration": 23,
    "start_time": "2022-06-24T20:42:50.643Z"
   },
   {
    "duration": 48,
    "start_time": "2022-06-24T20:42:50.668Z"
   },
   {
    "duration": 11,
    "start_time": "2022-06-24T20:42:50.717Z"
   },
   {
    "duration": 293,
    "start_time": "2022-06-24T20:42:50.729Z"
   },
   {
    "duration": 6,
    "start_time": "2022-06-24T20:42:51.024Z"
   },
   {
    "duration": 200,
    "start_time": "2022-06-24T20:42:51.032Z"
   },
   {
    "duration": 9,
    "start_time": "2022-06-24T20:42:51.234Z"
   },
   {
    "duration": 21,
    "start_time": "2022-06-24T20:42:51.245Z"
   },
   {
    "duration": 51,
    "start_time": "2022-06-24T20:42:51.270Z"
   },
   {
    "duration": 14,
    "start_time": "2022-06-24T20:42:51.323Z"
   },
   {
    "duration": 4,
    "start_time": "2022-06-24T20:42:51.338Z"
   },
   {
    "duration": 11,
    "start_time": "2022-06-24T20:42:51.343Z"
   },
   {
    "duration": 60,
    "start_time": "2022-06-24T20:42:51.355Z"
   },
   {
    "duration": 10,
    "start_time": "2022-06-24T20:42:51.417Z"
   },
   {
    "duration": 7,
    "start_time": "2022-06-24T20:42:51.429Z"
   },
   {
    "duration": 14,
    "start_time": "2022-06-24T20:42:51.438Z"
   },
   {
    "duration": 56,
    "start_time": "2022-06-24T20:42:51.454Z"
   },
   {
    "duration": 12,
    "start_time": "2022-06-24T20:42:51.513Z"
   },
   {
    "duration": 7,
    "start_time": "2022-06-24T20:42:51.527Z"
   },
   {
    "duration": 10,
    "start_time": "2022-06-24T20:42:51.535Z"
   },
   {
    "duration": 282,
    "start_time": "2022-06-24T20:42:51.546Z"
   },
   {
    "duration": 6,
    "start_time": "2022-06-24T20:42:51.829Z"
   },
   {
    "duration": 24,
    "start_time": "2022-06-24T20:42:51.836Z"
   },
   {
    "duration": 14,
    "start_time": "2022-06-24T20:42:51.874Z"
   },
   {
    "duration": 28,
    "start_time": "2022-06-24T20:42:51.894Z"
   },
   {
    "duration": 14,
    "start_time": "2022-06-24T20:42:51.926Z"
   },
   {
    "duration": 183,
    "start_time": "2022-06-24T20:42:51.942Z"
   },
   {
    "duration": 9,
    "start_time": "2022-06-24T20:42:52.128Z"
   },
   {
    "duration": 17,
    "start_time": "2022-06-24T20:42:52.139Z"
   },
   {
    "duration": 7,
    "start_time": "2022-06-24T20:42:52.158Z"
   },
   {
    "duration": 51,
    "start_time": "2022-06-24T20:42:52.167Z"
   },
   {
    "duration": 18,
    "start_time": "2022-06-24T20:42:52.220Z"
   },
   {
    "duration": 11,
    "start_time": "2022-06-24T20:42:52.239Z"
   },
   {
    "duration": 244,
    "start_time": "2022-06-24T20:42:52.252Z"
   },
   {
    "duration": 229,
    "start_time": "2022-06-24T20:42:52.498Z"
   },
   {
    "duration": 13,
    "start_time": "2022-06-24T20:42:52.729Z"
   },
   {
    "duration": 28,
    "start_time": "2022-06-24T20:42:52.743Z"
   },
   {
    "duration": 81,
    "start_time": "2022-06-24T20:42:52.773Z"
   },
   {
    "duration": 38,
    "start_time": "2022-06-24T20:42:52.857Z"
   },
   {
    "duration": 28,
    "start_time": "2022-06-24T20:42:52.901Z"
   },
   {
    "duration": 291,
    "start_time": "2022-06-24T20:42:52.931Z"
   },
   {
    "duration": 13,
    "start_time": "2022-06-24T20:42:53.225Z"
   },
   {
    "duration": 4,
    "start_time": "2022-06-24T20:42:53.240Z"
   },
   {
    "duration": 65,
    "start_time": "2022-06-24T20:42:53.245Z"
   },
   {
    "duration": 20,
    "start_time": "2022-06-24T20:42:53.313Z"
   },
   {
    "duration": 9,
    "start_time": "2022-06-24T20:42:53.335Z"
   },
   {
    "duration": 179,
    "start_time": "2022-06-24T20:42:53.346Z"
   },
   {
    "duration": 0,
    "start_time": "2022-06-24T20:42:53.526Z"
   },
   {
    "duration": 0,
    "start_time": "2022-06-24T20:42:53.527Z"
   },
   {
    "duration": 0,
    "start_time": "2022-06-24T20:42:53.529Z"
   },
   {
    "duration": 0,
    "start_time": "2022-06-24T20:42:53.529Z"
   },
   {
    "duration": 0,
    "start_time": "2022-06-24T20:42:53.530Z"
   },
   {
    "duration": 0,
    "start_time": "2022-06-24T20:42:53.532Z"
   },
   {
    "duration": 0,
    "start_time": "2022-06-24T20:42:53.533Z"
   },
   {
    "duration": 427,
    "start_time": "2022-06-24T20:43:41.704Z"
   },
   {
    "duration": 297,
    "start_time": "2022-06-24T20:43:42.133Z"
   },
   {
    "duration": 546,
    "start_time": "2022-06-24T20:43:42.431Z"
   },
   {
    "duration": 4,
    "start_time": "2022-06-24T20:43:42.984Z"
   },
   {
    "duration": 136,
    "start_time": "2022-06-24T20:43:42.990Z"
   },
   {
    "duration": 14,
    "start_time": "2022-06-24T20:43:43.128Z"
   },
   {
    "duration": 84,
    "start_time": "2022-06-24T20:43:43.144Z"
   },
   {
    "duration": 19,
    "start_time": "2022-06-24T20:43:43.229Z"
   },
   {
    "duration": 7,
    "start_time": "2022-06-24T20:43:43.250Z"
   },
   {
    "duration": 61,
    "start_time": "2022-06-24T20:43:43.262Z"
   },
   {
    "duration": 23,
    "start_time": "2022-06-24T20:43:43.325Z"
   },
   {
    "duration": 7,
    "start_time": "2022-06-24T20:43:43.350Z"
   },
   {
    "duration": 65,
    "start_time": "2022-06-24T20:43:43.358Z"
   },
   {
    "duration": 18,
    "start_time": "2022-06-24T20:43:43.425Z"
   },
   {
    "duration": 6,
    "start_time": "2022-06-24T20:43:43.445Z"
   },
   {
    "duration": 69,
    "start_time": "2022-06-24T20:43:43.452Z"
   },
   {
    "duration": 5,
    "start_time": "2022-06-24T20:43:43.523Z"
   },
   {
    "duration": 10,
    "start_time": "2022-06-24T20:43:43.529Z"
   },
   {
    "duration": 305,
    "start_time": "2022-06-24T20:43:43.541Z"
   },
   {
    "duration": 5,
    "start_time": "2022-06-24T20:43:43.848Z"
   },
   {
    "duration": 182,
    "start_time": "2022-06-24T20:43:43.858Z"
   },
   {
    "duration": 10,
    "start_time": "2022-06-24T20:43:44.042Z"
   },
   {
    "duration": 10,
    "start_time": "2022-06-24T20:43:44.053Z"
   },
   {
    "duration": 59,
    "start_time": "2022-06-24T20:43:44.066Z"
   },
   {
    "duration": 13,
    "start_time": "2022-06-24T20:43:44.127Z"
   },
   {
    "duration": 3,
    "start_time": "2022-06-24T20:43:44.142Z"
   },
   {
    "duration": 6,
    "start_time": "2022-06-24T20:43:44.146Z"
   },
   {
    "duration": 9,
    "start_time": "2022-06-24T20:43:44.156Z"
   },
   {
    "duration": 59,
    "start_time": "2022-06-24T20:43:44.167Z"
   },
   {
    "duration": 5,
    "start_time": "2022-06-24T20:43:44.228Z"
   },
   {
    "duration": 11,
    "start_time": "2022-06-24T20:43:44.235Z"
   },
   {
    "duration": 54,
    "start_time": "2022-06-24T20:43:44.262Z"
   },
   {
    "duration": 6,
    "start_time": "2022-06-24T20:43:44.317Z"
   },
   {
    "duration": 6,
    "start_time": "2022-06-24T20:43:44.324Z"
   },
   {
    "duration": 9,
    "start_time": "2022-06-24T20:43:44.332Z"
   },
   {
    "duration": 362,
    "start_time": "2022-06-24T20:43:44.342Z"
   },
   {
    "duration": 9,
    "start_time": "2022-06-24T20:43:44.708Z"
   },
   {
    "duration": 13,
    "start_time": "2022-06-24T20:43:44.718Z"
   },
   {
    "duration": 3,
    "start_time": "2022-06-24T20:43:44.733Z"
   },
   {
    "duration": 17,
    "start_time": "2022-06-24T20:43:44.738Z"
   },
   {
    "duration": 64,
    "start_time": "2022-06-24T20:43:44.759Z"
   },
   {
    "duration": 183,
    "start_time": "2022-06-24T20:43:44.824Z"
   },
   {
    "duration": 12,
    "start_time": "2022-06-24T20:43:45.011Z"
   },
   {
    "duration": 12,
    "start_time": "2022-06-24T20:43:45.024Z"
   },
   {
    "duration": 18,
    "start_time": "2022-06-24T20:43:45.037Z"
   },
   {
    "duration": 55,
    "start_time": "2022-06-24T20:43:45.057Z"
   },
   {
    "duration": 10,
    "start_time": "2022-06-24T20:43:45.114Z"
   },
   {
    "duration": 9,
    "start_time": "2022-06-24T20:43:45.126Z"
   },
   {
    "duration": 234,
    "start_time": "2022-06-24T20:43:45.136Z"
   },
   {
    "duration": 229,
    "start_time": "2022-06-24T20:43:45.372Z"
   },
   {
    "duration": 16,
    "start_time": "2022-06-24T20:43:45.603Z"
   },
   {
    "duration": 9,
    "start_time": "2022-06-24T20:43:45.620Z"
   },
   {
    "duration": 17,
    "start_time": "2022-06-24T20:43:45.631Z"
   },
   {
    "duration": 34,
    "start_time": "2022-06-24T20:43:45.650Z"
   },
   {
    "duration": 26,
    "start_time": "2022-06-24T20:43:45.690Z"
   },
   {
    "duration": 231,
    "start_time": "2022-06-24T20:43:45.718Z"
   },
   {
    "duration": 29,
    "start_time": "2022-06-24T20:43:45.960Z"
   },
   {
    "duration": 28,
    "start_time": "2022-06-24T20:43:45.993Z"
   },
   {
    "duration": 6,
    "start_time": "2022-06-24T20:43:46.023Z"
   },
   {
    "duration": 13,
    "start_time": "2022-06-24T20:43:46.031Z"
   },
   {
    "duration": 8,
    "start_time": "2022-06-24T20:43:46.046Z"
   },
   {
    "duration": 67,
    "start_time": "2022-06-24T20:43:46.055Z"
   },
   {
    "duration": 10,
    "start_time": "2022-06-24T20:43:46.123Z"
   },
   {
    "duration": 7,
    "start_time": "2022-06-24T20:43:46.135Z"
   },
   {
    "duration": 13,
    "start_time": "2022-06-24T20:43:46.143Z"
   },
   {
    "duration": 66,
    "start_time": "2022-06-24T20:43:46.157Z"
   },
   {
    "duration": 6,
    "start_time": "2022-06-24T20:43:46.225Z"
   },
   {
    "duration": 427,
    "start_time": "2022-06-25T14:52:34.892Z"
   },
   {
    "duration": 494,
    "start_time": "2022-06-25T14:52:35.321Z"
   },
   {
    "duration": 630,
    "start_time": "2022-06-25T14:52:35.817Z"
   },
   {
    "duration": 3,
    "start_time": "2022-06-25T14:52:36.450Z"
   },
   {
    "duration": 524,
    "start_time": "2022-06-25T14:52:36.455Z"
   },
   {
    "duration": 17,
    "start_time": "2022-06-25T14:52:36.982Z"
   },
   {
    "duration": 15,
    "start_time": "2022-06-25T14:52:37.001Z"
   },
   {
    "duration": 34,
    "start_time": "2022-06-25T14:52:37.018Z"
   },
   {
    "duration": 7,
    "start_time": "2022-06-25T14:52:37.054Z"
   },
   {
    "duration": 13,
    "start_time": "2022-06-25T14:52:37.065Z"
   },
   {
    "duration": 25,
    "start_time": "2022-06-25T14:52:37.080Z"
   },
   {
    "duration": 7,
    "start_time": "2022-06-25T14:52:37.107Z"
   },
   {
    "duration": 41,
    "start_time": "2022-06-25T14:52:37.115Z"
   },
   {
    "duration": 14,
    "start_time": "2022-06-25T14:52:37.159Z"
   },
   {
    "duration": 6,
    "start_time": "2022-06-25T14:52:37.175Z"
   },
   {
    "duration": 14,
    "start_time": "2022-06-25T14:52:37.183Z"
   },
   {
    "duration": 5,
    "start_time": "2022-06-25T14:52:37.198Z"
   },
   {
    "duration": 48,
    "start_time": "2022-06-25T14:52:37.204Z"
   },
   {
    "duration": 271,
    "start_time": "2022-06-25T14:52:37.254Z"
   },
   {
    "duration": 8,
    "start_time": "2022-06-25T14:52:37.527Z"
   },
   {
    "duration": 205,
    "start_time": "2022-06-25T14:52:37.537Z"
   },
   {
    "duration": 11,
    "start_time": "2022-06-25T14:52:37.750Z"
   },
   {
    "duration": 5,
    "start_time": "2022-06-25T14:52:37.763Z"
   },
   {
    "duration": 10,
    "start_time": "2022-06-25T14:52:37.770Z"
   },
   {
    "duration": 21,
    "start_time": "2022-06-25T14:52:37.781Z"
   },
   {
    "duration": 3,
    "start_time": "2022-06-25T14:52:37.804Z"
   },
   {
    "duration": 6,
    "start_time": "2022-06-25T14:52:37.809Z"
   },
   {
    "duration": 9,
    "start_time": "2022-06-25T14:52:37.850Z"
   },
   {
    "duration": 9,
    "start_time": "2022-06-25T14:52:37.861Z"
   },
   {
    "duration": 6,
    "start_time": "2022-06-25T14:52:37.872Z"
   },
   {
    "duration": 15,
    "start_time": "2022-06-25T14:52:37.880Z"
   },
   {
    "duration": 8,
    "start_time": "2022-06-25T14:52:37.897Z"
   },
   {
    "duration": 5,
    "start_time": "2022-06-25T14:52:37.907Z"
   },
   {
    "duration": 38,
    "start_time": "2022-06-25T14:52:37.913Z"
   },
   {
    "duration": 10,
    "start_time": "2022-06-25T14:52:37.954Z"
   },
   {
    "duration": 262,
    "start_time": "2022-06-25T14:52:37.966Z"
   },
   {
    "duration": 21,
    "start_time": "2022-06-25T14:52:38.230Z"
   },
   {
    "duration": 15,
    "start_time": "2022-06-25T14:52:38.253Z"
   },
   {
    "duration": 5,
    "start_time": "2022-06-25T14:52:38.270Z"
   },
   {
    "duration": 19,
    "start_time": "2022-06-25T14:52:38.277Z"
   },
   {
    "duration": 19,
    "start_time": "2022-06-25T14:52:38.298Z"
   },
   {
    "duration": 33,
    "start_time": "2022-06-25T14:52:38.319Z"
   },
   {
    "duration": 130,
    "start_time": "2022-06-25T14:52:38.355Z"
   },
   {
    "duration": 0,
    "start_time": "2022-06-25T14:52:38.487Z"
   },
   {
    "duration": 0,
    "start_time": "2022-06-25T14:52:38.489Z"
   },
   {
    "duration": 1,
    "start_time": "2022-06-25T14:52:38.491Z"
   },
   {
    "duration": 0,
    "start_time": "2022-06-25T14:52:38.493Z"
   },
   {
    "duration": 0,
    "start_time": "2022-06-25T14:52:38.495Z"
   },
   {
    "duration": 0,
    "start_time": "2022-06-25T14:52:38.497Z"
   },
   {
    "duration": 1,
    "start_time": "2022-06-25T14:52:38.498Z"
   },
   {
    "duration": 0,
    "start_time": "2022-06-25T14:52:38.500Z"
   },
   {
    "duration": 1,
    "start_time": "2022-06-25T14:52:38.501Z"
   },
   {
    "duration": 0,
    "start_time": "2022-06-25T14:52:38.504Z"
   },
   {
    "duration": 0,
    "start_time": "2022-06-25T14:52:38.505Z"
   },
   {
    "duration": 0,
    "start_time": "2022-06-25T14:52:38.507Z"
   },
   {
    "duration": 0,
    "start_time": "2022-06-25T14:52:38.509Z"
   },
   {
    "duration": 0,
    "start_time": "2022-06-25T14:52:38.510Z"
   },
   {
    "duration": 0,
    "start_time": "2022-06-25T14:52:38.551Z"
   },
   {
    "duration": 0,
    "start_time": "2022-06-25T14:52:38.553Z"
   },
   {
    "duration": 0,
    "start_time": "2022-06-25T14:52:38.555Z"
   },
   {
    "duration": 0,
    "start_time": "2022-06-25T14:52:38.557Z"
   },
   {
    "duration": 0,
    "start_time": "2022-06-25T14:52:38.560Z"
   },
   {
    "duration": 0,
    "start_time": "2022-06-25T14:52:38.562Z"
   },
   {
    "duration": 0,
    "start_time": "2022-06-25T14:52:38.564Z"
   },
   {
    "duration": 0,
    "start_time": "2022-06-25T14:52:38.565Z"
   },
   {
    "duration": 0,
    "start_time": "2022-06-25T14:52:38.567Z"
   },
   {
    "duration": 0,
    "start_time": "2022-06-25T14:52:38.569Z"
   },
   {
    "duration": 0,
    "start_time": "2022-06-25T14:52:38.571Z"
   },
   {
    "duration": 0,
    "start_time": "2022-06-25T14:52:38.573Z"
   },
   {
    "duration": 0,
    "start_time": "2022-06-25T14:52:38.574Z"
   },
   {
    "duration": 448,
    "start_time": "2022-06-25T14:52:57.861Z"
   },
   {
    "duration": 290,
    "start_time": "2022-06-25T14:52:58.312Z"
   },
   {
    "duration": 634,
    "start_time": "2022-06-25T14:52:58.604Z"
   },
   {
    "duration": 3,
    "start_time": "2022-06-25T14:52:59.240Z"
   },
   {
    "duration": 83,
    "start_time": "2022-06-25T14:52:59.251Z"
   },
   {
    "duration": 17,
    "start_time": "2022-06-25T14:52:59.336Z"
   },
   {
    "duration": 33,
    "start_time": "2022-06-25T14:52:59.355Z"
   },
   {
    "duration": 26,
    "start_time": "2022-06-25T14:52:59.390Z"
   },
   {
    "duration": 12,
    "start_time": "2022-06-25T14:52:59.418Z"
   },
   {
    "duration": 24,
    "start_time": "2022-06-25T14:52:59.434Z"
   },
   {
    "duration": 49,
    "start_time": "2022-06-25T14:52:59.459Z"
   },
   {
    "duration": 14,
    "start_time": "2022-06-25T14:52:59.510Z"
   },
   {
    "duration": 30,
    "start_time": "2022-06-25T14:52:59.527Z"
   },
   {
    "duration": 15,
    "start_time": "2022-06-25T14:52:59.559Z"
   },
   {
    "duration": 8,
    "start_time": "2022-06-25T14:52:59.576Z"
   },
   {
    "duration": 16,
    "start_time": "2022-06-25T14:52:59.586Z"
   },
   {
    "duration": 4,
    "start_time": "2022-06-25T14:52:59.604Z"
   },
   {
    "duration": 45,
    "start_time": "2022-06-25T14:52:59.610Z"
   },
   {
    "duration": 265,
    "start_time": "2022-06-25T14:52:59.657Z"
   },
   {
    "duration": 8,
    "start_time": "2022-06-25T14:52:59.925Z"
   },
   {
    "duration": 214,
    "start_time": "2022-06-25T14:52:59.935Z"
   },
   {
    "duration": 13,
    "start_time": "2022-06-25T14:53:00.151Z"
   },
   {
    "duration": 9,
    "start_time": "2022-06-25T14:53:00.166Z"
   },
   {
    "duration": 19,
    "start_time": "2022-06-25T14:53:00.178Z"
   },
   {
    "duration": 20,
    "start_time": "2022-06-25T14:53:00.199Z"
   },
   {
    "duration": 5,
    "start_time": "2022-06-25T14:53:00.222Z"
   },
   {
    "duration": 6,
    "start_time": "2022-06-25T14:53:00.252Z"
   },
   {
    "duration": 25,
    "start_time": "2022-06-25T14:53:00.266Z"
   },
   {
    "duration": 18,
    "start_time": "2022-06-25T14:53:00.293Z"
   },
   {
    "duration": 40,
    "start_time": "2022-06-25T14:53:00.314Z"
   },
   {
    "duration": 25,
    "start_time": "2022-06-25T14:53:00.357Z"
   },
   {
    "duration": 19,
    "start_time": "2022-06-25T14:53:00.384Z"
   },
   {
    "duration": 14,
    "start_time": "2022-06-25T14:53:00.405Z"
   },
   {
    "duration": 23,
    "start_time": "2022-06-25T14:53:00.420Z"
   },
   {
    "duration": 27,
    "start_time": "2022-06-25T14:53:00.445Z"
   },
   {
    "duration": 263,
    "start_time": "2022-06-25T14:53:00.474Z"
   },
   {
    "duration": 12,
    "start_time": "2022-06-25T14:53:00.739Z"
   },
   {
    "duration": 19,
    "start_time": "2022-06-25T14:53:00.753Z"
   },
   {
    "duration": 4,
    "start_time": "2022-06-25T14:53:00.774Z"
   },
   {
    "duration": 22,
    "start_time": "2022-06-25T14:53:00.781Z"
   },
   {
    "duration": 21,
    "start_time": "2022-06-25T14:53:00.805Z"
   },
   {
    "duration": 23,
    "start_time": "2022-06-25T14:53:00.828Z"
   },
   {
    "duration": 140,
    "start_time": "2022-06-25T14:53:00.854Z"
   },
   {
    "duration": 0,
    "start_time": "2022-06-25T14:53:00.996Z"
   },
   {
    "duration": 0,
    "start_time": "2022-06-25T14:53:00.998Z"
   },
   {
    "duration": 0,
    "start_time": "2022-06-25T14:53:01.000Z"
   },
   {
    "duration": 0,
    "start_time": "2022-06-25T14:53:01.002Z"
   },
   {
    "duration": 0,
    "start_time": "2022-06-25T14:53:01.004Z"
   },
   {
    "duration": 0,
    "start_time": "2022-06-25T14:53:01.005Z"
   },
   {
    "duration": 0,
    "start_time": "2022-06-25T14:53:01.007Z"
   },
   {
    "duration": 0,
    "start_time": "2022-06-25T14:53:01.009Z"
   },
   {
    "duration": 0,
    "start_time": "2022-06-25T14:53:01.011Z"
   },
   {
    "duration": 0,
    "start_time": "2022-06-25T14:53:01.013Z"
   },
   {
    "duration": 0,
    "start_time": "2022-06-25T14:53:01.050Z"
   },
   {
    "duration": 0,
    "start_time": "2022-06-25T14:53:01.052Z"
   },
   {
    "duration": 0,
    "start_time": "2022-06-25T14:53:01.054Z"
   },
   {
    "duration": 0,
    "start_time": "2022-06-25T14:53:01.056Z"
   },
   {
    "duration": 0,
    "start_time": "2022-06-25T14:53:01.058Z"
   },
   {
    "duration": 0,
    "start_time": "2022-06-25T14:53:01.059Z"
   },
   {
    "duration": 0,
    "start_time": "2022-06-25T14:53:01.061Z"
   },
   {
    "duration": 0,
    "start_time": "2022-06-25T14:53:01.063Z"
   },
   {
    "duration": 0,
    "start_time": "2022-06-25T14:53:01.065Z"
   },
   {
    "duration": 0,
    "start_time": "2022-06-25T14:53:01.066Z"
   },
   {
    "duration": 0,
    "start_time": "2022-06-25T14:53:01.068Z"
   },
   {
    "duration": 0,
    "start_time": "2022-06-25T14:53:01.069Z"
   },
   {
    "duration": 0,
    "start_time": "2022-06-25T14:53:01.070Z"
   },
   {
    "duration": 0,
    "start_time": "2022-06-25T14:53:01.071Z"
   },
   {
    "duration": 0,
    "start_time": "2022-06-25T14:53:01.073Z"
   },
   {
    "duration": 0,
    "start_time": "2022-06-25T14:53:01.075Z"
   },
   {
    "duration": 0,
    "start_time": "2022-06-25T14:53:01.076Z"
   },
   {
    "duration": 444,
    "start_time": "2022-06-25T14:54:30.786Z"
   },
   {
    "duration": 325,
    "start_time": "2022-06-25T14:54:31.233Z"
   },
   {
    "duration": 548,
    "start_time": "2022-06-25T14:54:31.561Z"
   },
   {
    "duration": 3,
    "start_time": "2022-06-25T14:54:32.111Z"
   },
   {
    "duration": 85,
    "start_time": "2022-06-25T14:54:32.117Z"
   },
   {
    "duration": 21,
    "start_time": "2022-06-25T14:54:32.204Z"
   },
   {
    "duration": 31,
    "start_time": "2022-06-25T14:54:32.228Z"
   },
   {
    "duration": 35,
    "start_time": "2022-06-25T14:54:32.262Z"
   },
   {
    "duration": 10,
    "start_time": "2022-06-25T14:54:32.300Z"
   },
   {
    "duration": 46,
    "start_time": "2022-06-25T14:54:32.312Z"
   },
   {
    "duration": 35,
    "start_time": "2022-06-25T14:54:32.361Z"
   },
   {
    "duration": 9,
    "start_time": "2022-06-25T14:54:32.399Z"
   },
   {
    "duration": 40,
    "start_time": "2022-06-25T14:54:32.411Z"
   },
   {
    "duration": 22,
    "start_time": "2022-06-25T14:54:32.456Z"
   },
   {
    "duration": 12,
    "start_time": "2022-06-25T14:54:32.480Z"
   },
   {
    "duration": 22,
    "start_time": "2022-06-25T14:54:32.494Z"
   },
   {
    "duration": 36,
    "start_time": "2022-06-25T14:54:32.519Z"
   },
   {
    "duration": 13,
    "start_time": "2022-06-25T14:54:32.558Z"
   },
   {
    "duration": 285,
    "start_time": "2022-06-25T14:54:32.574Z"
   },
   {
    "duration": 10,
    "start_time": "2022-06-25T14:54:32.861Z"
   },
   {
    "duration": 198,
    "start_time": "2022-06-25T14:54:32.873Z"
   },
   {
    "duration": 12,
    "start_time": "2022-06-25T14:54:33.073Z"
   },
   {
    "duration": 5,
    "start_time": "2022-06-25T14:54:33.087Z"
   },
   {
    "duration": 14,
    "start_time": "2022-06-25T14:54:33.093Z"
   },
   {
    "duration": 43,
    "start_time": "2022-06-25T14:54:33.109Z"
   },
   {
    "duration": 6,
    "start_time": "2022-06-25T14:54:33.154Z"
   },
   {
    "duration": 9,
    "start_time": "2022-06-25T14:54:33.162Z"
   },
   {
    "duration": 12,
    "start_time": "2022-06-25T14:54:33.174Z"
   },
   {
    "duration": 11,
    "start_time": "2022-06-25T14:54:33.189Z"
   },
   {
    "duration": 7,
    "start_time": "2022-06-25T14:54:33.203Z"
   },
   {
    "duration": 40,
    "start_time": "2022-06-25T14:54:33.212Z"
   },
   {
    "duration": 11,
    "start_time": "2022-06-25T14:54:33.254Z"
   },
   {
    "duration": 7,
    "start_time": "2022-06-25T14:54:33.268Z"
   },
   {
    "duration": 7,
    "start_time": "2022-06-25T14:54:33.278Z"
   },
   {
    "duration": 12,
    "start_time": "2022-06-25T14:54:33.288Z"
   },
   {
    "duration": 295,
    "start_time": "2022-06-25T14:54:33.302Z"
   },
   {
    "duration": 6,
    "start_time": "2022-06-25T14:54:33.599Z"
   },
   {
    "duration": 19,
    "start_time": "2022-06-25T14:54:33.607Z"
   },
   {
    "duration": 3,
    "start_time": "2022-06-25T14:54:33.628Z"
   },
   {
    "duration": 26,
    "start_time": "2022-06-25T14:54:33.633Z"
   },
   {
    "duration": 19,
    "start_time": "2022-06-25T14:54:33.664Z"
   },
   {
    "duration": 6,
    "start_time": "2022-06-25T14:54:33.685Z"
   },
   {
    "duration": 141,
    "start_time": "2022-06-25T14:54:33.693Z"
   },
   {
    "duration": 0,
    "start_time": "2022-06-25T14:54:33.837Z"
   },
   {
    "duration": 0,
    "start_time": "2022-06-25T14:54:33.839Z"
   },
   {
    "duration": 0,
    "start_time": "2022-06-25T14:54:33.840Z"
   },
   {
    "duration": 0,
    "start_time": "2022-06-25T14:54:33.851Z"
   },
   {
    "duration": 0,
    "start_time": "2022-06-25T14:54:33.854Z"
   },
   {
    "duration": 0,
    "start_time": "2022-06-25T14:54:33.856Z"
   },
   {
    "duration": 0,
    "start_time": "2022-06-25T14:54:33.857Z"
   },
   {
    "duration": 0,
    "start_time": "2022-06-25T14:54:33.859Z"
   },
   {
    "duration": 0,
    "start_time": "2022-06-25T14:54:33.860Z"
   },
   {
    "duration": 0,
    "start_time": "2022-06-25T14:54:33.861Z"
   },
   {
    "duration": 0,
    "start_time": "2022-06-25T14:54:33.863Z"
   },
   {
    "duration": 0,
    "start_time": "2022-06-25T14:54:33.865Z"
   },
   {
    "duration": 0,
    "start_time": "2022-06-25T14:54:33.867Z"
   },
   {
    "duration": 0,
    "start_time": "2022-06-25T14:54:33.868Z"
   },
   {
    "duration": 0,
    "start_time": "2022-06-25T14:54:33.869Z"
   },
   {
    "duration": 0,
    "start_time": "2022-06-25T14:54:33.871Z"
   },
   {
    "duration": 0,
    "start_time": "2022-06-25T14:54:33.872Z"
   },
   {
    "duration": 0,
    "start_time": "2022-06-25T14:54:33.874Z"
   },
   {
    "duration": 0,
    "start_time": "2022-06-25T14:54:33.876Z"
   },
   {
    "duration": 0,
    "start_time": "2022-06-25T14:54:33.878Z"
   },
   {
    "duration": 0,
    "start_time": "2022-06-25T14:54:33.880Z"
   },
   {
    "duration": 0,
    "start_time": "2022-06-25T14:54:33.882Z"
   },
   {
    "duration": 0,
    "start_time": "2022-06-25T14:54:33.884Z"
   },
   {
    "duration": 0,
    "start_time": "2022-06-25T14:54:33.886Z"
   },
   {
    "duration": 1,
    "start_time": "2022-06-25T14:54:33.887Z"
   },
   {
    "duration": 0,
    "start_time": "2022-06-25T14:54:33.889Z"
   },
   {
    "duration": 0,
    "start_time": "2022-06-25T14:54:33.951Z"
   },
   {
    "duration": 475,
    "start_time": "2022-06-25T14:54:54.388Z"
   },
   {
    "duration": 261,
    "start_time": "2022-06-25T14:54:54.865Z"
   },
   {
    "duration": 581,
    "start_time": "2022-06-25T14:54:55.128Z"
   },
   {
    "duration": 3,
    "start_time": "2022-06-25T14:54:55.711Z"
   },
   {
    "duration": 75,
    "start_time": "2022-06-25T14:54:55.717Z"
   },
   {
    "duration": 16,
    "start_time": "2022-06-25T14:54:55.794Z"
   },
   {
    "duration": 14,
    "start_time": "2022-06-25T14:54:55.812Z"
   },
   {
    "duration": 42,
    "start_time": "2022-06-25T14:54:55.827Z"
   },
   {
    "duration": 8,
    "start_time": "2022-06-25T14:54:55.871Z"
   },
   {
    "duration": 13,
    "start_time": "2022-06-25T14:54:55.881Z"
   },
   {
    "duration": 23,
    "start_time": "2022-06-25T14:54:55.896Z"
   },
   {
    "duration": 9,
    "start_time": "2022-06-25T14:54:55.950Z"
   },
   {
    "duration": 10,
    "start_time": "2022-06-25T14:54:55.960Z"
   },
   {
    "duration": 14,
    "start_time": "2022-06-25T14:54:55.974Z"
   },
   {
    "duration": 8,
    "start_time": "2022-06-25T14:54:55.991Z"
   },
   {
    "duration": 56,
    "start_time": "2022-06-25T14:54:56.001Z"
   },
   {
    "duration": 5,
    "start_time": "2022-06-25T14:54:56.059Z"
   },
   {
    "duration": 11,
    "start_time": "2022-06-25T14:54:56.066Z"
   },
   {
    "duration": 260,
    "start_time": "2022-06-25T14:54:56.078Z"
   },
   {
    "duration": 14,
    "start_time": "2022-06-25T14:54:56.340Z"
   },
   {
    "duration": 187,
    "start_time": "2022-06-25T14:54:56.356Z"
   },
   {
    "duration": 11,
    "start_time": "2022-06-25T14:54:56.550Z"
   },
   {
    "duration": 4,
    "start_time": "2022-06-25T14:54:56.563Z"
   },
   {
    "duration": 10,
    "start_time": "2022-06-25T14:54:56.569Z"
   },
   {
    "duration": 13,
    "start_time": "2022-06-25T14:54:56.582Z"
   },
   {
    "duration": 4,
    "start_time": "2022-06-25T14:54:56.597Z"
   },
   {
    "duration": 7,
    "start_time": "2022-06-25T14:54:56.603Z"
   },
   {
    "duration": 43,
    "start_time": "2022-06-25T14:54:56.611Z"
   },
   {
    "duration": 9,
    "start_time": "2022-06-25T14:54:56.656Z"
   },
   {
    "duration": 6,
    "start_time": "2022-06-25T14:54:56.667Z"
   },
   {
    "duration": 13,
    "start_time": "2022-06-25T14:54:56.675Z"
   },
   {
    "duration": 10,
    "start_time": "2022-06-25T14:54:56.690Z"
   },
   {
    "duration": 7,
    "start_time": "2022-06-25T14:54:56.702Z"
   },
   {
    "duration": 41,
    "start_time": "2022-06-25T14:54:56.711Z"
   },
   {
    "duration": 12,
    "start_time": "2022-06-25T14:54:56.754Z"
   },
   {
    "duration": 257,
    "start_time": "2022-06-25T14:54:56.768Z"
   },
   {
    "duration": 7,
    "start_time": "2022-06-25T14:54:57.027Z"
   },
   {
    "duration": 19,
    "start_time": "2022-06-25T14:54:57.036Z"
   },
   {
    "duration": 3,
    "start_time": "2022-06-25T14:54:57.057Z"
   },
   {
    "duration": 15,
    "start_time": "2022-06-25T14:54:57.062Z"
   },
   {
    "duration": 16,
    "start_time": "2022-06-25T14:54:57.082Z"
   },
   {
    "duration": 5,
    "start_time": "2022-06-25T14:54:57.100Z"
   },
   {
    "duration": 167,
    "start_time": "2022-06-25T14:54:57.107Z"
   },
   {
    "duration": 0,
    "start_time": "2022-06-25T14:54:57.276Z"
   },
   {
    "duration": 0,
    "start_time": "2022-06-25T14:54:57.278Z"
   },
   {
    "duration": 0,
    "start_time": "2022-06-25T14:54:57.279Z"
   },
   {
    "duration": 0,
    "start_time": "2022-06-25T14:54:57.280Z"
   },
   {
    "duration": 0,
    "start_time": "2022-06-25T14:54:57.282Z"
   },
   {
    "duration": 0,
    "start_time": "2022-06-25T14:54:57.283Z"
   },
   {
    "duration": 0,
    "start_time": "2022-06-25T14:54:57.284Z"
   },
   {
    "duration": 0,
    "start_time": "2022-06-25T14:54:57.286Z"
   },
   {
    "duration": 0,
    "start_time": "2022-06-25T14:54:57.288Z"
   },
   {
    "duration": 0,
    "start_time": "2022-06-25T14:54:57.289Z"
   },
   {
    "duration": 0,
    "start_time": "2022-06-25T14:54:57.291Z"
   },
   {
    "duration": 0,
    "start_time": "2022-06-25T14:54:57.293Z"
   },
   {
    "duration": 0,
    "start_time": "2022-06-25T14:54:57.294Z"
   },
   {
    "duration": 0,
    "start_time": "2022-06-25T14:54:57.296Z"
   },
   {
    "duration": 0,
    "start_time": "2022-06-25T14:54:57.297Z"
   },
   {
    "duration": 0,
    "start_time": "2022-06-25T14:54:57.299Z"
   },
   {
    "duration": 0,
    "start_time": "2022-06-25T14:54:57.301Z"
   },
   {
    "duration": 0,
    "start_time": "2022-06-25T14:54:57.302Z"
   },
   {
    "duration": 0,
    "start_time": "2022-06-25T14:54:57.304Z"
   },
   {
    "duration": 0,
    "start_time": "2022-06-25T14:54:57.352Z"
   },
   {
    "duration": 0,
    "start_time": "2022-06-25T14:54:57.354Z"
   },
   {
    "duration": 0,
    "start_time": "2022-06-25T14:54:57.355Z"
   },
   {
    "duration": 0,
    "start_time": "2022-06-25T14:54:57.357Z"
   },
   {
    "duration": 0,
    "start_time": "2022-06-25T14:54:57.358Z"
   },
   {
    "duration": 0,
    "start_time": "2022-06-25T14:54:57.360Z"
   },
   {
    "duration": 0,
    "start_time": "2022-06-25T14:54:57.361Z"
   },
   {
    "duration": 0,
    "start_time": "2022-06-25T14:54:57.363Z"
   },
   {
    "duration": 489,
    "start_time": "2022-06-25T14:55:41.606Z"
   },
   {
    "duration": 268,
    "start_time": "2022-06-25T14:55:42.097Z"
   },
   {
    "duration": 573,
    "start_time": "2022-06-25T14:55:42.368Z"
   },
   {
    "duration": 3,
    "start_time": "2022-06-25T14:55:42.943Z"
   },
   {
    "duration": 77,
    "start_time": "2022-06-25T14:55:42.949Z"
   },
   {
    "duration": 16,
    "start_time": "2022-06-25T14:55:43.028Z"
   },
   {
    "duration": 16,
    "start_time": "2022-06-25T14:55:43.046Z"
   },
   {
    "duration": 21,
    "start_time": "2022-06-25T14:55:43.064Z"
   },
   {
    "duration": 7,
    "start_time": "2022-06-25T14:55:43.087Z"
   },
   {
    "duration": 13,
    "start_time": "2022-06-25T14:55:43.096Z"
   },
   {
    "duration": 57,
    "start_time": "2022-06-25T14:55:43.111Z"
   },
   {
    "duration": 10,
    "start_time": "2022-06-25T14:55:43.170Z"
   },
   {
    "duration": 25,
    "start_time": "2022-06-25T14:55:43.182Z"
   },
   {
    "duration": 15,
    "start_time": "2022-06-25T14:55:43.211Z"
   },
   {
    "duration": 26,
    "start_time": "2022-06-25T14:55:43.229Z"
   },
   {
    "duration": 16,
    "start_time": "2022-06-25T14:55:43.258Z"
   },
   {
    "duration": 4,
    "start_time": "2022-06-25T14:55:43.276Z"
   },
   {
    "duration": 13,
    "start_time": "2022-06-25T14:55:43.283Z"
   },
   {
    "duration": 289,
    "start_time": "2022-06-25T14:55:43.298Z"
   },
   {
    "duration": 9,
    "start_time": "2022-06-25T14:55:43.589Z"
   },
   {
    "duration": 207,
    "start_time": "2022-06-25T14:55:43.600Z"
   },
   {
    "duration": 11,
    "start_time": "2022-06-25T14:55:43.810Z"
   },
   {
    "duration": 5,
    "start_time": "2022-06-25T14:55:43.823Z"
   },
   {
    "duration": 31,
    "start_time": "2022-06-25T14:55:43.830Z"
   },
   {
    "duration": 15,
    "start_time": "2022-06-25T14:55:43.863Z"
   },
   {
    "duration": 4,
    "start_time": "2022-06-25T14:55:43.880Z"
   },
   {
    "duration": 8,
    "start_time": "2022-06-25T14:55:43.886Z"
   },
   {
    "duration": 12,
    "start_time": "2022-06-25T14:55:43.896Z"
   },
   {
    "duration": 10,
    "start_time": "2022-06-25T14:55:43.910Z"
   },
   {
    "duration": 29,
    "start_time": "2022-06-25T14:55:43.922Z"
   },
   {
    "duration": 14,
    "start_time": "2022-06-25T14:55:43.953Z"
   },
   {
    "duration": 9,
    "start_time": "2022-06-25T14:55:43.969Z"
   },
   {
    "duration": 7,
    "start_time": "2022-06-25T14:55:43.980Z"
   },
   {
    "duration": 6,
    "start_time": "2022-06-25T14:55:43.989Z"
   },
   {
    "duration": 11,
    "start_time": "2022-06-25T14:55:43.997Z"
   },
   {
    "duration": 273,
    "start_time": "2022-06-25T14:55:44.010Z"
   },
   {
    "duration": 8,
    "start_time": "2022-06-25T14:55:44.285Z"
   },
   {
    "duration": 13,
    "start_time": "2022-06-25T14:55:44.295Z"
   },
   {
    "duration": 4,
    "start_time": "2022-06-25T14:55:44.309Z"
   },
   {
    "duration": 40,
    "start_time": "2022-06-25T14:55:44.315Z"
   },
   {
    "duration": 22,
    "start_time": "2022-06-25T14:55:44.362Z"
   },
   {
    "duration": 25,
    "start_time": "2022-06-25T14:55:44.387Z"
   },
   {
    "duration": 188,
    "start_time": "2022-06-25T14:55:44.414Z"
   },
   {
    "duration": 0,
    "start_time": "2022-06-25T14:55:44.605Z"
   },
   {
    "duration": 0,
    "start_time": "2022-06-25T14:55:44.606Z"
   },
   {
    "duration": 0,
    "start_time": "2022-06-25T14:55:44.609Z"
   },
   {
    "duration": 0,
    "start_time": "2022-06-25T14:55:44.611Z"
   },
   {
    "duration": 0,
    "start_time": "2022-06-25T14:55:44.613Z"
   },
   {
    "duration": 0,
    "start_time": "2022-06-25T14:55:44.615Z"
   },
   {
    "duration": 0,
    "start_time": "2022-06-25T14:55:44.617Z"
   },
   {
    "duration": 0,
    "start_time": "2022-06-25T14:55:44.620Z"
   },
   {
    "duration": 0,
    "start_time": "2022-06-25T14:55:44.650Z"
   },
   {
    "duration": 0,
    "start_time": "2022-06-25T14:55:44.654Z"
   },
   {
    "duration": 0,
    "start_time": "2022-06-25T14:55:44.656Z"
   },
   {
    "duration": 0,
    "start_time": "2022-06-25T14:55:44.657Z"
   },
   {
    "duration": 0,
    "start_time": "2022-06-25T14:55:44.659Z"
   },
   {
    "duration": 0,
    "start_time": "2022-06-25T14:55:44.661Z"
   },
   {
    "duration": 0,
    "start_time": "2022-06-25T14:55:44.663Z"
   },
   {
    "duration": 0,
    "start_time": "2022-06-25T14:55:44.665Z"
   },
   {
    "duration": 0,
    "start_time": "2022-06-25T14:55:44.666Z"
   },
   {
    "duration": 0,
    "start_time": "2022-06-25T14:55:44.668Z"
   },
   {
    "duration": 0,
    "start_time": "2022-06-25T14:55:44.670Z"
   },
   {
    "duration": 0,
    "start_time": "2022-06-25T14:55:44.672Z"
   },
   {
    "duration": 0,
    "start_time": "2022-06-25T14:55:44.674Z"
   },
   {
    "duration": 0,
    "start_time": "2022-06-25T14:55:44.676Z"
   },
   {
    "duration": 0,
    "start_time": "2022-06-25T14:55:44.678Z"
   },
   {
    "duration": 0,
    "start_time": "2022-06-25T14:55:44.680Z"
   },
   {
    "duration": 0,
    "start_time": "2022-06-25T14:55:44.682Z"
   },
   {
    "duration": 0,
    "start_time": "2022-06-25T14:55:44.684Z"
   },
   {
    "duration": 0,
    "start_time": "2022-06-25T14:55:44.685Z"
   },
   {
    "duration": 462,
    "start_time": "2022-06-25T15:00:08.549Z"
   },
   {
    "duration": 272,
    "start_time": "2022-06-25T15:00:09.013Z"
   },
   {
    "duration": 581,
    "start_time": "2022-06-25T15:00:09.287Z"
   },
   {
    "duration": 3,
    "start_time": "2022-06-25T15:00:09.870Z"
   },
   {
    "duration": 98,
    "start_time": "2022-06-25T15:00:09.875Z"
   },
   {
    "duration": 19,
    "start_time": "2022-06-25T15:00:09.974Z"
   },
   {
    "duration": 19,
    "start_time": "2022-06-25T15:00:09.995Z"
   },
   {
    "duration": 50,
    "start_time": "2022-06-25T15:00:10.017Z"
   },
   {
    "duration": 7,
    "start_time": "2022-06-25T15:00:10.069Z"
   },
   {
    "duration": 26,
    "start_time": "2022-06-25T15:00:10.080Z"
   },
   {
    "duration": 32,
    "start_time": "2022-06-25T15:00:10.108Z"
   },
   {
    "duration": 8,
    "start_time": "2022-06-25T15:00:10.151Z"
   },
   {
    "duration": 39,
    "start_time": "2022-06-25T15:00:10.162Z"
   },
   {
    "duration": 33,
    "start_time": "2022-06-25T15:00:10.203Z"
   },
   {
    "duration": 42,
    "start_time": "2022-06-25T15:00:10.238Z"
   },
   {
    "duration": 33,
    "start_time": "2022-06-25T15:00:10.282Z"
   },
   {
    "duration": 18,
    "start_time": "2022-06-25T15:00:10.317Z"
   },
   {
    "duration": 15,
    "start_time": "2022-06-25T15:00:10.337Z"
   },
   {
    "duration": 268,
    "start_time": "2022-06-25T15:00:10.354Z"
   },
   {
    "duration": 8,
    "start_time": "2022-06-25T15:00:10.624Z"
   },
   {
    "duration": 204,
    "start_time": "2022-06-25T15:00:10.634Z"
   },
   {
    "duration": 18,
    "start_time": "2022-06-25T15:00:10.840Z"
   },
   {
    "duration": 12,
    "start_time": "2022-06-25T15:00:10.859Z"
   },
   {
    "duration": 26,
    "start_time": "2022-06-25T15:00:10.873Z"
   },
   {
    "duration": 31,
    "start_time": "2022-06-25T15:00:10.902Z"
   },
   {
    "duration": 20,
    "start_time": "2022-06-25T15:00:10.935Z"
   },
   {
    "duration": 18,
    "start_time": "2022-06-25T15:00:10.957Z"
   },
   {
    "duration": 54,
    "start_time": "2022-06-25T15:00:10.980Z"
   },
   {
    "duration": 25,
    "start_time": "2022-06-25T15:00:11.035Z"
   },
   {
    "duration": 33,
    "start_time": "2022-06-25T15:00:11.062Z"
   },
   {
    "duration": 32,
    "start_time": "2022-06-25T15:00:11.097Z"
   },
   {
    "duration": 23,
    "start_time": "2022-06-25T15:00:11.131Z"
   },
   {
    "duration": 22,
    "start_time": "2022-06-25T15:00:11.156Z"
   },
   {
    "duration": 18,
    "start_time": "2022-06-25T15:00:11.179Z"
   },
   {
    "duration": 44,
    "start_time": "2022-06-25T15:00:11.199Z"
   },
   {
    "duration": 289,
    "start_time": "2022-06-25T15:00:11.245Z"
   },
   {
    "duration": 15,
    "start_time": "2022-06-25T15:00:11.538Z"
   },
   {
    "duration": 23,
    "start_time": "2022-06-25T15:00:11.555Z"
   },
   {
    "duration": 25,
    "start_time": "2022-06-25T15:00:11.580Z"
   },
   {
    "duration": 37,
    "start_time": "2022-06-25T15:00:11.607Z"
   },
   {
    "duration": 23,
    "start_time": "2022-06-25T15:00:11.646Z"
   },
   {
    "duration": 55,
    "start_time": "2022-06-25T15:00:11.671Z"
   },
   {
    "duration": 0,
    "start_time": "2022-06-25T15:00:11.728Z"
   },
   {
    "duration": 0,
    "start_time": "2022-06-25T15:00:11.729Z"
   },
   {
    "duration": 1,
    "start_time": "2022-06-25T15:00:11.730Z"
   },
   {
    "duration": 0,
    "start_time": "2022-06-25T15:00:11.733Z"
   },
   {
    "duration": 0,
    "start_time": "2022-06-25T15:00:11.734Z"
   },
   {
    "duration": 0,
    "start_time": "2022-06-25T15:00:11.735Z"
   },
   {
    "duration": 0,
    "start_time": "2022-06-25T15:00:11.737Z"
   },
   {
    "duration": 0,
    "start_time": "2022-06-25T15:00:11.738Z"
   },
   {
    "duration": 0,
    "start_time": "2022-06-25T15:00:11.739Z"
   },
   {
    "duration": 0,
    "start_time": "2022-06-25T15:00:11.741Z"
   },
   {
    "duration": 0,
    "start_time": "2022-06-25T15:00:11.742Z"
   },
   {
    "duration": 0,
    "start_time": "2022-06-25T15:00:11.743Z"
   },
   {
    "duration": 0,
    "start_time": "2022-06-25T15:00:11.745Z"
   },
   {
    "duration": 0,
    "start_time": "2022-06-25T15:00:11.746Z"
   },
   {
    "duration": 0,
    "start_time": "2022-06-25T15:00:11.747Z"
   },
   {
    "duration": 0,
    "start_time": "2022-06-25T15:00:11.748Z"
   },
   {
    "duration": 0,
    "start_time": "2022-06-25T15:00:11.749Z"
   },
   {
    "duration": 0,
    "start_time": "2022-06-25T15:00:11.752Z"
   },
   {
    "duration": 0,
    "start_time": "2022-06-25T15:00:11.753Z"
   },
   {
    "duration": 0,
    "start_time": "2022-06-25T15:00:11.755Z"
   },
   {
    "duration": 0,
    "start_time": "2022-06-25T15:00:11.757Z"
   },
   {
    "duration": 0,
    "start_time": "2022-06-25T15:00:11.759Z"
   },
   {
    "duration": 0,
    "start_time": "2022-06-25T15:00:11.761Z"
   },
   {
    "duration": 0,
    "start_time": "2022-06-25T15:00:11.762Z"
   },
   {
    "duration": 0,
    "start_time": "2022-06-25T15:00:11.764Z"
   },
   {
    "duration": 0,
    "start_time": "2022-06-25T15:00:11.766Z"
   },
   {
    "duration": 0,
    "start_time": "2022-06-25T15:00:11.767Z"
   },
   {
    "duration": 0,
    "start_time": "2022-06-25T15:00:11.769Z"
   },
   {
    "duration": 474,
    "start_time": "2022-06-25T15:00:35.733Z"
   },
   {
    "duration": 270,
    "start_time": "2022-06-25T15:00:36.209Z"
   },
   {
    "duration": 561,
    "start_time": "2022-06-25T15:00:36.481Z"
   },
   {
    "duration": 7,
    "start_time": "2022-06-25T15:00:37.045Z"
   },
   {
    "duration": 75,
    "start_time": "2022-06-25T15:00:37.053Z"
   },
   {
    "duration": 16,
    "start_time": "2022-06-25T15:00:37.130Z"
   },
   {
    "duration": 13,
    "start_time": "2022-06-25T15:00:37.149Z"
   },
   {
    "duration": 21,
    "start_time": "2022-06-25T15:00:37.164Z"
   },
   {
    "duration": 8,
    "start_time": "2022-06-25T15:00:37.186Z"
   },
   {
    "duration": 13,
    "start_time": "2022-06-25T15:00:37.197Z"
   },
   {
    "duration": 60,
    "start_time": "2022-06-25T15:00:37.212Z"
   },
   {
    "duration": 9,
    "start_time": "2022-06-25T15:00:37.274Z"
   },
   {
    "duration": 12,
    "start_time": "2022-06-25T15:00:37.285Z"
   },
   {
    "duration": 18,
    "start_time": "2022-06-25T15:00:37.299Z"
   },
   {
    "duration": 40,
    "start_time": "2022-06-25T15:00:37.319Z"
   },
   {
    "duration": 21,
    "start_time": "2022-06-25T15:00:37.361Z"
   },
   {
    "duration": 6,
    "start_time": "2022-06-25T15:00:37.384Z"
   },
   {
    "duration": 21,
    "start_time": "2022-06-25T15:00:37.392Z"
   },
   {
    "duration": 273,
    "start_time": "2022-06-25T15:00:37.415Z"
   },
   {
    "duration": 8,
    "start_time": "2022-06-25T15:00:37.690Z"
   },
   {
    "duration": 202,
    "start_time": "2022-06-25T15:00:37.700Z"
   },
   {
    "duration": 13,
    "start_time": "2022-06-25T15:00:37.904Z"
   },
   {
    "duration": 4,
    "start_time": "2022-06-25T15:00:37.919Z"
   },
   {
    "duration": 31,
    "start_time": "2022-06-25T15:00:37.925Z"
   },
   {
    "duration": 15,
    "start_time": "2022-06-25T15:00:37.958Z"
   },
   {
    "duration": 4,
    "start_time": "2022-06-25T15:00:37.975Z"
   },
   {
    "duration": 7,
    "start_time": "2022-06-25T15:00:37.981Z"
   },
   {
    "duration": 10,
    "start_time": "2022-06-25T15:00:37.993Z"
   },
   {
    "duration": 51,
    "start_time": "2022-06-25T15:00:38.006Z"
   },
   {
    "duration": 6,
    "start_time": "2022-06-25T15:00:38.060Z"
   },
   {
    "duration": 19,
    "start_time": "2022-06-25T15:00:38.068Z"
   },
   {
    "duration": 12,
    "start_time": "2022-06-25T15:00:38.089Z"
   },
   {
    "duration": 7,
    "start_time": "2022-06-25T15:00:38.103Z"
   },
   {
    "duration": 7,
    "start_time": "2022-06-25T15:00:38.112Z"
   },
   {
    "duration": 41,
    "start_time": "2022-06-25T15:00:38.121Z"
   },
   {
    "duration": 259,
    "start_time": "2022-06-25T15:00:38.163Z"
   },
   {
    "duration": 7,
    "start_time": "2022-06-25T15:00:38.424Z"
   },
   {
    "duration": 22,
    "start_time": "2022-06-25T15:00:38.432Z"
   },
   {
    "duration": 3,
    "start_time": "2022-06-25T15:00:38.456Z"
   },
   {
    "duration": 12,
    "start_time": "2022-06-25T15:00:38.462Z"
   },
   {
    "duration": 18,
    "start_time": "2022-06-25T15:00:38.476Z"
   },
   {
    "duration": 5,
    "start_time": "2022-06-25T15:00:38.495Z"
   },
   {
    "duration": 155,
    "start_time": "2022-06-25T15:00:38.502Z"
   },
   {
    "duration": 0,
    "start_time": "2022-06-25T15:00:38.658Z"
   },
   {
    "duration": 0,
    "start_time": "2022-06-25T15:00:38.660Z"
   },
   {
    "duration": 0,
    "start_time": "2022-06-25T15:00:38.661Z"
   },
   {
    "duration": 0,
    "start_time": "2022-06-25T15:00:38.663Z"
   },
   {
    "duration": 0,
    "start_time": "2022-06-25T15:00:38.664Z"
   },
   {
    "duration": 0,
    "start_time": "2022-06-25T15:00:38.665Z"
   },
   {
    "duration": 0,
    "start_time": "2022-06-25T15:00:38.667Z"
   },
   {
    "duration": 0,
    "start_time": "2022-06-25T15:00:38.669Z"
   },
   {
    "duration": 0,
    "start_time": "2022-06-25T15:00:38.670Z"
   },
   {
    "duration": 0,
    "start_time": "2022-06-25T15:00:38.672Z"
   },
   {
    "duration": 0,
    "start_time": "2022-06-25T15:00:38.674Z"
   },
   {
    "duration": 0,
    "start_time": "2022-06-25T15:00:38.675Z"
   },
   {
    "duration": 0,
    "start_time": "2022-06-25T15:00:38.677Z"
   },
   {
    "duration": 0,
    "start_time": "2022-06-25T15:00:38.678Z"
   },
   {
    "duration": 0,
    "start_time": "2022-06-25T15:00:38.680Z"
   },
   {
    "duration": 0,
    "start_time": "2022-06-25T15:00:38.682Z"
   },
   {
    "duration": 0,
    "start_time": "2022-06-25T15:00:38.683Z"
   },
   {
    "duration": 0,
    "start_time": "2022-06-25T15:00:38.685Z"
   },
   {
    "duration": 0,
    "start_time": "2022-06-25T15:00:38.686Z"
   },
   {
    "duration": 0,
    "start_time": "2022-06-25T15:00:38.688Z"
   },
   {
    "duration": 0,
    "start_time": "2022-06-25T15:00:38.690Z"
   },
   {
    "duration": 0,
    "start_time": "2022-06-25T15:00:38.691Z"
   },
   {
    "duration": 0,
    "start_time": "2022-06-25T15:00:38.693Z"
   },
   {
    "duration": 0,
    "start_time": "2022-06-25T15:00:38.695Z"
   },
   {
    "duration": 0,
    "start_time": "2022-06-25T15:00:38.751Z"
   },
   {
    "duration": 0,
    "start_time": "2022-06-25T15:00:38.752Z"
   },
   {
    "duration": 0,
    "start_time": "2022-06-25T15:00:38.754Z"
   },
   {
    "duration": 429,
    "start_time": "2022-06-25T15:00:57.791Z"
   },
   {
    "duration": 273,
    "start_time": "2022-06-25T15:00:58.222Z"
   },
   {
    "duration": 592,
    "start_time": "2022-06-25T15:00:58.497Z"
   },
   {
    "duration": 3,
    "start_time": "2022-06-25T15:00:59.091Z"
   },
   {
    "duration": 80,
    "start_time": "2022-06-25T15:00:59.097Z"
   },
   {
    "duration": 16,
    "start_time": "2022-06-25T15:00:59.179Z"
   },
   {
    "duration": 15,
    "start_time": "2022-06-25T15:00:59.198Z"
   },
   {
    "duration": 44,
    "start_time": "2022-06-25T15:00:59.215Z"
   },
   {
    "duration": 7,
    "start_time": "2022-06-25T15:00:59.261Z"
   },
   {
    "duration": 14,
    "start_time": "2022-06-25T15:00:59.270Z"
   },
   {
    "duration": 22,
    "start_time": "2022-06-25T15:00:59.287Z"
   },
   {
    "duration": 41,
    "start_time": "2022-06-25T15:00:59.311Z"
   },
   {
    "duration": 9,
    "start_time": "2022-06-25T15:00:59.354Z"
   },
   {
    "duration": 15,
    "start_time": "2022-06-25T15:00:59.367Z"
   },
   {
    "duration": 8,
    "start_time": "2022-06-25T15:00:59.384Z"
   },
   {
    "duration": 15,
    "start_time": "2022-06-25T15:00:59.394Z"
   },
   {
    "duration": 41,
    "start_time": "2022-06-25T15:00:59.411Z"
   },
   {
    "duration": 10,
    "start_time": "2022-06-25T15:00:59.454Z"
   },
   {
    "duration": 263,
    "start_time": "2022-06-25T15:00:59.465Z"
   },
   {
    "duration": 8,
    "start_time": "2022-06-25T15:00:59.730Z"
   },
   {
    "duration": 191,
    "start_time": "2022-06-25T15:00:59.740Z"
   },
   {
    "duration": 22,
    "start_time": "2022-06-25T15:00:59.933Z"
   },
   {
    "duration": 4,
    "start_time": "2022-06-25T15:00:59.957Z"
   },
   {
    "duration": 10,
    "start_time": "2022-06-25T15:00:59.963Z"
   },
   {
    "duration": 12,
    "start_time": "2022-06-25T15:00:59.975Z"
   },
   {
    "duration": 3,
    "start_time": "2022-06-25T15:00:59.989Z"
   },
   {
    "duration": 7,
    "start_time": "2022-06-25T15:00:59.994Z"
   },
   {
    "duration": 50,
    "start_time": "2022-06-25T15:01:00.003Z"
   },
   {
    "duration": 10,
    "start_time": "2022-06-25T15:01:00.055Z"
   },
   {
    "duration": 6,
    "start_time": "2022-06-25T15:01:00.067Z"
   },
   {
    "duration": 13,
    "start_time": "2022-06-25T15:01:00.075Z"
   },
   {
    "duration": 10,
    "start_time": "2022-06-25T15:01:00.090Z"
   },
   {
    "duration": 5,
    "start_time": "2022-06-25T15:01:00.102Z"
   },
   {
    "duration": 6,
    "start_time": "2022-06-25T15:01:00.109Z"
   },
   {
    "duration": 11,
    "start_time": "2022-06-25T15:01:00.150Z"
   },
   {
    "duration": 299,
    "start_time": "2022-06-25T15:01:00.163Z"
   },
   {
    "duration": 7,
    "start_time": "2022-06-25T15:01:00.464Z"
   },
   {
    "duration": 16,
    "start_time": "2022-06-25T15:01:00.473Z"
   },
   {
    "duration": 20,
    "start_time": "2022-06-25T15:01:00.491Z"
   },
   {
    "duration": 18,
    "start_time": "2022-06-25T15:01:00.513Z"
   },
   {
    "duration": 30,
    "start_time": "2022-06-25T15:01:00.536Z"
   },
   {
    "duration": 10,
    "start_time": "2022-06-25T15:01:00.567Z"
   },
   {
    "duration": 153,
    "start_time": "2022-06-25T15:01:00.579Z"
   },
   {
    "duration": 0,
    "start_time": "2022-06-25T15:01:00.734Z"
   },
   {
    "duration": 0,
    "start_time": "2022-06-25T15:01:00.736Z"
   },
   {
    "duration": 0,
    "start_time": "2022-06-25T15:01:00.737Z"
   },
   {
    "duration": 0,
    "start_time": "2022-06-25T15:01:00.751Z"
   },
   {
    "duration": 0,
    "start_time": "2022-06-25T15:01:00.752Z"
   },
   {
    "duration": 0,
    "start_time": "2022-06-25T15:01:00.754Z"
   },
   {
    "duration": 0,
    "start_time": "2022-06-25T15:01:00.756Z"
   },
   {
    "duration": 0,
    "start_time": "2022-06-25T15:01:00.757Z"
   },
   {
    "duration": 0,
    "start_time": "2022-06-25T15:01:00.759Z"
   },
   {
    "duration": 0,
    "start_time": "2022-06-25T15:01:00.760Z"
   },
   {
    "duration": 0,
    "start_time": "2022-06-25T15:01:00.762Z"
   },
   {
    "duration": 0,
    "start_time": "2022-06-25T15:01:00.763Z"
   },
   {
    "duration": 0,
    "start_time": "2022-06-25T15:01:00.765Z"
   },
   {
    "duration": 0,
    "start_time": "2022-06-25T15:01:00.766Z"
   },
   {
    "duration": 0,
    "start_time": "2022-06-25T15:01:00.768Z"
   },
   {
    "duration": 0,
    "start_time": "2022-06-25T15:01:00.769Z"
   },
   {
    "duration": 0,
    "start_time": "2022-06-25T15:01:00.770Z"
   },
   {
    "duration": 0,
    "start_time": "2022-06-25T15:01:00.771Z"
   },
   {
    "duration": 0,
    "start_time": "2022-06-25T15:01:00.773Z"
   },
   {
    "duration": 0,
    "start_time": "2022-06-25T15:01:00.774Z"
   },
   {
    "duration": 0,
    "start_time": "2022-06-25T15:01:00.775Z"
   },
   {
    "duration": 0,
    "start_time": "2022-06-25T15:01:00.776Z"
   },
   {
    "duration": 0,
    "start_time": "2022-06-25T15:01:00.777Z"
   },
   {
    "duration": 0,
    "start_time": "2022-06-25T15:01:00.779Z"
   },
   {
    "duration": 0,
    "start_time": "2022-06-25T15:01:00.780Z"
   },
   {
    "duration": 0,
    "start_time": "2022-06-25T15:01:00.781Z"
   },
   {
    "duration": 0,
    "start_time": "2022-06-25T15:01:00.783Z"
   },
   {
    "duration": 525,
    "start_time": "2022-06-25T15:01:54.359Z"
   },
   {
    "duration": 288,
    "start_time": "2022-06-25T15:01:54.886Z"
   },
   {
    "duration": 561,
    "start_time": "2022-06-25T15:01:55.176Z"
   },
   {
    "duration": 4,
    "start_time": "2022-06-25T15:01:55.739Z"
   },
   {
    "duration": 89,
    "start_time": "2022-06-25T15:01:55.745Z"
   },
   {
    "duration": 16,
    "start_time": "2022-06-25T15:01:55.836Z"
   },
   {
    "duration": 15,
    "start_time": "2022-06-25T15:01:55.854Z"
   },
   {
    "duration": 22,
    "start_time": "2022-06-25T15:01:55.871Z"
   },
   {
    "duration": 8,
    "start_time": "2022-06-25T15:01:55.895Z"
   },
   {
    "duration": 12,
    "start_time": "2022-06-25T15:01:55.906Z"
   },
   {
    "duration": 28,
    "start_time": "2022-06-25T15:01:55.951Z"
   },
   {
    "duration": 7,
    "start_time": "2022-06-25T15:01:55.981Z"
   },
   {
    "duration": 10,
    "start_time": "2022-06-25T15:01:55.990Z"
   },
   {
    "duration": 16,
    "start_time": "2022-06-25T15:01:56.002Z"
   },
   {
    "duration": 34,
    "start_time": "2022-06-25T15:01:56.020Z"
   },
   {
    "duration": 15,
    "start_time": "2022-06-25T15:01:56.057Z"
   },
   {
    "duration": 4,
    "start_time": "2022-06-25T15:01:56.074Z"
   },
   {
    "duration": 9,
    "start_time": "2022-06-25T15:01:56.080Z"
   },
   {
    "duration": 266,
    "start_time": "2022-06-25T15:01:56.091Z"
   },
   {
    "duration": 7,
    "start_time": "2022-06-25T15:01:56.359Z"
   },
   {
    "duration": 194,
    "start_time": "2022-06-25T15:01:56.369Z"
   },
   {
    "duration": 13,
    "start_time": "2022-06-25T15:01:56.565Z"
   },
   {
    "duration": 7,
    "start_time": "2022-06-25T15:01:56.579Z"
   },
   {
    "duration": 11,
    "start_time": "2022-06-25T15:01:56.588Z"
   },
   {
    "duration": 30,
    "start_time": "2022-06-25T15:01:56.601Z"
   },
   {
    "duration": 4,
    "start_time": "2022-06-25T15:01:56.633Z"
   },
   {
    "duration": 5,
    "start_time": "2022-06-25T15:01:56.650Z"
   },
   {
    "duration": 10,
    "start_time": "2022-06-25T15:01:56.661Z"
   },
   {
    "duration": 9,
    "start_time": "2022-06-25T15:01:56.673Z"
   },
   {
    "duration": 6,
    "start_time": "2022-06-25T15:01:56.684Z"
   },
   {
    "duration": 14,
    "start_time": "2022-06-25T15:01:56.692Z"
   },
   {
    "duration": 45,
    "start_time": "2022-06-25T15:01:56.707Z"
   },
   {
    "duration": 5,
    "start_time": "2022-06-25T15:01:56.754Z"
   },
   {
    "duration": 7,
    "start_time": "2022-06-25T15:01:56.761Z"
   },
   {
    "duration": 12,
    "start_time": "2022-06-25T15:01:56.770Z"
   },
   {
    "duration": 269,
    "start_time": "2022-06-25T15:01:56.783Z"
   },
   {
    "duration": 7,
    "start_time": "2022-06-25T15:01:57.054Z"
   },
   {
    "duration": 15,
    "start_time": "2022-06-25T15:01:57.063Z"
   },
   {
    "duration": 4,
    "start_time": "2022-06-25T15:01:57.080Z"
   },
   {
    "duration": 20,
    "start_time": "2022-06-25T15:01:57.086Z"
   },
   {
    "duration": 47,
    "start_time": "2022-06-25T15:01:57.109Z"
   },
   {
    "duration": 12,
    "start_time": "2022-06-25T15:01:57.158Z"
   },
   {
    "duration": 11,
    "start_time": "2022-06-25T15:01:57.173Z"
   },
   {
    "duration": 156,
    "start_time": "2022-06-25T15:01:57.186Z"
   },
   {
    "duration": 0,
    "start_time": "2022-06-25T15:01:57.344Z"
   },
   {
    "duration": 0,
    "start_time": "2022-06-25T15:01:57.351Z"
   },
   {
    "duration": 0,
    "start_time": "2022-06-25T15:01:57.353Z"
   },
   {
    "duration": 0,
    "start_time": "2022-06-25T15:01:57.354Z"
   },
   {
    "duration": 0,
    "start_time": "2022-06-25T15:01:57.355Z"
   },
   {
    "duration": 0,
    "start_time": "2022-06-25T15:01:57.357Z"
   },
   {
    "duration": 0,
    "start_time": "2022-06-25T15:01:57.358Z"
   },
   {
    "duration": 0,
    "start_time": "2022-06-25T15:01:57.359Z"
   },
   {
    "duration": 0,
    "start_time": "2022-06-25T15:01:57.360Z"
   },
   {
    "duration": 0,
    "start_time": "2022-06-25T15:01:57.362Z"
   },
   {
    "duration": 0,
    "start_time": "2022-06-25T15:01:57.364Z"
   },
   {
    "duration": 0,
    "start_time": "2022-06-25T15:01:57.366Z"
   },
   {
    "duration": 0,
    "start_time": "2022-06-25T15:01:57.367Z"
   },
   {
    "duration": 0,
    "start_time": "2022-06-25T15:01:57.369Z"
   },
   {
    "duration": 0,
    "start_time": "2022-06-25T15:01:57.371Z"
   },
   {
    "duration": 0,
    "start_time": "2022-06-25T15:01:57.372Z"
   },
   {
    "duration": 0,
    "start_time": "2022-06-25T15:01:57.375Z"
   },
   {
    "duration": 0,
    "start_time": "2022-06-25T15:01:57.376Z"
   },
   {
    "duration": 0,
    "start_time": "2022-06-25T15:01:57.379Z"
   },
   {
    "duration": 0,
    "start_time": "2022-06-25T15:01:57.380Z"
   },
   {
    "duration": 0,
    "start_time": "2022-06-25T15:01:57.382Z"
   },
   {
    "duration": 0,
    "start_time": "2022-06-25T15:01:57.383Z"
   },
   {
    "duration": 0,
    "start_time": "2022-06-25T15:01:57.385Z"
   },
   {
    "duration": 0,
    "start_time": "2022-06-25T15:01:57.387Z"
   },
   {
    "duration": 0,
    "start_time": "2022-06-25T15:01:57.388Z"
   },
   {
    "duration": 0,
    "start_time": "2022-06-25T15:01:57.390Z"
   },
   {
    "duration": 0,
    "start_time": "2022-06-25T15:01:57.451Z"
   },
   {
    "duration": 437,
    "start_time": "2022-06-25T15:03:26.896Z"
   },
   {
    "duration": 271,
    "start_time": "2022-06-25T15:03:27.336Z"
   },
   {
    "duration": 592,
    "start_time": "2022-06-25T15:03:27.612Z"
   },
   {
    "duration": 3,
    "start_time": "2022-06-25T15:03:28.206Z"
   },
   {
    "duration": 77,
    "start_time": "2022-06-25T15:03:28.211Z"
   },
   {
    "duration": 16,
    "start_time": "2022-06-25T15:03:28.290Z"
   },
   {
    "duration": 15,
    "start_time": "2022-06-25T15:03:28.307Z"
   },
   {
    "duration": 38,
    "start_time": "2022-06-25T15:03:28.333Z"
   },
   {
    "duration": 7,
    "start_time": "2022-06-25T15:03:28.373Z"
   },
   {
    "duration": 13,
    "start_time": "2022-06-25T15:03:28.382Z"
   },
   {
    "duration": 23,
    "start_time": "2022-06-25T15:03:28.397Z"
   },
   {
    "duration": 34,
    "start_time": "2022-06-25T15:03:28.422Z"
   },
   {
    "duration": 8,
    "start_time": "2022-06-25T15:03:28.460Z"
   },
   {
    "duration": 17,
    "start_time": "2022-06-25T15:03:28.469Z"
   },
   {
    "duration": 9,
    "start_time": "2022-06-25T15:03:28.488Z"
   },
   {
    "duration": 52,
    "start_time": "2022-06-25T15:03:28.499Z"
   },
   {
    "duration": 5,
    "start_time": "2022-06-25T15:03:28.554Z"
   },
   {
    "duration": 12,
    "start_time": "2022-06-25T15:03:28.561Z"
   },
   {
    "duration": 261,
    "start_time": "2022-06-25T15:03:28.575Z"
   },
   {
    "duration": 16,
    "start_time": "2022-06-25T15:03:28.838Z"
   },
   {
    "duration": 189,
    "start_time": "2022-06-25T15:03:28.857Z"
   },
   {
    "duration": 12,
    "start_time": "2022-06-25T15:03:29.051Z"
   },
   {
    "duration": 4,
    "start_time": "2022-06-25T15:03:29.065Z"
   },
   {
    "duration": 9,
    "start_time": "2022-06-25T15:03:29.072Z"
   },
   {
    "duration": 18,
    "start_time": "2022-06-25T15:03:29.083Z"
   },
   {
    "duration": 5,
    "start_time": "2022-06-25T15:03:29.103Z"
   },
   {
    "duration": 41,
    "start_time": "2022-06-25T15:03:29.110Z"
   },
   {
    "duration": 9,
    "start_time": "2022-06-25T15:03:29.153Z"
   },
   {
    "duration": 10,
    "start_time": "2022-06-25T15:03:29.164Z"
   },
   {
    "duration": 6,
    "start_time": "2022-06-25T15:03:29.176Z"
   },
   {
    "duration": 14,
    "start_time": "2022-06-25T15:03:29.183Z"
   },
   {
    "duration": 10,
    "start_time": "2022-06-25T15:03:29.199Z"
   },
   {
    "duration": 43,
    "start_time": "2022-06-25T15:03:29.210Z"
   },
   {
    "duration": 6,
    "start_time": "2022-06-25T15:03:29.256Z"
   },
   {
    "duration": 12,
    "start_time": "2022-06-25T15:03:29.264Z"
   },
   {
    "duration": 275,
    "start_time": "2022-06-25T15:03:29.278Z"
   },
   {
    "duration": 7,
    "start_time": "2022-06-25T15:03:29.555Z"
   },
   {
    "duration": 13,
    "start_time": "2022-06-25T15:03:29.564Z"
   },
   {
    "duration": 3,
    "start_time": "2022-06-25T15:03:29.579Z"
   },
   {
    "duration": 16,
    "start_time": "2022-06-25T15:03:29.589Z"
   },
   {
    "duration": 8,
    "start_time": "2022-06-25T15:03:29.607Z"
   },
   {
    "duration": 45,
    "start_time": "2022-06-25T15:03:29.617Z"
   },
   {
    "duration": 12,
    "start_time": "2022-06-25T15:03:29.664Z"
   },
   {
    "duration": 7,
    "start_time": "2022-06-25T15:03:29.678Z"
   },
   {
    "duration": 154,
    "start_time": "2022-06-25T15:03:29.686Z"
   },
   {
    "duration": 0,
    "start_time": "2022-06-25T15:03:29.850Z"
   },
   {
    "duration": 0,
    "start_time": "2022-06-25T15:03:29.852Z"
   },
   {
    "duration": 0,
    "start_time": "2022-06-25T15:03:29.853Z"
   },
   {
    "duration": 0,
    "start_time": "2022-06-25T15:03:29.855Z"
   },
   {
    "duration": 0,
    "start_time": "2022-06-25T15:03:29.856Z"
   },
   {
    "duration": 0,
    "start_time": "2022-06-25T15:03:29.857Z"
   },
   {
    "duration": 0,
    "start_time": "2022-06-25T15:03:29.858Z"
   },
   {
    "duration": 0,
    "start_time": "2022-06-25T15:03:29.860Z"
   },
   {
    "duration": 0,
    "start_time": "2022-06-25T15:03:29.861Z"
   },
   {
    "duration": 0,
    "start_time": "2022-06-25T15:03:29.862Z"
   },
   {
    "duration": 0,
    "start_time": "2022-06-25T15:03:29.864Z"
   },
   {
    "duration": 0,
    "start_time": "2022-06-25T15:03:29.865Z"
   },
   {
    "duration": 0,
    "start_time": "2022-06-25T15:03:29.866Z"
   },
   {
    "duration": 0,
    "start_time": "2022-06-25T15:03:29.868Z"
   },
   {
    "duration": 0,
    "start_time": "2022-06-25T15:03:29.869Z"
   },
   {
    "duration": 0,
    "start_time": "2022-06-25T15:03:29.870Z"
   },
   {
    "duration": 0,
    "start_time": "2022-06-25T15:03:29.872Z"
   },
   {
    "duration": 0,
    "start_time": "2022-06-25T15:03:29.873Z"
   },
   {
    "duration": 0,
    "start_time": "2022-06-25T15:03:29.874Z"
   },
   {
    "duration": 0,
    "start_time": "2022-06-25T15:03:29.875Z"
   },
   {
    "duration": 0,
    "start_time": "2022-06-25T15:03:29.877Z"
   },
   {
    "duration": 0,
    "start_time": "2022-06-25T15:03:29.878Z"
   },
   {
    "duration": 0,
    "start_time": "2022-06-25T15:03:29.879Z"
   },
   {
    "duration": 0,
    "start_time": "2022-06-25T15:03:29.881Z"
   },
   {
    "duration": 0,
    "start_time": "2022-06-25T15:03:29.882Z"
   },
   {
    "duration": 0,
    "start_time": "2022-06-25T15:03:29.883Z"
   },
   {
    "duration": 0,
    "start_time": "2022-06-25T15:03:29.885Z"
   },
   {
    "duration": 471,
    "start_time": "2022-06-25T15:03:52.535Z"
   },
   {
    "duration": 264,
    "start_time": "2022-06-25T15:03:53.009Z"
   },
   {
    "duration": 541,
    "start_time": "2022-06-25T15:03:53.274Z"
   },
   {
    "duration": 3,
    "start_time": "2022-06-25T15:03:53.818Z"
   },
   {
    "duration": 82,
    "start_time": "2022-06-25T15:03:53.823Z"
   },
   {
    "duration": 16,
    "start_time": "2022-06-25T15:03:53.907Z"
   },
   {
    "duration": 14,
    "start_time": "2022-06-25T15:03:53.925Z"
   },
   {
    "duration": 23,
    "start_time": "2022-06-25T15:03:53.952Z"
   },
   {
    "duration": 7,
    "start_time": "2022-06-25T15:03:53.977Z"
   },
   {
    "duration": 12,
    "start_time": "2022-06-25T15:03:53.988Z"
   },
   {
    "duration": 56,
    "start_time": "2022-06-25T15:03:54.002Z"
   },
   {
    "duration": 8,
    "start_time": "2022-06-25T15:03:54.060Z"
   },
   {
    "duration": 9,
    "start_time": "2022-06-25T15:03:54.070Z"
   },
   {
    "duration": 19,
    "start_time": "2022-06-25T15:03:54.081Z"
   },
   {
    "duration": 8,
    "start_time": "2022-06-25T15:03:54.102Z"
   },
   {
    "duration": 48,
    "start_time": "2022-06-25T15:03:54.112Z"
   },
   {
    "duration": 4,
    "start_time": "2022-06-25T15:03:54.162Z"
   },
   {
    "duration": 13,
    "start_time": "2022-06-25T15:03:54.168Z"
   },
   {
    "duration": 264,
    "start_time": "2022-06-25T15:03:54.183Z"
   },
   {
    "duration": 10,
    "start_time": "2022-06-25T15:03:54.454Z"
   },
   {
    "duration": 284,
    "start_time": "2022-06-25T15:03:54.467Z"
   },
   {
    "duration": 16,
    "start_time": "2022-06-25T15:03:54.754Z"
   },
   {
    "duration": 6,
    "start_time": "2022-06-25T15:03:54.772Z"
   },
   {
    "duration": 13,
    "start_time": "2022-06-25T15:03:54.780Z"
   },
   {
    "duration": 20,
    "start_time": "2022-06-25T15:03:54.795Z"
   },
   {
    "duration": 35,
    "start_time": "2022-06-25T15:03:54.817Z"
   },
   {
    "duration": 7,
    "start_time": "2022-06-25T15:03:54.854Z"
   },
   {
    "duration": 10,
    "start_time": "2022-06-25T15:03:54.867Z"
   },
   {
    "duration": 10,
    "start_time": "2022-06-25T15:03:54.879Z"
   },
   {
    "duration": 8,
    "start_time": "2022-06-25T15:03:54.891Z"
   },
   {
    "duration": 17,
    "start_time": "2022-06-25T15:03:54.901Z"
   },
   {
    "duration": 9,
    "start_time": "2022-06-25T15:03:54.950Z"
   },
   {
    "duration": 7,
    "start_time": "2022-06-25T15:03:54.961Z"
   },
   {
    "duration": 9,
    "start_time": "2022-06-25T15:03:54.970Z"
   },
   {
    "duration": 12,
    "start_time": "2022-06-25T15:03:54.981Z"
   },
   {
    "duration": 269,
    "start_time": "2022-06-25T15:03:54.994Z"
   },
   {
    "duration": 7,
    "start_time": "2022-06-25T15:03:55.265Z"
   },
   {
    "duration": 14,
    "start_time": "2022-06-25T15:03:55.273Z"
   },
   {
    "duration": 4,
    "start_time": "2022-06-25T15:03:55.289Z"
   },
   {
    "duration": 14,
    "start_time": "2022-06-25T15:03:55.295Z"
   },
   {
    "duration": 5,
    "start_time": "2022-06-25T15:03:55.311Z"
   },
   {
    "duration": 46,
    "start_time": "2022-06-25T15:03:55.317Z"
   },
   {
    "duration": 11,
    "start_time": "2022-06-25T15:03:55.365Z"
   },
   {
    "duration": 5,
    "start_time": "2022-06-25T15:03:55.378Z"
   },
   {
    "duration": 162,
    "start_time": "2022-06-25T15:03:55.385Z"
   },
   {
    "duration": 0,
    "start_time": "2022-06-25T15:03:55.550Z"
   },
   {
    "duration": 0,
    "start_time": "2022-06-25T15:03:55.552Z"
   },
   {
    "duration": 0,
    "start_time": "2022-06-25T15:03:55.553Z"
   },
   {
    "duration": 0,
    "start_time": "2022-06-25T15:03:55.554Z"
   },
   {
    "duration": 0,
    "start_time": "2022-06-25T15:03:55.556Z"
   },
   {
    "duration": 0,
    "start_time": "2022-06-25T15:03:55.556Z"
   },
   {
    "duration": 0,
    "start_time": "2022-06-25T15:03:55.558Z"
   },
   {
    "duration": 0,
    "start_time": "2022-06-25T15:03:55.559Z"
   },
   {
    "duration": 0,
    "start_time": "2022-06-25T15:03:55.561Z"
   },
   {
    "duration": 0,
    "start_time": "2022-06-25T15:03:55.563Z"
   },
   {
    "duration": 0,
    "start_time": "2022-06-25T15:03:55.565Z"
   },
   {
    "duration": 0,
    "start_time": "2022-06-25T15:03:55.566Z"
   },
   {
    "duration": 0,
    "start_time": "2022-06-25T15:03:55.567Z"
   },
   {
    "duration": 0,
    "start_time": "2022-06-25T15:03:55.569Z"
   },
   {
    "duration": 0,
    "start_time": "2022-06-25T15:03:55.570Z"
   },
   {
    "duration": 0,
    "start_time": "2022-06-25T15:03:55.572Z"
   },
   {
    "duration": 0,
    "start_time": "2022-06-25T15:03:55.573Z"
   },
   {
    "duration": 0,
    "start_time": "2022-06-25T15:03:55.575Z"
   },
   {
    "duration": 0,
    "start_time": "2022-06-25T15:03:55.576Z"
   },
   {
    "duration": 0,
    "start_time": "2022-06-25T15:03:55.577Z"
   },
   {
    "duration": 0,
    "start_time": "2022-06-25T15:03:55.578Z"
   },
   {
    "duration": 0,
    "start_time": "2022-06-25T15:03:55.579Z"
   },
   {
    "duration": 0,
    "start_time": "2022-06-25T15:03:55.580Z"
   },
   {
    "duration": 0,
    "start_time": "2022-06-25T15:03:55.581Z"
   },
   {
    "duration": 0,
    "start_time": "2022-06-25T15:03:55.582Z"
   },
   {
    "duration": 0,
    "start_time": "2022-06-25T15:03:55.584Z"
   },
   {
    "duration": 0,
    "start_time": "2022-06-25T15:03:55.585Z"
   },
   {
    "duration": 463,
    "start_time": "2022-06-25T15:04:42.992Z"
   },
   {
    "duration": 285,
    "start_time": "2022-06-25T15:04:43.458Z"
   },
   {
    "duration": 552,
    "start_time": "2022-06-25T15:04:43.746Z"
   },
   {
    "duration": 3,
    "start_time": "2022-06-25T15:04:44.300Z"
   },
   {
    "duration": 79,
    "start_time": "2022-06-25T15:04:44.305Z"
   },
   {
    "duration": 22,
    "start_time": "2022-06-25T15:04:44.387Z"
   },
   {
    "duration": 29,
    "start_time": "2022-06-25T15:04:44.411Z"
   },
   {
    "duration": 33,
    "start_time": "2022-06-25T15:04:44.452Z"
   },
   {
    "duration": 8,
    "start_time": "2022-06-25T15:04:44.488Z"
   },
   {
    "duration": 16,
    "start_time": "2022-06-25T15:04:44.501Z"
   },
   {
    "duration": 56,
    "start_time": "2022-06-25T15:04:44.519Z"
   },
   {
    "duration": 13,
    "start_time": "2022-06-25T15:04:44.577Z"
   },
   {
    "duration": 23,
    "start_time": "2022-06-25T15:04:44.592Z"
   },
   {
    "duration": 33,
    "start_time": "2022-06-25T15:04:44.618Z"
   },
   {
    "duration": 24,
    "start_time": "2022-06-25T15:04:44.653Z"
   },
   {
    "duration": 23,
    "start_time": "2022-06-25T15:04:44.680Z"
   },
   {
    "duration": 11,
    "start_time": "2022-06-25T15:04:44.705Z"
   },
   {
    "duration": 11,
    "start_time": "2022-06-25T15:04:44.718Z"
   },
   {
    "duration": 240,
    "start_time": "2022-06-25T15:04:44.731Z"
   },
   {
    "duration": 7,
    "start_time": "2022-06-25T15:04:44.973Z"
   },
   {
    "duration": 191,
    "start_time": "2022-06-25T15:04:44.982Z"
   },
   {
    "duration": 13,
    "start_time": "2022-06-25T15:04:45.175Z"
   },
   {
    "duration": 4,
    "start_time": "2022-06-25T15:04:45.190Z"
   },
   {
    "duration": 11,
    "start_time": "2022-06-25T15:04:45.196Z"
   },
   {
    "duration": 44,
    "start_time": "2022-06-25T15:04:45.210Z"
   },
   {
    "duration": 5,
    "start_time": "2022-06-25T15:04:45.257Z"
   },
   {
    "duration": 5,
    "start_time": "2022-06-25T15:04:45.264Z"
   },
   {
    "duration": 9,
    "start_time": "2022-06-25T15:04:45.275Z"
   },
   {
    "duration": 8,
    "start_time": "2022-06-25T15:04:45.286Z"
   },
   {
    "duration": 6,
    "start_time": "2022-06-25T15:04:45.296Z"
   },
   {
    "duration": 14,
    "start_time": "2022-06-25T15:04:45.303Z"
   },
   {
    "duration": 8,
    "start_time": "2022-06-25T15:04:45.350Z"
   },
   {
    "duration": 5,
    "start_time": "2022-06-25T15:04:45.361Z"
   },
   {
    "duration": 6,
    "start_time": "2022-06-25T15:04:45.368Z"
   },
   {
    "duration": 11,
    "start_time": "2022-06-25T15:04:45.376Z"
   },
   {
    "duration": 275,
    "start_time": "2022-06-25T15:04:45.388Z"
   },
   {
    "duration": 7,
    "start_time": "2022-06-25T15:04:45.666Z"
   },
   {
    "duration": 13,
    "start_time": "2022-06-25T15:04:45.675Z"
   },
   {
    "duration": 4,
    "start_time": "2022-06-25T15:04:45.691Z"
   },
   {
    "duration": 18,
    "start_time": "2022-06-25T15:04:45.696Z"
   },
   {
    "duration": 35,
    "start_time": "2022-06-25T15:04:45.716Z"
   },
   {
    "duration": 17,
    "start_time": "2022-06-25T15:04:45.754Z"
   },
   {
    "duration": 12,
    "start_time": "2022-06-25T15:04:45.773Z"
   },
   {
    "duration": 9,
    "start_time": "2022-06-25T15:04:45.787Z"
   },
   {
    "duration": 154,
    "start_time": "2022-06-25T15:04:45.798Z"
   },
   {
    "duration": 0,
    "start_time": "2022-06-25T15:04:45.954Z"
   },
   {
    "duration": 0,
    "start_time": "2022-06-25T15:04:45.956Z"
   },
   {
    "duration": 0,
    "start_time": "2022-06-25T15:04:45.958Z"
   },
   {
    "duration": 0,
    "start_time": "2022-06-25T15:04:45.959Z"
   },
   {
    "duration": 0,
    "start_time": "2022-06-25T15:04:45.961Z"
   },
   {
    "duration": 0,
    "start_time": "2022-06-25T15:04:45.963Z"
   },
   {
    "duration": 0,
    "start_time": "2022-06-25T15:04:45.965Z"
   },
   {
    "duration": 0,
    "start_time": "2022-06-25T15:04:45.967Z"
   },
   {
    "duration": 0,
    "start_time": "2022-06-25T15:04:45.968Z"
   },
   {
    "duration": 0,
    "start_time": "2022-06-25T15:04:45.970Z"
   },
   {
    "duration": 0,
    "start_time": "2022-06-25T15:04:45.972Z"
   },
   {
    "duration": 0,
    "start_time": "2022-06-25T15:04:45.974Z"
   },
   {
    "duration": 0,
    "start_time": "2022-06-25T15:04:45.976Z"
   },
   {
    "duration": 0,
    "start_time": "2022-06-25T15:04:45.977Z"
   },
   {
    "duration": 0,
    "start_time": "2022-06-25T15:04:45.979Z"
   },
   {
    "duration": 0,
    "start_time": "2022-06-25T15:04:45.981Z"
   },
   {
    "duration": 0,
    "start_time": "2022-06-25T15:04:45.983Z"
   },
   {
    "duration": 0,
    "start_time": "2022-06-25T15:04:45.984Z"
   },
   {
    "duration": 0,
    "start_time": "2022-06-25T15:04:45.987Z"
   },
   {
    "duration": 1,
    "start_time": "2022-06-25T15:04:45.988Z"
   },
   {
    "duration": 0,
    "start_time": "2022-06-25T15:04:45.990Z"
   },
   {
    "duration": 0,
    "start_time": "2022-06-25T15:04:45.992Z"
   },
   {
    "duration": 0,
    "start_time": "2022-06-25T15:04:46.051Z"
   },
   {
    "duration": 0,
    "start_time": "2022-06-25T15:04:46.053Z"
   },
   {
    "duration": 0,
    "start_time": "2022-06-25T15:04:46.055Z"
   },
   {
    "duration": 0,
    "start_time": "2022-06-25T15:04:46.056Z"
   },
   {
    "duration": 0,
    "start_time": "2022-06-25T15:04:46.058Z"
   },
   {
    "duration": 411,
    "start_time": "2022-06-25T15:05:56.686Z"
   },
   {
    "duration": 281,
    "start_time": "2022-06-25T15:05:57.099Z"
   },
   {
    "duration": 561,
    "start_time": "2022-06-25T15:05:57.382Z"
   },
   {
    "duration": 4,
    "start_time": "2022-06-25T15:05:57.945Z"
   },
   {
    "duration": 100,
    "start_time": "2022-06-25T15:05:57.953Z"
   },
   {
    "duration": 17,
    "start_time": "2022-06-25T15:05:58.055Z"
   },
   {
    "duration": 15,
    "start_time": "2022-06-25T15:05:58.074Z"
   },
   {
    "duration": 22,
    "start_time": "2022-06-25T15:05:58.091Z"
   },
   {
    "duration": 37,
    "start_time": "2022-06-25T15:05:58.115Z"
   },
   {
    "duration": 13,
    "start_time": "2022-06-25T15:05:58.155Z"
   },
   {
    "duration": 26,
    "start_time": "2022-06-25T15:05:58.171Z"
   },
   {
    "duration": 8,
    "start_time": "2022-06-25T15:05:58.199Z"
   },
   {
    "duration": 43,
    "start_time": "2022-06-25T15:05:58.209Z"
   },
   {
    "duration": 21,
    "start_time": "2022-06-25T15:05:58.257Z"
   },
   {
    "duration": 9,
    "start_time": "2022-06-25T15:05:58.281Z"
   },
   {
    "duration": 14,
    "start_time": "2022-06-25T15:05:58.292Z"
   },
   {
    "duration": 3,
    "start_time": "2022-06-25T15:05:58.308Z"
   },
   {
    "duration": 39,
    "start_time": "2022-06-25T15:05:58.313Z"
   },
   {
    "duration": 243,
    "start_time": "2022-06-25T15:05:58.354Z"
   },
   {
    "duration": 7,
    "start_time": "2022-06-25T15:05:58.599Z"
   },
   {
    "duration": 193,
    "start_time": "2022-06-25T15:05:58.608Z"
   },
   {
    "duration": 11,
    "start_time": "2022-06-25T15:05:58.803Z"
   },
   {
    "duration": 4,
    "start_time": "2022-06-25T15:05:58.816Z"
   },
   {
    "duration": 30,
    "start_time": "2022-06-25T15:05:58.822Z"
   },
   {
    "duration": 14,
    "start_time": "2022-06-25T15:05:58.854Z"
   },
   {
    "duration": 3,
    "start_time": "2022-06-25T15:05:58.870Z"
   },
   {
    "duration": 6,
    "start_time": "2022-06-25T15:05:58.875Z"
   },
   {
    "duration": 12,
    "start_time": "2022-06-25T15:05:58.884Z"
   },
   {
    "duration": 10,
    "start_time": "2022-06-25T15:05:58.898Z"
   },
   {
    "duration": 7,
    "start_time": "2022-06-25T15:05:58.910Z"
   },
   {
    "duration": 40,
    "start_time": "2022-06-25T15:05:58.918Z"
   },
   {
    "duration": 9,
    "start_time": "2022-06-25T15:05:58.961Z"
   },
   {
    "duration": 6,
    "start_time": "2022-06-25T15:05:58.972Z"
   },
   {
    "duration": 10,
    "start_time": "2022-06-25T15:05:58.980Z"
   },
   {
    "duration": 11,
    "start_time": "2022-06-25T15:05:58.992Z"
   },
   {
    "duration": 280,
    "start_time": "2022-06-25T15:05:59.005Z"
   },
   {
    "duration": 6,
    "start_time": "2022-06-25T15:05:59.287Z"
   },
   {
    "duration": 14,
    "start_time": "2022-06-25T15:05:59.295Z"
   },
   {
    "duration": 4,
    "start_time": "2022-06-25T15:05:59.311Z"
   },
   {
    "duration": 36,
    "start_time": "2022-06-25T15:05:59.316Z"
   },
   {
    "duration": 4,
    "start_time": "2022-06-25T15:05:59.358Z"
   },
   {
    "duration": 19,
    "start_time": "2022-06-25T15:05:59.364Z"
   },
   {
    "duration": 12,
    "start_time": "2022-06-25T15:05:59.385Z"
   },
   {
    "duration": 51,
    "start_time": "2022-06-25T15:05:59.399Z"
   },
   {
    "duration": 0,
    "start_time": "2022-06-25T15:05:59.452Z"
   },
   {
    "duration": 0,
    "start_time": "2022-06-25T15:05:59.453Z"
   },
   {
    "duration": 0,
    "start_time": "2022-06-25T15:05:59.454Z"
   },
   {
    "duration": 1,
    "start_time": "2022-06-25T15:05:59.455Z"
   },
   {
    "duration": 0,
    "start_time": "2022-06-25T15:05:59.457Z"
   },
   {
    "duration": 0,
    "start_time": "2022-06-25T15:05:59.458Z"
   },
   {
    "duration": 0,
    "start_time": "2022-06-25T15:05:59.459Z"
   },
   {
    "duration": 0,
    "start_time": "2022-06-25T15:05:59.460Z"
   },
   {
    "duration": 0,
    "start_time": "2022-06-25T15:05:59.462Z"
   },
   {
    "duration": 0,
    "start_time": "2022-06-25T15:05:59.463Z"
   },
   {
    "duration": 0,
    "start_time": "2022-06-25T15:05:59.465Z"
   },
   {
    "duration": 0,
    "start_time": "2022-06-25T15:05:59.466Z"
   },
   {
    "duration": 0,
    "start_time": "2022-06-25T15:05:59.468Z"
   },
   {
    "duration": 0,
    "start_time": "2022-06-25T15:05:59.470Z"
   },
   {
    "duration": 0,
    "start_time": "2022-06-25T15:05:59.471Z"
   },
   {
    "duration": 0,
    "start_time": "2022-06-25T15:05:59.473Z"
   },
   {
    "duration": 0,
    "start_time": "2022-06-25T15:05:59.475Z"
   },
   {
    "duration": 0,
    "start_time": "2022-06-25T15:05:59.477Z"
   },
   {
    "duration": 0,
    "start_time": "2022-06-25T15:05:59.479Z"
   },
   {
    "duration": 0,
    "start_time": "2022-06-25T15:05:59.481Z"
   },
   {
    "duration": 1,
    "start_time": "2022-06-25T15:05:59.482Z"
   },
   {
    "duration": 0,
    "start_time": "2022-06-25T15:05:59.484Z"
   },
   {
    "duration": 0,
    "start_time": "2022-06-25T15:05:59.486Z"
   },
   {
    "duration": 0,
    "start_time": "2022-06-25T15:05:59.488Z"
   },
   {
    "duration": 0,
    "start_time": "2022-06-25T15:05:59.489Z"
   },
   {
    "duration": 0,
    "start_time": "2022-06-25T15:05:59.553Z"
   },
   {
    "duration": 0,
    "start_time": "2022-06-25T15:05:59.555Z"
   },
   {
    "duration": 0,
    "start_time": "2022-06-25T15:05:59.557Z"
   },
   {
    "duration": 443,
    "start_time": "2022-06-25T15:06:49.393Z"
   },
   {
    "duration": 268,
    "start_time": "2022-06-25T15:06:49.839Z"
   },
   {
    "duration": 592,
    "start_time": "2022-06-25T15:06:50.109Z"
   },
   {
    "duration": 3,
    "start_time": "2022-06-25T15:06:50.703Z"
   },
   {
    "duration": 77,
    "start_time": "2022-06-25T15:06:50.709Z"
   },
   {
    "duration": 17,
    "start_time": "2022-06-25T15:06:50.788Z"
   },
   {
    "duration": 19,
    "start_time": "2022-06-25T15:06:50.807Z"
   },
   {
    "duration": 40,
    "start_time": "2022-06-25T15:06:50.828Z"
   },
   {
    "duration": 8,
    "start_time": "2022-06-25T15:06:50.870Z"
   },
   {
    "duration": 13,
    "start_time": "2022-06-25T15:06:50.880Z"
   },
   {
    "duration": 58,
    "start_time": "2022-06-25T15:06:50.895Z"
   },
   {
    "duration": 7,
    "start_time": "2022-06-25T15:06:50.955Z"
   },
   {
    "duration": 12,
    "start_time": "2022-06-25T15:06:50.964Z"
   },
   {
    "duration": 20,
    "start_time": "2022-06-25T15:06:50.980Z"
   },
   {
    "duration": 13,
    "start_time": "2022-06-25T15:06:51.002Z"
   },
   {
    "duration": 37,
    "start_time": "2022-06-25T15:06:51.018Z"
   },
   {
    "duration": 4,
    "start_time": "2022-06-25T15:06:51.057Z"
   },
   {
    "duration": 14,
    "start_time": "2022-06-25T15:06:51.063Z"
   },
   {
    "duration": 259,
    "start_time": "2022-06-25T15:06:51.079Z"
   },
   {
    "duration": 14,
    "start_time": "2022-06-25T15:06:51.340Z"
   },
   {
    "duration": 199,
    "start_time": "2022-06-25T15:06:51.356Z"
   },
   {
    "duration": 12,
    "start_time": "2022-06-25T15:06:51.557Z"
   },
   {
    "duration": 4,
    "start_time": "2022-06-25T15:06:51.571Z"
   },
   {
    "duration": 10,
    "start_time": "2022-06-25T15:06:51.577Z"
   },
   {
    "duration": 15,
    "start_time": "2022-06-25T15:06:51.589Z"
   },
   {
    "duration": 4,
    "start_time": "2022-06-25T15:06:51.606Z"
   },
   {
    "duration": 39,
    "start_time": "2022-06-25T15:06:51.612Z"
   },
   {
    "duration": 8,
    "start_time": "2022-06-25T15:06:51.654Z"
   },
   {
    "duration": 12,
    "start_time": "2022-06-25T15:06:51.663Z"
   },
   {
    "duration": 6,
    "start_time": "2022-06-25T15:06:51.677Z"
   },
   {
    "duration": 17,
    "start_time": "2022-06-25T15:06:51.685Z"
   },
   {
    "duration": 14,
    "start_time": "2022-06-25T15:06:51.704Z"
   },
   {
    "duration": 34,
    "start_time": "2022-06-25T15:06:51.720Z"
   },
   {
    "duration": 12,
    "start_time": "2022-06-25T15:06:51.756Z"
   },
   {
    "duration": 12,
    "start_time": "2022-06-25T15:06:51.770Z"
   },
   {
    "duration": 270,
    "start_time": "2022-06-25T15:06:51.783Z"
   },
   {
    "duration": 7,
    "start_time": "2022-06-25T15:06:52.056Z"
   },
   {
    "duration": 16,
    "start_time": "2022-06-25T15:06:52.065Z"
   },
   {
    "duration": 11,
    "start_time": "2022-06-25T15:06:52.083Z"
   },
   {
    "duration": 14,
    "start_time": "2022-06-25T15:06:52.095Z"
   },
   {
    "duration": 4,
    "start_time": "2022-06-25T15:06:52.115Z"
   },
   {
    "duration": 41,
    "start_time": "2022-06-25T15:06:52.121Z"
   },
   {
    "duration": 16,
    "start_time": "2022-06-25T15:06:52.165Z"
   },
   {
    "duration": 9,
    "start_time": "2022-06-25T15:06:52.183Z"
   },
   {
    "duration": 144,
    "start_time": "2022-06-25T15:06:52.194Z"
   },
   {
    "duration": 0,
    "start_time": "2022-06-25T15:06:52.340Z"
   },
   {
    "duration": 1,
    "start_time": "2022-06-25T15:06:52.341Z"
   },
   {
    "duration": 0,
    "start_time": "2022-06-25T15:06:52.343Z"
   },
   {
    "duration": 0,
    "start_time": "2022-06-25T15:06:52.350Z"
   },
   {
    "duration": 0,
    "start_time": "2022-06-25T15:06:52.352Z"
   },
   {
    "duration": 0,
    "start_time": "2022-06-25T15:06:52.353Z"
   },
   {
    "duration": 0,
    "start_time": "2022-06-25T15:06:52.354Z"
   },
   {
    "duration": 0,
    "start_time": "2022-06-25T15:06:52.355Z"
   },
   {
    "duration": 0,
    "start_time": "2022-06-25T15:06:52.356Z"
   },
   {
    "duration": 0,
    "start_time": "2022-06-25T15:06:52.357Z"
   },
   {
    "duration": 0,
    "start_time": "2022-06-25T15:06:52.358Z"
   },
   {
    "duration": 0,
    "start_time": "2022-06-25T15:06:52.359Z"
   },
   {
    "duration": 0,
    "start_time": "2022-06-25T15:06:52.361Z"
   },
   {
    "duration": 0,
    "start_time": "2022-06-25T15:06:52.362Z"
   },
   {
    "duration": 0,
    "start_time": "2022-06-25T15:06:52.363Z"
   },
   {
    "duration": 0,
    "start_time": "2022-06-25T15:06:52.364Z"
   },
   {
    "duration": 0,
    "start_time": "2022-06-25T15:06:52.365Z"
   },
   {
    "duration": 0,
    "start_time": "2022-06-25T15:06:52.366Z"
   },
   {
    "duration": 0,
    "start_time": "2022-06-25T15:06:52.368Z"
   },
   {
    "duration": 0,
    "start_time": "2022-06-25T15:06:52.369Z"
   },
   {
    "duration": 0,
    "start_time": "2022-06-25T15:06:52.370Z"
   },
   {
    "duration": 0,
    "start_time": "2022-06-25T15:06:52.371Z"
   },
   {
    "duration": 0,
    "start_time": "2022-06-25T15:06:52.373Z"
   },
   {
    "duration": 0,
    "start_time": "2022-06-25T15:06:52.374Z"
   },
   {
    "duration": 0,
    "start_time": "2022-06-25T15:06:52.375Z"
   },
   {
    "duration": 0,
    "start_time": "2022-06-25T15:06:52.376Z"
   },
   {
    "duration": 0,
    "start_time": "2022-06-25T15:06:52.377Z"
   },
   {
    "duration": 433,
    "start_time": "2022-06-25T15:08:26.187Z"
   },
   {
    "duration": 277,
    "start_time": "2022-06-25T15:08:26.622Z"
   },
   {
    "duration": 586,
    "start_time": "2022-06-25T15:08:26.901Z"
   },
   {
    "duration": 4,
    "start_time": "2022-06-25T15:08:27.489Z"
   },
   {
    "duration": 79,
    "start_time": "2022-06-25T15:08:27.496Z"
   },
   {
    "duration": 16,
    "start_time": "2022-06-25T15:08:27.577Z"
   },
   {
    "duration": 17,
    "start_time": "2022-06-25T15:08:27.594Z"
   },
   {
    "duration": 39,
    "start_time": "2022-06-25T15:08:27.613Z"
   },
   {
    "duration": 9,
    "start_time": "2022-06-25T15:08:27.654Z"
   },
   {
    "duration": 12,
    "start_time": "2022-06-25T15:08:27.665Z"
   },
   {
    "duration": 30,
    "start_time": "2022-06-25T15:08:27.680Z"
   },
   {
    "duration": 8,
    "start_time": "2022-06-25T15:08:27.712Z"
   },
   {
    "duration": 34,
    "start_time": "2022-06-25T15:08:27.722Z"
   },
   {
    "duration": 21,
    "start_time": "2022-06-25T15:08:27.759Z"
   },
   {
    "duration": 16,
    "start_time": "2022-06-25T15:08:27.782Z"
   },
   {
    "duration": 19,
    "start_time": "2022-06-25T15:08:27.800Z"
   },
   {
    "duration": 5,
    "start_time": "2022-06-25T15:08:27.822Z"
   },
   {
    "duration": 25,
    "start_time": "2022-06-25T15:08:27.829Z"
   },
   {
    "duration": 254,
    "start_time": "2022-06-25T15:08:27.856Z"
   },
   {
    "duration": 8,
    "start_time": "2022-06-25T15:08:28.112Z"
   },
   {
    "duration": 185,
    "start_time": "2022-06-25T15:08:28.122Z"
   },
   {
    "duration": 12,
    "start_time": "2022-06-25T15:08:28.309Z"
   },
   {
    "duration": 4,
    "start_time": "2022-06-25T15:08:28.323Z"
   },
   {
    "duration": 29,
    "start_time": "2022-06-25T15:08:28.329Z"
   },
   {
    "duration": 14,
    "start_time": "2022-06-25T15:08:28.360Z"
   },
   {
    "duration": 4,
    "start_time": "2022-06-25T15:08:28.375Z"
   },
   {
    "duration": 6,
    "start_time": "2022-06-25T15:08:28.381Z"
   },
   {
    "duration": 12,
    "start_time": "2022-06-25T15:08:28.389Z"
   },
   {
    "duration": 11,
    "start_time": "2022-06-25T15:08:28.403Z"
   },
   {
    "duration": 37,
    "start_time": "2022-06-25T15:08:28.416Z"
   },
   {
    "duration": 16,
    "start_time": "2022-06-25T15:08:28.456Z"
   },
   {
    "duration": 11,
    "start_time": "2022-06-25T15:08:28.474Z"
   },
   {
    "duration": 7,
    "start_time": "2022-06-25T15:08:28.487Z"
   },
   {
    "duration": 12,
    "start_time": "2022-06-25T15:08:28.496Z"
   },
   {
    "duration": 12,
    "start_time": "2022-06-25T15:08:28.510Z"
   },
   {
    "duration": 247,
    "start_time": "2022-06-25T15:08:28.551Z"
   },
   {
    "duration": 7,
    "start_time": "2022-06-25T15:08:28.800Z"
   },
   {
    "duration": 15,
    "start_time": "2022-06-25T15:08:28.808Z"
   },
   {
    "duration": 3,
    "start_time": "2022-06-25T15:08:28.825Z"
   },
   {
    "duration": 30,
    "start_time": "2022-06-25T15:08:28.830Z"
   },
   {
    "duration": 4,
    "start_time": "2022-06-25T15:08:28.865Z"
   },
   {
    "duration": 19,
    "start_time": "2022-06-25T15:08:28.871Z"
   },
   {
    "duration": 16,
    "start_time": "2022-06-25T15:08:28.892Z"
   },
   {
    "duration": 6,
    "start_time": "2022-06-25T15:08:28.910Z"
   },
   {
    "duration": 134,
    "start_time": "2022-06-25T15:08:28.952Z"
   },
   {
    "duration": 0,
    "start_time": "2022-06-25T15:08:29.088Z"
   },
   {
    "duration": 0,
    "start_time": "2022-06-25T15:08:29.089Z"
   },
   {
    "duration": 0,
    "start_time": "2022-06-25T15:08:29.091Z"
   },
   {
    "duration": 0,
    "start_time": "2022-06-25T15:08:29.092Z"
   },
   {
    "duration": 0,
    "start_time": "2022-06-25T15:08:29.093Z"
   },
   {
    "duration": 1,
    "start_time": "2022-06-25T15:08:29.094Z"
   },
   {
    "duration": 0,
    "start_time": "2022-06-25T15:08:29.096Z"
   },
   {
    "duration": 0,
    "start_time": "2022-06-25T15:08:29.097Z"
   },
   {
    "duration": 0,
    "start_time": "2022-06-25T15:08:29.098Z"
   },
   {
    "duration": 0,
    "start_time": "2022-06-25T15:08:29.099Z"
   },
   {
    "duration": 0,
    "start_time": "2022-06-25T15:08:29.100Z"
   },
   {
    "duration": 0,
    "start_time": "2022-06-25T15:08:29.101Z"
   },
   {
    "duration": 0,
    "start_time": "2022-06-25T15:08:29.102Z"
   },
   {
    "duration": 0,
    "start_time": "2022-06-25T15:08:29.103Z"
   },
   {
    "duration": 0,
    "start_time": "2022-06-25T15:08:29.105Z"
   },
   {
    "duration": 0,
    "start_time": "2022-06-25T15:08:29.105Z"
   },
   {
    "duration": 0,
    "start_time": "2022-06-25T15:08:29.107Z"
   },
   {
    "duration": 0,
    "start_time": "2022-06-25T15:08:29.108Z"
   },
   {
    "duration": 0,
    "start_time": "2022-06-25T15:08:29.109Z"
   },
   {
    "duration": 0,
    "start_time": "2022-06-25T15:08:29.110Z"
   },
   {
    "duration": 0,
    "start_time": "2022-06-25T15:08:29.112Z"
   },
   {
    "duration": 0,
    "start_time": "2022-06-25T15:08:29.151Z"
   },
   {
    "duration": 0,
    "start_time": "2022-06-25T15:08:29.152Z"
   },
   {
    "duration": 0,
    "start_time": "2022-06-25T15:08:29.153Z"
   },
   {
    "duration": 0,
    "start_time": "2022-06-25T15:08:29.155Z"
   },
   {
    "duration": 0,
    "start_time": "2022-06-25T15:08:29.156Z"
   },
   {
    "duration": 0,
    "start_time": "2022-06-25T15:08:29.157Z"
   },
   {
    "duration": 472,
    "start_time": "2022-06-25T15:33:04.336Z"
   },
   {
    "duration": 228,
    "start_time": "2022-06-25T15:33:04.810Z"
   },
   {
    "duration": 556,
    "start_time": "2022-06-25T15:33:05.040Z"
   },
   {
    "duration": 3,
    "start_time": "2022-06-25T15:33:05.599Z"
   },
   {
    "duration": 87,
    "start_time": "2022-06-25T15:33:05.604Z"
   },
   {
    "duration": 14,
    "start_time": "2022-06-25T15:33:05.692Z"
   },
   {
    "duration": 25,
    "start_time": "2022-06-25T15:33:05.708Z"
   },
   {
    "duration": 35,
    "start_time": "2022-06-25T15:33:05.735Z"
   },
   {
    "duration": 7,
    "start_time": "2022-06-25T15:33:05.773Z"
   },
   {
    "duration": 21,
    "start_time": "2022-06-25T15:33:05.784Z"
   },
   {
    "duration": 29,
    "start_time": "2022-06-25T15:33:05.807Z"
   },
   {
    "duration": 21,
    "start_time": "2022-06-25T15:33:05.838Z"
   },
   {
    "duration": 18,
    "start_time": "2022-06-25T15:33:05.861Z"
   },
   {
    "duration": 27,
    "start_time": "2022-06-25T15:33:05.882Z"
   },
   {
    "duration": 20,
    "start_time": "2022-06-25T15:33:05.911Z"
   },
   {
    "duration": 31,
    "start_time": "2022-06-25T15:33:05.933Z"
   },
   {
    "duration": 27,
    "start_time": "2022-06-25T15:33:05.965Z"
   },
   {
    "duration": 50,
    "start_time": "2022-06-25T15:33:05.993Z"
   },
   {
    "duration": 244,
    "start_time": "2022-06-25T15:33:06.045Z"
   },
   {
    "duration": 9,
    "start_time": "2022-06-25T15:33:06.291Z"
   },
   {
    "duration": 200,
    "start_time": "2022-06-25T15:33:06.302Z"
   },
   {
    "duration": 10,
    "start_time": "2022-06-25T15:33:06.503Z"
   },
   {
    "duration": 33,
    "start_time": "2022-06-25T15:33:06.514Z"
   },
   {
    "duration": 18,
    "start_time": "2022-06-25T15:33:06.548Z"
   },
   {
    "duration": 28,
    "start_time": "2022-06-25T15:33:06.567Z"
   },
   {
    "duration": 3,
    "start_time": "2022-06-25T15:33:06.597Z"
   },
   {
    "duration": 21,
    "start_time": "2022-06-25T15:33:06.602Z"
   },
   {
    "duration": 26,
    "start_time": "2022-06-25T15:33:06.628Z"
   },
   {
    "duration": 18,
    "start_time": "2022-06-25T15:33:06.656Z"
   },
   {
    "duration": 38,
    "start_time": "2022-06-25T15:33:06.676Z"
   },
   {
    "duration": 23,
    "start_time": "2022-06-25T15:33:06.716Z"
   },
   {
    "duration": 20,
    "start_time": "2022-06-25T15:33:06.741Z"
   },
   {
    "duration": 17,
    "start_time": "2022-06-25T15:33:06.763Z"
   },
   {
    "duration": 23,
    "start_time": "2022-06-25T15:33:06.782Z"
   },
   {
    "duration": 39,
    "start_time": "2022-06-25T15:33:06.807Z"
   },
   {
    "duration": 241,
    "start_time": "2022-06-25T15:33:06.848Z"
   },
   {
    "duration": 7,
    "start_time": "2022-06-25T15:33:07.091Z"
   },
   {
    "duration": 21,
    "start_time": "2022-06-25T15:33:07.099Z"
   },
   {
    "duration": 34,
    "start_time": "2022-06-25T15:33:07.122Z"
   },
   {
    "duration": 27,
    "start_time": "2022-06-25T15:33:07.158Z"
   },
   {
    "duration": 38,
    "start_time": "2022-06-25T15:33:07.186Z"
   },
   {
    "duration": 35,
    "start_time": "2022-06-25T15:33:07.226Z"
   },
   {
    "duration": 31,
    "start_time": "2022-06-25T15:33:07.263Z"
   },
   {
    "duration": 44,
    "start_time": "2022-06-25T15:33:07.296Z"
   },
   {
    "duration": 972,
    "start_time": "2022-06-25T15:33:07.342Z"
   },
   {
    "duration": 0,
    "start_time": "2022-06-25T15:33:08.315Z"
   },
   {
    "duration": 0,
    "start_time": "2022-06-25T15:33:08.317Z"
   },
   {
    "duration": 0,
    "start_time": "2022-06-25T15:33:08.318Z"
   },
   {
    "duration": 0,
    "start_time": "2022-06-25T15:33:08.319Z"
   },
   {
    "duration": 0,
    "start_time": "2022-06-25T15:33:08.321Z"
   },
   {
    "duration": 0,
    "start_time": "2022-06-25T15:33:08.322Z"
   },
   {
    "duration": 0,
    "start_time": "2022-06-25T15:33:08.324Z"
   },
   {
    "duration": 0,
    "start_time": "2022-06-25T15:33:08.325Z"
   },
   {
    "duration": 0,
    "start_time": "2022-06-25T15:33:08.326Z"
   },
   {
    "duration": 0,
    "start_time": "2022-06-25T15:33:08.327Z"
   },
   {
    "duration": 0,
    "start_time": "2022-06-25T15:33:08.328Z"
   },
   {
    "duration": 0,
    "start_time": "2022-06-25T15:33:08.329Z"
   },
   {
    "duration": 0,
    "start_time": "2022-06-25T15:33:08.330Z"
   },
   {
    "duration": 0,
    "start_time": "2022-06-25T15:33:08.331Z"
   },
   {
    "duration": 0,
    "start_time": "2022-06-25T15:33:08.333Z"
   },
   {
    "duration": 0,
    "start_time": "2022-06-25T15:33:08.334Z"
   },
   {
    "duration": 0,
    "start_time": "2022-06-25T15:33:08.336Z"
   },
   {
    "duration": 0,
    "start_time": "2022-06-25T15:33:08.337Z"
   },
   {
    "duration": 0,
    "start_time": "2022-06-25T15:33:08.338Z"
   },
   {
    "duration": 0,
    "start_time": "2022-06-25T15:33:08.339Z"
   },
   {
    "duration": 0,
    "start_time": "2022-06-25T15:33:08.340Z"
   },
   {
    "duration": 0,
    "start_time": "2022-06-25T15:33:08.341Z"
   },
   {
    "duration": 0,
    "start_time": "2022-06-25T15:33:08.342Z"
   },
   {
    "duration": 0,
    "start_time": "2022-06-25T15:33:08.343Z"
   },
   {
    "duration": 0,
    "start_time": "2022-06-25T15:33:08.344Z"
   },
   {
    "duration": 0,
    "start_time": "2022-06-25T15:33:08.345Z"
   },
   {
    "duration": 0,
    "start_time": "2022-06-25T15:33:08.346Z"
   },
   {
    "duration": 428,
    "start_time": "2022-06-25T15:34:16.965Z"
   },
   {
    "duration": 288,
    "start_time": "2022-06-25T15:34:17.396Z"
   },
   {
    "duration": 558,
    "start_time": "2022-06-25T15:34:17.687Z"
   },
   {
    "duration": 4,
    "start_time": "2022-06-25T15:34:18.247Z"
   },
   {
    "duration": 78,
    "start_time": "2022-06-25T15:34:18.253Z"
   },
   {
    "duration": 17,
    "start_time": "2022-06-25T15:34:18.333Z"
   },
   {
    "duration": 14,
    "start_time": "2022-06-25T15:34:18.352Z"
   },
   {
    "duration": 25,
    "start_time": "2022-06-25T15:34:18.368Z"
   },
   {
    "duration": 7,
    "start_time": "2022-06-25T15:34:18.395Z"
   },
   {
    "duration": 13,
    "start_time": "2022-06-25T15:34:18.406Z"
   },
   {
    "duration": 48,
    "start_time": "2022-06-25T15:34:18.422Z"
   },
   {
    "duration": 8,
    "start_time": "2022-06-25T15:34:18.471Z"
   },
   {
    "duration": 9,
    "start_time": "2022-06-25T15:34:18.481Z"
   },
   {
    "duration": 14,
    "start_time": "2022-06-25T15:34:18.492Z"
   },
   {
    "duration": 6,
    "start_time": "2022-06-25T15:34:18.508Z"
   },
   {
    "duration": 43,
    "start_time": "2022-06-25T15:34:18.516Z"
   },
   {
    "duration": 4,
    "start_time": "2022-06-25T15:34:18.561Z"
   },
   {
    "duration": 11,
    "start_time": "2022-06-25T15:34:18.566Z"
   },
   {
    "duration": 244,
    "start_time": "2022-06-25T15:34:18.579Z"
   },
   {
    "duration": 24,
    "start_time": "2022-06-25T15:34:18.827Z"
   },
   {
    "duration": 174,
    "start_time": "2022-06-25T15:34:18.853Z"
   },
   {
    "duration": 10,
    "start_time": "2022-06-25T15:34:19.029Z"
   },
   {
    "duration": 12,
    "start_time": "2022-06-25T15:34:19.041Z"
   },
   {
    "duration": 10,
    "start_time": "2022-06-25T15:34:19.055Z"
   },
   {
    "duration": 17,
    "start_time": "2022-06-25T15:34:19.067Z"
   },
   {
    "duration": 4,
    "start_time": "2022-06-25T15:34:19.086Z"
   },
   {
    "duration": 10,
    "start_time": "2022-06-25T15:34:19.092Z"
   },
   {
    "duration": 14,
    "start_time": "2022-06-25T15:34:19.108Z"
   },
   {
    "duration": 35,
    "start_time": "2022-06-25T15:34:19.124Z"
   },
   {
    "duration": 8,
    "start_time": "2022-06-25T15:34:19.161Z"
   },
   {
    "duration": 14,
    "start_time": "2022-06-25T15:34:19.171Z"
   },
   {
    "duration": 9,
    "start_time": "2022-06-25T15:34:19.187Z"
   },
   {
    "duration": 5,
    "start_time": "2022-06-25T15:34:19.198Z"
   },
   {
    "duration": 8,
    "start_time": "2022-06-25T15:34:19.205Z"
   },
   {
    "duration": 37,
    "start_time": "2022-06-25T15:34:19.215Z"
   },
   {
    "duration": 247,
    "start_time": "2022-06-25T15:34:19.253Z"
   },
   {
    "duration": 8,
    "start_time": "2022-06-25T15:34:19.502Z"
   },
   {
    "duration": 19,
    "start_time": "2022-06-25T15:34:19.512Z"
   },
   {
    "duration": 18,
    "start_time": "2022-06-25T15:34:19.533Z"
   },
   {
    "duration": 13,
    "start_time": "2022-06-25T15:34:19.552Z"
   },
   {
    "duration": 5,
    "start_time": "2022-06-25T15:34:19.567Z"
   },
   {
    "duration": 18,
    "start_time": "2022-06-25T15:34:19.573Z"
   },
   {
    "duration": 11,
    "start_time": "2022-06-25T15:34:19.593Z"
   },
   {
    "duration": 4,
    "start_time": "2022-06-25T15:34:19.606Z"
   },
   {
    "duration": 146,
    "start_time": "2022-06-25T15:34:19.611Z"
   },
   {
    "duration": 1,
    "start_time": "2022-06-25T15:34:19.759Z"
   },
   {
    "duration": 0,
    "start_time": "2022-06-25T15:34:19.761Z"
   },
   {
    "duration": 0,
    "start_time": "2022-06-25T15:34:19.762Z"
   },
   {
    "duration": 0,
    "start_time": "2022-06-25T15:34:19.764Z"
   },
   {
    "duration": 0,
    "start_time": "2022-06-25T15:34:19.765Z"
   },
   {
    "duration": 0,
    "start_time": "2022-06-25T15:34:19.768Z"
   },
   {
    "duration": 0,
    "start_time": "2022-06-25T15:34:19.770Z"
   },
   {
    "duration": 0,
    "start_time": "2022-06-25T15:34:19.771Z"
   },
   {
    "duration": 0,
    "start_time": "2022-06-25T15:34:19.773Z"
   },
   {
    "duration": 0,
    "start_time": "2022-06-25T15:34:19.775Z"
   },
   {
    "duration": 0,
    "start_time": "2022-06-25T15:34:19.777Z"
   },
   {
    "duration": 0,
    "start_time": "2022-06-25T15:34:19.779Z"
   },
   {
    "duration": 0,
    "start_time": "2022-06-25T15:34:19.780Z"
   },
   {
    "duration": 0,
    "start_time": "2022-06-25T15:34:19.782Z"
   },
   {
    "duration": 0,
    "start_time": "2022-06-25T15:34:19.783Z"
   },
   {
    "duration": 0,
    "start_time": "2022-06-25T15:34:19.785Z"
   },
   {
    "duration": 0,
    "start_time": "2022-06-25T15:34:19.789Z"
   },
   {
    "duration": 0,
    "start_time": "2022-06-25T15:34:19.791Z"
   },
   {
    "duration": 0,
    "start_time": "2022-06-25T15:34:19.793Z"
   },
   {
    "duration": 0,
    "start_time": "2022-06-25T15:34:19.795Z"
   },
   {
    "duration": 0,
    "start_time": "2022-06-25T15:34:19.851Z"
   },
   {
    "duration": 0,
    "start_time": "2022-06-25T15:34:19.852Z"
   },
   {
    "duration": 0,
    "start_time": "2022-06-25T15:34:19.853Z"
   },
   {
    "duration": 0,
    "start_time": "2022-06-25T15:34:19.855Z"
   },
   {
    "duration": 0,
    "start_time": "2022-06-25T15:34:19.856Z"
   },
   {
    "duration": 0,
    "start_time": "2022-06-25T15:34:19.857Z"
   },
   {
    "duration": 0,
    "start_time": "2022-06-25T15:34:19.858Z"
   },
   {
    "duration": 473,
    "start_time": "2022-06-25T15:35:52.416Z"
   },
   {
    "duration": 268,
    "start_time": "2022-06-25T15:35:52.892Z"
   },
   {
    "duration": 602,
    "start_time": "2022-06-25T15:35:53.162Z"
   },
   {
    "duration": 3,
    "start_time": "2022-06-25T15:35:53.767Z"
   },
   {
    "duration": 80,
    "start_time": "2022-06-25T15:35:53.771Z"
   },
   {
    "duration": 17,
    "start_time": "2022-06-25T15:35:53.853Z"
   },
   {
    "duration": 15,
    "start_time": "2022-06-25T15:35:53.871Z"
   },
   {
    "duration": 22,
    "start_time": "2022-06-25T15:35:53.888Z"
   },
   {
    "duration": 8,
    "start_time": "2022-06-25T15:35:53.911Z"
   },
   {
    "duration": 13,
    "start_time": "2022-06-25T15:35:53.950Z"
   },
   {
    "duration": 25,
    "start_time": "2022-06-25T15:35:53.965Z"
   },
   {
    "duration": 9,
    "start_time": "2022-06-25T15:35:53.991Z"
   },
   {
    "duration": 11,
    "start_time": "2022-06-25T15:35:54.002Z"
   },
   {
    "duration": 46,
    "start_time": "2022-06-25T15:35:54.015Z"
   },
   {
    "duration": 8,
    "start_time": "2022-06-25T15:35:54.063Z"
   },
   {
    "duration": 16,
    "start_time": "2022-06-25T15:35:54.073Z"
   },
   {
    "duration": 4,
    "start_time": "2022-06-25T15:35:54.091Z"
   },
   {
    "duration": 14,
    "start_time": "2022-06-25T15:35:54.097Z"
   },
   {
    "duration": 293,
    "start_time": "2022-06-25T15:35:54.113Z"
   },
   {
    "duration": 10,
    "start_time": "2022-06-25T15:35:54.408Z"
   },
   {
    "duration": 264,
    "start_time": "2022-06-25T15:35:54.421Z"
   },
   {
    "duration": 11,
    "start_time": "2022-06-25T15:35:54.687Z"
   },
   {
    "duration": 5,
    "start_time": "2022-06-25T15:35:54.700Z"
   },
   {
    "duration": 11,
    "start_time": "2022-06-25T15:35:54.707Z"
   },
   {
    "duration": 38,
    "start_time": "2022-06-25T15:35:54.720Z"
   },
   {
    "duration": 4,
    "start_time": "2022-06-25T15:35:54.760Z"
   },
   {
    "duration": 7,
    "start_time": "2022-06-25T15:35:54.766Z"
   },
   {
    "duration": 9,
    "start_time": "2022-06-25T15:35:54.778Z"
   },
   {
    "duration": 10,
    "start_time": "2022-06-25T15:35:54.789Z"
   },
   {
    "duration": 11,
    "start_time": "2022-06-25T15:35:54.801Z"
   },
   {
    "duration": 46,
    "start_time": "2022-06-25T15:35:54.813Z"
   },
   {
    "duration": 10,
    "start_time": "2022-06-25T15:35:54.861Z"
   },
   {
    "duration": 7,
    "start_time": "2022-06-25T15:35:54.874Z"
   },
   {
    "duration": 16,
    "start_time": "2022-06-25T15:35:54.884Z"
   },
   {
    "duration": 16,
    "start_time": "2022-06-25T15:35:54.903Z"
   },
   {
    "duration": 272,
    "start_time": "2022-06-25T15:35:54.921Z"
   },
   {
    "duration": 7,
    "start_time": "2022-06-25T15:35:55.195Z"
   },
   {
    "duration": 14,
    "start_time": "2022-06-25T15:35:55.203Z"
   },
   {
    "duration": 4,
    "start_time": "2022-06-25T15:35:55.219Z"
   },
   {
    "duration": 33,
    "start_time": "2022-06-25T15:35:55.225Z"
   },
   {
    "duration": 5,
    "start_time": "2022-06-25T15:35:55.260Z"
   },
   {
    "duration": 20,
    "start_time": "2022-06-25T15:35:55.267Z"
   },
   {
    "duration": 14,
    "start_time": "2022-06-25T15:35:55.289Z"
   },
   {
    "duration": 6,
    "start_time": "2022-06-25T15:35:55.305Z"
   },
   {
    "duration": 47,
    "start_time": "2022-06-25T15:35:55.313Z"
   },
   {
    "duration": 14,
    "start_time": "2022-06-25T15:35:55.362Z"
   },
   {
    "duration": 199,
    "start_time": "2022-06-25T15:35:55.378Z"
   },
   {
    "duration": 14,
    "start_time": "2022-06-25T15:35:55.579Z"
   },
   {
    "duration": 14,
    "start_time": "2022-06-25T15:35:55.595Z"
   },
   {
    "duration": 5,
    "start_time": "2022-06-25T15:35:55.611Z"
   },
   {
    "duration": 32,
    "start_time": "2022-06-25T15:35:55.619Z"
   },
   {
    "duration": 12,
    "start_time": "2022-06-25T15:35:55.653Z"
   },
   {
    "duration": 9,
    "start_time": "2022-06-25T15:35:55.667Z"
   },
   {
    "duration": 249,
    "start_time": "2022-06-25T15:35:55.678Z"
   },
   {
    "duration": 229,
    "start_time": "2022-06-25T15:35:55.929Z"
   },
   {
    "duration": 15,
    "start_time": "2022-06-25T15:35:56.160Z"
   },
   {
    "duration": 15,
    "start_time": "2022-06-25T15:35:56.177Z"
   },
   {
    "duration": 21,
    "start_time": "2022-06-25T15:35:56.194Z"
   },
   {
    "duration": 44,
    "start_time": "2022-06-25T15:35:56.217Z"
   },
   {
    "duration": 7,
    "start_time": "2022-06-25T15:35:56.263Z"
   },
   {
    "duration": 267,
    "start_time": "2022-06-25T15:35:56.272Z"
   },
   {
    "duration": 21,
    "start_time": "2022-06-25T15:35:56.541Z"
   },
   {
    "duration": 4,
    "start_time": "2022-06-25T15:35:56.565Z"
   },
   {
    "duration": 6,
    "start_time": "2022-06-25T15:35:56.571Z"
   },
   {
    "duration": 15,
    "start_time": "2022-06-25T15:35:56.579Z"
   },
   {
    "duration": 11,
    "start_time": "2022-06-25T15:35:56.596Z"
   },
   {
    "duration": 101,
    "start_time": "2022-06-25T15:35:56.608Z"
   },
   {
    "duration": 13,
    "start_time": "2022-06-25T15:35:56.711Z"
   },
   {
    "duration": 5,
    "start_time": "2022-06-25T15:35:56.726Z"
   },
   {
    "duration": 16,
    "start_time": "2022-06-25T15:35:56.733Z"
   },
   {
    "duration": 11,
    "start_time": "2022-06-25T15:35:56.751Z"
   },
   {
    "duration": 6,
    "start_time": "2022-06-25T15:35:56.764Z"
   },
   {
    "duration": 125,
    "start_time": "2022-06-25T15:37:28.431Z"
   },
   {
    "duration": 413,
    "start_time": "2022-06-25T15:38:44.996Z"
   },
   {
    "duration": 276,
    "start_time": "2022-06-25T15:38:45.411Z"
   },
   {
    "duration": 602,
    "start_time": "2022-06-25T15:38:45.689Z"
   },
   {
    "duration": 3,
    "start_time": "2022-06-25T15:38:46.293Z"
   },
   {
    "duration": 77,
    "start_time": "2022-06-25T15:38:46.298Z"
   },
   {
    "duration": 21,
    "start_time": "2022-06-25T15:38:46.377Z"
   },
   {
    "duration": 19,
    "start_time": "2022-06-25T15:38:46.400Z"
   },
   {
    "duration": 40,
    "start_time": "2022-06-25T15:38:46.420Z"
   },
   {
    "duration": 9,
    "start_time": "2022-06-25T15:38:46.462Z"
   },
   {
    "duration": 13,
    "start_time": "2022-06-25T15:38:46.472Z"
   },
   {
    "duration": 25,
    "start_time": "2022-06-25T15:38:46.487Z"
   },
   {
    "duration": 8,
    "start_time": "2022-06-25T15:38:46.513Z"
   },
   {
    "duration": 36,
    "start_time": "2022-06-25T15:38:46.522Z"
   },
   {
    "duration": 19,
    "start_time": "2022-06-25T15:38:46.563Z"
   },
   {
    "duration": 10,
    "start_time": "2022-06-25T15:38:46.584Z"
   },
   {
    "duration": 17,
    "start_time": "2022-06-25T15:38:46.596Z"
   },
   {
    "duration": 4,
    "start_time": "2022-06-25T15:38:46.652Z"
   },
   {
    "duration": 14,
    "start_time": "2022-06-25T15:38:46.658Z"
   },
   {
    "duration": 258,
    "start_time": "2022-06-25T15:38:46.674Z"
   },
   {
    "duration": 8,
    "start_time": "2022-06-25T15:38:46.934Z"
   },
   {
    "duration": 192,
    "start_time": "2022-06-25T15:38:46.951Z"
   },
   {
    "duration": 13,
    "start_time": "2022-06-25T15:38:47.146Z"
   },
   {
    "duration": 6,
    "start_time": "2022-06-25T15:38:47.161Z"
   },
   {
    "duration": 23,
    "start_time": "2022-06-25T15:38:47.169Z"
   },
   {
    "duration": 34,
    "start_time": "2022-06-25T15:38:47.194Z"
   },
   {
    "duration": 18,
    "start_time": "2022-06-25T15:38:47.230Z"
   },
   {
    "duration": 25,
    "start_time": "2022-06-25T15:38:47.250Z"
   },
   {
    "duration": 19,
    "start_time": "2022-06-25T15:38:47.277Z"
   },
   {
    "duration": 28,
    "start_time": "2022-06-25T15:38:47.298Z"
   },
   {
    "duration": 43,
    "start_time": "2022-06-25T15:38:47.328Z"
   },
   {
    "duration": 24,
    "start_time": "2022-06-25T15:38:47.374Z"
   },
   {
    "duration": 35,
    "start_time": "2022-06-25T15:38:47.400Z"
   },
   {
    "duration": 34,
    "start_time": "2022-06-25T15:38:47.438Z"
   },
   {
    "duration": 29,
    "start_time": "2022-06-25T15:38:47.474Z"
   },
   {
    "duration": 29,
    "start_time": "2022-06-25T15:38:47.506Z"
   },
   {
    "duration": 258,
    "start_time": "2022-06-25T15:38:47.537Z"
   },
   {
    "duration": 7,
    "start_time": "2022-06-25T15:38:47.797Z"
   },
   {
    "duration": 45,
    "start_time": "2022-06-25T15:38:47.806Z"
   },
   {
    "duration": 35,
    "start_time": "2022-06-25T15:38:47.853Z"
   },
   {
    "duration": 37,
    "start_time": "2022-06-25T15:38:47.890Z"
   },
   {
    "duration": 21,
    "start_time": "2022-06-25T15:38:47.933Z"
   },
   {
    "duration": 34,
    "start_time": "2022-06-25T15:38:47.957Z"
   },
   {
    "duration": 39,
    "start_time": "2022-06-25T15:38:47.993Z"
   },
   {
    "duration": 22,
    "start_time": "2022-06-25T15:38:48.034Z"
   },
   {
    "duration": 44,
    "start_time": "2022-06-25T15:38:48.059Z"
   },
   {
    "duration": 33,
    "start_time": "2022-06-25T15:38:48.105Z"
   },
   {
    "duration": 39,
    "start_time": "2022-06-25T15:38:48.140Z"
   },
   {
    "duration": 28,
    "start_time": "2022-06-25T15:38:48.181Z"
   },
   {
    "duration": 151,
    "start_time": "2022-06-25T15:38:48.211Z"
   },
   {
    "duration": 0,
    "start_time": "2022-06-25T15:38:48.364Z"
   },
   {
    "duration": 0,
    "start_time": "2022-06-25T15:38:48.366Z"
   },
   {
    "duration": 0,
    "start_time": "2022-06-25T15:38:48.368Z"
   },
   {
    "duration": 0,
    "start_time": "2022-06-25T15:38:48.370Z"
   },
   {
    "duration": 0,
    "start_time": "2022-06-25T15:38:48.372Z"
   },
   {
    "duration": 0,
    "start_time": "2022-06-25T15:38:48.374Z"
   },
   {
    "duration": 0,
    "start_time": "2022-06-25T15:38:48.375Z"
   },
   {
    "duration": 0,
    "start_time": "2022-06-25T15:38:48.377Z"
   },
   {
    "duration": 0,
    "start_time": "2022-06-25T15:38:48.379Z"
   },
   {
    "duration": 0,
    "start_time": "2022-06-25T15:38:48.381Z"
   },
   {
    "duration": 1,
    "start_time": "2022-06-25T15:38:48.382Z"
   },
   {
    "duration": 0,
    "start_time": "2022-06-25T15:38:48.384Z"
   },
   {
    "duration": 0,
    "start_time": "2022-06-25T15:38:48.386Z"
   },
   {
    "duration": 0,
    "start_time": "2022-06-25T15:38:48.387Z"
   },
   {
    "duration": 0,
    "start_time": "2022-06-25T15:38:48.389Z"
   },
   {
    "duration": 0,
    "start_time": "2022-06-25T15:38:48.391Z"
   },
   {
    "duration": 0,
    "start_time": "2022-06-25T15:38:48.393Z"
   },
   {
    "duration": 0,
    "start_time": "2022-06-25T15:38:48.395Z"
   },
   {
    "duration": 0,
    "start_time": "2022-06-25T15:38:48.397Z"
   },
   {
    "duration": 0,
    "start_time": "2022-06-25T15:38:48.451Z"
   },
   {
    "duration": 0,
    "start_time": "2022-06-25T15:38:48.453Z"
   },
   {
    "duration": 0,
    "start_time": "2022-06-25T15:38:48.454Z"
   },
   {
    "duration": 0,
    "start_time": "2022-06-25T15:38:48.455Z"
   },
   {
    "duration": 0,
    "start_time": "2022-06-25T15:38:48.456Z"
   },
   {
    "duration": 0,
    "start_time": "2022-06-25T15:38:48.458Z"
   },
   {
    "duration": 515,
    "start_time": "2022-06-25T15:39:45.940Z"
   },
   {
    "duration": 282,
    "start_time": "2022-06-25T15:39:46.457Z"
   },
   {
    "duration": 576,
    "start_time": "2022-06-25T15:39:46.741Z"
   },
   {
    "duration": 4,
    "start_time": "2022-06-25T15:39:47.319Z"
   },
   {
    "duration": 78,
    "start_time": "2022-06-25T15:39:47.326Z"
   },
   {
    "duration": 16,
    "start_time": "2022-06-25T15:39:47.406Z"
   },
   {
    "duration": 28,
    "start_time": "2022-06-25T15:39:47.424Z"
   },
   {
    "duration": 21,
    "start_time": "2022-06-25T15:39:47.454Z"
   },
   {
    "duration": 8,
    "start_time": "2022-06-25T15:39:47.477Z"
   },
   {
    "duration": 14,
    "start_time": "2022-06-25T15:39:47.489Z"
   },
   {
    "duration": 63,
    "start_time": "2022-06-25T15:39:47.505Z"
   },
   {
    "duration": 10,
    "start_time": "2022-06-25T15:39:47.570Z"
   },
   {
    "duration": 9,
    "start_time": "2022-06-25T15:39:47.582Z"
   },
   {
    "duration": 60,
    "start_time": "2022-06-25T15:39:47.593Z"
   },
   {
    "duration": 8,
    "start_time": "2022-06-25T15:39:47.655Z"
   },
   {
    "duration": 16,
    "start_time": "2022-06-25T15:39:47.665Z"
   },
   {
    "duration": 4,
    "start_time": "2022-06-25T15:39:47.683Z"
   },
   {
    "duration": 14,
    "start_time": "2022-06-25T15:39:47.689Z"
   },
   {
    "duration": 279,
    "start_time": "2022-06-25T15:39:47.705Z"
   },
   {
    "duration": 8,
    "start_time": "2022-06-25T15:39:47.986Z"
   },
   {
    "duration": 383,
    "start_time": "2022-06-25T15:39:47.996Z"
   },
   {
    "duration": 14,
    "start_time": "2022-06-25T15:39:48.381Z"
   },
   {
    "duration": 57,
    "start_time": "2022-06-25T15:39:48.397Z"
   },
   {
    "duration": 10,
    "start_time": "2022-06-25T15:39:48.456Z"
   },
   {
    "duration": 16,
    "start_time": "2022-06-25T15:39:48.467Z"
   },
   {
    "duration": 4,
    "start_time": "2022-06-25T15:39:48.485Z"
   },
   {
    "duration": 61,
    "start_time": "2022-06-25T15:39:48.491Z"
   },
   {
    "duration": 11,
    "start_time": "2022-06-25T15:39:48.560Z"
   },
   {
    "duration": 11,
    "start_time": "2022-06-25T15:39:48.574Z"
   },
   {
    "duration": 7,
    "start_time": "2022-06-25T15:39:48.587Z"
   },
   {
    "duration": 61,
    "start_time": "2022-06-25T15:39:48.596Z"
   },
   {
    "duration": 12,
    "start_time": "2022-06-25T15:39:48.659Z"
   },
   {
    "duration": 14,
    "start_time": "2022-06-25T15:39:48.674Z"
   },
   {
    "duration": 9,
    "start_time": "2022-06-25T15:39:48.690Z"
   },
   {
    "duration": 14,
    "start_time": "2022-06-25T15:39:48.700Z"
   },
   {
    "duration": 284,
    "start_time": "2022-06-25T15:39:48.716Z"
   },
   {
    "duration": 8,
    "start_time": "2022-06-25T15:39:49.002Z"
   },
   {
    "duration": 17,
    "start_time": "2022-06-25T15:39:49.012Z"
   },
   {
    "duration": 3,
    "start_time": "2022-06-25T15:39:49.031Z"
   },
   {
    "duration": 13,
    "start_time": "2022-06-25T15:39:49.052Z"
   },
   {
    "duration": 10,
    "start_time": "2022-06-25T15:39:49.067Z"
   },
   {
    "duration": 20,
    "start_time": "2022-06-25T15:39:49.079Z"
   },
   {
    "duration": 16,
    "start_time": "2022-06-25T15:39:49.100Z"
   },
   {
    "duration": 34,
    "start_time": "2022-06-25T15:39:49.117Z"
   },
   {
    "duration": 19,
    "start_time": "2022-06-25T15:39:49.154Z"
   },
   {
    "duration": 17,
    "start_time": "2022-06-25T15:39:49.176Z"
   },
   {
    "duration": 11,
    "start_time": "2022-06-25T15:39:49.195Z"
   },
   {
    "duration": 10,
    "start_time": "2022-06-25T15:39:49.209Z"
   },
   {
    "duration": 151,
    "start_time": "2022-06-25T15:39:49.221Z"
   },
   {
    "duration": 0,
    "start_time": "2022-06-25T15:39:49.374Z"
   },
   {
    "duration": 0,
    "start_time": "2022-06-25T15:39:49.376Z"
   },
   {
    "duration": 0,
    "start_time": "2022-06-25T15:39:49.377Z"
   },
   {
    "duration": 0,
    "start_time": "2022-06-25T15:39:49.378Z"
   },
   {
    "duration": 0,
    "start_time": "2022-06-25T15:39:49.379Z"
   },
   {
    "duration": 0,
    "start_time": "2022-06-25T15:39:49.381Z"
   },
   {
    "duration": 0,
    "start_time": "2022-06-25T15:39:49.382Z"
   },
   {
    "duration": 0,
    "start_time": "2022-06-25T15:39:49.383Z"
   },
   {
    "duration": 0,
    "start_time": "2022-06-25T15:39:49.385Z"
   },
   {
    "duration": 0,
    "start_time": "2022-06-25T15:39:49.386Z"
   },
   {
    "duration": 0,
    "start_time": "2022-06-25T15:39:49.387Z"
   },
   {
    "duration": 0,
    "start_time": "2022-06-25T15:39:49.388Z"
   },
   {
    "duration": 0,
    "start_time": "2022-06-25T15:39:49.389Z"
   },
   {
    "duration": 0,
    "start_time": "2022-06-25T15:39:49.390Z"
   },
   {
    "duration": 0,
    "start_time": "2022-06-25T15:39:49.392Z"
   },
   {
    "duration": 0,
    "start_time": "2022-06-25T15:39:49.394Z"
   },
   {
    "duration": 0,
    "start_time": "2022-06-25T15:39:49.395Z"
   },
   {
    "duration": 0,
    "start_time": "2022-06-25T15:39:49.398Z"
   },
   {
    "duration": 0,
    "start_time": "2022-06-25T15:39:49.399Z"
   },
   {
    "duration": 0,
    "start_time": "2022-06-25T15:39:49.401Z"
   },
   {
    "duration": 0,
    "start_time": "2022-06-25T15:39:49.452Z"
   },
   {
    "duration": 0,
    "start_time": "2022-06-25T15:39:49.453Z"
   },
   {
    "duration": 0,
    "start_time": "2022-06-25T15:39:49.456Z"
   },
   {
    "duration": 0,
    "start_time": "2022-06-25T15:39:49.457Z"
   },
   {
    "duration": 0,
    "start_time": "2022-06-25T15:39:49.459Z"
   },
   {
    "duration": 243,
    "start_time": "2022-06-25T15:40:10.485Z"
   },
   {
    "duration": 206,
    "start_time": "2022-06-25T15:40:36.496Z"
   },
   {
    "duration": 493,
    "start_time": "2022-06-25T15:41:46.226Z"
   },
   {
    "duration": 268,
    "start_time": "2022-06-25T15:41:46.721Z"
   },
   {
    "duration": 603,
    "start_time": "2022-06-25T15:41:46.992Z"
   },
   {
    "duration": 54,
    "start_time": "2022-06-25T15:41:47.597Z"
   },
   {
    "duration": 113,
    "start_time": "2022-06-25T15:41:47.654Z"
   },
   {
    "duration": 18,
    "start_time": "2022-06-25T15:41:47.769Z"
   },
   {
    "duration": 67,
    "start_time": "2022-06-25T15:41:47.789Z"
   },
   {
    "duration": 22,
    "start_time": "2022-06-25T15:41:47.858Z"
   },
   {
    "duration": 7,
    "start_time": "2022-06-25T15:41:47.882Z"
   },
   {
    "duration": 13,
    "start_time": "2022-06-25T15:41:47.893Z"
   },
   {
    "duration": 27,
    "start_time": "2022-06-25T15:41:47.908Z"
   },
   {
    "duration": 17,
    "start_time": "2022-06-25T15:41:47.937Z"
   },
   {
    "duration": 8,
    "start_time": "2022-06-25T15:41:47.956Z"
   },
   {
    "duration": 15,
    "start_time": "2022-06-25T15:41:47.966Z"
   },
   {
    "duration": 8,
    "start_time": "2022-06-25T15:41:47.983Z"
   },
   {
    "duration": 16,
    "start_time": "2022-06-25T15:41:47.993Z"
   },
   {
    "duration": 5,
    "start_time": "2022-06-25T15:41:48.011Z"
   },
   {
    "duration": 13,
    "start_time": "2022-06-25T15:41:48.017Z"
   },
   {
    "duration": 450,
    "start_time": "2022-06-25T15:41:48.033Z"
   },
   {
    "duration": 8,
    "start_time": "2022-06-25T15:41:48.485Z"
   },
   {
    "duration": 322,
    "start_time": "2022-06-25T15:41:48.496Z"
   },
   {
    "duration": 12,
    "start_time": "2022-06-25T15:41:48.820Z"
   },
   {
    "duration": 17,
    "start_time": "2022-06-25T15:41:48.834Z"
   },
   {
    "duration": 9,
    "start_time": "2022-06-25T15:41:48.853Z"
   },
   {
    "duration": 16,
    "start_time": "2022-06-25T15:41:48.864Z"
   },
   {
    "duration": 4,
    "start_time": "2022-06-25T15:41:48.882Z"
   },
   {
    "duration": 6,
    "start_time": "2022-06-25T15:41:48.888Z"
   },
   {
    "duration": 11,
    "start_time": "2022-06-25T15:41:48.900Z"
   },
   {
    "duration": 41,
    "start_time": "2022-06-25T15:41:48.913Z"
   },
   {
    "duration": 7,
    "start_time": "2022-06-25T15:41:48.957Z"
   },
   {
    "duration": 15,
    "start_time": "2022-06-25T15:41:48.965Z"
   },
   {
    "duration": 12,
    "start_time": "2022-06-25T15:41:48.982Z"
   },
   {
    "duration": 7,
    "start_time": "2022-06-25T15:41:48.996Z"
   },
   {
    "duration": 7,
    "start_time": "2022-06-25T15:41:49.005Z"
   },
   {
    "duration": 43,
    "start_time": "2022-06-25T15:41:49.014Z"
   },
   {
    "duration": 253,
    "start_time": "2022-06-25T15:41:49.059Z"
   },
   {
    "duration": 8,
    "start_time": "2022-06-25T15:41:49.313Z"
   },
   {
    "duration": 29,
    "start_time": "2022-06-25T15:41:49.322Z"
   },
   {
    "duration": 3,
    "start_time": "2022-06-25T15:41:49.353Z"
   },
   {
    "duration": 18,
    "start_time": "2022-06-25T15:41:49.358Z"
   },
   {
    "duration": 8,
    "start_time": "2022-06-25T15:41:49.378Z"
   },
   {
    "duration": 23,
    "start_time": "2022-06-25T15:41:49.388Z"
   },
   {
    "duration": 11,
    "start_time": "2022-06-25T15:41:49.413Z"
   },
   {
    "duration": 6,
    "start_time": "2022-06-25T15:41:49.451Z"
   },
   {
    "duration": 14,
    "start_time": "2022-06-25T15:41:49.459Z"
   },
   {
    "duration": 15,
    "start_time": "2022-06-25T15:41:49.475Z"
   },
   {
    "duration": 15,
    "start_time": "2022-06-25T15:41:49.492Z"
   },
   {
    "duration": 21,
    "start_time": "2022-06-25T15:41:49.509Z"
   },
   {
    "duration": 231,
    "start_time": "2022-06-25T15:41:49.550Z"
   },
   {
    "duration": 13,
    "start_time": "2022-06-25T15:41:49.783Z"
   },
   {
    "duration": 13,
    "start_time": "2022-06-25T15:41:49.798Z"
   },
   {
    "duration": 4,
    "start_time": "2022-06-25T15:41:49.813Z"
   },
   {
    "duration": 32,
    "start_time": "2022-06-25T15:41:49.819Z"
   },
   {
    "duration": 9,
    "start_time": "2022-06-25T15:41:49.853Z"
   },
   {
    "duration": 11,
    "start_time": "2022-06-25T15:41:49.864Z"
   },
   {
    "duration": 250,
    "start_time": "2022-06-25T15:41:49.877Z"
   },
   {
    "duration": 258,
    "start_time": "2022-06-25T15:41:50.129Z"
   },
   {
    "duration": 14,
    "start_time": "2022-06-25T15:41:50.389Z"
   },
   {
    "duration": 18,
    "start_time": "2022-06-25T15:41:50.405Z"
   },
   {
    "duration": 34,
    "start_time": "2022-06-25T15:41:50.425Z"
   },
   {
    "duration": 18,
    "start_time": "2022-06-25T15:41:50.461Z"
   },
   {
    "duration": 7,
    "start_time": "2022-06-25T15:41:50.481Z"
   },
   {
    "duration": 293,
    "start_time": "2022-06-25T15:41:50.490Z"
   },
   {
    "duration": 21,
    "start_time": "2022-06-25T15:41:50.785Z"
   },
   {
    "duration": 6,
    "start_time": "2022-06-25T15:41:50.808Z"
   },
   {
    "duration": 7,
    "start_time": "2022-06-25T15:41:50.816Z"
   },
   {
    "duration": 36,
    "start_time": "2022-06-25T15:41:50.825Z"
   },
   {
    "duration": 11,
    "start_time": "2022-06-25T15:41:50.863Z"
   },
   {
    "duration": 46,
    "start_time": "2022-06-25T15:41:50.876Z"
   },
   {
    "duration": 19,
    "start_time": "2022-06-25T15:41:50.924Z"
   },
   {
    "duration": 5,
    "start_time": "2022-06-25T15:41:50.951Z"
   },
   {
    "duration": 17,
    "start_time": "2022-06-25T15:41:50.957Z"
   },
   {
    "duration": 10,
    "start_time": "2022-06-25T15:41:50.976Z"
   },
   {
    "duration": 8,
    "start_time": "2022-06-25T15:41:50.988Z"
   },
   {
    "duration": 242,
    "start_time": "2022-06-25T15:45:39.080Z"
   },
   {
    "duration": 337,
    "start_time": "2022-06-25T15:45:51.702Z"
   },
   {
    "duration": 135,
    "start_time": "2022-06-25T15:46:26.656Z"
   },
   {
    "duration": 173,
    "start_time": "2022-06-25T15:46:33.117Z"
   },
   {
    "duration": 270,
    "start_time": "2022-06-25T15:46:37.812Z"
   },
   {
    "duration": 263,
    "start_time": "2022-06-25T15:47:07.975Z"
   },
   {
    "duration": 261,
    "start_time": "2022-06-25T15:47:16.554Z"
   },
   {
    "duration": 253,
    "start_time": "2022-06-25T15:47:23.288Z"
   },
   {
    "duration": 446,
    "start_time": "2022-06-25T15:47:53.965Z"
   },
   {
    "duration": 374,
    "start_time": "2022-06-25T15:47:54.414Z"
   },
   {
    "duration": 634,
    "start_time": "2022-06-25T15:47:54.791Z"
   },
   {
    "duration": 3,
    "start_time": "2022-06-25T15:47:55.428Z"
   },
   {
    "duration": 95,
    "start_time": "2022-06-25T15:47:55.433Z"
   },
   {
    "duration": 18,
    "start_time": "2022-06-25T15:47:55.530Z"
   },
   {
    "duration": 17,
    "start_time": "2022-06-25T15:47:55.550Z"
   },
   {
    "duration": 24,
    "start_time": "2022-06-25T15:47:55.569Z"
   },
   {
    "duration": 10,
    "start_time": "2022-06-25T15:47:55.595Z"
   },
   {
    "duration": 50,
    "start_time": "2022-06-25T15:47:55.610Z"
   },
   {
    "duration": 23,
    "start_time": "2022-06-25T15:47:55.663Z"
   },
   {
    "duration": 8,
    "start_time": "2022-06-25T15:47:55.688Z"
   },
   {
    "duration": 9,
    "start_time": "2022-06-25T15:47:55.698Z"
   },
   {
    "duration": 52,
    "start_time": "2022-06-25T15:47:55.709Z"
   },
   {
    "duration": 8,
    "start_time": "2022-06-25T15:47:55.763Z"
   },
   {
    "duration": 18,
    "start_time": "2022-06-25T15:47:55.772Z"
   },
   {
    "duration": 5,
    "start_time": "2022-06-25T15:47:55.793Z"
   },
   {
    "duration": 16,
    "start_time": "2022-06-25T15:47:55.801Z"
   },
   {
    "duration": 313,
    "start_time": "2022-06-25T15:47:55.820Z"
   },
   {
    "duration": 17,
    "start_time": "2022-06-25T15:47:56.135Z"
   },
   {
    "duration": 203,
    "start_time": "2022-06-25T15:47:56.154Z"
   },
   {
    "duration": 16,
    "start_time": "2022-06-25T15:47:56.359Z"
   },
   {
    "duration": 9,
    "start_time": "2022-06-25T15:47:56.377Z"
   },
   {
    "duration": 11,
    "start_time": "2022-06-25T15:47:56.389Z"
   },
   {
    "duration": 19,
    "start_time": "2022-06-25T15:47:56.402Z"
   },
   {
    "duration": 29,
    "start_time": "2022-06-25T15:47:56.423Z"
   },
   {
    "duration": 7,
    "start_time": "2022-06-25T15:47:56.455Z"
   },
   {
    "duration": 12,
    "start_time": "2022-06-25T15:47:56.467Z"
   },
   {
    "duration": 10,
    "start_time": "2022-06-25T15:47:56.482Z"
   },
   {
    "duration": 13,
    "start_time": "2022-06-25T15:47:56.495Z"
   },
   {
    "duration": 18,
    "start_time": "2022-06-25T15:47:56.511Z"
   },
   {
    "duration": 28,
    "start_time": "2022-06-25T15:47:56.531Z"
   },
   {
    "duration": 8,
    "start_time": "2022-06-25T15:47:56.562Z"
   },
   {
    "duration": 10,
    "start_time": "2022-06-25T15:47:56.573Z"
   },
   {
    "duration": 19,
    "start_time": "2022-06-25T15:47:56.586Z"
   },
   {
    "duration": 288,
    "start_time": "2022-06-25T15:47:56.607Z"
   },
   {
    "duration": 7,
    "start_time": "2022-06-25T15:47:56.897Z"
   },
   {
    "duration": 14,
    "start_time": "2022-06-25T15:47:56.906Z"
   },
   {
    "duration": 3,
    "start_time": "2022-06-25T15:47:56.922Z"
   },
   {
    "duration": 32,
    "start_time": "2022-06-25T15:47:56.927Z"
   },
   {
    "duration": 8,
    "start_time": "2022-06-25T15:47:56.961Z"
   },
   {
    "duration": 20,
    "start_time": "2022-06-25T15:47:56.971Z"
   },
   {
    "duration": 13,
    "start_time": "2022-06-25T15:47:56.993Z"
   },
   {
    "duration": 43,
    "start_time": "2022-06-25T15:47:57.008Z"
   },
   {
    "duration": 16,
    "start_time": "2022-06-25T15:47:57.053Z"
   },
   {
    "duration": 14,
    "start_time": "2022-06-25T15:47:57.071Z"
   },
   {
    "duration": 12,
    "start_time": "2022-06-25T15:47:57.087Z"
   },
   {
    "duration": 10,
    "start_time": "2022-06-25T15:47:57.101Z"
   },
   {
    "duration": 254,
    "start_time": "2022-06-25T15:47:57.113Z"
   },
   {
    "duration": 13,
    "start_time": "2022-06-25T15:47:57.370Z"
   },
   {
    "duration": 12,
    "start_time": "2022-06-25T15:47:57.386Z"
   },
   {
    "duration": 7,
    "start_time": "2022-06-25T15:47:57.400Z"
   },
   {
    "duration": 7,
    "start_time": "2022-06-25T15:47:57.409Z"
   },
   {
    "duration": 39,
    "start_time": "2022-06-25T15:47:57.418Z"
   },
   {
    "duration": 10,
    "start_time": "2022-06-25T15:47:57.460Z"
   },
   {
    "duration": 275,
    "start_time": "2022-06-25T15:47:57.473Z"
   },
   {
    "duration": 242,
    "start_time": "2022-06-25T15:47:57.751Z"
   },
   {
    "duration": 15,
    "start_time": "2022-06-25T15:47:57.996Z"
   },
   {
    "duration": 14,
    "start_time": "2022-06-25T15:47:58.014Z"
   },
   {
    "duration": 47,
    "start_time": "2022-06-25T15:47:58.030Z"
   },
   {
    "duration": 23,
    "start_time": "2022-06-25T15:47:58.080Z"
   },
   {
    "duration": 8,
    "start_time": "2022-06-25T15:47:58.106Z"
   },
   {
    "duration": 317,
    "start_time": "2022-06-25T15:47:58.116Z"
   },
   {
    "duration": 23,
    "start_time": "2022-06-25T15:47:58.435Z"
   },
   {
    "duration": 5,
    "start_time": "2022-06-25T15:47:58.460Z"
   },
   {
    "duration": 8,
    "start_time": "2022-06-25T15:47:58.467Z"
   },
   {
    "duration": 18,
    "start_time": "2022-06-25T15:47:58.478Z"
   },
   {
    "duration": 11,
    "start_time": "2022-06-25T15:47:58.498Z"
   },
   {
    "duration": 54,
    "start_time": "2022-06-25T15:47:58.512Z"
   },
   {
    "duration": 12,
    "start_time": "2022-06-25T15:47:58.569Z"
   },
   {
    "duration": 10,
    "start_time": "2022-06-25T15:47:58.584Z"
   },
   {
    "duration": 20,
    "start_time": "2022-06-25T15:47:58.597Z"
   },
   {
    "duration": 10,
    "start_time": "2022-06-25T15:47:58.620Z"
   },
   {
    "duration": 9,
    "start_time": "2022-06-25T15:47:58.650Z"
   },
   {
    "duration": 251,
    "start_time": "2022-06-25T15:56:55.102Z"
   },
   {
    "duration": 289,
    "start_time": "2022-06-25T15:58:27.816Z"
   },
   {
    "duration": 433,
    "start_time": "2022-06-25T15:59:44.594Z"
   },
   {
    "duration": 275,
    "start_time": "2022-06-25T15:59:45.030Z"
   },
   {
    "duration": 589,
    "start_time": "2022-06-25T15:59:45.307Z"
   },
   {
    "duration": 3,
    "start_time": "2022-06-25T15:59:45.899Z"
   },
   {
    "duration": 79,
    "start_time": "2022-06-25T15:59:45.904Z"
   },
   {
    "duration": 16,
    "start_time": "2022-06-25T15:59:45.985Z"
   },
   {
    "duration": 16,
    "start_time": "2022-06-25T15:59:46.003Z"
   },
   {
    "duration": 45,
    "start_time": "2022-06-25T15:59:46.021Z"
   },
   {
    "duration": 8,
    "start_time": "2022-06-25T15:59:46.069Z"
   },
   {
    "duration": 13,
    "start_time": "2022-06-25T15:59:46.081Z"
   },
   {
    "duration": 23,
    "start_time": "2022-06-25T15:59:46.097Z"
   },
   {
    "duration": 36,
    "start_time": "2022-06-25T15:59:46.122Z"
   },
   {
    "duration": 11,
    "start_time": "2022-06-25T15:59:46.160Z"
   },
   {
    "duration": 15,
    "start_time": "2022-06-25T15:59:46.173Z"
   },
   {
    "duration": 7,
    "start_time": "2022-06-25T15:59:46.191Z"
   },
   {
    "duration": 52,
    "start_time": "2022-06-25T15:59:46.201Z"
   },
   {
    "duration": 6,
    "start_time": "2022-06-25T15:59:46.255Z"
   },
   {
    "duration": 10,
    "start_time": "2022-06-25T15:59:46.263Z"
   },
   {
    "duration": 262,
    "start_time": "2022-06-25T15:59:46.275Z"
   },
   {
    "duration": 15,
    "start_time": "2022-06-25T15:59:46.540Z"
   },
   {
    "duration": 198,
    "start_time": "2022-06-25T15:59:46.556Z"
   },
   {
    "duration": 15,
    "start_time": "2022-06-25T15:59:46.762Z"
   },
   {
    "duration": 9,
    "start_time": "2022-06-25T15:59:46.782Z"
   },
   {
    "duration": 16,
    "start_time": "2022-06-25T15:59:46.793Z"
   },
   {
    "duration": 15,
    "start_time": "2022-06-25T15:59:46.812Z"
   },
   {
    "duration": 23,
    "start_time": "2022-06-25T15:59:46.829Z"
   },
   {
    "duration": 11,
    "start_time": "2022-06-25T15:59:46.854Z"
   },
   {
    "duration": 13,
    "start_time": "2022-06-25T15:59:46.871Z"
   },
   {
    "duration": 10,
    "start_time": "2022-06-25T15:59:46.886Z"
   },
   {
    "duration": 10,
    "start_time": "2022-06-25T15:59:46.898Z"
   },
   {
    "duration": 41,
    "start_time": "2022-06-25T15:59:46.910Z"
   },
   {
    "duration": 10,
    "start_time": "2022-06-25T15:59:46.954Z"
   },
   {
    "duration": 15,
    "start_time": "2022-06-25T15:59:46.966Z"
   },
   {
    "duration": 9,
    "start_time": "2022-06-25T15:59:46.983Z"
   },
   {
    "duration": 16,
    "start_time": "2022-06-25T15:59:46.994Z"
   },
   {
    "duration": 275,
    "start_time": "2022-06-25T15:59:47.011Z"
   },
   {
    "duration": 6,
    "start_time": "2022-06-25T15:59:47.288Z"
   },
   {
    "duration": 14,
    "start_time": "2022-06-25T15:59:47.296Z"
   },
   {
    "duration": 3,
    "start_time": "2022-06-25T15:59:47.314Z"
   },
   {
    "duration": 39,
    "start_time": "2022-06-25T15:59:47.320Z"
   },
   {
    "duration": 7,
    "start_time": "2022-06-25T15:59:47.361Z"
   },
   {
    "duration": 18,
    "start_time": "2022-06-25T15:59:47.370Z"
   },
   {
    "duration": 13,
    "start_time": "2022-06-25T15:59:47.390Z"
   },
   {
    "duration": 6,
    "start_time": "2022-06-25T15:59:47.405Z"
   },
   {
    "duration": 46,
    "start_time": "2022-06-25T15:59:47.413Z"
   },
   {
    "duration": 17,
    "start_time": "2022-06-25T15:59:47.461Z"
   },
   {
    "duration": 14,
    "start_time": "2022-06-25T15:59:47.480Z"
   },
   {
    "duration": 19,
    "start_time": "2022-06-25T15:59:47.496Z"
   },
   {
    "duration": 314,
    "start_time": "2022-06-25T15:59:47.517Z"
   },
   {
    "duration": 18,
    "start_time": "2022-06-25T15:59:47.833Z"
   },
   {
    "duration": 12,
    "start_time": "2022-06-25T15:59:47.853Z"
   },
   {
    "duration": 3,
    "start_time": "2022-06-25T15:59:47.867Z"
   },
   {
    "duration": 10,
    "start_time": "2022-06-25T15:59:47.872Z"
   },
   {
    "duration": 13,
    "start_time": "2022-06-25T15:59:47.884Z"
   },
   {
    "duration": 19,
    "start_time": "2022-06-25T15:59:47.899Z"
   },
   {
    "duration": 331,
    "start_time": "2022-06-25T15:59:47.920Z"
   },
   {
    "duration": 420,
    "start_time": "2022-06-25T15:59:48.253Z"
   },
   {
    "duration": 14,
    "start_time": "2022-06-25T15:59:48.675Z"
   },
   {
    "duration": 16,
    "start_time": "2022-06-25T15:59:48.691Z"
   },
   {
    "duration": 46,
    "start_time": "2022-06-25T15:59:48.709Z"
   },
   {
    "duration": 16,
    "start_time": "2022-06-25T15:59:48.758Z"
   },
   {
    "duration": 7,
    "start_time": "2022-06-25T15:59:48.777Z"
   },
   {
    "duration": 344,
    "start_time": "2022-06-25T15:59:48.786Z"
   },
   {
    "duration": 26,
    "start_time": "2022-06-25T15:59:49.132Z"
   },
   {
    "duration": 5,
    "start_time": "2022-06-25T15:59:49.159Z"
   },
   {
    "duration": 10,
    "start_time": "2022-06-25T15:59:49.166Z"
   },
   {
    "duration": 12,
    "start_time": "2022-06-25T15:59:49.178Z"
   },
   {
    "duration": 8,
    "start_time": "2022-06-25T15:59:49.193Z"
   },
   {
    "duration": 42,
    "start_time": "2022-06-25T15:59:49.203Z"
   },
   {
    "duration": 13,
    "start_time": "2022-06-25T15:59:49.247Z"
   },
   {
    "duration": 8,
    "start_time": "2022-06-25T15:59:49.262Z"
   },
   {
    "duration": 15,
    "start_time": "2022-06-25T15:59:49.272Z"
   },
   {
    "duration": 10,
    "start_time": "2022-06-25T15:59:49.290Z"
   },
   {
    "duration": 8,
    "start_time": "2022-06-25T15:59:49.302Z"
   },
   {
    "duration": 269,
    "start_time": "2022-06-25T16:34:13.418Z"
   },
   {
    "duration": 360,
    "start_time": "2022-06-25T16:34:20.067Z"
   },
   {
    "duration": 237,
    "start_time": "2022-06-25T16:34:33.617Z"
   },
   {
    "duration": 456,
    "start_time": "2022-06-25T17:17:10.411Z"
   },
   {
    "duration": 278,
    "start_time": "2022-06-25T17:17:10.869Z"
   },
   {
    "duration": 614,
    "start_time": "2022-06-25T17:17:11.149Z"
   },
   {
    "duration": 3,
    "start_time": "2022-06-25T17:17:11.766Z"
   },
   {
    "duration": 82,
    "start_time": "2022-06-25T17:17:11.771Z"
   },
   {
    "duration": 21,
    "start_time": "2022-06-25T17:17:11.855Z"
   },
   {
    "duration": 19,
    "start_time": "2022-06-25T17:17:11.880Z"
   },
   {
    "duration": 50,
    "start_time": "2022-06-25T17:17:11.902Z"
   },
   {
    "duration": 8,
    "start_time": "2022-06-25T17:17:11.954Z"
   },
   {
    "duration": 14,
    "start_time": "2022-06-25T17:17:11.965Z"
   },
   {
    "duration": 28,
    "start_time": "2022-06-25T17:17:11.981Z"
   },
   {
    "duration": 11,
    "start_time": "2022-06-25T17:17:12.012Z"
   },
   {
    "duration": 11,
    "start_time": "2022-06-25T17:17:12.051Z"
   },
   {
    "duration": 27,
    "start_time": "2022-06-25T17:17:12.064Z"
   },
   {
    "duration": 11,
    "start_time": "2022-06-25T17:17:12.093Z"
   },
   {
    "duration": 13,
    "start_time": "2022-06-25T17:17:12.106Z"
   },
   {
    "duration": 32,
    "start_time": "2022-06-25T17:17:12.122Z"
   },
   {
    "duration": 15,
    "start_time": "2022-06-25T17:17:12.157Z"
   },
   {
    "duration": 294,
    "start_time": "2022-06-25T17:17:12.174Z"
   },
   {
    "duration": 9,
    "start_time": "2022-06-25T17:17:12.470Z"
   },
   {
    "duration": 198,
    "start_time": "2022-06-25T17:17:12.480Z"
   },
   {
    "duration": 13,
    "start_time": "2022-06-25T17:17:12.679Z"
   },
   {
    "duration": 5,
    "start_time": "2022-06-25T17:17:12.693Z"
   },
   {
    "duration": 16,
    "start_time": "2022-06-25T17:17:12.701Z"
   },
   {
    "duration": 39,
    "start_time": "2022-06-25T17:17:12.719Z"
   },
   {
    "duration": 4,
    "start_time": "2022-06-25T17:17:12.760Z"
   },
   {
    "duration": 9,
    "start_time": "2022-06-25T17:17:12.766Z"
   },
   {
    "duration": 14,
    "start_time": "2022-06-25T17:17:12.782Z"
   },
   {
    "duration": 23,
    "start_time": "2022-06-25T17:17:12.798Z"
   },
   {
    "duration": 8,
    "start_time": "2022-06-25T17:17:12.823Z"
   },
   {
    "duration": 15,
    "start_time": "2022-06-25T17:17:12.850Z"
   },
   {
    "duration": 18,
    "start_time": "2022-06-25T17:17:12.868Z"
   },
   {
    "duration": 16,
    "start_time": "2022-06-25T17:17:12.888Z"
   },
   {
    "duration": 6,
    "start_time": "2022-06-25T17:17:12.906Z"
   },
   {
    "duration": 14,
    "start_time": "2022-06-25T17:17:12.914Z"
   },
   {
    "duration": 289,
    "start_time": "2022-06-25T17:17:12.930Z"
   },
   {
    "duration": 7,
    "start_time": "2022-06-25T17:17:13.221Z"
   },
   {
    "duration": 25,
    "start_time": "2022-06-25T17:17:13.230Z"
   },
   {
    "duration": 4,
    "start_time": "2022-06-25T17:17:13.257Z"
   },
   {
    "duration": 19,
    "start_time": "2022-06-25T17:17:13.263Z"
   },
   {
    "duration": 5,
    "start_time": "2022-06-25T17:17:13.284Z"
   },
   {
    "duration": 20,
    "start_time": "2022-06-25T17:17:13.292Z"
   },
   {
    "duration": 38,
    "start_time": "2022-06-25T17:17:13.314Z"
   },
   {
    "duration": 9,
    "start_time": "2022-06-25T17:17:13.355Z"
   },
   {
    "duration": 24,
    "start_time": "2022-06-25T17:17:13.366Z"
   },
   {
    "duration": 23,
    "start_time": "2022-06-25T17:17:13.392Z"
   },
   {
    "duration": 16,
    "start_time": "2022-06-25T17:17:13.417Z"
   },
   {
    "duration": 22,
    "start_time": "2022-06-25T17:17:13.436Z"
   },
   {
    "duration": 260,
    "start_time": "2022-06-25T17:17:13.460Z"
   },
   {
    "duration": 13,
    "start_time": "2022-06-25T17:17:13.722Z"
   },
   {
    "duration": 13,
    "start_time": "2022-06-25T17:17:13.750Z"
   },
   {
    "duration": 4,
    "start_time": "2022-06-25T17:17:13.765Z"
   },
   {
    "duration": 9,
    "start_time": "2022-06-25T17:17:13.771Z"
   },
   {
    "duration": 15,
    "start_time": "2022-06-25T17:17:13.782Z"
   },
   {
    "duration": 15,
    "start_time": "2022-06-25T17:17:13.799Z"
   },
   {
    "duration": 270,
    "start_time": "2022-06-25T17:17:13.817Z"
   },
   {
    "duration": 238,
    "start_time": "2022-06-25T17:17:14.089Z"
   },
   {
    "duration": 26,
    "start_time": "2022-06-25T17:17:14.329Z"
   },
   {
    "duration": 18,
    "start_time": "2022-06-25T17:17:14.357Z"
   },
   {
    "duration": 47,
    "start_time": "2022-06-25T17:17:14.380Z"
   },
   {
    "duration": 21,
    "start_time": "2022-06-25T17:17:14.430Z"
   },
   {
    "duration": 12,
    "start_time": "2022-06-25T17:17:14.454Z"
   },
   {
    "duration": 326,
    "start_time": "2022-06-25T17:17:14.469Z"
   },
   {
    "duration": 22,
    "start_time": "2022-06-25T17:17:14.798Z"
   },
   {
    "duration": 6,
    "start_time": "2022-06-25T17:17:14.822Z"
   },
   {
    "duration": 8,
    "start_time": "2022-06-25T17:17:14.850Z"
   },
   {
    "duration": 18,
    "start_time": "2022-06-25T17:17:14.860Z"
   },
   {
    "duration": 11,
    "start_time": "2022-06-25T17:17:14.880Z"
   },
   {
    "duration": 9,
    "start_time": "2022-06-25T17:17:14.893Z"
   },
   {
    "duration": 130,
    "start_time": "2022-06-25T17:17:14.904Z"
   },
   {
    "duration": 0,
    "start_time": "2022-06-25T17:17:15.036Z"
   },
   {
    "duration": 0,
    "start_time": "2022-06-25T17:17:15.038Z"
   },
   {
    "duration": 0,
    "start_time": "2022-06-25T17:17:15.039Z"
   },
   {
    "duration": 0,
    "start_time": "2022-06-25T17:17:15.041Z"
   },
   {
    "duration": 0,
    "start_time": "2022-06-25T17:17:15.051Z"
   },
   {
    "duration": 0,
    "start_time": "2022-06-25T17:17:15.052Z"
   },
   {
    "duration": 0,
    "start_time": "2022-06-25T17:17:15.053Z"
   },
   {
    "duration": 3,
    "start_time": "2022-06-25T17:17:46.869Z"
   },
   {
    "duration": 478,
    "start_time": "2022-06-25T17:17:50.344Z"
   },
   {
    "duration": 293,
    "start_time": "2022-06-25T17:17:50.825Z"
   },
   {
    "duration": 601,
    "start_time": "2022-06-25T17:17:51.120Z"
   },
   {
    "duration": 3,
    "start_time": "2022-06-25T17:17:51.724Z"
   },
   {
    "duration": 81,
    "start_time": "2022-06-25T17:17:51.729Z"
   },
   {
    "duration": 19,
    "start_time": "2022-06-25T17:17:51.813Z"
   },
   {
    "duration": 22,
    "start_time": "2022-06-25T17:17:51.834Z"
   },
   {
    "duration": 21,
    "start_time": "2022-06-25T17:17:51.858Z"
   },
   {
    "duration": 9,
    "start_time": "2022-06-25T17:17:51.881Z"
   },
   {
    "duration": 16,
    "start_time": "2022-06-25T17:17:51.895Z"
   },
   {
    "duration": 27,
    "start_time": "2022-06-25T17:17:51.952Z"
   },
   {
    "duration": 8,
    "start_time": "2022-06-25T17:17:51.981Z"
   },
   {
    "duration": 14,
    "start_time": "2022-06-25T17:17:51.991Z"
   },
   {
    "duration": 18,
    "start_time": "2022-06-25T17:17:52.007Z"
   },
   {
    "duration": 33,
    "start_time": "2022-06-25T17:17:52.028Z"
   },
   {
    "duration": 19,
    "start_time": "2022-06-25T17:17:52.063Z"
   },
   {
    "duration": 5,
    "start_time": "2022-06-25T17:17:52.084Z"
   },
   {
    "duration": 10,
    "start_time": "2022-06-25T17:17:52.091Z"
   },
   {
    "duration": 293,
    "start_time": "2022-06-25T17:17:52.103Z"
   },
   {
    "duration": 8,
    "start_time": "2022-06-25T17:17:52.399Z"
   },
   {
    "duration": 197,
    "start_time": "2022-06-25T17:17:52.409Z"
   },
   {
    "duration": 12,
    "start_time": "2022-06-25T17:17:52.608Z"
   },
   {
    "duration": 5,
    "start_time": "2022-06-25T17:17:52.622Z"
   },
   {
    "duration": 26,
    "start_time": "2022-06-25T17:17:52.629Z"
   },
   {
    "duration": 16,
    "start_time": "2022-06-25T17:17:52.657Z"
   },
   {
    "duration": 5,
    "start_time": "2022-06-25T17:17:52.675Z"
   },
   {
    "duration": 6,
    "start_time": "2022-06-25T17:17:52.683Z"
   },
   {
    "duration": 9,
    "start_time": "2022-06-25T17:17:52.695Z"
   },
   {
    "duration": 48,
    "start_time": "2022-06-25T17:17:52.706Z"
   },
   {
    "duration": 7,
    "start_time": "2022-06-25T17:17:52.756Z"
   },
   {
    "duration": 15,
    "start_time": "2022-06-25T17:17:52.765Z"
   },
   {
    "duration": 11,
    "start_time": "2022-06-25T17:17:52.782Z"
   },
   {
    "duration": 5,
    "start_time": "2022-06-25T17:17:52.795Z"
   },
   {
    "duration": 6,
    "start_time": "2022-06-25T17:17:52.802Z"
   },
   {
    "duration": 48,
    "start_time": "2022-06-25T17:17:52.810Z"
   },
   {
    "duration": 262,
    "start_time": "2022-06-25T17:17:52.860Z"
   },
   {
    "duration": 9,
    "start_time": "2022-06-25T17:17:53.124Z"
   },
   {
    "duration": 26,
    "start_time": "2022-06-25T17:17:53.136Z"
   },
   {
    "duration": 4,
    "start_time": "2022-06-25T17:17:53.164Z"
   },
   {
    "duration": 18,
    "start_time": "2022-06-25T17:17:53.170Z"
   },
   {
    "duration": 5,
    "start_time": "2022-06-25T17:17:53.191Z"
   },
   {
    "duration": 54,
    "start_time": "2022-06-25T17:17:53.198Z"
   },
   {
    "duration": 15,
    "start_time": "2022-06-25T17:17:53.255Z"
   },
   {
    "duration": 8,
    "start_time": "2022-06-25T17:17:53.272Z"
   },
   {
    "duration": 21,
    "start_time": "2022-06-25T17:17:53.282Z"
   },
   {
    "duration": 13,
    "start_time": "2022-06-25T17:17:53.305Z"
   },
   {
    "duration": 11,
    "start_time": "2022-06-25T17:17:53.351Z"
   },
   {
    "duration": 12,
    "start_time": "2022-06-25T17:17:53.364Z"
   },
   {
    "duration": 260,
    "start_time": "2022-06-25T17:17:53.378Z"
   },
   {
    "duration": 21,
    "start_time": "2022-06-25T17:17:53.640Z"
   },
   {
    "duration": 12,
    "start_time": "2022-06-25T17:17:53.663Z"
   },
   {
    "duration": 4,
    "start_time": "2022-06-25T17:17:53.677Z"
   },
   {
    "duration": 8,
    "start_time": "2022-06-25T17:17:53.683Z"
   },
   {
    "duration": 18,
    "start_time": "2022-06-25T17:17:53.693Z"
   },
   {
    "duration": 39,
    "start_time": "2022-06-25T17:17:53.713Z"
   },
   {
    "duration": 239,
    "start_time": "2022-06-25T17:17:53.755Z"
   },
   {
    "duration": 228,
    "start_time": "2022-06-25T17:17:53.996Z"
   },
   {
    "duration": 15,
    "start_time": "2022-06-25T17:17:54.225Z"
   },
   {
    "duration": 16,
    "start_time": "2022-06-25T17:17:54.252Z"
   },
   {
    "duration": 21,
    "start_time": "2022-06-25T17:17:54.270Z"
   },
   {
    "duration": 17,
    "start_time": "2022-06-25T17:17:54.294Z"
   },
   {
    "duration": 39,
    "start_time": "2022-06-25T17:17:54.313Z"
   },
   {
    "duration": 351,
    "start_time": "2022-06-25T17:17:54.355Z"
   },
   {
    "duration": 23,
    "start_time": "2022-06-25T17:17:54.709Z"
   },
   {
    "duration": 21,
    "start_time": "2022-06-25T17:17:54.735Z"
   },
   {
    "duration": 15,
    "start_time": "2022-06-25T17:17:54.758Z"
   },
   {
    "duration": 15,
    "start_time": "2022-06-25T17:17:54.775Z"
   },
   {
    "duration": 11,
    "start_time": "2022-06-25T17:17:54.792Z"
   },
   {
    "duration": 5,
    "start_time": "2022-06-25T17:17:54.805Z"
   },
   {
    "duration": 7,
    "start_time": "2022-06-25T17:17:54.812Z"
   },
   {
    "duration": 87,
    "start_time": "2022-06-25T17:17:54.821Z"
   },
   {
    "duration": 936,
    "start_time": "2022-06-25T17:17:54.910Z"
   },
   {
    "duration": 131,
    "start_time": "2022-06-25T17:17:55.848Z"
   },
   {
    "duration": 1,
    "start_time": "2022-06-25T17:17:55.980Z"
   },
   {
    "duration": 0,
    "start_time": "2022-06-25T17:17:55.982Z"
   },
   {
    "duration": 0,
    "start_time": "2022-06-25T17:17:55.983Z"
   },
   {
    "duration": 0,
    "start_time": "2022-06-25T17:17:55.985Z"
   },
   {
    "duration": 517,
    "start_time": "2022-06-25T17:18:17.017Z"
   },
   {
    "duration": 279,
    "start_time": "2022-06-25T17:18:17.537Z"
   },
   {
    "duration": 587,
    "start_time": "2022-06-25T17:18:17.818Z"
   },
   {
    "duration": 4,
    "start_time": "2022-06-25T17:18:18.407Z"
   },
   {
    "duration": 99,
    "start_time": "2022-06-25T17:18:18.414Z"
   },
   {
    "duration": 18,
    "start_time": "2022-06-25T17:18:18.515Z"
   },
   {
    "duration": 24,
    "start_time": "2022-06-25T17:18:18.536Z"
   },
   {
    "duration": 33,
    "start_time": "2022-06-25T17:18:18.562Z"
   },
   {
    "duration": 10,
    "start_time": "2022-06-25T17:18:18.598Z"
   },
   {
    "duration": 54,
    "start_time": "2022-06-25T17:18:18.610Z"
   },
   {
    "duration": 26,
    "start_time": "2022-06-25T17:18:18.666Z"
   },
   {
    "duration": 8,
    "start_time": "2022-06-25T17:18:18.695Z"
   },
   {
    "duration": 10,
    "start_time": "2022-06-25T17:18:18.705Z"
   },
   {
    "duration": 44,
    "start_time": "2022-06-25T17:18:18.718Z"
   },
   {
    "duration": 8,
    "start_time": "2022-06-25T17:18:18.764Z"
   },
   {
    "duration": 14,
    "start_time": "2022-06-25T17:18:18.774Z"
   },
   {
    "duration": 5,
    "start_time": "2022-06-25T17:18:18.790Z"
   },
   {
    "duration": 19,
    "start_time": "2022-06-25T17:18:18.798Z"
   },
   {
    "duration": 287,
    "start_time": "2022-06-25T17:18:18.819Z"
   },
   {
    "duration": 9,
    "start_time": "2022-06-25T17:18:19.108Z"
   },
   {
    "duration": 202,
    "start_time": "2022-06-25T17:18:19.119Z"
   },
   {
    "duration": 28,
    "start_time": "2022-06-25T17:18:19.323Z"
   },
   {
    "duration": 8,
    "start_time": "2022-06-25T17:18:19.354Z"
   },
   {
    "duration": 29,
    "start_time": "2022-06-25T17:18:19.364Z"
   },
   {
    "duration": 27,
    "start_time": "2022-06-25T17:18:19.395Z"
   },
   {
    "duration": 16,
    "start_time": "2022-06-25T17:18:19.425Z"
   },
   {
    "duration": 23,
    "start_time": "2022-06-25T17:18:19.443Z"
   },
   {
    "duration": 16,
    "start_time": "2022-06-25T17:18:19.469Z"
   },
   {
    "duration": 18,
    "start_time": "2022-06-25T17:18:19.487Z"
   },
   {
    "duration": 7,
    "start_time": "2022-06-25T17:18:19.507Z"
   },
   {
    "duration": 21,
    "start_time": "2022-06-25T17:18:19.517Z"
   },
   {
    "duration": 13,
    "start_time": "2022-06-25T17:18:19.541Z"
   },
   {
    "duration": 8,
    "start_time": "2022-06-25T17:18:19.556Z"
   },
   {
    "duration": 8,
    "start_time": "2022-06-25T17:18:19.567Z"
   },
   {
    "duration": 13,
    "start_time": "2022-06-25T17:18:19.578Z"
   },
   {
    "duration": 288,
    "start_time": "2022-06-25T17:18:19.594Z"
   },
   {
    "duration": 8,
    "start_time": "2022-06-25T17:18:19.884Z"
   },
   {
    "duration": 12,
    "start_time": "2022-06-25T17:18:19.894Z"
   },
   {
    "duration": 3,
    "start_time": "2022-06-25T17:18:19.908Z"
   },
   {
    "duration": 42,
    "start_time": "2022-06-25T17:18:19.913Z"
   },
   {
    "duration": 4,
    "start_time": "2022-06-25T17:18:19.961Z"
   },
   {
    "duration": 20,
    "start_time": "2022-06-25T17:18:19.967Z"
   },
   {
    "duration": 17,
    "start_time": "2022-06-25T17:18:19.989Z"
   },
   {
    "duration": 9,
    "start_time": "2022-06-25T17:18:20.008Z"
   },
   {
    "duration": 38,
    "start_time": "2022-06-25T17:18:20.019Z"
   },
   {
    "duration": 16,
    "start_time": "2022-06-25T17:18:20.059Z"
   },
   {
    "duration": 12,
    "start_time": "2022-06-25T17:18:20.077Z"
   },
   {
    "duration": 10,
    "start_time": "2022-06-25T17:18:20.091Z"
   },
   {
    "duration": 266,
    "start_time": "2022-06-25T17:18:20.103Z"
   },
   {
    "duration": 14,
    "start_time": "2022-06-25T17:18:20.371Z"
   },
   {
    "duration": 24,
    "start_time": "2022-06-25T17:18:20.387Z"
   },
   {
    "duration": 22,
    "start_time": "2022-06-25T17:18:20.413Z"
   },
   {
    "duration": 21,
    "start_time": "2022-06-25T17:18:20.437Z"
   },
   {
    "duration": 35,
    "start_time": "2022-06-25T17:18:20.461Z"
   },
   {
    "duration": 15,
    "start_time": "2022-06-25T17:18:20.498Z"
   },
   {
    "duration": 280,
    "start_time": "2022-06-25T17:18:20.516Z"
   },
   {
    "duration": 242,
    "start_time": "2022-06-25T17:18:20.798Z"
   },
   {
    "duration": 22,
    "start_time": "2022-06-25T17:18:21.042Z"
   },
   {
    "duration": 36,
    "start_time": "2022-06-25T17:18:21.066Z"
   },
   {
    "duration": 35,
    "start_time": "2022-06-25T17:18:21.104Z"
   },
   {
    "duration": 41,
    "start_time": "2022-06-25T17:18:21.141Z"
   },
   {
    "duration": 10,
    "start_time": "2022-06-25T17:18:21.184Z"
   },
   {
    "duration": 260,
    "start_time": "2022-06-25T17:18:21.195Z"
   },
   {
    "duration": 18,
    "start_time": "2022-06-25T17:18:21.457Z"
   },
   {
    "duration": 15,
    "start_time": "2022-06-25T17:18:21.477Z"
   },
   {
    "duration": 40,
    "start_time": "2022-06-25T17:18:21.494Z"
   },
   {
    "duration": 43,
    "start_time": "2022-06-25T17:18:21.536Z"
   },
   {
    "duration": 20,
    "start_time": "2022-06-25T17:18:21.581Z"
   },
   {
    "duration": 21,
    "start_time": "2022-06-25T17:18:21.603Z"
   },
   {
    "duration": 18,
    "start_time": "2022-06-25T17:18:21.628Z"
   },
   {
    "duration": 82,
    "start_time": "2022-06-25T17:18:21.648Z"
   },
   {
    "duration": 817,
    "start_time": "2022-06-25T17:18:21.732Z"
   },
   {
    "duration": 13,
    "start_time": "2022-06-25T17:18:22.551Z"
   },
   {
    "duration": 29,
    "start_time": "2022-06-25T17:18:22.566Z"
   },
   {
    "duration": 37,
    "start_time": "2022-06-25T17:18:22.597Z"
   },
   {
    "duration": 36,
    "start_time": "2022-06-25T17:18:22.636Z"
   },
   {
    "duration": 24,
    "start_time": "2022-06-25T17:18:22.674Z"
   },
   {
    "duration": 496,
    "start_time": "2022-06-25T17:25:49.915Z"
   },
   {
    "duration": 312,
    "start_time": "2022-06-25T17:25:50.413Z"
   },
   {
    "duration": 614,
    "start_time": "2022-06-25T17:25:50.727Z"
   },
   {
    "duration": 9,
    "start_time": "2022-06-25T17:25:51.343Z"
   },
   {
    "duration": 111,
    "start_time": "2022-06-25T17:25:51.355Z"
   },
   {
    "duration": 21,
    "start_time": "2022-06-25T17:25:51.478Z"
   },
   {
    "duration": 18,
    "start_time": "2022-06-25T17:25:51.502Z"
   },
   {
    "duration": 50,
    "start_time": "2022-06-25T17:25:51.523Z"
   },
   {
    "duration": 8,
    "start_time": "2022-06-25T17:25:51.575Z"
   },
   {
    "duration": 14,
    "start_time": "2022-06-25T17:25:51.587Z"
   },
   {
    "duration": 63,
    "start_time": "2022-06-25T17:25:51.603Z"
   },
   {
    "duration": 11,
    "start_time": "2022-06-25T17:25:51.669Z"
   },
   {
    "duration": 16,
    "start_time": "2022-06-25T17:25:51.682Z"
   },
   {
    "duration": 17,
    "start_time": "2022-06-25T17:25:51.701Z"
   },
   {
    "duration": 33,
    "start_time": "2022-06-25T17:25:51.720Z"
   },
   {
    "duration": 31,
    "start_time": "2022-06-25T17:25:51.755Z"
   },
   {
    "duration": 5,
    "start_time": "2022-06-25T17:25:51.789Z"
   },
   {
    "duration": 13,
    "start_time": "2022-06-25T17:25:51.796Z"
   },
   {
    "duration": 287,
    "start_time": "2022-06-25T17:25:51.811Z"
   },
   {
    "duration": 8,
    "start_time": "2022-06-25T17:25:52.100Z"
   },
   {
    "duration": 233,
    "start_time": "2022-06-25T17:25:52.110Z"
   },
   {
    "duration": 14,
    "start_time": "2022-06-25T17:25:52.351Z"
   },
   {
    "duration": 12,
    "start_time": "2022-06-25T17:25:52.368Z"
   },
   {
    "duration": 12,
    "start_time": "2022-06-25T17:25:52.382Z"
   },
   {
    "duration": 14,
    "start_time": "2022-06-25T17:25:52.396Z"
   },
   {
    "duration": 6,
    "start_time": "2022-06-25T17:25:52.412Z"
   },
   {
    "duration": 32,
    "start_time": "2022-06-25T17:25:52.419Z"
   },
   {
    "duration": 27,
    "start_time": "2022-06-25T17:25:52.457Z"
   },
   {
    "duration": 9,
    "start_time": "2022-06-25T17:25:52.486Z"
   },
   {
    "duration": 6,
    "start_time": "2022-06-25T17:25:52.497Z"
   },
   {
    "duration": 11,
    "start_time": "2022-06-25T17:25:52.505Z"
   },
   {
    "duration": 8,
    "start_time": "2022-06-25T17:25:52.518Z"
   },
   {
    "duration": 5,
    "start_time": "2022-06-25T17:25:52.551Z"
   },
   {
    "duration": 15,
    "start_time": "2022-06-25T17:25:52.559Z"
   },
   {
    "duration": 302,
    "start_time": "2022-06-25T17:25:52.576Z"
   },
   {
    "duration": 7,
    "start_time": "2022-06-25T17:25:52.880Z"
   },
   {
    "duration": 16,
    "start_time": "2022-06-25T17:25:52.889Z"
   },
   {
    "duration": 4,
    "start_time": "2022-06-25T17:25:52.908Z"
   },
   {
    "duration": 68,
    "start_time": "2022-06-25T17:25:52.915Z"
   },
   {
    "duration": 22,
    "start_time": "2022-06-25T17:25:52.988Z"
   },
   {
    "duration": 5,
    "start_time": "2022-06-25T17:25:53.013Z"
   },
   {
    "duration": 25,
    "start_time": "2022-06-25T17:25:53.020Z"
   },
   {
    "duration": 36,
    "start_time": "2022-06-25T17:25:53.051Z"
   },
   {
    "duration": 14,
    "start_time": "2022-06-25T17:25:53.092Z"
   },
   {
    "duration": 17,
    "start_time": "2022-06-25T17:25:53.109Z"
   },
   {
    "duration": 258,
    "start_time": "2022-06-25T17:25:53.128Z"
   },
   {
    "duration": 13,
    "start_time": "2022-06-25T17:25:53.387Z"
   },
   {
    "duration": 16,
    "start_time": "2022-06-25T17:25:53.402Z"
   },
   {
    "duration": 4,
    "start_time": "2022-06-25T17:25:53.421Z"
   },
   {
    "duration": 48,
    "start_time": "2022-06-25T17:25:53.428Z"
   },
   {
    "duration": 19,
    "start_time": "2022-06-25T17:25:53.479Z"
   },
   {
    "duration": 23,
    "start_time": "2022-06-25T17:25:53.501Z"
   },
   {
    "duration": 301,
    "start_time": "2022-06-25T17:25:53.527Z"
   },
   {
    "duration": 272,
    "start_time": "2022-06-25T17:25:53.831Z"
   },
   {
    "duration": 17,
    "start_time": "2022-06-25T17:25:54.105Z"
   },
   {
    "duration": 35,
    "start_time": "2022-06-25T17:25:54.124Z"
   },
   {
    "duration": 48,
    "start_time": "2022-06-25T17:25:54.162Z"
   },
   {
    "duration": 20,
    "start_time": "2022-06-25T17:25:54.213Z"
   },
   {
    "duration": 17,
    "start_time": "2022-06-25T17:25:54.235Z"
   },
   {
    "duration": 370,
    "start_time": "2022-06-25T17:25:54.254Z"
   },
   {
    "duration": 28,
    "start_time": "2022-06-25T17:25:54.626Z"
   },
   {
    "duration": 38,
    "start_time": "2022-06-25T17:25:54.657Z"
   },
   {
    "duration": 36,
    "start_time": "2022-06-25T17:25:54.700Z"
   },
   {
    "duration": 27,
    "start_time": "2022-06-25T17:25:54.739Z"
   },
   {
    "duration": 56,
    "start_time": "2022-06-25T17:25:54.768Z"
   },
   {
    "duration": 23,
    "start_time": "2022-06-25T17:25:54.827Z"
   },
   {
    "duration": 94,
    "start_time": "2022-06-25T17:25:54.853Z"
   },
   {
    "duration": 956,
    "start_time": "2022-06-25T17:25:54.949Z"
   },
   {
    "duration": 16,
    "start_time": "2022-06-25T17:25:55.908Z"
   },
   {
    "duration": 10,
    "start_time": "2022-06-25T17:25:55.927Z"
   },
   {
    "duration": 23,
    "start_time": "2022-06-25T17:25:55.940Z"
   },
   {
    "duration": 25,
    "start_time": "2022-06-25T17:25:55.965Z"
   },
   {
    "duration": 10,
    "start_time": "2022-06-25T17:25:55.993Z"
   },
   {
    "duration": 485,
    "start_time": "2022-06-25T17:34:17.837Z"
   },
   {
    "duration": 307,
    "start_time": "2022-06-25T17:34:18.324Z"
   },
   {
    "duration": 599,
    "start_time": "2022-06-25T17:34:18.633Z"
   },
   {
    "duration": 3,
    "start_time": "2022-06-25T17:34:19.235Z"
   },
   {
    "duration": 96,
    "start_time": "2022-06-25T17:34:19.239Z"
   },
   {
    "duration": 18,
    "start_time": "2022-06-25T17:34:19.337Z"
   },
   {
    "duration": 26,
    "start_time": "2022-06-25T17:34:19.357Z"
   },
   {
    "duration": 23,
    "start_time": "2022-06-25T17:34:19.385Z"
   },
   {
    "duration": 8,
    "start_time": "2022-06-25T17:34:19.410Z"
   },
   {
    "duration": 44,
    "start_time": "2022-06-25T17:34:19.421Z"
   },
   {
    "duration": 31,
    "start_time": "2022-06-25T17:34:19.474Z"
   },
   {
    "duration": 9,
    "start_time": "2022-06-25T17:34:19.508Z"
   },
   {
    "duration": 11,
    "start_time": "2022-06-25T17:34:19.519Z"
   },
   {
    "duration": 22,
    "start_time": "2022-06-25T17:34:19.556Z"
   },
   {
    "duration": 7,
    "start_time": "2022-06-25T17:34:19.580Z"
   },
   {
    "duration": 17,
    "start_time": "2022-06-25T17:34:19.589Z"
   },
   {
    "duration": 5,
    "start_time": "2022-06-25T17:34:19.609Z"
   },
   {
    "duration": 41,
    "start_time": "2022-06-25T17:34:19.616Z"
   },
   {
    "duration": 270,
    "start_time": "2022-06-25T17:34:19.660Z"
   },
   {
    "duration": 9,
    "start_time": "2022-06-25T17:34:19.932Z"
   },
   {
    "duration": 241,
    "start_time": "2022-06-25T17:34:19.953Z"
   },
   {
    "duration": 16,
    "start_time": "2022-06-25T17:34:20.196Z"
   },
   {
    "duration": 18,
    "start_time": "2022-06-25T17:34:20.214Z"
   },
   {
    "duration": 27,
    "start_time": "2022-06-25T17:34:20.234Z"
   },
   {
    "duration": 61,
    "start_time": "2022-06-25T17:34:20.263Z"
   },
   {
    "duration": 9,
    "start_time": "2022-06-25T17:34:20.326Z"
   },
   {
    "duration": 47,
    "start_time": "2022-06-25T17:34:20.338Z"
   },
   {
    "duration": 19,
    "start_time": "2022-06-25T17:34:20.393Z"
   },
   {
    "duration": 15,
    "start_time": "2022-06-25T17:34:20.415Z"
   },
   {
    "duration": 18,
    "start_time": "2022-06-25T17:34:20.432Z"
   },
   {
    "duration": 51,
    "start_time": "2022-06-25T17:34:20.452Z"
   },
   {
    "duration": 9,
    "start_time": "2022-06-25T17:34:20.505Z"
   },
   {
    "duration": 17,
    "start_time": "2022-06-25T17:34:20.516Z"
   },
   {
    "duration": 47,
    "start_time": "2022-06-25T17:34:20.536Z"
   },
   {
    "duration": 275,
    "start_time": "2022-06-25T17:34:20.585Z"
   },
   {
    "duration": 13,
    "start_time": "2022-06-25T17:34:20.862Z"
   },
   {
    "duration": 31,
    "start_time": "2022-06-25T17:34:20.878Z"
   },
   {
    "duration": 7,
    "start_time": "2022-06-25T17:34:20.911Z"
   },
   {
    "duration": 27,
    "start_time": "2022-06-25T17:34:20.920Z"
   },
   {
    "duration": 49,
    "start_time": "2022-06-25T17:34:20.949Z"
   },
   {
    "duration": 5,
    "start_time": "2022-06-25T17:34:21.000Z"
   },
   {
    "duration": 55,
    "start_time": "2022-06-25T17:34:21.007Z"
   },
   {
    "duration": 37,
    "start_time": "2022-06-25T17:34:21.064Z"
   },
   {
    "duration": 28,
    "start_time": "2022-06-25T17:34:21.104Z"
   },
   {
    "duration": 44,
    "start_time": "2022-06-25T17:34:21.134Z"
   },
   {
    "duration": 273,
    "start_time": "2022-06-25T17:34:21.180Z"
   },
   {
    "duration": 19,
    "start_time": "2022-06-25T17:34:21.456Z"
   },
   {
    "duration": 44,
    "start_time": "2022-06-25T17:34:21.477Z"
   },
   {
    "duration": 30,
    "start_time": "2022-06-25T17:34:21.523Z"
   },
   {
    "duration": 65,
    "start_time": "2022-06-25T17:34:21.556Z"
   },
   {
    "duration": 29,
    "start_time": "2022-06-25T17:34:21.623Z"
   },
   {
    "duration": 57,
    "start_time": "2022-06-25T17:34:21.654Z"
   },
   {
    "duration": 276,
    "start_time": "2022-06-25T17:34:21.714Z"
   },
   {
    "duration": 259,
    "start_time": "2022-06-25T17:34:21.993Z"
   },
   {
    "duration": 21,
    "start_time": "2022-06-25T17:34:22.254Z"
   },
   {
    "duration": 28,
    "start_time": "2022-06-25T17:34:22.278Z"
   },
   {
    "duration": 29,
    "start_time": "2022-06-25T17:34:22.308Z"
   },
   {
    "duration": 28,
    "start_time": "2022-06-25T17:34:22.339Z"
   },
   {
    "duration": 9,
    "start_time": "2022-06-25T17:34:22.369Z"
   },
   {
    "duration": 300,
    "start_time": "2022-06-25T17:34:22.380Z"
   },
   {
    "duration": 18,
    "start_time": "2022-06-25T17:34:22.683Z"
   },
   {
    "duration": 8,
    "start_time": "2022-06-25T17:34:22.704Z"
   },
   {
    "duration": 7,
    "start_time": "2022-06-25T17:34:22.714Z"
   },
   {
    "duration": 56,
    "start_time": "2022-06-25T17:34:22.724Z"
   },
   {
    "duration": 18,
    "start_time": "2022-06-25T17:34:22.782Z"
   },
   {
    "duration": 4,
    "start_time": "2022-06-25T17:34:22.802Z"
   },
   {
    "duration": 86,
    "start_time": "2022-06-25T17:34:22.809Z"
   },
   {
    "duration": 957,
    "start_time": "2022-06-25T17:34:22.901Z"
   },
   {
    "duration": 18,
    "start_time": "2022-06-25T17:34:23.861Z"
   },
   {
    "duration": 14,
    "start_time": "2022-06-25T17:34:23.881Z"
   },
   {
    "duration": 21,
    "start_time": "2022-06-25T17:34:23.897Z"
   },
   {
    "duration": 31,
    "start_time": "2022-06-25T17:34:23.920Z"
   },
   {
    "duration": 26,
    "start_time": "2022-06-25T17:34:23.953Z"
   },
   {
    "duration": 466,
    "start_time": "2022-06-25T17:41:57.779Z"
   },
   {
    "duration": 288,
    "start_time": "2022-06-25T17:41:58.247Z"
   },
   {
    "duration": 578,
    "start_time": "2022-06-25T17:41:58.537Z"
   },
   {
    "duration": 2,
    "start_time": "2022-06-25T17:41:59.118Z"
   },
   {
    "duration": 90,
    "start_time": "2022-06-25T17:41:59.123Z"
   },
   {
    "duration": 16,
    "start_time": "2022-06-25T17:41:59.215Z"
   },
   {
    "duration": 32,
    "start_time": "2022-06-25T17:41:59.233Z"
   },
   {
    "duration": 45,
    "start_time": "2022-06-25T17:41:59.267Z"
   },
   {
    "duration": 7,
    "start_time": "2022-06-25T17:41:59.315Z"
   },
   {
    "duration": 36,
    "start_time": "2022-06-25T17:41:59.324Z"
   },
   {
    "duration": 50,
    "start_time": "2022-06-25T17:41:59.377Z"
   },
   {
    "duration": 9,
    "start_time": "2022-06-25T17:41:59.429Z"
   },
   {
    "duration": 29,
    "start_time": "2022-06-25T17:41:59.441Z"
   },
   {
    "duration": 23,
    "start_time": "2022-06-25T17:41:59.475Z"
   },
   {
    "duration": 10,
    "start_time": "2022-06-25T17:41:59.501Z"
   },
   {
    "duration": 20,
    "start_time": "2022-06-25T17:41:59.514Z"
   },
   {
    "duration": 5,
    "start_time": "2022-06-25T17:41:59.536Z"
   },
   {
    "duration": 43,
    "start_time": "2022-06-25T17:41:59.553Z"
   },
   {
    "duration": 273,
    "start_time": "2022-06-25T17:41:59.599Z"
   },
   {
    "duration": 11,
    "start_time": "2022-06-25T17:41:59.874Z"
   },
   {
    "duration": 236,
    "start_time": "2022-06-25T17:41:59.888Z"
   },
   {
    "duration": 26,
    "start_time": "2022-06-25T17:42:00.127Z"
   },
   {
    "duration": 7,
    "start_time": "2022-06-25T17:42:00.156Z"
   },
   {
    "duration": 37,
    "start_time": "2022-06-25T17:42:00.165Z"
   },
   {
    "duration": 21,
    "start_time": "2022-06-25T17:42:00.205Z"
   },
   {
    "duration": 5,
    "start_time": "2022-06-25T17:42:00.230Z"
   },
   {
    "duration": 12,
    "start_time": "2022-06-25T17:42:00.240Z"
   },
   {
    "duration": 47,
    "start_time": "2022-06-25T17:42:00.255Z"
   },
   {
    "duration": 26,
    "start_time": "2022-06-25T17:42:00.305Z"
   },
   {
    "duration": 31,
    "start_time": "2022-06-25T17:42:00.335Z"
   },
   {
    "duration": 60,
    "start_time": "2022-06-25T17:42:00.368Z"
   },
   {
    "duration": 50,
    "start_time": "2022-06-25T17:42:00.430Z"
   },
   {
    "duration": 15,
    "start_time": "2022-06-25T17:42:00.483Z"
   },
   {
    "duration": 21,
    "start_time": "2022-06-25T17:42:00.501Z"
   },
   {
    "duration": 283,
    "start_time": "2022-06-25T17:42:00.523Z"
   },
   {
    "duration": 7,
    "start_time": "2022-06-25T17:42:00.809Z"
   },
   {
    "duration": 16,
    "start_time": "2022-06-25T17:42:00.818Z"
   },
   {
    "duration": 17,
    "start_time": "2022-06-25T17:42:00.836Z"
   },
   {
    "duration": 48,
    "start_time": "2022-06-25T17:42:00.855Z"
   },
   {
    "duration": 51,
    "start_time": "2022-06-25T17:42:00.906Z"
   },
   {
    "duration": 41,
    "start_time": "2022-06-25T17:42:00.964Z"
   },
   {
    "duration": 88,
    "start_time": "2022-06-25T17:42:01.007Z"
   },
   {
    "duration": 46,
    "start_time": "2022-06-25T17:42:01.098Z"
   },
   {
    "duration": 62,
    "start_time": "2022-06-25T17:42:01.147Z"
   },
   {
    "duration": 36,
    "start_time": "2022-06-25T17:42:01.211Z"
   },
   {
    "duration": 267,
    "start_time": "2022-06-25T17:42:01.250Z"
   },
   {
    "duration": 16,
    "start_time": "2022-06-25T17:42:01.520Z"
   },
   {
    "duration": 70,
    "start_time": "2022-06-25T17:42:01.538Z"
   },
   {
    "duration": 25,
    "start_time": "2022-06-25T17:42:01.610Z"
   },
   {
    "duration": 25,
    "start_time": "2022-06-25T17:42:01.638Z"
   },
   {
    "duration": 38,
    "start_time": "2022-06-25T17:42:01.666Z"
   },
   {
    "duration": 22,
    "start_time": "2022-06-25T17:42:01.706Z"
   },
   {
    "duration": 280,
    "start_time": "2022-06-25T17:42:01.731Z"
   },
   {
    "duration": 261,
    "start_time": "2022-06-25T17:42:02.013Z"
   },
   {
    "duration": 15,
    "start_time": "2022-06-25T17:42:02.276Z"
   },
   {
    "duration": 19,
    "start_time": "2022-06-25T17:42:02.292Z"
   },
   {
    "duration": 38,
    "start_time": "2022-06-25T17:42:02.314Z"
   },
   {
    "duration": 20,
    "start_time": "2022-06-25T17:42:02.354Z"
   },
   {
    "duration": 8,
    "start_time": "2022-06-25T17:42:02.377Z"
   },
   {
    "duration": 292,
    "start_time": "2022-06-25T17:42:02.387Z"
   },
   {
    "duration": 18,
    "start_time": "2022-06-25T17:42:02.682Z"
   },
   {
    "duration": 5,
    "start_time": "2022-06-25T17:42:02.702Z"
   },
   {
    "duration": 7,
    "start_time": "2022-06-25T17:42:02.709Z"
   },
   {
    "duration": 43,
    "start_time": "2022-06-25T17:42:02.717Z"
   },
   {
    "duration": 18,
    "start_time": "2022-06-25T17:42:02.762Z"
   },
   {
    "duration": 4,
    "start_time": "2022-06-25T17:42:02.782Z"
   },
   {
    "duration": 75,
    "start_time": "2022-06-25T17:42:02.788Z"
   },
   {
    "duration": 840,
    "start_time": "2022-06-25T17:42:02.866Z"
   },
   {
    "duration": 57,
    "start_time": "2022-06-25T17:42:03.708Z"
   },
   {
    "duration": 15,
    "start_time": "2022-06-25T17:42:03.767Z"
   },
   {
    "duration": 70,
    "start_time": "2022-06-25T17:42:03.784Z"
   },
   {
    "duration": 15,
    "start_time": "2022-06-25T17:42:03.856Z"
   },
   {
    "duration": 15,
    "start_time": "2022-06-25T17:42:03.874Z"
   },
   {
    "duration": 389,
    "start_time": "2022-06-26T05:39:09.018Z"
   },
   {
    "duration": 232,
    "start_time": "2022-06-26T05:39:09.408Z"
   },
   {
    "duration": 506,
    "start_time": "2022-06-26T05:39:09.641Z"
   },
   {
    "duration": 2,
    "start_time": "2022-06-26T05:39:10.149Z"
   },
   {
    "duration": 518,
    "start_time": "2022-06-26T05:39:10.153Z"
   },
   {
    "duration": 18,
    "start_time": "2022-06-26T05:39:10.673Z"
   },
   {
    "duration": 12,
    "start_time": "2022-06-26T05:39:10.693Z"
   },
   {
    "duration": 18,
    "start_time": "2022-06-26T05:39:10.706Z"
   },
   {
    "duration": 6,
    "start_time": "2022-06-26T05:39:10.726Z"
   },
   {
    "duration": 16,
    "start_time": "2022-06-26T05:39:10.734Z"
   },
   {
    "duration": 48,
    "start_time": "2022-06-26T05:39:10.752Z"
   },
   {
    "duration": 7,
    "start_time": "2022-06-26T05:39:10.802Z"
   },
   {
    "duration": 8,
    "start_time": "2022-06-26T05:39:10.811Z"
   },
   {
    "duration": 12,
    "start_time": "2022-06-26T05:39:10.820Z"
   },
   {
    "duration": 6,
    "start_time": "2022-06-26T05:39:10.834Z"
   },
   {
    "duration": 24,
    "start_time": "2022-06-26T05:39:10.842Z"
   },
   {
    "duration": 9,
    "start_time": "2022-06-26T05:39:10.868Z"
   },
   {
    "duration": 11,
    "start_time": "2022-06-26T05:39:10.880Z"
   },
   {
    "duration": 212,
    "start_time": "2022-06-26T05:39:10.893Z"
   },
   {
    "duration": 7,
    "start_time": "2022-06-26T05:39:11.107Z"
   },
   {
    "duration": 179,
    "start_time": "2022-06-26T05:39:11.116Z"
   },
   {
    "duration": 8,
    "start_time": "2022-06-26T05:39:11.297Z"
   },
   {
    "duration": 3,
    "start_time": "2022-06-26T05:39:11.307Z"
   },
   {
    "duration": 8,
    "start_time": "2022-06-26T05:39:11.312Z"
   },
   {
    "duration": 12,
    "start_time": "2022-06-26T05:39:11.321Z"
   },
   {
    "duration": 4,
    "start_time": "2022-06-26T05:39:11.366Z"
   },
   {
    "duration": 8,
    "start_time": "2022-06-26T05:39:11.375Z"
   },
   {
    "duration": 7,
    "start_time": "2022-06-26T05:39:11.388Z"
   },
   {
    "duration": 9,
    "start_time": "2022-06-26T05:39:11.396Z"
   },
   {
    "duration": 8,
    "start_time": "2022-06-26T05:39:11.406Z"
   },
   {
    "duration": 9,
    "start_time": "2022-06-26T05:39:11.415Z"
   },
   {
    "duration": 6,
    "start_time": "2022-06-26T05:39:11.425Z"
   },
   {
    "duration": 6,
    "start_time": "2022-06-26T05:39:11.432Z"
   },
   {
    "duration": 26,
    "start_time": "2022-06-26T05:39:11.439Z"
   },
   {
    "duration": 224,
    "start_time": "2022-06-26T05:39:11.468Z"
   },
   {
    "duration": 6,
    "start_time": "2022-06-26T05:39:11.694Z"
   },
   {
    "duration": 12,
    "start_time": "2022-06-26T05:39:11.701Z"
   },
   {
    "duration": 3,
    "start_time": "2022-06-26T05:39:11.715Z"
   },
   {
    "duration": 11,
    "start_time": "2022-06-26T05:39:11.720Z"
   },
   {
    "duration": 21,
    "start_time": "2022-06-26T05:39:11.761Z"
   },
   {
    "duration": 4,
    "start_time": "2022-06-26T05:39:11.784Z"
   },
   {
    "duration": 11,
    "start_time": "2022-06-26T05:39:11.790Z"
   },
   {
    "duration": 13,
    "start_time": "2022-06-26T05:39:11.803Z"
   },
   {
    "duration": 11,
    "start_time": "2022-06-26T05:39:11.818Z"
   },
   {
    "duration": 10,
    "start_time": "2022-06-26T05:39:11.830Z"
   },
   {
    "duration": 180,
    "start_time": "2022-06-26T05:39:11.859Z"
   },
   {
    "duration": 18,
    "start_time": "2022-06-26T05:39:12.041Z"
   },
   {
    "duration": 16,
    "start_time": "2022-06-26T05:39:12.061Z"
   },
   {
    "duration": 8,
    "start_time": "2022-06-26T05:39:12.079Z"
   },
   {
    "duration": 6,
    "start_time": "2022-06-26T05:39:12.088Z"
   },
   {
    "duration": 9,
    "start_time": "2022-06-26T05:39:12.096Z"
   },
   {
    "duration": 9,
    "start_time": "2022-06-26T05:39:12.107Z"
   },
   {
    "duration": 189,
    "start_time": "2022-06-26T05:39:12.118Z"
   },
   {
    "duration": 196,
    "start_time": "2022-06-26T05:39:12.309Z"
   },
   {
    "duration": 12,
    "start_time": "2022-06-26T05:39:12.507Z"
   },
   {
    "duration": 13,
    "start_time": "2022-06-26T05:39:12.520Z"
   },
   {
    "duration": 38,
    "start_time": "2022-06-26T05:39:12.535Z"
   },
   {
    "duration": 12,
    "start_time": "2022-06-26T05:39:12.575Z"
   },
   {
    "duration": 6,
    "start_time": "2022-06-26T05:39:12.588Z"
   },
   {
    "duration": 218,
    "start_time": "2022-06-26T05:39:12.596Z"
   },
   {
    "duration": 12,
    "start_time": "2022-06-26T05:39:12.816Z"
   },
   {
    "duration": 3,
    "start_time": "2022-06-26T05:39:12.830Z"
   },
   {
    "duration": 26,
    "start_time": "2022-06-26T05:39:12.834Z"
   },
   {
    "duration": 13,
    "start_time": "2022-06-26T05:39:12.864Z"
   },
   {
    "duration": 10,
    "start_time": "2022-06-26T05:39:12.879Z"
   },
   {
    "duration": 7,
    "start_time": "2022-06-26T05:39:12.891Z"
   },
   {
    "duration": 67,
    "start_time": "2022-06-26T05:39:12.900Z"
   },
   {
    "duration": 1220,
    "start_time": "2022-06-26T05:39:12.969Z"
   },
   {
    "duration": 10,
    "start_time": "2022-06-26T05:39:14.190Z"
   },
   {
    "duration": 7,
    "start_time": "2022-06-26T05:39:14.202Z"
   },
   {
    "duration": 13,
    "start_time": "2022-06-26T05:39:14.210Z"
   },
   {
    "duration": 9,
    "start_time": "2022-06-26T05:39:14.224Z"
   },
   {
    "duration": 4,
    "start_time": "2022-06-26T05:39:14.235Z"
   },
   {
    "duration": 102,
    "start_time": "2022-06-26T05:55:05.735Z"
   },
   {
    "duration": 400,
    "start_time": "2022-06-26T08:55:50.328Z"
   },
   {
    "duration": 531,
    "start_time": "2022-06-26T08:55:50.731Z"
   },
   {
    "duration": 459,
    "start_time": "2022-06-26T08:55:51.263Z"
   },
   {
    "duration": 3,
    "start_time": "2022-06-26T08:55:51.724Z"
   },
   {
    "duration": 552,
    "start_time": "2022-06-26T08:55:51.728Z"
   },
   {
    "duration": 13,
    "start_time": "2022-06-26T08:55:52.282Z"
   },
   {
    "duration": 12,
    "start_time": "2022-06-26T08:55:52.296Z"
   },
   {
    "duration": 16,
    "start_time": "2022-06-26T08:55:52.309Z"
   },
   {
    "duration": 5,
    "start_time": "2022-06-26T08:55:52.326Z"
   },
   {
    "duration": 16,
    "start_time": "2022-06-26T08:55:52.334Z"
   },
   {
    "duration": 18,
    "start_time": "2022-06-26T08:55:52.352Z"
   },
   {
    "duration": 5,
    "start_time": "2022-06-26T08:55:52.371Z"
   },
   {
    "duration": 8,
    "start_time": "2022-06-26T08:55:52.377Z"
   },
   {
    "duration": 11,
    "start_time": "2022-06-26T08:55:52.386Z"
   },
   {
    "duration": 13,
    "start_time": "2022-06-26T08:55:52.399Z"
   },
   {
    "duration": 6,
    "start_time": "2022-06-26T08:55:52.413Z"
   },
   {
    "duration": 40,
    "start_time": "2022-06-26T08:55:52.420Z"
   },
   {
    "duration": 3,
    "start_time": "2022-06-26T08:55:52.461Z"
   },
   {
    "duration": 7,
    "start_time": "2022-06-26T08:55:52.465Z"
   },
   {
    "duration": 218,
    "start_time": "2022-06-26T08:55:52.473Z"
   },
   {
    "duration": 7,
    "start_time": "2022-06-26T08:55:52.692Z"
   },
   {
    "duration": 167,
    "start_time": "2022-06-26T08:55:52.700Z"
   },
   {
    "duration": 9,
    "start_time": "2022-06-26T08:55:52.869Z"
   },
   {
    "duration": 3,
    "start_time": "2022-06-26T08:55:52.880Z"
   },
   {
    "duration": 12,
    "start_time": "2022-06-26T08:55:52.885Z"
   },
   {
    "duration": 11,
    "start_time": "2022-06-26T08:55:52.899Z"
   },
   {
    "duration": 3,
    "start_time": "2022-06-26T08:55:52.912Z"
   },
   {
    "duration": 4,
    "start_time": "2022-06-26T08:55:52.919Z"
   },
   {
    "duration": 6,
    "start_time": "2022-06-26T08:55:52.951Z"
   },
   {
    "duration": 7,
    "start_time": "2022-06-26T08:55:52.959Z"
   },
   {
    "duration": 5,
    "start_time": "2022-06-26T08:55:52.967Z"
   },
   {
    "duration": 7,
    "start_time": "2022-06-26T08:55:52.974Z"
   },
   {
    "duration": 6,
    "start_time": "2022-06-26T08:55:52.983Z"
   },
   {
    "duration": 5,
    "start_time": "2022-06-26T08:55:52.990Z"
   },
   {
    "duration": 9,
    "start_time": "2022-06-26T08:55:52.996Z"
   },
   {
    "duration": 203,
    "start_time": "2022-06-26T08:55:53.007Z"
   },
   {
    "duration": 5,
    "start_time": "2022-06-26T08:55:53.212Z"
   },
   {
    "duration": 14,
    "start_time": "2022-06-26T08:55:53.218Z"
   },
   {
    "duration": 3,
    "start_time": "2022-06-26T08:55:53.233Z"
   },
   {
    "duration": 8,
    "start_time": "2022-06-26T08:55:53.251Z"
   },
   {
    "duration": 15,
    "start_time": "2022-06-26T08:55:53.260Z"
   },
   {
    "duration": 4,
    "start_time": "2022-06-26T08:55:53.276Z"
   },
   {
    "duration": 12,
    "start_time": "2022-06-26T08:55:53.282Z"
   },
   {
    "duration": 11,
    "start_time": "2022-06-26T08:55:53.295Z"
   },
   {
    "duration": 8,
    "start_time": "2022-06-26T08:55:53.307Z"
   },
   {
    "duration": 34,
    "start_time": "2022-06-26T08:55:53.317Z"
   },
   {
    "duration": 160,
    "start_time": "2022-06-26T08:55:53.353Z"
   },
   {
    "duration": 11,
    "start_time": "2022-06-26T08:55:53.515Z"
   },
   {
    "duration": 10,
    "start_time": "2022-06-26T08:55:53.527Z"
   },
   {
    "duration": 14,
    "start_time": "2022-06-26T08:55:53.538Z"
   },
   {
    "duration": 6,
    "start_time": "2022-06-26T08:55:53.553Z"
   },
   {
    "duration": 10,
    "start_time": "2022-06-26T08:55:53.561Z"
   },
   {
    "duration": 8,
    "start_time": "2022-06-26T08:55:53.572Z"
   },
   {
    "duration": 169,
    "start_time": "2022-06-26T08:55:53.582Z"
   },
   {
    "duration": 170,
    "start_time": "2022-06-26T08:55:53.753Z"
   },
   {
    "duration": 11,
    "start_time": "2022-06-26T08:55:53.925Z"
   },
   {
    "duration": 8,
    "start_time": "2022-06-26T08:55:53.951Z"
   },
   {
    "duration": 15,
    "start_time": "2022-06-26T08:55:53.961Z"
   },
   {
    "duration": 12,
    "start_time": "2022-06-26T08:55:53.977Z"
   },
   {
    "duration": 6,
    "start_time": "2022-06-26T08:55:53.990Z"
   },
   {
    "duration": 201,
    "start_time": "2022-06-26T08:55:53.997Z"
   },
   {
    "duration": 10,
    "start_time": "2022-06-26T08:55:54.200Z"
   },
   {
    "duration": 3,
    "start_time": "2022-06-26T08:55:54.212Z"
   },
   {
    "duration": 8,
    "start_time": "2022-06-26T08:55:54.216Z"
   },
   {
    "duration": 11,
    "start_time": "2022-06-26T08:55:54.225Z"
   },
   {
    "duration": 16,
    "start_time": "2022-06-26T08:55:54.237Z"
   },
   {
    "duration": 3,
    "start_time": "2022-06-26T08:55:54.254Z"
   },
   {
    "duration": 40,
    "start_time": "2022-06-26T08:55:54.258Z"
   },
   {
    "duration": 1118,
    "start_time": "2022-06-26T08:55:54.300Z"
   },
   {
    "duration": 9,
    "start_time": "2022-06-26T08:55:55.420Z"
   },
   {
    "duration": 6,
    "start_time": "2022-06-26T08:55:55.431Z"
   },
   {
    "duration": 11,
    "start_time": "2022-06-26T08:55:55.438Z"
   },
   {
    "duration": 7,
    "start_time": "2022-06-26T08:55:55.451Z"
   },
   {
    "duration": 6,
    "start_time": "2022-06-26T08:55:55.459Z"
   },
   {
    "duration": 363,
    "start_time": "2022-06-26T08:57:11.478Z"
   },
   {
    "duration": 201,
    "start_time": "2022-06-26T08:57:11.842Z"
   },
   {
    "duration": 474,
    "start_time": "2022-06-26T08:57:12.044Z"
   },
   {
    "duration": 2,
    "start_time": "2022-06-26T08:57:12.520Z"
   },
   {
    "duration": 79,
    "start_time": "2022-06-26T08:57:12.524Z"
   },
   {
    "duration": 12,
    "start_time": "2022-06-26T08:57:12.604Z"
   },
   {
    "duration": 13,
    "start_time": "2022-06-26T08:57:12.618Z"
   },
   {
    "duration": 15,
    "start_time": "2022-06-26T08:57:12.632Z"
   },
   {
    "duration": 5,
    "start_time": "2022-06-26T08:57:12.649Z"
   },
   {
    "duration": 17,
    "start_time": "2022-06-26T08:57:12.657Z"
   },
   {
    "duration": 22,
    "start_time": "2022-06-26T08:57:12.676Z"
   },
   {
    "duration": 6,
    "start_time": "2022-06-26T08:57:12.699Z"
   },
   {
    "duration": 12,
    "start_time": "2022-06-26T08:57:12.706Z"
   },
   {
    "duration": 10,
    "start_time": "2022-06-26T08:57:12.720Z"
   },
   {
    "duration": 29,
    "start_time": "2022-06-26T08:57:12.732Z"
   },
   {
    "duration": 4,
    "start_time": "2022-06-26T08:57:12.762Z"
   },
   {
    "duration": 5,
    "start_time": "2022-06-26T08:57:12.768Z"
   },
   {
    "duration": 12,
    "start_time": "2022-06-26T08:57:12.774Z"
   },
   {
    "duration": 3,
    "start_time": "2022-06-26T08:57:12.787Z"
   },
   {
    "duration": 9,
    "start_time": "2022-06-26T08:57:12.792Z"
   },
   {
    "duration": 198,
    "start_time": "2022-06-26T08:57:12.802Z"
   },
   {
    "duration": 6,
    "start_time": "2022-06-26T08:57:13.002Z"
   },
   {
    "duration": 152,
    "start_time": "2022-06-26T08:57:13.009Z"
   },
   {
    "duration": 9,
    "start_time": "2022-06-26T08:57:13.162Z"
   },
   {
    "duration": 27,
    "start_time": "2022-06-26T08:57:13.172Z"
   },
   {
    "duration": 46,
    "start_time": "2022-06-26T08:57:13.201Z"
   },
   {
    "duration": 33,
    "start_time": "2022-06-26T08:57:13.249Z"
   },
   {
    "duration": 23,
    "start_time": "2022-06-26T08:57:13.286Z"
   },
   {
    "duration": 31,
    "start_time": "2022-06-26T08:57:13.310Z"
   },
   {
    "duration": 26,
    "start_time": "2022-06-26T08:57:13.342Z"
   },
   {
    "duration": 34,
    "start_time": "2022-06-26T08:57:13.370Z"
   },
   {
    "duration": 13,
    "start_time": "2022-06-26T08:57:13.405Z"
   },
   {
    "duration": 19,
    "start_time": "2022-06-26T08:57:13.419Z"
   },
   {
    "duration": 41,
    "start_time": "2022-06-26T08:57:13.440Z"
   },
   {
    "duration": 17,
    "start_time": "2022-06-26T08:57:13.483Z"
   },
   {
    "duration": 23,
    "start_time": "2022-06-26T08:57:13.502Z"
   },
   {
    "duration": 198,
    "start_time": "2022-06-26T08:57:13.526Z"
   },
   {
    "duration": 6,
    "start_time": "2022-06-26T08:57:13.726Z"
   },
   {
    "duration": 35,
    "start_time": "2022-06-26T08:57:13.734Z"
   },
   {
    "duration": 21,
    "start_time": "2022-06-26T08:57:13.771Z"
   },
   {
    "duration": 26,
    "start_time": "2022-06-26T08:57:13.794Z"
   },
   {
    "duration": 33,
    "start_time": "2022-06-26T08:57:13.822Z"
   },
   {
    "duration": 23,
    "start_time": "2022-06-26T08:57:13.857Z"
   },
   {
    "duration": 48,
    "start_time": "2022-06-26T08:57:13.881Z"
   },
   {
    "duration": 15,
    "start_time": "2022-06-26T08:57:13.930Z"
   },
   {
    "duration": 30,
    "start_time": "2022-06-26T08:57:13.947Z"
   },
   {
    "duration": 21,
    "start_time": "2022-06-26T08:57:13.978Z"
   },
   {
    "duration": 158,
    "start_time": "2022-06-26T08:57:14.001Z"
   },
   {
    "duration": 11,
    "start_time": "2022-06-26T08:57:14.160Z"
   },
   {
    "duration": 9,
    "start_time": "2022-06-26T08:57:14.173Z"
   },
   {
    "duration": 3,
    "start_time": "2022-06-26T08:57:14.183Z"
   },
   {
    "duration": 5,
    "start_time": "2022-06-26T08:57:14.188Z"
   },
   {
    "duration": 10,
    "start_time": "2022-06-26T08:57:14.194Z"
   },
   {
    "duration": 7,
    "start_time": "2022-06-26T08:57:14.205Z"
   },
   {
    "duration": 192,
    "start_time": "2022-06-26T08:57:14.213Z"
   },
   {
    "duration": 222,
    "start_time": "2022-06-26T08:57:14.408Z"
   },
   {
    "duration": 14,
    "start_time": "2022-06-26T08:57:14.631Z"
   },
   {
    "duration": 14,
    "start_time": "2022-06-26T08:57:14.646Z"
   },
   {
    "duration": 17,
    "start_time": "2022-06-26T08:57:14.662Z"
   },
   {
    "duration": 11,
    "start_time": "2022-06-26T08:57:14.680Z"
   },
   {
    "duration": 4,
    "start_time": "2022-06-26T08:57:14.693Z"
   },
   {
    "duration": 197,
    "start_time": "2022-06-26T08:57:14.699Z"
   },
   {
    "duration": 11,
    "start_time": "2022-06-26T08:57:14.898Z"
   },
   {
    "duration": 3,
    "start_time": "2022-06-26T08:57:14.911Z"
   },
   {
    "duration": 6,
    "start_time": "2022-06-26T08:57:14.915Z"
   },
   {
    "duration": 30,
    "start_time": "2022-06-26T08:57:14.922Z"
   },
   {
    "duration": 7,
    "start_time": "2022-06-26T08:57:14.953Z"
   },
   {
    "duration": 4,
    "start_time": "2022-06-26T08:57:14.962Z"
   },
   {
    "duration": 43,
    "start_time": "2022-06-26T08:57:14.967Z"
   },
   {
    "duration": 963,
    "start_time": "2022-06-26T08:57:15.011Z"
   },
   {
    "duration": 9,
    "start_time": "2022-06-26T08:57:15.975Z"
   },
   {
    "duration": 5,
    "start_time": "2022-06-26T08:57:15.986Z"
   },
   {
    "duration": 10,
    "start_time": "2022-06-26T08:57:15.992Z"
   },
   {
    "duration": 10,
    "start_time": "2022-06-26T08:57:16.004Z"
   },
   {
    "duration": 6,
    "start_time": "2022-06-26T08:57:16.016Z"
   },
   {
    "duration": 399,
    "start_time": "2022-06-26T08:59:00.919Z"
   },
   {
    "duration": 206,
    "start_time": "2022-06-26T08:59:01.320Z"
   },
   {
    "duration": 469,
    "start_time": "2022-06-26T08:59:01.528Z"
   },
   {
    "duration": 4,
    "start_time": "2022-06-26T08:59:01.999Z"
   },
   {
    "duration": 65,
    "start_time": "2022-06-26T08:59:02.004Z"
   },
   {
    "duration": 12,
    "start_time": "2022-06-26T08:59:02.070Z"
   },
   {
    "duration": 13,
    "start_time": "2022-06-26T08:59:02.083Z"
   },
   {
    "duration": 17,
    "start_time": "2022-06-26T08:59:02.097Z"
   },
   {
    "duration": 6,
    "start_time": "2022-06-26T08:59:02.116Z"
   },
   {
    "duration": 29,
    "start_time": "2022-06-26T08:59:02.124Z"
   },
   {
    "duration": 17,
    "start_time": "2022-06-26T08:59:02.155Z"
   },
   {
    "duration": 6,
    "start_time": "2022-06-26T08:59:02.173Z"
   },
   {
    "duration": 8,
    "start_time": "2022-06-26T08:59:02.180Z"
   },
   {
    "duration": 15,
    "start_time": "2022-06-26T08:59:02.190Z"
   },
   {
    "duration": 13,
    "start_time": "2022-06-26T08:59:02.207Z"
   },
   {
    "duration": 6,
    "start_time": "2022-06-26T08:59:02.221Z"
   },
   {
    "duration": 9,
    "start_time": "2022-06-26T08:59:02.250Z"
   },
   {
    "duration": 3,
    "start_time": "2022-06-26T08:59:02.261Z"
   },
   {
    "duration": 19,
    "start_time": "2022-06-26T08:59:02.265Z"
   },
   {
    "duration": 177,
    "start_time": "2022-06-26T08:59:02.285Z"
   },
   {
    "duration": 6,
    "start_time": "2022-06-26T08:59:02.464Z"
   },
   {
    "duration": 168,
    "start_time": "2022-06-26T08:59:02.471Z"
   },
   {
    "duration": 11,
    "start_time": "2022-06-26T08:59:02.641Z"
   },
   {
    "duration": 4,
    "start_time": "2022-06-26T08:59:02.653Z"
   },
   {
    "duration": 9,
    "start_time": "2022-06-26T08:59:02.658Z"
   },
   {
    "duration": 10,
    "start_time": "2022-06-26T08:59:02.669Z"
   },
   {
    "duration": 3,
    "start_time": "2022-06-26T08:59:02.681Z"
   },
   {
    "duration": 3,
    "start_time": "2022-06-26T08:59:02.688Z"
   },
   {
    "duration": 12,
    "start_time": "2022-06-26T08:59:02.693Z"
   },
   {
    "duration": 15,
    "start_time": "2022-06-26T08:59:02.706Z"
   },
   {
    "duration": 8,
    "start_time": "2022-06-26T08:59:02.722Z"
   },
   {
    "duration": 21,
    "start_time": "2022-06-26T08:59:02.731Z"
   },
   {
    "duration": 7,
    "start_time": "2022-06-26T08:59:02.753Z"
   },
   {
    "duration": 6,
    "start_time": "2022-06-26T08:59:02.762Z"
   },
   {
    "duration": 10,
    "start_time": "2022-06-26T08:59:02.770Z"
   },
   {
    "duration": 184,
    "start_time": "2022-06-26T08:59:02.781Z"
   },
   {
    "duration": 6,
    "start_time": "2022-06-26T08:59:02.966Z"
   },
   {
    "duration": 10,
    "start_time": "2022-06-26T08:59:02.973Z"
   },
   {
    "duration": 3,
    "start_time": "2022-06-26T08:59:02.984Z"
   },
   {
    "duration": 10,
    "start_time": "2022-06-26T08:59:02.988Z"
   },
   {
    "duration": 14,
    "start_time": "2022-06-26T08:59:03.000Z"
   },
   {
    "duration": 4,
    "start_time": "2022-06-26T08:59:03.015Z"
   },
   {
    "duration": 38,
    "start_time": "2022-06-26T08:59:03.020Z"
   },
   {
    "duration": 12,
    "start_time": "2022-06-26T08:59:03.059Z"
   },
   {
    "duration": 13,
    "start_time": "2022-06-26T08:59:03.072Z"
   },
   {
    "duration": 8,
    "start_time": "2022-06-26T08:59:03.087Z"
   },
   {
    "duration": 170,
    "start_time": "2022-06-26T08:59:03.097Z"
   },
   {
    "duration": 9,
    "start_time": "2022-06-26T08:59:03.268Z"
   },
   {
    "duration": 9,
    "start_time": "2022-06-26T08:59:03.279Z"
   },
   {
    "duration": 4,
    "start_time": "2022-06-26T08:59:03.289Z"
   },
   {
    "duration": 7,
    "start_time": "2022-06-26T08:59:03.294Z"
   },
   {
    "duration": 8,
    "start_time": "2022-06-26T08:59:03.302Z"
   },
   {
    "duration": 7,
    "start_time": "2022-06-26T08:59:03.311Z"
   },
   {
    "duration": 262,
    "start_time": "2022-06-26T08:59:03.320Z"
   },
   {
    "duration": 314,
    "start_time": "2022-06-26T08:59:03.584Z"
   },
   {
    "duration": 61,
    "start_time": "2022-06-26T08:59:03.899Z"
   },
   {
    "duration": 12,
    "start_time": "2022-06-26T08:59:03.962Z"
   },
   {
    "duration": 15,
    "start_time": "2022-06-26T08:59:03.975Z"
   },
   {
    "duration": 60,
    "start_time": "2022-06-26T08:59:03.991Z"
   },
   {
    "duration": 6,
    "start_time": "2022-06-26T08:59:04.052Z"
   },
   {
    "duration": 334,
    "start_time": "2022-06-26T08:59:04.059Z"
   },
   {
    "duration": 67,
    "start_time": "2022-06-26T08:59:04.395Z"
   },
   {
    "duration": 6,
    "start_time": "2022-06-26T08:59:04.465Z"
   },
   {
    "duration": 10,
    "start_time": "2022-06-26T08:59:04.473Z"
   },
   {
    "duration": 19,
    "start_time": "2022-06-26T08:59:04.484Z"
   },
   {
    "duration": 65,
    "start_time": "2022-06-26T08:59:04.504Z"
   },
   {
    "duration": 7,
    "start_time": "2022-06-26T08:59:04.571Z"
   },
   {
    "duration": 90,
    "start_time": "2022-06-26T08:59:04.580Z"
   },
   {
    "duration": 974,
    "start_time": "2022-06-26T08:59:04.672Z"
   },
   {
    "duration": 12,
    "start_time": "2022-06-26T08:59:05.648Z"
   },
   {
    "duration": 4,
    "start_time": "2022-06-26T08:59:05.662Z"
   },
   {
    "duration": 13,
    "start_time": "2022-06-26T08:59:05.667Z"
   },
   {
    "duration": 9,
    "start_time": "2022-06-26T08:59:05.681Z"
   },
   {
    "duration": 8,
    "start_time": "2022-06-26T08:59:05.692Z"
   },
   {
    "duration": 14,
    "start_time": "2022-06-26T08:59:27.541Z"
   },
   {
    "duration": 24,
    "start_time": "2022-06-26T09:00:31.661Z"
   },
   {
    "duration": 326,
    "start_time": "2022-06-26T09:00:46.211Z"
   },
   {
    "duration": 210,
    "start_time": "2022-06-26T09:00:46.538Z"
   },
   {
    "duration": 459,
    "start_time": "2022-06-26T09:00:46.750Z"
   },
   {
    "duration": 3,
    "start_time": "2022-06-26T09:00:47.210Z"
   },
   {
    "duration": 90,
    "start_time": "2022-06-26T09:00:47.215Z"
   },
   {
    "duration": 12,
    "start_time": "2022-06-26T09:00:47.306Z"
   },
   {
    "duration": 15,
    "start_time": "2022-06-26T09:00:47.320Z"
   },
   {
    "duration": 34,
    "start_time": "2022-06-26T09:00:47.336Z"
   },
   {
    "duration": 6,
    "start_time": "2022-06-26T09:00:47.372Z"
   },
   {
    "duration": 27,
    "start_time": "2022-06-26T09:00:47.380Z"
   },
   {
    "duration": 27,
    "start_time": "2022-06-26T09:00:47.409Z"
   },
   {
    "duration": 11,
    "start_time": "2022-06-26T09:00:47.438Z"
   },
   {
    "duration": 20,
    "start_time": "2022-06-26T09:00:47.451Z"
   },
   {
    "duration": 29,
    "start_time": "2022-06-26T09:00:47.474Z"
   },
   {
    "duration": 37,
    "start_time": "2022-06-26T09:00:47.504Z"
   },
   {
    "duration": 11,
    "start_time": "2022-06-26T09:00:47.543Z"
   },
   {
    "duration": 35,
    "start_time": "2022-06-26T09:00:47.555Z"
   },
   {
    "duration": 26,
    "start_time": "2022-06-26T09:00:47.591Z"
   },
   {
    "duration": 47,
    "start_time": "2022-06-26T09:00:47.619Z"
   },
   {
    "duration": 194,
    "start_time": "2022-06-26T09:00:47.667Z"
   },
   {
    "duration": 6,
    "start_time": "2022-06-26T09:00:47.862Z"
   },
   {
    "duration": 151,
    "start_time": "2022-06-26T09:00:47.869Z"
   },
   {
    "duration": 10,
    "start_time": "2022-06-26T09:00:48.021Z"
   },
   {
    "duration": 3,
    "start_time": "2022-06-26T09:00:48.032Z"
   },
   {
    "duration": 6,
    "start_time": "2022-06-26T09:00:48.051Z"
   },
   {
    "duration": 11,
    "start_time": "2022-06-26T09:00:48.058Z"
   },
   {
    "duration": 3,
    "start_time": "2022-06-26T09:00:48.070Z"
   },
   {
    "duration": 5,
    "start_time": "2022-06-26T09:00:48.074Z"
   },
   {
    "duration": 9,
    "start_time": "2022-06-26T09:00:48.080Z"
   },
   {
    "duration": 7,
    "start_time": "2022-06-26T09:00:48.091Z"
   },
   {
    "duration": 6,
    "start_time": "2022-06-26T09:00:48.099Z"
   },
   {
    "duration": 10,
    "start_time": "2022-06-26T09:00:48.106Z"
   },
   {
    "duration": 4,
    "start_time": "2022-06-26T09:00:48.117Z"
   },
   {
    "duration": 28,
    "start_time": "2022-06-26T09:00:48.123Z"
   },
   {
    "duration": 7,
    "start_time": "2022-06-26T09:00:48.152Z"
   },
   {
    "duration": 190,
    "start_time": "2022-06-26T09:00:48.161Z"
   },
   {
    "duration": 5,
    "start_time": "2022-06-26T09:00:48.352Z"
   },
   {
    "duration": 12,
    "start_time": "2022-06-26T09:00:48.358Z"
   },
   {
    "duration": 2,
    "start_time": "2022-06-26T09:00:48.371Z"
   },
   {
    "duration": 10,
    "start_time": "2022-06-26T09:00:48.375Z"
   },
   {
    "duration": 13,
    "start_time": "2022-06-26T09:00:48.389Z"
   },
   {
    "duration": 4,
    "start_time": "2022-06-26T09:00:48.403Z"
   },
   {
    "duration": 14,
    "start_time": "2022-06-26T09:00:48.408Z"
   },
   {
    "duration": 29,
    "start_time": "2022-06-26T09:00:48.424Z"
   },
   {
    "duration": 9,
    "start_time": "2022-06-26T09:00:48.454Z"
   },
   {
    "duration": 10,
    "start_time": "2022-06-26T09:00:48.464Z"
   },
   {
    "duration": 163,
    "start_time": "2022-06-26T09:00:48.475Z"
   },
   {
    "duration": 12,
    "start_time": "2022-06-26T09:00:48.640Z"
   },
   {
    "duration": 9,
    "start_time": "2022-06-26T09:00:48.653Z"
   },
   {
    "duration": 3,
    "start_time": "2022-06-26T09:00:48.664Z"
   },
   {
    "duration": 6,
    "start_time": "2022-06-26T09:00:48.668Z"
   },
   {
    "duration": 8,
    "start_time": "2022-06-26T09:00:48.676Z"
   },
   {
    "duration": 8,
    "start_time": "2022-06-26T09:00:48.685Z"
   },
   {
    "duration": 192,
    "start_time": "2022-06-26T09:00:48.695Z"
   },
   {
    "duration": 169,
    "start_time": "2022-06-26T09:00:48.889Z"
   },
   {
    "duration": 12,
    "start_time": "2022-06-26T09:00:49.059Z"
   },
   {
    "duration": 12,
    "start_time": "2022-06-26T09:00:49.072Z"
   },
   {
    "duration": 16,
    "start_time": "2022-06-26T09:00:49.086Z"
   },
   {
    "duration": 11,
    "start_time": "2022-06-26T09:00:49.104Z"
   },
   {
    "duration": 6,
    "start_time": "2022-06-26T09:00:49.116Z"
   },
   {
    "duration": 352,
    "start_time": "2022-06-26T09:00:49.123Z"
   },
   {
    "duration": 15,
    "start_time": "2022-06-26T09:00:49.477Z"
   },
   {
    "duration": 57,
    "start_time": "2022-06-26T09:00:49.494Z"
   },
   {
    "duration": 6,
    "start_time": "2022-06-26T09:00:49.553Z"
   },
   {
    "duration": 10,
    "start_time": "2022-06-26T09:00:49.560Z"
   },
   {
    "duration": 6,
    "start_time": "2022-06-26T09:00:49.571Z"
   },
   {
    "duration": 6,
    "start_time": "2022-06-26T09:00:49.578Z"
   },
   {
    "duration": 93,
    "start_time": "2022-06-26T09:00:49.585Z"
   },
   {
    "duration": 932,
    "start_time": "2022-06-26T09:00:49.680Z"
   },
   {
    "duration": 10,
    "start_time": "2022-06-26T09:00:50.613Z"
   },
   {
    "duration": 9,
    "start_time": "2022-06-26T09:00:50.624Z"
   },
   {
    "duration": 10,
    "start_time": "2022-06-26T09:00:50.635Z"
   },
   {
    "duration": 11,
    "start_time": "2022-06-26T09:00:50.647Z"
   },
   {
    "duration": 7,
    "start_time": "2022-06-26T09:00:50.659Z"
   },
   {
    "duration": 388,
    "start_time": "2022-06-26T09:10:49.670Z"
   },
   {
    "duration": 225,
    "start_time": "2022-06-26T09:10:50.059Z"
   },
   {
    "duration": 444,
    "start_time": "2022-06-26T09:10:50.286Z"
   },
   {
    "duration": 2,
    "start_time": "2022-06-26T09:10:50.732Z"
   },
   {
    "duration": 64,
    "start_time": "2022-06-26T09:10:50.735Z"
   },
   {
    "duration": 12,
    "start_time": "2022-06-26T09:10:50.800Z"
   },
   {
    "duration": 13,
    "start_time": "2022-06-26T09:10:50.814Z"
   },
   {
    "duration": 15,
    "start_time": "2022-06-26T09:10:50.829Z"
   },
   {
    "duration": 8,
    "start_time": "2022-06-26T09:10:50.846Z"
   },
   {
    "duration": 9,
    "start_time": "2022-06-26T09:10:50.857Z"
   },
   {
    "duration": 16,
    "start_time": "2022-06-26T09:10:50.868Z"
   },
   {
    "duration": 6,
    "start_time": "2022-06-26T09:10:50.886Z"
   },
   {
    "duration": 6,
    "start_time": "2022-06-26T09:10:50.894Z"
   },
   {
    "duration": 11,
    "start_time": "2022-06-26T09:10:50.901Z"
   },
   {
    "duration": 41,
    "start_time": "2022-06-26T09:10:50.914Z"
   },
   {
    "duration": 18,
    "start_time": "2022-06-26T09:10:50.957Z"
   },
   {
    "duration": 8,
    "start_time": "2022-06-26T09:10:50.976Z"
   },
   {
    "duration": 11,
    "start_time": "2022-06-26T09:10:50.985Z"
   },
   {
    "duration": 3,
    "start_time": "2022-06-26T09:10:50.997Z"
   },
   {
    "duration": 8,
    "start_time": "2022-06-26T09:10:51.001Z"
   },
   {
    "duration": 196,
    "start_time": "2022-06-26T09:10:51.010Z"
   },
   {
    "duration": 6,
    "start_time": "2022-06-26T09:10:51.208Z"
   },
   {
    "duration": 163,
    "start_time": "2022-06-26T09:10:51.215Z"
   },
   {
    "duration": 9,
    "start_time": "2022-06-26T09:10:51.380Z"
   },
   {
    "duration": 4,
    "start_time": "2022-06-26T09:10:51.390Z"
   },
   {
    "duration": 9,
    "start_time": "2022-06-26T09:10:51.395Z"
   },
   {
    "duration": 10,
    "start_time": "2022-06-26T09:10:51.406Z"
   },
   {
    "duration": 3,
    "start_time": "2022-06-26T09:10:51.420Z"
   },
   {
    "duration": 3,
    "start_time": "2022-06-26T09:10:51.450Z"
   },
   {
    "duration": 7,
    "start_time": "2022-06-26T09:10:51.455Z"
   },
   {
    "duration": 8,
    "start_time": "2022-06-26T09:10:51.463Z"
   },
   {
    "duration": 7,
    "start_time": "2022-06-26T09:10:51.472Z"
   },
   {
    "duration": 11,
    "start_time": "2022-06-26T09:10:51.480Z"
   },
   {
    "duration": 6,
    "start_time": "2022-06-26T09:10:51.492Z"
   },
   {
    "duration": 5,
    "start_time": "2022-06-26T09:10:51.500Z"
   },
   {
    "duration": 9,
    "start_time": "2022-06-26T09:10:51.506Z"
   },
   {
    "duration": 224,
    "start_time": "2022-06-26T09:10:51.517Z"
   },
   {
    "duration": 9,
    "start_time": "2022-06-26T09:10:51.743Z"
   },
   {
    "duration": 9,
    "start_time": "2022-06-26T09:10:51.753Z"
   },
   {
    "duration": 3,
    "start_time": "2022-06-26T09:10:51.763Z"
   },
   {
    "duration": 10,
    "start_time": "2022-06-26T09:10:51.767Z"
   },
   {
    "duration": 14,
    "start_time": "2022-06-26T09:10:51.779Z"
   },
   {
    "duration": 4,
    "start_time": "2022-06-26T09:10:51.794Z"
   },
   {
    "duration": 11,
    "start_time": "2022-06-26T09:10:51.800Z"
   },
   {
    "duration": 41,
    "start_time": "2022-06-26T09:10:51.813Z"
   },
   {
    "duration": 9,
    "start_time": "2022-06-26T09:10:51.855Z"
   },
   {
    "duration": 7,
    "start_time": "2022-06-26T09:10:51.866Z"
   },
   {
    "duration": 160,
    "start_time": "2022-06-26T09:10:51.874Z"
   },
   {
    "duration": 15,
    "start_time": "2022-06-26T09:10:52.036Z"
   },
   {
    "duration": 9,
    "start_time": "2022-06-26T09:10:52.052Z"
   },
   {
    "duration": 3,
    "start_time": "2022-06-26T09:10:52.062Z"
   },
   {
    "duration": 7,
    "start_time": "2022-06-26T09:10:52.066Z"
   },
   {
    "duration": 7,
    "start_time": "2022-06-26T09:10:52.074Z"
   },
   {
    "duration": 8,
    "start_time": "2022-06-26T09:10:52.083Z"
   },
   {
    "duration": 188,
    "start_time": "2022-06-26T09:10:52.092Z"
   },
   {
    "duration": 181,
    "start_time": "2022-06-26T09:10:52.281Z"
   },
   {
    "duration": 11,
    "start_time": "2022-06-26T09:10:52.464Z"
   },
   {
    "duration": 12,
    "start_time": "2022-06-26T09:10:52.476Z"
   },
   {
    "duration": 16,
    "start_time": "2022-06-26T09:10:52.490Z"
   },
   {
    "duration": 11,
    "start_time": "2022-06-26T09:10:52.507Z"
   },
   {
    "duration": 5,
    "start_time": "2022-06-26T09:10:52.520Z"
   },
   {
    "duration": 203,
    "start_time": "2022-06-26T09:10:52.527Z"
   },
   {
    "duration": 20,
    "start_time": "2022-06-26T09:10:52.731Z"
   },
   {
    "duration": 4,
    "start_time": "2022-06-26T09:10:52.752Z"
   },
   {
    "duration": 8,
    "start_time": "2022-06-26T09:10:52.757Z"
   },
   {
    "duration": 12,
    "start_time": "2022-06-26T09:10:52.766Z"
   },
   {
    "duration": 8,
    "start_time": "2022-06-26T09:10:52.780Z"
   },
   {
    "duration": 12,
    "start_time": "2022-06-26T09:10:52.789Z"
   },
   {
    "duration": 61,
    "start_time": "2022-06-26T09:10:52.802Z"
   },
   {
    "duration": 1263,
    "start_time": "2022-06-26T09:10:52.865Z"
   },
   {
    "duration": 9,
    "start_time": "2022-06-26T09:10:54.130Z"
   },
   {
    "duration": 6,
    "start_time": "2022-06-26T09:10:54.140Z"
   },
   {
    "duration": 12,
    "start_time": "2022-06-26T09:10:54.147Z"
   },
   {
    "duration": 9,
    "start_time": "2022-06-26T09:10:54.160Z"
   },
   {
    "duration": 7,
    "start_time": "2022-06-26T09:10:54.171Z"
   },
   {
    "duration": 363,
    "start_time": "2022-06-26T09:14:36.963Z"
   },
   {
    "duration": 241,
    "start_time": "2022-06-26T09:14:37.328Z"
   },
   {
    "duration": 544,
    "start_time": "2022-06-26T09:14:37.571Z"
   },
   {
    "duration": 3,
    "start_time": "2022-06-26T09:14:38.116Z"
   },
   {
    "duration": 81,
    "start_time": "2022-06-26T09:14:38.122Z"
   },
   {
    "duration": 11,
    "start_time": "2022-06-26T09:14:38.205Z"
   },
   {
    "duration": 14,
    "start_time": "2022-06-26T09:14:38.218Z"
   },
   {
    "duration": 32,
    "start_time": "2022-06-26T09:14:38.234Z"
   },
   {
    "duration": 5,
    "start_time": "2022-06-26T09:14:38.267Z"
   },
   {
    "duration": 12,
    "start_time": "2022-06-26T09:14:38.273Z"
   },
   {
    "duration": 22,
    "start_time": "2022-06-26T09:14:38.287Z"
   },
   {
    "duration": 5,
    "start_time": "2022-06-26T09:14:38.311Z"
   },
   {
    "duration": 7,
    "start_time": "2022-06-26T09:14:38.317Z"
   },
   {
    "duration": 40,
    "start_time": "2022-06-26T09:14:38.326Z"
   },
   {
    "duration": 11,
    "start_time": "2022-06-26T09:14:38.368Z"
   },
   {
    "duration": 101,
    "start_time": "2022-06-26T09:14:38.381Z"
   },
   {
    "duration": 0,
    "start_time": "2022-06-26T09:14:38.484Z"
   },
   {
    "duration": 0,
    "start_time": "2022-06-26T09:14:38.486Z"
   },
   {
    "duration": 0,
    "start_time": "2022-06-26T09:14:38.487Z"
   },
   {
    "duration": 0,
    "start_time": "2022-06-26T09:14:38.488Z"
   },
   {
    "duration": 0,
    "start_time": "2022-06-26T09:14:38.489Z"
   },
   {
    "duration": 0,
    "start_time": "2022-06-26T09:14:38.491Z"
   },
   {
    "duration": 0,
    "start_time": "2022-06-26T09:14:38.492Z"
   },
   {
    "duration": 0,
    "start_time": "2022-06-26T09:14:38.493Z"
   },
   {
    "duration": 0,
    "start_time": "2022-06-26T09:14:38.497Z"
   },
   {
    "duration": 0,
    "start_time": "2022-06-26T09:14:38.498Z"
   },
   {
    "duration": 0,
    "start_time": "2022-06-26T09:14:38.500Z"
   },
   {
    "duration": 0,
    "start_time": "2022-06-26T09:14:38.501Z"
   },
   {
    "duration": 0,
    "start_time": "2022-06-26T09:14:38.502Z"
   },
   {
    "duration": 0,
    "start_time": "2022-06-26T09:14:38.504Z"
   },
   {
    "duration": 0,
    "start_time": "2022-06-26T09:14:38.505Z"
   },
   {
    "duration": 0,
    "start_time": "2022-06-26T09:14:38.506Z"
   },
   {
    "duration": 0,
    "start_time": "2022-06-26T09:14:38.508Z"
   },
   {
    "duration": 0,
    "start_time": "2022-06-26T09:14:38.512Z"
   },
   {
    "duration": 0,
    "start_time": "2022-06-26T09:14:38.512Z"
   },
   {
    "duration": 0,
    "start_time": "2022-06-26T09:14:38.551Z"
   },
   {
    "duration": 0,
    "start_time": "2022-06-26T09:14:38.552Z"
   },
   {
    "duration": 0,
    "start_time": "2022-06-26T09:14:38.552Z"
   },
   {
    "duration": 0,
    "start_time": "2022-06-26T09:14:38.553Z"
   },
   {
    "duration": 0,
    "start_time": "2022-06-26T09:14:38.554Z"
   },
   {
    "duration": 0,
    "start_time": "2022-06-26T09:14:38.554Z"
   },
   {
    "duration": 0,
    "start_time": "2022-06-26T09:14:38.555Z"
   },
   {
    "duration": 0,
    "start_time": "2022-06-26T09:14:38.555Z"
   },
   {
    "duration": 0,
    "start_time": "2022-06-26T09:14:38.556Z"
   },
   {
    "duration": 0,
    "start_time": "2022-06-26T09:14:38.557Z"
   },
   {
    "duration": 0,
    "start_time": "2022-06-26T09:14:38.558Z"
   },
   {
    "duration": 0,
    "start_time": "2022-06-26T09:14:38.558Z"
   },
   {
    "duration": 0,
    "start_time": "2022-06-26T09:14:38.559Z"
   },
   {
    "duration": 0,
    "start_time": "2022-06-26T09:14:38.559Z"
   },
   {
    "duration": 0,
    "start_time": "2022-06-26T09:14:38.560Z"
   },
   {
    "duration": 0,
    "start_time": "2022-06-26T09:14:38.561Z"
   },
   {
    "duration": 0,
    "start_time": "2022-06-26T09:14:38.561Z"
   },
   {
    "duration": 0,
    "start_time": "2022-06-26T09:14:38.562Z"
   },
   {
    "duration": 0,
    "start_time": "2022-06-26T09:14:38.563Z"
   },
   {
    "duration": 1,
    "start_time": "2022-06-26T09:14:38.563Z"
   },
   {
    "duration": 0,
    "start_time": "2022-06-26T09:14:38.564Z"
   },
   {
    "duration": 0,
    "start_time": "2022-06-26T09:14:38.565Z"
   },
   {
    "duration": 1,
    "start_time": "2022-06-26T09:14:38.565Z"
   },
   {
    "duration": 0,
    "start_time": "2022-06-26T09:14:38.566Z"
   },
   {
    "duration": 0,
    "start_time": "2022-06-26T09:14:38.567Z"
   },
   {
    "duration": 0,
    "start_time": "2022-06-26T09:14:38.567Z"
   },
   {
    "duration": 0,
    "start_time": "2022-06-26T09:14:38.568Z"
   },
   {
    "duration": 0,
    "start_time": "2022-06-26T09:14:38.569Z"
   },
   {
    "duration": 0,
    "start_time": "2022-06-26T09:14:38.569Z"
   },
   {
    "duration": 0,
    "start_time": "2022-06-26T09:14:38.570Z"
   },
   {
    "duration": 0,
    "start_time": "2022-06-26T09:14:38.571Z"
   },
   {
    "duration": 0,
    "start_time": "2022-06-26T09:14:38.571Z"
   },
   {
    "duration": 0,
    "start_time": "2022-06-26T09:14:38.572Z"
   },
   {
    "duration": 0,
    "start_time": "2022-06-26T09:14:38.573Z"
   },
   {
    "duration": 0,
    "start_time": "2022-06-26T09:14:38.573Z"
   },
   {
    "duration": 0,
    "start_time": "2022-06-26T09:14:38.574Z"
   },
   {
    "duration": 0,
    "start_time": "2022-06-26T09:14:38.574Z"
   },
   {
    "duration": 0,
    "start_time": "2022-06-26T09:14:38.575Z"
   },
   {
    "duration": 0,
    "start_time": "2022-06-26T09:14:38.576Z"
   },
   {
    "duration": 0,
    "start_time": "2022-06-26T09:14:38.577Z"
   },
   {
    "duration": 0,
    "start_time": "2022-06-26T09:14:38.578Z"
   },
   {
    "duration": 16,
    "start_time": "2022-06-26T09:17:57.470Z"
   },
   {
    "duration": 384,
    "start_time": "2022-06-26T09:18:00.861Z"
   },
   {
    "duration": 213,
    "start_time": "2022-06-26T09:18:01.247Z"
   },
   {
    "duration": 488,
    "start_time": "2022-06-26T09:18:01.461Z"
   },
   {
    "duration": 7,
    "start_time": "2022-06-26T09:18:01.951Z"
   },
   {
    "duration": 74,
    "start_time": "2022-06-26T09:18:01.961Z"
   },
   {
    "duration": 12,
    "start_time": "2022-06-26T09:18:02.037Z"
   },
   {
    "duration": 16,
    "start_time": "2022-06-26T09:18:02.050Z"
   },
   {
    "duration": 27,
    "start_time": "2022-06-26T09:18:02.068Z"
   },
   {
    "duration": 6,
    "start_time": "2022-06-26T09:18:02.096Z"
   },
   {
    "duration": 18,
    "start_time": "2022-06-26T09:18:02.104Z"
   },
   {
    "duration": 35,
    "start_time": "2022-06-26T09:18:02.123Z"
   },
   {
    "duration": 18,
    "start_time": "2022-06-26T09:18:02.159Z"
   },
   {
    "duration": 28,
    "start_time": "2022-06-26T09:18:02.178Z"
   },
   {
    "duration": 24,
    "start_time": "2022-06-26T09:18:02.209Z"
   },
   {
    "duration": 13,
    "start_time": "2022-06-26T09:18:02.235Z"
   },
   {
    "duration": 38,
    "start_time": "2022-06-26T09:18:02.249Z"
   },
   {
    "duration": 11,
    "start_time": "2022-06-26T09:18:02.288Z"
   },
   {
    "duration": 24,
    "start_time": "2022-06-26T09:18:02.301Z"
   },
   {
    "duration": 17,
    "start_time": "2022-06-26T09:18:02.326Z"
   },
   {
    "duration": 23,
    "start_time": "2022-06-26T09:18:02.344Z"
   },
   {
    "duration": 14,
    "start_time": "2022-06-26T09:18:02.368Z"
   },
   {
    "duration": 205,
    "start_time": "2022-06-26T09:18:02.384Z"
   },
   {
    "duration": 5,
    "start_time": "2022-06-26T09:18:02.591Z"
   },
   {
    "duration": 176,
    "start_time": "2022-06-26T09:18:02.598Z"
   },
   {
    "duration": 9,
    "start_time": "2022-06-26T09:18:02.776Z"
   },
   {
    "duration": 20,
    "start_time": "2022-06-26T09:18:02.787Z"
   },
   {
    "duration": 30,
    "start_time": "2022-06-26T09:18:02.808Z"
   },
   {
    "duration": 15,
    "start_time": "2022-06-26T09:18:02.839Z"
   },
   {
    "duration": 11,
    "start_time": "2022-06-26T09:18:02.855Z"
   },
   {
    "duration": 8,
    "start_time": "2022-06-26T09:18:02.871Z"
   },
   {
    "duration": 22,
    "start_time": "2022-06-26T09:18:02.881Z"
   },
   {
    "duration": 20,
    "start_time": "2022-06-26T09:18:02.904Z"
   },
   {
    "duration": 13,
    "start_time": "2022-06-26T09:18:02.925Z"
   },
   {
    "duration": 22,
    "start_time": "2022-06-26T09:18:02.939Z"
   },
   {
    "duration": 15,
    "start_time": "2022-06-26T09:18:02.965Z"
   },
   {
    "duration": 13,
    "start_time": "2022-06-26T09:18:02.981Z"
   },
   {
    "duration": 18,
    "start_time": "2022-06-26T09:18:02.995Z"
   },
   {
    "duration": 190,
    "start_time": "2022-06-26T09:18:03.015Z"
   },
   {
    "duration": 5,
    "start_time": "2022-06-26T09:18:03.206Z"
   },
   {
    "duration": 13,
    "start_time": "2022-06-26T09:18:03.212Z"
   },
   {
    "duration": 3,
    "start_time": "2022-06-26T09:18:03.228Z"
   },
   {
    "duration": 23,
    "start_time": "2022-06-26T09:18:03.232Z"
   },
   {
    "duration": 16,
    "start_time": "2022-06-26T09:18:03.256Z"
   },
   {
    "duration": 10,
    "start_time": "2022-06-26T09:18:03.273Z"
   },
   {
    "duration": 16,
    "start_time": "2022-06-26T09:18:03.285Z"
   },
   {
    "duration": 18,
    "start_time": "2022-06-26T09:18:03.302Z"
   },
   {
    "duration": 10,
    "start_time": "2022-06-26T09:18:03.322Z"
   },
   {
    "duration": 12,
    "start_time": "2022-06-26T09:18:03.333Z"
   },
   {
    "duration": 158,
    "start_time": "2022-06-26T09:18:03.346Z"
   },
   {
    "duration": 12,
    "start_time": "2022-06-26T09:18:03.506Z"
   },
   {
    "duration": 22,
    "start_time": "2022-06-26T09:18:03.519Z"
   },
   {
    "duration": 5,
    "start_time": "2022-06-26T09:18:03.542Z"
   },
   {
    "duration": 14,
    "start_time": "2022-06-26T09:18:03.556Z"
   },
   {
    "duration": 13,
    "start_time": "2022-06-26T09:18:03.572Z"
   },
   {
    "duration": 15,
    "start_time": "2022-06-26T09:18:03.587Z"
   },
   {
    "duration": 206,
    "start_time": "2022-06-26T09:18:03.603Z"
   },
   {
    "duration": 183,
    "start_time": "2022-06-26T09:18:03.811Z"
   },
   {
    "duration": 11,
    "start_time": "2022-06-26T09:18:03.995Z"
   },
   {
    "duration": 17,
    "start_time": "2022-06-26T09:18:04.008Z"
   },
   {
    "duration": 19,
    "start_time": "2022-06-26T09:18:04.027Z"
   },
   {
    "duration": 30,
    "start_time": "2022-06-26T09:18:04.047Z"
   },
   {
    "duration": 9,
    "start_time": "2022-06-26T09:18:04.078Z"
   },
   {
    "duration": 190,
    "start_time": "2022-06-26T09:18:04.088Z"
   },
   {
    "duration": 17,
    "start_time": "2022-06-26T09:18:04.280Z"
   },
   {
    "duration": 4,
    "start_time": "2022-06-26T09:18:04.298Z"
   },
   {
    "duration": 9,
    "start_time": "2022-06-26T09:18:04.304Z"
   },
   {
    "duration": 22,
    "start_time": "2022-06-26T09:18:04.314Z"
   },
   {
    "duration": 16,
    "start_time": "2022-06-26T09:18:04.337Z"
   },
   {
    "duration": 21,
    "start_time": "2022-06-26T09:18:04.355Z"
   },
   {
    "duration": 71,
    "start_time": "2022-06-26T09:18:04.378Z"
   },
   {
    "duration": 1113,
    "start_time": "2022-06-26T09:18:04.452Z"
   },
   {
    "duration": 8,
    "start_time": "2022-06-26T09:18:05.567Z"
   },
   {
    "duration": 10,
    "start_time": "2022-06-26T09:18:05.577Z"
   },
   {
    "duration": 20,
    "start_time": "2022-06-26T09:18:05.588Z"
   },
   {
    "duration": 10,
    "start_time": "2022-06-26T09:18:05.609Z"
   },
   {
    "duration": 6,
    "start_time": "2022-06-26T09:18:05.621Z"
   },
   {
    "duration": 66,
    "start_time": "2022-06-26T09:20:22.499Z"
   },
   {
    "duration": 322,
    "start_time": "2022-06-26T09:20:49.516Z"
   },
   {
    "duration": 214,
    "start_time": "2022-06-26T09:20:49.840Z"
   },
   {
    "duration": 445,
    "start_time": "2022-06-26T09:20:50.062Z"
   },
   {
    "duration": 3,
    "start_time": "2022-06-26T09:20:50.508Z"
   },
   {
    "duration": 68,
    "start_time": "2022-06-26T09:20:50.513Z"
   },
   {
    "duration": 13,
    "start_time": "2022-06-26T09:20:50.582Z"
   },
   {
    "duration": 16,
    "start_time": "2022-06-26T09:20:50.597Z"
   },
   {
    "duration": 18,
    "start_time": "2022-06-26T09:20:50.615Z"
   },
   {
    "duration": 6,
    "start_time": "2022-06-26T09:20:50.651Z"
   },
   {
    "duration": 14,
    "start_time": "2022-06-26T09:20:50.659Z"
   },
   {
    "duration": 18,
    "start_time": "2022-06-26T09:20:50.674Z"
   },
   {
    "duration": 6,
    "start_time": "2022-06-26T09:20:50.694Z"
   },
   {
    "duration": 8,
    "start_time": "2022-06-26T09:20:50.701Z"
   },
   {
    "duration": 11,
    "start_time": "2022-06-26T09:20:50.711Z"
   },
   {
    "duration": 27,
    "start_time": "2022-06-26T09:20:50.724Z"
   },
   {
    "duration": 55,
    "start_time": "2022-06-26T09:20:50.753Z"
   },
   {
    "duration": 0,
    "start_time": "2022-06-26T09:20:50.810Z"
   },
   {
    "duration": 1,
    "start_time": "2022-06-26T09:20:50.811Z"
   },
   {
    "duration": 0,
    "start_time": "2022-06-26T09:20:50.812Z"
   },
   {
    "duration": 0,
    "start_time": "2022-06-26T09:20:50.813Z"
   },
   {
    "duration": 0,
    "start_time": "2022-06-26T09:20:50.815Z"
   },
   {
    "duration": 0,
    "start_time": "2022-06-26T09:20:50.815Z"
   },
   {
    "duration": 0,
    "start_time": "2022-06-26T09:20:50.816Z"
   },
   {
    "duration": 0,
    "start_time": "2022-06-26T09:20:50.817Z"
   },
   {
    "duration": 0,
    "start_time": "2022-06-26T09:20:50.818Z"
   },
   {
    "duration": 0,
    "start_time": "2022-06-26T09:20:50.819Z"
   },
   {
    "duration": 0,
    "start_time": "2022-06-26T09:20:50.819Z"
   },
   {
    "duration": 0,
    "start_time": "2022-06-26T09:20:50.820Z"
   },
   {
    "duration": 0,
    "start_time": "2022-06-26T09:20:50.821Z"
   },
   {
    "duration": 0,
    "start_time": "2022-06-26T09:20:50.823Z"
   },
   {
    "duration": 0,
    "start_time": "2022-06-26T09:20:50.825Z"
   },
   {
    "duration": 0,
    "start_time": "2022-06-26T09:20:50.828Z"
   },
   {
    "duration": 0,
    "start_time": "2022-06-26T09:20:50.829Z"
   },
   {
    "duration": 0,
    "start_time": "2022-06-26T09:20:50.831Z"
   },
   {
    "duration": 0,
    "start_time": "2022-06-26T09:20:50.833Z"
   },
   {
    "duration": 0,
    "start_time": "2022-06-26T09:20:50.834Z"
   },
   {
    "duration": 0,
    "start_time": "2022-06-26T09:20:50.835Z"
   },
   {
    "duration": 0,
    "start_time": "2022-06-26T09:20:50.837Z"
   },
   {
    "duration": 0,
    "start_time": "2022-06-26T09:20:50.838Z"
   },
   {
    "duration": 0,
    "start_time": "2022-06-26T09:20:50.839Z"
   },
   {
    "duration": 0,
    "start_time": "2022-06-26T09:20:50.840Z"
   },
   {
    "duration": 0,
    "start_time": "2022-06-26T09:20:50.841Z"
   },
   {
    "duration": 0,
    "start_time": "2022-06-26T09:20:50.842Z"
   },
   {
    "duration": 0,
    "start_time": "2022-06-26T09:20:50.851Z"
   },
   {
    "duration": 0,
    "start_time": "2022-06-26T09:20:50.853Z"
   },
   {
    "duration": 0,
    "start_time": "2022-06-26T09:20:50.854Z"
   },
   {
    "duration": 0,
    "start_time": "2022-06-26T09:20:50.855Z"
   },
   {
    "duration": 0,
    "start_time": "2022-06-26T09:20:50.856Z"
   },
   {
    "duration": 0,
    "start_time": "2022-06-26T09:20:50.857Z"
   },
   {
    "duration": 0,
    "start_time": "2022-06-26T09:20:50.858Z"
   },
   {
    "duration": 0,
    "start_time": "2022-06-26T09:20:50.859Z"
   },
   {
    "duration": 0,
    "start_time": "2022-06-26T09:20:50.861Z"
   },
   {
    "duration": 0,
    "start_time": "2022-06-26T09:20:50.862Z"
   },
   {
    "duration": 0,
    "start_time": "2022-06-26T09:20:50.863Z"
   },
   {
    "duration": 0,
    "start_time": "2022-06-26T09:20:50.864Z"
   },
   {
    "duration": 0,
    "start_time": "2022-06-26T09:20:50.865Z"
   },
   {
    "duration": 0,
    "start_time": "2022-06-26T09:20:50.866Z"
   },
   {
    "duration": 0,
    "start_time": "2022-06-26T09:20:50.868Z"
   },
   {
    "duration": 0,
    "start_time": "2022-06-26T09:20:50.869Z"
   },
   {
    "duration": 0,
    "start_time": "2022-06-26T09:20:50.871Z"
   },
   {
    "duration": 0,
    "start_time": "2022-06-26T09:20:50.872Z"
   },
   {
    "duration": 0,
    "start_time": "2022-06-26T09:20:50.874Z"
   },
   {
    "duration": 0,
    "start_time": "2022-06-26T09:20:50.876Z"
   },
   {
    "duration": 0,
    "start_time": "2022-06-26T09:20:50.877Z"
   },
   {
    "duration": 0,
    "start_time": "2022-06-26T09:20:50.878Z"
   },
   {
    "duration": 0,
    "start_time": "2022-06-26T09:20:50.880Z"
   },
   {
    "duration": 0,
    "start_time": "2022-06-26T09:20:50.882Z"
   },
   {
    "duration": 0,
    "start_time": "2022-06-26T09:20:50.883Z"
   },
   {
    "duration": 0,
    "start_time": "2022-06-26T09:20:50.885Z"
   },
   {
    "duration": 0,
    "start_time": "2022-06-26T09:20:50.886Z"
   },
   {
    "duration": 0,
    "start_time": "2022-06-26T09:20:50.888Z"
   },
   {
    "duration": 0,
    "start_time": "2022-06-26T09:20:50.889Z"
   },
   {
    "duration": 0,
    "start_time": "2022-06-26T09:20:50.890Z"
   },
   {
    "duration": 0,
    "start_time": "2022-06-26T09:20:50.891Z"
   },
   {
    "duration": 0,
    "start_time": "2022-06-26T09:20:50.892Z"
   },
   {
    "duration": 354,
    "start_time": "2022-06-26T09:21:42.873Z"
   },
   {
    "duration": 207,
    "start_time": "2022-06-26T09:21:43.229Z"
   },
   {
    "duration": 451,
    "start_time": "2022-06-26T09:21:43.440Z"
   },
   {
    "duration": 3,
    "start_time": "2022-06-26T09:21:43.892Z"
   },
   {
    "duration": 66,
    "start_time": "2022-06-26T09:21:43.896Z"
   },
   {
    "duration": 12,
    "start_time": "2022-06-26T09:21:43.964Z"
   },
   {
    "duration": 11,
    "start_time": "2022-06-26T09:21:43.978Z"
   },
   {
    "duration": 16,
    "start_time": "2022-06-26T09:21:43.990Z"
   },
   {
    "duration": 5,
    "start_time": "2022-06-26T09:21:44.008Z"
   },
   {
    "duration": 41,
    "start_time": "2022-06-26T09:21:44.014Z"
   },
   {
    "duration": 17,
    "start_time": "2022-06-26T09:21:44.056Z"
   },
   {
    "duration": 5,
    "start_time": "2022-06-26T09:21:44.074Z"
   },
   {
    "duration": 8,
    "start_time": "2022-06-26T09:21:44.080Z"
   },
   {
    "duration": 11,
    "start_time": "2022-06-26T09:21:44.089Z"
   },
   {
    "duration": 6,
    "start_time": "2022-06-26T09:21:44.101Z"
   },
   {
    "duration": 43,
    "start_time": "2022-06-26T09:21:44.108Z"
   },
   {
    "duration": 0,
    "start_time": "2022-06-26T09:21:44.153Z"
   },
   {
    "duration": 0,
    "start_time": "2022-06-26T09:21:44.155Z"
   },
   {
    "duration": 0,
    "start_time": "2022-06-26T09:21:44.156Z"
   },
   {
    "duration": 0,
    "start_time": "2022-06-26T09:21:44.157Z"
   },
   {
    "duration": 0,
    "start_time": "2022-06-26T09:21:44.158Z"
   },
   {
    "duration": 0,
    "start_time": "2022-06-26T09:21:44.158Z"
   },
   {
    "duration": 0,
    "start_time": "2022-06-26T09:21:44.159Z"
   },
   {
    "duration": 0,
    "start_time": "2022-06-26T09:21:44.160Z"
   },
   {
    "duration": 0,
    "start_time": "2022-06-26T09:21:44.161Z"
   },
   {
    "duration": 0,
    "start_time": "2022-06-26T09:21:44.162Z"
   },
   {
    "duration": 0,
    "start_time": "2022-06-26T09:21:44.162Z"
   },
   {
    "duration": 0,
    "start_time": "2022-06-26T09:21:44.163Z"
   },
   {
    "duration": 0,
    "start_time": "2022-06-26T09:21:44.164Z"
   },
   {
    "duration": 0,
    "start_time": "2022-06-26T09:21:44.164Z"
   },
   {
    "duration": 0,
    "start_time": "2022-06-26T09:21:44.165Z"
   },
   {
    "duration": 0,
    "start_time": "2022-06-26T09:21:44.166Z"
   },
   {
    "duration": 0,
    "start_time": "2022-06-26T09:21:44.167Z"
   },
   {
    "duration": 0,
    "start_time": "2022-06-26T09:21:44.167Z"
   },
   {
    "duration": 0,
    "start_time": "2022-06-26T09:21:44.168Z"
   },
   {
    "duration": 0,
    "start_time": "2022-06-26T09:21:44.169Z"
   },
   {
    "duration": 0,
    "start_time": "2022-06-26T09:21:44.169Z"
   },
   {
    "duration": 0,
    "start_time": "2022-06-26T09:21:44.170Z"
   },
   {
    "duration": 0,
    "start_time": "2022-06-26T09:21:44.171Z"
   },
   {
    "duration": 0,
    "start_time": "2022-06-26T09:21:44.172Z"
   },
   {
    "duration": 0,
    "start_time": "2022-06-26T09:21:44.173Z"
   },
   {
    "duration": 0,
    "start_time": "2022-06-26T09:21:44.174Z"
   },
   {
    "duration": 0,
    "start_time": "2022-06-26T09:21:44.175Z"
   },
   {
    "duration": 0,
    "start_time": "2022-06-26T09:21:44.176Z"
   },
   {
    "duration": 0,
    "start_time": "2022-06-26T09:21:44.177Z"
   },
   {
    "duration": 0,
    "start_time": "2022-06-26T09:21:44.178Z"
   },
   {
    "duration": 0,
    "start_time": "2022-06-26T09:21:44.179Z"
   },
   {
    "duration": 0,
    "start_time": "2022-06-26T09:21:44.180Z"
   },
   {
    "duration": 0,
    "start_time": "2022-06-26T09:21:44.180Z"
   },
   {
    "duration": 0,
    "start_time": "2022-06-26T09:21:44.181Z"
   },
   {
    "duration": 0,
    "start_time": "2022-06-26T09:21:44.182Z"
   },
   {
    "duration": 0,
    "start_time": "2022-06-26T09:21:44.183Z"
   },
   {
    "duration": 0,
    "start_time": "2022-06-26T09:21:44.183Z"
   },
   {
    "duration": 0,
    "start_time": "2022-06-26T09:21:44.184Z"
   },
   {
    "duration": 0,
    "start_time": "2022-06-26T09:21:44.185Z"
   },
   {
    "duration": 0,
    "start_time": "2022-06-26T09:21:44.186Z"
   },
   {
    "duration": 0,
    "start_time": "2022-06-26T09:21:44.187Z"
   },
   {
    "duration": 0,
    "start_time": "2022-06-26T09:21:44.188Z"
   },
   {
    "duration": 0,
    "start_time": "2022-06-26T09:21:44.188Z"
   },
   {
    "duration": 0,
    "start_time": "2022-06-26T09:21:44.189Z"
   },
   {
    "duration": 0,
    "start_time": "2022-06-26T09:21:44.190Z"
   },
   {
    "duration": 0,
    "start_time": "2022-06-26T09:21:44.191Z"
   },
   {
    "duration": 0,
    "start_time": "2022-06-26T09:21:44.192Z"
   },
   {
    "duration": 0,
    "start_time": "2022-06-26T09:21:44.250Z"
   },
   {
    "duration": 0,
    "start_time": "2022-06-26T09:21:44.252Z"
   },
   {
    "duration": 0,
    "start_time": "2022-06-26T09:21:44.252Z"
   },
   {
    "duration": 0,
    "start_time": "2022-06-26T09:21:44.253Z"
   },
   {
    "duration": 0,
    "start_time": "2022-06-26T09:21:44.254Z"
   },
   {
    "duration": 0,
    "start_time": "2022-06-26T09:21:44.255Z"
   },
   {
    "duration": 0,
    "start_time": "2022-06-26T09:21:44.256Z"
   },
   {
    "duration": 0,
    "start_time": "2022-06-26T09:21:44.257Z"
   },
   {
    "duration": 0,
    "start_time": "2022-06-26T09:21:44.258Z"
   },
   {
    "duration": 0,
    "start_time": "2022-06-26T09:21:44.259Z"
   },
   {
    "duration": 0,
    "start_time": "2022-06-26T09:21:44.260Z"
   },
   {
    "duration": 0,
    "start_time": "2022-06-26T09:21:44.261Z"
   },
   {
    "duration": 383,
    "start_time": "2022-06-26T09:22:03.428Z"
   },
   {
    "duration": 222,
    "start_time": "2022-06-26T09:22:03.813Z"
   },
   {
    "duration": 488,
    "start_time": "2022-06-26T09:22:04.037Z"
   },
   {
    "duration": 3,
    "start_time": "2022-06-26T09:22:04.527Z"
   },
   {
    "duration": 78,
    "start_time": "2022-06-26T09:22:04.532Z"
   },
   {
    "duration": 12,
    "start_time": "2022-06-26T09:22:04.612Z"
   },
   {
    "duration": 13,
    "start_time": "2022-06-26T09:22:04.626Z"
   },
   {
    "duration": 24,
    "start_time": "2022-06-26T09:22:04.641Z"
   },
   {
    "duration": 6,
    "start_time": "2022-06-26T09:22:04.666Z"
   },
   {
    "duration": 15,
    "start_time": "2022-06-26T09:22:04.673Z"
   },
   {
    "duration": 16,
    "start_time": "2022-06-26T09:22:04.689Z"
   },
   {
    "duration": 6,
    "start_time": "2022-06-26T09:22:04.707Z"
   },
   {
    "duration": 8,
    "start_time": "2022-06-26T09:22:04.714Z"
   },
   {
    "duration": 33,
    "start_time": "2022-06-26T09:22:04.725Z"
   },
   {
    "duration": 7,
    "start_time": "2022-06-26T09:22:04.759Z"
   },
   {
    "duration": 14,
    "start_time": "2022-06-26T09:22:04.767Z"
   },
   {
    "duration": 5,
    "start_time": "2022-06-26T09:22:04.783Z"
   },
   {
    "duration": 11,
    "start_time": "2022-06-26T09:22:04.789Z"
   },
   {
    "duration": 4,
    "start_time": "2022-06-26T09:22:04.801Z"
   },
   {
    "duration": 9,
    "start_time": "2022-06-26T09:22:04.807Z"
   },
   {
    "duration": 205,
    "start_time": "2022-06-26T09:22:04.818Z"
   },
   {
    "duration": 7,
    "start_time": "2022-06-26T09:22:05.024Z"
   },
   {
    "duration": 154,
    "start_time": "2022-06-26T09:22:05.032Z"
   },
   {
    "duration": 9,
    "start_time": "2022-06-26T09:22:05.187Z"
   },
   {
    "duration": 3,
    "start_time": "2022-06-26T09:22:05.198Z"
   },
   {
    "duration": 8,
    "start_time": "2022-06-26T09:22:05.202Z"
   },
   {
    "duration": 11,
    "start_time": "2022-06-26T09:22:05.212Z"
   },
   {
    "duration": 3,
    "start_time": "2022-06-26T09:22:05.224Z"
   },
   {
    "duration": 23,
    "start_time": "2022-06-26T09:22:05.228Z"
   },
   {
    "duration": 6,
    "start_time": "2022-06-26T09:22:05.252Z"
   },
   {
    "duration": 9,
    "start_time": "2022-06-26T09:22:05.259Z"
   },
   {
    "duration": 4,
    "start_time": "2022-06-26T09:22:05.270Z"
   },
   {
    "duration": 9,
    "start_time": "2022-06-26T09:22:05.276Z"
   },
   {
    "duration": 6,
    "start_time": "2022-06-26T09:22:05.287Z"
   },
   {
    "duration": 6,
    "start_time": "2022-06-26T09:22:05.294Z"
   },
   {
    "duration": 8,
    "start_time": "2022-06-26T09:22:05.301Z"
   },
   {
    "duration": 204,
    "start_time": "2022-06-26T09:22:05.311Z"
   },
   {
    "duration": 6,
    "start_time": "2022-06-26T09:22:05.517Z"
   },
   {
    "duration": 15,
    "start_time": "2022-06-26T09:22:05.524Z"
   },
   {
    "duration": 2,
    "start_time": "2022-06-26T09:22:05.541Z"
   },
   {
    "duration": 8,
    "start_time": "2022-06-26T09:22:05.550Z"
   },
   {
    "duration": 15,
    "start_time": "2022-06-26T09:22:05.559Z"
   },
   {
    "duration": 3,
    "start_time": "2022-06-26T09:22:05.575Z"
   },
   {
    "duration": 15,
    "start_time": "2022-06-26T09:22:05.579Z"
   },
   {
    "duration": 19,
    "start_time": "2022-06-26T09:22:05.598Z"
   },
   {
    "duration": 10,
    "start_time": "2022-06-26T09:22:05.619Z"
   },
   {
    "duration": 21,
    "start_time": "2022-06-26T09:22:05.630Z"
   },
   {
    "duration": 158,
    "start_time": "2022-06-26T09:22:05.653Z"
   },
   {
    "duration": 10,
    "start_time": "2022-06-26T09:22:05.812Z"
   },
   {
    "duration": 8,
    "start_time": "2022-06-26T09:22:05.823Z"
   },
   {
    "duration": 3,
    "start_time": "2022-06-26T09:22:05.832Z"
   },
   {
    "duration": 3,
    "start_time": "2022-06-26T09:22:05.851Z"
   },
   {
    "duration": 11,
    "start_time": "2022-06-26T09:22:05.855Z"
   },
   {
    "duration": 7,
    "start_time": "2022-06-26T09:22:05.868Z"
   },
   {
    "duration": 194,
    "start_time": "2022-06-26T09:22:05.877Z"
   },
   {
    "duration": 186,
    "start_time": "2022-06-26T09:22:06.073Z"
   },
   {
    "duration": 11,
    "start_time": "2022-06-26T09:22:06.260Z"
   },
   {
    "duration": 14,
    "start_time": "2022-06-26T09:22:06.273Z"
   },
   {
    "duration": 20,
    "start_time": "2022-06-26T09:22:06.289Z"
   },
   {
    "duration": 14,
    "start_time": "2022-06-26T09:22:06.310Z"
   },
   {
    "duration": 29,
    "start_time": "2022-06-26T09:22:06.326Z"
   },
   {
    "duration": 215,
    "start_time": "2022-06-26T09:22:06.358Z"
   },
   {
    "duration": 19,
    "start_time": "2022-06-26T09:22:06.575Z"
   },
   {
    "duration": 4,
    "start_time": "2022-06-26T09:22:06.596Z"
   },
   {
    "duration": 7,
    "start_time": "2022-06-26T09:22:06.601Z"
   },
   {
    "duration": 10,
    "start_time": "2022-06-26T09:22:06.609Z"
   },
   {
    "duration": 7,
    "start_time": "2022-06-26T09:22:06.621Z"
   },
   {
    "duration": 23,
    "start_time": "2022-06-26T09:22:06.629Z"
   },
   {
    "duration": 53,
    "start_time": "2022-06-26T09:22:06.653Z"
   },
   {
    "duration": 895,
    "start_time": "2022-06-26T09:22:06.707Z"
   },
   {
    "duration": 12,
    "start_time": "2022-06-26T09:22:07.603Z"
   },
   {
    "duration": 10,
    "start_time": "2022-06-26T09:22:07.617Z"
   },
   {
    "duration": 15,
    "start_time": "2022-06-26T09:22:07.629Z"
   },
   {
    "duration": 18,
    "start_time": "2022-06-26T09:22:07.646Z"
   },
   {
    "duration": 10,
    "start_time": "2022-06-26T09:22:07.666Z"
   },
   {
    "duration": 420,
    "start_time": "2022-06-26T10:05:41.731Z"
   },
   {
    "duration": 236,
    "start_time": "2022-06-26T10:05:42.153Z"
   },
   {
    "duration": 486,
    "start_time": "2022-06-26T10:05:42.390Z"
   },
   {
    "duration": 3,
    "start_time": "2022-06-26T10:05:42.878Z"
   },
   {
    "duration": 67,
    "start_time": "2022-06-26T10:05:42.882Z"
   },
   {
    "duration": 12,
    "start_time": "2022-06-26T10:05:42.950Z"
   },
   {
    "duration": 14,
    "start_time": "2022-06-26T10:05:42.964Z"
   },
   {
    "duration": 16,
    "start_time": "2022-06-26T10:05:42.980Z"
   },
   {
    "duration": 5,
    "start_time": "2022-06-26T10:05:42.998Z"
   },
   {
    "duration": 12,
    "start_time": "2022-06-26T10:05:43.006Z"
   },
   {
    "duration": 53,
    "start_time": "2022-06-26T10:05:43.019Z"
   },
   {
    "duration": 8,
    "start_time": "2022-06-26T10:05:43.074Z"
   },
   {
    "duration": 8,
    "start_time": "2022-06-26T10:05:43.083Z"
   },
   {
    "duration": 11,
    "start_time": "2022-06-26T10:05:43.092Z"
   },
   {
    "duration": 6,
    "start_time": "2022-06-26T10:05:43.105Z"
   },
   {
    "duration": 39,
    "start_time": "2022-06-26T10:05:43.112Z"
   },
   {
    "duration": 6,
    "start_time": "2022-06-26T10:05:43.153Z"
   },
   {
    "duration": 12,
    "start_time": "2022-06-26T10:05:43.160Z"
   },
   {
    "duration": 3,
    "start_time": "2022-06-26T10:05:43.173Z"
   },
   {
    "duration": 7,
    "start_time": "2022-06-26T10:05:43.178Z"
   },
   {
    "duration": 215,
    "start_time": "2022-06-26T10:05:43.186Z"
   },
   {
    "duration": 6,
    "start_time": "2022-06-26T10:05:43.402Z"
   },
   {
    "duration": 167,
    "start_time": "2022-06-26T10:05:43.409Z"
   },
   {
    "duration": 9,
    "start_time": "2022-06-26T10:05:43.578Z"
   },
   {
    "duration": 4,
    "start_time": "2022-06-26T10:05:43.589Z"
   },
   {
    "duration": 8,
    "start_time": "2022-06-26T10:05:43.594Z"
   },
   {
    "duration": 10,
    "start_time": "2022-06-26T10:05:43.604Z"
   },
   {
    "duration": 3,
    "start_time": "2022-06-26T10:05:43.619Z"
   },
   {
    "duration": 31,
    "start_time": "2022-06-26T10:05:43.623Z"
   },
   {
    "duration": 8,
    "start_time": "2022-06-26T10:05:43.656Z"
   },
   {
    "duration": 7,
    "start_time": "2022-06-26T10:05:43.666Z"
   },
   {
    "duration": 4,
    "start_time": "2022-06-26T10:05:43.675Z"
   },
   {
    "duration": 9,
    "start_time": "2022-06-26T10:05:43.681Z"
   },
   {
    "duration": 5,
    "start_time": "2022-06-26T10:05:43.692Z"
   },
   {
    "duration": 7,
    "start_time": "2022-06-26T10:05:43.698Z"
   },
   {
    "duration": 9,
    "start_time": "2022-06-26T10:05:43.706Z"
   },
   {
    "duration": 217,
    "start_time": "2022-06-26T10:05:43.717Z"
   },
   {
    "duration": 14,
    "start_time": "2022-06-26T10:05:43.936Z"
   },
   {
    "duration": 9,
    "start_time": "2022-06-26T10:05:43.952Z"
   },
   {
    "duration": 2,
    "start_time": "2022-06-26T10:05:43.962Z"
   },
   {
    "duration": 10,
    "start_time": "2022-06-26T10:05:43.966Z"
   },
   {
    "duration": 15,
    "start_time": "2022-06-26T10:05:43.977Z"
   },
   {
    "duration": 4,
    "start_time": "2022-06-26T10:05:43.993Z"
   },
   {
    "duration": 13,
    "start_time": "2022-06-26T10:05:43.998Z"
   },
   {
    "duration": 11,
    "start_time": "2022-06-26T10:05:44.012Z"
   },
   {
    "duration": 26,
    "start_time": "2022-06-26T10:05:44.025Z"
   },
   {
    "duration": 6,
    "start_time": "2022-06-26T10:05:44.052Z"
   },
   {
    "duration": 165,
    "start_time": "2022-06-26T10:05:44.059Z"
   },
   {
    "duration": 10,
    "start_time": "2022-06-26T10:05:44.226Z"
   },
   {
    "duration": 14,
    "start_time": "2022-06-26T10:05:44.237Z"
   },
   {
    "duration": 12,
    "start_time": "2022-06-26T10:05:44.253Z"
   },
   {
    "duration": 9,
    "start_time": "2022-06-26T10:05:44.266Z"
   },
   {
    "duration": 13,
    "start_time": "2022-06-26T10:05:44.276Z"
   },
   {
    "duration": 9,
    "start_time": "2022-06-26T10:05:44.290Z"
   },
   {
    "duration": 201,
    "start_time": "2022-06-26T10:05:44.300Z"
   },
   {
    "duration": 239,
    "start_time": "2022-06-26T10:05:44.503Z"
   },
   {
    "duration": 15,
    "start_time": "2022-06-26T10:05:44.744Z"
   },
   {
    "duration": 13,
    "start_time": "2022-06-26T10:05:44.760Z"
   },
   {
    "duration": 7,
    "start_time": "2022-06-26T10:05:44.775Z"
   },
   {
    "duration": 63,
    "start_time": "2022-06-26T10:05:44.784Z"
   },
   {
    "duration": 1183,
    "start_time": "2022-06-26T10:05:44.850Z"
   },
   {
    "duration": 15,
    "start_time": "2022-06-26T10:05:46.034Z"
   },
   {
    "duration": 16,
    "start_time": "2022-06-26T10:05:46.050Z"
   },
   {
    "duration": 5,
    "start_time": "2022-06-26T10:05:46.068Z"
   },
   {
    "duration": 7,
    "start_time": "2022-06-26T10:05:46.075Z"
   },
   {
    "duration": 209,
    "start_time": "2022-06-26T10:05:46.084Z"
   },
   {
    "duration": 13,
    "start_time": "2022-06-26T10:05:46.295Z"
   },
   {
    "duration": 4,
    "start_time": "2022-06-26T10:05:46.309Z"
   },
   {
    "duration": 5,
    "start_time": "2022-06-26T10:05:46.315Z"
   },
   {
    "duration": 11,
    "start_time": "2022-06-26T10:05:46.321Z"
   },
   {
    "duration": 6,
    "start_time": "2022-06-26T10:05:46.350Z"
   },
   {
    "duration": 11,
    "start_time": "2022-06-26T10:05:46.357Z"
   },
   {
    "duration": 4,
    "start_time": "2022-06-26T10:05:46.369Z"
   },
   {
    "duration": 11,
    "start_time": "2022-06-26T10:05:46.374Z"
   },
   {
    "duration": 8,
    "start_time": "2022-06-26T10:05:46.387Z"
   },
   {
    "duration": 7,
    "start_time": "2022-06-26T10:05:46.396Z"
   },
   {
    "duration": 353,
    "start_time": "2022-06-26T10:08:11.683Z"
   },
   {
    "duration": 201,
    "start_time": "2022-06-26T10:08:12.038Z"
   },
   {
    "duration": 447,
    "start_time": "2022-06-26T10:08:12.240Z"
   },
   {
    "duration": 3,
    "start_time": "2022-06-26T10:08:12.688Z"
   },
   {
    "duration": 62,
    "start_time": "2022-06-26T10:08:12.693Z"
   },
   {
    "duration": 12,
    "start_time": "2022-06-26T10:08:12.756Z"
   },
   {
    "duration": 14,
    "start_time": "2022-06-26T10:08:12.769Z"
   },
   {
    "duration": 22,
    "start_time": "2022-06-26T10:08:12.785Z"
   },
   {
    "duration": 6,
    "start_time": "2022-06-26T10:08:12.809Z"
   },
   {
    "duration": 41,
    "start_time": "2022-06-26T10:08:12.816Z"
   },
   {
    "duration": 29,
    "start_time": "2022-06-26T10:08:12.859Z"
   },
   {
    "duration": 9,
    "start_time": "2022-06-26T10:08:12.890Z"
   },
   {
    "duration": 7,
    "start_time": "2022-06-26T10:08:12.901Z"
   },
   {
    "duration": 11,
    "start_time": "2022-06-26T10:08:12.911Z"
   },
   {
    "duration": 33,
    "start_time": "2022-06-26T10:08:12.924Z"
   },
   {
    "duration": 20,
    "start_time": "2022-06-26T10:08:12.959Z"
   },
   {
    "duration": 8,
    "start_time": "2022-06-26T10:08:12.981Z"
   },
   {
    "duration": 16,
    "start_time": "2022-06-26T10:08:12.990Z"
   },
   {
    "duration": 3,
    "start_time": "2022-06-26T10:08:13.007Z"
   },
   {
    "duration": 12,
    "start_time": "2022-06-26T10:08:13.012Z"
   },
   {
    "duration": 206,
    "start_time": "2022-06-26T10:08:13.051Z"
   },
   {
    "duration": 7,
    "start_time": "2022-06-26T10:08:13.258Z"
   },
   {
    "duration": 184,
    "start_time": "2022-06-26T10:08:13.267Z"
   },
   {
    "duration": 10,
    "start_time": "2022-06-26T10:08:13.453Z"
   },
   {
    "duration": 11,
    "start_time": "2022-06-26T10:08:13.464Z"
   },
   {
    "duration": 9,
    "start_time": "2022-06-26T10:08:13.477Z"
   },
   {
    "duration": 17,
    "start_time": "2022-06-26T10:08:13.488Z"
   },
   {
    "duration": 4,
    "start_time": "2022-06-26T10:08:13.507Z"
   },
   {
    "duration": 6,
    "start_time": "2022-06-26T10:08:13.513Z"
   },
   {
    "duration": 12,
    "start_time": "2022-06-26T10:08:13.521Z"
   },
   {
    "duration": 6,
    "start_time": "2022-06-26T10:08:13.551Z"
   },
   {
    "duration": 5,
    "start_time": "2022-06-26T10:08:13.559Z"
   },
   {
    "duration": 11,
    "start_time": "2022-06-26T10:08:13.566Z"
   },
   {
    "duration": 7,
    "start_time": "2022-06-26T10:08:13.579Z"
   },
   {
    "duration": 5,
    "start_time": "2022-06-26T10:08:13.588Z"
   },
   {
    "duration": 10,
    "start_time": "2022-06-26T10:08:13.595Z"
   },
   {
    "duration": 229,
    "start_time": "2022-06-26T10:08:13.606Z"
   },
   {
    "duration": 6,
    "start_time": "2022-06-26T10:08:13.837Z"
   },
   {
    "duration": 19,
    "start_time": "2022-06-26T10:08:13.845Z"
   },
   {
    "duration": 2,
    "start_time": "2022-06-26T10:08:13.866Z"
   },
   {
    "duration": 12,
    "start_time": "2022-06-26T10:08:13.874Z"
   },
   {
    "duration": 19,
    "start_time": "2022-06-26T10:08:13.887Z"
   },
   {
    "duration": 4,
    "start_time": "2022-06-26T10:08:13.908Z"
   },
   {
    "duration": 13,
    "start_time": "2022-06-26T10:08:13.914Z"
   },
   {
    "duration": 30,
    "start_time": "2022-06-26T10:08:13.928Z"
   },
   {
    "duration": 11,
    "start_time": "2022-06-26T10:08:13.960Z"
   },
   {
    "duration": 7,
    "start_time": "2022-06-26T10:08:13.972Z"
   },
   {
    "duration": 178,
    "start_time": "2022-06-26T10:08:13.981Z"
   },
   {
    "duration": 11,
    "start_time": "2022-06-26T10:08:14.161Z"
   },
   {
    "duration": 9,
    "start_time": "2022-06-26T10:08:14.174Z"
   },
   {
    "duration": 4,
    "start_time": "2022-06-26T10:08:14.185Z"
   },
   {
    "duration": 8,
    "start_time": "2022-06-26T10:08:14.191Z"
   },
   {
    "duration": 9,
    "start_time": "2022-06-26T10:08:14.200Z"
   },
   {
    "duration": 8,
    "start_time": "2022-06-26T10:08:14.210Z"
   },
   {
    "duration": 230,
    "start_time": "2022-06-26T10:08:14.219Z"
   },
   {
    "duration": 223,
    "start_time": "2022-06-26T10:08:14.451Z"
   },
   {
    "duration": 20,
    "start_time": "2022-06-26T10:08:14.676Z"
   },
   {
    "duration": 17,
    "start_time": "2022-06-26T10:08:14.697Z"
   },
   {
    "duration": 4,
    "start_time": "2022-06-26T10:08:14.716Z"
   },
   {
    "duration": 48,
    "start_time": "2022-06-26T10:08:14.721Z"
   },
   {
    "duration": 1027,
    "start_time": "2022-06-26T10:08:14.771Z"
   },
   {
    "duration": 11,
    "start_time": "2022-06-26T10:08:15.800Z"
   },
   {
    "duration": 11,
    "start_time": "2022-06-26T10:08:15.812Z"
   },
   {
    "duration": 18,
    "start_time": "2022-06-26T10:08:15.825Z"
   },
   {
    "duration": 24,
    "start_time": "2022-06-26T10:08:15.844Z"
   },
   {
    "duration": 24,
    "start_time": "2022-06-26T10:08:15.870Z"
   },
   {
    "duration": 9,
    "start_time": "2022-06-26T10:08:15.896Z"
   },
   {
    "duration": 10,
    "start_time": "2022-06-26T10:08:15.906Z"
   },
   {
    "duration": 231,
    "start_time": "2022-06-26T10:08:15.919Z"
   },
   {
    "duration": 13,
    "start_time": "2022-06-26T10:08:16.151Z"
   },
   {
    "duration": 4,
    "start_time": "2022-06-26T10:08:16.165Z"
   },
   {
    "duration": 6,
    "start_time": "2022-06-26T10:08:16.172Z"
   },
   {
    "duration": 10,
    "start_time": "2022-06-26T10:08:16.179Z"
   },
   {
    "duration": 11,
    "start_time": "2022-06-26T10:08:16.192Z"
   },
   {
    "duration": 10,
    "start_time": "2022-06-26T10:08:16.204Z"
   },
   {
    "duration": 36,
    "start_time": "2022-06-26T10:08:16.215Z"
   },
   {
    "duration": 394,
    "start_time": "2022-06-26T10:09:57.342Z"
   },
   {
    "duration": 238,
    "start_time": "2022-06-26T10:09:57.738Z"
   },
   {
    "duration": 430,
    "start_time": "2022-06-26T10:09:57.978Z"
   },
   {
    "duration": 2,
    "start_time": "2022-06-26T10:09:58.410Z"
   },
   {
    "duration": 64,
    "start_time": "2022-06-26T10:09:58.414Z"
   },
   {
    "duration": 13,
    "start_time": "2022-06-26T10:09:58.480Z"
   },
   {
    "duration": 11,
    "start_time": "2022-06-26T10:09:58.494Z"
   },
   {
    "duration": 15,
    "start_time": "2022-06-26T10:09:58.507Z"
   },
   {
    "duration": 30,
    "start_time": "2022-06-26T10:09:58.524Z"
   },
   {
    "duration": 9,
    "start_time": "2022-06-26T10:09:58.556Z"
   },
   {
    "duration": 19,
    "start_time": "2022-06-26T10:09:58.566Z"
   },
   {
    "duration": 6,
    "start_time": "2022-06-26T10:09:58.586Z"
   },
   {
    "duration": 6,
    "start_time": "2022-06-26T10:09:58.593Z"
   },
   {
    "duration": 10,
    "start_time": "2022-06-26T10:09:58.602Z"
   },
   {
    "duration": 7,
    "start_time": "2022-06-26T10:09:58.613Z"
   },
   {
    "duration": 41,
    "start_time": "2022-06-26T10:09:58.622Z"
   },
   {
    "duration": 6,
    "start_time": "2022-06-26T10:09:58.664Z"
   },
   {
    "duration": 10,
    "start_time": "2022-06-26T10:09:58.672Z"
   },
   {
    "duration": 3,
    "start_time": "2022-06-26T10:09:58.684Z"
   },
   {
    "duration": 9,
    "start_time": "2022-06-26T10:09:58.688Z"
   },
   {
    "duration": 229,
    "start_time": "2022-06-26T10:09:58.698Z"
   },
   {
    "duration": 7,
    "start_time": "2022-06-26T10:09:58.929Z"
   },
   {
    "duration": 157,
    "start_time": "2022-06-26T10:09:58.938Z"
   },
   {
    "duration": 9,
    "start_time": "2022-06-26T10:09:59.096Z"
   },
   {
    "duration": 5,
    "start_time": "2022-06-26T10:09:59.106Z"
   },
   {
    "duration": 8,
    "start_time": "2022-06-26T10:09:59.113Z"
   },
   {
    "duration": 35,
    "start_time": "2022-06-26T10:09:59.122Z"
   },
   {
    "duration": 3,
    "start_time": "2022-06-26T10:09:59.158Z"
   },
   {
    "duration": 7,
    "start_time": "2022-06-26T10:09:59.163Z"
   },
   {
    "duration": 8,
    "start_time": "2022-06-26T10:09:59.172Z"
   },
   {
    "duration": 13,
    "start_time": "2022-06-26T10:09:59.181Z"
   },
   {
    "duration": 5,
    "start_time": "2022-06-26T10:09:59.195Z"
   },
   {
    "duration": 10,
    "start_time": "2022-06-26T10:09:59.201Z"
   },
   {
    "duration": 6,
    "start_time": "2022-06-26T10:09:59.212Z"
   },
   {
    "duration": 6,
    "start_time": "2022-06-26T10:09:59.219Z"
   },
   {
    "duration": 27,
    "start_time": "2022-06-26T10:09:59.226Z"
   },
   {
    "duration": 186,
    "start_time": "2022-06-26T10:09:59.255Z"
   },
   {
    "duration": 6,
    "start_time": "2022-06-26T10:09:59.450Z"
   },
   {
    "duration": 18,
    "start_time": "2022-06-26T10:09:59.458Z"
   },
   {
    "duration": 3,
    "start_time": "2022-06-26T10:09:59.478Z"
   },
   {
    "duration": 15,
    "start_time": "2022-06-26T10:09:59.486Z"
   },
   {
    "duration": 20,
    "start_time": "2022-06-26T10:09:59.502Z"
   },
   {
    "duration": 5,
    "start_time": "2022-06-26T10:09:59.524Z"
   },
   {
    "duration": 23,
    "start_time": "2022-06-26T10:09:59.530Z"
   },
   {
    "duration": 14,
    "start_time": "2022-06-26T10:09:59.555Z"
   },
   {
    "duration": 8,
    "start_time": "2022-06-26T10:09:59.571Z"
   },
   {
    "duration": 8,
    "start_time": "2022-06-26T10:09:59.581Z"
   },
   {
    "duration": 178,
    "start_time": "2022-06-26T10:09:59.590Z"
   },
   {
    "duration": 10,
    "start_time": "2022-06-26T10:09:59.770Z"
   },
   {
    "duration": 8,
    "start_time": "2022-06-26T10:09:59.782Z"
   },
   {
    "duration": 3,
    "start_time": "2022-06-26T10:09:59.792Z"
   },
   {
    "duration": 16,
    "start_time": "2022-06-26T10:09:59.796Z"
   },
   {
    "duration": 8,
    "start_time": "2022-06-26T10:09:59.814Z"
   },
   {
    "duration": 9,
    "start_time": "2022-06-26T10:09:59.823Z"
   },
   {
    "duration": 200,
    "start_time": "2022-06-26T10:09:59.834Z"
   },
   {
    "duration": 198,
    "start_time": "2022-06-26T10:10:00.035Z"
   },
   {
    "duration": 23,
    "start_time": "2022-06-26T10:10:00.234Z"
   },
   {
    "duration": 18,
    "start_time": "2022-06-26T10:10:00.259Z"
   },
   {
    "duration": 19,
    "start_time": "2022-06-26T10:10:00.279Z"
   },
   {
    "duration": 44,
    "start_time": "2022-06-26T10:10:00.299Z"
   },
   {
    "duration": 1006,
    "start_time": "2022-06-26T10:10:00.345Z"
   },
   {
    "duration": 9,
    "start_time": "2022-06-26T10:10:01.353Z"
   },
   {
    "duration": 24,
    "start_time": "2022-06-26T10:10:01.364Z"
   },
   {
    "duration": 18,
    "start_time": "2022-06-26T10:10:01.389Z"
   },
   {
    "duration": 45,
    "start_time": "2022-06-26T10:10:01.409Z"
   },
   {
    "duration": 16,
    "start_time": "2022-06-26T10:10:01.456Z"
   },
   {
    "duration": 15,
    "start_time": "2022-06-26T10:10:01.474Z"
   },
   {
    "duration": 105,
    "start_time": "2022-06-26T10:10:01.490Z"
   },
   {
    "duration": 0,
    "start_time": "2022-06-26T10:10:01.596Z"
   },
   {
    "duration": 0,
    "start_time": "2022-06-26T10:10:01.597Z"
   },
   {
    "duration": 0,
    "start_time": "2022-06-26T10:10:01.598Z"
   },
   {
    "duration": 0,
    "start_time": "2022-06-26T10:10:01.599Z"
   },
   {
    "duration": 1,
    "start_time": "2022-06-26T10:10:01.600Z"
   },
   {
    "duration": 0,
    "start_time": "2022-06-26T10:10:01.601Z"
   },
   {
    "duration": 0,
    "start_time": "2022-06-26T10:10:01.603Z"
   },
   {
    "duration": 0,
    "start_time": "2022-06-26T10:10:01.603Z"
   },
   {
    "duration": 0,
    "start_time": "2022-06-26T10:10:01.605Z"
   },
   {
    "duration": 345,
    "start_time": "2022-06-26T10:12:42.797Z"
   },
   {
    "duration": 218,
    "start_time": "2022-06-26T10:12:43.145Z"
   },
   {
    "duration": 453,
    "start_time": "2022-06-26T10:12:43.365Z"
   },
   {
    "duration": 3,
    "start_time": "2022-06-26T10:12:43.819Z"
   },
   {
    "duration": 77,
    "start_time": "2022-06-26T10:12:43.823Z"
   },
   {
    "duration": 16,
    "start_time": "2022-06-26T10:12:43.902Z"
   },
   {
    "duration": 15,
    "start_time": "2022-06-26T10:12:43.919Z"
   },
   {
    "duration": 27,
    "start_time": "2022-06-26T10:12:43.936Z"
   },
   {
    "duration": 6,
    "start_time": "2022-06-26T10:12:43.964Z"
   },
   {
    "duration": 13,
    "start_time": "2022-06-26T10:12:43.974Z"
   },
   {
    "duration": 18,
    "start_time": "2022-06-26T10:12:43.989Z"
   },
   {
    "duration": 6,
    "start_time": "2022-06-26T10:12:44.008Z"
   },
   {
    "duration": 9,
    "start_time": "2022-06-26T10:12:44.016Z"
   },
   {
    "duration": 36,
    "start_time": "2022-06-26T10:12:44.027Z"
   },
   {
    "duration": 7,
    "start_time": "2022-06-26T10:12:44.064Z"
   },
   {
    "duration": 13,
    "start_time": "2022-06-26T10:12:44.072Z"
   },
   {
    "duration": 6,
    "start_time": "2022-06-26T10:12:44.087Z"
   },
   {
    "duration": 16,
    "start_time": "2022-06-26T10:12:44.094Z"
   },
   {
    "duration": 3,
    "start_time": "2022-06-26T10:12:44.112Z"
   },
   {
    "duration": 7,
    "start_time": "2022-06-26T10:12:44.118Z"
   },
   {
    "duration": 214,
    "start_time": "2022-06-26T10:12:44.127Z"
   },
   {
    "duration": 6,
    "start_time": "2022-06-26T10:12:44.342Z"
   },
   {
    "duration": 194,
    "start_time": "2022-06-26T10:12:44.349Z"
   },
   {
    "duration": 10,
    "start_time": "2022-06-26T10:12:44.557Z"
   },
   {
    "duration": 13,
    "start_time": "2022-06-26T10:12:44.574Z"
   },
   {
    "duration": 11,
    "start_time": "2022-06-26T10:12:44.588Z"
   },
   {
    "duration": 17,
    "start_time": "2022-06-26T10:12:44.600Z"
   },
   {
    "duration": 3,
    "start_time": "2022-06-26T10:12:44.621Z"
   },
   {
    "duration": 6,
    "start_time": "2022-06-26T10:12:44.625Z"
   },
   {
    "duration": 13,
    "start_time": "2022-06-26T10:12:44.632Z"
   },
   {
    "duration": 29,
    "start_time": "2022-06-26T10:12:44.656Z"
   },
   {
    "duration": 10,
    "start_time": "2022-06-26T10:12:44.687Z"
   },
   {
    "duration": 13,
    "start_time": "2022-06-26T10:12:44.698Z"
   },
   {
    "duration": 11,
    "start_time": "2022-06-26T10:12:44.712Z"
   },
   {
    "duration": 10,
    "start_time": "2022-06-26T10:12:44.724Z"
   },
   {
    "duration": 13,
    "start_time": "2022-06-26T10:12:44.736Z"
   },
   {
    "duration": 199,
    "start_time": "2022-06-26T10:12:44.750Z"
   },
   {
    "duration": 16,
    "start_time": "2022-06-26T10:12:44.950Z"
   },
   {
    "duration": 10,
    "start_time": "2022-06-26T10:12:44.968Z"
   },
   {
    "duration": 4,
    "start_time": "2022-06-26T10:12:44.979Z"
   },
   {
    "duration": 11,
    "start_time": "2022-06-26T10:12:44.984Z"
   },
   {
    "duration": 14,
    "start_time": "2022-06-26T10:12:44.996Z"
   },
   {
    "duration": 16,
    "start_time": "2022-06-26T10:12:45.012Z"
   },
   {
    "duration": 13,
    "start_time": "2022-06-26T10:12:45.029Z"
   },
   {
    "duration": 21,
    "start_time": "2022-06-26T10:12:45.044Z"
   },
   {
    "duration": 14,
    "start_time": "2022-06-26T10:12:45.066Z"
   },
   {
    "duration": 8,
    "start_time": "2022-06-26T10:12:45.081Z"
   },
   {
    "duration": 185,
    "start_time": "2022-06-26T10:12:45.091Z"
   },
   {
    "duration": 10,
    "start_time": "2022-06-26T10:12:45.277Z"
   },
   {
    "duration": 8,
    "start_time": "2022-06-26T10:12:45.289Z"
   },
   {
    "duration": 3,
    "start_time": "2022-06-26T10:12:45.298Z"
   },
   {
    "duration": 8,
    "start_time": "2022-06-26T10:12:45.302Z"
   },
   {
    "duration": 11,
    "start_time": "2022-06-26T10:12:45.311Z"
   },
   {
    "duration": 9,
    "start_time": "2022-06-26T10:12:45.323Z"
   },
   {
    "duration": 179,
    "start_time": "2022-06-26T10:12:45.334Z"
   },
   {
    "duration": 175,
    "start_time": "2022-06-26T10:12:45.514Z"
   },
   {
    "duration": 10,
    "start_time": "2022-06-26T10:12:45.691Z"
   },
   {
    "duration": 11,
    "start_time": "2022-06-26T10:12:45.702Z"
   },
   {
    "duration": 5,
    "start_time": "2022-06-26T10:12:45.714Z"
   },
   {
    "duration": 70,
    "start_time": "2022-06-26T10:12:45.720Z"
   },
   {
    "duration": 1114,
    "start_time": "2022-06-26T10:12:45.792Z"
   },
   {
    "duration": 10,
    "start_time": "2022-06-26T10:12:46.907Z"
   },
   {
    "duration": 18,
    "start_time": "2022-06-26T10:12:46.919Z"
   },
   {
    "duration": 39,
    "start_time": "2022-06-26T10:12:46.939Z"
   },
   {
    "duration": 30,
    "start_time": "2022-06-26T10:12:46.980Z"
   },
   {
    "duration": 16,
    "start_time": "2022-06-26T10:12:47.011Z"
   },
   {
    "duration": 20,
    "start_time": "2022-06-26T10:12:47.029Z"
   },
   {
    "duration": 198,
    "start_time": "2022-06-26T10:12:47.052Z"
   },
   {
    "duration": 10,
    "start_time": "2022-06-26T10:12:47.256Z"
   },
   {
    "duration": 18,
    "start_time": "2022-06-26T10:12:47.268Z"
   },
   {
    "duration": 28,
    "start_time": "2022-06-26T10:12:47.287Z"
   },
   {
    "duration": 58,
    "start_time": "2022-06-26T10:12:47.317Z"
   },
   {
    "duration": 15,
    "start_time": "2022-06-26T10:12:47.377Z"
   },
   {
    "duration": 21,
    "start_time": "2022-06-26T10:12:47.394Z"
   },
   {
    "duration": 30,
    "start_time": "2022-06-26T10:12:47.416Z"
   },
   {
    "duration": 29,
    "start_time": "2022-06-26T10:12:47.447Z"
   },
   {
    "duration": 22,
    "start_time": "2022-06-26T10:12:47.478Z"
   },
   {
    "duration": 25,
    "start_time": "2022-06-26T10:12:47.501Z"
   },
   {
    "duration": 10,
    "start_time": "2022-06-26T10:13:26.270Z"
   },
   {
    "duration": 11,
    "start_time": "2022-06-26T10:13:46.990Z"
   },
   {
    "duration": 5,
    "start_time": "2022-06-26T10:14:10.377Z"
   },
   {
    "duration": 365,
    "start_time": "2022-06-26T10:14:14.769Z"
   },
   {
    "duration": 287,
    "start_time": "2022-06-26T10:14:15.136Z"
   },
   {
    "duration": 485,
    "start_time": "2022-06-26T10:14:15.424Z"
   },
   {
    "duration": 2,
    "start_time": "2022-06-26T10:14:15.911Z"
   },
   {
    "duration": 85,
    "start_time": "2022-06-26T10:14:15.915Z"
   },
   {
    "duration": 12,
    "start_time": "2022-06-26T10:14:16.001Z"
   },
   {
    "duration": 15,
    "start_time": "2022-06-26T10:14:16.014Z"
   },
   {
    "duration": 20,
    "start_time": "2022-06-26T10:14:16.030Z"
   },
   {
    "duration": 14,
    "start_time": "2022-06-26T10:14:16.052Z"
   },
   {
    "duration": 12,
    "start_time": "2022-06-26T10:14:16.068Z"
   },
   {
    "duration": 20,
    "start_time": "2022-06-26T10:14:16.082Z"
   },
   {
    "duration": 7,
    "start_time": "2022-06-26T10:14:16.103Z"
   },
   {
    "duration": 8,
    "start_time": "2022-06-26T10:14:16.111Z"
   },
   {
    "duration": 10,
    "start_time": "2022-06-26T10:14:16.122Z"
   },
   {
    "duration": 30,
    "start_time": "2022-06-26T10:14:16.134Z"
   },
   {
    "duration": 13,
    "start_time": "2022-06-26T10:14:16.165Z"
   },
   {
    "duration": 5,
    "start_time": "2022-06-26T10:14:16.179Z"
   },
   {
    "duration": 12,
    "start_time": "2022-06-26T10:14:16.185Z"
   },
   {
    "duration": 3,
    "start_time": "2022-06-26T10:14:16.198Z"
   },
   {
    "duration": 8,
    "start_time": "2022-06-26T10:14:16.202Z"
   },
   {
    "duration": 200,
    "start_time": "2022-06-26T10:14:16.211Z"
   },
   {
    "duration": 5,
    "start_time": "2022-06-26T10:14:16.413Z"
   },
   {
    "duration": 159,
    "start_time": "2022-06-26T10:14:16.419Z"
   },
   {
    "duration": 9,
    "start_time": "2022-06-26T10:14:16.579Z"
   },
   {
    "duration": 3,
    "start_time": "2022-06-26T10:14:16.589Z"
   },
   {
    "duration": 9,
    "start_time": "2022-06-26T10:14:16.593Z"
   },
   {
    "duration": 11,
    "start_time": "2022-06-26T10:14:16.603Z"
   },
   {
    "duration": 3,
    "start_time": "2022-06-26T10:14:16.615Z"
   },
   {
    "duration": 5,
    "start_time": "2022-06-26T10:14:16.619Z"
   },
   {
    "duration": 26,
    "start_time": "2022-06-26T10:14:16.625Z"
   },
   {
    "duration": 7,
    "start_time": "2022-06-26T10:14:16.664Z"
   },
   {
    "duration": 3,
    "start_time": "2022-06-26T10:14:16.672Z"
   },
   {
    "duration": 8,
    "start_time": "2022-06-26T10:14:16.677Z"
   },
   {
    "duration": 19,
    "start_time": "2022-06-26T10:14:16.687Z"
   },
   {
    "duration": 18,
    "start_time": "2022-06-26T10:14:16.707Z"
   },
   {
    "duration": 10,
    "start_time": "2022-06-26T10:14:16.726Z"
   },
   {
    "duration": 202,
    "start_time": "2022-06-26T10:14:16.737Z"
   },
   {
    "duration": 12,
    "start_time": "2022-06-26T10:14:16.941Z"
   },
   {
    "duration": 24,
    "start_time": "2022-06-26T10:14:16.957Z"
   },
   {
    "duration": 4,
    "start_time": "2022-06-26T10:14:16.983Z"
   },
   {
    "duration": 11,
    "start_time": "2022-06-26T10:14:16.991Z"
   },
   {
    "duration": 17,
    "start_time": "2022-06-26T10:14:17.004Z"
   },
   {
    "duration": 4,
    "start_time": "2022-06-26T10:14:17.023Z"
   },
   {
    "duration": 35,
    "start_time": "2022-06-26T10:14:17.028Z"
   },
   {
    "duration": 12,
    "start_time": "2022-06-26T10:14:17.065Z"
   },
   {
    "duration": 11,
    "start_time": "2022-06-26T10:14:17.078Z"
   },
   {
    "duration": 9,
    "start_time": "2022-06-26T10:14:17.090Z"
   },
   {
    "duration": 168,
    "start_time": "2022-06-26T10:14:17.100Z"
   },
   {
    "duration": 10,
    "start_time": "2022-06-26T10:14:17.269Z"
   },
   {
    "duration": 8,
    "start_time": "2022-06-26T10:14:17.281Z"
   },
   {
    "duration": 4,
    "start_time": "2022-06-26T10:14:17.290Z"
   },
   {
    "duration": 8,
    "start_time": "2022-06-26T10:14:17.295Z"
   },
   {
    "duration": 8,
    "start_time": "2022-06-26T10:14:17.304Z"
   },
   {
    "duration": 7,
    "start_time": "2022-06-26T10:14:17.313Z"
   },
   {
    "duration": 188,
    "start_time": "2022-06-26T10:14:17.321Z"
   },
   {
    "duration": 170,
    "start_time": "2022-06-26T10:14:17.511Z"
   },
   {
    "duration": 10,
    "start_time": "2022-06-26T10:14:17.682Z"
   },
   {
    "duration": 11,
    "start_time": "2022-06-26T10:14:17.694Z"
   },
   {
    "duration": 4,
    "start_time": "2022-06-26T10:14:17.706Z"
   },
   {
    "duration": 60,
    "start_time": "2022-06-26T10:14:17.712Z"
   },
   {
    "duration": 823,
    "start_time": "2022-06-26T10:14:17.773Z"
   },
   {
    "duration": 9,
    "start_time": "2022-06-26T10:14:18.597Z"
   },
   {
    "duration": 5,
    "start_time": "2022-06-26T10:14:18.608Z"
   },
   {
    "duration": 12,
    "start_time": "2022-06-26T10:14:18.615Z"
   },
   {
    "duration": 16,
    "start_time": "2022-06-26T10:14:18.628Z"
   },
   {
    "duration": 18,
    "start_time": "2022-06-26T10:14:18.646Z"
   },
   {
    "duration": 11,
    "start_time": "2022-06-26T10:14:18.666Z"
   },
   {
    "duration": 201,
    "start_time": "2022-06-26T10:14:18.678Z"
   },
   {
    "duration": 3,
    "start_time": "2022-06-26T10:14:18.880Z"
   },
   {
    "duration": 10,
    "start_time": "2022-06-26T10:14:18.885Z"
   },
   {
    "duration": 62,
    "start_time": "2022-06-26T10:14:18.896Z"
   },
   {
    "duration": 293,
    "start_time": "2022-06-26T10:14:18.960Z"
   },
   {
    "duration": 0,
    "start_time": "2022-06-26T10:14:19.261Z"
   },
   {
    "duration": 0,
    "start_time": "2022-06-26T10:14:19.262Z"
   },
   {
    "duration": 0,
    "start_time": "2022-06-26T10:14:19.264Z"
   },
   {
    "duration": 0,
    "start_time": "2022-06-26T10:14:19.265Z"
   },
   {
    "duration": 0,
    "start_time": "2022-06-26T10:14:19.267Z"
   },
   {
    "duration": 0,
    "start_time": "2022-06-26T10:14:19.267Z"
   },
   {
    "duration": 0,
    "start_time": "2022-06-26T10:14:19.270Z"
   },
   {
    "duration": 4,
    "start_time": "2022-06-26T10:14:41.584Z"
   },
   {
    "duration": 353,
    "start_time": "2022-06-26T10:14:47.785Z"
   },
   {
    "duration": 206,
    "start_time": "2022-06-26T10:14:48.139Z"
   },
   {
    "duration": 464,
    "start_time": "2022-06-26T10:14:48.347Z"
   },
   {
    "duration": 3,
    "start_time": "2022-06-26T10:14:48.813Z"
   },
   {
    "duration": 70,
    "start_time": "2022-06-26T10:14:48.817Z"
   },
   {
    "duration": 12,
    "start_time": "2022-06-26T10:14:48.889Z"
   },
   {
    "duration": 21,
    "start_time": "2022-06-26T10:14:48.902Z"
   },
   {
    "duration": 33,
    "start_time": "2022-06-26T10:14:48.924Z"
   },
   {
    "duration": 18,
    "start_time": "2022-06-26T10:14:48.958Z"
   },
   {
    "duration": 26,
    "start_time": "2022-06-26T10:14:48.978Z"
   },
   {
    "duration": 25,
    "start_time": "2022-06-26T10:14:49.005Z"
   },
   {
    "duration": 14,
    "start_time": "2022-06-26T10:14:49.032Z"
   },
   {
    "duration": 26,
    "start_time": "2022-06-26T10:14:49.047Z"
   },
   {
    "duration": 21,
    "start_time": "2022-06-26T10:14:49.075Z"
   },
   {
    "duration": 47,
    "start_time": "2022-06-26T10:14:49.098Z"
   },
   {
    "duration": 38,
    "start_time": "2022-06-26T10:14:49.147Z"
   },
   {
    "duration": 26,
    "start_time": "2022-06-26T10:14:49.187Z"
   },
   {
    "duration": 24,
    "start_time": "2022-06-26T10:14:49.214Z"
   },
   {
    "duration": 6,
    "start_time": "2022-06-26T10:14:49.240Z"
   },
   {
    "duration": 24,
    "start_time": "2022-06-26T10:14:49.248Z"
   },
   {
    "duration": 201,
    "start_time": "2022-06-26T10:14:49.273Z"
   },
   {
    "duration": 6,
    "start_time": "2022-06-26T10:14:49.476Z"
   },
   {
    "duration": 157,
    "start_time": "2022-06-26T10:14:49.483Z"
   },
   {
    "duration": 12,
    "start_time": "2022-06-26T10:14:49.641Z"
   },
   {
    "duration": 3,
    "start_time": "2022-06-26T10:14:49.654Z"
   },
   {
    "duration": 7,
    "start_time": "2022-06-26T10:14:49.659Z"
   },
   {
    "duration": 10,
    "start_time": "2022-06-26T10:14:49.668Z"
   },
   {
    "duration": 3,
    "start_time": "2022-06-26T10:14:49.682Z"
   },
   {
    "duration": 7,
    "start_time": "2022-06-26T10:14:49.686Z"
   },
   {
    "duration": 8,
    "start_time": "2022-06-26T10:14:49.694Z"
   },
   {
    "duration": 13,
    "start_time": "2022-06-26T10:14:49.704Z"
   },
   {
    "duration": 6,
    "start_time": "2022-06-26T10:14:49.718Z"
   },
   {
    "duration": 26,
    "start_time": "2022-06-26T10:14:49.725Z"
   },
   {
    "duration": 4,
    "start_time": "2022-06-26T10:14:49.753Z"
   },
   {
    "duration": 5,
    "start_time": "2022-06-26T10:14:49.758Z"
   },
   {
    "duration": 10,
    "start_time": "2022-06-26T10:14:49.764Z"
   },
   {
    "duration": 204,
    "start_time": "2022-06-26T10:14:49.775Z"
   },
   {
    "duration": 6,
    "start_time": "2022-06-26T10:14:49.981Z"
   },
   {
    "duration": 9,
    "start_time": "2022-06-26T10:14:49.989Z"
   },
   {
    "duration": 3,
    "start_time": "2022-06-26T10:14:50.000Z"
   },
   {
    "duration": 10,
    "start_time": "2022-06-26T10:14:50.005Z"
   },
   {
    "duration": 35,
    "start_time": "2022-06-26T10:14:50.017Z"
   },
   {
    "duration": 4,
    "start_time": "2022-06-26T10:14:50.054Z"
   },
   {
    "duration": 13,
    "start_time": "2022-06-26T10:14:50.059Z"
   },
   {
    "duration": 11,
    "start_time": "2022-06-26T10:14:50.074Z"
   },
   {
    "duration": 8,
    "start_time": "2022-06-26T10:14:50.087Z"
   },
   {
    "duration": 10,
    "start_time": "2022-06-26T10:14:50.096Z"
   },
   {
    "duration": 184,
    "start_time": "2022-06-26T10:14:50.108Z"
   },
   {
    "duration": 10,
    "start_time": "2022-06-26T10:14:50.294Z"
   },
   {
    "duration": 9,
    "start_time": "2022-06-26T10:14:50.306Z"
   },
   {
    "duration": 3,
    "start_time": "2022-06-26T10:14:50.317Z"
   },
   {
    "duration": 5,
    "start_time": "2022-06-26T10:14:50.322Z"
   },
   {
    "duration": 29,
    "start_time": "2022-06-26T10:14:50.328Z"
   },
   {
    "duration": 11,
    "start_time": "2022-06-26T10:14:50.358Z"
   },
   {
    "duration": 183,
    "start_time": "2022-06-26T10:14:50.370Z"
   },
   {
    "duration": 161,
    "start_time": "2022-06-26T10:14:50.554Z"
   },
   {
    "duration": 12,
    "start_time": "2022-06-26T10:14:50.717Z"
   },
   {
    "duration": 24,
    "start_time": "2022-06-26T10:14:50.730Z"
   },
   {
    "duration": 4,
    "start_time": "2022-06-26T10:14:50.756Z"
   },
   {
    "duration": 51,
    "start_time": "2022-06-26T10:14:50.762Z"
   },
   {
    "duration": 1024,
    "start_time": "2022-06-26T10:14:50.814Z"
   },
   {
    "duration": 9,
    "start_time": "2022-06-26T10:14:51.840Z"
   },
   {
    "duration": 5,
    "start_time": "2022-06-26T10:14:51.850Z"
   },
   {
    "duration": 16,
    "start_time": "2022-06-26T10:14:51.856Z"
   },
   {
    "duration": 14,
    "start_time": "2022-06-26T10:14:51.873Z"
   },
   {
    "duration": 10,
    "start_time": "2022-06-26T10:14:51.889Z"
   },
   {
    "duration": 5,
    "start_time": "2022-06-26T10:14:51.901Z"
   },
   {
    "duration": 201,
    "start_time": "2022-06-26T10:14:51.908Z"
   },
   {
    "duration": 3,
    "start_time": "2022-06-26T10:14:52.111Z"
   },
   {
    "duration": 10,
    "start_time": "2022-06-26T10:14:52.116Z"
   },
   {
    "duration": 23,
    "start_time": "2022-06-26T10:14:52.128Z"
   },
   {
    "duration": 5,
    "start_time": "2022-06-26T10:14:52.152Z"
   },
   {
    "duration": 14,
    "start_time": "2022-06-26T10:14:52.158Z"
   },
   {
    "duration": 3,
    "start_time": "2022-06-26T10:14:52.174Z"
   },
   {
    "duration": 7,
    "start_time": "2022-06-26T10:14:52.179Z"
   },
   {
    "duration": 10,
    "start_time": "2022-06-26T10:14:52.188Z"
   },
   {
    "duration": 7,
    "start_time": "2022-06-26T10:14:52.199Z"
   },
   {
    "duration": 17,
    "start_time": "2022-06-26T10:14:52.208Z"
   },
   {
    "duration": 24,
    "start_time": "2022-06-26T10:14:52.227Z"
   },
   {
    "duration": 446,
    "start_time": "2022-06-27T05:45:00.722Z"
   },
   {
    "duration": 383,
    "start_time": "2022-06-27T05:45:01.170Z"
   },
   {
    "duration": 478,
    "start_time": "2022-06-27T05:45:01.555Z"
   },
   {
    "duration": 3,
    "start_time": "2022-06-27T05:45:02.035Z"
   },
   {
    "duration": 99,
    "start_time": "2022-06-27T05:45:02.040Z"
   },
   {
    "duration": 14,
    "start_time": "2022-06-27T05:45:02.141Z"
   },
   {
    "duration": 16,
    "start_time": "2022-06-27T05:45:02.157Z"
   },
   {
    "duration": 18,
    "start_time": "2022-06-27T05:45:02.174Z"
   },
   {
    "duration": 6,
    "start_time": "2022-06-27T05:45:02.194Z"
   },
   {
    "duration": 32,
    "start_time": "2022-06-27T05:45:02.203Z"
   },
   {
    "duration": 19,
    "start_time": "2022-06-27T05:45:02.237Z"
   },
   {
    "duration": 6,
    "start_time": "2022-06-27T05:45:02.257Z"
   },
   {
    "duration": 10,
    "start_time": "2022-06-27T05:45:02.264Z"
   },
   {
    "duration": 17,
    "start_time": "2022-06-27T05:45:02.276Z"
   },
   {
    "duration": 9,
    "start_time": "2022-06-27T05:45:02.295Z"
   },
   {
    "duration": 36,
    "start_time": "2022-06-27T05:45:02.305Z"
   },
   {
    "duration": 6,
    "start_time": "2022-06-27T05:45:02.342Z"
   },
   {
    "duration": 17,
    "start_time": "2022-06-27T05:45:02.350Z"
   },
   {
    "duration": 4,
    "start_time": "2022-06-27T05:45:02.369Z"
   },
   {
    "duration": 11,
    "start_time": "2022-06-27T05:45:02.374Z"
   },
   {
    "duration": 215,
    "start_time": "2022-06-27T05:45:02.387Z"
   },
   {
    "duration": 6,
    "start_time": "2022-06-27T05:45:02.603Z"
   },
   {
    "duration": 167,
    "start_time": "2022-06-27T05:45:02.611Z"
   },
   {
    "duration": 10,
    "start_time": "2022-06-27T05:45:02.779Z"
   },
   {
    "duration": 3,
    "start_time": "2022-06-27T05:45:02.791Z"
   },
   {
    "duration": 11,
    "start_time": "2022-06-27T05:45:02.796Z"
   },
   {
    "duration": 28,
    "start_time": "2022-06-27T05:45:02.808Z"
   },
   {
    "duration": 4,
    "start_time": "2022-06-27T05:45:02.840Z"
   },
   {
    "duration": 10,
    "start_time": "2022-06-27T05:45:02.845Z"
   },
   {
    "duration": 8,
    "start_time": "2022-06-27T05:45:02.857Z"
   },
   {
    "duration": 8,
    "start_time": "2022-06-27T05:45:02.867Z"
   },
   {
    "duration": 5,
    "start_time": "2022-06-27T05:45:02.876Z"
   },
   {
    "duration": 19,
    "start_time": "2022-06-27T05:45:02.883Z"
   },
   {
    "duration": 7,
    "start_time": "2022-06-27T05:45:02.904Z"
   },
   {
    "duration": 15,
    "start_time": "2022-06-27T05:45:02.912Z"
   },
   {
    "duration": 15,
    "start_time": "2022-06-27T05:45:02.928Z"
   },
   {
    "duration": 212,
    "start_time": "2022-06-27T05:45:02.944Z"
   },
   {
    "duration": 5,
    "start_time": "2022-06-27T05:45:03.158Z"
   },
   {
    "duration": 12,
    "start_time": "2022-06-27T05:45:03.165Z"
   },
   {
    "duration": 3,
    "start_time": "2022-06-27T05:45:03.178Z"
   },
   {
    "duration": 12,
    "start_time": "2022-06-27T05:45:03.183Z"
   },
   {
    "duration": 33,
    "start_time": "2022-06-27T05:45:03.196Z"
   },
   {
    "duration": 3,
    "start_time": "2022-06-27T05:45:03.231Z"
   },
   {
    "duration": 16,
    "start_time": "2022-06-27T05:45:03.236Z"
   },
   {
    "duration": 16,
    "start_time": "2022-06-27T05:45:03.254Z"
   },
   {
    "duration": 12,
    "start_time": "2022-06-27T05:45:03.271Z"
   },
   {
    "duration": 13,
    "start_time": "2022-06-27T05:45:03.285Z"
   },
   {
    "duration": 192,
    "start_time": "2022-06-27T05:45:03.299Z"
   },
   {
    "duration": 10,
    "start_time": "2022-06-27T05:45:03.493Z"
   },
   {
    "duration": 22,
    "start_time": "2022-06-27T05:45:03.505Z"
   },
   {
    "duration": 4,
    "start_time": "2022-06-27T05:45:03.528Z"
   },
   {
    "duration": 6,
    "start_time": "2022-06-27T05:45:03.533Z"
   },
   {
    "duration": 23,
    "start_time": "2022-06-27T05:45:03.540Z"
   },
   {
    "duration": 12,
    "start_time": "2022-06-27T05:45:03.564Z"
   },
   {
    "duration": 183,
    "start_time": "2022-06-27T05:45:03.577Z"
   },
   {
    "duration": 196,
    "start_time": "2022-06-27T05:45:03.761Z"
   },
   {
    "duration": 12,
    "start_time": "2022-06-27T05:45:03.959Z"
   },
   {
    "duration": 13,
    "start_time": "2022-06-27T05:45:03.972Z"
   },
   {
    "duration": 4,
    "start_time": "2022-06-27T05:45:03.987Z"
   },
   {
    "duration": 64,
    "start_time": "2022-06-27T05:45:03.993Z"
   },
   {
    "duration": 1108,
    "start_time": "2022-06-27T05:45:04.059Z"
   },
   {
    "duration": 11,
    "start_time": "2022-06-27T05:45:05.169Z"
   },
   {
    "duration": 5,
    "start_time": "2022-06-27T05:45:05.182Z"
   },
   {
    "duration": 22,
    "start_time": "2022-06-27T05:45:05.189Z"
   },
   {
    "duration": 21,
    "start_time": "2022-06-27T05:45:05.213Z"
   },
   {
    "duration": 15,
    "start_time": "2022-06-27T05:45:05.236Z"
   },
   {
    "duration": 6,
    "start_time": "2022-06-27T05:45:05.253Z"
   },
   {
    "duration": 225,
    "start_time": "2022-06-27T05:45:05.261Z"
   },
   {
    "duration": 4,
    "start_time": "2022-06-27T05:45:05.488Z"
   },
   {
    "duration": 12,
    "start_time": "2022-06-27T05:45:05.494Z"
   },
   {
    "duration": 25,
    "start_time": "2022-06-27T05:45:05.508Z"
   },
   {
    "duration": 16,
    "start_time": "2022-06-27T05:45:05.535Z"
   },
   {
    "duration": 14,
    "start_time": "2022-06-27T05:45:05.553Z"
   },
   {
    "duration": 4,
    "start_time": "2022-06-27T05:45:05.568Z"
   },
   {
    "duration": 6,
    "start_time": "2022-06-27T05:45:05.573Z"
   },
   {
    "duration": 10,
    "start_time": "2022-06-27T05:45:05.581Z"
   },
   {
    "duration": 8,
    "start_time": "2022-06-27T05:45:05.592Z"
   },
   {
    "duration": 26,
    "start_time": "2022-06-27T05:45:05.601Z"
   },
   {
    "duration": 6,
    "start_time": "2022-06-27T05:45:05.629Z"
   },
   {
    "duration": 112,
    "start_time": "2022-06-27T05:49:03.858Z"
   }
  ],
  "kernelspec": {
   "display_name": "Python 3 (ipykernel)",
   "language": "python",
   "name": "python3"
  },
  "language_info": {
   "codemirror_mode": {
    "name": "ipython",
    "version": 3
   },
   "file_extension": ".py",
   "mimetype": "text/x-python",
   "name": "python",
   "nbconvert_exporter": "python",
   "pygments_lexer": "ipython3",
   "version": "3.9.5"
  },
  "toc": {
   "base_numbering": 1,
   "nav_menu": {},
   "number_sections": true,
   "sideBar": true,
   "skip_h1_title": true,
   "title_cell": "Table of Contents",
   "title_sidebar": "Contents",
   "toc_cell": false,
   "toc_position": {
    "height": "calc(100% - 180px)",
    "left": "10px",
    "top": "150px",
    "width": "281.6px"
   },
   "toc_section_display": true,
   "toc_window_display": true
  }
 },
 "nbformat": 4,
 "nbformat_minor": 2
}
