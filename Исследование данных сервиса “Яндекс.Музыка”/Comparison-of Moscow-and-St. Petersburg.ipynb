{
 "cells": [
  {
   "cell_type": "markdown",
   "metadata": {
    "id": "E0vqbgi9ay0H"
   },
   "source": [
    "# Яндекс.Музыка"
   ]
  },
  {
   "cell_type": "markdown",
   "metadata": {
    "id": "VUC88oWjTJw2"
   },
   "source": [
    "Сравнение Москвы и Петербурга окружено мифами. Например:\n",
    " * Москва — мегаполис, подчинённый жёсткому ритму рабочей недели;\n",
    " * Петербург — культурная столица, со своими вкусами.\n",
    "\n",
    "На данных Яндекс.Музыки вы сравните поведение пользователей двух столиц.\n",
    "\n",
    "**Цель исследования** — проверьте три гипотезы:\n",
    "1. Активность пользователей зависит от дня недели. Причём в Москве и Петербурге это проявляется по-разному.\n",
    "2. В понедельник утром в Москве преобладают одни жанры, а в Петербурге — другие. Так же и вечером пятницы преобладают разные жанры — в зависимости от города. \n",
    "3. Москва и Петербург предпочитают разные жанры музыки. В Москве чаще слушают поп-музыку, в Петербурге — русский рэп.\n",
    "\n",
    "**Ход исследования**\n",
    "\n",
    "Данные о поведении пользователей вы получите из файла `yandex_music_project.csv`. О качестве данных ничего не известно. Поэтому перед проверкой гипотез понадобится обзор данных. \n",
    "\n",
    "Вы проверите данные на ошибки и оцените их влияние на исследование. Затем, на этапе предобработки вы поищете возможность исправить самые критичные ошибки данных.\n",
    " \n",
    "Таким образом, исследование пройдёт в три этапа:\n",
    " 1. Обзор данных.\n",
    " 2. Предобработка данных.\n",
    " 3. Проверка гипотез.\n",
    "\n"
   ]
  },
  {
   "cell_type": "markdown",
   "metadata": {
    "id": "Ml1hmfXC_Zcs"
   },
   "source": [
    "## Обзор данных\n",
    "\n",
    "Составление первого представления о данных Яндекс.Музыки.\n",
    "\n",
    "\n"
   ]
  },
  {
   "cell_type": "code",
   "execution_count": 1,
   "metadata": {
    "id": "AXN7PHPN_Zcs"
   },
   "outputs": [],
   "source": [
    "import pandas as pd # импорт библиотеки pandas"
   ]
  },
  {
   "cell_type": "code",
   "execution_count": 3,
   "metadata": {
    "id": "oWTVX3gW_Zct",
    "scrolled": true
   },
   "outputs": [
    {
     "data": {
      "text/html": [
       "<div>\n",
       "<style scoped>\n",
       "    .dataframe tbody tr th:only-of-type {\n",
       "        vertical-align: middle;\n",
       "    }\n",
       "\n",
       "    .dataframe tbody tr th {\n",
       "        vertical-align: top;\n",
       "    }\n",
       "\n",
       "    .dataframe thead th {\n",
       "        text-align: right;\n",
       "    }\n",
       "</style>\n",
       "<table border=\"1\" class=\"dataframe\">\n",
       "  <thead>\n",
       "    <tr style=\"text-align: right;\">\n",
       "      <th></th>\n",
       "      <th>userID</th>\n",
       "      <th>Track</th>\n",
       "      <th>artist</th>\n",
       "      <th>genre</th>\n",
       "      <th>City</th>\n",
       "      <th>time</th>\n",
       "      <th>Day</th>\n",
       "    </tr>\n",
       "  </thead>\n",
       "  <tbody>\n",
       "    <tr>\n",
       "      <th>0</th>\n",
       "      <td>FFB692EC</td>\n",
       "      <td>Kamigata To Boots</td>\n",
       "      <td>The Mass Missile</td>\n",
       "      <td>rock</td>\n",
       "      <td>Saint-Petersburg</td>\n",
       "      <td>20:28:33</td>\n",
       "      <td>Wednesday</td>\n",
       "    </tr>\n",
       "    <tr>\n",
       "      <th>1</th>\n",
       "      <td>55204538</td>\n",
       "      <td>Delayed Because of Accident</td>\n",
       "      <td>Andreas Rönnberg</td>\n",
       "      <td>rock</td>\n",
       "      <td>Moscow</td>\n",
       "      <td>14:07:09</td>\n",
       "      <td>Friday</td>\n",
       "    </tr>\n",
       "    <tr>\n",
       "      <th>2</th>\n",
       "      <td>20EC38</td>\n",
       "      <td>Funiculì funiculà</td>\n",
       "      <td>Mario Lanza</td>\n",
       "      <td>pop</td>\n",
       "      <td>Saint-Petersburg</td>\n",
       "      <td>20:58:07</td>\n",
       "      <td>Wednesday</td>\n",
       "    </tr>\n",
       "    <tr>\n",
       "      <th>3</th>\n",
       "      <td>A3DD03C9</td>\n",
       "      <td>Dragons in the Sunset</td>\n",
       "      <td>Fire + Ice</td>\n",
       "      <td>folk</td>\n",
       "      <td>Saint-Petersburg</td>\n",
       "      <td>08:37:09</td>\n",
       "      <td>Monday</td>\n",
       "    </tr>\n",
       "    <tr>\n",
       "      <th>4</th>\n",
       "      <td>E2DC1FAE</td>\n",
       "      <td>Soul People</td>\n",
       "      <td>Space Echo</td>\n",
       "      <td>dance</td>\n",
       "      <td>Moscow</td>\n",
       "      <td>08:34:34</td>\n",
       "      <td>Monday</td>\n",
       "    </tr>\n",
       "    <tr>\n",
       "      <th>5</th>\n",
       "      <td>842029A1</td>\n",
       "      <td>Преданная</td>\n",
       "      <td>IMPERVTOR</td>\n",
       "      <td>rusrap</td>\n",
       "      <td>Saint-Petersburg</td>\n",
       "      <td>13:09:41</td>\n",
       "      <td>Friday</td>\n",
       "    </tr>\n",
       "    <tr>\n",
       "      <th>6</th>\n",
       "      <td>4CB90AA5</td>\n",
       "      <td>True</td>\n",
       "      <td>Roman Messer</td>\n",
       "      <td>dance</td>\n",
       "      <td>Moscow</td>\n",
       "      <td>13:00:07</td>\n",
       "      <td>Wednesday</td>\n",
       "    </tr>\n",
       "    <tr>\n",
       "      <th>7</th>\n",
       "      <td>F03E1C1F</td>\n",
       "      <td>Feeling This Way</td>\n",
       "      <td>Polina Griffith</td>\n",
       "      <td>dance</td>\n",
       "      <td>Moscow</td>\n",
       "      <td>20:47:49</td>\n",
       "      <td>Wednesday</td>\n",
       "    </tr>\n",
       "    <tr>\n",
       "      <th>8</th>\n",
       "      <td>8FA1D3BE</td>\n",
       "      <td>И вновь продолжается бой</td>\n",
       "      <td>NaN</td>\n",
       "      <td>ruspop</td>\n",
       "      <td>Moscow</td>\n",
       "      <td>09:17:40</td>\n",
       "      <td>Friday</td>\n",
       "    </tr>\n",
       "    <tr>\n",
       "      <th>9</th>\n",
       "      <td>E772D5C0</td>\n",
       "      <td>Pessimist</td>\n",
       "      <td>NaN</td>\n",
       "      <td>dance</td>\n",
       "      <td>Saint-Petersburg</td>\n",
       "      <td>21:20:49</td>\n",
       "      <td>Wednesday</td>\n",
       "    </tr>\n",
       "  </tbody>\n",
       "</table>\n",
       "</div>"
      ],
      "text/plain": [
       "     userID                        Track            artist   genre  \\\n",
       "0  FFB692EC            Kamigata To Boots  The Mass Missile    rock   \n",
       "1  55204538  Delayed Because of Accident  Andreas Rönnberg    rock   \n",
       "2    20EC38            Funiculì funiculà       Mario Lanza     pop   \n",
       "3  A3DD03C9        Dragons in the Sunset        Fire + Ice    folk   \n",
       "4  E2DC1FAE                  Soul People        Space Echo   dance   \n",
       "5  842029A1                    Преданная         IMPERVTOR  rusrap   \n",
       "6  4CB90AA5                         True      Roman Messer   dance   \n",
       "7  F03E1C1F             Feeling This Way   Polina Griffith   dance   \n",
       "8  8FA1D3BE     И вновь продолжается бой               NaN  ruspop   \n",
       "9  E772D5C0                    Pessimist               NaN   dance   \n",
       "\n",
       "             City        time        Day  \n",
       "0  Saint-Petersburg  20:28:33  Wednesday  \n",
       "1            Moscow  14:07:09     Friday  \n",
       "2  Saint-Petersburg  20:58:07  Wednesday  \n",
       "3  Saint-Petersburg  08:37:09     Monday  \n",
       "4            Moscow  08:34:34     Monday  \n",
       "5  Saint-Petersburg  13:09:41     Friday  \n",
       "6            Moscow  13:00:07  Wednesday  \n",
       "7            Moscow  20:47:49  Wednesday  \n",
       "8            Moscow  09:17:40     Friday  \n",
       "9  Saint-Petersburg  21:20:49  Wednesday  "
      ]
     },
     "execution_count": 3,
     "metadata": {},
     "output_type": "execute_result"
    }
   ],
   "source": [
    "df.head(10) # получение первых 10 строк таблицы df"
   ]
  },
  {
   "cell_type": "code",
   "execution_count": 4,
   "metadata": {
    "id": "DSf2kIb-_Zct",
    "scrolled": true
   },
   "outputs": [
    {
     "name": "stdout",
     "output_type": "stream",
     "text": [
      "<class 'pandas.core.frame.DataFrame'>\n",
      "RangeIndex: 65079 entries, 0 to 65078\n",
      "Data columns (total 7 columns):\n",
      " #   Column    Non-Null Count  Dtype \n",
      "---  ------    --------------  ----- \n",
      " 0     userID  65079 non-null  object\n",
      " 1   Track     63848 non-null  object\n",
      " 2   artist    57876 non-null  object\n",
      " 3   genre     63881 non-null  object\n",
      " 4     City    65079 non-null  object\n",
      " 5   time      65079 non-null  object\n",
      " 6   Day       65079 non-null  object\n",
      "dtypes: object(7)\n",
      "memory usage: 3.5+ MB\n"
     ]
    }
   ],
   "source": [
    "df.info()# получение общей информации о данных в таблице df"
   ]
  },
  {
   "cell_type": "markdown",
   "metadata": {
    "id": "TaQ2Iwbr_Zct"
   },
   "source": [
    "Итак, в таблице семь столбцов. Тип данных во всех столбцах — `object`.\n",
    "\n",
    "Согласно документации к данным:\n",
    "* `userID` — идентификатор пользователя;\n",
    "* `Track` — название трека;  \n",
    "* `artist` — имя исполнителя;\n",
    "* `genre` — название жанра;\n",
    "* `City` — город пользователя;\n",
    "* `time` — время начала прослушивания;\n",
    "* `Day` — день недели.\n",
    "\n",
    "В названиях колонок видны три нарушения стиля:\n",
    "1. Строчные буквы сочетаются с прописными.\n",
    "2. Встречаются пробелы.\n",
    "3. Не используется \"змеиный_регистр\", для облегчения восприятия информации.\n",
    "\n",
    "\n",
    "\n",
    "Количество значений в столбцах различается. Значит, в данных есть пропущенные значения.\n"
   ]
  },
  {
   "cell_type": "markdown",
   "metadata": {
    "id": "MCB6-dXG_Zct"
   },
   "source": [
    "**Выводы**\n",
    "\n",
    "В каждой строке таблицы — данные о прослушанном треке. Часть колонок описывает саму композицию: название, исполнителя и жанр. Остальные данные рассказывают о пользователе: из какого он города, когда он слушал музыку. \n",
    "\n",
    "Предварительно можно утверждать, что, данных достаточно для проверки гипотез. Но встречаются пропуски в данных, а в названиях колонок — расхождения с хорошим стилем.\n",
    "\n",
    "Чтобы двигаться дальше, нужно устранить проблемы в данных."
   ]
  },
  {
   "cell_type": "markdown",
   "metadata": {
    "id": "SjYF6Ub9_Zct"
   },
   "source": [
    "## Предобработка данных\n",
    "Исправление стиля в заголовках столбцов, исключение пропусков. Затем проверка данных на дубликаты."
   ]
  },
  {
   "cell_type": "markdown",
   "metadata": {
    "id": "dIaKXr29_Zct"
   },
   "source": [
    "### Стиль заголовков"
   ]
  },
  {
   "cell_type": "code",
   "execution_count": 5,
   "metadata": {
    "id": "oKOTdF_Q_Zct"
   },
   "outputs": [
    {
     "data": {
      "text/plain": [
       "Index(['  userID', 'Track', 'artist', 'genre', '  City  ', 'time', 'Day'], dtype='object')"
      ]
     },
     "execution_count": 5,
     "metadata": {},
     "output_type": "execute_result"
    }
   ],
   "source": [
    "df.columns # перечень названий столбцов таблицы df"
   ]
  },
  {
   "cell_type": "code",
   "execution_count": 6,
   "metadata": {
    "id": "ISlFqs5y_Zct",
    "scrolled": true
   },
   "outputs": [],
   "source": [
    "df = df.rename(columns = {'  userID':'user_id', 'Track':'track', '  City  ':'city', 'Day':'day'}) \n",
    "# переименование столбцов"
   ]
  },
  {
   "cell_type": "code",
   "execution_count": 7,
   "metadata": {
    "id": "d4NOAmTW_Zct"
   },
   "outputs": [
    {
     "data": {
      "text/plain": [
       "Index(['user_id', 'track', 'artist', 'genre', 'city', 'time', 'day'], dtype='object')"
      ]
     },
     "execution_count": 7,
     "metadata": {},
     "output_type": "execute_result"
    }
   ],
   "source": [
    "df.columns # проверка результатов - перечень названий столбцов"
   ]
  },
  {
   "cell_type": "markdown",
   "metadata": {
    "id": "5ISfbcfY_Zct"
   },
   "source": [
    "### Пропуски значений"
   ]
  },
  {
   "cell_type": "code",
   "execution_count": 8,
   "metadata": {
    "id": "RskX29qr_Zct"
   },
   "outputs": [
    {
     "data": {
      "text/plain": [
       "user_id       0\n",
       "track      1231\n",
       "artist     7203\n",
       "genre      1198\n",
       "city          0\n",
       "time          0\n",
       "day           0\n",
       "dtype: int64"
      ]
     },
     "execution_count": 8,
     "metadata": {},
     "output_type": "execute_result"
    }
   ],
   "source": [
    "df.isna().sum()# подсчёт пропусков"
   ]
  },
  {
   "cell_type": "markdown",
   "metadata": {
    "id": "qubhgnlO_Zct"
   },
   "source": [
    "Не все пропущенные значения влияют на исследование. Так в `track` и `artist` пропуски не важны для вашей работы. Достаточно заменить их явными обозначениями.\n",
    "\n",
    "Но пропуски в `genre` могут помешать сравнению музыкальных вкусов в Москве и Санкт-Петербурге. На практике было бы правильно установить причину пропусков и восстановить данные. Такой возможности нет в учебном проекте. Придётся:\n",
    "* заполнить и эти пропуски явными обозначениями,\n",
    "* оценить, насколько они повредят расчётам. "
   ]
  },
  {
   "cell_type": "code",
   "execution_count": 10,
   "metadata": {
    "id": "Tq4nYRX4_Zct",
    "scrolled": true
   },
   "outputs": [
    {
     "data": {
      "text/plain": [
       "user_id    0\n",
       "track      0\n",
       "artist     0\n",
       "genre      0\n",
       "city       0\n",
       "time       0\n",
       "day        0\n",
       "dtype: int64"
      ]
     },
     "execution_count": 10,
     "metadata": {},
     "output_type": "execute_result"
    }
   ],
   "source": [
    "df.isna().sum() # подсчёт пропусков"
   ]
  },
  {
   "cell_type": "markdown",
   "metadata": {
    "id": "BWKRtBJ3_Zct"
   },
   "source": [
    "### Дубликаты"
   ]
  },
  {
   "cell_type": "code",
   "execution_count": 11,
   "metadata": {
    "id": "36eES_S0_Zct"
   },
   "outputs": [
    {
     "data": {
      "text/plain": [
       "3826"
      ]
     },
     "execution_count": 11,
     "metadata": {},
     "output_type": "execute_result"
    }
   ],
   "source": [
    " df.duplicated().sum() # подсчёт явных дубликатов"
   ]
  },
  {
   "cell_type": "code",
   "execution_count": 12,
   "metadata": {
    "id": "exFHq6tt_Zct"
   },
   "outputs": [],
   "source": [
    "df = df.drop_duplicates().reset_index(drop=True)\n",
    " # удаление явных дубликатов (с удалением старых индексов и формированием новых)"
   ]
  },
  {
   "cell_type": "code",
   "execution_count": 13,
   "metadata": {
    "id": "-8PuNWQ0_Zct",
    "scrolled": true
   },
   "outputs": [
    {
     "data": {
      "text/plain": [
       "0"
      ]
     },
     "execution_count": 13,
     "metadata": {},
     "output_type": "execute_result"
    }
   ],
   "source": [
    " df.duplicated().sum() # проверка на отсутствие дубликатов"
   ]
  },
  {
   "cell_type": "code",
   "execution_count": 39,
   "metadata": {
    "id": "JIUcqzZN_Zct",
    "scrolled": false
   },
   "outputs": [
    {
     "data": {
      "text/plain": [
       "array(['acid', 'acoustic', 'action', 'adult', 'africa', 'afrikaans',\n",
       "       'alternative', 'alternativepunk', 'ambient', 'americana',\n",
       "       'animated', 'anime', 'arabesk', 'arabic', 'arena',\n",
       "       'argentinetango', 'art', 'audiobook', 'author', 'avantgarde',\n",
       "       'axé', 'baile', 'balkan', 'beats', 'bigroom', 'black', 'bluegrass',\n",
       "       'blues', 'bollywood', 'bossa', 'brazilian', 'breakbeat', 'breaks',\n",
       "       'broadway', 'cantautori', 'cantopop', 'canzone', 'caribbean',\n",
       "       'caucasian', 'celtic', 'chamber', 'chanson', 'children', 'chill',\n",
       "       'chinese', 'choral', 'christian', 'christmas', 'classical',\n",
       "       'classicmetal', 'club', 'colombian', 'comedy', 'conjazz',\n",
       "       'contemporary', 'country', 'cuban', 'dance', 'dancehall',\n",
       "       'dancepop', 'dark', 'death', 'deep', 'deutschrock', 'deutschspr',\n",
       "       'dirty', 'disco', 'dnb', 'documentary', 'downbeat', 'downtempo',\n",
       "       'drum', 'dub', 'dubstep', 'eastern', 'easy', 'electronic',\n",
       "       'electropop', 'emo', 'entehno', 'epicmetal', 'estrada', 'ethnic',\n",
       "       'eurofolk', 'european', 'experimental', 'extrememetal', 'fado',\n",
       "       'fairytail', 'film', 'fitness', 'flamenco', 'folk', 'folklore',\n",
       "       'folkmetal', 'folkrock', 'folktronica', 'forró', 'frankreich',\n",
       "       'französisch', 'french', 'funk', 'future', 'gangsta', 'garage',\n",
       "       'german', 'ghazal', 'gitarre', 'glitch', 'gospel', 'gothic',\n",
       "       'grime', 'grunge', 'gypsy', 'handsup', \"hard'n'heavy\", 'hardcore',\n",
       "       'hardstyle', 'hardtechno', 'hiphop', 'historisch', 'holiday',\n",
       "       'horror', 'house', 'hymn', 'idm', 'independent', 'indian', 'indie',\n",
       "       'indipop', 'industrial', 'inspirational', 'instrumental',\n",
       "       'international', 'irish', 'jam', 'japanese', 'jazz', 'jewish',\n",
       "       'jpop', 'jungle', 'k-pop', 'karadeniz', 'karaoke', 'kayokyoku',\n",
       "       'korean', 'laiko', 'latin', 'latino', 'leftfield', 'local',\n",
       "       'lounge', 'loungeelectronic', 'lovers', 'malaysian', 'mandopop',\n",
       "       'marschmusik', 'meditative', 'mediterranean', 'melodic', 'metal',\n",
       "       'metalcore', 'mexican', 'middle', 'minimal', 'miscellaneous',\n",
       "       'modern', 'mood', 'mpb', 'muslim', 'native', 'neoklassik', 'neue',\n",
       "       'new', 'newage', 'newwave', 'nu', 'nujazz', 'numetal', 'oceania',\n",
       "       'old', 'opera', 'orchestral', 'other', 'piano', 'podcasts', 'pop',\n",
       "       'popdance', 'popelectronic', 'popeurodance', 'poprussian', 'post',\n",
       "       'posthardcore', 'postrock', 'power', 'progmetal', 'progressive',\n",
       "       'psychedelic', 'punjabi', 'punk', 'quebecois', 'ragga', 'ram',\n",
       "       'rancheras', 'rap', 'rave', 'reggae', 'reggaeton', 'regional',\n",
       "       'relax', 'religious', 'retro', 'rhythm', 'rnb', 'rnr', 'rock',\n",
       "       'rockabilly', 'rockalternative', 'rockindie', 'rockother',\n",
       "       'romance', 'roots', 'ruspop', 'rusrap', 'rusrock', 'russian',\n",
       "       'salsa', 'samba', 'scenic', 'schlager', 'self', 'sertanejo',\n",
       "       'shanson', 'shoegazing', 'showtunes', 'singer', 'ska', 'skarock',\n",
       "       'slow', 'smooth', 'soft', 'soul', 'soulful', 'sound', 'soundtrack',\n",
       "       'southern', 'specialty', 'speech', 'spiritual', 'sport',\n",
       "       'stonerrock', 'surf', 'swing', 'synthpop', 'synthrock',\n",
       "       'sängerportrait', 'tango', 'tanzorchester', 'taraftar', 'tatar',\n",
       "       'tech', 'techno', 'teen', 'thrash', 'top', 'traditional',\n",
       "       'tradjazz', 'trance', 'tribal', 'trip', 'triphop', 'tropical',\n",
       "       'türk', 'türkçe', 'ukrrock', 'unknown', 'urban', 'uzbek',\n",
       "       'variété', 'vi', 'videogame', 'vocal', 'western', 'world',\n",
       "       'worldbeat', 'ïîï', 'электроника'], dtype=object)"
      ]
     },
     "execution_count": 39,
     "metadata": {},
     "output_type": "execute_result"
    }
   ],
   "source": [
    "df['genre'].sort_values().unique()# Просмотр уникальных названий жанров"
   ]
  },
  {
   "cell_type": "code",
   "execution_count": 15,
   "metadata": {
    "id": "ErNDkmns_Zct"
   },
   "outputs": [],
   "source": [
    "def replace_wrong_genres(wrong_genres,correct_genre):    # Функция для замены неявных дубликатов\n",
    "    for wrong_genre in wrong_genres:\n",
    "        df['genre'] = df['genre'].replace(wrong_genres,correct_genre)"
   ]
  },
  {
   "cell_type": "code",
   "execution_count": 16,
   "metadata": {
    "id": "YN5i2hpmSo09"
   },
   "outputs": [],
   "source": [
    "duplicates = ['hip', 'hip-hop', 'hop']\n",
    "genre = 'hiphop'\n",
    "replace_wrong_genres(duplicates, genre) # Устранение неявных дубликатов"
   ]
  },
  {
   "cell_type": "code",
   "execution_count": 17,
   "metadata": {
    "id": "wvixALnFG15m",
    "scrolled": false
   },
   "outputs": [
    {
     "data": {
      "text/plain": [
       "array(['acid', 'acoustic', 'action', 'adult', 'africa', 'afrikaans',\n",
       "       'alternative', 'alternativepunk', 'ambient', 'americana',\n",
       "       'animated', 'anime', 'arabesk', 'arabic', 'arena',\n",
       "       'argentinetango', 'art', 'audiobook', 'author', 'avantgarde',\n",
       "       'axé', 'baile', 'balkan', 'beats', 'bigroom', 'black', 'bluegrass',\n",
       "       'blues', 'bollywood', 'bossa', 'brazilian', 'breakbeat', 'breaks',\n",
       "       'broadway', 'cantautori', 'cantopop', 'canzone', 'caribbean',\n",
       "       'caucasian', 'celtic', 'chamber', 'chanson', 'children', 'chill',\n",
       "       'chinese', 'choral', 'christian', 'christmas', 'classical',\n",
       "       'classicmetal', 'club', 'colombian', 'comedy', 'conjazz',\n",
       "       'contemporary', 'country', 'cuban', 'dance', 'dancehall',\n",
       "       'dancepop', 'dark', 'death', 'deep', 'deutschrock', 'deutschspr',\n",
       "       'dirty', 'disco', 'dnb', 'documentary', 'downbeat', 'downtempo',\n",
       "       'drum', 'dub', 'dubstep', 'eastern', 'easy', 'electronic',\n",
       "       'electropop', 'emo', 'entehno', 'epicmetal', 'estrada', 'ethnic',\n",
       "       'eurofolk', 'european', 'experimental', 'extrememetal', 'fado',\n",
       "       'fairytail', 'film', 'fitness', 'flamenco', 'folk', 'folklore',\n",
       "       'folkmetal', 'folkrock', 'folktronica', 'forró', 'frankreich',\n",
       "       'französisch', 'french', 'funk', 'future', 'gangsta', 'garage',\n",
       "       'german', 'ghazal', 'gitarre', 'glitch', 'gospel', 'gothic',\n",
       "       'grime', 'grunge', 'gypsy', 'handsup', \"hard'n'heavy\", 'hardcore',\n",
       "       'hardstyle', 'hardtechno', 'hiphop', 'historisch', 'holiday',\n",
       "       'horror', 'house', 'hymn', 'idm', 'independent', 'indian', 'indie',\n",
       "       'indipop', 'industrial', 'inspirational', 'instrumental',\n",
       "       'international', 'irish', 'jam', 'japanese', 'jazz', 'jewish',\n",
       "       'jpop', 'jungle', 'k-pop', 'karadeniz', 'karaoke', 'kayokyoku',\n",
       "       'korean', 'laiko', 'latin', 'latino', 'leftfield', 'local',\n",
       "       'lounge', 'loungeelectronic', 'lovers', 'malaysian', 'mandopop',\n",
       "       'marschmusik', 'meditative', 'mediterranean', 'melodic', 'metal',\n",
       "       'metalcore', 'mexican', 'middle', 'minimal', 'miscellaneous',\n",
       "       'modern', 'mood', 'mpb', 'muslim', 'native', 'neoklassik', 'neue',\n",
       "       'new', 'newage', 'newwave', 'nu', 'nujazz', 'numetal', 'oceania',\n",
       "       'old', 'opera', 'orchestral', 'other', 'piano', 'podcasts', 'pop',\n",
       "       'popdance', 'popelectronic', 'popeurodance', 'poprussian', 'post',\n",
       "       'posthardcore', 'postrock', 'power', 'progmetal', 'progressive',\n",
       "       'psychedelic', 'punjabi', 'punk', 'quebecois', 'ragga', 'ram',\n",
       "       'rancheras', 'rap', 'rave', 'reggae', 'reggaeton', 'regional',\n",
       "       'relax', 'religious', 'retro', 'rhythm', 'rnb', 'rnr', 'rock',\n",
       "       'rockabilly', 'rockalternative', 'rockindie', 'rockother',\n",
       "       'romance', 'roots', 'ruspop', 'rusrap', 'rusrock', 'russian',\n",
       "       'salsa', 'samba', 'scenic', 'schlager', 'self', 'sertanejo',\n",
       "       'shanson', 'shoegazing', 'showtunes', 'singer', 'ska', 'skarock',\n",
       "       'slow', 'smooth', 'soft', 'soul', 'soulful', 'sound', 'soundtrack',\n",
       "       'southern', 'specialty', 'speech', 'spiritual', 'sport',\n",
       "       'stonerrock', 'surf', 'swing', 'synthpop', 'synthrock',\n",
       "       'sängerportrait', 'tango', 'tanzorchester', 'taraftar', 'tatar',\n",
       "       'tech', 'techno', 'teen', 'thrash', 'top', 'traditional',\n",
       "       'tradjazz', 'trance', 'tribal', 'trip', 'triphop', 'tropical',\n",
       "       'türk', 'türkçe', 'ukrrock', 'unknown', 'urban', 'uzbek',\n",
       "       'variété', 'vi', 'videogame', 'vocal', 'western', 'world',\n",
       "       'worldbeat', 'ïîï', 'электроника'], dtype=object)"
      ]
     },
     "execution_count": 17,
     "metadata": {},
     "output_type": "execute_result"
    }
   ],
   "source": [
    "df['genre'].sort_values().unique() # Проверка на неявные дубликаты"
   ]
  },
  {
   "cell_type": "markdown",
   "metadata": {
    "id": "jz6a9-7HQUDd"
   },
   "source": [
    "**Выводы**\n",
    "\n",
    "Предобработка обнаружила три проблемы в данных:\n",
    "\n",
    "- нарушения в стиле заголовков,\n",
    "- пропущенные значения,\n",
    "- дубликаты — явные и неявные.\n",
    "\n",
    "Вы исправили заголовки, чтобы упростить работу с таблицей. Без дубликатов исследование станет более точным.\n",
    "\n",
    "Пропущенные значения вы заменили на `'unknown'`. Ещё предстоит увидеть, не повредят ли исследованию пропуски в колонке `genre`.\n",
    "\n",
    "Теперь можно перейти к проверке гипотез. "
   ]
  },
  {
   "cell_type": "markdown",
   "metadata": {
    "id": "WttZHXH0SqKk"
   },
   "source": [
    "## Проверка гипотез"
   ]
  },
  {
   "cell_type": "markdown",
   "metadata": {
    "id": "Im936VVi_Zcu"
   },
   "source": [
    "### Сравнение поведения пользователей двух столиц"
   ]
  },
  {
   "cell_type": "markdown",
   "metadata": {
    "id": "nwt_MuaL_Zcu"
   },
   "source": [
    "Первая гипотеза утверждает, что пользователи по-разному слушают музыку в Москве и Санкт-Петербурге. Проверка этого предположения по данным о трёх днях недели — понедельнике, среде и пятнице. Для этого:\n",
    "\n",
    "* Разделение пользователей Москвы и Санкт-Петербурга\n",
    "* Сравнение, сколько треков послушала каждая группа пользователей в понедельник, среду и пятницу.\n"
   ]
  },
  {
   "cell_type": "code",
   "execution_count": 18,
   "metadata": {
    "id": "0_Qs96oh_Zcu"
   },
   "outputs": [
    {
     "data": {
      "text/plain": [
       "city\n",
       "Moscow              42741\n",
       "Saint-Petersburg    18512\n",
       "Name: time, dtype: int64"
      ]
     },
     "execution_count": 18,
     "metadata": {},
     "output_type": "execute_result"
    }
   ],
   "source": [
    "df.groupby('city')['time'].count() # Подсчёт прослушиваний в каждом городе"
   ]
  },
  {
   "cell_type": "markdown",
   "metadata": {
    "id": "dzli3w8o_Zcu"
   },
   "source": [
    "В Москве прослушиваний больше, чем в Петербурге. Из этого не следует, что московские пользователи чаще слушают музыку. Просто самих пользователей в Москве больше."
   ]
  },
  {
   "cell_type": "code",
   "execution_count": 19,
   "metadata": {
    "id": "uZMKjiJz_Zcu",
    "scrolled": true
   },
   "outputs": [
    {
     "data": {
      "text/plain": [
       "day\n",
       "Friday       21840\n",
       "Monday       21354\n",
       "Wednesday    18059\n",
       "Name: time, dtype: int64"
      ]
     },
     "execution_count": 19,
     "metadata": {},
     "output_type": "execute_result"
    }
   ],
   "source": [
    "df.groupby('day')['time'].count() # Подсчёт прослушиваний в каждый из трёх дней"
   ]
  },
  {
   "cell_type": "markdown",
   "metadata": {
    "id": "cC2tNrlL_Zcu"
   },
   "source": [
    "В среднем пользователи из двух городов менее активны по средам. Но картина может измениться, если рассмотреть каждый город в отдельности."
   ]
  },
  {
   "cell_type": "code",
   "execution_count": 20,
   "metadata": {
    "id": "Nz3GdQB1_Zcu"
   },
   "outputs": [],
   "source": [
    "# Объявляется функция с двумя параметрами\n",
    "def number_tracks(day, city):                                     \n",
    "    track_list = df[(df['day'] == day) & (df['city'] == city)]   \n",
    "    track_list_count = track_list['user_id'].count()             \n",
    "    return track_list_count                                       \n",
    "                                                        "
   ]
  },
  {
   "cell_type": "code",
   "execution_count": 21,
   "metadata": {
    "id": "rJcRATNQ_Zcu"
   },
   "outputs": [
    {
     "data": {
      "text/plain": [
       "15740"
      ]
     },
     "execution_count": 21,
     "metadata": {},
     "output_type": "execute_result"
    }
   ],
   "source": [
    "number_tracks('Monday', 'Moscow') # количество прослушиваний в Москве по понедельникам"
   ]
  },
  {
   "cell_type": "code",
   "execution_count": 22,
   "metadata": {
    "id": "hq_ncZ5T_Zcu"
   },
   "outputs": [
    {
     "data": {
      "text/plain": [
       "5614"
      ]
     },
     "execution_count": 22,
     "metadata": {},
     "output_type": "execute_result"
    }
   ],
   "source": [
    "number_tracks('Monday', 'Saint-Petersburg')# количество прослушиваний в Санкт-Петербурге по понедельникам"
   ]
  },
  {
   "cell_type": "code",
   "execution_count": 23,
   "metadata": {
    "id": "_NTy2VPU_Zcu"
   },
   "outputs": [
    {
     "data": {
      "text/plain": [
       "11056"
      ]
     },
     "execution_count": 23,
     "metadata": {},
     "output_type": "execute_result"
    }
   ],
   "source": [
    "number_tracks('Wednesday', 'Moscow')# количество прослушиваний в Москве по средам"
   ]
  },
  {
   "cell_type": "code",
   "execution_count": 24,
   "metadata": {
    "id": "j2y3TAwo_Zcu"
   },
   "outputs": [
    {
     "data": {
      "text/plain": [
       "7003"
      ]
     },
     "execution_count": 24,
     "metadata": {},
     "output_type": "execute_result"
    }
   ],
   "source": [
    "number_tracks('Wednesday', 'Saint-Petersburg')# количество прослушиваний в Санкт-Петербурге по средам"
   ]
  },
  {
   "cell_type": "code",
   "execution_count": 25,
   "metadata": {
    "id": "vYDw5u_K_Zcu"
   },
   "outputs": [
    {
     "data": {
      "text/plain": [
       "15945"
      ]
     },
     "execution_count": 25,
     "metadata": {},
     "output_type": "execute_result"
    }
   ],
   "source": [
    "number_tracks('Friday', 'Moscow')# количество прослушиваний в Москве по пятницам"
   ]
  },
  {
   "cell_type": "code",
   "execution_count": 26,
   "metadata": {
    "id": "8_yzFtW3_Zcu"
   },
   "outputs": [
    {
     "data": {
      "text/plain": [
       "5895"
      ]
     },
     "execution_count": 26,
     "metadata": {},
     "output_type": "execute_result"
    }
   ],
   "source": [
    "number_tracks('Friday', 'Saint-Petersburg')# количество прослушиваний в Санкт-Петербурге по пятницам"
   ]
  },
  {
   "cell_type": "code",
   "execution_count": 27,
   "metadata": {
    "id": "APAcLpOr_Zcu",
    "scrolled": true
   },
   "outputs": [
    {
     "data": {
      "text/html": [
       "<div>\n",
       "<style scoped>\n",
       "    .dataframe tbody tr th:only-of-type {\n",
       "        vertical-align: middle;\n",
       "    }\n",
       "\n",
       "    .dataframe tbody tr th {\n",
       "        vertical-align: top;\n",
       "    }\n",
       "\n",
       "    .dataframe thead th {\n",
       "        text-align: right;\n",
       "    }\n",
       "</style>\n",
       "<table border=\"1\" class=\"dataframe\">\n",
       "  <thead>\n",
       "    <tr style=\"text-align: right;\">\n",
       "      <th></th>\n",
       "      <th>city</th>\n",
       "      <th>monday</th>\n",
       "      <th>wednesday</th>\n",
       "      <th>friday</th>\n",
       "    </tr>\n",
       "  </thead>\n",
       "  <tbody>\n",
       "    <tr>\n",
       "      <th>0</th>\n",
       "      <td>Moscow</td>\n",
       "      <td>15740</td>\n",
       "      <td>11056</td>\n",
       "      <td>15945</td>\n",
       "    </tr>\n",
       "    <tr>\n",
       "      <th>1</th>\n",
       "      <td>Saint-Petersburg</td>\n",
       "      <td>5614</td>\n",
       "      <td>7003</td>\n",
       "      <td>5895</td>\n",
       "    </tr>\n",
       "  </tbody>\n",
       "</table>\n",
       "</div>"
      ],
      "text/plain": [
       "               city  monday  wednesday  friday\n",
       "0            Moscow   15740      11056   15945\n",
       "1  Saint-Petersburg    5614       7003    5895"
      ]
     },
     "execution_count": 27,
     "metadata": {},
     "output_type": "execute_result"
    }
   ],
   "source": [
    "columns = ['city', 'monday', 'wednesday', 'friday']\n",
    "data = [['Moscow', number_tracks('Monday', 'Moscow'), number_tracks('Wednesday', 'Moscow'), number_tracks('Friday', 'Moscow')],\n",
    "       ['Saint-Petersburg', number_tracks('Monday', 'Saint-Petersburg'), number_tracks('Wednesday', 'Saint-Petersburg'),  number_tracks('Friday', 'Saint-Petersburg')]]\n",
    "pd.DataFrame(data = data, columns = columns)# Таблица с результатами"
   ]
  },
  {
   "cell_type": "markdown",
   "metadata": {
    "id": "-EgPIHYu_Zcu"
   },
   "source": [
    "**Выводы**\n",
    "\n",
    "Данные показывают разницу поведения пользователей:\n",
    "\n",
    "- В Москве пик прослушиваний приходится на понедельник и пятницу, а в среду заметен спад.\n",
    "- В Петербурге, наоборот, больше слушают музыку по средам. Активность в понедельник и пятницу здесь почти в равной мере уступает среде.\n",
    "\n",
    "Значит, данные говорят в пользу первой гипотезы."
   ]
  },
  {
   "cell_type": "markdown",
   "metadata": {
    "id": "atZAxtq4_Zcu"
   },
   "source": [
    "### Музыка в начале и в конце недели"
   ]
  },
  {
   "cell_type": "markdown",
   "metadata": {
    "id": "eXrQqXFH_Zcu"
   },
   "source": [
    "Согласно второй гипотезе, утром в понедельник в Москве преобладают одни жанры, а в Петербурге — другие. Так же и вечером пятницы преобладают разные жанры — в зависимости от города."
   ]
  },
  {
   "cell_type": "code",
   "execution_count": 28,
   "metadata": {
    "id": "qeaFfM_P_Zcu"
   },
   "outputs": [],
   "source": [
    "moscow_general = df[df['city'] == 'Moscow'] # получение таблицы moscow_general\n"
   ]
  },
  {
   "cell_type": "code",
   "execution_count": 29,
   "metadata": {
    "id": "ORaVRKto_Zcu"
   },
   "outputs": [],
   "source": [
    "spb_general = df[df['city'] == 'Saint-Petersburg']# получение таблицы spb_general \n"
   ]
  },
  {
   "cell_type": "code",
   "execution_count": 30,
   "metadata": {
    "id": "laJT9BYl_Zcu"
   },
   "outputs": [],
   "source": [
    "# Объявление функции genre_weekday() с параметрами table, day, time1, time2,\n",
    "# которая возвращает информацию о самых популярных жанрах в указанный день в\n",
    "# заданное время\n",
    "def genre_weekday(table, day, time1, time2): \n",
    "    genre_df = table[(table['day'] ==  day) & (table['time'] > time1) & (table['time'] < time2)]  \n",
    "    genre_df_count = genre_df.groupby('genre')['genre'].count()\n",
    "    genre_df_sorted = genre_df_count.sort_values(ascending = False)\n",
    "    return genre_df_sorted.head(10)"
   ]
  },
  {
   "cell_type": "code",
   "execution_count": 31,
   "metadata": {
    "id": "yz7itPUQ_Zcu"
   },
   "outputs": [
    {
     "data": {
      "text/plain": [
       "genre\n",
       "pop            781\n",
       "dance          549\n",
       "electronic     480\n",
       "rock           474\n",
       "hiphop         286\n",
       "ruspop         186\n",
       "world          181\n",
       "rusrap         175\n",
       "alternative    164\n",
       "unknown        161\n",
       "Name: genre, dtype: int64"
      ]
     },
     "execution_count": 31,
     "metadata": {},
     "output_type": "execute_result"
    }
   ],
   "source": [
    "# вызов функции для утра понедельника в Москве \n",
    "genre_weekday(moscow_general,'Monday','07:00','11:00')"
   ]
  },
  {
   "cell_type": "code",
   "execution_count": 32,
   "metadata": {
    "id": "kwUcHPdy_Zcu",
    "scrolled": true
   },
   "outputs": [
    {
     "data": {
      "text/plain": [
       "genre\n",
       "pop            218\n",
       "dance          182\n",
       "rock           162\n",
       "electronic     147\n",
       "hiphop          80\n",
       "ruspop          64\n",
       "alternative     58\n",
       "rusrap          55\n",
       "jazz            44\n",
       "classical       40\n",
       "Name: genre, dtype: int64"
      ]
     },
     "execution_count": 32,
     "metadata": {},
     "output_type": "execute_result"
    }
   ],
   "source": [
    "genre_weekday(spb_general,'Monday','07:00','11:00')# вызов функции для утра понедельника в Петербурге "
   ]
  },
  {
   "cell_type": "code",
   "execution_count": 33,
   "metadata": {
    "id": "EzXVRE1o_Zcu"
   },
   "outputs": [
    {
     "data": {
      "text/plain": [
       "genre\n",
       "pop            713\n",
       "rock           517\n",
       "dance          495\n",
       "electronic     482\n",
       "hiphop         273\n",
       "world          208\n",
       "ruspop         170\n",
       "alternative    163\n",
       "classical      163\n",
       "rusrap         142\n",
       "Name: genre, dtype: int64"
      ]
     },
     "execution_count": 33,
     "metadata": {},
     "output_type": "execute_result"
    }
   ],
   "source": [
    "genre_weekday(moscow_general,'Friday','17:00','23:00')# вызов функции для вечера пятницы в Москве"
   ]
  },
  {
   "cell_type": "code",
   "execution_count": 34,
   "metadata": {
    "id": "JZaEKu5v_Zcu",
    "scrolled": true
   },
   "outputs": [
    {
     "data": {
      "text/plain": [
       "genre\n",
       "pop            256\n",
       "electronic     216\n",
       "rock           216\n",
       "dance          210\n",
       "hiphop          97\n",
       "alternative     63\n",
       "jazz            61\n",
       "classical       60\n",
       "rusrap          59\n",
       "world           54\n",
       "Name: genre, dtype: int64"
      ]
     },
     "execution_count": 34,
     "metadata": {},
     "output_type": "execute_result"
    }
   ],
   "source": [
    "genre_weekday(spb_general,'Friday','17:00','23:00')# вызов функции для вечера пятницы в Петербурге"
   ]
  },
  {
   "cell_type": "markdown",
   "metadata": {
    "id": "wrCe4MNX_Zcu"
   },
   "source": [
    "**Выводы**\n",
    "\n",
    "Если сравнить топ-10 жанров в понедельник утром, можно сделать такие выводы:\n",
    "\n",
    "1. В Москве и Петербурге слушают похожую музыку. Единственное отличие — в московский рейтинг вошёл жанр “world”, а в петербургский — джаз и классика.\n",
    "\n",
    "2. В Москве пропущенных значений оказалось так много, что значение `'unknown'` заняло десятое место среди самых популярных жанров. Значит, пропущенные значения занимают существенную долю в данных и угрожают достоверности исследования.\n",
    "\n",
    "Вечер пятницы не меняет эту картину. Некоторые жанры поднимаются немного выше, другие спускаются, но в целом топ-10 остаётся тем же самым.\n",
    "\n",
    "Таким образом, вторая гипотеза подтвердилась лишь частично:\n",
    "* Пользователи слушают похожую музыку в начале недели и в конце.\n",
    "* Разница между Москвой и Петербургом не слишком выражена. В Москве чаще слушают русскую популярную музыку, в Петербурге — джаз.\n",
    "\n",
    "Однако пропуски в данных ставят под сомнение этот результат. В Москве их так много, что рейтинг топ-10 мог бы выглядеть иначе, если бы не утерянные  данные о жанрах."
   ]
  },
  {
   "cell_type": "markdown",
   "metadata": {
    "id": "JolODAqr_Zcu"
   },
   "source": [
    "### Жанровые предпочтения в Москве и Петербурге\n",
    "\n",
    "Гипотеза: Петербург — столица рэпа, музыку этого жанра там слушают чаще, чем в Москве.  А Москва — город контрастов, в котором, тем не менее, преобладает поп-музыка."
   ]
  },
  {
   "cell_type": "code",
   "execution_count": 35,
   "metadata": {
    "id": "r19lIPke_Zcu"
   },
   "outputs": [],
   "source": [
    "# группировка таблицы moscow_general по столбцу 'genre', \n",
    "# подсчёт числа значений 'genre' в этой группировке методом count(), \n",
    "# сортировка получившегося Series в порядке убывания и сохранение в moscow_genres\n",
    "\n",
    "moscow_genres = moscow_general.groupby('genre')['genre'].count().sort_values(ascending = False)\n"
   ]
  },
  {
   "cell_type": "code",
   "execution_count": 36,
   "metadata": {
    "id": "WhCSooF8_Zcv"
   },
   "outputs": [
    {
     "data": {
      "text/plain": [
       "genre\n",
       "pop            5892\n",
       "dance          4435\n",
       "rock           3965\n",
       "electronic     3786\n",
       "hiphop         2096\n",
       "classical      1616\n",
       "world          1432\n",
       "alternative    1379\n",
       "ruspop         1372\n",
       "rusrap         1161\n",
       "Name: genre, dtype: int64"
      ]
     },
     "execution_count": 36,
     "metadata": {},
     "output_type": "execute_result"
    }
   ],
   "source": [
    "moscow_genres.head(10)# просмотр первых 10 строк moscow_genres"
   ]
  },
  {
   "cell_type": "code",
   "execution_count": 37,
   "metadata": {
    "id": "gluLIpE7_Zcv"
   },
   "outputs": [],
   "source": [
    "# группировка таблицы spb_general по столбцу 'genre', \n",
    "# подсчёт числа значений 'genre' в этой группировке методом count(), \n",
    "# сортировка получившегося Series в порядке убывания и сохранение в spb_genres\n",
    "\n",
    "spb_genres = spb_general.groupby('genre')['genre'].count().sort_values(ascending = False)\n"
   ]
  },
  {
   "cell_type": "code",
   "execution_count": 38,
   "metadata": {
    "id": "uaGJHjVU_Zcv",
    "scrolled": false
   },
   "outputs": [
    {
     "data": {
      "text/plain": [
       "genre\n",
       "pop            2431\n",
       "dance          1932\n",
       "rock           1879\n",
       "electronic     1736\n",
       "hiphop          960\n",
       "alternative     649\n",
       "classical       646\n",
       "rusrap          564\n",
       "ruspop          538\n",
       "world           515\n",
       "Name: genre, dtype: int64"
      ]
     },
     "execution_count": 38,
     "metadata": {},
     "output_type": "execute_result"
    }
   ],
   "source": [
    "spb_genres.head(10)# просмотр первых 10 строк spb_genres"
   ]
  },
  {
   "cell_type": "markdown",
   "metadata": {
    "id": "RY51YJYu_Zcv"
   },
   "source": [
    "**Выводы**"
   ]
  },
  {
   "cell_type": "markdown",
   "metadata": {
    "id": "nVhnJEm__Zcv"
   },
   "source": [
    "Гипотеза частично подтвердилась:\n",
    "* Поп-музыка — самый популярный жанр в Москве, как и предполагала гипотеза. Более того, в топ-10 жанров встречается близкий жанр — русская популярная музыка.\n",
    "* Вопреки ожиданиям, рэп одинаково популярен в Москве и Петербурге. \n"
   ]
  },
  {
   "cell_type": "markdown",
   "metadata": {
    "id": "ykKQ0N65_Zcv"
   },
   "source": [
    "## Итоги исследования"
   ]
  },
  {
   "cell_type": "markdown",
   "metadata": {
    "id": "tjUwbHb3_Zcv"
   },
   "source": [
    "1. День недели по-разному влияет на активность пользователей в Москве и Петербурге. \n",
    "\n",
    "Первая гипотеза полностью подтвердилась.\n",
    "\n",
    "2. Музыкальные предпочтения не сильно меняются в течение недели — будь то Москва или Петербург. Небольшие различия заметны в начале недели, по понедельникам:\n",
    "* в Москве слушают музыку жанра “world”,\n",
    "* в Петербурге — джаз и классику.\n",
    "\n",
    "Таким образом, вторая гипотеза подтвердилась лишь отчасти. Этот результат мог оказаться иным, если бы не пропуски в данных.\n",
    "\n",
    "3. Во вкусах пользователей Москвы и Петербурга больше общего чем различий. Вопреки ожиданиям, предпочтения жанров в Петербурге напоминают московские.\n",
    "\n",
    "Третья гипотеза не подтвердилась. Если различия в предпочтениях и существуют, на основной массе пользователей они незаметны.\n"
   ]
  },
  {
   "cell_type": "code",
   "execution_count": null,
   "metadata": {},
   "outputs": [],
   "source": []
  }
 ],
 "metadata": {
  "ExecuteTimeLog": [
   {
    "duration": 252,
    "start_time": "2022-03-02T14:29:44.075Z"
   },
   {
    "duration": 193,
    "start_time": "2022-03-02T14:30:03.585Z"
   },
   {
    "duration": 196,
    "start_time": "2022-03-02T14:30:47.426Z"
   },
   {
    "duration": 210,
    "start_time": "2022-03-02T14:31:29.922Z"
   },
   {
    "duration": 216,
    "start_time": "2022-03-02T14:32:01.506Z"
   },
   {
    "duration": 221,
    "start_time": "2022-03-02T14:32:18.282Z"
   },
   {
    "duration": 183,
    "start_time": "2022-03-02T14:41:22.248Z"
   },
   {
    "duration": 199,
    "start_time": "2022-03-02T14:42:23.028Z"
   },
   {
    "duration": 189,
    "start_time": "2022-03-02T14:42:32.967Z"
   },
   {
    "duration": 247,
    "start_time": "2022-03-02T14:43:01.492Z"
   },
   {
    "duration": 197,
    "start_time": "2022-03-02T14:47:28.588Z"
   },
   {
    "duration": 190,
    "start_time": "2022-03-02T14:47:42.005Z"
   },
   {
    "duration": 500,
    "start_time": "2022-03-02T14:48:39.555Z"
   },
   {
    "duration": 476,
    "start_time": "2022-03-02T14:48:54.011Z"
   },
   {
    "duration": 550,
    "start_time": "2022-03-02T14:49:01.132Z"
   },
   {
    "duration": 210,
    "start_time": "2022-03-02T14:50:28.718Z"
   },
   {
    "duration": 186,
    "start_time": "2022-03-02T14:50:39.030Z"
   },
   {
    "duration": 210,
    "start_time": "2022-03-02T14:51:30.594Z"
   },
   {
    "duration": 218,
    "start_time": "2022-03-02T14:52:30.176Z"
   },
   {
    "duration": 599,
    "start_time": "2022-03-02T14:53:41.457Z"
   },
   {
    "duration": 134,
    "start_time": "2022-03-02T14:53:45.123Z"
   },
   {
    "duration": 16,
    "start_time": "2022-03-02T14:53:47.761Z"
   },
   {
    "duration": 24,
    "start_time": "2022-03-02T14:54:10.836Z"
   },
   {
    "duration": 4,
    "start_time": "2022-03-02T15:06:43.151Z"
   },
   {
    "duration": 28,
    "start_time": "2022-03-02T15:07:56.264Z"
   },
   {
    "duration": 4,
    "start_time": "2022-03-02T15:08:16.640Z"
   },
   {
    "duration": 28,
    "start_time": "2022-03-02T15:08:47.136Z"
   },
   {
    "duration": 4,
    "start_time": "2022-03-02T15:09:08.838Z"
   },
   {
    "duration": 25,
    "start_time": "2022-03-02T15:10:08.386Z"
   },
   {
    "duration": 4,
    "start_time": "2022-03-02T15:10:15.530Z"
   },
   {
    "duration": 3,
    "start_time": "2022-03-02T15:10:25.245Z"
   },
   {
    "duration": 15,
    "start_time": "2022-03-02T15:10:28.818Z"
   },
   {
    "duration": 16,
    "start_time": "2022-03-02T15:10:34.967Z"
   },
   {
    "duration": 4,
    "start_time": "2022-03-02T15:10:39.180Z"
   },
   {
    "duration": 13,
    "start_time": "2022-03-02T15:10:54.627Z"
   },
   {
    "duration": 29,
    "start_time": "2022-03-02T15:11:01.003Z"
   },
   {
    "duration": 4,
    "start_time": "2022-03-02T15:11:05.739Z"
   },
   {
    "duration": 3,
    "start_time": "2022-03-02T15:11:07.980Z"
   },
   {
    "duration": 3,
    "start_time": "2022-03-02T15:11:20.707Z"
   },
   {
    "duration": 235,
    "start_time": "2022-03-02T15:11:43.990Z"
   },
   {
    "duration": 544,
    "start_time": "2022-03-02T15:11:51.396Z"
   },
   {
    "duration": 121,
    "start_time": "2022-03-02T15:11:53.443Z"
   },
   {
    "duration": 16,
    "start_time": "2022-03-02T15:11:55.591Z"
   },
   {
    "duration": 24,
    "start_time": "2022-03-02T15:12:02.756Z"
   },
   {
    "duration": 4,
    "start_time": "2022-03-02T15:12:08.322Z"
   },
   {
    "duration": 30,
    "start_time": "2022-03-02T15:12:12.366Z"
   },
   {
    "duration": 4,
    "start_time": "2022-03-02T15:12:17.137Z"
   },
   {
    "duration": 5,
    "start_time": "2022-03-02T15:12:22.672Z"
   },
   {
    "duration": 20,
    "start_time": "2022-03-02T15:12:34.109Z"
   },
   {
    "duration": 4,
    "start_time": "2022-03-02T15:12:37.414Z"
   },
   {
    "duration": 24,
    "start_time": "2022-03-02T15:13:52.954Z"
   },
   {
    "duration": 24,
    "start_time": "2022-03-02T15:15:42.115Z"
   },
   {
    "duration": 428,
    "start_time": "2022-03-02T15:20:32.625Z"
   },
   {
    "duration": 211,
    "start_time": "2022-03-02T15:20:43.600Z"
   },
   {
    "duration": 4831,
    "start_time": "2022-03-02T15:20:54.192Z"
   },
   {
    "duration": 5017,
    "start_time": "2022-03-02T15:21:06.806Z"
   },
   {
    "duration": 204,
    "start_time": "2022-03-02T15:24:24.341Z"
   },
   {
    "duration": 17,
    "start_time": "2022-03-02T15:25:14.903Z"
   },
   {
    "duration": 25,
    "start_time": "2022-03-02T15:35:01.245Z"
   },
   {
    "duration": 26,
    "start_time": "2022-03-02T15:35:31.464Z"
   },
   {
    "duration": 25,
    "start_time": "2022-03-02T15:35:47.699Z"
   },
   {
    "duration": 23,
    "start_time": "2022-03-02T15:36:08.920Z"
   },
   {
    "duration": 194,
    "start_time": "2022-03-02T15:36:55.569Z"
   },
   {
    "duration": 57,
    "start_time": "2022-03-02T15:37:06.503Z"
   },
   {
    "duration": 60,
    "start_time": "2022-03-02T15:38:24.081Z"
   },
   {
    "duration": 77,
    "start_time": "2022-03-02T15:38:41.473Z"
   },
   {
    "duration": 76,
    "start_time": "2022-03-02T15:38:58.512Z"
   },
   {
    "duration": 73,
    "start_time": "2022-03-02T15:39:26.310Z"
   },
   {
    "duration": 282,
    "start_time": "2022-03-02T15:39:32.072Z"
   },
   {
    "duration": 259,
    "start_time": "2022-03-02T15:39:37.279Z"
   },
   {
    "duration": 257,
    "start_time": "2022-03-02T15:39:48.880Z"
   },
   {
    "duration": 14,
    "start_time": "2022-03-02T15:40:02.220Z"
   },
   {
    "duration": 27,
    "start_time": "2022-03-02T15:40:13.826Z"
   },
   {
    "duration": 37,
    "start_time": "2022-03-02T15:40:37.575Z"
   },
   {
    "duration": 2,
    "start_time": "2022-03-02T15:41:09.275Z"
   },
   {
    "duration": 32,
    "start_time": "2022-03-02T15:41:25.334Z"
   },
   {
    "duration": 26,
    "start_time": "2022-03-02T15:41:31.851Z"
   },
   {
    "duration": 57,
    "start_time": "2022-03-02T15:41:46.915Z"
   },
   {
    "duration": 2,
    "start_time": "2022-03-02T15:41:50.130Z"
   },
   {
    "duration": 22,
    "start_time": "2022-03-02T15:42:14.934Z"
   },
   {
    "duration": 25,
    "start_time": "2022-03-02T15:50:03.950Z"
   },
   {
    "duration": 13,
    "start_time": "2022-03-02T15:56:08.301Z"
   },
   {
    "duration": 581,
    "start_time": "2022-03-02T15:57:51.063Z"
   },
   {
    "duration": 132,
    "start_time": "2022-03-02T15:57:53.946Z"
   },
   {
    "duration": 18,
    "start_time": "2022-03-02T15:57:56.268Z"
   },
   {
    "duration": 26,
    "start_time": "2022-03-02T15:58:01.136Z"
   },
   {
    "duration": 5,
    "start_time": "2022-03-02T15:58:16.051Z"
   },
   {
    "duration": 30,
    "start_time": "2022-03-02T15:58:22.132Z"
   },
   {
    "duration": 4,
    "start_time": "2022-03-02T15:58:27.584Z"
   },
   {
    "duration": 25,
    "start_time": "2022-03-02T15:58:30.218Z"
   },
   {
    "duration": 28,
    "start_time": "2022-03-02T15:58:35.671Z"
   },
   {
    "duration": 24,
    "start_time": "2022-03-02T15:58:43.356Z"
   },
   {
    "duration": 68,
    "start_time": "2022-03-02T16:01:54.752Z"
   },
   {
    "duration": 545,
    "start_time": "2022-03-02T16:15:31.219Z"
   },
   {
    "duration": 135,
    "start_time": "2022-03-02T16:15:31.766Z"
   },
   {
    "duration": 18,
    "start_time": "2022-03-02T16:15:31.903Z"
   },
   {
    "duration": 39,
    "start_time": "2022-03-02T16:15:31.924Z"
   },
   {
    "duration": 5,
    "start_time": "2022-03-02T16:15:31.965Z"
   },
   {
    "duration": 31,
    "start_time": "2022-03-02T16:15:31.972Z"
   },
   {
    "duration": 4,
    "start_time": "2022-03-02T16:15:32.004Z"
   },
   {
    "duration": 52,
    "start_time": "2022-03-02T16:15:32.010Z"
   },
   {
    "duration": 25,
    "start_time": "2022-03-02T16:15:32.065Z"
   },
   {
    "duration": 23,
    "start_time": "2022-03-02T16:15:32.092Z"
   },
   {
    "duration": 78,
    "start_time": "2022-03-02T16:15:32.116Z"
   },
   {
    "duration": 72,
    "start_time": "2022-03-02T16:15:32.196Z"
   },
   {
    "duration": 2,
    "start_time": "2022-03-02T16:15:32.270Z"
   },
   {
    "duration": 9,
    "start_time": "2022-03-02T16:15:32.274Z"
   },
   {
    "duration": 7,
    "start_time": "2022-03-02T16:15:32.285Z"
   },
   {
    "duration": 5,
    "start_time": "2022-03-02T16:15:32.294Z"
   },
   {
    "duration": 9,
    "start_time": "2022-03-02T16:15:32.301Z"
   },
   {
    "duration": 10,
    "start_time": "2022-03-02T16:15:32.311Z"
   },
   {
    "duration": 5,
    "start_time": "2022-03-02T16:15:32.322Z"
   },
   {
    "duration": 15,
    "start_time": "2022-03-02T16:15:32.329Z"
   },
   {
    "duration": 21,
    "start_time": "2022-03-02T16:15:32.346Z"
   },
   {
    "duration": 6,
    "start_time": "2022-03-02T16:15:32.369Z"
   },
   {
    "duration": 14,
    "start_time": "2022-03-02T16:15:32.377Z"
   },
   {
    "duration": 15,
    "start_time": "2022-03-02T16:15:32.392Z"
   },
   {
    "duration": 15,
    "start_time": "2022-03-02T16:15:32.409Z"
   },
   {
    "duration": 12,
    "start_time": "2022-03-02T16:15:32.426Z"
   },
   {
    "duration": 12,
    "start_time": "2022-03-02T16:15:32.441Z"
   },
   {
    "duration": 9,
    "start_time": "2022-03-02T16:15:32.455Z"
   },
   {
    "duration": 14,
    "start_time": "2022-03-02T16:15:32.466Z"
   },
   {
    "duration": 11,
    "start_time": "2022-03-02T16:15:32.482Z"
   },
   {
    "duration": 12,
    "start_time": "2022-03-02T16:15:32.494Z"
   },
   {
    "duration": 19,
    "start_time": "2022-03-02T16:15:32.507Z"
   },
   {
    "duration": 11,
    "start_time": "2022-03-02T16:15:32.528Z"
   },
   {
    "duration": 8,
    "start_time": "2022-03-02T16:15:32.540Z"
   },
   {
    "duration": 18,
    "start_time": "2022-03-02T16:15:32.549Z"
   },
   {
    "duration": 11,
    "start_time": "2022-03-02T16:15:32.568Z"
   },
   {
    "duration": 20,
    "start_time": "2022-03-02T16:15:32.580Z"
   },
   {
    "duration": 8,
    "start_time": "2022-03-02T16:15:32.602Z"
   },
   {
    "duration": 67,
    "start_time": "2022-03-02T16:16:31.891Z"
   },
   {
    "duration": 570,
    "start_time": "2022-03-02T16:16:41.460Z"
   },
   {
    "duration": 136,
    "start_time": "2022-03-02T16:16:42.032Z"
   },
   {
    "duration": 17,
    "start_time": "2022-03-02T16:16:42.170Z"
   },
   {
    "duration": 26,
    "start_time": "2022-03-02T16:16:42.189Z"
   },
   {
    "duration": 3,
    "start_time": "2022-03-02T16:16:42.217Z"
   },
   {
    "duration": 65,
    "start_time": "2022-03-02T16:16:42.222Z"
   },
   {
    "duration": 4,
    "start_time": "2022-03-02T16:16:42.289Z"
   },
   {
    "duration": 39,
    "start_time": "2022-03-02T16:16:42.296Z"
   },
   {
    "duration": 45,
    "start_time": "2022-03-02T16:16:42.338Z"
   },
   {
    "duration": 23,
    "start_time": "2022-03-02T16:16:42.385Z"
   },
   {
    "duration": 82,
    "start_time": "2022-03-02T16:16:42.409Z"
   },
   {
    "duration": 81,
    "start_time": "2022-03-02T16:16:42.493Z"
   },
   {
    "duration": 2,
    "start_time": "2022-03-02T16:16:42.576Z"
   },
   {
    "duration": 6,
    "start_time": "2022-03-02T16:16:42.580Z"
   },
   {
    "duration": 5,
    "start_time": "2022-03-02T16:16:42.587Z"
   },
   {
    "duration": 4,
    "start_time": "2022-03-02T16:16:42.594Z"
   },
   {
    "duration": 4,
    "start_time": "2022-03-02T16:16:42.600Z"
   },
   {
    "duration": 4,
    "start_time": "2022-03-02T16:16:42.606Z"
   },
   {
    "duration": 6,
    "start_time": "2022-03-02T16:16:42.611Z"
   },
   {
    "duration": 5,
    "start_time": "2022-03-02T16:16:42.618Z"
   },
   {
    "duration": 10,
    "start_time": "2022-03-02T16:16:42.624Z"
   },
   {
    "duration": 4,
    "start_time": "2022-03-02T16:16:42.635Z"
   },
   {
    "duration": 6,
    "start_time": "2022-03-02T16:16:42.661Z"
   },
   {
    "duration": 4,
    "start_time": "2022-03-02T16:16:42.669Z"
   },
   {
    "duration": 6,
    "start_time": "2022-03-02T16:16:42.674Z"
   },
   {
    "duration": 9,
    "start_time": "2022-03-02T16:16:42.681Z"
   },
   {
    "duration": 10,
    "start_time": "2022-03-02T16:16:42.691Z"
   },
   {
    "duration": 8,
    "start_time": "2022-03-02T16:16:42.703Z"
   },
   {
    "duration": 5,
    "start_time": "2022-03-02T16:16:42.712Z"
   },
   {
    "duration": 7,
    "start_time": "2022-03-02T16:16:42.719Z"
   },
   {
    "duration": 17,
    "start_time": "2022-03-02T16:16:42.727Z"
   },
   {
    "duration": 5,
    "start_time": "2022-03-02T16:16:42.745Z"
   },
   {
    "duration": 6,
    "start_time": "2022-03-02T16:16:42.752Z"
   },
   {
    "duration": 4,
    "start_time": "2022-03-02T16:16:42.759Z"
   },
   {
    "duration": 5,
    "start_time": "2022-03-02T16:16:42.764Z"
   },
   {
    "duration": 5,
    "start_time": "2022-03-02T16:16:42.770Z"
   },
   {
    "duration": 6,
    "start_time": "2022-03-02T16:16:42.776Z"
   },
   {
    "duration": 6,
    "start_time": "2022-03-02T16:16:42.784Z"
   },
   {
    "duration": 50,
    "start_time": "2022-03-02T16:18:33.327Z"
   },
   {
    "duration": 537,
    "start_time": "2022-03-02T16:18:38.216Z"
   },
   {
    "duration": 134,
    "start_time": "2022-03-02T16:18:38.755Z"
   },
   {
    "duration": 18,
    "start_time": "2022-03-02T16:18:38.891Z"
   },
   {
    "duration": 26,
    "start_time": "2022-03-02T16:18:38.911Z"
   },
   {
    "duration": 22,
    "start_time": "2022-03-02T16:18:38.938Z"
   },
   {
    "duration": 29,
    "start_time": "2022-03-02T16:18:38.962Z"
   },
   {
    "duration": 3,
    "start_time": "2022-03-02T16:18:38.993Z"
   },
   {
    "duration": 24,
    "start_time": "2022-03-02T16:18:38.999Z"
   },
   {
    "duration": 55,
    "start_time": "2022-03-02T16:18:39.025Z"
   },
   {
    "duration": 23,
    "start_time": "2022-03-02T16:18:39.081Z"
   },
   {
    "duration": 73,
    "start_time": "2022-03-02T16:18:39.106Z"
   },
   {
    "duration": 85,
    "start_time": "2022-03-02T16:18:39.180Z"
   },
   {
    "duration": 51,
    "start_time": "2022-03-02T16:18:39.267Z"
   },
   {
    "duration": 3,
    "start_time": "2022-03-02T16:18:39.320Z"
   },
   {
    "duration": 4,
    "start_time": "2022-03-02T16:18:39.325Z"
   },
   {
    "duration": 28,
    "start_time": "2022-03-02T16:18:39.331Z"
   },
   {
    "duration": 4,
    "start_time": "2022-03-02T16:18:39.361Z"
   },
   {
    "duration": 4,
    "start_time": "2022-03-02T16:18:39.367Z"
   },
   {
    "duration": 4,
    "start_time": "2022-03-02T16:18:39.373Z"
   },
   {
    "duration": 4,
    "start_time": "2022-03-02T16:18:39.378Z"
   },
   {
    "duration": 5,
    "start_time": "2022-03-02T16:18:39.384Z"
   },
   {
    "duration": 4,
    "start_time": "2022-03-02T16:18:39.391Z"
   },
   {
    "duration": 3,
    "start_time": "2022-03-02T16:18:39.398Z"
   },
   {
    "duration": 2,
    "start_time": "2022-03-02T16:18:39.403Z"
   },
   {
    "duration": 5,
    "start_time": "2022-03-02T16:18:39.406Z"
   },
   {
    "duration": 6,
    "start_time": "2022-03-02T16:18:39.412Z"
   },
   {
    "duration": 3,
    "start_time": "2022-03-02T16:18:39.420Z"
   },
   {
    "duration": 35,
    "start_time": "2022-03-02T16:18:39.425Z"
   },
   {
    "duration": 5,
    "start_time": "2022-03-02T16:18:39.461Z"
   },
   {
    "duration": 5,
    "start_time": "2022-03-02T16:18:39.467Z"
   },
   {
    "duration": 5,
    "start_time": "2022-03-02T16:18:39.474Z"
   },
   {
    "duration": 6,
    "start_time": "2022-03-02T16:18:39.480Z"
   },
   {
    "duration": 5,
    "start_time": "2022-03-02T16:18:39.488Z"
   },
   {
    "duration": 6,
    "start_time": "2022-03-02T16:18:39.495Z"
   },
   {
    "duration": 5,
    "start_time": "2022-03-02T16:18:39.502Z"
   },
   {
    "duration": 4,
    "start_time": "2022-03-02T16:18:39.508Z"
   },
   {
    "duration": 3,
    "start_time": "2022-03-02T16:18:39.514Z"
   },
   {
    "duration": 4,
    "start_time": "2022-03-02T16:18:39.519Z"
   },
   {
    "duration": 8,
    "start_time": "2022-03-02T16:23:41.996Z"
   },
   {
    "duration": 268,
    "start_time": "2022-03-02T16:31:03.138Z"
   },
   {
    "duration": 10,
    "start_time": "2022-03-02T16:31:20.281Z"
   },
   {
    "duration": 589,
    "start_time": "2022-03-02T16:31:26.435Z"
   },
   {
    "duration": 133,
    "start_time": "2022-03-02T16:31:27.026Z"
   },
   {
    "duration": 17,
    "start_time": "2022-03-02T16:31:27.161Z"
   },
   {
    "duration": 24,
    "start_time": "2022-03-02T16:31:27.180Z"
   },
   {
    "duration": 4,
    "start_time": "2022-03-02T16:31:27.206Z"
   },
   {
    "duration": 48,
    "start_time": "2022-03-02T16:31:27.212Z"
   },
   {
    "duration": 4,
    "start_time": "2022-03-02T16:31:27.262Z"
   },
   {
    "duration": 23,
    "start_time": "2022-03-02T16:31:27.270Z"
   },
   {
    "duration": 28,
    "start_time": "2022-03-02T16:31:27.296Z"
   },
   {
    "duration": 55,
    "start_time": "2022-03-02T16:31:27.326Z"
   },
   {
    "duration": 60,
    "start_time": "2022-03-02T16:31:27.383Z"
   },
   {
    "duration": 90,
    "start_time": "2022-03-02T16:31:27.444Z"
   },
   {
    "duration": 63,
    "start_time": "2022-03-02T16:31:27.536Z"
   },
   {
    "duration": 9,
    "start_time": "2022-03-02T16:31:27.600Z"
   },
   {
    "duration": 63,
    "start_time": "2022-03-02T16:31:27.611Z"
   },
   {
    "duration": -1544,
    "start_time": "2022-03-02T16:31:29.221Z"
   },
   {
    "duration": -1545,
    "start_time": "2022-03-02T16:31:29.223Z"
   },
   {
    "duration": -1544,
    "start_time": "2022-03-02T16:31:29.224Z"
   },
   {
    "duration": -1545,
    "start_time": "2022-03-02T16:31:29.226Z"
   },
   {
    "duration": -1545,
    "start_time": "2022-03-02T16:31:29.228Z"
   },
   {
    "duration": -1547,
    "start_time": "2022-03-02T16:31:29.231Z"
   },
   {
    "duration": -1547,
    "start_time": "2022-03-02T16:31:29.233Z"
   },
   {
    "duration": -1551,
    "start_time": "2022-03-02T16:31:29.238Z"
   },
   {
    "duration": -1551,
    "start_time": "2022-03-02T16:31:29.240Z"
   },
   {
    "duration": -1551,
    "start_time": "2022-03-02T16:31:29.241Z"
   },
   {
    "duration": -1552,
    "start_time": "2022-03-02T16:31:29.243Z"
   },
   {
    "duration": -1551,
    "start_time": "2022-03-02T16:31:29.244Z"
   },
   {
    "duration": -1557,
    "start_time": "2022-03-02T16:31:29.251Z"
   },
   {
    "duration": -1556,
    "start_time": "2022-03-02T16:31:29.252Z"
   },
   {
    "duration": -1557,
    "start_time": "2022-03-02T16:31:29.254Z"
   },
   {
    "duration": -1560,
    "start_time": "2022-03-02T16:31:29.259Z"
   },
   {
    "duration": -1561,
    "start_time": "2022-03-02T16:31:29.261Z"
   },
   {
    "duration": -1561,
    "start_time": "2022-03-02T16:31:29.263Z"
   },
   {
    "duration": -1563,
    "start_time": "2022-03-02T16:31:29.266Z"
   },
   {
    "duration": -1562,
    "start_time": "2022-03-02T16:31:29.267Z"
   },
   {
    "duration": -1563,
    "start_time": "2022-03-02T16:31:29.269Z"
   },
   {
    "duration": -1563,
    "start_time": "2022-03-02T16:31:29.271Z"
   },
   {
    "duration": -1563,
    "start_time": "2022-03-02T16:31:29.272Z"
   },
   {
    "duration": 17,
    "start_time": "2022-03-02T16:38:28.742Z"
   },
   {
    "duration": 26,
    "start_time": "2022-03-02T16:38:56.835Z"
   },
   {
    "duration": 16,
    "start_time": "2022-03-02T16:39:03.061Z"
   },
   {
    "duration": 597,
    "start_time": "2022-03-02T16:51:26.170Z"
   },
   {
    "duration": 140,
    "start_time": "2022-03-02T16:51:26.770Z"
   },
   {
    "duration": 20,
    "start_time": "2022-03-02T16:51:26.912Z"
   },
   {
    "duration": 29,
    "start_time": "2022-03-02T16:51:26.935Z"
   },
   {
    "duration": 4,
    "start_time": "2022-03-02T16:51:26.965Z"
   },
   {
    "duration": 36,
    "start_time": "2022-03-02T16:51:26.971Z"
   },
   {
    "duration": 4,
    "start_time": "2022-03-02T16:51:27.008Z"
   },
   {
    "duration": 50,
    "start_time": "2022-03-02T16:51:27.014Z"
   },
   {
    "duration": 26,
    "start_time": "2022-03-02T16:51:27.067Z"
   },
   {
    "duration": 24,
    "start_time": "2022-03-02T16:51:27.094Z"
   },
   {
    "duration": 91,
    "start_time": "2022-03-02T16:51:27.120Z"
   },
   {
    "duration": 85,
    "start_time": "2022-03-02T16:51:27.212Z"
   },
   {
    "duration": 75,
    "start_time": "2022-03-02T16:51:27.299Z"
   },
   {
    "duration": 10,
    "start_time": "2022-03-02T16:51:27.375Z"
   },
   {
    "duration": 3,
    "start_time": "2022-03-02T16:51:27.387Z"
   },
   {
    "duration": 17,
    "start_time": "2022-03-02T16:51:27.392Z"
   },
   {
    "duration": 11,
    "start_time": "2022-03-02T16:51:27.411Z"
   },
   {
    "duration": 36,
    "start_time": "2022-03-02T16:51:27.424Z"
   },
   {
    "duration": 4,
    "start_time": "2022-03-02T16:51:27.462Z"
   },
   {
    "duration": 4,
    "start_time": "2022-03-02T16:51:27.468Z"
   },
   {
    "duration": 7,
    "start_time": "2022-03-02T16:51:27.474Z"
   },
   {
    "duration": 5,
    "start_time": "2022-03-02T16:51:27.482Z"
   },
   {
    "duration": 3,
    "start_time": "2022-03-02T16:51:27.490Z"
   },
   {
    "duration": 5,
    "start_time": "2022-03-02T16:51:27.494Z"
   },
   {
    "duration": 3,
    "start_time": "2022-03-02T16:51:27.501Z"
   },
   {
    "duration": 6,
    "start_time": "2022-03-02T16:51:27.506Z"
   },
   {
    "duration": 5,
    "start_time": "2022-03-02T16:51:27.513Z"
   },
   {
    "duration": 5,
    "start_time": "2022-03-02T16:51:27.520Z"
   },
   {
    "duration": 4,
    "start_time": "2022-03-02T16:51:27.526Z"
   },
   {
    "duration": 28,
    "start_time": "2022-03-02T16:51:27.532Z"
   },
   {
    "duration": 6,
    "start_time": "2022-03-02T16:51:27.562Z"
   },
   {
    "duration": 4,
    "start_time": "2022-03-02T16:51:27.569Z"
   },
   {
    "duration": 6,
    "start_time": "2022-03-02T16:51:27.575Z"
   },
   {
    "duration": 4,
    "start_time": "2022-03-02T16:51:27.582Z"
   },
   {
    "duration": 3,
    "start_time": "2022-03-02T16:51:27.588Z"
   },
   {
    "duration": 4,
    "start_time": "2022-03-02T16:51:27.593Z"
   },
   {
    "duration": 4,
    "start_time": "2022-03-02T16:51:27.598Z"
   },
   {
    "duration": 4,
    "start_time": "2022-03-02T16:51:27.604Z"
   },
   {
    "duration": 252,
    "start_time": "2022-03-03T14:02:30.433Z"
   },
   {
    "duration": 601,
    "start_time": "2022-03-03T14:02:43.653Z"
   },
   {
    "duration": 137,
    "start_time": "2022-03-03T14:02:44.256Z"
   },
   {
    "duration": 18,
    "start_time": "2022-03-03T14:02:44.395Z"
   },
   {
    "duration": 25,
    "start_time": "2022-03-03T14:02:44.415Z"
   },
   {
    "duration": 18,
    "start_time": "2022-03-03T14:02:44.442Z"
   },
   {
    "duration": 31,
    "start_time": "2022-03-03T14:02:44.462Z"
   },
   {
    "duration": 4,
    "start_time": "2022-03-03T14:02:44.495Z"
   },
   {
    "duration": 23,
    "start_time": "2022-03-03T14:02:44.502Z"
   },
   {
    "duration": 55,
    "start_time": "2022-03-03T14:02:44.528Z"
   },
   {
    "duration": 23,
    "start_time": "2022-03-03T14:02:44.585Z"
   },
   {
    "duration": 86,
    "start_time": "2022-03-03T14:02:44.610Z"
   },
   {
    "duration": 94,
    "start_time": "2022-03-03T14:02:44.697Z"
   },
   {
    "duration": 52,
    "start_time": "2022-03-03T14:02:44.793Z"
   },
   {
    "duration": 18,
    "start_time": "2022-03-03T14:02:44.846Z"
   },
   {
    "duration": 3,
    "start_time": "2022-03-03T14:02:44.866Z"
   },
   {
    "duration": 17,
    "start_time": "2022-03-03T14:02:44.870Z"
   },
   {
    "duration": 9,
    "start_time": "2022-03-03T14:02:44.888Z"
   },
   {
    "duration": 69,
    "start_time": "2022-03-03T14:02:44.899Z"
   },
   {
    "duration": 2,
    "start_time": "2022-03-03T14:02:44.970Z"
   },
   {
    "duration": 5,
    "start_time": "2022-03-03T14:02:44.973Z"
   },
   {
    "duration": 4,
    "start_time": "2022-03-03T14:02:44.980Z"
   },
   {
    "duration": 6,
    "start_time": "2022-03-03T14:02:44.986Z"
   },
   {
    "duration": 3,
    "start_time": "2022-03-03T14:02:44.995Z"
   },
   {
    "duration": 8,
    "start_time": "2022-03-03T14:02:45.000Z"
   },
   {
    "duration": 12,
    "start_time": "2022-03-03T14:02:45.010Z"
   },
   {
    "duration": 10,
    "start_time": "2022-03-03T14:02:45.023Z"
   },
   {
    "duration": 24,
    "start_time": "2022-03-03T14:02:45.035Z"
   },
   {
    "duration": 5,
    "start_time": "2022-03-03T14:02:45.061Z"
   },
   {
    "duration": 4,
    "start_time": "2022-03-03T14:02:45.067Z"
   },
   {
    "duration": 7,
    "start_time": "2022-03-03T14:02:45.073Z"
   },
   {
    "duration": 6,
    "start_time": "2022-03-03T14:02:45.081Z"
   },
   {
    "duration": 7,
    "start_time": "2022-03-03T14:02:45.089Z"
   },
   {
    "duration": 12,
    "start_time": "2022-03-03T14:02:45.098Z"
   },
   {
    "duration": 5,
    "start_time": "2022-03-03T14:02:45.111Z"
   },
   {
    "duration": 4,
    "start_time": "2022-03-03T14:02:45.118Z"
   },
   {
    "duration": 5,
    "start_time": "2022-03-03T14:02:45.124Z"
   },
   {
    "duration": 5,
    "start_time": "2022-03-03T14:02:45.130Z"
   },
   {
    "duration": 22,
    "start_time": "2022-03-03T14:02:45.137Z"
   },
   {
    "duration": 557,
    "start_time": "2022-03-03T14:04:44.822Z"
   },
   {
    "duration": 148,
    "start_time": "2022-03-03T14:04:45.381Z"
   },
   {
    "duration": 18,
    "start_time": "2022-03-03T14:04:45.531Z"
   },
   {
    "duration": 30,
    "start_time": "2022-03-03T14:04:45.551Z"
   },
   {
    "duration": 4,
    "start_time": "2022-03-03T14:04:45.583Z"
   },
   {
    "duration": 34,
    "start_time": "2022-03-03T14:04:45.588Z"
   },
   {
    "duration": 3,
    "start_time": "2022-03-03T14:04:45.624Z"
   },
   {
    "duration": 47,
    "start_time": "2022-03-03T14:04:45.630Z"
   },
   {
    "duration": 28,
    "start_time": "2022-03-03T14:04:45.680Z"
   },
   {
    "duration": 50,
    "start_time": "2022-03-03T14:04:45.710Z"
   },
   {
    "duration": 61,
    "start_time": "2022-03-03T14:04:45.762Z"
   },
   {
    "duration": 96,
    "start_time": "2022-03-03T14:04:45.826Z"
   },
   {
    "duration": 62,
    "start_time": "2022-03-03T14:04:45.924Z"
   },
   {
    "duration": 9,
    "start_time": "2022-03-03T14:04:45.988Z"
   },
   {
    "duration": 6,
    "start_time": "2022-03-03T14:04:45.999Z"
   },
   {
    "duration": 31,
    "start_time": "2022-03-03T14:04:46.007Z"
   },
   {
    "duration": 18,
    "start_time": "2022-03-03T14:04:46.039Z"
   },
   {
    "duration": 15,
    "start_time": "2022-03-03T14:04:46.059Z"
   },
   {
    "duration": 2,
    "start_time": "2022-03-03T14:04:46.076Z"
   },
   {
    "duration": 17,
    "start_time": "2022-03-03T14:04:46.080Z"
   },
   {
    "duration": 28,
    "start_time": "2022-03-03T14:04:46.098Z"
   },
   {
    "duration": 14,
    "start_time": "2022-03-03T14:04:46.128Z"
   },
   {
    "duration": 10,
    "start_time": "2022-03-03T14:04:46.145Z"
   },
   {
    "duration": 26,
    "start_time": "2022-03-03T14:04:46.157Z"
   },
   {
    "duration": 15,
    "start_time": "2022-03-03T14:04:46.185Z"
   },
   {
    "duration": 17,
    "start_time": "2022-03-03T14:04:46.202Z"
   },
   {
    "duration": 24,
    "start_time": "2022-03-03T14:04:46.221Z"
   },
   {
    "duration": 27,
    "start_time": "2022-03-03T14:04:46.246Z"
   },
   {
    "duration": 21,
    "start_time": "2022-03-03T14:04:46.275Z"
   },
   {
    "duration": 19,
    "start_time": "2022-03-03T14:04:46.298Z"
   },
   {
    "duration": 35,
    "start_time": "2022-03-03T14:04:46.319Z"
   },
   {
    "duration": 8,
    "start_time": "2022-03-03T14:04:46.356Z"
   },
   {
    "duration": 7,
    "start_time": "2022-03-03T14:04:46.366Z"
   },
   {
    "duration": 3,
    "start_time": "2022-03-03T14:04:46.375Z"
   },
   {
    "duration": 5,
    "start_time": "2022-03-03T14:04:46.380Z"
   },
   {
    "duration": 3,
    "start_time": "2022-03-03T14:04:46.387Z"
   },
   {
    "duration": 4,
    "start_time": "2022-03-03T14:04:46.392Z"
   },
   {
    "duration": 4,
    "start_time": "2022-03-03T14:04:46.398Z"
   },
   {
    "duration": 31,
    "start_time": "2022-03-03T14:06:40.778Z"
   },
   {
    "duration": 14,
    "start_time": "2022-03-03T14:06:57.862Z"
   },
   {
    "duration": 573,
    "start_time": "2022-03-03T14:08:06.825Z"
   },
   {
    "duration": 158,
    "start_time": "2022-03-03T14:08:07.400Z"
   },
   {
    "duration": 22,
    "start_time": "2022-03-03T14:08:07.560Z"
   },
   {
    "duration": 28,
    "start_time": "2022-03-03T14:08:07.584Z"
   },
   {
    "duration": 6,
    "start_time": "2022-03-03T14:08:07.614Z"
   },
   {
    "duration": 60,
    "start_time": "2022-03-03T14:08:07.622Z"
   },
   {
    "duration": 12,
    "start_time": "2022-03-03T14:08:07.684Z"
   },
   {
    "duration": 23,
    "start_time": "2022-03-03T14:08:07.699Z"
   },
   {
    "duration": 36,
    "start_time": "2022-03-03T14:08:07.724Z"
   },
   {
    "duration": 22,
    "start_time": "2022-03-03T14:08:07.762Z"
   },
   {
    "duration": 76,
    "start_time": "2022-03-03T14:08:07.785Z"
   },
   {
    "duration": 80,
    "start_time": "2022-03-03T14:08:07.863Z"
   },
   {
    "duration": 63,
    "start_time": "2022-03-03T14:08:07.945Z"
   },
   {
    "duration": 9,
    "start_time": "2022-03-03T14:08:08.010Z"
   },
   {
    "duration": 3,
    "start_time": "2022-03-03T14:08:08.020Z"
   },
   {
    "duration": 38,
    "start_time": "2022-03-03T14:08:08.025Z"
   },
   {
    "duration": 10,
    "start_time": "2022-03-03T14:08:08.064Z"
   },
   {
    "duration": 17,
    "start_time": "2022-03-03T14:08:08.075Z"
   },
   {
    "duration": 11,
    "start_time": "2022-03-03T14:08:08.094Z"
   },
   {
    "duration": 6,
    "start_time": "2022-03-03T14:08:08.106Z"
   },
   {
    "duration": 21,
    "start_time": "2022-03-03T14:08:08.114Z"
   },
   {
    "duration": 9,
    "start_time": "2022-03-03T14:08:08.137Z"
   },
   {
    "duration": 14,
    "start_time": "2022-03-03T14:08:08.150Z"
   },
   {
    "duration": 10,
    "start_time": "2022-03-03T14:08:08.166Z"
   },
   {
    "duration": 12,
    "start_time": "2022-03-03T14:08:08.177Z"
   },
   {
    "duration": 20,
    "start_time": "2022-03-03T14:08:08.191Z"
   },
   {
    "duration": 11,
    "start_time": "2022-03-03T14:08:08.213Z"
   },
   {
    "duration": 12,
    "start_time": "2022-03-03T14:08:08.225Z"
   },
   {
    "duration": 8,
    "start_time": "2022-03-03T14:08:08.239Z"
   },
   {
    "duration": 9,
    "start_time": "2022-03-03T14:08:08.249Z"
   },
   {
    "duration": 20,
    "start_time": "2022-03-03T14:08:08.259Z"
   },
   {
    "duration": 12,
    "start_time": "2022-03-03T14:08:08.281Z"
   },
   {
    "duration": 6,
    "start_time": "2022-03-03T14:08:08.295Z"
   },
   {
    "duration": 5,
    "start_time": "2022-03-03T14:08:08.303Z"
   },
   {
    "duration": 4,
    "start_time": "2022-03-03T14:08:08.310Z"
   },
   {
    "duration": 5,
    "start_time": "2022-03-03T14:08:08.316Z"
   },
   {
    "duration": 5,
    "start_time": "2022-03-03T14:08:08.323Z"
   },
   {
    "duration": 5,
    "start_time": "2022-03-03T14:08:08.330Z"
   },
   {
    "duration": 284,
    "start_time": "2022-03-03T16:10:08.365Z"
   },
   {
    "duration": 65,
    "start_time": "2022-03-03T16:10:15.846Z"
   },
   {
    "duration": 65,
    "start_time": "2022-03-03T16:10:35.960Z"
   },
   {
    "duration": 63,
    "start_time": "2022-03-03T16:10:59.173Z"
   },
   {
    "duration": 76,
    "start_time": "2022-03-03T16:11:13.369Z"
   },
   {
    "duration": 4,
    "start_time": "2022-03-03T16:23:44.257Z"
   },
   {
    "duration": 470,
    "start_time": "2022-03-03T16:23:51.947Z"
   },
   {
    "duration": 4,
    "start_time": "2022-03-03T16:30:35.787Z"
   },
   {
    "duration": 424,
    "start_time": "2022-03-03T16:30:43.511Z"
   },
   {
    "duration": 4,
    "start_time": "2022-03-03T16:31:28.102Z"
   },
   {
    "duration": 4,
    "start_time": "2022-03-03T16:32:09.477Z"
   },
   {
    "duration": 1667,
    "start_time": "2022-03-03T16:32:20.215Z"
   },
   {
    "duration": 5,
    "start_time": "2022-03-03T16:34:23.293Z"
   },
   {
    "duration": 23,
    "start_time": "2022-03-03T16:34:27.032Z"
   },
   {
    "duration": 22,
    "start_time": "2022-03-03T16:46:20.631Z"
   },
   {
    "duration": 619,
    "start_time": "2022-03-03T16:50:20.765Z"
   },
   {
    "duration": 142,
    "start_time": "2022-03-03T16:50:21.385Z"
   },
   {
    "duration": 18,
    "start_time": "2022-03-03T16:50:21.529Z"
   },
   {
    "duration": 29,
    "start_time": "2022-03-03T16:50:21.549Z"
   },
   {
    "duration": 9,
    "start_time": "2022-03-03T16:50:21.580Z"
   },
   {
    "duration": 32,
    "start_time": "2022-03-03T16:50:21.591Z"
   },
   {
    "duration": 4,
    "start_time": "2022-03-03T16:50:21.624Z"
   },
   {
    "duration": 51,
    "start_time": "2022-03-03T16:50:21.630Z"
   },
   {
    "duration": 27,
    "start_time": "2022-03-03T16:50:21.683Z"
   },
   {
    "duration": 22,
    "start_time": "2022-03-03T16:50:21.712Z"
   },
   {
    "duration": 61,
    "start_time": "2022-03-03T16:50:21.759Z"
   },
   {
    "duration": 89,
    "start_time": "2022-03-03T16:50:21.821Z"
   },
   {
    "duration": 61,
    "start_time": "2022-03-03T16:50:21.912Z"
   },
   {
    "duration": 9,
    "start_time": "2022-03-03T16:50:21.975Z"
   },
   {
    "duration": 2,
    "start_time": "2022-03-03T16:50:21.986Z"
   },
   {
    "duration": 18,
    "start_time": "2022-03-03T16:50:21.990Z"
   },
   {
    "duration": 10,
    "start_time": "2022-03-03T16:50:22.009Z"
   },
   {
    "duration": 40,
    "start_time": "2022-03-03T16:50:22.020Z"
   },
   {
    "duration": 11,
    "start_time": "2022-03-03T16:50:22.061Z"
   },
   {
    "duration": 3,
    "start_time": "2022-03-03T16:50:22.074Z"
   },
   {
    "duration": 27,
    "start_time": "2022-03-03T16:50:22.079Z"
   },
   {
    "duration": 3,
    "start_time": "2022-03-03T16:50:22.108Z"
   },
   {
    "duration": 2,
    "start_time": "2022-03-03T16:50:22.114Z"
   },
   {
    "duration": 4,
    "start_time": "2022-03-03T16:50:22.118Z"
   },
   {
    "duration": 35,
    "start_time": "2022-03-03T16:50:22.124Z"
   },
   {
    "duration": 2,
    "start_time": "2022-03-03T16:50:22.161Z"
   },
   {
    "duration": 4,
    "start_time": "2022-03-03T16:50:22.164Z"
   },
   {
    "duration": 4,
    "start_time": "2022-03-03T16:50:22.170Z"
   },
   {
    "duration": 4,
    "start_time": "2022-03-03T16:50:22.175Z"
   },
   {
    "duration": 4,
    "start_time": "2022-03-03T16:50:22.180Z"
   },
   {
    "duration": 8,
    "start_time": "2022-03-03T16:50:22.185Z"
   },
   {
    "duration": 4,
    "start_time": "2022-03-03T16:50:22.194Z"
   },
   {
    "duration": 5,
    "start_time": "2022-03-03T16:50:22.200Z"
   },
   {
    "duration": 5,
    "start_time": "2022-03-03T16:50:22.207Z"
   },
   {
    "duration": 3,
    "start_time": "2022-03-03T16:50:22.214Z"
   },
   {
    "duration": 4,
    "start_time": "2022-03-03T16:50:22.219Z"
   },
   {
    "duration": 4,
    "start_time": "2022-03-03T16:50:22.224Z"
   },
   {
    "duration": 31,
    "start_time": "2022-03-03T16:50:22.229Z"
   },
   {
    "duration": 22,
    "start_time": "2022-03-03T16:50:45.598Z"
   },
   {
    "duration": 598,
    "start_time": "2022-03-03T16:50:52.633Z"
   },
   {
    "duration": 134,
    "start_time": "2022-03-03T16:50:53.233Z"
   },
   {
    "duration": 18,
    "start_time": "2022-03-03T16:50:53.370Z"
   },
   {
    "duration": 24,
    "start_time": "2022-03-03T16:50:53.390Z"
   },
   {
    "duration": 4,
    "start_time": "2022-03-03T16:50:53.416Z"
   },
   {
    "duration": 57,
    "start_time": "2022-03-03T16:50:53.422Z"
   },
   {
    "duration": 4,
    "start_time": "2022-03-03T16:50:53.481Z"
   },
   {
    "duration": 27,
    "start_time": "2022-03-03T16:50:53.487Z"
   },
   {
    "duration": 52,
    "start_time": "2022-03-03T16:50:53.519Z"
   },
   {
    "duration": 23,
    "start_time": "2022-03-03T16:50:53.574Z"
   },
   {
    "duration": 79,
    "start_time": "2022-03-03T16:50:53.598Z"
   },
   {
    "duration": 81,
    "start_time": "2022-03-03T16:50:53.679Z"
   },
   {
    "duration": 50,
    "start_time": "2022-03-03T16:50:53.761Z"
   },
   {
    "duration": 10,
    "start_time": "2022-03-03T16:50:53.812Z"
   },
   {
    "duration": 3,
    "start_time": "2022-03-03T16:50:53.823Z"
   },
   {
    "duration": 43,
    "start_time": "2022-03-03T16:50:53.827Z"
   },
   {
    "duration": 10,
    "start_time": "2022-03-03T16:50:53.871Z"
   },
   {
    "duration": 11,
    "start_time": "2022-03-03T16:50:53.882Z"
   },
   {
    "duration": 9,
    "start_time": "2022-03-03T16:50:53.894Z"
   },
   {
    "duration": 8,
    "start_time": "2022-03-03T16:50:53.905Z"
   },
   {
    "duration": 50,
    "start_time": "2022-03-03T16:50:53.915Z"
   },
   {
    "duration": 2,
    "start_time": "2022-03-03T16:50:53.967Z"
   },
   {
    "duration": 9,
    "start_time": "2022-03-03T16:50:53.970Z"
   },
   {
    "duration": 9,
    "start_time": "2022-03-03T16:50:53.980Z"
   },
   {
    "duration": 21,
    "start_time": "2022-03-03T16:50:53.990Z"
   },
   {
    "duration": 4,
    "start_time": "2022-03-03T16:50:54.013Z"
   },
   {
    "duration": 2,
    "start_time": "2022-03-03T16:50:54.021Z"
   },
   {
    "duration": 3,
    "start_time": "2022-03-03T16:50:54.025Z"
   },
   {
    "duration": 4,
    "start_time": "2022-03-03T16:50:54.030Z"
   },
   {
    "duration": 4,
    "start_time": "2022-03-03T16:50:54.035Z"
   },
   {
    "duration": 6,
    "start_time": "2022-03-03T16:50:54.041Z"
   },
   {
    "duration": 11,
    "start_time": "2022-03-03T16:50:54.048Z"
   },
   {
    "duration": 3,
    "start_time": "2022-03-03T16:50:54.060Z"
   },
   {
    "duration": 7,
    "start_time": "2022-03-03T16:50:54.065Z"
   },
   {
    "duration": 4,
    "start_time": "2022-03-03T16:50:54.073Z"
   },
   {
    "duration": 4,
    "start_time": "2022-03-03T16:50:54.079Z"
   },
   {
    "duration": 4,
    "start_time": "2022-03-03T16:50:54.084Z"
   },
   {
    "duration": 3,
    "start_time": "2022-03-03T16:50:54.090Z"
   },
   {
    "duration": 22,
    "start_time": "2022-03-03T16:51:45.615Z"
   },
   {
    "duration": 22,
    "start_time": "2022-03-03T16:53:23.902Z"
   },
   {
    "duration": 19,
    "start_time": "2022-03-03T16:53:44.800Z"
   },
   {
    "duration": 23,
    "start_time": "2022-03-03T16:54:19.731Z"
   },
   {
    "duration": 21,
    "start_time": "2022-03-03T16:54:37.899Z"
   },
   {
    "duration": 615,
    "start_time": "2022-03-03T16:55:30.535Z"
   },
   {
    "duration": 137,
    "start_time": "2022-03-03T16:55:31.152Z"
   },
   {
    "duration": 18,
    "start_time": "2022-03-03T16:55:31.291Z"
   },
   {
    "duration": 26,
    "start_time": "2022-03-03T16:55:31.311Z"
   },
   {
    "duration": 22,
    "start_time": "2022-03-03T16:55:31.339Z"
   },
   {
    "duration": 32,
    "start_time": "2022-03-03T16:55:31.362Z"
   },
   {
    "duration": 9,
    "start_time": "2022-03-03T16:55:31.396Z"
   },
   {
    "duration": 27,
    "start_time": "2022-03-03T16:55:31.408Z"
   },
   {
    "duration": 45,
    "start_time": "2022-03-03T16:55:31.437Z"
   },
   {
    "duration": 23,
    "start_time": "2022-03-03T16:55:31.484Z"
   },
   {
    "duration": 73,
    "start_time": "2022-03-03T16:55:31.509Z"
   },
   {
    "duration": 82,
    "start_time": "2022-03-03T16:55:31.583Z"
   },
   {
    "duration": 50,
    "start_time": "2022-03-03T16:55:31.666Z"
   },
   {
    "duration": 9,
    "start_time": "2022-03-03T16:55:31.717Z"
   },
   {
    "duration": 2,
    "start_time": "2022-03-03T16:55:31.728Z"
   },
   {
    "duration": 39,
    "start_time": "2022-03-03T16:55:31.732Z"
   },
   {
    "duration": 10,
    "start_time": "2022-03-03T16:55:31.772Z"
   },
   {
    "duration": 11,
    "start_time": "2022-03-03T16:55:31.784Z"
   },
   {
    "duration": 10,
    "start_time": "2022-03-03T16:55:31.796Z"
   },
   {
    "duration": 4,
    "start_time": "2022-03-03T16:55:31.807Z"
   },
   {
    "duration": 51,
    "start_time": "2022-03-03T16:55:31.812Z"
   },
   {
    "duration": 19,
    "start_time": "2022-03-03T16:55:31.864Z"
   },
   {
    "duration": 20,
    "start_time": "2022-03-03T16:55:31.886Z"
   },
   {
    "duration": 17,
    "start_time": "2022-03-03T16:55:31.908Z"
   },
   {
    "duration": 51,
    "start_time": "2022-03-03T16:55:31.927Z"
   },
   {
    "duration": 19,
    "start_time": "2022-03-03T16:55:31.980Z"
   },
   {
    "duration": 2,
    "start_time": "2022-03-03T16:55:32.001Z"
   },
   {
    "duration": 5,
    "start_time": "2022-03-03T16:55:32.005Z"
   },
   {
    "duration": 5,
    "start_time": "2022-03-03T16:55:32.011Z"
   },
   {
    "duration": 7,
    "start_time": "2022-03-03T16:55:32.018Z"
   },
   {
    "duration": 13,
    "start_time": "2022-03-03T16:55:32.026Z"
   },
   {
    "duration": 5,
    "start_time": "2022-03-03T16:55:32.040Z"
   },
   {
    "duration": 2,
    "start_time": "2022-03-03T16:55:32.059Z"
   },
   {
    "duration": 4,
    "start_time": "2022-03-03T16:55:32.063Z"
   },
   {
    "duration": 7,
    "start_time": "2022-03-03T16:55:32.068Z"
   },
   {
    "duration": 7,
    "start_time": "2022-03-03T16:55:32.077Z"
   },
   {
    "duration": 5,
    "start_time": "2022-03-03T16:55:32.085Z"
   },
   {
    "duration": 5,
    "start_time": "2022-03-03T16:55:32.092Z"
   },
   {
    "duration": 4,
    "start_time": "2022-03-03T17:04:45.671Z"
   },
   {
    "duration": 456,
    "start_time": "2022-03-03T17:04:53.234Z"
   },
   {
    "duration": 4,
    "start_time": "2022-03-03T17:05:34.187Z"
   },
   {
    "duration": 17,
    "start_time": "2022-03-03T17:05:39.239Z"
   },
   {
    "duration": 16,
    "start_time": "2022-03-03T17:05:44.753Z"
   },
   {
    "duration": 17,
    "start_time": "2022-03-03T17:05:47.646Z"
   },
   {
    "duration": 531,
    "start_time": "2022-03-03T17:05:53.712Z"
   },
   {
    "duration": 137,
    "start_time": "2022-03-03T17:05:54.245Z"
   },
   {
    "duration": 18,
    "start_time": "2022-03-03T17:05:54.385Z"
   },
   {
    "duration": 25,
    "start_time": "2022-03-03T17:05:54.405Z"
   },
   {
    "duration": 4,
    "start_time": "2022-03-03T17:05:54.432Z"
   },
   {
    "duration": 48,
    "start_time": "2022-03-03T17:05:54.438Z"
   },
   {
    "duration": 4,
    "start_time": "2022-03-03T17:05:54.488Z"
   },
   {
    "duration": 24,
    "start_time": "2022-03-03T17:05:54.494Z"
   },
   {
    "duration": 49,
    "start_time": "2022-03-03T17:05:54.520Z"
   },
   {
    "duration": 23,
    "start_time": "2022-03-03T17:05:54.571Z"
   },
   {
    "duration": 79,
    "start_time": "2022-03-03T17:05:54.596Z"
   },
   {
    "duration": 84,
    "start_time": "2022-03-03T17:05:54.677Z"
   },
   {
    "duration": 49,
    "start_time": "2022-03-03T17:05:54.763Z"
   },
   {
    "duration": 9,
    "start_time": "2022-03-03T17:05:54.814Z"
   },
   {
    "duration": 2,
    "start_time": "2022-03-03T17:05:54.825Z"
   },
   {
    "duration": 37,
    "start_time": "2022-03-03T17:05:54.829Z"
   },
   {
    "duration": 10,
    "start_time": "2022-03-03T17:05:54.868Z"
   },
   {
    "duration": 12,
    "start_time": "2022-03-03T17:05:54.879Z"
   },
   {
    "duration": 11,
    "start_time": "2022-03-03T17:05:54.893Z"
   },
   {
    "duration": 3,
    "start_time": "2022-03-03T17:05:54.905Z"
   },
   {
    "duration": 50,
    "start_time": "2022-03-03T17:05:54.910Z"
   },
   {
    "duration": 14,
    "start_time": "2022-03-03T17:05:54.962Z"
   },
   {
    "duration": 15,
    "start_time": "2022-03-03T17:05:54.980Z"
   },
   {
    "duration": 14,
    "start_time": "2022-03-03T17:05:54.997Z"
   },
   {
    "duration": 18,
    "start_time": "2022-03-03T17:05:55.013Z"
   },
   {
    "duration": 15,
    "start_time": "2022-03-03T17:05:55.060Z"
   },
   {
    "duration": 3,
    "start_time": "2022-03-03T17:05:55.076Z"
   },
   {
    "duration": 4,
    "start_time": "2022-03-03T17:05:55.080Z"
   },
   {
    "duration": 4,
    "start_time": "2022-03-03T17:05:55.085Z"
   },
   {
    "duration": 3,
    "start_time": "2022-03-03T17:05:55.091Z"
   },
   {
    "duration": 7,
    "start_time": "2022-03-03T17:05:55.096Z"
   },
   {
    "duration": 8,
    "start_time": "2022-03-03T17:05:55.105Z"
   },
   {
    "duration": 7,
    "start_time": "2022-03-03T17:05:55.114Z"
   },
   {
    "duration": 4,
    "start_time": "2022-03-03T17:05:55.122Z"
   },
   {
    "duration": 4,
    "start_time": "2022-03-03T17:05:55.128Z"
   },
   {
    "duration": 27,
    "start_time": "2022-03-03T17:05:55.133Z"
   },
   {
    "duration": 4,
    "start_time": "2022-03-03T17:05:55.162Z"
   },
   {
    "duration": 5,
    "start_time": "2022-03-03T17:05:55.168Z"
   },
   {
    "duration": 244,
    "start_time": "2022-03-03T17:11:23.637Z"
   },
   {
    "duration": 552,
    "start_time": "2022-03-03T17:11:44.621Z"
   },
   {
    "duration": 136,
    "start_time": "2022-03-03T17:11:45.175Z"
   },
   {
    "duration": 18,
    "start_time": "2022-03-03T17:11:45.313Z"
   },
   {
    "duration": 34,
    "start_time": "2022-03-03T17:11:45.332Z"
   },
   {
    "duration": 5,
    "start_time": "2022-03-03T17:11:45.368Z"
   },
   {
    "duration": 32,
    "start_time": "2022-03-03T17:11:45.374Z"
   },
   {
    "duration": 4,
    "start_time": "2022-03-03T17:11:45.408Z"
   },
   {
    "duration": 52,
    "start_time": "2022-03-03T17:11:45.415Z"
   },
   {
    "duration": 27,
    "start_time": "2022-03-03T17:11:45.469Z"
   },
   {
    "duration": 23,
    "start_time": "2022-03-03T17:11:45.498Z"
   },
   {
    "duration": 82,
    "start_time": "2022-03-03T17:11:45.522Z"
   },
   {
    "duration": 88,
    "start_time": "2022-03-03T17:11:45.606Z"
   },
   {
    "duration": 49,
    "start_time": "2022-03-03T17:11:45.696Z"
   },
   {
    "duration": 17,
    "start_time": "2022-03-03T17:11:45.747Z"
   },
   {
    "duration": 2,
    "start_time": "2022-03-03T17:11:45.766Z"
   },
   {
    "duration": 17,
    "start_time": "2022-03-03T17:11:45.770Z"
   },
   {
    "duration": 10,
    "start_time": "2022-03-03T17:11:45.788Z"
   },
   {
    "duration": 11,
    "start_time": "2022-03-03T17:11:45.799Z"
   },
   {
    "duration": 49,
    "start_time": "2022-03-03T17:11:45.811Z"
   },
   {
    "duration": 3,
    "start_time": "2022-03-03T17:11:45.862Z"
   },
   {
    "duration": 467,
    "start_time": "2022-03-03T17:11:45.866Z"
   },
   {
    "duration": -163,
    "start_time": "2022-03-03T17:11:46.499Z"
   },
   {
    "duration": -164,
    "start_time": "2022-03-03T17:11:46.501Z"
   },
   {
    "duration": -163,
    "start_time": "2022-03-03T17:11:46.502Z"
   },
   {
    "duration": -164,
    "start_time": "2022-03-03T17:11:46.504Z"
   },
   {
    "duration": -164,
    "start_time": "2022-03-03T17:11:46.506Z"
   },
   {
    "duration": -166,
    "start_time": "2022-03-03T17:11:46.509Z"
   },
   {
    "duration": -166,
    "start_time": "2022-03-03T17:11:46.511Z"
   },
   {
    "duration": -167,
    "start_time": "2022-03-03T17:11:46.513Z"
   },
   {
    "duration": -167,
    "start_time": "2022-03-03T17:11:46.515Z"
   },
   {
    "duration": -168,
    "start_time": "2022-03-03T17:11:46.517Z"
   },
   {
    "duration": -173,
    "start_time": "2022-03-03T17:11:46.524Z"
   },
   {
    "duration": -176,
    "start_time": "2022-03-03T17:11:46.528Z"
   },
   {
    "duration": -177,
    "start_time": "2022-03-03T17:11:46.531Z"
   },
   {
    "duration": -177,
    "start_time": "2022-03-03T17:11:46.533Z"
   },
   {
    "duration": -177,
    "start_time": "2022-03-03T17:11:46.534Z"
   },
   {
    "duration": -178,
    "start_time": "2022-03-03T17:11:46.536Z"
   },
   {
    "duration": -178,
    "start_time": "2022-03-03T17:11:46.538Z"
   },
   {
    "duration": 590,
    "start_time": "2022-03-03T17:12:24.630Z"
   },
   {
    "duration": 150,
    "start_time": "2022-03-03T17:12:25.224Z"
   },
   {
    "duration": 18,
    "start_time": "2022-03-03T17:12:25.377Z"
   },
   {
    "duration": 28,
    "start_time": "2022-03-03T17:12:25.397Z"
   },
   {
    "duration": 4,
    "start_time": "2022-03-03T17:12:25.426Z"
   },
   {
    "duration": 54,
    "start_time": "2022-03-03T17:12:25.432Z"
   },
   {
    "duration": 4,
    "start_time": "2022-03-03T17:12:25.487Z"
   },
   {
    "duration": 26,
    "start_time": "2022-03-03T17:12:25.493Z"
   },
   {
    "duration": 44,
    "start_time": "2022-03-03T17:12:25.521Z"
   },
   {
    "duration": 23,
    "start_time": "2022-03-03T17:12:25.567Z"
   },
   {
    "duration": 85,
    "start_time": "2022-03-03T17:12:25.592Z"
   },
   {
    "duration": 81,
    "start_time": "2022-03-03T17:12:25.679Z"
   },
   {
    "duration": 50,
    "start_time": "2022-03-03T17:12:25.762Z"
   },
   {
    "duration": 10,
    "start_time": "2022-03-03T17:12:25.813Z"
   },
   {
    "duration": 2,
    "start_time": "2022-03-03T17:12:25.825Z"
   },
   {
    "duration": 43,
    "start_time": "2022-03-03T17:12:25.829Z"
   },
   {
    "duration": 10,
    "start_time": "2022-03-03T17:12:25.874Z"
   },
   {
    "duration": 11,
    "start_time": "2022-03-03T17:12:25.885Z"
   },
   {
    "duration": 10,
    "start_time": "2022-03-03T17:12:25.897Z"
   },
   {
    "duration": 3,
    "start_time": "2022-03-03T17:12:25.908Z"
   },
   {
    "duration": 441,
    "start_time": "2022-03-03T17:12:25.912Z"
   },
   {
    "duration": -115,
    "start_time": "2022-03-03T17:12:26.471Z"
   },
   {
    "duration": -119,
    "start_time": "2022-03-03T17:12:26.476Z"
   },
   {
    "duration": -120,
    "start_time": "2022-03-03T17:12:26.478Z"
   },
   {
    "duration": -121,
    "start_time": "2022-03-03T17:12:26.480Z"
   },
   {
    "duration": -121,
    "start_time": "2022-03-03T17:12:26.482Z"
   },
   {
    "duration": -122,
    "start_time": "2022-03-03T17:12:26.484Z"
   },
   {
    "duration": -134,
    "start_time": "2022-03-03T17:12:26.497Z"
   },
   {
    "duration": -137,
    "start_time": "2022-03-03T17:12:26.501Z"
   },
   {
    "duration": -137,
    "start_time": "2022-03-03T17:12:26.503Z"
   },
   {
    "duration": -140,
    "start_time": "2022-03-03T17:12:26.507Z"
   },
   {
    "duration": -142,
    "start_time": "2022-03-03T17:12:26.510Z"
   },
   {
    "duration": -144,
    "start_time": "2022-03-03T17:12:26.513Z"
   },
   {
    "duration": -145,
    "start_time": "2022-03-03T17:12:26.515Z"
   },
   {
    "duration": -145,
    "start_time": "2022-03-03T17:12:26.517Z"
   },
   {
    "duration": -145,
    "start_time": "2022-03-03T17:12:26.518Z"
   },
   {
    "duration": -146,
    "start_time": "2022-03-03T17:12:26.520Z"
   },
   {
    "duration": -150,
    "start_time": "2022-03-03T17:12:26.525Z"
   },
   {
    "duration": 618,
    "start_time": "2022-03-03T17:13:24.145Z"
   },
   {
    "duration": 141,
    "start_time": "2022-03-03T17:13:24.764Z"
   },
   {
    "duration": 19,
    "start_time": "2022-03-03T17:13:24.907Z"
   },
   {
    "duration": 41,
    "start_time": "2022-03-03T17:13:24.927Z"
   },
   {
    "duration": 4,
    "start_time": "2022-03-03T17:13:24.969Z"
   },
   {
    "duration": 31,
    "start_time": "2022-03-03T17:13:24.975Z"
   },
   {
    "duration": 4,
    "start_time": "2022-03-03T17:13:25.008Z"
   },
   {
    "duration": 55,
    "start_time": "2022-03-03T17:13:25.014Z"
   },
   {
    "duration": 30,
    "start_time": "2022-03-03T17:13:25.071Z"
   },
   {
    "duration": 24,
    "start_time": "2022-03-03T17:13:25.103Z"
   },
   {
    "duration": 84,
    "start_time": "2022-03-03T17:13:25.129Z"
   },
   {
    "duration": 88,
    "start_time": "2022-03-03T17:13:25.215Z"
   },
   {
    "duration": 63,
    "start_time": "2022-03-03T17:13:25.304Z"
   },
   {
    "duration": 10,
    "start_time": "2022-03-03T17:13:25.369Z"
   },
   {
    "duration": 8,
    "start_time": "2022-03-03T17:13:25.380Z"
   },
   {
    "duration": 25,
    "start_time": "2022-03-03T17:13:25.389Z"
   },
   {
    "duration": 14,
    "start_time": "2022-03-03T17:13:25.415Z"
   },
   {
    "duration": 34,
    "start_time": "2022-03-03T17:13:25.431Z"
   },
   {
    "duration": 11,
    "start_time": "2022-03-03T17:13:25.466Z"
   },
   {
    "duration": 9,
    "start_time": "2022-03-03T17:13:25.479Z"
   },
   {
    "duration": 35,
    "start_time": "2022-03-03T17:13:25.490Z"
   },
   {
    "duration": 20,
    "start_time": "2022-03-03T17:13:25.527Z"
   },
   {
    "duration": 20,
    "start_time": "2022-03-03T17:13:25.550Z"
   },
   {
    "duration": 23,
    "start_time": "2022-03-03T17:13:25.572Z"
   },
   {
    "duration": 25,
    "start_time": "2022-03-03T17:13:25.596Z"
   },
   {
    "duration": 14,
    "start_time": "2022-03-03T17:13:25.623Z"
   },
   {
    "duration": 301,
    "start_time": "2022-03-03T17:13:25.639Z"
   },
   {
    "duration": -117,
    "start_time": "2022-03-03T17:13:26.059Z"
   },
   {
    "duration": -119,
    "start_time": "2022-03-03T17:13:26.062Z"
   },
   {
    "duration": -119,
    "start_time": "2022-03-03T17:13:26.063Z"
   },
   {
    "duration": -120,
    "start_time": "2022-03-03T17:13:26.065Z"
   },
   {
    "duration": -120,
    "start_time": "2022-03-03T17:13:26.066Z"
   },
   {
    "duration": -124,
    "start_time": "2022-03-03T17:13:26.072Z"
   },
   {
    "duration": -134,
    "start_time": "2022-03-03T17:13:26.083Z"
   },
   {
    "duration": -135,
    "start_time": "2022-03-03T17:13:26.085Z"
   },
   {
    "duration": -136,
    "start_time": "2022-03-03T17:13:26.087Z"
   },
   {
    "duration": -137,
    "start_time": "2022-03-03T17:13:26.089Z"
   },
   {
    "duration": -158,
    "start_time": "2022-03-03T17:13:26.111Z"
   },
   {
    "duration": 192,
    "start_time": "2022-03-03T17:14:33.719Z"
   },
   {
    "duration": 203,
    "start_time": "2022-03-03T17:15:31.013Z"
   },
   {
    "duration": 72,
    "start_time": "2022-03-03T17:24:23.951Z"
   },
   {
    "duration": 529,
    "start_time": "2022-03-03T17:24:35.916Z"
   },
   {
    "duration": 139,
    "start_time": "2022-03-03T17:24:36.447Z"
   },
   {
    "duration": 17,
    "start_time": "2022-03-03T17:24:36.588Z"
   },
   {
    "duration": 24,
    "start_time": "2022-03-03T17:24:36.607Z"
   },
   {
    "duration": 4,
    "start_time": "2022-03-03T17:24:36.633Z"
   },
   {
    "duration": 30,
    "start_time": "2022-03-03T17:24:36.659Z"
   },
   {
    "duration": 4,
    "start_time": "2022-03-03T17:24:36.691Z"
   },
   {
    "duration": 25,
    "start_time": "2022-03-03T17:24:36.697Z"
   },
   {
    "duration": 48,
    "start_time": "2022-03-03T17:24:36.724Z"
   },
   {
    "duration": 23,
    "start_time": "2022-03-03T17:24:36.774Z"
   },
   {
    "duration": 74,
    "start_time": "2022-03-03T17:24:36.798Z"
   },
   {
    "duration": 87,
    "start_time": "2022-03-03T17:24:36.874Z"
   },
   {
    "duration": 50,
    "start_time": "2022-03-03T17:24:36.962Z"
   },
   {
    "duration": 10,
    "start_time": "2022-03-03T17:24:37.013Z"
   },
   {
    "duration": 3,
    "start_time": "2022-03-03T17:24:37.024Z"
   },
   {
    "duration": 38,
    "start_time": "2022-03-03T17:24:37.029Z"
   },
   {
    "duration": 12,
    "start_time": "2022-03-03T17:24:37.068Z"
   },
   {
    "duration": 11,
    "start_time": "2022-03-03T17:24:37.082Z"
   },
   {
    "duration": 13,
    "start_time": "2022-03-03T17:24:37.094Z"
   },
   {
    "duration": 3,
    "start_time": "2022-03-03T17:24:37.109Z"
   },
   {
    "duration": 20,
    "start_time": "2022-03-03T17:24:37.114Z"
   },
   {
    "duration": 14,
    "start_time": "2022-03-03T17:24:37.159Z"
   },
   {
    "duration": 15,
    "start_time": "2022-03-03T17:24:37.177Z"
   },
   {
    "duration": 13,
    "start_time": "2022-03-03T17:24:37.194Z"
   },
   {
    "duration": 15,
    "start_time": "2022-03-03T17:24:37.209Z"
   },
   {
    "duration": 43,
    "start_time": "2022-03-03T17:24:37.225Z"
   },
   {
    "duration": 68,
    "start_time": "2022-03-03T17:24:37.270Z"
   },
   {
    "duration": 19,
    "start_time": "2022-03-03T17:24:37.340Z"
   },
   {
    "duration": 3,
    "start_time": "2022-03-03T17:24:37.361Z"
   },
   {
    "duration": 4,
    "start_time": "2022-03-03T17:24:37.366Z"
   },
   {
    "duration": 6,
    "start_time": "2022-03-03T17:24:37.372Z"
   },
   {
    "duration": 4,
    "start_time": "2022-03-03T17:24:37.379Z"
   },
   {
    "duration": 6,
    "start_time": "2022-03-03T17:24:37.385Z"
   },
   {
    "duration": 4,
    "start_time": "2022-03-03T17:24:37.392Z"
   },
   {
    "duration": 3,
    "start_time": "2022-03-03T17:24:37.398Z"
   },
   {
    "duration": 4,
    "start_time": "2022-03-03T17:24:37.403Z"
   },
   {
    "duration": 4,
    "start_time": "2022-03-03T17:24:37.408Z"
   },
   {
    "duration": 4,
    "start_time": "2022-03-03T17:24:37.414Z"
   },
   {
    "duration": 10,
    "start_time": "2022-03-03T17:27:04.262Z"
   },
   {
    "duration": 635,
    "start_time": "2022-03-03T17:27:09.272Z"
   },
   {
    "duration": 143,
    "start_time": "2022-03-03T17:27:09.910Z"
   },
   {
    "duration": 20,
    "start_time": "2022-03-03T17:27:10.055Z"
   },
   {
    "duration": 25,
    "start_time": "2022-03-03T17:27:10.077Z"
   },
   {
    "duration": 5,
    "start_time": "2022-03-03T17:27:10.104Z"
   },
   {
    "duration": 52,
    "start_time": "2022-03-03T17:27:10.111Z"
   },
   {
    "duration": 4,
    "start_time": "2022-03-03T17:27:10.165Z"
   },
   {
    "duration": 23,
    "start_time": "2022-03-03T17:27:10.172Z"
   },
   {
    "duration": 28,
    "start_time": "2022-03-03T17:27:10.197Z"
   },
   {
    "duration": 50,
    "start_time": "2022-03-03T17:27:10.227Z"
   },
   {
    "duration": 60,
    "start_time": "2022-03-03T17:27:10.279Z"
   },
   {
    "duration": 71,
    "start_time": "2022-03-03T17:27:10.360Z"
   },
   {
    "duration": 67,
    "start_time": "2022-03-03T17:27:10.434Z"
   },
   {
    "duration": 10,
    "start_time": "2022-03-03T17:27:10.504Z"
   },
   {
    "duration": 4,
    "start_time": "2022-03-03T17:27:10.517Z"
   },
   {
    "duration": 53,
    "start_time": "2022-03-03T17:27:10.523Z"
   },
   {
    "duration": 13,
    "start_time": "2022-03-03T17:27:10.578Z"
   },
   {
    "duration": 15,
    "start_time": "2022-03-03T17:27:10.593Z"
   },
   {
    "duration": 12,
    "start_time": "2022-03-03T17:27:10.610Z"
   },
   {
    "duration": 3,
    "start_time": "2022-03-03T17:27:10.624Z"
   },
   {
    "duration": 45,
    "start_time": "2022-03-03T17:27:10.629Z"
   },
   {
    "duration": 15,
    "start_time": "2022-03-03T17:27:10.676Z"
   },
   {
    "duration": 16,
    "start_time": "2022-03-03T17:27:10.694Z"
   },
   {
    "duration": 48,
    "start_time": "2022-03-03T17:27:10.712Z"
   },
   {
    "duration": 19,
    "start_time": "2022-03-03T17:27:10.762Z"
   },
   {
    "duration": 15,
    "start_time": "2022-03-03T17:27:10.783Z"
   },
   {
    "duration": 97,
    "start_time": "2022-03-03T17:27:10.800Z"
   },
   {
    "duration": 10,
    "start_time": "2022-03-03T17:27:10.899Z"
   },
   {
    "duration": 3,
    "start_time": "2022-03-03T17:27:10.911Z"
   },
   {
    "duration": 5,
    "start_time": "2022-03-03T17:27:10.915Z"
   },
   {
    "duration": 7,
    "start_time": "2022-03-03T17:27:10.922Z"
   },
   {
    "duration": 28,
    "start_time": "2022-03-03T17:27:10.931Z"
   },
   {
    "duration": 9,
    "start_time": "2022-03-03T17:27:10.961Z"
   },
   {
    "duration": 4,
    "start_time": "2022-03-03T17:27:10.972Z"
   },
   {
    "duration": 4,
    "start_time": "2022-03-03T17:27:10.978Z"
   },
   {
    "duration": 4,
    "start_time": "2022-03-03T17:27:10.983Z"
   },
   {
    "duration": 5,
    "start_time": "2022-03-03T17:27:10.989Z"
   },
   {
    "duration": 4,
    "start_time": "2022-03-03T17:27:10.996Z"
   },
   {
    "duration": 68,
    "start_time": "2022-03-03T17:27:34.913Z"
   },
   {
    "duration": 576,
    "start_time": "2022-03-03T17:27:50.379Z"
   },
   {
    "duration": 132,
    "start_time": "2022-03-03T17:27:50.957Z"
   },
   {
    "duration": 15,
    "start_time": "2022-03-03T17:27:51.093Z"
   },
   {
    "duration": 24,
    "start_time": "2022-03-03T17:27:51.110Z"
   },
   {
    "duration": 4,
    "start_time": "2022-03-03T17:27:51.135Z"
   },
   {
    "duration": 31,
    "start_time": "2022-03-03T17:27:51.159Z"
   },
   {
    "duration": 6,
    "start_time": "2022-03-03T17:27:51.191Z"
   },
   {
    "duration": 24,
    "start_time": "2022-03-03T17:27:51.200Z"
   },
   {
    "duration": 51,
    "start_time": "2022-03-03T17:27:51.226Z"
   },
   {
    "duration": 23,
    "start_time": "2022-03-03T17:27:51.279Z"
   },
   {
    "duration": 76,
    "start_time": "2022-03-03T17:27:51.303Z"
   },
   {
    "duration": 81,
    "start_time": "2022-03-03T17:27:51.381Z"
   },
   {
    "duration": 53,
    "start_time": "2022-03-03T17:27:51.463Z"
   },
   {
    "duration": 10,
    "start_time": "2022-03-03T17:27:51.517Z"
   },
   {
    "duration": 3,
    "start_time": "2022-03-03T17:27:51.528Z"
   },
   {
    "duration": 37,
    "start_time": "2022-03-03T17:27:51.533Z"
   },
   {
    "duration": 9,
    "start_time": "2022-03-03T17:27:51.572Z"
   },
   {
    "duration": 10,
    "start_time": "2022-03-03T17:27:51.583Z"
   },
   {
    "duration": 11,
    "start_time": "2022-03-03T17:27:51.595Z"
   },
   {
    "duration": 4,
    "start_time": "2022-03-03T17:27:51.607Z"
   },
   {
    "duration": 51,
    "start_time": "2022-03-03T17:27:51.612Z"
   },
   {
    "duration": 14,
    "start_time": "2022-03-03T17:27:51.665Z"
   },
   {
    "duration": 14,
    "start_time": "2022-03-03T17:27:51.681Z"
   },
   {
    "duration": 13,
    "start_time": "2022-03-03T17:27:51.696Z"
   },
   {
    "duration": 14,
    "start_time": "2022-03-03T17:27:51.711Z"
   },
   {
    "duration": 42,
    "start_time": "2022-03-03T17:27:51.728Z"
   },
   {
    "duration": 63,
    "start_time": "2022-03-03T17:27:51.771Z"
   },
   {
    "duration": 27,
    "start_time": "2022-03-03T17:27:51.835Z"
   },
   {
    "duration": 9,
    "start_time": "2022-03-03T17:27:51.864Z"
   },
   {
    "duration": 2,
    "start_time": "2022-03-03T17:27:51.874Z"
   },
   {
    "duration": 5,
    "start_time": "2022-03-03T17:27:51.878Z"
   },
   {
    "duration": 4,
    "start_time": "2022-03-03T17:27:51.884Z"
   },
   {
    "duration": 7,
    "start_time": "2022-03-03T17:27:51.889Z"
   },
   {
    "duration": 7,
    "start_time": "2022-03-03T17:27:51.897Z"
   },
   {
    "duration": 10,
    "start_time": "2022-03-03T17:27:51.906Z"
   },
   {
    "duration": 7,
    "start_time": "2022-03-03T17:27:51.918Z"
   },
   {
    "duration": 8,
    "start_time": "2022-03-03T17:27:51.926Z"
   },
   {
    "duration": 4,
    "start_time": "2022-03-03T17:27:51.935Z"
   },
   {
    "duration": 4,
    "start_time": "2022-03-03T18:00:02.809Z"
   },
   {
    "duration": 462,
    "start_time": "2022-03-03T18:10:12.412Z"
   },
   {
    "duration": 5,
    "start_time": "2022-03-03T18:14:12.536Z"
   },
   {
    "duration": 21,
    "start_time": "2022-03-03T18:14:16.868Z"
   },
   {
    "duration": 625,
    "start_time": "2022-03-03T18:14:26.035Z"
   },
   {
    "duration": 148,
    "start_time": "2022-03-03T18:14:26.662Z"
   },
   {
    "duration": 19,
    "start_time": "2022-03-03T18:14:26.812Z"
   },
   {
    "duration": 34,
    "start_time": "2022-03-03T18:14:26.832Z"
   },
   {
    "duration": 4,
    "start_time": "2022-03-03T18:14:26.868Z"
   },
   {
    "duration": 35,
    "start_time": "2022-03-03T18:14:26.873Z"
   },
   {
    "duration": 5,
    "start_time": "2022-03-03T18:14:26.910Z"
   },
   {
    "duration": 50,
    "start_time": "2022-03-03T18:14:26.917Z"
   },
   {
    "duration": 27,
    "start_time": "2022-03-03T18:14:26.970Z"
   },
   {
    "duration": 24,
    "start_time": "2022-03-03T18:14:26.999Z"
   },
   {
    "duration": 91,
    "start_time": "2022-03-03T18:14:27.025Z"
   },
   {
    "duration": 91,
    "start_time": "2022-03-03T18:14:27.118Z"
   },
   {
    "duration": 62,
    "start_time": "2022-03-03T18:14:27.211Z"
   },
   {
    "duration": 10,
    "start_time": "2022-03-03T18:14:27.275Z"
   },
   {
    "duration": 2,
    "start_time": "2022-03-03T18:14:27.287Z"
   },
   {
    "duration": 19,
    "start_time": "2022-03-03T18:14:27.291Z"
   },
   {
    "duration": 10,
    "start_time": "2022-03-03T18:14:27.312Z"
   },
   {
    "duration": 41,
    "start_time": "2022-03-03T18:14:27.323Z"
   },
   {
    "duration": 11,
    "start_time": "2022-03-03T18:14:27.366Z"
   },
   {
    "duration": 3,
    "start_time": "2022-03-03T18:14:27.379Z"
   },
   {
    "duration": 20,
    "start_time": "2022-03-03T18:14:27.384Z"
   },
   {
    "duration": 15,
    "start_time": "2022-03-03T18:14:27.406Z"
   },
   {
    "duration": 48,
    "start_time": "2022-03-03T18:14:27.423Z"
   },
   {
    "duration": 16,
    "start_time": "2022-03-03T18:14:27.473Z"
   },
   {
    "duration": 18,
    "start_time": "2022-03-03T18:14:27.491Z"
   },
   {
    "duration": 15,
    "start_time": "2022-03-03T18:14:27.511Z"
   },
   {
    "duration": 106,
    "start_time": "2022-03-03T18:14:27.529Z"
   },
   {
    "duration": 24,
    "start_time": "2022-03-03T18:14:27.637Z"
   },
   {
    "duration": 9,
    "start_time": "2022-03-03T18:14:27.663Z"
   },
   {
    "duration": 6,
    "start_time": "2022-03-03T18:14:27.674Z"
   },
   {
    "duration": 24,
    "start_time": "2022-03-03T18:14:27.682Z"
   },
   {
    "duration": 2,
    "start_time": "2022-03-03T18:14:27.708Z"
   },
   {
    "duration": 10,
    "start_time": "2022-03-03T18:14:27.712Z"
   },
   {
    "duration": 5,
    "start_time": "2022-03-03T18:14:27.723Z"
   },
   {
    "duration": 5,
    "start_time": "2022-03-03T18:14:27.730Z"
   },
   {
    "duration": 23,
    "start_time": "2022-03-03T18:14:27.737Z"
   },
   {
    "duration": 4,
    "start_time": "2022-03-03T18:14:27.762Z"
   },
   {
    "duration": 10,
    "start_time": "2022-03-03T18:14:27.768Z"
   },
   {
    "duration": 21,
    "start_time": "2022-03-03T18:16:23.458Z"
   },
   {
    "duration": 560,
    "start_time": "2022-03-03T18:16:28.617Z"
   },
   {
    "duration": 149,
    "start_time": "2022-03-03T18:16:29.180Z"
   },
   {
    "duration": 28,
    "start_time": "2022-03-03T18:16:29.332Z"
   },
   {
    "duration": 27,
    "start_time": "2022-03-03T18:16:29.363Z"
   },
   {
    "duration": 5,
    "start_time": "2022-03-03T18:16:29.391Z"
   },
   {
    "duration": 35,
    "start_time": "2022-03-03T18:16:29.397Z"
   },
   {
    "duration": 4,
    "start_time": "2022-03-03T18:16:29.459Z"
   },
   {
    "duration": 29,
    "start_time": "2022-03-03T18:16:29.464Z"
   },
   {
    "duration": 28,
    "start_time": "2022-03-03T18:16:29.496Z"
   },
   {
    "duration": 44,
    "start_time": "2022-03-03T18:16:29.527Z"
   },
   {
    "duration": 63,
    "start_time": "2022-03-03T18:16:29.573Z"
   },
   {
    "duration": 100,
    "start_time": "2022-03-03T18:16:29.637Z"
   },
   {
    "duration": 68,
    "start_time": "2022-03-03T18:16:29.739Z"
   },
   {
    "duration": 10,
    "start_time": "2022-03-03T18:16:29.808Z"
   },
   {
    "duration": 2,
    "start_time": "2022-03-03T18:16:29.820Z"
   },
   {
    "duration": 39,
    "start_time": "2022-03-03T18:16:29.824Z"
   },
   {
    "duration": 10,
    "start_time": "2022-03-03T18:16:29.865Z"
   },
   {
    "duration": 12,
    "start_time": "2022-03-03T18:16:29.877Z"
   },
   {
    "duration": 11,
    "start_time": "2022-03-03T18:16:29.891Z"
   },
   {
    "duration": 3,
    "start_time": "2022-03-03T18:16:29.904Z"
   },
   {
    "duration": 51,
    "start_time": "2022-03-03T18:16:29.909Z"
   },
   {
    "duration": 15,
    "start_time": "2022-03-03T18:16:29.962Z"
   },
   {
    "duration": 16,
    "start_time": "2022-03-03T18:16:29.978Z"
   },
   {
    "duration": 20,
    "start_time": "2022-03-03T18:16:29.996Z"
   },
   {
    "duration": 49,
    "start_time": "2022-03-03T18:16:30.018Z"
   },
   {
    "duration": 17,
    "start_time": "2022-03-03T18:16:30.069Z"
   },
   {
    "duration": 102,
    "start_time": "2022-03-03T18:16:30.090Z"
   },
   {
    "duration": 12,
    "start_time": "2022-03-03T18:16:30.195Z"
   },
   {
    "duration": 16,
    "start_time": "2022-03-03T18:16:30.209Z"
   },
   {
    "duration": 8,
    "start_time": "2022-03-03T18:16:30.227Z"
   },
   {
    "duration": 46,
    "start_time": "2022-03-03T18:16:30.237Z"
   },
   {
    "duration": 3,
    "start_time": "2022-03-03T18:16:30.285Z"
   },
   {
    "duration": 19,
    "start_time": "2022-03-03T18:16:30.290Z"
   },
   {
    "duration": 17,
    "start_time": "2022-03-03T18:16:30.311Z"
   },
   {
    "duration": 14,
    "start_time": "2022-03-03T18:16:30.330Z"
   },
   {
    "duration": 7,
    "start_time": "2022-03-03T18:16:30.346Z"
   },
   {
    "duration": 15,
    "start_time": "2022-03-03T18:16:30.355Z"
   },
   {
    "duration": 26,
    "start_time": "2022-03-03T18:16:30.372Z"
   },
   {
    "duration": 600,
    "start_time": "2022-03-03T18:17:15.168Z"
   },
   {
    "duration": 145,
    "start_time": "2022-03-03T18:17:15.770Z"
   },
   {
    "duration": 18,
    "start_time": "2022-03-03T18:17:15.917Z"
   },
   {
    "duration": 37,
    "start_time": "2022-03-03T18:17:15.937Z"
   },
   {
    "duration": 16,
    "start_time": "2022-03-03T18:17:15.976Z"
   },
   {
    "duration": 43,
    "start_time": "2022-03-03T18:17:15.994Z"
   },
   {
    "duration": 5,
    "start_time": "2022-03-03T18:17:16.039Z"
   },
   {
    "duration": 38,
    "start_time": "2022-03-03T18:17:16.046Z"
   },
   {
    "duration": 37,
    "start_time": "2022-03-03T18:17:16.086Z"
   },
   {
    "duration": 23,
    "start_time": "2022-03-03T18:17:16.125Z"
   },
   {
    "duration": 73,
    "start_time": "2022-03-03T18:17:16.150Z"
   },
   {
    "duration": 91,
    "start_time": "2022-03-03T18:17:16.224Z"
   },
   {
    "duration": 64,
    "start_time": "2022-03-03T18:17:16.317Z"
   },
   {
    "duration": 9,
    "start_time": "2022-03-03T18:17:16.383Z"
   },
   {
    "duration": 24,
    "start_time": "2022-03-03T18:17:16.394Z"
   },
   {
    "duration": 43,
    "start_time": "2022-03-03T18:17:16.420Z"
   },
   {
    "duration": 18,
    "start_time": "2022-03-03T18:17:16.465Z"
   },
   {
    "duration": 29,
    "start_time": "2022-03-03T18:17:16.485Z"
   },
   {
    "duration": 23,
    "start_time": "2022-03-03T18:17:16.516Z"
   },
   {
    "duration": 13,
    "start_time": "2022-03-03T18:17:16.541Z"
   },
   {
    "duration": 51,
    "start_time": "2022-03-03T18:17:16.555Z"
   },
   {
    "duration": 40,
    "start_time": "2022-03-03T18:17:16.608Z"
   },
   {
    "duration": 24,
    "start_time": "2022-03-03T18:17:16.652Z"
   },
   {
    "duration": 24,
    "start_time": "2022-03-03T18:17:16.678Z"
   },
   {
    "duration": 29,
    "start_time": "2022-03-03T18:17:16.704Z"
   },
   {
    "duration": 22,
    "start_time": "2022-03-03T18:17:16.735Z"
   },
   {
    "duration": 84,
    "start_time": "2022-03-03T18:17:16.758Z"
   },
   {
    "duration": 15,
    "start_time": "2022-03-03T18:17:16.844Z"
   },
   {
    "duration": 11,
    "start_time": "2022-03-03T18:17:16.861Z"
   },
   {
    "duration": 16,
    "start_time": "2022-03-03T18:17:16.873Z"
   },
   {
    "duration": 475,
    "start_time": "2022-03-03T18:17:16.891Z"
   },
   {
    "duration": -138,
    "start_time": "2022-03-03T18:17:17.506Z"
   },
   {
    "duration": -144,
    "start_time": "2022-03-03T18:17:17.513Z"
   },
   {
    "duration": -145,
    "start_time": "2022-03-03T18:17:17.515Z"
   },
   {
    "duration": -145,
    "start_time": "2022-03-03T18:17:17.517Z"
   },
   {
    "duration": -145,
    "start_time": "2022-03-03T18:17:17.518Z"
   },
   {
    "duration": -146,
    "start_time": "2022-03-03T18:17:17.520Z"
   },
   {
    "duration": -147,
    "start_time": "2022-03-03T18:17:17.522Z"
   },
   {
    "duration": 539,
    "start_time": "2022-03-03T18:56:59.503Z"
   },
   {
    "duration": 138,
    "start_time": "2022-03-03T18:57:00.044Z"
   },
   {
    "duration": 16,
    "start_time": "2022-03-03T18:57:00.187Z"
   },
   {
    "duration": 29,
    "start_time": "2022-03-03T18:57:00.205Z"
   },
   {
    "duration": 5,
    "start_time": "2022-03-03T18:57:00.236Z"
   },
   {
    "duration": 31,
    "start_time": "2022-03-03T18:57:00.260Z"
   },
   {
    "duration": 6,
    "start_time": "2022-03-03T18:57:00.294Z"
   },
   {
    "duration": 31,
    "start_time": "2022-03-03T18:57:00.302Z"
   },
   {
    "duration": 43,
    "start_time": "2022-03-03T18:57:00.335Z"
   },
   {
    "duration": 24,
    "start_time": "2022-03-03T18:57:00.380Z"
   },
   {
    "duration": 84,
    "start_time": "2022-03-03T18:57:00.406Z"
   },
   {
    "duration": 84,
    "start_time": "2022-03-03T18:57:00.492Z"
   },
   {
    "duration": 53,
    "start_time": "2022-03-03T18:57:00.578Z"
   },
   {
    "duration": 27,
    "start_time": "2022-03-03T18:57:00.633Z"
   },
   {
    "duration": 3,
    "start_time": "2022-03-03T18:57:00.662Z"
   },
   {
    "duration": 19,
    "start_time": "2022-03-03T18:57:00.667Z"
   },
   {
    "duration": 9,
    "start_time": "2022-03-03T18:57:00.688Z"
   },
   {
    "duration": 12,
    "start_time": "2022-03-03T18:57:00.699Z"
   },
   {
    "duration": 12,
    "start_time": "2022-03-03T18:57:00.713Z"
   },
   {
    "duration": 3,
    "start_time": "2022-03-03T18:57:00.760Z"
   },
   {
    "duration": 35,
    "start_time": "2022-03-03T18:57:00.765Z"
   },
   {
    "duration": 27,
    "start_time": "2022-03-03T18:57:00.804Z"
   },
   {
    "duration": 16,
    "start_time": "2022-03-03T18:57:00.833Z"
   },
   {
    "duration": 17,
    "start_time": "2022-03-03T18:57:00.851Z"
   },
   {
    "duration": 17,
    "start_time": "2022-03-03T18:57:00.870Z"
   },
   {
    "duration": 16,
    "start_time": "2022-03-03T18:57:00.888Z"
   },
   {
    "duration": 94,
    "start_time": "2022-03-03T18:57:00.905Z"
   },
   {
    "duration": 10,
    "start_time": "2022-03-03T18:57:01.000Z"
   },
   {
    "duration": 9,
    "start_time": "2022-03-03T18:57:01.012Z"
   },
   {
    "duration": 4,
    "start_time": "2022-03-03T18:57:01.023Z"
   },
   {
    "duration": 50,
    "start_time": "2022-03-03T18:57:01.028Z"
   },
   {
    "duration": 2,
    "start_time": "2022-03-03T18:57:01.079Z"
   },
   {
    "duration": 8,
    "start_time": "2022-03-03T18:57:01.083Z"
   },
   {
    "duration": 6,
    "start_time": "2022-03-03T18:57:01.093Z"
   },
   {
    "duration": 8,
    "start_time": "2022-03-03T18:57:01.101Z"
   },
   {
    "duration": 8,
    "start_time": "2022-03-03T18:57:01.111Z"
   },
   {
    "duration": 5,
    "start_time": "2022-03-03T18:57:01.120Z"
   },
   {
    "duration": 11,
    "start_time": "2022-03-03T18:57:01.127Z"
   },
   {
    "duration": 625,
    "start_time": "2022-03-03T18:59:30.956Z"
   },
   {
    "duration": 139,
    "start_time": "2022-03-03T18:59:31.583Z"
   },
   {
    "duration": 18,
    "start_time": "2022-03-03T18:59:31.724Z"
   },
   {
    "duration": 37,
    "start_time": "2022-03-03T18:59:31.744Z"
   },
   {
    "duration": 5,
    "start_time": "2022-03-03T18:59:31.783Z"
   },
   {
    "duration": 30,
    "start_time": "2022-03-03T18:59:31.790Z"
   },
   {
    "duration": 4,
    "start_time": "2022-03-03T18:59:31.822Z"
   },
   {
    "duration": 49,
    "start_time": "2022-03-03T18:59:31.828Z"
   },
   {
    "duration": 26,
    "start_time": "2022-03-03T18:59:31.880Z"
   },
   {
    "duration": 23,
    "start_time": "2022-03-03T18:59:31.908Z"
   },
   {
    "duration": 85,
    "start_time": "2022-03-03T18:59:31.933Z"
   },
   {
    "duration": 89,
    "start_time": "2022-03-03T18:59:32.020Z"
   },
   {
    "duration": 60,
    "start_time": "2022-03-03T18:59:32.111Z"
   },
   {
    "duration": 9,
    "start_time": "2022-03-03T18:59:32.173Z"
   },
   {
    "duration": 3,
    "start_time": "2022-03-03T18:59:32.184Z"
   },
   {
    "duration": 23,
    "start_time": "2022-03-03T18:59:32.188Z"
   },
   {
    "duration": 9,
    "start_time": "2022-03-03T18:59:32.212Z"
   },
   {
    "duration": 10,
    "start_time": "2022-03-03T18:59:32.223Z"
   },
   {
    "duration": 10,
    "start_time": "2022-03-03T18:59:32.260Z"
   },
   {
    "duration": 3,
    "start_time": "2022-03-03T18:59:32.272Z"
   },
   {
    "duration": 20,
    "start_time": "2022-03-03T18:59:32.276Z"
   },
   {
    "duration": 13,
    "start_time": "2022-03-03T18:59:32.298Z"
   },
   {
    "duration": 14,
    "start_time": "2022-03-03T18:59:32.313Z"
   },
   {
    "duration": 42,
    "start_time": "2022-03-03T18:59:32.329Z"
   },
   {
    "duration": 16,
    "start_time": "2022-03-03T18:59:32.373Z"
   },
   {
    "duration": 14,
    "start_time": "2022-03-03T18:59:32.391Z"
   },
   {
    "duration": 92,
    "start_time": "2022-03-03T18:59:32.408Z"
   },
   {
    "duration": 10,
    "start_time": "2022-03-03T18:59:32.501Z"
   },
   {
    "duration": 8,
    "start_time": "2022-03-03T18:59:32.513Z"
   },
   {
    "duration": 4,
    "start_time": "2022-03-03T18:59:32.522Z"
   },
   {
    "duration": 47,
    "start_time": "2022-03-03T18:59:32.528Z"
   },
   {
    "duration": 16,
    "start_time": "2022-03-03T18:59:32.576Z"
   },
   {
    "duration": 17,
    "start_time": "2022-03-03T18:59:32.593Z"
   },
   {
    "duration": 13,
    "start_time": "2022-03-03T18:59:32.612Z"
   },
   {
    "duration": 10,
    "start_time": "2022-03-03T18:59:32.626Z"
   },
   {
    "duration": 24,
    "start_time": "2022-03-03T18:59:32.638Z"
   },
   {
    "duration": 6,
    "start_time": "2022-03-03T18:59:32.664Z"
   },
   {
    "duration": 9,
    "start_time": "2022-03-03T18:59:32.671Z"
   },
   {
    "duration": 581,
    "start_time": "2022-03-03T19:01:19.762Z"
   },
   {
    "duration": 144,
    "start_time": "2022-03-03T19:01:20.345Z"
   },
   {
    "duration": 17,
    "start_time": "2022-03-03T19:01:20.491Z"
   },
   {
    "duration": 25,
    "start_time": "2022-03-03T19:01:20.510Z"
   },
   {
    "duration": 23,
    "start_time": "2022-03-03T19:01:20.537Z"
   },
   {
    "duration": 37,
    "start_time": "2022-03-03T19:01:20.563Z"
   },
   {
    "duration": 8,
    "start_time": "2022-03-03T19:01:20.602Z"
   },
   {
    "duration": 55,
    "start_time": "2022-03-03T19:01:20.613Z"
   },
   {
    "duration": 36,
    "start_time": "2022-03-03T19:01:20.671Z"
   },
   {
    "duration": 23,
    "start_time": "2022-03-03T19:01:20.709Z"
   },
   {
    "duration": 79,
    "start_time": "2022-03-03T19:01:20.734Z"
   },
   {
    "duration": 89,
    "start_time": "2022-03-03T19:01:20.815Z"
   },
   {
    "duration": 67,
    "start_time": "2022-03-03T19:01:20.906Z"
   },
   {
    "duration": 10,
    "start_time": "2022-03-03T19:01:20.975Z"
   },
   {
    "duration": 3,
    "start_time": "2022-03-03T19:01:20.986Z"
   },
   {
    "duration": 19,
    "start_time": "2022-03-03T19:01:20.991Z"
   },
   {
    "duration": 10,
    "start_time": "2022-03-03T19:01:21.011Z"
   },
   {
    "duration": 37,
    "start_time": "2022-03-03T19:01:21.023Z"
   },
   {
    "duration": 12,
    "start_time": "2022-03-03T19:01:21.062Z"
   },
   {
    "duration": 4,
    "start_time": "2022-03-03T19:01:21.076Z"
   },
   {
    "duration": 19,
    "start_time": "2022-03-03T19:01:21.082Z"
   },
   {
    "duration": 18,
    "start_time": "2022-03-03T19:01:21.103Z"
   },
   {
    "duration": 18,
    "start_time": "2022-03-03T19:01:21.158Z"
   },
   {
    "duration": 16,
    "start_time": "2022-03-03T19:01:21.179Z"
   },
   {
    "duration": 17,
    "start_time": "2022-03-03T19:01:21.197Z"
   },
   {
    "duration": 49,
    "start_time": "2022-03-03T19:01:21.216Z"
   },
   {
    "duration": 102,
    "start_time": "2022-03-03T19:01:21.267Z"
   },
   {
    "duration": 10,
    "start_time": "2022-03-03T19:01:21.371Z"
   },
   {
    "duration": 9,
    "start_time": "2022-03-03T19:01:21.382Z"
   },
   {
    "duration": 4,
    "start_time": "2022-03-03T19:01:21.393Z"
   },
   {
    "duration": 459,
    "start_time": "2022-03-03T19:01:21.398Z"
   },
   {
    "duration": -146,
    "start_time": "2022-03-03T19:01:22.005Z"
   },
   {
    "duration": -149,
    "start_time": "2022-03-03T19:01:22.009Z"
   },
   {
    "duration": -150,
    "start_time": "2022-03-03T19:01:22.011Z"
   },
   {
    "duration": -154,
    "start_time": "2022-03-03T19:01:22.016Z"
   },
   {
    "duration": -156,
    "start_time": "2022-03-03T19:01:22.019Z"
   },
   {
    "duration": -156,
    "start_time": "2022-03-03T19:01:22.020Z"
   },
   {
    "duration": -157,
    "start_time": "2022-03-03T19:01:22.022Z"
   },
   {
    "duration": 549,
    "start_time": "2022-03-03T19:01:41.681Z"
   },
   {
    "duration": 126,
    "start_time": "2022-03-03T19:01:42.232Z"
   },
   {
    "duration": 17,
    "start_time": "2022-03-03T19:01:42.360Z"
   },
   {
    "duration": 28,
    "start_time": "2022-03-03T19:01:42.379Z"
   },
   {
    "duration": 3,
    "start_time": "2022-03-03T19:01:42.409Z"
   },
   {
    "duration": 46,
    "start_time": "2022-03-03T19:01:42.414Z"
   },
   {
    "duration": 4,
    "start_time": "2022-03-03T19:01:42.462Z"
   },
   {
    "duration": 25,
    "start_time": "2022-03-03T19:01:42.468Z"
   },
   {
    "duration": 26,
    "start_time": "2022-03-03T19:01:42.495Z"
   },
   {
    "duration": 47,
    "start_time": "2022-03-03T19:01:42.523Z"
   },
   {
    "duration": 61,
    "start_time": "2022-03-03T19:01:42.572Z"
   },
   {
    "duration": 93,
    "start_time": "2022-03-03T19:01:42.634Z"
   },
   {
    "duration": 65,
    "start_time": "2022-03-03T19:01:42.730Z"
   },
   {
    "duration": 11,
    "start_time": "2022-03-03T19:01:42.797Z"
   },
   {
    "duration": 2,
    "start_time": "2022-03-03T19:01:42.810Z"
   },
   {
    "duration": 17,
    "start_time": "2022-03-03T19:01:42.814Z"
   },
   {
    "duration": 32,
    "start_time": "2022-03-03T19:01:42.833Z"
   },
   {
    "duration": 12,
    "start_time": "2022-03-03T19:01:42.866Z"
   },
   {
    "duration": 12,
    "start_time": "2022-03-03T19:01:42.880Z"
   },
   {
    "duration": 4,
    "start_time": "2022-03-03T19:01:42.893Z"
   },
   {
    "duration": 19,
    "start_time": "2022-03-03T19:01:42.899Z"
   },
   {
    "duration": 48,
    "start_time": "2022-03-03T19:01:42.920Z"
   },
   {
    "duration": 15,
    "start_time": "2022-03-03T19:01:42.971Z"
   },
   {
    "duration": 16,
    "start_time": "2022-03-03T19:01:42.988Z"
   },
   {
    "duration": 16,
    "start_time": "2022-03-03T19:01:43.005Z"
   },
   {
    "duration": 47,
    "start_time": "2022-03-03T19:01:43.022Z"
   },
   {
    "duration": 66,
    "start_time": "2022-03-03T19:01:43.071Z"
   },
   {
    "duration": 29,
    "start_time": "2022-03-03T19:01:43.138Z"
   },
   {
    "duration": 9,
    "start_time": "2022-03-03T19:01:43.168Z"
   },
   {
    "duration": 4,
    "start_time": "2022-03-03T19:01:43.178Z"
   },
   {
    "duration": 424,
    "start_time": "2022-03-03T19:01:43.184Z"
   },
   {
    "duration": -295,
    "start_time": "2022-03-03T19:01:43.905Z"
   },
   {
    "duration": -295,
    "start_time": "2022-03-03T19:01:43.906Z"
   },
   {
    "duration": -296,
    "start_time": "2022-03-03T19:01:43.908Z"
   },
   {
    "duration": -297,
    "start_time": "2022-03-03T19:01:43.909Z"
   },
   {
    "duration": -298,
    "start_time": "2022-03-03T19:01:43.911Z"
   },
   {
    "duration": -300,
    "start_time": "2022-03-03T19:01:43.914Z"
   },
   {
    "duration": -300,
    "start_time": "2022-03-03T19:01:43.916Z"
   },
   {
    "duration": 4,
    "start_time": "2022-03-03T19:02:01.434Z"
   },
   {
    "duration": 600,
    "start_time": "2022-03-03T19:02:06.941Z"
   },
   {
    "duration": 137,
    "start_time": "2022-03-03T19:02:07.544Z"
   },
   {
    "duration": 19,
    "start_time": "2022-03-03T19:02:07.683Z"
   },
   {
    "duration": 26,
    "start_time": "2022-03-03T19:02:07.704Z"
   },
   {
    "duration": 4,
    "start_time": "2022-03-03T19:02:07.731Z"
   },
   {
    "duration": 47,
    "start_time": "2022-03-03T19:02:07.736Z"
   },
   {
    "duration": 8,
    "start_time": "2022-03-03T19:02:07.784Z"
   },
   {
    "duration": 23,
    "start_time": "2022-03-03T19:02:07.793Z"
   },
   {
    "duration": 42,
    "start_time": "2022-03-03T19:02:07.818Z"
   },
   {
    "duration": 21,
    "start_time": "2022-03-03T19:02:07.862Z"
   },
   {
    "duration": 55,
    "start_time": "2022-03-03T19:02:07.884Z"
   },
   {
    "duration": 86,
    "start_time": "2022-03-03T19:02:07.941Z"
   },
   {
    "duration": 61,
    "start_time": "2022-03-03T19:02:08.028Z"
   },
   {
    "duration": 9,
    "start_time": "2022-03-03T19:02:08.091Z"
   },
   {
    "duration": 3,
    "start_time": "2022-03-03T19:02:08.102Z"
   },
   {
    "duration": 17,
    "start_time": "2022-03-03T19:02:08.107Z"
   },
   {
    "duration": 9,
    "start_time": "2022-03-03T19:02:08.126Z"
   },
   {
    "duration": 11,
    "start_time": "2022-03-03T19:02:08.159Z"
   },
   {
    "duration": 10,
    "start_time": "2022-03-03T19:02:08.172Z"
   },
   {
    "duration": 3,
    "start_time": "2022-03-03T19:02:08.183Z"
   },
   {
    "duration": 20,
    "start_time": "2022-03-03T19:02:08.188Z"
   },
   {
    "duration": 13,
    "start_time": "2022-03-03T19:02:08.210Z"
   },
   {
    "duration": 43,
    "start_time": "2022-03-03T19:02:08.224Z"
   },
   {
    "duration": 12,
    "start_time": "2022-03-03T19:02:08.269Z"
   },
   {
    "duration": 25,
    "start_time": "2022-03-03T19:02:08.283Z"
   },
   {
    "duration": 13,
    "start_time": "2022-03-03T19:02:08.309Z"
   },
   {
    "duration": 85,
    "start_time": "2022-03-03T19:02:08.326Z"
   },
   {
    "duration": 9,
    "start_time": "2022-03-03T19:02:08.413Z"
   },
   {
    "duration": 8,
    "start_time": "2022-03-03T19:02:08.424Z"
   },
   {
    "duration": 4,
    "start_time": "2022-03-03T19:02:08.433Z"
   },
   {
    "duration": 34,
    "start_time": "2022-03-03T19:02:08.439Z"
   },
   {
    "duration": 11,
    "start_time": "2022-03-03T19:02:08.475Z"
   },
   {
    "duration": 13,
    "start_time": "2022-03-03T19:02:08.488Z"
   },
   {
    "duration": 10,
    "start_time": "2022-03-03T19:02:08.503Z"
   },
   {
    "duration": 3,
    "start_time": "2022-03-03T19:02:08.515Z"
   },
   {
    "duration": 4,
    "start_time": "2022-03-03T19:02:08.519Z"
   },
   {
    "duration": 34,
    "start_time": "2022-03-03T19:02:08.525Z"
   },
   {
    "duration": 3,
    "start_time": "2022-03-03T19:02:08.561Z"
   },
   {
    "duration": 611,
    "start_time": "2022-03-03T19:06:43.037Z"
   },
   {
    "duration": 129,
    "start_time": "2022-03-03T19:06:43.649Z"
   },
   {
    "duration": 17,
    "start_time": "2022-03-03T19:06:43.782Z"
   },
   {
    "duration": 26,
    "start_time": "2022-03-03T19:06:43.800Z"
   },
   {
    "duration": 4,
    "start_time": "2022-03-03T19:06:43.827Z"
   },
   {
    "duration": 46,
    "start_time": "2022-03-03T19:06:43.833Z"
   },
   {
    "duration": 5,
    "start_time": "2022-03-03T19:06:43.880Z"
   },
   {
    "duration": 27,
    "start_time": "2022-03-03T19:06:43.887Z"
   },
   {
    "duration": 46,
    "start_time": "2022-03-03T19:06:43.916Z"
   },
   {
    "duration": 23,
    "start_time": "2022-03-03T19:06:43.963Z"
   },
   {
    "duration": 81,
    "start_time": "2022-03-03T19:06:43.988Z"
   },
   {
    "duration": 88,
    "start_time": "2022-03-03T19:06:44.071Z"
   },
   {
    "duration": 50,
    "start_time": "2022-03-03T19:06:44.161Z"
   },
   {
    "duration": 9,
    "start_time": "2022-03-03T19:06:44.212Z"
   },
   {
    "duration": 2,
    "start_time": "2022-03-03T19:06:44.223Z"
   },
   {
    "duration": 37,
    "start_time": "2022-03-03T19:06:44.227Z"
   },
   {
    "duration": 9,
    "start_time": "2022-03-03T19:06:44.265Z"
   },
   {
    "duration": 11,
    "start_time": "2022-03-03T19:06:44.276Z"
   },
   {
    "duration": 11,
    "start_time": "2022-03-03T19:06:44.288Z"
   },
   {
    "duration": 3,
    "start_time": "2022-03-03T19:06:44.301Z"
   },
   {
    "duration": 20,
    "start_time": "2022-03-03T19:06:44.305Z"
   },
   {
    "duration": 15,
    "start_time": "2022-03-03T19:06:44.359Z"
   },
   {
    "duration": 15,
    "start_time": "2022-03-03T19:06:44.376Z"
   },
   {
    "duration": 14,
    "start_time": "2022-03-03T19:06:44.392Z"
   },
   {
    "duration": 18,
    "start_time": "2022-03-03T19:06:44.408Z"
   },
   {
    "duration": 15,
    "start_time": "2022-03-03T19:06:44.462Z"
   },
   {
    "duration": 84,
    "start_time": "2022-03-03T19:06:44.479Z"
   },
   {
    "duration": 11,
    "start_time": "2022-03-03T19:06:44.565Z"
   },
   {
    "duration": 10,
    "start_time": "2022-03-03T19:06:44.578Z"
   },
   {
    "duration": 5,
    "start_time": "2022-03-03T19:06:44.590Z"
   },
   {
    "duration": 19,
    "start_time": "2022-03-03T19:06:44.597Z"
   },
   {
    "duration": 43,
    "start_time": "2022-03-03T19:06:44.617Z"
   },
   {
    "duration": 17,
    "start_time": "2022-03-03T19:06:44.662Z"
   },
   {
    "duration": 12,
    "start_time": "2022-03-03T19:06:44.681Z"
   },
   {
    "duration": 4,
    "start_time": "2022-03-03T19:06:44.695Z"
   },
   {
    "duration": 4,
    "start_time": "2022-03-03T19:06:44.700Z"
   },
   {
    "duration": 4,
    "start_time": "2022-03-03T19:06:44.705Z"
   },
   {
    "duration": 4,
    "start_time": "2022-03-03T19:06:44.711Z"
   },
   {
    "duration": 615,
    "start_time": "2022-03-03T19:07:13.456Z"
   },
   {
    "duration": 146,
    "start_time": "2022-03-03T19:07:14.073Z"
   },
   {
    "duration": 18,
    "start_time": "2022-03-03T19:07:14.223Z"
   },
   {
    "duration": 37,
    "start_time": "2022-03-03T19:07:14.243Z"
   },
   {
    "duration": 5,
    "start_time": "2022-03-03T19:07:14.282Z"
   },
   {
    "duration": 33,
    "start_time": "2022-03-03T19:07:14.289Z"
   },
   {
    "duration": 4,
    "start_time": "2022-03-03T19:07:14.325Z"
   },
   {
    "duration": 51,
    "start_time": "2022-03-03T19:07:14.331Z"
   },
   {
    "duration": 30,
    "start_time": "2022-03-03T19:07:14.383Z"
   },
   {
    "duration": 45,
    "start_time": "2022-03-03T19:07:14.415Z"
   },
   {
    "duration": 60,
    "start_time": "2022-03-03T19:07:14.461Z"
   },
   {
    "duration": 94,
    "start_time": "2022-03-03T19:07:14.523Z"
   },
   {
    "duration": 60,
    "start_time": "2022-03-03T19:07:14.619Z"
   },
   {
    "duration": 10,
    "start_time": "2022-03-03T19:07:14.681Z"
   },
   {
    "duration": 3,
    "start_time": "2022-03-03T19:07:14.693Z"
   },
   {
    "duration": 18,
    "start_time": "2022-03-03T19:07:14.697Z"
   },
   {
    "duration": 10,
    "start_time": "2022-03-03T19:07:14.717Z"
   },
   {
    "duration": 38,
    "start_time": "2022-03-03T19:07:14.728Z"
   },
   {
    "duration": 11,
    "start_time": "2022-03-03T19:07:14.767Z"
   },
   {
    "duration": 3,
    "start_time": "2022-03-03T19:07:14.780Z"
   },
   {
    "duration": 21,
    "start_time": "2022-03-03T19:07:14.784Z"
   },
   {
    "duration": 14,
    "start_time": "2022-03-03T19:07:14.808Z"
   },
   {
    "duration": 41,
    "start_time": "2022-03-03T19:07:14.824Z"
   },
   {
    "duration": 13,
    "start_time": "2022-03-03T19:07:14.867Z"
   },
   {
    "duration": 15,
    "start_time": "2022-03-03T19:07:14.881Z"
   },
   {
    "duration": 14,
    "start_time": "2022-03-03T19:07:14.898Z"
   },
   {
    "duration": 101,
    "start_time": "2022-03-03T19:07:14.913Z"
   },
   {
    "duration": 10,
    "start_time": "2022-03-03T19:07:15.015Z"
   },
   {
    "duration": 8,
    "start_time": "2022-03-03T19:07:15.027Z"
   },
   {
    "duration": 4,
    "start_time": "2022-03-03T19:07:15.037Z"
   },
   {
    "duration": 24,
    "start_time": "2022-03-03T19:07:15.059Z"
   },
   {
    "duration": 11,
    "start_time": "2022-03-03T19:07:15.085Z"
   },
   {
    "duration": 15,
    "start_time": "2022-03-03T19:07:15.098Z"
   },
   {
    "duration": 11,
    "start_time": "2022-03-03T19:07:15.114Z"
   },
   {
    "duration": 3,
    "start_time": "2022-03-03T19:07:15.127Z"
   },
   {
    "duration": 39,
    "start_time": "2022-03-03T19:07:15.131Z"
   },
   {
    "duration": 23,
    "start_time": "2022-03-03T19:07:15.171Z"
   },
   {
    "duration": 16,
    "start_time": "2022-03-03T19:07:15.196Z"
   },
   {
    "duration": 595,
    "start_time": "2022-03-03T19:07:54.156Z"
   },
   {
    "duration": 129,
    "start_time": "2022-03-03T19:07:54.753Z"
   },
   {
    "duration": 17,
    "start_time": "2022-03-03T19:07:54.885Z"
   },
   {
    "duration": 26,
    "start_time": "2022-03-03T19:07:54.903Z"
   },
   {
    "duration": 4,
    "start_time": "2022-03-03T19:07:54.931Z"
   },
   {
    "duration": 50,
    "start_time": "2022-03-03T19:07:54.937Z"
   },
   {
    "duration": 9,
    "start_time": "2022-03-03T19:07:54.990Z"
   },
   {
    "duration": 31,
    "start_time": "2022-03-03T19:07:55.001Z"
   },
   {
    "duration": 34,
    "start_time": "2022-03-03T19:07:55.034Z"
   },
   {
    "duration": 22,
    "start_time": "2022-03-03T19:07:55.070Z"
   },
   {
    "duration": 72,
    "start_time": "2022-03-03T19:07:55.094Z"
   },
   {
    "duration": 68,
    "start_time": "2022-03-03T19:07:55.168Z"
   },
   {
    "duration": 67,
    "start_time": "2022-03-03T19:07:55.238Z"
   },
   {
    "duration": 10,
    "start_time": "2022-03-03T19:07:55.306Z"
   },
   {
    "duration": 9,
    "start_time": "2022-03-03T19:07:55.317Z"
   },
   {
    "duration": 28,
    "start_time": "2022-03-03T19:07:55.327Z"
   },
   {
    "duration": 23,
    "start_time": "2022-03-03T19:07:55.358Z"
   },
   {
    "duration": 12,
    "start_time": "2022-03-03T19:07:55.382Z"
   },
   {
    "duration": 26,
    "start_time": "2022-03-03T19:07:55.396Z"
   },
   {
    "duration": 4,
    "start_time": "2022-03-03T19:07:55.423Z"
   },
   {
    "duration": 37,
    "start_time": "2022-03-03T19:07:55.429Z"
   },
   {
    "duration": 23,
    "start_time": "2022-03-03T19:07:55.469Z"
   },
   {
    "duration": 15,
    "start_time": "2022-03-03T19:07:55.494Z"
   },
   {
    "duration": 14,
    "start_time": "2022-03-03T19:07:55.511Z"
   },
   {
    "duration": 34,
    "start_time": "2022-03-03T19:07:55.526Z"
   },
   {
    "duration": 13,
    "start_time": "2022-03-03T19:07:55.562Z"
   },
   {
    "duration": 64,
    "start_time": "2022-03-03T19:07:55.577Z"
   },
   {
    "duration": 10,
    "start_time": "2022-03-03T19:07:55.659Z"
   },
   {
    "duration": 14,
    "start_time": "2022-03-03T19:07:55.671Z"
   },
   {
    "duration": 15,
    "start_time": "2022-03-03T19:07:55.687Z"
   },
   {
    "duration": 31,
    "start_time": "2022-03-03T19:07:55.704Z"
   },
   {
    "duration": 19,
    "start_time": "2022-03-03T19:07:55.736Z"
   },
   {
    "duration": 19,
    "start_time": "2022-03-03T19:07:55.756Z"
   },
   {
    "duration": 23,
    "start_time": "2022-03-03T19:07:55.777Z"
   },
   {
    "duration": 4,
    "start_time": "2022-03-03T19:07:55.802Z"
   },
   {
    "duration": 5,
    "start_time": "2022-03-03T19:07:55.807Z"
   },
   {
    "duration": 3,
    "start_time": "2022-03-03T19:07:55.814Z"
   },
   {
    "duration": 6,
    "start_time": "2022-03-03T19:07:55.819Z"
   },
   {
    "duration": 550,
    "start_time": "2022-03-03T19:09:02.428Z"
   },
   {
    "duration": 130,
    "start_time": "2022-03-03T19:09:02.980Z"
   },
   {
    "duration": 17,
    "start_time": "2022-03-03T19:09:03.114Z"
   },
   {
    "duration": 37,
    "start_time": "2022-03-03T19:09:03.132Z"
   },
   {
    "duration": 4,
    "start_time": "2022-03-03T19:09:03.171Z"
   },
   {
    "duration": 29,
    "start_time": "2022-03-03T19:09:03.176Z"
   },
   {
    "duration": 3,
    "start_time": "2022-03-03T19:09:03.207Z"
   },
   {
    "duration": 50,
    "start_time": "2022-03-03T19:09:03.213Z"
   },
   {
    "duration": 25,
    "start_time": "2022-03-03T19:09:03.265Z"
   },
   {
    "duration": 22,
    "start_time": "2022-03-03T19:09:03.292Z"
   },
   {
    "duration": 83,
    "start_time": "2022-03-03T19:09:03.315Z"
   },
   {
    "duration": 79,
    "start_time": "2022-03-03T19:09:03.400Z"
   },
   {
    "duration": 48,
    "start_time": "2022-03-03T19:09:03.481Z"
   },
   {
    "duration": 28,
    "start_time": "2022-03-03T19:09:03.531Z"
   },
   {
    "duration": 3,
    "start_time": "2022-03-03T19:09:03.560Z"
   },
   {
    "duration": 17,
    "start_time": "2022-03-03T19:09:03.565Z"
   },
   {
    "duration": 9,
    "start_time": "2022-03-03T19:09:03.584Z"
   },
   {
    "duration": 11,
    "start_time": "2022-03-03T19:09:03.594Z"
   },
   {
    "duration": 10,
    "start_time": "2022-03-03T19:09:03.607Z"
   },
   {
    "duration": 3,
    "start_time": "2022-03-03T19:09:03.618Z"
   },
   {
    "duration": 55,
    "start_time": "2022-03-03T19:09:03.622Z"
   },
   {
    "duration": 14,
    "start_time": "2022-03-03T19:09:03.679Z"
   },
   {
    "duration": 14,
    "start_time": "2022-03-03T19:09:03.695Z"
   },
   {
    "duration": 13,
    "start_time": "2022-03-03T19:09:03.710Z"
   },
   {
    "duration": 46,
    "start_time": "2022-03-03T19:09:03.724Z"
   },
   {
    "duration": 19,
    "start_time": "2022-03-03T19:09:03.774Z"
   },
   {
    "duration": 83,
    "start_time": "2022-03-03T19:09:03.795Z"
   },
   {
    "duration": 9,
    "start_time": "2022-03-03T19:09:03.880Z"
   },
   {
    "duration": 9,
    "start_time": "2022-03-03T19:09:03.891Z"
   },
   {
    "duration": 4,
    "start_time": "2022-03-03T19:09:03.902Z"
   },
   {
    "duration": 21,
    "start_time": "2022-03-03T19:09:03.908Z"
   },
   {
    "duration": 39,
    "start_time": "2022-03-03T19:09:03.931Z"
   },
   {
    "duration": 19,
    "start_time": "2022-03-03T19:09:03.971Z"
   },
   {
    "duration": 17,
    "start_time": "2022-03-03T19:09:03.992Z"
   },
   {
    "duration": 3,
    "start_time": "2022-03-03T19:09:04.011Z"
   },
   {
    "duration": 5,
    "start_time": "2022-03-03T19:09:04.016Z"
   },
   {
    "duration": 6,
    "start_time": "2022-03-03T19:09:04.023Z"
   },
   {
    "duration": 3,
    "start_time": "2022-03-03T19:09:04.058Z"
   },
   {
    "duration": 543,
    "start_time": "2022-03-03T19:09:49.795Z"
   },
   {
    "duration": 132,
    "start_time": "2022-03-03T19:09:50.340Z"
   },
   {
    "duration": 17,
    "start_time": "2022-03-03T19:09:50.474Z"
   },
   {
    "duration": 29,
    "start_time": "2022-03-03T19:09:50.493Z"
   },
   {
    "duration": 9,
    "start_time": "2022-03-03T19:09:50.524Z"
   },
   {
    "duration": 44,
    "start_time": "2022-03-03T19:09:50.535Z"
   },
   {
    "duration": 3,
    "start_time": "2022-03-03T19:09:50.581Z"
   },
   {
    "duration": 27,
    "start_time": "2022-03-03T19:09:50.586Z"
   },
   {
    "duration": 25,
    "start_time": "2022-03-03T19:09:50.616Z"
   },
   {
    "duration": 23,
    "start_time": "2022-03-03T19:09:50.660Z"
   },
   {
    "duration": 59,
    "start_time": "2022-03-03T19:09:50.685Z"
   },
   {
    "duration": 91,
    "start_time": "2022-03-03T19:09:50.745Z"
   },
   {
    "duration": 63,
    "start_time": "2022-03-03T19:09:50.838Z"
   },
   {
    "duration": 10,
    "start_time": "2022-03-03T19:09:50.902Z"
   },
   {
    "duration": 3,
    "start_time": "2022-03-03T19:09:50.913Z"
   },
   {
    "duration": 19,
    "start_time": "2022-03-03T19:09:50.918Z"
   },
   {
    "duration": 27,
    "start_time": "2022-03-03T19:09:50.939Z"
   },
   {
    "duration": 12,
    "start_time": "2022-03-03T19:09:50.967Z"
   },
   {
    "duration": 10,
    "start_time": "2022-03-03T19:09:50.981Z"
   },
   {
    "duration": 7,
    "start_time": "2022-03-03T19:09:50.992Z"
   },
   {
    "duration": 21,
    "start_time": "2022-03-03T19:09:51.000Z"
   },
   {
    "duration": 42,
    "start_time": "2022-03-03T19:09:51.023Z"
   },
   {
    "duration": 15,
    "start_time": "2022-03-03T19:09:51.067Z"
   },
   {
    "duration": 16,
    "start_time": "2022-03-03T19:09:51.083Z"
   },
   {
    "duration": 16,
    "start_time": "2022-03-03T19:09:51.101Z"
   },
   {
    "duration": 43,
    "start_time": "2022-03-03T19:09:51.118Z"
   },
   {
    "duration": 68,
    "start_time": "2022-03-03T19:09:51.164Z"
   },
   {
    "duration": 27,
    "start_time": "2022-03-03T19:09:51.234Z"
   },
   {
    "duration": 8,
    "start_time": "2022-03-03T19:09:51.263Z"
   },
   {
    "duration": 4,
    "start_time": "2022-03-03T19:09:51.273Z"
   },
   {
    "duration": 20,
    "start_time": "2022-03-03T19:09:51.278Z"
   },
   {
    "duration": 18,
    "start_time": "2022-03-03T19:09:51.299Z"
   },
   {
    "duration": 12,
    "start_time": "2022-03-03T19:09:51.319Z"
   },
   {
    "duration": 2,
    "start_time": "2022-03-03T19:09:51.360Z"
   },
   {
    "duration": 5,
    "start_time": "2022-03-03T19:09:51.364Z"
   },
   {
    "duration": 5,
    "start_time": "2022-03-03T19:09:51.370Z"
   },
   {
    "duration": 8,
    "start_time": "2022-03-03T19:09:51.377Z"
   },
   {
    "duration": 573,
    "start_time": "2022-03-03T19:11:41.000Z"
   },
   {
    "duration": 134,
    "start_time": "2022-03-03T19:11:41.576Z"
   },
   {
    "duration": 19,
    "start_time": "2022-03-03T19:11:41.713Z"
   },
   {
    "duration": 36,
    "start_time": "2022-03-03T19:11:41.734Z"
   },
   {
    "duration": 5,
    "start_time": "2022-03-03T19:11:41.771Z"
   },
   {
    "duration": 30,
    "start_time": "2022-03-03T19:11:41.778Z"
   },
   {
    "duration": 4,
    "start_time": "2022-03-03T19:11:41.809Z"
   },
   {
    "duration": 55,
    "start_time": "2022-03-03T19:11:41.816Z"
   },
   {
    "duration": 25,
    "start_time": "2022-03-03T19:11:41.873Z"
   },
   {
    "duration": 23,
    "start_time": "2022-03-03T19:11:41.899Z"
   },
   {
    "duration": 77,
    "start_time": "2022-03-03T19:11:41.923Z"
   },
   {
    "duration": 76,
    "start_time": "2022-03-03T19:11:42.002Z"
   },
   {
    "duration": 51,
    "start_time": "2022-03-03T19:11:42.080Z"
   },
   {
    "duration": 28,
    "start_time": "2022-03-03T19:11:42.134Z"
   },
   {
    "duration": 3,
    "start_time": "2022-03-03T19:11:42.164Z"
   },
   {
    "duration": 17,
    "start_time": "2022-03-03T19:11:42.169Z"
   },
   {
    "duration": 10,
    "start_time": "2022-03-03T19:11:42.188Z"
   },
   {
    "duration": 11,
    "start_time": "2022-03-03T19:11:42.199Z"
   },
   {
    "duration": 49,
    "start_time": "2022-03-03T19:11:42.212Z"
   },
   {
    "duration": 3,
    "start_time": "2022-03-03T19:11:42.263Z"
   },
   {
    "duration": 19,
    "start_time": "2022-03-03T19:11:42.268Z"
   },
   {
    "duration": 14,
    "start_time": "2022-03-03T19:11:42.289Z"
   },
   {
    "duration": 14,
    "start_time": "2022-03-03T19:11:42.306Z"
   },
   {
    "duration": 38,
    "start_time": "2022-03-03T19:11:42.322Z"
   },
   {
    "duration": 16,
    "start_time": "2022-03-03T19:11:42.362Z"
   },
   {
    "duration": 14,
    "start_time": "2022-03-03T19:11:42.379Z"
   },
   {
    "duration": 91,
    "start_time": "2022-03-03T19:11:42.394Z"
   },
   {
    "duration": 10,
    "start_time": "2022-03-03T19:11:42.487Z"
   },
   {
    "duration": 9,
    "start_time": "2022-03-03T19:11:42.499Z"
   },
   {
    "duration": 4,
    "start_time": "2022-03-03T19:11:42.509Z"
   },
   {
    "duration": 21,
    "start_time": "2022-03-03T19:11:42.514Z"
   },
   {
    "duration": 32,
    "start_time": "2022-03-03T19:11:42.537Z"
   },
   {
    "duration": 18,
    "start_time": "2022-03-03T19:11:42.570Z"
   },
   {
    "duration": 12,
    "start_time": "2022-03-03T19:11:42.589Z"
   },
   {
    "duration": 2,
    "start_time": "2022-03-03T19:11:42.603Z"
   },
   {
    "duration": 4,
    "start_time": "2022-03-03T19:11:42.607Z"
   },
   {
    "duration": 6,
    "start_time": "2022-03-03T19:11:42.613Z"
   },
   {
    "duration": 7,
    "start_time": "2022-03-03T19:11:42.620Z"
   },
   {
    "duration": 444,
    "start_time": "2022-03-04T11:42:52.561Z"
   },
   {
    "duration": 737,
    "start_time": "2022-03-04T11:43:13.694Z"
   },
   {
    "duration": 192,
    "start_time": "2022-03-04T11:43:14.434Z"
   },
   {
    "duration": 26,
    "start_time": "2022-03-04T11:43:14.629Z"
   },
   {
    "duration": 41,
    "start_time": "2022-03-04T11:43:14.658Z"
   },
   {
    "duration": 5,
    "start_time": "2022-03-04T11:43:14.701Z"
   },
   {
    "duration": 77,
    "start_time": "2022-03-04T11:43:14.709Z"
   },
   {
    "duration": 8,
    "start_time": "2022-03-04T11:43:14.789Z"
   },
   {
    "duration": 31,
    "start_time": "2022-03-04T11:43:14.803Z"
   },
   {
    "duration": 68,
    "start_time": "2022-03-04T11:43:14.838Z"
   },
   {
    "duration": 34,
    "start_time": "2022-03-04T11:43:14.909Z"
   },
   {
    "duration": 100,
    "start_time": "2022-03-04T11:43:14.974Z"
   },
   {
    "duration": 135,
    "start_time": "2022-03-04T11:43:15.076Z"
   },
   {
    "duration": 96,
    "start_time": "2022-03-04T11:43:15.213Z"
   },
   {
    "duration": 14,
    "start_time": "2022-03-04T11:43:15.311Z"
   },
   {
    "duration": 4,
    "start_time": "2022-03-04T11:43:15.327Z"
   },
   {
    "duration": 50,
    "start_time": "2022-03-04T11:43:15.334Z"
   },
   {
    "duration": 16,
    "start_time": "2022-03-04T11:43:15.387Z"
   },
   {
    "duration": 17,
    "start_time": "2022-03-04T11:43:15.406Z"
   },
   {
    "duration": 55,
    "start_time": "2022-03-04T11:43:15.425Z"
   },
   {
    "duration": 5,
    "start_time": "2022-03-04T11:43:15.483Z"
   },
   {
    "duration": 27,
    "start_time": "2022-03-04T11:43:15.491Z"
   },
   {
    "duration": 51,
    "start_time": "2022-03-04T11:43:15.521Z"
   },
   {
    "duration": 20,
    "start_time": "2022-03-04T11:43:15.579Z"
   },
   {
    "duration": 20,
    "start_time": "2022-03-04T11:43:15.602Z"
   },
   {
    "duration": 57,
    "start_time": "2022-03-04T11:43:15.625Z"
   },
   {
    "duration": 21,
    "start_time": "2022-03-04T11:43:15.685Z"
   },
   {
    "duration": 177,
    "start_time": "2022-03-04T11:43:15.709Z"
   },
   {
    "duration": 22,
    "start_time": "2022-03-04T11:43:15.890Z"
   },
   {
    "duration": 18,
    "start_time": "2022-03-04T11:43:15.915Z"
   },
   {
    "duration": 9,
    "start_time": "2022-03-04T11:43:15.936Z"
   },
   {
    "duration": 40,
    "start_time": "2022-03-04T11:43:15.972Z"
   },
   {
    "duration": 28,
    "start_time": "2022-03-04T11:43:16.015Z"
   },
   {
    "duration": 41,
    "start_time": "2022-03-04T11:43:16.074Z"
   },
   {
    "duration": 28,
    "start_time": "2022-03-04T11:43:16.118Z"
   },
   {
    "duration": 5,
    "start_time": "2022-03-04T11:43:16.175Z"
   },
   {
    "duration": 13,
    "start_time": "2022-03-04T11:43:16.182Z"
   },
   {
    "duration": 5,
    "start_time": "2022-03-04T11:43:16.198Z"
   },
   {
    "duration": 11,
    "start_time": "2022-03-04T11:43:16.206Z"
   },
   {
    "duration": 4,
    "start_time": "2022-03-04T11:43:32.293Z"
   },
   {
    "duration": 344,
    "start_time": "2022-03-04T11:44:13.204Z"
   },
   {
    "duration": 6,
    "start_time": "2022-03-04T11:44:24.793Z"
   },
   {
    "duration": 913,
    "start_time": "2022-03-04T11:44:33.049Z"
   },
   {
    "duration": 191,
    "start_time": "2022-03-04T11:44:33.965Z"
   },
   {
    "duration": 33,
    "start_time": "2022-03-04T11:44:34.159Z"
   },
   {
    "duration": 42,
    "start_time": "2022-03-04T11:44:34.194Z"
   },
   {
    "duration": 25,
    "start_time": "2022-03-04T11:44:34.238Z"
   },
   {
    "duration": 61,
    "start_time": "2022-03-04T11:44:34.265Z"
   },
   {
    "duration": 25,
    "start_time": "2022-03-04T11:44:34.329Z"
   },
   {
    "duration": 34,
    "start_time": "2022-03-04T11:44:34.358Z"
   },
   {
    "duration": 48,
    "start_time": "2022-03-04T11:44:34.395Z"
   },
   {
    "duration": 43,
    "start_time": "2022-03-04T11:44:34.446Z"
   },
   {
    "duration": 105,
    "start_time": "2022-03-04T11:44:34.492Z"
   },
   {
    "duration": 133,
    "start_time": "2022-03-04T11:44:34.600Z"
   },
   {
    "duration": 95,
    "start_time": "2022-03-04T11:44:34.736Z"
   },
   {
    "duration": 14,
    "start_time": "2022-03-04T11:44:34.833Z"
   },
   {
    "duration": 23,
    "start_time": "2022-03-04T11:44:34.850Z"
   },
   {
    "duration": 22,
    "start_time": "2022-03-04T11:44:34.875Z"
   },
   {
    "duration": 29,
    "start_time": "2022-03-04T11:44:34.900Z"
   },
   {
    "duration": 15,
    "start_time": "2022-03-04T11:44:34.932Z"
   },
   {
    "duration": 36,
    "start_time": "2022-03-04T11:44:34.949Z"
   },
   {
    "duration": 6,
    "start_time": "2022-03-04T11:44:34.987Z"
   },
   {
    "duration": 47,
    "start_time": "2022-03-04T11:44:34.995Z"
   },
   {
    "duration": 38,
    "start_time": "2022-03-04T11:44:35.044Z"
   },
   {
    "duration": 21,
    "start_time": "2022-03-04T11:44:35.087Z"
   },
   {
    "duration": 37,
    "start_time": "2022-03-04T11:44:35.110Z"
   },
   {
    "duration": 34,
    "start_time": "2022-03-04T11:44:35.149Z"
   },
   {
    "duration": 23,
    "start_time": "2022-03-04T11:44:35.186Z"
   },
   {
    "duration": 110,
    "start_time": "2022-03-04T11:44:35.212Z"
   },
   {
    "duration": 15,
    "start_time": "2022-03-04T11:44:35.324Z"
   },
   {
    "duration": 26,
    "start_time": "2022-03-04T11:44:35.341Z"
   },
   {
    "duration": 6,
    "start_time": "2022-03-04T11:44:35.374Z"
   },
   {
    "duration": 43,
    "start_time": "2022-03-04T11:44:35.382Z"
   },
   {
    "duration": 19,
    "start_time": "2022-03-04T11:44:35.428Z"
   },
   {
    "duration": 38,
    "start_time": "2022-03-04T11:44:35.449Z"
   },
   {
    "duration": 18,
    "start_time": "2022-03-04T11:44:35.489Z"
   },
   {
    "duration": 14,
    "start_time": "2022-03-04T11:44:35.509Z"
   },
   {
    "duration": 24,
    "start_time": "2022-03-04T11:44:35.526Z"
   },
   {
    "duration": 10,
    "start_time": "2022-03-04T11:44:35.552Z"
   },
   {
    "duration": 22,
    "start_time": "2022-03-04T11:44:35.565Z"
   },
   {
    "duration": 7,
    "start_time": "2022-03-04T11:45:00.196Z"
   },
   {
    "duration": 12,
    "start_time": "2022-03-04T11:46:34.438Z"
   },
   {
    "duration": 16,
    "start_time": "2022-03-04T11:46:55.082Z"
   },
   {
    "duration": 7,
    "start_time": "2022-03-04T11:47:22.148Z"
   },
   {
    "duration": 12,
    "start_time": "2022-03-04T11:48:13.999Z"
   },
   {
    "duration": 6,
    "start_time": "2022-03-04T11:48:24.238Z"
   },
   {
    "duration": 354,
    "start_time": "2022-03-04T17:09:16.094Z"
   },
   {
    "duration": 707,
    "start_time": "2022-03-04T17:09:20.178Z"
   },
   {
    "duration": 191,
    "start_time": "2022-03-04T17:09:22.262Z"
   },
   {
    "duration": 25,
    "start_time": "2022-03-04T17:09:24.361Z"
   },
   {
    "duration": 1008,
    "start_time": "2022-03-04T17:09:43.504Z"
   },
   {
    "duration": 247,
    "start_time": "2022-03-04T17:09:44.516Z"
   },
   {
    "duration": 37,
    "start_time": "2022-03-04T17:09:44.767Z"
   },
   {
    "duration": 68,
    "start_time": "2022-03-04T17:09:44.808Z"
   },
   {
    "duration": 6,
    "start_time": "2022-03-04T17:09:44.879Z"
   },
   {
    "duration": 65,
    "start_time": "2022-03-04T17:09:44.887Z"
   },
   {
    "duration": 5,
    "start_time": "2022-03-04T17:09:44.954Z"
   },
   {
    "duration": 29,
    "start_time": "2022-03-04T17:09:44.963Z"
   },
   {
    "duration": 71,
    "start_time": "2022-03-04T17:09:44.995Z"
   },
   {
    "duration": 30,
    "start_time": "2022-03-04T17:09:45.069Z"
   },
   {
    "duration": 104,
    "start_time": "2022-03-04T17:09:45.101Z"
   },
   {
    "duration": 113,
    "start_time": "2022-03-04T17:09:45.207Z"
   },
   {
    "duration": 81,
    "start_time": "2022-03-04T17:09:45.323Z"
   },
   {
    "duration": 33,
    "start_time": "2022-03-04T17:09:45.407Z"
   },
   {
    "duration": 5,
    "start_time": "2022-03-04T17:09:45.443Z"
   },
   {
    "duration": 30,
    "start_time": "2022-03-04T17:09:45.451Z"
   },
   {
    "duration": 15,
    "start_time": "2022-03-04T17:09:45.484Z"
   },
   {
    "duration": 16,
    "start_time": "2022-03-04T17:09:45.532Z"
   },
   {
    "duration": 14,
    "start_time": "2022-03-04T17:09:45.551Z"
   },
   {
    "duration": 4,
    "start_time": "2022-03-04T17:09:45.568Z"
   },
   {
    "duration": 27,
    "start_time": "2022-03-04T17:09:45.574Z"
   },
   {
    "duration": 18,
    "start_time": "2022-03-04T17:09:45.633Z"
   },
   {
    "duration": 19,
    "start_time": "2022-03-04T17:09:45.656Z"
   },
   {
    "duration": 18,
    "start_time": "2022-03-04T17:09:45.678Z"
   },
   {
    "duration": 21,
    "start_time": "2022-03-04T17:09:45.732Z"
   },
   {
    "duration": 18,
    "start_time": "2022-03-04T17:09:45.755Z"
   },
   {
    "duration": 123,
    "start_time": "2022-03-04T17:09:45.775Z"
   },
   {
    "duration": 31,
    "start_time": "2022-03-04T17:09:45.901Z"
   },
   {
    "duration": 14,
    "start_time": "2022-03-04T17:09:45.935Z"
   },
   {
    "duration": 6,
    "start_time": "2022-03-04T17:09:45.952Z"
   },
   {
    "duration": 41,
    "start_time": "2022-03-04T17:09:45.961Z"
   },
   {
    "duration": 25,
    "start_time": "2022-03-04T17:09:46.032Z"
   },
   {
    "duration": 34,
    "start_time": "2022-03-04T17:09:46.060Z"
   },
   {
    "duration": 49,
    "start_time": "2022-03-04T17:09:46.097Z"
   },
   {
    "duration": 14,
    "start_time": "2022-03-04T17:09:46.148Z"
   },
   {
    "duration": 5,
    "start_time": "2022-03-04T17:09:46.165Z"
   },
   {
    "duration": 11,
    "start_time": "2022-03-04T17:09:46.173Z"
   },
   {
    "duration": 47,
    "start_time": "2022-03-04T17:09:46.187Z"
   },
   {
    "duration": 723,
    "start_time": "2022-03-04T17:50:54.157Z"
   },
   {
    "duration": 184,
    "start_time": "2022-03-04T17:50:54.882Z"
   },
   {
    "duration": 27,
    "start_time": "2022-03-04T17:50:55.069Z"
   },
   {
    "duration": 49,
    "start_time": "2022-03-04T17:50:55.100Z"
   },
   {
    "duration": 5,
    "start_time": "2022-03-04T17:50:55.152Z"
   },
   {
    "duration": 42,
    "start_time": "2022-03-04T17:50:55.159Z"
   },
   {
    "duration": 7,
    "start_time": "2022-03-04T17:50:55.232Z"
   },
   {
    "duration": 32,
    "start_time": "2022-03-04T17:50:55.241Z"
   },
   {
    "duration": 62,
    "start_time": "2022-03-04T17:50:55.277Z"
   },
   {
    "duration": 31,
    "start_time": "2022-03-04T17:50:55.342Z"
   },
   {
    "duration": 109,
    "start_time": "2022-03-04T17:50:55.375Z"
   },
   {
    "duration": 117,
    "start_time": "2022-03-04T17:50:55.487Z"
   },
   {
    "duration": 86,
    "start_time": "2022-03-04T17:50:55.607Z"
   },
   {
    "duration": 13,
    "start_time": "2022-03-04T17:50:55.696Z"
   },
   {
    "duration": 20,
    "start_time": "2022-03-04T17:50:55.712Z"
   },
   {
    "duration": 24,
    "start_time": "2022-03-04T17:50:55.734Z"
   },
   {
    "duration": 14,
    "start_time": "2022-03-04T17:50:55.760Z"
   },
   {
    "duration": 14,
    "start_time": "2022-03-04T17:50:55.776Z"
   },
   {
    "duration": 47,
    "start_time": "2022-03-04T17:50:55.793Z"
   },
   {
    "duration": 5,
    "start_time": "2022-03-04T17:50:55.842Z"
   },
   {
    "duration": 27,
    "start_time": "2022-03-04T17:50:55.849Z"
   },
   {
    "duration": 55,
    "start_time": "2022-03-04T17:50:55.879Z"
   },
   {
    "duration": 28,
    "start_time": "2022-03-04T17:50:55.937Z"
   },
   {
    "duration": 27,
    "start_time": "2022-03-04T17:50:55.968Z"
   },
   {
    "duration": 53,
    "start_time": "2022-03-04T17:50:55.998Z"
   },
   {
    "duration": 26,
    "start_time": "2022-03-04T17:50:56.054Z"
   },
   {
    "duration": 168,
    "start_time": "2022-03-04T17:50:56.086Z"
   },
   {
    "duration": 20,
    "start_time": "2022-03-04T17:50:56.257Z"
   },
   {
    "duration": 16,
    "start_time": "2022-03-04T17:50:56.280Z"
   },
   {
    "duration": 6,
    "start_time": "2022-03-04T17:50:56.299Z"
   },
   {
    "duration": 26,
    "start_time": "2022-03-04T17:50:56.332Z"
   },
   {
    "duration": 16,
    "start_time": "2022-03-04T17:50:56.361Z"
   },
   {
    "duration": 60,
    "start_time": "2022-03-04T17:50:56.379Z"
   },
   {
    "duration": 18,
    "start_time": "2022-03-04T17:50:56.441Z"
   },
   {
    "duration": 14,
    "start_time": "2022-03-04T17:50:56.461Z"
   },
   {
    "duration": 6,
    "start_time": "2022-03-04T17:50:56.477Z"
   },
   {
    "duration": 49,
    "start_time": "2022-03-04T17:50:56.486Z"
   },
   {
    "duration": 6,
    "start_time": "2022-03-04T17:50:56.537Z"
   },
   {
    "duration": 647,
    "start_time": "2022-03-09T14:12:46.094Z"
   },
   {
    "duration": 159,
    "start_time": "2022-03-09T14:12:46.743Z"
   },
   {
    "duration": 20,
    "start_time": "2022-03-09T14:12:46.904Z"
   },
   {
    "duration": 28,
    "start_time": "2022-03-09T14:12:46.926Z"
   },
   {
    "duration": 5,
    "start_time": "2022-03-09T14:12:46.956Z"
   },
   {
    "duration": 23,
    "start_time": "2022-03-09T14:12:46.978Z"
   },
   {
    "duration": 7,
    "start_time": "2022-03-09T14:12:47.003Z"
   },
   {
    "duration": 28,
    "start_time": "2022-03-09T14:12:47.013Z"
   },
   {
    "duration": 46,
    "start_time": "2022-03-09T14:12:47.044Z"
   },
   {
    "duration": 26,
    "start_time": "2022-03-09T14:12:47.091Z"
   },
   {
    "duration": 82,
    "start_time": "2022-03-09T14:12:47.119Z"
   },
   {
    "duration": 88,
    "start_time": "2022-03-09T14:12:47.203Z"
   },
   {
    "duration": 56,
    "start_time": "2022-03-09T14:12:47.293Z"
   },
   {
    "duration": 59,
    "start_time": "2022-03-09T14:12:47.351Z"
   },
   {
    "duration": 3,
    "start_time": "2022-03-09T14:12:47.412Z"
   },
   {
    "duration": 20,
    "start_time": "2022-03-09T14:12:47.417Z"
   },
   {
    "duration": 66,
    "start_time": "2022-03-09T14:12:47.439Z"
   },
   {
    "duration": 13,
    "start_time": "2022-03-09T14:12:47.507Z"
   },
   {
    "duration": 12,
    "start_time": "2022-03-09T14:12:47.522Z"
   },
   {
    "duration": 3,
    "start_time": "2022-03-09T14:12:47.537Z"
   },
   {
    "duration": 51,
    "start_time": "2022-03-09T14:12:47.542Z"
   },
   {
    "duration": 16,
    "start_time": "2022-03-09T14:12:47.595Z"
   },
   {
    "duration": 16,
    "start_time": "2022-03-09T14:12:47.615Z"
   },
   {
    "duration": 45,
    "start_time": "2022-03-09T14:12:47.633Z"
   },
   {
    "duration": 18,
    "start_time": "2022-03-09T14:12:47.680Z"
   },
   {
    "duration": 15,
    "start_time": "2022-03-09T14:12:47.701Z"
   },
   {
    "duration": 103,
    "start_time": "2022-03-09T14:12:47.718Z"
   },
   {
    "duration": 11,
    "start_time": "2022-03-09T14:12:47.822Z"
   },
   {
    "duration": 11,
    "start_time": "2022-03-09T14:12:47.835Z"
   },
   {
    "duration": 4,
    "start_time": "2022-03-09T14:12:47.848Z"
   },
   {
    "duration": 36,
    "start_time": "2022-03-09T14:12:47.854Z"
   },
   {
    "duration": 14,
    "start_time": "2022-03-09T14:12:47.892Z"
   },
   {
    "duration": 20,
    "start_time": "2022-03-09T14:12:47.908Z"
   },
   {
    "duration": 47,
    "start_time": "2022-03-09T14:12:47.930Z"
   },
   {
    "duration": 11,
    "start_time": "2022-03-09T14:12:47.980Z"
   },
   {
    "duration": 5,
    "start_time": "2022-03-09T14:12:47.993Z"
   },
   {
    "duration": 11,
    "start_time": "2022-03-09T14:12:48.001Z"
   },
   {
    "duration": 6,
    "start_time": "2022-03-09T14:12:48.014Z"
   },
   {
    "duration": 695,
    "start_time": "2022-03-10T15:42:38.503Z"
   },
   {
    "duration": 235,
    "start_time": "2022-03-10T15:42:39.201Z"
   },
   {
    "duration": 27,
    "start_time": "2022-03-10T15:42:39.440Z"
   },
   {
    "duration": 48,
    "start_time": "2022-03-10T15:42:39.470Z"
   },
   {
    "duration": 4,
    "start_time": "2022-03-10T15:42:39.521Z"
   },
   {
    "duration": 24,
    "start_time": "2022-03-10T15:42:39.527Z"
   },
   {
    "duration": 4,
    "start_time": "2022-03-10T15:42:39.553Z"
   },
   {
    "duration": 57,
    "start_time": "2022-03-10T15:42:39.560Z"
   },
   {
    "duration": 21,
    "start_time": "2022-03-10T15:42:39.619Z"
   },
   {
    "duration": 24,
    "start_time": "2022-03-10T15:42:39.642Z"
   },
   {
    "duration": 94,
    "start_time": "2022-03-10T15:42:39.668Z"
   },
   {
    "duration": 93,
    "start_time": "2022-03-10T15:42:39.763Z"
   },
   {
    "duration": 76,
    "start_time": "2022-03-10T15:42:39.858Z"
   },
   {
    "duration": 48,
    "start_time": "2022-03-10T15:42:39.936Z"
   },
   {
    "duration": 17,
    "start_time": "2022-03-10T15:42:39.986Z"
   },
   {
    "duration": 26,
    "start_time": "2022-03-10T15:42:40.006Z"
   },
   {
    "duration": 67,
    "start_time": "2022-03-10T15:42:40.035Z"
   },
   {
    "duration": 15,
    "start_time": "2022-03-10T15:42:40.104Z"
   },
   {
    "duration": 14,
    "start_time": "2022-03-10T15:42:40.122Z"
   },
   {
    "duration": 8,
    "start_time": "2022-03-10T15:42:40.139Z"
   },
   {
    "duration": 29,
    "start_time": "2022-03-10T15:42:40.149Z"
   },
   {
    "duration": 18,
    "start_time": "2022-03-10T15:42:40.202Z"
   },
   {
    "duration": 25,
    "start_time": "2022-03-10T15:42:40.226Z"
   },
   {
    "duration": 48,
    "start_time": "2022-03-10T15:42:40.253Z"
   },
   {
    "duration": 23,
    "start_time": "2022-03-10T15:42:40.303Z"
   },
   {
    "duration": 17,
    "start_time": "2022-03-10T15:42:40.328Z"
   },
   {
    "duration": 151,
    "start_time": "2022-03-10T15:42:40.347Z"
   },
   {
    "duration": 18,
    "start_time": "2022-03-10T15:42:40.500Z"
   },
   {
    "duration": 15,
    "start_time": "2022-03-10T15:42:40.521Z"
   },
   {
    "duration": 6,
    "start_time": "2022-03-10T15:42:40.539Z"
   },
   {
    "duration": 61,
    "start_time": "2022-03-10T15:42:40.548Z"
   },
   {
    "duration": 21,
    "start_time": "2022-03-10T15:42:40.612Z"
   },
   {
    "duration": 33,
    "start_time": "2022-03-10T15:42:40.636Z"
   },
   {
    "duration": 43,
    "start_time": "2022-03-10T15:42:40.672Z"
   },
   {
    "duration": 13,
    "start_time": "2022-03-10T15:42:40.718Z"
   },
   {
    "duration": 6,
    "start_time": "2022-03-10T15:42:40.734Z"
   },
   {
    "duration": 13,
    "start_time": "2022-03-10T15:42:40.742Z"
   },
   {
    "duration": 8,
    "start_time": "2022-03-10T15:42:40.757Z"
   },
   {
    "duration": 70,
    "start_time": "2022-04-06T15:47:22.396Z"
   },
   {
    "duration": 507,
    "start_time": "2022-04-06T15:47:26.623Z"
   },
   {
    "duration": 196,
    "start_time": "2022-04-06T15:47:27.134Z"
   },
   {
    "duration": 35,
    "start_time": "2022-04-06T15:47:27.333Z"
   },
   {
    "duration": 42,
    "start_time": "2022-04-06T15:47:27.371Z"
   },
   {
    "duration": 5,
    "start_time": "2022-04-06T15:47:27.415Z"
   },
   {
    "duration": 46,
    "start_time": "2022-04-06T15:47:27.423Z"
   },
   {
    "duration": 7,
    "start_time": "2022-04-06T15:47:27.472Z"
   },
   {
    "duration": 49,
    "start_time": "2022-04-06T15:47:27.482Z"
   },
   {
    "duration": 51,
    "start_time": "2022-04-06T15:47:27.534Z"
   },
   {
    "duration": 50,
    "start_time": "2022-04-06T15:47:27.591Z"
   },
   {
    "duration": 111,
    "start_time": "2022-04-06T15:47:27.643Z"
   },
   {
    "duration": 123,
    "start_time": "2022-04-06T15:47:27.756Z"
   },
   {
    "duration": 94,
    "start_time": "2022-04-06T15:47:27.881Z"
   },
   {
    "duration": 45,
    "start_time": "2022-04-06T15:47:27.977Z"
   },
   {
    "duration": 4,
    "start_time": "2022-04-06T15:47:28.024Z"
   },
   {
    "duration": 59,
    "start_time": "2022-04-06T15:47:28.029Z"
   },
   {
    "duration": 52,
    "start_time": "2022-04-06T15:47:28.091Z"
   },
   {
    "duration": 34,
    "start_time": "2022-04-06T15:47:28.145Z"
   },
   {
    "duration": 18,
    "start_time": "2022-04-06T15:47:28.181Z"
   },
   {
    "duration": 5,
    "start_time": "2022-04-06T15:47:28.201Z"
   },
   {
    "duration": 21,
    "start_time": "2022-04-06T15:47:28.209Z"
   },
   {
    "duration": 17,
    "start_time": "2022-04-06T15:47:28.268Z"
   },
   {
    "duration": 19,
    "start_time": "2022-04-06T15:47:28.287Z"
   },
   {
    "duration": 18,
    "start_time": "2022-04-06T15:47:28.308Z"
   },
   {
    "duration": 58,
    "start_time": "2022-04-06T15:47:28.328Z"
   },
   {
    "duration": 19,
    "start_time": "2022-04-06T15:47:28.388Z"
   },
   {
    "duration": 113,
    "start_time": "2022-04-06T15:47:28.409Z"
   },
   {
    "duration": 15,
    "start_time": "2022-04-06T15:47:28.527Z"
   },
   {
    "duration": 30,
    "start_time": "2022-04-06T15:47:28.545Z"
   },
   {
    "duration": 5,
    "start_time": "2022-04-06T15:47:28.577Z"
   },
   {
    "duration": 30,
    "start_time": "2022-04-06T15:47:28.585Z"
   },
   {
    "duration": 16,
    "start_time": "2022-04-06T15:47:28.617Z"
   },
   {
    "duration": 50,
    "start_time": "2022-04-06T15:47:28.635Z"
   },
   {
    "duration": 29,
    "start_time": "2022-04-06T15:47:28.687Z"
   },
   {
    "duration": 16,
    "start_time": "2022-04-06T15:47:28.719Z"
   },
   {
    "duration": 32,
    "start_time": "2022-04-06T15:47:28.738Z"
   },
   {
    "duration": 14,
    "start_time": "2022-04-06T15:47:28.772Z"
   },
   {
    "duration": 13,
    "start_time": "2022-04-06T15:47:28.788Z"
   },
   {
    "duration": 51,
    "start_time": "2022-04-06T15:47:52.862Z"
   },
   {
    "duration": 110,
    "start_time": "2022-09-01T19:24:56.195Z"
   },
   {
    "duration": 72,
    "start_time": "2022-09-01T19:25:49.521Z"
   },
   {
    "duration": 81,
    "start_time": "2023-01-12T19:41:23.325Z"
   }
  ],
  "colab": {
   "collapsed_sections": [
    "E0vqbgi9ay0H",
    "VUC88oWjTJw2"
   ],
   "name": "yandex_music_project_2021.2.ipynb",
   "provenance": []
  },
  "kernelspec": {
   "display_name": "Python 3 (ipykernel)",
   "language": "python",
   "name": "python3"
  },
  "language_info": {
   "codemirror_mode": {
    "name": "ipython",
    "version": 3
   },
   "file_extension": ".py",
   "mimetype": "text/x-python",
   "name": "python",
   "nbconvert_exporter": "python",
   "pygments_lexer": "ipython3",
   "version": "3.9.5"
  },
  "toc": {
   "base_numbering": 1,
   "nav_menu": {},
   "number_sections": true,
   "sideBar": true,
   "skip_h1_title": true,
   "title_cell": "Table of Contents",
   "title_sidebar": "Contents",
   "toc_cell": false,
   "toc_position": {
    "height": "calc(100% - 180px)",
    "left": "10px",
    "top": "150px",
    "width": "281.6px"
   },
   "toc_section_display": true,
   "toc_window_display": true
  }
 },
 "nbformat": 4,
 "nbformat_minor": 1
}
