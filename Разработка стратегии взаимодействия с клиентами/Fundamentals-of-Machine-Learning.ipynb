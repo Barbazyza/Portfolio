{
 "cells": [
  {
   "cell_type": "markdown",
   "metadata": {},
   "source": [
    "1. [Загрузка данных](#start)\n",
    "\n",
    "\n",
    "2. [Проведения исследовательского анализа данных (EDA)](#EDA)\n",
    "    * [Пороверка датасета на отсутствующие значения (пропуски)](#a)\n",
    "    * [Изучение среднего значения и стандартного отклонения ](#b)\n",
    "    * [Построение столбчатых гистограмм и распределения признаков для тех, кто ушёл (отток) и тех, кто остался (не попали в отток)](#c)\n",
    "    * [Построение матрицы корреляции и отобразите её](#d)\n",
    "    \n",
    "\n",
    "3. [Построение модели прогнозирования оттока клиентов](#model)   \n",
    "    * [Разделение данных на обучающую и валидационную выборку функцией train_test_split()](#aa)\n",
    "    * [Обучение модели на train-выборке двумя способами](#bb)\n",
    "        * [Логистическая регрессия](#bba)\n",
    "        * [Случайный лес](#bbaa)\n",
    "\n",
    "\n",
    "4. [Кластеризация клиентов](#clustering)\n",
    "    * [Стандартизация данных](#aaa)\n",
    "    * [Построение матрицы расстояний функцией linkage() на стандартизованной матрице признаков и построение дендрограммы](#bbb)\n",
    "    * [Обучение модели кластеризации на основании алгоритма K-Means и прогнозирование кластеров клиентов ](#ccc)\n",
    "    * [Просмотр средних значений признаков для кластеров](#ddd)\n",
    "    * [Построение распределения признаков для кластеров](#eee)\n",
    "    * [Для каждого полученного кластера подсчет доли оттока](#fff)\n",
    "    \n",
    "    \n",
    "5. [Выводы](#aaaa)    "
   ]
  },
  {
   "cell_type": "markdown",
   "metadata": {},
   "source": [
    "## Загрузка данных\n",
    "<a id=\"start\"></a> "
   ]
  },
  {
   "cell_type": "code",
   "execution_count": 1,
   "metadata": {},
   "outputs": [],
   "source": [
    "import pandas as pd #импортирование библиотек\n",
    "import seaborn as sns\n",
    "import matplotlib.pyplot as plt\n",
    "from sklearn.model_selection import train_test_split\n",
    "from sklearn.linear_model import LogisticRegression\n",
    "from sklearn.metrics import accuracy_score, precision_score, recall_score, f1_score\n",
    "from sklearn.ensemble import RandomForestClassifier, GradientBoostingClassifier\n",
    "from sklearn.metrics import roc_auc_score\n",
    "from sklearn.preprocessing import StandardScaler\n",
    "from scipy.cluster.hierarchy import dendrogram, linkage \n",
    "from sklearn.cluster import KMeans"
   ]
  },
  {
   "cell_type": "code",
   "execution_count": 2,
   "metadata": {},
   "outputs": [],
   "source": [
    "data = pd.read_csv('...') #чтение датасета"
   ]
  },
  {
   "cell_type": "code",
   "execution_count": 3,
   "metadata": {},
   "outputs": [
    {
     "data": {
      "text/html": [
       "<div>\n",
       "<style scoped>\n",
       "    .dataframe tbody tr th:only-of-type {\n",
       "        vertical-align: middle;\n",
       "    }\n",
       "\n",
       "    .dataframe tbody tr th {\n",
       "        vertical-align: top;\n",
       "    }\n",
       "\n",
       "    .dataframe thead th {\n",
       "        text-align: right;\n",
       "    }\n",
       "</style>\n",
       "<table border=\"1\" class=\"dataframe\">\n",
       "  <thead>\n",
       "    <tr style=\"text-align: right;\">\n",
       "      <th></th>\n",
       "      <th>0</th>\n",
       "      <th>1</th>\n",
       "      <th>2</th>\n",
       "      <th>3</th>\n",
       "      <th>4</th>\n",
       "    </tr>\n",
       "  </thead>\n",
       "  <tbody>\n",
       "    <tr>\n",
       "      <th>gender</th>\n",
       "      <td>1.000000</td>\n",
       "      <td>0.000000</td>\n",
       "      <td>0.000000</td>\n",
       "      <td>0.000000</td>\n",
       "      <td>1.000000</td>\n",
       "    </tr>\n",
       "    <tr>\n",
       "      <th>Near_Location</th>\n",
       "      <td>1.000000</td>\n",
       "      <td>1.000000</td>\n",
       "      <td>1.000000</td>\n",
       "      <td>1.000000</td>\n",
       "      <td>1.000000</td>\n",
       "    </tr>\n",
       "    <tr>\n",
       "      <th>Partner</th>\n",
       "      <td>1.000000</td>\n",
       "      <td>0.000000</td>\n",
       "      <td>1.000000</td>\n",
       "      <td>1.000000</td>\n",
       "      <td>1.000000</td>\n",
       "    </tr>\n",
       "    <tr>\n",
       "      <th>Promo_friends</th>\n",
       "      <td>1.000000</td>\n",
       "      <td>0.000000</td>\n",
       "      <td>0.000000</td>\n",
       "      <td>1.000000</td>\n",
       "      <td>1.000000</td>\n",
       "    </tr>\n",
       "    <tr>\n",
       "      <th>Phone</th>\n",
       "      <td>0.000000</td>\n",
       "      <td>1.000000</td>\n",
       "      <td>1.000000</td>\n",
       "      <td>1.000000</td>\n",
       "      <td>1.000000</td>\n",
       "    </tr>\n",
       "    <tr>\n",
       "      <th>Contract_period</th>\n",
       "      <td>6.000000</td>\n",
       "      <td>12.000000</td>\n",
       "      <td>1.000000</td>\n",
       "      <td>12.000000</td>\n",
       "      <td>1.000000</td>\n",
       "    </tr>\n",
       "    <tr>\n",
       "      <th>Group_visits</th>\n",
       "      <td>1.000000</td>\n",
       "      <td>1.000000</td>\n",
       "      <td>0.000000</td>\n",
       "      <td>1.000000</td>\n",
       "      <td>0.000000</td>\n",
       "    </tr>\n",
       "    <tr>\n",
       "      <th>Age</th>\n",
       "      <td>29.000000</td>\n",
       "      <td>31.000000</td>\n",
       "      <td>28.000000</td>\n",
       "      <td>33.000000</td>\n",
       "      <td>26.000000</td>\n",
       "    </tr>\n",
       "    <tr>\n",
       "      <th>Avg_additional_charges_total</th>\n",
       "      <td>14.227470</td>\n",
       "      <td>113.202938</td>\n",
       "      <td>129.448479</td>\n",
       "      <td>62.669863</td>\n",
       "      <td>198.362265</td>\n",
       "    </tr>\n",
       "    <tr>\n",
       "      <th>Month_to_end_contract</th>\n",
       "      <td>5.000000</td>\n",
       "      <td>12.000000</td>\n",
       "      <td>1.000000</td>\n",
       "      <td>12.000000</td>\n",
       "      <td>1.000000</td>\n",
       "    </tr>\n",
       "    <tr>\n",
       "      <th>Lifetime</th>\n",
       "      <td>3.000000</td>\n",
       "      <td>7.000000</td>\n",
       "      <td>2.000000</td>\n",
       "      <td>2.000000</td>\n",
       "      <td>3.000000</td>\n",
       "    </tr>\n",
       "    <tr>\n",
       "      <th>Avg_class_frequency_total</th>\n",
       "      <td>0.020398</td>\n",
       "      <td>1.922936</td>\n",
       "      <td>1.859098</td>\n",
       "      <td>3.205633</td>\n",
       "      <td>1.113884</td>\n",
       "    </tr>\n",
       "    <tr>\n",
       "      <th>Avg_class_frequency_current_month</th>\n",
       "      <td>0.000000</td>\n",
       "      <td>1.910244</td>\n",
       "      <td>1.736502</td>\n",
       "      <td>3.357215</td>\n",
       "      <td>1.120078</td>\n",
       "    </tr>\n",
       "    <tr>\n",
       "      <th>Churn</th>\n",
       "      <td>0.000000</td>\n",
       "      <td>0.000000</td>\n",
       "      <td>0.000000</td>\n",
       "      <td>0.000000</td>\n",
       "      <td>0.000000</td>\n",
       "    </tr>\n",
       "  </tbody>\n",
       "</table>\n",
       "</div>"
      ],
      "text/plain": [
       "                                           0           1           2  \\\n",
       "gender                              1.000000    0.000000    0.000000   \n",
       "Near_Location                       1.000000    1.000000    1.000000   \n",
       "Partner                             1.000000    0.000000    1.000000   \n",
       "Promo_friends                       1.000000    0.000000    0.000000   \n",
       "Phone                               0.000000    1.000000    1.000000   \n",
       "Contract_period                     6.000000   12.000000    1.000000   \n",
       "Group_visits                        1.000000    1.000000    0.000000   \n",
       "Age                                29.000000   31.000000   28.000000   \n",
       "Avg_additional_charges_total       14.227470  113.202938  129.448479   \n",
       "Month_to_end_contract               5.000000   12.000000    1.000000   \n",
       "Lifetime                            3.000000    7.000000    2.000000   \n",
       "Avg_class_frequency_total           0.020398    1.922936    1.859098   \n",
       "Avg_class_frequency_current_month   0.000000    1.910244    1.736502   \n",
       "Churn                               0.000000    0.000000    0.000000   \n",
       "\n",
       "                                           3           4  \n",
       "gender                              0.000000    1.000000  \n",
       "Near_Location                       1.000000    1.000000  \n",
       "Partner                             1.000000    1.000000  \n",
       "Promo_friends                       1.000000    1.000000  \n",
       "Phone                               1.000000    1.000000  \n",
       "Contract_period                    12.000000    1.000000  \n",
       "Group_visits                        1.000000    0.000000  \n",
       "Age                                33.000000   26.000000  \n",
       "Avg_additional_charges_total       62.669863  198.362265  \n",
       "Month_to_end_contract              12.000000    1.000000  \n",
       "Lifetime                            2.000000    3.000000  \n",
       "Avg_class_frequency_total           3.205633    1.113884  \n",
       "Avg_class_frequency_current_month   3.357215    1.120078  \n",
       "Churn                               0.000000    0.000000  "
      ]
     },
     "execution_count": 3,
     "metadata": {},
     "output_type": "execute_result"
    }
   ],
   "source": [
    "data.head().T #просмотр датасета"
   ]
  },
  {
   "cell_type": "markdown",
   "metadata": {},
   "source": [
    "`'gender'` — пол;\n",
    "\n",
    "`'Near_Location'` — проживание или работа в районе, где находится фитнес-центр;\n",
    "\n",
    "`'Partner'` — сотрудник компании-партнёра клуба (сотрудничество с компаниями, чьи сотрудники могут получать скидки на абонемент — в таком случае фитнес-центр хранит информацию о работодателе клиента);\n",
    "\n",
    "`Promo_friends` — факт первоначальной записи в рамках акции «приведи друга» (использовал промо-код от знакомого при оплате первого абонемента);\n",
    "\n",
    "`'Phone'` — наличие контактного телефона;\n",
    "\n",
    "`'Contract_period'` — длительность текущего действующего абонемента (месяц, 6 месяцев, год);\n",
    "\n",
    "`'Group_visits'` — факт посещения групповых занятий;\n",
    "\n",
    "`'Age'` — возраст;\n",
    "\n",
    "`'Avg_additional_charges_total'` — суммарная выручка от других услуг фитнес-центра: кафе, спорттовары, косметический и массажный салон.\n",
    "\n",
    "`'Month_to_end_contract'` — срок до окончания текущего действующего абонемента (в месяцах);\n",
    "\n",
    "`'Lifetime'` — время с момента первого обращения в фитнес-центр (в месяцах). \n",
    "\n",
    "`'Avg_class_frequency_total'` — средняя частота посещений в неделю за все время с начала действия абонемента;\n",
    "\n",
    "`'Avg_class_frequency_current_month'` — средняя частота посещений в неделю за предыдущий месяц;\n",
    "\n",
    "`'Churn'` — факт оттока в текущем месяце."
   ]
  },
  {
   "cell_type": "code",
   "execution_count": 4,
   "metadata": {},
   "outputs": [
    {
     "name": "stdout",
     "output_type": "stream",
     "text": [
      "<class 'pandas.core.frame.DataFrame'>\n",
      "RangeIndex: 4000 entries, 0 to 3999\n",
      "Data columns (total 14 columns):\n",
      " #   Column                             Non-Null Count  Dtype  \n",
      "---  ------                             --------------  -----  \n",
      " 0   gender                             4000 non-null   int64  \n",
      " 1   Near_Location                      4000 non-null   int64  \n",
      " 2   Partner                            4000 non-null   int64  \n",
      " 3   Promo_friends                      4000 non-null   int64  \n",
      " 4   Phone                              4000 non-null   int64  \n",
      " 5   Contract_period                    4000 non-null   int64  \n",
      " 6   Group_visits                       4000 non-null   int64  \n",
      " 7   Age                                4000 non-null   int64  \n",
      " 8   Avg_additional_charges_total       4000 non-null   float64\n",
      " 9   Month_to_end_contract              4000 non-null   float64\n",
      " 10  Lifetime                           4000 non-null   int64  \n",
      " 11  Avg_class_frequency_total          4000 non-null   float64\n",
      " 12  Avg_class_frequency_current_month  4000 non-null   float64\n",
      " 13  Churn                              4000 non-null   int64  \n",
      "dtypes: float64(4), int64(10)\n",
      "memory usage: 437.6 KB\n"
     ]
    }
   ],
   "source": [
    "data.info() #просмотр информации"
   ]
  },
  {
   "cell_type": "code",
   "execution_count": 5,
   "metadata": {},
   "outputs": [],
   "source": [
    "data['Avg_additional_charges_total'] = data['Avg_additional_charges_total'].round(2) #изменение знаков после запятой\n",
    "data['Month_to_end_contract'] = data['Month_to_end_contract'].round(2)\n",
    "data['Avg_class_frequency_total'] = data['Avg_class_frequency_total'].round(2)\n",
    "data['Avg_class_frequency_current_month'] = data['Avg_class_frequency_current_month'].round(2)"
   ]
  },
  {
   "cell_type": "code",
   "execution_count": 6,
   "metadata": {},
   "outputs": [
    {
     "data": {
      "text/html": [
       "<div>\n",
       "<style scoped>\n",
       "    .dataframe tbody tr th:only-of-type {\n",
       "        vertical-align: middle;\n",
       "    }\n",
       "\n",
       "    .dataframe tbody tr th {\n",
       "        vertical-align: top;\n",
       "    }\n",
       "\n",
       "    .dataframe thead th {\n",
       "        text-align: right;\n",
       "    }\n",
       "</style>\n",
       "<table border=\"1\" class=\"dataframe\">\n",
       "  <thead>\n",
       "    <tr style=\"text-align: right;\">\n",
       "      <th></th>\n",
       "      <th>0</th>\n",
       "      <th>1</th>\n",
       "      <th>2</th>\n",
       "      <th>3</th>\n",
       "      <th>4</th>\n",
       "    </tr>\n",
       "  </thead>\n",
       "  <tbody>\n",
       "    <tr>\n",
       "      <th>gender</th>\n",
       "      <td>1.00</td>\n",
       "      <td>0.00</td>\n",
       "      <td>0.00</td>\n",
       "      <td>0.00</td>\n",
       "      <td>1.00</td>\n",
       "    </tr>\n",
       "    <tr>\n",
       "      <th>Near_Location</th>\n",
       "      <td>1.00</td>\n",
       "      <td>1.00</td>\n",
       "      <td>1.00</td>\n",
       "      <td>1.00</td>\n",
       "      <td>1.00</td>\n",
       "    </tr>\n",
       "    <tr>\n",
       "      <th>Partner</th>\n",
       "      <td>1.00</td>\n",
       "      <td>0.00</td>\n",
       "      <td>1.00</td>\n",
       "      <td>1.00</td>\n",
       "      <td>1.00</td>\n",
       "    </tr>\n",
       "    <tr>\n",
       "      <th>Promo_friends</th>\n",
       "      <td>1.00</td>\n",
       "      <td>0.00</td>\n",
       "      <td>0.00</td>\n",
       "      <td>1.00</td>\n",
       "      <td>1.00</td>\n",
       "    </tr>\n",
       "    <tr>\n",
       "      <th>Phone</th>\n",
       "      <td>0.00</td>\n",
       "      <td>1.00</td>\n",
       "      <td>1.00</td>\n",
       "      <td>1.00</td>\n",
       "      <td>1.00</td>\n",
       "    </tr>\n",
       "    <tr>\n",
       "      <th>Contract_period</th>\n",
       "      <td>6.00</td>\n",
       "      <td>12.00</td>\n",
       "      <td>1.00</td>\n",
       "      <td>12.00</td>\n",
       "      <td>1.00</td>\n",
       "    </tr>\n",
       "    <tr>\n",
       "      <th>Group_visits</th>\n",
       "      <td>1.00</td>\n",
       "      <td>1.00</td>\n",
       "      <td>0.00</td>\n",
       "      <td>1.00</td>\n",
       "      <td>0.00</td>\n",
       "    </tr>\n",
       "    <tr>\n",
       "      <th>Age</th>\n",
       "      <td>29.00</td>\n",
       "      <td>31.00</td>\n",
       "      <td>28.00</td>\n",
       "      <td>33.00</td>\n",
       "      <td>26.00</td>\n",
       "    </tr>\n",
       "    <tr>\n",
       "      <th>Avg_additional_charges_total</th>\n",
       "      <td>14.23</td>\n",
       "      <td>113.20</td>\n",
       "      <td>129.45</td>\n",
       "      <td>62.67</td>\n",
       "      <td>198.36</td>\n",
       "    </tr>\n",
       "    <tr>\n",
       "      <th>Month_to_end_contract</th>\n",
       "      <td>5.00</td>\n",
       "      <td>12.00</td>\n",
       "      <td>1.00</td>\n",
       "      <td>12.00</td>\n",
       "      <td>1.00</td>\n",
       "    </tr>\n",
       "    <tr>\n",
       "      <th>Lifetime</th>\n",
       "      <td>3.00</td>\n",
       "      <td>7.00</td>\n",
       "      <td>2.00</td>\n",
       "      <td>2.00</td>\n",
       "      <td>3.00</td>\n",
       "    </tr>\n",
       "    <tr>\n",
       "      <th>Avg_class_frequency_total</th>\n",
       "      <td>0.02</td>\n",
       "      <td>1.92</td>\n",
       "      <td>1.86</td>\n",
       "      <td>3.21</td>\n",
       "      <td>1.11</td>\n",
       "    </tr>\n",
       "    <tr>\n",
       "      <th>Avg_class_frequency_current_month</th>\n",
       "      <td>0.00</td>\n",
       "      <td>1.91</td>\n",
       "      <td>1.74</td>\n",
       "      <td>3.36</td>\n",
       "      <td>1.12</td>\n",
       "    </tr>\n",
       "    <tr>\n",
       "      <th>Churn</th>\n",
       "      <td>0.00</td>\n",
       "      <td>0.00</td>\n",
       "      <td>0.00</td>\n",
       "      <td>0.00</td>\n",
       "      <td>0.00</td>\n",
       "    </tr>\n",
       "  </tbody>\n",
       "</table>\n",
       "</div>"
      ],
      "text/plain": [
       "                                       0       1       2      3       4\n",
       "gender                              1.00    0.00    0.00   0.00    1.00\n",
       "Near_Location                       1.00    1.00    1.00   1.00    1.00\n",
       "Partner                             1.00    0.00    1.00   1.00    1.00\n",
       "Promo_friends                       1.00    0.00    0.00   1.00    1.00\n",
       "Phone                               0.00    1.00    1.00   1.00    1.00\n",
       "Contract_period                     6.00   12.00    1.00  12.00    1.00\n",
       "Group_visits                        1.00    1.00    0.00   1.00    0.00\n",
       "Age                                29.00   31.00   28.00  33.00   26.00\n",
       "Avg_additional_charges_total       14.23  113.20  129.45  62.67  198.36\n",
       "Month_to_end_contract               5.00   12.00    1.00  12.00    1.00\n",
       "Lifetime                            3.00    7.00    2.00   2.00    3.00\n",
       "Avg_class_frequency_total           0.02    1.92    1.86   3.21    1.11\n",
       "Avg_class_frequency_current_month   0.00    1.91    1.74   3.36    1.12\n",
       "Churn                               0.00    0.00    0.00   0.00    0.00"
      ]
     },
     "execution_count": 6,
     "metadata": {},
     "output_type": "execute_result"
    }
   ],
   "source": [
    "data.head().T #просмотр измененого датасета"
   ]
  },
  {
   "cell_type": "markdown",
   "metadata": {},
   "source": [
    "**Вывод:**"
   ]
  },
  {
   "cell_type": "markdown",
   "metadata": {},
   "source": [
    "В датасете все типы данных правильные. В типе данных `float64`, колличество знаков после запятой было уменьшено до 2х."
   ]
  },
  {
   "cell_type": "markdown",
   "metadata": {},
   "source": [
    "## Проведения исследовательского анализа данных (EDA)\n",
    "<a id=\"EDA\"></a> "
   ]
  },
  {
   "cell_type": "markdown",
   "metadata": {},
   "source": [
    "### Пороверка датасета на отсутствующие значения (пропуски)\n",
    "<a id=\"a\"></a> "
   ]
  },
  {
   "cell_type": "code",
   "execution_count": 7,
   "metadata": {},
   "outputs": [
    {
     "name": "stdout",
     "output_type": "stream",
     "text": [
      "<class 'pandas.core.frame.DataFrame'>\n",
      "RangeIndex: 4000 entries, 0 to 3999\n",
      "Data columns (total 14 columns):\n",
      " #   Column                             Non-Null Count  Dtype  \n",
      "---  ------                             --------------  -----  \n",
      " 0   gender                             4000 non-null   int64  \n",
      " 1   Near_Location                      4000 non-null   int64  \n",
      " 2   Partner                            4000 non-null   int64  \n",
      " 3   Promo_friends                      4000 non-null   int64  \n",
      " 4   Phone                              4000 non-null   int64  \n",
      " 5   Contract_period                    4000 non-null   int64  \n",
      " 6   Group_visits                       4000 non-null   int64  \n",
      " 7   Age                                4000 non-null   int64  \n",
      " 8   Avg_additional_charges_total       4000 non-null   float64\n",
      " 9   Month_to_end_contract              4000 non-null   float64\n",
      " 10  Lifetime                           4000 non-null   int64  \n",
      " 11  Avg_class_frequency_total          4000 non-null   float64\n",
      " 12  Avg_class_frequency_current_month  4000 non-null   float64\n",
      " 13  Churn                              4000 non-null   int64  \n",
      "dtypes: float64(4), int64(10)\n",
      "memory usage: 437.6 KB\n"
     ]
    }
   ],
   "source": [
    "data.info()"
   ]
  },
  {
   "cell_type": "code",
   "execution_count": 8,
   "metadata": {},
   "outputs": [
    {
     "data": {
      "text/plain": [
       "0"
      ]
     },
     "execution_count": 8,
     "metadata": {},
     "output_type": "execute_result"
    }
   ],
   "source": [
    "data.duplicated().sum()"
   ]
  },
  {
   "cell_type": "code",
   "execution_count": 9,
   "metadata": {},
   "outputs": [
    {
     "data": {
      "text/html": [
       "<div>\n",
       "<style scoped>\n",
       "    .dataframe tbody tr th:only-of-type {\n",
       "        vertical-align: middle;\n",
       "    }\n",
       "\n",
       "    .dataframe tbody tr th {\n",
       "        vertical-align: top;\n",
       "    }\n",
       "\n",
       "    .dataframe thead th {\n",
       "        text-align: right;\n",
       "    }\n",
       "</style>\n",
       "<table border=\"1\" class=\"dataframe\">\n",
       "  <thead>\n",
       "    <tr style=\"text-align: right;\">\n",
       "      <th></th>\n",
       "      <th>count</th>\n",
       "      <th>mean</th>\n",
       "      <th>std</th>\n",
       "      <th>min</th>\n",
       "      <th>25%</th>\n",
       "      <th>50%</th>\n",
       "      <th>75%</th>\n",
       "      <th>max</th>\n",
       "    </tr>\n",
       "  </thead>\n",
       "  <tbody>\n",
       "    <tr>\n",
       "      <th>gender</th>\n",
       "      <td>4000.0</td>\n",
       "      <td>0.51</td>\n",
       "      <td>0.50</td>\n",
       "      <td>0.00</td>\n",
       "      <td>0.00</td>\n",
       "      <td>1.00</td>\n",
       "      <td>1.00</td>\n",
       "      <td>1.00</td>\n",
       "    </tr>\n",
       "    <tr>\n",
       "      <th>Near_Location</th>\n",
       "      <td>4000.0</td>\n",
       "      <td>0.85</td>\n",
       "      <td>0.36</td>\n",
       "      <td>0.00</td>\n",
       "      <td>1.00</td>\n",
       "      <td>1.00</td>\n",
       "      <td>1.00</td>\n",
       "      <td>1.00</td>\n",
       "    </tr>\n",
       "    <tr>\n",
       "      <th>Partner</th>\n",
       "      <td>4000.0</td>\n",
       "      <td>0.49</td>\n",
       "      <td>0.50</td>\n",
       "      <td>0.00</td>\n",
       "      <td>0.00</td>\n",
       "      <td>0.00</td>\n",
       "      <td>1.00</td>\n",
       "      <td>1.00</td>\n",
       "    </tr>\n",
       "    <tr>\n",
       "      <th>Promo_friends</th>\n",
       "      <td>4000.0</td>\n",
       "      <td>0.31</td>\n",
       "      <td>0.46</td>\n",
       "      <td>0.00</td>\n",
       "      <td>0.00</td>\n",
       "      <td>0.00</td>\n",
       "      <td>1.00</td>\n",
       "      <td>1.00</td>\n",
       "    </tr>\n",
       "    <tr>\n",
       "      <th>Phone</th>\n",
       "      <td>4000.0</td>\n",
       "      <td>0.90</td>\n",
       "      <td>0.30</td>\n",
       "      <td>0.00</td>\n",
       "      <td>1.00</td>\n",
       "      <td>1.00</td>\n",
       "      <td>1.00</td>\n",
       "      <td>1.00</td>\n",
       "    </tr>\n",
       "    <tr>\n",
       "      <th>Contract_period</th>\n",
       "      <td>4000.0</td>\n",
       "      <td>4.68</td>\n",
       "      <td>4.55</td>\n",
       "      <td>1.00</td>\n",
       "      <td>1.00</td>\n",
       "      <td>1.00</td>\n",
       "      <td>6.00</td>\n",
       "      <td>12.00</td>\n",
       "    </tr>\n",
       "    <tr>\n",
       "      <th>Group_visits</th>\n",
       "      <td>4000.0</td>\n",
       "      <td>0.41</td>\n",
       "      <td>0.49</td>\n",
       "      <td>0.00</td>\n",
       "      <td>0.00</td>\n",
       "      <td>0.00</td>\n",
       "      <td>1.00</td>\n",
       "      <td>1.00</td>\n",
       "    </tr>\n",
       "    <tr>\n",
       "      <th>Age</th>\n",
       "      <td>4000.0</td>\n",
       "      <td>29.18</td>\n",
       "      <td>3.26</td>\n",
       "      <td>18.00</td>\n",
       "      <td>27.00</td>\n",
       "      <td>29.00</td>\n",
       "      <td>31.00</td>\n",
       "      <td>41.00</td>\n",
       "    </tr>\n",
       "    <tr>\n",
       "      <th>Avg_additional_charges_total</th>\n",
       "      <td>4000.0</td>\n",
       "      <td>146.94</td>\n",
       "      <td>96.36</td>\n",
       "      <td>0.15</td>\n",
       "      <td>68.86</td>\n",
       "      <td>136.22</td>\n",
       "      <td>210.95</td>\n",
       "      <td>552.59</td>\n",
       "    </tr>\n",
       "    <tr>\n",
       "      <th>Month_to_end_contract</th>\n",
       "      <td>4000.0</td>\n",
       "      <td>4.32</td>\n",
       "      <td>4.19</td>\n",
       "      <td>1.00</td>\n",
       "      <td>1.00</td>\n",
       "      <td>1.00</td>\n",
       "      <td>6.00</td>\n",
       "      <td>12.00</td>\n",
       "    </tr>\n",
       "    <tr>\n",
       "      <th>Lifetime</th>\n",
       "      <td>4000.0</td>\n",
       "      <td>3.72</td>\n",
       "      <td>3.75</td>\n",
       "      <td>0.00</td>\n",
       "      <td>1.00</td>\n",
       "      <td>3.00</td>\n",
       "      <td>5.00</td>\n",
       "      <td>31.00</td>\n",
       "    </tr>\n",
       "    <tr>\n",
       "      <th>Avg_class_frequency_total</th>\n",
       "      <td>4000.0</td>\n",
       "      <td>1.88</td>\n",
       "      <td>0.97</td>\n",
       "      <td>0.00</td>\n",
       "      <td>1.18</td>\n",
       "      <td>1.83</td>\n",
       "      <td>2.54</td>\n",
       "      <td>6.02</td>\n",
       "    </tr>\n",
       "    <tr>\n",
       "      <th>Avg_class_frequency_current_month</th>\n",
       "      <td>4000.0</td>\n",
       "      <td>1.77</td>\n",
       "      <td>1.05</td>\n",
       "      <td>0.00</td>\n",
       "      <td>0.96</td>\n",
       "      <td>1.72</td>\n",
       "      <td>2.51</td>\n",
       "      <td>6.15</td>\n",
       "    </tr>\n",
       "    <tr>\n",
       "      <th>Churn</th>\n",
       "      <td>4000.0</td>\n",
       "      <td>0.27</td>\n",
       "      <td>0.44</td>\n",
       "      <td>0.00</td>\n",
       "      <td>0.00</td>\n",
       "      <td>0.00</td>\n",
       "      <td>1.00</td>\n",
       "      <td>1.00</td>\n",
       "    </tr>\n",
       "  </tbody>\n",
       "</table>\n",
       "</div>"
      ],
      "text/plain": [
       "                                    count    mean    std    min    25%  \\\n",
       "gender                             4000.0    0.51   0.50   0.00   0.00   \n",
       "Near_Location                      4000.0    0.85   0.36   0.00   1.00   \n",
       "Partner                            4000.0    0.49   0.50   0.00   0.00   \n",
       "Promo_friends                      4000.0    0.31   0.46   0.00   0.00   \n",
       "Phone                              4000.0    0.90   0.30   0.00   1.00   \n",
       "Contract_period                    4000.0    4.68   4.55   1.00   1.00   \n",
       "Group_visits                       4000.0    0.41   0.49   0.00   0.00   \n",
       "Age                                4000.0   29.18   3.26  18.00  27.00   \n",
       "Avg_additional_charges_total       4000.0  146.94  96.36   0.15  68.86   \n",
       "Month_to_end_contract              4000.0    4.32   4.19   1.00   1.00   \n",
       "Lifetime                           4000.0    3.72   3.75   0.00   1.00   \n",
       "Avg_class_frequency_total          4000.0    1.88   0.97   0.00   1.18   \n",
       "Avg_class_frequency_current_month  4000.0    1.77   1.05   0.00   0.96   \n",
       "Churn                              4000.0    0.27   0.44   0.00   0.00   \n",
       "\n",
       "                                      50%     75%     max  \n",
       "gender                               1.00    1.00    1.00  \n",
       "Near_Location                        1.00    1.00    1.00  \n",
       "Partner                              0.00    1.00    1.00  \n",
       "Promo_friends                        0.00    1.00    1.00  \n",
       "Phone                                1.00    1.00    1.00  \n",
       "Contract_period                      1.00    6.00   12.00  \n",
       "Group_visits                         0.00    1.00    1.00  \n",
       "Age                                 29.00   31.00   41.00  \n",
       "Avg_additional_charges_total       136.22  210.95  552.59  \n",
       "Month_to_end_contract                1.00    6.00   12.00  \n",
       "Lifetime                             3.00    5.00   31.00  \n",
       "Avg_class_frequency_total            1.83    2.54    6.02  \n",
       "Avg_class_frequency_current_month    1.72    2.51    6.15  \n",
       "Churn                                0.00    1.00    1.00  "
      ]
     },
     "execution_count": 9,
     "metadata": {},
     "output_type": "execute_result"
    }
   ],
   "source": [
    "data.describe().T.round(2)"
   ]
  },
  {
   "cell_type": "markdown",
   "metadata": {},
   "source": [
    "**Вывод:**"
   ]
  },
  {
   "cell_type": "markdown",
   "metadata": {},
   "source": [
    "В датасете пропусков обнаружено не было. Так же не выявлено явных дубликатов. Стандартное отклонение в в большенстве колонок близко к среднему значению, на первый взгля явных выбросов не видно."
   ]
  },
  {
   "cell_type": "markdown",
   "metadata": {},
   "source": [
    "### Просмотр среднего значения признаков в двух группах — тех, кто ушел в отток и тех, кто остался\n",
    "<a id=\"b\"></a> "
   ]
  },
  {
   "cell_type": "code",
   "execution_count": 13,
   "metadata": {},
   "outputs": [
    {
     "data": {
      "text/html": [
       "<div>\n",
       "<style scoped>\n",
       "    .dataframe tbody tr th:only-of-type {\n",
       "        vertical-align: middle;\n",
       "    }\n",
       "\n",
       "    .dataframe tbody tr th {\n",
       "        vertical-align: top;\n",
       "    }\n",
       "\n",
       "    .dataframe thead th {\n",
       "        text-align: right;\n",
       "    }\n",
       "</style>\n",
       "<table border=\"1\" class=\"dataframe\">\n",
       "  <thead>\n",
       "    <tr style=\"text-align: right;\">\n",
       "      <th>Churn</th>\n",
       "      <th>0</th>\n",
       "      <th>1</th>\n",
       "    </tr>\n",
       "  </thead>\n",
       "  <tbody>\n",
       "    <tr>\n",
       "      <th>gender</th>\n",
       "      <td>0.51</td>\n",
       "      <td>0.51</td>\n",
       "    </tr>\n",
       "    <tr>\n",
       "      <th>Near_Location</th>\n",
       "      <td>0.87</td>\n",
       "      <td>0.77</td>\n",
       "    </tr>\n",
       "    <tr>\n",
       "      <th>Partner</th>\n",
       "      <td>0.53</td>\n",
       "      <td>0.36</td>\n",
       "    </tr>\n",
       "    <tr>\n",
       "      <th>Promo_friends</th>\n",
       "      <td>0.35</td>\n",
       "      <td>0.18</td>\n",
       "    </tr>\n",
       "    <tr>\n",
       "      <th>Phone</th>\n",
       "      <td>0.90</td>\n",
       "      <td>0.90</td>\n",
       "    </tr>\n",
       "    <tr>\n",
       "      <th>Contract_period</th>\n",
       "      <td>5.75</td>\n",
       "      <td>1.73</td>\n",
       "    </tr>\n",
       "    <tr>\n",
       "      <th>Group_visits</th>\n",
       "      <td>0.46</td>\n",
       "      <td>0.27</td>\n",
       "    </tr>\n",
       "    <tr>\n",
       "      <th>Age</th>\n",
       "      <td>29.98</td>\n",
       "      <td>26.99</td>\n",
       "    </tr>\n",
       "    <tr>\n",
       "      <th>Avg_additional_charges_total</th>\n",
       "      <td>158.45</td>\n",
       "      <td>115.08</td>\n",
       "    </tr>\n",
       "    <tr>\n",
       "      <th>Month_to_end_contract</th>\n",
       "      <td>5.28</td>\n",
       "      <td>1.66</td>\n",
       "    </tr>\n",
       "    <tr>\n",
       "      <th>Lifetime</th>\n",
       "      <td>4.71</td>\n",
       "      <td>0.99</td>\n",
       "    </tr>\n",
       "    <tr>\n",
       "      <th>Avg_class_frequency_total</th>\n",
       "      <td>2.02</td>\n",
       "      <td>1.47</td>\n",
       "    </tr>\n",
       "    <tr>\n",
       "      <th>Avg_class_frequency_current_month</th>\n",
       "      <td>2.03</td>\n",
       "      <td>1.04</td>\n",
       "    </tr>\n",
       "  </tbody>\n",
       "</table>\n",
       "</div>"
      ],
      "text/plain": [
       "Churn                                   0       1\n",
       "gender                               0.51    0.51\n",
       "Near_Location                        0.87    0.77\n",
       "Partner                              0.53    0.36\n",
       "Promo_friends                        0.35    0.18\n",
       "Phone                                0.90    0.90\n",
       "Contract_period                      5.75    1.73\n",
       "Group_visits                         0.46    0.27\n",
       "Age                                 29.98   26.99\n",
       "Avg_additional_charges_total       158.45  115.08\n",
       "Month_to_end_contract                5.28    1.66\n",
       "Lifetime                             4.71    0.99\n",
       "Avg_class_frequency_total            2.02    1.47\n",
       "Avg_class_frequency_current_month    2.03    1.04"
      ]
     },
     "execution_count": 13,
     "metadata": {},
     "output_type": "execute_result"
    }
   ],
   "source": [
    "data.groupby('Churn').mean().T.round(2)"
   ]
  },
  {
   "cell_type": "markdown",
   "metadata": {},
   "source": [
    "**Вывод:**"
   ]
  },
  {
   "cell_type": "markdown",
   "metadata": {},
   "source": [
    "- `gender`: у данного столбца одинаковые показатель оттока/притока тем самым можно сказать, что данный признак не является показательным.\n",
    "- `Near_Location`: данный признак находится на большом показателе, что говорит о том что по нему большой процент оттока и притока клиентов. Но сами показатели равноценны, из-за чего можно сказать, что они сильно не влияют на клиентов.\n",
    "- `Partner`: по показателям оттока/притока данного столбца, можно сказать, что сотрудники компании-партнёра остаются чаще чем обычные посетители.\n",
    "- `Promo_friends`: показатель данного столбца ниже среднего, что говорит о маленькои оттоке/притоке. Но тем не менее тот кто прходит в рамках акции, остается чаще.\n",
    "- `Phone`: наличие контактного телифона не влияет на отток/приток. Но показатели довольно высоки.\n",
    "- `Contract_period`: длительность текущего действующего абонемента явно влияет на отток/приток клиентов. Клиенты с абониментами уходят реже.\n",
    "- `Group_visits`: у этого признака, показатель оттока/притока очень маленький. И можно сказать что он не влияет на клиентов.\n",
    "- `Age`: показатель возрастра тоже особо не влияет на отток/приток клиентов.\n",
    "- `Avg_additional_charges_total`:  суммарная выручка от других услуг фитнес-центра влияет так, что клиенты которые пользуются услугами, остаются чаще.\n",
    "- `Month_to_end_contract`: клиенты чаще остаются, если у них есть время до окончания абонимента.\n",
    "- `Lifetime`: время с момента первого обращения в фитнес-центр явно показывает, что чем дольше человек занимается, тем больше вероятность что он не уйдет.\n",
    "- `Avg_class_frequency_total`: средняя частота посещений в неделю за все время с начала действия абонемента не сильно влияет, но те кто ходет реже уходят чаще.\n",
    "- `Avg_class_frequency_current_month`: но если рассматривать среднюю частоту посещений в неделю за предыдущий месяц, то можно сделать логичное заключение. Кто стал ходить меньше, тот с большей вероятностью уйдет."
   ]
  },
  {
   "cell_type": "markdown",
   "metadata": {},
   "source": [
    "### Построение столбчатых гистограмм и распределения признаков для тех, кто ушёл (отток) и тех, кто остался (не попали в отток)\n",
    "<a id=\"c\"></a> "
   ]
  },
  {
   "cell_type": "code",
   "execution_count": 14,
   "metadata": {},
   "outputs": [
    {
     "data": {
      "image/png": "[encoded data removed]",
      "text/plain": [
       "<Figure size 936x720 with 1 Axes>"
      ]
     },
     "metadata": {
      "needs_background": "light"
     },
     "output_type": "display_data"
    }
   ],
   "source": [
    "plt.figure(figsize=(13,10))\n",
    "sns.histplot(data, x=\"gender\", hue=\"Churn\") \n",
    "plt.locator_params(axis=\"x\", nbins=2)\n",
    "plt.title('Пол')\n",
    "plt.show()"
   ]
  },
  {
   "cell_type": "markdown",
   "metadata": {},
   "source": [
    "Отток мужчин и женщин примерно одинаковый"
   ]
  },
  {
   "cell_type": "code",
   "execution_count": 16,
   "metadata": {},
   "outputs": [
    {
     "data": {
      "image/png": "[encoded data removed]",
      "text/plain": [
       "<Figure size 936x720 with 1 Axes>"
      ]
     },
     "metadata": {
      "needs_background": "light"
     },
     "output_type": "display_data"
    }
   ],
   "source": [
    "plt.figure(figsize=(13,10))\n",
    "sns.histplot(data, x=\"Near_Location\", hue=\"Churn\") \n",
    "plt.locator_params(axis=\"x\", nbins=2)\n",
    "plt.title('Проживание или работа в районе, где находится фитнес-центр')\n",
    "plt.show()"
   ]
  },
  {
   "cell_type": "markdown",
   "metadata": {},
   "source": [
    "Больше тех клиентов, кто ближе живет. И из них, тех кто остался доля намного больше, чем клиентов, которые остались, но живут далеко."
   ]
  },
  {
   "cell_type": "code",
   "execution_count": 17,
   "metadata": {},
   "outputs": [
    {
     "data": {
      "image/png": "[encoded data removed]",
      "text/plain": [
       "<Figure size 936x720 with 1 Axes>"
      ]
     },
     "metadata": {
      "needs_background": "light"
     },
     "output_type": "display_data"
    }
   ],
   "source": [
    "plt.figure(figsize=(13,10))\n",
    "sns.histplot(data, x=\"Partner\", hue=\"Churn\")  \n",
    "plt.locator_params(axis=\"x\", nbins=2)\n",
    "plt.title('Сотрудник компании-партнёра клуба')\n",
    "plt.show()"
   ]
  },
  {
   "cell_type": "markdown",
   "metadata": {},
   "source": [
    "Тех кто явлется сотрудником компании-партнёра, и тех кто ими не является почти поровну. Но тем не менее Тех кто является сотрудником, чаще остается."
   ]
  },
  {
   "cell_type": "code",
   "execution_count": 18,
   "metadata": {},
   "outputs": [
    {
     "data": {
      "image/png": "[encoded data removed]",
      "text/plain": [
       "<Figure size 936x720 with 1 Axes>"
      ]
     },
     "metadata": {
      "needs_background": "light"
     },
     "output_type": "display_data"
    }
   ],
   "source": [
    "plt.figure(figsize=(13,10))\n",
    "sns.histplot(data, x=\"Promo_friends\", hue=\"Churn\")  \n",
    "plt.locator_params(axis=\"x\", nbins=2)\n",
    "plt.title('Факт первоначальной записи в рамках акции «приведи друга»')\n",
    "plt.show()"
   ]
  },
  {
   "cell_type": "markdown",
   "metadata": {},
   "source": [
    "Тех кто не учавствовад в акции \"приведи друга\" больше. Но оставшихся и учавствующих в акции больше."
   ]
  },
  {
   "cell_type": "code",
   "execution_count": 19,
   "metadata": {},
   "outputs": [
    {
     "data": {
      "image/png": "[encoded data removed]",
      "text/plain": [
       "<Figure size 936x720 with 1 Axes>"
      ]
     },
     "metadata": {
      "needs_background": "light"
     },
     "output_type": "display_data"
    }
   ],
   "source": [
    "plt.figure(figsize=(13,10))\n",
    "sns.histplot(data, x=\"Phone\", hue=\"Churn\")  \n",
    "plt.locator_params(axis=\"x\", nbins=2)\n",
    "plt.title('Наличие контактного телефона')\n",
    "plt.show()"
   ]
  },
  {
   "cell_type": "markdown",
   "metadata": {},
   "source": [
    "Тех кто оставил свой контактный телефон, значительно больше. но между ними доля оставшихся и ушедших примерно одинакова."
   ]
  },
  {
   "cell_type": "code",
   "execution_count": 20,
   "metadata": {},
   "outputs": [
    {
     "data": {
      "image/png": "[encoded data removed]",
      "text/plain": [
       "<Figure size 936x720 with 1 Axes>"
      ]
     },
     "metadata": {
      "needs_background": "light"
     },
     "output_type": "display_data"
    }
   ],
   "source": [
    "plt.figure(figsize=(13,10))\n",
    "sns.histplot(data, x=\"Contract_period\", hue=\"Churn\")  \n",
    "plt.title('Длительность текущего действующего абонемента')\n",
    "plt.show()"
   ]
  },
  {
   "cell_type": "markdown",
   "metadata": {},
   "source": [
    "Чаще всего остаются с длятельностью абонимента в 12 месяцев. Чаще всего уходят с абониментом в месяц."
   ]
  },
  {
   "cell_type": "code",
   "execution_count": 21,
   "metadata": {},
   "outputs": [
    {
     "data": {
      "image/png": "[encoded data removed]",
      "text/plain": [
       "<Figure size 936x720 with 1 Axes>"
      ]
     },
     "metadata": {
      "needs_background": "light"
     },
     "output_type": "display_data"
    }
   ],
   "source": [
    "plt.figure(figsize=(13,10))\n",
    "sns.histplot(data, x=\"Group_visits\", hue=\"Churn\")  \n",
    "plt.locator_params(axis=\"x\", nbins=2)\n",
    "plt.title('Факт посещения групповых занятий')\n",
    "plt.show()"
   ]
  },
  {
   "cell_type": "markdown",
   "metadata": {},
   "source": [
    "Больше тех кто не ходит на груповые занятия. Но те кто ходит остаются чаще."
   ]
  },
  {
   "cell_type": "code",
   "execution_count": 22,
   "metadata": {},
   "outputs": [
    {
     "data": {
      "image/png": "[encoded data removed]",
      "text/plain": [
       "<Figure size 936x720 with 1 Axes>"
      ]
     },
     "metadata": {
      "needs_background": "light"
     },
     "output_type": "display_data"
    }
   ],
   "source": [
    "plt.figure(figsize=(13,10))\n",
    "sns.histplot(data, x=\"Age\", hue=\"Churn\")  \n",
    "plt.title('Возраст')\n",
    "plt.show()"
   ]
  },
  {
   "cell_type": "markdown",
   "metadata": {},
   "source": [
    "Чаще всего остаются клиенты в диапазоне старше 25. До 25 лет клиенты склонны с большой вероятностью уйти."
   ]
  },
  {
   "cell_type": "code",
   "execution_count": 23,
   "metadata": {},
   "outputs": [
    {
     "data": {
      "image/png": "[encoded data removed]",
      "text/plain": [
       "<Figure size 936x720 with 1 Axes>"
      ]
     },
     "metadata": {
      "needs_background": "light"
     },
     "output_type": "display_data"
    }
   ],
   "source": [
    "plt.figure(figsize=(13,10))\n",
    "sns.histplot(data, x=\"Avg_additional_charges_total\", hue=\"Churn\")  \n",
    "plt.title('Суммарная выручка от других услуг фитнес-центра')\n",
    "plt.show()"
   ]
  },
  {
   "cell_type": "markdown",
   "metadata": {},
   "source": [
    "В целом доля ушедших/пришедших клиентов не сильно меняется от стоимости услуги. Но резкий спад ее использовая идет после стоимости в примерно 230."
   ]
  },
  {
   "cell_type": "code",
   "execution_count": 24,
   "metadata": {},
   "outputs": [
    {
     "data": {
      "image/png": "[encoded data removed]",
      "text/plain": [
       "<Figure size 936x720 with 1 Axes>"
      ]
     },
     "metadata": {
      "needs_background": "light"
     },
     "output_type": "display_data"
    }
   ],
   "source": [
    "plt.figure(figsize=(13,10))\n",
    "sns.histplot(data, x=\"Month_to_end_contract\", hue=\"Churn\")  \n",
    "plt.title('Срок до окончания текущего действующего абонемента ')\n",
    "plt.show()"
   ]
  },
  {
   "cell_type": "markdown",
   "metadata": {},
   "source": [
    "Чаще всего уходят клиенты, если срок абонимента истекает через месяц."
   ]
  },
  {
   "cell_type": "code",
   "execution_count": 25,
   "metadata": {},
   "outputs": [
    {
     "data": {
      "image/png": "[encoded data removed]",
      "text/plain": [
       "<Figure size 936x720 with 1 Axes>"
      ]
     },
     "metadata": {
      "needs_background": "light"
     },
     "output_type": "display_data"
    }
   ],
   "source": [
    "plt.figure(figsize=(13,10))\n",
    "sns.histplot(data, x=\"Lifetime\", hue=\"Churn\")  \n",
    "plt.title('Время с момента первого обращения в фитнес-центр')\n",
    "plt.show()"
   ]
  },
  {
   "cell_type": "markdown",
   "metadata": {},
   "source": [
    "Данная диаграмма похожа на предыдущую. Чем дольше клиент ходит в фитнес клуб, тем меньше вероятность, что он уйдет.Самый большой отток в первый месяц."
   ]
  },
  {
   "cell_type": "code",
   "execution_count": 26,
   "metadata": {},
   "outputs": [
    {
     "data": {
      "image/png": "[encoded data removed]",
      "text/plain": [
       "<Figure size 936x720 with 1 Axes>"
      ]
     },
     "metadata": {
      "needs_background": "light"
     },
     "output_type": "display_data"
    }
   ],
   "source": [
    "plt.figure(figsize=(13,10))\n",
    "sns.histplot(data, x=\"Avg_class_frequency_total\", hue=\"Churn\")  \n",
    "plt.title('Средняя частота посещений в неделю за все время с начала действия абонемента')\n",
    "plt.show()"
   ]
  },
  {
   "cell_type": "markdown",
   "metadata": {},
   "source": [
    "Чаще всего уходят те, кто ходит меньше 2х раз в месяц."
   ]
  },
  {
   "cell_type": "code",
   "execution_count": 27,
   "metadata": {},
   "outputs": [
    {
     "data": {
      "image/png": "[encoded data removed]",
      "text/plain": [
       "<Figure size 936x720 with 1 Axes>"
      ]
     },
     "metadata": {
      "needs_background": "light"
     },
     "output_type": "display_data"
    }
   ],
   "source": [
    "plt.figure(figsize=(13,10))\n",
    "sns.histplot(data, x=\"Avg_class_frequency_current_month\", hue=\"Churn\")  \n",
    "plt.title('Средняя частота посещений в неделю за предыдущий месяц')\n",
    "plt.show()"
   ]
  },
  {
   "cell_type": "markdown",
   "metadata": {},
   "source": [
    "В целов на данном графике, похожая ситуация как и в предыдущем."
   ]
  },
  {
   "cell_type": "markdown",
   "metadata": {},
   "source": [
    "### Построение матрицы корреляции и отобразите её\n",
    "<a id=\"d\"></a> "
   ]
  },
  {
   "cell_type": "code",
   "execution_count": 31,
   "metadata": {},
   "outputs": [
    {
     "data": {
      "image/png": "[encoded data removed]",
      "text/plain": [
       "<Figure size 936x720 with 2 Axes>"
      ]
     },
     "metadata": {
      "needs_background": "light"
     },
     "output_type": "display_data"
    }
   ],
   "source": [
    "matrices = data.corr()\n",
    "plt.figure(figsize=(13,10))\n",
    "sns.heatmap(matrices, annot=True, fmt='.2f', linewidths=2)\n",
    "plt.title('Матрица корреляции')\n",
    "plt.show()"
   ]
  },
  {
   "cell_type": "markdown",
   "metadata": {},
   "source": [
    "**Вывод:**"
   ]
  },
  {
   "cell_type": "markdown",
   "metadata": {},
   "source": [
    "По матрице корреляции видно, что:\n",
    "\n",
    "- в целом зависимость очень слабая у параметров `'gender'`, `'Near_Location'`,`'Phone'`, `'Group_visits'`, `Age`, `'Avg_additional_charges_total'`, `'Lifetime'`.\n",
    "    \n",
    "- слабая зависимость у параметров: `'Partner'` - `Promo_friends`, `'Partner'` - `'Contract_period'`, `'Partner'` - ,`Promo_friends` - `'Contract_period'`, `Promo_friends` - `'Month_to_end_contract'`.\n",
    "    \n",
    "- высокая зависимость у параметров: `'Contract_period'` - `'Month_to_end_contract'` и `'Avg_class_frequency_current_month'` - `'Avg_additional_charges_total'`"
   ]
  },
  {
   "cell_type": "markdown",
   "metadata": {},
   "source": [
    "## Построение модели прогнозирования оттока клиентов\n",
    "<a id=\"model\"></a> "
   ]
  },
  {
   "cell_type": "markdown",
   "metadata": {},
   "source": [
    "Построение модели бинарной классификации клиентов, где целевой признак — факт оттока клиента в следующем месяце."
   ]
  },
  {
   "cell_type": "code",
   "execution_count": 32,
   "metadata": {},
   "outputs": [],
   "source": [
    "def print_all_metrics(y_true, y_pred, y_proba, title='Метрики классификации'): #определение функции \n",
    "    print(title)\n",
    "    print('\\tAccuracy: {:.2f}'.format(accuracy_score(y_true, y_pred)))\n",
    "    print('\\tPrecision: {:.2f}'.format(precision_score(y_true, y_pred)))\n",
    "    print('\\tRecall: {:.2f}'.format(recall_score(y_true, y_pred)))"
   ]
  },
  {
   "cell_type": "markdown",
   "metadata": {},
   "source": [
    "### Разделение данных на обучающую и валидационную выборку функцией `train_test_split()`\n",
    "<a id=\"aa\"></a> "
   ]
  },
  {
   "cell_type": "code",
   "execution_count": 33,
   "metadata": {},
   "outputs": [],
   "source": [
    "X = data.drop('Churn', axis = 1) #разделение данных на признаки и целевую переменную \n",
    "y = data['Churn']"
   ]
  },
  {
   "cell_type": "code",
   "execution_count": 34,
   "metadata": {},
   "outputs": [],
   "source": [
    "X_train, X_test, y_train, y_test = train_test_split(X, y, test_size=0.2, random_state=0) \n",
    "#разделение модели на обучающую и валидационную выборки"
   ]
  },
  {
   "cell_type": "markdown",
   "metadata": {},
   "source": [
    "### Обучение модели на train-выборке двумя способами\n",
    "<a id=\"bb\"></a> "
   ]
  },
  {
   "cell_type": "markdown",
   "metadata": {},
   "source": [
    "#### Логистическая регрессия\n",
    "<a id=\"bba\"></a> "
   ]
  },
  {
   "cell_type": "code",
   "execution_count": 35,
   "metadata": {},
   "outputs": [],
   "source": [
    "model_1 = LogisticRegression(solver='liblinear') # алгоритм для модели"
   ]
  },
  {
   "cell_type": "code",
   "execution_count": 36,
   "metadata": {},
   "outputs": [
    {
     "data": {
      "text/plain": [
       "LogisticRegression(solver='liblinear')"
      ]
     },
     "execution_count": 36,
     "metadata": {},
     "output_type": "execute_result"
    }
   ],
   "source": [
    "model_1.fit(X_train, y_train) # обучение модели"
   ]
  },
  {
   "cell_type": "code",
   "execution_count": 37,
   "metadata": {},
   "outputs": [],
   "source": [
    "predictions = model_1.predict(X_test) #прогноз\n",
    "probabilities = model_1.predict_proba(X_test)[:,1]"
   ]
  },
  {
   "cell_type": "code",
   "execution_count": 38,
   "metadata": {},
   "outputs": [
    {
     "name": "stdout",
     "output_type": "stream",
     "text": [
      "Метрики для модели логистическая регрессия:\n",
      "\tAccuracy: 0.93\n",
      "\tPrecision: 0.86\n",
      "\tRecall: 0.83\n"
     ]
    }
   ],
   "source": [
    "print_all_metrics(\n",
    "    y_test, predictions, probabilities,\n",
    "    title='Метрики для модели логистическая регрессия:'\n",
    ") #вывод результата"
   ]
  },
  {
   "cell_type": "markdown",
   "metadata": {},
   "source": [
    "#### Случайный лес\n",
    "<a id=\"bbaa\"></a> "
   ]
  },
  {
   "cell_type": "code",
   "execution_count": 39,
   "metadata": {},
   "outputs": [],
   "source": [
    "model_2 = RandomForestClassifier(n_estimators = 100, random_state = 0) # алгоритм для модели"
   ]
  },
  {
   "cell_type": "code",
   "execution_count": 40,
   "metadata": {},
   "outputs": [
    {
     "data": {
      "text/plain": [
       "RandomForestClassifier(random_state=0)"
      ]
     },
     "execution_count": 40,
     "metadata": {},
     "output_type": "execute_result"
    }
   ],
   "source": [
    "model_2.fit(X_train, y_train) # обучение модели"
   ]
  },
  {
   "cell_type": "code",
   "execution_count": 41,
   "metadata": {},
   "outputs": [],
   "source": [
    "predictions_2 = model_2.predict(X_test)\n",
    "probabilities_2 = model_2.predict_proba(X_test)[:,1] #прогноз"
   ]
  },
  {
   "cell_type": "code",
   "execution_count": 42,
   "metadata": {},
   "outputs": [
    {
     "name": "stdout",
     "output_type": "stream",
     "text": [
      "Метрики для модели случайный лес:\n",
      "\tAccuracy: 0.91\n",
      "\tPrecision: 0.84\n",
      "\tRecall: 0.80\n"
     ]
    }
   ],
   "source": [
    "print_all_metrics( \n",
    "    y_test, predictions_2, probabilities_2,\n",
    "    title='Метрики для модели случайный лес:'\n",
    ") #вывод результата"
   ]
  },
  {
   "cell_type": "markdown",
   "metadata": {},
   "source": [
    "**Вывод:**"
   ]
  },
  {
   "cell_type": "markdown",
   "metadata": {},
   "source": [
    "У **логистической регрессии** доля правильных ответов, точность и полнота выше чем у **случайного леса**."
   ]
  },
  {
   "cell_type": "markdown",
   "metadata": {},
   "source": [
    "## Кластеризация клиентов\n",
    "<a id=\"clustering\"></a> "
   ]
  },
  {
   "cell_type": "markdown",
   "metadata": {},
   "source": [
    "### Стандартизация данных\n",
    "<a id=\"aaa\"></a>"
   ]
  },
  {
   "cell_type": "code",
   "execution_count": 43,
   "metadata": {},
   "outputs": [],
   "source": [
    "sc = StandardScaler() # создание объекта класса StandardScaler"
   ]
  },
  {
   "cell_type": "code",
   "execution_count": 44,
   "metadata": {},
   "outputs": [],
   "source": [
    "x_sc = sc.fit_transform(X) # применение к обучающей выборке"
   ]
  },
  {
   "cell_type": "markdown",
   "metadata": {},
   "source": [
    "### Построение матрицы расстояний функцией `linkage()` на стандартизованной матрице признаков и построение дендрограммы\n",
    "<a id=\"bbb\"></a>"
   ]
  },
  {
   "cell_type": "code",
   "execution_count": 45,
   "metadata": {},
   "outputs": [],
   "source": [
    "linked = linkage(x_sc, method = 'ward') # построение матрицы расстояний"
   ]
  },
  {
   "cell_type": "code",
   "execution_count": 46,
   "metadata": {},
   "outputs": [
    {
     "data": {
      "image/png": "[encoded data removed]",
      "text/plain": [
       "<Figure size 1080x720 with 1 Axes>"
      ]
     },
     "metadata": {
      "needs_background": "light"
     },
     "output_type": "display_data"
    }
   ],
   "source": [
    "plt.figure(figsize=(15, 10))  # визуализация\n",
    "dendrogram(linked, orientation='top')\n",
    "plt.title('Hierarchial clustering for GYM')\n",
    "plt.show() "
   ]
  },
  {
   "cell_type": "markdown",
   "metadata": {},
   "source": [
    "**Вывод:**"
   ]
  },
  {
   "cell_type": "markdown",
   "metadata": {},
   "source": [
    "Предложенное оптимальное число кластеров 4."
   ]
  },
  {
   "cell_type": "markdown",
   "metadata": {},
   "source": [
    "### Обучение модели кластеризации на основании алгоритма `K-Means` и прогнозирование кластеров клиентов <a id=\"ccc\"></a>"
   ]
  },
  {
   "cell_type": "code",
   "execution_count": 47,
   "metadata": {},
   "outputs": [],
   "source": [
    "km = KMeans(n_clusters = 5, random_state=0) \n",
    "# задаём число кластеров, равное 5, и фиксируем значение random_state для воспроизводимости результата"
   ]
  },
  {
   "cell_type": "code",
   "execution_count": 48,
   "metadata": {},
   "outputs": [],
   "source": [
    "labels = km.fit_predict(x_sc) # применяем алгоритм к данным и формируем вектор кластеров "
   ]
  },
  {
   "cell_type": "code",
   "execution_count": 49,
   "metadata": {},
   "outputs": [],
   "source": [
    "data['cluster_km'] = labels # создание нового столбца 'cluster_km'"
   ]
  },
  {
   "cell_type": "code",
   "execution_count": 50,
   "metadata": {},
   "outputs": [
    {
     "data": {
      "text/html": [
       "<div>\n",
       "<style scoped>\n",
       "    .dataframe tbody tr th:only-of-type {\n",
       "        vertical-align: middle;\n",
       "    }\n",
       "\n",
       "    .dataframe tbody tr th {\n",
       "        vertical-align: top;\n",
       "    }\n",
       "\n",
       "    .dataframe thead th {\n",
       "        text-align: right;\n",
       "    }\n",
       "</style>\n",
       "<table border=\"1\" class=\"dataframe\">\n",
       "  <thead>\n",
       "    <tr style=\"text-align: right;\">\n",
       "      <th></th>\n",
       "      <th>0</th>\n",
       "      <th>1</th>\n",
       "      <th>2</th>\n",
       "      <th>3</th>\n",
       "      <th>4</th>\n",
       "    </tr>\n",
       "  </thead>\n",
       "  <tbody>\n",
       "    <tr>\n",
       "      <th>gender</th>\n",
       "      <td>1.00</td>\n",
       "      <td>0.00</td>\n",
       "      <td>0.00</td>\n",
       "      <td>0.00</td>\n",
       "      <td>1.00</td>\n",
       "    </tr>\n",
       "    <tr>\n",
       "      <th>Near_Location</th>\n",
       "      <td>1.00</td>\n",
       "      <td>1.00</td>\n",
       "      <td>1.00</td>\n",
       "      <td>1.00</td>\n",
       "      <td>1.00</td>\n",
       "    </tr>\n",
       "    <tr>\n",
       "      <th>Partner</th>\n",
       "      <td>1.00</td>\n",
       "      <td>0.00</td>\n",
       "      <td>1.00</td>\n",
       "      <td>1.00</td>\n",
       "      <td>1.00</td>\n",
       "    </tr>\n",
       "    <tr>\n",
       "      <th>Promo_friends</th>\n",
       "      <td>1.00</td>\n",
       "      <td>0.00</td>\n",
       "      <td>0.00</td>\n",
       "      <td>1.00</td>\n",
       "      <td>1.00</td>\n",
       "    </tr>\n",
       "    <tr>\n",
       "      <th>Phone</th>\n",
       "      <td>0.00</td>\n",
       "      <td>1.00</td>\n",
       "      <td>1.00</td>\n",
       "      <td>1.00</td>\n",
       "      <td>1.00</td>\n",
       "    </tr>\n",
       "    <tr>\n",
       "      <th>Contract_period</th>\n",
       "      <td>6.00</td>\n",
       "      <td>12.00</td>\n",
       "      <td>1.00</td>\n",
       "      <td>12.00</td>\n",
       "      <td>1.00</td>\n",
       "    </tr>\n",
       "    <tr>\n",
       "      <th>Group_visits</th>\n",
       "      <td>1.00</td>\n",
       "      <td>1.00</td>\n",
       "      <td>0.00</td>\n",
       "      <td>1.00</td>\n",
       "      <td>0.00</td>\n",
       "    </tr>\n",
       "    <tr>\n",
       "      <th>Age</th>\n",
       "      <td>29.00</td>\n",
       "      <td>31.00</td>\n",
       "      <td>28.00</td>\n",
       "      <td>33.00</td>\n",
       "      <td>26.00</td>\n",
       "    </tr>\n",
       "    <tr>\n",
       "      <th>Avg_additional_charges_total</th>\n",
       "      <td>14.23</td>\n",
       "      <td>113.20</td>\n",
       "      <td>129.45</td>\n",
       "      <td>62.67</td>\n",
       "      <td>198.36</td>\n",
       "    </tr>\n",
       "    <tr>\n",
       "      <th>Month_to_end_contract</th>\n",
       "      <td>5.00</td>\n",
       "      <td>12.00</td>\n",
       "      <td>1.00</td>\n",
       "      <td>12.00</td>\n",
       "      <td>1.00</td>\n",
       "    </tr>\n",
       "    <tr>\n",
       "      <th>Lifetime</th>\n",
       "      <td>3.00</td>\n",
       "      <td>7.00</td>\n",
       "      <td>2.00</td>\n",
       "      <td>2.00</td>\n",
       "      <td>3.00</td>\n",
       "    </tr>\n",
       "    <tr>\n",
       "      <th>Avg_class_frequency_total</th>\n",
       "      <td>0.02</td>\n",
       "      <td>1.92</td>\n",
       "      <td>1.86</td>\n",
       "      <td>3.21</td>\n",
       "      <td>1.11</td>\n",
       "    </tr>\n",
       "    <tr>\n",
       "      <th>Avg_class_frequency_current_month</th>\n",
       "      <td>0.00</td>\n",
       "      <td>1.91</td>\n",
       "      <td>1.74</td>\n",
       "      <td>3.36</td>\n",
       "      <td>1.12</td>\n",
       "    </tr>\n",
       "    <tr>\n",
       "      <th>Churn</th>\n",
       "      <td>0.00</td>\n",
       "      <td>0.00</td>\n",
       "      <td>0.00</td>\n",
       "      <td>0.00</td>\n",
       "      <td>0.00</td>\n",
       "    </tr>\n",
       "    <tr>\n",
       "      <th>cluster_km</th>\n",
       "      <td>2.00</td>\n",
       "      <td>3.00</td>\n",
       "      <td>1.00</td>\n",
       "      <td>3.00</td>\n",
       "      <td>1.00</td>\n",
       "    </tr>\n",
       "  </tbody>\n",
       "</table>\n",
       "</div>"
      ],
      "text/plain": [
       "                                       0       1       2      3       4\n",
       "gender                              1.00    0.00    0.00   0.00    1.00\n",
       "Near_Location                       1.00    1.00    1.00   1.00    1.00\n",
       "Partner                             1.00    0.00    1.00   1.00    1.00\n",
       "Promo_friends                       1.00    0.00    0.00   1.00    1.00\n",
       "Phone                               0.00    1.00    1.00   1.00    1.00\n",
       "Contract_period                     6.00   12.00    1.00  12.00    1.00\n",
       "Group_visits                        1.00    1.00    0.00   1.00    0.00\n",
       "Age                                29.00   31.00   28.00  33.00   26.00\n",
       "Avg_additional_charges_total       14.23  113.20  129.45  62.67  198.36\n",
       "Month_to_end_contract               5.00   12.00    1.00  12.00    1.00\n",
       "Lifetime                            3.00    7.00    2.00   2.00    3.00\n",
       "Avg_class_frequency_total           0.02    1.92    1.86   3.21    1.11\n",
       "Avg_class_frequency_current_month   0.00    1.91    1.74   3.36    1.12\n",
       "Churn                               0.00    0.00    0.00   0.00    0.00\n",
       "cluster_km                          2.00    3.00    1.00   3.00    1.00"
      ]
     },
     "execution_count": 50,
     "metadata": {},
     "output_type": "execute_result"
    }
   ],
   "source": [
    "data.head().T # просмотр "
   ]
  },
  {
   "cell_type": "markdown",
   "metadata": {},
   "source": [
    "### Просмотр средних значений признаков для кластеров \n",
    "<a id=\"ddd\"></a>"
   ]
  },
  {
   "cell_type": "code",
   "execution_count": 52,
   "metadata": {},
   "outputs": [
    {
     "data": {
      "text/html": [
       "<div>\n",
       "<style scoped>\n",
       "    .dataframe tbody tr th:only-of-type {\n",
       "        vertical-align: middle;\n",
       "    }\n",
       "\n",
       "    .dataframe tbody tr th {\n",
       "        vertical-align: top;\n",
       "    }\n",
       "\n",
       "    .dataframe thead th {\n",
       "        text-align: right;\n",
       "    }\n",
       "</style>\n",
       "<table border=\"1\" class=\"dataframe\">\n",
       "  <thead>\n",
       "    <tr style=\"text-align: right;\">\n",
       "      <th>cluster_km</th>\n",
       "      <th>0</th>\n",
       "      <th>1</th>\n",
       "      <th>2</th>\n",
       "      <th>3</th>\n",
       "      <th>4</th>\n",
       "    </tr>\n",
       "  </thead>\n",
       "  <tbody>\n",
       "    <tr>\n",
       "      <th>gender</th>\n",
       "      <td>0.50</td>\n",
       "      <td>0.48</td>\n",
       "      <td>0.52</td>\n",
       "      <td>0.50</td>\n",
       "      <td>0.56</td>\n",
       "    </tr>\n",
       "    <tr>\n",
       "      <th>Near_Location</th>\n",
       "      <td>0.00</td>\n",
       "      <td>1.00</td>\n",
       "      <td>0.86</td>\n",
       "      <td>0.96</td>\n",
       "      <td>0.98</td>\n",
       "    </tr>\n",
       "    <tr>\n",
       "      <th>Partner</th>\n",
       "      <td>0.46</td>\n",
       "      <td>0.35</td>\n",
       "      <td>0.47</td>\n",
       "      <td>0.78</td>\n",
       "      <td>0.36</td>\n",
       "    </tr>\n",
       "    <tr>\n",
       "      <th>Promo_friends</th>\n",
       "      <td>0.08</td>\n",
       "      <td>0.24</td>\n",
       "      <td>0.31</td>\n",
       "      <td>0.57</td>\n",
       "      <td>0.24</td>\n",
       "    </tr>\n",
       "    <tr>\n",
       "      <th>Phone</th>\n",
       "      <td>1.00</td>\n",
       "      <td>1.00</td>\n",
       "      <td>0.00</td>\n",
       "      <td>1.00</td>\n",
       "      <td>1.00</td>\n",
       "    </tr>\n",
       "    <tr>\n",
       "      <th>Contract_period</th>\n",
       "      <td>2.35</td>\n",
       "      <td>1.95</td>\n",
       "      <td>4.79</td>\n",
       "      <td>10.92</td>\n",
       "      <td>2.69</td>\n",
       "    </tr>\n",
       "    <tr>\n",
       "      <th>Group_visits</th>\n",
       "      <td>0.22</td>\n",
       "      <td>0.34</td>\n",
       "      <td>0.43</td>\n",
       "      <td>0.55</td>\n",
       "      <td>0.47</td>\n",
       "    </tr>\n",
       "    <tr>\n",
       "      <th>Age</th>\n",
       "      <td>28.48</td>\n",
       "      <td>28.17</td>\n",
       "      <td>29.30</td>\n",
       "      <td>29.99</td>\n",
       "      <td>30.11</td>\n",
       "    </tr>\n",
       "    <tr>\n",
       "      <th>Avg_additional_charges_total</th>\n",
       "      <td>135.46</td>\n",
       "      <td>131.44</td>\n",
       "      <td>143.96</td>\n",
       "      <td>160.88</td>\n",
       "      <td>161.67</td>\n",
       "    </tr>\n",
       "    <tr>\n",
       "      <th>Month_to_end_contract</th>\n",
       "      <td>2.20</td>\n",
       "      <td>1.86</td>\n",
       "      <td>4.48</td>\n",
       "      <td>9.98</td>\n",
       "      <td>2.48</td>\n",
       "    </tr>\n",
       "    <tr>\n",
       "      <th>Lifetime</th>\n",
       "      <td>2.81</td>\n",
       "      <td>2.43</td>\n",
       "      <td>3.92</td>\n",
       "      <td>4.75</td>\n",
       "      <td>4.89</td>\n",
       "    </tr>\n",
       "    <tr>\n",
       "      <th>Avg_class_frequency_total</th>\n",
       "      <td>1.66</td>\n",
       "      <td>1.25</td>\n",
       "      <td>1.85</td>\n",
       "      <td>1.98</td>\n",
       "      <td>2.85</td>\n",
       "    </tr>\n",
       "    <tr>\n",
       "      <th>Avg_class_frequency_current_month</th>\n",
       "      <td>1.48</td>\n",
       "      <td>1.01</td>\n",
       "      <td>1.72</td>\n",
       "      <td>1.97</td>\n",
       "      <td>2.85</td>\n",
       "    </tr>\n",
       "  </tbody>\n",
       "</table>\n",
       "</div>"
      ],
      "text/plain": [
       "cluster_km                              0       1       2       3       4\n",
       "gender                               0.50    0.48    0.52    0.50    0.56\n",
       "Near_Location                        0.00    1.00    0.86    0.96    0.98\n",
       "Partner                              0.46    0.35    0.47    0.78    0.36\n",
       "Promo_friends                        0.08    0.24    0.31    0.57    0.24\n",
       "Phone                                1.00    1.00    0.00    1.00    1.00\n",
       "Contract_period                      2.35    1.95    4.79   10.92    2.69\n",
       "Group_visits                         0.22    0.34    0.43    0.55    0.47\n",
       "Age                                 28.48   28.17   29.30   29.99   30.11\n",
       "Avg_additional_charges_total       135.46  131.44  143.96  160.88  161.67\n",
       "Month_to_end_contract                2.20    1.86    4.48    9.98    2.48\n",
       "Lifetime                             2.81    2.43    3.92    4.75    4.89\n",
       "Avg_class_frequency_total            1.66    1.25    1.85    1.98    2.85\n",
       "Avg_class_frequency_current_month    1.48    1.01    1.72    1.97    2.85"
      ]
     },
     "execution_count": 52,
     "metadata": {},
     "output_type": "execute_result"
    }
   ],
   "source": [
    "data.drop('Churn', axis=1).groupby(['cluster_km']).mean().T.round(2)  # просмотр "
   ]
  },
  {
   "cell_type": "markdown",
   "metadata": {},
   "source": [
    "**Выводы:**"
   ]
  },
  {
   "cell_type": "markdown",
   "metadata": {},
   "source": [
    "**Кластер 0** - все живут далеко от фитнес-центра. Самый маленький процент (8%) первоначальной записи в рамках акции «приведи друга». Самый маленький процент (22%) посещения групповых занятий.\n",
    "\n",
    "**Кластер 1** - живут очень близко от фитнес-центра. Самый маленький процент (35%) сотрудников компании-партнёров клуба. Самая маленькая  длительность текущего действующего абонемента(1,95). Самый маленький средний возраст (28,17). Меньше всего суммарная средняя выручка от других услуг фитнес-центра(131,44). Самый маленький срок до окончания текущего действующего абонемента(1,86). Самое маленькое время с момента первого обращения в фитнес-центр(2,43). Самая маленькая средняя частота посещений в неделю за все время с начала действия абонемента(1,25). Самая маленькая средняя частота посещений в неделю за предыдущий месяц(1,1)\n",
    "\n",
    "**Кластер 2** - не оставили контактные телефоны.\n",
    "\n",
    "**Кластер 3** - самый большой процент(78%) сотрудников компаний-партнёров клуба. Самый большой процент(57%) первоначальной записи в рамках акции «приведи друга». Самая большая длительность текущего действующего абонемента(10,92). Самый большой процент (55%) посещения групповых занятий. Самый большой срок (9,98) срок до окончания текущего действующего абонемента.\n",
    "\n",
    "**Кластер 4** - самый большой средний возраст(30.11). Самая большая суммарная средняя выручка от других услуг фитнес-центра (161,67). Самое большое  время с момента первого обращения в фитнес-центр(4,89). Самая большая  средняя частота посещений в неделю за предыдущий месяц(2,85). Самая большая средняя частота посещений в неделю за предыдущий месяц(2,85)."
   ]
  },
  {
   "cell_type": "markdown",
   "metadata": {},
   "source": [
    "### Построение распределения признаков для кластеров\n",
    "<a id=\"eee\"></a>"
   ]
  },
  {
   "cell_type": "code",
   "execution_count": 53,
   "metadata": {},
   "outputs": [
    {
     "data": {
      "image/png": "[encoded data removed]",
      "text/plain": [
       "<Figure size 936x720 with 1 Axes>"
      ]
     },
     "metadata": {
      "needs_background": "light"
     },
     "output_type": "display_data"
    }
   ],
   "source": [
    "plt.figure(figsize=(13,10))\n",
    "sns.countplot(x=data[\"gender\"], hue='cluster_km', data = data)\n",
    "plt.title('Пол')\n",
    "plt.show()"
   ]
  },
  {
   "cell_type": "markdown",
   "metadata": {},
   "source": [
    "Больше всего мужчин и женщин в кластере 1, меньше всего в кластере 2."
   ]
  },
  {
   "cell_type": "code",
   "execution_count": 55,
   "metadata": {},
   "outputs": [
    {
     "data": {
      "image/png": "[encoded data removed]",
      "text/plain": [
       "<Figure size 936x720 with 1 Axes>"
      ]
     },
     "metadata": {
      "needs_background": "light"
     },
     "output_type": "display_data"
    }
   ],
   "source": [
    "plt.figure(figsize=(13,10))\n",
    "sns.countplot(x=data[\"Near_Location\"], hue='cluster_km', data = data)\n",
    "plt.title('Проживание или работа в районе, где находится фитнес-центр')\n",
    "plt.show()"
   ]
  },
  {
   "cell_type": "markdown",
   "metadata": {},
   "source": [
    "Многие живут долеко от фитнес центра. Но дальше всего 1 кластер, ближе всего 0 кластер."
   ]
  },
  {
   "cell_type": "code",
   "execution_count": 56,
   "metadata": {},
   "outputs": [
    {
     "data": {
      "image/png": "[encoded data removed]",
      "text/plain": [
       "<Figure size 936x720 with 1 Axes>"
      ]
     },
     "metadata": {
      "needs_background": "light"
     },
     "output_type": "display_data"
    }
   ],
   "source": [
    "plt.figure(figsize=(13,10))\n",
    "sns.countplot(x=data[\"Partner\"], hue='cluster_km', data = data)  \n",
    "plt.title('Сотрудник компании-партнёра клуба')\n",
    "plt.show()"
   ]
  },
  {
   "cell_type": "markdown",
   "metadata": {},
   "source": [
    "Больше всего сотрудников компании-партнёров клуба в 3м кластере, мень всего в 1м кластере."
   ]
  },
  {
   "cell_type": "code",
   "execution_count": 57,
   "metadata": {},
   "outputs": [
    {
     "data": {
      "image/png": "[encoded data removed]",
      "text/plain": [
       "<Figure size 936x720 with 1 Axes>"
      ]
     },
     "metadata": {
      "needs_background": "light"
     },
     "output_type": "display_data"
    }
   ],
   "source": [
    "plt.figure(figsize=(13,10))\n",
    "sns.countplot(x=data[\"Promo_friends\"], hue='cluster_km', data = data)  \n",
    "plt.title('Факт первоначальной записи в рамках акции «приведи друга»')\n",
    "plt.show()"
   ]
  },
  {
   "cell_type": "markdown",
   "metadata": {},
   "source": [
    "Больше всего людей не уваствовали в первоначальной записи в рамках акции «приведи друга» из 1го кластера. Больше всего учавствовали из 3го кластера."
   ]
  },
  {
   "cell_type": "code",
   "execution_count": 58,
   "metadata": {},
   "outputs": [
    {
     "data": {
      "image/png": "[encoded data removed]",
      "text/plain": [
       "<Figure size 936x720 with 1 Axes>"
      ]
     },
     "metadata": {
      "needs_background": "light"
     },
     "output_type": "display_data"
    }
   ],
   "source": [
    "plt.figure(figsize=(13,10))\n",
    "sns.countplot(x=data[\"Phone\"], hue='cluster_km', data = data)  \n",
    "plt.title('Наличие контактного телефона')\n",
    "plt.show()"
   ]
  },
  {
   "cell_type": "markdown",
   "metadata": {},
   "source": [
    "У 2го кластера отсутствуют номера мобильных телефонов."
   ]
  },
  {
   "cell_type": "code",
   "execution_count": 60,
   "metadata": {},
   "outputs": [
    {
     "data": {
      "image/png": "[encoded data removed]",
      "text/plain": [
       "<Figure size 936x720 with 1 Axes>"
      ]
     },
     "metadata": {
      "needs_background": "light"
     },
     "output_type": "display_data"
    }
   ],
   "source": [
    "plt.figure(figsize=(13,10))\n",
    "sns.countplot(x=data[\"Contract_period\"], hue='cluster_km', data = data)  \n",
    "plt.title('Длительность текущего действующего абонемента')\n",
    "plt.show()"
   ]
  },
  {
   "cell_type": "markdown",
   "metadata": {},
   "source": [
    "Самая меньшая длительность текущего действующего абонемента у 1го кластера. Самая бобльшая длительность текущего действующего абонемента у 3го кластера."
   ]
  },
  {
   "cell_type": "code",
   "execution_count": 61,
   "metadata": {},
   "outputs": [
    {
     "data": {
      "image/png": "[encoded data removed]",
      "text/plain": [
       "<Figure size 936x720 with 1 Axes>"
      ]
     },
     "metadata": {
      "needs_background": "light"
     },
     "output_type": "display_data"
    }
   ],
   "source": [
    "plt.figure(figsize=(13,10))\n",
    "sns.countplot(x=data[\"Group_visits\"], hue='cluster_km', data = data)  \n",
    "plt.title('Факт посещения групповых занятий')\n",
    "plt.show()"
   ]
  },
  {
   "cell_type": "markdown",
   "metadata": {},
   "source": [
    "Больше всего не ходят на груповые зантия из 1го кластера, аще всего ходят из 3го кластера."
   ]
  },
  {
   "cell_type": "code",
   "execution_count": 63,
   "metadata": {},
   "outputs": [
    {
     "data": {
      "image/png": "[encoded data removed]",
      "text/plain": [
       "<Figure size 936x720 with 1 Axes>"
      ]
     },
     "metadata": {
      "needs_background": "light"
     },
     "output_type": "display_data"
    }
   ],
   "source": [
    "plt.figure(figsize=(13,10))\n",
    "sns.countplot(x=data[\"Age\"], hue='cluster_km', data = data)  \n",
    "plt.title('Возраст')\n",
    "plt.show()"
   ]
  },
  {
   "cell_type": "markdown",
   "metadata": {},
   "source": [
    "Больше всего людей до 30 лет в 1м кластере, больше 30 лет в 3м кластере."
   ]
  },
  {
   "cell_type": "code",
   "execution_count": 80,
   "metadata": {},
   "outputs": [
    {
     "data": {
      "image/png": "[encoded data removed]",
      "text/plain": [
       "<Figure size 936x720 with 1 Axes>"
      ]
     },
     "metadata": {
      "needs_background": "light"
     },
     "output_type": "display_data"
    }
   ],
   "source": [
    "plt.figure(figsize=(13,10))\n",
    "sns.histplot(data,palette=\"Paired\", x=\"Avg_additional_charges_total\", hue=\"cluster_km\") \n",
    "plt.title('Суммарная выручка от других услуг фитнес-центра')\n",
    "plt.show()"
   ]
  },
  {
   "cell_type": "markdown",
   "metadata": {},
   "source": [
    "В первом кластере суммарная выручка от других услуг фитнес-центра высока до 200. Больше всего выручки идет от 4го кластера."
   ]
  },
  {
   "cell_type": "code",
   "execution_count": 82,
   "metadata": {},
   "outputs": [
    {
     "data": {
      "image/png": "[encoded data removed]",
      "text/plain": [
       "<Figure size 936x720 with 1 Axes>"
      ]
     },
     "metadata": {
      "needs_background": "light"
     },
     "output_type": "display_data"
    }
   ],
   "source": [
    "plt.figure(figsize=(13,10))\n",
    "sns.countplot(x=data[\"Month_to_end_contract\"], hue='cluster_km', data = data)  \n",
    "plt.title('Срок до окончания текущего действующего абонемента')\n",
    "plt.show()"
   ]
  },
  {
   "cell_type": "markdown",
   "metadata": {},
   "source": [
    "Самый маленький срок до окончания текущего действующего абонемента у первого кластрера. Самый большой срок до окончания текущего действующего абонемента у третьего."
   ]
  },
  {
   "cell_type": "code",
   "execution_count": 83,
   "metadata": {},
   "outputs": [
    {
     "data": {
      "image/png": "[encoded data removed]",
      "text/plain": [
       "<Figure size 936x720 with 1 Axes>"
      ]
     },
     "metadata": {
      "needs_background": "light"
     },
     "output_type": "display_data"
    }
   ],
   "source": [
    "plt.figure(figsize=(13,10))\n",
    "sns.countplot(x=data[\"Lifetime\"], hue='cluster_km', data = data)  \n",
    "plt.title('Время с момента первого обращения в фитнес-центр ')\n",
    "plt.show()"
   ]
  },
  {
   "cell_type": "markdown",
   "metadata": {},
   "source": [
    "До 4го месяца лидирует 1й кластер, до 11го больше всего занимается преимущественно 3й кластер, дальше преимущественно 4й кластер."
   ]
  },
  {
   "cell_type": "code",
   "execution_count": 85,
   "metadata": {},
   "outputs": [
    {
     "data": {
      "image/png": "[encoded data removed]",
      "text/plain": [
       "<Figure size 936x720 with 1 Axes>"
      ]
     },
     "metadata": {
      "needs_background": "light"
     },
     "output_type": "display_data"
    }
   ],
   "source": [
    "plt.figure(figsize=(13,10))\n",
    "sns.histplot(data,palette=\"Paired\", x=\"Avg_class_frequency_total\", hue=\"cluster_km\") \n",
    "plt.title('Средняя частота посещений в неделю за все время с начала действия абонемента')\n",
    "plt.show()"
   ]
  },
  {
   "cell_type": "markdown",
   "metadata": {},
   "source": [
    "До 2х дней в неделю чаще всего занимается 1й кластер. Более 2х раз в неделю 4й."
   ]
  },
  {
   "cell_type": "code",
   "execution_count": 87,
   "metadata": {},
   "outputs": [
    {
     "data": {
      "image/png": "[encoded data removed]",
      "text/plain": [
       "<Figure size 936x720 with 1 Axes>"
      ]
     },
     "metadata": {
      "needs_background": "light"
     },
     "output_type": "display_data"
    }
   ],
   "source": [
    "plt.figure(figsize=(13,10))\n",
    "sns.histplot(data,palette=\"Paired\", x=\"Avg_class_frequency_current_month\", hue=\"cluster_km\")  \n",
    "plt.title('Средняя частота посещений в неделю за предыдущий месяц')\n",
    "plt.show()"
   ]
  },
  {
   "cell_type": "markdown",
   "metadata": {},
   "source": [
    "На данном графике в целом ситуация такая же как и на предыдущем."
   ]
  },
  {
   "cell_type": "markdown",
   "metadata": {},
   "source": [
    "### Для каждого полученного кластера подсчет доли оттока\n",
    "<a id=\"fff\"></a>"
   ]
  },
  {
   "cell_type": "code",
   "execution_count": 88,
   "metadata": {},
   "outputs": [],
   "source": [
    "outflow_cluster = data.query('Churn==1').groupby('cluster_km')['Churn'].count() / data.query('Churn==1')['Churn'].count()\n",
    " # подсчет доли оттока"
   ]
  },
  {
   "cell_type": "code",
   "execution_count": 97,
   "metadata": {},
   "outputs": [
    {
     "data": {
      "text/plain": [
       "cluster_km\n",
       "0    0.21\n",
       "1    0.61\n",
       "2    0.10\n",
       "3    0.03\n",
       "4    0.05\n",
       "Name: Churn, dtype: float64"
      ]
     },
     "execution_count": 97,
     "metadata": {},
     "output_type": "execute_result"
    }
   ],
   "source": [
    "outflow_cluster.round(2)  # просмотр "
   ]
  },
  {
   "cell_type": "code",
   "execution_count": 101,
   "metadata": {},
   "outputs": [
    {
     "name": "stderr",
     "output_type": "stream",
     "text": [
      "/tmp/ipykernel_207/3669922157.py:2: MatplotlibDeprecationWarning: normalize=None does not normalize if the sum is less than 1 but this behavior is deprecated since 3.3 until two minor releases later. After the deprecation period the default value will be normalize=True. To prevent normalization pass normalize=False \n",
      "  plt.pie(outflow_cluster.values, labels = outflow_cluster.index, autopct='%1.1f%%')\n"
     ]
    },
    {
     "data": {
      "image/png": "[encoded data removed]",
      "text/plain": [
       "<Figure size 720x504 with 1 Axes>"
      ]
     },
     "metadata": {},
     "output_type": "display_data"
    }
   ],
   "source": [
    "fig = plt.figure(figsize =(10, 7))\n",
    "plt.pie(outflow_cluster.values, labels = outflow_cluster.index, autopct='%1.1f%%')\n",
    "plt.show()"
   ]
  },
  {
   "cell_type": "markdown",
   "metadata": {},
   "source": [
    "Самый большой отток происходит из кластера 1 он самый не надежный. Самый маленький отток из кластеров 3 и 4, они самые надежные."
   ]
  },
  {
   "cell_type": "markdown",
   "metadata": {},
   "source": [
    "## Выводы\n",
    "<a id=\"aaaa\"></a> "
   ]
  },
  {
   "cell_type": "markdown",
   "metadata": {},
   "source": [
    "При загрузке данных было видно, что:\n",
    "\n",
    " В датасете все типы данных правильные. В типе данных `float64`, колличество знаков после запятой было уменьшено до 2х."
   ]
  },
  {
   "cell_type": "markdown",
   "metadata": {},
   "source": [
    "При пороверки датасета на отсутствующие значения (пропуски), было выяснено, что:\n",
    "\n",
    " В датасете пропусков обнаружено не было. Так же не выявлено явных дубликатов. Стандартное отклонение в в большенстве колонок близко к среднему значению, на первый взгля явных выбросов не видно."
   ]
  },
  {
   "cell_type": "markdown",
   "metadata": {},
   "source": [
    "При просмотре среднего значения признаков в двух группах — тех, кто ушел в отток и тех, кто остался, стало видно, что:\n",
    "\n",
    "- `gender`: у данного столбца одинаковые показатель оттока/притока тем самым можно сказать, что данный признак не является показательным.\n",
    "- `Near_Location`: данный признак находится на большом показателе, что говорит о том что по нему большой процент оттока и притока клиентов. Но сами показатели равноценны, из-за чего можно сказать, что они сильно не влияют на клиентов.\n",
    "- `Partner`: по показателям оттока/притока данного столбца, можно сказать, что сотрудники компании-партнёра остаются чаще чем обычные посетители.\n",
    "- `Promo_friends`: показатель данного столбца ниже среднего, что говорит о маленькои оттоке/притоке. Но тем не менее тот кто прходит в рамках акции, остается чаще.\n",
    "- `Phone`: наличие контактного телифона не влияет на отток/приток. Но показатели довольно высоки.\n",
    "- `Contract_period`: длительность текущего действующего абонемента явно влияет на отток/приток клиентов. Клиенты с абониментами уходят реже.\n",
    "- `Group_visits`: у этого признака, показатель оттока/притока очень маленький. И можно сказать что он не влияет на клиентов.\n",
    "- `Age`: показатель возрастра тоже особо не влияет на отток/приток клиентов.\n",
    "- `Avg_additional_charges_total`:  суммарная выручка от других услуг фитнес-центра влияет так, что клиенты которые пользуются услугами, остаются чаще.\n",
    "- `Month_to_end_contract`: клиенты чаще остаются, если у них есть время до окончания абонимента.\n",
    "- `Lifetime`: время с момента первого обращения в фитнес-центр явно показывает, что чем дольше человек занимается, тем больше вероятность что он уйдет.\n",
    "- `Avg_class_frequency_total`: средняя частота посещений в неделю за все время с начала действия абонемента не сильно влияет, но те кто ходет реже уходят чаще.\n",
    "- `Avg_class_frequency_current_month`: но если рассматривать среднюю частоту посещений в неделю за предыдущий месяц, то можно сделать логичное заключение. Кто стал ходить меньше, тот с большей вероятностью уйдет."
   ]
  },
  {
   "cell_type": "markdown",
   "metadata": {},
   "source": [
    "При построении матрицы корреляции стало видно, что:\n",
    "\n",
    "- в целом зависимость очень слабая у параметров `'gender'`, `'Near_Location'`,`'Phone'`, `'Group_visits'`, `Age`, `'Avg_additional_charges_total'`, `'Lifetime'`.\n",
    "    \n",
    "- слабая зависимость у параметров: `'Partner'` - `Promo_friends`, `'Partner'` - `'Contract_period'`, `'Partner'` - ,`Promo_friends` - `'Contract_period'`, `Promo_friends` - `'Month_to_end_contract'`.\n",
    "    \n",
    "- высокая зависимость у параметров: `'Contract_period'` - `'Month_to_end_contract'` и `'Avg_class_frequency_current_month'` - `'Avg_additional_charges_total'`"
   ]
  },
  {
   "cell_type": "markdown",
   "metadata": {},
   "source": [
    "При Обучение модели на train-выборке двумя способами, было вяснено, что : У **логистической регрессии** доля правильных ответов, точность и полнота выше чем у **случайного леса**."
   ]
  },
  {
   "cell_type": "markdown",
   "metadata": {},
   "source": [
    "При посторении матрицы расстояний функцией `linkage()`, предложенное оптимальное число кластеров **4**."
   ]
  },
  {
   "cell_type": "markdown",
   "metadata": {},
   "source": [
    "**Кластер 0** - все живут далеко от фитнес-центра. Самый маленький процент (8%) первоначальной записи в рамках акции «приведи друга». Самый маленький процент (22%) посещения групповых занятий.\n",
    "\n",
    "**Кластер 1** - живут очень близко от фитнес-центра. Самый маленький процент (35%) сотрудников компании-партнёров клуба. Самая маленькая  длительность текущего действующего абонемента(1,95). Самый маленький средний возраст (28,17). Меньше всего суммарная средняя выручка от других услуг фитнес-центра(131,44). Самый маленький срок до окончания текущего действующего абонемента(1,86). Самое маленькое время с момента первого обращения в фитнес-центр(2,43). Самая маленькая средняя частота посещений в неделю за все время с начала действия абонемента(1,25). Самая маленькая средняя частота посещений в неделю за предыдущий месяц(1,1)\n",
    "\n",
    "**Кластер 2** - не оставили контактные телефоны.\n",
    "\n",
    "**Кластер 3** - самый большой процент(78%) сотрудников компаний-партнёров клуба. Самый большой процент(57%) первоначальной записи в рамках акции «приведи друга». Самая большая длительность текущего действующего абонемента(10,92). Самый большой процент (55%) посещения групповых занятий. Самый большой срок (9,98) срок до окончания текущего действующего абонемента.\n",
    "\n",
    "**Кластер 4** - самый большой средний возраст(30.11). Самая большая суммарная средняя выручка от других услуг фитнес-центра (161,67). Самое большое  время с момента первого обращения в фитнес-центр(4,89). Самая большая  средняя частота посещений в неделю за предыдущий месяц(2,85). Самая большая средняя частота посещений в неделю за предыдущий месяц(2,85)."
   ]
  },
  {
   "cell_type": "markdown",
   "metadata": {},
   "source": [
    "Самый большой отток происходит из кластера 1 он самый не надежный. Самый маленький отток из кластеров 3 и 4, они самые надежные."
   ]
  }
 ],
 "metadata": {
  "ExecuteTimeLog": [
   {
    "duration": 419,
    "start_time": "2022-12-13T15:28:31.076Z"
   },
   {
    "duration": 60,
    "start_time": "2022-12-13T15:28:31.596Z"
   },
   {
    "duration": 7,
    "start_time": "2022-12-13T15:28:39.140Z"
   },
   {
    "duration": 131,
    "start_time": "2022-12-13T15:28:53.293Z"
   },
   {
    "duration": 24,
    "start_time": "2022-12-13T15:28:54.175Z"
   },
   {
    "duration": 11,
    "start_time": "2022-12-13T15:30:34.263Z"
   },
   {
    "duration": 379,
    "start_time": "2022-12-13T15:30:42.720Z"
   },
   {
    "duration": 31,
    "start_time": "2022-12-13T15:30:43.101Z"
   },
   {
    "duration": 15,
    "start_time": "2022-12-13T15:30:43.134Z"
   },
   {
    "duration": 11,
    "start_time": "2022-12-13T15:30:43.150Z"
   },
   {
    "duration": 44,
    "start_time": "2022-12-13T15:32:30.628Z"
   },
   {
    "duration": 7,
    "start_time": "2022-12-13T15:33:14.558Z"
   },
   {
    "duration": 409,
    "start_time": "2022-12-13T15:36:22.195Z"
   },
   {
    "duration": 31,
    "start_time": "2022-12-13T15:36:22.606Z"
   },
   {
    "duration": 17,
    "start_time": "2022-12-13T15:36:22.638Z"
   },
   {
    "duration": 10,
    "start_time": "2022-12-13T15:36:22.656Z"
   },
   {
    "duration": 44,
    "start_time": "2022-12-13T15:36:22.668Z"
   },
   {
    "duration": 8,
    "start_time": "2022-12-13T15:36:22.714Z"
   },
   {
    "duration": 350,
    "start_time": "2022-12-13T15:37:24.150Z"
   },
   {
    "duration": 30,
    "start_time": "2022-12-13T15:37:24.502Z"
   },
   {
    "duration": 17,
    "start_time": "2022-12-13T15:37:24.534Z"
   },
   {
    "duration": 10,
    "start_time": "2022-12-13T15:37:24.552Z"
   },
   {
    "duration": 9,
    "start_time": "2022-12-13T15:37:24.563Z"
   },
   {
    "duration": 45,
    "start_time": "2022-12-13T15:37:24.573Z"
   },
   {
    "duration": 10,
    "start_time": "2022-12-13T16:01:48.905Z"
   },
   {
    "duration": 334,
    "start_time": "2022-12-13T16:01:54.061Z"
   },
   {
    "duration": 32,
    "start_time": "2022-12-13T16:01:54.397Z"
   },
   {
    "duration": 17,
    "start_time": "2022-12-13T16:01:54.431Z"
   },
   {
    "duration": 12,
    "start_time": "2022-12-13T16:01:54.449Z"
   },
   {
    "duration": 9,
    "start_time": "2022-12-13T16:01:54.463Z"
   },
   {
    "duration": 7,
    "start_time": "2022-12-13T16:01:54.474Z"
   },
   {
    "duration": 58,
    "start_time": "2022-12-13T16:01:54.483Z"
   },
   {
    "duration": 6,
    "start_time": "2022-12-13T16:03:00.590Z"
   },
   {
    "duration": 7,
    "start_time": "2022-12-13T16:03:00.982Z"
   },
   {
    "duration": 66,
    "start_time": "2022-12-13T16:04:40.232Z"
   },
   {
    "duration": 9,
    "start_time": "2022-12-13T16:05:22.865Z"
   },
   {
    "duration": 386,
    "start_time": "2022-12-13T16:05:29.970Z"
   },
   {
    "duration": 32,
    "start_time": "2022-12-13T16:05:30.359Z"
   },
   {
    "duration": 17,
    "start_time": "2022-12-13T16:05:30.392Z"
   },
   {
    "duration": 44,
    "start_time": "2022-12-13T16:05:30.411Z"
   },
   {
    "duration": 23,
    "start_time": "2022-12-13T16:05:30.456Z"
   },
   {
    "duration": 52,
    "start_time": "2022-12-13T16:05:30.480Z"
   },
   {
    "duration": 32,
    "start_time": "2022-12-13T16:05:30.534Z"
   },
   {
    "duration": 29,
    "start_time": "2022-12-13T16:05:30.567Z"
   },
   {
    "duration": 411,
    "start_time": "2022-12-15T16:00:36.897Z"
   },
   {
    "duration": 142,
    "start_time": "2022-12-15T16:00:37.310Z"
   },
   {
    "duration": 18,
    "start_time": "2022-12-15T16:00:37.453Z"
   },
   {
    "duration": 12,
    "start_time": "2022-12-15T16:00:37.473Z"
   },
   {
    "duration": 11,
    "start_time": "2022-12-15T16:00:37.487Z"
   },
   {
    "duration": 66,
    "start_time": "2022-12-15T16:00:37.499Z"
   },
   {
    "duration": 0,
    "start_time": "2022-12-15T16:00:37.567Z"
   },
   {
    "duration": 0,
    "start_time": "2022-12-15T16:00:37.568Z"
   },
   {
    "duration": 0,
    "start_time": "2022-12-15T16:00:37.569Z"
   },
   {
    "duration": 0,
    "start_time": "2022-12-15T16:00:37.570Z"
   },
   {
    "duration": 0,
    "start_time": "2022-12-15T16:00:37.571Z"
   },
   {
    "duration": 372,
    "start_time": "2022-12-15T16:01:01.744Z"
   },
   {
    "duration": 34,
    "start_time": "2022-12-15T16:01:02.124Z"
   },
   {
    "duration": 17,
    "start_time": "2022-12-15T16:01:02.160Z"
   },
   {
    "duration": 11,
    "start_time": "2022-12-15T16:01:02.179Z"
   },
   {
    "duration": 14,
    "start_time": "2022-12-15T16:01:02.192Z"
   },
   {
    "duration": 26,
    "start_time": "2022-12-15T16:01:02.208Z"
   },
   {
    "duration": 17,
    "start_time": "2022-12-15T16:01:02.235Z"
   },
   {
    "duration": 34,
    "start_time": "2022-12-15T16:01:02.254Z"
   },
   {
    "duration": 8,
    "start_time": "2022-12-15T16:01:02.290Z"
   },
   {
    "duration": 34,
    "start_time": "2022-12-15T16:01:02.300Z"
   },
   {
    "duration": 65,
    "start_time": "2022-12-15T16:01:02.335Z"
   },
   {
    "duration": 431,
    "start_time": "2022-12-15T16:02:49.484Z"
   },
   {
    "duration": 32,
    "start_time": "2022-12-15T16:02:49.918Z"
   },
   {
    "duration": 20,
    "start_time": "2022-12-15T16:02:49.952Z"
   },
   {
    "duration": 27,
    "start_time": "2022-12-15T16:02:49.974Z"
   },
   {
    "duration": 45,
    "start_time": "2022-12-15T16:02:50.004Z"
   },
   {
    "duration": 10,
    "start_time": "2022-12-15T16:02:50.050Z"
   },
   {
    "duration": 46,
    "start_time": "2022-12-15T16:02:50.062Z"
   },
   {
    "duration": 40,
    "start_time": "2022-12-15T16:02:50.110Z"
   },
   {
    "duration": 21,
    "start_time": "2022-12-15T16:02:50.152Z"
   },
   {
    "duration": 55,
    "start_time": "2022-12-15T16:02:50.174Z"
   },
   {
    "duration": 81,
    "start_time": "2022-12-15T16:02:50.232Z"
   },
   {
    "duration": 1268,
    "start_time": "2022-12-15T16:07:45.669Z"
   },
   {
    "duration": 40,
    "start_time": "2022-12-15T16:07:46.939Z"
   },
   {
    "duration": 21,
    "start_time": "2022-12-15T16:07:46.981Z"
   },
   {
    "duration": 16,
    "start_time": "2022-12-15T16:07:47.003Z"
   },
   {
    "duration": 8,
    "start_time": "2022-12-15T16:07:47.021Z"
   },
   {
    "duration": 5,
    "start_time": "2022-12-15T16:07:47.031Z"
   },
   {
    "duration": 17,
    "start_time": "2022-12-15T16:07:47.038Z"
   },
   {
    "duration": 13,
    "start_time": "2022-12-15T16:07:47.057Z"
   },
   {
    "duration": 8,
    "start_time": "2022-12-15T16:07:47.072Z"
   },
   {
    "duration": 53,
    "start_time": "2022-12-15T16:07:47.082Z"
   },
   {
    "duration": 137,
    "start_time": "2022-12-15T16:07:47.137Z"
   },
   {
    "duration": 442,
    "start_time": "2022-12-15T16:08:07.808Z"
   },
   {
    "duration": 1074,
    "start_time": "2022-12-15T16:08:12.764Z"
   },
   {
    "duration": 33,
    "start_time": "2022-12-15T16:08:13.840Z"
   },
   {
    "duration": 16,
    "start_time": "2022-12-15T16:08:13.875Z"
   },
   {
    "duration": 13,
    "start_time": "2022-12-15T16:08:13.892Z"
   },
   {
    "duration": 11,
    "start_time": "2022-12-15T16:08:13.906Z"
   },
   {
    "duration": 6,
    "start_time": "2022-12-15T16:08:13.918Z"
   },
   {
    "duration": 17,
    "start_time": "2022-12-15T16:08:13.926Z"
   },
   {
    "duration": 15,
    "start_time": "2022-12-15T16:08:13.945Z"
   },
   {
    "duration": 7,
    "start_time": "2022-12-15T16:08:13.961Z"
   },
   {
    "duration": 49,
    "start_time": "2022-12-15T16:08:13.970Z"
   },
   {
    "duration": 490,
    "start_time": "2022-12-15T16:08:14.021Z"
   },
   {
    "duration": 426,
    "start_time": "2022-12-15T16:08:41.170Z"
   },
   {
    "duration": 1109,
    "start_time": "2022-12-15T16:11:52.852Z"
   },
   {
    "duration": 33,
    "start_time": "2022-12-15T16:11:53.963Z"
   },
   {
    "duration": 17,
    "start_time": "2022-12-15T16:11:53.997Z"
   },
   {
    "duration": 12,
    "start_time": "2022-12-15T16:11:54.016Z"
   },
   {
    "duration": 5,
    "start_time": "2022-12-15T16:11:54.029Z"
   },
   {
    "duration": 16,
    "start_time": "2022-12-15T16:11:54.036Z"
   },
   {
    "duration": 13,
    "start_time": "2022-12-15T16:11:54.054Z"
   },
   {
    "duration": 8,
    "start_time": "2022-12-15T16:11:54.069Z"
   },
   {
    "duration": 68,
    "start_time": "2022-12-15T16:11:54.079Z"
   },
   {
    "duration": 72,
    "start_time": "2022-12-15T16:11:54.149Z"
   },
   {
    "duration": 1170,
    "start_time": "2022-12-15T16:12:27.599Z"
   },
   {
    "duration": 31,
    "start_time": "2022-12-15T16:12:28.772Z"
   },
   {
    "duration": 15,
    "start_time": "2022-12-15T16:12:28.805Z"
   },
   {
    "duration": 14,
    "start_time": "2022-12-15T16:12:28.823Z"
   },
   {
    "duration": 7,
    "start_time": "2022-12-15T16:12:28.839Z"
   },
   {
    "duration": 13,
    "start_time": "2022-12-15T16:12:28.847Z"
   },
   {
    "duration": 17,
    "start_time": "2022-12-15T16:12:28.862Z"
   },
   {
    "duration": 32,
    "start_time": "2022-12-15T16:12:28.881Z"
   },
   {
    "duration": 50,
    "start_time": "2022-12-15T16:12:28.915Z"
   },
   {
    "duration": 211133,
    "start_time": "2022-12-15T16:12:28.968Z"
   },
   {
    "duration": 78,
    "start_time": "2022-12-15T16:25:18.702Z"
   },
   {
    "duration": 22,
    "start_time": "2022-12-15T16:25:23.084Z"
   },
   {
    "duration": 13,
    "start_time": "2022-12-15T16:25:42.696Z"
   },
   {
    "duration": 1165,
    "start_time": "2022-12-15T16:26:03.174Z"
   },
   {
    "duration": 33,
    "start_time": "2022-12-15T16:26:04.341Z"
   },
   {
    "duration": 17,
    "start_time": "2022-12-15T16:26:04.375Z"
   },
   {
    "duration": 44,
    "start_time": "2022-12-15T16:26:04.394Z"
   },
   {
    "duration": 27,
    "start_time": "2022-12-15T16:26:04.440Z"
   },
   {
    "duration": 13,
    "start_time": "2022-12-15T16:26:04.469Z"
   },
   {
    "duration": 37,
    "start_time": "2022-12-15T16:26:04.484Z"
   },
   {
    "duration": 28,
    "start_time": "2022-12-15T16:26:04.522Z"
   },
   {
    "duration": 22,
    "start_time": "2022-12-15T16:26:04.552Z"
   },
   {
    "duration": 48,
    "start_time": "2022-12-15T16:26:04.576Z"
   },
   {
    "duration": 110,
    "start_time": "2022-12-15T16:26:04.626Z"
   },
   {
    "duration": 6,
    "start_time": "2022-12-15T16:27:39.734Z"
   },
   {
    "duration": 16,
    "start_time": "2022-12-15T16:27:49.020Z"
   },
   {
    "duration": 102,
    "start_time": "2022-12-15T16:27:53.515Z"
   },
   {
    "duration": 110,
    "start_time": "2022-12-15T16:29:16.726Z"
   },
   {
    "duration": 1180,
    "start_time": "2022-12-15T16:29:23.481Z"
   },
   {
    "duration": 38,
    "start_time": "2022-12-15T16:29:24.663Z"
   },
   {
    "duration": 20,
    "start_time": "2022-12-15T16:29:24.702Z"
   },
   {
    "duration": 18,
    "start_time": "2022-12-15T16:29:24.724Z"
   },
   {
    "duration": 8,
    "start_time": "2022-12-15T16:29:24.744Z"
   },
   {
    "duration": 6,
    "start_time": "2022-12-15T16:29:24.754Z"
   },
   {
    "duration": 18,
    "start_time": "2022-12-15T16:29:24.762Z"
   },
   {
    "duration": 32,
    "start_time": "2022-12-15T16:29:24.782Z"
   },
   {
    "duration": 8,
    "start_time": "2022-12-15T16:29:24.815Z"
   },
   {
    "duration": 29,
    "start_time": "2022-12-15T16:29:24.824Z"
   },
   {
    "duration": 169,
    "start_time": "2022-12-15T16:29:24.855Z"
   },
   {
    "duration": 1221,
    "start_time": "2022-12-15T16:29:36.904Z"
   },
   {
    "duration": 33,
    "start_time": "2022-12-15T16:29:38.127Z"
   },
   {
    "duration": 17,
    "start_time": "2022-12-15T16:29:38.162Z"
   },
   {
    "duration": 12,
    "start_time": "2022-12-15T16:29:38.181Z"
   },
   {
    "duration": 11,
    "start_time": "2022-12-15T16:29:38.196Z"
   },
   {
    "duration": 7,
    "start_time": "2022-12-15T16:29:38.209Z"
   },
   {
    "duration": 19,
    "start_time": "2022-12-15T16:29:38.218Z"
   },
   {
    "duration": 18,
    "start_time": "2022-12-15T16:29:38.239Z"
   },
   {
    "duration": 14,
    "start_time": "2022-12-15T16:29:38.258Z"
   },
   {
    "duration": 38,
    "start_time": "2022-12-15T16:29:38.274Z"
   },
   {
    "duration": 148,
    "start_time": "2022-12-15T16:29:38.314Z"
   },
   {
    "duration": 44,
    "start_time": "2022-12-15T16:29:42.734Z"
   },
   {
    "duration": 12,
    "start_time": "2022-12-15T16:30:46.621Z"
   },
   {
    "duration": 1289,
    "start_time": "2022-12-15T16:30:53.683Z"
   },
   {
    "duration": 35,
    "start_time": "2022-12-15T16:30:54.974Z"
   },
   {
    "duration": 21,
    "start_time": "2022-12-15T16:30:55.011Z"
   },
   {
    "duration": 15,
    "start_time": "2022-12-15T16:30:55.035Z"
   },
   {
    "duration": 10,
    "start_time": "2022-12-15T16:30:55.052Z"
   },
   {
    "duration": 12,
    "start_time": "2022-12-15T16:30:55.064Z"
   },
   {
    "duration": 35,
    "start_time": "2022-12-15T16:30:55.079Z"
   },
   {
    "duration": 29,
    "start_time": "2022-12-15T16:30:55.116Z"
   },
   {
    "duration": 25,
    "start_time": "2022-12-15T16:30:55.147Z"
   },
   {
    "duration": 54,
    "start_time": "2022-12-15T16:30:55.175Z"
   },
   {
    "duration": 52,
    "start_time": "2022-12-15T16:30:55.231Z"
   },
   {
    "duration": 105,
    "start_time": "2022-12-15T16:31:03.833Z"
   },
   {
    "duration": 51,
    "start_time": "2022-12-15T16:31:15.820Z"
   },
   {
    "duration": 174,
    "start_time": "2022-12-15T16:31:28.616Z"
   },
   {
    "duration": 13,
    "start_time": "2022-12-15T16:33:02.401Z"
   },
   {
    "duration": 1336,
    "start_time": "2022-12-15T16:33:07.221Z"
   },
   {
    "duration": 1369,
    "start_time": "2022-12-15T16:33:31.625Z"
   },
   {
    "duration": 1529,
    "start_time": "2022-12-15T16:33:39.126Z"
   },
   {
    "duration": 1422,
    "start_time": "2022-12-15T16:33:49.507Z"
   },
   {
    "duration": 1364,
    "start_time": "2022-12-15T16:33:57.822Z"
   },
   {
    "duration": 1576,
    "start_time": "2022-12-15T16:34:14.186Z"
   },
   {
    "duration": 1464,
    "start_time": "2022-12-15T16:34:21.681Z"
   },
   {
    "duration": 1402,
    "start_time": "2022-12-15T16:34:31.327Z"
   },
   {
    "duration": 1430,
    "start_time": "2022-12-15T16:34:55.700Z"
   },
   {
    "duration": 97,
    "start_time": "2022-12-15T16:36:01.617Z"
   },
   {
    "duration": 1574,
    "start_time": "2022-12-15T16:36:09.823Z"
   },
   {
    "duration": 1425,
    "start_time": "2022-12-15T16:36:53.848Z"
   },
   {
    "duration": 639,
    "start_time": "2022-12-15T16:49:40.646Z"
   },
   {
    "duration": 12,
    "start_time": "2022-12-15T16:51:03.949Z"
   },
   {
    "duration": 12,
    "start_time": "2022-12-15T16:51:22.704Z"
   },
   {
    "duration": 27,
    "start_time": "2022-12-15T16:51:30.755Z"
   },
   {
    "duration": 2548,
    "start_time": "2022-12-15T16:52:04.345Z"
   },
   {
    "duration": 218,
    "start_time": "2022-12-15T16:58:13.673Z"
   },
   {
    "duration": 225,
    "start_time": "2022-12-15T16:58:29.282Z"
   },
   {
    "duration": 233,
    "start_time": "2022-12-15T16:58:55.251Z"
   },
   {
    "duration": 212,
    "start_time": "2022-12-15T16:59:01.398Z"
   },
   {
    "duration": 1209,
    "start_time": "2022-12-15T17:00:04.821Z"
   },
   {
    "duration": 33,
    "start_time": "2022-12-15T17:00:06.032Z"
   },
   {
    "duration": 16,
    "start_time": "2022-12-15T17:00:06.066Z"
   },
   {
    "duration": 15,
    "start_time": "2022-12-15T17:00:06.084Z"
   },
   {
    "duration": 5,
    "start_time": "2022-12-15T17:00:06.101Z"
   },
   {
    "duration": 18,
    "start_time": "2022-12-15T17:00:06.108Z"
   },
   {
    "duration": 27,
    "start_time": "2022-12-15T17:00:06.128Z"
   },
   {
    "duration": 16,
    "start_time": "2022-12-15T17:00:06.157Z"
   },
   {
    "duration": 47,
    "start_time": "2022-12-15T17:00:06.175Z"
   },
   {
    "duration": 241,
    "start_time": "2022-12-15T17:00:06.224Z"
   },
   {
    "duration": 1499,
    "start_time": "2022-12-15T17:00:06.466Z"
   },
   {
    "duration": 202,
    "start_time": "2022-12-15T17:03:46.974Z"
   },
   {
    "duration": 231,
    "start_time": "2022-12-15T17:04:02.981Z"
   },
   {
    "duration": 199,
    "start_time": "2022-12-15T17:04:12.990Z"
   },
   {
    "duration": 205,
    "start_time": "2022-12-15T17:04:27.610Z"
   },
   {
    "duration": 204,
    "start_time": "2022-12-15T17:04:34.257Z"
   },
   {
    "duration": 278,
    "start_time": "2022-12-15T17:04:47.571Z"
   },
   {
    "duration": 211,
    "start_time": "2022-12-15T17:05:00.081Z"
   },
   {
    "duration": 228,
    "start_time": "2022-12-15T17:05:20.868Z"
   },
   {
    "duration": 229,
    "start_time": "2022-12-15T17:05:46.628Z"
   },
   {
    "duration": 317,
    "start_time": "2022-12-15T17:06:04.234Z"
   },
   {
    "duration": 270,
    "start_time": "2022-12-15T17:06:28.216Z"
   },
   {
    "duration": 210,
    "start_time": "2022-12-15T17:07:15.802Z"
   },
   {
    "duration": 338,
    "start_time": "2022-12-15T17:07:16.576Z"
   },
   {
    "duration": 367,
    "start_time": "2022-12-15T17:07:17.486Z"
   },
   {
    "duration": 277,
    "start_time": "2022-12-15T17:07:18.884Z"
   },
   {
    "duration": 1316,
    "start_time": "2022-12-19T17:09:32.117Z"
   },
   {
    "duration": 80,
    "start_time": "2022-12-19T17:09:33.435Z"
   },
   {
    "duration": 16,
    "start_time": "2022-12-19T17:09:33.516Z"
   },
   {
    "duration": 10,
    "start_time": "2022-12-19T17:09:33.534Z"
   },
   {
    "duration": 5,
    "start_time": "2022-12-19T17:09:33.546Z"
   },
   {
    "duration": 14,
    "start_time": "2022-12-19T17:09:33.552Z"
   },
   {
    "duration": 12,
    "start_time": "2022-12-19T17:09:33.568Z"
   },
   {
    "duration": 9,
    "start_time": "2022-12-19T17:09:33.582Z"
   },
   {
    "duration": 64,
    "start_time": "2022-12-19T17:09:33.592Z"
   },
   {
    "duration": 372,
    "start_time": "2022-12-19T17:09:33.658Z"
   },
   {
    "duration": 203,
    "start_time": "2022-12-19T17:09:34.031Z"
   },
   {
    "duration": 220,
    "start_time": "2022-12-19T17:09:34.235Z"
   },
   {
    "duration": 233,
    "start_time": "2022-12-19T17:09:34.456Z"
   },
   {
    "duration": 236,
    "start_time": "2022-12-19T17:09:34.693Z"
   },
   {
    "duration": 241,
    "start_time": "2022-12-19T17:09:34.931Z"
   },
   {
    "duration": 229,
    "start_time": "2022-12-19T17:09:35.174Z"
   },
   {
    "duration": 377,
    "start_time": "2022-12-19T17:09:35.405Z"
   },
   {
    "duration": 255,
    "start_time": "2022-12-19T17:09:35.784Z"
   },
   {
    "duration": 218,
    "start_time": "2022-12-19T17:09:36.041Z"
   },
   {
    "duration": 353,
    "start_time": "2022-12-19T17:09:36.261Z"
   },
   {
    "duration": 277,
    "start_time": "2022-12-19T17:09:36.615Z"
   },
   {
    "duration": 267,
    "start_time": "2022-12-19T17:09:36.893Z"
   },
   {
    "duration": 1589,
    "start_time": "2022-12-19T17:09:37.162Z"
   },
   {
    "duration": 1169,
    "start_time": "2022-12-19T17:09:55.537Z"
   },
   {
    "duration": 32,
    "start_time": "2022-12-19T17:09:56.708Z"
   },
   {
    "duration": 16,
    "start_time": "2022-12-19T17:09:56.742Z"
   },
   {
    "duration": 13,
    "start_time": "2022-12-19T17:09:56.760Z"
   },
   {
    "duration": 6,
    "start_time": "2022-12-19T17:09:56.774Z"
   },
   {
    "duration": 22,
    "start_time": "2022-12-19T17:09:56.781Z"
   },
   {
    "duration": 13,
    "start_time": "2022-12-19T17:09:56.805Z"
   },
   {
    "duration": 7,
    "start_time": "2022-12-19T17:09:56.819Z"
   },
   {
    "duration": 66,
    "start_time": "2022-12-19T17:09:56.828Z"
   },
   {
    "duration": 242,
    "start_time": "2022-12-19T17:09:56.896Z"
   },
   {
    "duration": 194,
    "start_time": "2022-12-19T17:09:57.140Z"
   },
   {
    "duration": 205,
    "start_time": "2022-12-19T17:09:57.335Z"
   },
   {
    "duration": 209,
    "start_time": "2022-12-19T17:09:57.542Z"
   },
   {
    "duration": 191,
    "start_time": "2022-12-19T17:09:57.754Z"
   },
   {
    "duration": 223,
    "start_time": "2022-12-19T17:09:57.947Z"
   },
   {
    "duration": 216,
    "start_time": "2022-12-19T17:09:58.172Z"
   },
   {
    "duration": 299,
    "start_time": "2022-12-19T17:09:58.390Z"
   },
   {
    "duration": 367,
    "start_time": "2022-12-19T17:09:58.690Z"
   },
   {
    "duration": 233,
    "start_time": "2022-12-19T17:09:59.059Z"
   },
   {
    "duration": 350,
    "start_time": "2022-12-19T17:09:59.294Z"
   },
   {
    "duration": 308,
    "start_time": "2022-12-19T17:09:59.646Z"
   },
   {
    "duration": 271,
    "start_time": "2022-12-19T17:09:59.956Z"
   },
   {
    "duration": 1590,
    "start_time": "2022-12-19T17:10:00.229Z"
   },
   {
    "duration": 1154,
    "start_time": "2022-12-19T17:10:19.449Z"
   },
   {
    "duration": 33,
    "start_time": "2022-12-19T17:10:20.605Z"
   },
   {
    "duration": 16,
    "start_time": "2022-12-19T17:10:20.640Z"
   },
   {
    "duration": 13,
    "start_time": "2022-12-19T17:10:20.658Z"
   },
   {
    "duration": 8,
    "start_time": "2022-12-19T17:10:20.672Z"
   },
   {
    "duration": 13,
    "start_time": "2022-12-19T17:10:20.682Z"
   },
   {
    "duration": 12,
    "start_time": "2022-12-19T17:10:20.697Z"
   },
   {
    "duration": 8,
    "start_time": "2022-12-19T17:10:20.710Z"
   },
   {
    "duration": 74,
    "start_time": "2022-12-19T17:10:20.720Z"
   },
   {
    "duration": 268,
    "start_time": "2022-12-19T17:10:20.796Z"
   },
   {
    "duration": 204,
    "start_time": "2022-12-19T17:10:21.065Z"
   },
   {
    "duration": 229,
    "start_time": "2022-12-19T17:10:21.271Z"
   },
   {
    "duration": 207,
    "start_time": "2022-12-19T17:10:21.502Z"
   },
   {
    "duration": 205,
    "start_time": "2022-12-19T17:10:21.710Z"
   },
   {
    "duration": 222,
    "start_time": "2022-12-19T17:10:21.917Z"
   },
   {
    "duration": 219,
    "start_time": "2022-12-19T17:10:22.140Z"
   },
   {
    "duration": 310,
    "start_time": "2022-12-19T17:10:22.361Z"
   },
   {
    "duration": 349,
    "start_time": "2022-12-19T17:10:22.673Z"
   },
   {
    "duration": 215,
    "start_time": "2022-12-19T17:10:23.024Z"
   },
   {
    "duration": 343,
    "start_time": "2022-12-19T17:10:23.241Z"
   },
   {
    "duration": 308,
    "start_time": "2022-12-19T17:10:23.586Z"
   },
   {
    "duration": 263,
    "start_time": "2022-12-19T17:10:23.895Z"
   },
   {
    "duration": 1610,
    "start_time": "2022-12-19T17:10:24.160Z"
   },
   {
    "duration": 1060,
    "start_time": "2022-12-19T17:11:30.817Z"
   },
   {
    "duration": 33,
    "start_time": "2022-12-19T17:11:31.879Z"
   },
   {
    "duration": 34,
    "start_time": "2022-12-19T17:11:31.913Z"
   },
   {
    "duration": 19,
    "start_time": "2022-12-19T17:11:31.950Z"
   },
   {
    "duration": 16,
    "start_time": "2022-12-19T17:11:31.971Z"
   },
   {
    "duration": 43,
    "start_time": "2022-12-19T17:11:31.988Z"
   },
   {
    "duration": 20,
    "start_time": "2022-12-19T17:11:32.032Z"
   },
   {
    "duration": 6,
    "start_time": "2022-12-19T17:11:32.054Z"
   },
   {
    "duration": 49,
    "start_time": "2022-12-19T17:11:32.061Z"
   },
   {
    "duration": 252,
    "start_time": "2022-12-19T17:11:32.114Z"
   },
   {
    "duration": 220,
    "start_time": "2022-12-19T17:11:32.369Z"
   },
   {
    "duration": 240,
    "start_time": "2022-12-19T17:11:32.591Z"
   },
   {
    "duration": 239,
    "start_time": "2022-12-19T17:11:32.833Z"
   },
   {
    "duration": 232,
    "start_time": "2022-12-19T17:11:33.074Z"
   },
   {
    "duration": 252,
    "start_time": "2022-12-19T17:11:33.308Z"
   },
   {
    "duration": 285,
    "start_time": "2022-12-19T17:11:33.562Z"
   },
   {
    "duration": 340,
    "start_time": "2022-12-19T17:11:33.849Z"
   },
   {
    "duration": 412,
    "start_time": "2022-12-19T17:11:34.191Z"
   },
   {
    "duration": 271,
    "start_time": "2022-12-19T17:11:34.605Z"
   },
   {
    "duration": 375,
    "start_time": "2022-12-19T17:11:34.878Z"
   },
   {
    "duration": 311,
    "start_time": "2022-12-19T17:11:35.255Z"
   },
   {
    "duration": 285,
    "start_time": "2022-12-19T17:11:35.568Z"
   },
   {
    "duration": 1531,
    "start_time": "2022-12-19T17:11:35.855Z"
   },
   {
    "duration": 246,
    "start_time": "2022-12-19T17:13:57.857Z"
   },
   {
    "duration": 246,
    "start_time": "2022-12-19T17:14:18.502Z"
   },
   {
    "duration": 245,
    "start_time": "2022-12-19T17:14:29.220Z"
   },
   {
    "duration": 248,
    "start_time": "2022-12-19T17:19:39.389Z"
   },
   {
    "duration": 338,
    "start_time": "2022-12-19T17:19:54.596Z"
   },
   {
    "duration": 253,
    "start_time": "2022-12-19T17:20:05.138Z"
   },
   {
    "duration": 235,
    "start_time": "2022-12-19T17:20:17.866Z"
   },
   {
    "duration": 1164,
    "start_time": "2022-12-19T17:21:29.168Z"
   },
   {
    "duration": 42,
    "start_time": "2022-12-19T17:21:30.335Z"
   },
   {
    "duration": 21,
    "start_time": "2022-12-19T17:21:30.378Z"
   },
   {
    "duration": 36,
    "start_time": "2022-12-19T17:21:30.401Z"
   },
   {
    "duration": 34,
    "start_time": "2022-12-19T17:21:30.439Z"
   },
   {
    "duration": 41,
    "start_time": "2022-12-19T17:21:30.474Z"
   },
   {
    "duration": 64,
    "start_time": "2022-12-19T17:21:30.517Z"
   },
   {
    "duration": 44,
    "start_time": "2022-12-19T17:21:30.582Z"
   },
   {
    "duration": 66,
    "start_time": "2022-12-19T17:21:30.628Z"
   },
   {
    "duration": 257,
    "start_time": "2022-12-19T17:21:30.697Z"
   },
   {
    "duration": 248,
    "start_time": "2022-12-19T17:21:30.962Z"
   },
   {
    "duration": 252,
    "start_time": "2022-12-19T17:21:31.212Z"
   },
   {
    "duration": 238,
    "start_time": "2022-12-19T17:21:31.465Z"
   },
   {
    "duration": 246,
    "start_time": "2022-12-19T17:21:31.705Z"
   },
   {
    "duration": 263,
    "start_time": "2022-12-19T17:21:31.954Z"
   },
   {
    "duration": 250,
    "start_time": "2022-12-19T17:21:32.219Z"
   },
   {
    "duration": 336,
    "start_time": "2022-12-19T17:21:32.471Z"
   },
   {
    "duration": 430,
    "start_time": "2022-12-19T17:21:32.809Z"
   },
   {
    "duration": 268,
    "start_time": "2022-12-19T17:21:33.241Z"
   },
   {
    "duration": 420,
    "start_time": "2022-12-19T17:21:33.511Z"
   },
   {
    "duration": 352,
    "start_time": "2022-12-19T17:21:33.933Z"
   },
   {
    "duration": 381,
    "start_time": "2022-12-19T17:21:34.287Z"
   },
   {
    "duration": 1670,
    "start_time": "2022-12-19T17:21:34.672Z"
   },
   {
    "duration": 265,
    "start_time": "2022-12-19T17:21:52.315Z"
   },
   {
    "duration": 3,
    "start_time": "2022-12-19T17:31:53.902Z"
   },
   {
    "duration": 98,
    "start_time": "2022-12-19T17:31:54.731Z"
   },
   {
    "duration": 1380,
    "start_time": "2022-12-19T17:32:35.731Z"
   },
   {
    "duration": 33,
    "start_time": "2022-12-19T17:32:37.113Z"
   },
   {
    "duration": 28,
    "start_time": "2022-12-19T17:32:37.148Z"
   },
   {
    "duration": 20,
    "start_time": "2022-12-19T17:32:37.178Z"
   },
   {
    "duration": 43,
    "start_time": "2022-12-19T17:32:37.199Z"
   },
   {
    "duration": 31,
    "start_time": "2022-12-19T17:32:37.243Z"
   },
   {
    "duration": 12,
    "start_time": "2022-12-19T17:32:37.276Z"
   },
   {
    "duration": 35,
    "start_time": "2022-12-19T17:32:37.290Z"
   },
   {
    "duration": 68,
    "start_time": "2022-12-19T17:32:37.327Z"
   },
   {
    "duration": 245,
    "start_time": "2022-12-19T17:32:37.397Z"
   },
   {
    "duration": 227,
    "start_time": "2022-12-19T17:32:37.644Z"
   },
   {
    "duration": 241,
    "start_time": "2022-12-19T17:32:37.872Z"
   },
   {
    "duration": 244,
    "start_time": "2022-12-19T17:32:38.115Z"
   },
   {
    "duration": 226,
    "start_time": "2022-12-19T17:32:38.361Z"
   },
   {
    "duration": 239,
    "start_time": "2022-12-19T17:32:38.588Z"
   },
   {
    "duration": 312,
    "start_time": "2022-12-19T17:32:38.828Z"
   },
   {
    "duration": 328,
    "start_time": "2022-12-19T17:32:39.142Z"
   },
   {
    "duration": 302,
    "start_time": "2022-12-19T17:32:39.472Z"
   },
   {
    "duration": 240,
    "start_time": "2022-12-19T17:32:39.776Z"
   },
   {
    "duration": 367,
    "start_time": "2022-12-19T17:32:40.017Z"
   },
   {
    "duration": 311,
    "start_time": "2022-12-19T17:32:40.385Z"
   },
   {
    "duration": 378,
    "start_time": "2022-12-19T17:32:40.697Z"
   },
   {
    "duration": 1414,
    "start_time": "2022-12-19T17:32:41.076Z"
   },
   {
    "duration": 4,
    "start_time": "2022-12-19T17:32:42.492Z"
   },
   {
    "duration": 33,
    "start_time": "2022-12-19T17:32:42.497Z"
   },
   {
    "duration": 1392,
    "start_time": "2022-12-19T17:38:01.163Z"
   },
   {
    "duration": 34,
    "start_time": "2022-12-19T17:38:02.557Z"
   },
   {
    "duration": 15,
    "start_time": "2022-12-19T17:38:02.592Z"
   },
   {
    "duration": 11,
    "start_time": "2022-12-19T17:38:02.609Z"
   },
   {
    "duration": 9,
    "start_time": "2022-12-19T17:38:02.622Z"
   },
   {
    "duration": 13,
    "start_time": "2022-12-19T17:38:02.632Z"
   },
   {
    "duration": 22,
    "start_time": "2022-12-19T17:38:02.646Z"
   },
   {
    "duration": 7,
    "start_time": "2022-12-19T17:38:02.670Z"
   },
   {
    "duration": 43,
    "start_time": "2022-12-19T17:38:02.679Z"
   },
   {
    "duration": 260,
    "start_time": "2022-12-19T17:38:02.724Z"
   },
   {
    "duration": 227,
    "start_time": "2022-12-19T17:38:02.986Z"
   },
   {
    "duration": 228,
    "start_time": "2022-12-19T17:38:03.215Z"
   },
   {
    "duration": 233,
    "start_time": "2022-12-19T17:38:03.445Z"
   },
   {
    "duration": 233,
    "start_time": "2022-12-19T17:38:03.680Z"
   },
   {
    "duration": 321,
    "start_time": "2022-12-19T17:38:03.915Z"
   },
   {
    "duration": 219,
    "start_time": "2022-12-19T17:38:04.238Z"
   },
   {
    "duration": 386,
    "start_time": "2022-12-19T17:38:04.458Z"
   },
   {
    "duration": 309,
    "start_time": "2022-12-19T17:38:04.847Z"
   },
   {
    "duration": 252,
    "start_time": "2022-12-19T17:38:05.158Z"
   },
   {
    "duration": 378,
    "start_time": "2022-12-19T17:38:05.411Z"
   },
   {
    "duration": 335,
    "start_time": "2022-12-19T17:38:05.791Z"
   },
   {
    "duration": 395,
    "start_time": "2022-12-19T17:38:06.127Z"
   },
   {
    "duration": 1455,
    "start_time": "2022-12-19T17:38:06.523Z"
   },
   {
    "duration": 5,
    "start_time": "2022-12-19T17:38:07.980Z"
   },
   {
    "duration": 7,
    "start_time": "2022-12-19T17:38:07.986Z"
   },
   {
    "duration": 4,
    "start_time": "2022-12-19T17:38:07.994Z"
   },
   {
    "duration": 107,
    "start_time": "2022-12-19T17:38:08.000Z"
   },
   {
    "duration": 0,
    "start_time": "2022-12-19T17:38:08.109Z"
   },
   {
    "duration": 0,
    "start_time": "2022-12-19T17:38:08.110Z"
   },
   {
    "duration": 0,
    "start_time": "2022-12-19T17:38:08.111Z"
   },
   {
    "duration": 31,
    "start_time": "2022-12-19T17:38:22.508Z"
   },
   {
    "duration": 15,
    "start_time": "2022-12-19T17:38:23.312Z"
   },
   {
    "duration": 5,
    "start_time": "2022-12-19T17:38:25.210Z"
   },
   {
    "duration": 12,
    "start_time": "2022-12-19T17:38:26.372Z"
   },
   {
    "duration": 11,
    "start_time": "2022-12-19T17:40:50.717Z"
   },
   {
    "duration": 1342,
    "start_time": "2022-12-19T17:41:35.083Z"
   },
   {
    "duration": 35,
    "start_time": "2022-12-19T17:41:36.427Z"
   },
   {
    "duration": 16,
    "start_time": "2022-12-19T17:41:36.463Z"
   },
   {
    "duration": 12,
    "start_time": "2022-12-19T17:41:36.481Z"
   },
   {
    "duration": 6,
    "start_time": "2022-12-19T17:41:36.494Z"
   },
   {
    "duration": 18,
    "start_time": "2022-12-19T17:41:36.501Z"
   },
   {
    "duration": 13,
    "start_time": "2022-12-19T17:41:36.520Z"
   },
   {
    "duration": 26,
    "start_time": "2022-12-19T17:41:36.535Z"
   },
   {
    "duration": 45,
    "start_time": "2022-12-19T17:41:36.562Z"
   },
   {
    "duration": 257,
    "start_time": "2022-12-19T17:41:36.609Z"
   },
   {
    "duration": 223,
    "start_time": "2022-12-19T17:41:36.867Z"
   },
   {
    "duration": 235,
    "start_time": "2022-12-19T17:41:37.092Z"
   },
   {
    "duration": 232,
    "start_time": "2022-12-19T17:41:37.329Z"
   },
   {
    "duration": 218,
    "start_time": "2022-12-19T17:41:37.564Z"
   },
   {
    "duration": 340,
    "start_time": "2022-12-19T17:41:37.784Z"
   },
   {
    "duration": 229,
    "start_time": "2022-12-19T17:41:38.125Z"
   },
   {
    "duration": 331,
    "start_time": "2022-12-19T17:41:38.356Z"
   },
   {
    "duration": 310,
    "start_time": "2022-12-19T17:41:38.688Z"
   },
   {
    "duration": 264,
    "start_time": "2022-12-19T17:41:39.000Z"
   },
   {
    "duration": 401,
    "start_time": "2022-12-19T17:41:39.265Z"
   },
   {
    "duration": 327,
    "start_time": "2022-12-19T17:41:39.668Z"
   },
   {
    "duration": 394,
    "start_time": "2022-12-19T17:41:39.997Z"
   },
   {
    "duration": 1414,
    "start_time": "2022-12-19T17:41:40.392Z"
   },
   {
    "duration": 4,
    "start_time": "2022-12-19T17:41:41.807Z"
   },
   {
    "duration": 12,
    "start_time": "2022-12-19T17:41:41.813Z"
   },
   {
    "duration": 5,
    "start_time": "2022-12-19T17:41:41.826Z"
   },
   {
    "duration": 29,
    "start_time": "2022-12-19T17:41:41.833Z"
   },
   {
    "duration": 9,
    "start_time": "2022-12-19T17:41:41.863Z"
   },
   {
    "duration": 184,
    "start_time": "2022-12-19T17:41:41.874Z"
   },
   {
    "duration": 1465,
    "start_time": "2022-12-19T17:48:22.348Z"
   },
   {
    "duration": 33,
    "start_time": "2022-12-19T17:48:23.815Z"
   },
   {
    "duration": 22,
    "start_time": "2022-12-19T17:48:23.849Z"
   },
   {
    "duration": 26,
    "start_time": "2022-12-19T17:48:23.872Z"
   },
   {
    "duration": 9,
    "start_time": "2022-12-19T17:48:23.901Z"
   },
   {
    "duration": 24,
    "start_time": "2022-12-19T17:48:23.911Z"
   },
   {
    "duration": 23,
    "start_time": "2022-12-19T17:48:23.937Z"
   },
   {
    "duration": 21,
    "start_time": "2022-12-19T17:48:23.961Z"
   },
   {
    "duration": 57,
    "start_time": "2022-12-19T17:48:23.984Z"
   },
   {
    "duration": 236,
    "start_time": "2022-12-19T17:48:24.042Z"
   },
   {
    "duration": 235,
    "start_time": "2022-12-19T17:48:24.280Z"
   },
   {
    "duration": 295,
    "start_time": "2022-12-19T17:48:24.519Z"
   },
   {
    "duration": 227,
    "start_time": "2022-12-19T17:48:24.816Z"
   },
   {
    "duration": 288,
    "start_time": "2022-12-19T17:48:25.046Z"
   },
   {
    "duration": 240,
    "start_time": "2022-12-19T17:48:25.336Z"
   },
   {
    "duration": 221,
    "start_time": "2022-12-19T17:48:25.578Z"
   },
   {
    "duration": 317,
    "start_time": "2022-12-19T17:48:25.801Z"
   },
   {
    "duration": 302,
    "start_time": "2022-12-19T17:48:26.120Z"
   },
   {
    "duration": 261,
    "start_time": "2022-12-19T17:48:26.424Z"
   },
   {
    "duration": 389,
    "start_time": "2022-12-19T17:48:26.686Z"
   },
   {
    "duration": 480,
    "start_time": "2022-12-19T17:48:27.076Z"
   },
   {
    "duration": 350,
    "start_time": "2022-12-19T17:48:27.558Z"
   },
   {
    "duration": 1528,
    "start_time": "2022-12-19T17:48:27.910Z"
   },
   {
    "duration": 5,
    "start_time": "2022-12-19T17:48:29.440Z"
   },
   {
    "duration": 10,
    "start_time": "2022-12-19T17:48:29.446Z"
   },
   {
    "duration": 5,
    "start_time": "2022-12-19T17:48:29.458Z"
   },
   {
    "duration": 27,
    "start_time": "2022-12-19T17:48:29.464Z"
   },
   {
    "duration": 64,
    "start_time": "2022-12-19T17:48:29.492Z"
   },
   {
    "duration": 101,
    "start_time": "2022-12-19T17:48:29.559Z"
   },
   {
    "duration": 185,
    "start_time": "2022-12-19T17:48:29.663Z"
   },
   {
    "duration": 0,
    "start_time": "2022-12-19T17:48:29.850Z"
   },
   {
    "duration": 0,
    "start_time": "2022-12-19T17:48:29.851Z"
   },
   {
    "duration": 0,
    "start_time": "2022-12-19T17:48:29.852Z"
   },
   {
    "duration": 0,
    "start_time": "2022-12-19T17:48:29.855Z"
   },
   {
    "duration": 3,
    "start_time": "2022-12-19T17:49:09.617Z"
   },
   {
    "duration": 10,
    "start_time": "2022-12-19T17:49:10.348Z"
   },
   {
    "duration": 303,
    "start_time": "2022-12-19T17:49:16.647Z"
   },
   {
    "duration": 52,
    "start_time": "2022-12-19T17:49:17.885Z"
   },
   {
    "duration": 13,
    "start_time": "2022-12-19T17:49:19.169Z"
   },
   {
    "duration": 10,
    "start_time": "2022-12-19T17:52:31.699Z"
   },
   {
    "duration": 1656,
    "start_time": "2022-12-19T17:57:13.485Z"
   },
   {
    "duration": 71,
    "start_time": "2022-12-19T17:57:15.143Z"
   },
   {
    "duration": 18,
    "start_time": "2022-12-19T17:57:15.216Z"
   },
   {
    "duration": 18,
    "start_time": "2022-12-19T17:57:15.236Z"
   },
   {
    "duration": 6,
    "start_time": "2022-12-19T17:57:15.256Z"
   },
   {
    "duration": 13,
    "start_time": "2022-12-19T17:57:15.263Z"
   },
   {
    "duration": 34,
    "start_time": "2022-12-19T17:57:15.278Z"
   },
   {
    "duration": 8,
    "start_time": "2022-12-19T17:57:15.314Z"
   },
   {
    "duration": 49,
    "start_time": "2022-12-19T17:57:15.324Z"
   },
   {
    "duration": 294,
    "start_time": "2022-12-19T17:57:15.375Z"
   },
   {
    "duration": 248,
    "start_time": "2022-12-19T17:57:15.671Z"
   },
   {
    "duration": 250,
    "start_time": "2022-12-19T17:57:15.921Z"
   },
   {
    "duration": 260,
    "start_time": "2022-12-19T17:57:16.173Z"
   },
   {
    "duration": 401,
    "start_time": "2022-12-19T17:57:16.436Z"
   },
   {
    "duration": 270,
    "start_time": "2022-12-19T17:57:16.839Z"
   },
   {
    "duration": 255,
    "start_time": "2022-12-19T17:57:17.112Z"
   },
   {
    "duration": 411,
    "start_time": "2022-12-19T17:57:17.369Z"
   },
   {
    "duration": 341,
    "start_time": "2022-12-19T17:57:17.783Z"
   },
   {
    "duration": 292,
    "start_time": "2022-12-19T17:57:18.126Z"
   },
   {
    "duration": 420,
    "start_time": "2022-12-19T17:57:18.420Z"
   },
   {
    "duration": 488,
    "start_time": "2022-12-19T17:57:18.842Z"
   },
   {
    "duration": 326,
    "start_time": "2022-12-19T17:57:19.332Z"
   },
   {
    "duration": 1644,
    "start_time": "2022-12-19T17:57:19.660Z"
   },
   {
    "duration": 4,
    "start_time": "2022-12-19T17:57:21.306Z"
   },
   {
    "duration": 28,
    "start_time": "2022-12-19T17:57:21.312Z"
   },
   {
    "duration": 17,
    "start_time": "2022-12-19T17:57:21.343Z"
   },
   {
    "duration": 9,
    "start_time": "2022-12-19T17:57:21.361Z"
   },
   {
    "duration": 28,
    "start_time": "2022-12-19T17:57:21.374Z"
   },
   {
    "duration": 18,
    "start_time": "2022-12-19T17:57:21.404Z"
   },
   {
    "duration": 105,
    "start_time": "2022-12-19T17:57:21.512Z"
   },
   {
    "duration": 3,
    "start_time": "2022-12-19T17:57:21.619Z"
   },
   {
    "duration": 353,
    "start_time": "2022-12-19T17:57:21.623Z"
   },
   {
    "duration": 61,
    "start_time": "2022-12-19T17:57:21.978Z"
   },
   {
    "duration": 10,
    "start_time": "2022-12-19T17:57:22.041Z"
   },
   {
    "duration": 149,
    "start_time": "2022-12-19T17:57:22.053Z"
   },
   {
    "duration": 1417,
    "start_time": "2022-12-19T17:58:12.602Z"
   },
   {
    "duration": 33,
    "start_time": "2022-12-19T17:58:14.021Z"
   },
   {
    "duration": 15,
    "start_time": "2022-12-19T17:58:14.056Z"
   },
   {
    "duration": 15,
    "start_time": "2022-12-19T17:58:14.072Z"
   },
   {
    "duration": 5,
    "start_time": "2022-12-19T17:58:14.090Z"
   },
   {
    "duration": 38,
    "start_time": "2022-12-19T17:58:14.097Z"
   },
   {
    "duration": 13,
    "start_time": "2022-12-19T17:58:14.137Z"
   },
   {
    "duration": 12,
    "start_time": "2022-12-19T17:58:14.152Z"
   },
   {
    "duration": 54,
    "start_time": "2022-12-19T17:58:14.165Z"
   },
   {
    "duration": 279,
    "start_time": "2022-12-19T17:58:14.221Z"
   },
   {
    "duration": 232,
    "start_time": "2022-12-19T17:58:14.501Z"
   },
   {
    "duration": 268,
    "start_time": "2022-12-19T17:58:14.735Z"
   },
   {
    "duration": 249,
    "start_time": "2022-12-19T17:58:15.005Z"
   },
   {
    "duration": 309,
    "start_time": "2022-12-19T17:58:15.257Z"
   },
   {
    "duration": 264,
    "start_time": "2022-12-19T17:58:15.568Z"
   },
   {
    "duration": 241,
    "start_time": "2022-12-19T17:58:15.833Z"
   },
   {
    "duration": 374,
    "start_time": "2022-12-19T17:58:16.076Z"
   },
   {
    "duration": 420,
    "start_time": "2022-12-19T17:58:16.452Z"
   },
   {
    "duration": 275,
    "start_time": "2022-12-19T17:58:16.874Z"
   },
   {
    "duration": 391,
    "start_time": "2022-12-19T17:58:17.152Z"
   },
   {
    "duration": 440,
    "start_time": "2022-12-19T17:58:17.545Z"
   },
   {
    "duration": 327,
    "start_time": "2022-12-19T17:58:17.986Z"
   },
   {
    "duration": 1573,
    "start_time": "2022-12-19T17:58:18.315Z"
   },
   {
    "duration": 5,
    "start_time": "2022-12-19T17:58:19.890Z"
   },
   {
    "duration": 22,
    "start_time": "2022-12-19T17:58:19.897Z"
   },
   {
    "duration": 28,
    "start_time": "2022-12-19T17:58:19.921Z"
   },
   {
    "duration": 25,
    "start_time": "2022-12-19T17:58:19.951Z"
   },
   {
    "duration": 58,
    "start_time": "2022-12-19T17:58:19.977Z"
   },
   {
    "duration": 77,
    "start_time": "2022-12-19T17:58:20.037Z"
   },
   {
    "duration": 96,
    "start_time": "2022-12-19T17:58:20.117Z"
   },
   {
    "duration": 26,
    "start_time": "2022-12-19T17:58:20.215Z"
   },
   {
    "duration": 342,
    "start_time": "2022-12-19T17:58:20.243Z"
   },
   {
    "duration": 61,
    "start_time": "2022-12-19T17:58:20.587Z"
   },
   {
    "duration": 10,
    "start_time": "2022-12-19T17:58:20.650Z"
   },
   {
    "duration": 18,
    "start_time": "2022-12-19T17:58:20.662Z"
   },
   {
    "duration": 1652,
    "start_time": "2022-12-19T17:58:35.909Z"
   },
   {
    "duration": 34,
    "start_time": "2022-12-19T17:58:37.563Z"
   },
   {
    "duration": 18,
    "start_time": "2022-12-19T17:58:37.599Z"
   },
   {
    "duration": 14,
    "start_time": "2022-12-19T17:58:37.620Z"
   },
   {
    "duration": 8,
    "start_time": "2022-12-19T17:58:37.636Z"
   },
   {
    "duration": 19,
    "start_time": "2022-12-19T17:58:37.646Z"
   },
   {
    "duration": 19,
    "start_time": "2022-12-19T17:58:37.667Z"
   },
   {
    "duration": 25,
    "start_time": "2022-12-19T17:58:37.688Z"
   },
   {
    "duration": 49,
    "start_time": "2022-12-19T17:58:37.715Z"
   },
   {
    "duration": 271,
    "start_time": "2022-12-19T17:58:37.766Z"
   },
   {
    "duration": 261,
    "start_time": "2022-12-19T17:58:38.039Z"
   },
   {
    "duration": 242,
    "start_time": "2022-12-19T17:58:38.303Z"
   },
   {
    "duration": 245,
    "start_time": "2022-12-19T17:58:38.547Z"
   },
   {
    "duration": 314,
    "start_time": "2022-12-19T17:58:38.793Z"
   },
   {
    "duration": 279,
    "start_time": "2022-12-19T17:58:39.112Z"
   },
   {
    "duration": 258,
    "start_time": "2022-12-19T17:58:39.392Z"
   },
   {
    "duration": 357,
    "start_time": "2022-12-19T17:58:39.652Z"
   },
   {
    "duration": 343,
    "start_time": "2022-12-19T17:58:40.011Z"
   },
   {
    "duration": 303,
    "start_time": "2022-12-19T17:58:40.356Z"
   },
   {
    "duration": 412,
    "start_time": "2022-12-19T17:58:40.661Z"
   },
   {
    "duration": 462,
    "start_time": "2022-12-19T17:58:41.075Z"
   },
   {
    "duration": 324,
    "start_time": "2022-12-19T17:58:41.539Z"
   },
   {
    "duration": 1603,
    "start_time": "2022-12-19T17:58:41.865Z"
   },
   {
    "duration": 5,
    "start_time": "2022-12-19T17:58:43.471Z"
   },
   {
    "duration": 11,
    "start_time": "2022-12-19T17:58:43.478Z"
   },
   {
    "duration": 11,
    "start_time": "2022-12-19T17:58:43.491Z"
   },
   {
    "duration": 3,
    "start_time": "2022-12-19T17:58:43.504Z"
   },
   {
    "duration": 35,
    "start_time": "2022-12-19T17:58:43.511Z"
   },
   {
    "duration": 64,
    "start_time": "2022-12-19T17:58:43.548Z"
   },
   {
    "duration": 109,
    "start_time": "2022-12-19T17:58:43.614Z"
   },
   {
    "duration": 3,
    "start_time": "2022-12-19T17:58:43.725Z"
   },
   {
    "duration": 353,
    "start_time": "2022-12-19T17:58:43.730Z"
   },
   {
    "duration": 70,
    "start_time": "2022-12-19T17:58:44.085Z"
   },
   {
    "duration": 12,
    "start_time": "2022-12-19T17:58:44.157Z"
   },
   {
    "duration": 16,
    "start_time": "2022-12-19T17:58:44.171Z"
   },
   {
    "duration": 1805,
    "start_time": "2022-12-19T18:02:18.865Z"
   },
   {
    "duration": 35,
    "start_time": "2022-12-19T18:02:20.672Z"
   },
   {
    "duration": 18,
    "start_time": "2022-12-19T18:02:20.708Z"
   },
   {
    "duration": 18,
    "start_time": "2022-12-19T18:02:20.727Z"
   },
   {
    "duration": 6,
    "start_time": "2022-12-19T18:02:20.748Z"
   },
   {
    "duration": 29,
    "start_time": "2022-12-19T18:02:20.755Z"
   },
   {
    "duration": 22,
    "start_time": "2022-12-19T18:02:20.786Z"
   },
   {
    "duration": 30,
    "start_time": "2022-12-19T18:02:20.810Z"
   },
   {
    "duration": 51,
    "start_time": "2022-12-19T18:02:20.842Z"
   },
   {
    "duration": 260,
    "start_time": "2022-12-19T18:02:20.895Z"
   },
   {
    "duration": 255,
    "start_time": "2022-12-19T18:02:21.158Z"
   },
   {
    "duration": 245,
    "start_time": "2022-12-19T18:02:21.415Z"
   },
   {
    "duration": 247,
    "start_time": "2022-12-19T18:02:21.662Z"
   },
   {
    "duration": 331,
    "start_time": "2022-12-19T18:02:21.913Z"
   },
   {
    "duration": 273,
    "start_time": "2022-12-19T18:02:22.246Z"
   },
   {
    "duration": 254,
    "start_time": "2022-12-19T18:02:22.520Z"
   },
   {
    "duration": 362,
    "start_time": "2022-12-19T18:02:22.776Z"
   },
   {
    "duration": 333,
    "start_time": "2022-12-19T18:02:23.140Z"
   },
   {
    "duration": 274,
    "start_time": "2022-12-19T18:02:23.475Z"
   },
   {
    "duration": 415,
    "start_time": "2022-12-19T18:02:23.751Z"
   },
   {
    "duration": 473,
    "start_time": "2022-12-19T18:02:24.168Z"
   },
   {
    "duration": 322,
    "start_time": "2022-12-19T18:02:24.643Z"
   },
   {
    "duration": 1613,
    "start_time": "2022-12-19T18:02:24.967Z"
   },
   {
    "duration": 4,
    "start_time": "2022-12-19T18:02:26.582Z"
   },
   {
    "duration": 26,
    "start_time": "2022-12-19T18:02:26.588Z"
   },
   {
    "duration": 14,
    "start_time": "2022-12-19T18:02:26.616Z"
   },
   {
    "duration": 10,
    "start_time": "2022-12-19T18:02:26.632Z"
   },
   {
    "duration": 42,
    "start_time": "2022-12-19T18:02:26.644Z"
   },
   {
    "duration": 127,
    "start_time": "2022-12-19T18:02:26.688Z"
   },
   {
    "duration": 94,
    "start_time": "2022-12-19T18:02:26.817Z"
   },
   {
    "duration": 5,
    "start_time": "2022-12-19T18:02:26.913Z"
   },
   {
    "duration": 339,
    "start_time": "2022-12-19T18:02:26.920Z"
   },
   {
    "duration": 58,
    "start_time": "2022-12-19T18:02:27.261Z"
   },
   {
    "duration": 7,
    "start_time": "2022-12-19T18:02:27.320Z"
   },
   {
    "duration": 111,
    "start_time": "2022-12-19T18:06:37.865Z"
   },
   {
    "duration": 1377,
    "start_time": "2022-12-19T18:06:42.473Z"
   },
   {
    "duration": 34,
    "start_time": "2022-12-19T18:06:43.852Z"
   },
   {
    "duration": 16,
    "start_time": "2022-12-19T18:06:43.887Z"
   },
   {
    "duration": 12,
    "start_time": "2022-12-19T18:06:43.904Z"
   },
   {
    "duration": 6,
    "start_time": "2022-12-19T18:06:43.918Z"
   },
   {
    "duration": 16,
    "start_time": "2022-12-19T18:06:43.926Z"
   },
   {
    "duration": 16,
    "start_time": "2022-12-19T18:06:43.943Z"
   },
   {
    "duration": 9,
    "start_time": "2022-12-19T18:06:43.961Z"
   },
   {
    "duration": 65,
    "start_time": "2022-12-19T18:06:43.971Z"
   },
   {
    "duration": 278,
    "start_time": "2022-12-19T18:06:44.038Z"
   },
   {
    "duration": 250,
    "start_time": "2022-12-19T18:06:44.319Z"
   },
   {
    "duration": 256,
    "start_time": "2022-12-19T18:06:44.571Z"
   },
   {
    "duration": 283,
    "start_time": "2022-12-19T18:06:44.829Z"
   },
   {
    "duration": 335,
    "start_time": "2022-12-19T18:06:45.117Z"
   },
   {
    "duration": 285,
    "start_time": "2022-12-19T18:06:45.454Z"
   },
   {
    "duration": 250,
    "start_time": "2022-12-19T18:06:45.740Z"
   },
   {
    "duration": 369,
    "start_time": "2022-12-19T18:06:45.991Z"
   },
   {
    "duration": 340,
    "start_time": "2022-12-19T18:06:46.362Z"
   },
   {
    "duration": 321,
    "start_time": "2022-12-19T18:06:46.704Z"
   },
   {
    "duration": 473,
    "start_time": "2022-12-19T18:06:47.027Z"
   },
   {
    "duration": 446,
    "start_time": "2022-12-19T18:06:47.502Z"
   },
   {
    "duration": 312,
    "start_time": "2022-12-19T18:06:47.949Z"
   },
   {
    "duration": 1576,
    "start_time": "2022-12-19T18:06:48.263Z"
   },
   {
    "duration": 4,
    "start_time": "2022-12-19T18:06:49.842Z"
   },
   {
    "duration": 23,
    "start_time": "2022-12-19T18:06:49.849Z"
   },
   {
    "duration": 16,
    "start_time": "2022-12-19T18:06:49.874Z"
   },
   {
    "duration": 26,
    "start_time": "2022-12-19T18:06:49.891Z"
   },
   {
    "duration": 42,
    "start_time": "2022-12-19T18:06:49.919Z"
   },
   {
    "duration": 50,
    "start_time": "2022-12-19T18:06:49.963Z"
   },
   {
    "duration": 112,
    "start_time": "2022-12-19T18:06:50.016Z"
   },
   {
    "duration": 4,
    "start_time": "2022-12-19T18:06:50.130Z"
   },
   {
    "duration": 382,
    "start_time": "2022-12-19T18:06:50.136Z"
   },
   {
    "duration": 53,
    "start_time": "2022-12-19T18:06:50.520Z"
   },
   {
    "duration": 8,
    "start_time": "2022-12-19T18:06:50.575Z"
   },
   {
    "duration": 6,
    "start_time": "2022-12-19T18:06:50.585Z"
   },
   {
    "duration": 8,
    "start_time": "2022-12-19T18:06:50.613Z"
   },
   {
    "duration": 117,
    "start_time": "2022-12-19T18:11:34.604Z"
   },
   {
    "duration": 1453,
    "start_time": "2022-12-19T18:11:38.966Z"
   },
   {
    "duration": 33,
    "start_time": "2022-12-19T18:11:40.421Z"
   },
   {
    "duration": 16,
    "start_time": "2022-12-19T18:11:40.456Z"
   },
   {
    "duration": 19,
    "start_time": "2022-12-19T18:11:40.473Z"
   },
   {
    "duration": 7,
    "start_time": "2022-12-19T18:11:40.494Z"
   },
   {
    "duration": 20,
    "start_time": "2022-12-19T18:11:40.502Z"
   },
   {
    "duration": 26,
    "start_time": "2022-12-19T18:11:40.523Z"
   },
   {
    "duration": 6,
    "start_time": "2022-12-19T18:11:40.551Z"
   },
   {
    "duration": 56,
    "start_time": "2022-12-19T18:11:40.559Z"
   },
   {
    "duration": 252,
    "start_time": "2022-12-19T18:11:40.616Z"
   },
   {
    "duration": 234,
    "start_time": "2022-12-19T18:11:40.870Z"
   },
   {
    "duration": 244,
    "start_time": "2022-12-19T18:11:41.105Z"
   },
   {
    "duration": 235,
    "start_time": "2022-12-19T18:11:41.351Z"
   },
   {
    "duration": 323,
    "start_time": "2022-12-19T18:11:41.589Z"
   },
   {
    "duration": 270,
    "start_time": "2022-12-19T18:11:41.913Z"
   },
   {
    "duration": 244,
    "start_time": "2022-12-19T18:11:42.184Z"
   },
   {
    "duration": 376,
    "start_time": "2022-12-19T18:11:42.430Z"
   },
   {
    "duration": 325,
    "start_time": "2022-12-19T18:11:42.808Z"
   },
   {
    "duration": 284,
    "start_time": "2022-12-19T18:11:43.135Z"
   },
   {
    "duration": 397,
    "start_time": "2022-12-19T18:11:43.421Z"
   },
   {
    "duration": 433,
    "start_time": "2022-12-19T18:11:43.821Z"
   },
   {
    "duration": 301,
    "start_time": "2022-12-19T18:11:44.256Z"
   },
   {
    "duration": 1483,
    "start_time": "2022-12-19T18:11:44.560Z"
   },
   {
    "duration": 4,
    "start_time": "2022-12-19T18:11:46.046Z"
   },
   {
    "duration": 8,
    "start_time": "2022-12-19T18:11:46.052Z"
   },
   {
    "duration": 10,
    "start_time": "2022-12-19T18:11:46.062Z"
   },
   {
    "duration": 12,
    "start_time": "2022-12-19T18:11:46.073Z"
   },
   {
    "duration": 35,
    "start_time": "2022-12-19T18:11:46.087Z"
   },
   {
    "duration": 11,
    "start_time": "2022-12-19T18:11:46.123Z"
   },
   {
    "duration": 186,
    "start_time": "2022-12-19T18:11:46.135Z"
   },
   {
    "duration": 4,
    "start_time": "2022-12-19T18:11:46.323Z"
   },
   {
    "duration": 383,
    "start_time": "2022-12-19T18:11:46.328Z"
   },
   {
    "duration": 51,
    "start_time": "2022-12-19T18:11:46.713Z"
   },
   {
    "duration": 7,
    "start_time": "2022-12-19T18:11:46.766Z"
   },
   {
    "duration": 4,
    "start_time": "2022-12-19T18:11:46.775Z"
   },
   {
    "duration": 11,
    "start_time": "2022-12-19T18:11:46.781Z"
   },
   {
    "duration": 119,
    "start_time": "2022-12-19T18:11:46.812Z"
   },
   {
    "duration": 0,
    "start_time": "2022-12-19T18:11:46.932Z"
   },
   {
    "duration": 1362,
    "start_time": "2022-12-19T18:13:07.669Z"
   },
   {
    "duration": 34,
    "start_time": "2022-12-19T18:13:09.034Z"
   },
   {
    "duration": 21,
    "start_time": "2022-12-19T18:13:09.070Z"
   },
   {
    "duration": 13,
    "start_time": "2022-12-19T18:13:09.092Z"
   },
   {
    "duration": 7,
    "start_time": "2022-12-19T18:13:09.107Z"
   },
   {
    "duration": 15,
    "start_time": "2022-12-19T18:13:09.115Z"
   },
   {
    "duration": 12,
    "start_time": "2022-12-19T18:13:09.132Z"
   },
   {
    "duration": 8,
    "start_time": "2022-12-19T18:13:09.146Z"
   },
   {
    "duration": 71,
    "start_time": "2022-12-19T18:13:09.155Z"
   },
   {
    "duration": 284,
    "start_time": "2022-12-19T18:13:09.228Z"
   },
   {
    "duration": 240,
    "start_time": "2022-12-19T18:13:09.514Z"
   },
   {
    "duration": 242,
    "start_time": "2022-12-19T18:13:09.756Z"
   },
   {
    "duration": 236,
    "start_time": "2022-12-19T18:13:10.000Z"
   },
   {
    "duration": 335,
    "start_time": "2022-12-19T18:13:10.239Z"
   },
   {
    "duration": 257,
    "start_time": "2022-12-19T18:13:10.576Z"
   },
   {
    "duration": 245,
    "start_time": "2022-12-19T18:13:10.835Z"
   },
   {
    "duration": 361,
    "start_time": "2022-12-19T18:13:11.083Z"
   },
   {
    "duration": 319,
    "start_time": "2022-12-19T18:13:11.446Z"
   },
   {
    "duration": 260,
    "start_time": "2022-12-19T18:13:11.767Z"
   },
   {
    "duration": 397,
    "start_time": "2022-12-19T18:13:12.029Z"
   },
   {
    "duration": 420,
    "start_time": "2022-12-19T18:13:12.428Z"
   },
   {
    "duration": 314,
    "start_time": "2022-12-19T18:13:12.850Z"
   },
   {
    "duration": 1517,
    "start_time": "2022-12-19T18:13:13.166Z"
   },
   {
    "duration": 4,
    "start_time": "2022-12-19T18:13:14.686Z"
   },
   {
    "duration": 6,
    "start_time": "2022-12-19T18:13:14.692Z"
   },
   {
    "duration": 16,
    "start_time": "2022-12-19T18:13:14.699Z"
   },
   {
    "duration": 10,
    "start_time": "2022-12-19T18:13:14.716Z"
   },
   {
    "duration": 38,
    "start_time": "2022-12-19T18:13:14.728Z"
   },
   {
    "duration": 44,
    "start_time": "2022-12-19T18:13:14.768Z"
   },
   {
    "duration": 109,
    "start_time": "2022-12-19T18:13:14.815Z"
   },
   {
    "duration": 5,
    "start_time": "2022-12-19T18:13:14.926Z"
   },
   {
    "duration": 315,
    "start_time": "2022-12-19T18:13:14.933Z"
   },
   {
    "duration": 52,
    "start_time": "2022-12-19T18:13:15.250Z"
   },
   {
    "duration": 7,
    "start_time": "2022-12-19T18:13:15.311Z"
   },
   {
    "duration": 6,
    "start_time": "2022-12-19T18:13:15.320Z"
   },
   {
    "duration": 128,
    "start_time": "2022-12-19T18:13:15.327Z"
   },
   {
    "duration": 0,
    "start_time": "2022-12-19T18:13:15.457Z"
   },
   {
    "duration": 0,
    "start_time": "2022-12-19T18:13:15.458Z"
   },
   {
    "duration": 6,
    "start_time": "2022-12-19T18:13:21.664Z"
   },
   {
    "duration": 17,
    "start_time": "2022-12-19T18:13:23.843Z"
   },
   {
    "duration": 12,
    "start_time": "2022-12-19T18:13:27.351Z"
   },
   {
    "duration": 1460,
    "start_time": "2022-12-19T18:14:00.808Z"
   },
   {
    "duration": 34,
    "start_time": "2022-12-19T18:14:02.270Z"
   },
   {
    "duration": 16,
    "start_time": "2022-12-19T18:14:02.306Z"
   },
   {
    "duration": 12,
    "start_time": "2022-12-19T18:14:02.324Z"
   },
   {
    "duration": 5,
    "start_time": "2022-12-19T18:14:02.339Z"
   },
   {
    "duration": 14,
    "start_time": "2022-12-19T18:14:02.345Z"
   },
   {
    "duration": 15,
    "start_time": "2022-12-19T18:14:02.360Z"
   },
   {
    "duration": 7,
    "start_time": "2022-12-19T18:14:02.377Z"
   },
   {
    "duration": 50,
    "start_time": "2022-12-19T18:14:02.412Z"
   },
   {
    "duration": 266,
    "start_time": "2022-12-19T18:14:02.464Z"
   },
   {
    "duration": 227,
    "start_time": "2022-12-19T18:14:02.731Z"
   },
   {
    "duration": 241,
    "start_time": "2022-12-19T18:14:02.960Z"
   },
   {
    "duration": 231,
    "start_time": "2022-12-19T18:14:03.203Z"
   },
   {
    "duration": 301,
    "start_time": "2022-12-19T18:14:03.437Z"
   },
   {
    "duration": 250,
    "start_time": "2022-12-19T18:14:03.740Z"
   },
   {
    "duration": 239,
    "start_time": "2022-12-19T18:14:03.992Z"
   },
   {
    "duration": 358,
    "start_time": "2022-12-19T18:14:04.233Z"
   },
   {
    "duration": 330,
    "start_time": "2022-12-19T18:14:04.593Z"
   },
   {
    "duration": 258,
    "start_time": "2022-12-19T18:14:04.925Z"
   },
   {
    "duration": 383,
    "start_time": "2022-12-19T18:14:05.185Z"
   },
   {
    "duration": 432,
    "start_time": "2022-12-19T18:14:05.569Z"
   },
   {
    "duration": 311,
    "start_time": "2022-12-19T18:14:06.003Z"
   },
   {
    "duration": 1560,
    "start_time": "2022-12-19T18:14:06.315Z"
   },
   {
    "duration": 4,
    "start_time": "2022-12-19T18:14:07.877Z"
   },
   {
    "duration": 22,
    "start_time": "2022-12-19T18:14:07.883Z"
   },
   {
    "duration": 16,
    "start_time": "2022-12-19T18:14:07.906Z"
   },
   {
    "duration": 19,
    "start_time": "2022-12-19T18:14:07.924Z"
   },
   {
    "duration": 39,
    "start_time": "2022-12-19T18:14:07.944Z"
   },
   {
    "duration": 32,
    "start_time": "2022-12-19T18:14:07.985Z"
   },
   {
    "duration": 202,
    "start_time": "2022-12-19T18:14:08.019Z"
   },
   {
    "duration": 5,
    "start_time": "2022-12-19T18:14:08.223Z"
   },
   {
    "duration": 309,
    "start_time": "2022-12-19T18:14:08.230Z"
   },
   {
    "duration": 52,
    "start_time": "2022-12-19T18:14:08.541Z"
   },
   {
    "duration": 19,
    "start_time": "2022-12-19T18:14:08.595Z"
   },
   {
    "duration": 3,
    "start_time": "2022-12-19T18:14:08.616Z"
   },
   {
    "duration": 10,
    "start_time": "2022-12-19T18:14:08.621Z"
   },
   {
    "duration": 118,
    "start_time": "2022-12-19T18:14:08.632Z"
   },
   {
    "duration": 0,
    "start_time": "2022-12-19T18:14:08.752Z"
   },
   {
    "duration": 1376,
    "start_time": "2022-12-19T18:14:45.453Z"
   },
   {
    "duration": 37,
    "start_time": "2022-12-19T18:14:46.833Z"
   },
   {
    "duration": 22,
    "start_time": "2022-12-19T18:14:46.875Z"
   },
   {
    "duration": 28,
    "start_time": "2022-12-19T18:14:46.900Z"
   },
   {
    "duration": 7,
    "start_time": "2022-12-19T18:14:46.931Z"
   },
   {
    "duration": 25,
    "start_time": "2022-12-19T18:14:46.940Z"
   },
   {
    "duration": 18,
    "start_time": "2022-12-19T18:14:46.968Z"
   },
   {
    "duration": 24,
    "start_time": "2022-12-19T18:14:46.989Z"
   },
   {
    "duration": 61,
    "start_time": "2022-12-19T18:14:47.015Z"
   },
   {
    "duration": 269,
    "start_time": "2022-12-19T18:14:47.079Z"
   },
   {
    "duration": 229,
    "start_time": "2022-12-19T18:14:47.349Z"
   },
   {
    "duration": 243,
    "start_time": "2022-12-19T18:14:47.580Z"
   },
   {
    "duration": 231,
    "start_time": "2022-12-19T18:14:47.826Z"
   },
   {
    "duration": 312,
    "start_time": "2022-12-19T18:14:48.058Z"
   },
   {
    "duration": 268,
    "start_time": "2022-12-19T18:14:48.372Z"
   },
   {
    "duration": 248,
    "start_time": "2022-12-19T18:14:48.641Z"
   },
   {
    "duration": 403,
    "start_time": "2022-12-19T18:14:48.891Z"
   },
   {
    "duration": 348,
    "start_time": "2022-12-19T18:14:49.297Z"
   },
   {
    "duration": 277,
    "start_time": "2022-12-19T18:14:49.646Z"
   },
   {
    "duration": 447,
    "start_time": "2022-12-19T18:14:49.925Z"
   },
   {
    "duration": 497,
    "start_time": "2022-12-19T18:14:50.374Z"
   },
   {
    "duration": 311,
    "start_time": "2022-12-19T18:14:50.872Z"
   },
   {
    "duration": 1535,
    "start_time": "2022-12-19T18:14:51.185Z"
   },
   {
    "duration": 4,
    "start_time": "2022-12-19T18:14:52.721Z"
   },
   {
    "duration": 10,
    "start_time": "2022-12-19T18:14:52.727Z"
   },
   {
    "duration": 9,
    "start_time": "2022-12-19T18:14:52.739Z"
   },
   {
    "duration": 6,
    "start_time": "2022-12-19T18:14:52.750Z"
   },
   {
    "duration": 30,
    "start_time": "2022-12-19T18:14:52.757Z"
   },
   {
    "duration": 26,
    "start_time": "2022-12-19T18:14:52.789Z"
   },
   {
    "duration": 9,
    "start_time": "2022-12-19T18:14:52.816Z"
   },
   {
    "duration": 88,
    "start_time": "2022-12-19T18:14:52.827Z"
   },
   {
    "duration": 406,
    "start_time": "2022-12-19T18:14:52.917Z"
   },
   {
    "duration": 56,
    "start_time": "2022-12-19T18:14:53.325Z"
   },
   {
    "duration": 8,
    "start_time": "2022-12-19T18:14:53.383Z"
   },
   {
    "duration": 4,
    "start_time": "2022-12-19T18:14:53.393Z"
   },
   {
    "duration": 7,
    "start_time": "2022-12-19T18:14:53.413Z"
   },
   {
    "duration": 590,
    "start_time": "2022-12-19T18:14:53.422Z"
   },
   {
    "duration": 1469,
    "start_time": "2022-12-19T18:16:17.296Z"
   },
   {
    "duration": 39,
    "start_time": "2022-12-19T18:16:18.767Z"
   },
   {
    "duration": 24,
    "start_time": "2022-12-19T18:16:18.808Z"
   },
   {
    "duration": 15,
    "start_time": "2022-12-19T18:16:18.834Z"
   },
   {
    "duration": 6,
    "start_time": "2022-12-19T18:16:18.851Z"
   },
   {
    "duration": 23,
    "start_time": "2022-12-19T18:16:18.859Z"
   },
   {
    "duration": 36,
    "start_time": "2022-12-19T18:16:18.884Z"
   },
   {
    "duration": 9,
    "start_time": "2022-12-19T18:16:18.923Z"
   },
   {
    "duration": 80,
    "start_time": "2022-12-19T18:16:18.933Z"
   },
   {
    "duration": 319,
    "start_time": "2022-12-19T18:16:19.018Z"
   },
   {
    "duration": 259,
    "start_time": "2022-12-19T18:16:19.339Z"
   },
   {
    "duration": 253,
    "start_time": "2022-12-19T18:16:19.600Z"
   },
   {
    "duration": 245,
    "start_time": "2022-12-19T18:16:19.854Z"
   },
   {
    "duration": 319,
    "start_time": "2022-12-19T18:16:20.100Z"
   },
   {
    "duration": 312,
    "start_time": "2022-12-19T18:16:20.421Z"
   },
   {
    "duration": 253,
    "start_time": "2022-12-19T18:16:20.736Z"
   },
   {
    "duration": 365,
    "start_time": "2022-12-19T18:16:20.991Z"
   },
   {
    "duration": 325,
    "start_time": "2022-12-19T18:16:21.358Z"
   },
   {
    "duration": 277,
    "start_time": "2022-12-19T18:16:21.684Z"
   },
   {
    "duration": 427,
    "start_time": "2022-12-19T18:16:21.963Z"
   },
   {
    "duration": 471,
    "start_time": "2022-12-19T18:16:22.392Z"
   },
   {
    "duration": 315,
    "start_time": "2022-12-19T18:16:22.865Z"
   },
   {
    "duration": 1522,
    "start_time": "2022-12-19T18:16:23.182Z"
   },
   {
    "duration": 5,
    "start_time": "2022-12-19T18:16:24.706Z"
   },
   {
    "duration": 8,
    "start_time": "2022-12-19T18:16:24.713Z"
   },
   {
    "duration": 8,
    "start_time": "2022-12-19T18:16:24.723Z"
   },
   {
    "duration": 4,
    "start_time": "2022-12-19T18:16:24.733Z"
   },
   {
    "duration": 35,
    "start_time": "2022-12-19T18:16:24.742Z"
   },
   {
    "duration": 42,
    "start_time": "2022-12-19T18:16:24.780Z"
   },
   {
    "duration": 8,
    "start_time": "2022-12-19T18:16:24.824Z"
   },
   {
    "duration": 13,
    "start_time": "2022-12-19T18:16:24.913Z"
   },
   {
    "duration": 421,
    "start_time": "2022-12-19T18:16:24.928Z"
   },
   {
    "duration": 69,
    "start_time": "2022-12-19T18:16:25.351Z"
   },
   {
    "duration": 9,
    "start_time": "2022-12-19T18:16:25.422Z"
   },
   {
    "duration": 7,
    "start_time": "2022-12-19T18:16:25.433Z"
   },
   {
    "duration": 13,
    "start_time": "2022-12-19T18:16:25.442Z"
   },
   {
    "duration": 597,
    "start_time": "2022-12-19T18:16:25.457Z"
   },
   {
    "duration": 1482,
    "start_time": "2022-12-19T18:17:10.106Z"
   },
   {
    "duration": 34,
    "start_time": "2022-12-19T18:17:11.590Z"
   },
   {
    "duration": 17,
    "start_time": "2022-12-19T18:17:11.625Z"
   },
   {
    "duration": 16,
    "start_time": "2022-12-19T18:17:11.643Z"
   },
   {
    "duration": 9,
    "start_time": "2022-12-19T18:17:11.661Z"
   },
   {
    "duration": 24,
    "start_time": "2022-12-19T18:17:11.671Z"
   },
   {
    "duration": 25,
    "start_time": "2022-12-19T18:17:11.697Z"
   },
   {
    "duration": 16,
    "start_time": "2022-12-19T18:17:11.723Z"
   },
   {
    "duration": 64,
    "start_time": "2022-12-19T18:17:11.741Z"
   },
   {
    "duration": 255,
    "start_time": "2022-12-19T18:17:11.807Z"
   },
   {
    "duration": 242,
    "start_time": "2022-12-19T18:17:12.064Z"
   },
   {
    "duration": 248,
    "start_time": "2022-12-19T18:17:12.307Z"
   },
   {
    "duration": 270,
    "start_time": "2022-12-19T18:17:12.557Z"
   },
   {
    "duration": 324,
    "start_time": "2022-12-19T18:17:12.830Z"
   },
   {
    "duration": 296,
    "start_time": "2022-12-19T18:17:13.155Z"
   },
   {
    "duration": 251,
    "start_time": "2022-12-19T18:17:13.453Z"
   },
   {
    "duration": 349,
    "start_time": "2022-12-19T18:17:13.706Z"
   },
   {
    "duration": 309,
    "start_time": "2022-12-19T18:17:14.058Z"
   },
   {
    "duration": 250,
    "start_time": "2022-12-19T18:17:14.370Z"
   },
   {
    "duration": 420,
    "start_time": "2022-12-19T18:17:14.622Z"
   },
   {
    "duration": 436,
    "start_time": "2022-12-19T18:17:15.044Z"
   },
   {
    "duration": 312,
    "start_time": "2022-12-19T18:17:15.482Z"
   },
   {
    "duration": 1592,
    "start_time": "2022-12-19T18:17:15.796Z"
   },
   {
    "duration": 3,
    "start_time": "2022-12-19T18:17:17.390Z"
   },
   {
    "duration": 8,
    "start_time": "2022-12-19T18:17:17.395Z"
   },
   {
    "duration": 8,
    "start_time": "2022-12-19T18:17:17.404Z"
   },
   {
    "duration": 4,
    "start_time": "2022-12-19T18:17:17.414Z"
   },
   {
    "duration": 30,
    "start_time": "2022-12-19T18:17:17.420Z"
   },
   {
    "duration": 60,
    "start_time": "2022-12-19T18:17:17.452Z"
   },
   {
    "duration": 110,
    "start_time": "2022-12-19T18:17:17.514Z"
   },
   {
    "duration": 5,
    "start_time": "2022-12-19T18:17:17.626Z"
   },
   {
    "duration": 319,
    "start_time": "2022-12-19T18:17:17.633Z"
   },
   {
    "duration": 65,
    "start_time": "2022-12-19T18:17:17.953Z"
   },
   {
    "duration": 7,
    "start_time": "2022-12-19T18:17:18.020Z"
   },
   {
    "duration": 3,
    "start_time": "2022-12-19T18:17:18.029Z"
   },
   {
    "duration": 17,
    "start_time": "2022-12-19T18:17:18.033Z"
   },
   {
    "duration": 576,
    "start_time": "2022-12-19T18:17:18.052Z"
   },
   {
    "duration": 118555,
    "start_time": "2022-12-19T18:17:18.630Z"
   },
   {
    "duration": 136,
    "start_time": "2022-12-19T18:24:44.762Z"
   },
   {
    "duration": 1620,
    "start_time": "2022-12-19T18:24:49.152Z"
   },
   {
    "duration": 36,
    "start_time": "2022-12-19T18:24:50.774Z"
   },
   {
    "duration": 26,
    "start_time": "2022-12-19T18:24:50.812Z"
   },
   {
    "duration": 28,
    "start_time": "2022-12-19T18:24:50.847Z"
   },
   {
    "duration": 13,
    "start_time": "2022-12-19T18:24:50.877Z"
   },
   {
    "duration": 36,
    "start_time": "2022-12-19T18:24:50.892Z"
   },
   {
    "duration": 42,
    "start_time": "2022-12-19T18:24:50.929Z"
   },
   {
    "duration": 7,
    "start_time": "2022-12-19T18:24:50.974Z"
   },
   {
    "duration": 66,
    "start_time": "2022-12-19T18:24:50.982Z"
   },
   {
    "duration": 280,
    "start_time": "2022-12-19T18:24:51.052Z"
   },
   {
    "duration": 244,
    "start_time": "2022-12-19T18:24:51.334Z"
   },
   {
    "duration": 277,
    "start_time": "2022-12-19T18:24:51.580Z"
   },
   {
    "duration": 263,
    "start_time": "2022-12-19T18:24:51.859Z"
   },
   {
    "duration": 343,
    "start_time": "2022-12-19T18:24:52.124Z"
   },
   {
    "duration": 285,
    "start_time": "2022-12-19T18:24:52.469Z"
   },
   {
    "duration": 278,
    "start_time": "2022-12-19T18:24:52.755Z"
   },
   {
    "duration": 417,
    "start_time": "2022-12-19T18:24:53.035Z"
   },
   {
    "duration": 345,
    "start_time": "2022-12-19T18:24:53.454Z"
   },
   {
    "duration": 298,
    "start_time": "2022-12-19T18:24:53.801Z"
   },
   {
    "duration": 434,
    "start_time": "2022-12-19T18:24:54.101Z"
   },
   {
    "duration": 516,
    "start_time": "2022-12-19T18:24:54.537Z"
   },
   {
    "duration": 361,
    "start_time": "2022-12-19T18:24:55.058Z"
   },
   {
    "duration": 1655,
    "start_time": "2022-12-19T18:24:55.433Z"
   },
   {
    "duration": 3,
    "start_time": "2022-12-19T18:24:57.090Z"
   },
   {
    "duration": 14,
    "start_time": "2022-12-19T18:24:57.096Z"
   },
   {
    "duration": 38,
    "start_time": "2022-12-19T18:24:57.115Z"
   },
   {
    "duration": 13,
    "start_time": "2022-12-19T18:24:57.155Z"
   },
   {
    "duration": 30,
    "start_time": "2022-12-19T18:24:57.173Z"
   },
   {
    "duration": 40,
    "start_time": "2022-12-19T18:24:57.204Z"
   },
   {
    "duration": 188,
    "start_time": "2022-12-19T18:24:57.246Z"
   },
   {
    "duration": 15,
    "start_time": "2022-12-19T18:24:57.438Z"
   },
   {
    "duration": 355,
    "start_time": "2022-12-19T18:24:57.455Z"
   },
   {
    "duration": 67,
    "start_time": "2022-12-19T18:24:57.812Z"
   },
   {
    "duration": 10,
    "start_time": "2022-12-19T18:24:57.881Z"
   },
   {
    "duration": 20,
    "start_time": "2022-12-19T18:24:57.893Z"
   },
   {
    "duration": 55,
    "start_time": "2022-12-19T18:24:57.915Z"
   },
   {
    "duration": 719,
    "start_time": "2022-12-19T18:24:57.973Z"
   },
   {
    "duration": 127557,
    "start_time": "2022-12-19T18:24:58.694Z"
   },
   {
    "duration": 7,
    "start_time": "2022-12-19T18:27:06.253Z"
   },
   {
    "duration": 1072,
    "start_time": "2022-12-19T18:27:06.262Z"
   },
   {
    "duration": 4,
    "start_time": "2022-12-19T18:27:07.338Z"
   },
   {
    "duration": 28,
    "start_time": "2022-12-19T18:27:07.417Z"
   },
   {
    "duration": 17,
    "start_time": "2022-12-19T18:27:07.447Z"
   },
   {
    "duration": 20,
    "start_time": "2022-12-19T18:29:07.156Z"
   },
   {
    "duration": 33,
    "start_time": "2022-12-19T18:29:37.003Z"
   },
   {
    "duration": 15,
    "start_time": "2022-12-19T18:31:07.167Z"
   },
   {
    "duration": 608,
    "start_time": "2022-12-19T18:34:10.264Z"
   },
   {
    "duration": 150,
    "start_time": "2022-12-19T18:35:32.477Z"
   },
   {
    "duration": 23,
    "start_time": "2022-12-19T18:36:59.629Z"
   },
   {
    "duration": 222,
    "start_time": "2022-12-19T18:37:25.765Z"
   },
   {
    "duration": 178,
    "start_time": "2022-12-19T18:38:42.864Z"
   },
   {
    "duration": 223,
    "start_time": "2022-12-19T18:38:50.849Z"
   },
   {
    "duration": 17,
    "start_time": "2022-12-19T18:41:25.468Z"
   },
   {
    "duration": 17,
    "start_time": "2022-12-19T18:42:01.276Z"
   },
   {
    "duration": 123,
    "start_time": "2022-12-19T18:42:20.753Z"
   },
   {
    "duration": 135,
    "start_time": "2022-12-19T18:42:35.560Z"
   },
   {
    "duration": 178,
    "start_time": "2022-12-19T18:42:54.744Z"
   },
   {
    "duration": 258,
    "start_time": "2022-12-19T18:43:16.397Z"
   },
   {
    "duration": 223,
    "start_time": "2022-12-19T18:45:36.044Z"
   },
   {
    "duration": 2,
    "start_time": "2022-12-19T18:46:24.051Z"
   },
   {
    "duration": 32,
    "start_time": "2022-12-19T18:50:12.848Z"
   },
   {
    "duration": 10,
    "start_time": "2022-12-19T18:50:55.197Z"
   },
   {
    "duration": 5,
    "start_time": "2022-12-19T18:50:56.357Z"
   },
   {
    "duration": 1570,
    "start_time": "2022-12-19T18:59:15.995Z"
   },
   {
    "duration": 34,
    "start_time": "2022-12-19T18:59:17.567Z"
   },
   {
    "duration": 19,
    "start_time": "2022-12-19T18:59:17.603Z"
   },
   {
    "duration": 20,
    "start_time": "2022-12-19T18:59:17.623Z"
   },
   {
    "duration": 5,
    "start_time": "2022-12-19T18:59:17.646Z"
   },
   {
    "duration": 13,
    "start_time": "2022-12-19T18:59:17.652Z"
   },
   {
    "duration": 12,
    "start_time": "2022-12-19T18:59:17.667Z"
   },
   {
    "duration": 7,
    "start_time": "2022-12-19T18:59:17.680Z"
   },
   {
    "duration": 61,
    "start_time": "2022-12-19T18:59:17.689Z"
   },
   {
    "duration": 276,
    "start_time": "2022-12-19T18:59:17.752Z"
   },
   {
    "duration": 240,
    "start_time": "2022-12-19T18:59:18.029Z"
   },
   {
    "duration": 253,
    "start_time": "2022-12-19T18:59:18.271Z"
   },
   {
    "duration": 231,
    "start_time": "2022-12-19T18:59:18.527Z"
   },
   {
    "duration": 359,
    "start_time": "2022-12-19T18:59:18.763Z"
   },
   {
    "duration": 298,
    "start_time": "2022-12-19T18:59:19.123Z"
   },
   {
    "duration": 232,
    "start_time": "2022-12-19T18:59:19.422Z"
   },
   {
    "duration": 345,
    "start_time": "2022-12-19T18:59:19.656Z"
   },
   {
    "duration": 329,
    "start_time": "2022-12-19T18:59:20.003Z"
   },
   {
    "duration": 261,
    "start_time": "2022-12-19T18:59:20.334Z"
   },
   {
    "duration": 384,
    "start_time": "2022-12-19T18:59:20.597Z"
   },
   {
    "duration": 453,
    "start_time": "2022-12-19T18:59:20.982Z"
   },
   {
    "duration": 301,
    "start_time": "2022-12-19T18:59:21.436Z"
   },
   {
    "duration": 1528,
    "start_time": "2022-12-19T18:59:21.739Z"
   },
   {
    "duration": 3,
    "start_time": "2022-12-19T18:59:23.269Z"
   },
   {
    "duration": 7,
    "start_time": "2022-12-19T18:59:23.274Z"
   },
   {
    "duration": 6,
    "start_time": "2022-12-19T18:59:23.282Z"
   },
   {
    "duration": 3,
    "start_time": "2022-12-19T18:59:23.290Z"
   },
   {
    "duration": 32,
    "start_time": "2022-12-19T18:59:23.295Z"
   },
   {
    "duration": 9,
    "start_time": "2022-12-19T18:59:23.329Z"
   },
   {
    "duration": 86,
    "start_time": "2022-12-19T18:59:23.340Z"
   },
   {
    "duration": 103,
    "start_time": "2022-12-19T18:59:23.428Z"
   },
   {
    "duration": 304,
    "start_time": "2022-12-19T18:59:23.533Z"
   },
   {
    "duration": 54,
    "start_time": "2022-12-19T18:59:23.839Z"
   },
   {
    "duration": 23,
    "start_time": "2022-12-19T18:59:23.894Z"
   },
   {
    "duration": 18,
    "start_time": "2022-12-19T18:59:23.920Z"
   },
   {
    "duration": 6,
    "start_time": "2022-12-19T18:59:23.939Z"
   },
   {
    "duration": 21,
    "start_time": "2022-12-19T18:59:23.947Z"
   },
   {
    "duration": 601,
    "start_time": "2022-12-19T18:59:23.970Z"
   },
   {
    "duration": 120026,
    "start_time": "2022-12-19T18:59:24.573Z"
   },
   {
    "duration": 3,
    "start_time": "2022-12-19T19:01:24.601Z"
   },
   {
    "duration": 901,
    "start_time": "2022-12-19T19:01:24.612Z"
   },
   {
    "duration": 7,
    "start_time": "2022-12-19T19:01:25.517Z"
   },
   {
    "duration": 114,
    "start_time": "2022-12-19T19:01:25.526Z"
   },
   {
    "duration": 127,
    "start_time": "2022-12-19T19:01:25.642Z"
   },
   {
    "duration": 0,
    "start_time": "2022-12-19T19:01:25.771Z"
   },
   {
    "duration": 0,
    "start_time": "2022-12-19T19:01:25.773Z"
   },
   {
    "duration": 0,
    "start_time": "2022-12-19T19:01:25.774Z"
   },
   {
    "duration": 0,
    "start_time": "2022-12-19T19:01:25.775Z"
   },
   {
    "duration": 0,
    "start_time": "2022-12-19T19:01:25.776Z"
   },
   {
    "duration": 0,
    "start_time": "2022-12-19T19:01:25.778Z"
   },
   {
    "duration": 0,
    "start_time": "2022-12-19T19:01:25.779Z"
   },
   {
    "duration": 0,
    "start_time": "2022-12-19T19:01:25.779Z"
   },
   {
    "duration": 0,
    "start_time": "2022-12-19T19:01:25.780Z"
   },
   {
    "duration": 0,
    "start_time": "2022-12-19T19:01:25.782Z"
   },
   {
    "duration": 0,
    "start_time": "2022-12-19T19:01:25.783Z"
   },
   {
    "duration": 0,
    "start_time": "2022-12-19T19:01:25.784Z"
   },
   {
    "duration": 0,
    "start_time": "2022-12-19T19:01:25.785Z"
   },
   {
    "duration": 0,
    "start_time": "2022-12-19T19:01:25.786Z"
   },
   {
    "duration": 0,
    "start_time": "2022-12-19T19:01:25.787Z"
   },
   {
    "duration": 16,
    "start_time": "2022-12-19T19:03:19.901Z"
   },
   {
    "duration": 199,
    "start_time": "2022-12-19T19:03:21.680Z"
   },
   {
    "duration": 385,
    "start_time": "2022-12-19T19:03:22.388Z"
   },
   {
    "duration": 213,
    "start_time": "2022-12-19T19:03:23.162Z"
   },
   {
    "duration": 203,
    "start_time": "2022-12-19T19:03:24.075Z"
   },
   {
    "duration": 191,
    "start_time": "2022-12-19T19:03:24.931Z"
   },
   {
    "duration": 198,
    "start_time": "2022-12-19T19:03:25.698Z"
   },
   {
    "duration": 272,
    "start_time": "2022-12-19T19:03:26.464Z"
   },
   {
    "duration": 498,
    "start_time": "2022-12-19T19:03:27.318Z"
   },
   {
    "duration": 90971,
    "start_time": "2022-12-19T19:03:28.194Z"
   },
   {
    "duration": 402,
    "start_time": "2022-12-19T19:04:59.168Z"
   },
   {
    "duration": 658,
    "start_time": "2022-12-19T19:04:59.571Z"
   },
   {
    "duration": 13209,
    "start_time": "2022-12-19T19:05:00.234Z"
   },
   {
    "duration": 10962,
    "start_time": "2022-12-19T19:05:13.445Z"
   },
   {
    "duration": 17,
    "start_time": "2022-12-19T19:05:24.408Z"
   },
   {
    "duration": 12,
    "start_time": "2022-12-19T19:05:24.431Z"
   },
   {
    "duration": 209,
    "start_time": "2022-12-19T19:06:18.404Z"
   },
   {
    "duration": 235,
    "start_time": "2022-12-19T19:06:33.940Z"
   },
   {
    "duration": 540,
    "start_time": "2022-12-19T19:07:01.950Z"
   },
   {
    "duration": 258,
    "start_time": "2022-12-19T19:07:09.035Z"
   },
   {
    "duration": 15,
    "start_time": "2022-12-19T19:09:46.595Z"
   },
   {
    "duration": 210,
    "start_time": "2022-12-19T19:09:57.239Z"
   },
   {
    "duration": 30,
    "start_time": "2022-12-19T19:12:49.974Z"
   },
   {
    "duration": 199,
    "start_time": "2022-12-19T19:13:03.357Z"
   },
   {
    "duration": 210,
    "start_time": "2022-12-19T19:13:31.713Z"
   },
   {
    "duration": 1378,
    "start_time": "2022-12-19T19:16:42.947Z"
   },
   {
    "duration": 33,
    "start_time": "2022-12-19T19:16:44.328Z"
   },
   {
    "duration": 16,
    "start_time": "2022-12-19T19:16:44.363Z"
   },
   {
    "duration": 11,
    "start_time": "2022-12-19T19:16:44.381Z"
   },
   {
    "duration": 5,
    "start_time": "2022-12-19T19:16:44.394Z"
   },
   {
    "duration": 15,
    "start_time": "2022-12-19T19:16:44.400Z"
   },
   {
    "duration": 14,
    "start_time": "2022-12-19T19:16:44.416Z"
   },
   {
    "duration": 6,
    "start_time": "2022-12-19T19:16:44.432Z"
   },
   {
    "duration": 48,
    "start_time": "2022-12-19T19:16:44.439Z"
   },
   {
    "duration": 253,
    "start_time": "2022-12-19T19:16:44.490Z"
   },
   {
    "duration": 254,
    "start_time": "2022-12-19T19:16:44.744Z"
   },
   {
    "duration": 267,
    "start_time": "2022-12-19T19:16:45.000Z"
   },
   {
    "duration": 289,
    "start_time": "2022-12-19T19:16:45.269Z"
   },
   {
    "duration": 306,
    "start_time": "2022-12-19T19:16:45.560Z"
   },
   {
    "duration": 256,
    "start_time": "2022-12-19T19:16:45.868Z"
   },
   {
    "duration": 243,
    "start_time": "2022-12-19T19:16:46.126Z"
   },
   {
    "duration": 366,
    "start_time": "2022-12-19T19:16:46.371Z"
   },
   {
    "duration": 379,
    "start_time": "2022-12-19T19:16:46.739Z"
   },
   {
    "duration": 249,
    "start_time": "2022-12-19T19:16:47.120Z"
   },
   {
    "duration": 371,
    "start_time": "2022-12-19T19:16:47.371Z"
   },
   {
    "duration": 410,
    "start_time": "2022-12-19T19:16:47.744Z"
   },
   {
    "duration": 294,
    "start_time": "2022-12-19T19:16:48.156Z"
   },
   {
    "duration": 1489,
    "start_time": "2022-12-19T19:16:48.451Z"
   },
   {
    "duration": 4,
    "start_time": "2022-12-19T19:16:49.942Z"
   },
   {
    "duration": 13,
    "start_time": "2022-12-19T19:16:49.948Z"
   },
   {
    "duration": 11,
    "start_time": "2022-12-19T19:16:49.962Z"
   },
   {
    "duration": 5,
    "start_time": "2022-12-19T19:16:49.974Z"
   },
   {
    "duration": 25,
    "start_time": "2022-12-19T19:16:49.983Z"
   },
   {
    "duration": 19,
    "start_time": "2022-12-19T19:16:50.009Z"
   },
   {
    "duration": 99,
    "start_time": "2022-12-19T19:16:50.114Z"
   },
   {
    "duration": 7,
    "start_time": "2022-12-19T19:16:50.215Z"
   },
   {
    "duration": 394,
    "start_time": "2022-12-19T19:16:50.224Z"
   },
   {
    "duration": 61,
    "start_time": "2022-12-19T19:16:50.619Z"
   },
   {
    "duration": 38,
    "start_time": "2022-12-19T19:16:50.682Z"
   },
   {
    "duration": 9,
    "start_time": "2022-12-19T19:16:50.722Z"
   },
   {
    "duration": 3,
    "start_time": "2022-12-19T19:16:50.733Z"
   },
   {
    "duration": 15,
    "start_time": "2022-12-19T19:16:50.738Z"
   },
   {
    "duration": 665,
    "start_time": "2022-12-19T19:16:50.755Z"
   },
   {
    "duration": 118604,
    "start_time": "2022-12-19T19:16:51.422Z"
   },
   {
    "duration": 3,
    "start_time": "2022-12-19T19:18:50.028Z"
   },
   {
    "duration": 1092,
    "start_time": "2022-12-19T19:18:50.032Z"
   },
   {
    "duration": 86,
    "start_time": "2022-12-19T19:18:51.127Z"
   },
   {
    "duration": 35,
    "start_time": "2022-12-19T19:18:51.217Z"
   },
   {
    "duration": 25,
    "start_time": "2022-12-19T19:18:51.254Z"
   },
   {
    "duration": 287,
    "start_time": "2022-12-19T19:18:51.280Z"
   },
   {
    "duration": 412,
    "start_time": "2022-12-19T19:18:51.569Z"
   },
   {
    "duration": 210,
    "start_time": "2022-12-19T19:18:51.982Z"
   },
   {
    "duration": 204,
    "start_time": "2022-12-19T19:18:52.195Z"
   },
   {
    "duration": 219,
    "start_time": "2022-12-19T19:18:52.400Z"
   },
   {
    "duration": 206,
    "start_time": "2022-12-19T19:18:52.626Z"
   },
   {
    "duration": 219,
    "start_time": "2022-12-19T19:18:52.834Z"
   },
   {
    "duration": 518,
    "start_time": "2022-12-19T19:18:53.055Z"
   },
   {
    "duration": 95466,
    "start_time": "2022-12-19T19:18:53.575Z"
   },
   {
    "duration": 394,
    "start_time": "2022-12-19T19:20:29.043Z"
   },
   {
    "duration": 683,
    "start_time": "2022-12-19T19:20:29.439Z"
   },
   {
    "duration": 13606,
    "start_time": "2022-12-19T19:20:30.123Z"
   },
   {
    "duration": 12365,
    "start_time": "2022-12-19T19:20:43.734Z"
   },
   {
    "duration": 26,
    "start_time": "2022-12-19T19:20:56.102Z"
   },
   {
    "duration": 14,
    "start_time": "2022-12-19T19:20:56.131Z"
   },
   {
    "duration": 65,
    "start_time": "2022-12-20T15:30:57.315Z"
   },
   {
    "duration": 1565,
    "start_time": "2022-12-20T15:31:39.313Z"
   },
   {
    "duration": 127,
    "start_time": "2022-12-20T15:53:13.934Z"
   },
   {
    "duration": 1563,
    "start_time": "2022-12-20T15:53:22.039Z"
   },
   {
    "duration": 67,
    "start_time": "2022-12-20T15:53:23.604Z"
   },
   {
    "duration": 16,
    "start_time": "2022-12-20T15:53:23.673Z"
   },
   {
    "duration": 12,
    "start_time": "2022-12-20T15:53:23.692Z"
   },
   {
    "duration": 6,
    "start_time": "2022-12-20T15:53:23.706Z"
   },
   {
    "duration": 17,
    "start_time": "2022-12-20T15:53:23.713Z"
   },
   {
    "duration": 14,
    "start_time": "2022-12-20T15:53:23.732Z"
   },
   {
    "duration": 31,
    "start_time": "2022-12-20T15:53:23.748Z"
   },
   {
    "duration": 55,
    "start_time": "2022-12-20T15:53:23.781Z"
   },
   {
    "duration": 289,
    "start_time": "2022-12-20T15:53:23.839Z"
   },
   {
    "duration": 235,
    "start_time": "2022-12-20T15:53:24.130Z"
   },
   {
    "duration": 251,
    "start_time": "2022-12-20T15:53:24.367Z"
   },
   {
    "duration": 245,
    "start_time": "2022-12-20T15:53:24.620Z"
   },
   {
    "duration": 340,
    "start_time": "2022-12-20T15:53:24.867Z"
   },
   {
    "duration": 263,
    "start_time": "2022-12-20T15:53:25.209Z"
   },
   {
    "duration": 239,
    "start_time": "2022-12-20T15:53:25.474Z"
   },
   {
    "duration": 366,
    "start_time": "2022-12-20T15:53:25.714Z"
   },
   {
    "duration": 326,
    "start_time": "2022-12-20T15:53:26.082Z"
   },
   {
    "duration": 270,
    "start_time": "2022-12-20T15:53:26.410Z"
   },
   {
    "duration": 397,
    "start_time": "2022-12-20T15:53:26.681Z"
   },
   {
    "duration": 452,
    "start_time": "2022-12-20T15:53:27.080Z"
   },
   {
    "duration": 302,
    "start_time": "2022-12-20T15:53:27.534Z"
   },
   {
    "duration": 1570,
    "start_time": "2022-12-20T15:53:27.838Z"
   },
   {
    "duration": 4,
    "start_time": "2022-12-20T15:53:29.410Z"
   },
   {
    "duration": 39,
    "start_time": "2022-12-20T15:53:29.416Z"
   },
   {
    "duration": 22,
    "start_time": "2022-12-20T15:53:29.456Z"
   },
   {
    "duration": 32,
    "start_time": "2022-12-20T15:53:29.480Z"
   },
   {
    "duration": 53,
    "start_time": "2022-12-20T15:53:29.516Z"
   },
   {
    "duration": 10,
    "start_time": "2022-12-20T15:53:29.570Z"
   },
   {
    "duration": 103,
    "start_time": "2022-12-20T15:53:29.582Z"
   },
   {
    "duration": 111,
    "start_time": "2022-12-20T15:53:29.687Z"
   },
   {
    "duration": 319,
    "start_time": "2022-12-20T15:53:29.800Z"
   },
   {
    "duration": 59,
    "start_time": "2022-12-20T15:53:30.121Z"
   },
   {
    "duration": 8,
    "start_time": "2022-12-20T15:53:30.182Z"
   },
   {
    "duration": 25,
    "start_time": "2022-12-20T15:53:30.192Z"
   },
   {
    "duration": 16,
    "start_time": "2022-12-20T15:53:30.218Z"
   },
   {
    "duration": 42,
    "start_time": "2022-12-20T15:53:30.236Z"
   },
   {
    "duration": 606,
    "start_time": "2022-12-20T15:53:30.280Z"
   },
   {
    "duration": 1432,
    "start_time": "2022-12-20T15:55:08.874Z"
   },
   {
    "duration": 33,
    "start_time": "2022-12-20T15:55:10.308Z"
   },
   {
    "duration": 16,
    "start_time": "2022-12-20T15:55:10.343Z"
   },
   {
    "duration": 12,
    "start_time": "2022-12-20T15:55:10.361Z"
   },
   {
    "duration": 6,
    "start_time": "2022-12-20T15:55:10.374Z"
   },
   {
    "duration": 16,
    "start_time": "2022-12-20T15:55:10.381Z"
   },
   {
    "duration": 14,
    "start_time": "2022-12-20T15:55:10.399Z"
   },
   {
    "duration": 7,
    "start_time": "2022-12-20T15:55:10.415Z"
   },
   {
    "duration": 75,
    "start_time": "2022-12-20T15:55:10.424Z"
   },
   {
    "duration": 260,
    "start_time": "2022-12-20T15:55:10.501Z"
   },
   {
    "duration": 251,
    "start_time": "2022-12-20T15:55:10.763Z"
   },
   {
    "duration": 246,
    "start_time": "2022-12-20T15:55:11.016Z"
   },
   {
    "duration": 241,
    "start_time": "2022-12-20T15:55:11.263Z"
   },
   {
    "duration": 333,
    "start_time": "2022-12-20T15:55:11.506Z"
   },
   {
    "duration": 254,
    "start_time": "2022-12-20T15:55:11.841Z"
   },
   {
    "duration": 235,
    "start_time": "2022-12-20T15:55:12.097Z"
   },
   {
    "duration": 357,
    "start_time": "2022-12-20T15:55:12.333Z"
   },
   {
    "duration": 330,
    "start_time": "2022-12-20T15:55:12.691Z"
   },
   {
    "duration": 257,
    "start_time": "2022-12-20T15:55:13.023Z"
   },
   {
    "duration": 394,
    "start_time": "2022-12-20T15:55:13.282Z"
   },
   {
    "duration": 470,
    "start_time": "2022-12-20T15:55:13.678Z"
   },
   {
    "duration": 305,
    "start_time": "2022-12-20T15:55:14.150Z"
   },
   {
    "duration": 1499,
    "start_time": "2022-12-20T15:55:14.457Z"
   },
   {
    "duration": 4,
    "start_time": "2022-12-20T15:55:15.958Z"
   },
   {
    "duration": 24,
    "start_time": "2022-12-20T15:55:15.964Z"
   },
   {
    "duration": 40,
    "start_time": "2022-12-20T15:55:15.990Z"
   },
   {
    "duration": 31,
    "start_time": "2022-12-20T15:55:16.032Z"
   },
   {
    "duration": 41,
    "start_time": "2022-12-20T15:55:16.067Z"
   },
   {
    "duration": 70,
    "start_time": "2022-12-20T15:55:16.110Z"
   },
   {
    "duration": 95,
    "start_time": "2022-12-20T15:55:16.182Z"
   },
   {
    "duration": 33,
    "start_time": "2022-12-20T15:55:16.279Z"
   },
   {
    "duration": 336,
    "start_time": "2022-12-20T15:55:16.314Z"
   },
   {
    "duration": 65,
    "start_time": "2022-12-20T15:55:16.652Z"
   },
   {
    "duration": 10,
    "start_time": "2022-12-20T15:55:16.719Z"
   },
   {
    "duration": 23,
    "start_time": "2022-12-20T15:55:16.731Z"
   },
   {
    "duration": 28,
    "start_time": "2022-12-20T15:55:16.756Z"
   },
   {
    "duration": 38,
    "start_time": "2022-12-20T15:55:16.786Z"
   },
   {
    "duration": 616,
    "start_time": "2022-12-20T15:55:16.826Z"
   },
   {
    "duration": 115026,
    "start_time": "2022-12-20T15:55:17.444Z"
   },
   {
    "duration": 3,
    "start_time": "2022-12-20T15:57:12.477Z"
   },
   {
    "duration": 1203,
    "start_time": "2022-12-20T15:57:12.482Z"
   },
   {
    "duration": 92,
    "start_time": "2022-12-20T15:57:13.687Z"
   },
   {
    "duration": 16,
    "start_time": "2022-12-20T15:57:13.781Z"
   },
   {
    "duration": 16,
    "start_time": "2022-12-20T15:57:13.799Z"
   },
   {
    "duration": 234,
    "start_time": "2022-12-20T15:57:13.817Z"
   },
   {
    "duration": 435,
    "start_time": "2022-12-20T15:57:14.053Z"
   },
   {
    "duration": 203,
    "start_time": "2022-12-20T15:57:14.491Z"
   },
   {
    "duration": 193,
    "start_time": "2022-12-20T15:57:14.697Z"
   },
   {
    "duration": 206,
    "start_time": "2022-12-20T15:57:14.892Z"
   },
   {
    "duration": 216,
    "start_time": "2022-12-20T15:57:15.100Z"
   },
   {
    "duration": 218,
    "start_time": "2022-12-20T15:57:15.319Z"
   },
   {
    "duration": 557,
    "start_time": "2022-12-20T15:57:15.539Z"
   },
   {
    "duration": 90473,
    "start_time": "2022-12-20T15:57:16.097Z"
   },
   {
    "duration": 358,
    "start_time": "2022-12-20T15:58:46.572Z"
   },
   {
    "duration": 627,
    "start_time": "2022-12-20T15:58:46.932Z"
   },
   {
    "duration": 13323,
    "start_time": "2022-12-20T15:58:47.561Z"
   },
   {
    "duration": 10709,
    "start_time": "2022-12-20T15:59:00.887Z"
   },
   {
    "duration": 12,
    "start_time": "2022-12-20T15:59:11.598Z"
   },
   {
    "duration": 31,
    "start_time": "2022-12-20T15:59:11.612Z"
   },
   {
    "duration": 51,
    "start_time": "2022-12-20T16:03:31.436Z"
   },
   {
    "duration": 1477,
    "start_time": "2022-12-20T16:05:21.336Z"
   },
   {
    "duration": 35,
    "start_time": "2022-12-20T16:05:22.815Z"
   },
   {
    "duration": 19,
    "start_time": "2022-12-20T16:05:22.852Z"
   },
   {
    "duration": 27,
    "start_time": "2022-12-20T16:05:22.874Z"
   },
   {
    "duration": 6,
    "start_time": "2022-12-20T16:05:22.903Z"
   },
   {
    "duration": 17,
    "start_time": "2022-12-20T16:05:22.910Z"
   },
   {
    "duration": 12,
    "start_time": "2022-12-20T16:05:22.929Z"
   },
   {
    "duration": 7,
    "start_time": "2022-12-20T16:05:22.943Z"
   },
   {
    "duration": 67,
    "start_time": "2022-12-20T16:05:22.952Z"
   },
   {
    "duration": 265,
    "start_time": "2022-12-20T16:05:23.022Z"
   },
   {
    "duration": 240,
    "start_time": "2022-12-20T16:05:23.289Z"
   },
   {
    "duration": 237,
    "start_time": "2022-12-20T16:05:23.530Z"
   },
   {
    "duration": 243,
    "start_time": "2022-12-20T16:05:23.768Z"
   },
   {
    "duration": 318,
    "start_time": "2022-12-20T16:05:24.012Z"
   },
   {
    "duration": 262,
    "start_time": "2022-12-20T16:05:24.332Z"
   },
   {
    "duration": 234,
    "start_time": "2022-12-20T16:05:24.596Z"
   },
   {
    "duration": 345,
    "start_time": "2022-12-20T16:05:24.832Z"
   },
   {
    "duration": 309,
    "start_time": "2022-12-20T16:05:25.179Z"
   },
   {
    "duration": 263,
    "start_time": "2022-12-20T16:05:25.490Z"
   },
   {
    "duration": 422,
    "start_time": "2022-12-20T16:05:25.755Z"
   },
   {
    "duration": 452,
    "start_time": "2022-12-20T16:05:26.179Z"
   },
   {
    "duration": 300,
    "start_time": "2022-12-20T16:05:26.633Z"
   },
   {
    "duration": 1499,
    "start_time": "2022-12-20T16:05:26.935Z"
   },
   {
    "duration": 4,
    "start_time": "2022-12-20T16:05:28.437Z"
   },
   {
    "duration": 14,
    "start_time": "2022-12-20T16:05:28.443Z"
   },
   {
    "duration": 16,
    "start_time": "2022-12-20T16:05:28.459Z"
   },
   {
    "duration": 8,
    "start_time": "2022-12-20T16:05:28.477Z"
   },
   {
    "duration": 48,
    "start_time": "2022-12-20T16:05:28.490Z"
   },
   {
    "duration": 9,
    "start_time": "2022-12-20T16:05:28.540Z"
   },
   {
    "duration": 98,
    "start_time": "2022-12-20T16:05:28.579Z"
   },
   {
    "duration": 3,
    "start_time": "2022-12-20T16:05:28.680Z"
   },
   {
    "duration": 318,
    "start_time": "2022-12-20T16:05:28.685Z"
   },
   {
    "duration": 53,
    "start_time": "2022-12-20T16:05:29.005Z"
   },
   {
    "duration": 24,
    "start_time": "2022-12-20T16:05:29.060Z"
   },
   {
    "duration": 7,
    "start_time": "2022-12-20T16:05:29.086Z"
   },
   {
    "duration": 4,
    "start_time": "2022-12-20T16:05:29.095Z"
   },
   {
    "duration": 15,
    "start_time": "2022-12-20T16:05:29.100Z"
   },
   {
    "duration": 622,
    "start_time": "2022-12-20T16:05:29.117Z"
   },
   {
    "duration": 1448,
    "start_time": "2022-12-20T16:06:06.747Z"
   },
   {
    "duration": 34,
    "start_time": "2022-12-20T16:06:08.197Z"
   },
   {
    "duration": 21,
    "start_time": "2022-12-20T16:06:08.233Z"
   },
   {
    "duration": 23,
    "start_time": "2022-12-20T16:06:08.256Z"
   },
   {
    "duration": 22,
    "start_time": "2022-12-20T16:06:08.282Z"
   },
   {
    "duration": 35,
    "start_time": "2022-12-20T16:06:08.306Z"
   },
   {
    "duration": 41,
    "start_time": "2022-12-20T16:06:08.343Z"
   },
   {
    "duration": 20,
    "start_time": "2022-12-20T16:06:08.386Z"
   },
   {
    "duration": 76,
    "start_time": "2022-12-20T16:06:08.408Z"
   },
   {
    "duration": 265,
    "start_time": "2022-12-20T16:06:08.486Z"
   },
   {
    "duration": 232,
    "start_time": "2022-12-20T16:06:08.753Z"
   },
   {
    "duration": 238,
    "start_time": "2022-12-20T16:06:08.986Z"
   },
   {
    "duration": 233,
    "start_time": "2022-12-20T16:06:09.226Z"
   },
   {
    "duration": 334,
    "start_time": "2022-12-20T16:06:09.462Z"
   },
   {
    "duration": 272,
    "start_time": "2022-12-20T16:06:09.798Z"
   },
   {
    "duration": 236,
    "start_time": "2022-12-20T16:06:10.072Z"
   },
   {
    "duration": 380,
    "start_time": "2022-12-20T16:06:10.310Z"
   },
   {
    "duration": 352,
    "start_time": "2022-12-20T16:06:10.692Z"
   },
   {
    "duration": 271,
    "start_time": "2022-12-20T16:06:11.046Z"
   },
   {
    "duration": 424,
    "start_time": "2022-12-20T16:06:11.318Z"
   },
   {
    "duration": 479,
    "start_time": "2022-12-20T16:06:11.743Z"
   },
   {
    "duration": 317,
    "start_time": "2022-12-20T16:06:12.223Z"
   },
   {
    "duration": 1543,
    "start_time": "2022-12-20T16:06:12.541Z"
   },
   {
    "duration": 4,
    "start_time": "2022-12-20T16:06:14.086Z"
   },
   {
    "duration": 13,
    "start_time": "2022-12-20T16:06:14.092Z"
   },
   {
    "duration": 10,
    "start_time": "2022-12-20T16:06:14.107Z"
   },
   {
    "duration": 16,
    "start_time": "2022-12-20T16:06:14.119Z"
   },
   {
    "duration": 56,
    "start_time": "2022-12-20T16:06:14.137Z"
   },
   {
    "duration": 8,
    "start_time": "2022-12-20T16:06:14.195Z"
   },
   {
    "duration": 173,
    "start_time": "2022-12-20T16:06:14.205Z"
   },
   {
    "duration": 7,
    "start_time": "2022-12-20T16:06:14.380Z"
   },
   {
    "duration": 346,
    "start_time": "2022-12-20T16:06:14.389Z"
   },
   {
    "duration": 62,
    "start_time": "2022-12-20T16:06:14.737Z"
   },
   {
    "duration": 9,
    "start_time": "2022-12-20T16:06:14.801Z"
   },
   {
    "duration": 8,
    "start_time": "2022-12-20T16:06:14.812Z"
   },
   {
    "duration": 4,
    "start_time": "2022-12-20T16:06:14.822Z"
   },
   {
    "duration": 12,
    "start_time": "2022-12-20T16:06:14.827Z"
   },
   {
    "duration": 646,
    "start_time": "2022-12-20T16:06:14.840Z"
   },
   {
    "duration": 115499,
    "start_time": "2022-12-20T16:06:15.488Z"
   },
   {
    "duration": 3,
    "start_time": "2022-12-20T16:08:10.989Z"
   },
   {
    "duration": 1184,
    "start_time": "2022-12-20T16:08:10.997Z"
   },
   {
    "duration": 94,
    "start_time": "2022-12-20T16:08:12.183Z"
   },
   {
    "duration": 23,
    "start_time": "2022-12-20T16:08:12.279Z"
   },
   {
    "duration": 22,
    "start_time": "2022-12-20T16:08:12.303Z"
   },
   {
    "duration": 211,
    "start_time": "2022-12-20T16:08:12.326Z"
   },
   {
    "duration": 439,
    "start_time": "2022-12-20T16:08:12.539Z"
   },
   {
    "duration": 223,
    "start_time": "2022-12-20T16:08:12.980Z"
   },
   {
    "duration": 201,
    "start_time": "2022-12-20T16:08:13.205Z"
   },
   {
    "duration": 204,
    "start_time": "2022-12-20T16:08:13.407Z"
   },
   {
    "duration": 224,
    "start_time": "2022-12-20T16:08:13.612Z"
   },
   {
    "duration": 222,
    "start_time": "2022-12-20T16:08:13.838Z"
   },
   {
    "duration": 521,
    "start_time": "2022-12-20T16:08:14.062Z"
   },
   {
    "duration": 92260,
    "start_time": "2022-12-20T16:08:14.585Z"
   },
   {
    "duration": 369,
    "start_time": "2022-12-20T16:09:46.847Z"
   },
   {
    "duration": 625,
    "start_time": "2022-12-20T16:09:47.218Z"
   },
   {
    "duration": 14306,
    "start_time": "2022-12-20T16:09:47.844Z"
   },
   {
    "duration": 11080,
    "start_time": "2022-12-20T16:10:02.152Z"
   },
   {
    "duration": 10,
    "start_time": "2022-12-20T16:10:13.233Z"
   },
   {
    "duration": 6,
    "start_time": "2022-12-20T16:10:13.244Z"
   },
   {
    "duration": 115,
    "start_time": "2022-12-20T16:17:15.689Z"
   },
   {
    "duration": 1441,
    "start_time": "2022-12-20T16:17:22.976Z"
   },
   {
    "duration": 34,
    "start_time": "2022-12-20T16:17:24.420Z"
   },
   {
    "duration": 17,
    "start_time": "2022-12-20T16:17:24.456Z"
   },
   {
    "duration": 12,
    "start_time": "2022-12-20T16:17:24.475Z"
   },
   {
    "duration": 9,
    "start_time": "2022-12-20T16:17:24.488Z"
   },
   {
    "duration": 16,
    "start_time": "2022-12-20T16:17:24.498Z"
   },
   {
    "duration": 20,
    "start_time": "2022-12-20T16:17:24.516Z"
   },
   {
    "duration": 14,
    "start_time": "2022-12-20T16:17:24.538Z"
   },
   {
    "duration": 57,
    "start_time": "2022-12-20T16:17:24.553Z"
   },
   {
    "duration": 125,
    "start_time": "2022-12-20T16:17:24.613Z"
   },
   {
    "duration": 0,
    "start_time": "2022-12-20T16:17:24.741Z"
   },
   {
    "duration": 0,
    "start_time": "2022-12-20T16:17:24.743Z"
   },
   {
    "duration": 0,
    "start_time": "2022-12-20T16:17:24.744Z"
   },
   {
    "duration": 0,
    "start_time": "2022-12-20T16:17:24.744Z"
   },
   {
    "duration": 0,
    "start_time": "2022-12-20T16:17:24.745Z"
   },
   {
    "duration": 0,
    "start_time": "2022-12-20T16:17:24.746Z"
   },
   {
    "duration": 0,
    "start_time": "2022-12-20T16:17:24.747Z"
   },
   {
    "duration": 0,
    "start_time": "2022-12-20T16:17:24.748Z"
   },
   {
    "duration": 0,
    "start_time": "2022-12-20T16:17:24.750Z"
   },
   {
    "duration": 0,
    "start_time": "2022-12-20T16:17:24.751Z"
   },
   {
    "duration": 0,
    "start_time": "2022-12-20T16:17:24.751Z"
   },
   {
    "duration": 0,
    "start_time": "2022-12-20T16:17:24.752Z"
   },
   {
    "duration": 0,
    "start_time": "2022-12-20T16:17:24.753Z"
   },
   {
    "duration": 0,
    "start_time": "2022-12-20T16:17:24.754Z"
   },
   {
    "duration": 0,
    "start_time": "2022-12-20T16:17:24.755Z"
   },
   {
    "duration": 0,
    "start_time": "2022-12-20T16:17:24.756Z"
   },
   {
    "duration": 0,
    "start_time": "2022-12-20T16:17:24.778Z"
   },
   {
    "duration": 0,
    "start_time": "2022-12-20T16:17:24.779Z"
   },
   {
    "duration": 0,
    "start_time": "2022-12-20T16:17:24.780Z"
   },
   {
    "duration": 0,
    "start_time": "2022-12-20T16:17:24.781Z"
   },
   {
    "duration": 0,
    "start_time": "2022-12-20T16:17:24.782Z"
   },
   {
    "duration": 0,
    "start_time": "2022-12-20T16:17:24.783Z"
   },
   {
    "duration": 0,
    "start_time": "2022-12-20T16:17:24.784Z"
   },
   {
    "duration": 0,
    "start_time": "2022-12-20T16:17:24.785Z"
   },
   {
    "duration": 0,
    "start_time": "2022-12-20T16:17:24.786Z"
   },
   {
    "duration": 0,
    "start_time": "2022-12-20T16:17:24.787Z"
   },
   {
    "duration": 0,
    "start_time": "2022-12-20T16:17:24.788Z"
   },
   {
    "duration": 0,
    "start_time": "2022-12-20T16:17:24.789Z"
   },
   {
    "duration": 0,
    "start_time": "2022-12-20T16:17:24.790Z"
   },
   {
    "duration": 0,
    "start_time": "2022-12-20T16:17:24.791Z"
   },
   {
    "duration": 0,
    "start_time": "2022-12-20T16:17:24.793Z"
   },
   {
    "duration": 0,
    "start_time": "2022-12-20T16:17:24.794Z"
   },
   {
    "duration": 0,
    "start_time": "2022-12-20T16:17:24.795Z"
   },
   {
    "duration": 0,
    "start_time": "2022-12-20T16:17:24.796Z"
   },
   {
    "duration": 0,
    "start_time": "2022-12-20T16:17:24.798Z"
   },
   {
    "duration": 0,
    "start_time": "2022-12-20T16:17:24.799Z"
   },
   {
    "duration": 0,
    "start_time": "2022-12-20T16:17:24.800Z"
   },
   {
    "duration": 0,
    "start_time": "2022-12-20T16:17:24.801Z"
   },
   {
    "duration": 0,
    "start_time": "2022-12-20T16:17:24.802Z"
   },
   {
    "duration": 0,
    "start_time": "2022-12-20T16:17:24.803Z"
   },
   {
    "duration": 0,
    "start_time": "2022-12-20T16:17:24.805Z"
   },
   {
    "duration": 0,
    "start_time": "2022-12-20T16:17:24.806Z"
   },
   {
    "duration": 0,
    "start_time": "2022-12-20T16:17:24.807Z"
   },
   {
    "duration": 0,
    "start_time": "2022-12-20T16:17:24.808Z"
   },
   {
    "duration": 0,
    "start_time": "2022-12-20T16:17:24.809Z"
   },
   {
    "duration": 0,
    "start_time": "2022-12-20T16:17:24.810Z"
   },
   {
    "duration": 0,
    "start_time": "2022-12-20T16:17:24.811Z"
   },
   {
    "duration": 0,
    "start_time": "2022-12-20T16:17:24.812Z"
   },
   {
    "duration": 0,
    "start_time": "2022-12-20T16:17:24.813Z"
   },
   {
    "duration": 0,
    "start_time": "2022-12-20T16:17:24.814Z"
   },
   {
    "duration": 16,
    "start_time": "2022-12-20T16:17:35.616Z"
   },
   {
    "duration": 12,
    "start_time": "2022-12-20T16:17:39.942Z"
   },
   {
    "duration": 15,
    "start_time": "2022-12-20T16:20:02.234Z"
   },
   {
    "duration": 248,
    "start_time": "2022-12-20T18:14:19.270Z"
   },
   {
    "duration": 238,
    "start_time": "2022-12-20T18:14:54.446Z"
   },
   {
    "duration": 246,
    "start_time": "2022-12-20T18:16:05.142Z"
   },
   {
    "duration": 242,
    "start_time": "2022-12-20T18:16:47.232Z"
   },
   {
    "duration": 328,
    "start_time": "2022-12-20T18:17:02.811Z"
   },
   {
    "duration": 221,
    "start_time": "2022-12-20T18:17:13.467Z"
   },
   {
    "duration": 280,
    "start_time": "2022-12-20T18:17:51.821Z"
   },
   {
    "duration": 250,
    "start_time": "2022-12-20T18:18:11.212Z"
   },
   {
    "duration": 355,
    "start_time": "2022-12-20T18:18:24.090Z"
   },
   {
    "duration": 322,
    "start_time": "2022-12-20T18:18:49.882Z"
   },
   {
    "duration": 268,
    "start_time": "2022-12-20T18:19:12.943Z"
   },
   {
    "duration": 428,
    "start_time": "2022-12-20T18:19:31.604Z"
   },
   {
    "duration": 468,
    "start_time": "2022-12-20T18:19:48.777Z"
   },
   {
    "duration": 302,
    "start_time": "2022-12-20T18:20:05.155Z"
   },
   {
    "duration": 48,
    "start_time": "2022-12-20T18:31:25.861Z"
   },
   {
    "duration": 55,
    "start_time": "2022-12-20T18:32:23.329Z"
   },
   {
    "duration": 46,
    "start_time": "2022-12-20T18:43:03.540Z"
   },
   {
    "duration": 1466,
    "start_time": "2022-12-20T18:43:28.274Z"
   },
   {
    "duration": 4,
    "start_time": "2022-12-20T19:24:32.930Z"
   },
   {
    "duration": 5,
    "start_time": "2022-12-20T19:24:34.898Z"
   },
   {
    "duration": 6,
    "start_time": "2022-12-20T19:24:35.308Z"
   },
   {
    "duration": 3,
    "start_time": "2022-12-20T19:24:38.874Z"
   },
   {
    "duration": 26,
    "start_time": "2022-12-20T19:24:40.080Z"
   },
   {
    "duration": 15,
    "start_time": "2022-12-20T19:24:40.416Z"
   },
   {
    "duration": 10,
    "start_time": "2022-12-20T19:24:41.303Z"
   },
   {
    "duration": 4,
    "start_time": "2022-12-20T19:26:30.269Z"
   },
   {
    "duration": 327,
    "start_time": "2022-12-20T19:26:30.735Z"
   },
   {
    "duration": 56,
    "start_time": "2022-12-20T19:26:31.139Z"
   },
   {
    "duration": 8,
    "start_time": "2022-12-20T19:26:31.872Z"
   },
   {
    "duration": 3,
    "start_time": "2022-12-20T19:39:43.073Z"
   },
   {
    "duration": 10,
    "start_time": "2022-12-20T19:39:43.831Z"
   },
   {
    "duration": 617,
    "start_time": "2022-12-20T19:43:36.186Z"
   },
   {
    "duration": 116224,
    "start_time": "2022-12-20T19:43:49.482Z"
   },
   {
    "duration": 4,
    "start_time": "2022-12-20T19:48:45.050Z"
   },
   {
    "duration": 1485,
    "start_time": "2022-12-20T19:48:45.697Z"
   },
   {
    "duration": 4,
    "start_time": "2022-12-20T19:48:47.185Z"
   },
   {
    "duration": 19,
    "start_time": "2022-12-20T19:48:47.191Z"
   },
   {
    "duration": 17,
    "start_time": "2022-12-20T19:51:31.423Z"
   },
   {
    "duration": 20,
    "start_time": "2022-12-20T19:51:47.663Z"
   },
   {
    "duration": 215,
    "start_time": "2022-12-20T20:13:05.874Z"
   },
   {
    "duration": 197,
    "start_time": "2022-12-20T20:14:22.389Z"
   },
   {
    "duration": 223,
    "start_time": "2022-12-20T20:14:37.745Z"
   },
   {
    "duration": 227,
    "start_time": "2022-12-20T20:16:32.736Z"
   },
   {
    "duration": 203,
    "start_time": "2022-12-20T20:17:38.412Z"
   },
   {
    "duration": 206,
    "start_time": "2022-12-20T20:19:12.465Z"
   },
   {
    "duration": 59,
    "start_time": "2022-12-20T20:19:45.248Z"
   },
   {
    "duration": 209,
    "start_time": "2022-12-20T20:20:03.042Z"
   },
   {
    "duration": 217,
    "start_time": "2022-12-20T20:21:04.842Z"
   },
   {
    "duration": 42,
    "start_time": "2022-12-20T20:21:37.635Z"
   },
   {
    "duration": 589,
    "start_time": "2022-12-20T20:21:59.809Z"
   },
   {
    "duration": 544,
    "start_time": "2022-12-20T20:24:43.395Z"
   },
   {
    "duration": 547,
    "start_time": "2022-12-20T20:27:34.471Z"
   },
   {
    "duration": 570,
    "start_time": "2022-12-20T20:29:10.865Z"
   },
   {
    "duration": 604,
    "start_time": "2022-12-20T20:29:18.488Z"
   },
   {
    "duration": 517,
    "start_time": "2022-12-20T20:30:05.247Z"
   },
   {
    "duration": 0,
    "start_time": "2022-12-20T20:36:01.236Z"
   },
   {
    "duration": 16325,
    "start_time": "2022-12-20T20:36:08.685Z"
   },
   {
    "duration": 97263,
    "start_time": "2022-12-20T20:36:38.823Z"
   },
   {
    "duration": 55329,
    "start_time": "2022-12-20T20:41:00.012Z"
   },
   {
    "duration": 52697,
    "start_time": "2022-12-20T20:42:48.219Z"
   },
   {
    "duration": 529,
    "start_time": "2022-12-20T20:47:33.155Z"
   },
   {
    "duration": 542,
    "start_time": "2022-12-20T20:47:54.376Z"
   },
   {
    "duration": 537,
    "start_time": "2022-12-20T20:48:35.556Z"
   },
   {
    "duration": 356,
    "start_time": "2022-12-20T20:50:44.260Z"
   },
   {
    "duration": 373,
    "start_time": "2022-12-20T20:51:07.090Z"
   },
   {
    "duration": 628,
    "start_time": "2022-12-20T20:52:23.877Z"
   },
   {
    "duration": 9951,
    "start_time": "2022-12-20T20:54:50.238Z"
   },
   {
    "duration": 582,
    "start_time": "2022-12-20T20:55:30.180Z"
   },
   {
    "duration": 13922,
    "start_time": "2022-12-20T20:56:25.530Z"
   },
   {
    "duration": 559,
    "start_time": "2022-12-20T20:57:15.631Z"
   },
   {
    "duration": 12,
    "start_time": "2022-12-20T20:58:10.830Z"
   },
   {
    "duration": 5,
    "start_time": "2022-12-20T20:58:12.831Z"
   },
   {
    "duration": 17,
    "start_time": "2022-12-20T20:59:38.953Z"
   },
   {
    "duration": 14,
    "start_time": "2022-12-20T21:00:12.244Z"
   },
   {
    "duration": 13,
    "start_time": "2022-12-20T21:00:31.288Z"
   },
   {
    "duration": 108,
    "start_time": "2022-12-20T21:00:46.882Z"
   },
   {
    "duration": 92,
    "start_time": "2022-12-20T21:00:57.734Z"
   },
   {
    "duration": 20,
    "start_time": "2022-12-20T21:02:09.502Z"
   },
   {
    "duration": 110,
    "start_time": "2022-12-20T21:02:22.875Z"
   },
   {
    "duration": 7,
    "start_time": "2022-12-20T21:03:00.556Z"
   },
   {
    "duration": 108,
    "start_time": "2022-12-20T21:03:03.118Z"
   },
   {
    "duration": 121,
    "start_time": "2022-12-20T21:07:32.331Z"
   },
   {
    "duration": 112,
    "start_time": "2022-12-20T21:07:38.747Z"
   },
   {
    "duration": 110,
    "start_time": "2022-12-20T21:07:48.381Z"
   },
   {
    "duration": 56,
    "start_time": "2022-12-20T21:08:33.757Z"
   }
  ],
  "kernelspec": {
   "display_name": "Python 3 (ipykernel)",
   "language": "python",
   "name": "python3"
  },
  "language_info": {
   "codemirror_mode": {
    "name": "ipython",
    "version": 3
   },
   "file_extension": ".py",
   "mimetype": "text/x-python",
   "name": "python",
   "nbconvert_exporter": "python",
   "pygments_lexer": "ipython3",
   "version": "3.9.5"
  },
  "toc": {
   "base_numbering": 1,
   "nav_menu": {},
   "number_sections": true,
   "sideBar": true,
   "skip_h1_title": true,
   "title_cell": "Table of Contents",
   "title_sidebar": "Contents",
   "toc_cell": false,
   "toc_position": {},
   "toc_section_display": true,
   "toc_window_display": false
  }
 },
 "nbformat": 4,
 "nbformat_minor": 2
}
