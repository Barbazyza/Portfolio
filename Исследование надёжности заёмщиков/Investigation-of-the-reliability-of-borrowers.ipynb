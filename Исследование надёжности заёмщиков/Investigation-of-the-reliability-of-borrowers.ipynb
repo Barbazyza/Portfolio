{
 "cells": [
  {
   "cell_type": "markdown",
   "id": "dec5d626",
   "metadata": {},
   "source": [
    "## Обзор данных"
   ]
  },
  {
   "cell_type": "code",
   "execution_count": 1,
   "id": "402d1760",
   "metadata": {},
   "outputs": [],
   "source": [
    "import pandas as pd #вызов библиотеки"
   ]
  },
  {
   "cell_type": "code",
   "execution_count": 3,
   "id": "c3205caa",
   "metadata": {},
   "outputs": [
    {
     "data": {
      "text/html": [
       "<div>\n",
       "<style scoped>\n",
       "    .dataframe tbody tr th:only-of-type {\n",
       "        vertical-align: middle;\n",
       "    }\n",
       "\n",
       "    .dataframe tbody tr th {\n",
       "        vertical-align: top;\n",
       "    }\n",
       "\n",
       "    .dataframe thead th {\n",
       "        text-align: right;\n",
       "    }\n",
       "</style>\n",
       "<table border=\"1\" class=\"dataframe\">\n",
       "  <thead>\n",
       "    <tr style=\"text-align: right;\">\n",
       "      <th></th>\n",
       "      <th>children</th>\n",
       "      <th>days_employed</th>\n",
       "      <th>dob_years</th>\n",
       "      <th>education</th>\n",
       "      <th>education_id</th>\n",
       "      <th>family_status</th>\n",
       "      <th>family_status_id</th>\n",
       "      <th>gender</th>\n",
       "      <th>income_type</th>\n",
       "      <th>debt</th>\n",
       "      <th>total_income</th>\n",
       "      <th>purpose</th>\n",
       "    </tr>\n",
       "  </thead>\n",
       "  <tbody>\n",
       "    <tr>\n",
       "      <th>0</th>\n",
       "      <td>1</td>\n",
       "      <td>-8437.673028</td>\n",
       "      <td>42</td>\n",
       "      <td>высшее</td>\n",
       "      <td>0</td>\n",
       "      <td>женат / замужем</td>\n",
       "      <td>0</td>\n",
       "      <td>F</td>\n",
       "      <td>сотрудник</td>\n",
       "      <td>0</td>\n",
       "      <td>253875.639453</td>\n",
       "      <td>покупка жилья</td>\n",
       "    </tr>\n",
       "    <tr>\n",
       "      <th>1</th>\n",
       "      <td>1</td>\n",
       "      <td>-4024.803754</td>\n",
       "      <td>36</td>\n",
       "      <td>среднее</td>\n",
       "      <td>1</td>\n",
       "      <td>женат / замужем</td>\n",
       "      <td>0</td>\n",
       "      <td>F</td>\n",
       "      <td>сотрудник</td>\n",
       "      <td>0</td>\n",
       "      <td>112080.014102</td>\n",
       "      <td>приобретение автомобиля</td>\n",
       "    </tr>\n",
       "    <tr>\n",
       "      <th>2</th>\n",
       "      <td>0</td>\n",
       "      <td>-5623.422610</td>\n",
       "      <td>33</td>\n",
       "      <td>Среднее</td>\n",
       "      <td>1</td>\n",
       "      <td>женат / замужем</td>\n",
       "      <td>0</td>\n",
       "      <td>M</td>\n",
       "      <td>сотрудник</td>\n",
       "      <td>0</td>\n",
       "      <td>145885.952297</td>\n",
       "      <td>покупка жилья</td>\n",
       "    </tr>\n",
       "    <tr>\n",
       "      <th>3</th>\n",
       "      <td>3</td>\n",
       "      <td>-4124.747207</td>\n",
       "      <td>32</td>\n",
       "      <td>среднее</td>\n",
       "      <td>1</td>\n",
       "      <td>женат / замужем</td>\n",
       "      <td>0</td>\n",
       "      <td>M</td>\n",
       "      <td>сотрудник</td>\n",
       "      <td>0</td>\n",
       "      <td>267628.550329</td>\n",
       "      <td>дополнительное образование</td>\n",
       "    </tr>\n",
       "    <tr>\n",
       "      <th>4</th>\n",
       "      <td>0</td>\n",
       "      <td>340266.072047</td>\n",
       "      <td>53</td>\n",
       "      <td>среднее</td>\n",
       "      <td>1</td>\n",
       "      <td>гражданский брак</td>\n",
       "      <td>1</td>\n",
       "      <td>F</td>\n",
       "      <td>пенсионер</td>\n",
       "      <td>0</td>\n",
       "      <td>158616.077870</td>\n",
       "      <td>сыграть свадьбу</td>\n",
       "    </tr>\n",
       "    <tr>\n",
       "      <th>...</th>\n",
       "      <td>...</td>\n",
       "      <td>...</td>\n",
       "      <td>...</td>\n",
       "      <td>...</td>\n",
       "      <td>...</td>\n",
       "      <td>...</td>\n",
       "      <td>...</td>\n",
       "      <td>...</td>\n",
       "      <td>...</td>\n",
       "      <td>...</td>\n",
       "      <td>...</td>\n",
       "      <td>...</td>\n",
       "    </tr>\n",
       "    <tr>\n",
       "      <th>21520</th>\n",
       "      <td>1</td>\n",
       "      <td>-4529.316663</td>\n",
       "      <td>43</td>\n",
       "      <td>среднее</td>\n",
       "      <td>1</td>\n",
       "      <td>гражданский брак</td>\n",
       "      <td>1</td>\n",
       "      <td>F</td>\n",
       "      <td>компаньон</td>\n",
       "      <td>0</td>\n",
       "      <td>224791.862382</td>\n",
       "      <td>операции с жильем</td>\n",
       "    </tr>\n",
       "    <tr>\n",
       "      <th>21521</th>\n",
       "      <td>0</td>\n",
       "      <td>343937.404131</td>\n",
       "      <td>67</td>\n",
       "      <td>среднее</td>\n",
       "      <td>1</td>\n",
       "      <td>женат / замужем</td>\n",
       "      <td>0</td>\n",
       "      <td>F</td>\n",
       "      <td>пенсионер</td>\n",
       "      <td>0</td>\n",
       "      <td>155999.806512</td>\n",
       "      <td>сделка с автомобилем</td>\n",
       "    </tr>\n",
       "    <tr>\n",
       "      <th>21522</th>\n",
       "      <td>1</td>\n",
       "      <td>-2113.346888</td>\n",
       "      <td>38</td>\n",
       "      <td>среднее</td>\n",
       "      <td>1</td>\n",
       "      <td>гражданский брак</td>\n",
       "      <td>1</td>\n",
       "      <td>M</td>\n",
       "      <td>сотрудник</td>\n",
       "      <td>1</td>\n",
       "      <td>89672.561153</td>\n",
       "      <td>недвижимость</td>\n",
       "    </tr>\n",
       "    <tr>\n",
       "      <th>21523</th>\n",
       "      <td>3</td>\n",
       "      <td>-3112.481705</td>\n",
       "      <td>38</td>\n",
       "      <td>среднее</td>\n",
       "      <td>1</td>\n",
       "      <td>женат / замужем</td>\n",
       "      <td>0</td>\n",
       "      <td>M</td>\n",
       "      <td>сотрудник</td>\n",
       "      <td>1</td>\n",
       "      <td>244093.050500</td>\n",
       "      <td>на покупку своего автомобиля</td>\n",
       "    </tr>\n",
       "    <tr>\n",
       "      <th>21524</th>\n",
       "      <td>2</td>\n",
       "      <td>-1984.507589</td>\n",
       "      <td>40</td>\n",
       "      <td>среднее</td>\n",
       "      <td>1</td>\n",
       "      <td>женат / замужем</td>\n",
       "      <td>0</td>\n",
       "      <td>F</td>\n",
       "      <td>сотрудник</td>\n",
       "      <td>0</td>\n",
       "      <td>82047.418899</td>\n",
       "      <td>на покупку автомобиля</td>\n",
       "    </tr>\n",
       "  </tbody>\n",
       "</table>\n",
       "<p>21525 rows × 12 columns</p>\n",
       "</div>"
      ],
      "text/plain": [
       "       children  days_employed  dob_years education  education_id  \\\n",
       "0             1   -8437.673028         42    высшее             0   \n",
       "1             1   -4024.803754         36   среднее             1   \n",
       "2             0   -5623.422610         33   Среднее             1   \n",
       "3             3   -4124.747207         32   среднее             1   \n",
       "4             0  340266.072047         53   среднее             1   \n",
       "...         ...            ...        ...       ...           ...   \n",
       "21520         1   -4529.316663         43   среднее             1   \n",
       "21521         0  343937.404131         67   среднее             1   \n",
       "21522         1   -2113.346888         38   среднее             1   \n",
       "21523         3   -3112.481705         38   среднее             1   \n",
       "21524         2   -1984.507589         40   среднее             1   \n",
       "\n",
       "          family_status  family_status_id gender income_type  debt  \\\n",
       "0       женат / замужем                 0      F   сотрудник     0   \n",
       "1       женат / замужем                 0      F   сотрудник     0   \n",
       "2       женат / замужем                 0      M   сотрудник     0   \n",
       "3       женат / замужем                 0      M   сотрудник     0   \n",
       "4      гражданский брак                 1      F   пенсионер     0   \n",
       "...                 ...               ...    ...         ...   ...   \n",
       "21520  гражданский брак                 1      F   компаньон     0   \n",
       "21521   женат / замужем                 0      F   пенсионер     0   \n",
       "21522  гражданский брак                 1      M   сотрудник     1   \n",
       "21523   женат / замужем                 0      M   сотрудник     1   \n",
       "21524   женат / замужем                 0      F   сотрудник     0   \n",
       "\n",
       "        total_income                       purpose  \n",
       "0      253875.639453                 покупка жилья  \n",
       "1      112080.014102       приобретение автомобиля  \n",
       "2      145885.952297                 покупка жилья  \n",
       "3      267628.550329    дополнительное образование  \n",
       "4      158616.077870               сыграть свадьбу  \n",
       "...              ...                           ...  \n",
       "21520  224791.862382             операции с жильем  \n",
       "21521  155999.806512          сделка с автомобилем  \n",
       "21522   89672.561153                  недвижимость  \n",
       "21523  244093.050500  на покупку своего автомобиля  \n",
       "21524   82047.418899         на покупку автомобиля  \n",
       "\n",
       "[21525 rows x 12 columns]"
      ]
     },
     "execution_count": 3,
     "metadata": {},
     "output_type": "execute_result"
    }
   ],
   "source": [
    "data #просмотр датафрейма"
   ]
  },
  {
   "cell_type": "code",
   "execution_count": 4,
   "id": "8e48846f",
   "metadata": {},
   "outputs": [
    {
     "name": "stdout",
     "output_type": "stream",
     "text": [
      "<class 'pandas.core.frame.DataFrame'>\n",
      "RangeIndex: 21525 entries, 0 to 21524\n",
      "Data columns (total 12 columns):\n",
      " #   Column            Non-Null Count  Dtype  \n",
      "---  ------            --------------  -----  \n",
      " 0   children          21525 non-null  int64  \n",
      " 1   days_employed     19351 non-null  float64\n",
      " 2   dob_years         21525 non-null  int64  \n",
      " 3   education         21525 non-null  object \n",
      " 4   education_id      21525 non-null  int64  \n",
      " 5   family_status     21525 non-null  object \n",
      " 6   family_status_id  21525 non-null  int64  \n",
      " 7   gender            21525 non-null  object \n",
      " 8   income_type       21525 non-null  object \n",
      " 9   debt              21525 non-null  int64  \n",
      " 10  total_income      19351 non-null  float64\n",
      " 11  purpose           21525 non-null  object \n",
      "dtypes: float64(2), int64(5), object(5)\n",
      "memory usage: 2.0+ MB\n"
     ]
    }
   ],
   "source": [
    "data.info() #вызов информации по датафрейму"
   ]
  },
  {
   "cell_type": "markdown",
   "id": "4dd79013",
   "metadata": {},
   "source": [
    "Всего 21525 строк. Три типа данных, объект(`object`), целое число(`int64`), дробное число(`float64`). \n",
    "Типы данных совпадают с их фактическим видом."
   ]
  },
  {
   "cell_type": "markdown",
   "id": "433e0625",
   "metadata": {},
   "source": [
    "**Столбцы:**\n",
    "    \n",
    "`children` — количество детей в семье\n",
    "\n",
    "`days_employed` — общий трудовой стаж в днях\n",
    "\n",
    "`dob_years` — возраст клиента в годах\n",
    "\n",
    "`education` — уровень образования клиента\n",
    "\n",
    "`education_id` — идентификатор уровня образования\n",
    "\n",
    "`family_status` — семейное положение\n",
    "\n",
    "`family_status_id` — идентификатор семейного положения\n",
    "\n",
    "`gender` — пол клиента\n",
    "\n",
    "`income_type` — тип занятости\n",
    "\n",
    "`debt` — имел ли задолженность по возврату кредитов\n",
    "\n",
    "`total_income` — ежемесячный доход\n",
    "\n",
    "`purpose` — цель получения кредита"
   ]
  },
  {
   "cell_type": "markdown",
   "id": "47f368df",
   "metadata": {},
   "source": [
    "##  Предобработка данных\n",
    "### Заполнение пропусков"
   ]
  },
  {
   "cell_type": "code",
   "execution_count": 5,
   "id": "6cf12c8d",
   "metadata": {},
   "outputs": [
    {
     "data": {
      "text/plain": [
       "children               0\n",
       "days_employed       2174\n",
       "dob_years              0\n",
       "education              0\n",
       "education_id           0\n",
       "family_status          0\n",
       "family_status_id       0\n",
       "gender                 0\n",
       "income_type            0\n",
       "debt                   0\n",
       "total_income        2174\n",
       "purpose                0\n",
       "dtype: int64"
      ]
     },
     "execution_count": 5,
     "metadata": {},
     "output_type": "execute_result"
    }
   ],
   "source": [
    "data.isna().sum() # нахождения колличества пропусков, по столбцам"
   ]
  },
  {
   "cell_type": "markdown",
   "id": "c7ffd5ed",
   "metadata": {},
   "source": [
    "Пропуски присутствуют в столбце: days_employed, total_income. \n",
    "\n",
    "Они занимают 10% от значений столбца, это значительная часть данных. Лучше их не удалять а попробовать подставить значения."
   ]
  },
  {
   "cell_type": "code",
   "execution_count": 6,
   "id": "00fcee62",
   "metadata": {},
   "outputs": [],
   "source": [
    "missing_values = data[['days_employed','total_income']] #соединение столбцов для анализа"
   ]
  },
  {
   "cell_type": "code",
   "execution_count": 7,
   "id": "9ecb4078",
   "metadata": {},
   "outputs": [
    {
     "data": {
      "text/html": [
       "<div>\n",
       "<style scoped>\n",
       "    .dataframe tbody tr th:only-of-type {\n",
       "        vertical-align: middle;\n",
       "    }\n",
       "\n",
       "    .dataframe tbody tr th {\n",
       "        vertical-align: top;\n",
       "    }\n",
       "\n",
       "    .dataframe thead th {\n",
       "        text-align: right;\n",
       "    }\n",
       "</style>\n",
       "<table border=\"1\" class=\"dataframe\">\n",
       "  <thead>\n",
       "    <tr style=\"text-align: right;\">\n",
       "      <th></th>\n",
       "      <th>days_employed</th>\n",
       "      <th>total_income</th>\n",
       "    </tr>\n",
       "  </thead>\n",
       "  <tbody>\n",
       "    <tr>\n",
       "      <th>0</th>\n",
       "      <td>-8437.673028</td>\n",
       "      <td>253875.639453</td>\n",
       "    </tr>\n",
       "    <tr>\n",
       "      <th>1</th>\n",
       "      <td>-4024.803754</td>\n",
       "      <td>112080.014102</td>\n",
       "    </tr>\n",
       "    <tr>\n",
       "      <th>2</th>\n",
       "      <td>-5623.422610</td>\n",
       "      <td>145885.952297</td>\n",
       "    </tr>\n",
       "    <tr>\n",
       "      <th>3</th>\n",
       "      <td>-4124.747207</td>\n",
       "      <td>267628.550329</td>\n",
       "    </tr>\n",
       "    <tr>\n",
       "      <th>4</th>\n",
       "      <td>340266.072047</td>\n",
       "      <td>158616.077870</td>\n",
       "    </tr>\n",
       "    <tr>\n",
       "      <th>5</th>\n",
       "      <td>-926.185831</td>\n",
       "      <td>255763.565419</td>\n",
       "    </tr>\n",
       "    <tr>\n",
       "      <th>6</th>\n",
       "      <td>-2879.202052</td>\n",
       "      <td>240525.971920</td>\n",
       "    </tr>\n",
       "    <tr>\n",
       "      <th>7</th>\n",
       "      <td>-152.779569</td>\n",
       "      <td>135823.934197</td>\n",
       "    </tr>\n",
       "    <tr>\n",
       "      <th>8</th>\n",
       "      <td>-6929.865299</td>\n",
       "      <td>95856.832424</td>\n",
       "    </tr>\n",
       "    <tr>\n",
       "      <th>9</th>\n",
       "      <td>-2188.756445</td>\n",
       "      <td>144425.938277</td>\n",
       "    </tr>\n",
       "    <tr>\n",
       "      <th>10</th>\n",
       "      <td>-4171.483647</td>\n",
       "      <td>113943.491460</td>\n",
       "    </tr>\n",
       "    <tr>\n",
       "      <th>11</th>\n",
       "      <td>-792.701887</td>\n",
       "      <td>77069.234271</td>\n",
       "    </tr>\n",
       "    <tr>\n",
       "      <th>12</th>\n",
       "      <td>NaN</td>\n",
       "      <td>NaN</td>\n",
       "    </tr>\n",
       "    <tr>\n",
       "      <th>13</th>\n",
       "      <td>-1846.641941</td>\n",
       "      <td>130458.228857</td>\n",
       "    </tr>\n",
       "  </tbody>\n",
       "</table>\n",
       "</div>"
      ],
      "text/plain": [
       "    days_employed   total_income\n",
       "0    -8437.673028  253875.639453\n",
       "1    -4024.803754  112080.014102\n",
       "2    -5623.422610  145885.952297\n",
       "3    -4124.747207  267628.550329\n",
       "4   340266.072047  158616.077870\n",
       "5     -926.185831  255763.565419\n",
       "6    -2879.202052  240525.971920\n",
       "7     -152.779569  135823.934197\n",
       "8    -6929.865299   95856.832424\n",
       "9    -2188.756445  144425.938277\n",
       "10   -4171.483647  113943.491460\n",
       "11    -792.701887   77069.234271\n",
       "12            NaN            NaN\n",
       "13   -1846.641941  130458.228857"
      ]
     },
     "metadata": {},
     "output_type": "display_data"
    }
   ],
   "source": [
    "display(missing_values.head(14)) #сопоставление данных двух столбцов"
   ]
  },
  {
   "cell_type": "markdown",
   "id": "9a9111f0",
   "metadata": {},
   "source": [
    "На основе этого результата можно сделать предположение, что отсутствующие значения не хаотичны, их недостает в обоих столбцах одновременно. Скорее всего из-за отсутствия информации по определенному клиенту."
   ]
  },
  {
   "cell_type": "markdown",
   "id": "08665f26",
   "metadata": {},
   "source": [
    "Заполнение пропусков производится по средством нахождения медианы. Это лучший способ для нахождения \"среднего\" значения количественных переменных, так как значения могут сильно отличатся друг от друга."
   ]
  },
  {
   "cell_type": "code",
   "execution_count": 8,
   "id": "b07012d9",
   "metadata": {},
   "outputs": [],
   "source": [
    "employed_median = data['days_employed'].median() #вызов медианы по столбцу 'days_employed'"
   ]
  },
  {
   "cell_type": "code",
   "execution_count": 9,
   "id": "8672c513",
   "metadata": {},
   "outputs": [],
   "source": [
    "income_median = data['total_income'].median() #вызов медианы по столбцу 'total_income'"
   ]
  },
  {
   "cell_type": "code",
   "execution_count": 10,
   "id": "72bfb317",
   "metadata": {},
   "outputs": [],
   "source": [
    "data['days_employed'] = data['days_employed'].fillna(employed_median) \n",
    "#замена отсутствующих значений в столбце 'days_employed'"
   ]
  },
  {
   "cell_type": "code",
   "execution_count": 11,
   "id": "52fd36f6",
   "metadata": {},
   "outputs": [],
   "source": [
    "data['total_income'] = data['total_income'].fillna(income_median) \n",
    "#замена отсутствующих значений в столбце 'total_income'"
   ]
  },
  {
   "cell_type": "code",
   "execution_count": 12,
   "id": "2fa10562",
   "metadata": {},
   "outputs": [
    {
     "data": {
      "text/plain": [
       "children            0\n",
       "days_employed       0\n",
       "dob_years           0\n",
       "education           0\n",
       "education_id        0\n",
       "family_status       0\n",
       "family_status_id    0\n",
       "gender              0\n",
       "income_type         0\n",
       "debt                0\n",
       "total_income        0\n",
       "purpose             0\n",
       "dtype: int64"
      ]
     },
     "execution_count": 12,
     "metadata": {},
     "output_type": "execute_result"
    }
   ],
   "source": [
    "data.isna().sum() # проверка колличества пропусков, по столбцам"
   ]
  },
  {
   "cell_type": "markdown",
   "id": "5d4c77d6",
   "metadata": {},
   "source": [
    "### Проверка данных на аномалии и исправления."
   ]
  },
  {
   "cell_type": "markdown",
   "id": "53f45b06",
   "metadata": {},
   "source": [
    "При заполнении пропусков, была замеченна аномалия данных в столбце 'days_employed'. Он должен был отражать общий трудовой стаж в днях, но имеет отрицательные числа. Так же присутствуют полоджительные числа,но они имеют слишком большое значение. По этому, положительные числа скорее всего отображены в часах."
   ]
  },
  {
   "cell_type": "markdown",
   "id": "1a85b8f9",
   "metadata": {},
   "source": [
    "Вероятно, изначально данные вводились по какой-то определенной логике, но при переводе в таблицу, эта логика перестала прослеживатся."
   ]
  },
  {
   "cell_type": "code",
   "execution_count": 13,
   "id": "3f4d426e",
   "metadata": {},
   "outputs": [
    {
     "data": {
      "text/plain": [
       "0     -8437.673028\n",
       "1     -4024.803754\n",
       "2     -5623.422610\n",
       "3     -4124.747207\n",
       "4    340266.072047\n",
       "5      -926.185831\n",
       "6     -2879.202052\n",
       "7      -152.779569\n",
       "8     -6929.865299\n",
       "9     -2188.756445\n",
       "Name: days_employed, dtype: float64"
      ]
     },
     "execution_count": 13,
     "metadata": {},
     "output_type": "execute_result"
    }
   ],
   "source": [
    "data['days_employed'].head(10) #просмотр таблицы с аномалией"
   ]
  },
  {
   "cell_type": "markdown",
   "id": "55b02ab5",
   "metadata": {},
   "source": [
    "Спорные данные присутствуют в сторбце 'children'"
   ]
  },
  {
   "cell_type": "code",
   "execution_count": 14,
   "id": "82616ff1",
   "metadata": {},
   "outputs": [
    {
     "data": {
      "text/plain": [
       " 0     14149\n",
       " 1      4818\n",
       " 2      2055\n",
       " 3       330\n",
       " 20       76\n",
       "-1        47\n",
       " 4        41\n",
       " 5         9\n",
       "Name: children, dtype: int64"
      ]
     },
     "execution_count": 14,
     "metadata": {},
     "output_type": "execute_result"
    }
   ],
   "source": [
    "data['children'].value_counts() #подсчет уникальных значений в столбце 'children'"
   ]
  },
  {
   "cell_type": "markdown",
   "id": "e73102cc",
   "metadata": {},
   "source": [
    "В семье не может быть отрицательного колличества дитей, а в данном датафрейме у 47 клиентов -1 ребенок(скорее всего здесь ошибка и минуса быть не должно). Так же у 76 клиентов, по 20 детей, что тоже сомнительно (скорее всего должно было быть 2 ребенка)."
   ]
  },
  {
   "cell_type": "code",
   "execution_count": 15,
   "id": "d0e650f1",
   "metadata": {},
   "outputs": [
    {
     "data": {
      "text/plain": [
       "0.5714285714285714"
      ]
     },
     "execution_count": 15,
     "metadata": {},
     "output_type": "execute_result"
    }
   ],
   "source": [
    "(76+47)*100/21525 #подсчет процентной состовляющей сомнительных данных"
   ]
  },
  {
   "cell_type": "markdown",
   "id": "187eb4b8",
   "metadata": {},
   "source": [
    "Так как эти клиенты составляют менее 1% от всех, они не повлияют на исходный результат, их можно удалить.\n"
   ]
  },
  {
   "cell_type": "code",
   "execution_count": 16,
   "id": "bcbcb7f5",
   "metadata": {},
   "outputs": [],
   "source": [
    "data = data.loc[(data['children'] != -1)&(data['children'] != 20)] #удаляем строки со значением -1"
   ]
  },
  {
   "cell_type": "code",
   "execution_count": 17,
   "id": "f88bd4bd",
   "metadata": {},
   "outputs": [
    {
     "data": {
      "text/plain": [
       "0    14149\n",
       "1     4818\n",
       "2     2055\n",
       "3      330\n",
       "4       41\n",
       "5        9\n",
       "Name: children, dtype: int64"
      ]
     },
     "execution_count": 17,
     "metadata": {},
     "output_type": "execute_result"
    }
   ],
   "source": [
    "data['children'].value_counts() #проверка изменений"
   ]
  },
  {
   "cell_type": "markdown",
   "id": "db1952f8",
   "metadata": {},
   "source": [
    "Так же спорные данные присутствуют в столбце 'gender'."
   ]
  },
  {
   "cell_type": "code",
   "execution_count": 18,
   "id": "4869fa93",
   "metadata": {},
   "outputs": [
    {
     "data": {
      "text/plain": [
       "F      14154\n",
       "M       7247\n",
       "XNA        1\n",
       "Name: gender, dtype: int64"
      ]
     },
     "execution_count": 18,
     "metadata": {},
     "output_type": "execute_result"
    }
   ],
   "source": [
    "data['gender'].value_counts() #подсчет уникальных значений в столбце 'gender'"
   ]
  },
  {
   "cell_type": "markdown",
   "id": "1b34318f",
   "metadata": {},
   "source": [
    "Так как спорное значение одно, его тоже можно удалить не навредив датасету."
   ]
  },
  {
   "cell_type": "code",
   "execution_count": 19,
   "id": "c7ed5073",
   "metadata": {},
   "outputs": [],
   "source": [
    "data = data.loc[(data['gender'] != 'XNA')] #удаляем строки со значением XNA"
   ]
  },
  {
   "cell_type": "code",
   "execution_count": 20,
   "id": "1795f846",
   "metadata": {},
   "outputs": [
    {
     "data": {
      "text/plain": [
       "F    14154\n",
       "M     7247\n",
       "Name: gender, dtype: int64"
      ]
     },
     "execution_count": 20,
     "metadata": {},
     "output_type": "execute_result"
    }
   ],
   "source": [
    "data['gender'].value_counts() #проверка изменений"
   ]
  },
  {
   "cell_type": "code",
   "execution_count": 21,
   "id": "9c1c5d0b",
   "metadata": {},
   "outputs": [],
   "source": [
    "data = data.reset_index(drop=True) #присвоение новых индексов"
   ]
  },
  {
   "cell_type": "code",
   "execution_count": 22,
   "id": "e5ab0b9b",
   "metadata": {},
   "outputs": [
    {
     "name": "stdout",
     "output_type": "stream",
     "text": [
      "<class 'pandas.core.frame.DataFrame'>\n",
      "RangeIndex: 21401 entries, 0 to 21400\n",
      "Data columns (total 12 columns):\n",
      " #   Column            Non-Null Count  Dtype  \n",
      "---  ------            --------------  -----  \n",
      " 0   children          21401 non-null  int64  \n",
      " 1   days_employed     21401 non-null  float64\n",
      " 2   dob_years         21401 non-null  int64  \n",
      " 3   education         21401 non-null  object \n",
      " 4   education_id      21401 non-null  int64  \n",
      " 5   family_status     21401 non-null  object \n",
      " 6   family_status_id  21401 non-null  int64  \n",
      " 7   gender            21401 non-null  object \n",
      " 8   income_type       21401 non-null  object \n",
      " 9   debt              21401 non-null  int64  \n",
      " 10  total_income      21401 non-null  float64\n",
      " 11  purpose           21401 non-null  object \n",
      "dtypes: float64(2), int64(5), object(5)\n",
      "memory usage: 2.0+ MB\n"
     ]
    }
   ],
   "source": [
    "data.info() #проверка изменений в датафрейме"
   ]
  },
  {
   "cell_type": "markdown",
   "id": "eb390292",
   "metadata": {},
   "source": [
    "### Изменение типов данных."
   ]
  },
  {
   "cell_type": "markdown",
   "id": "c02ef8d0",
   "metadata": {},
   "source": [
    "Для столбца 'total_income' - ежемесячный доход, не обязательно иметь числа после запятой. Так как будут информативны и целочисленные значения."
   ]
  },
  {
   "cell_type": "code",
   "execution_count": 23,
   "id": "e731e3b5",
   "metadata": {},
   "outputs": [],
   "source": [
    "data['total_income'] = data['total_income'].astype('int64') #изменение типа данных стобца на целочисленное значение"
   ]
  },
  {
   "cell_type": "markdown",
   "id": "7b4457fa",
   "metadata": {},
   "source": [
    "### Формирование дополнительных датафреймов словарей, декомпозиция исходного датафрейма."
   ]
  },
  {
   "cell_type": "markdown",
   "id": "4475fa85",
   "metadata": {},
   "source": [
    "Чтобы оптимизировать таблицу, можно соединить несколько столбцов: education + education_id; family_status + family_status_id. Оставив в изначальной таблице только education_id и family_status_id."
   ]
  },
  {
   "cell_type": "code",
   "execution_count": 24,
   "id": "ea83c0af",
   "metadata": {},
   "outputs": [],
   "source": [
    "education_id = data[['education','education_id']] #объединяем столбцы education и education_id в новый датафрейм"
   ]
  },
  {
   "cell_type": "code",
   "execution_count": 25,
   "id": "b3cbc7d9",
   "metadata": {},
   "outputs": [],
   "source": [
    "family_status_id = data[['family_status','family_status_id']] \n",
    "#объединяем столбцы family_status и family_status_id в новый датафрейм"
   ]
  },
  {
   "cell_type": "code",
   "execution_count": 26,
   "id": "cb937843",
   "metadata": {
    "scrolled": true
   },
   "outputs": [
    {
     "data": {
      "text/plain": [
       "0         высшее\n",
       "1        среднее\n",
       "2        Среднее\n",
       "3        среднее\n",
       "4        среднее\n",
       "          ...   \n",
       "21396    среднее\n",
       "21397    среднее\n",
       "21398    среднее\n",
       "21399    среднее\n",
       "21400    среднее\n",
       "Name: education, Length: 21401, dtype: object"
      ]
     },
     "execution_count": 26,
     "metadata": {},
     "output_type": "execute_result"
    }
   ],
   "source": [
    "data.pop('education') # удаляем лишний столбец education"
   ]
  },
  {
   "cell_type": "code",
   "execution_count": 27,
   "id": "fe9eea88",
   "metadata": {},
   "outputs": [
    {
     "data": {
      "text/plain": [
       "0         женат / замужем\n",
       "1         женат / замужем\n",
       "2         женат / замужем\n",
       "3         женат / замужем\n",
       "4        гражданский брак\n",
       "               ...       \n",
       "21396    гражданский брак\n",
       "21397     женат / замужем\n",
       "21398    гражданский брак\n",
       "21399     женат / замужем\n",
       "21400     женат / замужем\n",
       "Name: family_status, Length: 21401, dtype: object"
      ]
     },
     "execution_count": 27,
     "metadata": {},
     "output_type": "execute_result"
    }
   ],
   "source": [
    "data.pop('family_status') # удаляем лишний столбец family_status"
   ]
  },
  {
   "cell_type": "markdown",
   "id": "419f9071",
   "metadata": {},
   "source": [
    "### Категоризация дохода."
   ]
  },
  {
   "cell_type": "markdown",
   "id": "923af546",
   "metadata": {},
   "source": [
    "Что бы было легче читать данные, столбец дохода котигоризируем."
   ]
  },
  {
   "cell_type": "code",
   "execution_count": 28,
   "id": "b83aa8c6",
   "metadata": {},
   "outputs": [],
   "source": [
    "def total_income_category(income): #создание функции котигоризирующей доход\n",
    "    if income <= 30000:\n",
    "        return 'E'\n",
    "    if 30001 <= income <= 50000:\n",
    "        return 'D'\n",
    "    if 50001 <= income <= 200000:\n",
    "        return 'C'\n",
    "    if 200001 <= income <= 1000000:\n",
    "        return 'B'\n",
    "    if 1000001 <= income:\n",
    "        return 'A'"
   ]
  },
  {
   "cell_type": "code",
   "execution_count": 29,
   "id": "a0d45150",
   "metadata": {},
   "outputs": [],
   "source": [
    "data['total_income_category'] = data['total_income'].apply(total_income_category) \n",
    "#запись получившихся котигорий в новый столбец"
   ]
  },
  {
   "cell_type": "code",
   "execution_count": 30,
   "id": "25208489",
   "metadata": {},
   "outputs": [
    {
     "data": {
      "text/plain": [
       "C    15993\n",
       "B     5012\n",
       "D      349\n",
       "A       25\n",
       "E       22\n",
       "Name: total_income_category, dtype: int64"
      ]
     },
     "execution_count": 30,
     "metadata": {},
     "output_type": "execute_result"
    }
   ],
   "source": [
    "data['total_income_category'].value_counts() #проверка получившихся значенний"
   ]
  },
  {
   "cell_type": "markdown",
   "id": "0b354cf3",
   "metadata": {},
   "source": [
    "### Категоризация целей кредита."
   ]
  },
  {
   "cell_type": "markdown",
   "id": "40cfd873",
   "metadata": {},
   "source": [
    "Так же, для упрощениея котигоризируем цели кредита."
   ]
  },
  {
   "cell_type": "code",
   "execution_count": 31,
   "id": "9746892e",
   "metadata": {},
   "outputs": [
    {
     "data": {
      "text/plain": [
       "свадьба                                   796\n",
       "на проведение свадьбы                     772\n",
       "сыграть свадьбу                           769\n",
       "операции с недвижимостью                  673\n",
       "покупка коммерческой недвижимости         661\n",
       "покупка жилья для сдачи                   651\n",
       "операции с жильем                         648\n",
       "операции с коммерческой недвижимостью     646\n",
       "жилье                                     642\n",
       "покупка жилья                             641\n",
       "покупка жилья для семьи                   640\n",
       "недвижимость                              632\n",
       "строительство собственной недвижимости    628\n",
       "операции со своей недвижимостью           626\n",
       "строительство жилой недвижимости          622\n",
       "строительство недвижимости                620\n",
       "покупка своего жилья                      619\n",
       "покупка недвижимости                      618\n",
       "ремонт жилью                              609\n",
       "покупка жилой недвижимости                603\n",
       "на покупку своего автомобиля              504\n",
       "заняться высшим образованием              496\n",
       "автомобиль                                492\n",
       "сделка с подержанным автомобилем          484\n",
       "автомобили                                476\n",
       "свой автомобиль                           475\n",
       "на покупку подержанного автомобиля        472\n",
       "на покупку автомобиля                     470\n",
       "приобретение автомобиля                   460\n",
       "дополнительное образование                457\n",
       "сделка с автомобилем                      455\n",
       "высшее образование                        447\n",
       "получение дополнительного образования     445\n",
       "образование                               442\n",
       "получение образования                     441\n",
       "профильное образование                    432\n",
       "получение высшего образования             425\n",
       "заняться образованием                     412\n",
       "Name: purpose, dtype: int64"
      ]
     },
     "execution_count": 31,
     "metadata": {},
     "output_type": "execute_result"
    }
   ],
   "source": [
    "data['purpose'].value_counts()#просмотр уникальных значений в столбце"
   ]
  },
  {
   "cell_type": "code",
   "execution_count": 32,
   "id": "904597a2",
   "metadata": {},
   "outputs": [],
   "source": [
    "def purpose_category(purpose):\n",
    "    if 'авто' in purpose:\n",
    "        return 'операции с автомобилем'\n",
    "    elif ('жил' in purpose) or ('недв' in purpose):\n",
    "        return 'операции с недвижимостью'\n",
    "    elif 'сва' in purpose:\n",
    "        return 'проведение свадьбы'\n",
    "    elif 'обр' in purpose:\n",
    "        return 'получение образования'\n",
    "    else:\n",
    "        return '...'"
   ]
  },
  {
   "cell_type": "code",
   "execution_count": 33,
   "id": "654c6c15",
   "metadata": {},
   "outputs": [],
   "source": [
    "data['purpose_category'] = data['purpose'].apply(purpose_category) #запись получившихся котигорий в новый столбец"
   ]
  },
  {
   "cell_type": "code",
   "execution_count": 34,
   "id": "d2955319",
   "metadata": {},
   "outputs": [
    {
     "data": {
      "text/plain": [
       "операции с недвижимостью    10779\n",
       "операции с автомобилем       4288\n",
       "получение образования        3997\n",
       "проведение свадьбы           2337\n",
       "Name: purpose_category, dtype: int64"
      ]
     },
     "execution_count": 34,
     "metadata": {},
     "output_type": "execute_result"
    }
   ],
   "source": [
    "data['purpose_category'].value_counts()  #проверка получившихся значенний"
   ]
  },
  {
   "cell_type": "markdown",
   "id": "5ced288c",
   "metadata": {},
   "source": [
    "### Удаление дубликатов."
   ]
  },
  {
   "cell_type": "code",
   "execution_count": 35,
   "id": "b6a13588",
   "metadata": {},
   "outputs": [
    {
     "data": {
      "text/plain": [
       "71"
      ]
     },
     "execution_count": 35,
     "metadata": {},
     "output_type": "execute_result"
    }
   ],
   "source": [
    "data.duplicated().sum() #поиск явных дубликатов с помощью duplicated()"
   ]
  },
  {
   "cell_type": "code",
   "execution_count": 36,
   "id": "4a9ba8c5",
   "metadata": {},
   "outputs": [],
   "source": [
    "data = data.drop_duplicates().reset_index() #удаление явных дубликатов с обновлением индексов"
   ]
  },
  {
   "cell_type": "code",
   "execution_count": 37,
   "id": "de83d479",
   "metadata": {},
   "outputs": [
    {
     "name": "stdout",
     "output_type": "stream",
     "text": [
      "<class 'pandas.core.frame.DataFrame'>\n",
      "RangeIndex: 21330 entries, 0 to 21329\n",
      "Data columns (total 13 columns):\n",
      " #   Column                 Non-Null Count  Dtype  \n",
      "---  ------                 --------------  -----  \n",
      " 0   index                  21330 non-null  int64  \n",
      " 1   children               21330 non-null  int64  \n",
      " 2   days_employed          21330 non-null  float64\n",
      " 3   dob_years              21330 non-null  int64  \n",
      " 4   education_id           21330 non-null  int64  \n",
      " 5   family_status_id       21330 non-null  int64  \n",
      " 6   gender                 21330 non-null  object \n",
      " 7   income_type            21330 non-null  object \n",
      " 8   debt                   21330 non-null  int64  \n",
      " 9   total_income           21330 non-null  int64  \n",
      " 10  purpose                21330 non-null  object \n",
      " 11  total_income_category  21330 non-null  object \n",
      " 12  purpose_category       21330 non-null  object \n",
      "dtypes: float64(1), int64(7), object(5)\n",
      "memory usage: 2.1+ MB\n"
     ]
    }
   ],
   "source": [
    "data.info()"
   ]
  },
  {
   "cell_type": "markdown",
   "id": "54cf7494",
   "metadata": {},
   "source": [
    "### Ответы на вопросы."
   ]
  },
  {
   "cell_type": "markdown",
   "id": "2c6bf585",
   "metadata": {},
   "source": [
    "#### Вопрос 1: Есть ли зависимость между количеством детей и возвратом кредита в срок?"
   ]
  },
  {
   "cell_type": "code",
   "execution_count": 38,
   "id": "f39ebe0f",
   "metadata": {},
   "outputs": [
    {
     "data": {
      "text/html": [
       "<div>\n",
       "<style scoped>\n",
       "    .dataframe tbody tr th:only-of-type {\n",
       "        vertical-align: middle;\n",
       "    }\n",
       "\n",
       "    .dataframe tbody tr th {\n",
       "        vertical-align: top;\n",
       "    }\n",
       "\n",
       "    .dataframe thead th {\n",
       "        text-align: right;\n",
       "    }\n",
       "</style>\n",
       "<table border=\"1\" class=\"dataframe\">\n",
       "  <thead>\n",
       "    <tr style=\"text-align: right;\">\n",
       "      <th></th>\n",
       "      <th>debt</th>\n",
       "    </tr>\n",
       "    <tr>\n",
       "      <th>children</th>\n",
       "      <th></th>\n",
       "    </tr>\n",
       "  </thead>\n",
       "  <tbody>\n",
       "    <tr>\n",
       "      <th>0</th>\n",
       "      <td>0.075444</td>\n",
       "    </tr>\n",
       "    <tr>\n",
       "      <th>1</th>\n",
       "      <td>0.092346</td>\n",
       "    </tr>\n",
       "    <tr>\n",
       "      <th>2</th>\n",
       "      <td>0.094542</td>\n",
       "    </tr>\n",
       "    <tr>\n",
       "      <th>3</th>\n",
       "      <td>0.081818</td>\n",
       "    </tr>\n",
       "    <tr>\n",
       "      <th>4</th>\n",
       "      <td>0.097561</td>\n",
       "    </tr>\n",
       "    <tr>\n",
       "      <th>5</th>\n",
       "      <td>0.000000</td>\n",
       "    </tr>\n",
       "  </tbody>\n",
       "</table>\n",
       "</div>"
      ],
      "text/plain": [
       "              debt\n",
       "children          \n",
       "0         0.075444\n",
       "1         0.092346\n",
       "2         0.094542\n",
       "3         0.081818\n",
       "4         0.097561\n",
       "5         0.000000"
      ]
     },
     "execution_count": 38,
     "metadata": {},
     "output_type": "execute_result"
    }
   ],
   "source": [
    "data.pivot_table(index='children',values='debt', aggfunc='mean') #построение сводной таблицы"
   ]
  },
  {
   "cell_type": "code",
   "execution_count": 39,
   "id": "2e10a852",
   "metadata": {},
   "outputs": [],
   "source": [
    "def children_group(row): #создание функции распределяющей показатели\n",
    "    children = row['children']\n",
    "    debt = row['debt']\n",
    "    \n",
    "    if children == 0:\n",
    "        if debt == 0:\n",
    "            return 'возвращен'\n",
    "    if children == 0:\n",
    "        if debt == 1:\n",
    "            return 'не возвращен, нет детей'\n",
    "    if children == 1:\n",
    "        if debt == 0:\n",
    "            return 'возвращен'\n",
    "    if children == 1:\n",
    "        if debt == 1:\n",
    "            return 'не возвращен, один ребенок'\n",
    "    if children == 2:\n",
    "        if debt == 0:\n",
    "            return 'возвращен'\n",
    "    if children == 2:\n",
    "        if debt == 1:\n",
    "            return 'не возвращен, два ребенка'\n",
    "    if children >= 3:\n",
    "        if debt == 0:\n",
    "            return 'возвращен'\n",
    "    if children >= 3:\n",
    "        if debt == 1:\n",
    "            return 'не возвращен, многодетная семья'"
   ]
  },
  {
   "cell_type": "code",
   "execution_count": 40,
   "id": "cd8d6fae",
   "metadata": {},
   "outputs": [],
   "source": [
    "data['children_group'] = data.apply(children_group, axis=1) #запись получившихся значений в новый столбец"
   ]
  },
  {
   "cell_type": "code",
   "execution_count": 41,
   "id": "71f9b672",
   "metadata": {},
   "outputs": [
    {
     "data": {
      "text/plain": [
       "0    14090\n",
       "1     4808\n",
       "2     2052\n",
       "3      330\n",
       "4       41\n",
       "5        9\n",
       "Name: children, dtype: int64"
      ]
     },
     "execution_count": 41,
     "metadata": {},
     "output_type": "execute_result"
    }
   ],
   "source": [
    "data['children'].value_counts() #вызов колличества существующих значений"
   ]
  },
  {
   "cell_type": "code",
   "execution_count": 42,
   "id": "6f6e838f",
   "metadata": {},
   "outputs": [
    {
     "data": {
      "text/plain": [
       "возвращен                          19598\n",
       "не возвращен, нет детей             1063\n",
       "не возвращен, один ребенок           444\n",
       "не возвращен, два ребенка            194\n",
       "не возвращен, многодетная семья       31\n",
       "Name: children_group, dtype: int64"
      ]
     },
     "execution_count": 42,
     "metadata": {},
     "output_type": "execute_result"
    }
   ],
   "source": [
    "data['children_group'].value_counts() #подсчет получившихся значений"
   ]
  },
  {
   "cell_type": "code",
   "execution_count": 43,
   "id": "1300dac8",
   "metadata": {},
   "outputs": [],
   "source": [
    "a = 1063*100/14090 #высщитываем процент возвращения кредита клиентов без детей\n",
    "b = 444*100/4808 #высщитываем процент возвращения кредита клиентов с одним ребенком\n",
    "c = 194*100/2052 #высщитываем процент возвращения кредита клиентов с двумя детьми\n",
    "d = 31*100/380 #высщитываем процент возвращения кредита многодетных клиентов "
   ]
  },
  {
   "cell_type": "code",
   "execution_count": 44,
   "id": "284aca8f",
   "metadata": {},
   "outputs": [
    {
     "data": {
      "text/plain": [
       "7.544357700496806"
      ]
     },
     "metadata": {},
     "output_type": "display_data"
    },
    {
     "data": {
      "text/plain": [
       "9.234608985024959"
      ]
     },
     "metadata": {},
     "output_type": "display_data"
    },
    {
     "data": {
      "text/plain": [
       "9.454191033138402"
      ]
     },
     "metadata": {},
     "output_type": "display_data"
    },
    {
     "data": {
      "text/plain": [
       "8.157894736842104"
      ]
     },
     "metadata": {},
     "output_type": "display_data"
    }
   ],
   "source": [
    "display(a,b,c,d)"
   ]
  },
  {
   "cell_type": "markdown",
   "id": "acdac43f",
   "metadata": {},
   "source": [
    "**Вывод 1:**"
   ]
  },
  {
   "cell_type": "markdown",
   "id": "090baae9",
   "metadata": {},
   "source": [
    "Чаще всего, **не возвращают** кредит в срок, клиенты с двумя детьми. **В срок** отдают чаще всего клиенты без детей."
   ]
  },
  {
   "cell_type": "markdown",
   "id": "600c8bcf",
   "metadata": {},
   "source": [
    "#### Вопрос 2: Есть ли зависимость между семейным положением и возвратом кредита в срок?"
   ]
  },
  {
   "cell_type": "code",
   "execution_count": 45,
   "id": "e1d00e01",
   "metadata": {},
   "outputs": [
    {
     "data": {
      "text/html": [
       "<div>\n",
       "<style scoped>\n",
       "    .dataframe tbody tr th:only-of-type {\n",
       "        vertical-align: middle;\n",
       "    }\n",
       "\n",
       "    .dataframe tbody tr th {\n",
       "        vertical-align: top;\n",
       "    }\n",
       "\n",
       "    .dataframe thead th {\n",
       "        text-align: right;\n",
       "    }\n",
       "</style>\n",
       "<table border=\"1\" class=\"dataframe\">\n",
       "  <thead>\n",
       "    <tr style=\"text-align: right;\">\n",
       "      <th></th>\n",
       "      <th>debt</th>\n",
       "    </tr>\n",
       "    <tr>\n",
       "      <th>family_status_id</th>\n",
       "      <th></th>\n",
       "    </tr>\n",
       "  </thead>\n",
       "  <tbody>\n",
       "    <tr>\n",
       "      <th>0</th>\n",
       "      <td>0.075606</td>\n",
       "    </tr>\n",
       "    <tr>\n",
       "      <th>1</th>\n",
       "      <td>0.093153</td>\n",
       "    </tr>\n",
       "    <tr>\n",
       "      <th>2</th>\n",
       "      <td>0.066246</td>\n",
       "    </tr>\n",
       "    <tr>\n",
       "      <th>3</th>\n",
       "      <td>0.070648</td>\n",
       "    </tr>\n",
       "    <tr>\n",
       "      <th>4</th>\n",
       "      <td>0.097639</td>\n",
       "    </tr>\n",
       "  </tbody>\n",
       "</table>\n",
       "</div>"
      ],
      "text/plain": [
       "                      debt\n",
       "family_status_id          \n",
       "0                 0.075606\n",
       "1                 0.093153\n",
       "2                 0.066246\n",
       "3                 0.070648\n",
       "4                 0.097639"
      ]
     },
     "execution_count": 45,
     "metadata": {},
     "output_type": "execute_result"
    }
   ],
   "source": [
    "data.pivot_table(index='family_status_id',values='debt', aggfunc='mean') #построение сводной таблицы"
   ]
  },
  {
   "cell_type": "code",
   "execution_count": 46,
   "id": "9c872d8b",
   "metadata": {},
   "outputs": [],
   "source": [
    "def family_status_group(row): #создание функции распределяющей показатели\n",
    "    family_status = row['family_status_id']\n",
    "    debt = row['debt']\n",
    "    \n",
    "    if family_status == 0:\n",
    "        if debt == 0:\n",
    "            return 'возвращен'\n",
    "    if family_status == 0:\n",
    "        if debt == 1:\n",
    "            return 'не возвращен, женат/замужем'\n",
    "    if family_status == 1:\n",
    "        if debt == 0:\n",
    "            return 'возвращен'\n",
    "    if family_status == 1:\n",
    "        if debt == 1:\n",
    "            return 'не возвращен, гражданский брак'\n",
    "    if family_status == 2:\n",
    "        if debt == 0:\n",
    "            return 'возвращен'\n",
    "    if family_status == 2:\n",
    "        if debt == 1:\n",
    "            return 'не возвращен, вдовец/вдова'\n",
    "    if family_status == 3:\n",
    "        if debt == 0:\n",
    "            return 'возвращен'\n",
    "    if family_status == 3:\n",
    "        if debt == 1:\n",
    "            return 'не возвращен, в разводе'\n",
    "    if family_status == 4:\n",
    "        if debt == 0:\n",
    "            return 'возвращен'\n",
    "    if family_status == 4:\n",
    "        if debt == 1:\n",
    "            return 'не возвращен, не женат/ не замужем'\n",
    "        "
   ]
  },
  {
   "cell_type": "code",
   "execution_count": 47,
   "id": "91f651df",
   "metadata": {},
   "outputs": [],
   "source": [
    "data['family_status_group'] = data.apply(family_status_group, axis=1) #запись получившихся значений в новый столбец"
   ]
  },
  {
   "cell_type": "code",
   "execution_count": 48,
   "id": "13b0ca93",
   "metadata": {},
   "outputs": [
    {
     "data": {
      "text/plain": [
       "0    12261\n",
       "1     4133\n",
       "4     2796\n",
       "3     1189\n",
       "2      951\n",
       "Name: family_status_id, dtype: int64"
      ]
     },
     "execution_count": 48,
     "metadata": {},
     "output_type": "execute_result"
    }
   ],
   "source": [
    "data['family_status_id'].value_counts() #вызов колличества существующих значений"
   ]
  },
  {
   "cell_type": "code",
   "execution_count": 49,
   "id": "386c23b4",
   "metadata": {},
   "outputs": [
    {
     "data": {
      "text/plain": [
       "возвращен                             19598\n",
       "не возвращен, женат/замужем             927\n",
       "не возвращен, гражданский брак          385\n",
       "не возвращен, не женат/ не замужем      273\n",
       "не возвращен, в разводе                  84\n",
       "не возвращен, вдовец/вдова               63\n",
       "Name: family_status_group, dtype: int64"
      ]
     },
     "execution_count": 49,
     "metadata": {},
     "output_type": "execute_result"
    }
   ],
   "source": [
    "data['family_status_group'].value_counts() #подсчет получившихся значений"
   ]
  },
  {
   "cell_type": "code",
   "execution_count": 50,
   "id": "ce65b0ea",
   "metadata": {},
   "outputs": [],
   "source": [
    "a = 927*100/12261 #высщитываем процент возвращения кредита женатых/замужних клиентов\n",
    "b = 385*100/4133 #высщитываем процент возвращения кредита клиентов в гражданском браке\n",
    "c = 273*100/2796 #высщитываем процент возвращения кредита не женатых/ не замужних клиентов\n",
    "d = 84*100/1189 #высщитываем процент возвращения кредита клиентов в разводе\n",
    "e = 63*100/951#высщитываем процент возвращения кредита клиентов вдовцов/вдов"
   ]
  },
  {
   "cell_type": "code",
   "execution_count": 51,
   "id": "2dd1a405",
   "metadata": {},
   "outputs": [
    {
     "data": {
      "text/plain": [
       "7.560557866405676"
      ]
     },
     "metadata": {},
     "output_type": "display_data"
    },
    {
     "data": {
      "text/plain": [
       "9.31526736027099"
      ]
     },
     "metadata": {},
     "output_type": "display_data"
    },
    {
     "data": {
      "text/plain": [
       "9.763948497854077"
      ]
     },
     "metadata": {},
     "output_type": "display_data"
    },
    {
     "data": {
      "text/plain": [
       "7.064760302775442"
      ]
     },
     "metadata": {},
     "output_type": "display_data"
    },
    {
     "data": {
      "text/plain": [
       "6.624605678233438"
      ]
     },
     "metadata": {},
     "output_type": "display_data"
    }
   ],
   "source": [
    "display(a,b,c,d,e)"
   ]
  },
  {
   "cell_type": "markdown",
   "id": "69312bba",
   "metadata": {},
   "source": [
    "**Вывод 2:**"
   ]
  },
  {
   "cell_type": "markdown",
   "id": "973625d7",
   "metadata": {},
   "source": [
    "Чаще всего, кредит **возвращают** в срок, вдовецы/вдовы. Чаще всего **не возвращают** в срок не женатые/ не замужние и клиенты в гражданском браке."
   ]
  },
  {
   "cell_type": "markdown",
   "id": "23e4b3de",
   "metadata": {},
   "source": [
    "#### Есть ли зависимость между уровнем дохода и возвратом кредита в срок?"
   ]
  },
  {
   "cell_type": "code",
   "execution_count": 52,
   "id": "99d50bb7",
   "metadata": {},
   "outputs": [
    {
     "data": {
      "text/html": [
       "<div>\n",
       "<style scoped>\n",
       "    .dataframe tbody tr th:only-of-type {\n",
       "        vertical-align: middle;\n",
       "    }\n",
       "\n",
       "    .dataframe tbody tr th {\n",
       "        vertical-align: top;\n",
       "    }\n",
       "\n",
       "    .dataframe thead th {\n",
       "        text-align: right;\n",
       "    }\n",
       "</style>\n",
       "<table border=\"1\" class=\"dataframe\">\n",
       "  <thead>\n",
       "    <tr style=\"text-align: right;\">\n",
       "      <th></th>\n",
       "      <th>debt</th>\n",
       "    </tr>\n",
       "    <tr>\n",
       "      <th>total_income_category</th>\n",
       "      <th></th>\n",
       "    </tr>\n",
       "  </thead>\n",
       "  <tbody>\n",
       "    <tr>\n",
       "      <th>A</th>\n",
       "      <td>0.080000</td>\n",
       "    </tr>\n",
       "    <tr>\n",
       "      <th>B</th>\n",
       "      <td>0.070630</td>\n",
       "    </tr>\n",
       "    <tr>\n",
       "      <th>C</th>\n",
       "      <td>0.084977</td>\n",
       "    </tr>\n",
       "    <tr>\n",
       "      <th>D</th>\n",
       "      <td>0.060172</td>\n",
       "    </tr>\n",
       "    <tr>\n",
       "      <th>E</th>\n",
       "      <td>0.090909</td>\n",
       "    </tr>\n",
       "  </tbody>\n",
       "</table>\n",
       "</div>"
      ],
      "text/plain": [
       "                           debt\n",
       "total_income_category          \n",
       "A                      0.080000\n",
       "B                      0.070630\n",
       "C                      0.084977\n",
       "D                      0.060172\n",
       "E                      0.090909"
      ]
     },
     "execution_count": 52,
     "metadata": {},
     "output_type": "execute_result"
    }
   ],
   "source": [
    "data.pivot_table(index='total_income_category',values='debt', aggfunc='mean') #построение сводной таблицы"
   ]
  },
  {
   "cell_type": "code",
   "execution_count": 53,
   "id": "8d1821ef",
   "metadata": {},
   "outputs": [],
   "source": [
    "def income_category_group(row): #создание функции распределяющей показатели\n",
    "    income_category = row['total_income_category']\n",
    "    debt = row['debt']\n",
    "    \n",
    "    if income_category == 'E':\n",
    "        if debt == 0:\n",
    "            return 'возвращен'\n",
    "    if income_category == 'E':\n",
    "        if debt == 1:\n",
    "            return 'не возвращен, категория E'\n",
    "    if income_category == 'D':\n",
    "        if debt == 0:\n",
    "            return 'возвращен'\n",
    "    if income_category == 'D':\n",
    "        if debt == 1:\n",
    "            return 'не возвращен, категория D'\n",
    "    if income_category == 'C':\n",
    "        if debt == 0:\n",
    "            return 'возвращен'\n",
    "    if income_category == 'C':\n",
    "        if debt == 1:\n",
    "            return 'не возвращен, категория C'\n",
    "    if income_category == 'B':\n",
    "        if debt == 0:\n",
    "            return 'возвращен'\n",
    "    if income_category == 'B':\n",
    "        if debt == 1:\n",
    "            return 'не возвращен, категория B'\n",
    "    if income_category == 'A':\n",
    "        if debt == 0:\n",
    "            return 'возвращен'\n",
    "    if income_category == 'A':\n",
    "        if debt == 1:\n",
    "            return 'не возвращен, категория A'"
   ]
  },
  {
   "cell_type": "code",
   "execution_count": 54,
   "id": "197a3330",
   "metadata": {},
   "outputs": [],
   "source": [
    "data['income_category_group'] = data.apply(income_category_group, axis=1) #запись получившихся значений в новый столбец"
   ]
  },
  {
   "cell_type": "code",
   "execution_count": 55,
   "id": "47adfc2b",
   "metadata": {},
   "outputs": [
    {
     "data": {
      "text/plain": [
       "C    15922\n",
       "B     5012\n",
       "D      349\n",
       "A       25\n",
       "E       22\n",
       "Name: total_income_category, dtype: int64"
      ]
     },
     "execution_count": 55,
     "metadata": {},
     "output_type": "execute_result"
    }
   ],
   "source": [
    "data['total_income_category'].value_counts() #вызов колличества существующих значений"
   ]
  },
  {
   "cell_type": "code",
   "execution_count": 56,
   "id": "dec171d2",
   "metadata": {},
   "outputs": [
    {
     "data": {
      "text/plain": [
       "возвращен                    19598\n",
       "не возвращен, категория C     1353\n",
       "не возвращен, категория B      354\n",
       "не возвращен, категория D       21\n",
       "не возвращен, категория A        2\n",
       "не возвращен, категория E        2\n",
       "Name: income_category_group, dtype: int64"
      ]
     },
     "execution_count": 56,
     "metadata": {},
     "output_type": "execute_result"
    }
   ],
   "source": [
    "data['income_category_group'].value_counts() #подсчет получившихся значений"
   ]
  },
  {
   "cell_type": "code",
   "execution_count": 57,
   "id": "760a3b05",
   "metadata": {},
   "outputs": [],
   "source": [
    "a = 1353*100/15992 #высщитываем процент возвращения кредита от общего колличества по категории С\n",
    "b = 354*100/5012 #высщитываем процент возвращения кредита от общего колличества по категории В\n",
    "c = 21*100/349 #высщитываем процент возвращения кредита от общего колличества по категории D\n",
    "d = 2*100/25 #высщитываем процент возвращения кредита от общего колличества по категории E\n",
    "e = 2*100/22 #высщитываем процент возвращения кредита от общего колличества по категории A"
   ]
  },
  {
   "cell_type": "code",
   "execution_count": 58,
   "id": "ee23162e",
   "metadata": {},
   "outputs": [
    {
     "data": {
      "text/plain": [
       "8.46048024012006"
      ]
     },
     "metadata": {},
     "output_type": "display_data"
    },
    {
     "data": {
      "text/plain": [
       "7.063048683160415"
      ]
     },
     "metadata": {},
     "output_type": "display_data"
    },
    {
     "data": {
      "text/plain": [
       "6.017191977077364"
      ]
     },
     "metadata": {},
     "output_type": "display_data"
    },
    {
     "data": {
      "text/plain": [
       "8.0"
      ]
     },
     "metadata": {},
     "output_type": "display_data"
    },
    {
     "data": {
      "text/plain": [
       "9.090909090909092"
      ]
     },
     "metadata": {},
     "output_type": "display_data"
    }
   ],
   "source": [
    "display(a,b,c,d,e)"
   ]
  },
  {
   "cell_type": "markdown",
   "id": "c6c859d5",
   "metadata": {},
   "source": [
    "**Вывод 3:**"
   ]
  },
  {
   "cell_type": "markdown",
   "id": "95167a8d",
   "metadata": {},
   "source": [
    " Чаще всего, кредит **не возвращают** в срок клиенты с доходом категории Е (менее 30000). Чаще всего **отдают** кредиты в срок клиенты категории D (30000-50000) и B (200000 - 1000000)."
   ]
  },
  {
   "cell_type": "markdown",
   "id": "7c89df22",
   "metadata": {},
   "source": [
    "#### Как разные цели кредита влияют на его возврат в срок?"
   ]
  },
  {
   "cell_type": "code",
   "execution_count": 59,
   "id": "ace9e9f5",
   "metadata": {},
   "outputs": [
    {
     "data": {
      "text/html": [
       "<div>\n",
       "<style scoped>\n",
       "    .dataframe tbody tr th:only-of-type {\n",
       "        vertical-align: middle;\n",
       "    }\n",
       "\n",
       "    .dataframe tbody tr th {\n",
       "        vertical-align: top;\n",
       "    }\n",
       "\n",
       "    .dataframe thead th {\n",
       "        text-align: right;\n",
       "    }\n",
       "</style>\n",
       "<table border=\"1\" class=\"dataframe\">\n",
       "  <thead>\n",
       "    <tr style=\"text-align: right;\">\n",
       "      <th></th>\n",
       "      <th>debt</th>\n",
       "    </tr>\n",
       "    <tr>\n",
       "      <th>purpose_category</th>\n",
       "      <th></th>\n",
       "    </tr>\n",
       "  </thead>\n",
       "  <tbody>\n",
       "    <tr>\n",
       "      <th>операции с автомобилем</th>\n",
       "      <td>0.093480</td>\n",
       "    </tr>\n",
       "    <tr>\n",
       "      <th>операции с недвижимостью</th>\n",
       "      <td>0.072558</td>\n",
       "    </tr>\n",
       "    <tr>\n",
       "      <th>получение образования</th>\n",
       "      <td>0.092528</td>\n",
       "    </tr>\n",
       "    <tr>\n",
       "      <th>проведение свадьбы</th>\n",
       "      <td>0.079118</td>\n",
       "    </tr>\n",
       "  </tbody>\n",
       "</table>\n",
       "</div>"
      ],
      "text/plain": [
       "                              debt\n",
       "purpose_category                  \n",
       "операции с автомобилем    0.093480\n",
       "операции с недвижимостью  0.072558\n",
       "получение образования     0.092528\n",
       "проведение свадьбы        0.079118"
      ]
     },
     "execution_count": 59,
     "metadata": {},
     "output_type": "execute_result"
    }
   ],
   "source": [
    "data.pivot_table(index='purpose_category',values='debt', aggfunc='mean') #построение сводной таблицы"
   ]
  },
  {
   "cell_type": "code",
   "execution_count": 60,
   "id": "400c7f92",
   "metadata": {},
   "outputs": [],
   "source": [
    "def purpose_category_group(row): #создание функции распределяющей показатели\n",
    "    purpose_category = row['purpose_category']\n",
    "    debt = row['debt']\n",
    "    \n",
    "    if purpose_category == 'операции с автомобилем':\n",
    "        if debt == 0:\n",
    "            return 'возвращен'\n",
    "    if purpose_category == 'операции с автомобилем':\n",
    "        if debt == 1:\n",
    "            return 'не возвращен, операции с автомобилем'\n",
    "    if purpose_category == 'операции с недвижимостью':\n",
    "        if debt == 0:\n",
    "            return 'возвращен'\n",
    "    if purpose_category == 'операции с недвижимостью':\n",
    "        if debt == 1:\n",
    "            return 'не возвращен, операции с недвижимостью'\n",
    "    if purpose_category == 'проведение свадьбы':\n",
    "        if debt == 0:\n",
    "            return 'возвращен'\n",
    "    if purpose_category == 'проведение свадьбы':\n",
    "        if debt == 1:\n",
    "            return 'не возвращен, проведение свадьбы'\n",
    "    if purpose_category == 'получение образования':\n",
    "        if debt == 0:\n",
    "            return 'возвращен'\n",
    "    if purpose_category == 'получение образования':\n",
    "        if debt == 1:\n",
    "            return 'не возвращен, получение образования'"
   ]
  },
  {
   "cell_type": "code",
   "execution_count": 61,
   "id": "323927df",
   "metadata": {},
   "outputs": [],
   "source": [
    "data['purpose_category_group'] = data.apply(purpose_category_group, axis=1) \n",
    "#запись получившихся значений в новый столбец"
   ]
  },
  {
   "cell_type": "code",
   "execution_count": 62,
   "id": "4e23a96a",
   "metadata": {},
   "outputs": [
    {
     "data": {
      "text/plain": [
       "операции с недвижимостью    10750\n",
       "операции с автомобилем       4279\n",
       "получение образования        3988\n",
       "проведение свадьбы           2313\n",
       "Name: purpose_category, dtype: int64"
      ]
     },
     "execution_count": 62,
     "metadata": {},
     "output_type": "execute_result"
    }
   ],
   "source": [
    "data['purpose_category'].value_counts() #вызов колличества существующих значений"
   ]
  },
  {
   "cell_type": "code",
   "execution_count": 63,
   "id": "b95d476a",
   "metadata": {},
   "outputs": [
    {
     "data": {
      "text/plain": [
       "возвращен                                 19598\n",
       "не возвращен, операции с недвижимостью      780\n",
       "не возвращен, операции с автомобилем        400\n",
       "не возвращен, получение образования         369\n",
       "не возвращен, проведение свадьбы            183\n",
       "Name: purpose_category_group, dtype: int64"
      ]
     },
     "execution_count": 63,
     "metadata": {},
     "output_type": "execute_result"
    }
   ],
   "source": [
    "data['purpose_category_group'].value_counts() #подсчет получившихся значений"
   ]
  },
  {
   "cell_type": "code",
   "execution_count": 64,
   "id": "487bfb54",
   "metadata": {},
   "outputs": [],
   "source": [
    "a = 782*100/10750 #высщитываем процент возвращения кредита от общего колличества по операции с недвижимостью\n",
    "b = 403*100/4279 #высщитываем процент возвращения кредита от общего колличества по операции с автомобилем\n",
    "c = 370*100/3988 #высщитываем процент возвращения кредита от общего колличества по операции на образование\n",
    "d = 186*100/2313 #высщитываем процент возвращения кредита от общего колличества по операции на свадьбу"
   ]
  },
  {
   "cell_type": "code",
   "execution_count": 65,
   "id": "2ed91115",
   "metadata": {},
   "outputs": [
    {
     "data": {
      "text/plain": [
       "7.274418604651163"
      ]
     },
     "metadata": {},
     "output_type": "display_data"
    },
    {
     "data": {
      "text/plain": [
       "9.41808833839682"
      ]
     },
     "metadata": {},
     "output_type": "display_data"
    },
    {
     "data": {
      "text/plain": [
       "9.277833500501504"
      ]
     },
     "metadata": {},
     "output_type": "display_data"
    },
    {
     "data": {
      "text/plain": [
       "8.041504539559014"
      ]
     },
     "metadata": {},
     "output_type": "display_data"
    }
   ],
   "source": [
    "display(a,b,c,d)"
   ]
  },
  {
   "cell_type": "markdown",
   "id": "66ed810a",
   "metadata": {},
   "source": [
    "**Вывод 4:**"
   ]
  },
  {
   "cell_type": "markdown",
   "id": "a388d55d",
   "metadata": {},
   "source": [
    "Чаще всего **не возвращают** во время кредит клиенты, бравшие его на операции с автомобилем, затем на операции с получением образования. А чаще всего **отдают** кредит во время, на опервции с недвижимостью."
   ]
  },
  {
   "cell_type": "markdown",
   "id": "ef4fffb1",
   "metadata": {},
   "source": [
    "## Общий вывод:"
   ]
  },
  {
   "cell_type": "markdown",
   "id": "a203a530",
   "metadata": {},
   "source": [
    "При обработке данных были выиявлены пропуски в столбце: days_employed, total_income. Они устранены методом подставления медианного значения. При заполнении пропусков, была замеченна аномалия данных в столбце 'days_employed'. Но к сожалениею с данную аномалью не получилось обработать из-за недодстатка сведений о ней. Так же Спорные данные присутствуют в сторбце 'children'. Так как эти данные занимают менее 1% от датафрейма их было решено удалить."
   ]
  },
  {
   "cell_type": "markdown",
   "id": "c307e4d9",
   "metadata": {},
   "source": [
    "Был изменен тип данных для столбца 'total_income' - ежемесячный доход. Так как для него не обязательно иметь числа после запятой."
   ]
  },
  {
   "cell_type": "markdown",
   "id": "75a19af8",
   "metadata": {},
   "source": [
    "Для оптимизации таблицы, было соеденино несколько столбцов: education + education_id; family_status + family_status_id. Оставив в изначальной таблице только education_id и family_status_id."
   ]
  },
  {
   "cell_type": "markdown",
   "id": "c46ac234",
   "metadata": {},
   "source": [
    "Что бы было легче читать данные, была проведена категоризация столбца дохода и столбца целей кредита."
   ]
  },
  {
   "cell_type": "markdown",
   "id": "4492316e",
   "metadata": {},
   "source": [
    "По итогу можно сделать вывод, что: семейное положение и количество детей клиента **влияет** на факт погашения кредита в срок."
   ]
  },
  {
   "cell_type": "markdown",
   "id": "fe1a2d6b",
   "metadata": {},
   "source": [
    "По окнчанию проведено удаление явных дубликатов."
   ]
  },
  {
   "cell_type": "markdown",
   "id": "fa8d1ae3",
   "metadata": {},
   "source": [
    "Так, после анализа данных можно сделать выводы что: чаще всего **возвращают** кредит во время: вдовы/вдовцы и клиенты без детей. А чаще всего **не возвращают** не женатые/ не замужниеклиенты,клиенты в гражданском браке и многодетные клиенты(**клиенты с 2 детьми**)."
   ]
  },
  {
   "cell_type": "markdown",
   "id": "cade9700",
   "metadata": {},
   "source": [
    "Так же, при дополнительном анализе, можно сказать что: чаще всего **не возвращают**  во время, клиенты бравшие кредит на операции с автомобилем и получением образования; клиенты с доходом категории Е (менее 30000). **Возвращают** в срок, клиенты бравшие кредит на опервции с недвижимостью; клиенты категории D (30000-50000) и B (200000 - 1000000)"
   ]
  },
  {
   "cell_type": "code",
   "execution_count": null,
   "id": "234db4fb",
   "metadata": {},
   "outputs": [],
   "source": []
  }
 ],
 "metadata": {
  "ExecuteTimeLog": [
   {
    "duration": 71,
    "start_time": "2022-03-21T19:19:55.073Z"
   },
   {
    "duration": 466,
    "start_time": "2022-03-21T19:20:55.312Z"
   },
   {
    "duration": 74,
    "start_time": "2022-03-21T19:20:57.498Z"
   },
   {
    "duration": 21,
    "start_time": "2022-03-21T19:22:36.582Z"
   },
   {
    "duration": 21,
    "start_time": "2022-03-21T19:23:25.325Z"
   },
   {
    "duration": 7,
    "start_time": "2022-03-21T19:26:50.931Z"
   },
   {
    "duration": 6,
    "start_time": "2022-03-21T19:28:27.403Z"
   },
   {
    "duration": 55,
    "start_time": "2022-03-21T19:28:44.698Z"
   },
   {
    "duration": 6,
    "start_time": "2022-03-21T19:28:54.443Z"
   },
   {
    "duration": 6,
    "start_time": "2022-03-21T19:29:03.521Z"
   },
   {
    "duration": 28,
    "start_time": "2022-03-21T19:31:08.375Z"
   },
   {
    "duration": 18,
    "start_time": "2022-03-21T19:31:13.129Z"
   },
   {
    "duration": 5,
    "start_time": "2022-03-21T19:32:10.532Z"
   },
   {
    "duration": 461,
    "start_time": "2022-03-22T04:00:20.913Z"
   },
   {
    "duration": 76,
    "start_time": "2022-03-22T04:00:21.377Z"
   },
   {
    "duration": 31,
    "start_time": "2022-03-22T04:00:21.455Z"
   },
   {
    "duration": 21,
    "start_time": "2022-03-22T04:00:21.489Z"
   },
   {
    "duration": 6,
    "start_time": "2022-03-22T04:00:21.512Z"
   },
   {
    "duration": 6,
    "start_time": "2022-03-22T04:00:21.520Z"
   },
   {
    "duration": 20,
    "start_time": "2022-03-22T04:02:10.055Z"
   },
   {
    "duration": 31,
    "start_time": "2022-03-22T04:09:37.240Z"
   },
   {
    "duration": 387,
    "start_time": "2022-03-23T15:48:34.469Z"
   },
   {
    "duration": 58,
    "start_time": "2022-03-23T15:48:34.858Z"
   },
   {
    "duration": 28,
    "start_time": "2022-03-23T15:48:34.918Z"
   },
   {
    "duration": 16,
    "start_time": "2022-03-23T15:48:34.949Z"
   },
   {
    "duration": 10,
    "start_time": "2022-03-23T15:48:34.967Z"
   },
   {
    "duration": 31,
    "start_time": "2022-03-23T15:48:34.979Z"
   },
   {
    "duration": 11,
    "start_time": "2022-03-23T15:48:35.011Z"
   },
   {
    "duration": 4,
    "start_time": "2022-03-23T15:50:44.627Z"
   },
   {
    "duration": 70,
    "start_time": "2022-03-23T15:50:56.909Z"
   },
   {
    "duration": 385,
    "start_time": "2022-03-23T15:51:22.130Z"
   },
   {
    "duration": 60,
    "start_time": "2022-03-23T15:51:22.517Z"
   },
   {
    "duration": 31,
    "start_time": "2022-03-23T15:51:22.579Z"
   },
   {
    "duration": 15,
    "start_time": "2022-03-23T15:51:22.612Z"
   },
   {
    "duration": 10,
    "start_time": "2022-03-23T15:51:22.629Z"
   },
   {
    "duration": 4,
    "start_time": "2022-03-23T15:51:22.640Z"
   },
   {
    "duration": 5,
    "start_time": "2022-03-23T15:51:22.646Z"
   },
   {
    "duration": 419,
    "start_time": "2022-03-23T15:53:19.808Z"
   },
   {
    "duration": 62,
    "start_time": "2022-03-23T15:53:20.229Z"
   },
   {
    "duration": 32,
    "start_time": "2022-03-23T15:53:20.293Z"
   },
   {
    "duration": 15,
    "start_time": "2022-03-23T15:53:20.327Z"
   },
   {
    "duration": 10,
    "start_time": "2022-03-23T15:53:20.344Z"
   },
   {
    "duration": 6,
    "start_time": "2022-03-23T15:53:20.356Z"
   },
   {
    "duration": 7,
    "start_time": "2022-03-23T15:53:20.364Z"
   },
   {
    "duration": 427,
    "start_time": "2022-03-23T15:58:22.587Z"
   },
   {
    "duration": 63,
    "start_time": "2022-03-23T15:58:23.016Z"
   },
   {
    "duration": 28,
    "start_time": "2022-03-23T15:58:23.081Z"
   },
   {
    "duration": 14,
    "start_time": "2022-03-23T15:58:23.111Z"
   },
   {
    "duration": 14,
    "start_time": "2022-03-23T15:58:23.126Z"
   },
   {
    "duration": 66,
    "start_time": "2022-03-23T15:58:23.142Z"
   },
   {
    "duration": 3,
    "start_time": "2022-03-23T15:58:31.891Z"
   },
   {
    "duration": 65,
    "start_time": "2022-03-23T15:58:52.674Z"
   },
   {
    "duration": 4,
    "start_time": "2022-03-23T15:59:51.411Z"
   },
   {
    "duration": 4,
    "start_time": "2022-03-23T15:59:53.983Z"
   },
   {
    "duration": 4,
    "start_time": "2022-03-23T16:00:26.838Z"
   },
   {
    "duration": 9,
    "start_time": "2022-03-23T16:00:28.571Z"
   },
   {
    "duration": 12,
    "start_time": "2022-03-23T16:01:15.596Z"
   },
   {
    "duration": 10,
    "start_time": "2022-03-23T16:06:14.636Z"
   },
   {
    "duration": 7,
    "start_time": "2022-03-23T16:06:24.423Z"
   },
   {
    "duration": 9,
    "start_time": "2022-03-23T16:06:32.372Z"
   },
   {
    "duration": 10,
    "start_time": "2022-03-23T16:07:13.392Z"
   },
   {
    "duration": 8,
    "start_time": "2022-03-23T16:07:17.123Z"
   },
   {
    "duration": 8,
    "start_time": "2022-03-23T16:07:22.784Z"
   },
   {
    "duration": 8,
    "start_time": "2022-03-23T16:07:26.465Z"
   },
   {
    "duration": 8,
    "start_time": "2022-03-23T16:07:32.857Z"
   },
   {
    "duration": 8,
    "start_time": "2022-03-23T16:07:47.576Z"
   },
   {
    "duration": 4,
    "start_time": "2022-03-23T16:14:03.432Z"
   },
   {
    "duration": 75,
    "start_time": "2022-03-23T16:15:13.694Z"
   },
   {
    "duration": 422,
    "start_time": "2022-03-23T16:15:35.869Z"
   },
   {
    "duration": 62,
    "start_time": "2022-03-23T16:15:36.293Z"
   },
   {
    "duration": 28,
    "start_time": "2022-03-23T16:15:36.357Z"
   },
   {
    "duration": 26,
    "start_time": "2022-03-23T16:15:36.387Z"
   },
   {
    "duration": 12,
    "start_time": "2022-03-23T16:15:36.414Z"
   },
   {
    "duration": 4,
    "start_time": "2022-03-23T16:15:36.428Z"
   },
   {
    "duration": 10,
    "start_time": "2022-03-23T16:15:36.434Z"
   },
   {
    "duration": 6,
    "start_time": "2022-03-23T16:25:53.320Z"
   },
   {
    "duration": 5,
    "start_time": "2022-03-23T16:26:21.724Z"
   },
   {
    "duration": 5,
    "start_time": "2022-03-23T16:26:38.636Z"
   },
   {
    "duration": 5,
    "start_time": "2022-03-23T16:26:55.504Z"
   },
   {
    "duration": 76,
    "start_time": "2022-03-23T16:34:03.339Z"
   },
   {
    "duration": 99,
    "start_time": "2022-03-23T16:35:03.041Z"
   },
   {
    "duration": 75,
    "start_time": "2022-03-23T16:35:45.104Z"
   },
   {
    "duration": 394,
    "start_time": "2022-03-23T16:35:49.538Z"
   },
   {
    "duration": 63,
    "start_time": "2022-03-23T16:35:49.935Z"
   },
   {
    "duration": 35,
    "start_time": "2022-03-23T16:35:50.000Z"
   },
   {
    "duration": 16,
    "start_time": "2022-03-23T16:35:50.037Z"
   },
   {
    "duration": 10,
    "start_time": "2022-03-23T16:35:50.055Z"
   },
   {
    "duration": 4,
    "start_time": "2022-03-23T16:35:50.066Z"
   },
   {
    "duration": 43,
    "start_time": "2022-03-23T16:35:50.071Z"
   },
   {
    "duration": 8,
    "start_time": "2022-03-23T16:35:50.116Z"
   },
   {
    "duration": 8,
    "start_time": "2022-03-23T16:35:50.126Z"
   },
   {
    "duration": 82,
    "start_time": "2022-03-23T16:35:50.137Z"
   },
   {
    "duration": 5,
    "start_time": "2022-03-23T16:36:17.983Z"
   },
   {
    "duration": 19,
    "start_time": "2022-03-23T16:36:39.443Z"
   },
   {
    "duration": 68,
    "start_time": "2022-03-23T16:36:59.138Z"
   },
   {
    "duration": 5,
    "start_time": "2022-03-23T16:39:18.891Z"
   },
   {
    "duration": 16,
    "start_time": "2022-03-23T16:39:30.787Z"
   },
   {
    "duration": 4,
    "start_time": "2022-03-23T16:41:33.794Z"
   },
   {
    "duration": 16,
    "start_time": "2022-03-23T16:41:36.849Z"
   },
   {
    "duration": 14,
    "start_time": "2022-03-23T16:44:19.889Z"
   },
   {
    "duration": 403,
    "start_time": "2022-03-23T16:44:29.013Z"
   },
   {
    "duration": 61,
    "start_time": "2022-03-23T16:44:29.418Z"
   },
   {
    "duration": 31,
    "start_time": "2022-03-23T16:44:29.481Z"
   },
   {
    "duration": 15,
    "start_time": "2022-03-23T16:44:29.514Z"
   },
   {
    "duration": 10,
    "start_time": "2022-03-23T16:44:29.531Z"
   },
   {
    "duration": 4,
    "start_time": "2022-03-23T16:44:29.542Z"
   },
   {
    "duration": 9,
    "start_time": "2022-03-23T16:44:29.547Z"
   },
   {
    "duration": 5,
    "start_time": "2022-03-23T16:44:29.558Z"
   },
   {
    "duration": 3,
    "start_time": "2022-03-23T16:44:29.565Z"
   },
   {
    "duration": 5,
    "start_time": "2022-03-23T16:44:29.570Z"
   },
   {
    "duration": 5,
    "start_time": "2022-03-23T16:44:29.609Z"
   },
   {
    "duration": 14,
    "start_time": "2022-03-23T16:44:29.615Z"
   },
   {
    "duration": 10,
    "start_time": "2022-03-23T16:45:47.224Z"
   },
   {
    "duration": 10,
    "start_time": "2022-03-23T16:47:11.973Z"
   },
   {
    "duration": 9,
    "start_time": "2022-03-23T16:47:18.773Z"
   },
   {
    "duration": 8,
    "start_time": "2022-03-23T16:47:33.103Z"
   },
   {
    "duration": 397,
    "start_time": "2022-03-23T16:47:39.671Z"
   },
   {
    "duration": 55,
    "start_time": "2022-03-23T16:47:40.070Z"
   },
   {
    "duration": 27,
    "start_time": "2022-03-23T16:47:40.127Z"
   },
   {
    "duration": 15,
    "start_time": "2022-03-23T16:47:40.156Z"
   },
   {
    "duration": 10,
    "start_time": "2022-03-23T16:47:40.173Z"
   },
   {
    "duration": 3,
    "start_time": "2022-03-23T16:47:40.208Z"
   },
   {
    "duration": 10,
    "start_time": "2022-03-23T16:47:40.213Z"
   },
   {
    "duration": 6,
    "start_time": "2022-03-23T16:47:40.224Z"
   },
   {
    "duration": 4,
    "start_time": "2022-03-23T16:47:40.231Z"
   },
   {
    "duration": 4,
    "start_time": "2022-03-23T16:47:40.237Z"
   },
   {
    "duration": 4,
    "start_time": "2022-03-23T16:47:40.243Z"
   },
   {
    "duration": 10,
    "start_time": "2022-03-23T16:47:40.249Z"
   },
   {
    "duration": 5,
    "start_time": "2022-03-23T16:50:15.533Z"
   },
   {
    "duration": 5,
    "start_time": "2022-03-23T16:50:32.139Z"
   },
   {
    "duration": 5,
    "start_time": "2022-03-23T16:51:08.783Z"
   },
   {
    "duration": 428,
    "start_time": "2022-03-23T16:54:49.685Z"
   },
   {
    "duration": 61,
    "start_time": "2022-03-23T16:54:50.115Z"
   },
   {
    "duration": 26,
    "start_time": "2022-03-23T16:54:50.177Z"
   },
   {
    "duration": 15,
    "start_time": "2022-03-23T16:54:50.205Z"
   },
   {
    "duration": 9,
    "start_time": "2022-03-23T16:54:50.222Z"
   },
   {
    "duration": 3,
    "start_time": "2022-03-23T16:54:50.233Z"
   },
   {
    "duration": 10,
    "start_time": "2022-03-23T16:54:50.238Z"
   },
   {
    "duration": 5,
    "start_time": "2022-03-23T16:54:50.249Z"
   },
   {
    "duration": 5,
    "start_time": "2022-03-23T16:54:50.255Z"
   },
   {
    "duration": 6,
    "start_time": "2022-03-23T16:54:50.263Z"
   },
   {
    "duration": 43,
    "start_time": "2022-03-23T16:54:50.270Z"
   },
   {
    "duration": 11,
    "start_time": "2022-03-23T16:54:50.315Z"
   },
   {
    "duration": 5,
    "start_time": "2022-03-23T16:54:50.328Z"
   },
   {
    "duration": 62,
    "start_time": "2022-03-23T16:55:57.630Z"
   },
   {
    "duration": 439,
    "start_time": "2022-03-23T16:57:01.888Z"
   },
   {
    "duration": 62,
    "start_time": "2022-03-23T16:57:02.329Z"
   },
   {
    "duration": 27,
    "start_time": "2022-03-23T16:57:02.392Z"
   },
   {
    "duration": 15,
    "start_time": "2022-03-23T16:57:02.421Z"
   },
   {
    "duration": 10,
    "start_time": "2022-03-23T16:57:02.438Z"
   },
   {
    "duration": 7,
    "start_time": "2022-03-23T16:57:02.450Z"
   },
   {
    "duration": 9,
    "start_time": "2022-03-23T16:57:02.459Z"
   },
   {
    "duration": 6,
    "start_time": "2022-03-23T16:57:02.469Z"
   },
   {
    "duration": 32,
    "start_time": "2022-03-23T16:57:02.477Z"
   },
   {
    "duration": 6,
    "start_time": "2022-03-23T16:57:02.510Z"
   },
   {
    "duration": 6,
    "start_time": "2022-03-23T16:57:02.518Z"
   },
   {
    "duration": 17,
    "start_time": "2022-03-23T16:57:02.525Z"
   },
   {
    "duration": 5,
    "start_time": "2022-03-23T16:57:02.544Z"
   },
   {
    "duration": 78,
    "start_time": "2022-03-23T17:00:44.970Z"
   },
   {
    "duration": 69,
    "start_time": "2022-03-23T17:01:24.003Z"
   },
   {
    "duration": 71,
    "start_time": "2022-03-23T17:01:42.584Z"
   },
   {
    "duration": 66,
    "start_time": "2022-03-23T17:01:47.331Z"
   },
   {
    "duration": 5,
    "start_time": "2022-03-23T17:03:11.225Z"
   },
   {
    "duration": 4,
    "start_time": "2022-03-23T17:03:23.320Z"
   },
   {
    "duration": 6,
    "start_time": "2022-03-23T17:04:01.670Z"
   },
   {
    "duration": 7,
    "start_time": "2022-03-23T17:04:33.071Z"
   },
   {
    "duration": 8,
    "start_time": "2022-03-23T17:05:02.587Z"
   },
   {
    "duration": 20,
    "start_time": "2022-03-23T17:05:12.802Z"
   },
   {
    "duration": 20,
    "start_time": "2022-03-23T17:05:49.380Z"
   },
   {
    "duration": 42,
    "start_time": "2022-03-23T17:08:53.509Z"
   },
   {
    "duration": 40,
    "start_time": "2022-03-23T17:11:06.801Z"
   },
   {
    "duration": 43,
    "start_time": "2022-03-23T17:11:18.249Z"
   },
   {
    "duration": 388,
    "start_time": "2022-03-23T17:41:14.869Z"
   },
   {
    "duration": 62,
    "start_time": "2022-03-23T17:41:15.259Z"
   },
   {
    "duration": 28,
    "start_time": "2022-03-23T17:41:15.323Z"
   },
   {
    "duration": 16,
    "start_time": "2022-03-23T17:41:15.353Z"
   },
   {
    "duration": 10,
    "start_time": "2022-03-23T17:41:15.371Z"
   },
   {
    "duration": 29,
    "start_time": "2022-03-23T17:41:15.383Z"
   },
   {
    "duration": 12,
    "start_time": "2022-03-23T17:41:15.413Z"
   },
   {
    "duration": 5,
    "start_time": "2022-03-23T17:41:15.427Z"
   },
   {
    "duration": 4,
    "start_time": "2022-03-23T17:41:15.433Z"
   },
   {
    "duration": 8,
    "start_time": "2022-03-23T17:41:15.440Z"
   },
   {
    "duration": 4,
    "start_time": "2022-03-23T17:41:15.450Z"
   },
   {
    "duration": 17,
    "start_time": "2022-03-23T17:41:15.455Z"
   },
   {
    "duration": 5,
    "start_time": "2022-03-23T17:41:15.474Z"
   },
   {
    "duration": 6,
    "start_time": "2022-03-23T17:41:15.510Z"
   },
   {
    "duration": 22,
    "start_time": "2022-03-23T17:41:15.517Z"
   },
   {
    "duration": 42,
    "start_time": "2022-03-23T17:41:15.541Z"
   },
   {
    "duration": 72,
    "start_time": "2022-03-23T17:47:49.153Z"
   },
   {
    "duration": 34,
    "start_time": "2022-03-23T17:48:09.534Z"
   },
   {
    "duration": 39,
    "start_time": "2022-03-23T17:51:17.470Z"
   },
   {
    "duration": 426,
    "start_time": "2022-03-23T17:51:59.090Z"
   },
   {
    "duration": 60,
    "start_time": "2022-03-23T17:51:59.518Z"
   },
   {
    "duration": 34,
    "start_time": "2022-03-23T17:51:59.579Z"
   },
   {
    "duration": 15,
    "start_time": "2022-03-23T17:51:59.615Z"
   },
   {
    "duration": 11,
    "start_time": "2022-03-23T17:51:59.632Z"
   },
   {
    "duration": 3,
    "start_time": "2022-03-23T17:51:59.645Z"
   },
   {
    "duration": 8,
    "start_time": "2022-03-23T17:51:59.650Z"
   },
   {
    "duration": 4,
    "start_time": "2022-03-23T17:51:59.660Z"
   },
   {
    "duration": 4,
    "start_time": "2022-03-23T17:51:59.666Z"
   },
   {
    "duration": 39,
    "start_time": "2022-03-23T17:51:59.672Z"
   },
   {
    "duration": 4,
    "start_time": "2022-03-23T17:51:59.713Z"
   },
   {
    "duration": 11,
    "start_time": "2022-03-23T17:51:59.719Z"
   },
   {
    "duration": 5,
    "start_time": "2022-03-23T17:51:59.731Z"
   },
   {
    "duration": 7,
    "start_time": "2022-03-23T17:51:59.738Z"
   },
   {
    "duration": 20,
    "start_time": "2022-03-23T17:51:59.747Z"
   },
   {
    "duration": 70,
    "start_time": "2022-03-23T17:51:59.769Z"
   },
   {
    "duration": 67,
    "start_time": "2022-03-23T17:53:33.952Z"
   },
   {
    "duration": 9,
    "start_time": "2022-03-23T17:53:49.304Z"
   },
   {
    "duration": 10,
    "start_time": "2022-03-23T17:54:27.522Z"
   },
   {
    "duration": 14,
    "start_time": "2022-03-23T17:54:53.151Z"
   },
   {
    "duration": 21,
    "start_time": "2022-03-23T17:55:08.256Z"
   },
   {
    "duration": 11,
    "start_time": "2022-03-23T17:55:17.939Z"
   },
   {
    "duration": 6,
    "start_time": "2022-03-23T17:55:22.600Z"
   },
   {
    "duration": 5,
    "start_time": "2022-03-23T17:55:29.469Z"
   },
   {
    "duration": 10,
    "start_time": "2022-03-23T17:55:32.970Z"
   },
   {
    "duration": 10,
    "start_time": "2022-03-23T17:55:49.640Z"
   },
   {
    "duration": 374,
    "start_time": "2022-03-23T17:55:53.759Z"
   },
   {
    "duration": 64,
    "start_time": "2022-03-23T17:55:54.134Z"
   },
   {
    "duration": 25,
    "start_time": "2022-03-23T17:55:54.200Z"
   },
   {
    "duration": 13,
    "start_time": "2022-03-23T17:55:54.227Z"
   },
   {
    "duration": 9,
    "start_time": "2022-03-23T17:55:54.242Z"
   },
   {
    "duration": 3,
    "start_time": "2022-03-23T17:55:54.253Z"
   },
   {
    "duration": 10,
    "start_time": "2022-03-23T17:55:54.257Z"
   },
   {
    "duration": 4,
    "start_time": "2022-03-23T17:55:54.269Z"
   },
   {
    "duration": 35,
    "start_time": "2022-03-23T17:55:54.274Z"
   },
   {
    "duration": 4,
    "start_time": "2022-03-23T17:55:54.311Z"
   },
   {
    "duration": 5,
    "start_time": "2022-03-23T17:55:54.316Z"
   },
   {
    "duration": 12,
    "start_time": "2022-03-23T17:55:54.323Z"
   },
   {
    "duration": 6,
    "start_time": "2022-03-23T17:55:54.337Z"
   },
   {
    "duration": 5,
    "start_time": "2022-03-23T17:55:54.346Z"
   },
   {
    "duration": 21,
    "start_time": "2022-03-23T17:55:54.352Z"
   },
   {
    "duration": 69,
    "start_time": "2022-03-23T17:55:54.374Z"
   },
   {
    "duration": 12,
    "start_time": "2022-03-23T17:55:54.444Z"
   },
   {
    "duration": 21,
    "start_time": "2022-03-23T17:55:54.457Z"
   },
   {
    "duration": 66,
    "start_time": "2022-03-23T17:57:51.840Z"
   },
   {
    "duration": 12,
    "start_time": "2022-03-23T17:58:06.204Z"
   },
   {
    "duration": 11,
    "start_time": "2022-03-23T17:59:02.522Z"
   },
   {
    "duration": 10,
    "start_time": "2022-03-23T17:59:13.056Z"
   },
   {
    "duration": 10,
    "start_time": "2022-03-23T17:59:23.572Z"
   },
   {
    "duration": 8,
    "start_time": "2022-03-23T17:59:59.932Z"
   },
   {
    "duration": 469,
    "start_time": "2022-03-23T18:00:10.884Z"
   },
   {
    "duration": 71,
    "start_time": "2022-03-23T18:00:11.355Z"
   },
   {
    "duration": 33,
    "start_time": "2022-03-23T18:00:11.428Z"
   },
   {
    "duration": 18,
    "start_time": "2022-03-23T18:00:11.463Z"
   },
   {
    "duration": 32,
    "start_time": "2022-03-23T18:00:11.483Z"
   },
   {
    "duration": 7,
    "start_time": "2022-03-23T18:00:11.516Z"
   },
   {
    "duration": 12,
    "start_time": "2022-03-23T18:00:11.525Z"
   },
   {
    "duration": 7,
    "start_time": "2022-03-23T18:00:11.539Z"
   },
   {
    "duration": 4,
    "start_time": "2022-03-23T18:00:11.548Z"
   },
   {
    "duration": 6,
    "start_time": "2022-03-23T18:00:11.554Z"
   },
   {
    "duration": 5,
    "start_time": "2022-03-23T18:00:11.562Z"
   },
   {
    "duration": 12,
    "start_time": "2022-03-23T18:00:11.569Z"
   },
   {
    "duration": 7,
    "start_time": "2022-03-23T18:00:11.609Z"
   },
   {
    "duration": 8,
    "start_time": "2022-03-23T18:00:11.618Z"
   },
   {
    "duration": 20,
    "start_time": "2022-03-23T18:00:11.628Z"
   },
   {
    "duration": 60,
    "start_time": "2022-03-23T18:00:11.650Z"
   },
   {
    "duration": 8,
    "start_time": "2022-03-23T18:00:11.712Z"
   },
   {
    "duration": 16,
    "start_time": "2022-03-23T18:00:11.721Z"
   },
   {
    "duration": 32,
    "start_time": "2022-03-23T18:00:11.739Z"
   },
   {
    "duration": 8,
    "start_time": "2022-03-23T18:03:07.902Z"
   },
   {
    "duration": 7,
    "start_time": "2022-03-23T18:03:28.353Z"
   },
   {
    "duration": 8,
    "start_time": "2022-03-23T18:03:41.349Z"
   },
   {
    "duration": 375,
    "start_time": "2022-03-23T18:10:01.160Z"
   },
   {
    "duration": 64,
    "start_time": "2022-03-23T18:10:01.537Z"
   },
   {
    "duration": 29,
    "start_time": "2022-03-23T18:10:01.603Z"
   },
   {
    "duration": 17,
    "start_time": "2022-03-23T18:10:01.634Z"
   },
   {
    "duration": 10,
    "start_time": "2022-03-23T18:10:01.653Z"
   },
   {
    "duration": 15,
    "start_time": "2022-03-23T18:10:01.664Z"
   },
   {
    "duration": 28,
    "start_time": "2022-03-23T18:10:01.681Z"
   },
   {
    "duration": 7,
    "start_time": "2022-03-23T18:10:01.711Z"
   },
   {
    "duration": 9,
    "start_time": "2022-03-23T18:10:01.720Z"
   },
   {
    "duration": 9,
    "start_time": "2022-03-23T18:10:01.731Z"
   },
   {
    "duration": 7,
    "start_time": "2022-03-23T18:10:01.742Z"
   },
   {
    "duration": 12,
    "start_time": "2022-03-23T18:10:01.750Z"
   },
   {
    "duration": 5,
    "start_time": "2022-03-23T18:10:01.763Z"
   },
   {
    "duration": 9,
    "start_time": "2022-03-23T18:10:01.769Z"
   },
   {
    "duration": 38,
    "start_time": "2022-03-23T18:10:01.779Z"
   },
   {
    "duration": 37,
    "start_time": "2022-03-23T18:10:01.819Z"
   },
   {
    "duration": 7,
    "start_time": "2022-03-23T18:10:01.857Z"
   },
   {
    "duration": 23,
    "start_time": "2022-03-23T18:10:01.865Z"
   },
   {
    "duration": 38,
    "start_time": "2022-03-23T18:10:01.890Z"
   },
   {
    "duration": 366,
    "start_time": "2022-03-23T18:14:14.361Z"
   },
   {
    "duration": 70,
    "start_time": "2022-03-23T18:14:14.729Z"
   },
   {
    "duration": 29,
    "start_time": "2022-03-23T18:14:14.803Z"
   },
   {
    "duration": 16,
    "start_time": "2022-03-23T18:14:14.835Z"
   },
   {
    "duration": 11,
    "start_time": "2022-03-23T18:14:14.853Z"
   },
   {
    "duration": 3,
    "start_time": "2022-03-23T18:14:14.866Z"
   },
   {
    "duration": 39,
    "start_time": "2022-03-23T18:14:14.871Z"
   },
   {
    "duration": 4,
    "start_time": "2022-03-23T18:14:14.912Z"
   },
   {
    "duration": 5,
    "start_time": "2022-03-23T18:14:14.918Z"
   },
   {
    "duration": 7,
    "start_time": "2022-03-23T18:14:14.925Z"
   },
   {
    "duration": 3,
    "start_time": "2022-03-23T18:14:14.934Z"
   },
   {
    "duration": 11,
    "start_time": "2022-03-23T18:14:14.939Z"
   },
   {
    "duration": 5,
    "start_time": "2022-03-23T18:14:14.953Z"
   },
   {
    "duration": 7,
    "start_time": "2022-03-23T18:14:14.959Z"
   },
   {
    "duration": 57,
    "start_time": "2022-03-23T18:14:14.967Z"
   },
   {
    "duration": 37,
    "start_time": "2022-03-23T18:14:15.026Z"
   },
   {
    "duration": 8,
    "start_time": "2022-03-23T18:14:15.065Z"
   },
   {
    "duration": 38,
    "start_time": "2022-03-23T18:14:15.074Z"
   },
   {
    "duration": 24,
    "start_time": "2022-03-23T18:14:15.113Z"
   },
   {
    "duration": 400,
    "start_time": "2022-03-23T18:20:27.469Z"
   },
   {
    "duration": 61,
    "start_time": "2022-03-23T18:20:27.871Z"
   },
   {
    "duration": 29,
    "start_time": "2022-03-23T18:20:27.933Z"
   },
   {
    "duration": 16,
    "start_time": "2022-03-23T18:20:27.963Z"
   },
   {
    "duration": 32,
    "start_time": "2022-03-23T18:20:27.981Z"
   },
   {
    "duration": 4,
    "start_time": "2022-03-23T18:20:28.014Z"
   },
   {
    "duration": 15,
    "start_time": "2022-03-23T18:20:28.020Z"
   },
   {
    "duration": 9,
    "start_time": "2022-03-23T18:20:28.037Z"
   },
   {
    "duration": 3,
    "start_time": "2022-03-23T18:20:28.048Z"
   },
   {
    "duration": 5,
    "start_time": "2022-03-23T18:20:28.053Z"
   },
   {
    "duration": 4,
    "start_time": "2022-03-23T18:20:28.060Z"
   },
   {
    "duration": 12,
    "start_time": "2022-03-23T18:20:28.065Z"
   },
   {
    "duration": 5,
    "start_time": "2022-03-23T18:20:28.109Z"
   },
   {
    "duration": 4,
    "start_time": "2022-03-23T18:20:28.117Z"
   },
   {
    "duration": 20,
    "start_time": "2022-03-23T18:20:28.123Z"
   },
   {
    "duration": 36,
    "start_time": "2022-03-23T18:20:28.145Z"
   },
   {
    "duration": 33,
    "start_time": "2022-03-23T18:20:28.182Z"
   },
   {
    "duration": 12,
    "start_time": "2022-03-23T18:20:28.216Z"
   },
   {
    "duration": 18,
    "start_time": "2022-03-23T18:20:28.230Z"
   },
   {
    "duration": 538,
    "start_time": "2022-03-23T18:27:24.006Z"
   },
   {
    "duration": 362,
    "start_time": "2022-03-23T18:28:48.258Z"
   },
   {
    "duration": 57,
    "start_time": "2022-03-23T18:28:48.621Z"
   },
   {
    "duration": 33,
    "start_time": "2022-03-23T18:28:48.679Z"
   },
   {
    "duration": 15,
    "start_time": "2022-03-23T18:28:48.714Z"
   },
   {
    "duration": 10,
    "start_time": "2022-03-23T18:28:48.731Z"
   },
   {
    "duration": 4,
    "start_time": "2022-03-23T18:28:48.743Z"
   },
   {
    "duration": 12,
    "start_time": "2022-03-23T18:28:48.748Z"
   },
   {
    "duration": 7,
    "start_time": "2022-03-23T18:28:48.761Z"
   },
   {
    "duration": 3,
    "start_time": "2022-03-23T18:28:48.770Z"
   },
   {
    "duration": 4,
    "start_time": "2022-03-23T18:28:48.809Z"
   },
   {
    "duration": 6,
    "start_time": "2022-03-23T18:28:48.814Z"
   },
   {
    "duration": 12,
    "start_time": "2022-03-23T18:28:48.821Z"
   },
   {
    "duration": 6,
    "start_time": "2022-03-23T18:28:48.834Z"
   },
   {
    "duration": 5,
    "start_time": "2022-03-23T18:28:48.841Z"
   },
   {
    "duration": 18,
    "start_time": "2022-03-23T18:28:48.848Z"
   },
   {
    "duration": 67,
    "start_time": "2022-03-23T18:28:48.868Z"
   },
   {
    "duration": 6,
    "start_time": "2022-03-23T18:28:48.937Z"
   },
   {
    "duration": 12,
    "start_time": "2022-03-23T18:28:48.945Z"
   },
   {
    "duration": 18,
    "start_time": "2022-03-23T18:28:48.959Z"
   },
   {
    "duration": 707,
    "start_time": "2022-03-23T18:28:48.979Z"
   },
   {
    "duration": 6,
    "start_time": "2022-03-23T18:36:32.623Z"
   },
   {
    "duration": 392,
    "start_time": "2022-03-23T18:36:38.517Z"
   },
   {
    "duration": 61,
    "start_time": "2022-03-23T18:36:38.911Z"
   },
   {
    "duration": 36,
    "start_time": "2022-03-23T18:36:38.974Z"
   },
   {
    "duration": 16,
    "start_time": "2022-03-23T18:36:39.011Z"
   },
   {
    "duration": 10,
    "start_time": "2022-03-23T18:36:39.029Z"
   },
   {
    "duration": 3,
    "start_time": "2022-03-23T18:36:39.040Z"
   },
   {
    "duration": 9,
    "start_time": "2022-03-23T18:36:39.045Z"
   },
   {
    "duration": 6,
    "start_time": "2022-03-23T18:36:39.055Z"
   },
   {
    "duration": 4,
    "start_time": "2022-03-23T18:36:39.062Z"
   },
   {
    "duration": 4,
    "start_time": "2022-03-23T18:36:39.068Z"
   },
   {
    "duration": 40,
    "start_time": "2022-03-23T18:36:39.073Z"
   },
   {
    "duration": 12,
    "start_time": "2022-03-23T18:36:39.114Z"
   },
   {
    "duration": 6,
    "start_time": "2022-03-23T18:36:39.128Z"
   },
   {
    "duration": 4,
    "start_time": "2022-03-23T18:36:39.136Z"
   },
   {
    "duration": 21,
    "start_time": "2022-03-23T18:36:39.141Z"
   },
   {
    "duration": 64,
    "start_time": "2022-03-23T18:36:39.163Z"
   },
   {
    "duration": 7,
    "start_time": "2022-03-23T18:36:39.229Z"
   },
   {
    "duration": 15,
    "start_time": "2022-03-23T18:36:39.237Z"
   },
   {
    "duration": 19,
    "start_time": "2022-03-23T18:36:39.254Z"
   },
   {
    "duration": 81,
    "start_time": "2022-03-23T18:36:39.275Z"
   },
   {
    "duration": 536,
    "start_time": "2022-03-23T18:37:00.401Z"
   },
   {
    "duration": 424,
    "start_time": "2022-03-23T18:37:05.408Z"
   },
   {
    "duration": 61,
    "start_time": "2022-03-23T18:37:05.834Z"
   },
   {
    "duration": 34,
    "start_time": "2022-03-23T18:37:05.897Z"
   },
   {
    "duration": 16,
    "start_time": "2022-03-23T18:37:05.932Z"
   },
   {
    "duration": 10,
    "start_time": "2022-03-23T18:37:05.950Z"
   },
   {
    "duration": 5,
    "start_time": "2022-03-23T18:37:05.962Z"
   },
   {
    "duration": 11,
    "start_time": "2022-03-23T18:37:05.968Z"
   },
   {
    "duration": 4,
    "start_time": "2022-03-23T18:37:06.009Z"
   },
   {
    "duration": 6,
    "start_time": "2022-03-23T18:37:06.015Z"
   },
   {
    "duration": 7,
    "start_time": "2022-03-23T18:37:06.022Z"
   },
   {
    "duration": 4,
    "start_time": "2022-03-23T18:37:06.030Z"
   },
   {
    "duration": 11,
    "start_time": "2022-03-23T18:37:06.036Z"
   },
   {
    "duration": 8,
    "start_time": "2022-03-23T18:37:06.049Z"
   },
   {
    "duration": 4,
    "start_time": "2022-03-23T18:37:06.060Z"
   },
   {
    "duration": 49,
    "start_time": "2022-03-23T18:37:06.066Z"
   },
   {
    "duration": 36,
    "start_time": "2022-03-23T18:37:06.116Z"
   },
   {
    "duration": 8,
    "start_time": "2022-03-23T18:37:06.154Z"
   },
   {
    "duration": 13,
    "start_time": "2022-03-23T18:37:06.163Z"
   },
   {
    "duration": 46,
    "start_time": "2022-03-23T18:37:06.178Z"
   },
   {
    "duration": 565,
    "start_time": "2022-03-23T18:37:06.226Z"
   },
   {
    "duration": 566,
    "start_time": "2022-03-23T18:37:31.263Z"
   },
   {
    "duration": 503,
    "start_time": "2022-03-23T18:37:58.935Z"
   },
   {
    "duration": 8,
    "start_time": "2022-03-23T18:38:18.473Z"
   },
   {
    "duration": 611,
    "start_time": "2022-03-23T18:38:43.080Z"
   },
   {
    "duration": 600,
    "start_time": "2022-03-23T18:39:09.621Z"
   },
   {
    "duration": 4,
    "start_time": "2022-03-23T18:39:51.352Z"
   },
   {
    "duration": 7,
    "start_time": "2022-03-23T18:39:53.754Z"
   },
   {
    "duration": 386,
    "start_time": "2022-03-23T18:39:59.167Z"
   },
   {
    "duration": 63,
    "start_time": "2022-03-23T18:39:59.554Z"
   },
   {
    "duration": 27,
    "start_time": "2022-03-23T18:39:59.619Z"
   },
   {
    "duration": 15,
    "start_time": "2022-03-23T18:39:59.647Z"
   },
   {
    "duration": 10,
    "start_time": "2022-03-23T18:39:59.664Z"
   },
   {
    "duration": 3,
    "start_time": "2022-03-23T18:39:59.676Z"
   },
   {
    "duration": 34,
    "start_time": "2022-03-23T18:39:59.681Z"
   },
   {
    "duration": 5,
    "start_time": "2022-03-23T18:39:59.717Z"
   },
   {
    "duration": 6,
    "start_time": "2022-03-23T18:39:59.724Z"
   },
   {
    "duration": 9,
    "start_time": "2022-03-23T18:39:59.732Z"
   },
   {
    "duration": 5,
    "start_time": "2022-03-23T18:39:59.742Z"
   },
   {
    "duration": 12,
    "start_time": "2022-03-23T18:39:59.748Z"
   },
   {
    "duration": 6,
    "start_time": "2022-03-23T18:39:59.761Z"
   },
   {
    "duration": 4,
    "start_time": "2022-03-23T18:39:59.770Z"
   },
   {
    "duration": 48,
    "start_time": "2022-03-23T18:39:59.776Z"
   },
   {
    "duration": 35,
    "start_time": "2022-03-23T18:39:59.826Z"
   },
   {
    "duration": 6,
    "start_time": "2022-03-23T18:39:59.863Z"
   },
   {
    "duration": 38,
    "start_time": "2022-03-23T18:39:59.871Z"
   },
   {
    "duration": 23,
    "start_time": "2022-03-23T18:39:59.910Z"
   },
   {
    "duration": 4,
    "start_time": "2022-03-23T18:39:59.934Z"
   },
   {
    "duration": 6,
    "start_time": "2022-03-23T18:39:59.940Z"
   },
   {
    "duration": 461,
    "start_time": "2022-03-23T18:46:51.097Z"
   },
   {
    "duration": 398,
    "start_time": "2022-03-23T18:46:54.534Z"
   },
   {
    "duration": 223,
    "start_time": "2022-03-23T18:46:54.934Z"
   },
   {
    "duration": 27,
    "start_time": "2022-03-23T18:46:55.159Z"
   },
   {
    "duration": 16,
    "start_time": "2022-03-23T18:46:55.189Z"
   },
   {
    "duration": 9,
    "start_time": "2022-03-23T18:46:55.207Z"
   },
   {
    "duration": 4,
    "start_time": "2022-03-23T18:46:55.218Z"
   },
   {
    "duration": 13,
    "start_time": "2022-03-23T18:46:55.223Z"
   },
   {
    "duration": 4,
    "start_time": "2022-03-23T18:46:55.238Z"
   },
   {
    "duration": 4,
    "start_time": "2022-03-23T18:46:55.244Z"
   },
   {
    "duration": 4,
    "start_time": "2022-03-23T18:46:55.251Z"
   },
   {
    "duration": 4,
    "start_time": "2022-03-23T18:46:55.257Z"
   },
   {
    "duration": 10,
    "start_time": "2022-03-23T18:46:55.263Z"
   },
   {
    "duration": 35,
    "start_time": "2022-03-23T18:46:55.275Z"
   },
   {
    "duration": 4,
    "start_time": "2022-03-23T18:46:55.312Z"
   },
   {
    "duration": 20,
    "start_time": "2022-03-23T18:46:55.317Z"
   },
   {
    "duration": 35,
    "start_time": "2022-03-23T18:46:55.339Z"
   },
   {
    "duration": 37,
    "start_time": "2022-03-23T18:46:55.376Z"
   },
   {
    "duration": 14,
    "start_time": "2022-03-23T18:46:55.415Z"
   },
   {
    "duration": 18,
    "start_time": "2022-03-23T18:46:55.430Z"
   },
   {
    "duration": 4,
    "start_time": "2022-03-23T18:46:55.450Z"
   },
   {
    "duration": 380,
    "start_time": "2022-03-23T18:47:27.154Z"
   },
   {
    "duration": 221,
    "start_time": "2022-03-23T18:47:27.536Z"
   },
   {
    "duration": 28,
    "start_time": "2022-03-23T18:47:27.758Z"
   },
   {
    "duration": 15,
    "start_time": "2022-03-23T18:47:27.788Z"
   },
   {
    "duration": 11,
    "start_time": "2022-03-23T18:47:27.805Z"
   },
   {
    "duration": 4,
    "start_time": "2022-03-23T18:47:27.817Z"
   },
   {
    "duration": 13,
    "start_time": "2022-03-23T18:47:27.823Z"
   },
   {
    "duration": 5,
    "start_time": "2022-03-23T18:47:27.837Z"
   },
   {
    "duration": 4,
    "start_time": "2022-03-23T18:47:27.844Z"
   },
   {
    "duration": 23,
    "start_time": "2022-03-23T18:47:27.850Z"
   },
   {
    "duration": 6,
    "start_time": "2022-03-23T18:47:27.875Z"
   },
   {
    "duration": 15,
    "start_time": "2022-03-23T18:47:27.882Z"
   },
   {
    "duration": 10,
    "start_time": "2022-03-23T18:47:27.898Z"
   },
   {
    "duration": 6,
    "start_time": "2022-03-23T18:47:27.910Z"
   },
   {
    "duration": 23,
    "start_time": "2022-03-23T18:47:27.918Z"
   },
   {
    "duration": 36,
    "start_time": "2022-03-23T18:47:27.942Z"
   },
   {
    "duration": 6,
    "start_time": "2022-03-23T18:47:27.980Z"
   },
   {
    "duration": 31,
    "start_time": "2022-03-23T18:47:27.987Z"
   },
   {
    "duration": 21,
    "start_time": "2022-03-23T18:47:28.020Z"
   },
   {
    "duration": 4,
    "start_time": "2022-03-23T18:47:28.043Z"
   },
   {
    "duration": 404,
    "start_time": "2022-03-23T18:48:15.341Z"
   },
   {
    "duration": 229,
    "start_time": "2022-03-23T18:48:15.748Z"
   },
   {
    "duration": 29,
    "start_time": "2022-03-23T18:48:15.978Z"
   },
   {
    "duration": 17,
    "start_time": "2022-03-23T18:48:16.009Z"
   },
   {
    "duration": 10,
    "start_time": "2022-03-23T18:48:16.028Z"
   },
   {
    "duration": 4,
    "start_time": "2022-03-23T18:48:16.040Z"
   },
   {
    "duration": 12,
    "start_time": "2022-03-23T18:48:16.046Z"
   },
   {
    "duration": 4,
    "start_time": "2022-03-23T18:48:16.060Z"
   },
   {
    "duration": 43,
    "start_time": "2022-03-23T18:48:16.066Z"
   },
   {
    "duration": 4,
    "start_time": "2022-03-23T18:48:16.112Z"
   },
   {
    "duration": 4,
    "start_time": "2022-03-23T18:48:16.118Z"
   },
   {
    "duration": 11,
    "start_time": "2022-03-23T18:48:16.123Z"
   },
   {
    "duration": 5,
    "start_time": "2022-03-23T18:48:16.136Z"
   },
   {
    "duration": 4,
    "start_time": "2022-03-23T18:48:16.143Z"
   },
   {
    "duration": 61,
    "start_time": "2022-03-23T18:48:16.149Z"
   },
   {
    "duration": 51,
    "start_time": "2022-03-23T18:48:16.212Z"
   },
   {
    "duration": 7,
    "start_time": "2022-03-23T18:48:16.264Z"
   },
   {
    "duration": 45,
    "start_time": "2022-03-23T18:48:16.273Z"
   },
   {
    "duration": 28,
    "start_time": "2022-03-23T18:48:16.320Z"
   },
   {
    "duration": 5,
    "start_time": "2022-03-23T18:48:16.350Z"
   },
   {
    "duration": 50,
    "start_time": "2022-03-23T18:51:41.343Z"
   },
   {
    "duration": 394,
    "start_time": "2022-03-23T18:51:49.742Z"
   },
   {
    "duration": 208,
    "start_time": "2022-03-23T18:51:50.138Z"
   },
   {
    "duration": 29,
    "start_time": "2022-03-23T18:51:50.348Z"
   },
   {
    "duration": 16,
    "start_time": "2022-03-23T18:51:50.379Z"
   },
   {
    "duration": 16,
    "start_time": "2022-03-23T18:51:50.397Z"
   },
   {
    "duration": 4,
    "start_time": "2022-03-23T18:51:50.415Z"
   },
   {
    "duration": 11,
    "start_time": "2022-03-23T18:51:50.420Z"
   },
   {
    "duration": 8,
    "start_time": "2022-03-23T18:51:50.433Z"
   },
   {
    "duration": 6,
    "start_time": "2022-03-23T18:51:50.443Z"
   },
   {
    "duration": 4,
    "start_time": "2022-03-23T18:51:50.451Z"
   },
   {
    "duration": 12,
    "start_time": "2022-03-23T18:51:50.457Z"
   },
   {
    "duration": 14,
    "start_time": "2022-03-23T18:51:50.471Z"
   },
   {
    "duration": 7,
    "start_time": "2022-03-23T18:51:50.508Z"
   },
   {
    "duration": 6,
    "start_time": "2022-03-23T18:51:50.517Z"
   },
   {
    "duration": 19,
    "start_time": "2022-03-23T18:51:50.525Z"
   },
   {
    "duration": 37,
    "start_time": "2022-03-23T18:51:50.546Z"
   },
   {
    "duration": 8,
    "start_time": "2022-03-23T18:51:50.609Z"
   },
   {
    "duration": 20,
    "start_time": "2022-03-23T18:51:50.619Z"
   },
   {
    "duration": 22,
    "start_time": "2022-03-23T18:51:50.641Z"
   },
   {
    "duration": 5,
    "start_time": "2022-03-23T18:51:50.665Z"
   },
   {
    "duration": 6,
    "start_time": "2022-03-23T18:51:50.672Z"
   },
   {
    "duration": 95,
    "start_time": "2022-03-23T18:51:50.680Z"
   },
   {
    "duration": 8,
    "start_time": "2022-03-23T18:51:59.715Z"
   },
   {
    "duration": 1130,
    "start_time": "2022-03-23T18:52:24.433Z"
   },
   {
    "duration": 413,
    "start_time": "2022-03-23T18:52:32.597Z"
   },
   {
    "duration": 59,
    "start_time": "2022-03-23T18:52:33.012Z"
   },
   {
    "duration": 37,
    "start_time": "2022-03-23T18:52:33.073Z"
   },
   {
    "duration": 18,
    "start_time": "2022-03-23T18:52:33.112Z"
   },
   {
    "duration": 12,
    "start_time": "2022-03-23T18:52:33.132Z"
   },
   {
    "duration": 4,
    "start_time": "2022-03-23T18:52:33.146Z"
   },
   {
    "duration": 11,
    "start_time": "2022-03-23T18:52:33.154Z"
   },
   {
    "duration": 5,
    "start_time": "2022-03-23T18:52:33.166Z"
   },
   {
    "duration": 4,
    "start_time": "2022-03-23T18:52:33.208Z"
   },
   {
    "duration": 6,
    "start_time": "2022-03-23T18:52:33.214Z"
   },
   {
    "duration": 5,
    "start_time": "2022-03-23T18:52:33.222Z"
   },
   {
    "duration": 15,
    "start_time": "2022-03-23T18:52:33.229Z"
   },
   {
    "duration": 7,
    "start_time": "2022-03-23T18:52:33.245Z"
   },
   {
    "duration": 5,
    "start_time": "2022-03-23T18:52:33.254Z"
   },
   {
    "duration": 64,
    "start_time": "2022-03-23T18:52:33.260Z"
   },
   {
    "duration": 47,
    "start_time": "2022-03-23T18:52:33.326Z"
   },
   {
    "duration": 7,
    "start_time": "2022-03-23T18:52:33.375Z"
   },
   {
    "duration": 31,
    "start_time": "2022-03-23T18:52:33.384Z"
   },
   {
    "duration": 18,
    "start_time": "2022-03-23T18:52:33.417Z"
   },
   {
    "duration": 5,
    "start_time": "2022-03-23T18:52:33.437Z"
   },
   {
    "duration": 9,
    "start_time": "2022-03-23T18:52:33.443Z"
   },
   {
    "duration": 9,
    "start_time": "2022-03-23T18:52:33.454Z"
   },
   {
    "duration": 28,
    "start_time": "2022-03-23T18:52:40.813Z"
   },
   {
    "duration": 9,
    "start_time": "2022-03-23T18:53:05.157Z"
   },
   {
    "duration": 17,
    "start_time": "2022-03-23T18:53:13.083Z"
   },
   {
    "duration": 413,
    "start_time": "2022-03-23T19:04:50.718Z"
   },
   {
    "duration": 60,
    "start_time": "2022-03-23T19:04:51.133Z"
   },
   {
    "duration": 31,
    "start_time": "2022-03-23T19:04:51.194Z"
   },
   {
    "duration": 17,
    "start_time": "2022-03-23T19:04:51.226Z"
   },
   {
    "duration": 10,
    "start_time": "2022-03-23T19:04:51.246Z"
   },
   {
    "duration": 7,
    "start_time": "2022-03-23T19:04:51.258Z"
   },
   {
    "duration": 20,
    "start_time": "2022-03-23T19:04:51.267Z"
   },
   {
    "duration": 11,
    "start_time": "2022-03-23T19:04:51.309Z"
   },
   {
    "duration": 12,
    "start_time": "2022-03-23T19:04:51.322Z"
   },
   {
    "duration": 4,
    "start_time": "2022-03-23T19:04:51.337Z"
   },
   {
    "duration": 16,
    "start_time": "2022-03-23T19:04:51.343Z"
   },
   {
    "duration": 14,
    "start_time": "2022-03-23T19:04:51.361Z"
   },
   {
    "duration": 7,
    "start_time": "2022-03-23T19:04:51.377Z"
   },
   {
    "duration": 22,
    "start_time": "2022-03-23T19:04:51.387Z"
   },
   {
    "duration": 20,
    "start_time": "2022-03-23T19:04:51.411Z"
   },
   {
    "duration": 39,
    "start_time": "2022-03-23T19:04:51.433Z"
   },
   {
    "duration": 8,
    "start_time": "2022-03-23T19:04:51.474Z"
   },
   {
    "duration": 12,
    "start_time": "2022-03-23T19:04:51.509Z"
   },
   {
    "duration": 23,
    "start_time": "2022-03-23T19:04:51.524Z"
   },
   {
    "duration": 8,
    "start_time": "2022-03-23T19:04:51.549Z"
   },
   {
    "duration": 8,
    "start_time": "2022-03-23T19:04:51.559Z"
   },
   {
    "duration": 16,
    "start_time": "2022-03-23T19:04:51.569Z"
   },
   {
    "duration": 25,
    "start_time": "2022-03-23T19:04:51.588Z"
   },
   {
    "duration": 24,
    "start_time": "2022-03-23T19:04:51.615Z"
   },
   {
    "duration": 9,
    "start_time": "2022-03-26T18:26:46.868Z"
   },
   {
    "duration": 432,
    "start_time": "2022-03-26T18:26:51.688Z"
   },
   {
    "duration": 60,
    "start_time": "2022-03-26T18:26:52.122Z"
   },
   {
    "duration": 35,
    "start_time": "2022-03-26T18:26:52.184Z"
   },
   {
    "duration": 17,
    "start_time": "2022-03-26T18:26:52.221Z"
   },
   {
    "duration": 11,
    "start_time": "2022-03-26T18:26:52.241Z"
   },
   {
    "duration": 4,
    "start_time": "2022-03-26T18:26:52.254Z"
   },
   {
    "duration": 42,
    "start_time": "2022-03-26T18:26:52.259Z"
   },
   {
    "duration": 5,
    "start_time": "2022-03-26T18:26:52.303Z"
   },
   {
    "duration": 7,
    "start_time": "2022-03-26T18:26:52.309Z"
   },
   {
    "duration": 6,
    "start_time": "2022-03-26T18:26:52.319Z"
   },
   {
    "duration": 11,
    "start_time": "2022-03-26T18:26:52.327Z"
   },
   {
    "duration": 13,
    "start_time": "2022-03-26T18:26:52.339Z"
   },
   {
    "duration": 15,
    "start_time": "2022-03-26T18:26:52.354Z"
   },
   {
    "duration": 7,
    "start_time": "2022-03-26T18:26:52.371Z"
   },
   {
    "duration": 40,
    "start_time": "2022-03-26T18:26:52.379Z"
   },
   {
    "duration": 37,
    "start_time": "2022-03-26T18:26:52.421Z"
   },
   {
    "duration": 8,
    "start_time": "2022-03-26T18:26:52.460Z"
   },
   {
    "duration": 43,
    "start_time": "2022-03-26T18:26:52.470Z"
   },
   {
    "duration": 9,
    "start_time": "2022-03-26T18:26:52.515Z"
   },
   {
    "duration": 8,
    "start_time": "2022-03-26T18:26:52.526Z"
   },
   {
    "duration": 11,
    "start_time": "2022-03-26T18:26:52.536Z"
   },
   {
    "duration": 7,
    "start_time": "2022-03-26T18:26:52.549Z"
   },
   {
    "duration": 20,
    "start_time": "2022-03-26T18:26:52.558Z"
   },
   {
    "duration": 23,
    "start_time": "2022-03-26T18:26:52.580Z"
   },
   {
    "duration": 11,
    "start_time": "2022-03-26T18:29:11.733Z"
   },
   {
    "duration": 19,
    "start_time": "2022-03-26T18:29:34.171Z"
   },
   {
    "duration": 404,
    "start_time": "2022-03-26T18:35:52.033Z"
   },
   {
    "duration": 62,
    "start_time": "2022-03-26T18:35:52.439Z"
   },
   {
    "duration": 32,
    "start_time": "2022-03-26T18:35:52.503Z"
   },
   {
    "duration": 18,
    "start_time": "2022-03-26T18:35:52.537Z"
   },
   {
    "duration": 13,
    "start_time": "2022-03-26T18:35:52.557Z"
   },
   {
    "duration": 5,
    "start_time": "2022-03-26T18:35:52.600Z"
   },
   {
    "duration": 10,
    "start_time": "2022-03-26T18:35:52.607Z"
   },
   {
    "duration": 5,
    "start_time": "2022-03-26T18:35:52.618Z"
   },
   {
    "duration": 4,
    "start_time": "2022-03-26T18:35:52.625Z"
   },
   {
    "duration": 7,
    "start_time": "2022-03-26T18:35:52.632Z"
   },
   {
    "duration": 5,
    "start_time": "2022-03-26T18:35:52.641Z"
   },
   {
    "duration": 15,
    "start_time": "2022-03-26T18:35:52.648Z"
   },
   {
    "duration": 39,
    "start_time": "2022-03-26T18:35:52.664Z"
   },
   {
    "duration": 6,
    "start_time": "2022-03-26T18:35:52.704Z"
   },
   {
    "duration": 22,
    "start_time": "2022-03-26T18:35:52.712Z"
   },
   {
    "duration": 38,
    "start_time": "2022-03-26T18:35:52.736Z"
   },
   {
    "duration": 9,
    "start_time": "2022-03-26T18:35:52.801Z"
   },
   {
    "duration": 15,
    "start_time": "2022-03-26T18:35:52.812Z"
   },
   {
    "duration": 5,
    "start_time": "2022-03-26T18:35:52.829Z"
   },
   {
    "duration": 7,
    "start_time": "2022-03-26T18:35:52.835Z"
   },
   {
    "duration": 11,
    "start_time": "2022-03-26T18:35:52.844Z"
   },
   {
    "duration": 9,
    "start_time": "2022-03-26T18:35:52.857Z"
   },
   {
    "duration": 45,
    "start_time": "2022-03-26T18:35:52.867Z"
   },
   {
    "duration": 5,
    "start_time": "2022-03-26T18:35:52.914Z"
   },
   {
    "duration": 15,
    "start_time": "2022-03-26T18:35:52.921Z"
   },
   {
    "duration": 8,
    "start_time": "2022-03-26T18:35:52.938Z"
   },
   {
    "duration": 14,
    "start_time": "2022-03-26T18:35:52.948Z"
   },
   {
    "duration": 19,
    "start_time": "2022-03-26T18:36:04.749Z"
   },
   {
    "duration": 17,
    "start_time": "2022-03-26T18:36:20.638Z"
   },
   {
    "duration": 150,
    "start_time": "2022-03-26T18:37:16.604Z"
   },
   {
    "duration": 152,
    "start_time": "2022-03-26T18:37:22.932Z"
   },
   {
    "duration": 142,
    "start_time": "2022-03-26T18:37:25.284Z"
   },
   {
    "duration": 4,
    "start_time": "2022-03-26T18:37:31.316Z"
   },
   {
    "duration": 7,
    "start_time": "2022-03-26T18:37:33.624Z"
   },
   {
    "duration": 19,
    "start_time": "2022-03-26T18:37:36.761Z"
   },
   {
    "duration": 4,
    "start_time": "2022-03-26T18:38:19.025Z"
   },
   {
    "duration": 8,
    "start_time": "2022-03-26T18:38:20.350Z"
   },
   {
    "duration": 19,
    "start_time": "2022-03-26T18:38:21.784Z"
   },
   {
    "duration": 9,
    "start_time": "2022-03-26T18:44:28.770Z"
   },
   {
    "duration": 8,
    "start_time": "2022-03-26T18:46:11.365Z"
   },
   {
    "duration": 444,
    "start_time": "2022-03-26T19:05:06.221Z"
   },
   {
    "duration": 68,
    "start_time": "2022-03-26T19:05:06.667Z"
   },
   {
    "duration": 30,
    "start_time": "2022-03-26T19:05:06.737Z"
   },
   {
    "duration": 36,
    "start_time": "2022-03-26T19:05:06.769Z"
   },
   {
    "duration": 12,
    "start_time": "2022-03-26T19:05:06.808Z"
   },
   {
    "duration": 7,
    "start_time": "2022-03-26T19:05:06.823Z"
   },
   {
    "duration": 22,
    "start_time": "2022-03-26T19:05:06.833Z"
   },
   {
    "duration": 8,
    "start_time": "2022-03-26T19:05:06.857Z"
   },
   {
    "duration": 5,
    "start_time": "2022-03-26T19:05:06.868Z"
   },
   {
    "duration": 7,
    "start_time": "2022-03-26T19:05:06.902Z"
   },
   {
    "duration": 7,
    "start_time": "2022-03-26T19:05:06.912Z"
   },
   {
    "duration": 19,
    "start_time": "2022-03-26T19:05:06.922Z"
   },
   {
    "duration": 7,
    "start_time": "2022-03-26T19:05:06.943Z"
   },
   {
    "duration": 13,
    "start_time": "2022-03-26T19:05:06.951Z"
   },
   {
    "duration": 47,
    "start_time": "2022-03-26T19:05:06.966Z"
   },
   {
    "duration": 38,
    "start_time": "2022-03-26T19:05:07.015Z"
   },
   {
    "duration": 8,
    "start_time": "2022-03-26T19:05:07.055Z"
   },
   {
    "duration": 36,
    "start_time": "2022-03-26T19:05:07.065Z"
   },
   {
    "duration": 9,
    "start_time": "2022-03-26T19:05:07.103Z"
   },
   {
    "duration": 88,
    "start_time": "2022-03-26T19:05:07.114Z"
   },
   {
    "duration": 0,
    "start_time": "2022-03-26T19:05:07.205Z"
   },
   {
    "duration": 0,
    "start_time": "2022-03-26T19:05:07.206Z"
   },
   {
    "duration": 0,
    "start_time": "2022-03-26T19:05:07.208Z"
   },
   {
    "duration": 0,
    "start_time": "2022-03-26T19:05:07.210Z"
   },
   {
    "duration": 0,
    "start_time": "2022-03-26T19:05:07.211Z"
   },
   {
    "duration": 0,
    "start_time": "2022-03-26T19:05:07.213Z"
   },
   {
    "duration": 0,
    "start_time": "2022-03-26T19:05:07.214Z"
   },
   {
    "duration": 0,
    "start_time": "2022-03-26T19:05:07.216Z"
   },
   {
    "duration": 0,
    "start_time": "2022-03-26T19:05:07.217Z"
   },
   {
    "duration": 0,
    "start_time": "2022-03-26T19:05:07.219Z"
   },
   {
    "duration": 0,
    "start_time": "2022-03-26T19:05:07.220Z"
   },
   {
    "duration": 426,
    "start_time": "2022-03-26T19:09:20.996Z"
   },
   {
    "duration": 59,
    "start_time": "2022-03-26T19:09:21.424Z"
   },
   {
    "duration": 39,
    "start_time": "2022-03-26T19:09:21.485Z"
   },
   {
    "duration": 18,
    "start_time": "2022-03-26T19:09:21.527Z"
   },
   {
    "duration": 12,
    "start_time": "2022-03-26T19:09:21.548Z"
   },
   {
    "duration": 4,
    "start_time": "2022-03-26T19:09:21.563Z"
   },
   {
    "duration": 11,
    "start_time": "2022-03-26T19:09:21.600Z"
   },
   {
    "duration": 7,
    "start_time": "2022-03-26T19:09:21.613Z"
   },
   {
    "duration": 6,
    "start_time": "2022-03-26T19:09:21.622Z"
   },
   {
    "duration": 6,
    "start_time": "2022-03-26T19:09:21.631Z"
   },
   {
    "duration": 5,
    "start_time": "2022-03-26T19:09:21.639Z"
   },
   {
    "duration": 13,
    "start_time": "2022-03-26T19:09:21.646Z"
   },
   {
    "duration": 41,
    "start_time": "2022-03-26T19:09:21.661Z"
   },
   {
    "duration": 6,
    "start_time": "2022-03-26T19:09:21.704Z"
   },
   {
    "duration": 25,
    "start_time": "2022-03-26T19:09:21.712Z"
   },
   {
    "duration": 36,
    "start_time": "2022-03-26T19:09:21.738Z"
   },
   {
    "duration": 29,
    "start_time": "2022-03-26T19:09:21.776Z"
   },
   {
    "duration": 13,
    "start_time": "2022-03-26T19:09:21.807Z"
   },
   {
    "duration": 10,
    "start_time": "2022-03-26T19:09:21.822Z"
   },
   {
    "duration": 7,
    "start_time": "2022-03-26T19:09:21.834Z"
   },
   {
    "duration": 94,
    "start_time": "2022-03-26T19:09:21.843Z"
   },
   {
    "duration": 0,
    "start_time": "2022-03-26T19:09:21.939Z"
   },
   {
    "duration": 0,
    "start_time": "2022-03-26T19:09:21.941Z"
   },
   {
    "duration": 0,
    "start_time": "2022-03-26T19:09:21.942Z"
   },
   {
    "duration": 0,
    "start_time": "2022-03-26T19:09:21.943Z"
   },
   {
    "duration": 0,
    "start_time": "2022-03-26T19:09:21.944Z"
   },
   {
    "duration": 0,
    "start_time": "2022-03-26T19:09:21.946Z"
   },
   {
    "duration": 0,
    "start_time": "2022-03-26T19:09:21.947Z"
   },
   {
    "duration": 0,
    "start_time": "2022-03-26T19:09:21.948Z"
   },
   {
    "duration": 0,
    "start_time": "2022-03-26T19:09:21.949Z"
   },
   {
    "duration": 0,
    "start_time": "2022-03-26T19:09:21.950Z"
   },
   {
    "duration": 0,
    "start_time": "2022-03-26T19:09:21.952Z"
   },
   {
    "duration": 0,
    "start_time": "2022-03-26T19:09:21.953Z"
   },
   {
    "duration": 0,
    "start_time": "2022-03-26T19:09:21.954Z"
   },
   {
    "duration": 0,
    "start_time": "2022-03-26T19:09:21.955Z"
   },
   {
    "duration": 421,
    "start_time": "2022-03-26T19:09:58.215Z"
   },
   {
    "duration": 64,
    "start_time": "2022-03-26T19:09:58.638Z"
   },
   {
    "duration": 31,
    "start_time": "2022-03-26T19:09:58.704Z"
   },
   {
    "duration": 18,
    "start_time": "2022-03-26T19:09:58.738Z"
   },
   {
    "duration": 11,
    "start_time": "2022-03-26T19:09:58.758Z"
   },
   {
    "duration": 31,
    "start_time": "2022-03-26T19:09:58.771Z"
   },
   {
    "duration": 11,
    "start_time": "2022-03-26T19:09:58.804Z"
   },
   {
    "duration": 5,
    "start_time": "2022-03-26T19:09:58.817Z"
   },
   {
    "duration": 6,
    "start_time": "2022-03-26T19:09:58.823Z"
   },
   {
    "duration": 6,
    "start_time": "2022-03-26T19:09:58.832Z"
   },
   {
    "duration": 6,
    "start_time": "2022-03-26T19:09:58.839Z"
   },
   {
    "duration": 17,
    "start_time": "2022-03-26T19:09:58.846Z"
   },
   {
    "duration": 7,
    "start_time": "2022-03-26T19:09:58.900Z"
   },
   {
    "duration": 9,
    "start_time": "2022-03-26T19:09:58.908Z"
   },
   {
    "duration": 25,
    "start_time": "2022-03-26T19:09:58.919Z"
   },
   {
    "duration": 69,
    "start_time": "2022-03-26T19:09:58.947Z"
   },
   {
    "duration": 9,
    "start_time": "2022-03-26T19:09:59.019Z"
   },
   {
    "duration": 19,
    "start_time": "2022-03-26T19:09:59.029Z"
   },
   {
    "duration": 14,
    "start_time": "2022-03-26T19:09:59.050Z"
   },
   {
    "duration": 5,
    "start_time": "2022-03-26T19:09:59.066Z"
   },
   {
    "duration": 94,
    "start_time": "2022-03-26T19:09:59.072Z"
   },
   {
    "duration": 0,
    "start_time": "2022-03-26T19:09:59.168Z"
   },
   {
    "duration": 0,
    "start_time": "2022-03-26T19:09:59.170Z"
   },
   {
    "duration": 0,
    "start_time": "2022-03-26T19:09:59.171Z"
   },
   {
    "duration": 0,
    "start_time": "2022-03-26T19:09:59.172Z"
   },
   {
    "duration": 0,
    "start_time": "2022-03-26T19:09:59.174Z"
   },
   {
    "duration": 0,
    "start_time": "2022-03-26T19:09:59.174Z"
   },
   {
    "duration": 0,
    "start_time": "2022-03-26T19:09:59.176Z"
   },
   {
    "duration": 0,
    "start_time": "2022-03-26T19:09:59.177Z"
   },
   {
    "duration": 0,
    "start_time": "2022-03-26T19:09:59.178Z"
   },
   {
    "duration": 0,
    "start_time": "2022-03-26T19:09:59.201Z"
   },
   {
    "duration": 0,
    "start_time": "2022-03-26T19:09:59.203Z"
   },
   {
    "duration": 0,
    "start_time": "2022-03-26T19:09:59.204Z"
   },
   {
    "duration": 0,
    "start_time": "2022-03-26T19:09:59.205Z"
   },
   {
    "duration": 0,
    "start_time": "2022-03-26T19:09:59.207Z"
   },
   {
    "duration": 395,
    "start_time": "2022-03-26T19:10:37.837Z"
   },
   {
    "duration": 59,
    "start_time": "2022-03-26T19:10:38.234Z"
   },
   {
    "duration": 34,
    "start_time": "2022-03-26T19:10:38.295Z"
   },
   {
    "duration": 16,
    "start_time": "2022-03-26T19:10:38.331Z"
   },
   {
    "duration": 11,
    "start_time": "2022-03-26T19:10:38.348Z"
   },
   {
    "duration": 4,
    "start_time": "2022-03-26T19:10:38.361Z"
   },
   {
    "duration": 40,
    "start_time": "2022-03-26T19:10:38.367Z"
   },
   {
    "duration": 11,
    "start_time": "2022-03-26T19:10:38.409Z"
   },
   {
    "duration": 5,
    "start_time": "2022-03-26T19:10:38.422Z"
   },
   {
    "duration": 6,
    "start_time": "2022-03-26T19:10:38.430Z"
   },
   {
    "duration": 7,
    "start_time": "2022-03-26T19:10:38.437Z"
   },
   {
    "duration": 13,
    "start_time": "2022-03-26T19:10:38.446Z"
   },
   {
    "duration": 6,
    "start_time": "2022-03-26T19:10:38.461Z"
   },
   {
    "duration": 5,
    "start_time": "2022-03-26T19:10:38.501Z"
   },
   {
    "duration": 21,
    "start_time": "2022-03-26T19:10:38.508Z"
   },
   {
    "duration": 37,
    "start_time": "2022-03-26T19:10:38.531Z"
   },
   {
    "duration": 7,
    "start_time": "2022-03-26T19:10:38.570Z"
   },
   {
    "duration": 34,
    "start_time": "2022-03-26T19:10:38.578Z"
   },
   {
    "duration": 11,
    "start_time": "2022-03-26T19:10:38.613Z"
   },
   {
    "duration": 4,
    "start_time": "2022-03-26T19:10:38.626Z"
   },
   {
    "duration": 11,
    "start_time": "2022-03-26T19:10:38.632Z"
   },
   {
    "duration": 21,
    "start_time": "2022-03-26T19:10:38.644Z"
   },
   {
    "duration": 38,
    "start_time": "2022-03-26T19:10:38.667Z"
   },
   {
    "duration": 13,
    "start_time": "2022-03-26T19:10:38.707Z"
   },
   {
    "duration": 25,
    "start_time": "2022-03-26T19:10:38.722Z"
   },
   {
    "duration": 7,
    "start_time": "2022-03-26T19:10:38.749Z"
   },
   {
    "duration": 8,
    "start_time": "2022-03-26T19:10:38.758Z"
   },
   {
    "duration": 9,
    "start_time": "2022-03-26T19:10:38.770Z"
   },
   {
    "duration": 8,
    "start_time": "2022-03-26T19:10:38.781Z"
   },
   {
    "duration": 16,
    "start_time": "2022-03-26T19:10:38.802Z"
   },
   {
    "duration": 5,
    "start_time": "2022-03-26T19:10:38.820Z"
   },
   {
    "duration": 14,
    "start_time": "2022-03-26T19:10:38.827Z"
   },
   {
    "duration": 10,
    "start_time": "2022-03-26T19:10:38.843Z"
   },
   {
    "duration": 12,
    "start_time": "2022-03-26T19:10:38.855Z"
   },
   {
    "duration": 38,
    "start_time": "2022-03-26T19:10:38.868Z"
   },
   {
    "duration": 433,
    "start_time": "2022-03-26T19:13:28.793Z"
   },
   {
    "duration": 59,
    "start_time": "2022-03-26T19:13:29.228Z"
   },
   {
    "duration": 39,
    "start_time": "2022-03-26T19:13:29.290Z"
   },
   {
    "duration": 18,
    "start_time": "2022-03-26T19:13:29.331Z"
   },
   {
    "duration": 11,
    "start_time": "2022-03-26T19:13:29.351Z"
   },
   {
    "duration": 5,
    "start_time": "2022-03-26T19:13:29.364Z"
   },
   {
    "duration": 32,
    "start_time": "2022-03-26T19:13:29.371Z"
   },
   {
    "duration": 5,
    "start_time": "2022-03-26T19:13:29.405Z"
   },
   {
    "duration": 5,
    "start_time": "2022-03-26T19:13:29.412Z"
   },
   {
    "duration": 6,
    "start_time": "2022-03-26T19:13:29.420Z"
   },
   {
    "duration": 4,
    "start_time": "2022-03-26T19:13:29.428Z"
   },
   {
    "duration": 15,
    "start_time": "2022-03-26T19:13:29.434Z"
   },
   {
    "duration": 9,
    "start_time": "2022-03-26T19:13:29.450Z"
   },
   {
    "duration": 41,
    "start_time": "2022-03-26T19:13:29.460Z"
   },
   {
    "duration": 24,
    "start_time": "2022-03-26T19:13:29.503Z"
   },
   {
    "duration": 36,
    "start_time": "2022-03-26T19:13:29.529Z"
   },
   {
    "duration": 8,
    "start_time": "2022-03-26T19:13:29.567Z"
   },
   {
    "duration": 35,
    "start_time": "2022-03-26T19:13:29.576Z"
   },
   {
    "duration": 11,
    "start_time": "2022-03-26T19:13:29.613Z"
   },
   {
    "duration": 4,
    "start_time": "2022-03-26T19:13:29.626Z"
   },
   {
    "duration": 9,
    "start_time": "2022-03-26T19:13:29.632Z"
   },
   {
    "duration": 24,
    "start_time": "2022-03-26T19:13:29.643Z"
   },
   {
    "duration": 37,
    "start_time": "2022-03-26T19:13:29.669Z"
   },
   {
    "duration": 12,
    "start_time": "2022-03-26T19:13:29.708Z"
   },
   {
    "duration": 11,
    "start_time": "2022-03-26T19:13:29.722Z"
   },
   {
    "duration": 8,
    "start_time": "2022-03-26T19:13:29.735Z"
   },
   {
    "duration": 13,
    "start_time": "2022-03-26T19:13:29.744Z"
   },
   {
    "duration": 19,
    "start_time": "2022-03-26T19:13:29.761Z"
   },
   {
    "duration": 15,
    "start_time": "2022-03-26T19:13:29.782Z"
   },
   {
    "duration": 17,
    "start_time": "2022-03-26T19:13:29.802Z"
   },
   {
    "duration": 6,
    "start_time": "2022-03-26T19:13:29.821Z"
   },
   {
    "duration": 21,
    "start_time": "2022-03-26T19:13:29.828Z"
   },
   {
    "duration": 4,
    "start_time": "2022-03-26T19:13:29.851Z"
   },
   {
    "duration": 25,
    "start_time": "2022-03-26T19:13:29.857Z"
   },
   {
    "duration": 30,
    "start_time": "2022-03-26T19:13:29.884Z"
   },
   {
    "duration": 4,
    "start_time": "2022-03-26T19:14:16.519Z"
   },
   {
    "duration": 9,
    "start_time": "2022-03-26T19:14:18.018Z"
   },
   {
    "duration": 19,
    "start_time": "2022-03-26T19:14:18.924Z"
   },
   {
    "duration": 24,
    "start_time": "2022-03-26T19:14:43.896Z"
   },
   {
    "duration": 25,
    "start_time": "2022-03-26T19:14:53.933Z"
   },
   {
    "duration": 71,
    "start_time": "2022-03-26T19:15:01.473Z"
   },
   {
    "duration": 18,
    "start_time": "2022-03-26T19:15:08.273Z"
   },
   {
    "duration": 4,
    "start_time": "2022-03-26T19:16:07.828Z"
   },
   {
    "duration": 9,
    "start_time": "2022-03-26T19:16:08.443Z"
   },
   {
    "duration": 7,
    "start_time": "2022-03-26T19:16:42.095Z"
   },
   {
    "duration": 170,
    "start_time": "2022-03-26T19:17:59.277Z"
   },
   {
    "duration": 8,
    "start_time": "2022-03-26T19:18:03.329Z"
   },
   {
    "duration": 442,
    "start_time": "2022-03-26T19:19:23.778Z"
   },
   {
    "duration": 60,
    "start_time": "2022-03-26T19:19:24.222Z"
   },
   {
    "duration": 34,
    "start_time": "2022-03-26T19:19:24.284Z"
   },
   {
    "duration": 17,
    "start_time": "2022-03-26T19:19:24.321Z"
   },
   {
    "duration": 12,
    "start_time": "2022-03-26T19:19:24.341Z"
   },
   {
    "duration": 4,
    "start_time": "2022-03-26T19:19:24.355Z"
   },
   {
    "duration": 46,
    "start_time": "2022-03-26T19:19:24.362Z"
   },
   {
    "duration": 6,
    "start_time": "2022-03-26T19:19:24.410Z"
   },
   {
    "duration": 5,
    "start_time": "2022-03-26T19:19:24.418Z"
   },
   {
    "duration": 5,
    "start_time": "2022-03-26T19:19:24.427Z"
   },
   {
    "duration": 4,
    "start_time": "2022-03-26T19:19:24.434Z"
   },
   {
    "duration": 13,
    "start_time": "2022-03-26T19:19:24.440Z"
   },
   {
    "duration": 48,
    "start_time": "2022-03-26T19:19:24.455Z"
   },
   {
    "duration": 5,
    "start_time": "2022-03-26T19:19:24.505Z"
   },
   {
    "duration": 25,
    "start_time": "2022-03-26T19:19:24.512Z"
   },
   {
    "duration": 62,
    "start_time": "2022-03-26T19:19:24.538Z"
   },
   {
    "duration": 8,
    "start_time": "2022-03-26T19:19:24.602Z"
   },
   {
    "duration": 12,
    "start_time": "2022-03-26T19:19:24.613Z"
   },
   {
    "duration": 10,
    "start_time": "2022-03-26T19:19:24.627Z"
   },
   {
    "duration": 6,
    "start_time": "2022-03-26T19:19:24.639Z"
   },
   {
    "duration": 9,
    "start_time": "2022-03-26T19:19:24.647Z"
   },
   {
    "duration": 49,
    "start_time": "2022-03-26T19:19:24.657Z"
   },
   {
    "duration": 13,
    "start_time": "2022-03-26T19:19:24.708Z"
   },
   {
    "duration": 12,
    "start_time": "2022-03-26T19:19:24.723Z"
   },
   {
    "duration": 8,
    "start_time": "2022-03-26T19:19:24.737Z"
   },
   {
    "duration": 8,
    "start_time": "2022-03-26T19:19:24.747Z"
   },
   {
    "duration": 9,
    "start_time": "2022-03-26T19:19:24.757Z"
   },
   {
    "duration": 34,
    "start_time": "2022-03-26T19:19:24.769Z"
   },
   {
    "duration": 8,
    "start_time": "2022-03-26T19:19:24.805Z"
   },
   {
    "duration": 21,
    "start_time": "2022-03-26T19:19:24.814Z"
   },
   {
    "duration": 7,
    "start_time": "2022-03-26T19:19:24.837Z"
   },
   {
    "duration": 14,
    "start_time": "2022-03-26T19:19:24.846Z"
   },
   {
    "duration": 9,
    "start_time": "2022-03-26T19:19:24.862Z"
   },
   {
    "duration": 29,
    "start_time": "2022-03-26T19:19:24.872Z"
   },
   {
    "duration": 8,
    "start_time": "2022-03-26T19:19:24.903Z"
   },
   {
    "duration": 2306,
    "start_time": "2022-03-26T19:21:57.100Z"
   },
   {
    "duration": 2338,
    "start_time": "2022-03-26T19:22:33.285Z"
   },
   {
    "duration": 6,
    "start_time": "2022-03-26T19:22:57.279Z"
   },
   {
    "duration": 9,
    "start_time": "2022-03-26T19:22:59.513Z"
   },
   {
    "duration": 8,
    "start_time": "2022-03-26T19:23:57.560Z"
   },
   {
    "duration": 10,
    "start_time": "2022-03-26T19:24:05.867Z"
   },
   {
    "duration": 8,
    "start_time": "2022-03-26T19:24:15.983Z"
   },
   {
    "duration": 8,
    "start_time": "2022-03-26T19:27:20.646Z"
   },
   {
    "duration": 4,
    "start_time": "2022-03-26T19:27:36.546Z"
   },
   {
    "duration": 7,
    "start_time": "2022-03-26T19:27:38.442Z"
   },
   {
    "duration": 455,
    "start_time": "2022-03-26T19:41:45.509Z"
   },
   {
    "duration": 65,
    "start_time": "2022-03-26T19:41:45.966Z"
   },
   {
    "duration": 31,
    "start_time": "2022-03-26T19:41:46.033Z"
   },
   {
    "duration": 43,
    "start_time": "2022-03-26T19:41:46.066Z"
   },
   {
    "duration": 13,
    "start_time": "2022-03-26T19:41:46.111Z"
   },
   {
    "duration": 5,
    "start_time": "2022-03-26T19:41:46.126Z"
   },
   {
    "duration": 23,
    "start_time": "2022-03-26T19:41:46.133Z"
   },
   {
    "duration": 8,
    "start_time": "2022-03-26T19:41:46.158Z"
   },
   {
    "duration": 6,
    "start_time": "2022-03-26T19:41:46.168Z"
   },
   {
    "duration": 10,
    "start_time": "2022-03-26T19:41:46.203Z"
   },
   {
    "duration": 7,
    "start_time": "2022-03-26T19:41:46.216Z"
   },
   {
    "duration": 17,
    "start_time": "2022-03-26T19:41:46.225Z"
   },
   {
    "duration": 5,
    "start_time": "2022-03-26T19:41:46.244Z"
   },
   {
    "duration": 8,
    "start_time": "2022-03-26T19:41:46.251Z"
   },
   {
    "duration": 43,
    "start_time": "2022-03-26T19:41:46.260Z"
   },
   {
    "duration": 39,
    "start_time": "2022-03-26T19:41:46.305Z"
   },
   {
    "duration": 8,
    "start_time": "2022-03-26T19:41:46.346Z"
   },
   {
    "duration": 21,
    "start_time": "2022-03-26T19:41:46.356Z"
   },
   {
    "duration": 29,
    "start_time": "2022-03-26T19:41:46.379Z"
   },
   {
    "duration": 5,
    "start_time": "2022-03-26T19:41:46.410Z"
   },
   {
    "duration": 12,
    "start_time": "2022-03-26T19:41:46.417Z"
   },
   {
    "duration": 30,
    "start_time": "2022-03-26T19:41:46.431Z"
   },
   {
    "duration": 16,
    "start_time": "2022-03-26T19:41:46.463Z"
   },
   {
    "duration": 40,
    "start_time": "2022-03-26T19:41:46.481Z"
   },
   {
    "duration": 9,
    "start_time": "2022-03-26T19:41:46.523Z"
   },
   {
    "duration": 9,
    "start_time": "2022-03-26T19:41:46.534Z"
   },
   {
    "duration": 10,
    "start_time": "2022-03-26T19:41:46.545Z"
   },
   {
    "duration": 9,
    "start_time": "2022-03-26T19:41:46.559Z"
   },
   {
    "duration": 10,
    "start_time": "2022-03-26T19:41:46.570Z"
   },
   {
    "duration": 19,
    "start_time": "2022-03-26T19:41:46.610Z"
   },
   {
    "duration": 4,
    "start_time": "2022-03-26T19:41:46.631Z"
   },
   {
    "duration": 17,
    "start_time": "2022-03-26T19:41:46.637Z"
   },
   {
    "duration": 11,
    "start_time": "2022-03-26T19:41:46.656Z"
   },
   {
    "duration": 22,
    "start_time": "2022-03-26T19:41:46.669Z"
   },
   {
    "duration": 15,
    "start_time": "2022-03-26T19:41:46.693Z"
   },
   {
    "duration": 15,
    "start_time": "2022-03-26T19:41:46.710Z"
   },
   {
    "duration": 6,
    "start_time": "2022-03-26T19:41:46.728Z"
   },
   {
    "duration": 250,
    "start_time": "2022-03-26T19:41:46.736Z"
   },
   {
    "duration": 4,
    "start_time": "2022-03-26T19:41:46.988Z"
   },
   {
    "duration": 16,
    "start_time": "2022-03-26T19:41:47.000Z"
   },
   {
    "duration": 5,
    "start_time": "2022-03-26T19:44:45.245Z"
   },
   {
    "duration": 4,
    "start_time": "2022-03-26T19:45:10.383Z"
   },
   {
    "duration": 195,
    "start_time": "2022-03-26T19:46:48.476Z"
   },
   {
    "duration": 71,
    "start_time": "2022-03-26T19:47:02.256Z"
   },
   {
    "duration": 456,
    "start_time": "2022-03-26T19:47:23.273Z"
   },
   {
    "duration": 97,
    "start_time": "2022-03-26T19:47:23.731Z"
   },
   {
    "duration": 31,
    "start_time": "2022-03-26T19:47:23.830Z"
   },
   {
    "duration": 17,
    "start_time": "2022-03-26T19:47:23.864Z"
   },
   {
    "duration": 29,
    "start_time": "2022-03-26T19:47:23.883Z"
   },
   {
    "duration": 6,
    "start_time": "2022-03-26T19:47:23.914Z"
   },
   {
    "duration": 15,
    "start_time": "2022-03-26T19:47:23.921Z"
   },
   {
    "duration": 7,
    "start_time": "2022-03-26T19:47:23.938Z"
   },
   {
    "duration": 8,
    "start_time": "2022-03-26T19:47:23.948Z"
   },
   {
    "duration": 15,
    "start_time": "2022-03-26T19:47:23.959Z"
   },
   {
    "duration": 26,
    "start_time": "2022-03-26T19:47:23.976Z"
   },
   {
    "duration": 12,
    "start_time": "2022-03-26T19:47:24.004Z"
   },
   {
    "duration": 16,
    "start_time": "2022-03-26T19:47:24.017Z"
   },
   {
    "duration": 11,
    "start_time": "2022-03-26T19:47:24.035Z"
   },
   {
    "duration": 26,
    "start_time": "2022-03-26T19:47:24.048Z"
   },
   {
    "duration": 51,
    "start_time": "2022-03-26T19:47:24.076Z"
   },
   {
    "duration": 9,
    "start_time": "2022-03-26T19:47:24.129Z"
   },
   {
    "duration": 16,
    "start_time": "2022-03-26T19:47:24.139Z"
   },
   {
    "duration": 8,
    "start_time": "2022-03-26T19:47:24.157Z"
   },
   {
    "duration": 8,
    "start_time": "2022-03-26T19:47:24.167Z"
   },
   {
    "duration": 6,
    "start_time": "2022-03-26T19:47:24.201Z"
   },
   {
    "duration": 25,
    "start_time": "2022-03-26T19:47:24.209Z"
   },
   {
    "duration": 14,
    "start_time": "2022-03-26T19:47:24.236Z"
   },
   {
    "duration": 16,
    "start_time": "2022-03-26T19:47:24.252Z"
   },
   {
    "duration": 31,
    "start_time": "2022-03-26T19:47:24.270Z"
   },
   {
    "duration": 5,
    "start_time": "2022-03-26T19:47:24.303Z"
   },
   {
    "duration": 17,
    "start_time": "2022-03-26T19:47:24.310Z"
   },
   {
    "duration": 10,
    "start_time": "2022-03-26T19:47:24.331Z"
   },
   {
    "duration": 11,
    "start_time": "2022-03-26T19:47:24.343Z"
   },
   {
    "duration": 27,
    "start_time": "2022-03-26T19:47:24.356Z"
   },
   {
    "duration": 16,
    "start_time": "2022-03-26T19:47:24.385Z"
   },
   {
    "duration": 22,
    "start_time": "2022-03-26T19:47:24.403Z"
   },
   {
    "duration": 6,
    "start_time": "2022-03-26T19:47:24.427Z"
   },
   {
    "duration": 15,
    "start_time": "2022-03-26T19:47:24.435Z"
   },
   {
    "duration": 16,
    "start_time": "2022-03-26T19:47:24.452Z"
   },
   {
    "duration": 9,
    "start_time": "2022-03-26T19:47:24.470Z"
   },
   {
    "duration": 82,
    "start_time": "2022-03-26T19:47:24.481Z"
   },
   {
    "duration": 0,
    "start_time": "2022-03-26T19:47:24.565Z"
   },
   {
    "duration": 0,
    "start_time": "2022-03-26T19:47:24.567Z"
   },
   {
    "duration": 7,
    "start_time": "2022-03-26T19:48:49.366Z"
   },
   {
    "duration": 453,
    "start_time": "2022-03-26T19:49:04.472Z"
   },
   {
    "duration": 63,
    "start_time": "2022-03-26T19:49:04.927Z"
   },
   {
    "duration": 30,
    "start_time": "2022-03-26T19:49:04.993Z"
   },
   {
    "duration": 17,
    "start_time": "2022-03-26T19:49:05.026Z"
   },
   {
    "duration": 11,
    "start_time": "2022-03-26T19:49:05.046Z"
   },
   {
    "duration": 5,
    "start_time": "2022-03-26T19:49:05.058Z"
   },
   {
    "duration": 42,
    "start_time": "2022-03-26T19:49:05.065Z"
   },
   {
    "duration": 8,
    "start_time": "2022-03-26T19:49:05.109Z"
   },
   {
    "duration": 5,
    "start_time": "2022-03-26T19:49:05.119Z"
   },
   {
    "duration": 5,
    "start_time": "2022-03-26T19:49:05.128Z"
   },
   {
    "duration": 6,
    "start_time": "2022-03-26T19:49:05.135Z"
   },
   {
    "duration": 12,
    "start_time": "2022-03-26T19:49:05.143Z"
   },
   {
    "duration": 5,
    "start_time": "2022-03-26T19:49:05.158Z"
   },
   {
    "duration": 4,
    "start_time": "2022-03-26T19:49:05.202Z"
   },
   {
    "duration": 30,
    "start_time": "2022-03-26T19:49:05.208Z"
   },
   {
    "duration": 40,
    "start_time": "2022-03-26T19:49:05.240Z"
   },
   {
    "duration": 26,
    "start_time": "2022-03-26T19:49:05.282Z"
   },
   {
    "duration": 16,
    "start_time": "2022-03-26T19:49:05.310Z"
   },
   {
    "duration": 16,
    "start_time": "2022-03-26T19:49:05.328Z"
   },
   {
    "duration": 7,
    "start_time": "2022-03-26T19:49:05.345Z"
   },
   {
    "duration": 9,
    "start_time": "2022-03-26T19:49:05.354Z"
   },
   {
    "duration": 40,
    "start_time": "2022-03-26T19:49:05.366Z"
   },
   {
    "duration": 13,
    "start_time": "2022-03-26T19:49:05.408Z"
   },
   {
    "duration": 16,
    "start_time": "2022-03-26T19:49:05.423Z"
   },
   {
    "duration": 8,
    "start_time": "2022-03-26T19:49:05.441Z"
   },
   {
    "duration": 15,
    "start_time": "2022-03-26T19:49:05.450Z"
   },
   {
    "duration": 10,
    "start_time": "2022-03-26T19:49:05.467Z"
   },
   {
    "duration": 26,
    "start_time": "2022-03-26T19:49:05.481Z"
   },
   {
    "duration": 11,
    "start_time": "2022-03-26T19:49:05.509Z"
   },
   {
    "duration": 33,
    "start_time": "2022-03-26T19:49:05.522Z"
   },
   {
    "duration": 10,
    "start_time": "2022-03-26T19:49:05.557Z"
   },
   {
    "duration": 20,
    "start_time": "2022-03-26T19:49:05.569Z"
   },
   {
    "duration": 8,
    "start_time": "2022-03-26T19:49:05.591Z"
   },
   {
    "duration": 18,
    "start_time": "2022-03-26T19:49:05.601Z"
   },
   {
    "duration": 13,
    "start_time": "2022-03-26T19:49:05.620Z"
   },
   {
    "duration": 13,
    "start_time": "2022-03-26T19:49:05.635Z"
   },
   {
    "duration": 75,
    "start_time": "2022-03-26T19:49:05.650Z"
   },
   {
    "duration": 0,
    "start_time": "2022-03-26T19:49:05.727Z"
   },
   {
    "duration": 0,
    "start_time": "2022-03-26T19:49:05.728Z"
   },
   {
    "duration": 456,
    "start_time": "2022-03-26T19:50:13.906Z"
   },
   {
    "duration": 69,
    "start_time": "2022-03-26T19:50:14.364Z"
   },
   {
    "duration": 30,
    "start_time": "2022-03-26T19:50:14.436Z"
   },
   {
    "duration": 36,
    "start_time": "2022-03-26T19:50:14.469Z"
   },
   {
    "duration": 19,
    "start_time": "2022-03-26T19:50:14.507Z"
   },
   {
    "duration": 4,
    "start_time": "2022-03-26T19:50:14.529Z"
   },
   {
    "duration": 13,
    "start_time": "2022-03-26T19:50:14.535Z"
   },
   {
    "duration": 6,
    "start_time": "2022-03-26T19:50:14.549Z"
   },
   {
    "duration": 4,
    "start_time": "2022-03-26T19:50:14.557Z"
   },
   {
    "duration": 37,
    "start_time": "2022-03-26T19:50:14.565Z"
   },
   {
    "duration": 9,
    "start_time": "2022-03-26T19:50:14.604Z"
   },
   {
    "duration": 15,
    "start_time": "2022-03-26T19:50:14.615Z"
   },
   {
    "duration": 7,
    "start_time": "2022-03-26T19:50:14.631Z"
   },
   {
    "duration": 10,
    "start_time": "2022-03-26T19:50:14.640Z"
   },
   {
    "duration": 26,
    "start_time": "2022-03-26T19:50:14.652Z"
   },
   {
    "duration": 57,
    "start_time": "2022-03-26T19:50:14.680Z"
   },
   {
    "duration": 8,
    "start_time": "2022-03-26T19:50:14.739Z"
   },
   {
    "duration": 15,
    "start_time": "2022-03-26T19:50:14.749Z"
   },
   {
    "duration": 37,
    "start_time": "2022-03-26T19:50:14.766Z"
   },
   {
    "duration": 10,
    "start_time": "2022-03-26T19:50:14.805Z"
   },
   {
    "duration": 8,
    "start_time": "2022-03-26T19:50:14.818Z"
   },
   {
    "duration": 22,
    "start_time": "2022-03-26T19:50:14.828Z"
   },
   {
    "duration": 13,
    "start_time": "2022-03-26T19:50:14.853Z"
   },
   {
    "duration": 38,
    "start_time": "2022-03-26T19:50:14.868Z"
   },
   {
    "duration": 9,
    "start_time": "2022-03-26T19:50:14.907Z"
   },
   {
    "duration": 11,
    "start_time": "2022-03-26T19:50:14.917Z"
   },
   {
    "duration": 9,
    "start_time": "2022-03-26T19:50:14.930Z"
   },
   {
    "duration": 14,
    "start_time": "2022-03-26T19:50:14.943Z"
   },
   {
    "duration": 10,
    "start_time": "2022-03-26T19:50:14.959Z"
   },
   {
    "duration": 52,
    "start_time": "2022-03-26T19:50:14.972Z"
   },
   {
    "duration": 9,
    "start_time": "2022-03-26T19:50:15.026Z"
   },
   {
    "duration": 90,
    "start_time": "2022-03-26T19:50:15.037Z"
   },
   {
    "duration": 0,
    "start_time": "2022-03-26T19:50:15.129Z"
   },
   {
    "duration": 0,
    "start_time": "2022-03-26T19:50:15.130Z"
   },
   {
    "duration": 0,
    "start_time": "2022-03-26T19:50:15.131Z"
   },
   {
    "duration": 0,
    "start_time": "2022-03-26T19:50:15.132Z"
   },
   {
    "duration": 0,
    "start_time": "2022-03-26T19:50:15.134Z"
   },
   {
    "duration": 0,
    "start_time": "2022-03-26T19:50:15.135Z"
   },
   {
    "duration": 0,
    "start_time": "2022-03-26T19:50:15.136Z"
   },
   {
    "duration": 205,
    "start_time": "2022-03-26T19:52:39.796Z"
   },
   {
    "duration": 410,
    "start_time": "2022-03-26T19:52:45.445Z"
   },
   {
    "duration": 68,
    "start_time": "2022-03-26T19:52:45.857Z"
   },
   {
    "duration": 34,
    "start_time": "2022-03-26T19:52:45.926Z"
   },
   {
    "duration": 44,
    "start_time": "2022-03-26T19:52:45.962Z"
   },
   {
    "duration": 17,
    "start_time": "2022-03-26T19:52:46.007Z"
   },
   {
    "duration": 4,
    "start_time": "2022-03-26T19:52:46.026Z"
   },
   {
    "duration": 12,
    "start_time": "2022-03-26T19:52:46.032Z"
   },
   {
    "duration": 7,
    "start_time": "2022-03-26T19:52:46.046Z"
   },
   {
    "duration": 11,
    "start_time": "2022-03-26T19:52:46.055Z"
   },
   {
    "duration": 33,
    "start_time": "2022-03-26T19:52:46.069Z"
   },
   {
    "duration": 7,
    "start_time": "2022-03-26T19:52:46.104Z"
   },
   {
    "duration": 15,
    "start_time": "2022-03-26T19:52:46.113Z"
   },
   {
    "duration": 6,
    "start_time": "2022-03-26T19:52:46.130Z"
   },
   {
    "duration": 10,
    "start_time": "2022-03-26T19:52:46.137Z"
   },
   {
    "duration": 28,
    "start_time": "2022-03-26T19:52:46.149Z"
   },
   {
    "duration": 57,
    "start_time": "2022-03-26T19:52:46.179Z"
   },
   {
    "duration": 9,
    "start_time": "2022-03-26T19:52:46.237Z"
   },
   {
    "duration": 17,
    "start_time": "2022-03-26T19:52:46.248Z"
   },
   {
    "duration": 9,
    "start_time": "2022-03-26T19:52:46.267Z"
   },
   {
    "duration": 24,
    "start_time": "2022-03-26T19:52:46.277Z"
   },
   {
    "duration": 10,
    "start_time": "2022-03-26T19:52:46.303Z"
   },
   {
    "duration": 31,
    "start_time": "2022-03-26T19:52:46.315Z"
   },
   {
    "duration": 21,
    "start_time": "2022-03-26T19:52:46.348Z"
   },
   {
    "duration": 14,
    "start_time": "2022-03-26T19:52:46.371Z"
   },
   {
    "duration": 8,
    "start_time": "2022-03-26T19:52:46.401Z"
   },
   {
    "duration": 12,
    "start_time": "2022-03-26T19:52:46.411Z"
   },
   {
    "duration": 8,
    "start_time": "2022-03-26T19:52:46.425Z"
   },
   {
    "duration": 9,
    "start_time": "2022-03-26T19:52:46.437Z"
   },
   {
    "duration": 9,
    "start_time": "2022-03-26T19:52:46.449Z"
   },
   {
    "duration": 40,
    "start_time": "2022-03-26T19:52:46.461Z"
   },
   {
    "duration": 6,
    "start_time": "2022-03-26T19:52:46.503Z"
   },
   {
    "duration": 218,
    "start_time": "2022-03-26T19:52:46.512Z"
   },
   {
    "duration": 5,
    "start_time": "2022-03-26T19:52:46.731Z"
   },
   {
    "duration": 13,
    "start_time": "2022-03-26T19:52:46.737Z"
   },
   {
    "duration": 6,
    "start_time": "2022-03-26T19:52:46.753Z"
   },
   {
    "duration": 10,
    "start_time": "2022-03-26T19:52:46.761Z"
   },
   {
    "duration": 32,
    "start_time": "2022-03-26T19:52:46.773Z"
   },
   {
    "duration": 8,
    "start_time": "2022-03-26T19:52:46.806Z"
   },
   {
    "duration": 8,
    "start_time": "2022-03-26T19:52:46.816Z"
   },
   {
    "duration": 562,
    "start_time": "2022-03-26T19:54:12.281Z"
   },
   {
    "duration": 95,
    "start_time": "2022-03-26T19:54:12.846Z"
   },
   {
    "duration": 43,
    "start_time": "2022-03-26T19:54:12.943Z"
   },
   {
    "duration": 17,
    "start_time": "2022-03-26T19:54:13.002Z"
   },
   {
    "duration": 11,
    "start_time": "2022-03-26T19:54:13.021Z"
   },
   {
    "duration": 4,
    "start_time": "2022-03-26T19:54:13.034Z"
   },
   {
    "duration": 11,
    "start_time": "2022-03-26T19:54:13.040Z"
   },
   {
    "duration": 5,
    "start_time": "2022-03-26T19:54:13.053Z"
   },
   {
    "duration": 42,
    "start_time": "2022-03-26T19:54:13.062Z"
   },
   {
    "duration": 6,
    "start_time": "2022-03-26T19:54:13.107Z"
   },
   {
    "duration": 6,
    "start_time": "2022-03-26T19:54:13.115Z"
   },
   {
    "duration": 13,
    "start_time": "2022-03-26T19:54:13.123Z"
   },
   {
    "duration": 6,
    "start_time": "2022-03-26T19:54:13.137Z"
   },
   {
    "duration": 10,
    "start_time": "2022-03-26T19:54:13.145Z"
   },
   {
    "duration": 50,
    "start_time": "2022-03-26T19:54:13.157Z"
   },
   {
    "duration": 38,
    "start_time": "2022-03-26T19:54:13.209Z"
   },
   {
    "duration": 7,
    "start_time": "2022-03-26T19:54:13.250Z"
   },
   {
    "duration": 15,
    "start_time": "2022-03-26T19:54:13.259Z"
   },
   {
    "duration": 8,
    "start_time": "2022-03-26T19:54:13.302Z"
   },
   {
    "duration": 5,
    "start_time": "2022-03-26T19:54:13.312Z"
   },
   {
    "duration": 9,
    "start_time": "2022-03-26T19:54:13.318Z"
   },
   {
    "duration": 22,
    "start_time": "2022-03-26T19:54:13.329Z"
   },
   {
    "duration": 14,
    "start_time": "2022-03-26T19:54:13.353Z"
   },
   {
    "duration": 40,
    "start_time": "2022-03-26T19:54:13.370Z"
   },
   {
    "duration": 8,
    "start_time": "2022-03-26T19:54:13.412Z"
   },
   {
    "duration": 8,
    "start_time": "2022-03-26T19:54:13.421Z"
   },
   {
    "duration": 11,
    "start_time": "2022-03-26T19:54:13.431Z"
   },
   {
    "duration": 11,
    "start_time": "2022-03-26T19:54:13.445Z"
   },
   {
    "duration": 10,
    "start_time": "2022-03-26T19:54:13.458Z"
   },
   {
    "duration": 41,
    "start_time": "2022-03-26T19:54:13.470Z"
   },
   {
    "duration": 4,
    "start_time": "2022-03-26T19:54:13.513Z"
   },
   {
    "duration": 17,
    "start_time": "2022-03-26T19:54:13.519Z"
   },
   {
    "duration": 9,
    "start_time": "2022-03-26T19:54:13.537Z"
   },
   {
    "duration": 13,
    "start_time": "2022-03-26T19:54:13.548Z"
   },
   {
    "duration": 11,
    "start_time": "2022-03-26T19:54:13.563Z"
   },
   {
    "duration": 13,
    "start_time": "2022-03-26T19:54:13.575Z"
   },
   {
    "duration": 6,
    "start_time": "2022-03-26T19:54:13.600Z"
   },
   {
    "duration": 72,
    "start_time": "2022-03-26T19:54:13.608Z"
   },
   {
    "duration": 0,
    "start_time": "2022-03-26T19:54:13.681Z"
   },
   {
    "duration": 0,
    "start_time": "2022-03-26T19:54:13.683Z"
   },
   {
    "duration": 200,
    "start_time": "2022-03-26T19:54:28.265Z"
   },
   {
    "duration": 8,
    "start_time": "2022-03-26T19:54:54.896Z"
   },
   {
    "duration": 487,
    "start_time": "2022-03-26T19:58:44.714Z"
   },
   {
    "duration": 72,
    "start_time": "2022-03-26T19:58:45.204Z"
   },
   {
    "duration": 41,
    "start_time": "2022-03-26T19:58:45.278Z"
   },
   {
    "duration": 17,
    "start_time": "2022-03-26T19:58:45.322Z"
   },
   {
    "duration": 11,
    "start_time": "2022-03-26T19:58:45.341Z"
   },
   {
    "duration": 4,
    "start_time": "2022-03-26T19:58:45.354Z"
   },
   {
    "duration": 11,
    "start_time": "2022-03-26T19:58:45.360Z"
   },
   {
    "duration": 5,
    "start_time": "2022-03-26T19:58:45.402Z"
   },
   {
    "duration": 5,
    "start_time": "2022-03-26T19:58:45.408Z"
   },
   {
    "duration": 7,
    "start_time": "2022-03-26T19:58:45.416Z"
   },
   {
    "duration": 7,
    "start_time": "2022-03-26T19:58:45.425Z"
   },
   {
    "duration": 16,
    "start_time": "2022-03-26T19:58:45.434Z"
   },
   {
    "duration": 5,
    "start_time": "2022-03-26T19:58:45.452Z"
   },
   {
    "duration": 8,
    "start_time": "2022-03-26T19:58:45.460Z"
   },
   {
    "duration": 23,
    "start_time": "2022-03-26T19:58:45.501Z"
   },
   {
    "duration": 38,
    "start_time": "2022-03-26T19:58:45.526Z"
   },
   {
    "duration": 8,
    "start_time": "2022-03-26T19:58:45.566Z"
   },
   {
    "duration": 41,
    "start_time": "2022-03-26T19:58:45.576Z"
   },
   {
    "duration": 12,
    "start_time": "2022-03-26T19:58:45.618Z"
   },
   {
    "duration": 5,
    "start_time": "2022-03-26T19:58:45.632Z"
   },
   {
    "duration": 10,
    "start_time": "2022-03-26T19:58:45.639Z"
   },
   {
    "duration": 24,
    "start_time": "2022-03-26T19:58:45.651Z"
   },
   {
    "duration": 34,
    "start_time": "2022-03-26T19:58:45.678Z"
   },
   {
    "duration": 15,
    "start_time": "2022-03-26T19:58:45.714Z"
   },
   {
    "duration": 8,
    "start_time": "2022-03-26T19:58:45.731Z"
   },
   {
    "duration": 8,
    "start_time": "2022-03-26T19:58:45.741Z"
   },
   {
    "duration": 13,
    "start_time": "2022-03-26T19:58:45.750Z"
   },
   {
    "duration": 35,
    "start_time": "2022-03-26T19:58:45.767Z"
   },
   {
    "duration": 7,
    "start_time": "2022-03-26T19:58:45.804Z"
   },
   {
    "duration": 18,
    "start_time": "2022-03-26T19:58:45.813Z"
   },
   {
    "duration": 4,
    "start_time": "2022-03-26T19:58:45.833Z"
   },
   {
    "duration": 22,
    "start_time": "2022-03-26T19:58:45.839Z"
   },
   {
    "duration": 5,
    "start_time": "2022-03-26T19:58:45.863Z"
   },
   {
    "duration": 38,
    "start_time": "2022-03-26T19:58:45.869Z"
   },
   {
    "duration": 9,
    "start_time": "2022-03-26T19:58:45.909Z"
   },
   {
    "duration": 7,
    "start_time": "2022-03-26T19:58:45.920Z"
   },
   {
    "duration": 224,
    "start_time": "2022-03-26T19:58:45.928Z"
   },
   {
    "duration": 8,
    "start_time": "2022-03-26T19:58:46.154Z"
   },
   {
    "duration": 8,
    "start_time": "2022-03-26T19:58:46.164Z"
   },
   {
    "duration": 30,
    "start_time": "2022-03-26T19:58:46.174Z"
   },
   {
    "duration": 4,
    "start_time": "2022-03-26T20:01:00.175Z"
   },
   {
    "duration": 4,
    "start_time": "2022-03-26T20:01:02.059Z"
   },
   {
    "duration": 198,
    "start_time": "2022-03-26T20:01:46.631Z"
   },
   {
    "duration": 8,
    "start_time": "2022-03-26T20:01:48.254Z"
   },
   {
    "duration": 495,
    "start_time": "2022-03-26T20:02:00.568Z"
   },
   {
    "duration": 66,
    "start_time": "2022-03-26T20:02:01.066Z"
   },
   {
    "duration": 33,
    "start_time": "2022-03-26T20:02:01.134Z"
   },
   {
    "duration": 40,
    "start_time": "2022-03-26T20:02:01.170Z"
   },
   {
    "duration": 12,
    "start_time": "2022-03-26T20:02:01.212Z"
   },
   {
    "duration": 15,
    "start_time": "2022-03-26T20:02:01.226Z"
   },
   {
    "duration": 21,
    "start_time": "2022-03-26T20:02:01.243Z"
   },
   {
    "duration": 11,
    "start_time": "2022-03-26T20:02:01.265Z"
   },
   {
    "duration": 9,
    "start_time": "2022-03-26T20:02:01.278Z"
   },
   {
    "duration": 15,
    "start_time": "2022-03-26T20:02:01.290Z"
   },
   {
    "duration": 15,
    "start_time": "2022-03-26T20:02:01.306Z"
   },
   {
    "duration": 16,
    "start_time": "2022-03-26T20:02:01.324Z"
   },
   {
    "duration": 15,
    "start_time": "2022-03-26T20:02:01.343Z"
   },
   {
    "duration": 9,
    "start_time": "2022-03-26T20:02:01.361Z"
   },
   {
    "duration": 34,
    "start_time": "2022-03-26T20:02:01.372Z"
   },
   {
    "duration": 41,
    "start_time": "2022-03-26T20:02:01.408Z"
   },
   {
    "duration": 9,
    "start_time": "2022-03-26T20:02:01.451Z"
   },
   {
    "duration": 42,
    "start_time": "2022-03-26T20:02:01.462Z"
   },
   {
    "duration": 16,
    "start_time": "2022-03-26T20:02:01.507Z"
   },
   {
    "duration": 9,
    "start_time": "2022-03-26T20:02:01.525Z"
   },
   {
    "duration": 13,
    "start_time": "2022-03-26T20:02:01.536Z"
   },
   {
    "duration": 29,
    "start_time": "2022-03-26T20:02:01.551Z"
   },
   {
    "duration": 27,
    "start_time": "2022-03-26T20:02:01.582Z"
   },
   {
    "duration": 16,
    "start_time": "2022-03-26T20:02:01.611Z"
   },
   {
    "duration": 14,
    "start_time": "2022-03-26T20:02:01.629Z"
   },
   {
    "duration": 13,
    "start_time": "2022-03-26T20:02:01.645Z"
   },
   {
    "duration": 10,
    "start_time": "2022-03-26T20:02:01.660Z"
   },
   {
    "duration": 28,
    "start_time": "2022-03-26T20:02:01.674Z"
   },
   {
    "duration": 38,
    "start_time": "2022-03-26T20:02:01.705Z"
   },
   {
    "duration": 23,
    "start_time": "2022-03-26T20:02:01.744Z"
   },
   {
    "duration": 8,
    "start_time": "2022-03-26T20:02:01.769Z"
   },
   {
    "duration": 15,
    "start_time": "2022-03-26T20:02:01.779Z"
   },
   {
    "duration": 9,
    "start_time": "2022-03-26T20:02:01.797Z"
   },
   {
    "duration": 40,
    "start_time": "2022-03-26T20:02:01.808Z"
   },
   {
    "duration": 20,
    "start_time": "2022-03-26T20:02:01.850Z"
   },
   {
    "duration": 10,
    "start_time": "2022-03-26T20:02:01.873Z"
   },
   {
    "duration": 246,
    "start_time": "2022-03-26T20:02:01.886Z"
   },
   {
    "duration": 9,
    "start_time": "2022-03-26T20:02:02.134Z"
   },
   {
    "duration": 14,
    "start_time": "2022-03-26T20:02:02.145Z"
   },
   {
    "duration": 7,
    "start_time": "2022-03-26T20:02:02.162Z"
   },
   {
    "duration": 224,
    "start_time": "2022-03-26T20:02:02.172Z"
   },
   {
    "duration": 9,
    "start_time": "2022-03-26T20:02:02.401Z"
   },
   {
    "duration": 80,
    "start_time": "2022-03-26T20:02:51.143Z"
   },
   {
    "duration": 23,
    "start_time": "2022-03-26T20:03:10.626Z"
   },
   {
    "duration": 4,
    "start_time": "2022-03-26T20:03:26.113Z"
   },
   {
    "duration": 210,
    "start_time": "2022-03-26T20:03:27.211Z"
   },
   {
    "duration": 8,
    "start_time": "2022-03-26T20:03:28.666Z"
   },
   {
    "duration": 4,
    "start_time": "2022-03-26T20:03:43.085Z"
   },
   {
    "duration": 196,
    "start_time": "2022-03-26T20:03:43.486Z"
   },
   {
    "duration": 8,
    "start_time": "2022-03-26T20:03:43.838Z"
   },
   {
    "duration": 142,
    "start_time": "2022-03-26T20:04:24.715Z"
   },
   {
    "duration": 9,
    "start_time": "2022-03-27T09:19:56.634Z"
   },
   {
    "duration": 38,
    "start_time": "2022-03-27T09:19:57.990Z"
   },
   {
    "duration": 378,
    "start_time": "2022-03-27T09:20:04.892Z"
   },
   {
    "duration": 56,
    "start_time": "2022-03-27T09:20:05.273Z"
   },
   {
    "duration": 25,
    "start_time": "2022-03-27T09:20:05.331Z"
   },
   {
    "duration": 13,
    "start_time": "2022-03-27T09:20:05.358Z"
   },
   {
    "duration": 10,
    "start_time": "2022-03-27T09:20:05.382Z"
   },
   {
    "duration": 4,
    "start_time": "2022-03-27T09:20:05.393Z"
   },
   {
    "duration": 11,
    "start_time": "2022-03-27T09:20:05.398Z"
   },
   {
    "duration": 7,
    "start_time": "2022-03-27T09:20:05.410Z"
   },
   {
    "duration": 5,
    "start_time": "2022-03-27T09:20:05.418Z"
   },
   {
    "duration": 6,
    "start_time": "2022-03-27T09:20:05.424Z"
   },
   {
    "duration": 4,
    "start_time": "2022-03-27T09:20:05.432Z"
   },
   {
    "duration": 11,
    "start_time": "2022-03-27T09:20:05.437Z"
   },
   {
    "duration": 34,
    "start_time": "2022-03-27T09:20:05.449Z"
   },
   {
    "duration": 4,
    "start_time": "2022-03-27T09:20:05.487Z"
   },
   {
    "duration": 20,
    "start_time": "2022-03-27T09:20:05.492Z"
   },
   {
    "duration": 30,
    "start_time": "2022-03-27T09:20:05.514Z"
   },
   {
    "duration": 6,
    "start_time": "2022-03-27T09:20:05.545Z"
   },
   {
    "duration": 37,
    "start_time": "2022-03-27T09:20:05.552Z"
   },
   {
    "duration": 9,
    "start_time": "2022-03-27T09:20:05.590Z"
   },
   {
    "duration": 4,
    "start_time": "2022-03-27T09:20:05.600Z"
   },
   {
    "duration": 6,
    "start_time": "2022-03-27T09:20:05.606Z"
   },
   {
    "duration": 19,
    "start_time": "2022-03-27T09:20:05.614Z"
   },
   {
    "duration": 11,
    "start_time": "2022-03-27T09:20:05.635Z"
   },
   {
    "duration": 11,
    "start_time": "2022-03-27T09:20:05.647Z"
   },
   {
    "duration": 6,
    "start_time": "2022-03-27T09:20:05.681Z"
   },
   {
    "duration": 5,
    "start_time": "2022-03-27T09:20:05.689Z"
   },
   {
    "duration": 7,
    "start_time": "2022-03-27T09:20:05.696Z"
   },
   {
    "duration": 10,
    "start_time": "2022-03-27T09:20:05.704Z"
   },
   {
    "duration": 10,
    "start_time": "2022-03-27T09:20:05.716Z"
   },
   {
    "duration": 15,
    "start_time": "2022-03-27T09:20:05.727Z"
   },
   {
    "duration": 3,
    "start_time": "2022-03-27T09:20:05.744Z"
   },
   {
    "duration": 10,
    "start_time": "2022-03-27T09:20:05.748Z"
   },
   {
    "duration": 22,
    "start_time": "2022-03-27T09:20:05.759Z"
   },
   {
    "duration": 11,
    "start_time": "2022-03-27T09:20:05.782Z"
   },
   {
    "duration": 6,
    "start_time": "2022-03-27T09:20:05.794Z"
   },
   {
    "duration": 8,
    "start_time": "2022-03-27T09:20:05.802Z"
   },
   {
    "duration": 193,
    "start_time": "2022-03-27T09:20:05.811Z"
   },
   {
    "duration": 8,
    "start_time": "2022-03-27T09:20:06.005Z"
   },
   {
    "duration": 5,
    "start_time": "2022-03-27T09:20:06.014Z"
   },
   {
    "duration": 194,
    "start_time": "2022-03-27T09:20:06.021Z"
   },
   {
    "duration": 6,
    "start_time": "2022-03-27T09:20:06.218Z"
   },
   {
    "duration": 5,
    "start_time": "2022-03-27T09:20:06.225Z"
   },
   {
    "duration": 190,
    "start_time": "2022-03-27T09:20:06.231Z"
   },
   {
    "duration": 7,
    "start_time": "2022-03-27T09:20:06.422Z"
   },
   {
    "duration": 6,
    "start_time": "2022-03-27T09:54:09.912Z"
   },
   {
    "duration": 294,
    "start_time": "2022-03-27T09:54:10.452Z"
   },
   {
    "duration": 9,
    "start_time": "2022-03-27T09:54:10.858Z"
   },
   {
    "duration": 3,
    "start_time": "2022-03-27T09:59:16.559Z"
   },
   {
    "duration": 6,
    "start_time": "2022-03-27T09:59:34.047Z"
   },
   {
    "duration": 3,
    "start_time": "2022-03-27T10:01:39.693Z"
   },
   {
    "duration": 7,
    "start_time": "2022-03-27T10:03:52.998Z"
   },
   {
    "duration": 3,
    "start_time": "2022-03-27T10:06:40.466Z"
   },
   {
    "duration": 7,
    "start_time": "2022-03-27T10:06:59.360Z"
   },
   {
    "duration": 365,
    "start_time": "2022-03-27T10:07:04.207Z"
   },
   {
    "duration": 66,
    "start_time": "2022-03-27T10:07:04.574Z"
   },
   {
    "duration": 25,
    "start_time": "2022-03-27T10:07:04.641Z"
   },
   {
    "duration": 14,
    "start_time": "2022-03-27T10:07:04.667Z"
   },
   {
    "duration": 10,
    "start_time": "2022-03-27T10:07:04.684Z"
   },
   {
    "duration": 4,
    "start_time": "2022-03-27T10:07:04.695Z"
   },
   {
    "duration": 12,
    "start_time": "2022-03-27T10:07:04.700Z"
   },
   {
    "duration": 5,
    "start_time": "2022-03-27T10:07:04.713Z"
   },
   {
    "duration": 4,
    "start_time": "2022-03-27T10:07:04.719Z"
   },
   {
    "duration": 4,
    "start_time": "2022-03-27T10:07:04.725Z"
   },
   {
    "duration": 6,
    "start_time": "2022-03-27T10:07:04.730Z"
   },
   {
    "duration": 11,
    "start_time": "2022-03-27T10:07:04.737Z"
   },
   {
    "duration": 5,
    "start_time": "2022-03-27T10:07:04.749Z"
   },
   {
    "duration": 3,
    "start_time": "2022-03-27T10:07:04.782Z"
   },
   {
    "duration": 18,
    "start_time": "2022-03-27T10:07:04.787Z"
   },
   {
    "duration": 29,
    "start_time": "2022-03-27T10:07:04.807Z"
   },
   {
    "duration": 6,
    "start_time": "2022-03-27T10:07:04.837Z"
   },
   {
    "duration": 37,
    "start_time": "2022-03-27T10:07:04.844Z"
   },
   {
    "duration": 6,
    "start_time": "2022-03-27T10:07:04.883Z"
   },
   {
    "duration": 7,
    "start_time": "2022-03-27T10:07:04.890Z"
   },
   {
    "duration": 6,
    "start_time": "2022-03-27T10:07:04.899Z"
   },
   {
    "duration": 22,
    "start_time": "2022-03-27T10:07:04.906Z"
   },
   {
    "duration": 10,
    "start_time": "2022-03-27T10:07:04.930Z"
   },
   {
    "duration": 10,
    "start_time": "2022-03-27T10:07:04.941Z"
   },
   {
    "duration": 5,
    "start_time": "2022-03-27T10:07:04.953Z"
   },
   {
    "duration": 22,
    "start_time": "2022-03-27T10:07:04.960Z"
   },
   {
    "duration": 5,
    "start_time": "2022-03-27T10:07:04.984Z"
   },
   {
    "duration": 8,
    "start_time": "2022-03-27T10:07:04.990Z"
   },
   {
    "duration": 6,
    "start_time": "2022-03-27T10:07:04.999Z"
   },
   {
    "duration": 14,
    "start_time": "2022-03-27T10:07:05.006Z"
   },
   {
    "duration": 9,
    "start_time": "2022-03-27T10:07:05.021Z"
   },
   {
    "duration": 19,
    "start_time": "2022-03-27T10:07:05.031Z"
   },
   {
    "duration": 9,
    "start_time": "2022-03-27T10:07:05.052Z"
   },
   {
    "duration": 7,
    "start_time": "2022-03-27T10:07:05.063Z"
   },
   {
    "duration": 17,
    "start_time": "2022-03-27T10:07:05.071Z"
   },
   {
    "duration": 6,
    "start_time": "2022-03-27T10:07:05.090Z"
   },
   {
    "duration": 5,
    "start_time": "2022-03-27T10:07:05.097Z"
   },
   {
    "duration": 178,
    "start_time": "2022-03-27T10:07:05.103Z"
   },
   {
    "duration": 6,
    "start_time": "2022-03-27T10:07:05.283Z"
   },
   {
    "duration": 6,
    "start_time": "2022-03-27T10:07:05.290Z"
   },
   {
    "duration": 173,
    "start_time": "2022-03-27T10:07:05.299Z"
   },
   {
    "duration": 11,
    "start_time": "2022-03-27T10:07:05.473Z"
   },
   {
    "duration": 6,
    "start_time": "2022-03-27T10:07:05.485Z"
   },
   {
    "duration": 179,
    "start_time": "2022-03-27T10:07:05.492Z"
   },
   {
    "duration": 10,
    "start_time": "2022-03-27T10:07:05.672Z"
   },
   {
    "duration": 8,
    "start_time": "2022-03-27T10:07:05.683Z"
   },
   {
    "duration": 12,
    "start_time": "2022-03-27T10:07:05.692Z"
   },
   {
    "duration": 4,
    "start_time": "2022-03-27T10:07:05.706Z"
   },
   {
    "duration": 177,
    "start_time": "2022-03-27T10:07:05.711Z"
   },
   {
    "duration": 6,
    "start_time": "2022-03-27T10:07:05.890Z"
   },
   {
    "duration": 6,
    "start_time": "2022-03-27T10:07:05.897Z"
   },
   {
    "duration": 10,
    "start_time": "2022-03-27T10:07:05.904Z"
   },
   {
    "duration": 3,
    "start_time": "2022-03-27T10:10:35.264Z"
   },
   {
    "duration": 8,
    "start_time": "2022-03-27T10:10:36.013Z"
   },
   {
    "duration": 7,
    "start_time": "2022-03-27T10:10:36.542Z"
   },
   {
    "duration": 353,
    "start_time": "2022-03-27T10:10:47.022Z"
   },
   {
    "duration": 68,
    "start_time": "2022-03-27T10:10:47.377Z"
   },
   {
    "duration": 24,
    "start_time": "2022-03-27T10:10:47.446Z"
   },
   {
    "duration": 13,
    "start_time": "2022-03-27T10:10:47.471Z"
   },
   {
    "duration": 13,
    "start_time": "2022-03-27T10:10:47.486Z"
   },
   {
    "duration": 4,
    "start_time": "2022-03-27T10:10:47.500Z"
   },
   {
    "duration": 10,
    "start_time": "2022-03-27T10:10:47.505Z"
   },
   {
    "duration": 7,
    "start_time": "2022-03-27T10:10:47.516Z"
   },
   {
    "duration": 4,
    "start_time": "2022-03-27T10:10:47.525Z"
   },
   {
    "duration": 6,
    "start_time": "2022-03-27T10:10:47.532Z"
   },
   {
    "duration": 7,
    "start_time": "2022-03-27T10:10:47.539Z"
   },
   {
    "duration": 11,
    "start_time": "2022-03-27T10:10:47.547Z"
   },
   {
    "duration": 4,
    "start_time": "2022-03-27T10:10:47.580Z"
   },
   {
    "duration": 5,
    "start_time": "2022-03-27T10:10:47.586Z"
   },
   {
    "duration": 20,
    "start_time": "2022-03-27T10:10:47.593Z"
   },
   {
    "duration": 34,
    "start_time": "2022-03-27T10:10:47.615Z"
   },
   {
    "duration": 30,
    "start_time": "2022-03-27T10:10:47.651Z"
   },
   {
    "duration": 11,
    "start_time": "2022-03-27T10:10:47.682Z"
   },
   {
    "duration": 9,
    "start_time": "2022-03-27T10:10:47.695Z"
   },
   {
    "duration": 4,
    "start_time": "2022-03-27T10:10:47.705Z"
   },
   {
    "duration": 6,
    "start_time": "2022-03-27T10:10:47.711Z"
   },
   {
    "duration": 18,
    "start_time": "2022-03-27T10:10:47.719Z"
   },
   {
    "duration": 11,
    "start_time": "2022-03-27T10:10:47.738Z"
   },
   {
    "duration": 39,
    "start_time": "2022-03-27T10:10:47.750Z"
   },
   {
    "duration": 6,
    "start_time": "2022-03-27T10:10:47.790Z"
   },
   {
    "duration": 6,
    "start_time": "2022-03-27T10:10:47.798Z"
   },
   {
    "duration": 12,
    "start_time": "2022-03-27T10:10:47.805Z"
   },
   {
    "duration": 12,
    "start_time": "2022-03-27T10:10:47.820Z"
   },
   {
    "duration": 5,
    "start_time": "2022-03-27T10:10:47.834Z"
   },
   {
    "duration": 20,
    "start_time": "2022-03-27T10:10:47.840Z"
   },
   {
    "duration": 4,
    "start_time": "2022-03-27T10:10:47.862Z"
   },
   {
    "duration": 20,
    "start_time": "2022-03-27T10:10:47.867Z"
   },
   {
    "duration": 5,
    "start_time": "2022-03-27T10:10:47.888Z"
   },
   {
    "duration": 5,
    "start_time": "2022-03-27T10:10:47.894Z"
   },
   {
    "duration": 11,
    "start_time": "2022-03-27T10:10:47.901Z"
   },
   {
    "duration": 8,
    "start_time": "2022-03-27T10:10:47.913Z"
   },
   {
    "duration": 6,
    "start_time": "2022-03-27T10:10:47.922Z"
   },
   {
    "duration": 184,
    "start_time": "2022-03-27T10:10:47.929Z"
   },
   {
    "duration": 6,
    "start_time": "2022-03-27T10:10:48.114Z"
   },
   {
    "duration": 6,
    "start_time": "2022-03-27T10:10:48.121Z"
   },
   {
    "duration": 174,
    "start_time": "2022-03-27T10:10:48.129Z"
   },
   {
    "duration": 6,
    "start_time": "2022-03-27T10:10:48.305Z"
   },
   {
    "duration": 6,
    "start_time": "2022-03-27T10:10:48.312Z"
   },
   {
    "duration": 282,
    "start_time": "2022-03-27T10:10:48.319Z"
   },
   {
    "duration": 6,
    "start_time": "2022-03-27T10:10:48.602Z"
   },
   {
    "duration": 16,
    "start_time": "2022-03-27T10:10:48.610Z"
   },
   {
    "duration": 12,
    "start_time": "2022-03-27T10:10:48.627Z"
   },
   {
    "duration": 4,
    "start_time": "2022-03-27T10:10:48.640Z"
   },
   {
    "duration": 175,
    "start_time": "2022-03-27T10:10:48.645Z"
   },
   {
    "duration": 5,
    "start_time": "2022-03-27T10:10:48.822Z"
   },
   {
    "duration": 5,
    "start_time": "2022-03-27T10:10:48.829Z"
   },
   {
    "duration": 11,
    "start_time": "2022-03-27T10:10:48.835Z"
   },
   {
    "duration": 403,
    "start_time": "2022-03-27T10:13:22.374Z"
   },
   {
    "duration": 64,
    "start_time": "2022-03-27T10:13:22.780Z"
   },
   {
    "duration": 23,
    "start_time": "2022-03-27T10:13:22.846Z"
   },
   {
    "duration": 14,
    "start_time": "2022-03-27T10:13:22.870Z"
   },
   {
    "duration": 22,
    "start_time": "2022-03-27T10:13:22.887Z"
   },
   {
    "duration": 3,
    "start_time": "2022-03-27T10:13:22.911Z"
   },
   {
    "duration": 8,
    "start_time": "2022-03-27T10:13:22.915Z"
   },
   {
    "duration": 4,
    "start_time": "2022-03-27T10:13:22.925Z"
   },
   {
    "duration": 3,
    "start_time": "2022-03-27T10:13:22.931Z"
   },
   {
    "duration": 5,
    "start_time": "2022-03-27T10:13:22.935Z"
   },
   {
    "duration": 3,
    "start_time": "2022-03-27T10:13:22.941Z"
   },
   {
    "duration": 11,
    "start_time": "2022-03-27T10:13:22.945Z"
   },
   {
    "duration": 25,
    "start_time": "2022-03-27T10:13:22.957Z"
   },
   {
    "duration": 5,
    "start_time": "2022-03-27T10:13:22.985Z"
   },
   {
    "duration": 30,
    "start_time": "2022-03-27T10:13:22.991Z"
   },
   {
    "duration": 31,
    "start_time": "2022-03-27T10:13:23.023Z"
   },
   {
    "duration": 6,
    "start_time": "2022-03-27T10:13:23.056Z"
   },
   {
    "duration": 30,
    "start_time": "2022-03-27T10:13:23.064Z"
   },
   {
    "duration": 7,
    "start_time": "2022-03-27T10:13:23.096Z"
   },
   {
    "duration": 7,
    "start_time": "2022-03-27T10:13:23.105Z"
   },
   {
    "duration": 7,
    "start_time": "2022-03-27T10:13:23.113Z"
   },
   {
    "duration": 20,
    "start_time": "2022-03-27T10:13:23.121Z"
   },
   {
    "duration": 11,
    "start_time": "2022-03-27T10:13:23.142Z"
   },
   {
    "duration": 28,
    "start_time": "2022-03-27T10:13:23.154Z"
   },
   {
    "duration": 10,
    "start_time": "2022-03-27T10:13:23.184Z"
   },
   {
    "duration": 7,
    "start_time": "2022-03-27T10:13:23.196Z"
   },
   {
    "duration": 5,
    "start_time": "2022-03-27T10:13:23.204Z"
   },
   {
    "duration": 7,
    "start_time": "2022-03-27T10:13:23.211Z"
   },
   {
    "duration": 7,
    "start_time": "2022-03-27T10:13:23.219Z"
   },
   {
    "duration": 15,
    "start_time": "2022-03-27T10:13:23.227Z"
   },
   {
    "duration": 4,
    "start_time": "2022-03-27T10:13:23.243Z"
   },
   {
    "duration": 47,
    "start_time": "2022-03-27T10:13:23.248Z"
   },
   {
    "duration": 9,
    "start_time": "2022-03-27T10:13:23.297Z"
   },
   {
    "duration": 4,
    "start_time": "2022-03-27T10:13:23.307Z"
   },
   {
    "duration": 10,
    "start_time": "2022-03-27T10:13:23.313Z"
   },
   {
    "duration": 6,
    "start_time": "2022-03-27T10:13:23.324Z"
   },
   {
    "duration": 10,
    "start_time": "2022-03-27T10:13:23.331Z"
   },
   {
    "duration": 214,
    "start_time": "2022-03-27T10:13:23.342Z"
   },
   {
    "duration": 7,
    "start_time": "2022-03-27T10:13:23.558Z"
   },
   {
    "duration": 15,
    "start_time": "2022-03-27T10:13:23.567Z"
   },
   {
    "duration": 210,
    "start_time": "2022-03-27T10:13:23.588Z"
   },
   {
    "duration": 5,
    "start_time": "2022-03-27T10:13:23.800Z"
   },
   {
    "duration": 9,
    "start_time": "2022-03-27T10:13:23.806Z"
   },
   {
    "duration": 5,
    "start_time": "2022-03-27T10:13:23.816Z"
   },
   {
    "duration": 207,
    "start_time": "2022-03-27T10:13:23.822Z"
   },
   {
    "duration": 7,
    "start_time": "2022-03-27T10:13:24.031Z"
   },
   {
    "duration": 5,
    "start_time": "2022-03-27T10:13:24.039Z"
   },
   {
    "duration": 12,
    "start_time": "2022-03-27T10:13:24.046Z"
   },
   {
    "duration": 4,
    "start_time": "2022-03-27T10:13:24.060Z"
   },
   {
    "duration": 192,
    "start_time": "2022-03-27T10:13:24.080Z"
   },
   {
    "duration": 10,
    "start_time": "2022-03-27T10:13:24.274Z"
   },
   {
    "duration": 6,
    "start_time": "2022-03-27T10:13:24.285Z"
   },
   {
    "duration": 23,
    "start_time": "2022-03-27T10:13:24.293Z"
   },
   {
    "duration": 57,
    "start_time": "2022-03-27T10:15:48.319Z"
   },
   {
    "duration": 6,
    "start_time": "2022-03-27T10:16:04.708Z"
   },
   {
    "duration": 7,
    "start_time": "2022-03-27T10:16:13.995Z"
   },
   {
    "duration": 8,
    "start_time": "2022-03-27T10:16:37.066Z"
   },
   {
    "duration": 14,
    "start_time": "2022-03-27T10:16:46.759Z"
   },
   {
    "duration": 143,
    "start_time": "2022-03-27T10:31:02.997Z"
   },
   {
    "duration": 44,
    "start_time": "2022-03-27T10:31:12.418Z"
   },
   {
    "duration": 416,
    "start_time": "2022-03-27T10:31:19.533Z"
   },
   {
    "duration": 70,
    "start_time": "2022-03-27T10:31:19.951Z"
   },
   {
    "duration": 30,
    "start_time": "2022-03-27T10:31:20.023Z"
   },
   {
    "duration": 17,
    "start_time": "2022-03-27T10:31:20.056Z"
   },
   {
    "duration": 35,
    "start_time": "2022-03-27T10:31:20.075Z"
   },
   {
    "duration": 7,
    "start_time": "2022-03-27T10:31:20.112Z"
   },
   {
    "duration": 12,
    "start_time": "2022-03-27T10:31:20.121Z"
   },
   {
    "duration": 11,
    "start_time": "2022-03-27T10:31:20.135Z"
   },
   {
    "duration": 7,
    "start_time": "2022-03-27T10:31:20.148Z"
   },
   {
    "duration": 6,
    "start_time": "2022-03-27T10:31:20.159Z"
   },
   {
    "duration": 34,
    "start_time": "2022-03-27T10:31:20.167Z"
   },
   {
    "duration": 12,
    "start_time": "2022-03-27T10:31:20.203Z"
   },
   {
    "duration": 10,
    "start_time": "2022-03-27T10:31:20.217Z"
   },
   {
    "duration": 14,
    "start_time": "2022-03-27T10:31:20.229Z"
   },
   {
    "duration": 25,
    "start_time": "2022-03-27T10:31:20.245Z"
   },
   {
    "duration": 54,
    "start_time": "2022-03-27T10:31:20.272Z"
   },
   {
    "duration": 8,
    "start_time": "2022-03-27T10:31:20.328Z"
   },
   {
    "duration": 19,
    "start_time": "2022-03-27T10:31:20.337Z"
   },
   {
    "duration": 12,
    "start_time": "2022-03-27T10:31:20.358Z"
   },
   {
    "duration": 5,
    "start_time": "2022-03-27T10:31:20.372Z"
   },
   {
    "duration": 7,
    "start_time": "2022-03-27T10:31:20.400Z"
   },
   {
    "duration": 24,
    "start_time": "2022-03-27T10:31:20.409Z"
   },
   {
    "duration": 14,
    "start_time": "2022-03-27T10:31:20.434Z"
   },
   {
    "duration": 14,
    "start_time": "2022-03-27T10:31:20.450Z"
   },
   {
    "duration": 37,
    "start_time": "2022-03-27T10:31:20.465Z"
   },
   {
    "duration": 4,
    "start_time": "2022-03-27T10:31:20.504Z"
   },
   {
    "duration": 7,
    "start_time": "2022-03-27T10:31:20.510Z"
   },
   {
    "duration": 11,
    "start_time": "2022-03-27T10:31:20.521Z"
   },
   {
    "duration": 12,
    "start_time": "2022-03-27T10:31:20.534Z"
   },
   {
    "duration": 21,
    "start_time": "2022-03-27T10:31:20.548Z"
   },
   {
    "duration": 4,
    "start_time": "2022-03-27T10:31:20.571Z"
   },
   {
    "duration": 11,
    "start_time": "2022-03-27T10:31:20.601Z"
   },
   {
    "duration": 11,
    "start_time": "2022-03-27T10:31:20.614Z"
   },
   {
    "duration": 14,
    "start_time": "2022-03-27T10:31:20.626Z"
   },
   {
    "duration": 18,
    "start_time": "2022-03-27T10:31:20.642Z"
   },
   {
    "duration": 13,
    "start_time": "2022-03-27T10:31:20.661Z"
   },
   {
    "duration": 10,
    "start_time": "2022-03-27T10:31:20.676Z"
   },
   {
    "duration": 216,
    "start_time": "2022-03-27T10:31:20.688Z"
   },
   {
    "duration": 8,
    "start_time": "2022-03-27T10:31:20.906Z"
   },
   {
    "duration": 9,
    "start_time": "2022-03-27T10:31:20.916Z"
   },
   {
    "duration": 218,
    "start_time": "2022-03-27T10:31:20.927Z"
   },
   {
    "duration": 7,
    "start_time": "2022-03-27T10:31:21.147Z"
   },
   {
    "duration": 13,
    "start_time": "2022-03-27T10:31:21.156Z"
   },
   {
    "duration": 88,
    "start_time": "2022-03-27T10:31:21.171Z"
   },
   {
    "duration": 0,
    "start_time": "2022-03-27T10:31:21.261Z"
   },
   {
    "duration": 0,
    "start_time": "2022-03-27T10:31:21.263Z"
   },
   {
    "duration": 1,
    "start_time": "2022-03-27T10:31:21.264Z"
   },
   {
    "duration": 0,
    "start_time": "2022-03-27T10:31:21.266Z"
   },
   {
    "duration": 0,
    "start_time": "2022-03-27T10:31:21.267Z"
   },
   {
    "duration": 0,
    "start_time": "2022-03-27T10:31:21.269Z"
   },
   {
    "duration": 0,
    "start_time": "2022-03-27T10:31:21.270Z"
   },
   {
    "duration": 0,
    "start_time": "2022-03-27T10:31:21.272Z"
   },
   {
    "duration": 0,
    "start_time": "2022-03-27T10:31:21.273Z"
   },
   {
    "duration": 0,
    "start_time": "2022-03-27T10:31:21.275Z"
   },
   {
    "duration": 442,
    "start_time": "2022-03-27T10:32:03.003Z"
   },
   {
    "duration": 68,
    "start_time": "2022-03-27T10:32:03.448Z"
   },
   {
    "duration": 30,
    "start_time": "2022-03-27T10:32:03.518Z"
   },
   {
    "duration": 18,
    "start_time": "2022-03-27T10:32:03.550Z"
   },
   {
    "duration": 35,
    "start_time": "2022-03-27T10:32:03.570Z"
   },
   {
    "duration": 5,
    "start_time": "2022-03-27T10:32:03.607Z"
   },
   {
    "duration": 14,
    "start_time": "2022-03-27T10:32:03.614Z"
   },
   {
    "duration": 12,
    "start_time": "2022-03-27T10:32:03.630Z"
   },
   {
    "duration": 12,
    "start_time": "2022-03-27T10:32:03.644Z"
   },
   {
    "duration": 9,
    "start_time": "2022-03-27T10:32:03.658Z"
   },
   {
    "duration": 7,
    "start_time": "2022-03-27T10:32:03.669Z"
   },
   {
    "duration": 9,
    "start_time": "2022-03-27T10:32:03.678Z"
   },
   {
    "duration": 12,
    "start_time": "2022-03-27T10:32:03.702Z"
   },
   {
    "duration": 13,
    "start_time": "2022-03-27T10:32:03.717Z"
   },
   {
    "duration": 10,
    "start_time": "2022-03-27T10:32:03.732Z"
   },
   {
    "duration": 33,
    "start_time": "2022-03-27T10:32:03.744Z"
   },
   {
    "duration": 51,
    "start_time": "2022-03-27T10:32:03.779Z"
   },
   {
    "duration": 8,
    "start_time": "2022-03-27T10:32:03.832Z"
   },
   {
    "duration": 16,
    "start_time": "2022-03-27T10:32:03.842Z"
   },
   {
    "duration": 21,
    "start_time": "2022-03-27T10:32:03.860Z"
   },
   {
    "duration": 21,
    "start_time": "2022-03-27T10:32:03.882Z"
   },
   {
    "duration": 10,
    "start_time": "2022-03-27T10:32:03.904Z"
   },
   {
    "duration": 25,
    "start_time": "2022-03-27T10:32:03.916Z"
   },
   {
    "duration": 13,
    "start_time": "2022-03-27T10:32:03.943Z"
   },
   {
    "duration": 14,
    "start_time": "2022-03-27T10:32:03.957Z"
   },
   {
    "duration": 33,
    "start_time": "2022-03-27T10:32:03.973Z"
   },
   {
    "duration": 8,
    "start_time": "2022-03-27T10:32:04.007Z"
   },
   {
    "duration": 11,
    "start_time": "2022-03-27T10:32:04.017Z"
   },
   {
    "duration": 13,
    "start_time": "2022-03-27T10:32:04.029Z"
   },
   {
    "duration": 15,
    "start_time": "2022-03-27T10:32:04.044Z"
   },
   {
    "duration": 21,
    "start_time": "2022-03-27T10:32:04.061Z"
   },
   {
    "duration": 20,
    "start_time": "2022-03-27T10:32:04.084Z"
   },
   {
    "duration": 16,
    "start_time": "2022-03-27T10:32:04.106Z"
   },
   {
    "duration": 20,
    "start_time": "2022-03-27T10:32:04.124Z"
   },
   {
    "duration": 16,
    "start_time": "2022-03-27T10:32:04.146Z"
   },
   {
    "duration": 20,
    "start_time": "2022-03-27T10:32:04.163Z"
   },
   {
    "duration": 17,
    "start_time": "2022-03-27T10:32:04.185Z"
   },
   {
    "duration": 10,
    "start_time": "2022-03-27T10:32:04.203Z"
   },
   {
    "duration": 203,
    "start_time": "2022-03-27T10:32:04.214Z"
   },
   {
    "duration": 8,
    "start_time": "2022-03-27T10:32:04.419Z"
   },
   {
    "duration": 4,
    "start_time": "2022-03-27T10:32:04.431Z"
   },
   {
    "duration": 216,
    "start_time": "2022-03-27T10:32:04.436Z"
   },
   {
    "duration": 6,
    "start_time": "2022-03-27T10:32:04.654Z"
   },
   {
    "duration": 12,
    "start_time": "2022-03-27T10:32:04.662Z"
   },
   {
    "duration": 26,
    "start_time": "2022-03-27T10:32:04.676Z"
   },
   {
    "duration": 208,
    "start_time": "2022-03-27T10:32:04.703Z"
   },
   {
    "duration": 8,
    "start_time": "2022-03-27T10:32:04.913Z"
   },
   {
    "duration": 11,
    "start_time": "2022-03-27T10:32:04.923Z"
   },
   {
    "duration": 35,
    "start_time": "2022-03-27T10:32:04.935Z"
   },
   {
    "duration": 14,
    "start_time": "2022-03-27T10:32:04.971Z"
   },
   {
    "duration": 203,
    "start_time": "2022-03-27T10:32:04.986Z"
   },
   {
    "duration": 8,
    "start_time": "2022-03-27T10:32:05.190Z"
   },
   {
    "duration": 5,
    "start_time": "2022-03-27T10:32:05.201Z"
   },
   {
    "duration": 15,
    "start_time": "2022-03-27T10:32:05.207Z"
   },
   {
    "duration": 10,
    "start_time": "2022-03-27T10:32:31.307Z"
   },
   {
    "duration": 67,
    "start_time": "2022-03-27T10:32:48.764Z"
   },
   {
    "duration": 10,
    "start_time": "2022-03-27T10:32:59.391Z"
   },
   {
    "duration": 4,
    "start_time": "2022-03-27T10:33:49.516Z"
   },
   {
    "duration": 5,
    "start_time": "2022-03-27T10:35:01.106Z"
   },
   {
    "duration": 15,
    "start_time": "2022-03-27T10:35:12.904Z"
   },
   {
    "duration": 10,
    "start_time": "2022-03-27T10:36:38.420Z"
   },
   {
    "duration": 10,
    "start_time": "2022-03-27T10:37:37.693Z"
   },
   {
    "duration": 11,
    "start_time": "2022-03-27T10:37:45.327Z"
   },
   {
    "duration": 12,
    "start_time": "2022-03-27T10:39:13.476Z"
   },
   {
    "duration": 13,
    "start_time": "2022-03-27T10:39:21.936Z"
   },
   {
    "duration": 442,
    "start_time": "2022-03-27T10:39:28.381Z"
   },
   {
    "duration": 66,
    "start_time": "2022-03-27T10:39:28.825Z"
   },
   {
    "duration": 35,
    "start_time": "2022-03-27T10:39:28.894Z"
   },
   {
    "duration": 18,
    "start_time": "2022-03-27T10:39:28.932Z"
   },
   {
    "duration": 13,
    "start_time": "2022-03-27T10:39:28.952Z"
   },
   {
    "duration": 34,
    "start_time": "2022-03-27T10:39:28.967Z"
   },
   {
    "duration": 7,
    "start_time": "2022-03-27T10:39:29.003Z"
   },
   {
    "duration": 16,
    "start_time": "2022-03-27T10:39:29.012Z"
   },
   {
    "duration": 7,
    "start_time": "2022-03-27T10:39:29.030Z"
   },
   {
    "duration": 7,
    "start_time": "2022-03-27T10:39:29.039Z"
   },
   {
    "duration": 7,
    "start_time": "2022-03-27T10:39:29.048Z"
   },
   {
    "duration": 7,
    "start_time": "2022-03-27T10:39:29.056Z"
   },
   {
    "duration": 41,
    "start_time": "2022-03-27T10:39:29.065Z"
   },
   {
    "duration": 5,
    "start_time": "2022-03-27T10:39:29.109Z"
   },
   {
    "duration": 11,
    "start_time": "2022-03-27T10:39:29.116Z"
   },
   {
    "duration": 27,
    "start_time": "2022-03-27T10:39:29.128Z"
   },
   {
    "duration": 63,
    "start_time": "2022-03-27T10:39:29.156Z"
   },
   {
    "duration": 7,
    "start_time": "2022-03-27T10:39:29.221Z"
   },
   {
    "duration": 14,
    "start_time": "2022-03-27T10:39:29.230Z"
   },
   {
    "duration": 10,
    "start_time": "2022-03-27T10:39:29.246Z"
   },
   {
    "duration": 5,
    "start_time": "2022-03-27T10:39:29.258Z"
   },
   {
    "duration": 36,
    "start_time": "2022-03-27T10:39:29.265Z"
   },
   {
    "duration": 22,
    "start_time": "2022-03-27T10:39:29.303Z"
   },
   {
    "duration": 29,
    "start_time": "2022-03-27T10:39:29.327Z"
   },
   {
    "duration": 13,
    "start_time": "2022-03-27T10:39:29.358Z"
   },
   {
    "duration": 7,
    "start_time": "2022-03-27T10:39:29.374Z"
   },
   {
    "duration": 19,
    "start_time": "2022-03-27T10:39:29.383Z"
   },
   {
    "duration": 4,
    "start_time": "2022-03-27T10:39:29.404Z"
   },
   {
    "duration": 12,
    "start_time": "2022-03-27T10:39:29.409Z"
   },
   {
    "duration": 11,
    "start_time": "2022-03-27T10:39:29.423Z"
   },
   {
    "duration": 18,
    "start_time": "2022-03-27T10:39:29.436Z"
   },
   {
    "duration": 7,
    "start_time": "2022-03-27T10:39:29.456Z"
   },
   {
    "duration": 41,
    "start_time": "2022-03-27T10:39:29.464Z"
   },
   {
    "duration": 13,
    "start_time": "2022-03-27T10:39:29.507Z"
   },
   {
    "duration": 5,
    "start_time": "2022-03-27T10:39:29.522Z"
   },
   {
    "duration": 14,
    "start_time": "2022-03-27T10:39:29.529Z"
   },
   {
    "duration": 11,
    "start_time": "2022-03-27T10:39:29.545Z"
   },
   {
    "duration": 8,
    "start_time": "2022-03-27T10:39:29.558Z"
   },
   {
    "duration": 324,
    "start_time": "2022-03-27T10:39:29.568Z"
   },
   {
    "duration": 15,
    "start_time": "2022-03-27T10:39:29.894Z"
   },
   {
    "duration": 8,
    "start_time": "2022-03-27T10:39:29.915Z"
   },
   {
    "duration": 336,
    "start_time": "2022-03-27T10:39:29.925Z"
   },
   {
    "duration": 6,
    "start_time": "2022-03-27T10:39:30.264Z"
   },
   {
    "duration": 17,
    "start_time": "2022-03-27T10:39:30.272Z"
   },
   {
    "duration": 17,
    "start_time": "2022-03-27T10:39:30.291Z"
   },
   {
    "duration": 312,
    "start_time": "2022-03-27T10:39:30.310Z"
   },
   {
    "duration": 11,
    "start_time": "2022-03-27T10:39:30.624Z"
   },
   {
    "duration": 10,
    "start_time": "2022-03-27T10:39:30.636Z"
   },
   {
    "duration": 24,
    "start_time": "2022-03-27T10:39:30.648Z"
   },
   {
    "duration": 6,
    "start_time": "2022-03-27T10:39:30.673Z"
   },
   {
    "duration": 211,
    "start_time": "2022-03-27T10:39:30.680Z"
   },
   {
    "duration": 12,
    "start_time": "2022-03-27T10:39:30.893Z"
   },
   {
    "duration": 11,
    "start_time": "2022-03-27T10:39:30.907Z"
   },
   {
    "duration": 14,
    "start_time": "2022-03-27T10:39:30.920Z"
   },
   {
    "duration": 8,
    "start_time": "2022-03-27T10:39:45.214Z"
   },
   {
    "duration": 416,
    "start_time": "2022-03-27T10:42:25.517Z"
   },
   {
    "duration": 67,
    "start_time": "2022-03-27T10:42:25.935Z"
   },
   {
    "duration": 30,
    "start_time": "2022-03-27T10:42:26.005Z"
   },
   {
    "duration": 16,
    "start_time": "2022-03-27T10:42:26.037Z"
   },
   {
    "duration": 15,
    "start_time": "2022-03-27T10:42:26.055Z"
   },
   {
    "duration": 29,
    "start_time": "2022-03-27T10:42:26.072Z"
   },
   {
    "duration": 12,
    "start_time": "2022-03-27T10:42:26.104Z"
   },
   {
    "duration": 8,
    "start_time": "2022-03-27T10:42:26.118Z"
   },
   {
    "duration": 7,
    "start_time": "2022-03-27T10:42:26.128Z"
   },
   {
    "duration": 5,
    "start_time": "2022-03-27T10:42:26.138Z"
   },
   {
    "duration": 5,
    "start_time": "2022-03-27T10:42:26.145Z"
   },
   {
    "duration": 12,
    "start_time": "2022-03-27T10:42:26.152Z"
   },
   {
    "duration": 6,
    "start_time": "2022-03-27T10:42:26.200Z"
   },
   {
    "duration": 5,
    "start_time": "2022-03-27T10:42:26.208Z"
   },
   {
    "duration": 23,
    "start_time": "2022-03-27T10:42:26.215Z"
   },
   {
    "duration": 62,
    "start_time": "2022-03-27T10:42:26.240Z"
   },
   {
    "duration": 8,
    "start_time": "2022-03-27T10:42:26.304Z"
   },
   {
    "duration": 15,
    "start_time": "2022-03-27T10:42:26.313Z"
   },
   {
    "duration": 10,
    "start_time": "2022-03-27T10:42:26.330Z"
   },
   {
    "duration": 3,
    "start_time": "2022-03-27T10:42:26.342Z"
   },
   {
    "duration": 9,
    "start_time": "2022-03-27T10:42:26.347Z"
   },
   {
    "duration": 54,
    "start_time": "2022-03-27T10:42:26.358Z"
   },
   {
    "duration": 13,
    "start_time": "2022-03-27T10:42:26.414Z"
   },
   {
    "duration": 14,
    "start_time": "2022-03-27T10:42:26.429Z"
   },
   {
    "duration": 8,
    "start_time": "2022-03-27T10:42:26.445Z"
   },
   {
    "duration": 7,
    "start_time": "2022-03-27T10:42:26.454Z"
   },
   {
    "duration": 9,
    "start_time": "2022-03-27T10:42:26.463Z"
   },
   {
    "duration": 8,
    "start_time": "2022-03-27T10:42:26.500Z"
   },
   {
    "duration": 8,
    "start_time": "2022-03-27T10:42:26.509Z"
   },
   {
    "duration": 20,
    "start_time": "2022-03-27T10:42:26.519Z"
   },
   {
    "duration": 9,
    "start_time": "2022-03-27T10:42:26.540Z"
   },
   {
    "duration": 16,
    "start_time": "2022-03-27T10:42:26.551Z"
   },
   {
    "duration": 35,
    "start_time": "2022-03-27T10:42:26.569Z"
   },
   {
    "duration": 10,
    "start_time": "2022-03-27T10:42:26.606Z"
   },
   {
    "duration": 16,
    "start_time": "2022-03-27T10:42:26.618Z"
   },
   {
    "duration": 13,
    "start_time": "2022-03-27T10:42:26.636Z"
   },
   {
    "duration": 36,
    "start_time": "2022-03-27T10:42:26.651Z"
   },
   {
    "duration": 202,
    "start_time": "2022-03-27T10:42:26.689Z"
   },
   {
    "duration": 13,
    "start_time": "2022-03-27T10:42:26.893Z"
   },
   {
    "duration": 11,
    "start_time": "2022-03-27T10:42:26.908Z"
   },
   {
    "duration": 221,
    "start_time": "2022-03-27T10:42:26.921Z"
   },
   {
    "duration": 6,
    "start_time": "2022-03-27T10:42:27.144Z"
   },
   {
    "duration": 11,
    "start_time": "2022-03-27T10:42:27.152Z"
   },
   {
    "duration": 8,
    "start_time": "2022-03-27T10:42:27.165Z"
   },
   {
    "duration": 9,
    "start_time": "2022-03-27T10:42:27.175Z"
   },
   {
    "duration": 203,
    "start_time": "2022-03-27T10:42:27.201Z"
   },
   {
    "duration": 8,
    "start_time": "2022-03-27T10:42:27.405Z"
   },
   {
    "duration": 7,
    "start_time": "2022-03-27T10:42:27.415Z"
   },
   {
    "duration": 15,
    "start_time": "2022-03-27T10:42:27.424Z"
   },
   {
    "duration": 6,
    "start_time": "2022-03-27T10:42:27.441Z"
   },
   {
    "duration": 233,
    "start_time": "2022-03-27T10:42:27.449Z"
   },
   {
    "duration": 19,
    "start_time": "2022-03-27T10:42:27.685Z"
   },
   {
    "duration": 3,
    "start_time": "2022-03-27T10:42:27.706Z"
   },
   {
    "duration": 15,
    "start_time": "2022-03-27T10:42:27.712Z"
   },
   {
    "duration": 9,
    "start_time": "2022-03-27T10:45:01.978Z"
   },
   {
    "duration": 4,
    "start_time": "2022-03-27T10:46:23.470Z"
   },
   {
    "duration": 8,
    "start_time": "2022-03-27T10:46:24.221Z"
   },
   {
    "duration": 445,
    "start_time": "2022-03-27T10:46:31.799Z"
   },
   {
    "duration": 65,
    "start_time": "2022-03-27T10:46:32.247Z"
   },
   {
    "duration": 31,
    "start_time": "2022-03-27T10:46:32.314Z"
   },
   {
    "duration": 18,
    "start_time": "2022-03-27T10:46:32.348Z"
   },
   {
    "duration": 38,
    "start_time": "2022-03-27T10:46:32.368Z"
   },
   {
    "duration": 5,
    "start_time": "2022-03-27T10:46:32.408Z"
   },
   {
    "duration": 25,
    "start_time": "2022-03-27T10:46:32.415Z"
   },
   {
    "duration": 7,
    "start_time": "2022-03-27T10:46:32.442Z"
   },
   {
    "duration": 7,
    "start_time": "2022-03-27T10:46:32.451Z"
   },
   {
    "duration": 6,
    "start_time": "2022-03-27T10:46:32.461Z"
   },
   {
    "duration": 7,
    "start_time": "2022-03-27T10:46:32.469Z"
   },
   {
    "duration": 38,
    "start_time": "2022-03-27T10:46:32.478Z"
   },
   {
    "duration": 6,
    "start_time": "2022-03-27T10:46:32.518Z"
   },
   {
    "duration": 11,
    "start_time": "2022-03-27T10:46:32.526Z"
   },
   {
    "duration": 33,
    "start_time": "2022-03-27T10:46:32.539Z"
   },
   {
    "duration": 71,
    "start_time": "2022-03-27T10:46:32.574Z"
   },
   {
    "duration": 11,
    "start_time": "2022-03-27T10:46:32.647Z"
   },
   {
    "duration": 41,
    "start_time": "2022-03-27T10:46:32.660Z"
   },
   {
    "duration": 11,
    "start_time": "2022-03-27T10:46:32.704Z"
   },
   {
    "duration": 6,
    "start_time": "2022-03-27T10:46:32.717Z"
   },
   {
    "duration": 13,
    "start_time": "2022-03-27T10:46:32.725Z"
   },
   {
    "duration": 38,
    "start_time": "2022-03-27T10:46:32.740Z"
   },
   {
    "duration": 33,
    "start_time": "2022-03-27T10:46:32.781Z"
   },
   {
    "duration": 15,
    "start_time": "2022-03-27T10:46:32.816Z"
   },
   {
    "duration": 27,
    "start_time": "2022-03-27T10:46:32.833Z"
   },
   {
    "duration": 7,
    "start_time": "2022-03-27T10:46:32.862Z"
   },
   {
    "duration": 9,
    "start_time": "2022-03-27T10:46:32.871Z"
   },
   {
    "duration": 7,
    "start_time": "2022-03-27T10:46:32.902Z"
   },
   {
    "duration": 9,
    "start_time": "2022-03-27T10:46:32.911Z"
   },
   {
    "duration": 30,
    "start_time": "2022-03-27T10:46:32.923Z"
   },
   {
    "duration": 6,
    "start_time": "2022-03-27T10:46:32.955Z"
   },
   {
    "duration": 39,
    "start_time": "2022-03-27T10:46:32.963Z"
   },
   {
    "duration": 10,
    "start_time": "2022-03-27T10:46:33.004Z"
   },
   {
    "duration": 6,
    "start_time": "2022-03-27T10:46:33.017Z"
   },
   {
    "duration": 17,
    "start_time": "2022-03-27T10:46:33.025Z"
   },
   {
    "duration": 25,
    "start_time": "2022-03-27T10:46:33.044Z"
   },
   {
    "duration": 13,
    "start_time": "2022-03-27T10:46:33.072Z"
   },
   {
    "duration": 249,
    "start_time": "2022-03-27T10:46:33.087Z"
   },
   {
    "duration": 9,
    "start_time": "2022-03-27T10:46:33.338Z"
   },
   {
    "duration": 10,
    "start_time": "2022-03-27T10:46:33.349Z"
   },
   {
    "duration": 234,
    "start_time": "2022-03-27T10:46:33.360Z"
   },
   {
    "duration": 6,
    "start_time": "2022-03-27T10:46:33.596Z"
   },
   {
    "duration": 12,
    "start_time": "2022-03-27T10:46:33.604Z"
   },
   {
    "duration": 7,
    "start_time": "2022-03-27T10:46:33.618Z"
   },
   {
    "duration": 17,
    "start_time": "2022-03-27T10:46:33.626Z"
   },
   {
    "duration": 8,
    "start_time": "2022-03-27T10:46:33.645Z"
   },
   {
    "duration": 254,
    "start_time": "2022-03-27T10:46:33.655Z"
   },
   {
    "duration": 10,
    "start_time": "2022-03-27T10:46:33.911Z"
   },
   {
    "duration": 9,
    "start_time": "2022-03-27T10:46:33.923Z"
   },
   {
    "duration": 15,
    "start_time": "2022-03-27T10:46:33.934Z"
   },
   {
    "duration": 8,
    "start_time": "2022-03-27T10:46:33.951Z"
   },
   {
    "duration": 232,
    "start_time": "2022-03-27T10:46:33.961Z"
   },
   {
    "duration": 8,
    "start_time": "2022-03-27T10:46:34.196Z"
   },
   {
    "duration": 5,
    "start_time": "2022-03-27T10:46:34.206Z"
   },
   {
    "duration": 12,
    "start_time": "2022-03-27T10:46:34.213Z"
   },
   {
    "duration": 7,
    "start_time": "2022-03-27T10:51:38.223Z"
   },
   {
    "duration": 7,
    "start_time": "2022-03-27T10:53:55.796Z"
   },
   {
    "duration": 5,
    "start_time": "2022-03-27T11:08:07.727Z"
   },
   {
    "duration": 9,
    "start_time": "2022-03-27T11:08:20.696Z"
   },
   {
    "duration": 449,
    "start_time": "2022-03-27T11:08:35.988Z"
   },
   {
    "duration": 68,
    "start_time": "2022-03-27T11:08:36.439Z"
   },
   {
    "duration": 30,
    "start_time": "2022-03-27T11:08:36.509Z"
   },
   {
    "duration": 16,
    "start_time": "2022-03-27T11:08:36.541Z"
   },
   {
    "duration": 11,
    "start_time": "2022-03-27T11:08:36.559Z"
   },
   {
    "duration": 29,
    "start_time": "2022-03-27T11:08:36.572Z"
   },
   {
    "duration": 9,
    "start_time": "2022-03-27T11:08:36.603Z"
   },
   {
    "duration": 6,
    "start_time": "2022-03-27T11:08:36.615Z"
   },
   {
    "duration": 7,
    "start_time": "2022-03-27T11:08:36.623Z"
   },
   {
    "duration": 5,
    "start_time": "2022-03-27T11:08:36.634Z"
   },
   {
    "duration": 6,
    "start_time": "2022-03-27T11:08:36.641Z"
   },
   {
    "duration": 18,
    "start_time": "2022-03-27T11:08:36.649Z"
   },
   {
    "duration": 36,
    "start_time": "2022-03-27T11:08:36.669Z"
   },
   {
    "duration": 9,
    "start_time": "2022-03-27T11:08:36.708Z"
   },
   {
    "duration": 6,
    "start_time": "2022-03-27T11:08:36.719Z"
   },
   {
    "duration": 12,
    "start_time": "2022-03-27T11:08:36.727Z"
   },
   {
    "duration": 9,
    "start_time": "2022-03-27T11:08:36.740Z"
   },
   {
    "duration": 30,
    "start_time": "2022-03-27T11:08:36.751Z"
   },
   {
    "duration": 61,
    "start_time": "2022-03-27T11:08:36.783Z"
   },
   {
    "duration": 10,
    "start_time": "2022-03-27T11:08:36.846Z"
   },
   {
    "duration": 22,
    "start_time": "2022-03-27T11:08:36.858Z"
   },
   {
    "duration": 25,
    "start_time": "2022-03-27T11:08:36.882Z"
   },
   {
    "duration": 7,
    "start_time": "2022-03-27T11:08:36.909Z"
   },
   {
    "duration": 9,
    "start_time": "2022-03-27T11:08:36.917Z"
   },
   {
    "duration": 25,
    "start_time": "2022-03-27T11:08:36.929Z"
   },
   {
    "duration": 14,
    "start_time": "2022-03-27T11:08:36.956Z"
   },
   {
    "duration": 15,
    "start_time": "2022-03-27T11:08:37.002Z"
   },
   {
    "duration": 8,
    "start_time": "2022-03-27T11:08:37.022Z"
   },
   {
    "duration": 8,
    "start_time": "2022-03-27T11:08:37.031Z"
   },
   {
    "duration": 9,
    "start_time": "2022-03-27T11:08:37.041Z"
   },
   {
    "duration": 14,
    "start_time": "2022-03-27T11:08:37.052Z"
   },
   {
    "duration": 17,
    "start_time": "2022-03-27T11:08:37.067Z"
   },
   {
    "duration": 16,
    "start_time": "2022-03-27T11:08:37.102Z"
   },
   {
    "duration": 3,
    "start_time": "2022-03-27T11:08:37.120Z"
   },
   {
    "duration": 16,
    "start_time": "2022-03-27T11:08:37.125Z"
   },
   {
    "duration": 8,
    "start_time": "2022-03-27T11:08:37.143Z"
   },
   {
    "duration": 9,
    "start_time": "2022-03-27T11:08:37.152Z"
   },
   {
    "duration": 14,
    "start_time": "2022-03-27T11:08:37.163Z"
   },
   {
    "duration": 8,
    "start_time": "2022-03-27T11:08:37.200Z"
   },
   {
    "duration": 5,
    "start_time": "2022-03-27T11:08:37.210Z"
   },
   {
    "duration": 210,
    "start_time": "2022-03-27T11:08:37.217Z"
   },
   {
    "duration": 7,
    "start_time": "2022-03-27T11:08:37.429Z"
   },
   {
    "duration": 9,
    "start_time": "2022-03-27T11:08:37.438Z"
   },
   {
    "duration": 6,
    "start_time": "2022-03-27T11:08:37.449Z"
   },
   {
    "duration": 224,
    "start_time": "2022-03-27T11:08:37.457Z"
   },
   {
    "duration": 6,
    "start_time": "2022-03-27T11:08:37.682Z"
   },
   {
    "duration": 7,
    "start_time": "2022-03-27T11:08:37.702Z"
   },
   {
    "duration": 9,
    "start_time": "2022-03-27T11:08:37.711Z"
   },
   {
    "duration": 17,
    "start_time": "2022-03-27T11:08:37.722Z"
   },
   {
    "duration": 6,
    "start_time": "2022-03-27T11:08:37.741Z"
   },
   {
    "duration": 208,
    "start_time": "2022-03-27T11:08:37.748Z"
   },
   {
    "duration": 8,
    "start_time": "2022-03-27T11:08:37.957Z"
   },
   {
    "duration": 8,
    "start_time": "2022-03-27T11:08:37.966Z"
   },
   {
    "duration": 26,
    "start_time": "2022-03-27T11:08:37.976Z"
   },
   {
    "duration": 5,
    "start_time": "2022-03-27T11:08:38.004Z"
   },
   {
    "duration": 207,
    "start_time": "2022-03-27T11:08:38.011Z"
   },
   {
    "duration": 7,
    "start_time": "2022-03-27T11:08:38.221Z"
   },
   {
    "duration": 6,
    "start_time": "2022-03-27T11:08:38.229Z"
   },
   {
    "duration": 11,
    "start_time": "2022-03-27T11:08:38.237Z"
   },
   {
    "duration": 6,
    "start_time": "2022-03-27T11:09:07.854Z"
   },
   {
    "duration": 8,
    "start_time": "2022-03-27T11:09:10.163Z"
   },
   {
    "duration": 5,
    "start_time": "2022-03-27T11:10:16.596Z"
   },
   {
    "duration": 428,
    "start_time": "2022-03-27T11:12:16.901Z"
   },
   {
    "duration": 66,
    "start_time": "2022-03-27T11:12:17.331Z"
   },
   {
    "duration": 28,
    "start_time": "2022-03-27T11:12:17.398Z"
   },
   {
    "duration": 17,
    "start_time": "2022-03-27T11:12:17.428Z"
   },
   {
    "duration": 11,
    "start_time": "2022-03-27T11:12:17.446Z"
   },
   {
    "duration": 4,
    "start_time": "2022-03-27T11:12:17.459Z"
   },
   {
    "duration": 40,
    "start_time": "2022-03-27T11:12:17.464Z"
   },
   {
    "duration": 12,
    "start_time": "2022-03-27T11:12:17.506Z"
   },
   {
    "duration": 5,
    "start_time": "2022-03-27T11:12:17.520Z"
   },
   {
    "duration": 5,
    "start_time": "2022-03-27T11:12:17.528Z"
   },
   {
    "duration": 7,
    "start_time": "2022-03-27T11:12:17.535Z"
   },
   {
    "duration": 17,
    "start_time": "2022-03-27T11:12:17.544Z"
   },
   {
    "duration": 6,
    "start_time": "2022-03-27T11:12:17.563Z"
   },
   {
    "duration": 34,
    "start_time": "2022-03-27T11:12:17.571Z"
   },
   {
    "duration": 13,
    "start_time": "2022-03-27T11:12:17.607Z"
   },
   {
    "duration": 7,
    "start_time": "2022-03-27T11:12:17.622Z"
   },
   {
    "duration": 9,
    "start_time": "2022-03-27T11:12:17.631Z"
   },
   {
    "duration": 25,
    "start_time": "2022-03-27T11:12:17.642Z"
   },
   {
    "duration": 54,
    "start_time": "2022-03-27T11:12:17.669Z"
   },
   {
    "duration": 9,
    "start_time": "2022-03-27T11:12:17.724Z"
   },
   {
    "duration": 20,
    "start_time": "2022-03-27T11:12:17.734Z"
   },
   {
    "duration": 11,
    "start_time": "2022-03-27T11:12:17.756Z"
   },
   {
    "duration": 9,
    "start_time": "2022-03-27T11:12:17.769Z"
   },
   {
    "duration": 22,
    "start_time": "2022-03-27T11:12:17.779Z"
   },
   {
    "duration": 34,
    "start_time": "2022-03-27T11:12:17.803Z"
   },
   {
    "duration": 13,
    "start_time": "2022-03-27T11:12:17.839Z"
   },
   {
    "duration": 19,
    "start_time": "2022-03-27T11:12:17.854Z"
   },
   {
    "duration": 22,
    "start_time": "2022-03-27T11:12:17.878Z"
   },
   {
    "duration": 5,
    "start_time": "2022-03-27T11:12:17.902Z"
   },
   {
    "duration": 31,
    "start_time": "2022-03-27T11:12:17.909Z"
   },
   {
    "duration": 26,
    "start_time": "2022-03-27T11:12:17.942Z"
   },
   {
    "duration": 17,
    "start_time": "2022-03-27T11:12:17.970Z"
   },
   {
    "duration": 25,
    "start_time": "2022-03-27T11:12:17.988Z"
   },
   {
    "duration": 22,
    "start_time": "2022-03-27T11:12:18.014Z"
   },
   {
    "duration": 28,
    "start_time": "2022-03-27T11:12:18.038Z"
   },
   {
    "duration": 16,
    "start_time": "2022-03-27T11:12:18.068Z"
   },
   {
    "duration": 19,
    "start_time": "2022-03-27T11:12:18.085Z"
   },
   {
    "duration": 31,
    "start_time": "2022-03-27T11:12:18.106Z"
   },
   {
    "duration": 12,
    "start_time": "2022-03-27T11:12:18.139Z"
   },
   {
    "duration": 14,
    "start_time": "2022-03-27T11:12:18.153Z"
   },
   {
    "duration": 221,
    "start_time": "2022-03-27T11:12:18.169Z"
   },
   {
    "duration": 11,
    "start_time": "2022-03-27T11:12:18.392Z"
   },
   {
    "duration": 17,
    "start_time": "2022-03-27T11:12:18.405Z"
   },
   {
    "duration": 7,
    "start_time": "2022-03-27T11:12:18.424Z"
   },
   {
    "duration": 215,
    "start_time": "2022-03-27T11:12:18.433Z"
   },
   {
    "duration": 7,
    "start_time": "2022-03-27T11:12:18.650Z"
   },
   {
    "duration": 10,
    "start_time": "2022-03-27T11:12:18.659Z"
   },
   {
    "duration": 6,
    "start_time": "2022-03-27T11:12:18.671Z"
   },
   {
    "duration": 11,
    "start_time": "2022-03-27T11:12:18.702Z"
   },
   {
    "duration": 7,
    "start_time": "2022-03-27T11:12:18.715Z"
   },
   {
    "duration": 224,
    "start_time": "2022-03-27T11:12:18.724Z"
   },
   {
    "duration": 7,
    "start_time": "2022-03-27T11:12:18.950Z"
   },
   {
    "duration": 6,
    "start_time": "2022-03-27T11:12:18.958Z"
   },
   {
    "duration": 10,
    "start_time": "2022-03-27T11:12:18.966Z"
   },
   {
    "duration": 24,
    "start_time": "2022-03-27T11:12:18.977Z"
   },
   {
    "duration": 204,
    "start_time": "2022-03-27T11:12:19.003Z"
   },
   {
    "duration": 8,
    "start_time": "2022-03-27T11:12:19.209Z"
   },
   {
    "duration": 5,
    "start_time": "2022-03-27T11:12:19.219Z"
   },
   {
    "duration": 12,
    "start_time": "2022-03-27T11:12:19.226Z"
   },
   {
    "duration": 5,
    "start_time": "2022-03-27T11:15:05.622Z"
   },
   {
    "duration": 3,
    "start_time": "2022-03-27T11:15:17.878Z"
   },
   {
    "duration": 3,
    "start_time": "2022-03-27T11:17:37.992Z"
   },
   {
    "duration": 8,
    "start_time": "2022-03-27T11:17:39.178Z"
   },
   {
    "duration": 3,
    "start_time": "2022-03-27T11:18:59.856Z"
   },
   {
    "duration": 8,
    "start_time": "2022-03-27T11:19:00.362Z"
   },
   {
    "duration": 3,
    "start_time": "2022-03-27T11:19:15.259Z"
   },
   {
    "duration": 7,
    "start_time": "2022-03-27T11:19:15.862Z"
   },
   {
    "duration": 8,
    "start_time": "2022-03-27T11:22:44.056Z"
   },
   {
    "duration": 12,
    "start_time": "2022-03-27T11:22:54.985Z"
   },
   {
    "duration": 23,
    "start_time": "2022-03-27T11:24:07.716Z"
   },
   {
    "duration": 6,
    "start_time": "2022-03-27T11:54:44.002Z"
   },
   {
    "duration": 403,
    "start_time": "2022-03-27T12:03:43.531Z"
   },
   {
    "duration": 66,
    "start_time": "2022-03-27T12:03:43.937Z"
   },
   {
    "duration": 29,
    "start_time": "2022-03-27T12:03:44.005Z"
   },
   {
    "duration": 18,
    "start_time": "2022-03-27T12:03:44.037Z"
   },
   {
    "duration": 11,
    "start_time": "2022-03-27T12:03:44.057Z"
   },
   {
    "duration": 33,
    "start_time": "2022-03-27T12:03:44.070Z"
   },
   {
    "duration": 12,
    "start_time": "2022-03-27T12:03:44.105Z"
   },
   {
    "duration": 8,
    "start_time": "2022-03-27T12:03:44.118Z"
   },
   {
    "duration": 6,
    "start_time": "2022-03-27T12:03:44.128Z"
   },
   {
    "duration": 7,
    "start_time": "2022-03-27T12:03:44.136Z"
   },
   {
    "duration": 5,
    "start_time": "2022-03-27T12:03:44.145Z"
   },
   {
    "duration": 16,
    "start_time": "2022-03-27T12:03:44.152Z"
   },
   {
    "duration": 32,
    "start_time": "2022-03-27T12:03:44.170Z"
   },
   {
    "duration": 7,
    "start_time": "2022-03-27T12:03:44.204Z"
   },
   {
    "duration": 10,
    "start_time": "2022-03-27T12:03:44.213Z"
   },
   {
    "duration": 8,
    "start_time": "2022-03-27T12:03:44.225Z"
   },
   {
    "duration": 7,
    "start_time": "2022-03-27T12:03:44.234Z"
   },
   {
    "duration": 28,
    "start_time": "2022-03-27T12:03:44.243Z"
   },
   {
    "duration": 67,
    "start_time": "2022-03-27T12:03:44.273Z"
   },
   {
    "duration": 8,
    "start_time": "2022-03-27T12:03:44.342Z"
   },
   {
    "duration": 19,
    "start_time": "2022-03-27T12:03:44.353Z"
   },
   {
    "duration": 28,
    "start_time": "2022-03-27T12:03:44.374Z"
   },
   {
    "duration": 17,
    "start_time": "2022-03-27T12:03:44.404Z"
   },
   {
    "duration": 9,
    "start_time": "2022-03-27T12:03:44.423Z"
   },
   {
    "duration": 23,
    "start_time": "2022-03-27T12:03:44.434Z"
   },
   {
    "duration": 13,
    "start_time": "2022-03-27T12:03:44.459Z"
   },
   {
    "duration": 27,
    "start_time": "2022-03-27T12:03:44.474Z"
   },
   {
    "duration": 7,
    "start_time": "2022-03-27T12:03:44.506Z"
   },
   {
    "duration": 8,
    "start_time": "2022-03-27T12:03:44.515Z"
   },
   {
    "duration": 11,
    "start_time": "2022-03-27T12:03:44.525Z"
   },
   {
    "duration": 15,
    "start_time": "2022-03-27T12:03:44.538Z"
   },
   {
    "duration": 8,
    "start_time": "2022-03-27T12:03:44.555Z"
   },
   {
    "duration": 11,
    "start_time": "2022-03-27T12:03:44.565Z"
   },
   {
    "duration": 31,
    "start_time": "2022-03-27T12:03:44.577Z"
   },
   {
    "duration": 8,
    "start_time": "2022-03-27T12:03:44.610Z"
   },
   {
    "duration": 8,
    "start_time": "2022-03-27T12:03:44.619Z"
   },
   {
    "duration": 17,
    "start_time": "2022-03-27T12:03:44.629Z"
   },
   {
    "duration": 7,
    "start_time": "2022-03-27T12:03:44.649Z"
   },
   {
    "duration": 8,
    "start_time": "2022-03-27T12:03:44.658Z"
   },
   {
    "duration": 221,
    "start_time": "2022-03-27T12:03:44.668Z"
   },
   {
    "duration": 10,
    "start_time": "2022-03-27T12:03:44.891Z"
   },
   {
    "duration": 8,
    "start_time": "2022-03-27T12:03:44.902Z"
   },
   {
    "duration": 9,
    "start_time": "2022-03-27T12:03:44.912Z"
   },
   {
    "duration": 9,
    "start_time": "2022-03-27T12:03:44.923Z"
   },
   {
    "duration": 6,
    "start_time": "2022-03-27T12:03:44.934Z"
   },
   {
    "duration": 232,
    "start_time": "2022-03-27T12:03:44.941Z"
   },
   {
    "duration": 6,
    "start_time": "2022-03-27T12:03:45.175Z"
   },
   {
    "duration": 25,
    "start_time": "2022-03-27T12:03:45.183Z"
   },
   {
    "duration": 5,
    "start_time": "2022-03-27T12:03:45.210Z"
   },
   {
    "duration": 11,
    "start_time": "2022-03-27T12:03:45.216Z"
   },
   {
    "duration": 6,
    "start_time": "2022-03-27T12:03:45.230Z"
   },
   {
    "duration": 225,
    "start_time": "2022-03-27T12:03:45.238Z"
   },
   {
    "duration": 8,
    "start_time": "2022-03-27T12:03:45.465Z"
   },
   {
    "duration": 6,
    "start_time": "2022-03-27T12:03:45.474Z"
   },
   {
    "duration": 25,
    "start_time": "2022-03-27T12:03:45.483Z"
   },
   {
    "duration": 8,
    "start_time": "2022-03-27T12:03:45.509Z"
   },
   {
    "duration": 211,
    "start_time": "2022-03-27T12:03:45.518Z"
   },
   {
    "duration": 8,
    "start_time": "2022-03-27T12:03:45.731Z"
   },
   {
    "duration": 4,
    "start_time": "2022-03-27T12:03:45.742Z"
   },
   {
    "duration": 14,
    "start_time": "2022-03-27T12:03:45.748Z"
   },
   {
    "duration": 525,
    "start_time": "2022-03-27T12:08:01.309Z"
   },
   {
    "duration": 24,
    "start_time": "2022-03-27T12:08:10.953Z"
   },
   {
    "duration": 10,
    "start_time": "2022-03-27T12:10:51.190Z"
   },
   {
    "duration": 11,
    "start_time": "2022-03-27T12:11:07.261Z"
   },
   {
    "duration": 22,
    "start_time": "2022-03-27T12:11:13.366Z"
   },
   {
    "duration": 25,
    "start_time": "2022-03-27T12:12:47.292Z"
   },
   {
    "duration": 14,
    "start_time": "2022-03-27T12:12:59.243Z"
   },
   {
    "duration": 11,
    "start_time": "2022-03-27T12:13:19.719Z"
   },
   {
    "duration": 10,
    "start_time": "2022-03-27T12:13:30.273Z"
   },
   {
    "duration": 23,
    "start_time": "2022-03-27T12:13:35.405Z"
   },
   {
    "duration": 14,
    "start_time": "2022-03-27T12:14:34.310Z"
   },
   {
    "duration": 6,
    "start_time": "2022-03-27T12:14:45.802Z"
   },
   {
    "duration": 22,
    "start_time": "2022-03-27T12:14:50.665Z"
   },
   {
    "duration": 12,
    "start_time": "2022-03-27T12:15:02.108Z"
   },
   {
    "duration": 24,
    "start_time": "2022-03-27T12:15:24.659Z"
   },
   {
    "duration": 25,
    "start_time": "2022-03-27T12:15:57.250Z"
   },
   {
    "duration": 22,
    "start_time": "2022-03-27T12:16:01.688Z"
   },
   {
    "duration": 25,
    "start_time": "2022-03-27T12:16:09.777Z"
   },
   {
    "duration": 23,
    "start_time": "2022-03-27T12:16:16.579Z"
   },
   {
    "duration": 148,
    "start_time": "2022-03-27T12:17:50.400Z"
   },
   {
    "duration": 26,
    "start_time": "2022-03-27T12:18:49.945Z"
   },
   {
    "duration": 24,
    "start_time": "2022-03-27T12:19:24.821Z"
   },
   {
    "duration": 34,
    "start_time": "2022-03-27T12:19:35.191Z"
   },
   {
    "duration": 23,
    "start_time": "2022-03-27T12:19:48.735Z"
   },
   {
    "duration": 31,
    "start_time": "2022-03-27T12:20:09.879Z"
   },
   {
    "duration": 25,
    "start_time": "2022-03-27T12:20:21.137Z"
   },
   {
    "duration": 13,
    "start_time": "2022-03-27T12:22:17.459Z"
   },
   {
    "duration": 66,
    "start_time": "2022-03-27T12:34:49.843Z"
   },
   {
    "duration": 8,
    "start_time": "2022-03-27T12:35:02.020Z"
   },
   {
    "duration": 528,
    "start_time": "2022-03-27T12:35:09.034Z"
   },
   {
    "duration": 70,
    "start_time": "2022-03-27T12:35:09.565Z"
   },
   {
    "duration": 56,
    "start_time": "2022-03-27T12:35:09.637Z"
   },
   {
    "duration": 20,
    "start_time": "2022-03-27T12:35:09.695Z"
   },
   {
    "duration": 13,
    "start_time": "2022-03-27T12:35:09.718Z"
   },
   {
    "duration": 16,
    "start_time": "2022-03-27T12:35:09.733Z"
   },
   {
    "duration": 37,
    "start_time": "2022-03-27T12:35:09.751Z"
   },
   {
    "duration": 28,
    "start_time": "2022-03-27T12:35:09.791Z"
   },
   {
    "duration": 31,
    "start_time": "2022-03-27T12:35:09.821Z"
   },
   {
    "duration": 17,
    "start_time": "2022-03-27T12:35:09.854Z"
   },
   {
    "duration": 17,
    "start_time": "2022-03-27T12:35:09.874Z"
   },
   {
    "duration": 19,
    "start_time": "2022-03-27T12:35:09.893Z"
   },
   {
    "duration": 18,
    "start_time": "2022-03-27T12:35:09.914Z"
   },
   {
    "duration": 17,
    "start_time": "2022-03-27T12:35:09.936Z"
   },
   {
    "duration": 7,
    "start_time": "2022-03-27T12:35:09.955Z"
   },
   {
    "duration": 14,
    "start_time": "2022-03-27T12:35:09.964Z"
   },
   {
    "duration": 7,
    "start_time": "2022-03-27T12:35:09.980Z"
   },
   {
    "duration": 41,
    "start_time": "2022-03-27T12:35:09.989Z"
   },
   {
    "duration": 61,
    "start_time": "2022-03-27T12:35:10.032Z"
   },
   {
    "duration": 9,
    "start_time": "2022-03-27T12:35:10.095Z"
   },
   {
    "duration": 34,
    "start_time": "2022-03-27T12:35:10.107Z"
   },
   {
    "duration": 30,
    "start_time": "2022-03-27T12:35:10.143Z"
   },
   {
    "duration": 13,
    "start_time": "2022-03-27T12:35:10.176Z"
   },
   {
    "duration": 25,
    "start_time": "2022-03-27T12:35:10.191Z"
   },
   {
    "duration": 39,
    "start_time": "2022-03-27T12:35:10.218Z"
   },
   {
    "duration": 17,
    "start_time": "2022-03-27T12:35:10.259Z"
   },
   {
    "duration": 22,
    "start_time": "2022-03-27T12:35:10.278Z"
   },
   {
    "duration": 19,
    "start_time": "2022-03-27T12:35:10.302Z"
   },
   {
    "duration": 15,
    "start_time": "2022-03-27T12:35:10.324Z"
   },
   {
    "duration": 19,
    "start_time": "2022-03-27T12:35:10.342Z"
   },
   {
    "duration": 26,
    "start_time": "2022-03-27T12:35:10.363Z"
   },
   {
    "duration": 19,
    "start_time": "2022-03-27T12:35:10.391Z"
   },
   {
    "duration": 19,
    "start_time": "2022-03-27T12:35:10.412Z"
   },
   {
    "duration": 27,
    "start_time": "2022-03-27T12:35:10.433Z"
   },
   {
    "duration": 23,
    "start_time": "2022-03-27T12:35:10.462Z"
   },
   {
    "duration": 23,
    "start_time": "2022-03-27T12:35:10.487Z"
   },
   {
    "duration": 31,
    "start_time": "2022-03-27T12:35:10.512Z"
   },
   {
    "duration": 18,
    "start_time": "2022-03-27T12:35:10.545Z"
   },
   {
    "duration": 26,
    "start_time": "2022-03-27T12:35:10.565Z"
   },
   {
    "duration": 297,
    "start_time": "2022-03-27T12:35:10.593Z"
   },
   {
    "duration": 8,
    "start_time": "2022-03-27T12:35:10.896Z"
   },
   {
    "duration": 32,
    "start_time": "2022-03-27T12:35:10.906Z"
   },
   {
    "duration": 32,
    "start_time": "2022-03-27T12:35:10.940Z"
   },
   {
    "duration": 17,
    "start_time": "2022-03-27T12:35:10.974Z"
   },
   {
    "duration": 13,
    "start_time": "2022-03-27T12:35:10.993Z"
   },
   {
    "duration": 320,
    "start_time": "2022-03-27T12:35:11.008Z"
   },
   {
    "duration": 9,
    "start_time": "2022-03-27T12:35:11.330Z"
   },
   {
    "duration": 32,
    "start_time": "2022-03-27T12:35:11.341Z"
   },
   {
    "duration": 19,
    "start_time": "2022-03-27T12:35:11.375Z"
   },
   {
    "duration": 31,
    "start_time": "2022-03-27T12:35:11.396Z"
   },
   {
    "duration": 10,
    "start_time": "2022-03-27T12:35:11.430Z"
   },
   {
    "duration": 312,
    "start_time": "2022-03-27T12:35:11.443Z"
   },
   {
    "duration": 10,
    "start_time": "2022-03-27T12:35:11.757Z"
   },
   {
    "duration": 15,
    "start_time": "2022-03-27T12:35:11.769Z"
   },
   {
    "duration": 17,
    "start_time": "2022-03-27T12:35:11.787Z"
   },
   {
    "duration": 6,
    "start_time": "2022-03-27T12:35:11.806Z"
   },
   {
    "duration": 332,
    "start_time": "2022-03-27T12:35:11.814Z"
   },
   {
    "duration": 9,
    "start_time": "2022-03-27T12:35:12.149Z"
   },
   {
    "duration": 22,
    "start_time": "2022-03-27T12:35:12.160Z"
   },
   {
    "duration": 15,
    "start_time": "2022-03-27T12:35:12.184Z"
   },
   {
    "duration": 34,
    "start_time": "2022-03-27T12:35:12.201Z"
   },
   {
    "duration": 67,
    "start_time": "2022-03-27T12:35:12.237Z"
   },
   {
    "duration": 502,
    "start_time": "2022-03-27T12:35:53.359Z"
   },
   {
    "duration": 69,
    "start_time": "2022-03-27T12:35:53.864Z"
   },
   {
    "duration": 47,
    "start_time": "2022-03-27T12:35:53.935Z"
   },
   {
    "duration": 20,
    "start_time": "2022-03-27T12:35:53.984Z"
   },
   {
    "duration": 12,
    "start_time": "2022-03-27T12:35:54.008Z"
   },
   {
    "duration": 7,
    "start_time": "2022-03-27T12:35:54.022Z"
   },
   {
    "duration": 12,
    "start_time": "2022-03-27T12:35:54.031Z"
   },
   {
    "duration": 40,
    "start_time": "2022-03-27T12:35:54.045Z"
   },
   {
    "duration": 12,
    "start_time": "2022-03-27T12:35:54.087Z"
   },
   {
    "duration": 9,
    "start_time": "2022-03-27T12:35:54.100Z"
   },
   {
    "duration": 5,
    "start_time": "2022-03-27T12:35:54.111Z"
   },
   {
    "duration": 17,
    "start_time": "2022-03-27T12:35:54.119Z"
   },
   {
    "duration": 8,
    "start_time": "2022-03-27T12:35:54.138Z"
   },
   {
    "duration": 37,
    "start_time": "2022-03-27T12:35:54.150Z"
   },
   {
    "duration": 6,
    "start_time": "2022-03-27T12:35:54.190Z"
   },
   {
    "duration": 7,
    "start_time": "2022-03-27T12:35:54.198Z"
   },
   {
    "duration": 6,
    "start_time": "2022-03-27T12:35:54.207Z"
   },
   {
    "duration": 26,
    "start_time": "2022-03-27T12:35:54.215Z"
   },
   {
    "duration": 86,
    "start_time": "2022-03-27T12:35:54.243Z"
   },
   {
    "duration": 11,
    "start_time": "2022-03-27T12:35:54.331Z"
   },
   {
    "duration": 44,
    "start_time": "2022-03-27T12:35:54.344Z"
   },
   {
    "duration": 9,
    "start_time": "2022-03-27T12:35:54.390Z"
   },
   {
    "duration": 7,
    "start_time": "2022-03-27T12:35:54.401Z"
   },
   {
    "duration": 10,
    "start_time": "2022-03-27T12:35:54.410Z"
   },
   {
    "duration": 31,
    "start_time": "2022-03-27T12:35:54.422Z"
   },
   {
    "duration": 40,
    "start_time": "2022-03-27T12:35:54.456Z"
   },
   {
    "duration": 19,
    "start_time": "2022-03-27T12:35:54.498Z"
   },
   {
    "duration": 12,
    "start_time": "2022-03-27T12:35:54.519Z"
   },
   {
    "duration": 6,
    "start_time": "2022-03-27T12:35:54.533Z"
   },
   {
    "duration": 42,
    "start_time": "2022-03-27T12:35:54.541Z"
   },
   {
    "duration": 9,
    "start_time": "2022-03-27T12:35:54.585Z"
   },
   {
    "duration": 9,
    "start_time": "2022-03-27T12:35:54.597Z"
   },
   {
    "duration": 5,
    "start_time": "2022-03-27T12:35:54.608Z"
   },
   {
    "duration": 15,
    "start_time": "2022-03-27T12:35:54.615Z"
   },
   {
    "duration": 50,
    "start_time": "2022-03-27T12:35:54.632Z"
   },
   {
    "duration": 4,
    "start_time": "2022-03-27T12:35:54.684Z"
   },
   {
    "duration": 17,
    "start_time": "2022-03-27T12:35:54.690Z"
   },
   {
    "duration": 13,
    "start_time": "2022-03-27T12:35:54.709Z"
   },
   {
    "duration": 7,
    "start_time": "2022-03-27T12:35:54.724Z"
   },
   {
    "duration": 318,
    "start_time": "2022-03-27T12:35:54.734Z"
   },
   {
    "duration": 9,
    "start_time": "2022-03-27T12:35:55.059Z"
   },
   {
    "duration": 9,
    "start_time": "2022-03-27T12:35:55.083Z"
   },
   {
    "duration": 7,
    "start_time": "2022-03-27T12:35:55.095Z"
   },
   {
    "duration": 11,
    "start_time": "2022-03-27T12:35:55.105Z"
   },
   {
    "duration": 8,
    "start_time": "2022-03-27T12:35:55.118Z"
   },
   {
    "duration": 346,
    "start_time": "2022-03-27T12:35:55.128Z"
   },
   {
    "duration": 8,
    "start_time": "2022-03-27T12:35:55.476Z"
   },
   {
    "duration": 15,
    "start_time": "2022-03-27T12:35:55.486Z"
   },
   {
    "duration": 12,
    "start_time": "2022-03-27T12:35:55.503Z"
   },
   {
    "duration": 16,
    "start_time": "2022-03-27T12:35:55.517Z"
   },
   {
    "duration": 8,
    "start_time": "2022-03-27T12:35:55.534Z"
   },
   {
    "duration": 442,
    "start_time": "2022-03-27T12:35:55.544Z"
   },
   {
    "duration": 9,
    "start_time": "2022-03-27T12:35:55.988Z"
   },
   {
    "duration": 7,
    "start_time": "2022-03-27T12:35:55.999Z"
   },
   {
    "duration": 16,
    "start_time": "2022-03-27T12:35:56.008Z"
   },
   {
    "duration": 6,
    "start_time": "2022-03-27T12:35:56.027Z"
   },
   {
    "duration": 437,
    "start_time": "2022-03-27T12:35:56.035Z"
   },
   {
    "duration": 13,
    "start_time": "2022-03-27T12:35:56.475Z"
   },
   {
    "duration": 4,
    "start_time": "2022-03-27T12:35:56.491Z"
   },
   {
    "duration": 14,
    "start_time": "2022-03-27T12:35:56.498Z"
   },
   {
    "duration": 11,
    "start_time": "2022-03-27T12:35:56.514Z"
   },
   {
    "duration": 83,
    "start_time": "2022-03-27T12:35:56.528Z"
   },
   {
    "duration": 41,
    "start_time": "2022-03-27T12:37:39.042Z"
   },
   {
    "duration": 103,
    "start_time": "2022-03-27T12:38:40.309Z"
   },
   {
    "duration": 48,
    "start_time": "2022-03-27T12:38:47.055Z"
   },
   {
    "duration": 43,
    "start_time": "2022-03-27T12:39:03.133Z"
   },
   {
    "duration": 105,
    "start_time": "2022-03-27T15:39:57.026Z"
   },
   {
    "duration": 99,
    "start_time": "2022-03-27T15:40:11.471Z"
   },
   {
    "duration": 103,
    "start_time": "2022-03-27T15:46:03.778Z"
   },
   {
    "duration": 545,
    "start_time": "2022-03-27T15:57:44.297Z"
   },
   {
    "duration": 79,
    "start_time": "2022-03-27T15:57:44.845Z"
   },
   {
    "duration": 42,
    "start_time": "2022-03-27T15:57:44.927Z"
   },
   {
    "duration": 22,
    "start_time": "2022-03-27T15:57:44.985Z"
   },
   {
    "duration": 17,
    "start_time": "2022-03-27T15:57:45.010Z"
   },
   {
    "duration": 17,
    "start_time": "2022-03-27T15:57:45.029Z"
   },
   {
    "duration": 37,
    "start_time": "2022-03-27T15:57:45.048Z"
   },
   {
    "duration": 5,
    "start_time": "2022-03-27T15:57:45.088Z"
   },
   {
    "duration": 15,
    "start_time": "2022-03-27T15:57:45.096Z"
   },
   {
    "duration": 7,
    "start_time": "2022-03-27T15:57:45.115Z"
   },
   {
    "duration": 7,
    "start_time": "2022-03-27T15:57:45.124Z"
   },
   {
    "duration": 17,
    "start_time": "2022-03-27T15:57:45.134Z"
   },
   {
    "duration": 36,
    "start_time": "2022-03-27T15:57:45.154Z"
   },
   {
    "duration": 9,
    "start_time": "2022-03-27T15:57:45.193Z"
   },
   {
    "duration": 11,
    "start_time": "2022-03-27T15:57:45.204Z"
   },
   {
    "duration": 15,
    "start_time": "2022-03-27T15:57:45.218Z"
   },
   {
    "duration": 7,
    "start_time": "2022-03-27T15:57:45.235Z"
   },
   {
    "duration": 56,
    "start_time": "2022-03-27T15:57:45.244Z"
   },
   {
    "duration": 55,
    "start_time": "2022-03-27T15:57:45.302Z"
   },
   {
    "duration": 30,
    "start_time": "2022-03-27T15:57:45.359Z"
   },
   {
    "duration": 23,
    "start_time": "2022-03-27T15:57:45.391Z"
   },
   {
    "duration": 17,
    "start_time": "2022-03-27T15:57:45.416Z"
   },
   {
    "duration": 8,
    "start_time": "2022-03-27T15:57:45.435Z"
   },
   {
    "duration": 9,
    "start_time": "2022-03-27T15:57:45.445Z"
   },
   {
    "duration": 53,
    "start_time": "2022-03-27T15:57:45.456Z"
   },
   {
    "duration": 19,
    "start_time": "2022-03-27T15:57:45.511Z"
   },
   {
    "duration": 17,
    "start_time": "2022-03-27T15:57:45.533Z"
   },
   {
    "duration": 35,
    "start_time": "2022-03-27T15:57:45.555Z"
   },
   {
    "duration": 8,
    "start_time": "2022-03-27T15:57:45.592Z"
   },
   {
    "duration": 13,
    "start_time": "2022-03-27T15:57:45.602Z"
   },
   {
    "duration": 12,
    "start_time": "2022-03-27T15:57:45.617Z"
   },
   {
    "duration": 9,
    "start_time": "2022-03-27T15:57:45.631Z"
   },
   {
    "duration": 7,
    "start_time": "2022-03-27T15:57:45.642Z"
   },
   {
    "duration": 15,
    "start_time": "2022-03-27T15:57:45.684Z"
   },
   {
    "duration": 12,
    "start_time": "2022-03-27T15:57:45.701Z"
   },
   {
    "duration": 8,
    "start_time": "2022-03-27T15:57:45.716Z"
   },
   {
    "duration": 16,
    "start_time": "2022-03-27T15:57:45.726Z"
   },
   {
    "duration": 42,
    "start_time": "2022-03-27T15:57:45.744Z"
   },
   {
    "duration": 7,
    "start_time": "2022-03-27T15:57:45.789Z"
   },
   {
    "duration": 352,
    "start_time": "2022-03-27T15:57:45.798Z"
   },
   {
    "duration": 7,
    "start_time": "2022-03-27T15:57:46.153Z"
   },
   {
    "duration": 25,
    "start_time": "2022-03-27T15:57:46.162Z"
   },
   {
    "duration": 12,
    "start_time": "2022-03-27T15:57:46.189Z"
   },
   {
    "duration": 13,
    "start_time": "2022-03-27T15:57:46.203Z"
   },
   {
    "duration": 8,
    "start_time": "2022-03-27T15:57:46.219Z"
   },
   {
    "duration": 367,
    "start_time": "2022-03-27T15:57:46.229Z"
   },
   {
    "duration": 8,
    "start_time": "2022-03-27T15:57:46.598Z"
   },
   {
    "duration": 17,
    "start_time": "2022-03-27T15:57:46.608Z"
   },
   {
    "duration": 7,
    "start_time": "2022-03-27T15:57:46.627Z"
   },
   {
    "duration": 50,
    "start_time": "2022-03-27T15:57:46.638Z"
   },
   {
    "duration": 12,
    "start_time": "2022-03-27T15:57:46.691Z"
   },
   {
    "duration": 559,
    "start_time": "2022-03-27T15:57:46.705Z"
   },
   {
    "duration": 19,
    "start_time": "2022-03-27T15:57:47.266Z"
   },
   {
    "duration": 12,
    "start_time": "2022-03-27T15:57:47.287Z"
   },
   {
    "duration": 19,
    "start_time": "2022-03-27T15:57:47.301Z"
   },
   {
    "duration": 7,
    "start_time": "2022-03-27T15:57:47.322Z"
   },
   {
    "duration": 359,
    "start_time": "2022-03-27T15:57:47.330Z"
   },
   {
    "duration": 10,
    "start_time": "2022-03-27T15:57:47.691Z"
   },
   {
    "duration": 6,
    "start_time": "2022-03-27T15:57:47.703Z"
   },
   {
    "duration": 16,
    "start_time": "2022-03-27T15:57:47.711Z"
   },
   {
    "duration": 108,
    "start_time": "2022-04-07T08:13:49.862Z"
   },
   {
    "duration": 12,
    "start_time": "2022-04-07T17:35:06.897Z"
   },
   {
    "duration": 45,
    "start_time": "2022-04-07T17:43:10.201Z"
   },
   {
    "duration": 365,
    "start_time": "2022-04-07T17:43:13.913Z"
   },
   {
    "duration": 56,
    "start_time": "2022-04-07T17:43:14.279Z"
   },
   {
    "duration": 27,
    "start_time": "2022-04-07T17:43:14.337Z"
   },
   {
    "duration": 15,
    "start_time": "2022-04-07T17:43:14.366Z"
   },
   {
    "duration": 13,
    "start_time": "2022-04-07T17:43:14.382Z"
   },
   {
    "duration": 3,
    "start_time": "2022-04-07T17:43:14.396Z"
   },
   {
    "duration": 9,
    "start_time": "2022-04-07T17:43:14.401Z"
   },
   {
    "duration": 5,
    "start_time": "2022-04-07T17:43:14.412Z"
   },
   {
    "duration": 4,
    "start_time": "2022-04-07T17:43:14.418Z"
   },
   {
    "duration": 5,
    "start_time": "2022-04-07T17:43:14.425Z"
   },
   {
    "duration": 34,
    "start_time": "2022-04-07T17:43:14.431Z"
   },
   {
    "duration": 13,
    "start_time": "2022-04-07T17:43:14.466Z"
   },
   {
    "duration": 5,
    "start_time": "2022-04-07T17:43:14.480Z"
   },
   {
    "duration": 7,
    "start_time": "2022-04-07T17:43:14.486Z"
   },
   {
    "duration": 9,
    "start_time": "2022-04-07T17:43:14.495Z"
   },
   {
    "duration": 93,
    "start_time": "2022-04-07T17:43:14.505Z"
   },
   {
    "duration": 0,
    "start_time": "2022-04-07T17:43:14.601Z"
   },
   {
    "duration": 0,
    "start_time": "2022-04-07T17:43:14.602Z"
   },
   {
    "duration": 0,
    "start_time": "2022-04-07T17:43:14.603Z"
   },
   {
    "duration": 0,
    "start_time": "2022-04-07T17:43:14.604Z"
   },
   {
    "duration": 0,
    "start_time": "2022-04-07T17:43:14.604Z"
   },
   {
    "duration": 0,
    "start_time": "2022-04-07T17:43:14.605Z"
   },
   {
    "duration": 0,
    "start_time": "2022-04-07T17:43:14.606Z"
   },
   {
    "duration": 0,
    "start_time": "2022-04-07T17:43:14.607Z"
   },
   {
    "duration": 0,
    "start_time": "2022-04-07T17:43:14.608Z"
   },
   {
    "duration": 0,
    "start_time": "2022-04-07T17:43:14.609Z"
   },
   {
    "duration": 0,
    "start_time": "2022-04-07T17:43:14.610Z"
   },
   {
    "duration": 0,
    "start_time": "2022-04-07T17:43:14.611Z"
   },
   {
    "duration": 0,
    "start_time": "2022-04-07T17:43:14.612Z"
   },
   {
    "duration": 0,
    "start_time": "2022-04-07T17:43:14.613Z"
   },
   {
    "duration": 0,
    "start_time": "2022-04-07T17:43:14.614Z"
   },
   {
    "duration": 0,
    "start_time": "2022-04-07T17:43:14.615Z"
   },
   {
    "duration": 0,
    "start_time": "2022-04-07T17:43:14.616Z"
   },
   {
    "duration": 0,
    "start_time": "2022-04-07T17:43:14.617Z"
   },
   {
    "duration": 0,
    "start_time": "2022-04-07T17:43:14.618Z"
   },
   {
    "duration": 0,
    "start_time": "2022-04-07T17:43:14.619Z"
   },
   {
    "duration": 0,
    "start_time": "2022-04-07T17:43:14.620Z"
   },
   {
    "duration": 0,
    "start_time": "2022-04-07T17:43:14.621Z"
   },
   {
    "duration": 0,
    "start_time": "2022-04-07T17:43:14.622Z"
   },
   {
    "duration": 0,
    "start_time": "2022-04-07T17:43:14.623Z"
   },
   {
    "duration": 0,
    "start_time": "2022-04-07T17:43:14.623Z"
   },
   {
    "duration": 0,
    "start_time": "2022-04-07T17:43:14.624Z"
   },
   {
    "duration": 0,
    "start_time": "2022-04-07T17:43:14.625Z"
   },
   {
    "duration": 0,
    "start_time": "2022-04-07T17:43:14.663Z"
   },
   {
    "duration": 0,
    "start_time": "2022-04-07T17:43:14.664Z"
   },
   {
    "duration": 0,
    "start_time": "2022-04-07T17:43:14.665Z"
   },
   {
    "duration": 0,
    "start_time": "2022-04-07T17:43:14.666Z"
   },
   {
    "duration": 0,
    "start_time": "2022-04-07T17:43:14.667Z"
   },
   {
    "duration": 0,
    "start_time": "2022-04-07T17:43:14.668Z"
   },
   {
    "duration": 0,
    "start_time": "2022-04-07T17:43:14.669Z"
   },
   {
    "duration": 0,
    "start_time": "2022-04-07T17:43:14.670Z"
   },
   {
    "duration": 0,
    "start_time": "2022-04-07T17:43:14.671Z"
   },
   {
    "duration": 0,
    "start_time": "2022-04-07T17:43:14.672Z"
   },
   {
    "duration": 0,
    "start_time": "2022-04-07T17:43:14.672Z"
   },
   {
    "duration": 0,
    "start_time": "2022-04-07T17:43:14.673Z"
   },
   {
    "duration": 0,
    "start_time": "2022-04-07T17:43:14.675Z"
   },
   {
    "duration": 0,
    "start_time": "2022-04-07T17:43:14.676Z"
   },
   {
    "duration": 0,
    "start_time": "2022-04-07T17:43:14.677Z"
   },
   {
    "duration": 0,
    "start_time": "2022-04-07T17:43:14.678Z"
   },
   {
    "duration": 0,
    "start_time": "2022-04-07T17:43:14.679Z"
   },
   {
    "duration": 0,
    "start_time": "2022-04-07T17:43:14.680Z"
   },
   {
    "duration": 433,
    "start_time": "2022-04-07T17:43:29.671Z"
   },
   {
    "duration": 60,
    "start_time": "2022-04-07T17:43:30.106Z"
   },
   {
    "duration": 24,
    "start_time": "2022-04-07T17:43:30.168Z"
   },
   {
    "duration": 14,
    "start_time": "2022-04-07T17:43:30.194Z"
   },
   {
    "duration": 13,
    "start_time": "2022-04-07T17:43:30.210Z"
   },
   {
    "duration": 11,
    "start_time": "2022-04-07T17:43:30.224Z"
   },
   {
    "duration": 27,
    "start_time": "2022-04-07T17:43:30.237Z"
   },
   {
    "duration": 11,
    "start_time": "2022-04-07T17:43:30.266Z"
   },
   {
    "duration": 10,
    "start_time": "2022-04-07T17:43:30.278Z"
   },
   {
    "duration": 18,
    "start_time": "2022-04-07T17:43:30.290Z"
   },
   {
    "duration": 11,
    "start_time": "2022-04-07T17:43:30.310Z"
   },
   {
    "duration": 23,
    "start_time": "2022-04-07T17:43:30.322Z"
   },
   {
    "duration": 19,
    "start_time": "2022-04-07T17:43:30.347Z"
   },
   {
    "duration": 10,
    "start_time": "2022-04-07T17:43:30.367Z"
   },
   {
    "duration": 8,
    "start_time": "2022-04-07T17:43:30.379Z"
   },
   {
    "duration": 123,
    "start_time": "2022-04-07T17:43:30.388Z"
   },
   {
    "duration": 0,
    "start_time": "2022-04-07T17:43:30.515Z"
   },
   {
    "duration": 0,
    "start_time": "2022-04-07T17:43:30.516Z"
   },
   {
    "duration": 0,
    "start_time": "2022-04-07T17:43:30.518Z"
   },
   {
    "duration": 0,
    "start_time": "2022-04-07T17:43:30.519Z"
   },
   {
    "duration": 0,
    "start_time": "2022-04-07T17:43:30.520Z"
   },
   {
    "duration": 0,
    "start_time": "2022-04-07T17:43:30.521Z"
   },
   {
    "duration": 0,
    "start_time": "2022-04-07T17:43:30.522Z"
   },
   {
    "duration": 0,
    "start_time": "2022-04-07T17:43:30.524Z"
   },
   {
    "duration": 0,
    "start_time": "2022-04-07T17:43:30.525Z"
   },
   {
    "duration": 1,
    "start_time": "2022-04-07T17:43:30.525Z"
   },
   {
    "duration": 0,
    "start_time": "2022-04-07T17:43:30.526Z"
   },
   {
    "duration": 0,
    "start_time": "2022-04-07T17:43:30.527Z"
   },
   {
    "duration": 0,
    "start_time": "2022-04-07T17:43:30.528Z"
   },
   {
    "duration": 0,
    "start_time": "2022-04-07T17:43:30.529Z"
   },
   {
    "duration": 0,
    "start_time": "2022-04-07T17:43:30.530Z"
   },
   {
    "duration": 0,
    "start_time": "2022-04-07T17:43:30.531Z"
   },
   {
    "duration": 0,
    "start_time": "2022-04-07T17:43:30.532Z"
   },
   {
    "duration": 0,
    "start_time": "2022-04-07T17:43:30.533Z"
   },
   {
    "duration": 0,
    "start_time": "2022-04-07T17:43:30.534Z"
   },
   {
    "duration": 0,
    "start_time": "2022-04-07T17:43:30.563Z"
   },
   {
    "duration": 0,
    "start_time": "2022-04-07T17:43:30.564Z"
   },
   {
    "duration": 0,
    "start_time": "2022-04-07T17:43:30.565Z"
   },
   {
    "duration": 0,
    "start_time": "2022-04-07T17:43:30.566Z"
   },
   {
    "duration": 0,
    "start_time": "2022-04-07T17:43:30.566Z"
   },
   {
    "duration": 0,
    "start_time": "2022-04-07T17:43:30.567Z"
   },
   {
    "duration": 0,
    "start_time": "2022-04-07T17:43:30.569Z"
   },
   {
    "duration": 0,
    "start_time": "2022-04-07T17:43:30.570Z"
   },
   {
    "duration": 0,
    "start_time": "2022-04-07T17:43:30.571Z"
   },
   {
    "duration": 0,
    "start_time": "2022-04-07T17:43:30.572Z"
   },
   {
    "duration": 0,
    "start_time": "2022-04-07T17:43:30.573Z"
   },
   {
    "duration": 0,
    "start_time": "2022-04-07T17:43:30.574Z"
   },
   {
    "duration": 0,
    "start_time": "2022-04-07T17:43:30.575Z"
   },
   {
    "duration": 0,
    "start_time": "2022-04-07T17:43:30.576Z"
   },
   {
    "duration": 0,
    "start_time": "2022-04-07T17:43:30.577Z"
   },
   {
    "duration": 0,
    "start_time": "2022-04-07T17:43:30.578Z"
   },
   {
    "duration": 0,
    "start_time": "2022-04-07T17:43:30.579Z"
   },
   {
    "duration": 0,
    "start_time": "2022-04-07T17:43:30.580Z"
   },
   {
    "duration": 0,
    "start_time": "2022-04-07T17:43:30.581Z"
   },
   {
    "duration": 0,
    "start_time": "2022-04-07T17:43:30.582Z"
   },
   {
    "duration": 0,
    "start_time": "2022-04-07T17:43:30.583Z"
   },
   {
    "duration": 0,
    "start_time": "2022-04-07T17:43:30.584Z"
   },
   {
    "duration": 0,
    "start_time": "2022-04-07T17:43:30.584Z"
   },
   {
    "duration": 0,
    "start_time": "2022-04-07T17:43:30.585Z"
   },
   {
    "duration": 0,
    "start_time": "2022-04-07T17:43:30.586Z"
   },
   {
    "duration": 0,
    "start_time": "2022-04-07T17:43:30.588Z"
   },
   {
    "duration": 498,
    "start_time": "2022-04-07T17:49:55.236Z"
   },
   {
    "duration": 59,
    "start_time": "2022-04-07T17:49:55.736Z"
   },
   {
    "duration": 27,
    "start_time": "2022-04-07T17:49:55.797Z"
   },
   {
    "duration": 17,
    "start_time": "2022-04-07T17:49:55.825Z"
   },
   {
    "duration": 12,
    "start_time": "2022-04-07T17:49:55.864Z"
   },
   {
    "duration": 4,
    "start_time": "2022-04-07T17:49:55.878Z"
   },
   {
    "duration": 9,
    "start_time": "2022-04-07T17:49:55.883Z"
   },
   {
    "duration": 5,
    "start_time": "2022-04-07T17:49:55.893Z"
   },
   {
    "duration": 4,
    "start_time": "2022-04-07T17:49:55.900Z"
   },
   {
    "duration": 6,
    "start_time": "2022-04-07T17:49:55.906Z"
   },
   {
    "duration": 5,
    "start_time": "2022-04-07T17:49:55.913Z"
   },
   {
    "duration": 12,
    "start_time": "2022-04-07T17:49:55.920Z"
   },
   {
    "duration": 31,
    "start_time": "2022-04-07T17:49:55.933Z"
   },
   {
    "duration": 5,
    "start_time": "2022-04-07T17:49:55.967Z"
   },
   {
    "duration": 13,
    "start_time": "2022-04-07T17:49:55.974Z"
   },
   {
    "duration": 86,
    "start_time": "2022-04-07T17:49:55.988Z"
   },
   {
    "duration": 0,
    "start_time": "2022-04-07T17:49:56.076Z"
   },
   {
    "duration": 0,
    "start_time": "2022-04-07T17:49:56.077Z"
   },
   {
    "duration": 0,
    "start_time": "2022-04-07T17:49:56.078Z"
   },
   {
    "duration": 0,
    "start_time": "2022-04-07T17:49:56.079Z"
   },
   {
    "duration": 0,
    "start_time": "2022-04-07T17:49:56.080Z"
   },
   {
    "duration": 0,
    "start_time": "2022-04-07T17:49:56.081Z"
   },
   {
    "duration": 0,
    "start_time": "2022-04-07T17:49:56.082Z"
   },
   {
    "duration": 0,
    "start_time": "2022-04-07T17:49:56.083Z"
   },
   {
    "duration": 0,
    "start_time": "2022-04-07T17:49:56.084Z"
   },
   {
    "duration": 0,
    "start_time": "2022-04-07T17:49:56.085Z"
   },
   {
    "duration": 0,
    "start_time": "2022-04-07T17:49:56.086Z"
   },
   {
    "duration": 0,
    "start_time": "2022-04-07T17:49:56.087Z"
   },
   {
    "duration": 0,
    "start_time": "2022-04-07T17:49:56.088Z"
   },
   {
    "duration": 0,
    "start_time": "2022-04-07T17:49:56.089Z"
   },
   {
    "duration": 0,
    "start_time": "2022-04-07T17:49:56.090Z"
   },
   {
    "duration": 0,
    "start_time": "2022-04-07T17:49:56.091Z"
   },
   {
    "duration": 0,
    "start_time": "2022-04-07T17:49:56.092Z"
   },
   {
    "duration": 0,
    "start_time": "2022-04-07T17:49:56.093Z"
   },
   {
    "duration": 0,
    "start_time": "2022-04-07T17:49:56.094Z"
   },
   {
    "duration": 0,
    "start_time": "2022-04-07T17:49:56.095Z"
   },
   {
    "duration": 0,
    "start_time": "2022-04-07T17:49:56.096Z"
   },
   {
    "duration": 0,
    "start_time": "2022-04-07T17:49:56.097Z"
   },
   {
    "duration": 0,
    "start_time": "2022-04-07T17:49:56.098Z"
   },
   {
    "duration": 0,
    "start_time": "2022-04-07T17:49:56.099Z"
   },
   {
    "duration": 0,
    "start_time": "2022-04-07T17:49:56.100Z"
   },
   {
    "duration": 0,
    "start_time": "2022-04-07T17:49:56.101Z"
   },
   {
    "duration": 0,
    "start_time": "2022-04-07T17:49:56.102Z"
   },
   {
    "duration": 0,
    "start_time": "2022-04-07T17:49:56.103Z"
   },
   {
    "duration": 0,
    "start_time": "2022-04-07T17:49:56.104Z"
   },
   {
    "duration": 0,
    "start_time": "2022-04-07T17:49:56.105Z"
   },
   {
    "duration": 0,
    "start_time": "2022-04-07T17:49:56.106Z"
   },
   {
    "duration": 0,
    "start_time": "2022-04-07T17:49:56.107Z"
   },
   {
    "duration": 0,
    "start_time": "2022-04-07T17:49:56.108Z"
   },
   {
    "duration": 0,
    "start_time": "2022-04-07T17:49:56.109Z"
   },
   {
    "duration": 0,
    "start_time": "2022-04-07T17:49:56.110Z"
   },
   {
    "duration": 0,
    "start_time": "2022-04-07T17:49:56.162Z"
   },
   {
    "duration": 0,
    "start_time": "2022-04-07T17:49:56.164Z"
   },
   {
    "duration": 0,
    "start_time": "2022-04-07T17:49:56.165Z"
   },
   {
    "duration": 0,
    "start_time": "2022-04-07T17:49:56.165Z"
   },
   {
    "duration": 0,
    "start_time": "2022-04-07T17:49:56.167Z"
   },
   {
    "duration": 0,
    "start_time": "2022-04-07T17:49:56.168Z"
   },
   {
    "duration": 0,
    "start_time": "2022-04-07T17:49:56.169Z"
   },
   {
    "duration": 0,
    "start_time": "2022-04-07T17:49:56.170Z"
   },
   {
    "duration": 0,
    "start_time": "2022-04-07T17:49:56.171Z"
   },
   {
    "duration": 0,
    "start_time": "2022-04-07T17:49:56.172Z"
   },
   {
    "duration": 14,
    "start_time": "2022-04-07T17:53:16.584Z"
   },
   {
    "duration": 386,
    "start_time": "2022-04-07T17:53:21.775Z"
   },
   {
    "duration": 55,
    "start_time": "2022-04-07T17:53:22.163Z"
   },
   {
    "duration": 25,
    "start_time": "2022-04-07T17:53:22.220Z"
   },
   {
    "duration": 24,
    "start_time": "2022-04-07T17:53:22.247Z"
   },
   {
    "duration": 9,
    "start_time": "2022-04-07T17:53:22.272Z"
   },
   {
    "duration": 3,
    "start_time": "2022-04-07T17:53:22.283Z"
   },
   {
    "duration": 11,
    "start_time": "2022-04-07T17:53:22.287Z"
   },
   {
    "duration": 5,
    "start_time": "2022-04-07T17:53:22.299Z"
   },
   {
    "duration": 5,
    "start_time": "2022-04-07T17:53:22.306Z"
   },
   {
    "duration": 5,
    "start_time": "2022-04-07T17:53:22.314Z"
   },
   {
    "duration": 5,
    "start_time": "2022-04-07T17:53:22.320Z"
   },
   {
    "duration": 11,
    "start_time": "2022-04-07T17:53:22.327Z"
   },
   {
    "duration": 25,
    "start_time": "2022-04-07T17:53:22.339Z"
   },
   {
    "duration": 8,
    "start_time": "2022-04-07T17:53:22.365Z"
   },
   {
    "duration": 3,
    "start_time": "2022-04-07T17:53:22.375Z"
   },
   {
    "duration": 88,
    "start_time": "2022-04-07T17:53:22.379Z"
   },
   {
    "duration": 0,
    "start_time": "2022-04-07T17:53:22.470Z"
   },
   {
    "duration": 0,
    "start_time": "2022-04-07T17:53:22.471Z"
   },
   {
    "duration": 0,
    "start_time": "2022-04-07T17:53:22.472Z"
   },
   {
    "duration": 0,
    "start_time": "2022-04-07T17:53:22.473Z"
   },
   {
    "duration": 0,
    "start_time": "2022-04-07T17:53:22.474Z"
   },
   {
    "duration": 0,
    "start_time": "2022-04-07T17:53:22.475Z"
   },
   {
    "duration": 0,
    "start_time": "2022-04-07T17:53:22.475Z"
   },
   {
    "duration": 0,
    "start_time": "2022-04-07T17:53:22.476Z"
   },
   {
    "duration": 0,
    "start_time": "2022-04-07T17:53:22.477Z"
   },
   {
    "duration": 0,
    "start_time": "2022-04-07T17:53:22.478Z"
   },
   {
    "duration": 0,
    "start_time": "2022-04-07T17:53:22.479Z"
   },
   {
    "duration": 0,
    "start_time": "2022-04-07T17:53:22.480Z"
   },
   {
    "duration": 0,
    "start_time": "2022-04-07T17:53:22.481Z"
   },
   {
    "duration": 0,
    "start_time": "2022-04-07T17:53:22.482Z"
   },
   {
    "duration": 0,
    "start_time": "2022-04-07T17:53:22.483Z"
   },
   {
    "duration": 0,
    "start_time": "2022-04-07T17:53:22.483Z"
   },
   {
    "duration": 0,
    "start_time": "2022-04-07T17:53:22.484Z"
   },
   {
    "duration": 0,
    "start_time": "2022-04-07T17:53:22.485Z"
   },
   {
    "duration": 0,
    "start_time": "2022-04-07T17:53:22.486Z"
   },
   {
    "duration": 0,
    "start_time": "2022-04-07T17:53:22.487Z"
   },
   {
    "duration": 0,
    "start_time": "2022-04-07T17:53:22.487Z"
   },
   {
    "duration": 0,
    "start_time": "2022-04-07T17:53:22.488Z"
   },
   {
    "duration": 0,
    "start_time": "2022-04-07T17:53:22.489Z"
   },
   {
    "duration": 0,
    "start_time": "2022-04-07T17:53:22.490Z"
   },
   {
    "duration": 0,
    "start_time": "2022-04-07T17:53:22.492Z"
   },
   {
    "duration": 0,
    "start_time": "2022-04-07T17:53:22.493Z"
   },
   {
    "duration": 0,
    "start_time": "2022-04-07T17:53:22.493Z"
   },
   {
    "duration": 0,
    "start_time": "2022-04-07T17:53:22.494Z"
   },
   {
    "duration": 0,
    "start_time": "2022-04-07T17:53:22.495Z"
   },
   {
    "duration": 0,
    "start_time": "2022-04-07T17:53:22.496Z"
   },
   {
    "duration": 0,
    "start_time": "2022-04-07T17:53:22.497Z"
   },
   {
    "duration": 0,
    "start_time": "2022-04-07T17:53:22.498Z"
   },
   {
    "duration": 0,
    "start_time": "2022-04-07T17:53:22.499Z"
   },
   {
    "duration": 0,
    "start_time": "2022-04-07T17:53:22.500Z"
   },
   {
    "duration": 0,
    "start_time": "2022-04-07T17:53:22.501Z"
   },
   {
    "duration": 0,
    "start_time": "2022-04-07T17:53:22.502Z"
   },
   {
    "duration": 0,
    "start_time": "2022-04-07T17:53:22.503Z"
   },
   {
    "duration": 0,
    "start_time": "2022-04-07T17:53:22.504Z"
   },
   {
    "duration": 0,
    "start_time": "2022-04-07T17:53:22.505Z"
   },
   {
    "duration": 0,
    "start_time": "2022-04-07T17:53:22.563Z"
   },
   {
    "duration": 0,
    "start_time": "2022-04-07T17:53:22.564Z"
   },
   {
    "duration": 0,
    "start_time": "2022-04-07T17:53:22.565Z"
   },
   {
    "duration": 0,
    "start_time": "2022-04-07T17:53:22.566Z"
   },
   {
    "duration": 0,
    "start_time": "2022-04-07T17:53:22.567Z"
   },
   {
    "duration": 0,
    "start_time": "2022-04-07T17:53:22.568Z"
   },
   {
    "duration": 10,
    "start_time": "2022-04-07T17:53:49.421Z"
   },
   {
    "duration": 367,
    "start_time": "2022-04-07T17:53:58.098Z"
   },
   {
    "duration": 56,
    "start_time": "2022-04-07T17:53:58.467Z"
   },
   {
    "duration": 25,
    "start_time": "2022-04-07T17:53:58.525Z"
   },
   {
    "duration": 23,
    "start_time": "2022-04-07T17:53:58.552Z"
   },
   {
    "duration": 9,
    "start_time": "2022-04-07T17:53:58.577Z"
   },
   {
    "duration": 4,
    "start_time": "2022-04-07T17:53:58.587Z"
   },
   {
    "duration": 10,
    "start_time": "2022-04-07T17:53:58.592Z"
   },
   {
    "duration": 7,
    "start_time": "2022-04-07T17:53:58.603Z"
   },
   {
    "duration": 4,
    "start_time": "2022-04-07T17:53:58.612Z"
   },
   {
    "duration": 4,
    "start_time": "2022-04-07T17:53:58.619Z"
   },
   {
    "duration": 5,
    "start_time": "2022-04-07T17:53:58.624Z"
   },
   {
    "duration": 35,
    "start_time": "2022-04-07T17:53:58.630Z"
   },
   {
    "duration": 4,
    "start_time": "2022-04-07T17:53:58.667Z"
   },
   {
    "duration": 8,
    "start_time": "2022-04-07T17:53:58.673Z"
   },
   {
    "duration": 6,
    "start_time": "2022-04-07T17:53:58.682Z"
   },
   {
    "duration": 84,
    "start_time": "2022-04-07T17:53:58.689Z"
   },
   {
    "duration": 0,
    "start_time": "2022-04-07T17:53:58.776Z"
   },
   {
    "duration": 0,
    "start_time": "2022-04-07T17:53:58.777Z"
   },
   {
    "duration": 0,
    "start_time": "2022-04-07T17:53:58.778Z"
   },
   {
    "duration": 0,
    "start_time": "2022-04-07T17:53:58.778Z"
   },
   {
    "duration": 0,
    "start_time": "2022-04-07T17:53:58.779Z"
   },
   {
    "duration": 0,
    "start_time": "2022-04-07T17:53:58.780Z"
   },
   {
    "duration": 0,
    "start_time": "2022-04-07T17:53:58.781Z"
   },
   {
    "duration": 0,
    "start_time": "2022-04-07T17:53:58.782Z"
   },
   {
    "duration": 0,
    "start_time": "2022-04-07T17:53:58.783Z"
   },
   {
    "duration": 0,
    "start_time": "2022-04-07T17:53:58.784Z"
   },
   {
    "duration": 0,
    "start_time": "2022-04-07T17:53:58.785Z"
   },
   {
    "duration": 0,
    "start_time": "2022-04-07T17:53:58.786Z"
   },
   {
    "duration": 0,
    "start_time": "2022-04-07T17:53:58.787Z"
   },
   {
    "duration": 0,
    "start_time": "2022-04-07T17:53:58.788Z"
   },
   {
    "duration": 0,
    "start_time": "2022-04-07T17:53:58.789Z"
   },
   {
    "duration": 0,
    "start_time": "2022-04-07T17:53:58.790Z"
   },
   {
    "duration": 0,
    "start_time": "2022-04-07T17:53:58.791Z"
   },
   {
    "duration": 0,
    "start_time": "2022-04-07T17:53:58.792Z"
   },
   {
    "duration": 0,
    "start_time": "2022-04-07T17:53:58.793Z"
   },
   {
    "duration": 0,
    "start_time": "2022-04-07T17:53:58.795Z"
   },
   {
    "duration": 0,
    "start_time": "2022-04-07T17:53:58.795Z"
   },
   {
    "duration": 0,
    "start_time": "2022-04-07T17:53:58.796Z"
   },
   {
    "duration": 0,
    "start_time": "2022-04-07T17:53:58.797Z"
   },
   {
    "duration": 0,
    "start_time": "2022-04-07T17:53:58.798Z"
   },
   {
    "duration": 0,
    "start_time": "2022-04-07T17:53:58.799Z"
   },
   {
    "duration": 0,
    "start_time": "2022-04-07T17:53:58.799Z"
   },
   {
    "duration": 0,
    "start_time": "2022-04-07T17:53:58.800Z"
   },
   {
    "duration": 0,
    "start_time": "2022-04-07T17:53:58.801Z"
   },
   {
    "duration": 0,
    "start_time": "2022-04-07T17:53:58.802Z"
   },
   {
    "duration": 0,
    "start_time": "2022-04-07T17:53:58.803Z"
   },
   {
    "duration": 0,
    "start_time": "2022-04-07T17:53:58.804Z"
   },
   {
    "duration": 0,
    "start_time": "2022-04-07T17:53:58.805Z"
   },
   {
    "duration": 0,
    "start_time": "2022-04-07T17:53:58.806Z"
   },
   {
    "duration": 0,
    "start_time": "2022-04-07T17:53:58.807Z"
   },
   {
    "duration": 0,
    "start_time": "2022-04-07T17:53:58.808Z"
   },
   {
    "duration": 0,
    "start_time": "2022-04-07T17:53:58.809Z"
   },
   {
    "duration": 1,
    "start_time": "2022-04-07T17:53:58.863Z"
   },
   {
    "duration": 0,
    "start_time": "2022-04-07T17:53:58.865Z"
   },
   {
    "duration": 0,
    "start_time": "2022-04-07T17:53:58.866Z"
   },
   {
    "duration": 0,
    "start_time": "2022-04-07T17:53:58.866Z"
   },
   {
    "duration": 0,
    "start_time": "2022-04-07T17:53:58.867Z"
   },
   {
    "duration": 0,
    "start_time": "2022-04-07T17:53:58.868Z"
   },
   {
    "duration": 0,
    "start_time": "2022-04-07T17:53:58.869Z"
   },
   {
    "duration": 0,
    "start_time": "2022-04-07T17:53:58.870Z"
   },
   {
    "duration": 0,
    "start_time": "2022-04-07T17:53:58.871Z"
   },
   {
    "duration": 423,
    "start_time": "2022-04-07T17:58:57.132Z"
   },
   {
    "duration": 59,
    "start_time": "2022-04-07T17:58:57.557Z"
   },
   {
    "duration": 26,
    "start_time": "2022-04-07T17:58:57.618Z"
   },
   {
    "duration": 24,
    "start_time": "2022-04-07T17:58:57.646Z"
   },
   {
    "duration": 10,
    "start_time": "2022-04-07T17:58:57.671Z"
   },
   {
    "duration": 4,
    "start_time": "2022-04-07T17:58:57.682Z"
   },
   {
    "duration": 12,
    "start_time": "2022-04-07T17:58:57.687Z"
   },
   {
    "duration": 8,
    "start_time": "2022-04-07T17:58:57.701Z"
   },
   {
    "duration": 8,
    "start_time": "2022-04-07T17:58:57.710Z"
   },
   {
    "duration": 7,
    "start_time": "2022-04-07T17:58:57.720Z"
   },
   {
    "duration": 8,
    "start_time": "2022-04-07T17:58:57.728Z"
   },
   {
    "duration": 11,
    "start_time": "2022-04-07T17:58:57.737Z"
   },
   {
    "duration": 16,
    "start_time": "2022-04-07T17:58:57.750Z"
   },
   {
    "duration": 10,
    "start_time": "2022-04-07T17:58:57.767Z"
   },
   {
    "duration": 14,
    "start_time": "2022-04-07T17:58:57.778Z"
   },
   {
    "duration": 64,
    "start_time": "2022-04-07T17:58:57.793Z"
   },
   {
    "duration": 1,
    "start_time": "2022-04-07T17:58:57.862Z"
   },
   {
    "duration": 0,
    "start_time": "2022-04-07T17:58:57.863Z"
   },
   {
    "duration": 0,
    "start_time": "2022-04-07T17:58:57.865Z"
   },
   {
    "duration": 0,
    "start_time": "2022-04-07T17:58:57.865Z"
   },
   {
    "duration": 0,
    "start_time": "2022-04-07T17:58:57.867Z"
   },
   {
    "duration": 0,
    "start_time": "2022-04-07T17:58:57.868Z"
   },
   {
    "duration": 0,
    "start_time": "2022-04-07T17:58:57.869Z"
   },
   {
    "duration": 0,
    "start_time": "2022-04-07T17:58:57.870Z"
   },
   {
    "duration": 0,
    "start_time": "2022-04-07T17:58:57.871Z"
   },
   {
    "duration": 0,
    "start_time": "2022-04-07T17:58:57.872Z"
   },
   {
    "duration": 0,
    "start_time": "2022-04-07T17:58:57.873Z"
   },
   {
    "duration": 0,
    "start_time": "2022-04-07T17:58:57.874Z"
   },
   {
    "duration": 0,
    "start_time": "2022-04-07T17:58:57.875Z"
   },
   {
    "duration": 0,
    "start_time": "2022-04-07T17:58:57.876Z"
   },
   {
    "duration": 0,
    "start_time": "2022-04-07T17:58:57.877Z"
   },
   {
    "duration": 0,
    "start_time": "2022-04-07T17:58:57.878Z"
   },
   {
    "duration": 0,
    "start_time": "2022-04-07T17:58:57.879Z"
   },
   {
    "duration": 0,
    "start_time": "2022-04-07T17:58:57.880Z"
   },
   {
    "duration": 0,
    "start_time": "2022-04-07T17:58:57.881Z"
   },
   {
    "duration": 0,
    "start_time": "2022-04-07T17:58:57.882Z"
   },
   {
    "duration": 1,
    "start_time": "2022-04-07T17:58:57.882Z"
   },
   {
    "duration": 0,
    "start_time": "2022-04-07T17:58:57.883Z"
   },
   {
    "duration": 0,
    "start_time": "2022-04-07T17:58:57.885Z"
   },
   {
    "duration": 1,
    "start_time": "2022-04-07T17:58:57.885Z"
   },
   {
    "duration": 0,
    "start_time": "2022-04-07T17:58:57.887Z"
   },
   {
    "duration": 0,
    "start_time": "2022-04-07T17:58:57.887Z"
   },
   {
    "duration": 0,
    "start_time": "2022-04-07T17:58:57.888Z"
   },
   {
    "duration": 0,
    "start_time": "2022-04-07T17:58:57.889Z"
   },
   {
    "duration": 0,
    "start_time": "2022-04-07T17:58:57.890Z"
   },
   {
    "duration": 0,
    "start_time": "2022-04-07T17:58:57.891Z"
   },
   {
    "duration": 0,
    "start_time": "2022-04-07T17:58:57.892Z"
   },
   {
    "duration": 0,
    "start_time": "2022-04-07T17:58:57.892Z"
   },
   {
    "duration": 0,
    "start_time": "2022-04-07T17:58:57.893Z"
   },
   {
    "duration": 0,
    "start_time": "2022-04-07T17:58:57.894Z"
   },
   {
    "duration": 0,
    "start_time": "2022-04-07T17:58:57.895Z"
   },
   {
    "duration": 0,
    "start_time": "2022-04-07T17:58:57.896Z"
   },
   {
    "duration": 0,
    "start_time": "2022-04-07T17:58:57.897Z"
   },
   {
    "duration": 0,
    "start_time": "2022-04-07T17:58:57.898Z"
   },
   {
    "duration": 0,
    "start_time": "2022-04-07T17:58:57.898Z"
   },
   {
    "duration": 0,
    "start_time": "2022-04-07T17:58:57.899Z"
   },
   {
    "duration": 0,
    "start_time": "2022-04-07T17:58:57.900Z"
   },
   {
    "duration": 0,
    "start_time": "2022-04-07T17:58:57.901Z"
   },
   {
    "duration": 0,
    "start_time": "2022-04-07T17:58:57.963Z"
   },
   {
    "duration": 0,
    "start_time": "2022-04-07T17:58:57.964Z"
   },
   {
    "duration": 0,
    "start_time": "2022-04-07T17:58:57.965Z"
   },
   {
    "duration": 9,
    "start_time": "2022-04-07T17:59:06.917Z"
   },
   {
    "duration": 418,
    "start_time": "2022-04-07T17:59:10.434Z"
   },
   {
    "duration": 56,
    "start_time": "2022-04-07T17:59:10.853Z"
   },
   {
    "duration": 24,
    "start_time": "2022-04-07T17:59:10.913Z"
   },
   {
    "duration": 31,
    "start_time": "2022-04-07T17:59:10.938Z"
   },
   {
    "duration": 10,
    "start_time": "2022-04-07T17:59:10.970Z"
   },
   {
    "duration": 3,
    "start_time": "2022-04-07T17:59:10.982Z"
   },
   {
    "duration": 12,
    "start_time": "2022-04-07T17:59:10.987Z"
   },
   {
    "duration": 9,
    "start_time": "2022-04-07T17:59:11.000Z"
   },
   {
    "duration": 8,
    "start_time": "2022-04-07T17:59:11.011Z"
   },
   {
    "duration": 5,
    "start_time": "2022-04-07T17:59:11.020Z"
   },
   {
    "duration": 7,
    "start_time": "2022-04-07T17:59:11.026Z"
   },
   {
    "duration": 32,
    "start_time": "2022-04-07T17:59:11.035Z"
   },
   {
    "duration": 5,
    "start_time": "2022-04-07T17:59:11.069Z"
   },
   {
    "duration": 8,
    "start_time": "2022-04-07T17:59:11.075Z"
   },
   {
    "duration": 4,
    "start_time": "2022-04-07T17:59:11.084Z"
   },
   {
    "duration": 8,
    "start_time": "2022-04-07T17:59:11.089Z"
   },
   {
    "duration": 5,
    "start_time": "2022-04-07T17:59:11.099Z"
   },
   {
    "duration": 5,
    "start_time": "2022-04-07T17:59:11.105Z"
   },
   {
    "duration": 52,
    "start_time": "2022-04-07T17:59:11.112Z"
   },
   {
    "duration": 31,
    "start_time": "2022-04-07T17:59:11.165Z"
   },
   {
    "duration": 6,
    "start_time": "2022-04-07T17:59:11.198Z"
   },
   {
    "duration": 13,
    "start_time": "2022-04-07T17:59:11.206Z"
   },
   {
    "duration": 10,
    "start_time": "2022-04-07T17:59:11.221Z"
   },
   {
    "duration": 5,
    "start_time": "2022-04-07T17:59:11.232Z"
   },
   {
    "duration": 30,
    "start_time": "2022-04-07T17:59:11.238Z"
   },
   {
    "duration": 21,
    "start_time": "2022-04-07T17:59:11.269Z"
   },
   {
    "duration": 11,
    "start_time": "2022-04-07T17:59:11.294Z"
   },
   {
    "duration": 15,
    "start_time": "2022-04-07T17:59:11.306Z"
   },
   {
    "duration": 6,
    "start_time": "2022-04-07T17:59:11.322Z"
   },
   {
    "duration": 5,
    "start_time": "2022-04-07T17:59:11.330Z"
   },
   {
    "duration": 27,
    "start_time": "2022-04-07T17:59:11.336Z"
   },
   {
    "duration": 5,
    "start_time": "2022-04-07T17:59:11.365Z"
   },
   {
    "duration": 6,
    "start_time": "2022-04-07T17:59:11.372Z"
   },
   {
    "duration": 6,
    "start_time": "2022-04-07T17:59:11.379Z"
   },
   {
    "duration": 11,
    "start_time": "2022-04-07T17:59:11.386Z"
   },
   {
    "duration": 6,
    "start_time": "2022-04-07T17:59:11.398Z"
   },
   {
    "duration": 5,
    "start_time": "2022-04-07T17:59:11.405Z"
   },
   {
    "duration": 12,
    "start_time": "2022-04-07T17:59:11.411Z"
   },
   {
    "duration": 6,
    "start_time": "2022-04-07T17:59:11.424Z"
   },
   {
    "duration": 4,
    "start_time": "2022-04-07T17:59:11.463Z"
   },
   {
    "duration": 183,
    "start_time": "2022-04-07T17:59:11.469Z"
   },
   {
    "duration": 12,
    "start_time": "2022-04-07T17:59:11.654Z"
   },
   {
    "duration": 7,
    "start_time": "2022-04-07T17:59:11.667Z"
   },
   {
    "duration": 5,
    "start_time": "2022-04-07T17:59:11.676Z"
   },
   {
    "duration": 15,
    "start_time": "2022-04-07T17:59:11.683Z"
   },
   {
    "duration": 5,
    "start_time": "2022-04-07T17:59:11.700Z"
   },
   {
    "duration": 202,
    "start_time": "2022-04-07T17:59:11.707Z"
   },
   {
    "duration": 6,
    "start_time": "2022-04-07T17:59:11.911Z"
   },
   {
    "duration": 20,
    "start_time": "2022-04-07T17:59:11.919Z"
   },
   {
    "duration": 10,
    "start_time": "2022-04-07T17:59:11.941Z"
   },
   {
    "duration": 25,
    "start_time": "2022-04-07T17:59:11.952Z"
   },
   {
    "duration": 11,
    "start_time": "2022-04-07T17:59:11.979Z"
   },
   {
    "duration": 201,
    "start_time": "2022-04-07T17:59:11.992Z"
   },
   {
    "duration": 8,
    "start_time": "2022-04-07T17:59:12.194Z"
   },
   {
    "duration": 22,
    "start_time": "2022-04-07T17:59:12.204Z"
   },
   {
    "duration": 33,
    "start_time": "2022-04-07T17:59:12.228Z"
   },
   {
    "duration": 10,
    "start_time": "2022-04-07T17:59:12.263Z"
   },
   {
    "duration": 198,
    "start_time": "2022-04-07T17:59:12.275Z"
   },
   {
    "duration": 7,
    "start_time": "2022-04-07T17:59:12.475Z"
   },
   {
    "duration": 15,
    "start_time": "2022-04-07T17:59:12.483Z"
   },
   {
    "duration": 32,
    "start_time": "2022-04-07T17:59:12.499Z"
   },
   {
    "duration": 408,
    "start_time": "2022-04-07T18:00:09.668Z"
   },
   {
    "duration": 56,
    "start_time": "2022-04-07T18:00:10.079Z"
   },
   {
    "duration": 30,
    "start_time": "2022-04-07T18:00:10.136Z"
   },
   {
    "duration": 14,
    "start_time": "2022-04-07T18:00:10.167Z"
   },
   {
    "duration": 9,
    "start_time": "2022-04-07T18:00:10.183Z"
   },
   {
    "duration": 3,
    "start_time": "2022-04-07T18:00:10.193Z"
   },
   {
    "duration": 10,
    "start_time": "2022-04-07T18:00:10.198Z"
   },
   {
    "duration": 9,
    "start_time": "2022-04-07T18:00:10.209Z"
   },
   {
    "duration": 12,
    "start_time": "2022-04-07T18:00:10.219Z"
   },
   {
    "duration": 5,
    "start_time": "2022-04-07T18:00:10.232Z"
   },
   {
    "duration": 24,
    "start_time": "2022-04-07T18:00:10.239Z"
   },
   {
    "duration": 10,
    "start_time": "2022-04-07T18:00:10.264Z"
   },
   {
    "duration": 12,
    "start_time": "2022-04-07T18:00:10.276Z"
   },
   {
    "duration": 7,
    "start_time": "2022-04-07T18:00:10.291Z"
   },
   {
    "duration": 6,
    "start_time": "2022-04-07T18:00:10.299Z"
   },
   {
    "duration": 12,
    "start_time": "2022-04-07T18:00:10.306Z"
   },
   {
    "duration": 6,
    "start_time": "2022-04-07T18:00:10.320Z"
   },
   {
    "duration": 11,
    "start_time": "2022-04-07T18:00:10.327Z"
   },
   {
    "duration": 25,
    "start_time": "2022-04-07T18:00:10.339Z"
   },
   {
    "duration": 17,
    "start_time": "2022-04-07T18:00:10.365Z"
   },
   {
    "duration": 30,
    "start_time": "2022-04-07T18:00:10.384Z"
   },
   {
    "duration": 6,
    "start_time": "2022-04-07T18:00:10.416Z"
   },
   {
    "duration": 14,
    "start_time": "2022-04-07T18:00:10.423Z"
   },
   {
    "duration": 26,
    "start_time": "2022-04-07T18:00:10.438Z"
   },
   {
    "duration": 10,
    "start_time": "2022-04-07T18:00:10.465Z"
   },
   {
    "duration": 9,
    "start_time": "2022-04-07T18:00:10.476Z"
   },
   {
    "duration": 18,
    "start_time": "2022-04-07T18:00:10.487Z"
   },
   {
    "duration": 11,
    "start_time": "2022-04-07T18:00:10.506Z"
   },
   {
    "duration": 10,
    "start_time": "2022-04-07T18:00:10.519Z"
   },
   {
    "duration": 7,
    "start_time": "2022-04-07T18:00:10.530Z"
   },
   {
    "duration": 25,
    "start_time": "2022-04-07T18:00:10.538Z"
   },
   {
    "duration": 7,
    "start_time": "2022-04-07T18:00:10.564Z"
   },
   {
    "duration": 9,
    "start_time": "2022-04-07T18:00:10.573Z"
   },
   {
    "duration": 7,
    "start_time": "2022-04-07T18:00:10.583Z"
   },
   {
    "duration": 10,
    "start_time": "2022-04-07T18:00:10.592Z"
   },
   {
    "duration": 13,
    "start_time": "2022-04-07T18:00:10.603Z"
   },
   {
    "duration": 6,
    "start_time": "2022-04-07T18:00:10.617Z"
   },
   {
    "duration": 9,
    "start_time": "2022-04-07T18:00:10.625Z"
   },
   {
    "duration": 13,
    "start_time": "2022-04-07T18:00:10.636Z"
   },
   {
    "duration": 26,
    "start_time": "2022-04-07T18:00:10.650Z"
   },
   {
    "duration": 6,
    "start_time": "2022-04-07T18:00:10.680Z"
   },
   {
    "duration": 174,
    "start_time": "2022-04-07T18:00:10.688Z"
   },
   {
    "duration": 6,
    "start_time": "2022-04-07T18:00:10.864Z"
   },
   {
    "duration": 13,
    "start_time": "2022-04-07T18:00:10.871Z"
   },
   {
    "duration": 8,
    "start_time": "2022-04-07T18:00:10.885Z"
   },
   {
    "duration": 13,
    "start_time": "2022-04-07T18:00:10.895Z"
   },
   {
    "duration": 9,
    "start_time": "2022-04-07T18:00:10.909Z"
   },
   {
    "duration": 184,
    "start_time": "2022-04-07T18:00:10.920Z"
   },
   {
    "duration": 6,
    "start_time": "2022-04-07T18:00:11.105Z"
   },
   {
    "duration": 10,
    "start_time": "2022-04-07T18:00:11.112Z"
   },
   {
    "duration": 5,
    "start_time": "2022-04-07T18:00:11.124Z"
   },
   {
    "duration": 16,
    "start_time": "2022-04-07T18:00:11.131Z"
   },
   {
    "duration": 20,
    "start_time": "2022-04-07T18:00:11.148Z"
   },
   {
    "duration": 193,
    "start_time": "2022-04-07T18:00:11.170Z"
   },
   {
    "duration": 8,
    "start_time": "2022-04-07T18:00:11.365Z"
   },
   {
    "duration": 5,
    "start_time": "2022-04-07T18:00:11.374Z"
   },
   {
    "duration": 13,
    "start_time": "2022-04-07T18:00:11.380Z"
   },
   {
    "duration": 4,
    "start_time": "2022-04-07T18:00:11.395Z"
   },
   {
    "duration": 203,
    "start_time": "2022-04-07T18:00:11.401Z"
   },
   {
    "duration": 8,
    "start_time": "2022-04-07T18:00:11.605Z"
   },
   {
    "duration": 6,
    "start_time": "2022-04-07T18:00:11.614Z"
   },
   {
    "duration": 11,
    "start_time": "2022-04-07T18:00:11.622Z"
   },
   {
    "duration": 18,
    "start_time": "2022-04-07T18:06:37.832Z"
   },
   {
    "duration": 20,
    "start_time": "2022-04-07T18:06:59.523Z"
   },
   {
    "duration": 19,
    "start_time": "2022-04-07T18:07:27.717Z"
   },
   {
    "duration": 378,
    "start_time": "2022-04-07T18:08:00.001Z"
   },
   {
    "duration": 59,
    "start_time": "2022-04-07T18:08:00.381Z"
   },
   {
    "duration": 32,
    "start_time": "2022-04-07T18:08:00.441Z"
   },
   {
    "duration": 15,
    "start_time": "2022-04-07T18:08:00.475Z"
   },
   {
    "duration": 15,
    "start_time": "2022-04-07T18:08:00.492Z"
   },
   {
    "duration": 7,
    "start_time": "2022-04-07T18:08:00.509Z"
   },
   {
    "duration": 25,
    "start_time": "2022-04-07T18:08:00.518Z"
   },
   {
    "duration": 22,
    "start_time": "2022-04-07T18:08:00.545Z"
   },
   {
    "duration": 16,
    "start_time": "2022-04-07T18:08:00.568Z"
   },
   {
    "duration": 17,
    "start_time": "2022-04-07T18:08:00.586Z"
   },
   {
    "duration": 10,
    "start_time": "2022-04-07T18:08:00.604Z"
   },
   {
    "duration": 15,
    "start_time": "2022-04-07T18:08:00.615Z"
   },
   {
    "duration": 6,
    "start_time": "2022-04-07T18:08:00.631Z"
   },
   {
    "duration": 14,
    "start_time": "2022-04-07T18:08:00.638Z"
   },
   {
    "duration": 7,
    "start_time": "2022-04-07T18:08:00.654Z"
   },
   {
    "duration": 26,
    "start_time": "2022-04-07T18:08:00.662Z"
   },
   {
    "duration": 5,
    "start_time": "2022-04-07T18:08:00.690Z"
   },
   {
    "duration": 8,
    "start_time": "2022-04-07T18:08:00.697Z"
   },
   {
    "duration": 20,
    "start_time": "2022-04-07T18:08:00.707Z"
   },
   {
    "duration": 3,
    "start_time": "2022-04-07T18:08:00.729Z"
   },
   {
    "duration": 25,
    "start_time": "2022-04-07T18:08:00.733Z"
   },
   {
    "duration": 30,
    "start_time": "2022-04-07T18:08:00.760Z"
   },
   {
    "duration": 6,
    "start_time": "2022-04-07T18:08:00.792Z"
   },
   {
    "duration": 18,
    "start_time": "2022-04-07T18:08:00.799Z"
   },
   {
    "duration": 13,
    "start_time": "2022-04-07T18:08:00.819Z"
   },
   {
    "duration": 19,
    "start_time": "2022-04-07T18:08:00.834Z"
   },
   {
    "duration": 9,
    "start_time": "2022-04-07T18:08:00.855Z"
   },
   {
    "duration": 23,
    "start_time": "2022-04-07T18:08:00.867Z"
   },
   {
    "duration": 12,
    "start_time": "2022-04-07T18:08:00.891Z"
   },
   {
    "duration": 17,
    "start_time": "2022-04-07T18:08:00.905Z"
   },
   {
    "duration": 9,
    "start_time": "2022-04-07T18:08:00.923Z"
   },
   {
    "duration": 15,
    "start_time": "2022-04-07T18:08:00.933Z"
   },
   {
    "duration": 8,
    "start_time": "2022-04-07T18:08:00.949Z"
   },
   {
    "duration": 17,
    "start_time": "2022-04-07T18:08:00.958Z"
   },
   {
    "duration": 13,
    "start_time": "2022-04-07T18:08:00.976Z"
   },
   {
    "duration": 6,
    "start_time": "2022-04-07T18:08:00.990Z"
   },
   {
    "duration": 15,
    "start_time": "2022-04-07T18:08:00.998Z"
   },
   {
    "duration": 13,
    "start_time": "2022-04-07T18:08:01.014Z"
   },
   {
    "duration": 10,
    "start_time": "2022-04-07T18:08:01.029Z"
   },
   {
    "duration": 27,
    "start_time": "2022-04-07T18:08:01.041Z"
   },
   {
    "duration": 18,
    "start_time": "2022-04-07T18:08:01.069Z"
   },
   {
    "duration": 9,
    "start_time": "2022-04-07T18:08:01.089Z"
   },
   {
    "duration": 180,
    "start_time": "2022-04-07T18:08:01.100Z"
   },
   {
    "duration": 5,
    "start_time": "2022-04-07T18:08:01.282Z"
   },
   {
    "duration": 11,
    "start_time": "2022-04-07T18:08:01.289Z"
   },
   {
    "duration": 15,
    "start_time": "2022-04-07T18:08:01.302Z"
   },
   {
    "duration": 15,
    "start_time": "2022-04-07T18:08:01.319Z"
   },
   {
    "duration": 8,
    "start_time": "2022-04-07T18:08:01.336Z"
   },
   {
    "duration": 185,
    "start_time": "2022-04-07T18:08:01.345Z"
   },
   {
    "duration": 6,
    "start_time": "2022-04-07T18:08:01.532Z"
   },
   {
    "duration": 12,
    "start_time": "2022-04-07T18:08:01.539Z"
   },
   {
    "duration": 3,
    "start_time": "2022-04-07T18:08:01.563Z"
   },
   {
    "duration": 21,
    "start_time": "2022-04-07T18:08:01.568Z"
   },
   {
    "duration": 13,
    "start_time": "2022-04-07T18:08:01.590Z"
   },
   {
    "duration": 183,
    "start_time": "2022-04-07T18:08:01.605Z"
   },
   {
    "duration": 7,
    "start_time": "2022-04-07T18:08:01.790Z"
   },
   {
    "duration": 49,
    "start_time": "2022-04-07T18:08:01.798Z"
   },
   {
    "duration": 15,
    "start_time": "2022-04-07T18:08:01.848Z"
   },
   {
    "duration": 10,
    "start_time": "2022-04-07T18:08:01.864Z"
   },
   {
    "duration": 220,
    "start_time": "2022-04-07T18:08:01.875Z"
   },
   {
    "duration": 7,
    "start_time": "2022-04-07T18:08:02.096Z"
   },
   {
    "duration": 65,
    "start_time": "2022-04-07T18:08:02.105Z"
   },
   {
    "duration": 20,
    "start_time": "2022-04-07T18:08:02.171Z"
   },
   {
    "duration": 2,
    "start_time": "2022-04-07T18:22:52.003Z"
   },
   {
    "duration": 398,
    "start_time": "2022-04-07T18:23:00.177Z"
   },
   {
    "duration": 58,
    "start_time": "2022-04-07T18:23:00.577Z"
   },
   {
    "duration": 33,
    "start_time": "2022-04-07T18:23:00.636Z"
   },
   {
    "duration": 13,
    "start_time": "2022-04-07T18:23:00.671Z"
   },
   {
    "duration": 8,
    "start_time": "2022-04-07T18:23:00.686Z"
   },
   {
    "duration": 16,
    "start_time": "2022-04-07T18:23:00.695Z"
   },
   {
    "duration": 13,
    "start_time": "2022-04-07T18:23:00.713Z"
   },
   {
    "duration": 10,
    "start_time": "2022-04-07T18:23:00.727Z"
   },
   {
    "duration": 23,
    "start_time": "2022-04-07T18:23:00.739Z"
   },
   {
    "duration": 9,
    "start_time": "2022-04-07T18:23:00.765Z"
   },
   {
    "duration": 13,
    "start_time": "2022-04-07T18:23:00.775Z"
   },
   {
    "duration": 19,
    "start_time": "2022-04-07T18:23:00.789Z"
   },
   {
    "duration": 12,
    "start_time": "2022-04-07T18:23:00.809Z"
   },
   {
    "duration": 9,
    "start_time": "2022-04-07T18:23:00.822Z"
   },
   {
    "duration": 11,
    "start_time": "2022-04-07T18:23:00.832Z"
   },
   {
    "duration": 14,
    "start_time": "2022-04-07T18:23:00.844Z"
   },
   {
    "duration": 5,
    "start_time": "2022-04-07T18:23:00.859Z"
   },
   {
    "duration": 14,
    "start_time": "2022-04-07T18:23:00.866Z"
   },
   {
    "duration": 21,
    "start_time": "2022-04-07T18:23:00.881Z"
   },
   {
    "duration": 3,
    "start_time": "2022-04-07T18:23:00.904Z"
   },
   {
    "duration": 40,
    "start_time": "2022-04-07T18:23:00.908Z"
   },
   {
    "duration": 30,
    "start_time": "2022-04-07T18:23:00.949Z"
   },
   {
    "duration": 6,
    "start_time": "2022-04-07T18:23:00.981Z"
   },
   {
    "duration": 13,
    "start_time": "2022-04-07T18:23:00.989Z"
   },
   {
    "duration": 7,
    "start_time": "2022-04-07T18:23:01.004Z"
   },
   {
    "duration": 8,
    "start_time": "2022-04-07T18:23:01.013Z"
   },
   {
    "duration": 11,
    "start_time": "2022-04-07T18:23:01.023Z"
   },
   {
    "duration": 49,
    "start_time": "2022-04-07T18:23:01.038Z"
   },
   {
    "duration": 13,
    "start_time": "2022-04-07T18:23:01.089Z"
   },
   {
    "duration": 13,
    "start_time": "2022-04-07T18:23:01.104Z"
   },
   {
    "duration": 7,
    "start_time": "2022-04-07T18:23:01.118Z"
   },
   {
    "duration": 5,
    "start_time": "2022-04-07T18:23:01.127Z"
   },
   {
    "duration": 32,
    "start_time": "2022-04-07T18:23:01.133Z"
   },
   {
    "duration": 11,
    "start_time": "2022-04-07T18:23:01.167Z"
   },
   {
    "duration": 16,
    "start_time": "2022-04-07T18:23:01.179Z"
   },
   {
    "duration": 8,
    "start_time": "2022-04-07T18:23:01.197Z"
   },
   {
    "duration": 13,
    "start_time": "2022-04-07T18:23:01.206Z"
   },
   {
    "duration": 13,
    "start_time": "2022-04-07T18:23:01.220Z"
   },
   {
    "duration": 13,
    "start_time": "2022-04-07T18:23:01.235Z"
   },
   {
    "duration": 16,
    "start_time": "2022-04-07T18:23:01.250Z"
   },
   {
    "duration": 6,
    "start_time": "2022-04-07T18:23:01.268Z"
   },
   {
    "duration": 9,
    "start_time": "2022-04-07T18:23:01.276Z"
   },
   {
    "duration": 204,
    "start_time": "2022-04-07T18:23:01.287Z"
   },
   {
    "duration": 6,
    "start_time": "2022-04-07T18:23:01.493Z"
   },
   {
    "duration": 23,
    "start_time": "2022-04-07T18:23:01.500Z"
   },
   {
    "duration": 32,
    "start_time": "2022-04-07T18:23:01.525Z"
   },
   {
    "duration": 9,
    "start_time": "2022-04-07T18:23:01.559Z"
   },
   {
    "duration": 5,
    "start_time": "2022-04-07T18:23:01.569Z"
   },
   {
    "duration": 186,
    "start_time": "2022-04-07T18:23:01.576Z"
   },
   {
    "duration": 5,
    "start_time": "2022-04-07T18:23:01.764Z"
   },
   {
    "duration": 18,
    "start_time": "2022-04-07T18:23:01.771Z"
   },
   {
    "duration": 12,
    "start_time": "2022-04-07T18:23:01.791Z"
   },
   {
    "duration": 15,
    "start_time": "2022-04-07T18:23:01.804Z"
   },
   {
    "duration": 17,
    "start_time": "2022-04-07T18:23:01.820Z"
   },
   {
    "duration": 189,
    "start_time": "2022-04-07T18:23:01.839Z"
   },
   {
    "duration": 8,
    "start_time": "2022-04-07T18:23:02.029Z"
   },
   {
    "duration": 22,
    "start_time": "2022-04-07T18:23:02.039Z"
   },
   {
    "duration": 25,
    "start_time": "2022-04-07T18:23:02.063Z"
   },
   {
    "duration": 6,
    "start_time": "2022-04-07T18:23:02.090Z"
   },
   {
    "duration": 187,
    "start_time": "2022-04-07T18:23:02.097Z"
   },
   {
    "duration": 7,
    "start_time": "2022-04-07T18:23:02.286Z"
   },
   {
    "duration": 5,
    "start_time": "2022-04-07T18:23:02.295Z"
   },
   {
    "duration": 10,
    "start_time": "2022-04-07T18:23:02.302Z"
   },
   {
    "duration": 404,
    "start_time": "2022-04-07T18:23:36.375Z"
   },
   {
    "duration": 61,
    "start_time": "2022-04-07T18:23:36.781Z"
   },
   {
    "duration": 29,
    "start_time": "2022-04-07T18:23:36.843Z"
   },
   {
    "duration": 14,
    "start_time": "2022-04-07T18:23:36.875Z"
   },
   {
    "duration": 10,
    "start_time": "2022-04-07T18:23:36.891Z"
   },
   {
    "duration": 3,
    "start_time": "2022-04-07T18:23:36.903Z"
   },
   {
    "duration": 9,
    "start_time": "2022-04-07T18:23:36.908Z"
   },
   {
    "duration": 6,
    "start_time": "2022-04-07T18:23:36.919Z"
   },
   {
    "duration": 37,
    "start_time": "2022-04-07T18:23:36.926Z"
   },
   {
    "duration": 4,
    "start_time": "2022-04-07T18:23:36.966Z"
   },
   {
    "duration": 12,
    "start_time": "2022-04-07T18:23:36.972Z"
   },
   {
    "duration": 13,
    "start_time": "2022-04-07T18:23:36.986Z"
   },
   {
    "duration": 7,
    "start_time": "2022-04-07T18:23:37.001Z"
   },
   {
    "duration": 7,
    "start_time": "2022-04-07T18:23:37.009Z"
   },
   {
    "duration": 5,
    "start_time": "2022-04-07T18:23:37.018Z"
   },
   {
    "duration": 10,
    "start_time": "2022-04-07T18:23:37.025Z"
   },
   {
    "duration": 28,
    "start_time": "2022-04-07T18:23:37.036Z"
   },
   {
    "duration": 26,
    "start_time": "2022-04-07T18:23:37.066Z"
   },
   {
    "duration": 4,
    "start_time": "2022-04-07T18:23:37.093Z"
   },
   {
    "duration": 21,
    "start_time": "2022-04-07T18:23:37.099Z"
   },
   {
    "duration": 49,
    "start_time": "2022-04-07T18:23:37.121Z"
   },
   {
    "duration": 7,
    "start_time": "2022-04-07T18:23:37.171Z"
   },
   {
    "duration": 14,
    "start_time": "2022-04-07T18:23:37.179Z"
   },
   {
    "duration": 7,
    "start_time": "2022-04-07T18:23:37.194Z"
   },
   {
    "duration": 4,
    "start_time": "2022-04-07T18:23:37.202Z"
   },
   {
    "duration": 8,
    "start_time": "2022-04-07T18:23:37.207Z"
   },
   {
    "duration": 46,
    "start_time": "2022-04-07T18:23:37.217Z"
   },
   {
    "duration": 12,
    "start_time": "2022-04-07T18:23:37.267Z"
   },
   {
    "duration": 12,
    "start_time": "2022-04-07T18:23:37.281Z"
   },
   {
    "duration": 6,
    "start_time": "2022-04-07T18:23:37.295Z"
   },
   {
    "duration": 5,
    "start_time": "2022-04-07T18:23:37.302Z"
   },
   {
    "duration": 8,
    "start_time": "2022-04-07T18:23:37.308Z"
   },
   {
    "duration": 7,
    "start_time": "2022-04-07T18:23:37.317Z"
   },
   {
    "duration": 6,
    "start_time": "2022-04-07T18:23:37.326Z"
   },
   {
    "duration": 30,
    "start_time": "2022-04-07T18:23:37.334Z"
   },
   {
    "duration": 16,
    "start_time": "2022-04-07T18:23:37.365Z"
   },
   {
    "duration": 8,
    "start_time": "2022-04-07T18:23:37.383Z"
   },
   {
    "duration": 5,
    "start_time": "2022-04-07T18:23:37.393Z"
   },
   {
    "duration": 11,
    "start_time": "2022-04-07T18:23:37.399Z"
   },
   {
    "duration": 6,
    "start_time": "2022-04-07T18:23:37.412Z"
   },
   {
    "duration": 5,
    "start_time": "2022-04-07T18:23:37.419Z"
   },
   {
    "duration": 198,
    "start_time": "2022-04-07T18:23:37.425Z"
   },
   {
    "duration": 5,
    "start_time": "2022-04-07T18:23:37.625Z"
   },
   {
    "duration": 12,
    "start_time": "2022-04-07T18:23:37.632Z"
   },
   {
    "duration": 13,
    "start_time": "2022-04-07T18:23:37.645Z"
   },
   {
    "duration": 14,
    "start_time": "2022-04-07T18:23:37.660Z"
   },
   {
    "duration": 9,
    "start_time": "2022-04-07T18:23:37.675Z"
   },
   {
    "duration": 179,
    "start_time": "2022-04-07T18:23:37.685Z"
   },
   {
    "duration": 5,
    "start_time": "2022-04-07T18:23:37.866Z"
   },
   {
    "duration": 8,
    "start_time": "2022-04-07T18:23:37.872Z"
   },
   {
    "duration": 4,
    "start_time": "2022-04-07T18:23:37.882Z"
   },
   {
    "duration": 9,
    "start_time": "2022-04-07T18:23:37.887Z"
   },
   {
    "duration": 5,
    "start_time": "2022-04-07T18:23:37.897Z"
   },
   {
    "duration": 196,
    "start_time": "2022-04-07T18:23:37.903Z"
   },
   {
    "duration": 7,
    "start_time": "2022-04-07T18:23:38.101Z"
   },
   {
    "duration": 5,
    "start_time": "2022-04-07T18:23:38.109Z"
   },
   {
    "duration": 66,
    "start_time": "2022-04-07T18:23:38.116Z"
   },
   {
    "duration": 7,
    "start_time": "2022-04-07T18:23:38.184Z"
   },
   {
    "duration": 183,
    "start_time": "2022-04-07T18:23:38.193Z"
   },
   {
    "duration": 7,
    "start_time": "2022-04-07T18:23:38.377Z"
   },
   {
    "duration": 4,
    "start_time": "2022-04-07T18:23:38.386Z"
   },
   {
    "duration": 12,
    "start_time": "2022-04-07T18:23:38.392Z"
   },
   {
    "duration": 4,
    "start_time": "2022-04-07T18:26:08.201Z"
   },
   {
    "duration": 7,
    "start_time": "2022-04-07T18:27:29.245Z"
   },
   {
    "duration": 16,
    "start_time": "2022-04-07T18:33:10.000Z"
   },
   {
    "duration": 434,
    "start_time": "2022-04-07T18:36:58.324Z"
   },
   {
    "duration": 56,
    "start_time": "2022-04-07T18:36:58.763Z"
   },
   {
    "duration": 23,
    "start_time": "2022-04-07T18:36:58.821Z"
   },
   {
    "duration": 23,
    "start_time": "2022-04-07T18:36:58.846Z"
   },
   {
    "duration": 10,
    "start_time": "2022-04-07T18:36:58.870Z"
   },
   {
    "duration": 4,
    "start_time": "2022-04-07T18:36:58.881Z"
   },
   {
    "duration": 10,
    "start_time": "2022-04-07T18:36:58.887Z"
   },
   {
    "duration": 8,
    "start_time": "2022-04-07T18:36:58.898Z"
   },
   {
    "duration": 8,
    "start_time": "2022-04-07T18:36:58.907Z"
   },
   {
    "duration": 4,
    "start_time": "2022-04-07T18:36:58.917Z"
   },
   {
    "duration": 5,
    "start_time": "2022-04-07T18:36:58.923Z"
   },
   {
    "duration": 13,
    "start_time": "2022-04-07T18:36:58.929Z"
   },
   {
    "duration": 5,
    "start_time": "2022-04-07T18:36:58.962Z"
   },
   {
    "duration": 7,
    "start_time": "2022-04-07T18:36:58.968Z"
   },
   {
    "duration": 6,
    "start_time": "2022-04-07T18:36:58.976Z"
   },
   {
    "duration": 7,
    "start_time": "2022-04-07T18:36:58.984Z"
   },
   {
    "duration": 5,
    "start_time": "2022-04-07T18:36:58.993Z"
   },
   {
    "duration": 8,
    "start_time": "2022-04-07T18:36:58.999Z"
   },
   {
    "duration": 9,
    "start_time": "2022-04-07T18:36:59.008Z"
   },
   {
    "duration": 49,
    "start_time": "2022-04-07T18:36:59.018Z"
   },
   {
    "duration": 4,
    "start_time": "2022-04-07T18:36:59.069Z"
   },
   {
    "duration": 20,
    "start_time": "2022-04-07T18:36:59.074Z"
   },
   {
    "duration": 33,
    "start_time": "2022-04-07T18:36:59.096Z"
   },
   {
    "duration": 7,
    "start_time": "2022-04-07T18:36:59.131Z"
   },
   {
    "duration": 12,
    "start_time": "2022-04-07T18:36:59.163Z"
   },
   {
    "duration": 11,
    "start_time": "2022-04-07T18:36:59.176Z"
   },
   {
    "duration": 4,
    "start_time": "2022-04-07T18:36:59.189Z"
   },
   {
    "duration": 5,
    "start_time": "2022-04-07T18:36:59.197Z"
   },
   {
    "duration": 20,
    "start_time": "2022-04-07T18:36:59.203Z"
   },
   {
    "duration": 11,
    "start_time": "2022-04-07T18:36:59.225Z"
   },
   {
    "duration": 37,
    "start_time": "2022-04-07T18:36:59.237Z"
   },
   {
    "duration": 12,
    "start_time": "2022-04-07T18:36:59.275Z"
   },
   {
    "duration": 9,
    "start_time": "2022-04-07T18:36:59.289Z"
   },
   {
    "duration": 7,
    "start_time": "2022-04-07T18:36:59.299Z"
   },
   {
    "duration": 8,
    "start_time": "2022-04-07T18:36:59.307Z"
   },
   {
    "duration": 5,
    "start_time": "2022-04-07T18:36:59.316Z"
   },
   {
    "duration": 4,
    "start_time": "2022-04-07T18:36:59.323Z"
   },
   {
    "duration": 11,
    "start_time": "2022-04-07T18:36:59.328Z"
   },
   {
    "duration": 27,
    "start_time": "2022-04-07T18:36:59.341Z"
   },
   {
    "duration": 4,
    "start_time": "2022-04-07T18:36:59.370Z"
   },
   {
    "duration": 11,
    "start_time": "2022-04-07T18:36:59.376Z"
   },
   {
    "duration": 7,
    "start_time": "2022-04-07T18:36:59.388Z"
   },
   {
    "duration": 5,
    "start_time": "2022-04-07T18:36:59.396Z"
   },
   {
    "duration": 190,
    "start_time": "2022-04-07T18:36:59.403Z"
   },
   {
    "duration": 6,
    "start_time": "2022-04-07T18:36:59.595Z"
   },
   {
    "duration": 8,
    "start_time": "2022-04-07T18:36:59.602Z"
   },
   {
    "duration": 7,
    "start_time": "2022-04-07T18:36:59.611Z"
   },
   {
    "duration": 9,
    "start_time": "2022-04-07T18:36:59.619Z"
   },
   {
    "duration": 5,
    "start_time": "2022-04-07T18:36:59.629Z"
   },
   {
    "duration": 189,
    "start_time": "2022-04-07T18:36:59.635Z"
   },
   {
    "duration": 5,
    "start_time": "2022-04-07T18:36:59.826Z"
   },
   {
    "duration": 8,
    "start_time": "2022-04-07T18:36:59.833Z"
   },
   {
    "duration": 4,
    "start_time": "2022-04-07T18:36:59.843Z"
   },
   {
    "duration": 7,
    "start_time": "2022-04-07T18:36:59.863Z"
   },
   {
    "duration": 5,
    "start_time": "2022-04-07T18:36:59.871Z"
   },
   {
    "duration": 193,
    "start_time": "2022-04-07T18:36:59.877Z"
   },
   {
    "duration": 7,
    "start_time": "2022-04-07T18:37:00.072Z"
   },
   {
    "duration": 8,
    "start_time": "2022-04-07T18:37:00.080Z"
   },
   {
    "duration": 21,
    "start_time": "2022-04-07T18:37:00.089Z"
   },
   {
    "duration": 12,
    "start_time": "2022-04-07T18:37:00.111Z"
   },
   {
    "duration": 179,
    "start_time": "2022-04-07T18:37:00.124Z"
   },
   {
    "duration": 6,
    "start_time": "2022-04-07T18:37:00.305Z"
   },
   {
    "duration": 7,
    "start_time": "2022-04-07T18:37:00.312Z"
   },
   {
    "duration": 11,
    "start_time": "2022-04-07T18:37:00.320Z"
   },
   {
    "duration": 429,
    "start_time": "2022-04-07T18:39:23.127Z"
   },
   {
    "duration": 59,
    "start_time": "2022-04-07T18:39:23.557Z"
   },
   {
    "duration": 24,
    "start_time": "2022-04-07T18:39:23.618Z"
   },
   {
    "duration": 20,
    "start_time": "2022-04-07T18:39:23.643Z"
   },
   {
    "duration": 11,
    "start_time": "2022-04-07T18:39:23.664Z"
   },
   {
    "duration": 4,
    "start_time": "2022-04-07T18:39:23.677Z"
   },
   {
    "duration": 10,
    "start_time": "2022-04-07T18:39:23.682Z"
   },
   {
    "duration": 4,
    "start_time": "2022-04-07T18:39:23.693Z"
   },
   {
    "duration": 7,
    "start_time": "2022-04-07T18:39:23.698Z"
   },
   {
    "duration": 4,
    "start_time": "2022-04-07T18:39:23.708Z"
   },
   {
    "duration": 6,
    "start_time": "2022-04-07T18:39:23.714Z"
   },
   {
    "duration": 15,
    "start_time": "2022-04-07T18:39:23.721Z"
   },
   {
    "duration": 5,
    "start_time": "2022-04-07T18:39:23.763Z"
   },
   {
    "duration": 7,
    "start_time": "2022-04-07T18:39:23.770Z"
   },
   {
    "duration": 4,
    "start_time": "2022-04-07T18:39:23.779Z"
   },
   {
    "duration": 12,
    "start_time": "2022-04-07T18:39:23.785Z"
   },
   {
    "duration": 7,
    "start_time": "2022-04-07T18:39:23.798Z"
   },
   {
    "duration": 6,
    "start_time": "2022-04-07T18:39:23.807Z"
   },
   {
    "duration": 9,
    "start_time": "2022-04-07T18:39:23.814Z"
   },
   {
    "duration": 6,
    "start_time": "2022-04-07T18:39:23.825Z"
   },
   {
    "duration": 50,
    "start_time": "2022-04-07T18:39:23.832Z"
   },
   {
    "duration": 3,
    "start_time": "2022-04-07T18:39:23.884Z"
   },
   {
    "duration": 22,
    "start_time": "2022-04-07T18:39:23.888Z"
   },
   {
    "duration": 53,
    "start_time": "2022-04-07T18:39:23.912Z"
   },
   {
    "duration": 9,
    "start_time": "2022-04-07T18:39:23.967Z"
   },
   {
    "duration": 14,
    "start_time": "2022-04-07T18:39:23.977Z"
   },
   {
    "duration": 9,
    "start_time": "2022-04-07T18:39:23.992Z"
   },
   {
    "duration": 7,
    "start_time": "2022-04-07T18:39:24.004Z"
   },
   {
    "duration": 18,
    "start_time": "2022-04-07T18:39:24.013Z"
   },
   {
    "duration": 20,
    "start_time": "2022-04-07T18:39:24.033Z"
   },
   {
    "duration": 13,
    "start_time": "2022-04-07T18:39:24.063Z"
   },
   {
    "duration": 14,
    "start_time": "2022-04-07T18:39:24.077Z"
   },
   {
    "duration": 11,
    "start_time": "2022-04-07T18:39:24.093Z"
   },
   {
    "duration": 4,
    "start_time": "2022-04-07T18:39:24.105Z"
   },
   {
    "duration": 5,
    "start_time": "2022-04-07T18:39:24.111Z"
   },
   {
    "duration": 8,
    "start_time": "2022-04-07T18:39:24.118Z"
   },
   {
    "duration": 10,
    "start_time": "2022-04-07T18:39:24.128Z"
   },
   {
    "duration": 5,
    "start_time": "2022-04-07T18:39:24.162Z"
   },
   {
    "duration": 24,
    "start_time": "2022-04-07T18:39:24.168Z"
   },
   {
    "duration": 7,
    "start_time": "2022-04-07T18:39:24.193Z"
   },
   {
    "duration": 14,
    "start_time": "2022-04-07T18:39:24.202Z"
   },
   {
    "duration": 8,
    "start_time": "2022-04-07T18:39:24.220Z"
   },
   {
    "duration": 10,
    "start_time": "2022-04-07T18:39:24.229Z"
   },
   {
    "duration": 10,
    "start_time": "2022-04-07T18:39:24.241Z"
   },
   {
    "duration": 192,
    "start_time": "2022-04-07T18:39:24.253Z"
   },
   {
    "duration": 6,
    "start_time": "2022-04-07T18:39:24.447Z"
   },
   {
    "duration": 8,
    "start_time": "2022-04-07T18:39:24.463Z"
   },
   {
    "duration": 4,
    "start_time": "2022-04-07T18:39:24.473Z"
   },
   {
    "duration": 9,
    "start_time": "2022-04-07T18:39:24.479Z"
   },
   {
    "duration": 5,
    "start_time": "2022-04-07T18:39:24.490Z"
   },
   {
    "duration": 203,
    "start_time": "2022-04-07T18:39:24.497Z"
   },
   {
    "duration": 5,
    "start_time": "2022-04-07T18:39:24.702Z"
   },
   {
    "duration": 50,
    "start_time": "2022-04-07T18:39:24.709Z"
   },
   {
    "duration": 6,
    "start_time": "2022-04-07T18:39:24.763Z"
   },
   {
    "duration": 37,
    "start_time": "2022-04-07T18:39:24.771Z"
   },
   {
    "duration": 5,
    "start_time": "2022-04-07T18:39:24.810Z"
   },
   {
    "duration": 179,
    "start_time": "2022-04-07T18:39:24.817Z"
   },
   {
    "duration": 7,
    "start_time": "2022-04-07T18:39:24.998Z"
   },
   {
    "duration": 5,
    "start_time": "2022-04-07T18:39:25.007Z"
   },
   {
    "duration": 13,
    "start_time": "2022-04-07T18:39:25.014Z"
   },
   {
    "duration": 6,
    "start_time": "2022-04-07T18:39:25.028Z"
   },
   {
    "duration": 221,
    "start_time": "2022-04-07T18:39:25.035Z"
   },
   {
    "duration": 7,
    "start_time": "2022-04-07T18:39:25.258Z"
   },
   {
    "duration": 7,
    "start_time": "2022-04-07T18:39:25.266Z"
   },
   {
    "duration": 12,
    "start_time": "2022-04-07T18:39:25.275Z"
   },
   {
    "duration": 508,
    "start_time": "2022-04-09T18:29:25.177Z"
   },
   {
    "duration": 77,
    "start_time": "2022-04-09T18:29:25.688Z"
   },
   {
    "duration": 42,
    "start_time": "2022-04-09T18:29:25.768Z"
   },
   {
    "duration": 42,
    "start_time": "2022-04-09T18:29:25.814Z"
   },
   {
    "duration": 14,
    "start_time": "2022-04-09T18:29:25.859Z"
   },
   {
    "duration": 6,
    "start_time": "2022-04-09T18:29:25.875Z"
   },
   {
    "duration": 19,
    "start_time": "2022-04-09T18:29:25.883Z"
   },
   {
    "duration": 38,
    "start_time": "2022-04-09T18:29:25.905Z"
   },
   {
    "duration": 5,
    "start_time": "2022-04-09T18:29:25.946Z"
   },
   {
    "duration": 5,
    "start_time": "2022-04-09T18:29:25.955Z"
   },
   {
    "duration": 7,
    "start_time": "2022-04-09T18:29:25.962Z"
   },
   {
    "duration": 14,
    "start_time": "2022-04-09T18:29:25.971Z"
   },
   {
    "duration": 59,
    "start_time": "2022-04-09T18:29:25.988Z"
   },
   {
    "duration": 10,
    "start_time": "2022-04-09T18:29:26.049Z"
   },
   {
    "duration": 5,
    "start_time": "2022-04-09T18:29:26.062Z"
   },
   {
    "duration": 13,
    "start_time": "2022-04-09T18:29:26.069Z"
   },
   {
    "duration": 7,
    "start_time": "2022-04-09T18:29:26.085Z"
   },
   {
    "duration": 56,
    "start_time": "2022-04-09T18:29:26.094Z"
   },
   {
    "duration": 15,
    "start_time": "2022-04-09T18:29:26.152Z"
   },
   {
    "duration": 9,
    "start_time": "2022-04-09T18:29:26.169Z"
   },
   {
    "duration": 70,
    "start_time": "2022-04-09T18:29:26.180Z"
   },
   {
    "duration": 5,
    "start_time": "2022-04-09T18:29:26.251Z"
   },
   {
    "duration": 29,
    "start_time": "2022-04-09T18:29:26.258Z"
   },
   {
    "duration": 75,
    "start_time": "2022-04-09T18:29:26.289Z"
   },
   {
    "duration": 5,
    "start_time": "2022-04-09T18:29:26.366Z"
   },
   {
    "duration": 6,
    "start_time": "2022-04-09T18:29:26.374Z"
   },
   {
    "duration": 9,
    "start_time": "2022-04-09T18:29:26.382Z"
   },
   {
    "duration": 8,
    "start_time": "2022-04-09T18:29:26.397Z"
   },
   {
    "duration": 38,
    "start_time": "2022-04-09T18:29:26.407Z"
   },
   {
    "duration": 18,
    "start_time": "2022-04-09T18:29:26.447Z"
   },
   {
    "duration": 11,
    "start_time": "2022-04-09T18:29:26.467Z"
   },
   {
    "duration": 116,
    "start_time": "2022-04-09T18:29:26.480Z"
   },
   {
    "duration": 0,
    "start_time": "2022-04-09T18:29:26.598Z"
   },
   {
    "duration": 0,
    "start_time": "2022-04-09T18:29:26.600Z"
   },
   {
    "duration": 0,
    "start_time": "2022-04-09T18:29:26.602Z"
   },
   {
    "duration": 0,
    "start_time": "2022-04-09T18:29:26.603Z"
   },
   {
    "duration": 0,
    "start_time": "2022-04-09T18:29:26.605Z"
   },
   {
    "duration": 0,
    "start_time": "2022-04-09T18:29:26.606Z"
   },
   {
    "duration": 0,
    "start_time": "2022-04-09T18:29:26.608Z"
   },
   {
    "duration": 0,
    "start_time": "2022-04-09T18:29:26.609Z"
   },
   {
    "duration": 0,
    "start_time": "2022-04-09T18:29:26.610Z"
   },
   {
    "duration": 0,
    "start_time": "2022-04-09T18:29:26.612Z"
   },
   {
    "duration": 0,
    "start_time": "2022-04-09T18:29:26.613Z"
   },
   {
    "duration": 0,
    "start_time": "2022-04-09T18:29:26.644Z"
   },
   {
    "duration": 0,
    "start_time": "2022-04-09T18:29:26.646Z"
   },
   {
    "duration": 0,
    "start_time": "2022-04-09T18:29:26.647Z"
   },
   {
    "duration": 0,
    "start_time": "2022-04-09T18:29:26.649Z"
   },
   {
    "duration": 0,
    "start_time": "2022-04-09T18:29:26.651Z"
   },
   {
    "duration": 0,
    "start_time": "2022-04-09T18:29:26.653Z"
   },
   {
    "duration": 0,
    "start_time": "2022-04-09T18:29:26.654Z"
   },
   {
    "duration": 0,
    "start_time": "2022-04-09T18:29:26.656Z"
   },
   {
    "duration": 0,
    "start_time": "2022-04-09T18:29:26.657Z"
   },
   {
    "duration": 0,
    "start_time": "2022-04-09T18:29:26.659Z"
   },
   {
    "duration": 0,
    "start_time": "2022-04-09T18:29:26.661Z"
   },
   {
    "duration": 0,
    "start_time": "2022-04-09T18:29:26.662Z"
   },
   {
    "duration": 0,
    "start_time": "2022-04-09T18:29:26.664Z"
   },
   {
    "duration": 0,
    "start_time": "2022-04-09T18:29:26.666Z"
   },
   {
    "duration": 10,
    "start_time": "2022-04-09T18:29:54.337Z"
   },
   {
    "duration": 481,
    "start_time": "2022-04-09T18:29:59.067Z"
   },
   {
    "duration": 76,
    "start_time": "2022-04-09T18:29:59.551Z"
   },
   {
    "duration": 44,
    "start_time": "2022-04-09T18:29:59.629Z"
   },
   {
    "duration": 20,
    "start_time": "2022-04-09T18:29:59.675Z"
   },
   {
    "duration": 12,
    "start_time": "2022-04-09T18:29:59.699Z"
   },
   {
    "duration": 5,
    "start_time": "2022-04-09T18:29:59.743Z"
   },
   {
    "duration": 13,
    "start_time": "2022-04-09T18:29:59.750Z"
   },
   {
    "duration": 5,
    "start_time": "2022-04-09T18:29:59.765Z"
   },
   {
    "duration": 7,
    "start_time": "2022-04-09T18:29:59.772Z"
   },
   {
    "duration": 8,
    "start_time": "2022-04-09T18:29:59.781Z"
   },
   {
    "duration": 53,
    "start_time": "2022-04-09T18:29:59.791Z"
   },
   {
    "duration": 16,
    "start_time": "2022-04-09T18:29:59.846Z"
   },
   {
    "duration": 8,
    "start_time": "2022-04-09T18:29:59.864Z"
   },
   {
    "duration": 8,
    "start_time": "2022-04-09T18:29:59.877Z"
   },
   {
    "duration": 8,
    "start_time": "2022-04-09T18:29:59.887Z"
   },
   {
    "duration": 54,
    "start_time": "2022-04-09T18:29:59.897Z"
   },
   {
    "duration": 8,
    "start_time": "2022-04-09T18:29:59.953Z"
   },
   {
    "duration": 10,
    "start_time": "2022-04-09T18:29:59.963Z"
   },
   {
    "duration": 10,
    "start_time": "2022-04-09T18:29:59.975Z"
   },
   {
    "duration": 10,
    "start_time": "2022-04-09T18:29:59.987Z"
   },
   {
    "duration": 35,
    "start_time": "2022-04-09T18:30:00.042Z"
   },
   {
    "duration": 6,
    "start_time": "2022-04-09T18:30:00.079Z"
   },
   {
    "duration": 57,
    "start_time": "2022-04-09T18:30:00.087Z"
   },
   {
    "duration": 53,
    "start_time": "2022-04-09T18:30:00.146Z"
   },
   {
    "duration": 5,
    "start_time": "2022-04-09T18:30:00.201Z"
   },
   {
    "duration": 11,
    "start_time": "2022-04-09T18:30:00.208Z"
   },
   {
    "duration": 9,
    "start_time": "2022-04-09T18:30:00.242Z"
   },
   {
    "duration": 9,
    "start_time": "2022-04-09T18:30:00.253Z"
   },
   {
    "duration": 7,
    "start_time": "2022-04-09T18:30:00.264Z"
   },
   {
    "duration": 15,
    "start_time": "2022-04-09T18:30:00.273Z"
   },
   {
    "duration": 54,
    "start_time": "2022-04-09T18:30:00.291Z"
   },
   {
    "duration": 12,
    "start_time": "2022-04-09T18:30:00.347Z"
   },
   {
    "duration": 8,
    "start_time": "2022-04-09T18:30:00.361Z"
   },
   {
    "duration": 227,
    "start_time": "2022-04-09T18:30:00.371Z"
   },
   {
    "duration": 10,
    "start_time": "2022-04-09T18:30:00.600Z"
   },
   {
    "duration": 20,
    "start_time": "2022-04-09T18:30:00.612Z"
   },
   {
    "duration": 317,
    "start_time": "2022-04-09T18:30:00.643Z"
   },
   {
    "duration": 8,
    "start_time": "2022-04-09T18:30:00.963Z"
   },
   {
    "duration": 16,
    "start_time": "2022-04-09T18:30:00.973Z"
   },
   {
    "duration": 10,
    "start_time": "2022-04-09T18:30:00.991Z"
   },
   {
    "duration": 44,
    "start_time": "2022-04-09T18:30:01.006Z"
   },
   {
    "duration": 15,
    "start_time": "2022-04-09T18:30:01.052Z"
   },
   {
    "duration": 347,
    "start_time": "2022-04-09T18:30:01.069Z"
   },
   {
    "duration": 10,
    "start_time": "2022-04-09T18:30:01.418Z"
   },
   {
    "duration": 52,
    "start_time": "2022-04-09T18:30:01.430Z"
   },
   {
    "duration": 18,
    "start_time": "2022-04-09T18:30:01.484Z"
   },
   {
    "duration": 17,
    "start_time": "2022-04-09T18:30:01.504Z"
   },
   {
    "duration": 8,
    "start_time": "2022-04-09T18:30:01.524Z"
   },
   {
    "duration": 433,
    "start_time": "2022-04-09T18:30:01.534Z"
   },
   {
    "duration": 9,
    "start_time": "2022-04-09T18:30:01.969Z"
   },
   {
    "duration": 11,
    "start_time": "2022-04-09T18:30:01.980Z"
   },
   {
    "duration": 15,
    "start_time": "2022-04-09T18:30:01.993Z"
   },
   {
    "duration": 11,
    "start_time": "2022-04-09T18:30:02.010Z"
   },
   {
    "duration": 343,
    "start_time": "2022-04-09T18:30:02.023Z"
   },
   {
    "duration": 8,
    "start_time": "2022-04-09T18:30:02.368Z"
   },
   {
    "duration": 10,
    "start_time": "2022-04-09T18:30:02.378Z"
   },
   {
    "duration": 16,
    "start_time": "2022-04-09T18:30:02.390Z"
   },
   {
    "duration": 494,
    "start_time": "2022-04-09T18:31:41.261Z"
   },
   {
    "duration": 78,
    "start_time": "2022-04-09T18:31:41.758Z"
   },
   {
    "duration": 47,
    "start_time": "2022-04-09T18:31:41.838Z"
   },
   {
    "duration": 22,
    "start_time": "2022-04-09T18:31:41.888Z"
   },
   {
    "duration": 38,
    "start_time": "2022-04-09T18:31:41.912Z"
   },
   {
    "duration": 6,
    "start_time": "2022-04-09T18:31:41.952Z"
   },
   {
    "duration": 16,
    "start_time": "2022-04-09T18:31:41.960Z"
   },
   {
    "duration": 6,
    "start_time": "2022-04-09T18:31:41.978Z"
   },
   {
    "duration": 6,
    "start_time": "2022-04-09T18:31:41.986Z"
   },
   {
    "duration": 6,
    "start_time": "2022-04-09T18:31:41.995Z"
   },
   {
    "duration": 43,
    "start_time": "2022-04-09T18:31:42.003Z"
   },
   {
    "duration": 17,
    "start_time": "2022-04-09T18:31:42.049Z"
   },
   {
    "duration": 8,
    "start_time": "2022-04-09T18:31:42.068Z"
   },
   {
    "duration": 9,
    "start_time": "2022-04-09T18:31:42.079Z"
   },
   {
    "duration": 6,
    "start_time": "2022-04-09T18:31:42.090Z"
   },
   {
    "duration": 50,
    "start_time": "2022-04-09T18:31:42.098Z"
   },
   {
    "duration": 7,
    "start_time": "2022-04-09T18:31:42.151Z"
   },
   {
    "duration": 9,
    "start_time": "2022-04-09T18:31:42.161Z"
   },
   {
    "duration": 10,
    "start_time": "2022-04-09T18:31:42.173Z"
   },
   {
    "duration": 10,
    "start_time": "2022-04-09T18:31:42.185Z"
   },
   {
    "duration": 73,
    "start_time": "2022-04-09T18:31:42.197Z"
   },
   {
    "duration": 5,
    "start_time": "2022-04-09T18:31:42.272Z"
   },
   {
    "duration": 30,
    "start_time": "2022-04-09T18:31:42.279Z"
   },
   {
    "duration": 76,
    "start_time": "2022-04-09T18:31:42.311Z"
   },
   {
    "duration": 6,
    "start_time": "2022-04-09T18:31:42.389Z"
   },
   {
    "duration": 6,
    "start_time": "2022-04-09T18:31:42.397Z"
   },
   {
    "duration": 10,
    "start_time": "2022-04-09T18:31:42.405Z"
   },
   {
    "duration": 9,
    "start_time": "2022-04-09T18:31:42.446Z"
   },
   {
    "duration": 7,
    "start_time": "2022-04-09T18:31:42.457Z"
   },
   {
    "duration": 18,
    "start_time": "2022-04-09T18:31:42.466Z"
   },
   {
    "duration": 14,
    "start_time": "2022-04-09T18:31:42.486Z"
   },
   {
    "duration": 47,
    "start_time": "2022-04-09T18:31:42.502Z"
   },
   {
    "duration": 224,
    "start_time": "2022-04-09T18:31:42.551Z"
   },
   {
    "duration": 0,
    "start_time": "2022-04-09T18:31:42.777Z"
   },
   {
    "duration": 0,
    "start_time": "2022-04-09T18:31:42.779Z"
   },
   {
    "duration": 0,
    "start_time": "2022-04-09T18:31:42.780Z"
   },
   {
    "duration": 0,
    "start_time": "2022-04-09T18:31:42.782Z"
   },
   {
    "duration": 0,
    "start_time": "2022-04-09T18:31:42.783Z"
   },
   {
    "duration": 0,
    "start_time": "2022-04-09T18:31:42.785Z"
   },
   {
    "duration": 0,
    "start_time": "2022-04-09T18:31:42.786Z"
   },
   {
    "duration": 0,
    "start_time": "2022-04-09T18:31:42.787Z"
   },
   {
    "duration": 0,
    "start_time": "2022-04-09T18:31:42.789Z"
   },
   {
    "duration": 0,
    "start_time": "2022-04-09T18:31:42.791Z"
   },
   {
    "duration": 0,
    "start_time": "2022-04-09T18:31:42.792Z"
   },
   {
    "duration": 0,
    "start_time": "2022-04-09T18:31:42.794Z"
   },
   {
    "duration": 0,
    "start_time": "2022-04-09T18:31:42.795Z"
   },
   {
    "duration": 0,
    "start_time": "2022-04-09T18:31:42.798Z"
   },
   {
    "duration": 0,
    "start_time": "2022-04-09T18:31:42.800Z"
   },
   {
    "duration": 0,
    "start_time": "2022-04-09T18:31:42.802Z"
   },
   {
    "duration": 0,
    "start_time": "2022-04-09T18:31:42.803Z"
   },
   {
    "duration": 0,
    "start_time": "2022-04-09T18:31:42.805Z"
   },
   {
    "duration": 0,
    "start_time": "2022-04-09T18:31:42.807Z"
   },
   {
    "duration": 0,
    "start_time": "2022-04-09T18:31:42.809Z"
   },
   {
    "duration": 0,
    "start_time": "2022-04-09T18:31:42.812Z"
   },
   {
    "duration": 0,
    "start_time": "2022-04-09T18:31:42.813Z"
   },
   {
    "duration": 0,
    "start_time": "2022-04-09T18:31:42.815Z"
   },
   {
    "duration": 0,
    "start_time": "2022-04-09T18:31:42.816Z"
   },
   {
    "duration": 488,
    "start_time": "2022-04-09T18:31:53.259Z"
   },
   {
    "duration": 79,
    "start_time": "2022-04-09T18:31:53.750Z"
   },
   {
    "duration": 51,
    "start_time": "2022-04-09T18:31:53.831Z"
   },
   {
    "duration": 20,
    "start_time": "2022-04-09T18:31:53.885Z"
   },
   {
    "duration": 41,
    "start_time": "2022-04-09T18:31:53.907Z"
   },
   {
    "duration": 8,
    "start_time": "2022-04-09T18:31:53.951Z"
   },
   {
    "duration": 21,
    "start_time": "2022-04-09T18:31:53.961Z"
   },
   {
    "duration": 26,
    "start_time": "2022-04-09T18:31:53.984Z"
   },
   {
    "duration": 22,
    "start_time": "2022-04-09T18:31:54.012Z"
   },
   {
    "duration": 21,
    "start_time": "2022-04-09T18:31:54.038Z"
   },
   {
    "duration": 32,
    "start_time": "2022-04-09T18:31:54.061Z"
   },
   {
    "duration": 49,
    "start_time": "2022-04-09T18:31:54.096Z"
   },
   {
    "duration": 24,
    "start_time": "2022-04-09T18:31:54.147Z"
   },
   {
    "duration": 17,
    "start_time": "2022-04-09T18:31:54.173Z"
   },
   {
    "duration": 11,
    "start_time": "2022-04-09T18:31:54.192Z"
   },
   {
    "duration": 21,
    "start_time": "2022-04-09T18:31:54.205Z"
   },
   {
    "duration": 15,
    "start_time": "2022-04-09T18:31:54.229Z"
   },
   {
    "duration": 16,
    "start_time": "2022-04-09T18:31:54.246Z"
   },
   {
    "duration": 20,
    "start_time": "2022-04-09T18:31:54.265Z"
   },
   {
    "duration": 9,
    "start_time": "2022-04-09T18:31:54.287Z"
   },
   {
    "duration": 51,
    "start_time": "2022-04-09T18:31:54.298Z"
   },
   {
    "duration": 6,
    "start_time": "2022-04-09T18:31:54.351Z"
   },
   {
    "duration": 35,
    "start_time": "2022-04-09T18:31:54.360Z"
   },
   {
    "duration": 84,
    "start_time": "2022-04-09T18:31:54.398Z"
   },
   {
    "duration": 6,
    "start_time": "2022-04-09T18:31:54.484Z"
   },
   {
    "duration": 7,
    "start_time": "2022-04-09T18:31:54.493Z"
   },
   {
    "duration": 15,
    "start_time": "2022-04-09T18:31:54.502Z"
   },
   {
    "duration": 10,
    "start_time": "2022-04-09T18:31:54.542Z"
   },
   {
    "duration": 6,
    "start_time": "2022-04-09T18:31:54.554Z"
   },
   {
    "duration": 21,
    "start_time": "2022-04-09T18:31:54.563Z"
   },
   {
    "duration": 9,
    "start_time": "2022-04-09T18:31:54.586Z"
   },
   {
    "duration": 47,
    "start_time": "2022-04-09T18:31:54.597Z"
   },
   {
    "duration": 5,
    "start_time": "2022-04-09T18:31:54.647Z"
   },
   {
    "duration": 138,
    "start_time": "2022-04-09T18:31:54.654Z"
   },
   {
    "duration": 9,
    "start_time": "2022-04-09T18:31:54.794Z"
   },
   {
    "duration": 7,
    "start_time": "2022-04-09T18:31:54.806Z"
   },
   {
    "duration": 340,
    "start_time": "2022-04-09T18:31:54.815Z"
   },
   {
    "duration": 7,
    "start_time": "2022-04-09T18:31:55.158Z"
   },
   {
    "duration": 40,
    "start_time": "2022-04-09T18:31:55.167Z"
   },
   {
    "duration": 50,
    "start_time": "2022-04-09T18:31:55.210Z"
   },
   {
    "duration": 30,
    "start_time": "2022-04-09T18:31:55.262Z"
   },
   {
    "duration": 7,
    "start_time": "2022-04-09T18:31:55.295Z"
   },
   {
    "duration": 323,
    "start_time": "2022-04-09T18:31:55.305Z"
   },
   {
    "duration": 14,
    "start_time": "2022-04-09T18:31:55.631Z"
   },
   {
    "duration": 16,
    "start_time": "2022-04-09T18:31:55.647Z"
   },
   {
    "duration": 8,
    "start_time": "2022-04-09T18:31:55.665Z"
   },
   {
    "duration": 18,
    "start_time": "2022-04-09T18:31:55.675Z"
   },
   {
    "duration": 7,
    "start_time": "2022-04-09T18:31:55.695Z"
   },
   {
    "duration": 367,
    "start_time": "2022-04-09T18:31:55.706Z"
   },
   {
    "duration": 11,
    "start_time": "2022-04-09T18:31:56.075Z"
   },
   {
    "duration": 10,
    "start_time": "2022-04-09T18:31:56.089Z"
   },
   {
    "duration": 13,
    "start_time": "2022-04-09T18:31:56.101Z"
   },
   {
    "duration": 33,
    "start_time": "2022-04-09T18:31:56.116Z"
   },
   {
    "duration": 564,
    "start_time": "2022-04-09T18:31:56.152Z"
   },
   {
    "duration": 25,
    "start_time": "2022-04-09T18:31:56.719Z"
   },
   {
    "duration": 6,
    "start_time": "2022-04-09T18:31:56.747Z"
   },
   {
    "duration": 19,
    "start_time": "2022-04-09T18:31:56.756Z"
   },
   {
    "duration": 522,
    "start_time": "2022-04-09T18:32:29.012Z"
   },
   {
    "duration": 77,
    "start_time": "2022-04-09T18:32:29.537Z"
   },
   {
    "duration": 45,
    "start_time": "2022-04-09T18:32:29.616Z"
   },
   {
    "duration": 21,
    "start_time": "2022-04-09T18:32:29.663Z"
   },
   {
    "duration": 12,
    "start_time": "2022-04-09T18:32:29.687Z"
   },
   {
    "duration": 6,
    "start_time": "2022-04-09T18:32:29.701Z"
   },
   {
    "duration": 43,
    "start_time": "2022-04-09T18:32:29.709Z"
   },
   {
    "duration": 6,
    "start_time": "2022-04-09T18:32:29.754Z"
   },
   {
    "duration": 5,
    "start_time": "2022-04-09T18:32:29.762Z"
   },
   {
    "duration": 6,
    "start_time": "2022-04-09T18:32:29.769Z"
   },
   {
    "duration": 8,
    "start_time": "2022-04-09T18:32:29.777Z"
   },
   {
    "duration": 14,
    "start_time": "2022-04-09T18:32:29.787Z"
   },
   {
    "duration": 43,
    "start_time": "2022-04-09T18:32:29.803Z"
   },
   {
    "duration": 7,
    "start_time": "2022-04-09T18:32:29.850Z"
   },
   {
    "duration": 4,
    "start_time": "2022-04-09T18:32:29.860Z"
   },
   {
    "duration": 15,
    "start_time": "2022-04-09T18:32:29.866Z"
   },
   {
    "duration": 7,
    "start_time": "2022-04-09T18:32:29.884Z"
   },
   {
    "duration": 51,
    "start_time": "2022-04-09T18:32:29.893Z"
   },
   {
    "duration": 10,
    "start_time": "2022-04-09T18:32:29.946Z"
   },
   {
    "duration": 9,
    "start_time": "2022-04-09T18:32:29.958Z"
   },
   {
    "duration": 37,
    "start_time": "2022-04-09T18:32:29.969Z"
   },
   {
    "duration": 34,
    "start_time": "2022-04-09T18:32:30.009Z"
   },
   {
    "duration": 28,
    "start_time": "2022-04-09T18:32:30.045Z"
   },
   {
    "duration": 88,
    "start_time": "2022-04-09T18:32:30.075Z"
   },
   {
    "duration": 5,
    "start_time": "2022-04-09T18:32:30.165Z"
   },
   {
    "duration": 16,
    "start_time": "2022-04-09T18:32:30.172Z"
   },
   {
    "duration": 29,
    "start_time": "2022-04-09T18:32:30.190Z"
   },
   {
    "duration": 24,
    "start_time": "2022-04-09T18:32:30.221Z"
   },
   {
    "duration": 8,
    "start_time": "2022-04-09T18:32:30.248Z"
   },
   {
    "duration": 36,
    "start_time": "2022-04-09T18:32:30.258Z"
   },
   {
    "duration": 17,
    "start_time": "2022-04-09T18:32:30.296Z"
   },
   {
    "duration": 24,
    "start_time": "2022-04-09T18:32:30.315Z"
   },
   {
    "duration": 15,
    "start_time": "2022-04-09T18:32:30.342Z"
   },
   {
    "duration": 126,
    "start_time": "2022-04-09T18:32:30.360Z"
   },
   {
    "duration": 10,
    "start_time": "2022-04-09T18:32:30.488Z"
   },
   {
    "duration": 37,
    "start_time": "2022-04-09T18:32:30.500Z"
   },
   {
    "duration": 346,
    "start_time": "2022-04-09T18:32:30.539Z"
   },
   {
    "duration": 7,
    "start_time": "2022-04-09T18:32:30.888Z"
   },
   {
    "duration": 32,
    "start_time": "2022-04-09T18:32:30.898Z"
   },
   {
    "duration": 27,
    "start_time": "2022-04-09T18:32:30.932Z"
   },
   {
    "duration": 44,
    "start_time": "2022-04-09T18:32:30.964Z"
   },
   {
    "duration": 16,
    "start_time": "2022-04-09T18:32:31.010Z"
   },
   {
    "duration": 349,
    "start_time": "2022-04-09T18:32:31.028Z"
   },
   {
    "duration": 8,
    "start_time": "2022-04-09T18:32:31.380Z"
   },
   {
    "duration": 22,
    "start_time": "2022-04-09T18:32:31.390Z"
   },
   {
    "duration": 13,
    "start_time": "2022-04-09T18:32:31.415Z"
   },
   {
    "duration": 34,
    "start_time": "2022-04-09T18:32:31.430Z"
   },
   {
    "duration": 10,
    "start_time": "2022-04-09T18:32:31.467Z"
   },
   {
    "duration": 341,
    "start_time": "2022-04-09T18:32:31.480Z"
   },
   {
    "duration": 9,
    "start_time": "2022-04-09T18:32:31.824Z"
   },
   {
    "duration": 8,
    "start_time": "2022-04-09T18:32:31.836Z"
   },
   {
    "duration": 16,
    "start_time": "2022-04-09T18:32:31.846Z"
   },
   {
    "duration": 8,
    "start_time": "2022-04-09T18:32:31.864Z"
   },
   {
    "duration": 341,
    "start_time": "2022-04-09T18:32:31.874Z"
   },
   {
    "duration": 9,
    "start_time": "2022-04-09T18:32:32.217Z"
   },
   {
    "duration": 15,
    "start_time": "2022-04-09T18:32:32.228Z"
   },
   {
    "duration": 18,
    "start_time": "2022-04-09T18:32:32.245Z"
   },
   {
    "duration": 392,
    "start_time": "2022-04-10T12:15:16.742Z"
   },
   {
    "duration": 70,
    "start_time": "2022-04-10T12:15:17.136Z"
   },
   {
    "duration": 25,
    "start_time": "2022-04-10T12:15:17.207Z"
   },
   {
    "duration": 13,
    "start_time": "2022-04-10T12:15:17.234Z"
   },
   {
    "duration": 9,
    "start_time": "2022-04-10T12:15:17.249Z"
   },
   {
    "duration": 22,
    "start_time": "2022-04-10T12:15:17.259Z"
   },
   {
    "duration": 7,
    "start_time": "2022-04-10T12:15:17.282Z"
   },
   {
    "duration": 5,
    "start_time": "2022-04-10T12:15:17.290Z"
   },
   {
    "duration": 5,
    "start_time": "2022-04-10T12:15:17.296Z"
   },
   {
    "duration": 4,
    "start_time": "2022-04-10T12:15:17.303Z"
   },
   {
    "duration": 4,
    "start_time": "2022-04-10T12:15:17.308Z"
   },
   {
    "duration": 10,
    "start_time": "2022-04-10T12:15:17.314Z"
   },
   {
    "duration": 5,
    "start_time": "2022-04-10T12:15:17.326Z"
   },
   {
    "duration": 6,
    "start_time": "2022-04-10T12:15:17.332Z"
   },
   {
    "duration": 4,
    "start_time": "2022-04-10T12:15:17.340Z"
   },
   {
    "duration": 40,
    "start_time": "2022-04-10T12:15:17.345Z"
   },
   {
    "duration": 5,
    "start_time": "2022-04-10T12:15:17.386Z"
   },
   {
    "duration": 7,
    "start_time": "2022-04-10T12:15:17.392Z"
   },
   {
    "duration": 8,
    "start_time": "2022-04-10T12:15:17.400Z"
   },
   {
    "duration": 7,
    "start_time": "2022-04-10T12:15:17.410Z"
   },
   {
    "duration": 20,
    "start_time": "2022-04-10T12:15:17.418Z"
   },
   {
    "duration": 4,
    "start_time": "2022-04-10T12:15:17.439Z"
   },
   {
    "duration": 6,
    "start_time": "2022-04-10T12:15:17.444Z"
   },
   {
    "duration": 29,
    "start_time": "2022-04-10T12:15:17.452Z"
   },
   {
    "duration": 5,
    "start_time": "2022-04-10T12:15:17.483Z"
   },
   {
    "duration": 5,
    "start_time": "2022-04-10T12:15:17.490Z"
   },
   {
    "duration": 3,
    "start_time": "2022-04-10T12:15:17.497Z"
   },
   {
    "duration": 8,
    "start_time": "2022-04-10T12:15:17.503Z"
   },
   {
    "duration": 6,
    "start_time": "2022-04-10T12:15:17.513Z"
   },
   {
    "duration": 7,
    "start_time": "2022-04-10T12:15:17.520Z"
   },
   {
    "duration": 4,
    "start_time": "2022-04-10T12:15:17.528Z"
   },
   {
    "duration": 11,
    "start_time": "2022-04-10T12:15:17.533Z"
   },
   {
    "duration": 39,
    "start_time": "2022-04-10T12:15:17.545Z"
   },
   {
    "duration": 16,
    "start_time": "2022-04-10T12:15:17.586Z"
   },
   {
    "duration": 32,
    "start_time": "2022-04-10T12:15:17.604Z"
   },
   {
    "duration": 5,
    "start_time": "2022-04-10T12:15:17.638Z"
   },
   {
    "duration": 203,
    "start_time": "2022-04-10T12:15:17.645Z"
   },
   {
    "duration": 6,
    "start_time": "2022-04-10T12:15:17.849Z"
   },
   {
    "duration": 25,
    "start_time": "2022-04-10T12:15:17.857Z"
   },
   {
    "duration": 15,
    "start_time": "2022-04-10T12:15:17.883Z"
   },
   {
    "duration": 15,
    "start_time": "2022-04-10T12:15:17.900Z"
   },
   {
    "duration": 4,
    "start_time": "2022-04-10T12:15:17.917Z"
   },
   {
    "duration": 186,
    "start_time": "2022-04-10T12:15:17.923Z"
   },
   {
    "duration": 5,
    "start_time": "2022-04-10T12:15:18.111Z"
   },
   {
    "duration": 13,
    "start_time": "2022-04-10T12:15:18.117Z"
   },
   {
    "duration": 7,
    "start_time": "2022-04-10T12:15:18.132Z"
   },
   {
    "duration": 16,
    "start_time": "2022-04-10T12:15:18.140Z"
   },
   {
    "duration": 6,
    "start_time": "2022-04-10T12:15:18.158Z"
   },
   {
    "duration": 179,
    "start_time": "2022-04-10T12:15:18.165Z"
   },
   {
    "duration": 6,
    "start_time": "2022-04-10T12:15:18.345Z"
   },
   {
    "duration": 6,
    "start_time": "2022-04-10T12:15:18.353Z"
   },
   {
    "duration": 21,
    "start_time": "2022-04-10T12:15:18.360Z"
   },
   {
    "duration": 4,
    "start_time": "2022-04-10T12:15:18.382Z"
   },
   {
    "duration": 183,
    "start_time": "2022-04-10T12:15:18.388Z"
   },
   {
    "duration": 10,
    "start_time": "2022-04-10T12:15:18.572Z"
   },
   {
    "duration": 4,
    "start_time": "2022-04-10T12:15:18.583Z"
   },
   {
    "duration": 12,
    "start_time": "2022-04-10T12:15:18.588Z"
   },
   {
    "duration": 16,
    "start_time": "2022-04-10T12:20:16.832Z"
   },
   {
    "duration": 396,
    "start_time": "2022-04-10T12:20:31.140Z"
   },
   {
    "duration": 62,
    "start_time": "2022-04-10T12:20:31.538Z"
   },
   {
    "duration": 24,
    "start_time": "2022-04-10T12:20:31.602Z"
   },
   {
    "duration": 13,
    "start_time": "2022-04-10T12:20:31.628Z"
   },
   {
    "duration": 9,
    "start_time": "2022-04-10T12:20:31.643Z"
   },
   {
    "duration": 28,
    "start_time": "2022-04-10T12:20:31.653Z"
   },
   {
    "duration": 7,
    "start_time": "2022-04-10T12:20:31.682Z"
   },
   {
    "duration": 5,
    "start_time": "2022-04-10T12:20:31.691Z"
   },
   {
    "duration": 6,
    "start_time": "2022-04-10T12:20:31.697Z"
   },
   {
    "duration": 7,
    "start_time": "2022-04-10T12:20:31.706Z"
   },
   {
    "duration": 6,
    "start_time": "2022-04-10T12:20:31.715Z"
   },
   {
    "duration": 33,
    "start_time": "2022-04-10T12:20:31.723Z"
   },
   {
    "duration": 11,
    "start_time": "2022-04-10T12:20:31.757Z"
   },
   {
    "duration": 7,
    "start_time": "2022-04-10T12:20:31.769Z"
   },
   {
    "duration": 6,
    "start_time": "2022-04-10T12:20:31.777Z"
   },
   {
    "duration": 16,
    "start_time": "2022-04-10T12:20:31.785Z"
   },
   {
    "duration": 4,
    "start_time": "2022-04-10T12:20:31.803Z"
   },
   {
    "duration": 15,
    "start_time": "2022-04-10T12:20:31.809Z"
   },
   {
    "duration": 28,
    "start_time": "2022-04-10T12:20:31.825Z"
   },
   {
    "duration": 6,
    "start_time": "2022-04-10T12:20:31.854Z"
   },
   {
    "duration": 21,
    "start_time": "2022-04-10T12:20:31.862Z"
   },
   {
    "duration": 3,
    "start_time": "2022-04-10T12:20:31.885Z"
   },
   {
    "duration": 12,
    "start_time": "2022-04-10T12:20:31.889Z"
   },
   {
    "duration": 22,
    "start_time": "2022-04-10T12:20:31.902Z"
   },
   {
    "duration": 9,
    "start_time": "2022-04-10T12:20:31.925Z"
   },
   {
    "duration": 7,
    "start_time": "2022-04-10T12:20:31.935Z"
   },
   {
    "duration": 3,
    "start_time": "2022-04-10T12:20:31.944Z"
   },
   {
    "duration": 11,
    "start_time": "2022-04-10T12:20:31.951Z"
   },
   {
    "duration": 5,
    "start_time": "2022-04-10T12:20:31.964Z"
   },
   {
    "duration": 11,
    "start_time": "2022-04-10T12:20:31.971Z"
   },
   {
    "duration": 7,
    "start_time": "2022-04-10T12:20:31.984Z"
   },
   {
    "duration": 10,
    "start_time": "2022-04-10T12:20:31.992Z"
   },
   {
    "duration": 6,
    "start_time": "2022-04-10T12:20:32.003Z"
   },
   {
    "duration": 17,
    "start_time": "2022-04-10T12:20:32.010Z"
   },
   {
    "duration": 27,
    "start_time": "2022-04-10T12:20:32.028Z"
   },
   {
    "duration": 29,
    "start_time": "2022-04-10T12:20:32.056Z"
   },
   {
    "duration": 4,
    "start_time": "2022-04-10T12:20:32.086Z"
   },
   {
    "duration": 178,
    "start_time": "2022-04-10T12:20:32.091Z"
   },
   {
    "duration": 4,
    "start_time": "2022-04-10T12:20:32.271Z"
   },
   {
    "duration": 8,
    "start_time": "2022-04-10T12:20:32.280Z"
   },
   {
    "duration": 6,
    "start_time": "2022-04-10T12:20:32.289Z"
   },
   {
    "duration": 10,
    "start_time": "2022-04-10T12:20:32.297Z"
   },
   {
    "duration": 5,
    "start_time": "2022-04-10T12:20:32.308Z"
   },
   {
    "duration": 187,
    "start_time": "2022-04-10T12:20:32.314Z"
   },
   {
    "duration": 5,
    "start_time": "2022-04-10T12:20:32.502Z"
   },
   {
    "duration": 8,
    "start_time": "2022-04-10T12:20:32.508Z"
   },
   {
    "duration": 4,
    "start_time": "2022-04-10T12:20:32.517Z"
   },
   {
    "duration": 11,
    "start_time": "2022-04-10T12:20:32.522Z"
   },
   {
    "duration": 4,
    "start_time": "2022-04-10T12:20:32.534Z"
   },
   {
    "duration": 198,
    "start_time": "2022-04-10T12:20:32.540Z"
   },
   {
    "duration": 7,
    "start_time": "2022-04-10T12:20:32.739Z"
   },
   {
    "duration": 3,
    "start_time": "2022-04-10T12:20:32.748Z"
   },
   {
    "duration": 9,
    "start_time": "2022-04-10T12:20:32.753Z"
   },
   {
    "duration": 4,
    "start_time": "2022-04-10T12:20:32.781Z"
   },
   {
    "duration": 178,
    "start_time": "2022-04-10T12:20:32.786Z"
   },
   {
    "duration": 6,
    "start_time": "2022-04-10T12:20:32.966Z"
   },
   {
    "duration": 3,
    "start_time": "2022-04-10T12:20:32.981Z"
   },
   {
    "duration": 10,
    "start_time": "2022-04-10T12:20:32.985Z"
   },
   {
    "duration": 411,
    "start_time": "2022-04-10T12:20:57.054Z"
   },
   {
    "duration": 59,
    "start_time": "2022-04-10T12:20:57.467Z"
   },
   {
    "duration": 25,
    "start_time": "2022-04-10T12:20:57.527Z"
   },
   {
    "duration": 14,
    "start_time": "2022-04-10T12:20:57.553Z"
   },
   {
    "duration": 9,
    "start_time": "2022-04-10T12:20:57.580Z"
   },
   {
    "duration": 4,
    "start_time": "2022-04-10T12:20:57.590Z"
   },
   {
    "duration": 10,
    "start_time": "2022-04-10T12:20:57.595Z"
   },
   {
    "duration": 4,
    "start_time": "2022-04-10T12:20:57.607Z"
   },
   {
    "duration": 8,
    "start_time": "2022-04-10T12:20:57.613Z"
   },
   {
    "duration": 5,
    "start_time": "2022-04-10T12:20:57.623Z"
   },
   {
    "duration": 4,
    "start_time": "2022-04-10T12:20:57.629Z"
   },
   {
    "duration": 10,
    "start_time": "2022-04-10T12:20:57.634Z"
   },
   {
    "duration": 4,
    "start_time": "2022-04-10T12:20:57.645Z"
   },
   {
    "duration": 32,
    "start_time": "2022-04-10T12:20:57.650Z"
   },
   {
    "duration": 5,
    "start_time": "2022-04-10T12:20:57.683Z"
   },
   {
    "duration": 8,
    "start_time": "2022-04-10T12:20:57.689Z"
   },
   {
    "duration": 5,
    "start_time": "2022-04-10T12:20:57.698Z"
   },
   {
    "duration": 7,
    "start_time": "2022-04-10T12:20:57.704Z"
   },
   {
    "duration": 9,
    "start_time": "2022-04-10T12:20:57.712Z"
   },
   {
    "duration": 6,
    "start_time": "2022-04-10T12:20:57.722Z"
   },
   {
    "duration": 21,
    "start_time": "2022-04-10T12:20:57.730Z"
   },
   {
    "duration": 30,
    "start_time": "2022-04-10T12:20:57.752Z"
   },
   {
    "duration": 4,
    "start_time": "2022-04-10T12:20:57.783Z"
   },
   {
    "duration": 7,
    "start_time": "2022-04-10T12:20:57.788Z"
   },
   {
    "duration": 9,
    "start_time": "2022-04-10T12:20:57.796Z"
   },
   {
    "duration": 7,
    "start_time": "2022-04-10T12:20:57.807Z"
   },
   {
    "duration": 3,
    "start_time": "2022-04-10T12:20:57.815Z"
   },
   {
    "duration": 12,
    "start_time": "2022-04-10T12:20:57.821Z"
   },
   {
    "duration": 6,
    "start_time": "2022-04-10T12:20:57.834Z"
   },
   {
    "duration": 8,
    "start_time": "2022-04-10T12:20:57.841Z"
   },
   {
    "duration": 4,
    "start_time": "2022-04-10T12:20:57.850Z"
   },
   {
    "duration": 7,
    "start_time": "2022-04-10T12:20:57.881Z"
   },
   {
    "duration": 8,
    "start_time": "2022-04-10T12:20:57.890Z"
   },
   {
    "duration": 18,
    "start_time": "2022-04-10T12:20:57.899Z"
   },
   {
    "duration": 18,
    "start_time": "2022-04-10T12:20:57.919Z"
   },
   {
    "duration": 13,
    "start_time": "2022-04-10T12:20:57.938Z"
   },
   {
    "duration": 28,
    "start_time": "2022-04-10T12:20:57.953Z"
   },
   {
    "duration": 171,
    "start_time": "2022-04-10T12:20:57.983Z"
   },
   {
    "duration": 6,
    "start_time": "2022-04-10T12:20:58.155Z"
   },
   {
    "duration": 20,
    "start_time": "2022-04-10T12:20:58.162Z"
   },
   {
    "duration": 4,
    "start_time": "2022-04-10T12:20:58.184Z"
   },
   {
    "duration": 9,
    "start_time": "2022-04-10T12:20:58.189Z"
   },
   {
    "duration": 4,
    "start_time": "2022-04-10T12:20:58.200Z"
   },
   {
    "duration": 193,
    "start_time": "2022-04-10T12:20:58.206Z"
   },
   {
    "duration": 6,
    "start_time": "2022-04-10T12:20:58.400Z"
   },
   {
    "duration": 12,
    "start_time": "2022-04-10T12:20:58.408Z"
   },
   {
    "duration": 7,
    "start_time": "2022-04-10T12:20:58.422Z"
   },
   {
    "duration": 14,
    "start_time": "2022-04-10T12:20:58.431Z"
   },
   {
    "duration": 5,
    "start_time": "2022-04-10T12:20:58.446Z"
   },
   {
    "duration": 186,
    "start_time": "2022-04-10T12:20:58.452Z"
   },
   {
    "duration": 6,
    "start_time": "2022-04-10T12:20:58.640Z"
   },
   {
    "duration": 4,
    "start_time": "2022-04-10T12:20:58.648Z"
   },
   {
    "duration": 29,
    "start_time": "2022-04-10T12:20:58.653Z"
   },
   {
    "duration": 4,
    "start_time": "2022-04-10T12:20:58.684Z"
   },
   {
    "duration": 181,
    "start_time": "2022-04-10T12:20:58.689Z"
   },
   {
    "duration": 11,
    "start_time": "2022-04-10T12:20:58.871Z"
   },
   {
    "duration": 3,
    "start_time": "2022-04-10T12:20:58.883Z"
   },
   {
    "duration": 9,
    "start_time": "2022-04-10T12:20:58.888Z"
   },
   {
    "duration": 16,
    "start_time": "2022-04-10T12:22:08.926Z"
   },
   {
    "duration": 412,
    "start_time": "2022-04-10T12:22:13.869Z"
   },
   {
    "duration": 61,
    "start_time": "2022-04-10T12:22:14.283Z"
   },
   {
    "duration": 24,
    "start_time": "2022-04-10T12:22:14.345Z"
   },
   {
    "duration": 17,
    "start_time": "2022-04-10T12:22:14.371Z"
   },
   {
    "duration": 9,
    "start_time": "2022-04-10T12:22:14.389Z"
   },
   {
    "duration": 3,
    "start_time": "2022-04-10T12:22:14.400Z"
   },
   {
    "duration": 9,
    "start_time": "2022-04-10T12:22:14.404Z"
   },
   {
    "duration": 5,
    "start_time": "2022-04-10T12:22:14.414Z"
   },
   {
    "duration": 5,
    "start_time": "2022-04-10T12:22:14.420Z"
   },
   {
    "duration": 5,
    "start_time": "2022-04-10T12:22:14.427Z"
   },
   {
    "duration": 5,
    "start_time": "2022-04-10T12:22:14.433Z"
   },
   {
    "duration": 9,
    "start_time": "2022-04-10T12:22:14.440Z"
   },
   {
    "duration": 34,
    "start_time": "2022-04-10T12:22:14.450Z"
   },
   {
    "duration": 6,
    "start_time": "2022-04-10T12:22:14.485Z"
   },
   {
    "duration": 5,
    "start_time": "2022-04-10T12:22:14.493Z"
   },
   {
    "duration": 7,
    "start_time": "2022-04-10T12:22:14.500Z"
   },
   {
    "duration": 5,
    "start_time": "2022-04-10T12:22:14.509Z"
   },
   {
    "duration": 7,
    "start_time": "2022-04-10T12:22:14.515Z"
   },
   {
    "duration": 8,
    "start_time": "2022-04-10T12:22:14.524Z"
   },
   {
    "duration": 6,
    "start_time": "2022-04-10T12:22:14.533Z"
   },
   {
    "duration": 54,
    "start_time": "2022-04-10T12:22:14.541Z"
   },
   {
    "duration": 12,
    "start_time": "2022-04-10T12:22:14.597Z"
   },
   {
    "duration": 3,
    "start_time": "2022-04-10T12:22:14.611Z"
   },
   {
    "duration": 6,
    "start_time": "2022-04-10T12:22:14.616Z"
   },
   {
    "duration": 4,
    "start_time": "2022-04-10T12:22:14.623Z"
   },
   {
    "duration": 6,
    "start_time": "2022-04-10T12:22:14.628Z"
   },
   {
    "duration": 6,
    "start_time": "2022-04-10T12:22:14.636Z"
   },
   {
    "duration": 3,
    "start_time": "2022-04-10T12:22:14.685Z"
   },
   {
    "duration": 12,
    "start_time": "2022-04-10T12:22:14.690Z"
   },
   {
    "duration": 7,
    "start_time": "2022-04-10T12:22:14.704Z"
   },
   {
    "duration": 8,
    "start_time": "2022-04-10T12:22:14.713Z"
   },
   {
    "duration": 4,
    "start_time": "2022-04-10T12:22:14.723Z"
   },
   {
    "duration": 9,
    "start_time": "2022-04-10T12:22:14.729Z"
   },
   {
    "duration": 7,
    "start_time": "2022-04-10T12:22:14.740Z"
   },
   {
    "duration": 18,
    "start_time": "2022-04-10T12:22:14.781Z"
   },
   {
    "duration": 18,
    "start_time": "2022-04-10T12:22:14.801Z"
   },
   {
    "duration": 12,
    "start_time": "2022-04-10T12:22:14.821Z"
   },
   {
    "duration": 4,
    "start_time": "2022-04-10T12:22:14.835Z"
   },
   {
    "duration": 207,
    "start_time": "2022-04-10T12:22:14.840Z"
   },
   {
    "duration": 5,
    "start_time": "2022-04-10T12:22:15.049Z"
   },
   {
    "duration": 8,
    "start_time": "2022-04-10T12:22:15.056Z"
   },
   {
    "duration": 6,
    "start_time": "2022-04-10T12:22:15.065Z"
   },
   {
    "duration": 6,
    "start_time": "2022-04-10T12:22:15.081Z"
   },
   {
    "duration": 5,
    "start_time": "2022-04-10T12:22:15.088Z"
   },
   {
    "duration": 188,
    "start_time": "2022-04-10T12:22:15.094Z"
   },
   {
    "duration": 5,
    "start_time": "2022-04-10T12:22:15.283Z"
   },
   {
    "duration": 8,
    "start_time": "2022-04-10T12:22:15.289Z"
   },
   {
    "duration": 3,
    "start_time": "2022-04-10T12:22:15.298Z"
   },
   {
    "duration": 10,
    "start_time": "2022-04-10T12:22:15.303Z"
   },
   {
    "duration": 4,
    "start_time": "2022-04-10T12:22:15.314Z"
   },
   {
    "duration": 196,
    "start_time": "2022-04-10T12:22:15.320Z"
   },
   {
    "duration": 6,
    "start_time": "2022-04-10T12:22:15.518Z"
   },
   {
    "duration": 5,
    "start_time": "2022-04-10T12:22:15.526Z"
   },
   {
    "duration": 9,
    "start_time": "2022-04-10T12:22:15.532Z"
   },
   {
    "duration": 4,
    "start_time": "2022-04-10T12:22:15.542Z"
   },
   {
    "duration": 190,
    "start_time": "2022-04-10T12:22:15.547Z"
   },
   {
    "duration": 6,
    "start_time": "2022-04-10T12:22:15.739Z"
   },
   {
    "duration": 4,
    "start_time": "2022-04-10T12:22:15.746Z"
   },
   {
    "duration": 9,
    "start_time": "2022-04-10T12:22:15.752Z"
   },
   {
    "duration": 411,
    "start_time": "2022-04-10T12:22:51.749Z"
   },
   {
    "duration": 59,
    "start_time": "2022-04-10T12:22:52.162Z"
   },
   {
    "duration": 23,
    "start_time": "2022-04-10T12:22:52.223Z"
   },
   {
    "duration": 13,
    "start_time": "2022-04-10T12:22:52.248Z"
   },
   {
    "duration": 21,
    "start_time": "2022-04-10T12:22:52.263Z"
   },
   {
    "duration": 3,
    "start_time": "2022-04-10T12:22:52.285Z"
   },
   {
    "duration": 7,
    "start_time": "2022-04-10T12:22:52.290Z"
   },
   {
    "duration": 5,
    "start_time": "2022-04-10T12:22:52.298Z"
   },
   {
    "duration": 4,
    "start_time": "2022-04-10T12:22:52.304Z"
   },
   {
    "duration": 5,
    "start_time": "2022-04-10T12:22:52.310Z"
   },
   {
    "duration": 4,
    "start_time": "2022-04-10T12:22:52.317Z"
   },
   {
    "duration": 10,
    "start_time": "2022-04-10T12:22:52.322Z"
   },
   {
    "duration": 4,
    "start_time": "2022-04-10T12:22:52.333Z"
   },
   {
    "duration": 6,
    "start_time": "2022-04-10T12:22:52.338Z"
   },
   {
    "duration": 38,
    "start_time": "2022-04-10T12:22:52.345Z"
   },
   {
    "duration": 7,
    "start_time": "2022-04-10T12:22:52.385Z"
   },
   {
    "duration": 5,
    "start_time": "2022-04-10T12:22:52.393Z"
   },
   {
    "duration": 9,
    "start_time": "2022-04-10T12:22:52.399Z"
   },
   {
    "duration": 7,
    "start_time": "2022-04-10T12:22:52.410Z"
   },
   {
    "duration": 5,
    "start_time": "2022-04-10T12:22:52.419Z"
   },
   {
    "duration": 6,
    "start_time": "2022-04-10T12:22:52.425Z"
   },
   {
    "duration": 13,
    "start_time": "2022-04-10T12:22:52.433Z"
   },
   {
    "duration": 3,
    "start_time": "2022-04-10T12:22:52.447Z"
   },
   {
    "duration": 32,
    "start_time": "2022-04-10T12:22:52.451Z"
   },
   {
    "duration": 4,
    "start_time": "2022-04-10T12:22:52.484Z"
   },
   {
    "duration": 7,
    "start_time": "2022-04-10T12:22:52.489Z"
   },
   {
    "duration": 6,
    "start_time": "2022-04-10T12:22:52.498Z"
   },
   {
    "duration": 3,
    "start_time": "2022-04-10T12:22:52.507Z"
   },
   {
    "duration": 11,
    "start_time": "2022-04-10T12:22:52.512Z"
   },
   {
    "duration": 8,
    "start_time": "2022-04-10T12:22:52.524Z"
   },
   {
    "duration": 10,
    "start_time": "2022-04-10T12:22:52.533Z"
   },
   {
    "duration": 4,
    "start_time": "2022-04-10T12:22:52.544Z"
   },
   {
    "duration": 35,
    "start_time": "2022-04-10T12:22:52.550Z"
   },
   {
    "duration": 6,
    "start_time": "2022-04-10T12:22:52.586Z"
   },
   {
    "duration": 19,
    "start_time": "2022-04-10T12:22:52.594Z"
   },
   {
    "duration": 23,
    "start_time": "2022-04-10T12:22:52.614Z"
   },
   {
    "duration": 14,
    "start_time": "2022-04-10T12:22:52.638Z"
   },
   {
    "duration": 29,
    "start_time": "2022-04-10T12:22:52.654Z"
   },
   {
    "duration": 181,
    "start_time": "2022-04-10T12:22:52.685Z"
   },
   {
    "duration": 5,
    "start_time": "2022-04-10T12:22:52.867Z"
   },
   {
    "duration": 6,
    "start_time": "2022-04-10T12:22:52.881Z"
   },
   {
    "duration": 4,
    "start_time": "2022-04-10T12:22:52.888Z"
   },
   {
    "duration": 7,
    "start_time": "2022-04-10T12:22:52.894Z"
   },
   {
    "duration": 5,
    "start_time": "2022-04-10T12:22:52.902Z"
   },
   {
    "duration": 184,
    "start_time": "2022-04-10T12:22:52.908Z"
   },
   {
    "duration": 5,
    "start_time": "2022-04-10T12:22:53.093Z"
   },
   {
    "duration": 7,
    "start_time": "2022-04-10T12:22:53.099Z"
   },
   {
    "duration": 5,
    "start_time": "2022-04-10T12:22:53.108Z"
   },
   {
    "duration": 10,
    "start_time": "2022-04-10T12:22:53.114Z"
   },
   {
    "duration": 4,
    "start_time": "2022-04-10T12:22:53.126Z"
   },
   {
    "duration": 202,
    "start_time": "2022-04-10T12:22:53.132Z"
   },
   {
    "duration": 7,
    "start_time": "2022-04-10T12:22:53.335Z"
   },
   {
    "duration": 8,
    "start_time": "2022-04-10T12:22:53.343Z"
   },
   {
    "duration": 8,
    "start_time": "2022-04-10T12:22:53.352Z"
   },
   {
    "duration": 20,
    "start_time": "2022-04-10T12:22:53.362Z"
   },
   {
    "duration": 175,
    "start_time": "2022-04-10T12:22:53.383Z"
   },
   {
    "duration": 6,
    "start_time": "2022-04-10T12:22:53.560Z"
   },
   {
    "duration": 15,
    "start_time": "2022-04-10T12:22:53.567Z"
   },
   {
    "duration": 10,
    "start_time": "2022-04-10T12:22:53.583Z"
   },
   {
    "duration": 369,
    "start_time": "2022-04-10T12:24:21.619Z"
   },
   {
    "duration": 59,
    "start_time": "2022-04-10T12:24:21.990Z"
   },
   {
    "duration": 24,
    "start_time": "2022-04-10T12:24:22.051Z"
   },
   {
    "duration": 15,
    "start_time": "2022-04-10T12:24:22.077Z"
   },
   {
    "duration": 10,
    "start_time": "2022-04-10T12:24:22.094Z"
   },
   {
    "duration": 3,
    "start_time": "2022-04-10T12:24:22.106Z"
   },
   {
    "duration": 9,
    "start_time": "2022-04-10T12:24:22.110Z"
   },
   {
    "duration": 5,
    "start_time": "2022-04-10T12:24:22.120Z"
   },
   {
    "duration": 4,
    "start_time": "2022-04-10T12:24:22.126Z"
   },
   {
    "duration": 5,
    "start_time": "2022-04-10T12:24:22.132Z"
   },
   {
    "duration": 6,
    "start_time": "2022-04-10T12:24:22.139Z"
   },
   {
    "duration": 39,
    "start_time": "2022-04-10T12:24:22.146Z"
   },
   {
    "duration": 5,
    "start_time": "2022-04-10T12:24:22.187Z"
   },
   {
    "duration": 6,
    "start_time": "2022-04-10T12:24:22.194Z"
   },
   {
    "duration": 3,
    "start_time": "2022-04-10T12:24:22.202Z"
   },
   {
    "duration": 7,
    "start_time": "2022-04-10T12:24:22.207Z"
   },
   {
    "duration": 5,
    "start_time": "2022-04-10T12:24:22.215Z"
   },
   {
    "duration": 7,
    "start_time": "2022-04-10T12:24:22.221Z"
   },
   {
    "duration": 12,
    "start_time": "2022-04-10T12:24:22.229Z"
   },
   {
    "duration": 42,
    "start_time": "2022-04-10T12:24:22.242Z"
   },
   {
    "duration": 6,
    "start_time": "2022-04-10T12:24:22.286Z"
   },
   {
    "duration": 14,
    "start_time": "2022-04-10T12:24:22.294Z"
   },
   {
    "duration": 3,
    "start_time": "2022-04-10T12:24:22.310Z"
   },
   {
    "duration": 5,
    "start_time": "2022-04-10T12:24:22.314Z"
   },
   {
    "duration": 4,
    "start_time": "2022-04-10T12:24:22.320Z"
   },
   {
    "duration": 6,
    "start_time": "2022-04-10T12:24:22.325Z"
   },
   {
    "duration": 7,
    "start_time": "2022-04-10T12:24:22.333Z"
   },
   {
    "duration": 38,
    "start_time": "2022-04-10T12:24:22.343Z"
   },
   {
    "duration": 8,
    "start_time": "2022-04-10T12:24:22.382Z"
   },
   {
    "duration": 6,
    "start_time": "2022-04-10T12:24:22.392Z"
   },
   {
    "duration": 7,
    "start_time": "2022-04-10T12:24:22.400Z"
   },
   {
    "duration": 5,
    "start_time": "2022-04-10T12:24:22.408Z"
   },
   {
    "duration": 8,
    "start_time": "2022-04-10T12:24:22.414Z"
   },
   {
    "duration": 6,
    "start_time": "2022-04-10T12:24:22.424Z"
   },
   {
    "duration": 22,
    "start_time": "2022-04-10T12:24:22.431Z"
   },
   {
    "duration": 21,
    "start_time": "2022-04-10T12:24:22.481Z"
   },
   {
    "duration": 14,
    "start_time": "2022-04-10T12:24:22.503Z"
   },
   {
    "duration": 4,
    "start_time": "2022-04-10T12:24:22.519Z"
   },
   {
    "duration": 199,
    "start_time": "2022-04-10T12:24:22.524Z"
   },
   {
    "duration": 4,
    "start_time": "2022-04-10T12:24:22.725Z"
   },
   {
    "duration": 8,
    "start_time": "2022-04-10T12:24:22.731Z"
   },
   {
    "duration": 7,
    "start_time": "2022-04-10T12:24:22.740Z"
   },
   {
    "duration": 11,
    "start_time": "2022-04-10T12:24:22.748Z"
   },
   {
    "duration": 21,
    "start_time": "2022-04-10T12:24:22.760Z"
   },
   {
    "duration": 184,
    "start_time": "2022-04-10T12:24:22.782Z"
   },
   {
    "duration": 5,
    "start_time": "2022-04-10T12:24:22.968Z"
   },
   {
    "duration": 11,
    "start_time": "2022-04-10T12:24:22.974Z"
   },
   {
    "duration": 5,
    "start_time": "2022-04-10T12:24:22.987Z"
   },
   {
    "duration": 12,
    "start_time": "2022-04-10T12:24:22.993Z"
   },
   {
    "duration": 5,
    "start_time": "2022-04-10T12:24:23.007Z"
   },
   {
    "duration": 190,
    "start_time": "2022-04-10T12:24:23.013Z"
   },
   {
    "duration": 7,
    "start_time": "2022-04-10T12:24:23.204Z"
   },
   {
    "duration": 6,
    "start_time": "2022-04-10T12:24:23.213Z"
   },
   {
    "duration": 9,
    "start_time": "2022-04-10T12:24:23.220Z"
   },
   {
    "duration": 4,
    "start_time": "2022-04-10T12:24:23.231Z"
   },
   {
    "duration": 205,
    "start_time": "2022-04-10T12:24:23.236Z"
   },
   {
    "duration": 7,
    "start_time": "2022-04-10T12:24:23.443Z"
   },
   {
    "duration": 5,
    "start_time": "2022-04-10T12:24:23.451Z"
   },
   {
    "duration": 32,
    "start_time": "2022-04-10T12:24:23.457Z"
   },
   {
    "duration": 366,
    "start_time": "2022-04-10T12:24:45.007Z"
   },
   {
    "duration": 61,
    "start_time": "2022-04-10T12:24:45.375Z"
   },
   {
    "duration": 24,
    "start_time": "2022-04-10T12:24:45.437Z"
   },
   {
    "duration": 22,
    "start_time": "2022-04-10T12:24:45.462Z"
   },
   {
    "duration": 9,
    "start_time": "2022-04-10T12:24:45.485Z"
   },
   {
    "duration": 5,
    "start_time": "2022-04-10T12:24:45.495Z"
   },
   {
    "duration": 10,
    "start_time": "2022-04-10T12:24:45.501Z"
   },
   {
    "duration": 5,
    "start_time": "2022-04-10T12:24:45.512Z"
   },
   {
    "duration": 6,
    "start_time": "2022-04-10T12:24:45.518Z"
   },
   {
    "duration": 6,
    "start_time": "2022-04-10T12:24:45.526Z"
   },
   {
    "duration": 5,
    "start_time": "2022-04-10T12:24:45.533Z"
   },
   {
    "duration": 11,
    "start_time": "2022-04-10T12:24:45.539Z"
   },
   {
    "duration": 29,
    "start_time": "2022-04-10T12:24:45.552Z"
   },
   {
    "duration": 4,
    "start_time": "2022-04-10T12:24:45.583Z"
   },
   {
    "duration": 7,
    "start_time": "2022-04-10T12:24:45.588Z"
   },
   {
    "duration": 7,
    "start_time": "2022-04-10T12:24:45.597Z"
   },
   {
    "duration": 4,
    "start_time": "2022-04-10T12:24:45.606Z"
   },
   {
    "duration": 6,
    "start_time": "2022-04-10T12:24:45.611Z"
   },
   {
    "duration": 7,
    "start_time": "2022-04-10T12:24:45.618Z"
   },
   {
    "duration": 6,
    "start_time": "2022-04-10T12:24:45.626Z"
   },
   {
    "duration": 52,
    "start_time": "2022-04-10T12:24:45.633Z"
   },
   {
    "duration": 13,
    "start_time": "2022-04-10T12:24:45.686Z"
   },
   {
    "duration": 3,
    "start_time": "2022-04-10T12:24:45.700Z"
   },
   {
    "duration": 7,
    "start_time": "2022-04-10T12:24:45.705Z"
   },
   {
    "duration": 4,
    "start_time": "2022-04-10T12:24:45.713Z"
   },
   {
    "duration": 8,
    "start_time": "2022-04-10T12:24:45.718Z"
   },
   {
    "duration": 5,
    "start_time": "2022-04-10T12:24:45.727Z"
   },
   {
    "duration": 3,
    "start_time": "2022-04-10T12:24:45.736Z"
   },
   {
    "duration": 41,
    "start_time": "2022-04-10T12:24:45.740Z"
   },
   {
    "duration": 7,
    "start_time": "2022-04-10T12:24:45.782Z"
   },
   {
    "duration": 7,
    "start_time": "2022-04-10T12:24:45.790Z"
   },
   {
    "duration": 5,
    "start_time": "2022-04-10T12:24:45.798Z"
   },
   {
    "duration": 12,
    "start_time": "2022-04-10T12:24:45.804Z"
   },
   {
    "duration": 5,
    "start_time": "2022-04-10T12:24:45.818Z"
   },
   {
    "duration": 19,
    "start_time": "2022-04-10T12:24:45.825Z"
   },
   {
    "duration": 39,
    "start_time": "2022-04-10T12:24:45.846Z"
   },
   {
    "duration": 14,
    "start_time": "2022-04-10T12:24:45.886Z"
   },
   {
    "duration": 4,
    "start_time": "2022-04-10T12:24:45.901Z"
   },
   {
    "duration": 189,
    "start_time": "2022-04-10T12:24:45.906Z"
   },
   {
    "duration": 5,
    "start_time": "2022-04-10T12:24:46.097Z"
   },
   {
    "duration": 7,
    "start_time": "2022-04-10T12:24:46.104Z"
   },
   {
    "duration": 4,
    "start_time": "2022-04-10T12:24:46.113Z"
   },
   {
    "duration": 9,
    "start_time": "2022-04-10T12:24:46.118Z"
   },
   {
    "duration": 5,
    "start_time": "2022-04-10T12:24:46.129Z"
   },
   {
    "duration": 201,
    "start_time": "2022-04-10T12:24:46.135Z"
   },
   {
    "duration": 5,
    "start_time": "2022-04-10T12:24:46.338Z"
   },
   {
    "duration": 9,
    "start_time": "2022-04-10T12:24:46.344Z"
   },
   {
    "duration": 4,
    "start_time": "2022-04-10T12:24:46.354Z"
   },
   {
    "duration": 22,
    "start_time": "2022-04-10T12:24:46.359Z"
   },
   {
    "duration": 4,
    "start_time": "2022-04-10T12:24:46.383Z"
   },
   {
    "duration": 186,
    "start_time": "2022-04-10T12:24:46.388Z"
   },
   {
    "duration": 8,
    "start_time": "2022-04-10T12:24:46.575Z"
   },
   {
    "duration": 4,
    "start_time": "2022-04-10T12:24:46.585Z"
   },
   {
    "duration": 9,
    "start_time": "2022-04-10T12:24:46.591Z"
   },
   {
    "duration": 4,
    "start_time": "2022-04-10T12:24:46.602Z"
   },
   {
    "duration": 195,
    "start_time": "2022-04-10T12:24:46.608Z"
   },
   {
    "duration": 7,
    "start_time": "2022-04-10T12:24:46.805Z"
   },
   {
    "duration": 6,
    "start_time": "2022-04-10T12:24:46.813Z"
   },
   {
    "duration": 10,
    "start_time": "2022-04-10T12:24:46.820Z"
   },
   {
    "duration": 19,
    "start_time": "2022-04-10T12:25:42.588Z"
   },
   {
    "duration": 390,
    "start_time": "2022-04-10T12:25:47.479Z"
   },
   {
    "duration": 60,
    "start_time": "2022-04-10T12:25:47.870Z"
   },
   {
    "duration": 24,
    "start_time": "2022-04-10T12:25:47.931Z"
   },
   {
    "duration": 13,
    "start_time": "2022-04-10T12:25:47.957Z"
   },
   {
    "duration": 16,
    "start_time": "2022-04-10T12:25:47.971Z"
   },
   {
    "duration": 3,
    "start_time": "2022-04-10T12:25:47.989Z"
   },
   {
    "duration": 10,
    "start_time": "2022-04-10T12:25:47.993Z"
   },
   {
    "duration": 8,
    "start_time": "2022-04-10T12:25:48.005Z"
   },
   {
    "duration": 5,
    "start_time": "2022-04-10T12:25:48.014Z"
   },
   {
    "duration": 4,
    "start_time": "2022-04-10T12:25:48.021Z"
   },
   {
    "duration": 4,
    "start_time": "2022-04-10T12:25:48.027Z"
   },
   {
    "duration": 10,
    "start_time": "2022-04-10T12:25:48.033Z"
   },
   {
    "duration": 6,
    "start_time": "2022-04-10T12:25:48.044Z"
   },
   {
    "duration": 30,
    "start_time": "2022-04-10T12:25:48.051Z"
   },
   {
    "duration": 3,
    "start_time": "2022-04-10T12:25:48.083Z"
   },
   {
    "duration": 6,
    "start_time": "2022-04-10T12:25:48.088Z"
   },
   {
    "duration": 5,
    "start_time": "2022-04-10T12:25:48.095Z"
   },
   {
    "duration": 9,
    "start_time": "2022-04-10T12:25:48.101Z"
   },
   {
    "duration": 11,
    "start_time": "2022-04-10T12:25:48.111Z"
   },
   {
    "duration": 6,
    "start_time": "2022-04-10T12:25:48.123Z"
   },
   {
    "duration": 20,
    "start_time": "2022-04-10T12:25:48.131Z"
   },
   {
    "duration": 17,
    "start_time": "2022-04-10T12:25:48.181Z"
   },
   {
    "duration": 7,
    "start_time": "2022-04-10T12:25:48.199Z"
   },
   {
    "duration": 7,
    "start_time": "2022-04-10T12:25:48.208Z"
   },
   {
    "duration": 4,
    "start_time": "2022-04-10T12:25:48.216Z"
   },
   {
    "duration": 7,
    "start_time": "2022-04-10T12:25:48.221Z"
   },
   {
    "duration": 8,
    "start_time": "2022-04-10T12:25:48.229Z"
   },
   {
    "duration": 3,
    "start_time": "2022-04-10T12:25:48.241Z"
   },
   {
    "duration": 36,
    "start_time": "2022-04-10T12:25:48.246Z"
   },
   {
    "duration": 7,
    "start_time": "2022-04-10T12:25:48.283Z"
   },
   {
    "duration": 7,
    "start_time": "2022-04-10T12:25:48.292Z"
   },
   {
    "duration": 3,
    "start_time": "2022-04-10T12:25:48.301Z"
   },
   {
    "duration": 8,
    "start_time": "2022-04-10T12:25:48.306Z"
   },
   {
    "duration": 6,
    "start_time": "2022-04-10T12:25:48.316Z"
   },
   {
    "duration": 16,
    "start_time": "2022-04-10T12:25:48.323Z"
   },
   {
    "duration": 45,
    "start_time": "2022-04-10T12:25:48.341Z"
   },
   {
    "duration": 13,
    "start_time": "2022-04-10T12:25:48.388Z"
   },
   {
    "duration": 4,
    "start_time": "2022-04-10T12:25:48.402Z"
   },
   {
    "duration": 182,
    "start_time": "2022-04-10T12:25:48.408Z"
   },
   {
    "duration": 5,
    "start_time": "2022-04-10T12:25:48.591Z"
   },
   {
    "duration": 7,
    "start_time": "2022-04-10T12:25:48.597Z"
   },
   {
    "duration": 4,
    "start_time": "2022-04-10T12:25:48.606Z"
   },
   {
    "duration": 8,
    "start_time": "2022-04-10T12:25:48.611Z"
   },
   {
    "duration": 4,
    "start_time": "2022-04-10T12:25:48.620Z"
   },
   {
    "duration": 197,
    "start_time": "2022-04-10T12:25:48.626Z"
   },
   {
    "duration": 7,
    "start_time": "2022-04-10T12:25:48.824Z"
   },
   {
    "duration": 13,
    "start_time": "2022-04-10T12:25:48.832Z"
   },
   {
    "duration": 15,
    "start_time": "2022-04-10T12:25:48.846Z"
   },
   {
    "duration": 11,
    "start_time": "2022-04-10T12:25:48.863Z"
   },
   {
    "duration": 9,
    "start_time": "2022-04-10T12:25:48.875Z"
   },
   {
    "duration": 177,
    "start_time": "2022-04-10T12:25:48.886Z"
   },
   {
    "duration": 6,
    "start_time": "2022-04-10T12:25:49.065Z"
   },
   {
    "duration": 3,
    "start_time": "2022-04-10T12:25:49.081Z"
   },
   {
    "duration": 9,
    "start_time": "2022-04-10T12:25:49.085Z"
   },
   {
    "duration": 4,
    "start_time": "2022-04-10T12:25:49.095Z"
   },
   {
    "duration": 317,
    "start_time": "2022-04-10T12:25:49.101Z"
   },
   {
    "duration": 65,
    "start_time": "2022-04-10T12:25:49.420Z"
   },
   {
    "duration": 3,
    "start_time": "2022-04-10T12:25:49.487Z"
   },
   {
    "duration": 12,
    "start_time": "2022-04-10T12:25:49.491Z"
   },
   {
    "duration": 383,
    "start_time": "2022-04-10T12:27:26.033Z"
   },
   {
    "duration": 61,
    "start_time": "2022-04-10T12:27:26.418Z"
   },
   {
    "duration": 26,
    "start_time": "2022-04-10T12:27:26.483Z"
   },
   {
    "duration": 14,
    "start_time": "2022-04-10T12:27:26.511Z"
   },
   {
    "duration": 9,
    "start_time": "2022-04-10T12:27:26.527Z"
   },
   {
    "duration": 4,
    "start_time": "2022-04-10T12:27:26.538Z"
   },
   {
    "duration": 37,
    "start_time": "2022-04-10T12:27:26.544Z"
   },
   {
    "duration": 4,
    "start_time": "2022-04-10T12:27:26.583Z"
   },
   {
    "duration": 4,
    "start_time": "2022-04-10T12:27:26.590Z"
   },
   {
    "duration": 4,
    "start_time": "2022-04-10T12:27:26.596Z"
   },
   {
    "duration": 4,
    "start_time": "2022-04-10T12:27:26.601Z"
   },
   {
    "duration": 11,
    "start_time": "2022-04-10T12:27:26.606Z"
   },
   {
    "duration": 6,
    "start_time": "2022-04-10T12:27:26.618Z"
   },
   {
    "duration": 7,
    "start_time": "2022-04-10T12:27:26.625Z"
   },
   {
    "duration": 5,
    "start_time": "2022-04-10T12:27:26.633Z"
   },
   {
    "duration": 8,
    "start_time": "2022-04-10T12:27:26.639Z"
   },
   {
    "duration": 5,
    "start_time": "2022-04-10T12:27:26.680Z"
   },
   {
    "duration": 12,
    "start_time": "2022-04-10T12:27:26.687Z"
   },
   {
    "duration": 11,
    "start_time": "2022-04-10T12:27:26.701Z"
   },
   {
    "duration": 9,
    "start_time": "2022-04-10T12:27:26.714Z"
   },
   {
    "duration": 23,
    "start_time": "2022-04-10T12:27:26.724Z"
   },
   {
    "duration": 38,
    "start_time": "2022-04-10T12:27:26.749Z"
   },
   {
    "duration": 3,
    "start_time": "2022-04-10T12:27:26.789Z"
   },
   {
    "duration": 8,
    "start_time": "2022-04-10T12:27:26.793Z"
   },
   {
    "duration": 4,
    "start_time": "2022-04-10T12:27:26.802Z"
   },
   {
    "duration": 7,
    "start_time": "2022-04-10T12:27:26.807Z"
   },
   {
    "duration": 6,
    "start_time": "2022-04-10T12:27:26.817Z"
   },
   {
    "duration": 4,
    "start_time": "2022-04-10T12:27:26.824Z"
   },
   {
    "duration": 12,
    "start_time": "2022-04-10T12:27:26.829Z"
   },
   {
    "duration": 6,
    "start_time": "2022-04-10T12:27:26.842Z"
   },
   {
    "duration": 36,
    "start_time": "2022-04-10T12:27:26.850Z"
   },
   {
    "duration": 6,
    "start_time": "2022-04-10T12:27:26.887Z"
   },
   {
    "duration": 11,
    "start_time": "2022-04-10T12:27:26.894Z"
   },
   {
    "duration": 6,
    "start_time": "2022-04-10T12:27:26.907Z"
   },
   {
    "duration": 19,
    "start_time": "2022-04-10T12:27:26.914Z"
   },
   {
    "duration": 47,
    "start_time": "2022-04-10T12:27:26.934Z"
   },
   {
    "duration": 13,
    "start_time": "2022-04-10T12:27:26.982Z"
   },
   {
    "duration": 4,
    "start_time": "2022-04-10T12:27:26.997Z"
   },
   {
    "duration": 193,
    "start_time": "2022-04-10T12:27:27.002Z"
   },
   {
    "duration": 6,
    "start_time": "2022-04-10T12:27:27.196Z"
   },
   {
    "duration": 10,
    "start_time": "2022-04-10T12:27:27.203Z"
   },
   {
    "duration": 5,
    "start_time": "2022-04-10T12:27:27.214Z"
   },
   {
    "duration": 10,
    "start_time": "2022-04-10T12:27:27.221Z"
   },
   {
    "duration": 5,
    "start_time": "2022-04-10T12:27:27.232Z"
   },
   {
    "duration": 199,
    "start_time": "2022-04-10T12:27:27.239Z"
   },
   {
    "duration": 6,
    "start_time": "2022-04-10T12:27:27.439Z"
   },
   {
    "duration": 10,
    "start_time": "2022-04-10T12:27:27.446Z"
   },
   {
    "duration": 4,
    "start_time": "2022-04-10T12:27:27.458Z"
   },
   {
    "duration": 21,
    "start_time": "2022-04-10T12:27:27.464Z"
   },
   {
    "duration": 5,
    "start_time": "2022-04-10T12:27:27.486Z"
   },
   {
    "duration": 188,
    "start_time": "2022-04-10T12:27:27.493Z"
   },
   {
    "duration": 8,
    "start_time": "2022-04-10T12:27:27.682Z"
   },
   {
    "duration": 4,
    "start_time": "2022-04-10T12:27:27.692Z"
   },
   {
    "duration": 10,
    "start_time": "2022-04-10T12:27:27.698Z"
   },
   {
    "duration": 6,
    "start_time": "2022-04-10T12:27:27.710Z"
   },
   {
    "duration": 324,
    "start_time": "2022-04-10T12:27:27.718Z"
   },
   {
    "duration": 9,
    "start_time": "2022-04-10T12:27:28.044Z"
   },
   {
    "duration": 4,
    "start_time": "2022-04-10T12:27:28.055Z"
   },
   {
    "duration": 24,
    "start_time": "2022-04-10T12:27:28.061Z"
   },
   {
    "duration": 20,
    "start_time": "2022-04-10T12:28:19.166Z"
   },
   {
    "duration": 401,
    "start_time": "2022-04-10T12:28:25.154Z"
   },
   {
    "duration": 61,
    "start_time": "2022-04-10T12:28:25.557Z"
   },
   {
    "duration": 24,
    "start_time": "2022-04-10T12:28:25.619Z"
   },
   {
    "duration": 13,
    "start_time": "2022-04-10T12:28:25.644Z"
   },
   {
    "duration": 8,
    "start_time": "2022-04-10T12:28:25.659Z"
   },
   {
    "duration": 15,
    "start_time": "2022-04-10T12:28:25.668Z"
   },
   {
    "duration": 10,
    "start_time": "2022-04-10T12:28:25.684Z"
   },
   {
    "duration": 8,
    "start_time": "2022-04-10T12:28:25.695Z"
   },
   {
    "duration": 5,
    "start_time": "2022-04-10T12:28:25.704Z"
   },
   {
    "duration": 6,
    "start_time": "2022-04-10T12:28:25.712Z"
   },
   {
    "duration": 6,
    "start_time": "2022-04-10T12:28:25.719Z"
   },
   {
    "duration": 10,
    "start_time": "2022-04-10T12:28:25.726Z"
   },
   {
    "duration": 3,
    "start_time": "2022-04-10T12:28:25.738Z"
   },
   {
    "duration": 5,
    "start_time": "2022-04-10T12:28:25.743Z"
   },
   {
    "duration": 4,
    "start_time": "2022-04-10T12:28:25.750Z"
   },
   {
    "duration": 6,
    "start_time": "2022-04-10T12:28:25.781Z"
   },
   {
    "duration": 4,
    "start_time": "2022-04-10T12:28:25.789Z"
   },
   {
    "duration": 10,
    "start_time": "2022-04-10T12:28:25.794Z"
   },
   {
    "duration": 9,
    "start_time": "2022-04-10T12:28:25.806Z"
   },
   {
    "duration": 7,
    "start_time": "2022-04-10T12:28:25.816Z"
   },
   {
    "duration": 22,
    "start_time": "2022-04-10T12:28:25.825Z"
   },
   {
    "duration": 45,
    "start_time": "2022-04-10T12:28:25.848Z"
   },
   {
    "duration": 3,
    "start_time": "2022-04-10T12:28:25.894Z"
   },
   {
    "duration": 6,
    "start_time": "2022-04-10T12:28:25.899Z"
   },
   {
    "duration": 3,
    "start_time": "2022-04-10T12:28:25.907Z"
   },
   {
    "duration": 8,
    "start_time": "2022-04-10T12:28:25.912Z"
   },
   {
    "duration": 6,
    "start_time": "2022-04-10T12:28:25.921Z"
   },
   {
    "duration": 3,
    "start_time": "2022-04-10T12:28:25.932Z"
   },
   {
    "duration": 16,
    "start_time": "2022-04-10T12:28:25.936Z"
   },
   {
    "duration": 8,
    "start_time": "2022-04-10T12:28:25.980Z"
   },
   {
    "duration": 9,
    "start_time": "2022-04-10T12:28:25.989Z"
   },
   {
    "duration": 3,
    "start_time": "2022-04-10T12:28:26.000Z"
   },
   {
    "duration": 10,
    "start_time": "2022-04-10T12:28:26.005Z"
   },
   {
    "duration": 6,
    "start_time": "2022-04-10T12:28:26.016Z"
   },
   {
    "duration": 18,
    "start_time": "2022-04-10T12:28:26.023Z"
   },
   {
    "duration": 48,
    "start_time": "2022-04-10T12:28:26.042Z"
   },
   {
    "duration": 13,
    "start_time": "2022-04-10T12:28:26.092Z"
   },
   {
    "duration": 4,
    "start_time": "2022-04-10T12:28:26.107Z"
   },
   {
    "duration": 189,
    "start_time": "2022-04-10T12:28:26.113Z"
   },
   {
    "duration": 4,
    "start_time": "2022-04-10T12:28:26.304Z"
   },
   {
    "duration": 8,
    "start_time": "2022-04-10T12:28:26.310Z"
   },
   {
    "duration": 5,
    "start_time": "2022-04-10T12:28:26.319Z"
   },
   {
    "duration": 8,
    "start_time": "2022-04-10T12:28:26.325Z"
   },
   {
    "duration": 5,
    "start_time": "2022-04-10T12:28:26.335Z"
   },
   {
    "duration": 198,
    "start_time": "2022-04-10T12:28:26.341Z"
   },
   {
    "duration": 6,
    "start_time": "2022-04-10T12:28:26.540Z"
   },
   {
    "duration": 7,
    "start_time": "2022-04-10T12:28:26.548Z"
   },
   {
    "duration": 3,
    "start_time": "2022-04-10T12:28:26.557Z"
   },
   {
    "duration": 26,
    "start_time": "2022-04-10T12:28:26.562Z"
   },
   {
    "duration": 4,
    "start_time": "2022-04-10T12:28:26.590Z"
   },
   {
    "duration": 186,
    "start_time": "2022-04-10T12:28:26.595Z"
   },
   {
    "duration": 6,
    "start_time": "2022-04-10T12:28:26.782Z"
   },
   {
    "duration": 4,
    "start_time": "2022-04-10T12:28:26.790Z"
   },
   {
    "duration": 9,
    "start_time": "2022-04-10T12:28:26.795Z"
   },
   {
    "duration": 4,
    "start_time": "2022-04-10T12:28:26.805Z"
   },
   {
    "duration": 205,
    "start_time": "2022-04-10T12:28:26.811Z"
   },
   {
    "duration": 7,
    "start_time": "2022-04-10T12:28:27.017Z"
   },
   {
    "duration": 5,
    "start_time": "2022-04-10T12:28:27.025Z"
   },
   {
    "duration": 9,
    "start_time": "2022-04-10T12:28:27.032Z"
   },
   {
    "duration": 3,
    "start_time": "2022-04-10T12:28:46.732Z"
   },
   {
    "duration": 421,
    "start_time": "2022-04-10T12:28:53.145Z"
   },
   {
    "duration": 60,
    "start_time": "2022-04-10T12:28:53.568Z"
   },
   {
    "duration": 25,
    "start_time": "2022-04-10T12:28:53.629Z"
   },
   {
    "duration": 26,
    "start_time": "2022-04-10T12:28:53.656Z"
   },
   {
    "duration": 10,
    "start_time": "2022-04-10T12:28:53.684Z"
   },
   {
    "duration": 4,
    "start_time": "2022-04-10T12:28:53.696Z"
   },
   {
    "duration": 9,
    "start_time": "2022-04-10T12:28:53.701Z"
   },
   {
    "duration": 4,
    "start_time": "2022-04-10T12:28:53.712Z"
   },
   {
    "duration": 4,
    "start_time": "2022-04-10T12:28:53.717Z"
   },
   {
    "duration": 5,
    "start_time": "2022-04-10T12:28:53.723Z"
   },
   {
    "duration": 4,
    "start_time": "2022-04-10T12:28:53.729Z"
   },
   {
    "duration": 12,
    "start_time": "2022-04-10T12:28:53.734Z"
   },
   {
    "duration": 4,
    "start_time": "2022-04-10T12:28:53.781Z"
   },
   {
    "duration": 6,
    "start_time": "2022-04-10T12:28:53.786Z"
   },
   {
    "duration": 4,
    "start_time": "2022-04-10T12:28:53.794Z"
   },
   {
    "duration": 7,
    "start_time": "2022-04-10T12:28:53.799Z"
   },
   {
    "duration": 4,
    "start_time": "2022-04-10T12:28:53.807Z"
   },
   {
    "duration": 6,
    "start_time": "2022-04-10T12:28:53.812Z"
   },
   {
    "duration": 9,
    "start_time": "2022-04-10T12:28:53.819Z"
   },
   {
    "duration": 6,
    "start_time": "2022-04-10T12:28:53.829Z"
   },
   {
    "duration": 6,
    "start_time": "2022-04-10T12:28:53.836Z"
   },
   {
    "duration": 50,
    "start_time": "2022-04-10T12:28:53.843Z"
   },
   {
    "duration": 3,
    "start_time": "2022-04-10T12:28:53.895Z"
   },
   {
    "duration": 5,
    "start_time": "2022-04-10T12:28:53.899Z"
   },
   {
    "duration": 7,
    "start_time": "2022-04-10T12:28:53.906Z"
   },
   {
    "duration": 6,
    "start_time": "2022-04-10T12:28:53.914Z"
   },
   {
    "duration": 5,
    "start_time": "2022-04-10T12:28:53.921Z"
   },
   {
    "duration": 3,
    "start_time": "2022-04-10T12:28:53.929Z"
   },
   {
    "duration": 12,
    "start_time": "2022-04-10T12:28:53.934Z"
   },
   {
    "duration": 34,
    "start_time": "2022-04-10T12:28:53.947Z"
   },
   {
    "duration": 8,
    "start_time": "2022-04-10T12:28:53.982Z"
   },
   {
    "duration": 4,
    "start_time": "2022-04-10T12:28:53.992Z"
   },
   {
    "duration": 10,
    "start_time": "2022-04-10T12:28:53.997Z"
   },
   {
    "duration": 6,
    "start_time": "2022-04-10T12:28:54.009Z"
   },
   {
    "duration": 17,
    "start_time": "2022-04-10T12:28:54.017Z"
   },
   {
    "duration": 50,
    "start_time": "2022-04-10T12:28:54.036Z"
   },
   {
    "duration": 14,
    "start_time": "2022-04-10T12:28:54.088Z"
   },
   {
    "duration": 4,
    "start_time": "2022-04-10T12:28:54.104Z"
   },
   {
    "duration": 185,
    "start_time": "2022-04-10T12:28:54.110Z"
   },
   {
    "duration": 6,
    "start_time": "2022-04-10T12:28:54.297Z"
   },
   {
    "duration": 8,
    "start_time": "2022-04-10T12:28:54.305Z"
   },
   {
    "duration": 4,
    "start_time": "2022-04-10T12:28:54.314Z"
   },
   {
    "duration": 9,
    "start_time": "2022-04-10T12:28:54.319Z"
   },
   {
    "duration": 5,
    "start_time": "2022-04-10T12:28:54.329Z"
   },
   {
    "duration": 298,
    "start_time": "2022-04-10T12:28:54.336Z"
   },
   {
    "duration": 6,
    "start_time": "2022-04-10T12:28:54.636Z"
   },
   {
    "duration": 8,
    "start_time": "2022-04-10T12:28:54.643Z"
   },
   {
    "duration": 3,
    "start_time": "2022-04-10T12:28:54.653Z"
   },
   {
    "duration": 27,
    "start_time": "2022-04-10T12:28:54.658Z"
   },
   {
    "duration": 5,
    "start_time": "2022-04-10T12:28:54.686Z"
   },
   {
    "duration": 202,
    "start_time": "2022-04-10T12:28:54.693Z"
   },
   {
    "duration": 7,
    "start_time": "2022-04-10T12:28:54.896Z"
   },
   {
    "duration": 5,
    "start_time": "2022-04-10T12:28:54.904Z"
   },
   {
    "duration": 9,
    "start_time": "2022-04-10T12:28:54.910Z"
   },
   {
    "duration": 5,
    "start_time": "2022-04-10T12:28:54.920Z"
   },
   {
    "duration": 318,
    "start_time": "2022-04-10T12:28:54.982Z"
   },
   {
    "duration": 6,
    "start_time": "2022-04-10T12:28:55.302Z"
   },
   {
    "duration": 6,
    "start_time": "2022-04-10T12:28:55.309Z"
   },
   {
    "duration": 13,
    "start_time": "2022-04-10T12:28:55.316Z"
   },
   {
    "duration": 411,
    "start_time": "2022-04-10T12:29:52.292Z"
   },
   {
    "duration": 62,
    "start_time": "2022-04-10T12:29:52.705Z"
   },
   {
    "duration": 31,
    "start_time": "2022-04-10T12:29:52.768Z"
   },
   {
    "duration": 13,
    "start_time": "2022-04-10T12:29:52.801Z"
   },
   {
    "duration": 8,
    "start_time": "2022-04-10T12:29:52.816Z"
   },
   {
    "duration": 4,
    "start_time": "2022-04-10T12:29:52.825Z"
   },
   {
    "duration": 8,
    "start_time": "2022-04-10T12:29:52.830Z"
   },
   {
    "duration": 5,
    "start_time": "2022-04-10T12:29:52.839Z"
   },
   {
    "duration": 6,
    "start_time": "2022-04-10T12:29:52.845Z"
   },
   {
    "duration": 30,
    "start_time": "2022-04-10T12:29:52.854Z"
   },
   {
    "duration": 10,
    "start_time": "2022-04-10T12:29:52.886Z"
   },
   {
    "duration": 11,
    "start_time": "2022-04-10T12:29:52.898Z"
   },
   {
    "duration": 6,
    "start_time": "2022-04-10T12:29:52.911Z"
   },
   {
    "duration": 6,
    "start_time": "2022-04-10T12:29:52.918Z"
   },
   {
    "duration": 3,
    "start_time": "2022-04-10T12:29:52.926Z"
   },
   {
    "duration": 8,
    "start_time": "2022-04-10T12:29:52.931Z"
   },
   {
    "duration": 42,
    "start_time": "2022-04-10T12:29:52.941Z"
   },
   {
    "duration": 15,
    "start_time": "2022-04-10T12:29:52.985Z"
   },
   {
    "duration": 8,
    "start_time": "2022-04-10T12:29:53.002Z"
   },
   {
    "duration": 7,
    "start_time": "2022-04-10T12:29:53.011Z"
   },
   {
    "duration": 7,
    "start_time": "2022-04-10T12:29:53.020Z"
   },
   {
    "duration": 15,
    "start_time": "2022-04-10T12:29:53.029Z"
   },
   {
    "duration": 3,
    "start_time": "2022-04-10T12:29:53.045Z"
   },
   {
    "duration": 5,
    "start_time": "2022-04-10T12:29:53.050Z"
   },
   {
    "duration": 32,
    "start_time": "2022-04-10T12:29:53.057Z"
   },
   {
    "duration": 13,
    "start_time": "2022-04-10T12:29:53.091Z"
   },
   {
    "duration": 5,
    "start_time": "2022-04-10T12:29:53.106Z"
   },
   {
    "duration": 4,
    "start_time": "2022-04-10T12:29:53.115Z"
   },
   {
    "duration": 12,
    "start_time": "2022-04-10T12:29:53.121Z"
   },
   {
    "duration": 7,
    "start_time": "2022-04-10T12:29:53.134Z"
   },
   {
    "duration": 9,
    "start_time": "2022-04-10T12:29:53.142Z"
   },
   {
    "duration": 10,
    "start_time": "2022-04-10T12:29:53.152Z"
   },
   {
    "duration": 9,
    "start_time": "2022-04-10T12:29:53.180Z"
   },
   {
    "duration": 10,
    "start_time": "2022-04-10T12:29:53.190Z"
   },
   {
    "duration": 32,
    "start_time": "2022-04-10T12:29:53.202Z"
   },
   {
    "duration": 18,
    "start_time": "2022-04-10T12:29:53.236Z"
   },
   {
    "duration": 26,
    "start_time": "2022-04-10T12:29:53.255Z"
   },
   {
    "duration": 4,
    "start_time": "2022-04-10T12:29:53.283Z"
   },
   {
    "duration": 184,
    "start_time": "2022-04-10T12:29:53.289Z"
   },
   {
    "duration": 11,
    "start_time": "2022-04-10T12:29:53.474Z"
   },
   {
    "duration": 8,
    "start_time": "2022-04-10T12:29:53.486Z"
   },
   {
    "duration": 4,
    "start_time": "2022-04-10T12:29:53.496Z"
   },
   {
    "duration": 8,
    "start_time": "2022-04-10T12:29:53.502Z"
   },
   {
    "duration": 7,
    "start_time": "2022-04-10T12:29:53.511Z"
   },
   {
    "duration": 308,
    "start_time": "2022-04-10T12:29:53.520Z"
   },
   {
    "duration": 5,
    "start_time": "2022-04-10T12:29:53.830Z"
   },
   {
    "duration": 9,
    "start_time": "2022-04-10T12:29:53.837Z"
   },
   {
    "duration": 4,
    "start_time": "2022-04-10T12:29:53.848Z"
   },
   {
    "duration": 29,
    "start_time": "2022-04-10T12:29:53.854Z"
   },
   {
    "duration": 6,
    "start_time": "2022-04-10T12:29:53.885Z"
   },
   {
    "duration": 196,
    "start_time": "2022-04-10T12:29:53.893Z"
   },
   {
    "duration": 7,
    "start_time": "2022-04-10T12:29:54.090Z"
   },
   {
    "duration": 5,
    "start_time": "2022-04-10T12:29:54.099Z"
   },
   {
    "duration": 9,
    "start_time": "2022-04-10T12:29:54.106Z"
   },
   {
    "duration": 5,
    "start_time": "2022-04-10T12:29:54.116Z"
   },
   {
    "duration": 214,
    "start_time": "2022-04-10T12:29:54.122Z"
   },
   {
    "duration": 6,
    "start_time": "2022-04-10T12:29:54.337Z"
   },
   {
    "duration": 4,
    "start_time": "2022-04-10T12:29:54.345Z"
   },
   {
    "duration": 10,
    "start_time": "2022-04-10T12:29:54.351Z"
   },
   {
    "duration": 384,
    "start_time": "2022-04-10T12:32:07.780Z"
   },
   {
    "duration": 57,
    "start_time": "2022-04-10T12:32:08.166Z"
   },
   {
    "duration": 23,
    "start_time": "2022-04-10T12:32:08.225Z"
   },
   {
    "duration": 14,
    "start_time": "2022-04-10T12:32:08.250Z"
   },
   {
    "duration": 23,
    "start_time": "2022-04-10T12:32:08.265Z"
   },
   {
    "duration": 4,
    "start_time": "2022-04-10T12:32:08.289Z"
   },
   {
    "duration": 9,
    "start_time": "2022-04-10T12:32:08.295Z"
   },
   {
    "duration": 4,
    "start_time": "2022-04-10T12:32:08.306Z"
   },
   {
    "duration": 11,
    "start_time": "2022-04-10T12:32:08.312Z"
   },
   {
    "duration": 7,
    "start_time": "2022-04-10T12:32:08.326Z"
   },
   {
    "duration": 4,
    "start_time": "2022-04-10T12:32:08.334Z"
   },
   {
    "duration": 12,
    "start_time": "2022-04-10T12:32:08.340Z"
   },
   {
    "duration": 29,
    "start_time": "2022-04-10T12:32:08.353Z"
   },
   {
    "duration": 5,
    "start_time": "2022-04-10T12:32:08.383Z"
   },
   {
    "duration": 7,
    "start_time": "2022-04-10T12:32:08.389Z"
   },
   {
    "duration": 8,
    "start_time": "2022-04-10T12:32:08.397Z"
   },
   {
    "duration": 5,
    "start_time": "2022-04-10T12:32:08.406Z"
   },
   {
    "duration": 9,
    "start_time": "2022-04-10T12:32:08.412Z"
   },
   {
    "duration": 8,
    "start_time": "2022-04-10T12:32:08.422Z"
   },
   {
    "duration": 6,
    "start_time": "2022-04-10T12:32:08.432Z"
   },
   {
    "duration": 42,
    "start_time": "2022-04-10T12:32:08.439Z"
   },
   {
    "duration": 14,
    "start_time": "2022-04-10T12:32:08.482Z"
   },
   {
    "duration": 3,
    "start_time": "2022-04-10T12:32:08.497Z"
   },
   {
    "duration": 6,
    "start_time": "2022-04-10T12:32:08.502Z"
   },
   {
    "duration": 9,
    "start_time": "2022-04-10T12:32:08.510Z"
   },
   {
    "duration": 5,
    "start_time": "2022-04-10T12:32:08.522Z"
   },
   {
    "duration": 7,
    "start_time": "2022-04-10T12:32:08.529Z"
   },
   {
    "duration": 8,
    "start_time": "2022-04-10T12:32:08.539Z"
   },
   {
    "duration": 35,
    "start_time": "2022-04-10T12:32:08.548Z"
   },
   {
    "duration": 7,
    "start_time": "2022-04-10T12:32:08.585Z"
   },
   {
    "duration": 9,
    "start_time": "2022-04-10T12:32:08.593Z"
   },
   {
    "duration": 5,
    "start_time": "2022-04-10T12:32:08.603Z"
   },
   {
    "duration": 11,
    "start_time": "2022-04-10T12:32:08.609Z"
   },
   {
    "duration": 10,
    "start_time": "2022-04-10T12:32:08.622Z"
   },
   {
    "duration": 19,
    "start_time": "2022-04-10T12:32:08.634Z"
   },
   {
    "duration": 40,
    "start_time": "2022-04-10T12:32:08.654Z"
   },
   {
    "duration": 15,
    "start_time": "2022-04-10T12:32:08.695Z"
   },
   {
    "duration": 5,
    "start_time": "2022-04-10T12:32:08.712Z"
   },
   {
    "duration": 287,
    "start_time": "2022-04-10T12:32:08.718Z"
   },
   {
    "duration": 6,
    "start_time": "2022-04-10T12:32:09.007Z"
   },
   {
    "duration": 11,
    "start_time": "2022-04-10T12:32:09.015Z"
   },
   {
    "duration": 5,
    "start_time": "2022-04-10T12:32:09.028Z"
   },
   {
    "duration": 10,
    "start_time": "2022-04-10T12:32:09.035Z"
   },
   {
    "duration": 4,
    "start_time": "2022-04-10T12:32:09.047Z"
   },
   {
    "duration": 191,
    "start_time": "2022-04-10T12:32:09.052Z"
   },
   {
    "duration": 5,
    "start_time": "2022-04-10T12:32:09.245Z"
   },
   {
    "duration": 9,
    "start_time": "2022-04-10T12:32:09.252Z"
   },
   {
    "duration": 5,
    "start_time": "2022-04-10T12:32:09.262Z"
   },
   {
    "duration": 7,
    "start_time": "2022-04-10T12:32:09.281Z"
   },
   {
    "duration": 4,
    "start_time": "2022-04-10T12:32:09.290Z"
   },
   {
    "duration": 200,
    "start_time": "2022-04-10T12:32:09.296Z"
   },
   {
    "duration": 6,
    "start_time": "2022-04-10T12:32:09.498Z"
   },
   {
    "duration": 7,
    "start_time": "2022-04-10T12:32:09.506Z"
   },
   {
    "duration": 10,
    "start_time": "2022-04-10T12:32:09.514Z"
   },
   {
    "duration": 4,
    "start_time": "2022-04-10T12:32:09.526Z"
   },
   {
    "duration": 203,
    "start_time": "2022-04-10T12:32:09.532Z"
   },
   {
    "duration": 7,
    "start_time": "2022-04-10T12:32:09.736Z"
   },
   {
    "duration": 5,
    "start_time": "2022-04-10T12:32:09.744Z"
   },
   {
    "duration": 9,
    "start_time": "2022-04-10T12:32:09.750Z"
   },
   {
    "duration": 523,
    "start_time": "2022-04-10T12:34:52.268Z"
   },
   {
    "duration": 59,
    "start_time": "2022-04-10T12:34:52.793Z"
   },
   {
    "duration": 25,
    "start_time": "2022-04-10T12:34:52.853Z"
   },
   {
    "duration": 13,
    "start_time": "2022-04-10T12:34:52.881Z"
   },
   {
    "duration": 8,
    "start_time": "2022-04-10T12:34:52.896Z"
   },
   {
    "duration": 4,
    "start_time": "2022-04-10T12:34:52.906Z"
   },
   {
    "duration": 9,
    "start_time": "2022-04-10T12:34:52.911Z"
   },
   {
    "duration": 5,
    "start_time": "2022-04-10T12:34:52.921Z"
   },
   {
    "duration": 5,
    "start_time": "2022-04-10T12:34:52.927Z"
   },
   {
    "duration": 6,
    "start_time": "2022-04-10T12:34:52.934Z"
   },
   {
    "duration": 6,
    "start_time": "2022-04-10T12:34:52.942Z"
   },
   {
    "duration": 35,
    "start_time": "2022-04-10T12:34:52.950Z"
   },
   {
    "duration": 6,
    "start_time": "2022-04-10T12:34:52.986Z"
   },
   {
    "duration": 7,
    "start_time": "2022-04-10T12:34:52.993Z"
   },
   {
    "duration": 5,
    "start_time": "2022-04-10T12:34:53.001Z"
   },
   {
    "duration": 7,
    "start_time": "2022-04-10T12:34:53.007Z"
   },
   {
    "duration": 7,
    "start_time": "2022-04-10T12:34:53.016Z"
   },
   {
    "duration": 6,
    "start_time": "2022-04-10T12:34:53.024Z"
   },
   {
    "duration": 8,
    "start_time": "2022-04-10T12:34:53.031Z"
   },
   {
    "duration": 6,
    "start_time": "2022-04-10T12:34:53.040Z"
   },
   {
    "duration": 34,
    "start_time": "2022-04-10T12:34:53.047Z"
   },
   {
    "duration": 18,
    "start_time": "2022-04-10T12:34:53.082Z"
   },
   {
    "duration": 3,
    "start_time": "2022-04-10T12:34:53.101Z"
   },
   {
    "duration": 5,
    "start_time": "2022-04-10T12:34:53.105Z"
   },
   {
    "duration": 5,
    "start_time": "2022-04-10T12:34:53.111Z"
   },
   {
    "duration": 8,
    "start_time": "2022-04-10T12:34:53.117Z"
   },
   {
    "duration": 8,
    "start_time": "2022-04-10T12:34:53.126Z"
   },
   {
    "duration": 3,
    "start_time": "2022-04-10T12:34:53.137Z"
   },
   {
    "duration": 15,
    "start_time": "2022-04-10T12:34:53.141Z"
   },
   {
    "duration": 25,
    "start_time": "2022-04-10T12:34:53.157Z"
   },
   {
    "duration": 10,
    "start_time": "2022-04-10T12:34:53.184Z"
   },
   {
    "duration": 4,
    "start_time": "2022-04-10T12:34:53.196Z"
   },
   {
    "duration": 10,
    "start_time": "2022-04-10T12:34:53.201Z"
   },
   {
    "duration": 9,
    "start_time": "2022-04-10T12:34:53.213Z"
   },
   {
    "duration": 28,
    "start_time": "2022-04-10T12:34:53.224Z"
   },
   {
    "duration": 30,
    "start_time": "2022-04-10T12:34:53.253Z"
   },
   {
    "duration": 14,
    "start_time": "2022-04-10T12:34:53.285Z"
   },
   {
    "duration": 5,
    "start_time": "2022-04-10T12:34:53.300Z"
   },
   {
    "duration": 187,
    "start_time": "2022-04-10T12:34:53.307Z"
   },
   {
    "duration": 5,
    "start_time": "2022-04-10T12:34:53.495Z"
   },
   {
    "duration": 9,
    "start_time": "2022-04-10T12:34:53.502Z"
   },
   {
    "duration": 5,
    "start_time": "2022-04-10T12:34:53.512Z"
   },
   {
    "duration": 8,
    "start_time": "2022-04-10T12:34:53.518Z"
   },
   {
    "duration": 8,
    "start_time": "2022-04-10T12:34:53.527Z"
   },
   {
    "duration": 194,
    "start_time": "2022-04-10T12:34:53.536Z"
   },
   {
    "duration": 5,
    "start_time": "2022-04-10T12:34:53.732Z"
   },
   {
    "duration": 16,
    "start_time": "2022-04-10T12:34:53.738Z"
   },
   {
    "duration": 11,
    "start_time": "2022-04-10T12:34:53.755Z"
   },
   {
    "duration": 13,
    "start_time": "2022-04-10T12:34:53.767Z"
   },
   {
    "duration": 4,
    "start_time": "2022-04-10T12:34:53.782Z"
   },
   {
    "duration": 184,
    "start_time": "2022-04-10T12:34:53.787Z"
   },
   {
    "duration": 10,
    "start_time": "2022-04-10T12:34:53.973Z"
   },
   {
    "duration": 11,
    "start_time": "2022-04-10T12:34:53.985Z"
   },
   {
    "duration": 11,
    "start_time": "2022-04-10T12:34:53.997Z"
   },
   {
    "duration": 6,
    "start_time": "2022-04-10T12:34:54.009Z"
   },
   {
    "duration": 183,
    "start_time": "2022-04-10T12:34:54.017Z"
   },
   {
    "duration": 6,
    "start_time": "2022-04-10T12:34:54.202Z"
   },
   {
    "duration": 16,
    "start_time": "2022-04-10T12:34:54.209Z"
   },
   {
    "duration": 23,
    "start_time": "2022-04-10T12:34:54.226Z"
   },
   {
    "duration": 419,
    "start_time": "2022-04-10T12:36:59.974Z"
   },
   {
    "duration": 59,
    "start_time": "2022-04-10T12:37:00.395Z"
   },
   {
    "duration": 26,
    "start_time": "2022-04-10T12:37:00.455Z"
   },
   {
    "duration": 21,
    "start_time": "2022-04-10T12:37:00.483Z"
   },
   {
    "duration": 10,
    "start_time": "2022-04-10T12:37:00.506Z"
   },
   {
    "duration": 8,
    "start_time": "2022-04-10T12:37:00.517Z"
   },
   {
    "duration": 14,
    "start_time": "2022-04-10T12:37:00.528Z"
   },
   {
    "duration": 12,
    "start_time": "2022-04-10T12:37:00.544Z"
   },
   {
    "duration": 11,
    "start_time": "2022-04-10T12:37:00.557Z"
   },
   {
    "duration": 12,
    "start_time": "2022-04-10T12:37:00.571Z"
   },
   {
    "duration": 13,
    "start_time": "2022-04-10T12:37:00.584Z"
   },
   {
    "duration": 24,
    "start_time": "2022-04-10T12:37:00.599Z"
   },
   {
    "duration": 17,
    "start_time": "2022-04-10T12:37:00.625Z"
   },
   {
    "duration": 17,
    "start_time": "2022-04-10T12:37:00.644Z"
   },
   {
    "duration": 8,
    "start_time": "2022-04-10T12:37:00.663Z"
   },
   {
    "duration": 12,
    "start_time": "2022-04-10T12:37:00.672Z"
   },
   {
    "duration": 7,
    "start_time": "2022-04-10T12:37:00.686Z"
   },
   {
    "duration": 16,
    "start_time": "2022-04-10T12:37:00.695Z"
   },
   {
    "duration": 30,
    "start_time": "2022-04-10T12:37:00.712Z"
   },
   {
    "duration": 13,
    "start_time": "2022-04-10T12:37:00.743Z"
   },
   {
    "duration": 14,
    "start_time": "2022-04-10T12:37:00.757Z"
   },
   {
    "duration": 33,
    "start_time": "2022-04-10T12:37:00.773Z"
   },
   {
    "duration": 4,
    "start_time": "2022-04-10T12:37:00.808Z"
   },
   {
    "duration": 11,
    "start_time": "2022-04-10T12:37:00.813Z"
   },
   {
    "duration": 18,
    "start_time": "2022-04-10T12:37:00.826Z"
   },
   {
    "duration": 66,
    "start_time": "2022-04-10T12:37:00.846Z"
   },
   {
    "duration": 11,
    "start_time": "2022-04-10T12:37:00.914Z"
   },
   {
    "duration": 18,
    "start_time": "2022-04-10T12:37:00.930Z"
   },
   {
    "duration": 27,
    "start_time": "2022-04-10T12:37:00.949Z"
   },
   {
    "duration": 23,
    "start_time": "2022-04-10T12:37:00.978Z"
   },
   {
    "duration": 22,
    "start_time": "2022-04-10T12:37:01.003Z"
   },
   {
    "duration": 7,
    "start_time": "2022-04-10T12:37:01.027Z"
   },
   {
    "duration": 17,
    "start_time": "2022-04-10T12:37:01.036Z"
   },
   {
    "duration": 28,
    "start_time": "2022-04-10T12:37:01.054Z"
   },
   {
    "duration": 40,
    "start_time": "2022-04-10T12:37:01.084Z"
   },
   {
    "duration": 26,
    "start_time": "2022-04-10T12:37:01.125Z"
   },
   {
    "duration": 25,
    "start_time": "2022-04-10T12:37:01.153Z"
   },
   {
    "duration": 11,
    "start_time": "2022-04-10T12:37:01.182Z"
   },
   {
    "duration": 302,
    "start_time": "2022-04-10T12:37:01.195Z"
   },
   {
    "duration": 7,
    "start_time": "2022-04-10T12:37:01.499Z"
   },
   {
    "duration": 22,
    "start_time": "2022-04-10T12:37:01.508Z"
   },
   {
    "duration": 17,
    "start_time": "2022-04-10T12:37:01.532Z"
   },
   {
    "duration": 19,
    "start_time": "2022-04-10T12:37:01.551Z"
   },
   {
    "duration": 11,
    "start_time": "2022-04-10T12:37:01.572Z"
   },
   {
    "duration": 213,
    "start_time": "2022-04-10T12:37:01.585Z"
   },
   {
    "duration": 5,
    "start_time": "2022-04-10T12:37:01.800Z"
   },
   {
    "duration": 9,
    "start_time": "2022-04-10T12:37:01.807Z"
   },
   {
    "duration": 10,
    "start_time": "2022-04-10T12:37:01.818Z"
   },
   {
    "duration": 14,
    "start_time": "2022-04-10T12:37:01.829Z"
   },
   {
    "duration": 5,
    "start_time": "2022-04-10T12:37:01.845Z"
   },
   {
    "duration": 228,
    "start_time": "2022-04-10T12:37:01.851Z"
   },
   {
    "duration": 7,
    "start_time": "2022-04-10T12:37:02.080Z"
   },
   {
    "duration": 7,
    "start_time": "2022-04-10T12:37:02.088Z"
   },
   {
    "duration": 13,
    "start_time": "2022-04-10T12:37:02.097Z"
   },
   {
    "duration": 4,
    "start_time": "2022-04-10T12:37:02.112Z"
   },
   {
    "duration": 217,
    "start_time": "2022-04-10T12:37:02.118Z"
   },
   {
    "duration": 7,
    "start_time": "2022-04-10T12:37:02.336Z"
   },
   {
    "duration": 11,
    "start_time": "2022-04-10T12:37:02.345Z"
   },
   {
    "duration": 35,
    "start_time": "2022-04-10T12:37:02.358Z"
   },
   {
    "duration": 384,
    "start_time": "2022-04-10T12:38:08.579Z"
   },
   {
    "duration": 59,
    "start_time": "2022-04-10T12:38:08.965Z"
   },
   {
    "duration": 24,
    "start_time": "2022-04-10T12:38:09.025Z"
   },
   {
    "duration": 13,
    "start_time": "2022-04-10T12:38:09.051Z"
   },
   {
    "duration": 17,
    "start_time": "2022-04-10T12:38:09.066Z"
   },
   {
    "duration": 3,
    "start_time": "2022-04-10T12:38:09.084Z"
   },
   {
    "duration": 10,
    "start_time": "2022-04-10T12:38:09.088Z"
   },
   {
    "duration": 4,
    "start_time": "2022-04-10T12:38:09.099Z"
   },
   {
    "duration": 3,
    "start_time": "2022-04-10T12:38:09.104Z"
   },
   {
    "duration": 4,
    "start_time": "2022-04-10T12:38:09.110Z"
   },
   {
    "duration": 4,
    "start_time": "2022-04-10T12:38:09.115Z"
   },
   {
    "duration": 10,
    "start_time": "2022-04-10T12:38:09.120Z"
   },
   {
    "duration": 4,
    "start_time": "2022-04-10T12:38:09.132Z"
   },
   {
    "duration": 6,
    "start_time": "2022-04-10T12:38:09.137Z"
   },
   {
    "duration": 37,
    "start_time": "2022-04-10T12:38:09.144Z"
   },
   {
    "duration": 6,
    "start_time": "2022-04-10T12:38:09.183Z"
   },
   {
    "duration": 6,
    "start_time": "2022-04-10T12:38:09.190Z"
   },
   {
    "duration": 5,
    "start_time": "2022-04-10T12:38:09.198Z"
   },
   {
    "duration": 7,
    "start_time": "2022-04-10T12:38:09.205Z"
   },
   {
    "duration": 5,
    "start_time": "2022-04-10T12:38:09.214Z"
   },
   {
    "duration": 5,
    "start_time": "2022-04-10T12:38:09.221Z"
   },
   {
    "duration": 14,
    "start_time": "2022-04-10T12:38:09.227Z"
   },
   {
    "duration": 3,
    "start_time": "2022-04-10T12:38:09.242Z"
   },
   {
    "duration": 6,
    "start_time": "2022-04-10T12:38:09.281Z"
   },
   {
    "duration": 11,
    "start_time": "2022-04-10T12:38:09.288Z"
   },
   {
    "duration": 11,
    "start_time": "2022-04-10T12:38:09.301Z"
   },
   {
    "duration": 7,
    "start_time": "2022-04-10T12:38:09.314Z"
   },
   {
    "duration": 3,
    "start_time": "2022-04-10T12:38:09.325Z"
   },
   {
    "duration": 12,
    "start_time": "2022-04-10T12:38:09.329Z"
   },
   {
    "duration": 9,
    "start_time": "2022-04-10T12:38:09.342Z"
   },
   {
    "duration": 9,
    "start_time": "2022-04-10T12:38:09.352Z"
   },
   {
    "duration": 21,
    "start_time": "2022-04-10T12:38:09.362Z"
   },
   {
    "duration": 11,
    "start_time": "2022-04-10T12:38:09.384Z"
   },
   {
    "duration": 5,
    "start_time": "2022-04-10T12:38:09.396Z"
   },
   {
    "duration": 17,
    "start_time": "2022-04-10T12:38:09.403Z"
   },
   {
    "duration": 17,
    "start_time": "2022-04-10T12:38:09.422Z"
   },
   {
    "duration": 12,
    "start_time": "2022-04-10T12:38:09.441Z"
   },
   {
    "duration": 26,
    "start_time": "2022-04-10T12:38:09.455Z"
   },
   {
    "duration": 175,
    "start_time": "2022-04-10T12:38:09.483Z"
   },
   {
    "duration": 5,
    "start_time": "2022-04-10T12:38:09.660Z"
   },
   {
    "duration": 18,
    "start_time": "2022-04-10T12:38:09.666Z"
   },
   {
    "duration": 5,
    "start_time": "2022-04-10T12:38:09.685Z"
   },
   {
    "duration": 8,
    "start_time": "2022-04-10T12:38:09.691Z"
   },
   {
    "duration": 5,
    "start_time": "2022-04-10T12:38:09.700Z"
   },
   {
    "duration": 196,
    "start_time": "2022-04-10T12:38:09.706Z"
   },
   {
    "duration": 5,
    "start_time": "2022-04-10T12:38:09.905Z"
   },
   {
    "duration": 9,
    "start_time": "2022-04-10T12:38:09.911Z"
   },
   {
    "duration": 5,
    "start_time": "2022-04-10T12:38:09.921Z"
   },
   {
    "duration": 11,
    "start_time": "2022-04-10T12:38:09.928Z"
   },
   {
    "duration": 4,
    "start_time": "2022-04-10T12:38:09.940Z"
   },
   {
    "duration": 197,
    "start_time": "2022-04-10T12:38:09.946Z"
   },
   {
    "duration": 6,
    "start_time": "2022-04-10T12:38:10.145Z"
   },
   {
    "duration": 8,
    "start_time": "2022-04-10T12:38:10.153Z"
   },
   {
    "duration": 3,
    "start_time": "2022-04-10T12:38:10.162Z"
   },
   {
    "duration": 7,
    "start_time": "2022-04-10T12:38:10.180Z"
   },
   {
    "duration": 4,
    "start_time": "2022-04-10T12:38:10.188Z"
   },
   {
    "duration": 191,
    "start_time": "2022-04-10T12:38:10.193Z"
   },
   {
    "duration": 6,
    "start_time": "2022-04-10T12:38:10.385Z"
   },
   {
    "duration": 4,
    "start_time": "2022-04-10T12:38:10.393Z"
   },
   {
    "duration": 11,
    "start_time": "2022-04-10T12:38:10.398Z"
   },
   {
    "duration": 386,
    "start_time": "2022-04-10T12:38:39.641Z"
   },
   {
    "duration": 62,
    "start_time": "2022-04-10T12:38:40.029Z"
   },
   {
    "duration": 25,
    "start_time": "2022-04-10T12:38:40.092Z"
   },
   {
    "duration": 14,
    "start_time": "2022-04-10T12:38:40.118Z"
   },
   {
    "duration": 9,
    "start_time": "2022-04-10T12:38:40.133Z"
   },
   {
    "duration": 3,
    "start_time": "2022-04-10T12:38:40.143Z"
   },
   {
    "duration": 9,
    "start_time": "2022-04-10T12:38:40.147Z"
   },
   {
    "duration": 25,
    "start_time": "2022-04-10T12:38:40.158Z"
   },
   {
    "duration": 4,
    "start_time": "2022-04-10T12:38:40.185Z"
   },
   {
    "duration": 5,
    "start_time": "2022-04-10T12:38:40.191Z"
   },
   {
    "duration": 5,
    "start_time": "2022-04-10T12:38:40.197Z"
   },
   {
    "duration": 11,
    "start_time": "2022-04-10T12:38:40.203Z"
   },
   {
    "duration": 6,
    "start_time": "2022-04-10T12:38:40.215Z"
   },
   {
    "duration": 6,
    "start_time": "2022-04-10T12:38:40.223Z"
   },
   {
    "duration": 4,
    "start_time": "2022-04-10T12:38:40.230Z"
   },
   {
    "duration": 7,
    "start_time": "2022-04-10T12:38:40.236Z"
   },
   {
    "duration": 38,
    "start_time": "2022-04-10T12:38:40.244Z"
   },
   {
    "duration": 6,
    "start_time": "2022-04-10T12:38:40.283Z"
   },
   {
    "duration": 10,
    "start_time": "2022-04-10T12:38:40.290Z"
   },
   {
    "duration": 6,
    "start_time": "2022-04-10T12:38:40.301Z"
   },
   {
    "duration": 6,
    "start_time": "2022-04-10T12:38:40.309Z"
   },
   {
    "duration": 14,
    "start_time": "2022-04-10T12:38:40.316Z"
   },
   {
    "duration": 3,
    "start_time": "2022-04-10T12:38:40.331Z"
   },
   {
    "duration": 6,
    "start_time": "2022-04-10T12:38:40.335Z"
   },
   {
    "duration": 5,
    "start_time": "2022-04-10T12:38:40.342Z"
   },
   {
    "duration": 36,
    "start_time": "2022-04-10T12:38:40.348Z"
   },
   {
    "duration": 5,
    "start_time": "2022-04-10T12:38:40.385Z"
   },
   {
    "duration": 3,
    "start_time": "2022-04-10T12:38:40.394Z"
   },
   {
    "duration": 15,
    "start_time": "2022-04-10T12:38:40.398Z"
   },
   {
    "duration": 6,
    "start_time": "2022-04-10T12:38:40.414Z"
   },
   {
    "duration": 9,
    "start_time": "2022-04-10T12:38:40.421Z"
   },
   {
    "duration": 5,
    "start_time": "2022-04-10T12:38:40.431Z"
   },
   {
    "duration": 10,
    "start_time": "2022-04-10T12:38:40.438Z"
   },
   {
    "duration": 34,
    "start_time": "2022-04-10T12:38:40.449Z"
   },
   {
    "duration": 22,
    "start_time": "2022-04-10T12:38:40.484Z"
   },
   {
    "duration": 22,
    "start_time": "2022-04-10T12:38:40.507Z"
   },
   {
    "duration": 14,
    "start_time": "2022-04-10T12:38:40.530Z"
   },
   {
    "duration": 4,
    "start_time": "2022-04-10T12:38:40.545Z"
   },
   {
    "duration": 194,
    "start_time": "2022-04-10T12:38:40.551Z"
   },
   {
    "duration": 5,
    "start_time": "2022-04-10T12:38:40.747Z"
   },
   {
    "duration": 8,
    "start_time": "2022-04-10T12:38:40.753Z"
   },
   {
    "duration": 4,
    "start_time": "2022-04-10T12:38:40.763Z"
   },
   {
    "duration": 5,
    "start_time": "2022-04-10T12:38:40.781Z"
   },
   {
    "duration": 5,
    "start_time": "2022-04-10T12:38:40.787Z"
   },
   {
    "duration": 189,
    "start_time": "2022-04-10T12:38:40.794Z"
   },
   {
    "duration": 5,
    "start_time": "2022-04-10T12:38:40.984Z"
   },
   {
    "duration": 7,
    "start_time": "2022-04-10T12:38:40.991Z"
   },
   {
    "duration": 7,
    "start_time": "2022-04-10T12:38:41.000Z"
   },
   {
    "duration": 11,
    "start_time": "2022-04-10T12:38:41.008Z"
   },
   {
    "duration": 4,
    "start_time": "2022-04-10T12:38:41.021Z"
   },
   {
    "duration": 198,
    "start_time": "2022-04-10T12:38:41.026Z"
   },
   {
    "duration": 7,
    "start_time": "2022-04-10T12:38:41.225Z"
   },
   {
    "duration": 8,
    "start_time": "2022-04-10T12:38:41.233Z"
   },
   {
    "duration": 6,
    "start_time": "2022-04-10T12:38:41.242Z"
   },
   {
    "duration": 8,
    "start_time": "2022-04-10T12:38:41.249Z"
   },
   {
    "duration": 23,
    "start_time": "2022-04-10T12:38:41.258Z"
   },
   {
    "duration": 173,
    "start_time": "2022-04-10T12:38:41.282Z"
   },
   {
    "duration": 6,
    "start_time": "2022-04-10T12:38:41.457Z"
   },
   {
    "duration": 3,
    "start_time": "2022-04-10T12:38:41.465Z"
   },
   {
    "duration": 15,
    "start_time": "2022-04-10T12:38:41.470Z"
   },
   {
    "duration": 354,
    "start_time": "2022-04-10T12:39:37.718Z"
   },
   {
    "duration": 58,
    "start_time": "2022-04-10T12:39:38.074Z"
   },
   {
    "duration": 22,
    "start_time": "2022-04-10T12:39:38.134Z"
   },
   {
    "duration": 13,
    "start_time": "2022-04-10T12:39:38.158Z"
   },
   {
    "duration": 10,
    "start_time": "2022-04-10T12:39:38.173Z"
   },
   {
    "duration": 3,
    "start_time": "2022-04-10T12:39:38.185Z"
   },
   {
    "duration": 8,
    "start_time": "2022-04-10T12:39:38.189Z"
   },
   {
    "duration": 5,
    "start_time": "2022-04-10T12:39:38.198Z"
   },
   {
    "duration": 4,
    "start_time": "2022-04-10T12:39:38.204Z"
   },
   {
    "duration": 4,
    "start_time": "2022-04-10T12:39:38.210Z"
   },
   {
    "duration": 4,
    "start_time": "2022-04-10T12:39:38.215Z"
   },
   {
    "duration": 10,
    "start_time": "2022-04-10T12:39:38.220Z"
   },
   {
    "duration": 3,
    "start_time": "2022-04-10T12:39:38.232Z"
   },
   {
    "duration": 7,
    "start_time": "2022-04-10T12:39:38.236Z"
   },
   {
    "duration": 5,
    "start_time": "2022-04-10T12:39:38.281Z"
   },
   {
    "duration": 6,
    "start_time": "2022-04-10T12:39:38.288Z"
   },
   {
    "duration": 4,
    "start_time": "2022-04-10T12:39:38.296Z"
   },
   {
    "duration": 7,
    "start_time": "2022-04-10T12:39:38.301Z"
   },
   {
    "duration": 8,
    "start_time": "2022-04-10T12:39:38.310Z"
   },
   {
    "duration": 7,
    "start_time": "2022-04-10T12:39:38.319Z"
   },
   {
    "duration": 5,
    "start_time": "2022-04-10T12:39:38.328Z"
   },
   {
    "duration": 14,
    "start_time": "2022-04-10T12:39:38.334Z"
   },
   {
    "duration": 4,
    "start_time": "2022-04-10T12:39:38.349Z"
   },
   {
    "duration": 3,
    "start_time": "2022-04-10T12:39:38.381Z"
   },
   {
    "duration": 6,
    "start_time": "2022-04-10T12:39:38.385Z"
   },
   {
    "duration": 10,
    "start_time": "2022-04-10T12:39:38.392Z"
   },
   {
    "duration": 5,
    "start_time": "2022-04-10T12:39:38.403Z"
   },
   {
    "duration": 3,
    "start_time": "2022-04-10T12:39:38.412Z"
   },
   {
    "duration": 11,
    "start_time": "2022-04-10T12:39:38.416Z"
   },
   {
    "duration": 6,
    "start_time": "2022-04-10T12:39:38.428Z"
   },
   {
    "duration": 7,
    "start_time": "2022-04-10T12:39:38.435Z"
   },
   {
    "duration": 4,
    "start_time": "2022-04-10T12:39:38.444Z"
   },
   {
    "duration": 35,
    "start_time": "2022-04-10T12:39:38.449Z"
   },
   {
    "duration": 5,
    "start_time": "2022-04-10T12:39:38.486Z"
   },
   {
    "duration": 16,
    "start_time": "2022-04-10T12:39:38.493Z"
   },
   {
    "duration": 18,
    "start_time": "2022-04-10T12:39:38.510Z"
   },
   {
    "duration": 12,
    "start_time": "2022-04-10T12:39:38.529Z"
   },
   {
    "duration": 5,
    "start_time": "2022-04-10T12:39:38.542Z"
   },
   {
    "duration": 194,
    "start_time": "2022-04-10T12:39:38.548Z"
   },
   {
    "duration": 5,
    "start_time": "2022-04-10T12:39:38.744Z"
   },
   {
    "duration": 11,
    "start_time": "2022-04-10T12:39:38.750Z"
   },
   {
    "duration": 5,
    "start_time": "2022-04-10T12:39:38.763Z"
   },
   {
    "duration": 6,
    "start_time": "2022-04-10T12:39:38.781Z"
   },
   {
    "duration": 5,
    "start_time": "2022-04-10T12:39:38.789Z"
   },
   {
    "duration": 186,
    "start_time": "2022-04-10T12:39:38.795Z"
   },
   {
    "duration": 6,
    "start_time": "2022-04-10T12:39:38.982Z"
   },
   {
    "duration": 8,
    "start_time": "2022-04-10T12:39:38.989Z"
   },
   {
    "duration": 4,
    "start_time": "2022-04-10T12:39:38.999Z"
   },
   {
    "duration": 10,
    "start_time": "2022-04-10T12:39:39.004Z"
   },
   {
    "duration": 5,
    "start_time": "2022-04-10T12:39:39.016Z"
   },
   {
    "duration": 200,
    "start_time": "2022-04-10T12:39:39.023Z"
   },
   {
    "duration": 7,
    "start_time": "2022-04-10T12:39:39.225Z"
   },
   {
    "duration": 7,
    "start_time": "2022-04-10T12:39:39.234Z"
   },
   {
    "duration": 3,
    "start_time": "2022-04-10T12:39:39.243Z"
   },
   {
    "duration": 35,
    "start_time": "2022-04-10T12:39:39.248Z"
   },
   {
    "duration": 5,
    "start_time": "2022-04-10T12:39:39.285Z"
   },
   {
    "duration": 190,
    "start_time": "2022-04-10T12:39:39.291Z"
   },
   {
    "duration": 7,
    "start_time": "2022-04-10T12:39:39.482Z"
   },
   {
    "duration": 10,
    "start_time": "2022-04-10T12:39:39.491Z"
   },
   {
    "duration": 5,
    "start_time": "2022-04-10T12:39:39.503Z"
   },
   {
    "duration": 10,
    "start_time": "2022-04-10T12:39:39.510Z"
   },
   {
    "duration": 412,
    "start_time": "2022-04-10T12:40:28.247Z"
   },
   {
    "duration": 58,
    "start_time": "2022-04-10T12:40:28.661Z"
   },
   {
    "duration": 23,
    "start_time": "2022-04-10T12:40:28.720Z"
   },
   {
    "duration": 14,
    "start_time": "2022-04-10T12:40:28.745Z"
   },
   {
    "duration": 22,
    "start_time": "2022-04-10T12:40:28.760Z"
   },
   {
    "duration": 3,
    "start_time": "2022-04-10T12:40:28.783Z"
   },
   {
    "duration": 8,
    "start_time": "2022-04-10T12:40:28.788Z"
   },
   {
    "duration": 5,
    "start_time": "2022-04-10T12:40:28.798Z"
   },
   {
    "duration": 5,
    "start_time": "2022-04-10T12:40:28.804Z"
   },
   {
    "duration": 5,
    "start_time": "2022-04-10T12:40:28.811Z"
   },
   {
    "duration": 6,
    "start_time": "2022-04-10T12:40:28.818Z"
   },
   {
    "duration": 10,
    "start_time": "2022-04-10T12:40:28.825Z"
   },
   {
    "duration": 5,
    "start_time": "2022-04-10T12:40:28.837Z"
   },
   {
    "duration": 5,
    "start_time": "2022-04-10T12:40:28.843Z"
   },
   {
    "duration": 31,
    "start_time": "2022-04-10T12:40:28.850Z"
   },
   {
    "duration": 8,
    "start_time": "2022-04-10T12:40:28.883Z"
   },
   {
    "duration": 5,
    "start_time": "2022-04-10T12:40:28.892Z"
   },
   {
    "duration": 7,
    "start_time": "2022-04-10T12:40:28.898Z"
   },
   {
    "duration": 8,
    "start_time": "2022-04-10T12:40:28.906Z"
   },
   {
    "duration": 6,
    "start_time": "2022-04-10T12:40:28.915Z"
   },
   {
    "duration": 6,
    "start_time": "2022-04-10T12:40:28.922Z"
   },
   {
    "duration": 12,
    "start_time": "2022-04-10T12:40:28.929Z"
   },
   {
    "duration": 3,
    "start_time": "2022-04-10T12:40:28.943Z"
   },
   {
    "duration": 4,
    "start_time": "2022-04-10T12:40:28.980Z"
   },
   {
    "duration": 4,
    "start_time": "2022-04-10T12:40:28.986Z"
   },
   {
    "duration": 7,
    "start_time": "2022-04-10T12:40:28.991Z"
   },
   {
    "duration": 6,
    "start_time": "2022-04-10T12:40:28.999Z"
   },
   {
    "duration": 3,
    "start_time": "2022-04-10T12:40:29.009Z"
   },
   {
    "duration": 12,
    "start_time": "2022-04-10T12:40:29.013Z"
   },
   {
    "duration": 6,
    "start_time": "2022-04-10T12:40:29.027Z"
   },
   {
    "duration": 8,
    "start_time": "2022-04-10T12:40:29.034Z"
   },
   {
    "duration": 6,
    "start_time": "2022-04-10T12:40:29.043Z"
   },
   {
    "duration": 37,
    "start_time": "2022-04-10T12:40:29.050Z"
   },
   {
    "duration": 10,
    "start_time": "2022-04-10T12:40:29.088Z"
   },
   {
    "duration": 18,
    "start_time": "2022-04-10T12:40:29.099Z"
   },
   {
    "duration": 19,
    "start_time": "2022-04-10T12:40:29.119Z"
   },
   {
    "duration": 15,
    "start_time": "2022-04-10T12:40:29.140Z"
   },
   {
    "duration": 24,
    "start_time": "2022-04-10T12:40:29.157Z"
   },
   {
    "duration": 177,
    "start_time": "2022-04-10T12:40:29.183Z"
   },
   {
    "duration": 5,
    "start_time": "2022-04-10T12:40:29.362Z"
   },
   {
    "duration": 13,
    "start_time": "2022-04-10T12:40:29.368Z"
   },
   {
    "duration": 3,
    "start_time": "2022-04-10T12:40:29.383Z"
   },
   {
    "duration": 8,
    "start_time": "2022-04-10T12:40:29.387Z"
   },
   {
    "duration": 4,
    "start_time": "2022-04-10T12:40:29.396Z"
   },
   {
    "duration": 190,
    "start_time": "2022-04-10T12:40:29.402Z"
   },
   {
    "duration": 5,
    "start_time": "2022-04-10T12:40:29.593Z"
   },
   {
    "duration": 9,
    "start_time": "2022-04-10T12:40:29.600Z"
   },
   {
    "duration": 4,
    "start_time": "2022-04-10T12:40:29.611Z"
   },
   {
    "duration": 10,
    "start_time": "2022-04-10T12:40:29.617Z"
   },
   {
    "duration": 5,
    "start_time": "2022-04-10T12:40:29.628Z"
   },
   {
    "duration": 197,
    "start_time": "2022-04-10T12:40:29.634Z"
   },
   {
    "duration": 6,
    "start_time": "2022-04-10T12:40:29.833Z"
   },
   {
    "duration": 8,
    "start_time": "2022-04-10T12:40:29.840Z"
   },
   {
    "duration": 7,
    "start_time": "2022-04-10T12:40:29.849Z"
   },
   {
    "duration": 10,
    "start_time": "2022-04-10T12:40:29.857Z"
   },
   {
    "duration": 4,
    "start_time": "2022-04-10T12:40:29.880Z"
   },
   {
    "duration": 194,
    "start_time": "2022-04-10T12:40:29.886Z"
   },
   {
    "duration": 6,
    "start_time": "2022-04-10T12:40:30.082Z"
   },
   {
    "duration": 9,
    "start_time": "2022-04-10T12:40:30.089Z"
   },
   {
    "duration": 7,
    "start_time": "2022-04-10T12:40:30.100Z"
   },
   {
    "duration": 10,
    "start_time": "2022-04-10T12:40:30.109Z"
   },
   {
    "duration": 422,
    "start_time": "2022-04-10T12:45:32.039Z"
   },
   {
    "duration": 57,
    "start_time": "2022-04-10T12:45:32.463Z"
   },
   {
    "duration": 24,
    "start_time": "2022-04-10T12:45:32.522Z"
   },
   {
    "duration": 14,
    "start_time": "2022-04-10T12:45:32.547Z"
   },
   {
    "duration": 22,
    "start_time": "2022-04-10T12:45:32.562Z"
   },
   {
    "duration": 4,
    "start_time": "2022-04-10T12:45:32.587Z"
   },
   {
    "duration": 10,
    "start_time": "2022-04-10T12:45:32.593Z"
   },
   {
    "duration": 6,
    "start_time": "2022-04-10T12:45:32.604Z"
   },
   {
    "duration": 5,
    "start_time": "2022-04-10T12:45:32.611Z"
   },
   {
    "duration": 5,
    "start_time": "2022-04-10T12:45:32.618Z"
   },
   {
    "duration": 5,
    "start_time": "2022-04-10T12:45:32.624Z"
   },
   {
    "duration": 11,
    "start_time": "2022-04-10T12:45:32.631Z"
   },
   {
    "duration": 6,
    "start_time": "2022-04-10T12:45:32.643Z"
   },
   {
    "duration": 5,
    "start_time": "2022-04-10T12:45:32.681Z"
   },
   {
    "duration": 5,
    "start_time": "2022-04-10T12:45:32.688Z"
   },
   {
    "duration": 7,
    "start_time": "2022-04-10T12:45:32.694Z"
   },
   {
    "duration": 4,
    "start_time": "2022-04-10T12:45:32.703Z"
   },
   {
    "duration": 9,
    "start_time": "2022-04-10T12:45:32.709Z"
   },
   {
    "duration": 13,
    "start_time": "2022-04-10T12:45:32.720Z"
   },
   {
    "duration": 7,
    "start_time": "2022-04-10T12:45:32.734Z"
   },
   {
    "duration": 6,
    "start_time": "2022-04-10T12:45:32.742Z"
   },
   {
    "duration": 38,
    "start_time": "2022-04-10T12:45:32.749Z"
   },
   {
    "duration": 2,
    "start_time": "2022-04-10T12:45:32.789Z"
   },
   {
    "duration": 6,
    "start_time": "2022-04-10T12:45:32.793Z"
   },
   {
    "duration": 4,
    "start_time": "2022-04-10T12:45:32.800Z"
   },
   {
    "duration": 7,
    "start_time": "2022-04-10T12:45:32.805Z"
   },
   {
    "duration": 7,
    "start_time": "2022-04-10T12:45:32.813Z"
   },
   {
    "duration": 3,
    "start_time": "2022-04-10T12:45:32.824Z"
   },
   {
    "duration": 11,
    "start_time": "2022-04-10T12:45:32.828Z"
   },
   {
    "duration": 8,
    "start_time": "2022-04-10T12:45:32.840Z"
   },
   {
    "duration": 33,
    "start_time": "2022-04-10T12:45:32.849Z"
   },
   {
    "duration": 5,
    "start_time": "2022-04-10T12:45:32.884Z"
   },
   {
    "duration": 15,
    "start_time": "2022-04-10T12:45:32.890Z"
   },
   {
    "duration": 7,
    "start_time": "2022-04-10T12:45:32.907Z"
   },
   {
    "duration": 19,
    "start_time": "2022-04-10T12:45:32.916Z"
   },
   {
    "duration": 18,
    "start_time": "2022-04-10T12:45:32.936Z"
   },
   {
    "duration": 38,
    "start_time": "2022-04-10T12:45:32.955Z"
   },
   {
    "duration": 4,
    "start_time": "2022-04-10T12:45:32.995Z"
   },
   {
    "duration": 181,
    "start_time": "2022-04-10T12:45:33.001Z"
   },
   {
    "duration": 5,
    "start_time": "2022-04-10T12:45:33.184Z"
   },
   {
    "duration": 8,
    "start_time": "2022-04-10T12:45:33.190Z"
   },
   {
    "duration": 4,
    "start_time": "2022-04-10T12:45:33.199Z"
   },
   {
    "duration": 8,
    "start_time": "2022-04-10T12:45:33.204Z"
   },
   {
    "duration": 5,
    "start_time": "2022-04-10T12:45:33.213Z"
   },
   {
    "duration": 199,
    "start_time": "2022-04-10T12:45:33.219Z"
   },
   {
    "duration": 5,
    "start_time": "2022-04-10T12:45:33.420Z"
   },
   {
    "duration": 8,
    "start_time": "2022-04-10T12:45:33.426Z"
   },
   {
    "duration": 6,
    "start_time": "2022-04-10T12:45:33.435Z"
   },
   {
    "duration": 15,
    "start_time": "2022-04-10T12:45:33.442Z"
   },
   {
    "duration": 23,
    "start_time": "2022-04-10T12:45:33.458Z"
   },
   {
    "duration": 185,
    "start_time": "2022-04-10T12:45:33.482Z"
   },
   {
    "duration": 6,
    "start_time": "2022-04-10T12:45:33.669Z"
   },
   {
    "duration": 6,
    "start_time": "2022-04-10T12:45:33.681Z"
   },
   {
    "duration": 4,
    "start_time": "2022-04-10T12:45:33.689Z"
   },
   {
    "duration": 8,
    "start_time": "2022-04-10T12:45:33.694Z"
   },
   {
    "duration": 4,
    "start_time": "2022-04-10T12:45:33.704Z"
   },
   {
    "duration": 197,
    "start_time": "2022-04-10T12:45:33.709Z"
   },
   {
    "duration": 7,
    "start_time": "2022-04-10T12:45:33.908Z"
   },
   {
    "duration": 8,
    "start_time": "2022-04-10T12:45:33.916Z"
   },
   {
    "duration": 4,
    "start_time": "2022-04-10T12:45:33.925Z"
   },
   {
    "duration": 9,
    "start_time": "2022-04-10T12:45:33.931Z"
   },
   {
    "duration": 44,
    "start_time": "2022-04-10T12:45:33.941Z"
   },
   {
    "duration": 215,
    "start_time": "2022-04-10T12:45:33.987Z"
   },
   {
    "duration": 357,
    "start_time": "2022-04-10T12:46:40.823Z"
   },
   {
    "duration": 58,
    "start_time": "2022-04-10T12:46:41.181Z"
   },
   {
    "duration": 24,
    "start_time": "2022-04-10T12:46:41.241Z"
   },
   {
    "duration": 17,
    "start_time": "2022-04-10T12:46:41.266Z"
   },
   {
    "duration": 8,
    "start_time": "2022-04-10T12:46:41.285Z"
   },
   {
    "duration": 5,
    "start_time": "2022-04-10T12:46:41.294Z"
   },
   {
    "duration": 8,
    "start_time": "2022-04-10T12:46:41.301Z"
   },
   {
    "duration": 4,
    "start_time": "2022-04-10T12:46:41.311Z"
   },
   {
    "duration": 4,
    "start_time": "2022-04-10T12:46:41.317Z"
   },
   {
    "duration": 4,
    "start_time": "2022-04-10T12:46:41.323Z"
   },
   {
    "duration": 5,
    "start_time": "2022-04-10T12:46:41.329Z"
   },
   {
    "duration": 10,
    "start_time": "2022-04-10T12:46:41.335Z"
   },
   {
    "duration": 38,
    "start_time": "2022-04-10T12:46:41.346Z"
   },
   {
    "duration": 7,
    "start_time": "2022-04-10T12:46:41.385Z"
   },
   {
    "duration": 4,
    "start_time": "2022-04-10T12:46:41.394Z"
   },
   {
    "duration": 7,
    "start_time": "2022-04-10T12:46:41.400Z"
   },
   {
    "duration": 5,
    "start_time": "2022-04-10T12:46:41.408Z"
   },
   {
    "duration": 8,
    "start_time": "2022-04-10T12:46:41.414Z"
   },
   {
    "duration": 7,
    "start_time": "2022-04-10T12:46:41.423Z"
   },
   {
    "duration": 7,
    "start_time": "2022-04-10T12:46:41.432Z"
   },
   {
    "duration": 4,
    "start_time": "2022-04-10T12:46:41.441Z"
   },
   {
    "duration": 13,
    "start_time": "2022-04-10T12:46:41.481Z"
   },
   {
    "duration": 3,
    "start_time": "2022-04-10T12:46:41.496Z"
   },
   {
    "duration": 5,
    "start_time": "2022-04-10T12:46:41.500Z"
   },
   {
    "duration": 5,
    "start_time": "2022-04-10T12:46:41.506Z"
   },
   {
    "duration": 7,
    "start_time": "2022-04-10T12:46:41.512Z"
   },
   {
    "duration": 5,
    "start_time": "2022-04-10T12:46:41.520Z"
   },
   {
    "duration": 3,
    "start_time": "2022-04-10T12:46:41.529Z"
   },
   {
    "duration": 12,
    "start_time": "2022-04-10T12:46:41.533Z"
   },
   {
    "duration": 36,
    "start_time": "2022-04-10T12:46:41.546Z"
   },
   {
    "duration": 9,
    "start_time": "2022-04-10T12:46:41.583Z"
   },
   {
    "duration": 5,
    "start_time": "2022-04-10T12:46:41.593Z"
   },
   {
    "duration": 9,
    "start_time": "2022-04-10T12:46:41.599Z"
   },
   {
    "duration": 6,
    "start_time": "2022-04-10T12:46:41.610Z"
   },
   {
    "duration": 20,
    "start_time": "2022-04-10T12:46:41.618Z"
   },
   {
    "duration": 43,
    "start_time": "2022-04-10T12:46:41.640Z"
   },
   {
    "duration": 13,
    "start_time": "2022-04-10T12:46:41.684Z"
   },
   {
    "duration": 17,
    "start_time": "2022-04-10T12:46:41.698Z"
   },
   {
    "duration": 183,
    "start_time": "2022-04-10T12:46:41.716Z"
   },
   {
    "duration": 1,
    "start_time": "2022-04-10T12:46:41.900Z"
   },
   {
    "duration": 0,
    "start_time": "2022-04-10T12:46:41.902Z"
   },
   {
    "duration": 0,
    "start_time": "2022-04-10T12:46:41.903Z"
   },
   {
    "duration": 0,
    "start_time": "2022-04-10T12:46:41.904Z"
   },
   {
    "duration": 0,
    "start_time": "2022-04-10T12:46:41.905Z"
   },
   {
    "duration": 0,
    "start_time": "2022-04-10T12:46:41.906Z"
   },
   {
    "duration": 0,
    "start_time": "2022-04-10T12:46:41.907Z"
   },
   {
    "duration": 0,
    "start_time": "2022-04-10T12:46:41.908Z"
   },
   {
    "duration": 0,
    "start_time": "2022-04-10T12:46:41.909Z"
   },
   {
    "duration": 0,
    "start_time": "2022-04-10T12:46:41.910Z"
   },
   {
    "duration": 0,
    "start_time": "2022-04-10T12:46:41.911Z"
   },
   {
    "duration": 0,
    "start_time": "2022-04-10T12:46:41.912Z"
   },
   {
    "duration": 0,
    "start_time": "2022-04-10T12:46:41.913Z"
   },
   {
    "duration": 0,
    "start_time": "2022-04-10T12:46:41.914Z"
   },
   {
    "duration": 0,
    "start_time": "2022-04-10T12:46:41.915Z"
   },
   {
    "duration": 0,
    "start_time": "2022-04-10T12:46:41.916Z"
   },
   {
    "duration": 0,
    "start_time": "2022-04-10T12:46:41.917Z"
   },
   {
    "duration": 0,
    "start_time": "2022-04-10T12:46:41.918Z"
   },
   {
    "duration": 0,
    "start_time": "2022-04-10T12:46:41.919Z"
   },
   {
    "duration": 0,
    "start_time": "2022-04-10T12:46:41.920Z"
   },
   {
    "duration": 0,
    "start_time": "2022-04-10T12:46:41.921Z"
   },
   {
    "duration": 0,
    "start_time": "2022-04-10T12:46:41.922Z"
   },
   {
    "duration": 0,
    "start_time": "2022-04-10T12:46:41.923Z"
   },
   {
    "duration": 0,
    "start_time": "2022-04-10T12:46:41.924Z"
   },
   {
    "duration": 498,
    "start_time": "2022-04-10T12:49:20.960Z"
   },
   {
    "duration": 86,
    "start_time": "2022-04-10T12:49:21.461Z"
   },
   {
    "duration": 38,
    "start_time": "2022-04-10T12:49:21.550Z"
   },
   {
    "duration": 20,
    "start_time": "2022-04-10T12:49:21.591Z"
   },
   {
    "duration": 12,
    "start_time": "2022-04-10T12:49:21.613Z"
   },
   {
    "duration": 6,
    "start_time": "2022-04-10T12:49:21.626Z"
   },
   {
    "duration": 12,
    "start_time": "2022-04-10T12:49:21.633Z"
   },
   {
    "duration": 35,
    "start_time": "2022-04-10T12:49:21.646Z"
   },
   {
    "duration": 3,
    "start_time": "2022-04-10T12:49:21.683Z"
   },
   {
    "duration": 5,
    "start_time": "2022-04-10T12:49:21.688Z"
   },
   {
    "duration": 4,
    "start_time": "2022-04-10T12:49:21.694Z"
   },
   {
    "duration": 10,
    "start_time": "2022-04-10T12:49:21.699Z"
   },
   {
    "duration": 4,
    "start_time": "2022-04-10T12:49:21.711Z"
   },
   {
    "duration": 7,
    "start_time": "2022-04-10T12:49:21.716Z"
   },
   {
    "duration": 3,
    "start_time": "2022-04-10T12:49:21.725Z"
   },
   {
    "duration": 8,
    "start_time": "2022-04-10T12:49:21.729Z"
   },
   {
    "duration": 6,
    "start_time": "2022-04-10T12:49:21.739Z"
   },
   {
    "duration": 36,
    "start_time": "2022-04-10T12:49:21.746Z"
   },
   {
    "duration": 6,
    "start_time": "2022-04-10T12:49:21.784Z"
   },
   {
    "duration": 20,
    "start_time": "2022-04-10T12:49:21.791Z"
   },
   {
    "duration": 5,
    "start_time": "2022-04-10T12:49:21.813Z"
   },
   {
    "duration": 18,
    "start_time": "2022-04-10T12:49:21.820Z"
   },
   {
    "duration": 5,
    "start_time": "2022-04-10T12:49:21.840Z"
   },
   {
    "duration": 6,
    "start_time": "2022-04-10T12:49:21.846Z"
   },
   {
    "duration": 28,
    "start_time": "2022-04-10T12:49:21.853Z"
   },
   {
    "duration": 6,
    "start_time": "2022-04-10T12:49:21.883Z"
   },
   {
    "duration": 6,
    "start_time": "2022-04-10T12:49:21.891Z"
   },
   {
    "duration": 3,
    "start_time": "2022-04-10T12:49:21.902Z"
   },
   {
    "duration": 11,
    "start_time": "2022-04-10T12:49:21.907Z"
   },
   {
    "duration": 8,
    "start_time": "2022-04-10T12:49:21.919Z"
   },
   {
    "duration": 8,
    "start_time": "2022-04-10T12:49:21.929Z"
   },
   {
    "duration": 43,
    "start_time": "2022-04-10T12:49:21.939Z"
   },
   {
    "duration": 10,
    "start_time": "2022-04-10T12:49:21.984Z"
   },
   {
    "duration": 16,
    "start_time": "2022-04-10T12:49:21.995Z"
   },
   {
    "duration": 19,
    "start_time": "2022-04-10T12:49:22.012Z"
   },
   {
    "duration": 18,
    "start_time": "2022-04-10T12:49:22.032Z"
   },
   {
    "duration": 37,
    "start_time": "2022-04-10T12:49:22.051Z"
   },
   {
    "duration": 19,
    "start_time": "2022-04-10T12:49:22.090Z"
   },
   {
    "duration": 72,
    "start_time": "2022-04-10T12:49:22.111Z"
   },
   {
    "duration": 0,
    "start_time": "2022-04-10T12:49:22.185Z"
   },
   {
    "duration": 0,
    "start_time": "2022-04-10T12:49:22.186Z"
   },
   {
    "duration": 0,
    "start_time": "2022-04-10T12:49:22.187Z"
   },
   {
    "duration": 0,
    "start_time": "2022-04-10T12:49:22.188Z"
   },
   {
    "duration": 0,
    "start_time": "2022-04-10T12:49:22.189Z"
   },
   {
    "duration": 0,
    "start_time": "2022-04-10T12:49:22.190Z"
   },
   {
    "duration": 0,
    "start_time": "2022-04-10T12:49:22.191Z"
   },
   {
    "duration": 0,
    "start_time": "2022-04-10T12:49:22.192Z"
   },
   {
    "duration": 0,
    "start_time": "2022-04-10T12:49:22.193Z"
   },
   {
    "duration": 0,
    "start_time": "2022-04-10T12:49:22.194Z"
   },
   {
    "duration": 0,
    "start_time": "2022-04-10T12:49:22.195Z"
   },
   {
    "duration": 0,
    "start_time": "2022-04-10T12:49:22.196Z"
   },
   {
    "duration": 0,
    "start_time": "2022-04-10T12:49:22.197Z"
   },
   {
    "duration": 0,
    "start_time": "2022-04-10T12:49:22.198Z"
   },
   {
    "duration": 0,
    "start_time": "2022-04-10T12:49:22.199Z"
   },
   {
    "duration": 0,
    "start_time": "2022-04-10T12:49:22.200Z"
   },
   {
    "duration": 0,
    "start_time": "2022-04-10T12:49:22.201Z"
   },
   {
    "duration": 0,
    "start_time": "2022-04-10T12:49:22.202Z"
   },
   {
    "duration": 0,
    "start_time": "2022-04-10T12:49:22.203Z"
   },
   {
    "duration": 0,
    "start_time": "2022-04-10T12:49:22.204Z"
   },
   {
    "duration": 0,
    "start_time": "2022-04-10T12:49:22.205Z"
   },
   {
    "duration": 0,
    "start_time": "2022-04-10T12:49:22.206Z"
   },
   {
    "duration": 0,
    "start_time": "2022-04-10T12:49:22.208Z"
   },
   {
    "duration": 0,
    "start_time": "2022-04-10T12:49:22.209Z"
   },
   {
    "duration": 413,
    "start_time": "2022-04-10T12:49:40.161Z"
   },
   {
    "duration": 60,
    "start_time": "2022-04-10T12:49:40.576Z"
   },
   {
    "duration": 23,
    "start_time": "2022-04-10T12:49:40.638Z"
   },
   {
    "duration": 18,
    "start_time": "2022-04-10T12:49:40.663Z"
   },
   {
    "duration": 9,
    "start_time": "2022-04-10T12:49:40.682Z"
   },
   {
    "duration": 3,
    "start_time": "2022-04-10T12:49:40.692Z"
   },
   {
    "duration": 9,
    "start_time": "2022-04-10T12:49:40.696Z"
   },
   {
    "duration": 5,
    "start_time": "2022-04-10T12:49:40.706Z"
   },
   {
    "duration": 4,
    "start_time": "2022-04-10T12:49:40.712Z"
   },
   {
    "duration": 4,
    "start_time": "2022-04-10T12:49:40.720Z"
   },
   {
    "duration": 5,
    "start_time": "2022-04-10T12:49:40.725Z"
   },
   {
    "duration": 11,
    "start_time": "2022-04-10T12:49:40.731Z"
   },
   {
    "duration": 4,
    "start_time": "2022-04-10T12:49:40.743Z"
   },
   {
    "duration": 35,
    "start_time": "2022-04-10T12:49:40.748Z"
   },
   {
    "duration": 5,
    "start_time": "2022-04-10T12:49:40.785Z"
   },
   {
    "duration": 10,
    "start_time": "2022-04-10T12:49:40.791Z"
   },
   {
    "duration": 10,
    "start_time": "2022-04-10T12:49:40.802Z"
   },
   {
    "duration": 5,
    "start_time": "2022-04-10T12:49:40.814Z"
   },
   {
    "duration": 14,
    "start_time": "2022-04-10T12:49:40.821Z"
   },
   {
    "duration": 7,
    "start_time": "2022-04-10T12:49:40.836Z"
   },
   {
    "duration": 6,
    "start_time": "2022-04-10T12:49:40.845Z"
   },
   {
    "duration": 40,
    "start_time": "2022-04-10T12:49:40.853Z"
   },
   {
    "duration": 4,
    "start_time": "2022-04-10T12:49:40.894Z"
   },
   {
    "duration": 5,
    "start_time": "2022-04-10T12:49:40.899Z"
   },
   {
    "duration": 5,
    "start_time": "2022-04-10T12:49:40.905Z"
   },
   {
    "duration": 7,
    "start_time": "2022-04-10T12:49:40.911Z"
   },
   {
    "duration": 6,
    "start_time": "2022-04-10T12:49:40.920Z"
   },
   {
    "duration": 4,
    "start_time": "2022-04-10T12:49:40.929Z"
   },
   {
    "duration": 10,
    "start_time": "2022-04-10T12:49:40.934Z"
   },
   {
    "duration": 36,
    "start_time": "2022-04-10T12:49:40.945Z"
   },
   {
    "duration": 6,
    "start_time": "2022-04-10T12:49:40.983Z"
   },
   {
    "duration": 5,
    "start_time": "2022-04-10T12:49:40.991Z"
   },
   {
    "duration": 10,
    "start_time": "2022-04-10T12:49:40.997Z"
   },
   {
    "duration": 6,
    "start_time": "2022-04-10T12:49:41.008Z"
   },
   {
    "duration": 18,
    "start_time": "2022-04-10T12:49:41.015Z"
   },
   {
    "duration": 17,
    "start_time": "2022-04-10T12:49:41.034Z"
   },
   {
    "duration": 41,
    "start_time": "2022-04-10T12:49:41.052Z"
   },
   {
    "duration": 17,
    "start_time": "2022-04-10T12:49:41.094Z"
   },
   {
    "duration": 13,
    "start_time": "2022-04-10T12:49:41.113Z"
   },
   {
    "duration": 5,
    "start_time": "2022-04-10T12:49:41.128Z"
   },
   {
    "duration": 196,
    "start_time": "2022-04-10T12:49:41.134Z"
   },
   {
    "duration": 6,
    "start_time": "2022-04-10T12:49:41.332Z"
   },
   {
    "duration": 7,
    "start_time": "2022-04-10T12:49:41.340Z"
   },
   {
    "duration": 4,
    "start_time": "2022-04-10T12:49:41.349Z"
   },
   {
    "duration": 30,
    "start_time": "2022-04-10T12:49:41.354Z"
   },
   {
    "duration": 5,
    "start_time": "2022-04-10T12:49:41.385Z"
   },
   {
    "duration": 179,
    "start_time": "2022-04-10T12:49:41.391Z"
   },
   {
    "duration": 9,
    "start_time": "2022-04-10T12:49:41.572Z"
   },
   {
    "duration": 7,
    "start_time": "2022-04-10T12:49:41.582Z"
   },
   {
    "duration": 5,
    "start_time": "2022-04-10T12:49:41.590Z"
   },
   {
    "duration": 14,
    "start_time": "2022-04-10T12:49:41.596Z"
   },
   {
    "duration": 7,
    "start_time": "2022-04-10T12:49:41.611Z"
   },
   {
    "duration": 185,
    "start_time": "2022-04-10T12:49:41.619Z"
   },
   {
    "duration": 6,
    "start_time": "2022-04-10T12:49:41.806Z"
   },
   {
    "duration": 9,
    "start_time": "2022-04-10T12:49:41.814Z"
   },
   {
    "duration": 4,
    "start_time": "2022-04-10T12:49:41.825Z"
   },
   {
    "duration": 9,
    "start_time": "2022-04-10T12:49:41.831Z"
   },
   {
    "duration": 5,
    "start_time": "2022-04-10T12:49:41.841Z"
   },
   {
    "duration": 205,
    "start_time": "2022-04-10T12:49:41.847Z"
   },
   {
    "duration": 8,
    "start_time": "2022-04-10T12:49:42.053Z"
   },
   {
    "duration": 8,
    "start_time": "2022-04-10T12:49:42.062Z"
   },
   {
    "duration": 11,
    "start_time": "2022-04-10T12:49:42.071Z"
   },
   {
    "duration": 10,
    "start_time": "2022-04-10T12:49:42.084Z"
   },
   {
    "duration": 378,
    "start_time": "2022-04-10T12:51:44.903Z"
   },
   {
    "duration": 60,
    "start_time": "2022-04-10T12:51:45.283Z"
   },
   {
    "duration": 23,
    "start_time": "2022-04-10T12:51:45.345Z"
   },
   {
    "duration": 18,
    "start_time": "2022-04-10T12:51:45.370Z"
   },
   {
    "duration": 8,
    "start_time": "2022-04-10T12:51:45.390Z"
   },
   {
    "duration": 4,
    "start_time": "2022-04-10T12:51:45.400Z"
   },
   {
    "duration": 11,
    "start_time": "2022-04-10T12:51:45.405Z"
   },
   {
    "duration": 6,
    "start_time": "2022-04-10T12:51:45.417Z"
   },
   {
    "duration": 4,
    "start_time": "2022-04-10T12:51:45.424Z"
   },
   {
    "duration": 4,
    "start_time": "2022-04-10T12:51:45.430Z"
   },
   {
    "duration": 4,
    "start_time": "2022-04-10T12:51:45.436Z"
   },
   {
    "duration": 10,
    "start_time": "2022-04-10T12:51:45.441Z"
   },
   {
    "duration": 29,
    "start_time": "2022-04-10T12:51:45.452Z"
   },
   {
    "duration": 5,
    "start_time": "2022-04-10T12:51:45.482Z"
   },
   {
    "duration": 5,
    "start_time": "2022-04-10T12:51:45.488Z"
   },
   {
    "duration": 7,
    "start_time": "2022-04-10T12:51:45.495Z"
   },
   {
    "duration": 8,
    "start_time": "2022-04-10T12:51:45.503Z"
   },
   {
    "duration": 6,
    "start_time": "2022-04-10T12:51:45.512Z"
   },
   {
    "duration": 8,
    "start_time": "2022-04-10T12:51:45.520Z"
   },
   {
    "duration": 6,
    "start_time": "2022-04-10T12:51:45.530Z"
   },
   {
    "duration": 6,
    "start_time": "2022-04-10T12:51:45.537Z"
   },
   {
    "duration": 47,
    "start_time": "2022-04-10T12:51:45.545Z"
   },
   {
    "duration": 3,
    "start_time": "2022-04-10T12:51:45.593Z"
   },
   {
    "duration": 5,
    "start_time": "2022-04-10T12:51:45.598Z"
   },
   {
    "duration": 5,
    "start_time": "2022-04-10T12:51:45.604Z"
   },
   {
    "duration": 7,
    "start_time": "2022-04-10T12:51:45.611Z"
   },
   {
    "duration": 5,
    "start_time": "2022-04-10T12:51:45.619Z"
   },
   {
    "duration": 6,
    "start_time": "2022-04-10T12:51:45.628Z"
   },
   {
    "duration": 12,
    "start_time": "2022-04-10T12:51:45.635Z"
   },
   {
    "duration": 7,
    "start_time": "2022-04-10T12:51:45.648Z"
   },
   {
    "duration": 29,
    "start_time": "2022-04-10T12:51:45.656Z"
   },
   {
    "duration": 5,
    "start_time": "2022-04-10T12:51:45.686Z"
   },
   {
    "duration": 9,
    "start_time": "2022-04-10T12:51:45.692Z"
   },
   {
    "duration": 8,
    "start_time": "2022-04-10T12:51:45.702Z"
   },
   {
    "duration": 17,
    "start_time": "2022-04-10T12:51:45.712Z"
   },
   {
    "duration": 16,
    "start_time": "2022-04-10T12:51:45.731Z"
   },
   {
    "duration": 37,
    "start_time": "2022-04-10T12:51:45.748Z"
   },
   {
    "duration": 16,
    "start_time": "2022-04-10T12:51:45.786Z"
   },
   {
    "duration": 11,
    "start_time": "2022-04-10T12:51:45.803Z"
   },
   {
    "duration": 4,
    "start_time": "2022-04-10T12:51:45.816Z"
   },
   {
    "duration": 195,
    "start_time": "2022-04-10T12:51:45.822Z"
   },
   {
    "duration": 5,
    "start_time": "2022-04-10T12:51:46.019Z"
   },
   {
    "duration": 8,
    "start_time": "2022-04-10T12:51:46.026Z"
   },
   {
    "duration": 4,
    "start_time": "2022-04-10T12:51:46.035Z"
   },
   {
    "duration": 9,
    "start_time": "2022-04-10T12:51:46.040Z"
   },
   {
    "duration": 6,
    "start_time": "2022-04-10T12:51:46.051Z"
   },
   {
    "duration": 191,
    "start_time": "2022-04-10T12:51:46.082Z"
   },
   {
    "duration": 10,
    "start_time": "2022-04-10T12:51:46.274Z"
   },
   {
    "duration": 8,
    "start_time": "2022-04-10T12:51:46.285Z"
   },
   {
    "duration": 4,
    "start_time": "2022-04-10T12:51:46.294Z"
   },
   {
    "duration": 11,
    "start_time": "2022-04-10T12:51:46.300Z"
   },
   {
    "duration": 5,
    "start_time": "2022-04-10T12:51:46.312Z"
   },
   {
    "duration": 208,
    "start_time": "2022-04-10T12:51:46.319Z"
   },
   {
    "duration": 7,
    "start_time": "2022-04-10T12:51:46.529Z"
   },
   {
    "duration": 7,
    "start_time": "2022-04-10T12:51:46.538Z"
   },
   {
    "duration": 3,
    "start_time": "2022-04-10T12:51:46.547Z"
   },
   {
    "duration": 31,
    "start_time": "2022-04-10T12:51:46.552Z"
   },
   {
    "duration": 4,
    "start_time": "2022-04-10T12:51:46.585Z"
   },
   {
    "duration": 190,
    "start_time": "2022-04-10T12:51:46.590Z"
   },
   {
    "duration": 7,
    "start_time": "2022-04-10T12:51:46.781Z"
   },
   {
    "duration": 8,
    "start_time": "2022-04-10T12:51:46.789Z"
   },
   {
    "duration": 5,
    "start_time": "2022-04-10T12:51:46.798Z"
   },
   {
    "duration": 12,
    "start_time": "2022-04-10T12:51:46.804Z"
   },
   {
    "duration": 352,
    "start_time": "2022-04-10T12:52:48.229Z"
   },
   {
    "duration": 60,
    "start_time": "2022-04-10T12:52:48.582Z"
   },
   {
    "duration": 23,
    "start_time": "2022-04-10T12:52:48.644Z"
   },
   {
    "duration": 18,
    "start_time": "2022-04-10T12:52:48.669Z"
   },
   {
    "duration": 9,
    "start_time": "2022-04-10T12:52:48.688Z"
   },
   {
    "duration": 3,
    "start_time": "2022-04-10T12:52:48.698Z"
   },
   {
    "duration": 12,
    "start_time": "2022-04-10T12:52:48.703Z"
   },
   {
    "duration": 4,
    "start_time": "2022-04-10T12:52:48.717Z"
   },
   {
    "duration": 3,
    "start_time": "2022-04-10T12:52:48.723Z"
   },
   {
    "duration": 3,
    "start_time": "2022-04-10T12:52:48.729Z"
   },
   {
    "duration": 5,
    "start_time": "2022-04-10T12:52:48.734Z"
   },
   {
    "duration": 11,
    "start_time": "2022-04-10T12:52:48.740Z"
   },
   {
    "duration": 29,
    "start_time": "2022-04-10T12:52:48.752Z"
   },
   {
    "duration": 4,
    "start_time": "2022-04-10T12:52:48.783Z"
   },
   {
    "duration": 7,
    "start_time": "2022-04-10T12:52:48.789Z"
   },
   {
    "duration": 13,
    "start_time": "2022-04-10T12:52:48.797Z"
   },
   {
    "duration": 5,
    "start_time": "2022-04-10T12:52:48.812Z"
   },
   {
    "duration": 12,
    "start_time": "2022-04-10T12:52:48.818Z"
   },
   {
    "duration": 12,
    "start_time": "2022-04-10T12:52:48.831Z"
   },
   {
    "duration": 6,
    "start_time": "2022-04-10T12:52:48.845Z"
   },
   {
    "duration": 11,
    "start_time": "2022-04-10T12:52:48.853Z"
   },
   {
    "duration": 26,
    "start_time": "2022-04-10T12:52:48.865Z"
   },
   {
    "duration": 3,
    "start_time": "2022-04-10T12:52:48.893Z"
   },
   {
    "duration": 6,
    "start_time": "2022-04-10T12:52:48.898Z"
   },
   {
    "duration": 7,
    "start_time": "2022-04-10T12:52:48.906Z"
   },
   {
    "duration": 8,
    "start_time": "2022-04-10T12:52:48.915Z"
   },
   {
    "duration": 6,
    "start_time": "2022-04-10T12:52:48.925Z"
   },
   {
    "duration": 3,
    "start_time": "2022-04-10T12:52:48.936Z"
   },
   {
    "duration": 11,
    "start_time": "2022-04-10T12:52:48.940Z"
   },
   {
    "duration": 32,
    "start_time": "2022-04-10T12:52:48.953Z"
   },
   {
    "duration": 8,
    "start_time": "2022-04-10T12:52:48.987Z"
   },
   {
    "duration": 5,
    "start_time": "2022-04-10T12:52:48.996Z"
   },
   {
    "duration": 9,
    "start_time": "2022-04-10T12:52:49.003Z"
   },
   {
    "duration": 7,
    "start_time": "2022-04-10T12:52:49.013Z"
   },
   {
    "duration": 18,
    "start_time": "2022-04-10T12:52:49.021Z"
   },
   {
    "duration": 51,
    "start_time": "2022-04-10T12:52:49.041Z"
   },
   {
    "duration": 14,
    "start_time": "2022-04-10T12:52:49.094Z"
   },
   {
    "duration": 15,
    "start_time": "2022-04-10T12:52:49.110Z"
   },
   {
    "duration": 88,
    "start_time": "2022-04-10T12:52:49.127Z"
   },
   {
    "duration": 0,
    "start_time": "2022-04-10T12:52:49.216Z"
   },
   {
    "duration": 0,
    "start_time": "2022-04-10T12:52:49.217Z"
   },
   {
    "duration": 0,
    "start_time": "2022-04-10T12:52:49.218Z"
   },
   {
    "duration": 0,
    "start_time": "2022-04-10T12:52:49.219Z"
   },
   {
    "duration": 0,
    "start_time": "2022-04-10T12:52:49.219Z"
   },
   {
    "duration": 0,
    "start_time": "2022-04-10T12:52:49.221Z"
   },
   {
    "duration": 0,
    "start_time": "2022-04-10T12:52:49.221Z"
   },
   {
    "duration": 0,
    "start_time": "2022-04-10T12:52:49.222Z"
   },
   {
    "duration": 0,
    "start_time": "2022-04-10T12:52:49.223Z"
   },
   {
    "duration": 0,
    "start_time": "2022-04-10T12:52:49.224Z"
   },
   {
    "duration": 0,
    "start_time": "2022-04-10T12:52:49.225Z"
   },
   {
    "duration": 0,
    "start_time": "2022-04-10T12:52:49.226Z"
   },
   {
    "duration": 0,
    "start_time": "2022-04-10T12:52:49.226Z"
   },
   {
    "duration": 0,
    "start_time": "2022-04-10T12:52:49.228Z"
   },
   {
    "duration": 0,
    "start_time": "2022-04-10T12:52:49.229Z"
   },
   {
    "duration": 0,
    "start_time": "2022-04-10T12:52:49.230Z"
   },
   {
    "duration": 0,
    "start_time": "2022-04-10T12:52:49.231Z"
   },
   {
    "duration": 0,
    "start_time": "2022-04-10T12:52:49.231Z"
   },
   {
    "duration": 0,
    "start_time": "2022-04-10T12:52:49.232Z"
   },
   {
    "duration": 0,
    "start_time": "2022-04-10T12:52:49.233Z"
   },
   {
    "duration": 1,
    "start_time": "2022-04-10T12:52:49.234Z"
   },
   {
    "duration": 0,
    "start_time": "2022-04-10T12:52:49.236Z"
   },
   {
    "duration": 0,
    "start_time": "2022-04-10T12:52:49.237Z"
   },
   {
    "duration": 0,
    "start_time": "2022-04-10T12:52:49.237Z"
   },
   {
    "duration": 356,
    "start_time": "2022-04-10T12:53:37.726Z"
   },
   {
    "duration": 76,
    "start_time": "2022-04-10T12:53:38.084Z"
   },
   {
    "duration": 24,
    "start_time": "2022-04-10T12:53:38.162Z"
   },
   {
    "duration": 14,
    "start_time": "2022-04-10T12:53:38.188Z"
   },
   {
    "duration": 8,
    "start_time": "2022-04-10T12:53:38.203Z"
   },
   {
    "duration": 3,
    "start_time": "2022-04-10T12:53:38.213Z"
   },
   {
    "duration": 8,
    "start_time": "2022-04-10T12:53:38.217Z"
   },
   {
    "duration": 5,
    "start_time": "2022-04-10T12:53:38.226Z"
   },
   {
    "duration": 4,
    "start_time": "2022-04-10T12:53:38.232Z"
   },
   {
    "duration": 4,
    "start_time": "2022-04-10T12:53:38.239Z"
   },
   {
    "duration": 4,
    "start_time": "2022-04-10T12:53:38.244Z"
   },
   {
    "duration": 11,
    "start_time": "2022-04-10T12:53:38.280Z"
   },
   {
    "duration": 4,
    "start_time": "2022-04-10T12:53:38.292Z"
   },
   {
    "duration": 11,
    "start_time": "2022-04-10T12:53:38.298Z"
   },
   {
    "duration": 6,
    "start_time": "2022-04-10T12:53:38.311Z"
   },
   {
    "duration": 9,
    "start_time": "2022-04-10T12:53:38.319Z"
   },
   {
    "duration": 8,
    "start_time": "2022-04-10T12:53:38.329Z"
   },
   {
    "duration": 8,
    "start_time": "2022-04-10T12:53:38.338Z"
   },
   {
    "duration": 33,
    "start_time": "2022-04-10T12:53:38.348Z"
   },
   {
    "duration": 8,
    "start_time": "2022-04-10T12:53:38.383Z"
   },
   {
    "duration": 7,
    "start_time": "2022-04-10T12:53:38.393Z"
   },
   {
    "duration": 16,
    "start_time": "2022-04-10T12:53:38.401Z"
   },
   {
    "duration": 2,
    "start_time": "2022-04-10T12:53:38.419Z"
   },
   {
    "duration": 10,
    "start_time": "2022-04-10T12:53:38.423Z"
   },
   {
    "duration": 6,
    "start_time": "2022-04-10T12:53:38.435Z"
   },
   {
    "duration": 8,
    "start_time": "2022-04-10T12:53:38.443Z"
   },
   {
    "duration": 6,
    "start_time": "2022-04-10T12:53:38.452Z"
   },
   {
    "duration": 4,
    "start_time": "2022-04-10T12:53:38.485Z"
   },
   {
    "duration": 151,
    "start_time": "2022-04-10T12:53:38.490Z"
   },
   {
    "duration": 12,
    "start_time": "2022-04-10T12:53:38.643Z"
   },
   {
    "duration": 12,
    "start_time": "2022-04-10T12:53:38.656Z"
   },
   {
    "duration": 8,
    "start_time": "2022-04-10T12:53:38.670Z"
   },
   {
    "duration": 12,
    "start_time": "2022-04-10T12:53:38.680Z"
   },
   {
    "duration": 7,
    "start_time": "2022-04-10T12:53:38.693Z"
   },
   {
    "duration": 18,
    "start_time": "2022-04-10T12:53:38.701Z"
   },
   {
    "duration": 18,
    "start_time": "2022-04-10T12:53:38.721Z"
   },
   {
    "duration": 13,
    "start_time": "2022-04-10T12:53:38.741Z"
   },
   {
    "duration": 40,
    "start_time": "2022-04-10T12:53:38.756Z"
   },
   {
    "duration": 37,
    "start_time": "2022-04-10T12:53:38.797Z"
   },
   {
    "duration": 4,
    "start_time": "2022-04-10T12:53:38.836Z"
   },
   {
    "duration": 202,
    "start_time": "2022-04-10T12:53:38.842Z"
   },
   {
    "duration": 5,
    "start_time": "2022-04-10T12:53:39.046Z"
   },
   {
    "duration": 8,
    "start_time": "2022-04-10T12:53:39.053Z"
   },
   {
    "duration": 8,
    "start_time": "2022-04-10T12:53:39.063Z"
   },
   {
    "duration": 7,
    "start_time": "2022-04-10T12:53:39.081Z"
   },
   {
    "duration": 7,
    "start_time": "2022-04-10T12:53:39.089Z"
   },
   {
    "duration": 292,
    "start_time": "2022-04-10T12:53:39.097Z"
   },
   {
    "duration": 6,
    "start_time": "2022-04-10T12:53:39.391Z"
   },
   {
    "duration": 11,
    "start_time": "2022-04-10T12:53:39.399Z"
   },
   {
    "duration": 4,
    "start_time": "2022-04-10T12:53:39.412Z"
   },
   {
    "duration": 10,
    "start_time": "2022-04-10T12:53:39.418Z"
   },
   {
    "duration": 4,
    "start_time": "2022-04-10T12:53:39.430Z"
   },
   {
    "duration": 208,
    "start_time": "2022-04-10T12:53:39.436Z"
   },
   {
    "duration": 7,
    "start_time": "2022-04-10T12:53:39.645Z"
   },
   {
    "duration": 9,
    "start_time": "2022-04-10T12:53:39.654Z"
   },
   {
    "duration": 17,
    "start_time": "2022-04-10T12:53:39.664Z"
   },
   {
    "duration": 10,
    "start_time": "2022-04-10T12:53:39.682Z"
   },
   {
    "duration": 4,
    "start_time": "2022-04-10T12:53:39.694Z"
   },
   {
    "duration": 192,
    "start_time": "2022-04-10T12:53:39.700Z"
   },
   {
    "duration": 7,
    "start_time": "2022-04-10T12:53:39.894Z"
   },
   {
    "duration": 9,
    "start_time": "2022-04-10T12:53:39.902Z"
   },
   {
    "duration": 6,
    "start_time": "2022-04-10T12:53:39.913Z"
   },
   {
    "duration": 11,
    "start_time": "2022-04-10T12:53:39.920Z"
   },
   {
    "duration": 546,
    "start_time": "2022-04-10T12:54:31.275Z"
   },
   {
    "duration": 97,
    "start_time": "2022-04-10T12:54:31.824Z"
   },
   {
    "duration": 38,
    "start_time": "2022-04-10T12:54:31.926Z"
   },
   {
    "duration": 34,
    "start_time": "2022-04-10T12:54:31.965Z"
   },
   {
    "duration": 14,
    "start_time": "2022-04-10T12:54:32.001Z"
   },
   {
    "duration": 4,
    "start_time": "2022-04-10T12:54:32.017Z"
   },
   {
    "duration": 14,
    "start_time": "2022-04-10T12:54:32.022Z"
   },
   {
    "duration": 5,
    "start_time": "2022-04-10T12:54:32.038Z"
   },
   {
    "duration": 7,
    "start_time": "2022-04-10T12:54:32.046Z"
   },
   {
    "duration": 27,
    "start_time": "2022-04-10T12:54:32.054Z"
   },
   {
    "duration": 3,
    "start_time": "2022-04-10T12:54:32.083Z"
   },
   {
    "duration": 15,
    "start_time": "2022-04-10T12:54:32.088Z"
   },
   {
    "duration": 8,
    "start_time": "2022-04-10T12:54:32.105Z"
   },
   {
    "duration": 8,
    "start_time": "2022-04-10T12:54:32.115Z"
   },
   {
    "duration": 4,
    "start_time": "2022-04-10T12:54:32.125Z"
   },
   {
    "duration": 9,
    "start_time": "2022-04-10T12:54:32.131Z"
   },
   {
    "duration": 5,
    "start_time": "2022-04-10T12:54:32.142Z"
   },
   {
    "duration": 8,
    "start_time": "2022-04-10T12:54:32.148Z"
   },
   {
    "duration": 6,
    "start_time": "2022-04-10T12:54:32.181Z"
   },
   {
    "duration": 12,
    "start_time": "2022-04-10T12:54:32.189Z"
   },
   {
    "duration": 7,
    "start_time": "2022-04-10T12:54:32.202Z"
   },
   {
    "duration": 13,
    "start_time": "2022-04-10T12:54:32.210Z"
   },
   {
    "duration": 3,
    "start_time": "2022-04-10T12:54:32.225Z"
   },
   {
    "duration": 7,
    "start_time": "2022-04-10T12:54:32.229Z"
   },
   {
    "duration": 5,
    "start_time": "2022-04-10T12:54:32.237Z"
   },
   {
    "duration": 41,
    "start_time": "2022-04-10T12:54:32.244Z"
   },
   {
    "duration": 6,
    "start_time": "2022-04-10T12:54:32.289Z"
   },
   {
    "duration": 4,
    "start_time": "2022-04-10T12:54:32.297Z"
   },
   {
    "duration": 12,
    "start_time": "2022-04-10T12:54:32.302Z"
   },
   {
    "duration": 7,
    "start_time": "2022-04-10T12:54:32.316Z"
   },
   {
    "duration": 11,
    "start_time": "2022-04-10T12:54:32.324Z"
   },
   {
    "duration": 6,
    "start_time": "2022-04-10T12:54:32.336Z"
   },
   {
    "duration": 37,
    "start_time": "2022-04-10T12:54:32.344Z"
   },
   {
    "duration": 8,
    "start_time": "2022-04-10T12:54:32.383Z"
   },
   {
    "duration": 17,
    "start_time": "2022-04-10T12:54:32.393Z"
   },
   {
    "duration": 17,
    "start_time": "2022-04-10T12:54:32.411Z"
   },
   {
    "duration": 12,
    "start_time": "2022-04-10T12:54:32.430Z"
   },
   {
    "duration": 41,
    "start_time": "2022-04-10T12:54:32.444Z"
   },
   {
    "duration": 31,
    "start_time": "2022-04-10T12:54:32.486Z"
   },
   {
    "duration": 4,
    "start_time": "2022-04-10T12:54:32.519Z"
   },
   {
    "duration": 185,
    "start_time": "2022-04-10T12:54:32.524Z"
   },
   {
    "duration": 6,
    "start_time": "2022-04-10T12:54:32.710Z"
   },
   {
    "duration": 8,
    "start_time": "2022-04-10T12:54:32.717Z"
   },
   {
    "duration": 3,
    "start_time": "2022-04-10T12:54:32.727Z"
   },
   {
    "duration": 11,
    "start_time": "2022-04-10T12:54:32.732Z"
   },
   {
    "duration": 4,
    "start_time": "2022-04-10T12:54:32.745Z"
   },
   {
    "duration": 196,
    "start_time": "2022-04-10T12:54:32.751Z"
   },
   {
    "duration": 5,
    "start_time": "2022-04-10T12:54:32.948Z"
   },
   {
    "duration": 11,
    "start_time": "2022-04-10T12:54:32.955Z"
   },
   {
    "duration": 16,
    "start_time": "2022-04-10T12:54:32.967Z"
   },
   {
    "duration": 19,
    "start_time": "2022-04-10T12:54:32.984Z"
   },
   {
    "duration": 6,
    "start_time": "2022-04-10T12:54:33.005Z"
   },
   {
    "duration": 183,
    "start_time": "2022-04-10T12:54:33.012Z"
   },
   {
    "duration": 8,
    "start_time": "2022-04-10T12:54:33.197Z"
   },
   {
    "duration": 8,
    "start_time": "2022-04-10T12:54:33.207Z"
   },
   {
    "duration": 4,
    "start_time": "2022-04-10T12:54:33.217Z"
   },
   {
    "duration": 10,
    "start_time": "2022-04-10T12:54:33.223Z"
   },
   {
    "duration": 6,
    "start_time": "2022-04-10T12:54:33.234Z"
   },
   {
    "duration": 172,
    "start_time": "2022-04-10T12:54:33.280Z"
   },
   {
    "duration": 6,
    "start_time": "2022-04-10T12:54:33.454Z"
   },
   {
    "duration": 8,
    "start_time": "2022-04-10T12:54:33.461Z"
   },
   {
    "duration": 3,
    "start_time": "2022-04-10T12:54:33.480Z"
   },
   {
    "duration": 21,
    "start_time": "2022-04-10T12:54:33.484Z"
   },
   {
    "duration": 389,
    "start_time": "2022-04-10T12:55:03.571Z"
   },
   {
    "duration": 60,
    "start_time": "2022-04-10T12:55:03.962Z"
   },
   {
    "duration": 23,
    "start_time": "2022-04-10T12:55:04.023Z"
   },
   {
    "duration": 13,
    "start_time": "2022-04-10T12:55:04.047Z"
   },
   {
    "duration": 20,
    "start_time": "2022-04-10T12:55:04.061Z"
   },
   {
    "duration": 3,
    "start_time": "2022-04-10T12:55:04.083Z"
   },
   {
    "duration": 11,
    "start_time": "2022-04-10T12:55:04.087Z"
   },
   {
    "duration": 7,
    "start_time": "2022-04-10T12:55:04.099Z"
   },
   {
    "duration": 5,
    "start_time": "2022-04-10T12:55:04.107Z"
   },
   {
    "duration": 5,
    "start_time": "2022-04-10T12:55:04.114Z"
   },
   {
    "duration": 5,
    "start_time": "2022-04-10T12:55:04.120Z"
   },
   {
    "duration": 12,
    "start_time": "2022-04-10T12:55:04.127Z"
   },
   {
    "duration": 4,
    "start_time": "2022-04-10T12:55:04.140Z"
   },
   {
    "duration": 6,
    "start_time": "2022-04-10T12:55:04.145Z"
   },
   {
    "duration": 29,
    "start_time": "2022-04-10T12:55:04.152Z"
   },
   {
    "duration": 6,
    "start_time": "2022-04-10T12:55:04.183Z"
   },
   {
    "duration": 7,
    "start_time": "2022-04-10T12:55:04.190Z"
   },
   {
    "duration": 7,
    "start_time": "2022-04-10T12:55:04.198Z"
   },
   {
    "duration": 7,
    "start_time": "2022-04-10T12:55:04.206Z"
   },
   {
    "duration": 6,
    "start_time": "2022-04-10T12:55:04.215Z"
   },
   {
    "duration": 6,
    "start_time": "2022-04-10T12:55:04.222Z"
   },
   {
    "duration": 13,
    "start_time": "2022-04-10T12:55:04.229Z"
   },
   {
    "duration": 3,
    "start_time": "2022-04-10T12:55:04.243Z"
   },
   {
    "duration": 34,
    "start_time": "2022-04-10T12:55:04.248Z"
   },
   {
    "duration": 3,
    "start_time": "2022-04-10T12:55:04.284Z"
   },
   {
    "duration": 8,
    "start_time": "2022-04-10T12:55:04.288Z"
   },
   {
    "duration": 6,
    "start_time": "2022-04-10T12:55:04.297Z"
   },
   {
    "duration": 3,
    "start_time": "2022-04-10T12:55:04.307Z"
   },
   {
    "duration": 12,
    "start_time": "2022-04-10T12:55:04.311Z"
   },
   {
    "duration": 6,
    "start_time": "2022-04-10T12:55:04.325Z"
   },
   {
    "duration": 9,
    "start_time": "2022-04-10T12:55:04.332Z"
   },
   {
    "duration": 4,
    "start_time": "2022-04-10T12:55:04.342Z"
   },
   {
    "duration": 38,
    "start_time": "2022-04-10T12:55:04.348Z"
   },
   {
    "duration": 8,
    "start_time": "2022-04-10T12:55:04.388Z"
   },
   {
    "duration": 17,
    "start_time": "2022-04-10T12:55:04.397Z"
   },
   {
    "duration": 19,
    "start_time": "2022-04-10T12:55:04.416Z"
   },
   {
    "duration": 14,
    "start_time": "2022-04-10T12:55:04.436Z"
   },
   {
    "duration": 42,
    "start_time": "2022-04-10T12:55:04.451Z"
   },
   {
    "duration": 192,
    "start_time": "2022-04-10T12:55:04.494Z"
   },
   {
    "duration": 0,
    "start_time": "2022-04-10T12:55:04.687Z"
   },
   {
    "duration": 0,
    "start_time": "2022-04-10T12:55:04.688Z"
   },
   {
    "duration": 0,
    "start_time": "2022-04-10T12:55:04.689Z"
   },
   {
    "duration": 0,
    "start_time": "2022-04-10T12:55:04.690Z"
   },
   {
    "duration": 0,
    "start_time": "2022-04-10T12:55:04.691Z"
   },
   {
    "duration": 0,
    "start_time": "2022-04-10T12:55:04.691Z"
   },
   {
    "duration": 0,
    "start_time": "2022-04-10T12:55:04.692Z"
   },
   {
    "duration": 0,
    "start_time": "2022-04-10T12:55:04.693Z"
   },
   {
    "duration": 0,
    "start_time": "2022-04-10T12:55:04.694Z"
   },
   {
    "duration": 0,
    "start_time": "2022-04-10T12:55:04.695Z"
   },
   {
    "duration": 0,
    "start_time": "2022-04-10T12:55:04.696Z"
   },
   {
    "duration": 0,
    "start_time": "2022-04-10T12:55:04.697Z"
   },
   {
    "duration": 0,
    "start_time": "2022-04-10T12:55:04.697Z"
   },
   {
    "duration": 0,
    "start_time": "2022-04-10T12:55:04.698Z"
   },
   {
    "duration": 0,
    "start_time": "2022-04-10T12:55:04.699Z"
   },
   {
    "duration": 0,
    "start_time": "2022-04-10T12:55:04.700Z"
   },
   {
    "duration": 0,
    "start_time": "2022-04-10T12:55:04.701Z"
   },
   {
    "duration": 0,
    "start_time": "2022-04-10T12:55:04.701Z"
   },
   {
    "duration": 0,
    "start_time": "2022-04-10T12:55:04.702Z"
   },
   {
    "duration": 0,
    "start_time": "2022-04-10T12:55:04.703Z"
   },
   {
    "duration": 0,
    "start_time": "2022-04-10T12:55:04.704Z"
   },
   {
    "duration": 0,
    "start_time": "2022-04-10T12:55:04.705Z"
   },
   {
    "duration": 0,
    "start_time": "2022-04-10T12:55:04.706Z"
   },
   {
    "duration": 0,
    "start_time": "2022-04-10T12:55:04.706Z"
   },
   {
    "duration": 525,
    "start_time": "2022-04-10T12:55:19.346Z"
   },
   {
    "duration": 87,
    "start_time": "2022-04-10T12:55:19.874Z"
   },
   {
    "duration": 38,
    "start_time": "2022-04-10T12:55:19.963Z"
   },
   {
    "duration": 21,
    "start_time": "2022-04-10T12:55:20.004Z"
   },
   {
    "duration": 9,
    "start_time": "2022-04-10T12:55:20.027Z"
   },
   {
    "duration": 5,
    "start_time": "2022-04-10T12:55:20.037Z"
   },
   {
    "duration": 10,
    "start_time": "2022-04-10T12:55:20.044Z"
   },
   {
    "duration": 26,
    "start_time": "2022-04-10T12:55:20.055Z"
   },
   {
    "duration": 6,
    "start_time": "2022-04-10T12:55:20.082Z"
   },
   {
    "duration": 4,
    "start_time": "2022-04-10T12:55:20.090Z"
   },
   {
    "duration": 5,
    "start_time": "2022-04-10T12:55:20.096Z"
   },
   {
    "duration": 10,
    "start_time": "2022-04-10T12:55:20.102Z"
   },
   {
    "duration": 4,
    "start_time": "2022-04-10T12:55:20.114Z"
   },
   {
    "duration": 7,
    "start_time": "2022-04-10T12:55:20.119Z"
   },
   {
    "duration": 5,
    "start_time": "2022-04-10T12:55:20.127Z"
   },
   {
    "duration": 6,
    "start_time": "2022-04-10T12:55:20.133Z"
   },
   {
    "duration": 5,
    "start_time": "2022-04-10T12:55:20.140Z"
   },
   {
    "duration": 39,
    "start_time": "2022-04-10T12:55:20.146Z"
   },
   {
    "duration": 7,
    "start_time": "2022-04-10T12:55:20.186Z"
   },
   {
    "duration": 7,
    "start_time": "2022-04-10T12:55:20.195Z"
   },
   {
    "duration": 6,
    "start_time": "2022-04-10T12:55:20.203Z"
   },
   {
    "duration": 17,
    "start_time": "2022-04-10T12:55:20.210Z"
   },
   {
    "duration": 3,
    "start_time": "2022-04-10T12:55:20.228Z"
   },
   {
    "duration": 5,
    "start_time": "2022-04-10T12:55:20.233Z"
   },
   {
    "duration": 4,
    "start_time": "2022-04-10T12:55:20.239Z"
   },
   {
    "duration": 38,
    "start_time": "2022-04-10T12:55:20.245Z"
   },
   {
    "duration": 5,
    "start_time": "2022-04-10T12:55:20.285Z"
   },
   {
    "duration": 3,
    "start_time": "2022-04-10T12:55:20.293Z"
   },
   {
    "duration": 11,
    "start_time": "2022-04-10T12:55:20.297Z"
   },
   {
    "duration": 6,
    "start_time": "2022-04-10T12:55:20.309Z"
   },
   {
    "duration": 8,
    "start_time": "2022-04-10T12:55:20.317Z"
   },
   {
    "duration": 3,
    "start_time": "2022-04-10T12:55:20.327Z"
   },
   {
    "duration": 11,
    "start_time": "2022-04-10T12:55:20.332Z"
   },
   {
    "duration": 5,
    "start_time": "2022-04-10T12:55:20.345Z"
   },
   {
    "duration": 45,
    "start_time": "2022-04-10T12:55:20.352Z"
   },
   {
    "duration": 18,
    "start_time": "2022-04-10T12:55:20.398Z"
   },
   {
    "duration": 14,
    "start_time": "2022-04-10T12:55:20.417Z"
   },
   {
    "duration": 16,
    "start_time": "2022-04-10T12:55:20.432Z"
   },
   {
    "duration": 91,
    "start_time": "2022-04-10T12:55:20.450Z"
   },
   {
    "duration": 0,
    "start_time": "2022-04-10T12:55:20.543Z"
   },
   {
    "duration": 0,
    "start_time": "2022-04-10T12:55:20.544Z"
   },
   {
    "duration": 0,
    "start_time": "2022-04-10T12:55:20.545Z"
   },
   {
    "duration": 0,
    "start_time": "2022-04-10T12:55:20.545Z"
   },
   {
    "duration": 0,
    "start_time": "2022-04-10T12:55:20.546Z"
   },
   {
    "duration": 0,
    "start_time": "2022-04-10T12:55:20.547Z"
   },
   {
    "duration": 0,
    "start_time": "2022-04-10T12:55:20.548Z"
   },
   {
    "duration": 0,
    "start_time": "2022-04-10T12:55:20.549Z"
   },
   {
    "duration": 0,
    "start_time": "2022-04-10T12:55:20.550Z"
   },
   {
    "duration": 0,
    "start_time": "2022-04-10T12:55:20.551Z"
   },
   {
    "duration": 0,
    "start_time": "2022-04-10T12:55:20.552Z"
   },
   {
    "duration": 0,
    "start_time": "2022-04-10T12:55:20.553Z"
   },
   {
    "duration": 0,
    "start_time": "2022-04-10T12:55:20.554Z"
   },
   {
    "duration": 0,
    "start_time": "2022-04-10T12:55:20.555Z"
   },
   {
    "duration": 0,
    "start_time": "2022-04-10T12:55:20.580Z"
   },
   {
    "duration": 0,
    "start_time": "2022-04-10T12:55:20.581Z"
   },
   {
    "duration": 0,
    "start_time": "2022-04-10T12:55:20.583Z"
   },
   {
    "duration": 0,
    "start_time": "2022-04-10T12:55:20.584Z"
   },
   {
    "duration": 0,
    "start_time": "2022-04-10T12:55:20.584Z"
   },
   {
    "duration": 0,
    "start_time": "2022-04-10T12:55:20.586Z"
   },
   {
    "duration": 0,
    "start_time": "2022-04-10T12:55:20.586Z"
   },
   {
    "duration": 0,
    "start_time": "2022-04-10T12:55:20.587Z"
   },
   {
    "duration": 0,
    "start_time": "2022-04-10T12:55:20.588Z"
   },
   {
    "duration": 0,
    "start_time": "2022-04-10T12:55:20.590Z"
   },
   {
    "duration": 401,
    "start_time": "2022-04-10T12:55:33.772Z"
   },
   {
    "duration": 60,
    "start_time": "2022-04-10T12:55:34.175Z"
   },
   {
    "duration": 26,
    "start_time": "2022-04-10T12:55:34.236Z"
   },
   {
    "duration": 19,
    "start_time": "2022-04-10T12:55:34.265Z"
   },
   {
    "duration": 10,
    "start_time": "2022-04-10T12:55:34.286Z"
   },
   {
    "duration": 4,
    "start_time": "2022-04-10T12:55:34.298Z"
   },
   {
    "duration": 9,
    "start_time": "2022-04-10T12:55:34.303Z"
   },
   {
    "duration": 5,
    "start_time": "2022-04-10T12:55:34.314Z"
   },
   {
    "duration": 6,
    "start_time": "2022-04-10T12:55:34.321Z"
   },
   {
    "duration": 5,
    "start_time": "2022-04-10T12:55:34.330Z"
   },
   {
    "duration": 7,
    "start_time": "2022-04-10T12:55:34.336Z"
   },
   {
    "duration": 39,
    "start_time": "2022-04-10T12:55:34.345Z"
   },
   {
    "duration": 4,
    "start_time": "2022-04-10T12:55:34.385Z"
   },
   {
    "duration": 5,
    "start_time": "2022-04-10T12:55:34.391Z"
   },
   {
    "duration": 6,
    "start_time": "2022-04-10T12:55:34.397Z"
   },
   {
    "duration": 7,
    "start_time": "2022-04-10T12:55:34.405Z"
   },
   {
    "duration": 5,
    "start_time": "2022-04-10T12:55:34.414Z"
   },
   {
    "duration": 8,
    "start_time": "2022-04-10T12:55:34.420Z"
   },
   {
    "duration": 7,
    "start_time": "2022-04-10T12:55:34.430Z"
   },
   {
    "duration": 42,
    "start_time": "2022-04-10T12:55:34.439Z"
   },
   {
    "duration": 5,
    "start_time": "2022-04-10T12:55:34.482Z"
   },
   {
    "duration": 15,
    "start_time": "2022-04-10T12:55:34.488Z"
   },
   {
    "duration": 3,
    "start_time": "2022-04-10T12:55:34.505Z"
   },
   {
    "duration": 5,
    "start_time": "2022-04-10T12:55:34.510Z"
   },
   {
    "duration": 5,
    "start_time": "2022-04-10T12:55:34.517Z"
   },
   {
    "duration": 16,
    "start_time": "2022-04-10T12:55:34.524Z"
   },
   {
    "duration": 8,
    "start_time": "2022-04-10T12:55:34.542Z"
   },
   {
    "duration": 28,
    "start_time": "2022-04-10T12:55:34.555Z"
   },
   {
    "duration": 11,
    "start_time": "2022-04-10T12:55:34.585Z"
   },
   {
    "duration": 6,
    "start_time": "2022-04-10T12:55:34.597Z"
   },
   {
    "duration": 8,
    "start_time": "2022-04-10T12:55:34.604Z"
   },
   {
    "duration": 5,
    "start_time": "2022-04-10T12:55:34.613Z"
   },
   {
    "duration": 11,
    "start_time": "2022-04-10T12:55:34.619Z"
   },
   {
    "duration": 7,
    "start_time": "2022-04-10T12:55:34.632Z"
   },
   {
    "duration": 50,
    "start_time": "2022-04-10T12:55:34.640Z"
   },
   {
    "duration": 19,
    "start_time": "2022-04-10T12:55:34.691Z"
   },
   {
    "duration": 13,
    "start_time": "2022-04-10T12:55:34.711Z"
   },
   {
    "duration": 15,
    "start_time": "2022-04-10T12:55:34.726Z"
   },
   {
    "duration": 47,
    "start_time": "2022-04-10T12:55:34.742Z"
   },
   {
    "duration": 4,
    "start_time": "2022-04-10T12:55:34.790Z"
   },
   {
    "duration": 176,
    "start_time": "2022-04-10T12:55:34.795Z"
   },
   {
    "duration": 9,
    "start_time": "2022-04-10T12:55:34.972Z"
   },
   {
    "duration": 6,
    "start_time": "2022-04-10T12:55:34.983Z"
   },
   {
    "duration": 4,
    "start_time": "2022-04-10T12:55:34.991Z"
   },
   {
    "duration": 10,
    "start_time": "2022-04-10T12:55:34.996Z"
   },
   {
    "duration": 5,
    "start_time": "2022-04-10T12:55:35.008Z"
   },
   {
    "duration": 299,
    "start_time": "2022-04-10T12:55:35.015Z"
   },
   {
    "duration": 6,
    "start_time": "2022-04-10T12:55:35.316Z"
   },
   {
    "duration": 11,
    "start_time": "2022-04-10T12:55:35.323Z"
   },
   {
    "duration": 6,
    "start_time": "2022-04-10T12:55:35.335Z"
   },
   {
    "duration": 14,
    "start_time": "2022-04-10T12:55:35.342Z"
   },
   {
    "duration": 4,
    "start_time": "2022-04-10T12:55:35.358Z"
   },
   {
    "duration": 181,
    "start_time": "2022-04-10T12:55:35.380Z"
   },
   {
    "duration": 7,
    "start_time": "2022-04-10T12:55:35.562Z"
   },
   {
    "duration": 14,
    "start_time": "2022-04-10T12:55:35.571Z"
   },
   {
    "duration": 5,
    "start_time": "2022-04-10T12:55:35.587Z"
   },
   {
    "duration": 9,
    "start_time": "2022-04-10T12:55:35.593Z"
   },
   {
    "duration": 4,
    "start_time": "2022-04-10T12:55:35.603Z"
   },
   {
    "duration": 199,
    "start_time": "2022-04-10T12:55:35.609Z"
   },
   {
    "duration": 7,
    "start_time": "2022-04-10T12:55:35.809Z"
   },
   {
    "duration": 8,
    "start_time": "2022-04-10T12:55:35.818Z"
   },
   {
    "duration": 9,
    "start_time": "2022-04-10T12:55:35.827Z"
   },
   {
    "duration": 15,
    "start_time": "2022-04-10T12:55:35.837Z"
   },
   {
    "duration": 431,
    "start_time": "2022-04-10T12:56:09.719Z"
   },
   {
    "duration": 86,
    "start_time": "2022-04-10T12:56:10.152Z"
   },
   {
    "duration": 42,
    "start_time": "2022-04-10T12:56:10.239Z"
   },
   {
    "duration": 20,
    "start_time": "2022-04-10T12:56:10.283Z"
   },
   {
    "duration": 14,
    "start_time": "2022-04-10T12:56:10.305Z"
   },
   {
    "duration": 3,
    "start_time": "2022-04-10T12:56:10.321Z"
   },
   {
    "duration": 9,
    "start_time": "2022-04-10T12:56:10.326Z"
   },
   {
    "duration": 6,
    "start_time": "2022-04-10T12:56:10.337Z"
   },
   {
    "duration": 3,
    "start_time": "2022-04-10T12:56:10.345Z"
   },
   {
    "duration": 5,
    "start_time": "2022-04-10T12:56:10.380Z"
   },
   {
    "duration": 5,
    "start_time": "2022-04-10T12:56:10.387Z"
   },
   {
    "duration": 14,
    "start_time": "2022-04-10T12:56:10.394Z"
   },
   {
    "duration": 5,
    "start_time": "2022-04-10T12:56:10.409Z"
   },
   {
    "duration": 6,
    "start_time": "2022-04-10T12:56:10.415Z"
   },
   {
    "duration": 4,
    "start_time": "2022-04-10T12:56:10.423Z"
   },
   {
    "duration": 7,
    "start_time": "2022-04-10T12:56:10.428Z"
   },
   {
    "duration": 4,
    "start_time": "2022-04-10T12:56:10.437Z"
   },
   {
    "duration": 41,
    "start_time": "2022-04-10T12:56:10.443Z"
   },
   {
    "duration": 8,
    "start_time": "2022-04-10T12:56:10.486Z"
   },
   {
    "duration": 9,
    "start_time": "2022-04-10T12:56:10.496Z"
   },
   {
    "duration": 8,
    "start_time": "2022-04-10T12:56:10.506Z"
   },
   {
    "duration": 26,
    "start_time": "2022-04-10T12:56:10.516Z"
   },
   {
    "duration": 4,
    "start_time": "2022-04-10T12:56:10.544Z"
   },
   {
    "duration": 32,
    "start_time": "2022-04-10T12:56:10.549Z"
   },
   {
    "duration": 3,
    "start_time": "2022-04-10T12:56:10.583Z"
   },
   {
    "duration": 8,
    "start_time": "2022-04-10T12:56:10.588Z"
   },
   {
    "duration": 6,
    "start_time": "2022-04-10T12:56:10.598Z"
   },
   {
    "duration": 4,
    "start_time": "2022-04-10T12:56:10.609Z"
   },
   {
    "duration": 18,
    "start_time": "2022-04-10T12:56:10.615Z"
   },
   {
    "duration": 10,
    "start_time": "2022-04-10T12:56:10.634Z"
   },
   {
    "duration": 39,
    "start_time": "2022-04-10T12:56:10.645Z"
   },
   {
    "duration": 6,
    "start_time": "2022-04-10T12:56:10.686Z"
   },
   {
    "duration": 16,
    "start_time": "2022-04-10T12:56:10.693Z"
   },
   {
    "duration": 9,
    "start_time": "2022-04-10T12:56:10.711Z"
   },
   {
    "duration": 18,
    "start_time": "2022-04-10T12:56:10.722Z"
   },
   {
    "duration": 40,
    "start_time": "2022-04-10T12:56:10.741Z"
   },
   {
    "duration": 14,
    "start_time": "2022-04-10T12:56:10.783Z"
   },
   {
    "duration": 18,
    "start_time": "2022-04-10T12:56:10.799Z"
   },
   {
    "duration": 14,
    "start_time": "2022-04-10T12:56:10.818Z"
   },
   {
    "duration": 5,
    "start_time": "2022-04-10T12:56:10.834Z"
   },
   {
    "duration": 211,
    "start_time": "2022-04-10T12:56:10.840Z"
   },
   {
    "duration": 5,
    "start_time": "2022-04-10T12:56:11.052Z"
   },
   {
    "duration": 8,
    "start_time": "2022-04-10T12:56:11.059Z"
   },
   {
    "duration": 3,
    "start_time": "2022-04-10T12:56:11.081Z"
   },
   {
    "duration": 8,
    "start_time": "2022-04-10T12:56:11.085Z"
   },
   {
    "duration": 5,
    "start_time": "2022-04-10T12:56:11.094Z"
   },
   {
    "duration": 191,
    "start_time": "2022-04-10T12:56:11.101Z"
   },
   {
    "duration": 5,
    "start_time": "2022-04-10T12:56:11.293Z"
   },
   {
    "duration": 8,
    "start_time": "2022-04-10T12:56:11.300Z"
   },
   {
    "duration": 5,
    "start_time": "2022-04-10T12:56:11.309Z"
   },
   {
    "duration": 10,
    "start_time": "2022-04-10T12:56:11.316Z"
   },
   {
    "duration": 6,
    "start_time": "2022-04-10T12:56:11.328Z"
   },
   {
    "duration": 197,
    "start_time": "2022-04-10T12:56:11.336Z"
   },
   {
    "duration": 7,
    "start_time": "2022-04-10T12:56:11.535Z"
   },
   {
    "duration": 10,
    "start_time": "2022-04-10T12:56:11.543Z"
   },
   {
    "duration": 5,
    "start_time": "2022-04-10T12:56:11.554Z"
   },
   {
    "duration": 25,
    "start_time": "2022-04-10T12:56:11.560Z"
   },
   {
    "duration": 6,
    "start_time": "2022-04-10T12:56:11.587Z"
   },
   {
    "duration": 291,
    "start_time": "2022-04-10T12:56:11.594Z"
   },
   {
    "duration": 10,
    "start_time": "2022-04-10T12:56:11.887Z"
   },
   {
    "duration": 17,
    "start_time": "2022-04-10T12:56:11.898Z"
   },
   {
    "duration": 4,
    "start_time": "2022-04-10T12:56:11.917Z"
   },
   {
    "duration": 11,
    "start_time": "2022-04-10T12:56:11.922Z"
   },
   {
    "duration": 409,
    "start_time": "2022-04-10T12:57:31.346Z"
   },
   {
    "duration": 60,
    "start_time": "2022-04-10T12:57:31.757Z"
   },
   {
    "duration": 25,
    "start_time": "2022-04-10T12:57:31.818Z"
   },
   {
    "duration": 14,
    "start_time": "2022-04-10T12:57:31.845Z"
   },
   {
    "duration": 20,
    "start_time": "2022-04-10T12:57:31.861Z"
   },
   {
    "duration": 3,
    "start_time": "2022-04-10T12:57:31.883Z"
   },
   {
    "duration": 10,
    "start_time": "2022-04-10T12:57:31.887Z"
   },
   {
    "duration": 5,
    "start_time": "2022-04-10T12:57:31.899Z"
   },
   {
    "duration": 5,
    "start_time": "2022-04-10T12:57:31.905Z"
   },
   {
    "duration": 4,
    "start_time": "2022-04-10T12:57:31.912Z"
   },
   {
    "duration": 5,
    "start_time": "2022-04-10T12:57:31.917Z"
   },
   {
    "duration": 11,
    "start_time": "2022-04-10T12:57:31.924Z"
   },
   {
    "duration": 5,
    "start_time": "2022-04-10T12:57:31.937Z"
   },
   {
    "duration": 6,
    "start_time": "2022-04-10T12:57:31.945Z"
   },
   {
    "duration": 31,
    "start_time": "2022-04-10T12:57:31.952Z"
   },
   {
    "duration": 9,
    "start_time": "2022-04-10T12:57:31.984Z"
   },
   {
    "duration": 7,
    "start_time": "2022-04-10T12:57:31.994Z"
   },
   {
    "duration": 7,
    "start_time": "2022-04-10T12:57:32.002Z"
   },
   {
    "duration": 12,
    "start_time": "2022-04-10T12:57:32.010Z"
   },
   {
    "duration": 6,
    "start_time": "2022-04-10T12:57:32.023Z"
   },
   {
    "duration": 5,
    "start_time": "2022-04-10T12:57:32.031Z"
   },
   {
    "duration": 14,
    "start_time": "2022-04-10T12:57:32.038Z"
   },
   {
    "duration": 3,
    "start_time": "2022-04-10T12:57:32.053Z"
   },
   {
    "duration": 3,
    "start_time": "2022-04-10T12:57:32.081Z"
   },
   {
    "duration": 5,
    "start_time": "2022-04-10T12:57:32.085Z"
   },
   {
    "duration": 7,
    "start_time": "2022-04-10T12:57:32.092Z"
   },
   {
    "duration": 9,
    "start_time": "2022-04-10T12:57:32.101Z"
   },
   {
    "duration": 4,
    "start_time": "2022-04-10T12:57:32.111Z"
   },
   {
    "duration": 12,
    "start_time": "2022-04-10T12:57:32.116Z"
   },
   {
    "duration": 5,
    "start_time": "2022-04-10T12:57:32.130Z"
   },
   {
    "duration": 8,
    "start_time": "2022-04-10T12:57:32.136Z"
   },
   {
    "duration": 4,
    "start_time": "2022-04-10T12:57:32.145Z"
   },
   {
    "duration": 35,
    "start_time": "2022-04-10T12:57:32.150Z"
   },
   {
    "duration": 5,
    "start_time": "2022-04-10T12:57:32.186Z"
   },
   {
    "duration": 17,
    "start_time": "2022-04-10T12:57:32.193Z"
   },
   {
    "duration": 17,
    "start_time": "2022-04-10T12:57:32.211Z"
   },
   {
    "duration": 12,
    "start_time": "2022-04-10T12:57:32.229Z"
   },
   {
    "duration": 12,
    "start_time": "2022-04-10T12:57:32.242Z"
   },
   {
    "duration": 29,
    "start_time": "2022-04-10T12:57:32.255Z"
   },
   {
    "duration": 176,
    "start_time": "2022-04-10T12:57:32.285Z"
   },
   {
    "duration": 5,
    "start_time": "2022-04-10T12:57:32.465Z"
   },
   {
    "duration": 11,
    "start_time": "2022-04-10T12:57:32.471Z"
   },
   {
    "duration": 7,
    "start_time": "2022-04-10T12:57:32.484Z"
   },
   {
    "duration": 12,
    "start_time": "2022-04-10T12:57:32.492Z"
   },
   {
    "duration": 13,
    "start_time": "2022-04-10T12:57:32.506Z"
   },
   {
    "duration": 172,
    "start_time": "2022-04-10T12:57:32.521Z"
   },
   {
    "duration": 5,
    "start_time": "2022-04-10T12:57:32.694Z"
   },
   {
    "duration": 15,
    "start_time": "2022-04-10T12:57:32.700Z"
   },
   {
    "duration": 6,
    "start_time": "2022-04-10T12:57:32.717Z"
   },
   {
    "duration": 10,
    "start_time": "2022-04-10T12:57:32.724Z"
   },
   {
    "duration": 5,
    "start_time": "2022-04-10T12:57:32.735Z"
   },
   {
    "duration": 188,
    "start_time": "2022-04-10T12:57:32.741Z"
   },
   {
    "duration": 7,
    "start_time": "2022-04-10T12:57:32.930Z"
   },
   {
    "duration": 9,
    "start_time": "2022-04-10T12:57:32.938Z"
   },
   {
    "duration": 5,
    "start_time": "2022-04-10T12:57:32.948Z"
   },
   {
    "duration": 8,
    "start_time": "2022-04-10T12:57:32.954Z"
   },
   {
    "duration": 19,
    "start_time": "2022-04-10T12:57:32.963Z"
   },
   {
    "duration": 175,
    "start_time": "2022-04-10T12:57:32.983Z"
   },
   {
    "duration": 6,
    "start_time": "2022-04-10T12:57:33.160Z"
   },
   {
    "duration": 17,
    "start_time": "2022-04-10T12:57:33.168Z"
   },
   {
    "duration": 5,
    "start_time": "2022-04-10T12:57:33.186Z"
   },
   {
    "duration": 9,
    "start_time": "2022-04-10T12:57:33.192Z"
   },
   {
    "duration": 293,
    "start_time": "2022-04-10T12:58:17.631Z"
   },
   {
    "duration": 14,
    "start_time": "2022-04-10T13:07:17.011Z"
   },
   {
    "duration": 62,
    "start_time": "2022-04-10T13:07:51.676Z"
   },
   {
    "duration": 353,
    "start_time": "2022-04-10T13:07:56.323Z"
   },
   {
    "duration": 70,
    "start_time": "2022-04-10T13:07:56.678Z"
   },
   {
    "duration": 23,
    "start_time": "2022-04-10T13:07:56.749Z"
   },
   {
    "duration": 14,
    "start_time": "2022-04-10T13:07:56.774Z"
   },
   {
    "duration": 8,
    "start_time": "2022-04-10T13:07:56.790Z"
   },
   {
    "duration": 3,
    "start_time": "2022-04-10T13:07:56.800Z"
   },
   {
    "duration": 11,
    "start_time": "2022-04-10T13:07:56.804Z"
   },
   {
    "duration": 6,
    "start_time": "2022-04-10T13:07:56.816Z"
   },
   {
    "duration": 5,
    "start_time": "2022-04-10T13:07:56.823Z"
   },
   {
    "duration": 4,
    "start_time": "2022-04-10T13:07:56.831Z"
   },
   {
    "duration": 5,
    "start_time": "2022-04-10T13:07:56.837Z"
   },
   {
    "duration": 10,
    "start_time": "2022-04-10T13:07:56.844Z"
   },
   {
    "duration": 26,
    "start_time": "2022-04-10T13:07:56.855Z"
   },
   {
    "duration": 5,
    "start_time": "2022-04-10T13:07:56.883Z"
   },
   {
    "duration": 6,
    "start_time": "2022-04-10T13:07:56.889Z"
   },
   {
    "duration": 8,
    "start_time": "2022-04-10T13:07:56.897Z"
   },
   {
    "duration": 5,
    "start_time": "2022-04-10T13:07:56.906Z"
   },
   {
    "duration": 8,
    "start_time": "2022-04-10T13:07:56.912Z"
   },
   {
    "duration": 7,
    "start_time": "2022-04-10T13:07:56.922Z"
   },
   {
    "duration": 6,
    "start_time": "2022-04-10T13:07:56.931Z"
   },
   {
    "duration": 5,
    "start_time": "2022-04-10T13:07:56.938Z"
   },
   {
    "duration": 48,
    "start_time": "2022-04-10T13:07:56.944Z"
   },
   {
    "duration": 3,
    "start_time": "2022-04-10T13:07:56.994Z"
   },
   {
    "duration": 7,
    "start_time": "2022-04-10T13:07:56.998Z"
   },
   {
    "duration": 5,
    "start_time": "2022-04-10T13:07:57.006Z"
   },
   {
    "duration": 7,
    "start_time": "2022-04-10T13:07:57.012Z"
   },
   {
    "duration": 6,
    "start_time": "2022-04-10T13:07:57.020Z"
   },
   {
    "duration": 7,
    "start_time": "2022-04-10T13:07:57.030Z"
   },
   {
    "duration": 11,
    "start_time": "2022-04-10T13:07:57.038Z"
   },
   {
    "duration": 5,
    "start_time": "2022-04-10T13:07:57.050Z"
   },
   {
    "duration": 6,
    "start_time": "2022-04-10T13:07:57.080Z"
   },
   {
    "duration": 4,
    "start_time": "2022-04-10T13:07:57.087Z"
   },
   {
    "duration": 10,
    "start_time": "2022-04-10T13:07:57.093Z"
   },
   {
    "duration": 5,
    "start_time": "2022-04-10T13:07:57.104Z"
   },
   {
    "duration": 17,
    "start_time": "2022-04-10T13:07:57.111Z"
   },
   {
    "duration": 19,
    "start_time": "2022-04-10T13:07:57.130Z"
   },
   {
    "duration": 42,
    "start_time": "2022-04-10T13:07:57.150Z"
   },
   {
    "duration": 12,
    "start_time": "2022-04-10T13:07:57.194Z"
   },
   {
    "duration": 4,
    "start_time": "2022-04-10T13:07:57.208Z"
   },
   {
    "duration": 190,
    "start_time": "2022-04-10T13:07:57.214Z"
   },
   {
    "duration": 6,
    "start_time": "2022-04-10T13:07:57.406Z"
   },
   {
    "duration": 8,
    "start_time": "2022-04-10T13:07:57.413Z"
   },
   {
    "duration": 3,
    "start_time": "2022-04-10T13:07:57.422Z"
   },
   {
    "duration": 8,
    "start_time": "2022-04-10T13:07:57.427Z"
   },
   {
    "duration": 13,
    "start_time": "2022-04-10T13:07:57.436Z"
   },
   {
    "duration": 5,
    "start_time": "2022-04-10T13:07:57.481Z"
   },
   {
    "duration": 177,
    "start_time": "2022-04-10T13:07:57.487Z"
   },
   {
    "duration": 6,
    "start_time": "2022-04-10T13:07:57.665Z"
   },
   {
    "duration": 12,
    "start_time": "2022-04-10T13:07:57.673Z"
   },
   {
    "duration": 5,
    "start_time": "2022-04-10T13:07:57.686Z"
   },
   {
    "duration": 10,
    "start_time": "2022-04-10T13:07:57.692Z"
   },
   {
    "duration": 82,
    "start_time": "2022-04-10T13:07:57.703Z"
   },
   {
    "duration": 0,
    "start_time": "2022-04-10T13:07:57.787Z"
   },
   {
    "duration": 0,
    "start_time": "2022-04-10T13:07:57.788Z"
   },
   {
    "duration": 0,
    "start_time": "2022-04-10T13:07:57.789Z"
   },
   {
    "duration": 0,
    "start_time": "2022-04-10T13:07:57.790Z"
   },
   {
    "duration": 0,
    "start_time": "2022-04-10T13:07:57.791Z"
   },
   {
    "duration": 0,
    "start_time": "2022-04-10T13:07:57.792Z"
   },
   {
    "duration": 0,
    "start_time": "2022-04-10T13:07:57.793Z"
   },
   {
    "duration": 0,
    "start_time": "2022-04-10T13:07:57.793Z"
   },
   {
    "duration": 0,
    "start_time": "2022-04-10T13:07:57.795Z"
   },
   {
    "duration": 0,
    "start_time": "2022-04-10T13:07:57.795Z"
   },
   {
    "duration": 0,
    "start_time": "2022-04-10T13:07:57.796Z"
   },
   {
    "duration": 0,
    "start_time": "2022-04-10T13:07:57.797Z"
   },
   {
    "duration": 410,
    "start_time": "2022-04-10T13:08:42.458Z"
   },
   {
    "duration": 59,
    "start_time": "2022-04-10T13:08:42.870Z"
   },
   {
    "duration": 24,
    "start_time": "2022-04-10T13:08:42.931Z"
   },
   {
    "duration": 26,
    "start_time": "2022-04-10T13:08:42.958Z"
   },
   {
    "duration": 9,
    "start_time": "2022-04-10T13:08:42.986Z"
   },
   {
    "duration": 4,
    "start_time": "2022-04-10T13:08:42.997Z"
   },
   {
    "duration": 12,
    "start_time": "2022-04-10T13:08:43.003Z"
   },
   {
    "duration": 5,
    "start_time": "2022-04-10T13:08:43.017Z"
   },
   {
    "duration": 6,
    "start_time": "2022-04-10T13:08:43.023Z"
   },
   {
    "duration": 8,
    "start_time": "2022-04-10T13:08:43.031Z"
   },
   {
    "duration": 8,
    "start_time": "2022-04-10T13:08:43.041Z"
   },
   {
    "duration": 33,
    "start_time": "2022-04-10T13:08:43.050Z"
   },
   {
    "duration": 7,
    "start_time": "2022-04-10T13:08:43.085Z"
   },
   {
    "duration": 7,
    "start_time": "2022-04-10T13:08:43.094Z"
   },
   {
    "duration": 4,
    "start_time": "2022-04-10T13:08:43.103Z"
   },
   {
    "duration": 7,
    "start_time": "2022-04-10T13:08:43.109Z"
   },
   {
    "duration": 7,
    "start_time": "2022-04-10T13:08:43.117Z"
   },
   {
    "duration": 7,
    "start_time": "2022-04-10T13:08:43.126Z"
   },
   {
    "duration": 7,
    "start_time": "2022-04-10T13:08:43.180Z"
   },
   {
    "duration": 10,
    "start_time": "2022-04-10T13:08:43.189Z"
   },
   {
    "duration": 8,
    "start_time": "2022-04-10T13:08:43.201Z"
   },
   {
    "duration": 15,
    "start_time": "2022-04-10T13:08:43.210Z"
   },
   {
    "duration": 4,
    "start_time": "2022-04-10T13:08:43.227Z"
   },
   {
    "duration": 10,
    "start_time": "2022-04-10T13:08:43.232Z"
   },
   {
    "duration": 4,
    "start_time": "2022-04-10T13:08:43.244Z"
   },
   {
    "duration": 36,
    "start_time": "2022-04-10T13:08:43.250Z"
   },
   {
    "duration": 6,
    "start_time": "2022-04-10T13:08:43.287Z"
   },
   {
    "duration": 4,
    "start_time": "2022-04-10T13:08:43.297Z"
   },
   {
    "duration": 12,
    "start_time": "2022-04-10T13:08:43.303Z"
   },
   {
    "duration": 10,
    "start_time": "2022-04-10T13:08:43.317Z"
   },
   {
    "duration": 7,
    "start_time": "2022-04-10T13:08:43.329Z"
   },
   {
    "duration": 7,
    "start_time": "2022-04-10T13:08:43.338Z"
   },
   {
    "duration": 41,
    "start_time": "2022-04-10T13:08:43.347Z"
   },
   {
    "duration": 11,
    "start_time": "2022-04-10T13:08:43.389Z"
   },
   {
    "duration": 20,
    "start_time": "2022-04-10T13:08:43.402Z"
   },
   {
    "duration": 25,
    "start_time": "2022-04-10T13:08:43.423Z"
   },
   {
    "duration": 33,
    "start_time": "2022-04-10T13:08:43.450Z"
   },
   {
    "duration": 12,
    "start_time": "2022-04-10T13:08:43.485Z"
   },
   {
    "duration": 5,
    "start_time": "2022-04-10T13:08:43.498Z"
   },
   {
    "duration": 190,
    "start_time": "2022-04-10T13:08:43.504Z"
   },
   {
    "duration": 4,
    "start_time": "2022-04-10T13:08:43.696Z"
   },
   {
    "duration": 8,
    "start_time": "2022-04-10T13:08:43.702Z"
   },
   {
    "duration": 5,
    "start_time": "2022-04-10T13:08:43.711Z"
   },
   {
    "duration": 9,
    "start_time": "2022-04-10T13:08:43.718Z"
   },
   {
    "duration": 13,
    "start_time": "2022-04-10T13:08:43.728Z"
   },
   {
    "duration": 39,
    "start_time": "2022-04-10T13:08:43.742Z"
   },
   {
    "duration": 188,
    "start_time": "2022-04-10T13:08:43.783Z"
   },
   {
    "duration": 8,
    "start_time": "2022-04-10T13:08:43.973Z"
   },
   {
    "duration": 8,
    "start_time": "2022-04-10T13:08:43.982Z"
   },
   {
    "duration": 4,
    "start_time": "2022-04-10T13:08:43.992Z"
   },
   {
    "duration": 11,
    "start_time": "2022-04-10T13:08:43.998Z"
   },
   {
    "duration": 19,
    "start_time": "2022-04-10T13:08:44.011Z"
   },
   {
    "duration": 6,
    "start_time": "2022-04-10T13:08:44.032Z"
   },
   {
    "duration": 309,
    "start_time": "2022-04-10T13:08:44.040Z"
   },
   {
    "duration": 9,
    "start_time": "2022-04-10T13:08:44.351Z"
   },
   {
    "duration": 20,
    "start_time": "2022-04-10T13:08:44.362Z"
   },
   {
    "duration": 4,
    "start_time": "2022-04-10T13:08:44.383Z"
   },
   {
    "duration": 12,
    "start_time": "2022-04-10T13:08:44.389Z"
   },
   {
    "duration": 6,
    "start_time": "2022-04-10T13:08:44.403Z"
   },
   {
    "duration": 296,
    "start_time": "2022-04-10T13:08:44.410Z"
   },
   {
    "duration": 10,
    "start_time": "2022-04-10T13:08:44.708Z"
   },
   {
    "duration": 11,
    "start_time": "2022-04-10T13:08:44.719Z"
   },
   {
    "duration": 5,
    "start_time": "2022-04-10T13:08:44.732Z"
   },
   {
    "duration": 12,
    "start_time": "2022-04-10T13:08:44.739Z"
   },
   {
    "duration": 389,
    "start_time": "2022-04-10T13:09:19.183Z"
   },
   {
    "duration": 59,
    "start_time": "2022-04-10T13:09:19.574Z"
   },
   {
    "duration": 24,
    "start_time": "2022-04-10T13:09:19.635Z"
   },
   {
    "duration": 24,
    "start_time": "2022-04-10T13:09:19.661Z"
   },
   {
    "duration": 10,
    "start_time": "2022-04-10T13:09:19.687Z"
   },
   {
    "duration": 3,
    "start_time": "2022-04-10T13:09:19.699Z"
   },
   {
    "duration": 8,
    "start_time": "2022-04-10T13:09:19.704Z"
   },
   {
    "duration": 5,
    "start_time": "2022-04-10T13:09:19.714Z"
   },
   {
    "duration": 6,
    "start_time": "2022-04-10T13:09:19.720Z"
   },
   {
    "duration": 5,
    "start_time": "2022-04-10T13:09:19.728Z"
   },
   {
    "duration": 3,
    "start_time": "2022-04-10T13:09:19.735Z"
   },
   {
    "duration": 9,
    "start_time": "2022-04-10T13:09:19.740Z"
   },
   {
    "duration": 30,
    "start_time": "2022-04-10T13:09:19.751Z"
   },
   {
    "duration": 10,
    "start_time": "2022-04-10T13:09:19.784Z"
   },
   {
    "duration": 6,
    "start_time": "2022-04-10T13:09:19.795Z"
   },
   {
    "duration": 10,
    "start_time": "2022-04-10T13:09:19.802Z"
   },
   {
    "duration": 7,
    "start_time": "2022-04-10T13:09:19.813Z"
   },
   {
    "duration": 6,
    "start_time": "2022-04-10T13:09:19.822Z"
   },
   {
    "duration": 12,
    "start_time": "2022-04-10T13:09:19.829Z"
   },
   {
    "duration": 6,
    "start_time": "2022-04-10T13:09:19.842Z"
   },
   {
    "duration": 7,
    "start_time": "2022-04-10T13:09:19.849Z"
   },
   {
    "duration": 29,
    "start_time": "2022-04-10T13:09:19.857Z"
   },
   {
    "duration": 3,
    "start_time": "2022-04-10T13:09:19.887Z"
   },
   {
    "duration": 6,
    "start_time": "2022-04-10T13:09:19.892Z"
   },
   {
    "duration": 7,
    "start_time": "2022-04-10T13:09:19.900Z"
   },
   {
    "duration": 12,
    "start_time": "2022-04-10T13:09:19.909Z"
   },
   {
    "duration": 8,
    "start_time": "2022-04-10T13:09:19.923Z"
   },
   {
    "duration": 6,
    "start_time": "2022-04-10T13:09:19.932Z"
   },
   {
    "duration": 17,
    "start_time": "2022-04-10T13:09:19.939Z"
   },
   {
    "duration": 6,
    "start_time": "2022-04-10T13:09:19.957Z"
   },
   {
    "duration": 20,
    "start_time": "2022-04-10T13:09:19.965Z"
   },
   {
    "duration": 6,
    "start_time": "2022-04-10T13:09:19.987Z"
   },
   {
    "duration": 10,
    "start_time": "2022-04-10T13:09:19.994Z"
   },
   {
    "duration": 6,
    "start_time": "2022-04-10T13:09:20.006Z"
   },
   {
    "duration": 18,
    "start_time": "2022-04-10T13:09:20.013Z"
   },
   {
    "duration": 17,
    "start_time": "2022-04-10T13:09:20.032Z"
   },
   {
    "duration": 33,
    "start_time": "2022-04-10T13:09:20.051Z"
   },
   {
    "duration": 12,
    "start_time": "2022-04-10T13:09:20.085Z"
   },
   {
    "duration": 4,
    "start_time": "2022-04-10T13:09:20.098Z"
   },
   {
    "duration": 186,
    "start_time": "2022-04-10T13:09:20.103Z"
   },
   {
    "duration": 5,
    "start_time": "2022-04-10T13:09:20.293Z"
   },
   {
    "duration": 9,
    "start_time": "2022-04-10T13:09:20.300Z"
   },
   {
    "duration": 7,
    "start_time": "2022-04-10T13:09:20.311Z"
   },
   {
    "duration": 8,
    "start_time": "2022-04-10T13:09:20.319Z"
   },
   {
    "duration": 13,
    "start_time": "2022-04-10T13:09:20.329Z"
   },
   {
    "duration": 5,
    "start_time": "2022-04-10T13:09:20.343Z"
   },
   {
    "duration": 197,
    "start_time": "2022-04-10T13:09:20.349Z"
   },
   {
    "duration": 4,
    "start_time": "2022-04-10T13:09:20.548Z"
   },
   {
    "duration": 7,
    "start_time": "2022-04-10T13:09:20.554Z"
   },
   {
    "duration": 18,
    "start_time": "2022-04-10T13:09:20.563Z"
   },
   {
    "duration": 7,
    "start_time": "2022-04-10T13:09:20.582Z"
   },
   {
    "duration": 15,
    "start_time": "2022-04-10T13:09:20.590Z"
   },
   {
    "duration": 4,
    "start_time": "2022-04-10T13:09:20.606Z"
   },
   {
    "duration": 189,
    "start_time": "2022-04-10T13:09:20.612Z"
   },
   {
    "duration": 7,
    "start_time": "2022-04-10T13:09:20.803Z"
   },
   {
    "duration": 9,
    "start_time": "2022-04-10T13:09:20.811Z"
   },
   {
    "duration": 5,
    "start_time": "2022-04-10T13:09:20.822Z"
   },
   {
    "duration": 16,
    "start_time": "2022-04-10T13:09:20.828Z"
   },
   {
    "duration": 35,
    "start_time": "2022-04-10T13:09:20.846Z"
   },
   {
    "duration": 4,
    "start_time": "2022-04-10T13:09:20.882Z"
   },
   {
    "duration": 174,
    "start_time": "2022-04-10T13:09:20.888Z"
   },
   {
    "duration": 6,
    "start_time": "2022-04-10T13:09:21.064Z"
   },
   {
    "duration": 15,
    "start_time": "2022-04-10T13:09:21.071Z"
   },
   {
    "duration": 6,
    "start_time": "2022-04-10T13:09:21.087Z"
   },
   {
    "duration": 10,
    "start_time": "2022-04-10T13:09:21.094Z"
   },
   {
    "duration": 187,
    "start_time": "2022-04-10T13:10:22.446Z"
   },
   {
    "duration": 203,
    "start_time": "2022-04-10T13:29:14.952Z"
   },
   {
    "duration": 194,
    "start_time": "2022-04-11T05:41:59.783Z"
   }
  ],
  "kernelspec": {
   "display_name": "Python 3 (ipykernel)",
   "language": "python",
   "name": "python3"
  },
  "language_info": {
   "codemirror_mode": {
    "name": "ipython",
    "version": 3
   },
   "file_extension": ".py",
   "mimetype": "text/x-python",
   "name": "python",
   "nbconvert_exporter": "python",
   "pygments_lexer": "ipython3",
   "version": "3.9.5"
  },
  "toc": {
   "base_numbering": 1,
   "nav_menu": {},
   "number_sections": true,
   "sideBar": true,
   "skip_h1_title": true,
   "title_cell": "Table of Contents",
   "title_sidebar": "Contents",
   "toc_cell": false,
   "toc_position": {
    "height": "calc(100% - 180px)",
    "left": "10px",
    "top": "150px",
    "width": "281.6px"
   },
   "toc_section_display": true,
   "toc_window_display": true
  }
 },
 "nbformat": 4,
 "nbformat_minor": 5
}
