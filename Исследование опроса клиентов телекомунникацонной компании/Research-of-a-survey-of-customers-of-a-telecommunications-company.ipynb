{
 "cells": [
  {
   "cell_type": "code",
   "execution_count": 1,
   "id": "feb56982",
   "metadata": {
    "tags": [
     "aa81075c-062f-4de0-b5fe-14c73dc7468e"
    ]
   },
   "outputs": [],
   "source": [
    "import pandas as pd\n",
    "from sqlalchemy import create_engine"
   ]
  },
  {
   "cell_type": "code",
   "execution_count": 3,
   "id": "74ade553",
   "metadata": {},
   "outputs": [],
   "source": [
    "engine  = create_engine(f'sqlite:///{path_to_db}', echo = False)"
   ]
  },
  {
   "cell_type": "code",
   "execution_count": 4,
   "id": "25e2bf2f",
   "metadata": {},
   "outputs": [],
   "source": [
    "query = \"\"\"\n",
    "WITH\n",
    "aa as (SELECT *\n",
    "FROM user as us\n",
    "LEFT OUTER JOIN location as loc ON us.location_id=loc.location_id),\n",
    "\n",
    "bb as (SELECT age_gr_id,\n",
    "      title as age_segment\n",
    "FROM age_segment), \n",
    "\n",
    "cc as (SELECT tr_gr_id,\n",
    "      title as traffic_segment\n",
    "FROM traffic_segment), \n",
    "\n",
    "dd as (SELECT lt_gr_id,\n",
    "      title as lifetime_segment\n",
    "FROM lifetime_segment)\n",
    "\n",
    "SELECT user_id,\n",
    "lt_day,\n",
    "case when lt_day<=365 then 'new' else 'old' end is_new,\n",
    "age,\n",
    "gender_segment,\n",
    "os_name,\n",
    "cpe_type_name,\n",
    "country,\n",
    "city,\n",
    "age_segment,\n",
    "traffic_segment,\n",
    "lifetime_segment,\n",
    "nps_score,\n",
    "case when nps_score<7 then 'критики' when nps_score>8 then 'cторонники' else 'нейтралы' end nps_group\n",
    "FROM aa\n",
    "LEFT OUTER JOIN bb  ON aa.age_gr_id = bb.age_gr_id\n",
    "LEFT OUTER JOIN cc ON aa.tr_gr_id = cc.tr_gr_id\n",
    "LEFT OUTER JOIN dd ON aa.lt_gr_id = dd.lt_gr_id\n",
    "\"\"\""
   ]
  },
  {
   "cell_type": "code",
   "execution_count": 5,
   "id": "220cf991",
   "metadata": {},
   "outputs": [],
   "source": [
    "df = pd.read_sql(query, engine) "
   ]
  },
  {
   "cell_type": "code",
   "execution_count": 6,
   "id": "83dfa2cc",
   "metadata": {},
   "outputs": [
    {
     "data": {
      "text/html": [
       "<div>\n",
       "<style scoped>\n",
       "    .dataframe tbody tr th:only-of-type {\n",
       "        vertical-align: middle;\n",
       "    }\n",
       "\n",
       "    .dataframe tbody tr th {\n",
       "        vertical-align: top;\n",
       "    }\n",
       "\n",
       "    .dataframe thead th {\n",
       "        text-align: right;\n",
       "    }\n",
       "</style>\n",
       "<table border=\"1\" class=\"dataframe\">\n",
       "  <thead>\n",
       "    <tr style=\"text-align: right;\">\n",
       "      <th></th>\n",
       "      <th>user_id</th>\n",
       "      <th>lt_day</th>\n",
       "      <th>is_new</th>\n",
       "      <th>age</th>\n",
       "      <th>gender_segment</th>\n",
       "      <th>os_name</th>\n",
       "      <th>cpe_type_name</th>\n",
       "      <th>country</th>\n",
       "      <th>city</th>\n",
       "      <th>age_segment</th>\n",
       "      <th>traffic_segment</th>\n",
       "      <th>lifetime_segment</th>\n",
       "      <th>nps_score</th>\n",
       "      <th>nps_group</th>\n",
       "    </tr>\n",
       "  </thead>\n",
       "  <tbody>\n",
       "    <tr>\n",
       "      <th>0</th>\n",
       "      <td>A001A2</td>\n",
       "      <td>2320</td>\n",
       "      <td>old</td>\n",
       "      <td>45.0</td>\n",
       "      <td>1.0</td>\n",
       "      <td>ANDROID</td>\n",
       "      <td>SMARTPHONE</td>\n",
       "      <td>Россия</td>\n",
       "      <td>Уфа</td>\n",
       "      <td>05 45-54</td>\n",
       "      <td>04 1-5</td>\n",
       "      <td>08 36+</td>\n",
       "      <td>10</td>\n",
       "      <td>cторонники</td>\n",
       "    </tr>\n",
       "    <tr>\n",
       "      <th>1</th>\n",
       "      <td>A001WF</td>\n",
       "      <td>2344</td>\n",
       "      <td>old</td>\n",
       "      <td>53.0</td>\n",
       "      <td>0.0</td>\n",
       "      <td>ANDROID</td>\n",
       "      <td>SMARTPHONE</td>\n",
       "      <td>Россия</td>\n",
       "      <td>Киров</td>\n",
       "      <td>05 45-54</td>\n",
       "      <td>04 1-5</td>\n",
       "      <td>08 36+</td>\n",
       "      <td>10</td>\n",
       "      <td>cторонники</td>\n",
       "    </tr>\n",
       "    <tr>\n",
       "      <th>2</th>\n",
       "      <td>A003Q7</td>\n",
       "      <td>467</td>\n",
       "      <td>old</td>\n",
       "      <td>57.0</td>\n",
       "      <td>0.0</td>\n",
       "      <td>ANDROID</td>\n",
       "      <td>SMARTPHONE</td>\n",
       "      <td>Россия</td>\n",
       "      <td>Москва</td>\n",
       "      <td>06 55-64</td>\n",
       "      <td>08 20-25</td>\n",
       "      <td>06 13-24</td>\n",
       "      <td>10</td>\n",
       "      <td>cторонники</td>\n",
       "    </tr>\n",
       "    <tr>\n",
       "      <th>3</th>\n",
       "      <td>A004TB</td>\n",
       "      <td>4190</td>\n",
       "      <td>old</td>\n",
       "      <td>44.0</td>\n",
       "      <td>1.0</td>\n",
       "      <td>IOS</td>\n",
       "      <td>SMARTPHONE</td>\n",
       "      <td>Россия</td>\n",
       "      <td>РостовнаДону</td>\n",
       "      <td>04 35-44</td>\n",
       "      <td>03 0.1-1</td>\n",
       "      <td>08 36+</td>\n",
       "      <td>10</td>\n",
       "      <td>cторонники</td>\n",
       "    </tr>\n",
       "    <tr>\n",
       "      <th>4</th>\n",
       "      <td>A004XT</td>\n",
       "      <td>1163</td>\n",
       "      <td>old</td>\n",
       "      <td>24.0</td>\n",
       "      <td>0.0</td>\n",
       "      <td>ANDROID</td>\n",
       "      <td>SMARTPHONE</td>\n",
       "      <td>Россия</td>\n",
       "      <td>Рязань</td>\n",
       "      <td>02 16-24</td>\n",
       "      <td>05 5-10</td>\n",
       "      <td>08 36+</td>\n",
       "      <td>10</td>\n",
       "      <td>cторонники</td>\n",
       "    </tr>\n",
       "    <tr>\n",
       "      <th>...</th>\n",
       "      <td>...</td>\n",
       "      <td>...</td>\n",
       "      <td>...</td>\n",
       "      <td>...</td>\n",
       "      <td>...</td>\n",
       "      <td>...</td>\n",
       "      <td>...</td>\n",
       "      <td>...</td>\n",
       "      <td>...</td>\n",
       "      <td>...</td>\n",
       "      <td>...</td>\n",
       "      <td>...</td>\n",
       "      <td>...</td>\n",
       "      <td>...</td>\n",
       "    </tr>\n",
       "    <tr>\n",
       "      <th>502488</th>\n",
       "      <td>ZZZKLD</td>\n",
       "      <td>1249</td>\n",
       "      <td>old</td>\n",
       "      <td>54.0</td>\n",
       "      <td>1.0</td>\n",
       "      <td>ANDROID</td>\n",
       "      <td>SMARTPHONE</td>\n",
       "      <td>Россия</td>\n",
       "      <td>Москва</td>\n",
       "      <td>05 45-54</td>\n",
       "      <td>04 1-5</td>\n",
       "      <td>08 36+</td>\n",
       "      <td>5</td>\n",
       "      <td>критики</td>\n",
       "    </tr>\n",
       "    <tr>\n",
       "      <th>502489</th>\n",
       "      <td>ZZZLWY</td>\n",
       "      <td>129</td>\n",
       "      <td>new</td>\n",
       "      <td>31.0</td>\n",
       "      <td>0.0</td>\n",
       "      <td>ANDROID</td>\n",
       "      <td>SMARTPHONE</td>\n",
       "      <td>Россия</td>\n",
       "      <td>Москва</td>\n",
       "      <td>03 25-34</td>\n",
       "      <td>04 1-5</td>\n",
       "      <td>04 4-6</td>\n",
       "      <td>8</td>\n",
       "      <td>нейтралы</td>\n",
       "    </tr>\n",
       "    <tr>\n",
       "      <th>502490</th>\n",
       "      <td>ZZZQ5F</td>\n",
       "      <td>522</td>\n",
       "      <td>old</td>\n",
       "      <td>36.0</td>\n",
       "      <td>0.0</td>\n",
       "      <td>ANDROID</td>\n",
       "      <td>SMARTPHONE</td>\n",
       "      <td>Россия</td>\n",
       "      <td>Сургут</td>\n",
       "      <td>04 35-44</td>\n",
       "      <td>09 25-30</td>\n",
       "      <td>06 13-24</td>\n",
       "      <td>10</td>\n",
       "      <td>cторонники</td>\n",
       "    </tr>\n",
       "    <tr>\n",
       "      <th>502491</th>\n",
       "      <td>ZZZQ8E</td>\n",
       "      <td>2936</td>\n",
       "      <td>old</td>\n",
       "      <td>37.0</td>\n",
       "      <td>1.0</td>\n",
       "      <td>ANDROID</td>\n",
       "      <td>SMARTPHONE</td>\n",
       "      <td>Россия</td>\n",
       "      <td>УланУдэ</td>\n",
       "      <td>04 35-44</td>\n",
       "      <td>17 65-70</td>\n",
       "      <td>08 36+</td>\n",
       "      <td>9</td>\n",
       "      <td>cторонники</td>\n",
       "    </tr>\n",
       "    <tr>\n",
       "      <th>502492</th>\n",
       "      <td>ZZZYH0</td>\n",
       "      <td>2471</td>\n",
       "      <td>old</td>\n",
       "      <td>37.0</td>\n",
       "      <td>0.0</td>\n",
       "      <td>IOS</td>\n",
       "      <td>SMARTPHONE</td>\n",
       "      <td>Россия</td>\n",
       "      <td>Самара</td>\n",
       "      <td>04 35-44</td>\n",
       "      <td>06 10-15</td>\n",
       "      <td>08 36+</td>\n",
       "      <td>2</td>\n",
       "      <td>критики</td>\n",
       "    </tr>\n",
       "  </tbody>\n",
       "</table>\n",
       "<p>502493 rows × 14 columns</p>\n",
       "</div>"
      ],
      "text/plain": [
       "       user_id  lt_day is_new   age  gender_segment  os_name cpe_type_name  \\\n",
       "0       A001A2    2320    old  45.0             1.0  ANDROID    SMARTPHONE   \n",
       "1       A001WF    2344    old  53.0             0.0  ANDROID    SMARTPHONE   \n",
       "2       A003Q7     467    old  57.0             0.0  ANDROID    SMARTPHONE   \n",
       "3       A004TB    4190    old  44.0             1.0      IOS    SMARTPHONE   \n",
       "4       A004XT    1163    old  24.0             0.0  ANDROID    SMARTPHONE   \n",
       "...        ...     ...    ...   ...             ...      ...           ...   \n",
       "502488  ZZZKLD    1249    old  54.0             1.0  ANDROID    SMARTPHONE   \n",
       "502489  ZZZLWY     129    new  31.0             0.0  ANDROID    SMARTPHONE   \n",
       "502490  ZZZQ5F     522    old  36.0             0.0  ANDROID    SMARTPHONE   \n",
       "502491  ZZZQ8E    2936    old  37.0             1.0  ANDROID    SMARTPHONE   \n",
       "502492  ZZZYH0    2471    old  37.0             0.0      IOS    SMARTPHONE   \n",
       "\n",
       "       country          city age_segment traffic_segment lifetime_segment  \\\n",
       "0       Россия           Уфа    05 45-54          04 1-5           08 36+   \n",
       "1       Россия         Киров    05 45-54          04 1-5           08 36+   \n",
       "2       Россия        Москва    06 55-64        08 20-25         06 13-24   \n",
       "3       Россия  РостовнаДону    04 35-44        03 0.1-1           08 36+   \n",
       "4       Россия        Рязань    02 16-24         05 5-10           08 36+   \n",
       "...        ...           ...         ...             ...              ...   \n",
       "502488  Россия        Москва    05 45-54          04 1-5           08 36+   \n",
       "502489  Россия        Москва    03 25-34          04 1-5           04 4-6   \n",
       "502490  Россия        Сургут    04 35-44        09 25-30         06 13-24   \n",
       "502491  Россия       УланУдэ    04 35-44        17 65-70           08 36+   \n",
       "502492  Россия        Самара    04 35-44        06 10-15           08 36+   \n",
       "\n",
       "        nps_score   nps_group  \n",
       "0              10  cторонники  \n",
       "1              10  cторонники  \n",
       "2              10  cторонники  \n",
       "3              10  cторонники  \n",
       "4              10  cторонники  \n",
       "...           ...         ...  \n",
       "502488          5     критики  \n",
       "502489          8    нейтралы  \n",
       "502490         10  cторонники  \n",
       "502491          9  cторонники  \n",
       "502492          2     критики  \n",
       "\n",
       "[502493 rows x 14 columns]"
      ]
     },
     "execution_count": 6,
     "metadata": {},
     "output_type": "execute_result"
    }
   ],
   "source": [
    "df"
   ]
  },
  {
   "cell_type": "markdown",
   "id": "25c857fb",
   "metadata": {},
   "source": [
    "### Укажите ссылку на дашборд на сайте Tableau Public:"
   ]
  },
  {
   "cell_type": "markdown",
   "id": "954d87eb",
   "metadata": {},
   "source": [
    "https://public.tableau.com/views/Book1_16572218482860/Dashboard1?:language=en-US&publish=yes&:display_count=n&:origin=viz_share_link\n",
    "\n",
    "https://public.tableau.com/views/Book2_16572218784300/Dashboard3?:language=en-US&publish=yes&:display_count=n&:origin=viz_share_link"
   ]
  },
  {
   "cell_type": "markdown",
   "id": "2b7e80b1",
   "metadata": {},
   "source": [
    "### Укажите ссылку на pdf-файл с презентацией:"
   ]
  },
  {
   "cell_type": "markdown",
   "id": "55add34b",
   "metadata": {},
   "source": [
    "https://disk.yandex.ru/i/3Z_nHM0vcI_FJg"
   ]
  }
 ],
 "metadata": {
  "ExecuteTimeLog": [
   {
    "duration": 752,
    "start_time": "2021-10-03T17:40:52.731Z"
   },
   {
    "duration": 20,
    "start_time": "2021-10-03T17:40:53.486Z"
   },
   {
    "duration": 4,
    "start_time": "2021-10-03T17:41:04.638Z"
   },
   {
    "duration": 461,
    "start_time": "2021-10-03T17:41:04.912Z"
   },
   {
    "duration": 284,
    "start_time": "2021-10-03T17:41:05.376Z"
   },
   {
    "duration": 574,
    "start_time": "2021-10-06T07:55:05.029Z"
   },
   {
    "duration": 6,
    "start_time": "2021-10-06T07:55:05.605Z"
   },
   {
    "duration": 3,
    "start_time": "2021-10-06T07:55:14.685Z"
   },
   {
    "duration": 406,
    "start_time": "2021-10-06T07:55:15.522Z"
   },
   {
    "duration": 67,
    "start_time": "2021-10-06T07:55:15.929Z"
   },
   {
    "duration": 840,
    "start_time": "2021-10-07T07:54:04.647Z"
   },
   {
    "duration": 10,
    "start_time": "2021-10-07T07:54:05.490Z"
   },
   {
    "duration": 4,
    "start_time": "2021-10-07T07:54:05.544Z"
   },
   {
    "duration": 391,
    "start_time": "2021-10-07T07:54:06.237Z"
   },
   {
    "duration": 293,
    "start_time": "2021-10-07T07:54:06.654Z"
   },
   {
    "duration": 593,
    "start_time": "2022-07-28T16:36:05.188Z"
   },
   {
    "duration": 3,
    "start_time": "2022-07-28T16:36:05.783Z"
   },
   {
    "duration": 22,
    "start_time": "2022-07-28T16:36:05.787Z"
   },
   {
    "duration": 4,
    "start_time": "2022-07-28T16:36:05.811Z"
   },
   {
    "duration": 5873,
    "start_time": "2022-07-28T16:36:05.816Z"
   },
   {
    "duration": 34,
    "start_time": "2022-07-28T16:36:11.691Z"
   },
   {
    "duration": 555,
    "start_time": "2022-07-31T06:23:55.946Z"
   },
   {
    "duration": 3,
    "start_time": "2022-07-31T06:23:56.504Z"
   },
   {
    "duration": 22,
    "start_time": "2022-07-31T06:23:56.509Z"
   },
   {
    "duration": 4,
    "start_time": "2022-07-31T06:23:56.534Z"
   },
   {
    "duration": 5959,
    "start_time": "2022-07-31T06:23:56.540Z"
   },
   {
    "duration": 28,
    "start_time": "2022-07-31T06:24:02.500Z"
   }
  ],
  "kernelspec": {
   "display_name": "Python 3 (ipykernel)",
   "language": "python",
   "name": "python3"
  },
  "language_info": {
   "codemirror_mode": {
    "name": "ipython",
    "version": 3
   },
   "file_extension": ".py",
   "mimetype": "text/x-python",
   "name": "python",
   "nbconvert_exporter": "python",
   "pygments_lexer": "ipython3",
   "version": "3.9.5"
  },
  "toc": {
   "base_numbering": 1,
   "nav_menu": {},
   "number_sections": true,
   "sideBar": true,
   "skip_h1_title": true,
   "title_cell": "Table of Contents",
   "title_sidebar": "Contents",
   "toc_cell": false,
   "toc_position": {},
   "toc_section_display": true,
   "toc_window_display": false
  }
 },
 "nbformat": 4,
 "nbformat_minor": 5
}
